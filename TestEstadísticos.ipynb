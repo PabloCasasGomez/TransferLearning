{
 "cells": [
  {
   "cell_type": "markdown",
   "metadata": {},
   "source": [
    "# Diferencias estadísticas"
   ]
  },
  {
   "cell_type": "code",
   "execution_count": 6,
   "metadata": {},
   "outputs": [],
   "source": [
    "import numpy as np \n",
    "import pandas as pd\n",
    "from scipy.stats import ttest_ind\n",
    "from scipy.stats import f_oneway"
   ]
  },
  {
   "cell_type": "code",
   "execution_count": 9,
   "metadata": {},
   "outputs": [
    {
     "data": {
      "text/plain": [
       "(Time              243.791170\n",
       " TrainMSE           35.548626\n",
       " TrainRMSE           5.962265\n",
       " TrainR2             0.853597\n",
       " TrainMAPE          21.556849\n",
       " ValidationMSE       8.650786\n",
       " ValidationRMSE      2.890782\n",
       " ValidationR2        0.903707\n",
       " ValidationMAPE     23.858520\n",
       " TestMSE             9.917275\n",
       " TestRMSE            3.096078\n",
       " TestR2              0.889364\n",
       " TestMAPE           24.515156\n",
       " dtype: float64,\n",
       " Time              1484.869786\n",
       " TrainMSE            42.253293\n",
       " TrainRMSE            6.500252\n",
       " TrainR2              0.825985\n",
       " TrainMAPE           23.725729\n",
       " ValidationMSE        8.225286\n",
       " ValidationRMSE       2.819186\n",
       " ValidationR2         0.908298\n",
       " ValidationMAPE      22.833224\n",
       " TestMSE              8.916144\n",
       " TestRMSE             2.936697\n",
       " TestR2               0.900345\n",
       " TestMAPE            22.999600\n",
       " dtype: float64)"
      ]
     },
     "execution_count": 9,
     "metadata": {},
     "output_type": "execute_result"
    }
   ],
   "source": [
    "TCNN = pd.read_csv(\"resultsTransferOption3/resultados_Option3_TCNN.csv\")\n",
    "LSTM = pd.read_csv(\"resultsTransferOption3/resultados_Option3_LSTM.csv\")\n",
    "\n",
    "TCNN.iloc[:,1:].mean(), LSTM.iloc[:,1:].mean()"
   ]
  },
  {
   "cell_type": "code",
   "execution_count": 10,
   "metadata": {},
   "outputs": [
    {
     "name": "stdout",
     "output_type": "stream",
     "text": [
      "T-statistic: -6.580738309845923, P-value: 3.8929481611110866e-07\n"
     ]
    }
   ],
   "source": [
    "t_stat, p_value = ttest_ind(TCNN['TestR2'], LSTM['TestR2'])\n",
    "print(f\"T-statistic: {t_stat}, P-value: {p_value}\")"
   ]
  },
  {
   "cell_type": "code",
   "execution_count": 11,
   "metadata": {},
   "outputs": [
    {
     "name": "stdout",
     "output_type": "stream",
     "text": [
      "F-statistic: 43.30611670267564, P-value: 3.8929481611096376e-07\n"
     ]
    }
   ],
   "source": [
    "f_stat, p_value = f_oneway(TCNN['TestR2'], LSTM['TestR2'])\n",
    "print(f\"F-statistic: {f_stat}, P-value: {p_value}\")"
   ]
  }
 ],
 "metadata": {
  "kernelspec": {
   "display_name": ".venv",
   "language": "python",
   "name": "python3"
  },
  "language_info": {
   "codemirror_mode": {
    "name": "ipython",
    "version": 3
   },
   "file_extension": ".py",
   "mimetype": "text/x-python",
   "name": "python",
   "nbconvert_exporter": "python",
   "pygments_lexer": "ipython3",
   "version": "3.10.12"
  }
 },
 "nbformat": 4,
 "nbformat_minor": 2
}
