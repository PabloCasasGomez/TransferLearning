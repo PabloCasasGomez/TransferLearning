{
 "cells": [
  {
   "cell_type": "code",
   "execution_count": 1,
   "metadata": {},
   "outputs": [
    {
     "name": "stderr",
     "output_type": "stream",
     "text": [
      "2024-12-16 11:33:44.338540: I external/local_xla/xla/tsl/cuda/cudart_stub.cc:32] Could not find cuda drivers on your machine, GPU will not be used.\n",
      "2024-12-16 11:33:44.341215: I external/local_xla/xla/tsl/cuda/cudart_stub.cc:32] Could not find cuda drivers on your machine, GPU will not be used.\n",
      "2024-12-16 11:33:44.350597: E external/local_xla/xla/stream_executor/cuda/cuda_fft.cc:485] Unable to register cuFFT factory: Attempting to register factory for plugin cuFFT when one has already been registered\n",
      "2024-12-16 11:33:44.365664: E external/local_xla/xla/stream_executor/cuda/cuda_dnn.cc:8454] Unable to register cuDNN factory: Attempting to register factory for plugin cuDNN when one has already been registered\n",
      "2024-12-16 11:33:44.370199: E external/local_xla/xla/stream_executor/cuda/cuda_blas.cc:1452] Unable to register cuBLAS factory: Attempting to register factory for plugin cuBLAS when one has already been registered\n",
      "2024-12-16 11:33:44.381465: I tensorflow/core/platform/cpu_feature_guard.cc:210] This TensorFlow binary is optimized to use available CPU instructions in performance-critical operations.\n",
      "To enable the following instructions: AVX2 FMA, in other operations, rebuild TensorFlow with the appropriate compiler flags.\n",
      "2024-12-16 11:33:45.040584: W tensorflow/compiler/tf2tensorrt/utils/py_utils.cc:38] TF-TRT Warning: Could not find TensorRT\n"
     ]
    }
   ],
   "source": [
    "from sklearn.neural_network import MLPRegressor\n",
    "from sklearn.datasets import make_regression\n",
    "from sklearn.model_selection import train_test_split\n",
    "from sklearn.metrics import mean_squared_error, r2_score, mean_absolute_percentage_error\n",
    "from sklearn.preprocessing import LabelEncoder\n",
    "from sklearn.model_selection import GridSearchCV\n",
    "from sklearn.model_selection import PredefinedSplit\n",
    "import pandas as pd\n",
    "import numpy as np\n",
    "import math\n",
    "import os\n",
    "import json\n",
    "import joblib\n",
    "\n",
    "from funcionesComunes import *"
   ]
  },
  {
   "cell_type": "code",
   "execution_count": 5,
   "metadata": {},
   "outputs": [
    {
     "name": "stdout",
     "output_type": "stream",
     "text": [
      "archivo: Abies spectabilis_merged.csv\n",
      "archivo: Picea smithiana_merged.csv\n",
      "archivo: Abies pindrow_merged.csv\n",
      "archivo: Juniperus excelsa M.-Bieb_merged.csv\n",
      "archivo: Juniperus turkestanica Komar._merged.csv\n",
      "archivo: Pinus roxburghii_merged.csv\n",
      "archivo: Pinus wallichiana_merged.csv\n",
      "archivo: Pinus gerardiana_merged.csv\n",
      "archivo: Populus ciliata_merged.csv\n",
      "archivo: Betula utilis_merged.csv\n",
      "archivo: Tsuga dumosa_merged.csv\n",
      "archivo: Cedrus deodara_merged.csv\n",
      "archivo: Juniperus spp. L._merged.csv\n",
      "archivo: Juniperus recurva_merged.csv\n",
      "archivo: Juniperus spp. _merged.csv\n"
     ]
    }
   ],
   "source": [
    "for archivo in os.listdir(\"RCPMerged\"):\n",
    "    if archivo != \"totalMerged.csv\":\n",
    "\n",
    "        print(f\"archivo: {archivo}\")\n",
    "\n",
    "        # Process the growth data\n",
    "        df = pd.read_csv(f\"RCPMerged/{archivo}\")\n",
    "        df = df[~df[\"nametag\"].str.startswith(\"INDI005\")]\n",
    "\n",
    "        df = codification(df)\n",
    "\n",
    "        # Ejecutamos el cambio de la estructura de datos para el modelo incluyendo el clima simulado\n",
    "        df = dataStructureSimulatedClimate(df)\n",
    "\n",
    "        # Normalizamos los datos de crecimiento de los individuos\n",
    "        df, valorNormalizacion = individualNormalization(df)\n",
    "\n",
    "        train_data, val_data, test_data = split_population_individuals(df, train_pct=0.80, val_pct_in_train=0.20, details=False)\n",
    "\n",
    "        X_train = train_data.drop(\"bai\", axis=\"columns\")\n",
    "        y_train = train_data[\"bai\"]\n",
    "        X_val = val_data.drop(\"bai\", axis=\"columns\")\n",
    "        y_val = val_data[\"bai\"]\n",
    "        X_test = test_data.drop(\"bai\", axis=\"columns\")\n",
    "        y_test = test_data[\"bai\"]\n",
    "        X_train.shape, y_train.shape, X_test.shape, y_test.shape\n",
    "\n",
    "        # np.savez(f'RCPMergedML/{archivo.split(\"_merged\")[0]}_train.npz', X_train = X_train, y_train = y_train, valorNormalizacion = valorNormalizacion)\n",
    "        # np.savez(f'RCPMergedML/{archivo.split(\"_merged\")[0]}_test.npz', X_test = X_test, y_test = y_test, valorNormalizacion = valorNormalizacion)\n",
    "        # np.savez(f'RCPMergedML/{archivo.split(\"_merged\")[0]}_val.npz', X_val = X_val, y_val = y_val, valorNormalizacion = valorNormalizacion)\n",
    "\n",
    "        X_train.to_csv(f'RCPMergedMLPandas/{archivo.split(\"_merged\")[0]}_X_train.csv', index=False)\n",
    "        y_train.to_csv(f'RCPMergedMLPandas/{archivo.split(\"_merged\")[0]}_y_train.csv', index=False)\n",
    "        X_test.to_csv(f'RCPMergedMLPandas/{archivo.split(\"_merged\")[0]}_X_test.csv', index=False)\n",
    "        y_test.to_csv(f'RCPMergedMLPandas/{archivo.split(\"_merged\")[0]}_y_test.csv', index=False)\n",
    "        X_val.to_csv(f'RCPMergedMLPandas/{archivo.split(\"_merged\")[0]}_X_val.csv', index=False)\n",
    "        y_val.to_csv(f'RCPMergedMLPandas/{archivo.split(\"_merged\")[0]}_y_val.csv', index=False)\n",
    "        np.savez(f'RCPMergedMLPandas/{archivo.split(\"_merged\")[0]}_valorNormalizacion.npz', valorNormalizacion = valorNormalizacion)\n"
   ]
  }
 ],
 "metadata": {
  "kernelspec": {
   "display_name": ".venv",
   "language": "python",
   "name": "python3"
  },
  "language_info": {
   "codemirror_mode": {
    "name": "ipython",
    "version": 3
   },
   "file_extension": ".py",
   "mimetype": "text/x-python",
   "name": "python",
   "nbconvert_exporter": "python",
   "pygments_lexer": "ipython3",
   "version": "3.10.12"
  }
 },
 "nbformat": 4,
 "nbformat_minor": 2
}
