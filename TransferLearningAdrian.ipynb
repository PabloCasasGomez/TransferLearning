{
 "cells": [
  {
   "cell_type": "code",
   "execution_count": 33,
   "metadata": {},
   "outputs": [],
   "source": [
    "import pandas as pd\n",
    "import numpy as np\n",
    "import tensorflow as tf\n",
    "from tensorflow import keras\n",
    "from sklearn.model_selection import train_test_split\n",
    "from sklearn.metrics import mean_squared_error, r2_score, mean_absolute_percentage_error\n",
    "from tensorflow.keras.losses import MeanSquaredError\n",
    "from tensorflow.keras.metrics import RootMeanSquaredError\n",
    "from tensorflow.keras.metrics import MeanAbsolutePercentageError\n",
    "from tensorflow.keras.callbacks import EarlyStopping, ModelCheckpoint\n",
    "\n",
    "\n",
    "import time\n",
    "from sklearn.preprocessing import MinMaxScaler\n",
    "from tensorflow.keras.layers import Dense\n",
    "from tensorflow.keras.models import load_model\n",
    "from tensorflow.keras.models import Sequential\n",
    "from tensorflow.keras.layers import Input\n",
    "\n",
    "from funcionesComunes import *\n"
   ]
  },
  {
   "cell_type": "code",
   "execution_count": 34,
   "metadata": {},
   "outputs": [
    {
     "name": "stdout",
     "output_type": "stream",
     "text": [
      "(96429, 77)\n",
      "SE HA NORMALIZADO EL ARCHIVO: Abies spectabilis_merged\n",
      "(56618, 4, 43) (19637, 4, 43) (15689, 4, 43)\n"
     ]
    }
   ],
   "source": [
    "# Cargar el archivo CSV con punto y coma como delimitador\n",
    "df = pd.read_csv('RCPMerged/Abies spectabilis_merged.csv')\n",
    "df = df[~df[\"nametag\"].str.startswith(\"INDI005\")]\n",
    "\n",
    "# Codificamos, normalización y split de datos\n",
    "df = codification(df)\n",
    "print(df.shape)\n",
    "\n",
    "df, valorNormalizacion = individualNormalization(df)\n",
    "print(f\"SE HA NORMALIZADO EL ARCHIVO: Abies spectabilis_merged\")\n",
    "\n",
    "temp_df = df\n",
    "train_data, val_data, test_data = split_population_individuals(temp_df, train_pct=0.80, val_pct_in_train=0.20, details=False)\n",
    "train_data.shape, val_data.shape, test_data.shape\n",
    "\n",
    "# Obtenemos X e y para los datasets de train, val y test \n",
    "WINDOWS_SIZE = 3\n",
    "X_train, y_train = df_to_X_y_ind_3(train_data, WINDOWS_SIZE)\n",
    "X_val, y_val = df_to_X_y_ind_3(val_data, WINDOWS_SIZE)\n",
    "X_test, y_test = df_to_X_y_ind_3(test_data, WINDOWS_SIZE)\n",
    "print(X_train.shape, X_test.shape, X_val.shape)\n"
   ]
  },
  {
   "cell_type": "code",
   "execution_count": 132,
   "metadata": {},
   "outputs": [
    {
     "name": "stderr",
     "output_type": "stream",
     "text": [
      "/home/workstation/Escritorio/PabloC/TransferLearning/.venv/lib/python3.10/site-packages/keras/src/saving/saving_lib.py:719: UserWarning: Skipping variable loading for optimizer 'rmsprop', because it has 18 variables whereas the saved optimizer has 34 variables. \n",
      "  saveable.load_own_variables(weights_store.get(inner_path))\n"
     ]
    },
    {
     "data": {
      "text/html": [
       "<pre style=\"white-space:pre;overflow-x:auto;line-height:normal;font-family:Menlo,'DejaVu Sans Mono',consolas,'Courier New',monospace\"><span style=\"font-weight: bold\">Model: \"sequential_1\"</span>\n",
       "</pre>\n"
      ],
      "text/plain": [
       "\u001b[1mModel: \"sequential_1\"\u001b[0m\n"
      ]
     },
     "metadata": {},
     "output_type": "display_data"
    },
    {
     "data": {
      "text/html": [
       "<pre style=\"white-space:pre;overflow-x:auto;line-height:normal;font-family:Menlo,'DejaVu Sans Mono',consolas,'Courier New',monospace\">┏━━━━━━━━━━━━━━━━━━━━━━━━━━━━━━━━━┳━━━━━━━━━━━━━━━━━━━━━━━━┳━━━━━━━━━━━━━━━┓\n",
       "┃<span style=\"font-weight: bold\"> Layer (type)                    </span>┃<span style=\"font-weight: bold\"> Output Shape           </span>┃<span style=\"font-weight: bold\">       Param # </span>┃\n",
       "┡━━━━━━━━━━━━━━━━━━━━━━━━━━━━━━━━━╇━━━━━━━━━━━━━━━━━━━━━━━━╇━━━━━━━━━━━━━━━┩\n",
       "│ lstm (<span style=\"color: #0087ff; text-decoration-color: #0087ff\">LSTM</span>)                     │ (<span style=\"color: #00d7ff; text-decoration-color: #00d7ff\">None</span>, <span style=\"color: #00af00; text-decoration-color: #00af00\">4</span>, <span style=\"color: #00af00; text-decoration-color: #00af00\">64</span>)          │        <span style=\"color: #00af00; text-decoration-color: #00af00\">27,648</span> │\n",
       "├─────────────────────────────────┼────────────────────────┼───────────────┤\n",
       "│ lstm_1 (<span style=\"color: #0087ff; text-decoration-color: #0087ff\">LSTM</span>)                   │ (<span style=\"color: #00d7ff; text-decoration-color: #00d7ff\">None</span>, <span style=\"color: #00af00; text-decoration-color: #00af00\">4</span>, <span style=\"color: #00af00; text-decoration-color: #00af00\">128</span>)         │        <span style=\"color: #00af00; text-decoration-color: #00af00\">98,816</span> │\n",
       "├─────────────────────────────────┼────────────────────────┼───────────────┤\n",
       "│ lstm_2 (<span style=\"color: #0087ff; text-decoration-color: #0087ff\">LSTM</span>)                   │ (<span style=\"color: #00d7ff; text-decoration-color: #00d7ff\">None</span>, <span style=\"color: #00af00; text-decoration-color: #00af00\">4</span>, <span style=\"color: #00af00; text-decoration-color: #00af00\">128</span>)         │       <span style=\"color: #00af00; text-decoration-color: #00af00\">131,584</span> │\n",
       "├─────────────────────────────────┼────────────────────────┼───────────────┤\n",
       "│ dropout_1 (<span style=\"color: #0087ff; text-decoration-color: #0087ff\">Dropout</span>)             │ (<span style=\"color: #00d7ff; text-decoration-color: #00d7ff\">None</span>, <span style=\"color: #00af00; text-decoration-color: #00af00\">4</span>, <span style=\"color: #00af00; text-decoration-color: #00af00\">128</span>)         │             <span style=\"color: #00af00; text-decoration-color: #00af00\">0</span> │\n",
       "├─────────────────────────────────┼────────────────────────┼───────────────┤\n",
       "│ lstm_3 (<span style=\"color: #0087ff; text-decoration-color: #0087ff\">LSTM</span>)                   │ (<span style=\"color: #00d7ff; text-decoration-color: #00d7ff\">None</span>, <span style=\"color: #00af00; text-decoration-color: #00af00\">64</span>)             │        <span style=\"color: #00af00; text-decoration-color: #00af00\">49,408</span> │\n",
       "├─────────────────────────────────┼────────────────────────┼───────────────┤\n",
       "│ dense_2 (<span style=\"color: #0087ff; text-decoration-color: #0087ff\">Dense</span>)                 │ (<span style=\"color: #00d7ff; text-decoration-color: #00d7ff\">None</span>, <span style=\"color: #00af00; text-decoration-color: #00af00\">24</span>)             │         <span style=\"color: #00af00; text-decoration-color: #00af00\">1,560</span> │\n",
       "├─────────────────────────────────┼────────────────────────┼───────────────┤\n",
       "│ dropout_2 (<span style=\"color: #0087ff; text-decoration-color: #0087ff\">Dropout</span>)             │ (<span style=\"color: #00d7ff; text-decoration-color: #00d7ff\">None</span>, <span style=\"color: #00af00; text-decoration-color: #00af00\">24</span>)             │             <span style=\"color: #00af00; text-decoration-color: #00af00\">0</span> │\n",
       "├─────────────────────────────────┼────────────────────────┼───────────────┤\n",
       "│ dense_3 (<span style=\"color: #0087ff; text-decoration-color: #0087ff\">Dense</span>)                 │ (<span style=\"color: #00d7ff; text-decoration-color: #00d7ff\">None</span>, <span style=\"color: #00af00; text-decoration-color: #00af00\">1</span>)              │            <span style=\"color: #00af00; text-decoration-color: #00af00\">25</span> │\n",
       "└─────────────────────────────────┴────────────────────────┴───────────────┘\n",
       "</pre>\n"
      ],
      "text/plain": [
       "┏━━━━━━━━━━━━━━━━━━━━━━━━━━━━━━━━━┳━━━━━━━━━━━━━━━━━━━━━━━━┳━━━━━━━━━━━━━━━┓\n",
       "┃\u001b[1m \u001b[0m\u001b[1mLayer (type)                   \u001b[0m\u001b[1m \u001b[0m┃\u001b[1m \u001b[0m\u001b[1mOutput Shape          \u001b[0m\u001b[1m \u001b[0m┃\u001b[1m \u001b[0m\u001b[1m      Param #\u001b[0m\u001b[1m \u001b[0m┃\n",
       "┡━━━━━━━━━━━━━━━━━━━━━━━━━━━━━━━━━╇━━━━━━━━━━━━━━━━━━━━━━━━╇━━━━━━━━━━━━━━━┩\n",
       "│ lstm (\u001b[38;5;33mLSTM\u001b[0m)                     │ (\u001b[38;5;45mNone\u001b[0m, \u001b[38;5;34m4\u001b[0m, \u001b[38;5;34m64\u001b[0m)          │        \u001b[38;5;34m27,648\u001b[0m │\n",
       "├─────────────────────────────────┼────────────────────────┼───────────────┤\n",
       "│ lstm_1 (\u001b[38;5;33mLSTM\u001b[0m)                   │ (\u001b[38;5;45mNone\u001b[0m, \u001b[38;5;34m4\u001b[0m, \u001b[38;5;34m128\u001b[0m)         │        \u001b[38;5;34m98,816\u001b[0m │\n",
       "├─────────────────────────────────┼────────────────────────┼───────────────┤\n",
       "│ lstm_2 (\u001b[38;5;33mLSTM\u001b[0m)                   │ (\u001b[38;5;45mNone\u001b[0m, \u001b[38;5;34m4\u001b[0m, \u001b[38;5;34m128\u001b[0m)         │       \u001b[38;5;34m131,584\u001b[0m │\n",
       "├─────────────────────────────────┼────────────────────────┼───────────────┤\n",
       "│ dropout_1 (\u001b[38;5;33mDropout\u001b[0m)             │ (\u001b[38;5;45mNone\u001b[0m, \u001b[38;5;34m4\u001b[0m, \u001b[38;5;34m128\u001b[0m)         │             \u001b[38;5;34m0\u001b[0m │\n",
       "├─────────────────────────────────┼────────────────────────┼───────────────┤\n",
       "│ lstm_3 (\u001b[38;5;33mLSTM\u001b[0m)                   │ (\u001b[38;5;45mNone\u001b[0m, \u001b[38;5;34m64\u001b[0m)             │        \u001b[38;5;34m49,408\u001b[0m │\n",
       "├─────────────────────────────────┼────────────────────────┼───────────────┤\n",
       "│ dense_2 (\u001b[38;5;33mDense\u001b[0m)                 │ (\u001b[38;5;45mNone\u001b[0m, \u001b[38;5;34m24\u001b[0m)             │         \u001b[38;5;34m1,560\u001b[0m │\n",
       "├─────────────────────────────────┼────────────────────────┼───────────────┤\n",
       "│ dropout_2 (\u001b[38;5;33mDropout\u001b[0m)             │ (\u001b[38;5;45mNone\u001b[0m, \u001b[38;5;34m24\u001b[0m)             │             \u001b[38;5;34m0\u001b[0m │\n",
       "├─────────────────────────────────┼────────────────────────┼───────────────┤\n",
       "│ dense_3 (\u001b[38;5;33mDense\u001b[0m)                 │ (\u001b[38;5;45mNone\u001b[0m, \u001b[38;5;34m1\u001b[0m)              │            \u001b[38;5;34m25\u001b[0m │\n",
       "└─────────────────────────────────┴────────────────────────┴───────────────┘\n"
      ]
     },
     "metadata": {},
     "output_type": "display_data"
    },
    {
     "data": {
      "text/html": [
       "<pre style=\"white-space:pre;overflow-x:auto;line-height:normal;font-family:Menlo,'DejaVu Sans Mono',consolas,'Courier New',monospace\"><span style=\"font-weight: bold\"> Total params: </span><span style=\"color: #00af00; text-decoration-color: #00af00\">618,084</span> (2.36 MB)\n",
       "</pre>\n"
      ],
      "text/plain": [
       "\u001b[1m Total params: \u001b[0m\u001b[38;5;34m618,084\u001b[0m (2.36 MB)\n"
      ]
     },
     "metadata": {},
     "output_type": "display_data"
    },
    {
     "data": {
      "text/html": [
       "<pre style=\"white-space:pre;overflow-x:auto;line-height:normal;font-family:Menlo,'DejaVu Sans Mono',consolas,'Courier New',monospace\"><span style=\"font-weight: bold\"> Trainable params: </span><span style=\"color: #00af00; text-decoration-color: #00af00\">309,041</span> (1.18 MB)\n",
       "</pre>\n"
      ],
      "text/plain": [
       "\u001b[1m Trainable params: \u001b[0m\u001b[38;5;34m309,041\u001b[0m (1.18 MB)\n"
      ]
     },
     "metadata": {},
     "output_type": "display_data"
    },
    {
     "data": {
      "text/html": [
       "<pre style=\"white-space:pre;overflow-x:auto;line-height:normal;font-family:Menlo,'DejaVu Sans Mono',consolas,'Courier New',monospace\"><span style=\"font-weight: bold\"> Non-trainable params: </span><span style=\"color: #00af00; text-decoration-color: #00af00\">0</span> (0.00 B)\n",
       "</pre>\n"
      ],
      "text/plain": [
       "\u001b[1m Non-trainable params: \u001b[0m\u001b[38;5;34m0\u001b[0m (0.00 B)\n"
      ]
     },
     "metadata": {},
     "output_type": "display_data"
    },
    {
     "data": {
      "text/html": [
       "<pre style=\"white-space:pre;overflow-x:auto;line-height:normal;font-family:Menlo,'DejaVu Sans Mono',consolas,'Courier New',monospace\"><span style=\"font-weight: bold\"> Optimizer params: </span><span style=\"color: #00af00; text-decoration-color: #00af00\">309,043</span> (1.18 MB)\n",
       "</pre>\n"
      ],
      "text/plain": [
       "\u001b[1m Optimizer params: \u001b[0m\u001b[38;5;34m309,043\u001b[0m (1.18 MB)\n"
      ]
     },
     "metadata": {},
     "output_type": "display_data"
    }
   ],
   "source": [
    "modelLSTM = tf.keras.models.load_model(\"models/modelLSTM.keras\")\n",
    "modelLSTMFreeze = modelLSTM\n",
    "\n",
    "modelLSTM.summary()"
   ]
  },
  {
   "cell_type": "markdown",
   "metadata": {},
   "source": [
    "# Congelación de capas"
   ]
  },
  {
   "cell_type": "code",
   "execution_count": 36,
   "metadata": {},
   "outputs": [
    {
     "name": "stdout",
     "output_type": "stream",
     "text": [
      "Tipo de optimizador: RMSprop\n",
      "Tasa de aprendizaje: 0.0010000000474974513\n",
      "Epsilon: 1e-07\n"
     ]
    }
   ],
   "source": [
    "# Obtener el optimizador del modelo\n",
    "optimizer = modelLSTMFreeze.optimizer\n",
    "\n",
    "# Obtener detalles del optimizador\n",
    "print(f\"Tipo de optimizador: {type(optimizer).__name__}\")\n",
    "print(f\"Tasa de aprendizaje: {optimizer.learning_rate.numpy()}\")\n",
    "print(f\"Epsilon: {optimizer.epsilon}\")"
   ]
  },
  {
   "cell_type": "code",
   "execution_count": 152,
   "metadata": {},
   "outputs": [
    {
     "name": "stdout",
     "output_type": "stream",
     "text": [
      "<LSTM name=lstm, built=True> False\n",
      "<LSTM name=lstm_1, built=True> False\n",
      "<LSTM name=lstm_2, built=True> False\n",
      "<Dropout name=dropout_1, built=True> True\n",
      "<LSTM name=lstm_3, built=True> True\n",
      "<Dense name=dense_2, built=True> True\n",
      "<Dropout name=dropout_2, built=True> True\n",
      "<Dense name=dense_3, built=True> True\n"
     ]
    }
   ],
   "source": [
    "NUM_TRAINABLE = 1\n",
    "\n",
    "numLSTM_layers = sum(1 for layer in modelLSTMFreeze.layers if \"lstm\" in layer.name)\n",
    "\n",
    "numFreezeLayers = numLSTM_layers - NUM_TRAINABLE # Congelamos todas menos la útlima capa\n",
    "\n",
    "numberLayersFreezed = 0\n",
    "\n",
    "# Congelar las primeras 'numFreezeLayers' capas LSTM\n",
    "for i, layer in enumerate(modelLSTMFreeze.layers):\n",
    "\n",
    "\n",
    "    if \"lstm\" in layer.name and numFreezeLayers>numberLayersFreezed:\n",
    "        numberLayersFreezed += 1\n",
    "        layer.trainable = False\n",
    "\n",
    "    print(layer, layer.trainable)"
   ]
  },
  {
   "cell_type": "code",
   "execution_count": 38,
   "metadata": {},
   "outputs": [],
   "source": [
    "modelLSTMFreeze.compile(optimizer=optimizer, loss=MeanSquaredError(), metrics=[\n",
    "                                MeanSquaredError(name='mse'),\n",
    "                                RootMeanSquaredError(name='rmse'),\n",
    "                                MeanAbsolutePercentageError(name='mape')\n",
    "                            ])"
   ]
  },
  {
   "cell_type": "code",
   "execution_count": 41,
   "metadata": {},
   "outputs": [
    {
     "name": "stdout",
     "output_type": "stream",
     "text": [
      "Epoch 1/200\n",
      "\u001b[1m2360/2360\u001b[0m \u001b[32m━━━━━━━━━━━━━━━━━━━━\u001b[0m\u001b[37m\u001b[0m \u001b[1m16s\u001b[0m 7ms/step - loss: 0.0146 - mape: 29.8034 - mse: 0.0146 - rmse: 0.1210 - val_loss: 0.0135 - val_mape: 24.7561 - val_mse: 0.0135 - val_rmse: 0.1162\n",
      "Epoch 2/200\n",
      "\u001b[1m2360/2360\u001b[0m \u001b[32m━━━━━━━━━━━━━━━━━━━━\u001b[0m\u001b[37m\u001b[0m \u001b[1m17s\u001b[0m 7ms/step - loss: 0.0146 - mape: 30.1204 - mse: 0.0146 - rmse: 0.1208 - val_loss: 0.0133 - val_mape: 25.3843 - val_mse: 0.0133 - val_rmse: 0.1154\n",
      "Epoch 3/200\n",
      "\u001b[1m2360/2360\u001b[0m \u001b[32m━━━━━━━━━━━━━━━━━━━━\u001b[0m\u001b[37m\u001b[0m \u001b[1m17s\u001b[0m 7ms/step - loss: 0.0144 - mape: 30.0842 - mse: 0.0144 - rmse: 0.1200 - val_loss: 0.0134 - val_mape: 25.2314 - val_mse: 0.0134 - val_rmse: 0.1157\n",
      "Epoch 4/200\n",
      "\u001b[1m2360/2360\u001b[0m \u001b[32m━━━━━━━━━━━━━━━━━━━━\u001b[0m\u001b[37m\u001b[0m \u001b[1m13s\u001b[0m 6ms/step - loss: 0.0145 - mape: 29.8935 - mse: 0.0145 - rmse: 0.1204 - val_loss: 0.0135 - val_mape: 27.2908 - val_mse: 0.0135 - val_rmse: 0.1162\n",
      "Epoch 5/200\n",
      "\u001b[1m2360/2360\u001b[0m \u001b[32m━━━━━━━━━━━━━━━━━━━━\u001b[0m\u001b[37m\u001b[0m \u001b[1m14s\u001b[0m 6ms/step - loss: 0.0146 - mape: 29.6769 - mse: 0.0146 - rmse: 0.1210 - val_loss: 0.0132 - val_mape: 26.2086 - val_mse: 0.0132 - val_rmse: 0.1151\n",
      "Epoch 6/200\n",
      "\u001b[1m2360/2360\u001b[0m \u001b[32m━━━━━━━━━━━━━━━━━━━━\u001b[0m\u001b[37m\u001b[0m \u001b[1m15s\u001b[0m 7ms/step - loss: 0.0148 - mape: 30.4377 - mse: 0.0148 - rmse: 0.1215 - val_loss: 0.0133 - val_mape: 27.2428 - val_mse: 0.0133 - val_rmse: 0.1153\n",
      "Epoch 7/200\n",
      "\u001b[1m2360/2360\u001b[0m \u001b[32m━━━━━━━━━━━━━━━━━━━━\u001b[0m\u001b[37m\u001b[0m \u001b[1m15s\u001b[0m 7ms/step - loss: 0.0146 - mape: 29.2819 - mse: 0.0146 - rmse: 0.1207 - val_loss: 0.0136 - val_mape: 30.6625 - val_mse: 0.0136 - val_rmse: 0.1166\n",
      "Epoch 8/200\n",
      "\u001b[1m2360/2360\u001b[0m \u001b[32m━━━━━━━━━━━━━━━━━━━━\u001b[0m\u001b[37m\u001b[0m \u001b[1m15s\u001b[0m 6ms/step - loss: 0.0143 - mape: 29.6917 - mse: 0.0143 - rmse: 0.1195 - val_loss: 0.0134 - val_mape: 28.2999 - val_mse: 0.0134 - val_rmse: 0.1156\n",
      "Epoch 9/200\n",
      "\u001b[1m2360/2360\u001b[0m \u001b[32m━━━━━━━━━━━━━━━━━━━━\u001b[0m\u001b[37m\u001b[0m \u001b[1m15s\u001b[0m 6ms/step - loss: 0.0145 - mape: 29.8244 - mse: 0.0145 - rmse: 0.1206 - val_loss: 0.0134 - val_mape: 24.6678 - val_mse: 0.0134 - val_rmse: 0.1157\n",
      "Epoch 10/200\n",
      "\u001b[1m2360/2360\u001b[0m \u001b[32m━━━━━━━━━━━━━━━━━━━━\u001b[0m\u001b[37m\u001b[0m \u001b[1m16s\u001b[0m 7ms/step - loss: 0.0142 - mape: 29.8832 - mse: 0.0142 - rmse: 0.1190 - val_loss: 0.0140 - val_mape: 27.7236 - val_mse: 0.0140 - val_rmse: 0.1181\n",
      "Epoch 11/200\n",
      "\u001b[1m2360/2360\u001b[0m \u001b[32m━━━━━━━━━━━━━━━━━━━━\u001b[0m\u001b[37m\u001b[0m \u001b[1m15s\u001b[0m 6ms/step - loss: 0.0142 - mape: 29.4450 - mse: 0.0142 - rmse: 0.1193 - val_loss: 0.0133 - val_mape: 26.3440 - val_mse: 0.0133 - val_rmse: 0.1152\n",
      "Epoch 12/200\n",
      "\u001b[1m2360/2360\u001b[0m \u001b[32m━━━━━━━━━━━━━━━━━━━━\u001b[0m\u001b[37m\u001b[0m \u001b[1m14s\u001b[0m 6ms/step - loss: 0.0144 - mape: 30.1621 - mse: 0.0144 - rmse: 0.1202 - val_loss: 0.0133 - val_mape: 24.5680 - val_mse: 0.0133 - val_rmse: 0.1153\n",
      "Epoch 13/200\n",
      "\u001b[1m2360/2360\u001b[0m \u001b[32m━━━━━━━━━━━━━━━━━━━━\u001b[0m\u001b[37m\u001b[0m \u001b[1m15s\u001b[0m 6ms/step - loss: 0.0141 - mape: 30.6590 - mse: 0.0141 - rmse: 0.1188 - val_loss: 0.0135 - val_mape: 29.5906 - val_mse: 0.0135 - val_rmse: 0.1162\n",
      "Epoch 14/200\n",
      "\u001b[1m2360/2360\u001b[0m \u001b[32m━━━━━━━━━━━━━━━━━━━━\u001b[0m\u001b[37m\u001b[0m \u001b[1m15s\u001b[0m 6ms/step - loss: 0.0144 - mape: 29.9763 - mse: 0.0144 - rmse: 0.1202 - val_loss: 0.0131 - val_mape: 24.9184 - val_mse: 0.0131 - val_rmse: 0.1147\n",
      "Epoch 15/200\n",
      "\u001b[1m2360/2360\u001b[0m \u001b[32m━━━━━━━━━━━━━━━━━━━━\u001b[0m\u001b[37m\u001b[0m \u001b[1m15s\u001b[0m 6ms/step - loss: 0.0144 - mape: 29.8998 - mse: 0.0144 - rmse: 0.1200 - val_loss: 0.0132 - val_mape: 24.5959 - val_mse: 0.0132 - val_rmse: 0.1147\n",
      "Epoch 16/200\n",
      "\u001b[1m2360/2360\u001b[0m \u001b[32m━━━━━━━━━━━━━━━━━━━━\u001b[0m\u001b[37m\u001b[0m \u001b[1m15s\u001b[0m 6ms/step - loss: 0.0144 - mape: 29.2324 - mse: 0.0144 - rmse: 0.1199 - val_loss: 0.0132 - val_mape: 26.9660 - val_mse: 0.0132 - val_rmse: 0.1148\n",
      "Epoch 17/200\n",
      "\u001b[1m2360/2360\u001b[0m \u001b[32m━━━━━━━━━━━━━━━━━━━━\u001b[0m\u001b[37m\u001b[0m \u001b[1m15s\u001b[0m 6ms/step - loss: 0.0144 - mape: 29.7154 - mse: 0.0144 - rmse: 0.1200 - val_loss: 0.0135 - val_mape: 26.4350 - val_mse: 0.0135 - val_rmse: 0.1163\n",
      "Epoch 18/200\n",
      "\u001b[1m2360/2360\u001b[0m \u001b[32m━━━━━━━━━━━━━━━━━━━━\u001b[0m\u001b[37m\u001b[0m \u001b[1m15s\u001b[0m 6ms/step - loss: 0.0142 - mape: 29.2314 - mse: 0.0142 - rmse: 0.1192 - val_loss: 0.0134 - val_mape: 24.0695 - val_mse: 0.0134 - val_rmse: 0.1156\n",
      "Epoch 19/200\n",
      "\u001b[1m2360/2360\u001b[0m \u001b[32m━━━━━━━━━━━━━━━━━━━━\u001b[0m\u001b[37m\u001b[0m \u001b[1m15s\u001b[0m 6ms/step - loss: 0.0144 - mape: 30.0117 - mse: 0.0144 - rmse: 0.1198 - val_loss: 0.0133 - val_mape: 24.4583 - val_mse: 0.0133 - val_rmse: 0.1154\n",
      "Epoch 20/200\n",
      "\u001b[1m2360/2360\u001b[0m \u001b[32m━━━━━━━━━━━━━━━━━━━━\u001b[0m\u001b[37m\u001b[0m \u001b[1m15s\u001b[0m 6ms/step - loss: 0.0141 - mape: 28.9899 - mse: 0.0141 - rmse: 0.1188 - val_loss: 0.0133 - val_mape: 24.7124 - val_mse: 0.0133 - val_rmse: 0.1155\n",
      "Epoch 21/200\n",
      "\u001b[1m2360/2360\u001b[0m \u001b[32m━━━━━━━━━━━━━━━━━━━━\u001b[0m\u001b[37m\u001b[0m \u001b[1m15s\u001b[0m 6ms/step - loss: 0.0143 - mape: 29.2945 - mse: 0.0143 - rmse: 0.1194 - val_loss: 0.0132 - val_mape: 24.6662 - val_mse: 0.0132 - val_rmse: 0.1149\n",
      "Epoch 22/200\n",
      "\u001b[1m2360/2360\u001b[0m \u001b[32m━━━━━━━━━━━━━━━━━━━━\u001b[0m\u001b[37m\u001b[0m \u001b[1m15s\u001b[0m 6ms/step - loss: 0.0144 - mape: 29.3761 - mse: 0.0144 - rmse: 0.1199 - val_loss: 0.0133 - val_mape: 24.3503 - val_mse: 0.0133 - val_rmse: 0.1155\n",
      "Epoch 23/200\n",
      "\u001b[1m2360/2360\u001b[0m \u001b[32m━━━━━━━━━━━━━━━━━━━━\u001b[0m\u001b[37m\u001b[0m \u001b[1m15s\u001b[0m 6ms/step - loss: 0.0141 - mape: 29.3309 - mse: 0.0141 - rmse: 0.1187 - val_loss: 0.0133 - val_mape: 24.2082 - val_mse: 0.0133 - val_rmse: 0.1154\n",
      "Epoch 24/200\n",
      "\u001b[1m2360/2360\u001b[0m \u001b[32m━━━━━━━━━━━━━━━━━━━━\u001b[0m\u001b[37m\u001b[0m \u001b[1m15s\u001b[0m 6ms/step - loss: 0.0143 - mape: 29.8441 - mse: 0.0143 - rmse: 0.1198 - val_loss: 0.0133 - val_mape: 27.3633 - val_mse: 0.0133 - val_rmse: 0.1151\n",
      "[MODELO CONGELADO]: 363.28351402282715\n"
     ]
    }
   ],
   "source": [
    "# Comienza a medir el tiempo de entrenamiento\n",
    "start_time = time.time()\n",
    "\n",
    "historyLSTMTransfer = modelLSTMFreeze.fit(X_train, y_train, epochs=200, batch_size=24,\n",
    "                        validation_data=(X_val, y_val), callbacks=[EarlyStopping(monitor='val_loss', patience=10)])\n",
    "\n",
    "# Finaliza la medición del tiempo de entrenamiento\n",
    "end_time = time.time()\n",
    "print(f\"[MODELO CONGELADO]: {end_time-start_time}\")\n"
   ]
  },
  {
   "cell_type": "code",
   "execution_count": 49,
   "metadata": {},
   "outputs": [
    {
     "name": "stdout",
     "output_type": "stream",
     "text": [
      "<keras.src.optimizers.rmsprop.RMSprop object at 0x6fff8679ac50>\n"
     ]
    }
   ],
   "source": [
    "# CON EL MODELO PREENTRENADO NO HAY QUE HACER ESO!\n",
    "# NO SE COMPILA NI NADA\n",
    "\n",
    "###############################################################################\n",
    "optimizerLSTM = modelLSTM.optimizer\n",
    "print(optimizerLSTM)\n",
    "\n",
    "modelLSTM.compile(optimizer=optimizer, loss=MeanSquaredError(), metrics=[\n",
    "                                MeanSquaredError(name='mse'),\n",
    "                                RootMeanSquaredError(name='rmse'),\n",
    "                                MeanAbsolutePercentageError(name='mape')\n",
    "                            ])\n",
    "###############################################################################"
   ]
  },
  {
   "cell_type": "code",
   "execution_count": 52,
   "metadata": {},
   "outputs": [
    {
     "name": "stdout",
     "output_type": "stream",
     "text": [
      "Epoch 1/200\n",
      "\u001b[1m2360/2360\u001b[0m \u001b[32m━━━━━━━━━━━━━━━━━━━━\u001b[0m\u001b[37m\u001b[0m \u001b[1m26s\u001b[0m 10ms/step - loss: 0.0481 - mape: 95.6664 - mse: 0.0481 - rmse: 0.2193 - val_loss: 0.0484 - val_mape: 96.9497 - val_mse: 0.0484 - val_rmse: 0.2200\n",
      "Epoch 2/200\n",
      "\u001b[1m2360/2360\u001b[0m \u001b[32m━━━━━━━━━━━━━━━━━━━━\u001b[0m\u001b[37m\u001b[0m \u001b[1m23s\u001b[0m 10ms/step - loss: 0.0475 - mape: 89.8709 - mse: 0.0475 - rmse: 0.2180 - val_loss: 0.0465 - val_mape: 85.4891 - val_mse: 0.0465 - val_rmse: 0.2157\n",
      "Epoch 3/200\n",
      "\u001b[1m2360/2360\u001b[0m \u001b[32m━━━━━━━━━━━━━━━━━━━━\u001b[0m\u001b[37m\u001b[0m \u001b[1m24s\u001b[0m 10ms/step - loss: 0.0466 - mape: 89.9724 - mse: 0.0466 - rmse: 0.2158 - val_loss: 0.0466 - val_mape: 94.0187 - val_mse: 0.0466 - val_rmse: 0.2159\n",
      "Epoch 4/200\n",
      "\u001b[1m2360/2360\u001b[0m \u001b[32m━━━━━━━━━━━━━━━━━━━━\u001b[0m\u001b[37m\u001b[0m \u001b[1m22s\u001b[0m 9ms/step - loss: 0.0464 - mape: 87.8208 - mse: 0.0464 - rmse: 0.2153 - val_loss: 0.0540 - val_mape: 77.6771 - val_mse: 0.0540 - val_rmse: 0.2324\n",
      "Epoch 5/200\n",
      "\u001b[1m2360/2360\u001b[0m \u001b[32m━━━━━━━━━━━━━━━━━━━━\u001b[0m\u001b[37m\u001b[0m \u001b[1m23s\u001b[0m 10ms/step - loss: 0.0463 - mape: 85.2603 - mse: 0.0463 - rmse: 0.2152 - val_loss: 0.0455 - val_mape: 85.6459 - val_mse: 0.0455 - val_rmse: 0.2134\n",
      "Epoch 6/200\n",
      "\u001b[1m2360/2360\u001b[0m \u001b[32m━━━━━━━━━━━━━━━━━━━━\u001b[0m\u001b[37m\u001b[0m \u001b[1m23s\u001b[0m 10ms/step - loss: 0.0458 - mape: 83.8930 - mse: 0.0458 - rmse: 0.2140 - val_loss: 0.0469 - val_mape: 81.5566 - val_mse: 0.0468 - val_rmse: 0.2165\n",
      "Epoch 7/200\n",
      "\u001b[1m2360/2360\u001b[0m \u001b[32m━━━━━━━━━━━━━━━━━━━━\u001b[0m\u001b[37m\u001b[0m \u001b[1m23s\u001b[0m 10ms/step - loss: 0.0462 - mape: 86.2041 - mse: 0.0462 - rmse: 0.2150 - val_loss: 0.0468 - val_mape: 86.5304 - val_mse: 0.0468 - val_rmse: 0.2164\n",
      "Epoch 8/200\n",
      "\u001b[1m2360/2360\u001b[0m \u001b[32m━━━━━━━━━━━━━━━━━━━━\u001b[0m\u001b[37m\u001b[0m \u001b[1m23s\u001b[0m 10ms/step - loss: 0.0456 - mape: 83.0105 - mse: 0.0456 - rmse: 0.2135 - val_loss: 0.0460 - val_mape: 81.6925 - val_mse: 0.0460 - val_rmse: 0.2144\n",
      "Epoch 9/200\n",
      "\u001b[1m2360/2360\u001b[0m \u001b[32m━━━━━━━━━━━━━━━━━━━━\u001b[0m\u001b[37m\u001b[0m \u001b[1m23s\u001b[0m 10ms/step - loss: 0.0456 - mape: 84.6482 - mse: 0.0456 - rmse: 0.2136 - val_loss: 0.0492 - val_mape: 99.4742 - val_mse: 0.0492 - val_rmse: 0.2218\n",
      "Epoch 10/200\n",
      "\u001b[1m2360/2360\u001b[0m \u001b[32m━━━━━━━━━━━━━━━━━━━━\u001b[0m\u001b[37m\u001b[0m \u001b[1m23s\u001b[0m 10ms/step - loss: 0.0454 - mape: 85.3320 - mse: 0.0454 - rmse: 0.2130 - val_loss: 0.0456 - val_mape: 81.9088 - val_mse: 0.0456 - val_rmse: 0.2135\n",
      "Epoch 11/200\n",
      "\u001b[1m2360/2360\u001b[0m \u001b[32m━━━━━━━━━━━━━━━━━━━━\u001b[0m\u001b[37m\u001b[0m \u001b[1m23s\u001b[0m 10ms/step - loss: 0.0457 - mape: 83.1530 - mse: 0.0457 - rmse: 0.2138 - val_loss: 0.0456 - val_mape: 83.9458 - val_mse: 0.0456 - val_rmse: 0.2136\n",
      "Epoch 12/200\n",
      "\u001b[1m2360/2360\u001b[0m \u001b[32m━━━━━━━━━━━━━━━━━━━━\u001b[0m\u001b[37m\u001b[0m \u001b[1m23s\u001b[0m 10ms/step - loss: 0.0461 - mape: 88.2528 - mse: 0.0461 - rmse: 0.2147 - val_loss: 0.0463 - val_mape: 85.1954 - val_mse: 0.0463 - val_rmse: 0.2153\n",
      "Epoch 13/200\n",
      "\u001b[1m2360/2360\u001b[0m \u001b[32m━━━━━━━━━━━━━━━━━━━━\u001b[0m\u001b[37m\u001b[0m \u001b[1m23s\u001b[0m 10ms/step - loss: 0.0459 - mape: 85.1101 - mse: 0.0459 - rmse: 0.2142 - val_loss: 0.0464 - val_mape: 85.0588 - val_mse: 0.0464 - val_rmse: 0.2154\n",
      "Epoch 14/200\n",
      "\u001b[1m2360/2360\u001b[0m \u001b[32m━━━━━━━━━━━━━━━━━━━━\u001b[0m\u001b[37m\u001b[0m \u001b[1m23s\u001b[0m 10ms/step - loss: 0.0456 - mape: 85.4834 - mse: 0.0456 - rmse: 0.2135 - val_loss: 0.0488 - val_mape: 76.8385 - val_mse: 0.0488 - val_rmse: 0.2208\n",
      "Epoch 15/200\n",
      "\u001b[1m2360/2360\u001b[0m \u001b[32m━━━━━━━━━━━━━━━━━━━━\u001b[0m\u001b[37m\u001b[0m \u001b[1m23s\u001b[0m 10ms/step - loss: 0.0455 - mape: 85.7782 - mse: 0.0455 - rmse: 0.2132 - val_loss: 0.0470 - val_mape: 78.5472 - val_mse: 0.0470 - val_rmse: 0.2169\n",
      "[MODELO NUEVO]: 349.5958321094513\n"
     ]
    }
   ],
   "source": [
    "# Comienza a medir el tiempo de entrenamiento\n",
    "start_time = time.time()\n",
    "\n",
    "historyLSTM = modelLSTM.fit(X_train, y_train, epochs=200, batch_size=24,\n",
    "                    validation_data=(X_val, y_val), callbacks=[EarlyStopping(monitor='val_loss', patience=10)])\n",
    "\n",
    "# Finaliza la medición del tiempo de entrenamiento\n",
    "end_time = time.time()\n",
    "print(f\"[MODELO NUEVO]: {end_time-start_time}\")"
   ]
  },
  {
   "cell_type": "code",
   "execution_count": 32,
   "metadata": {},
   "outputs": [
    {
     "name": "stderr",
     "output_type": "stream",
     "text": [
      "/home/workstation/Escritorio/PabloC/TransferLearning/funcionesComunes.py:191: FutureWarning: The behavior of DataFrame concatenation with empty or all-NA entries is deprecated. In a future version, this will no longer exclude empty or all-NA columns when determining the result dtypes. To retain the old behavior, exclude the relevant entries before the concat operation.\n",
      "  predictionsDF = pd.concat([predictionsDF, tempDF], ignore_index=True)\n",
      "/home/workstation/Escritorio/PabloC/TransferLearning/funcionesComunes.py:191: FutureWarning: The behavior of DataFrame concatenation with empty or all-NA entries is deprecated. In a future version, this will no longer exclude empty or all-NA columns when determining the result dtypes. To retain the old behavior, exclude the relevant entries before the concat operation.\n",
      "  predictionsDF = pd.concat([predictionsDF, tempDF], ignore_index=True)\n",
      "/home/workstation/Escritorio/PabloC/TransferLearning/funcionesComunes.py:191: FutureWarning: The behavior of DataFrame concatenation with empty or all-NA entries is deprecated. In a future version, this will no longer exclude empty or all-NA columns when determining the result dtypes. To retain the old behavior, exclude the relevant entries before the concat operation.\n",
      "  predictionsDF = pd.concat([predictionsDF, tempDF], ignore_index=True)\n"
     ]
    },
    {
     "name": "stdout",
     "output_type": "stream",
     "text": [
      "RESULTADOS DE MSE, RMSE, R2, MAPE (Train): 17.993569741393436, 4.241882806183291, 0.842134186001047, 20.555789188600222\n",
      "RESULTADOS DE MSE, RMSE, R2, MAPE (Val): 18.37357205125532, 4.286440487310575, 0.8325865317341601, 21.15726288156048\n",
      "RESULTADOS DE MSE, RMSE, R2, MAPE (Test): 19.06853804560989, 4.3667537193675, 0.8585828415279593, 20.61283012417917\n"
     ]
    }
   ],
   "source": [
    "# Realizar predicciones y calcular métricas para el conjunto de entrenamiento\n",
    "predictions_train = predictionForIndividuals(X_train, y_train, modelLSTMFreeze, 24)\n",
    "predictions_train[\"PredictionsDenormalize\"] = predictions_train.apply(lambda row: desnormalizacionBAI(row, valorNormalizacion, \"Predictions\"), axis=1)\n",
    "predictions_train[\"ActualDenormalize\"] = predictions_train.apply(lambda row: desnormalizacionBAI(row, valorNormalizacion, \"Actuals\"), axis=1)\n",
    "\n",
    "train_mse = mean_squared_error(predictions_train[\"ActualDenormalize\"],predictions_train[\"PredictionsDenormalize\"])\n",
    "train_rmse = np.sqrt(train_mse)\n",
    "train_mape = (np.sum(np.abs(predictions_train[\"PredictionsDenormalize\"] - predictions_train[\"ActualDenormalize\"])) / np.sum(np.abs(predictions_train[\"ActualDenormalize\"]))) * 100\n",
    "train_r2 = r2_score(predictions_train[\"ActualDenormalize\"], predictions_train[\"PredictionsDenormalize\"])\n",
    "\n",
    "# Realizar predicciones y calcular métricas para el conjunto de validación\n",
    "predictions_val = predictionForIndividuals(X_val, y_val, modelLSTMFreeze, 24)\n",
    "predictions_val[\"PredictionsDenormalize\"] = predictions_val.apply(lambda row: desnormalizacionBAI(row, valorNormalizacion, \"Predictions\"), axis=1)\n",
    "predictions_val[\"ActualDenormalize\"] = predictions_val.apply(lambda row: desnormalizacionBAI(row, valorNormalizacion, \"Actuals\"), axis=1)\n",
    "\n",
    "val_mse = mean_squared_error(predictions_val[\"ActualDenormalize\"],predictions_val[\"PredictionsDenormalize\"])\n",
    "val_rmse = np.sqrt(val_mse)\n",
    "val_mape = (np.sum(np.abs(predictions_val[\"PredictionsDenormalize\"] - predictions_val[\"ActualDenormalize\"])) / np.sum(np.abs(predictions_val[\"ActualDenormalize\"]))) * 100\n",
    "val_r2 = r2_score(predictions_val[\"ActualDenormalize\"], predictions_val[\"PredictionsDenormalize\"])\n",
    "\n",
    "# Realizar predicciones y calcular métricas para el conjunto de prueba\n",
    "predictions_test = predictionForIndividuals(X_test, y_test, modelLSTMFreeze, 24)\n",
    "predictions_test[\"PredictionsDenormalize\"] = predictions_test.apply(lambda row: desnormalizacionBAI(row, valorNormalizacion, \"Predictions\"), axis=1)\n",
    "predictions_test[\"ActualDenormalize\"] = predictions_test.apply(lambda row: desnormalizacionBAI(row, valorNormalizacion, \"Actuals\"), axis=1)\n",
    "\n",
    "test_mse = mean_squared_error(predictions_test[\"ActualDenormalize\"],predictions_test[\"PredictionsDenormalize\"])\n",
    "test_rmse = np.sqrt(test_mse)\n",
    "test_mape = (np.sum(np.abs(predictions_test[\"PredictionsDenormalize\"] - predictions_test[\"ActualDenormalize\"])) / np.sum(np.abs(predictions_test[\"ActualDenormalize\"]))) * 100\n",
    "test_r2 = r2_score(predictions_test[\"ActualDenormalize\"], predictions_test[\"PredictionsDenormalize\"])\n",
    "\n",
    "print(f\"RESULTADOS DE MSE, RMSE, R2, MAPE (Train): {train_mse}, {train_rmse}, {train_r2}, {train_mape}\")\n",
    "print(f\"RESULTADOS DE MSE, RMSE, R2, MAPE (Val): {val_mse}, {val_rmse}, {val_r2}, {val_mape}\")\n",
    "print(f\"RESULTADOS DE MSE, RMSE, R2, MAPE (Test): {test_mse}, {test_rmse}, {test_r2}, {test_mape}\")"
   ]
  },
  {
   "cell_type": "code",
   "execution_count": 154,
   "metadata": {},
   "outputs": [
    {
     "name": "stdout",
     "output_type": "stream",
     "text": [
      "(96429, 77)\n",
      "SE HA NORMALIZADO EL ARCHIVO: Abies spectabilis_merged.csv\n",
      "(56618, 4, 43) (19637, 4, 43) (15689, 4, 43)\n",
      "<LSTM name=lstm, built=True> False\n",
      "<LSTM name=lstm_1, built=True> False\n",
      "<LSTM name=lstm_2, built=True> False\n",
      "<Dropout name=dropout_1, built=True> True\n",
      "<LSTM name=lstm_3, built=True> True\n",
      "<Dense name=dense_2, built=True> True\n",
      "<Dropout name=dropout_2, built=True> True\n",
      "<Dense name=dense_3, built=True> True\n"
     ]
    },
    {
     "name": "stderr",
     "output_type": "stream",
     "text": [
      "/home/workstation/Escritorio/PabloC/TransferLearning/.venv/lib/python3.10/site-packages/keras/src/saving/saving_lib.py:719: UserWarning: Skipping variable loading for optimizer 'rmsprop', because it has 18 variables whereas the saved optimizer has 34 variables. \n",
      "  saveable.load_own_variables(weights_store.get(inner_path))\n"
     ]
    },
    {
     "name": "stdout",
     "output_type": "stream",
     "text": [
      "[MODELO CONGELADO]: 629.6567380428314\n"
     ]
    },
    {
     "name": "stderr",
     "output_type": "stream",
     "text": [
      "/home/workstation/Escritorio/PabloC/TransferLearning/funcionesComunes.py:191: FutureWarning: The behavior of DataFrame concatenation with empty or all-NA entries is deprecated. In a future version, this will no longer exclude empty or all-NA columns when determining the result dtypes. To retain the old behavior, exclude the relevant entries before the concat operation.\n",
      "  predictionsDF = pd.concat([predictionsDF, tempDF], ignore_index=True)\n",
      "/home/workstation/Escritorio/PabloC/TransferLearning/funcionesComunes.py:191: FutureWarning: The behavior of DataFrame concatenation with empty or all-NA entries is deprecated. In a future version, this will no longer exclude empty or all-NA columns when determining the result dtypes. To retain the old behavior, exclude the relevant entries before the concat operation.\n",
      "  predictionsDF = pd.concat([predictionsDF, tempDF], ignore_index=True)\n",
      "/home/workstation/Escritorio/PabloC/TransferLearning/funcionesComunes.py:191: FutureWarning: The behavior of DataFrame concatenation with empty or all-NA entries is deprecated. In a future version, this will no longer exclude empty or all-NA columns when determining the result dtypes. To retain the old behavior, exclude the relevant entries before the concat operation.\n",
      "  predictionsDF = pd.concat([predictionsDF, tempDF], ignore_index=True)\n"
     ]
    },
    {
     "name": "stdout",
     "output_type": "stream",
     "text": [
      "RESULTADOS DE MSE, RMSE, R2, MAPE (Train): 18.05214589999953, 4.248781695968802, 0.8416202705805838, 20.77368072262704\n",
      "RESULTADOS DE MSE, RMSE, R2, MAPE (Val): 18.66985577891557, 4.320862851204094, 0.8298868995505018, 21.598038885740245\n",
      "RESULTADOS DE MSE, RMSE, R2, MAPE (Test): 19.006251421575207, 4.359615971800178, 0.8590447750731913, 20.799570184748596\n",
      "(34476, 77)\n",
      "SE HA NORMALIZADO EL ARCHIVO: Picea smithiana_merged.csv\n",
      "(19933, 4, 43) (7272, 4, 43) (5863, 4, 43)\n",
      "<LSTM name=lstm, built=True> False\n",
      "<LSTM name=lstm_1, built=True> False\n",
      "<LSTM name=lstm_2, built=True> False\n",
      "<Dropout name=dropout_1, built=True> True\n",
      "<LSTM name=lstm_3, built=True> True\n",
      "<Dense name=dense_2, built=True> True\n",
      "<Dropout name=dropout_2, built=True> True\n",
      "<Dense name=dense_3, built=True> True\n"
     ]
    },
    {
     "name": "stderr",
     "output_type": "stream",
     "text": [
      "/home/workstation/Escritorio/PabloC/TransferLearning/.venv/lib/python3.10/site-packages/keras/src/saving/saving_lib.py:719: UserWarning: Skipping variable loading for optimizer 'rmsprop', because it has 18 variables whereas the saved optimizer has 34 variables. \n",
      "  saveable.load_own_variables(weights_store.get(inner_path))\n"
     ]
    },
    {
     "name": "stdout",
     "output_type": "stream",
     "text": [
      "[MODELO CONGELADO]: 532.8647437095642\n"
     ]
    },
    {
     "name": "stderr",
     "output_type": "stream",
     "text": [
      "/home/workstation/Escritorio/PabloC/TransferLearning/funcionesComunes.py:191: FutureWarning: The behavior of DataFrame concatenation with empty or all-NA entries is deprecated. In a future version, this will no longer exclude empty or all-NA columns when determining the result dtypes. To retain the old behavior, exclude the relevant entries before the concat operation.\n",
      "  predictionsDF = pd.concat([predictionsDF, tempDF], ignore_index=True)\n",
      "/home/workstation/Escritorio/PabloC/TransferLearning/funcionesComunes.py:191: FutureWarning: The behavior of DataFrame concatenation with empty or all-NA entries is deprecated. In a future version, this will no longer exclude empty or all-NA columns when determining the result dtypes. To retain the old behavior, exclude the relevant entries before the concat operation.\n",
      "  predictionsDF = pd.concat([predictionsDF, tempDF], ignore_index=True)\n",
      "/home/workstation/Escritorio/PabloC/TransferLearning/funcionesComunes.py:191: FutureWarning: The behavior of DataFrame concatenation with empty or all-NA entries is deprecated. In a future version, this will no longer exclude empty or all-NA columns when determining the result dtypes. To retain the old behavior, exclude the relevant entries before the concat operation.\n",
      "  predictionsDF = pd.concat([predictionsDF, tempDF], ignore_index=True)\n"
     ]
    },
    {
     "name": "stdout",
     "output_type": "stream",
     "text": [
      "RESULTADOS DE MSE, RMSE, R2, MAPE (Train): 55.249015542654554, 7.432968151596948, 0.8380886857331749, 21.70345159930832\n",
      "RESULTADOS DE MSE, RMSE, R2, MAPE (Val): 60.39205013188002, 7.771232214512704, 0.825724566753789, 22.599518125599914\n",
      "RESULTADOS DE MSE, RMSE, R2, MAPE (Test): 57.548815418623626, 7.586093554565724, 0.8056601205856077, 23.605684347130236\n",
      "(16018, 77)\n",
      "SE HA NORMALIZADO EL ARCHIVO: Abies pindrow_merged.csv\n",
      "(9042, 4, 43) (3441, 4, 43) (2815, 4, 43)\n",
      "<LSTM name=lstm, built=True> False\n",
      "<LSTM name=lstm_1, built=True> False\n",
      "<LSTM name=lstm_2, built=True> False\n",
      "<Dropout name=dropout_1, built=True> True\n",
      "<LSTM name=lstm_3, built=True> True\n",
      "<Dense name=dense_2, built=True> True\n",
      "<Dropout name=dropout_2, built=True> True\n",
      "<Dense name=dense_3, built=True> True\n"
     ]
    },
    {
     "name": "stderr",
     "output_type": "stream",
     "text": [
      "/home/workstation/Escritorio/PabloC/TransferLearning/.venv/lib/python3.10/site-packages/keras/src/saving/saving_lib.py:719: UserWarning: Skipping variable loading for optimizer 'rmsprop', because it has 18 variables whereas the saved optimizer has 34 variables. \n",
      "  saveable.load_own_variables(weights_store.get(inner_path))\n"
     ]
    },
    {
     "name": "stdout",
     "output_type": "stream",
     "text": [
      "[MODELO CONGELADO]: 94.48522520065308\n"
     ]
    },
    {
     "name": "stderr",
     "output_type": "stream",
     "text": [
      "/home/workstation/Escritorio/PabloC/TransferLearning/funcionesComunes.py:191: FutureWarning: The behavior of DataFrame concatenation with empty or all-NA entries is deprecated. In a future version, this will no longer exclude empty or all-NA columns when determining the result dtypes. To retain the old behavior, exclude the relevant entries before the concat operation.\n",
      "  predictionsDF = pd.concat([predictionsDF, tempDF], ignore_index=True)\n",
      "/home/workstation/Escritorio/PabloC/TransferLearning/funcionesComunes.py:191: FutureWarning: The behavior of DataFrame concatenation with empty or all-NA entries is deprecated. In a future version, this will no longer exclude empty or all-NA columns when determining the result dtypes. To retain the old behavior, exclude the relevant entries before the concat operation.\n",
      "  predictionsDF = pd.concat([predictionsDF, tempDF], ignore_index=True)\n",
      "/home/workstation/Escritorio/PabloC/TransferLearning/funcionesComunes.py:191: FutureWarning: The behavior of DataFrame concatenation with empty or all-NA entries is deprecated. In a future version, this will no longer exclude empty or all-NA columns when determining the result dtypes. To retain the old behavior, exclude the relevant entries before the concat operation.\n",
      "  predictionsDF = pd.concat([predictionsDF, tempDF], ignore_index=True)\n"
     ]
    },
    {
     "name": "stdout",
     "output_type": "stream",
     "text": [
      "RESULTADOS DE MSE, RMSE, R2, MAPE (Train): 46.53136994336417, 6.82139061653591, 0.8002724943794267, 20.91662144360748\n",
      "RESULTADOS DE MSE, RMSE, R2, MAPE (Val): 38.11941308143273, 6.174092085597099, 0.7825482580323142, 19.58013180506611\n",
      "RESULTADOS DE MSE, RMSE, R2, MAPE (Test): 52.52478461061627, 7.247398471908128, 0.6286646148943236, 20.89032555531464\n",
      "(7449, 77)\n",
      "SE HA NORMALIZADO EL ARCHIVO: Juniperus excelsa M.-Bieb_merged.csv\n",
      "(4189, 4, 43) (1707, 4, 43) (1228, 4, 43)\n",
      "<LSTM name=lstm, built=True> False\n",
      "<LSTM name=lstm_1, built=True> False\n",
      "<LSTM name=lstm_2, built=True> False\n",
      "<Dropout name=dropout_1, built=True> True\n",
      "<LSTM name=lstm_3, built=True> True\n",
      "<Dense name=dense_2, built=True> True\n",
      "<Dropout name=dropout_2, built=True> True\n",
      "<Dense name=dense_3, built=True> True\n"
     ]
    },
    {
     "name": "stderr",
     "output_type": "stream",
     "text": [
      "/home/workstation/Escritorio/PabloC/TransferLearning/.venv/lib/python3.10/site-packages/keras/src/saving/saving_lib.py:719: UserWarning: Skipping variable loading for optimizer 'rmsprop', because it has 18 variables whereas the saved optimizer has 34 variables. \n",
      "  saveable.load_own_variables(weights_store.get(inner_path))\n"
     ]
    },
    {
     "name": "stdout",
     "output_type": "stream",
     "text": [
      "[MODELO CONGELADO]: 70.07763338088989\n"
     ]
    },
    {
     "name": "stderr",
     "output_type": "stream",
     "text": [
      "/home/workstation/Escritorio/PabloC/TransferLearning/funcionesComunes.py:191: FutureWarning: The behavior of DataFrame concatenation with empty or all-NA entries is deprecated. In a future version, this will no longer exclude empty or all-NA columns when determining the result dtypes. To retain the old behavior, exclude the relevant entries before the concat operation.\n",
      "  predictionsDF = pd.concat([predictionsDF, tempDF], ignore_index=True)\n",
      "/home/workstation/Escritorio/PabloC/TransferLearning/funcionesComunes.py:191: FutureWarning: The behavior of DataFrame concatenation with empty or all-NA entries is deprecated. In a future version, this will no longer exclude empty or all-NA columns when determining the result dtypes. To retain the old behavior, exclude the relevant entries before the concat operation.\n",
      "  predictionsDF = pd.concat([predictionsDF, tempDF], ignore_index=True)\n",
      "/home/workstation/Escritorio/PabloC/TransferLearning/funcionesComunes.py:191: FutureWarning: The behavior of DataFrame concatenation with empty or all-NA entries is deprecated. In a future version, this will no longer exclude empty or all-NA columns when determining the result dtypes. To retain the old behavior, exclude the relevant entries before the concat operation.\n",
      "  predictionsDF = pd.concat([predictionsDF, tempDF], ignore_index=True)\n"
     ]
    },
    {
     "name": "stdout",
     "output_type": "stream",
     "text": [
      "RESULTADOS DE MSE, RMSE, R2, MAPE (Train): 5.591928727850877, 2.364725930811196, 0.7726992660345718, 23.86024053471193\n",
      "RESULTADOS DE MSE, RMSE, R2, MAPE (Val): 6.28339776183949, 2.5066706528460196, 0.7603747934910392, 25.750069831834026\n",
      "RESULTADOS DE MSE, RMSE, R2, MAPE (Test): 12.556332977337904, 3.5434916364142732, 0.8138419293936657, 25.012969683367743\n",
      "(6305, 77)\n",
      "SE HA NORMALIZADO EL ARCHIVO: Juniperus turkestanica Komar._merged.csv\n",
      "(3664, 4, 43) (1368, 4, 43) (1001, 4, 43)\n",
      "<LSTM name=lstm, built=True> False\n",
      "<LSTM name=lstm_1, built=True> False\n",
      "<LSTM name=lstm_2, built=True> False\n",
      "<Dropout name=dropout_1, built=True> True\n",
      "<LSTM name=lstm_3, built=True> True\n",
      "<Dense name=dense_2, built=True> True\n",
      "<Dropout name=dropout_2, built=True> True\n",
      "<Dense name=dense_3, built=True> True\n"
     ]
    },
    {
     "name": "stderr",
     "output_type": "stream",
     "text": [
      "/home/workstation/Escritorio/PabloC/TransferLearning/.venv/lib/python3.10/site-packages/keras/src/saving/saving_lib.py:719: UserWarning: Skipping variable loading for optimizer 'rmsprop', because it has 18 variables whereas the saved optimizer has 34 variables. \n",
      "  saveable.load_own_variables(weights_store.get(inner_path))\n"
     ]
    },
    {
     "name": "stdout",
     "output_type": "stream",
     "text": [
      "[MODELO CONGELADO]: 26.96891140937805\n"
     ]
    },
    {
     "name": "stderr",
     "output_type": "stream",
     "text": [
      "/home/workstation/Escritorio/PabloC/TransferLearning/funcionesComunes.py:191: FutureWarning: The behavior of DataFrame concatenation with empty or all-NA entries is deprecated. In a future version, this will no longer exclude empty or all-NA columns when determining the result dtypes. To retain the old behavior, exclude the relevant entries before the concat operation.\n",
      "  predictionsDF = pd.concat([predictionsDF, tempDF], ignore_index=True)\n",
      "/home/workstation/Escritorio/PabloC/TransferLearning/funcionesComunes.py:191: FutureWarning: The behavior of DataFrame concatenation with empty or all-NA entries is deprecated. In a future version, this will no longer exclude empty or all-NA columns when determining the result dtypes. To retain the old behavior, exclude the relevant entries before the concat operation.\n",
      "  predictionsDF = pd.concat([predictionsDF, tempDF], ignore_index=True)\n",
      "/home/workstation/Escritorio/PabloC/TransferLearning/funcionesComunes.py:191: FutureWarning: The behavior of DataFrame concatenation with empty or all-NA entries is deprecated. In a future version, this will no longer exclude empty or all-NA columns when determining the result dtypes. To retain the old behavior, exclude the relevant entries before the concat operation.\n",
      "  predictionsDF = pd.concat([predictionsDF, tempDF], ignore_index=True)\n"
     ]
    },
    {
     "name": "stdout",
     "output_type": "stream",
     "text": [
      "RESULTADOS DE MSE, RMSE, R2, MAPE (Train): 3.214599543187827, 1.7929304345645503, 0.9283842645023571, 18.11950886033272\n",
      "RESULTADOS DE MSE, RMSE, R2, MAPE (Val): 2.1859207197780255, 1.4784859552183867, 0.87288278724875, 19.935133095107847\n",
      "RESULTADOS DE MSE, RMSE, R2, MAPE (Test): 1.0948994649101083, 1.0463744381960542, 0.798569079757746, 20.710971618927143\n",
      "(10635, 77)\n",
      "SE HA NORMALIZADO EL ARCHIVO: Pinus roxburghii_merged.csv\n",
      "(6309, 4, 43) (2167, 4, 43) (1647, 4, 43)\n",
      "<LSTM name=lstm, built=True> False\n",
      "<LSTM name=lstm_1, built=True> False\n",
      "<LSTM name=lstm_2, built=True> False\n",
      "<Dropout name=dropout_1, built=True> True\n",
      "<LSTM name=lstm_3, built=True> True\n",
      "<Dense name=dense_2, built=True> True\n",
      "<Dropout name=dropout_2, built=True> True\n",
      "<Dense name=dense_3, built=True> True\n"
     ]
    },
    {
     "name": "stderr",
     "output_type": "stream",
     "text": [
      "/home/workstation/Escritorio/PabloC/TransferLearning/.venv/lib/python3.10/site-packages/keras/src/saving/saving_lib.py:719: UserWarning: Skipping variable loading for optimizer 'rmsprop', because it has 18 variables whereas the saved optimizer has 34 variables. \n",
      "  saveable.load_own_variables(weights_store.get(inner_path))\n"
     ]
    },
    {
     "name": "stdout",
     "output_type": "stream",
     "text": [
      "[MODELO CONGELADO]: 128.0755910873413\n"
     ]
    },
    {
     "name": "stderr",
     "output_type": "stream",
     "text": [
      "/home/workstation/Escritorio/PabloC/TransferLearning/funcionesComunes.py:191: FutureWarning: The behavior of DataFrame concatenation with empty or all-NA entries is deprecated. In a future version, this will no longer exclude empty or all-NA columns when determining the result dtypes. To retain the old behavior, exclude the relevant entries before the concat operation.\n",
      "  predictionsDF = pd.concat([predictionsDF, tempDF], ignore_index=True)\n",
      "/home/workstation/Escritorio/PabloC/TransferLearning/funcionesComunes.py:191: FutureWarning: The behavior of DataFrame concatenation with empty or all-NA entries is deprecated. In a future version, this will no longer exclude empty or all-NA columns when determining the result dtypes. To retain the old behavior, exclude the relevant entries before the concat operation.\n",
      "  predictionsDF = pd.concat([predictionsDF, tempDF], ignore_index=True)\n",
      "/home/workstation/Escritorio/PabloC/TransferLearning/funcionesComunes.py:191: FutureWarning: The behavior of DataFrame concatenation with empty or all-NA entries is deprecated. In a future version, this will no longer exclude empty or all-NA columns when determining the result dtypes. To retain the old behavior, exclude the relevant entries before the concat operation.\n",
      "  predictionsDF = pd.concat([predictionsDF, tempDF], ignore_index=True)\n"
     ]
    },
    {
     "name": "stdout",
     "output_type": "stream",
     "text": [
      "RESULTADOS DE MSE, RMSE, R2, MAPE (Train): 50.85399404912334, 7.131198640419669, 0.8093465944152644, 21.873852090653667\n",
      "RESULTADOS DE MSE, RMSE, R2, MAPE (Val): 39.67719103365726, 6.298983333336996, 0.822876274632959, 22.564123989178857\n",
      "RESULTADOS DE MSE, RMSE, R2, MAPE (Test): 57.249992140173404, 7.566372455818799, 0.7597670700797595, 24.280650475178078\n",
      "(9365, 77)\n",
      "SE HA NORMALIZADO EL ARCHIVO: Pinus wallichiana_merged.csv\n",
      "(5508, 4, 43) (1957, 4, 43) (1500, 4, 43)\n",
      "<LSTM name=lstm, built=True> False\n",
      "<LSTM name=lstm_1, built=True> False\n",
      "<LSTM name=lstm_2, built=True> False\n",
      "<Dropout name=dropout_1, built=True> True\n",
      "<LSTM name=lstm_3, built=True> True\n",
      "<Dense name=dense_2, built=True> True\n",
      "<Dropout name=dropout_2, built=True> True\n",
      "<Dense name=dense_3, built=True> True\n"
     ]
    },
    {
     "name": "stderr",
     "output_type": "stream",
     "text": [
      "/home/workstation/Escritorio/PabloC/TransferLearning/.venv/lib/python3.10/site-packages/keras/src/saving/saving_lib.py:719: UserWarning: Skipping variable loading for optimizer 'rmsprop', because it has 18 variables whereas the saved optimizer has 34 variables. \n",
      "  saveable.load_own_variables(weights_store.get(inner_path))\n"
     ]
    },
    {
     "name": "stdout",
     "output_type": "stream",
     "text": [
      "[MODELO CONGELADO]: 137.78105568885803\n"
     ]
    },
    {
     "name": "stderr",
     "output_type": "stream",
     "text": [
      "/home/workstation/Escritorio/PabloC/TransferLearning/funcionesComunes.py:191: FutureWarning: The behavior of DataFrame concatenation with empty or all-NA entries is deprecated. In a future version, this will no longer exclude empty or all-NA columns when determining the result dtypes. To retain the old behavior, exclude the relevant entries before the concat operation.\n",
      "  predictionsDF = pd.concat([predictionsDF, tempDF], ignore_index=True)\n",
      "/home/workstation/Escritorio/PabloC/TransferLearning/funcionesComunes.py:191: FutureWarning: The behavior of DataFrame concatenation with empty or all-NA entries is deprecated. In a future version, this will no longer exclude empty or all-NA columns when determining the result dtypes. To retain the old behavior, exclude the relevant entries before the concat operation.\n",
      "  predictionsDF = pd.concat([predictionsDF, tempDF], ignore_index=True)\n",
      "/home/workstation/Escritorio/PabloC/TransferLearning/funcionesComunes.py:191: FutureWarning: The behavior of DataFrame concatenation with empty or all-NA entries is deprecated. In a future version, this will no longer exclude empty or all-NA columns when determining the result dtypes. To retain the old behavior, exclude the relevant entries before the concat operation.\n",
      "  predictionsDF = pd.concat([predictionsDF, tempDF], ignore_index=True)\n"
     ]
    },
    {
     "name": "stdout",
     "output_type": "stream",
     "text": [
      "RESULTADOS DE MSE, RMSE, R2, MAPE (Train): 9.157708546407134, 3.0261706076173454, 0.8641527018794252, 16.645560978648106\n",
      "RESULTADOS DE MSE, RMSE, R2, MAPE (Val): 8.54394182021351, 2.923002192988146, 0.8570849180366135, 17.33169568448673\n",
      "RESULTADOS DE MSE, RMSE, R2, MAPE (Test): 12.629797914460081, 3.5538426969211905, 0.7004576117430132, 22.45158634963316\n",
      "(10101, 77)\n",
      "SE HA NORMALIZADO EL ARCHIVO: Pinus gerardiana_merged.csv\n",
      "(5767, 4, 43) (2181, 4, 43) (1745, 4, 43)\n",
      "<LSTM name=lstm, built=True> False\n",
      "<LSTM name=lstm_1, built=True> False\n",
      "<LSTM name=lstm_2, built=True> False\n",
      "<Dropout name=dropout_1, built=True> True\n",
      "<LSTM name=lstm_3, built=True> True\n",
      "<Dense name=dense_2, built=True> True\n",
      "<Dropout name=dropout_2, built=True> True\n",
      "<Dense name=dense_3, built=True> True\n"
     ]
    },
    {
     "name": "stderr",
     "output_type": "stream",
     "text": [
      "/home/workstation/Escritorio/PabloC/TransferLearning/.venv/lib/python3.10/site-packages/keras/src/saving/saving_lib.py:719: UserWarning: Skipping variable loading for optimizer 'rmsprop', because it has 18 variables whereas the saved optimizer has 34 variables. \n",
      "  saveable.load_own_variables(weights_store.get(inner_path))\n"
     ]
    },
    {
     "name": "stdout",
     "output_type": "stream",
     "text": [
      "[MODELO CONGELADO]: 132.80731511116028\n"
     ]
    },
    {
     "name": "stderr",
     "output_type": "stream",
     "text": [
      "/home/workstation/Escritorio/PabloC/TransferLearning/funcionesComunes.py:191: FutureWarning: The behavior of DataFrame concatenation with empty or all-NA entries is deprecated. In a future version, this will no longer exclude empty or all-NA columns when determining the result dtypes. To retain the old behavior, exclude the relevant entries before the concat operation.\n",
      "  predictionsDF = pd.concat([predictionsDF, tempDF], ignore_index=True)\n",
      "/home/workstation/Escritorio/PabloC/TransferLearning/funcionesComunes.py:191: FutureWarning: The behavior of DataFrame concatenation with empty or all-NA entries is deprecated. In a future version, this will no longer exclude empty or all-NA columns when determining the result dtypes. To retain the old behavior, exclude the relevant entries before the concat operation.\n",
      "  predictionsDF = pd.concat([predictionsDF, tempDF], ignore_index=True)\n",
      "/home/workstation/Escritorio/PabloC/TransferLearning/funcionesComunes.py:191: FutureWarning: The behavior of DataFrame concatenation with empty or all-NA entries is deprecated. In a future version, this will no longer exclude empty or all-NA columns when determining the result dtypes. To retain the old behavior, exclude the relevant entries before the concat operation.\n",
      "  predictionsDF = pd.concat([predictionsDF, tempDF], ignore_index=True)\n"
     ]
    },
    {
     "name": "stdout",
     "output_type": "stream",
     "text": [
      "RESULTADOS DE MSE, RMSE, R2, MAPE (Train): 10.136211643984904, 3.1837417677922475, 0.7388726906831392, 24.7595844590848\n",
      "RESULTADOS DE MSE, RMSE, R2, MAPE (Val): 12.281939565770562, 3.5045598248240197, 0.6896147191194554, 24.929726039085043\n",
      "RESULTADOS DE MSE, RMSE, R2, MAPE (Test): 9.486489125981043, 3.080014468469433, 0.7638734661140715, 23.556891291254097\n",
      "(1182, 77)\n",
      "SE HA NORMALIZADO EL ARCHIVO: Populus ciliata_merged.csv\n",
      "(705, 4, 43) (156, 4, 43) (265, 4, 43)\n",
      "<LSTM name=lstm, built=True> False\n",
      "<LSTM name=lstm_1, built=True> False\n",
      "<LSTM name=lstm_2, built=True> False\n",
      "<Dropout name=dropout_1, built=True> True\n",
      "<LSTM name=lstm_3, built=True> True\n",
      "<Dense name=dense_2, built=True> True\n",
      "<Dropout name=dropout_2, built=True> True\n",
      "<Dense name=dense_3, built=True> True\n"
     ]
    },
    {
     "name": "stderr",
     "output_type": "stream",
     "text": [
      "/home/workstation/Escritorio/PabloC/TransferLearning/.venv/lib/python3.10/site-packages/keras/src/saving/saving_lib.py:719: UserWarning: Skipping variable loading for optimizer 'rmsprop', because it has 18 variables whereas the saved optimizer has 34 variables. \n",
      "  saveable.load_own_variables(weights_store.get(inner_path))\n"
     ]
    },
    {
     "name": "stdout",
     "output_type": "stream",
     "text": [
      "[MODELO CONGELADO]: 26.633440732955933\n"
     ]
    },
    {
     "name": "stderr",
     "output_type": "stream",
     "text": [
      "/home/workstation/Escritorio/PabloC/TransferLearning/funcionesComunes.py:191: FutureWarning: The behavior of DataFrame concatenation with empty or all-NA entries is deprecated. In a future version, this will no longer exclude empty or all-NA columns when determining the result dtypes. To retain the old behavior, exclude the relevant entries before the concat operation.\n",
      "  predictionsDF = pd.concat([predictionsDF, tempDF], ignore_index=True)\n",
      "/home/workstation/Escritorio/PabloC/TransferLearning/funcionesComunes.py:191: FutureWarning: The behavior of DataFrame concatenation with empty or all-NA entries is deprecated. In a future version, this will no longer exclude empty or all-NA columns when determining the result dtypes. To retain the old behavior, exclude the relevant entries before the concat operation.\n",
      "  predictionsDF = pd.concat([predictionsDF, tempDF], ignore_index=True)\n",
      "/home/workstation/Escritorio/PabloC/TransferLearning/funcionesComunes.py:191: FutureWarning: The behavior of DataFrame concatenation with empty or all-NA entries is deprecated. In a future version, this will no longer exclude empty or all-NA columns when determining the result dtypes. To retain the old behavior, exclude the relevant entries before the concat operation.\n",
      "  predictionsDF = pd.concat([predictionsDF, tempDF], ignore_index=True)\n"
     ]
    },
    {
     "name": "stdout",
     "output_type": "stream",
     "text": [
      "RESULTADOS DE MSE, RMSE, R2, MAPE (Train): 100.99501460337919, 10.049627585307785, 0.7219245400456826, 26.01353424181383\n",
      "RESULTADOS DE MSE, RMSE, R2, MAPE (Val): 128.02794424873946, 11.314943404575184, 0.45449922926303166, 34.58894032790027\n",
      "RESULTADOS DE MSE, RMSE, R2, MAPE (Test): 70.92894758347579, 8.421932532588693, 0.6455853781534907, 30.42517479861623\n",
      "(3473, 77)\n",
      "SE HA NORMALIZADO EL ARCHIVO: Betula utilis_merged.csv\n",
      "(2059, 4, 43) (665, 4, 43) (593, 4, 43)\n",
      "<LSTM name=lstm, built=True> False\n",
      "<LSTM name=lstm_1, built=True> False\n",
      "<LSTM name=lstm_2, built=True> False\n",
      "<Dropout name=dropout_1, built=True> True\n",
      "<LSTM name=lstm_3, built=True> True\n",
      "<Dense name=dense_2, built=True> True\n",
      "<Dropout name=dropout_2, built=True> True\n",
      "<Dense name=dense_3, built=True> True\n"
     ]
    },
    {
     "name": "stderr",
     "output_type": "stream",
     "text": [
      "/home/workstation/Escritorio/PabloC/TransferLearning/.venv/lib/python3.10/site-packages/keras/src/saving/saving_lib.py:719: UserWarning: Skipping variable loading for optimizer 'rmsprop', because it has 18 variables whereas the saved optimizer has 34 variables. \n",
      "  saveable.load_own_variables(weights_store.get(inner_path))\n"
     ]
    },
    {
     "name": "stdout",
     "output_type": "stream",
     "text": [
      "[MODELO CONGELADO]: 54.62832951545715\n"
     ]
    },
    {
     "name": "stderr",
     "output_type": "stream",
     "text": [
      "/home/workstation/Escritorio/PabloC/TransferLearning/funcionesComunes.py:191: FutureWarning: The behavior of DataFrame concatenation with empty or all-NA entries is deprecated. In a future version, this will no longer exclude empty or all-NA columns when determining the result dtypes. To retain the old behavior, exclude the relevant entries before the concat operation.\n",
      "  predictionsDF = pd.concat([predictionsDF, tempDF], ignore_index=True)\n",
      "/home/workstation/Escritorio/PabloC/TransferLearning/funcionesComunes.py:191: FutureWarning: The behavior of DataFrame concatenation with empty or all-NA entries is deprecated. In a future version, this will no longer exclude empty or all-NA columns when determining the result dtypes. To retain the old behavior, exclude the relevant entries before the concat operation.\n",
      "  predictionsDF = pd.concat([predictionsDF, tempDF], ignore_index=True)\n",
      "/home/workstation/Escritorio/PabloC/TransferLearning/funcionesComunes.py:191: FutureWarning: The behavior of DataFrame concatenation with empty or all-NA entries is deprecated. In a future version, this will no longer exclude empty or all-NA columns when determining the result dtypes. To retain the old behavior, exclude the relevant entries before the concat operation.\n",
      "  predictionsDF = pd.concat([predictionsDF, tempDF], ignore_index=True)\n"
     ]
    },
    {
     "name": "stdout",
     "output_type": "stream",
     "text": [
      "RESULTADOS DE MSE, RMSE, R2, MAPE (Train): 1.5389102883432042, 1.2405282295631987, 0.7728179241206417, 25.119829160617314\n",
      "RESULTADOS DE MSE, RMSE, R2, MAPE (Val): 0.3923051391918058, 0.6263426691450981, 0.7957007306934276, 22.24411095666754\n",
      "RESULTADOS DE MSE, RMSE, R2, MAPE (Test): 0.3834801885553302, 0.6192577723011075, 0.8534531637781264, 22.3272244847852\n",
      "(20493, 77)\n",
      "SE HA NORMALIZADO EL ARCHIVO: Tsuga dumosa_merged.csv\n",
      "(11935, 4, 43) (4144, 4, 43) (3469, 4, 43)\n",
      "<LSTM name=lstm, built=True> False\n",
      "<LSTM name=lstm_1, built=True> False\n",
      "<LSTM name=lstm_2, built=True> False\n",
      "<Dropout name=dropout_1, built=True> True\n",
      "<LSTM name=lstm_3, built=True> True\n",
      "<Dense name=dense_2, built=True> True\n",
      "<Dropout name=dropout_2, built=True> True\n",
      "<Dense name=dense_3, built=True> True\n"
     ]
    },
    {
     "name": "stderr",
     "output_type": "stream",
     "text": [
      "/home/workstation/Escritorio/PabloC/TransferLearning/.venv/lib/python3.10/site-packages/keras/src/saving/saving_lib.py:719: UserWarning: Skipping variable loading for optimizer 'rmsprop', because it has 18 variables whereas the saved optimizer has 34 variables. \n",
      "  saveable.load_own_variables(weights_store.get(inner_path))\n"
     ]
    },
    {
     "name": "stdout",
     "output_type": "stream",
     "text": [
      "[MODELO CONGELADO]: 185.07345032691956\n"
     ]
    },
    {
     "name": "stderr",
     "output_type": "stream",
     "text": [
      "/home/workstation/Escritorio/PabloC/TransferLearning/funcionesComunes.py:191: FutureWarning: The behavior of DataFrame concatenation with empty or all-NA entries is deprecated. In a future version, this will no longer exclude empty or all-NA columns when determining the result dtypes. To retain the old behavior, exclude the relevant entries before the concat operation.\n",
      "  predictionsDF = pd.concat([predictionsDF, tempDF], ignore_index=True)\n",
      "/home/workstation/Escritorio/PabloC/TransferLearning/funcionesComunes.py:191: FutureWarning: The behavior of DataFrame concatenation with empty or all-NA entries is deprecated. In a future version, this will no longer exclude empty or all-NA columns when determining the result dtypes. To retain the old behavior, exclude the relevant entries before the concat operation.\n",
      "  predictionsDF = pd.concat([predictionsDF, tempDF], ignore_index=True)\n",
      "/home/workstation/Escritorio/PabloC/TransferLearning/funcionesComunes.py:191: FutureWarning: The behavior of DataFrame concatenation with empty or all-NA entries is deprecated. In a future version, this will no longer exclude empty or all-NA columns when determining the result dtypes. To retain the old behavior, exclude the relevant entries before the concat operation.\n",
      "  predictionsDF = pd.concat([predictionsDF, tempDF], ignore_index=True)\n"
     ]
    },
    {
     "name": "stdout",
     "output_type": "stream",
     "text": [
      "RESULTADOS DE MSE, RMSE, R2, MAPE (Train): 77.78467536328687, 8.819562084553114, 0.8002652069471308, 22.938320015898828\n",
      "RESULTADOS DE MSE, RMSE, R2, MAPE (Val): 80.67640086607237, 8.982004278894125, 0.7439852112138989, 23.566362078452055\n",
      "RESULTADOS DE MSE, RMSE, R2, MAPE (Test): 116.56972236523991, 10.79674591556363, 0.8097278109386961, 23.543033598633752\n",
      "(37273, 77)\n",
      "SE HA NORMALIZADO EL ARCHIVO: Cedrus deodara_merged.csv\n",
      "(22017, 4, 43) (7410, 4, 43) (6282, 4, 43)\n",
      "<LSTM name=lstm, built=True> False\n",
      "<LSTM name=lstm_1, built=True> False\n",
      "<LSTM name=lstm_2, built=True> False\n",
      "<Dropout name=dropout_1, built=True> True\n",
      "<LSTM name=lstm_3, built=True> True\n",
      "<Dense name=dense_2, built=True> True\n",
      "<Dropout name=dropout_2, built=True> True\n",
      "<Dense name=dense_3, built=True> True\n"
     ]
    },
    {
     "name": "stderr",
     "output_type": "stream",
     "text": [
      "/home/workstation/Escritorio/PabloC/TransferLearning/.venv/lib/python3.10/site-packages/keras/src/saving/saving_lib.py:719: UserWarning: Skipping variable loading for optimizer 'rmsprop', because it has 18 variables whereas the saved optimizer has 34 variables. \n",
      "  saveable.load_own_variables(weights_store.get(inner_path))\n"
     ]
    },
    {
     "name": "stdout",
     "output_type": "stream",
     "text": [
      "[MODELO CONGELADO]: 232.89229106903076\n"
     ]
    },
    {
     "name": "stderr",
     "output_type": "stream",
     "text": [
      "/home/workstation/Escritorio/PabloC/TransferLearning/funcionesComunes.py:191: FutureWarning: The behavior of DataFrame concatenation with empty or all-NA entries is deprecated. In a future version, this will no longer exclude empty or all-NA columns when determining the result dtypes. To retain the old behavior, exclude the relevant entries before the concat operation.\n",
      "  predictionsDF = pd.concat([predictionsDF, tempDF], ignore_index=True)\n",
      "/home/workstation/Escritorio/PabloC/TransferLearning/funcionesComunes.py:191: FutureWarning: The behavior of DataFrame concatenation with empty or all-NA entries is deprecated. In a future version, this will no longer exclude empty or all-NA columns when determining the result dtypes. To retain the old behavior, exclude the relevant entries before the concat operation.\n",
      "  predictionsDF = pd.concat([predictionsDF, tempDF], ignore_index=True)\n",
      "/home/workstation/Escritorio/PabloC/TransferLearning/funcionesComunes.py:191: FutureWarning: The behavior of DataFrame concatenation with empty or all-NA entries is deprecated. In a future version, this will no longer exclude empty or all-NA columns when determining the result dtypes. To retain the old behavior, exclude the relevant entries before the concat operation.\n",
      "  predictionsDF = pd.concat([predictionsDF, tempDF], ignore_index=True)\n"
     ]
    },
    {
     "name": "stdout",
     "output_type": "stream",
     "text": [
      "RESULTADOS DE MSE, RMSE, R2, MAPE (Train): 73.12097123755375, 8.551080121104803, 0.8288085722236826, 22.122347201191168\n",
      "RESULTADOS DE MSE, RMSE, R2, MAPE (Val): 98.72323690357403, 9.935956768403033, 0.7787170190883925, 24.03096198267942\n",
      "RESULTADOS DE MSE, RMSE, R2, MAPE (Test): 68.21833748626912, 8.25943929611866, 0.8064332223131194, 22.504545539445463\n",
      "(7264, 77)\n",
      "SE HA NORMALIZADO EL ARCHIVO: Juniperus spp. L._merged.csv\n",
      "(4216, 4, 43) (1524, 4, 43) (1188, 4, 43)\n",
      "<LSTM name=lstm, built=True> False\n",
      "<LSTM name=lstm_1, built=True> False\n",
      "<LSTM name=lstm_2, built=True> False\n",
      "<Dropout name=dropout_1, built=True> True\n",
      "<LSTM name=lstm_3, built=True> True\n",
      "<Dense name=dense_2, built=True> True\n",
      "<Dropout name=dropout_2, built=True> True\n",
      "<Dense name=dense_3, built=True> True\n"
     ]
    },
    {
     "name": "stderr",
     "output_type": "stream",
     "text": [
      "/home/workstation/Escritorio/PabloC/TransferLearning/.venv/lib/python3.10/site-packages/keras/src/saving/saving_lib.py:719: UserWarning: Skipping variable loading for optimizer 'rmsprop', because it has 18 variables whereas the saved optimizer has 34 variables. \n",
      "  saveable.load_own_variables(weights_store.get(inner_path))\n"
     ]
    },
    {
     "name": "stdout",
     "output_type": "stream",
     "text": [
      "[MODELO CONGELADO]: 53.50909996032715\n"
     ]
    },
    {
     "name": "stderr",
     "output_type": "stream",
     "text": [
      "/home/workstation/Escritorio/PabloC/TransferLearning/funcionesComunes.py:191: FutureWarning: The behavior of DataFrame concatenation with empty or all-NA entries is deprecated. In a future version, this will no longer exclude empty or all-NA columns when determining the result dtypes. To retain the old behavior, exclude the relevant entries before the concat operation.\n",
      "  predictionsDF = pd.concat([predictionsDF, tempDF], ignore_index=True)\n",
      "/home/workstation/Escritorio/PabloC/TransferLearning/funcionesComunes.py:191: FutureWarning: The behavior of DataFrame concatenation with empty or all-NA entries is deprecated. In a future version, this will no longer exclude empty or all-NA columns when determining the result dtypes. To retain the old behavior, exclude the relevant entries before the concat operation.\n",
      "  predictionsDF = pd.concat([predictionsDF, tempDF], ignore_index=True)\n",
      "/home/workstation/Escritorio/PabloC/TransferLearning/funcionesComunes.py:191: FutureWarning: The behavior of DataFrame concatenation with empty or all-NA entries is deprecated. In a future version, this will no longer exclude empty or all-NA columns when determining the result dtypes. To retain the old behavior, exclude the relevant entries before the concat operation.\n",
      "  predictionsDF = pd.concat([predictionsDF, tempDF], ignore_index=True)\n"
     ]
    },
    {
     "name": "stdout",
     "output_type": "stream",
     "text": [
      "RESULTADOS DE MSE, RMSE, R2, MAPE (Train): 1.9414922207619991, 1.393374400784656, 0.8451017482424488, 24.429381314508717\n",
      "RESULTADOS DE MSE, RMSE, R2, MAPE (Val): 0.734744664590409, 0.8571724824038678, 0.6739766225178563, 27.80812824922804\n",
      "RESULTADOS DE MSE, RMSE, R2, MAPE (Test): 3.154337914020961, 1.7760455833173205, 0.833606822438451, 25.719802497882306\n",
      "(5316, 77)\n",
      "SE HA NORMALIZADO EL ARCHIVO: Juniperus recurva_merged.csv\n",
      "(3188, 4, 43) (1082, 4, 43) (810, 4, 43)\n",
      "<LSTM name=lstm, built=True> False\n",
      "<LSTM name=lstm_1, built=True> False\n",
      "<LSTM name=lstm_2, built=True> False\n",
      "<Dropout name=dropout_1, built=True> True\n",
      "<LSTM name=lstm_3, built=True> True\n",
      "<Dense name=dense_2, built=True> True\n",
      "<Dropout name=dropout_2, built=True> True\n",
      "<Dense name=dense_3, built=True> True\n"
     ]
    },
    {
     "name": "stderr",
     "output_type": "stream",
     "text": [
      "/home/workstation/Escritorio/PabloC/TransferLearning/.venv/lib/python3.10/site-packages/keras/src/saving/saving_lib.py:719: UserWarning: Skipping variable loading for optimizer 'rmsprop', because it has 18 variables whereas the saved optimizer has 34 variables. \n",
      "  saveable.load_own_variables(weights_store.get(inner_path))\n"
     ]
    },
    {
     "name": "stdout",
     "output_type": "stream",
     "text": [
      "[MODELO CONGELADO]: 70.30706572532654\n"
     ]
    },
    {
     "name": "stderr",
     "output_type": "stream",
     "text": [
      "/home/workstation/Escritorio/PabloC/TransferLearning/funcionesComunes.py:191: FutureWarning: The behavior of DataFrame concatenation with empty or all-NA entries is deprecated. In a future version, this will no longer exclude empty or all-NA columns when determining the result dtypes. To retain the old behavior, exclude the relevant entries before the concat operation.\n",
      "  predictionsDF = pd.concat([predictionsDF, tempDF], ignore_index=True)\n",
      "/home/workstation/Escritorio/PabloC/TransferLearning/funcionesComunes.py:191: FutureWarning: The behavior of DataFrame concatenation with empty or all-NA entries is deprecated. In a future version, this will no longer exclude empty or all-NA columns when determining the result dtypes. To retain the old behavior, exclude the relevant entries before the concat operation.\n",
      "  predictionsDF = pd.concat([predictionsDF, tempDF], ignore_index=True)\n",
      "/home/workstation/Escritorio/PabloC/TransferLearning/funcionesComunes.py:191: FutureWarning: The behavior of DataFrame concatenation with empty or all-NA entries is deprecated. In a future version, this will no longer exclude empty or all-NA columns when determining the result dtypes. To retain the old behavior, exclude the relevant entries before the concat operation.\n",
      "  predictionsDF = pd.concat([predictionsDF, tempDF], ignore_index=True)\n"
     ]
    },
    {
     "name": "stdout",
     "output_type": "stream",
     "text": [
      "RESULTADOS DE MSE, RMSE, R2, MAPE (Train): 2.0959145265217507, 1.4477273660885708, 0.9167161066206887, 15.657683545142941\n",
      "RESULTADOS DE MSE, RMSE, R2, MAPE (Val): 2.696050907476143, 1.641965562207729, 0.9021025727160102, 18.33260872047523\n",
      "RESULTADOS DE MSE, RMSE, R2, MAPE (Test): 0.8759762310084348, 0.93593601865108, 0.906872996783911, 14.14824811048659\n",
      "(283755, 77)\n",
      "SE HA NORMALIZADO EL ARCHIVO: totalMerged.csv\n",
      "(165368, 4, 43) (58611, 4, 43) (47113, 4, 43)\n",
      "<LSTM name=lstm, built=True> False\n",
      "<LSTM name=lstm_1, built=True> False\n",
      "<LSTM name=lstm_2, built=True> False\n",
      "<Dropout name=dropout_1, built=True> True\n",
      "<LSTM name=lstm_3, built=True> True\n",
      "<Dense name=dense_2, built=True> True\n",
      "<Dropout name=dropout_2, built=True> True\n",
      "<Dense name=dense_3, built=True> True\n"
     ]
    },
    {
     "name": "stderr",
     "output_type": "stream",
     "text": [
      "/home/workstation/Escritorio/PabloC/TransferLearning/.venv/lib/python3.10/site-packages/keras/src/saving/saving_lib.py:719: UserWarning: Skipping variable loading for optimizer 'rmsprop', because it has 18 variables whereas the saved optimizer has 34 variables. \n",
      "  saveable.load_own_variables(weights_store.get(inner_path))\n"
     ]
    },
    {
     "name": "stdout",
     "output_type": "stream",
     "text": [
      "[MODELO CONGELADO]: 1987.3282899856567\n"
     ]
    },
    {
     "name": "stderr",
     "output_type": "stream",
     "text": [
      "/home/workstation/Escritorio/PabloC/TransferLearning/funcionesComunes.py:191: FutureWarning: The behavior of DataFrame concatenation with empty or all-NA entries is deprecated. In a future version, this will no longer exclude empty or all-NA columns when determining the result dtypes. To retain the old behavior, exclude the relevant entries before the concat operation.\n",
      "  predictionsDF = pd.concat([predictionsDF, tempDF], ignore_index=True)\n",
      "/home/workstation/Escritorio/PabloC/TransferLearning/funcionesComunes.py:191: FutureWarning: The behavior of DataFrame concatenation with empty or all-NA entries is deprecated. In a future version, this will no longer exclude empty or all-NA columns when determining the result dtypes. To retain the old behavior, exclude the relevant entries before the concat operation.\n",
      "  predictionsDF = pd.concat([predictionsDF, tempDF], ignore_index=True)\n",
      "/home/workstation/Escritorio/PabloC/TransferLearning/funcionesComunes.py:191: FutureWarning: The behavior of DataFrame concatenation with empty or all-NA entries is deprecated. In a future version, this will no longer exclude empty or all-NA columns when determining the result dtypes. To retain the old behavior, exclude the relevant entries before the concat operation.\n",
      "  predictionsDF = pd.concat([predictionsDF, tempDF], ignore_index=True)\n"
     ]
    },
    {
     "name": "stdout",
     "output_type": "stream",
     "text": [
      "RESULTADOS DE MSE, RMSE, R2, MAPE (Train): 29.59760901944765, 5.440368463573735, 0.8812132630170249, 19.52905712097018\n",
      "RESULTADOS DE MSE, RMSE, R2, MAPE (Val): 34.81018920274655, 5.900016034109276, 0.859859515307267, 21.044892594386756\n",
      "RESULTADOS DE MSE, RMSE, R2, MAPE (Test): 33.72671430448916, 5.807470559933056, 0.8664417550285881, 20.719505858055832\n",
      "(17976, 77)\n",
      "SE HA NORMALIZADO EL ARCHIVO: Juniperus spp. _merged.csv\n",
      "(10218, 4, 43) (3900, 4, 43) (3018, 4, 43)\n",
      "<LSTM name=lstm, built=True> False\n",
      "<LSTM name=lstm_1, built=True> False\n",
      "<LSTM name=lstm_2, built=True> False\n",
      "<Dropout name=dropout_1, built=True> True\n",
      "<LSTM name=lstm_3, built=True> True\n",
      "<Dense name=dense_2, built=True> True\n",
      "<Dropout name=dropout_2, built=True> True\n",
      "<Dense name=dense_3, built=True> True\n"
     ]
    },
    {
     "name": "stderr",
     "output_type": "stream",
     "text": [
      "/home/workstation/Escritorio/PabloC/TransferLearning/.venv/lib/python3.10/site-packages/keras/src/saving/saving_lib.py:719: UserWarning: Skipping variable loading for optimizer 'rmsprop', because it has 18 variables whereas the saved optimizer has 34 variables. \n",
      "  saveable.load_own_variables(weights_store.get(inner_path))\n"
     ]
    },
    {
     "name": "stdout",
     "output_type": "stream",
     "text": [
      "[MODELO CONGELADO]: 137.7366373538971\n"
     ]
    },
    {
     "name": "stderr",
     "output_type": "stream",
     "text": [
      "/home/workstation/Escritorio/PabloC/TransferLearning/funcionesComunes.py:191: FutureWarning: The behavior of DataFrame concatenation with empty or all-NA entries is deprecated. In a future version, this will no longer exclude empty or all-NA columns when determining the result dtypes. To retain the old behavior, exclude the relevant entries before the concat operation.\n",
      "  predictionsDF = pd.concat([predictionsDF, tempDF], ignore_index=True)\n",
      "/home/workstation/Escritorio/PabloC/TransferLearning/funcionesComunes.py:191: FutureWarning: The behavior of DataFrame concatenation with empty or all-NA entries is deprecated. In a future version, this will no longer exclude empty or all-NA columns when determining the result dtypes. To retain the old behavior, exclude the relevant entries before the concat operation.\n",
      "  predictionsDF = pd.concat([predictionsDF, tempDF], ignore_index=True)\n",
      "/home/workstation/Escritorio/PabloC/TransferLearning/funcionesComunes.py:191: FutureWarning: The behavior of DataFrame concatenation with empty or all-NA entries is deprecated. In a future version, this will no longer exclude empty or all-NA columns when determining the result dtypes. To retain the old behavior, exclude the relevant entries before the concat operation.\n",
      "  predictionsDF = pd.concat([predictionsDF, tempDF], ignore_index=True)\n"
     ]
    },
    {
     "name": "stdout",
     "output_type": "stream",
     "text": [
      "RESULTADOS DE MSE, RMSE, R2, MAPE (Train): 7.866423968169519, 2.804714596562281, 0.8717040148129338, 21.799637906897935\n",
      "RESULTADOS DE MSE, RMSE, R2, MAPE (Val): 3.158001087312235, 1.7770765564016184, 0.8394732392792952, 23.936873677033812\n",
      "RESULTADOS DE MSE, RMSE, R2, MAPE (Test): 10.336970617061363, 3.2151159570163816, 0.9010781398681826, 21.59677287568315\n"
     ]
    },
    {
     "data": {
      "text/html": [
       "<div>\n",
       "<style scoped>\n",
       "    .dataframe tbody tr th:only-of-type {\n",
       "        vertical-align: middle;\n",
       "    }\n",
       "\n",
       "    .dataframe tbody tr th {\n",
       "        vertical-align: top;\n",
       "    }\n",
       "\n",
       "    .dataframe thead th {\n",
       "        text-align: right;\n",
       "    }\n",
       "</style>\n",
       "<table border=\"1\" class=\"dataframe\">\n",
       "  <thead>\n",
       "    <tr style=\"text-align: right;\">\n",
       "      <th></th>\n",
       "      <th>File</th>\n",
       "      <th>Time</th>\n",
       "      <th>TrainMSE</th>\n",
       "      <th>TrainRMSE</th>\n",
       "      <th>TrainR2</th>\n",
       "      <th>TrainMAPE</th>\n",
       "      <th>ValidationMSE</th>\n",
       "      <th>ValidationRMSE</th>\n",
       "      <th>ValidationR2</th>\n",
       "      <th>ValidationMAPE</th>\n",
       "      <th>TestMSE</th>\n",
       "      <th>TestRMSE</th>\n",
       "      <th>TestR2</th>\n",
       "      <th>TestMAPE</th>\n",
       "    </tr>\n",
       "  </thead>\n",
       "  <tbody>\n",
       "    <tr>\n",
       "      <th>0</th>\n",
       "      <td>Abies spectabilis_merged.csv</td>\n",
       "      <td>629.656738</td>\n",
       "      <td>18.052146</td>\n",
       "      <td>4.248782</td>\n",
       "      <td>0.841620</td>\n",
       "      <td>20.773681</td>\n",
       "      <td>18.669856</td>\n",
       "      <td>4.320863</td>\n",
       "      <td>0.829887</td>\n",
       "      <td>21.598039</td>\n",
       "      <td>19.006251</td>\n",
       "      <td>4.359616</td>\n",
       "      <td>0.859045</td>\n",
       "      <td>20.799570</td>\n",
       "    </tr>\n",
       "    <tr>\n",
       "      <th>1</th>\n",
       "      <td>Picea smithiana_merged.csv</td>\n",
       "      <td>532.864744</td>\n",
       "      <td>55.249016</td>\n",
       "      <td>7.432968</td>\n",
       "      <td>0.838089</td>\n",
       "      <td>21.703452</td>\n",
       "      <td>60.392050</td>\n",
       "      <td>7.771232</td>\n",
       "      <td>0.825725</td>\n",
       "      <td>22.599518</td>\n",
       "      <td>57.548815</td>\n",
       "      <td>7.586094</td>\n",
       "      <td>0.805660</td>\n",
       "      <td>23.605684</td>\n",
       "    </tr>\n",
       "    <tr>\n",
       "      <th>2</th>\n",
       "      <td>Abies pindrow_merged.csv</td>\n",
       "      <td>94.485225</td>\n",
       "      <td>46.531370</td>\n",
       "      <td>6.821391</td>\n",
       "      <td>0.800272</td>\n",
       "      <td>20.916621</td>\n",
       "      <td>38.119413</td>\n",
       "      <td>6.174092</td>\n",
       "      <td>0.782548</td>\n",
       "      <td>19.580132</td>\n",
       "      <td>52.524785</td>\n",
       "      <td>7.247398</td>\n",
       "      <td>0.628665</td>\n",
       "      <td>20.890326</td>\n",
       "    </tr>\n",
       "    <tr>\n",
       "      <th>3</th>\n",
       "      <td>Juniperus excelsa M.-Bieb_merged.csv</td>\n",
       "      <td>70.077633</td>\n",
       "      <td>5.591929</td>\n",
       "      <td>2.364726</td>\n",
       "      <td>0.772699</td>\n",
       "      <td>23.860241</td>\n",
       "      <td>6.283398</td>\n",
       "      <td>2.506671</td>\n",
       "      <td>0.760375</td>\n",
       "      <td>25.750070</td>\n",
       "      <td>12.556333</td>\n",
       "      <td>3.543492</td>\n",
       "      <td>0.813842</td>\n",
       "      <td>25.012970</td>\n",
       "    </tr>\n",
       "    <tr>\n",
       "      <th>4</th>\n",
       "      <td>Juniperus turkestanica Komar._merged.csv</td>\n",
       "      <td>26.968911</td>\n",
       "      <td>3.214600</td>\n",
       "      <td>1.792930</td>\n",
       "      <td>0.928384</td>\n",
       "      <td>18.119509</td>\n",
       "      <td>2.185921</td>\n",
       "      <td>1.478486</td>\n",
       "      <td>0.872883</td>\n",
       "      <td>19.935133</td>\n",
       "      <td>1.094899</td>\n",
       "      <td>1.046374</td>\n",
       "      <td>0.798569</td>\n",
       "      <td>20.710972</td>\n",
       "    </tr>\n",
       "    <tr>\n",
       "      <th>5</th>\n",
       "      <td>Pinus roxburghii_merged.csv</td>\n",
       "      <td>128.075591</td>\n",
       "      <td>50.853994</td>\n",
       "      <td>7.131199</td>\n",
       "      <td>0.809347</td>\n",
       "      <td>21.873852</td>\n",
       "      <td>39.677191</td>\n",
       "      <td>6.298983</td>\n",
       "      <td>0.822876</td>\n",
       "      <td>22.564124</td>\n",
       "      <td>57.249992</td>\n",
       "      <td>7.566372</td>\n",
       "      <td>0.759767</td>\n",
       "      <td>24.280650</td>\n",
       "    </tr>\n",
       "    <tr>\n",
       "      <th>6</th>\n",
       "      <td>Pinus wallichiana_merged.csv</td>\n",
       "      <td>137.781056</td>\n",
       "      <td>9.157709</td>\n",
       "      <td>3.026171</td>\n",
       "      <td>0.864153</td>\n",
       "      <td>16.645561</td>\n",
       "      <td>8.543942</td>\n",
       "      <td>2.923002</td>\n",
       "      <td>0.857085</td>\n",
       "      <td>17.331696</td>\n",
       "      <td>12.629798</td>\n",
       "      <td>3.553843</td>\n",
       "      <td>0.700458</td>\n",
       "      <td>22.451586</td>\n",
       "    </tr>\n",
       "    <tr>\n",
       "      <th>7</th>\n",
       "      <td>Pinus gerardiana_merged.csv</td>\n",
       "      <td>132.807315</td>\n",
       "      <td>10.136212</td>\n",
       "      <td>3.183742</td>\n",
       "      <td>0.738873</td>\n",
       "      <td>24.759584</td>\n",
       "      <td>12.281940</td>\n",
       "      <td>3.504560</td>\n",
       "      <td>0.689615</td>\n",
       "      <td>24.929726</td>\n",
       "      <td>9.486489</td>\n",
       "      <td>3.080014</td>\n",
       "      <td>0.763873</td>\n",
       "      <td>23.556891</td>\n",
       "    </tr>\n",
       "    <tr>\n",
       "      <th>8</th>\n",
       "      <td>Populus ciliata_merged.csv</td>\n",
       "      <td>26.633441</td>\n",
       "      <td>100.995015</td>\n",
       "      <td>10.049628</td>\n",
       "      <td>0.721925</td>\n",
       "      <td>26.013534</td>\n",
       "      <td>128.027944</td>\n",
       "      <td>11.314943</td>\n",
       "      <td>0.454499</td>\n",
       "      <td>34.588940</td>\n",
       "      <td>70.928948</td>\n",
       "      <td>8.421933</td>\n",
       "      <td>0.645585</td>\n",
       "      <td>30.425175</td>\n",
       "    </tr>\n",
       "    <tr>\n",
       "      <th>9</th>\n",
       "      <td>Betula utilis_merged.csv</td>\n",
       "      <td>54.628330</td>\n",
       "      <td>1.538910</td>\n",
       "      <td>1.240528</td>\n",
       "      <td>0.772818</td>\n",
       "      <td>25.119829</td>\n",
       "      <td>0.392305</td>\n",
       "      <td>0.626343</td>\n",
       "      <td>0.795701</td>\n",
       "      <td>22.244111</td>\n",
       "      <td>0.383480</td>\n",
       "      <td>0.619258</td>\n",
       "      <td>0.853453</td>\n",
       "      <td>22.327224</td>\n",
       "    </tr>\n",
       "    <tr>\n",
       "      <th>10</th>\n",
       "      <td>Tsuga dumosa_merged.csv</td>\n",
       "      <td>185.073450</td>\n",
       "      <td>77.784675</td>\n",
       "      <td>8.819562</td>\n",
       "      <td>0.800265</td>\n",
       "      <td>22.938320</td>\n",
       "      <td>80.676401</td>\n",
       "      <td>8.982004</td>\n",
       "      <td>0.743985</td>\n",
       "      <td>23.566362</td>\n",
       "      <td>116.569722</td>\n",
       "      <td>10.796746</td>\n",
       "      <td>0.809728</td>\n",
       "      <td>23.543034</td>\n",
       "    </tr>\n",
       "    <tr>\n",
       "      <th>11</th>\n",
       "      <td>Cedrus deodara_merged.csv</td>\n",
       "      <td>232.892291</td>\n",
       "      <td>73.120971</td>\n",
       "      <td>8.551080</td>\n",
       "      <td>0.828809</td>\n",
       "      <td>22.122347</td>\n",
       "      <td>98.723237</td>\n",
       "      <td>9.935957</td>\n",
       "      <td>0.778717</td>\n",
       "      <td>24.030962</td>\n",
       "      <td>68.218337</td>\n",
       "      <td>8.259439</td>\n",
       "      <td>0.806433</td>\n",
       "      <td>22.504546</td>\n",
       "    </tr>\n",
       "    <tr>\n",
       "      <th>12</th>\n",
       "      <td>Juniperus spp. L._merged.csv</td>\n",
       "      <td>53.509100</td>\n",
       "      <td>1.941492</td>\n",
       "      <td>1.393374</td>\n",
       "      <td>0.845102</td>\n",
       "      <td>24.429381</td>\n",
       "      <td>0.734745</td>\n",
       "      <td>0.857172</td>\n",
       "      <td>0.673977</td>\n",
       "      <td>27.808128</td>\n",
       "      <td>3.154338</td>\n",
       "      <td>1.776046</td>\n",
       "      <td>0.833607</td>\n",
       "      <td>25.719802</td>\n",
       "    </tr>\n",
       "    <tr>\n",
       "      <th>13</th>\n",
       "      <td>Juniperus recurva_merged.csv</td>\n",
       "      <td>70.307066</td>\n",
       "      <td>2.095915</td>\n",
       "      <td>1.447727</td>\n",
       "      <td>0.916716</td>\n",
       "      <td>15.657684</td>\n",
       "      <td>2.696051</td>\n",
       "      <td>1.641966</td>\n",
       "      <td>0.902103</td>\n",
       "      <td>18.332609</td>\n",
       "      <td>0.875976</td>\n",
       "      <td>0.935936</td>\n",
       "      <td>0.906873</td>\n",
       "      <td>14.148248</td>\n",
       "    </tr>\n",
       "    <tr>\n",
       "      <th>14</th>\n",
       "      <td>totalMerged.csv</td>\n",
       "      <td>1987.328290</td>\n",
       "      <td>29.597609</td>\n",
       "      <td>5.440368</td>\n",
       "      <td>0.881213</td>\n",
       "      <td>19.529057</td>\n",
       "      <td>34.810189</td>\n",
       "      <td>5.900016</td>\n",
       "      <td>0.859860</td>\n",
       "      <td>21.044893</td>\n",
       "      <td>33.726714</td>\n",
       "      <td>5.807471</td>\n",
       "      <td>0.866442</td>\n",
       "      <td>20.719506</td>\n",
       "    </tr>\n",
       "    <tr>\n",
       "      <th>15</th>\n",
       "      <td>Juniperus spp. _merged.csv</td>\n",
       "      <td>137.736637</td>\n",
       "      <td>7.866424</td>\n",
       "      <td>2.804715</td>\n",
       "      <td>0.871704</td>\n",
       "      <td>21.799638</td>\n",
       "      <td>3.158001</td>\n",
       "      <td>1.777077</td>\n",
       "      <td>0.839473</td>\n",
       "      <td>23.936874</td>\n",
       "      <td>10.336971</td>\n",
       "      <td>3.215116</td>\n",
       "      <td>0.901078</td>\n",
       "      <td>21.596773</td>\n",
       "    </tr>\n",
       "  </tbody>\n",
       "</table>\n",
       "</div>"
      ],
      "text/plain": [
       "                                        File         Time    TrainMSE  \\\n",
       "0               Abies spectabilis_merged.csv   629.656738   18.052146   \n",
       "1                 Picea smithiana_merged.csv   532.864744   55.249016   \n",
       "2                   Abies pindrow_merged.csv    94.485225   46.531370   \n",
       "3       Juniperus excelsa M.-Bieb_merged.csv    70.077633    5.591929   \n",
       "4   Juniperus turkestanica Komar._merged.csv    26.968911    3.214600   \n",
       "5                Pinus roxburghii_merged.csv   128.075591   50.853994   \n",
       "6               Pinus wallichiana_merged.csv   137.781056    9.157709   \n",
       "7                Pinus gerardiana_merged.csv   132.807315   10.136212   \n",
       "8                 Populus ciliata_merged.csv    26.633441  100.995015   \n",
       "9                   Betula utilis_merged.csv    54.628330    1.538910   \n",
       "10                   Tsuga dumosa_merged.csv   185.073450   77.784675   \n",
       "11                 Cedrus deodara_merged.csv   232.892291   73.120971   \n",
       "12              Juniperus spp. L._merged.csv    53.509100    1.941492   \n",
       "13              Juniperus recurva_merged.csv    70.307066    2.095915   \n",
       "14                           totalMerged.csv  1987.328290   29.597609   \n",
       "15                Juniperus spp. _merged.csv   137.736637    7.866424   \n",
       "\n",
       "    TrainRMSE   TrainR2  TrainMAPE  ValidationMSE  ValidationRMSE  \\\n",
       "0    4.248782  0.841620  20.773681      18.669856        4.320863   \n",
       "1    7.432968  0.838089  21.703452      60.392050        7.771232   \n",
       "2    6.821391  0.800272  20.916621      38.119413        6.174092   \n",
       "3    2.364726  0.772699  23.860241       6.283398        2.506671   \n",
       "4    1.792930  0.928384  18.119509       2.185921        1.478486   \n",
       "5    7.131199  0.809347  21.873852      39.677191        6.298983   \n",
       "6    3.026171  0.864153  16.645561       8.543942        2.923002   \n",
       "7    3.183742  0.738873  24.759584      12.281940        3.504560   \n",
       "8   10.049628  0.721925  26.013534     128.027944       11.314943   \n",
       "9    1.240528  0.772818  25.119829       0.392305        0.626343   \n",
       "10   8.819562  0.800265  22.938320      80.676401        8.982004   \n",
       "11   8.551080  0.828809  22.122347      98.723237        9.935957   \n",
       "12   1.393374  0.845102  24.429381       0.734745        0.857172   \n",
       "13   1.447727  0.916716  15.657684       2.696051        1.641966   \n",
       "14   5.440368  0.881213  19.529057      34.810189        5.900016   \n",
       "15   2.804715  0.871704  21.799638       3.158001        1.777077   \n",
       "\n",
       "    ValidationR2  ValidationMAPE     TestMSE   TestRMSE    TestR2   TestMAPE  \n",
       "0       0.829887       21.598039   19.006251   4.359616  0.859045  20.799570  \n",
       "1       0.825725       22.599518   57.548815   7.586094  0.805660  23.605684  \n",
       "2       0.782548       19.580132   52.524785   7.247398  0.628665  20.890326  \n",
       "3       0.760375       25.750070   12.556333   3.543492  0.813842  25.012970  \n",
       "4       0.872883       19.935133    1.094899   1.046374  0.798569  20.710972  \n",
       "5       0.822876       22.564124   57.249992   7.566372  0.759767  24.280650  \n",
       "6       0.857085       17.331696   12.629798   3.553843  0.700458  22.451586  \n",
       "7       0.689615       24.929726    9.486489   3.080014  0.763873  23.556891  \n",
       "8       0.454499       34.588940   70.928948   8.421933  0.645585  30.425175  \n",
       "9       0.795701       22.244111    0.383480   0.619258  0.853453  22.327224  \n",
       "10      0.743985       23.566362  116.569722  10.796746  0.809728  23.543034  \n",
       "11      0.778717       24.030962   68.218337   8.259439  0.806433  22.504546  \n",
       "12      0.673977       27.808128    3.154338   1.776046  0.833607  25.719802  \n",
       "13      0.902103       18.332609    0.875976   0.935936  0.906873  14.148248  \n",
       "14      0.859860       21.044893   33.726714   5.807471  0.866442  20.719506  \n",
       "15      0.839473       23.936874   10.336971   3.215116  0.901078  21.596773  "
      ]
     },
     "execution_count": 154,
     "metadata": {},
     "output_type": "execute_result"
    }
   ],
   "source": [
    "# Creamos un df que contiene los resultados de los modelos freeze de cada especie\n",
    "df_Freeze = pd.DataFrame(columns = [\"File\", \"Time\", \"TrainMSE\", \"TrainRMSE\", \"TrainR2\", \"TrainMAPE\", \n",
    "                                    \"ValidationMSE\", \"ValidationRMSE\", \"ValidationR2\", \"ValidationMAPE\",\n",
    "                                    \"TestMSE\", \"TestRMSE\", \"TestR2\", \"TestMAPE\"])\n",
    "\n",
    "for archivo in os.listdir(\"RCPMerged\"):\n",
    "\n",
    "    # Cargar el archivo CSV con punto y coma como delimitador\n",
    "    df = pd.read_csv(f'RCPMerged/{archivo}')\n",
    "    df = df[~df[\"nametag\"].str.startswith(\"INDI005\")]\n",
    "\n",
    "    # Codificamos, normalización y split de datos\n",
    "    df = codification(df)\n",
    "    print(df.shape)\n",
    "\n",
    "    df, valorNormalizacion = individualNormalization(df)\n",
    "    print(f\"SE HA NORMALIZADO EL ARCHIVO: {archivo}\")\n",
    "\n",
    "    temp_df = df\n",
    "    train_data, val_data, test_data = split_population_individuals(temp_df, train_pct=0.80, val_pct_in_train=0.20, details=False)\n",
    "    train_data.shape, val_data.shape, test_data.shape\n",
    "\n",
    "    # Obtenemos X e y para los datasets de train, val y test \n",
    "    WINDOWS_SIZE = 3\n",
    "    X_train, y_train = df_to_X_y_ind_3(train_data, WINDOWS_SIZE)\n",
    "    X_val, y_val = df_to_X_y_ind_3(val_data, WINDOWS_SIZE)\n",
    "    X_test, y_test = df_to_X_y_ind_3(test_data, WINDOWS_SIZE)\n",
    "    print(X_train.shape, X_test.shape, X_val.shape)\n",
    "\n",
    "    # Cargamos el modelo global\n",
    "    modelLSTM = tf.keras.models.load_model(\"models/modelLSTM.keras\")\n",
    "    modelLSTMFreeze = modelLSTM\n",
    "\n",
    "    # Obtener el optimizador del modelo\n",
    "    optimizer = modelLSTMFreeze.optimizer\n",
    "\n",
    "    # Indicamos el numero de layers a entrenar\n",
    "    NUM_TRAINABLE = 1\n",
    "\n",
    "    numLSTM_layers = sum(1 for layer in modelLSTMFreeze.layers if \"lstm\" in layer.name)\n",
    "\n",
    "    numFreezeLayers = numLSTM_layers - NUM_TRAINABLE # Congelamos todas menos la útlima capa\n",
    "\n",
    "    numberLayersFreezed = 0\n",
    "\n",
    "    # Congelar las primeras 'numFreezeLayers' capas LSTM\n",
    "    for i, layer in enumerate(modelLSTMFreeze.layers):\n",
    "\n",
    "        if \"lstm\" in layer.name and numFreezeLayers>numberLayersFreezed:\n",
    "            numberLayersFreezed += 1\n",
    "            layer.trainable = False\n",
    "\n",
    "        print(layer, layer.trainable)\n",
    "\n",
    "    # Compilamos el modelo con los nuevos datos\n",
    "    modelLSTMFreeze.compile(optimizer=optimizer, loss=MeanSquaredError(), metrics=[\n",
    "                                MeanSquaredError(name='mse'),\n",
    "                                RootMeanSquaredError(name='rmse'),\n",
    "                                MeanAbsolutePercentageError(name='mape')\n",
    "                            ])\n",
    "    \n",
    "    # Comienza a medir el tiempo de entrenamiento\n",
    "    start_time = time.time()\n",
    "\n",
    "    historyLSTMTransfer = modelLSTMFreeze.fit(X_train, y_train, epochs=200, batch_size=24,\n",
    "                            validation_data=(X_val, y_val), callbacks=[EarlyStopping(monitor='val_loss', patience=10)], verbose=0)\n",
    "\n",
    "    # Finaliza la medición del tiempo de entrenamiento\n",
    "    end_time = time.time()\n",
    "    print(f\"[MODELO CONGELADO]: {end_time-start_time}\")\n",
    "\n",
    "    # Realizar predicciones y calcular métricas para el conjunto de entrenamiento\n",
    "    predictions_train = predictionForIndividuals(X_train, y_train, modelLSTMFreeze, 24)\n",
    "    predictions_train[\"PredictionsDenormalize\"] = predictions_train.apply(lambda row: desnormalizacionBAI(row, valorNormalizacion, \"Predictions\"), axis=1)\n",
    "    predictions_train[\"ActualDenormalize\"] = predictions_train.apply(lambda row: desnormalizacionBAI(row, valorNormalizacion, \"Actuals\"), axis=1)\n",
    "\n",
    "    train_mse = mean_squared_error(predictions_train[\"ActualDenormalize\"],predictions_train[\"PredictionsDenormalize\"])\n",
    "    train_rmse = np.sqrt(train_mse)\n",
    "    train_mape = (np.sum(np.abs(predictions_train[\"PredictionsDenormalize\"] - predictions_train[\"ActualDenormalize\"])) / np.sum(np.abs(predictions_train[\"ActualDenormalize\"]))) * 100\n",
    "    train_r2 = r2_score(predictions_train[\"ActualDenormalize\"], predictions_train[\"PredictionsDenormalize\"])\n",
    "\n",
    "    # Realizar predicciones y calcular métricas para el conjunto de validación\n",
    "    predictions_val = predictionForIndividuals(X_val, y_val, modelLSTMFreeze, 24)\n",
    "    predictions_val[\"PredictionsDenormalize\"] = predictions_val.apply(lambda row: desnormalizacionBAI(row, valorNormalizacion, \"Predictions\"), axis=1)\n",
    "    predictions_val[\"ActualDenormalize\"] = predictions_val.apply(lambda row: desnormalizacionBAI(row, valorNormalizacion, \"Actuals\"), axis=1)\n",
    "\n",
    "    val_mse = mean_squared_error(predictions_val[\"ActualDenormalize\"],predictions_val[\"PredictionsDenormalize\"])\n",
    "    val_rmse = np.sqrt(val_mse)\n",
    "    val_mape = (np.sum(np.abs(predictions_val[\"PredictionsDenormalize\"] - predictions_val[\"ActualDenormalize\"])) / np.sum(np.abs(predictions_val[\"ActualDenormalize\"]))) * 100\n",
    "    val_r2 = r2_score(predictions_val[\"ActualDenormalize\"], predictions_val[\"PredictionsDenormalize\"])\n",
    "\n",
    "    # Realizar predicciones y calcular métricas para el conjunto de prueba\n",
    "    predictions_test = predictionForIndividuals(X_test, y_test, modelLSTMFreeze, 24)\n",
    "    predictions_test[\"PredictionsDenormalize\"] = predictions_test.apply(lambda row: desnormalizacionBAI(row, valorNormalizacion, \"Predictions\"), axis=1)\n",
    "    predictions_test[\"ActualDenormalize\"] = predictions_test.apply(lambda row: desnormalizacionBAI(row, valorNormalizacion, \"Actuals\"), axis=1)\n",
    "\n",
    "    test_mse = mean_squared_error(predictions_test[\"ActualDenormalize\"],predictions_test[\"PredictionsDenormalize\"])\n",
    "    test_rmse = np.sqrt(test_mse)\n",
    "    test_mape = (np.sum(np.abs(predictions_test[\"PredictionsDenormalize\"] - predictions_test[\"ActualDenormalize\"])) / np.sum(np.abs(predictions_test[\"ActualDenormalize\"]))) * 100\n",
    "    test_r2 = r2_score(predictions_test[\"ActualDenormalize\"], predictions_test[\"PredictionsDenormalize\"])\n",
    "\n",
    "    print(f\"RESULTADOS DE MSE, RMSE, R2, MAPE (Train): {train_mse}, {train_rmse}, {train_r2}, {train_mape}\")\n",
    "    print(f\"RESULTADOS DE MSE, RMSE, R2, MAPE (Val): {val_mse}, {val_rmse}, {val_r2}, {val_mape}\")\n",
    "    print(f\"RESULTADOS DE MSE, RMSE, R2, MAPE (Test): {test_mse}, {test_rmse}, {test_r2}, {test_mape}\")\n",
    "\n",
    "    # Guardamos los datos calculados\n",
    "    df_Freeze.loc[len(df_Freeze)] = [archivo, end_time-start_time,train_mse, train_rmse, train_r2, train_mape, val_mse, val_rmse, val_r2, val_mape, test_mse, test_rmse, test_r2, test_mape]\n",
    "\n",
    "df_Freeze"
   ]
  },
  {
   "cell_type": "code",
   "execution_count": 156,
   "metadata": {},
   "outputs": [],
   "source": [
    "df_Freeze.to_csv(\"resultadosTransfer.csv\", index=False)"
   ]
  }
 ],
 "metadata": {
  "kernelspec": {
   "display_name": ".venv",
   "language": "python",
   "name": "python3"
  },
  "language_info": {
   "codemirror_mode": {
    "name": "ipython",
    "version": 3
   },
   "file_extension": ".py",
   "mimetype": "text/x-python",
   "name": "python",
   "nbconvert_exporter": "python",
   "pygments_lexer": "ipython3",
   "version": "3.10.12"
  }
 },
 "nbformat": 4,
 "nbformat_minor": 2
}
