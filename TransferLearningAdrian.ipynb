{
 "cells": [
  {
   "cell_type": "code",
   "execution_count": 185,
   "metadata": {},
   "outputs": [],
   "source": [
    "import numpy as np\n",
    "import pandas as pd\n",
    "import matplotlib as mpl\n",
    "import matplotlib.pyplot as plt\n",
    "from sklearn.preprocessing import LabelEncoder\n",
    "from sklearn.model_selection import train_test_split\n",
    "import tensorflow as tf\n",
    "import keras \n",
    "import os\n",
    "import json\n",
    "\n",
    "import random as python_random\n",
    "import time\n",
    "from sklearn.metrics import mean_squared_error, r2_score, mean_absolute_percentage_error\n",
    "\n",
    "from tensorflow.keras.models import Sequential\n",
    "from tensorflow.keras.layers import LSTM, Dropout, Dense\n",
    "from tensorflow.keras.callbacks import EarlyStopping, ModelCheckpoint\n",
    "from tensorflow.keras.metrics import MeanAbsolutePercentageError\n",
    "from tensorflow.keras.optimizers import Adam\n",
    "from tensorflow.keras.optimizers import SGD\n",
    "from tensorflow.keras.optimizers import RMSprop\n",
    "from tensorflow.keras.optimizers import AdamW\n",
    "from tensorflow.keras.losses import MeanSquaredError\n",
    "from tensorflow.keras.metrics import RootMeanSquaredError\n",
    "from tensorflow.keras.models import load_model\n",
    "\n",
    "from sklearn.neural_network import MLPRegressor\n",
    "from sklearn.ensemble import GradientBoostingRegressor\n",
    "from sklearn.svm import SVR\n",
    "from sklearn.ensemble import RandomForestRegressor\n",
    "\n",
    "from keras import layers, models\n",
    "\n",
    "np.random.seed(123)\n",
    "python_random.seed(123)\n",
    "tf.random.set_seed(1234)\n",
    "\n",
    "from funcionesComunes import *\n"
   ]
  },
  {
   "cell_type": "markdown",
   "metadata": {},
   "source": [
    "# Trasnfer Learning"
   ]
  },
  {
   "cell_type": "code",
   "execution_count": 227,
   "metadata": {},
   "outputs": [
    {
     "name": "stdout",
     "output_type": "stream",
     "text": [
      "Procesando el modelo: model_Pinus gerardiana.keras\n",
      "Abies spectabilis Pinus gerardiana\n",
      "(96429, 77)\n",
      "SE HA NORMALIZADO EL ARCHIVO: Abies spectabilis_merged.csv\n",
      "(56618, 4, 43) (19637, 4, 43) (15689, 4, 43)\n",
      "<LSTM name=lstm_106, built=True> False\n",
      "<Dropout name=dropout_58, built=True> True\n",
      "<LSTM name=lstm_107, built=True> True\n",
      "<Dense name=dense_58, built=True> True\n",
      "<Dropout name=dropout_59, built=True> True\n",
      "<Dense name=dense_59, built=True> True\n",
      "[MODELO CONGELADO]: 623.9431483745575\n"
     ]
    },
    {
     "name": "stderr",
     "output_type": "stream",
     "text": [
      "/home/workstation/Escritorio/PabloC/TransferLearning/funcionesComunes.py:191: FutureWarning: The behavior of DataFrame concatenation with empty or all-NA entries is deprecated. In a future version, this will no longer exclude empty or all-NA columns when determining the result dtypes. To retain the old behavior, exclude the relevant entries before the concat operation.\n",
      "  predictionsDF = pd.concat([predictionsDF, tempDF], ignore_index=True)\n",
      "/home/workstation/Escritorio/PabloC/TransferLearning/funcionesComunes.py:191: FutureWarning: The behavior of DataFrame concatenation with empty or all-NA entries is deprecated. In a future version, this will no longer exclude empty or all-NA columns when determining the result dtypes. To retain the old behavior, exclude the relevant entries before the concat operation.\n",
      "  predictionsDF = pd.concat([predictionsDF, tempDF], ignore_index=True)\n",
      "/home/workstation/Escritorio/PabloC/TransferLearning/funcionesComunes.py:191: FutureWarning: The behavior of DataFrame concatenation with empty or all-NA entries is deprecated. In a future version, this will no longer exclude empty or all-NA columns when determining the result dtypes. To retain the old behavior, exclude the relevant entries before the concat operation.\n",
      "  predictionsDF = pd.concat([predictionsDF, tempDF], ignore_index=True)\n"
     ]
    },
    {
     "name": "stdout",
     "output_type": "stream",
     "text": [
      "RESULTADOS DE MSE, RMSE, R2, MAPE (Train): 65.76907403315674, 8.109813440095694, 0.42297784389515736, 43.48150028966914\n",
      "RESULTADOS DE MSE, RMSE, R2, MAPE (Val): 68.62248153780297, 8.28386875425987, 0.3747363004208396, 44.29725816992263\n",
      "RESULTADOS DE MSE, RMSE, R2, MAPE (Test): 70.56011836836414, 8.400007045733005, 0.47670810330411184, 42.90733950893359\n",
      "Picea smithiana Pinus gerardiana\n",
      "(34476, 77)\n",
      "SE HA NORMALIZADO EL ARCHIVO: Picea smithiana_merged.csv\n",
      "(19933, 4, 43) (7272, 4, 43) (5863, 4, 43)\n",
      "<LSTM name=lstm_106, built=True> False\n",
      "<Dropout name=dropout_58, built=True> True\n",
      "<LSTM name=lstm_107, built=True> True\n",
      "<Dense name=dense_58, built=True> True\n",
      "<Dropout name=dropout_59, built=True> True\n",
      "<Dense name=dense_59, built=True> True\n",
      "[MODELO CONGELADO]: 312.68973088264465\n"
     ]
    },
    {
     "name": "stderr",
     "output_type": "stream",
     "text": [
      "/home/workstation/Escritorio/PabloC/TransferLearning/funcionesComunes.py:191: FutureWarning: The behavior of DataFrame concatenation with empty or all-NA entries is deprecated. In a future version, this will no longer exclude empty or all-NA columns when determining the result dtypes. To retain the old behavior, exclude the relevant entries before the concat operation.\n",
      "  predictionsDF = pd.concat([predictionsDF, tempDF], ignore_index=True)\n",
      "/home/workstation/Escritorio/PabloC/TransferLearning/funcionesComunes.py:191: FutureWarning: The behavior of DataFrame concatenation with empty or all-NA entries is deprecated. In a future version, this will no longer exclude empty or all-NA columns when determining the result dtypes. To retain the old behavior, exclude the relevant entries before the concat operation.\n",
      "  predictionsDF = pd.concat([predictionsDF, tempDF], ignore_index=True)\n",
      "/home/workstation/Escritorio/PabloC/TransferLearning/funcionesComunes.py:191: FutureWarning: The behavior of DataFrame concatenation with empty or all-NA entries is deprecated. In a future version, this will no longer exclude empty or all-NA columns when determining the result dtypes. To retain the old behavior, exclude the relevant entries before the concat operation.\n",
      "  predictionsDF = pd.concat([predictionsDF, tempDF], ignore_index=True)\n"
     ]
    },
    {
     "name": "stdout",
     "output_type": "stream",
     "text": [
      "RESULTADOS DE MSE, RMSE, R2, MAPE (Train): 182.3452376973931, 13.503526861431167, 0.4656238342728847, 39.39238511446368\n",
      "RESULTADOS DE MSE, RMSE, R2, MAPE (Val): 208.52884703400912, 14.440527934740098, 0.3982410750781795, 42.191203211013146\n",
      "RESULTADOS DE MSE, RMSE, R2, MAPE (Test): 214.18067729206908, 14.634912958130945, 0.276721046383806, 44.374605342784655\n",
      "Abies pindrow Pinus gerardiana\n",
      "(16018, 77)\n",
      "SE HA NORMALIZADO EL ARCHIVO: Abies pindrow_merged.csv\n",
      "(9042, 4, 43) (3441, 4, 43) (2815, 4, 43)\n",
      "<LSTM name=lstm_106, built=True> False\n",
      "<Dropout name=dropout_58, built=True> True\n",
      "<LSTM name=lstm_107, built=True> True\n",
      "<Dense name=dense_58, built=True> True\n",
      "<Dropout name=dropout_59, built=True> True\n",
      "<Dense name=dense_59, built=True> True\n",
      "[MODELO CONGELADO]: 50.32997393608093\n"
     ]
    },
    {
     "name": "stderr",
     "output_type": "stream",
     "text": [
      "/home/workstation/Escritorio/PabloC/TransferLearning/funcionesComunes.py:191: FutureWarning: The behavior of DataFrame concatenation with empty or all-NA entries is deprecated. In a future version, this will no longer exclude empty or all-NA columns when determining the result dtypes. To retain the old behavior, exclude the relevant entries before the concat operation.\n",
      "  predictionsDF = pd.concat([predictionsDF, tempDF], ignore_index=True)\n",
      "/home/workstation/Escritorio/PabloC/TransferLearning/funcionesComunes.py:191: FutureWarning: The behavior of DataFrame concatenation with empty or all-NA entries is deprecated. In a future version, this will no longer exclude empty or all-NA columns when determining the result dtypes. To retain the old behavior, exclude the relevant entries before the concat operation.\n",
      "  predictionsDF = pd.concat([predictionsDF, tempDF], ignore_index=True)\n",
      "/home/workstation/Escritorio/PabloC/TransferLearning/funcionesComunes.py:191: FutureWarning: The behavior of DataFrame concatenation with empty or all-NA entries is deprecated. In a future version, this will no longer exclude empty or all-NA columns when determining the result dtypes. To retain the old behavior, exclude the relevant entries before the concat operation.\n",
      "  predictionsDF = pd.concat([predictionsDF, tempDF], ignore_index=True)\n"
     ]
    },
    {
     "name": "stdout",
     "output_type": "stream",
     "text": [
      "RESULTADOS DE MSE, RMSE, R2, MAPE (Train): 167.5904000013522, 12.945671091193079, 0.28064846147952927, 43.97760627516382\n",
      "RESULTADOS DE MSE, RMSE, R2, MAPE (Val): 155.63447858358654, 12.475354848002784, 0.11218495400398276, 40.21891881038662\n",
      "RESULTADOS DE MSE, RMSE, R2, MAPE (Test): 318.85246071735014, 17.856440314837393, -1.2541967981423876, 52.15667814924731\n",
      "Juniperus excelsa M.-Bieb Pinus gerardiana\n",
      "(7449, 77)\n",
      "SE HA NORMALIZADO EL ARCHIVO: Juniperus excelsa M.-Bieb_merged.csv\n",
      "(4189, 4, 43) (1707, 4, 43) (1228, 4, 43)\n",
      "<LSTM name=lstm_106, built=True> False\n",
      "<Dropout name=dropout_58, built=True> True\n",
      "<LSTM name=lstm_107, built=True> True\n",
      "<Dense name=dense_58, built=True> True\n",
      "<Dropout name=dropout_59, built=True> True\n",
      "<Dense name=dense_59, built=True> True\n",
      "[MODELO CONGELADO]: 26.855229139328003\n"
     ]
    },
    {
     "name": "stderr",
     "output_type": "stream",
     "text": [
      "/home/workstation/Escritorio/PabloC/TransferLearning/funcionesComunes.py:191: FutureWarning: The behavior of DataFrame concatenation with empty or all-NA entries is deprecated. In a future version, this will no longer exclude empty or all-NA columns when determining the result dtypes. To retain the old behavior, exclude the relevant entries before the concat operation.\n",
      "  predictionsDF = pd.concat([predictionsDF, tempDF], ignore_index=True)\n",
      "/home/workstation/Escritorio/PabloC/TransferLearning/funcionesComunes.py:191: FutureWarning: The behavior of DataFrame concatenation with empty or all-NA entries is deprecated. In a future version, this will no longer exclude empty or all-NA columns when determining the result dtypes. To retain the old behavior, exclude the relevant entries before the concat operation.\n",
      "  predictionsDF = pd.concat([predictionsDF, tempDF], ignore_index=True)\n",
      "/home/workstation/Escritorio/PabloC/TransferLearning/funcionesComunes.py:191: FutureWarning: The behavior of DataFrame concatenation with empty or all-NA entries is deprecated. In a future version, this will no longer exclude empty or all-NA columns when determining the result dtypes. To retain the old behavior, exclude the relevant entries before the concat operation.\n",
      "  predictionsDF = pd.concat([predictionsDF, tempDF], ignore_index=True)\n"
     ]
    },
    {
     "name": "stdout",
     "output_type": "stream",
     "text": [
      "RESULTADOS DE MSE, RMSE, R2, MAPE (Train): 18.97495688449726, 4.356025353977782, 0.2287059015385221, 47.4820466988926\n",
      "RESULTADOS DE MSE, RMSE, R2, MAPE (Val): 22.150244568216053, 4.7064046328610605, 0.15527281097530077, 54.407958426798245\n",
      "RESULTADOS DE MSE, RMSE, R2, MAPE (Test): 82.39031607461136, 9.076911152733146, -0.22150490153276103, 68.8986753073262\n",
      "Juniperus turkestanica Komar. Pinus gerardiana\n",
      "(6305, 77)\n",
      "SE HA NORMALIZADO EL ARCHIVO: Juniperus turkestanica Komar._merged.csv\n",
      "(3664, 4, 43) (1368, 4, 43) (1001, 4, 43)\n",
      "<LSTM name=lstm_106, built=True> False\n",
      "<Dropout name=dropout_58, built=True> True\n",
      "<LSTM name=lstm_107, built=True> True\n",
      "<Dense name=dense_58, built=True> True\n",
      "<Dropout name=dropout_59, built=True> True\n",
      "<Dense name=dense_59, built=True> True\n",
      "[MODELO CONGELADO]: 26.06582522392273\n"
     ]
    },
    {
     "name": "stderr",
     "output_type": "stream",
     "text": [
      "/home/workstation/Escritorio/PabloC/TransferLearning/funcionesComunes.py:191: FutureWarning: The behavior of DataFrame concatenation with empty or all-NA entries is deprecated. In a future version, this will no longer exclude empty or all-NA columns when determining the result dtypes. To retain the old behavior, exclude the relevant entries before the concat operation.\n",
      "  predictionsDF = pd.concat([predictionsDF, tempDF], ignore_index=True)\n",
      "/home/workstation/Escritorio/PabloC/TransferLearning/funcionesComunes.py:191: FutureWarning: The behavior of DataFrame concatenation with empty or all-NA entries is deprecated. In a future version, this will no longer exclude empty or all-NA columns when determining the result dtypes. To retain the old behavior, exclude the relevant entries before the concat operation.\n",
      "  predictionsDF = pd.concat([predictionsDF, tempDF], ignore_index=True)\n",
      "/home/workstation/Escritorio/PabloC/TransferLearning/funcionesComunes.py:191: FutureWarning: The behavior of DataFrame concatenation with empty or all-NA entries is deprecated. In a future version, this will no longer exclude empty or all-NA columns when determining the result dtypes. To retain the old behavior, exclude the relevant entries before the concat operation.\n",
      "  predictionsDF = pd.concat([predictionsDF, tempDF], ignore_index=True)\n"
     ]
    },
    {
     "name": "stdout",
     "output_type": "stream",
     "text": [
      "RESULTADOS DE MSE, RMSE, R2, MAPE (Train): 9.359069944100167, 3.0592597052391883, 0.7914960577154994, 31.320169459606028\n",
      "RESULTADOS DE MSE, RMSE, R2, MAPE (Val): 8.733554721278205, 2.955258824752615, 0.4921201288159518, 41.07210479637903\n",
      "RESULTADOS DE MSE, RMSE, R2, MAPE (Test): 2.578081459463795, 1.6056405137713097, 0.525705019061343, 32.65820722461847\n",
      "Pinus roxburghii Pinus gerardiana\n",
      "(10635, 77)\n",
      "SE HA NORMALIZADO EL ARCHIVO: Pinus roxburghii_merged.csv\n",
      "(6309, 4, 43) (2167, 4, 43) (1647, 4, 43)\n",
      "<LSTM name=lstm_106, built=True> False\n",
      "<Dropout name=dropout_58, built=True> True\n",
      "<LSTM name=lstm_107, built=True> True\n",
      "<Dense name=dense_58, built=True> True\n",
      "<Dropout name=dropout_59, built=True> True\n",
      "<Dense name=dense_59, built=True> True\n",
      "[MODELO CONGELADO]: 148.23885893821716\n"
     ]
    },
    {
     "name": "stderr",
     "output_type": "stream",
     "text": [
      "/home/workstation/Escritorio/PabloC/TransferLearning/funcionesComunes.py:191: FutureWarning: The behavior of DataFrame concatenation with empty or all-NA entries is deprecated. In a future version, this will no longer exclude empty or all-NA columns when determining the result dtypes. To retain the old behavior, exclude the relevant entries before the concat operation.\n",
      "  predictionsDF = pd.concat([predictionsDF, tempDF], ignore_index=True)\n",
      "/home/workstation/Escritorio/PabloC/TransferLearning/funcionesComunes.py:191: FutureWarning: The behavior of DataFrame concatenation with empty or all-NA entries is deprecated. In a future version, this will no longer exclude empty or all-NA columns when determining the result dtypes. To retain the old behavior, exclude the relevant entries before the concat operation.\n",
      "  predictionsDF = pd.concat([predictionsDF, tempDF], ignore_index=True)\n",
      "/home/workstation/Escritorio/PabloC/TransferLearning/funcionesComunes.py:191: FutureWarning: The behavior of DataFrame concatenation with empty or all-NA entries is deprecated. In a future version, this will no longer exclude empty or all-NA columns when determining the result dtypes. To retain the old behavior, exclude the relevant entries before the concat operation.\n",
      "  predictionsDF = pd.concat([predictionsDF, tempDF], ignore_index=True)\n"
     ]
    },
    {
     "name": "stdout",
     "output_type": "stream",
     "text": [
      "RESULTADOS DE MSE, RMSE, R2, MAPE (Train): 157.9963578373353, 12.569660211689706, 0.4076661183667285, 40.445997862060025\n",
      "RESULTADOS DE MSE, RMSE, R2, MAPE (Val): 133.12321324324628, 11.537903329602232, 0.4057220572274629, 42.0825535750721\n",
      "RESULTADOS DE MSE, RMSE, R2, MAPE (Test): 149.40861211358123, 12.2232815607586, 0.3730502432999351, 42.40222926793908\n",
      "Pinus wallichiana Pinus gerardiana\n",
      "(9365, 77)\n",
      "SE HA NORMALIZADO EL ARCHIVO: Pinus wallichiana_merged.csv\n",
      "(5508, 4, 43) (1957, 4, 43) (1500, 4, 43)\n",
      "<LSTM name=lstm_106, built=True> False\n",
      "<Dropout name=dropout_58, built=True> True\n",
      "<LSTM name=lstm_107, built=True> True\n",
      "<Dense name=dense_58, built=True> True\n",
      "<Dropout name=dropout_59, built=True> True\n",
      "<Dense name=dense_59, built=True> True\n",
      "[MODELO CONGELADO]: 175.41640424728394\n"
     ]
    },
    {
     "name": "stderr",
     "output_type": "stream",
     "text": [
      "/home/workstation/Escritorio/PabloC/TransferLearning/funcionesComunes.py:191: FutureWarning: The behavior of DataFrame concatenation with empty or all-NA entries is deprecated. In a future version, this will no longer exclude empty or all-NA columns when determining the result dtypes. To retain the old behavior, exclude the relevant entries before the concat operation.\n",
      "  predictionsDF = pd.concat([predictionsDF, tempDF], ignore_index=True)\n",
      "/home/workstation/Escritorio/PabloC/TransferLearning/funcionesComunes.py:191: FutureWarning: The behavior of DataFrame concatenation with empty or all-NA entries is deprecated. In a future version, this will no longer exclude empty or all-NA columns when determining the result dtypes. To retain the old behavior, exclude the relevant entries before the concat operation.\n",
      "  predictionsDF = pd.concat([predictionsDF, tempDF], ignore_index=True)\n",
      "/home/workstation/Escritorio/PabloC/TransferLearning/funcionesComunes.py:191: FutureWarning: The behavior of DataFrame concatenation with empty or all-NA entries is deprecated. In a future version, this will no longer exclude empty or all-NA columns when determining the result dtypes. To retain the old behavior, exclude the relevant entries before the concat operation.\n",
      "  predictionsDF = pd.concat([predictionsDF, tempDF], ignore_index=True)\n"
     ]
    },
    {
     "name": "stdout",
     "output_type": "stream",
     "text": [
      "RESULTADOS DE MSE, RMSE, R2, MAPE (Train): 21.724739788845987, 4.660980560874073, 0.6777308223196136, 27.355969144697497\n",
      "RESULTADOS DE MSE, RMSE, R2, MAPE (Val): 19.35664396102576, 4.399618615405858, 0.6762201315929657, 29.910906124007887\n",
      "RESULTADOS DE MSE, RMSE, R2, MAPE (Test): 43.26840290690781, 6.577872217283322, -0.026201751649704397, 43.11872735030931\n",
      "Pinus gerardiana Pinus gerardiana\n",
      "Populus ciliata Pinus gerardiana\n",
      "(1182, 77)\n",
      "SE HA NORMALIZADO EL ARCHIVO: Populus ciliata_merged.csv\n",
      "(705, 4, 43) (156, 4, 43) (265, 4, 43)\n",
      "<LSTM name=lstm_106, built=True> False\n",
      "<Dropout name=dropout_58, built=True> True\n",
      "<LSTM name=lstm_107, built=True> True\n",
      "<Dense name=dense_58, built=True> True\n",
      "<Dropout name=dropout_59, built=True> True\n",
      "<Dense name=dense_59, built=True> True\n",
      "[MODELO CONGELADO]: 12.504865646362305\n"
     ]
    },
    {
     "name": "stderr",
     "output_type": "stream",
     "text": [
      "/home/workstation/Escritorio/PabloC/TransferLearning/funcionesComunes.py:191: FutureWarning: The behavior of DataFrame concatenation with empty or all-NA entries is deprecated. In a future version, this will no longer exclude empty or all-NA columns when determining the result dtypes. To retain the old behavior, exclude the relevant entries before the concat operation.\n",
      "  predictionsDF = pd.concat([predictionsDF, tempDF], ignore_index=True)\n",
      "/home/workstation/Escritorio/PabloC/TransferLearning/funcionesComunes.py:191: FutureWarning: The behavior of DataFrame concatenation with empty or all-NA entries is deprecated. In a future version, this will no longer exclude empty or all-NA columns when determining the result dtypes. To retain the old behavior, exclude the relevant entries before the concat operation.\n",
      "  predictionsDF = pd.concat([predictionsDF, tempDF], ignore_index=True)\n",
      "/home/workstation/Escritorio/PabloC/TransferLearning/funcionesComunes.py:191: FutureWarning: The behavior of DataFrame concatenation with empty or all-NA entries is deprecated. In a future version, this will no longer exclude empty or all-NA columns when determining the result dtypes. To retain the old behavior, exclude the relevant entries before the concat operation.\n",
      "  predictionsDF = pd.concat([predictionsDF, tempDF], ignore_index=True)\n"
     ]
    },
    {
     "name": "stdout",
     "output_type": "stream",
     "text": [
      "RESULTADOS DE MSE, RMSE, R2, MAPE (Train): 168.5561794063448, 12.982918755285532, 0.5359044473568155, 36.824318395486095\n",
      "RESULTADOS DE MSE, RMSE, R2, MAPE (Val): 226.6559831072924, 15.055098243030246, 0.03426541601763933, 47.24260250814504\n",
      "RESULTADOS DE MSE, RMSE, R2, MAPE (Test): 67.78171578243585, 8.232965187733752, 0.6613113265374864, 30.780816072376048\n",
      "Betula utilis Pinus gerardiana\n",
      "(3473, 77)\n",
      "SE HA NORMALIZADO EL ARCHIVO: Betula utilis_merged.csv\n",
      "(2059, 4, 43) (665, 4, 43) (593, 4, 43)\n",
      "<LSTM name=lstm_106, built=True> False\n",
      "<Dropout name=dropout_58, built=True> True\n",
      "<LSTM name=lstm_107, built=True> True\n",
      "<Dense name=dense_58, built=True> True\n",
      "<Dropout name=dropout_59, built=True> True\n",
      "<Dense name=dense_59, built=True> True\n",
      "[MODELO CONGELADO]: 13.471977949142456\n"
     ]
    },
    {
     "name": "stderr",
     "output_type": "stream",
     "text": [
      "/home/workstation/Escritorio/PabloC/TransferLearning/funcionesComunes.py:191: FutureWarning: The behavior of DataFrame concatenation with empty or all-NA entries is deprecated. In a future version, this will no longer exclude empty or all-NA columns when determining the result dtypes. To retain the old behavior, exclude the relevant entries before the concat operation.\n",
      "  predictionsDF = pd.concat([predictionsDF, tempDF], ignore_index=True)\n",
      "/home/workstation/Escritorio/PabloC/TransferLearning/funcionesComunes.py:191: FutureWarning: The behavior of DataFrame concatenation with empty or all-NA entries is deprecated. In a future version, this will no longer exclude empty or all-NA columns when determining the result dtypes. To retain the old behavior, exclude the relevant entries before the concat operation.\n",
      "  predictionsDF = pd.concat([predictionsDF, tempDF], ignore_index=True)\n",
      "/home/workstation/Escritorio/PabloC/TransferLearning/funcionesComunes.py:191: FutureWarning: The behavior of DataFrame concatenation with empty or all-NA entries is deprecated. In a future version, this will no longer exclude empty or all-NA columns when determining the result dtypes. To retain the old behavior, exclude the relevant entries before the concat operation.\n",
      "  predictionsDF = pd.concat([predictionsDF, tempDF], ignore_index=True)\n"
     ]
    },
    {
     "name": "stdout",
     "output_type": "stream",
     "text": [
      "RESULTADOS DE MSE, RMSE, R2, MAPE (Train): 4.593944908815527, 2.1433489937048344, 0.3218175557304701, 54.395164714822606\n",
      "RESULTADOS DE MSE, RMSE, R2, MAPE (Val): 1.389327711671007, 1.1786974640131398, 0.27648504195866597, 43.351215323210496\n",
      "RESULTADOS DE MSE, RMSE, R2, MAPE (Test): 1.2779031459063481, 1.130443782727097, 0.5116497054618139, 42.991148277923195\n",
      "Tsuga dumosa Pinus gerardiana\n",
      "(20493, 77)\n",
      "SE HA NORMALIZADO EL ARCHIVO: Tsuga dumosa_merged.csv\n",
      "(11935, 4, 43) (4144, 4, 43) (3469, 4, 43)\n",
      "<LSTM name=lstm_106, built=True> False\n",
      "<Dropout name=dropout_58, built=True> True\n",
      "<LSTM name=lstm_107, built=True> True\n",
      "<Dense name=dense_58, built=True> True\n",
      "<Dropout name=dropout_59, built=True> True\n",
      "<Dense name=dense_59, built=True> True\n",
      "[MODELO CONGELADO]: 159.18518805503845\n"
     ]
    },
    {
     "name": "stderr",
     "output_type": "stream",
     "text": [
      "/home/workstation/Escritorio/PabloC/TransferLearning/funcionesComunes.py:191: FutureWarning: The behavior of DataFrame concatenation with empty or all-NA entries is deprecated. In a future version, this will no longer exclude empty or all-NA columns when determining the result dtypes. To retain the old behavior, exclude the relevant entries before the concat operation.\n",
      "  predictionsDF = pd.concat([predictionsDF, tempDF], ignore_index=True)\n",
      "/home/workstation/Escritorio/PabloC/TransferLearning/funcionesComunes.py:191: FutureWarning: The behavior of DataFrame concatenation with empty or all-NA entries is deprecated. In a future version, this will no longer exclude empty or all-NA columns when determining the result dtypes. To retain the old behavior, exclude the relevant entries before the concat operation.\n",
      "  predictionsDF = pd.concat([predictionsDF, tempDF], ignore_index=True)\n",
      "/home/workstation/Escritorio/PabloC/TransferLearning/funcionesComunes.py:191: FutureWarning: The behavior of DataFrame concatenation with empty or all-NA entries is deprecated. In a future version, this will no longer exclude empty or all-NA columns when determining the result dtypes. To retain the old behavior, exclude the relevant entries before the concat operation.\n",
      "  predictionsDF = pd.concat([predictionsDF, tempDF], ignore_index=True)\n"
     ]
    },
    {
     "name": "stdout",
     "output_type": "stream",
     "text": [
      "RESULTADOS DE MSE, RMSE, R2, MAPE (Train): 236.66628486633553, 15.383961936586282, 0.39229043240720607, 43.34470410090126\n",
      "RESULTADOS DE MSE, RMSE, R2, MAPE (Val): 200.072453844744, 14.14469702202009, 0.3650992550100266, 40.44300464526734\n",
      "RESULTADOS DE MSE, RMSE, R2, MAPE (Test): 387.85007895448985, 19.69390969194512, 0.36692751725832384, 45.61403065975475\n",
      "Cedrus deodara Pinus gerardiana\n",
      "(37273, 77)\n",
      "SE HA NORMALIZADO EL ARCHIVO: Cedrus deodara_merged.csv\n",
      "(22017, 4, 43) (7410, 4, 43) (6282, 4, 43)\n",
      "<LSTM name=lstm_106, built=True> False\n",
      "<Dropout name=dropout_58, built=True> True\n",
      "<LSTM name=lstm_107, built=True> True\n",
      "<Dense name=dense_58, built=True> True\n",
      "<Dropout name=dropout_59, built=True> True\n",
      "<Dense name=dense_59, built=True> True\n",
      "[MODELO CONGELADO]: 409.1076591014862\n"
     ]
    },
    {
     "name": "stderr",
     "output_type": "stream",
     "text": [
      "/home/workstation/Escritorio/PabloC/TransferLearning/funcionesComunes.py:191: FutureWarning: The behavior of DataFrame concatenation with empty or all-NA entries is deprecated. In a future version, this will no longer exclude empty or all-NA columns when determining the result dtypes. To retain the old behavior, exclude the relevant entries before the concat operation.\n",
      "  predictionsDF = pd.concat([predictionsDF, tempDF], ignore_index=True)\n",
      "/home/workstation/Escritorio/PabloC/TransferLearning/funcionesComunes.py:191: FutureWarning: The behavior of DataFrame concatenation with empty or all-NA entries is deprecated. In a future version, this will no longer exclude empty or all-NA columns when determining the result dtypes. To retain the old behavior, exclude the relevant entries before the concat operation.\n",
      "  predictionsDF = pd.concat([predictionsDF, tempDF], ignore_index=True)\n",
      "/home/workstation/Escritorio/PabloC/TransferLearning/funcionesComunes.py:191: FutureWarning: The behavior of DataFrame concatenation with empty or all-NA entries is deprecated. In a future version, this will no longer exclude empty or all-NA columns when determining the result dtypes. To retain the old behavior, exclude the relevant entries before the concat operation.\n",
      "  predictionsDF = pd.concat([predictionsDF, tempDF], ignore_index=True)\n"
     ]
    },
    {
     "name": "stdout",
     "output_type": "stream",
     "text": [
      "RESULTADOS DE MSE, RMSE, R2, MAPE (Train): 204.49366074102235, 14.300127997365001, 0.5212377357553183, 38.14989344242752\n",
      "RESULTADOS DE MSE, RMSE, R2, MAPE (Val): 259.8237513333104, 16.119049330941028, 0.4176186274886038, 41.39814668190871\n",
      "RESULTADOS DE MSE, RMSE, R2, MAPE (Test): 193.55134578005865, 13.912273206778922, 0.4508058727296588, 38.66527606356319\n",
      "Juniperus spp. L. Pinus gerardiana\n",
      "(7264, 77)\n",
      "SE HA NORMALIZADO EL ARCHIVO: Juniperus spp. L._merged.csv\n",
      "(4216, 4, 43) (1524, 4, 43) (1188, 4, 43)\n",
      "<LSTM name=lstm_106, built=True> False\n",
      "<Dropout name=dropout_58, built=True> True\n",
      "<LSTM name=lstm_107, built=True> True\n",
      "<Dense name=dense_58, built=True> True\n",
      "<Dropout name=dropout_59, built=True> True\n",
      "<Dense name=dense_59, built=True> True\n",
      "[MODELO CONGELADO]: 9.300809383392334\n"
     ]
    },
    {
     "name": "stderr",
     "output_type": "stream",
     "text": [
      "/home/workstation/Escritorio/PabloC/TransferLearning/funcionesComunes.py:191: FutureWarning: The behavior of DataFrame concatenation with empty or all-NA entries is deprecated. In a future version, this will no longer exclude empty or all-NA columns when determining the result dtypes. To retain the old behavior, exclude the relevant entries before the concat operation.\n",
      "  predictionsDF = pd.concat([predictionsDF, tempDF], ignore_index=True)\n",
      "/home/workstation/Escritorio/PabloC/TransferLearning/funcionesComunes.py:191: FutureWarning: The behavior of DataFrame concatenation with empty or all-NA entries is deprecated. In a future version, this will no longer exclude empty or all-NA columns when determining the result dtypes. To retain the old behavior, exclude the relevant entries before the concat operation.\n",
      "  predictionsDF = pd.concat([predictionsDF, tempDF], ignore_index=True)\n",
      "/home/workstation/Escritorio/PabloC/TransferLearning/funcionesComunes.py:191: FutureWarning: The behavior of DataFrame concatenation with empty or all-NA entries is deprecated. In a future version, this will no longer exclude empty or all-NA columns when determining the result dtypes. To retain the old behavior, exclude the relevant entries before the concat operation.\n",
      "  predictionsDF = pd.concat([predictionsDF, tempDF], ignore_index=True)\n"
     ]
    },
    {
     "name": "stdout",
     "output_type": "stream",
     "text": [
      "RESULTADOS DE MSE, RMSE, R2, MAPE (Train): 4.503231599525679, 2.12208190217194, 0.6407182606417469, 38.80088612050286\n",
      "RESULTADOS DE MSE, RMSE, R2, MAPE (Val): 1.5793275606472907, 1.2567129985192684, 0.29921545499088453, 43.55864771995118\n",
      "RESULTADOS DE MSE, RMSE, R2, MAPE (Test): 14.99638144097624, 3.872516164069072, 0.2089320713555941, 54.53311173590707\n",
      "Juniperus recurva Pinus gerardiana\n",
      "(5316, 77)\n",
      "SE HA NORMALIZADO EL ARCHIVO: Juniperus recurva_merged.csv\n",
      "(3188, 4, 43) (1082, 4, 43) (810, 4, 43)\n",
      "<LSTM name=lstm_106, built=True> False\n",
      "<Dropout name=dropout_58, built=True> True\n",
      "<LSTM name=lstm_107, built=True> True\n",
      "<Dense name=dense_58, built=True> True\n",
      "<Dropout name=dropout_59, built=True> True\n",
      "<Dense name=dense_59, built=True> True\n",
      "[MODELO CONGELADO]: 49.840681076049805\n"
     ]
    },
    {
     "name": "stderr",
     "output_type": "stream",
     "text": [
      "/home/workstation/Escritorio/PabloC/TransferLearning/funcionesComunes.py:191: FutureWarning: The behavior of DataFrame concatenation with empty or all-NA entries is deprecated. In a future version, this will no longer exclude empty or all-NA columns when determining the result dtypes. To retain the old behavior, exclude the relevant entries before the concat operation.\n",
      "  predictionsDF = pd.concat([predictionsDF, tempDF], ignore_index=True)\n",
      "/home/workstation/Escritorio/PabloC/TransferLearning/funcionesComunes.py:191: FutureWarning: The behavior of DataFrame concatenation with empty or all-NA entries is deprecated. In a future version, this will no longer exclude empty or all-NA columns when determining the result dtypes. To retain the old behavior, exclude the relevant entries before the concat operation.\n",
      "  predictionsDF = pd.concat([predictionsDF, tempDF], ignore_index=True)\n",
      "/home/workstation/Escritorio/PabloC/TransferLearning/funcionesComunes.py:191: FutureWarning: The behavior of DataFrame concatenation with empty or all-NA entries is deprecated. In a future version, this will no longer exclude empty or all-NA columns when determining the result dtypes. To retain the old behavior, exclude the relevant entries before the concat operation.\n",
      "  predictionsDF = pd.concat([predictionsDF, tempDF], ignore_index=True)\n"
     ]
    },
    {
     "name": "stdout",
     "output_type": "stream",
     "text": [
      "RESULTADOS DE MSE, RMSE, R2, MAPE (Train): 9.241862149119111, 3.0400431163256734, 0.6327625711288558, 34.741830774408356\n",
      "RESULTADOS DE MSE, RMSE, R2, MAPE (Val): 7.302543270569088, 2.702321829569729, 0.7348343101251131, 29.384987312853834\n",
      "RESULTADOS DE MSE, RMSE, R2, MAPE (Test): 2.813995369329126, 1.6774967568758892, 0.7008378235241752, 26.469240487485862\n",
      "totalMerged.csv Pinus gerardiana\n",
      "Juniperus spp.  Pinus gerardiana\n",
      "(17976, 77)\n",
      "SE HA NORMALIZADO EL ARCHIVO: Juniperus spp. _merged.csv\n",
      "(10218, 4, 43) (3900, 4, 43) (3018, 4, 43)\n",
      "<LSTM name=lstm_106, built=True> False\n",
      "<Dropout name=dropout_58, built=True> True\n",
      "<LSTM name=lstm_107, built=True> True\n",
      "<Dense name=dense_58, built=True> True\n",
      "<Dropout name=dropout_59, built=True> True\n",
      "<Dense name=dense_59, built=True> True\n",
      "[MODELO CONGELADO]: 46.1302649974823\n"
     ]
    },
    {
     "name": "stderr",
     "output_type": "stream",
     "text": [
      "/home/workstation/Escritorio/PabloC/TransferLearning/funcionesComunes.py:191: FutureWarning: The behavior of DataFrame concatenation with empty or all-NA entries is deprecated. In a future version, this will no longer exclude empty or all-NA columns when determining the result dtypes. To retain the old behavior, exclude the relevant entries before the concat operation.\n",
      "  predictionsDF = pd.concat([predictionsDF, tempDF], ignore_index=True)\n",
      "/home/workstation/Escritorio/PabloC/TransferLearning/funcionesComunes.py:191: FutureWarning: The behavior of DataFrame concatenation with empty or all-NA entries is deprecated. In a future version, this will no longer exclude empty or all-NA columns when determining the result dtypes. To retain the old behavior, exclude the relevant entries before the concat operation.\n",
      "  predictionsDF = pd.concat([predictionsDF, tempDF], ignore_index=True)\n",
      "/home/workstation/Escritorio/PabloC/TransferLearning/funcionesComunes.py:191: FutureWarning: The behavior of DataFrame concatenation with empty or all-NA entries is deprecated. In a future version, this will no longer exclude empty or all-NA columns when determining the result dtypes. To retain the old behavior, exclude the relevant entries before the concat operation.\n",
      "  predictionsDF = pd.concat([predictionsDF, tempDF], ignore_index=True)\n"
     ]
    },
    {
     "name": "stdout",
     "output_type": "stream",
     "text": [
      "RESULTADOS DE MSE, RMSE, R2, MAPE (Train): 30.904778133978958, 5.559206610117936, 0.4959642432533219, 40.05019158848229\n",
      "RESULTADOS DE MSE, RMSE, R2, MAPE (Val): 9.016652772211616, 3.002774179356752, 0.5416676492349205, 41.467562586880724\n",
      "RESULTADOS DE MSE, RMSE, R2, MAPE (Test): 48.59525352171182, 6.97102958835435, 0.5349572858405229, 42.92101317979821\n",
      "Procesando el modelo: model_totalMerged.keras\n",
      "Abies spectabilis totalMerged\n",
      "(96429, 77)\n",
      "SE HA NORMALIZADO EL ARCHIVO: Abies spectabilis_merged.csv\n",
      "(56618, 4, 43) (19637, 4, 43) (15689, 4, 43)\n",
      "<LSTM name=lstm, built=True> False\n",
      "<LSTM name=lstm_1, built=True> False\n",
      "<LSTM name=lstm_2, built=True> False\n",
      "<Dropout name=dropout_1, built=True> True\n",
      "<LSTM name=lstm_3, built=True> True\n",
      "<Dense name=dense_2, built=True> True\n",
      "<Dropout name=dropout_2, built=True> True\n",
      "<Dense name=dense_3, built=True> True\n"
     ]
    },
    {
     "name": "stderr",
     "output_type": "stream",
     "text": [
      "/home/workstation/Escritorio/PabloC/TransferLearning/.venv/lib/python3.10/site-packages/keras/src/saving/saving_lib.py:719: UserWarning: Skipping variable loading for optimizer 'rmsprop', because it has 18 variables whereas the saved optimizer has 34 variables. \n",
      "  saveable.load_own_variables(weights_store.get(inner_path))\n"
     ]
    },
    {
     "name": "stdout",
     "output_type": "stream",
     "text": [
      "[MODELO CONGELADO]: 571.0654084682465\n"
     ]
    },
    {
     "name": "stderr",
     "output_type": "stream",
     "text": [
      "/home/workstation/Escritorio/PabloC/TransferLearning/funcionesComunes.py:191: FutureWarning: The behavior of DataFrame concatenation with empty or all-NA entries is deprecated. In a future version, this will no longer exclude empty or all-NA columns when determining the result dtypes. To retain the old behavior, exclude the relevant entries before the concat operation.\n",
      "  predictionsDF = pd.concat([predictionsDF, tempDF], ignore_index=True)\n",
      "/home/workstation/Escritorio/PabloC/TransferLearning/funcionesComunes.py:191: FutureWarning: The behavior of DataFrame concatenation with empty or all-NA entries is deprecated. In a future version, this will no longer exclude empty or all-NA columns when determining the result dtypes. To retain the old behavior, exclude the relevant entries before the concat operation.\n",
      "  predictionsDF = pd.concat([predictionsDF, tempDF], ignore_index=True)\n",
      "/home/workstation/Escritorio/PabloC/TransferLearning/funcionesComunes.py:191: FutureWarning: The behavior of DataFrame concatenation with empty or all-NA entries is deprecated. In a future version, this will no longer exclude empty or all-NA columns when determining the result dtypes. To retain the old behavior, exclude the relevant entries before the concat operation.\n",
      "  predictionsDF = pd.concat([predictionsDF, tempDF], ignore_index=True)\n"
     ]
    },
    {
     "name": "stdout",
     "output_type": "stream",
     "text": [
      "RESULTADOS DE MSE, RMSE, R2, MAPE (Train): 18.128759113440115, 4.257788054076919, 0.8409481078315184, 20.672494707971182\n",
      "RESULTADOS DE MSE, RMSE, R2, MAPE (Val): 18.52349263845859, 4.303892730826198, 0.8312205085461738, 21.379737540704603\n",
      "RESULTADOS DE MSE, RMSE, R2, MAPE (Test): 19.15560954936726, 4.376712184890304, 0.8579370969713602, 20.742586288295353\n",
      "Picea smithiana totalMerged\n",
      "(34476, 77)\n",
      "SE HA NORMALIZADO EL ARCHIVO: Picea smithiana_merged.csv\n",
      "(19933, 4, 43) (7272, 4, 43) (5863, 4, 43)\n",
      "<LSTM name=lstm, built=True> False\n",
      "<LSTM name=lstm_1, built=True> False\n",
      "<LSTM name=lstm_2, built=True> False\n",
      "<Dropout name=dropout_1, built=True> True\n",
      "<LSTM name=lstm_3, built=True> True\n",
      "<Dense name=dense_2, built=True> True\n",
      "<Dropout name=dropout_2, built=True> True\n",
      "<Dense name=dense_3, built=True> True\n"
     ]
    },
    {
     "name": "stderr",
     "output_type": "stream",
     "text": [
      "/home/workstation/Escritorio/PabloC/TransferLearning/.venv/lib/python3.10/site-packages/keras/src/saving/saving_lib.py:719: UserWarning: Skipping variable loading for optimizer 'rmsprop', because it has 18 variables whereas the saved optimizer has 34 variables. \n",
      "  saveable.load_own_variables(weights_store.get(inner_path))\n"
     ]
    },
    {
     "name": "stdout",
     "output_type": "stream",
     "text": [
      "[MODELO CONGELADO]: 315.11341381073\n"
     ]
    },
    {
     "name": "stderr",
     "output_type": "stream",
     "text": [
      "/home/workstation/Escritorio/PabloC/TransferLearning/funcionesComunes.py:191: FutureWarning: The behavior of DataFrame concatenation with empty or all-NA entries is deprecated. In a future version, this will no longer exclude empty or all-NA columns when determining the result dtypes. To retain the old behavior, exclude the relevant entries before the concat operation.\n",
      "  predictionsDF = pd.concat([predictionsDF, tempDF], ignore_index=True)\n",
      "/home/workstation/Escritorio/PabloC/TransferLearning/funcionesComunes.py:191: FutureWarning: The behavior of DataFrame concatenation with empty or all-NA entries is deprecated. In a future version, this will no longer exclude empty or all-NA columns when determining the result dtypes. To retain the old behavior, exclude the relevant entries before the concat operation.\n",
      "  predictionsDF = pd.concat([predictionsDF, tempDF], ignore_index=True)\n",
      "/home/workstation/Escritorio/PabloC/TransferLearning/funcionesComunes.py:191: FutureWarning: The behavior of DataFrame concatenation with empty or all-NA entries is deprecated. In a future version, this will no longer exclude empty or all-NA columns when determining the result dtypes. To retain the old behavior, exclude the relevant entries before the concat operation.\n",
      "  predictionsDF = pd.concat([predictionsDF, tempDF], ignore_index=True)\n"
     ]
    },
    {
     "name": "stdout",
     "output_type": "stream",
     "text": [
      "RESULTADOS DE MSE, RMSE, R2, MAPE (Train): 61.297576583168485, 7.829276887629437, 0.8203629315659058, 23.06017103820355\n",
      "RESULTADOS DE MSE, RMSE, R2, MAPE (Val): 65.40231087662747, 8.087169521941991, 0.8112662835847197, 23.865289992059648\n",
      "RESULTADOS DE MSE, RMSE, R2, MAPE (Test): 61.40005794872369, 7.835818907346168, 0.7926546398741312, 24.799463981384683\n",
      "Abies pindrow totalMerged\n",
      "(16018, 77)\n",
      "SE HA NORMALIZADO EL ARCHIVO: Abies pindrow_merged.csv\n",
      "(9042, 4, 43) (3441, 4, 43) (2815, 4, 43)\n",
      "<LSTM name=lstm, built=True> False\n",
      "<LSTM name=lstm_1, built=True> False\n",
      "<LSTM name=lstm_2, built=True> False\n",
      "<Dropout name=dropout_1, built=True> True\n",
      "<LSTM name=lstm_3, built=True> True\n",
      "<Dense name=dense_2, built=True> True\n",
      "<Dropout name=dropout_2, built=True> True\n",
      "<Dense name=dense_3, built=True> True\n"
     ]
    },
    {
     "name": "stderr",
     "output_type": "stream",
     "text": [
      "/home/workstation/Escritorio/PabloC/TransferLearning/.venv/lib/python3.10/site-packages/keras/src/saving/saving_lib.py:719: UserWarning: Skipping variable loading for optimizer 'rmsprop', because it has 18 variables whereas the saved optimizer has 34 variables. \n",
      "  saveable.load_own_variables(weights_store.get(inner_path))\n"
     ]
    },
    {
     "name": "stdout",
     "output_type": "stream",
     "text": [
      "[MODELO CONGELADO]: 72.6947512626648\n"
     ]
    },
    {
     "name": "stderr",
     "output_type": "stream",
     "text": [
      "/home/workstation/Escritorio/PabloC/TransferLearning/funcionesComunes.py:191: FutureWarning: The behavior of DataFrame concatenation with empty or all-NA entries is deprecated. In a future version, this will no longer exclude empty or all-NA columns when determining the result dtypes. To retain the old behavior, exclude the relevant entries before the concat operation.\n",
      "  predictionsDF = pd.concat([predictionsDF, tempDF], ignore_index=True)\n",
      "/home/workstation/Escritorio/PabloC/TransferLearning/funcionesComunes.py:191: FutureWarning: The behavior of DataFrame concatenation with empty or all-NA entries is deprecated. In a future version, this will no longer exclude empty or all-NA columns when determining the result dtypes. To retain the old behavior, exclude the relevant entries before the concat operation.\n",
      "  predictionsDF = pd.concat([predictionsDF, tempDF], ignore_index=True)\n",
      "/home/workstation/Escritorio/PabloC/TransferLearning/funcionesComunes.py:191: FutureWarning: The behavior of DataFrame concatenation with empty or all-NA entries is deprecated. In a future version, this will no longer exclude empty or all-NA columns when determining the result dtypes. To retain the old behavior, exclude the relevant entries before the concat operation.\n",
      "  predictionsDF = pd.concat([predictionsDF, tempDF], ignore_index=True)\n"
     ]
    },
    {
     "name": "stdout",
     "output_type": "stream",
     "text": [
      "RESULTADOS DE MSE, RMSE, R2, MAPE (Train): 47.93573936184235, 6.923564064977109, 0.7942444921679322, 20.812295487613685\n",
      "RESULTADOS DE MSE, RMSE, R2, MAPE (Val): 37.86564486822935, 6.153506713105085, 0.7839958758090942, 19.178345836017392\n",
      "RESULTADOS DE MSE, RMSE, R2, MAPE (Test): 52.39337609032422, 7.238326884738227, 0.6295936360002751, 20.44408098531936\n",
      "Juniperus excelsa M.-Bieb totalMerged\n",
      "(7449, 77)\n",
      "SE HA NORMALIZADO EL ARCHIVO: Juniperus excelsa M.-Bieb_merged.csv\n",
      "(4189, 4, 43) (1707, 4, 43) (1228, 4, 43)\n",
      "<LSTM name=lstm, built=True> False\n",
      "<LSTM name=lstm_1, built=True> False\n",
      "<LSTM name=lstm_2, built=True> False\n",
      "<Dropout name=dropout_1, built=True> True\n",
      "<LSTM name=lstm_3, built=True> True\n",
      "<Dense name=dense_2, built=True> True\n",
      "<Dropout name=dropout_2, built=True> True\n",
      "<Dense name=dense_3, built=True> True\n"
     ]
    },
    {
     "name": "stderr",
     "output_type": "stream",
     "text": [
      "/home/workstation/Escritorio/PabloC/TransferLearning/.venv/lib/python3.10/site-packages/keras/src/saving/saving_lib.py:719: UserWarning: Skipping variable loading for optimizer 'rmsprop', because it has 18 variables whereas the saved optimizer has 34 variables. \n",
      "  saveable.load_own_variables(weights_store.get(inner_path))\n"
     ]
    },
    {
     "name": "stdout",
     "output_type": "stream",
     "text": [
      "[MODELO CONGELADO]: 74.65723633766174\n"
     ]
    },
    {
     "name": "stderr",
     "output_type": "stream",
     "text": [
      "/home/workstation/Escritorio/PabloC/TransferLearning/funcionesComunes.py:191: FutureWarning: The behavior of DataFrame concatenation with empty or all-NA entries is deprecated. In a future version, this will no longer exclude empty or all-NA columns when determining the result dtypes. To retain the old behavior, exclude the relevant entries before the concat operation.\n",
      "  predictionsDF = pd.concat([predictionsDF, tempDF], ignore_index=True)\n",
      "/home/workstation/Escritorio/PabloC/TransferLearning/funcionesComunes.py:191: FutureWarning: The behavior of DataFrame concatenation with empty or all-NA entries is deprecated. In a future version, this will no longer exclude empty or all-NA columns when determining the result dtypes. To retain the old behavior, exclude the relevant entries before the concat operation.\n",
      "  predictionsDF = pd.concat([predictionsDF, tempDF], ignore_index=True)\n",
      "/home/workstation/Escritorio/PabloC/TransferLearning/funcionesComunes.py:191: FutureWarning: The behavior of DataFrame concatenation with empty or all-NA entries is deprecated. In a future version, this will no longer exclude empty or all-NA columns when determining the result dtypes. To retain the old behavior, exclude the relevant entries before the concat operation.\n",
      "  predictionsDF = pd.concat([predictionsDF, tempDF], ignore_index=True)\n"
     ]
    },
    {
     "name": "stdout",
     "output_type": "stream",
     "text": [
      "RESULTADOS DE MSE, RMSE, R2, MAPE (Train): 5.636860272750238, 2.374207293550889, 0.7708728884766893, 24.057487266729737\n",
      "RESULTADOS DE MSE, RMSE, R2, MAPE (Val): 6.349500706727421, 2.519821562477673, 0.7578538752840429, 26.169124044568836\n",
      "RESULTADOS DE MSE, RMSE, R2, MAPE (Test): 12.99817968457649, 3.605298834296055, 0.8072911847875972, 25.98511684151108\n",
      "Juniperus turkestanica Komar. totalMerged\n",
      "(6305, 77)\n",
      "SE HA NORMALIZADO EL ARCHIVO: Juniperus turkestanica Komar._merged.csv\n",
      "(3664, 4, 43) (1368, 4, 43) (1001, 4, 43)\n",
      "<LSTM name=lstm, built=True> False\n",
      "<LSTM name=lstm_1, built=True> False\n",
      "<LSTM name=lstm_2, built=True> False\n",
      "<Dropout name=dropout_1, built=True> True\n",
      "<LSTM name=lstm_3, built=True> True\n",
      "<Dense name=dense_2, built=True> True\n",
      "<Dropout name=dropout_2, built=True> True\n",
      "<Dense name=dense_3, built=True> True\n"
     ]
    },
    {
     "name": "stderr",
     "output_type": "stream",
     "text": [
      "/home/workstation/Escritorio/PabloC/TransferLearning/.venv/lib/python3.10/site-packages/keras/src/saving/saving_lib.py:719: UserWarning: Skipping variable loading for optimizer 'rmsprop', because it has 18 variables whereas the saved optimizer has 34 variables. \n",
      "  saveable.load_own_variables(weights_store.get(inner_path))\n"
     ]
    },
    {
     "name": "stdout",
     "output_type": "stream",
     "text": [
      "[MODELO CONGELADO]: 29.24324941635132\n"
     ]
    },
    {
     "name": "stderr",
     "output_type": "stream",
     "text": [
      "/home/workstation/Escritorio/PabloC/TransferLearning/funcionesComunes.py:191: FutureWarning: The behavior of DataFrame concatenation with empty or all-NA entries is deprecated. In a future version, this will no longer exclude empty or all-NA columns when determining the result dtypes. To retain the old behavior, exclude the relevant entries before the concat operation.\n",
      "  predictionsDF = pd.concat([predictionsDF, tempDF], ignore_index=True)\n",
      "/home/workstation/Escritorio/PabloC/TransferLearning/funcionesComunes.py:191: FutureWarning: The behavior of DataFrame concatenation with empty or all-NA entries is deprecated. In a future version, this will no longer exclude empty or all-NA columns when determining the result dtypes. To retain the old behavior, exclude the relevant entries before the concat operation.\n",
      "  predictionsDF = pd.concat([predictionsDF, tempDF], ignore_index=True)\n",
      "/home/workstation/Escritorio/PabloC/TransferLearning/funcionesComunes.py:191: FutureWarning: The behavior of DataFrame concatenation with empty or all-NA entries is deprecated. In a future version, this will no longer exclude empty or all-NA columns when determining the result dtypes. To retain the old behavior, exclude the relevant entries before the concat operation.\n",
      "  predictionsDF = pd.concat([predictionsDF, tempDF], ignore_index=True)\n"
     ]
    },
    {
     "name": "stdout",
     "output_type": "stream",
     "text": [
      "RESULTADOS DE MSE, RMSE, R2, MAPE (Train): 3.1801124393390503, 1.7832869761592076, 0.9291525777165326, 18.045626663733998\n",
      "RESULTADOS DE MSE, RMSE, R2, MAPE (Val): 2.139800895065823, 1.4628058295843036, 0.8755647800204671, 19.72144583690767\n",
      "RESULTADOS DE MSE, RMSE, R2, MAPE (Test): 1.0798901088591693, 1.0391776117965443, 0.8013303820493975, 20.598360317369508\n",
      "Pinus roxburghii totalMerged\n",
      "(10635, 77)\n",
      "SE HA NORMALIZADO EL ARCHIVO: Pinus roxburghii_merged.csv\n",
      "(6309, 4, 43) (2167, 4, 43) (1647, 4, 43)\n",
      "<LSTM name=lstm, built=True> False\n",
      "<LSTM name=lstm_1, built=True> False\n",
      "<LSTM name=lstm_2, built=True> False\n",
      "<Dropout name=dropout_1, built=True> True\n",
      "<LSTM name=lstm_3, built=True> True\n",
      "<Dense name=dense_2, built=True> True\n",
      "<Dropout name=dropout_2, built=True> True\n",
      "<Dense name=dense_3, built=True> True\n"
     ]
    },
    {
     "name": "stderr",
     "output_type": "stream",
     "text": [
      "/home/workstation/Escritorio/PabloC/TransferLearning/.venv/lib/python3.10/site-packages/keras/src/saving/saving_lib.py:719: UserWarning: Skipping variable loading for optimizer 'rmsprop', because it has 18 variables whereas the saved optimizer has 34 variables. \n",
      "  saveable.load_own_variables(weights_store.get(inner_path))\n"
     ]
    },
    {
     "name": "stdout",
     "output_type": "stream",
     "text": [
      "[MODELO CONGELADO]: 158.0795590877533\n"
     ]
    },
    {
     "name": "stderr",
     "output_type": "stream",
     "text": [
      "/home/workstation/Escritorio/PabloC/TransferLearning/funcionesComunes.py:191: FutureWarning: The behavior of DataFrame concatenation with empty or all-NA entries is deprecated. In a future version, this will no longer exclude empty or all-NA columns when determining the result dtypes. To retain the old behavior, exclude the relevant entries before the concat operation.\n",
      "  predictionsDF = pd.concat([predictionsDF, tempDF], ignore_index=True)\n",
      "/home/workstation/Escritorio/PabloC/TransferLearning/funcionesComunes.py:191: FutureWarning: The behavior of DataFrame concatenation with empty or all-NA entries is deprecated. In a future version, this will no longer exclude empty or all-NA columns when determining the result dtypes. To retain the old behavior, exclude the relevant entries before the concat operation.\n",
      "  predictionsDF = pd.concat([predictionsDF, tempDF], ignore_index=True)\n",
      "/home/workstation/Escritorio/PabloC/TransferLearning/funcionesComunes.py:191: FutureWarning: The behavior of DataFrame concatenation with empty or all-NA entries is deprecated. In a future version, this will no longer exclude empty or all-NA columns when determining the result dtypes. To retain the old behavior, exclude the relevant entries before the concat operation.\n",
      "  predictionsDF = pd.concat([predictionsDF, tempDF], ignore_index=True)\n"
     ]
    },
    {
     "name": "stdout",
     "output_type": "stream",
     "text": [
      "RESULTADOS DE MSE, RMSE, R2, MAPE (Train): 49.230373757589426, 7.016435972599581, 0.815433603778942, 21.476242484206644\n",
      "RESULTADOS DE MSE, RMSE, R2, MAPE (Val): 39.916587560559975, 6.317957546593676, 0.821807579909863, 22.519057658737534\n",
      "RESULTADOS DE MSE, RMSE, R2, MAPE (Test): 57.18844401741165, 7.562304147375431, 0.7600253388639009, 24.212020658636003\n",
      "Pinus wallichiana totalMerged\n",
      "(9365, 77)\n",
      "SE HA NORMALIZADO EL ARCHIVO: Pinus wallichiana_merged.csv\n",
      "(5508, 4, 43) (1957, 4, 43) (1500, 4, 43)\n",
      "<LSTM name=lstm, built=True> False\n",
      "<LSTM name=lstm_1, built=True> False\n",
      "<LSTM name=lstm_2, built=True> False\n",
      "<Dropout name=dropout_1, built=True> True\n",
      "<LSTM name=lstm_3, built=True> True\n",
      "<Dense name=dense_2, built=True> True\n",
      "<Dropout name=dropout_2, built=True> True\n",
      "<Dense name=dense_3, built=True> True\n"
     ]
    },
    {
     "name": "stderr",
     "output_type": "stream",
     "text": [
      "/home/workstation/Escritorio/PabloC/TransferLearning/.venv/lib/python3.10/site-packages/keras/src/saving/saving_lib.py:719: UserWarning: Skipping variable loading for optimizer 'rmsprop', because it has 18 variables whereas the saved optimizer has 34 variables. \n",
      "  saveable.load_own_variables(weights_store.get(inner_path))\n"
     ]
    },
    {
     "name": "stdout",
     "output_type": "stream",
     "text": [
      "[MODELO CONGELADO]: 213.8295078277588\n"
     ]
    },
    {
     "name": "stderr",
     "output_type": "stream",
     "text": [
      "/home/workstation/Escritorio/PabloC/TransferLearning/funcionesComunes.py:191: FutureWarning: The behavior of DataFrame concatenation with empty or all-NA entries is deprecated. In a future version, this will no longer exclude empty or all-NA columns when determining the result dtypes. To retain the old behavior, exclude the relevant entries before the concat operation.\n",
      "  predictionsDF = pd.concat([predictionsDF, tempDF], ignore_index=True)\n",
      "/home/workstation/Escritorio/PabloC/TransferLearning/funcionesComunes.py:191: FutureWarning: The behavior of DataFrame concatenation with empty or all-NA entries is deprecated. In a future version, this will no longer exclude empty or all-NA columns when determining the result dtypes. To retain the old behavior, exclude the relevant entries before the concat operation.\n",
      "  predictionsDF = pd.concat([predictionsDF, tempDF], ignore_index=True)\n",
      "/home/workstation/Escritorio/PabloC/TransferLearning/funcionesComunes.py:191: FutureWarning: The behavior of DataFrame concatenation with empty or all-NA entries is deprecated. In a future version, this will no longer exclude empty or all-NA columns when determining the result dtypes. To retain the old behavior, exclude the relevant entries before the concat operation.\n",
      "  predictionsDF = pd.concat([predictionsDF, tempDF], ignore_index=True)\n"
     ]
    },
    {
     "name": "stdout",
     "output_type": "stream",
     "text": [
      "RESULTADOS DE MSE, RMSE, R2, MAPE (Train): 9.265720773599321, 3.0439646472321784, 0.8625504266864894, 16.79419180049115\n",
      "RESULTADOS DE MSE, RMSE, R2, MAPE (Val): 8.358192139531843, 2.891053811248044, 0.8601919652752181, 17.479008995673777\n",
      "RESULTADOS DE MSE, RMSE, R2, MAPE (Test): 13.35216616763128, 3.6540615987735183, 0.6833251197410477, 23.109109759209506\n",
      "Pinus gerardiana totalMerged\n",
      "(10101, 77)\n",
      "SE HA NORMALIZADO EL ARCHIVO: Pinus gerardiana_merged.csv\n",
      "(5767, 4, 43) (2181, 4, 43) (1745, 4, 43)\n",
      "<LSTM name=lstm, built=True> False\n",
      "<LSTM name=lstm_1, built=True> False\n",
      "<LSTM name=lstm_2, built=True> False\n",
      "<Dropout name=dropout_1, built=True> True\n",
      "<LSTM name=lstm_3, built=True> True\n",
      "<Dense name=dense_2, built=True> True\n",
      "<Dropout name=dropout_2, built=True> True\n",
      "<Dense name=dense_3, built=True> True\n"
     ]
    },
    {
     "name": "stderr",
     "output_type": "stream",
     "text": [
      "/home/workstation/Escritorio/PabloC/TransferLearning/.venv/lib/python3.10/site-packages/keras/src/saving/saving_lib.py:719: UserWarning: Skipping variable loading for optimizer 'rmsprop', because it has 18 variables whereas the saved optimizer has 34 variables. \n",
      "  saveable.load_own_variables(weights_store.get(inner_path))\n"
     ]
    },
    {
     "name": "stdout",
     "output_type": "stream",
     "text": [
      "[MODELO CONGELADO]: 162.83698868751526\n"
     ]
    },
    {
     "name": "stderr",
     "output_type": "stream",
     "text": [
      "/home/workstation/Escritorio/PabloC/TransferLearning/funcionesComunes.py:191: FutureWarning: The behavior of DataFrame concatenation with empty or all-NA entries is deprecated. In a future version, this will no longer exclude empty or all-NA columns when determining the result dtypes. To retain the old behavior, exclude the relevant entries before the concat operation.\n",
      "  predictionsDF = pd.concat([predictionsDF, tempDF], ignore_index=True)\n",
      "/home/workstation/Escritorio/PabloC/TransferLearning/funcionesComunes.py:191: FutureWarning: The behavior of DataFrame concatenation with empty or all-NA entries is deprecated. In a future version, this will no longer exclude empty or all-NA columns when determining the result dtypes. To retain the old behavior, exclude the relevant entries before the concat operation.\n",
      "  predictionsDF = pd.concat([predictionsDF, tempDF], ignore_index=True)\n",
      "/home/workstation/Escritorio/PabloC/TransferLearning/funcionesComunes.py:191: FutureWarning: The behavior of DataFrame concatenation with empty or all-NA entries is deprecated. In a future version, this will no longer exclude empty or all-NA columns when determining the result dtypes. To retain the old behavior, exclude the relevant entries before the concat operation.\n",
      "  predictionsDF = pd.concat([predictionsDF, tempDF], ignore_index=True)\n"
     ]
    },
    {
     "name": "stdout",
     "output_type": "stream",
     "text": [
      "RESULTADOS DE MSE, RMSE, R2, MAPE (Train): 9.751940084202708, 3.1228096458482235, 0.7487722273125331, 24.02688219729598\n",
      "RESULTADOS DE MSE, RMSE, R2, MAPE (Val): 12.095208247665264, 3.4778165920107496, 0.6943337337595239, 24.409079237445084\n",
      "RESULTADOS DE MSE, RMSE, R2, MAPE (Test): 9.495504470458771, 3.0814776439978875, 0.7636490667588365, 23.371202869053935\n",
      "Populus ciliata totalMerged\n",
      "(1182, 77)\n",
      "SE HA NORMALIZADO EL ARCHIVO: Populus ciliata_merged.csv\n",
      "(705, 4, 43) (156, 4, 43) (265, 4, 43)\n"
     ]
    },
    {
     "name": "stderr",
     "output_type": "stream",
     "text": [
      "/home/workstation/Escritorio/PabloC/TransferLearning/.venv/lib/python3.10/site-packages/keras/src/saving/saving_lib.py:719: UserWarning: Skipping variable loading for optimizer 'rmsprop', because it has 18 variables whereas the saved optimizer has 34 variables. \n",
      "  saveable.load_own_variables(weights_store.get(inner_path))\n"
     ]
    },
    {
     "name": "stdout",
     "output_type": "stream",
     "text": [
      "<LSTM name=lstm, built=True> False\n",
      "<LSTM name=lstm_1, built=True> False\n",
      "<LSTM name=lstm_2, built=True> False\n",
      "<Dropout name=dropout_1, built=True> True\n",
      "<LSTM name=lstm_3, built=True> True\n",
      "<Dense name=dense_2, built=True> True\n",
      "<Dropout name=dropout_2, built=True> True\n",
      "<Dense name=dense_3, built=True> True\n",
      "[MODELO CONGELADO]: 21.515522480010986\n"
     ]
    },
    {
     "name": "stderr",
     "output_type": "stream",
     "text": [
      "/home/workstation/Escritorio/PabloC/TransferLearning/funcionesComunes.py:191: FutureWarning: The behavior of DataFrame concatenation with empty or all-NA entries is deprecated. In a future version, this will no longer exclude empty or all-NA columns when determining the result dtypes. To retain the old behavior, exclude the relevant entries before the concat operation.\n",
      "  predictionsDF = pd.concat([predictionsDF, tempDF], ignore_index=True)\n",
      "/home/workstation/Escritorio/PabloC/TransferLearning/funcionesComunes.py:191: FutureWarning: The behavior of DataFrame concatenation with empty or all-NA entries is deprecated. In a future version, this will no longer exclude empty or all-NA columns when determining the result dtypes. To retain the old behavior, exclude the relevant entries before the concat operation.\n",
      "  predictionsDF = pd.concat([predictionsDF, tempDF], ignore_index=True)\n",
      "/home/workstation/Escritorio/PabloC/TransferLearning/funcionesComunes.py:191: FutureWarning: The behavior of DataFrame concatenation with empty or all-NA entries is deprecated. In a future version, this will no longer exclude empty or all-NA columns when determining the result dtypes. To retain the old behavior, exclude the relevant entries before the concat operation.\n",
      "  predictionsDF = pd.concat([predictionsDF, tempDF], ignore_index=True)\n"
     ]
    },
    {
     "name": "stdout",
     "output_type": "stream",
     "text": [
      "RESULTADOS DE MSE, RMSE, R2, MAPE (Train): 101.15050161687917, 10.057360569099586, 0.7214964285892338, 26.24107153617596\n",
      "RESULTADOS DE MSE, RMSE, R2, MAPE (Val): 127.10265533287009, 11.273981343468247, 0.45844169525920875, 34.631507977539265\n",
      "RESULTADOS DE MSE, RMSE, R2, MAPE (Test): 70.9504076623288, 8.423206495291968, 0.6454781473825486, 30.533775865119374\n",
      "Betula utilis totalMerged\n",
      "(3473, 77)\n",
      "SE HA NORMALIZADO EL ARCHIVO: Betula utilis_merged.csv\n",
      "(2059, 4, 43) (665, 4, 43) (593, 4, 43)\n",
      "<LSTM name=lstm, built=True> False\n",
      "<LSTM name=lstm_1, built=True> False\n",
      "<LSTM name=lstm_2, built=True> False\n",
      "<Dropout name=dropout_1, built=True> True\n",
      "<LSTM name=lstm_3, built=True> True\n",
      "<Dense name=dense_2, built=True> True\n",
      "<Dropout name=dropout_2, built=True> True\n",
      "<Dense name=dense_3, built=True> True\n"
     ]
    },
    {
     "name": "stderr",
     "output_type": "stream",
     "text": [
      "/home/workstation/Escritorio/PabloC/TransferLearning/.venv/lib/python3.10/site-packages/keras/src/saving/saving_lib.py:719: UserWarning: Skipping variable loading for optimizer 'rmsprop', because it has 18 variables whereas the saved optimizer has 34 variables. \n",
      "  saveable.load_own_variables(weights_store.get(inner_path))\n"
     ]
    },
    {
     "name": "stdout",
     "output_type": "stream",
     "text": [
      "[MODELO CONGELADO]: 26.943342208862305\n"
     ]
    },
    {
     "name": "stderr",
     "output_type": "stream",
     "text": [
      "/home/workstation/Escritorio/PabloC/TransferLearning/funcionesComunes.py:191: FutureWarning: The behavior of DataFrame concatenation with empty or all-NA entries is deprecated. In a future version, this will no longer exclude empty or all-NA columns when determining the result dtypes. To retain the old behavior, exclude the relevant entries before the concat operation.\n",
      "  predictionsDF = pd.concat([predictionsDF, tempDF], ignore_index=True)\n",
      "/home/workstation/Escritorio/PabloC/TransferLearning/funcionesComunes.py:191: FutureWarning: The behavior of DataFrame concatenation with empty or all-NA entries is deprecated. In a future version, this will no longer exclude empty or all-NA columns when determining the result dtypes. To retain the old behavior, exclude the relevant entries before the concat operation.\n",
      "  predictionsDF = pd.concat([predictionsDF, tempDF], ignore_index=True)\n",
      "/home/workstation/Escritorio/PabloC/TransferLearning/funcionesComunes.py:191: FutureWarning: The behavior of DataFrame concatenation with empty or all-NA entries is deprecated. In a future version, this will no longer exclude empty or all-NA columns when determining the result dtypes. To retain the old behavior, exclude the relevant entries before the concat operation.\n",
      "  predictionsDF = pd.concat([predictionsDF, tempDF], ignore_index=True)\n"
     ]
    },
    {
     "name": "stdout",
     "output_type": "stream",
     "text": [
      "RESULTADOS DE MSE, RMSE, R2, MAPE (Train): 1.7882849906821732, 1.337267733358647, 0.7360039116481164, 26.55363693422368\n",
      "RESULTADOS DE MSE, RMSE, R2, MAPE (Val): 0.4084121637756572, 0.6390713291766869, 0.7873127361849617, 22.45562503544357\n",
      "RESULTADOS DE MSE, RMSE, R2, MAPE (Test): 0.42415634456111645, 0.6512728649046545, 0.8379087832593521, 23.324666056416955\n",
      "Tsuga dumosa totalMerged\n",
      "(20493, 77)\n",
      "SE HA NORMALIZADO EL ARCHIVO: Tsuga dumosa_merged.csv\n",
      "(11935, 4, 43) (4144, 4, 43) (3469, 4, 43)\n",
      "<LSTM name=lstm, built=True> False\n",
      "<LSTM name=lstm_1, built=True> False\n",
      "<LSTM name=lstm_2, built=True> False\n",
      "<Dropout name=dropout_1, built=True> True\n",
      "<LSTM name=lstm_3, built=True> True\n",
      "<Dense name=dense_2, built=True> True\n",
      "<Dropout name=dropout_2, built=True> True\n",
      "<Dense name=dense_3, built=True> True\n"
     ]
    },
    {
     "name": "stderr",
     "output_type": "stream",
     "text": [
      "/home/workstation/Escritorio/PabloC/TransferLearning/.venv/lib/python3.10/site-packages/keras/src/saving/saving_lib.py:719: UserWarning: Skipping variable loading for optimizer 'rmsprop', because it has 18 variables whereas the saved optimizer has 34 variables. \n",
      "  saveable.load_own_variables(weights_store.get(inner_path))\n"
     ]
    },
    {
     "name": "stdout",
     "output_type": "stream",
     "text": [
      "[MODELO CONGELADO]: 329.7158489227295\n"
     ]
    },
    {
     "name": "stderr",
     "output_type": "stream",
     "text": [
      "/home/workstation/Escritorio/PabloC/TransferLearning/funcionesComunes.py:191: FutureWarning: The behavior of DataFrame concatenation with empty or all-NA entries is deprecated. In a future version, this will no longer exclude empty or all-NA columns when determining the result dtypes. To retain the old behavior, exclude the relevant entries before the concat operation.\n",
      "  predictionsDF = pd.concat([predictionsDF, tempDF], ignore_index=True)\n",
      "/home/workstation/Escritorio/PabloC/TransferLearning/funcionesComunes.py:191: FutureWarning: The behavior of DataFrame concatenation with empty or all-NA entries is deprecated. In a future version, this will no longer exclude empty or all-NA columns when determining the result dtypes. To retain the old behavior, exclude the relevant entries before the concat operation.\n",
      "  predictionsDF = pd.concat([predictionsDF, tempDF], ignore_index=True)\n",
      "/home/workstation/Escritorio/PabloC/TransferLearning/funcionesComunes.py:191: FutureWarning: The behavior of DataFrame concatenation with empty or all-NA entries is deprecated. In a future version, this will no longer exclude empty or all-NA columns when determining the result dtypes. To retain the old behavior, exclude the relevant entries before the concat operation.\n",
      "  predictionsDF = pd.concat([predictionsDF, tempDF], ignore_index=True)\n"
     ]
    },
    {
     "name": "stdout",
     "output_type": "stream",
     "text": [
      "RESULTADOS DE MSE, RMSE, R2, MAPE (Train): 73.4939115281207, 8.5728590054964, 0.8112829919112389, 22.221683951544513\n",
      "RESULTADOS DE MSE, RMSE, R2, MAPE (Val): 78.26995054922278, 8.847030606323388, 0.7516217302328279, 23.387925737945206\n",
      "RESULTADOS DE MSE, RMSE, R2, MAPE (Test): 116.54223824080141, 10.795473043864332, 0.8097726721978228, 23.42166081670777\n",
      "Cedrus deodara totalMerged\n",
      "(37273, 77)\n",
      "SE HA NORMALIZADO EL ARCHIVO: Cedrus deodara_merged.csv\n",
      "(22017, 4, 43) (7410, 4, 43) (6282, 4, 43)\n",
      "<LSTM name=lstm, built=True> False\n",
      "<LSTM name=lstm_1, built=True> False\n",
      "<LSTM name=lstm_2, built=True> False\n",
      "<Dropout name=dropout_1, built=True> True\n",
      "<LSTM name=lstm_3, built=True> True\n",
      "<Dense name=dense_2, built=True> True\n",
      "<Dropout name=dropout_2, built=True> True\n",
      "<Dense name=dense_3, built=True> True\n"
     ]
    },
    {
     "name": "stderr",
     "output_type": "stream",
     "text": [
      "/home/workstation/Escritorio/PabloC/TransferLearning/.venv/lib/python3.10/site-packages/keras/src/saving/saving_lib.py:719: UserWarning: Skipping variable loading for optimizer 'rmsprop', because it has 18 variables whereas the saved optimizer has 34 variables. \n",
      "  saveable.load_own_variables(weights_store.get(inner_path))\n"
     ]
    },
    {
     "name": "stdout",
     "output_type": "stream",
     "text": [
      "[MODELO CONGELADO]: 389.22133135795593\n"
     ]
    },
    {
     "name": "stderr",
     "output_type": "stream",
     "text": [
      "/home/workstation/Escritorio/PabloC/TransferLearning/funcionesComunes.py:191: FutureWarning: The behavior of DataFrame concatenation with empty or all-NA entries is deprecated. In a future version, this will no longer exclude empty or all-NA columns when determining the result dtypes. To retain the old behavior, exclude the relevant entries before the concat operation.\n",
      "  predictionsDF = pd.concat([predictionsDF, tempDF], ignore_index=True)\n",
      "/home/workstation/Escritorio/PabloC/TransferLearning/funcionesComunes.py:191: FutureWarning: The behavior of DataFrame concatenation with empty or all-NA entries is deprecated. In a future version, this will no longer exclude empty or all-NA columns when determining the result dtypes. To retain the old behavior, exclude the relevant entries before the concat operation.\n",
      "  predictionsDF = pd.concat([predictionsDF, tempDF], ignore_index=True)\n",
      "/home/workstation/Escritorio/PabloC/TransferLearning/funcionesComunes.py:191: FutureWarning: The behavior of DataFrame concatenation with empty or all-NA entries is deprecated. In a future version, this will no longer exclude empty or all-NA columns when determining the result dtypes. To retain the old behavior, exclude the relevant entries before the concat operation.\n",
      "  predictionsDF = pd.concat([predictionsDF, tempDF], ignore_index=True)\n"
     ]
    },
    {
     "name": "stdout",
     "output_type": "stream",
     "text": [
      "RESULTADOS DE MSE, RMSE, R2, MAPE (Train): 72.67902802411669, 8.525199588520886, 0.8298432533613079, 22.26354219580936\n",
      "RESULTADOS DE MSE, RMSE, R2, MAPE (Val): 100.12204998912246, 10.006100638566577, 0.775581652592958, 24.168101087296712\n",
      "RESULTADOS DE MSE, RMSE, R2, MAPE (Test): 68.95611799036647, 8.303982056240637, 0.8043397999272826, 22.788442404994377\n",
      "Juniperus spp. L. totalMerged\n",
      "(7264, 77)\n",
      "SE HA NORMALIZADO EL ARCHIVO: Juniperus spp. L._merged.csv\n",
      "(4216, 4, 43) (1524, 4, 43) (1188, 4, 43)\n",
      "<LSTM name=lstm, built=True> False\n",
      "<LSTM name=lstm_1, built=True> False\n",
      "<LSTM name=lstm_2, built=True> False\n",
      "<Dropout name=dropout_1, built=True> True\n",
      "<LSTM name=lstm_3, built=True> True\n",
      "<Dense name=dense_2, built=True> True\n",
      "<Dropout name=dropout_2, built=True> True\n",
      "<Dense name=dense_3, built=True> True\n"
     ]
    },
    {
     "name": "stderr",
     "output_type": "stream",
     "text": [
      "/home/workstation/Escritorio/PabloC/TransferLearning/.venv/lib/python3.10/site-packages/keras/src/saving/saving_lib.py:719: UserWarning: Skipping variable loading for optimizer 'rmsprop', because it has 18 variables whereas the saved optimizer has 34 variables. \n",
      "  saveable.load_own_variables(weights_store.get(inner_path))\n"
     ]
    },
    {
     "name": "stdout",
     "output_type": "stream",
     "text": [
      "[MODELO CONGELADO]: 52.21907639503479\n"
     ]
    },
    {
     "name": "stderr",
     "output_type": "stream",
     "text": [
      "/home/workstation/Escritorio/PabloC/TransferLearning/funcionesComunes.py:191: FutureWarning: The behavior of DataFrame concatenation with empty or all-NA entries is deprecated. In a future version, this will no longer exclude empty or all-NA columns when determining the result dtypes. To retain the old behavior, exclude the relevant entries before the concat operation.\n",
      "  predictionsDF = pd.concat([predictionsDF, tempDF], ignore_index=True)\n",
      "/home/workstation/Escritorio/PabloC/TransferLearning/funcionesComunes.py:191: FutureWarning: The behavior of DataFrame concatenation with empty or all-NA entries is deprecated. In a future version, this will no longer exclude empty or all-NA columns when determining the result dtypes. To retain the old behavior, exclude the relevant entries before the concat operation.\n",
      "  predictionsDF = pd.concat([predictionsDF, tempDF], ignore_index=True)\n",
      "/home/workstation/Escritorio/PabloC/TransferLearning/funcionesComunes.py:191: FutureWarning: The behavior of DataFrame concatenation with empty or all-NA entries is deprecated. In a future version, this will no longer exclude empty or all-NA columns when determining the result dtypes. To retain the old behavior, exclude the relevant entries before the concat operation.\n",
      "  predictionsDF = pd.concat([predictionsDF, tempDF], ignore_index=True)\n"
     ]
    },
    {
     "name": "stdout",
     "output_type": "stream",
     "text": [
      "RESULTADOS DE MSE, RMSE, R2, MAPE (Train): 1.933694010860842, 1.390573266987699, 0.8457239135375813, 24.408076894371746\n",
      "RESULTADOS DE MSE, RMSE, R2, MAPE (Val): 0.7324994841893023, 0.8558618370913044, 0.6749728615280892, 27.757812525340086\n",
      "RESULTADOS DE MSE, RMSE, R2, MAPE (Test): 3.086434611221912, 1.7568251510101716, 0.8371887615418792, 25.489078045077644\n",
      "Juniperus recurva totalMerged\n",
      "(5316, 77)\n",
      "SE HA NORMALIZADO EL ARCHIVO: Juniperus recurva_merged.csv\n",
      "(3188, 4, 43) (1082, 4, 43) (810, 4, 43)\n",
      "<LSTM name=lstm, built=True> False\n",
      "<LSTM name=lstm_1, built=True> False\n",
      "<LSTM name=lstm_2, built=True> False\n",
      "<Dropout name=dropout_1, built=True> True\n",
      "<LSTM name=lstm_3, built=True> True\n",
      "<Dense name=dense_2, built=True> True\n",
      "<Dropout name=dropout_2, built=True> True\n",
      "<Dense name=dense_3, built=True> True\n"
     ]
    },
    {
     "name": "stderr",
     "output_type": "stream",
     "text": [
      "/home/workstation/Escritorio/PabloC/TransferLearning/.venv/lib/python3.10/site-packages/keras/src/saving/saving_lib.py:719: UserWarning: Skipping variable loading for optimizer 'rmsprop', because it has 18 variables whereas the saved optimizer has 34 variables. \n",
      "  saveable.load_own_variables(weights_store.get(inner_path))\n"
     ]
    },
    {
     "name": "stdout",
     "output_type": "stream",
     "text": [
      "[MODELO CONGELADO]: 67.39990544319153\n"
     ]
    },
    {
     "name": "stderr",
     "output_type": "stream",
     "text": [
      "/home/workstation/Escritorio/PabloC/TransferLearning/funcionesComunes.py:191: FutureWarning: The behavior of DataFrame concatenation with empty or all-NA entries is deprecated. In a future version, this will no longer exclude empty or all-NA columns when determining the result dtypes. To retain the old behavior, exclude the relevant entries before the concat operation.\n",
      "  predictionsDF = pd.concat([predictionsDF, tempDF], ignore_index=True)\n",
      "/home/workstation/Escritorio/PabloC/TransferLearning/funcionesComunes.py:191: FutureWarning: The behavior of DataFrame concatenation with empty or all-NA entries is deprecated. In a future version, this will no longer exclude empty or all-NA columns when determining the result dtypes. To retain the old behavior, exclude the relevant entries before the concat operation.\n",
      "  predictionsDF = pd.concat([predictionsDF, tempDF], ignore_index=True)\n",
      "/home/workstation/Escritorio/PabloC/TransferLearning/funcionesComunes.py:191: FutureWarning: The behavior of DataFrame concatenation with empty or all-NA entries is deprecated. In a future version, this will no longer exclude empty or all-NA columns when determining the result dtypes. To retain the old behavior, exclude the relevant entries before the concat operation.\n",
      "  predictionsDF = pd.concat([predictionsDF, tempDF], ignore_index=True)\n"
     ]
    },
    {
     "name": "stdout",
     "output_type": "stream",
     "text": [
      "RESULTADOS DE MSE, RMSE, R2, MAPE (Train): 2.0582875570030317, 1.4346733276265478, 0.9182112632589625, 15.42793684558059\n",
      "RESULTADOS DE MSE, RMSE, R2, MAPE (Val): 2.754311830433212, 1.6596119517625836, 0.8999870360794906, 18.396152407628914\n",
      "RESULTADOS DE MSE, RMSE, R2, MAPE (Test): 0.8939294208083781, 0.9454784084305564, 0.904964352799001, 14.238362050935022\n",
      "totalMerged.csv totalMerged\n",
      "Juniperus spp.  totalMerged\n",
      "(17976, 77)\n",
      "SE HA NORMALIZADO EL ARCHIVO: Juniperus spp. _merged.csv\n",
      "(10218, 4, 43) (3900, 4, 43) (3018, 4, 43)\n",
      "<LSTM name=lstm, built=True> False\n",
      "<LSTM name=lstm_1, built=True> False\n",
      "<LSTM name=lstm_2, built=True> False\n",
      "<Dropout name=dropout_1, built=True> True\n",
      "<LSTM name=lstm_3, built=True> True\n",
      "<Dense name=dense_2, built=True> True\n",
      "<Dropout name=dropout_2, built=True> True\n",
      "<Dense name=dense_3, built=True> True\n"
     ]
    },
    {
     "name": "stderr",
     "output_type": "stream",
     "text": [
      "/home/workstation/Escritorio/PabloC/TransferLearning/.venv/lib/python3.10/site-packages/keras/src/saving/saving_lib.py:719: UserWarning: Skipping variable loading for optimizer 'rmsprop', because it has 18 variables whereas the saved optimizer has 34 variables. \n",
      "  saveable.load_own_variables(weights_store.get(inner_path))\n"
     ]
    },
    {
     "name": "stdout",
     "output_type": "stream",
     "text": [
      "[MODELO CONGELADO]: 176.3705222606659\n"
     ]
    },
    {
     "name": "stderr",
     "output_type": "stream",
     "text": [
      "/home/workstation/Escritorio/PabloC/TransferLearning/funcionesComunes.py:191: FutureWarning: The behavior of DataFrame concatenation with empty or all-NA entries is deprecated. In a future version, this will no longer exclude empty or all-NA columns when determining the result dtypes. To retain the old behavior, exclude the relevant entries before the concat operation.\n",
      "  predictionsDF = pd.concat([predictionsDF, tempDF], ignore_index=True)\n",
      "/home/workstation/Escritorio/PabloC/TransferLearning/funcionesComunes.py:191: FutureWarning: The behavior of DataFrame concatenation with empty or all-NA entries is deprecated. In a future version, this will no longer exclude empty or all-NA columns when determining the result dtypes. To retain the old behavior, exclude the relevant entries before the concat operation.\n",
      "  predictionsDF = pd.concat([predictionsDF, tempDF], ignore_index=True)\n",
      "/home/workstation/Escritorio/PabloC/TransferLearning/funcionesComunes.py:191: FutureWarning: The behavior of DataFrame concatenation with empty or all-NA entries is deprecated. In a future version, this will no longer exclude empty or all-NA columns when determining the result dtypes. To retain the old behavior, exclude the relevant entries before the concat operation.\n",
      "  predictionsDF = pd.concat([predictionsDF, tempDF], ignore_index=True)\n"
     ]
    },
    {
     "name": "stdout",
     "output_type": "stream",
     "text": [
      "RESULTADOS DE MSE, RMSE, R2, MAPE (Train): 7.679706590868783, 2.7712283541543057, 0.8747492473060303, 21.457473840095982\n",
      "RESULTADOS DE MSE, RMSE, R2, MAPE (Val): 3.081983184880449, 1.7555577987865991, 0.8433373632288355, 23.63147314744963\n",
      "RESULTADOS DE MSE, RMSE, R2, MAPE (Test): 10.011063706394706, 3.164026502163771, 0.9041969760366582, 21.384513354596642\n",
      "Procesando el modelo: model_Pinus wallichiana.keras\n",
      "Abies spectabilis Pinus wallichiana\n",
      "(96429, 77)\n",
      "SE HA NORMALIZADO EL ARCHIVO: Abies spectabilis_merged.csv\n",
      "(56618, 4, 43) (19637, 4, 43) (15689, 4, 43)\n",
      "<LSTM name=lstm_101, built=True> False\n",
      "<LSTM name=lstm_102, built=True> False\n",
      "<Dropout name=dropout_56, built=True> True\n",
      "<LSTM name=lstm_103, built=True> False\n",
      "<LSTM name=lstm_104, built=True> False\n",
      "<LSTM name=lstm_105, built=True> True\n",
      "<Dense name=dense_56, built=True> True\n",
      "<Dropout name=dropout_57, built=True> True\n",
      "<Dense name=dense_57, built=True> True\n",
      "[MODELO CONGELADO]: 1549.69278550148\n"
     ]
    },
    {
     "name": "stderr",
     "output_type": "stream",
     "text": [
      "/home/workstation/Escritorio/PabloC/TransferLearning/funcionesComunes.py:191: FutureWarning: The behavior of DataFrame concatenation with empty or all-NA entries is deprecated. In a future version, this will no longer exclude empty or all-NA columns when determining the result dtypes. To retain the old behavior, exclude the relevant entries before the concat operation.\n",
      "  predictionsDF = pd.concat([predictionsDF, tempDF], ignore_index=True)\n",
      "/home/workstation/Escritorio/PabloC/TransferLearning/funcionesComunes.py:191: FutureWarning: The behavior of DataFrame concatenation with empty or all-NA entries is deprecated. In a future version, this will no longer exclude empty or all-NA columns when determining the result dtypes. To retain the old behavior, exclude the relevant entries before the concat operation.\n",
      "  predictionsDF = pd.concat([predictionsDF, tempDF], ignore_index=True)\n",
      "/home/workstation/Escritorio/PabloC/TransferLearning/funcionesComunes.py:191: FutureWarning: The behavior of DataFrame concatenation with empty or all-NA entries is deprecated. In a future version, this will no longer exclude empty or all-NA columns when determining the result dtypes. To retain the old behavior, exclude the relevant entries before the concat operation.\n",
      "  predictionsDF = pd.concat([predictionsDF, tempDF], ignore_index=True)\n"
     ]
    },
    {
     "name": "stdout",
     "output_type": "stream",
     "text": [
      "RESULTADOS DE MSE, RMSE, R2, MAPE (Train): 79.8700634944255, 8.937005286695621, 0.2992634163809279, 48.585013967672595\n",
      "RESULTADOS DE MSE, RMSE, R2, MAPE (Val): 77.08877302627678, 8.78002124292856, 0.2975944568271698, 47.79122452050017\n",
      "RESULTADOS DE MSE, RMSE, R2, MAPE (Test): 82.93860564060009, 9.10706350261159, 0.38490607359240303, 47.02820067067922\n",
      "Picea smithiana Pinus wallichiana\n",
      "(34476, 77)\n",
      "SE HA NORMALIZADO EL ARCHIVO: Picea smithiana_merged.csv\n",
      "(19933, 4, 43) (7272, 4, 43) (5863, 4, 43)\n",
      "<LSTM name=lstm_101, built=True> False\n",
      "<LSTM name=lstm_102, built=True> False\n",
      "<Dropout name=dropout_56, built=True> True\n",
      "<LSTM name=lstm_103, built=True> False\n",
      "<LSTM name=lstm_104, built=True> False\n",
      "<LSTM name=lstm_105, built=True> True\n",
      "<Dense name=dense_56, built=True> True\n",
      "<Dropout name=dropout_57, built=True> True\n",
      "<Dense name=dense_57, built=True> True\n",
      "[MODELO CONGELADO]: 512.7725141048431\n"
     ]
    },
    {
     "name": "stderr",
     "output_type": "stream",
     "text": [
      "/home/workstation/Escritorio/PabloC/TransferLearning/funcionesComunes.py:191: FutureWarning: The behavior of DataFrame concatenation with empty or all-NA entries is deprecated. In a future version, this will no longer exclude empty or all-NA columns when determining the result dtypes. To retain the old behavior, exclude the relevant entries before the concat operation.\n",
      "  predictionsDF = pd.concat([predictionsDF, tempDF], ignore_index=True)\n",
      "/home/workstation/Escritorio/PabloC/TransferLearning/funcionesComunes.py:191: FutureWarning: The behavior of DataFrame concatenation with empty or all-NA entries is deprecated. In a future version, this will no longer exclude empty or all-NA columns when determining the result dtypes. To retain the old behavior, exclude the relevant entries before the concat operation.\n",
      "  predictionsDF = pd.concat([predictionsDF, tempDF], ignore_index=True)\n",
      "/home/workstation/Escritorio/PabloC/TransferLearning/funcionesComunes.py:191: FutureWarning: The behavior of DataFrame concatenation with empty or all-NA entries is deprecated. In a future version, this will no longer exclude empty or all-NA columns when determining the result dtypes. To retain the old behavior, exclude the relevant entries before the concat operation.\n",
      "  predictionsDF = pd.concat([predictionsDF, tempDF], ignore_index=True)\n"
     ]
    },
    {
     "name": "stdout",
     "output_type": "stream",
     "text": [
      "RESULTADOS DE MSE, RMSE, R2, MAPE (Train): 211.2408429034283, 14.53412683663619, 0.38094313237273114, 42.660971241203654\n",
      "RESULTADOS DE MSE, RMSE, R2, MAPE (Val): 250.80030259672188, 15.836675869535307, 0.27625686993772747, 45.52232554231262\n",
      "RESULTADOS DE MSE, RMSE, R2, MAPE (Test): 209.35073963839832, 14.468957793787302, 0.2930315385175789, 45.753188938470366\n",
      "Abies pindrow Pinus wallichiana\n",
      "(16018, 77)\n",
      "SE HA NORMALIZADO EL ARCHIVO: Abies pindrow_merged.csv\n",
      "(9042, 4, 43) (3441, 4, 43) (2815, 4, 43)\n",
      "<LSTM name=lstm_101, built=True> False\n",
      "<LSTM name=lstm_102, built=True> False\n",
      "<Dropout name=dropout_56, built=True> True\n",
      "<LSTM name=lstm_103, built=True> False\n",
      "<LSTM name=lstm_104, built=True> False\n",
      "<LSTM name=lstm_105, built=True> True\n",
      "<Dense name=dense_56, built=True> True\n",
      "<Dropout name=dropout_57, built=True> True\n",
      "<Dense name=dense_57, built=True> True\n",
      "[MODELO CONGELADO]: 154.46712398529053\n"
     ]
    },
    {
     "name": "stderr",
     "output_type": "stream",
     "text": [
      "/home/workstation/Escritorio/PabloC/TransferLearning/funcionesComunes.py:191: FutureWarning: The behavior of DataFrame concatenation with empty or all-NA entries is deprecated. In a future version, this will no longer exclude empty or all-NA columns when determining the result dtypes. To retain the old behavior, exclude the relevant entries before the concat operation.\n",
      "  predictionsDF = pd.concat([predictionsDF, tempDF], ignore_index=True)\n",
      "/home/workstation/Escritorio/PabloC/TransferLearning/funcionesComunes.py:191: FutureWarning: The behavior of DataFrame concatenation with empty or all-NA entries is deprecated. In a future version, this will no longer exclude empty or all-NA columns when determining the result dtypes. To retain the old behavior, exclude the relevant entries before the concat operation.\n",
      "  predictionsDF = pd.concat([predictionsDF, tempDF], ignore_index=True)\n",
      "/home/workstation/Escritorio/PabloC/TransferLearning/funcionesComunes.py:191: FutureWarning: The behavior of DataFrame concatenation with empty or all-NA entries is deprecated. In a future version, this will no longer exclude empty or all-NA columns when determining the result dtypes. To retain the old behavior, exclude the relevant entries before the concat operation.\n",
      "  predictionsDF = pd.concat([predictionsDF, tempDF], ignore_index=True)\n"
     ]
    },
    {
     "name": "stdout",
     "output_type": "stream",
     "text": [
      "RESULTADOS DE MSE, RMSE, R2, MAPE (Train): 184.24834422111164, 13.573810968961945, 0.20914724301489507, 45.879368421944\n",
      "RESULTADOS DE MSE, RMSE, R2, MAPE (Val): 149.18670816599138, 12.214201085866868, 0.1489661842427219, 40.589749843256484\n",
      "RESULTADOS DE MSE, RMSE, R2, MAPE (Test): 276.65379261588083, 16.632912932372395, -0.9558641388735949, 50.89523792959283\n",
      "Juniperus excelsa M.-Bieb Pinus wallichiana\n",
      "(7449, 77)\n",
      "SE HA NORMALIZADO EL ARCHIVO: Juniperus excelsa M.-Bieb_merged.csv\n",
      "(4189, 4, 43) (1707, 4, 43) (1228, 4, 43)\n",
      "<LSTM name=lstm_101, built=True> False\n",
      "<LSTM name=lstm_102, built=True> False\n",
      "<Dropout name=dropout_56, built=True> True\n",
      "<LSTM name=lstm_103, built=True> False\n",
      "<LSTM name=lstm_104, built=True> False\n",
      "<LSTM name=lstm_105, built=True> True\n",
      "<Dense name=dense_56, built=True> True\n",
      "<Dropout name=dropout_57, built=True> True\n",
      "<Dense name=dense_57, built=True> True\n",
      "[MODELO CONGELADO]: 68.4439685344696\n"
     ]
    },
    {
     "name": "stderr",
     "output_type": "stream",
     "text": [
      "/home/workstation/Escritorio/PabloC/TransferLearning/funcionesComunes.py:191: FutureWarning: The behavior of DataFrame concatenation with empty or all-NA entries is deprecated. In a future version, this will no longer exclude empty or all-NA columns when determining the result dtypes. To retain the old behavior, exclude the relevant entries before the concat operation.\n",
      "  predictionsDF = pd.concat([predictionsDF, tempDF], ignore_index=True)\n",
      "/home/workstation/Escritorio/PabloC/TransferLearning/funcionesComunes.py:191: FutureWarning: The behavior of DataFrame concatenation with empty or all-NA entries is deprecated. In a future version, this will no longer exclude empty or all-NA columns when determining the result dtypes. To retain the old behavior, exclude the relevant entries before the concat operation.\n",
      "  predictionsDF = pd.concat([predictionsDF, tempDF], ignore_index=True)\n",
      "/home/workstation/Escritorio/PabloC/TransferLearning/funcionesComunes.py:191: FutureWarning: The behavior of DataFrame concatenation with empty or all-NA entries is deprecated. In a future version, this will no longer exclude empty or all-NA columns when determining the result dtypes. To retain the old behavior, exclude the relevant entries before the concat operation.\n",
      "  predictionsDF = pd.concat([predictionsDF, tempDF], ignore_index=True)\n"
     ]
    },
    {
     "name": "stdout",
     "output_type": "stream",
     "text": [
      "RESULTADOS DE MSE, RMSE, R2, MAPE (Train): 20.786732835079075, 4.559246959211475, 0.15506082782771502, 50.13840099896475\n",
      "RESULTADOS DE MSE, RMSE, R2, MAPE (Val): 24.902579811741756, 4.990248471944233, 0.05030907541216201, 58.08899797897579\n",
      "RESULTADOS DE MSE, RMSE, R2, MAPE (Test): 84.82518042373263, 9.210058654738994, -0.25760378886225777, 70.94864574547431\n",
      "Juniperus turkestanica Komar. Pinus wallichiana\n",
      "(6305, 77)\n",
      "SE HA NORMALIZADO EL ARCHIVO: Juniperus turkestanica Komar._merged.csv\n",
      "(3664, 4, 43) (1368, 4, 43) (1001, 4, 43)\n",
      "<LSTM name=lstm_101, built=True> False\n",
      "<LSTM name=lstm_102, built=True> False\n",
      "<Dropout name=dropout_56, built=True> True\n",
      "<LSTM name=lstm_103, built=True> False\n",
      "<LSTM name=lstm_104, built=True> False\n",
      "<LSTM name=lstm_105, built=True> True\n",
      "<Dense name=dense_56, built=True> True\n",
      "<Dropout name=dropout_57, built=True> True\n",
      "<Dense name=dense_57, built=True> True\n",
      "[MODELO CONGELADO]: 15.512003183364868\n"
     ]
    },
    {
     "name": "stderr",
     "output_type": "stream",
     "text": [
      "/home/workstation/Escritorio/PabloC/TransferLearning/funcionesComunes.py:191: FutureWarning: The behavior of DataFrame concatenation with empty or all-NA entries is deprecated. In a future version, this will no longer exclude empty or all-NA columns when determining the result dtypes. To retain the old behavior, exclude the relevant entries before the concat operation.\n",
      "  predictionsDF = pd.concat([predictionsDF, tempDF], ignore_index=True)\n",
      "/home/workstation/Escritorio/PabloC/TransferLearning/funcionesComunes.py:191: FutureWarning: The behavior of DataFrame concatenation with empty or all-NA entries is deprecated. In a future version, this will no longer exclude empty or all-NA columns when determining the result dtypes. To retain the old behavior, exclude the relevant entries before the concat operation.\n",
      "  predictionsDF = pd.concat([predictionsDF, tempDF], ignore_index=True)\n",
      "/home/workstation/Escritorio/PabloC/TransferLearning/funcionesComunes.py:191: FutureWarning: The behavior of DataFrame concatenation with empty or all-NA entries is deprecated. In a future version, this will no longer exclude empty or all-NA columns when determining the result dtypes. To retain the old behavior, exclude the relevant entries before the concat operation.\n",
      "  predictionsDF = pd.concat([predictionsDF, tempDF], ignore_index=True)\n"
     ]
    },
    {
     "name": "stdout",
     "output_type": "stream",
     "text": [
      "RESULTADOS DE MSE, RMSE, R2, MAPE (Train): 10.648456465115473, 3.2631972764629897, 0.76277074907202, 33.81151885513201\n",
      "RESULTADOS DE MSE, RMSE, R2, MAPE (Val): 9.49001994149748, 3.0805875967901772, 0.44812962656786504, 42.03120461296502\n",
      "RESULTADOS DE MSE, RMSE, R2, MAPE (Test): 3.0111777867479095, 1.735274556589795, 0.4460273915217753, 34.9320390661363\n",
      "Pinus roxburghii Pinus wallichiana\n",
      "(10635, 77)\n",
      "SE HA NORMALIZADO EL ARCHIVO: Pinus roxburghii_merged.csv\n",
      "(6309, 4, 43) (2167, 4, 43) (1647, 4, 43)\n",
      "<LSTM name=lstm_101, built=True> False\n",
      "<LSTM name=lstm_102, built=True> False\n",
      "<Dropout name=dropout_56, built=True> True\n",
      "<LSTM name=lstm_103, built=True> False\n",
      "<LSTM name=lstm_104, built=True> False\n",
      "<LSTM name=lstm_105, built=True> True\n",
      "<Dense name=dense_56, built=True> True\n",
      "<Dropout name=dropout_57, built=True> True\n",
      "<Dense name=dense_57, built=True> True\n",
      "[MODELO CONGELADO]: 27.61411452293396\n"
     ]
    },
    {
     "name": "stderr",
     "output_type": "stream",
     "text": [
      "/home/workstation/Escritorio/PabloC/TransferLearning/funcionesComunes.py:191: FutureWarning: The behavior of DataFrame concatenation with empty or all-NA entries is deprecated. In a future version, this will no longer exclude empty or all-NA columns when determining the result dtypes. To retain the old behavior, exclude the relevant entries before the concat operation.\n",
      "  predictionsDF = pd.concat([predictionsDF, tempDF], ignore_index=True)\n",
      "/home/workstation/Escritorio/PabloC/TransferLearning/funcionesComunes.py:191: FutureWarning: The behavior of DataFrame concatenation with empty or all-NA entries is deprecated. In a future version, this will no longer exclude empty or all-NA columns when determining the result dtypes. To retain the old behavior, exclude the relevant entries before the concat operation.\n",
      "  predictionsDF = pd.concat([predictionsDF, tempDF], ignore_index=True)\n",
      "/home/workstation/Escritorio/PabloC/TransferLearning/funcionesComunes.py:191: FutureWarning: The behavior of DataFrame concatenation with empty or all-NA entries is deprecated. In a future version, this will no longer exclude empty or all-NA columns when determining the result dtypes. To retain the old behavior, exclude the relevant entries before the concat operation.\n",
      "  predictionsDF = pd.concat([predictionsDF, tempDF], ignore_index=True)\n"
     ]
    },
    {
     "name": "stdout",
     "output_type": "stream",
     "text": [
      "RESULTADOS DE MSE, RMSE, R2, MAPE (Train): 192.51734140207404, 13.875061852189129, 0.27824574138720215, 44.70462488651254\n",
      "RESULTADOS DE MSE, RMSE, R2, MAPE (Val): 150.6415458181427, 12.273611767452264, 0.32751812577343653, 44.069762444767626\n",
      "RESULTADOS DE MSE, RMSE, R2, MAPE (Test): 173.65477538115235, 13.177813755746905, 0.27130827577561456, 45.5639143359497\n",
      "Pinus wallichiana Pinus wallichiana\n",
      "Pinus gerardiana Pinus wallichiana\n",
      "(10101, 77)\n",
      "SE HA NORMALIZADO EL ARCHIVO: Pinus gerardiana_merged.csv\n",
      "(5767, 4, 43) (2181, 4, 43) (1745, 4, 43)\n",
      "<LSTM name=lstm_101, built=True> False\n",
      "<LSTM name=lstm_102, built=True> False\n",
      "<Dropout name=dropout_56, built=True> True\n",
      "<LSTM name=lstm_103, built=True> False\n",
      "<LSTM name=lstm_104, built=True> False\n",
      "<LSTM name=lstm_105, built=True> True\n",
      "<Dense name=dense_56, built=True> True\n",
      "<Dropout name=dropout_57, built=True> True\n",
      "<Dense name=dense_57, built=True> True\n",
      "[MODELO CONGELADO]: 44.12529516220093\n"
     ]
    },
    {
     "name": "stderr",
     "output_type": "stream",
     "text": [
      "/home/workstation/Escritorio/PabloC/TransferLearning/funcionesComunes.py:191: FutureWarning: The behavior of DataFrame concatenation with empty or all-NA entries is deprecated. In a future version, this will no longer exclude empty or all-NA columns when determining the result dtypes. To retain the old behavior, exclude the relevant entries before the concat operation.\n",
      "  predictionsDF = pd.concat([predictionsDF, tempDF], ignore_index=True)\n",
      "/home/workstation/Escritorio/PabloC/TransferLearning/funcionesComunes.py:191: FutureWarning: The behavior of DataFrame concatenation with empty or all-NA entries is deprecated. In a future version, this will no longer exclude empty or all-NA columns when determining the result dtypes. To retain the old behavior, exclude the relevant entries before the concat operation.\n",
      "  predictionsDF = pd.concat([predictionsDF, tempDF], ignore_index=True)\n",
      "/home/workstation/Escritorio/PabloC/TransferLearning/funcionesComunes.py:191: FutureWarning: The behavior of DataFrame concatenation with empty or all-NA entries is deprecated. In a future version, this will no longer exclude empty or all-NA columns when determining the result dtypes. To retain the old behavior, exclude the relevant entries before the concat operation.\n",
      "  predictionsDF = pd.concat([predictionsDF, tempDF], ignore_index=True)\n"
     ]
    },
    {
     "name": "stdout",
     "output_type": "stream",
     "text": [
      "RESULTADOS DE MSE, RMSE, R2, MAPE (Train): 21.00405354378812, 4.58301795150184, 0.4588972508391287, 36.667363304720304\n",
      "RESULTADOS DE MSE, RMSE, R2, MAPE (Val): 22.83436673852592, 4.778531860155995, 0.42293712683465157, 36.27257348053991\n",
      "RESULTADOS DE MSE, RMSE, R2, MAPE (Test): 18.976552162003454, 4.356208461724881, 0.5276579746613044, 34.63723877914836\n",
      "Populus ciliata Pinus wallichiana\n",
      "(1182, 77)\n",
      "SE HA NORMALIZADO EL ARCHIVO: Populus ciliata_merged.csv\n",
      "(705, 4, 43) (156, 4, 43) (265, 4, 43)\n",
      "<LSTM name=lstm_101, built=True> False\n",
      "<LSTM name=lstm_102, built=True> False\n",
      "<Dropout name=dropout_56, built=True> True\n",
      "<LSTM name=lstm_103, built=True> False\n",
      "<LSTM name=lstm_104, built=True> False\n",
      "<LSTM name=lstm_105, built=True> True\n",
      "<Dense name=dense_56, built=True> True\n",
      "<Dropout name=dropout_57, built=True> True\n",
      "<Dense name=dense_57, built=True> True\n",
      "[MODELO CONGELADO]: 15.765911102294922\n"
     ]
    },
    {
     "name": "stderr",
     "output_type": "stream",
     "text": [
      "/home/workstation/Escritorio/PabloC/TransferLearning/funcionesComunes.py:191: FutureWarning: The behavior of DataFrame concatenation with empty or all-NA entries is deprecated. In a future version, this will no longer exclude empty or all-NA columns when determining the result dtypes. To retain the old behavior, exclude the relevant entries before the concat operation.\n",
      "  predictionsDF = pd.concat([predictionsDF, tempDF], ignore_index=True)\n",
      "/home/workstation/Escritorio/PabloC/TransferLearning/funcionesComunes.py:191: FutureWarning: The behavior of DataFrame concatenation with empty or all-NA entries is deprecated. In a future version, this will no longer exclude empty or all-NA columns when determining the result dtypes. To retain the old behavior, exclude the relevant entries before the concat operation.\n",
      "  predictionsDF = pd.concat([predictionsDF, tempDF], ignore_index=True)\n",
      "/home/workstation/Escritorio/PabloC/TransferLearning/funcionesComunes.py:191: FutureWarning: The behavior of DataFrame concatenation with empty or all-NA entries is deprecated. In a future version, this will no longer exclude empty or all-NA columns when determining the result dtypes. To retain the old behavior, exclude the relevant entries before the concat operation.\n",
      "  predictionsDF = pd.concat([predictionsDF, tempDF], ignore_index=True)\n"
     ]
    },
    {
     "name": "stdout",
     "output_type": "stream",
     "text": [
      "RESULTADOS DE MSE, RMSE, R2, MAPE (Train): 196.8930438623622, 14.031858175678737, 0.4578829069053867, 39.59726742932423\n",
      "RESULTADOS DE MSE, RMSE, R2, MAPE (Val): 236.66194569213476, 15.383820906788234, -0.00836793511539291, 47.63383110593334\n",
      "RESULTADOS DE MSE, RMSE, R2, MAPE (Test): 90.1549317326611, 9.494995088606476, 0.549517832616583, 34.89134913707528\n",
      "Betula utilis Pinus wallichiana\n",
      "(3473, 77)\n",
      "SE HA NORMALIZADO EL ARCHIVO: Betula utilis_merged.csv\n",
      "(2059, 4, 43) (665, 4, 43) (593, 4, 43)\n",
      "<LSTM name=lstm_101, built=True> False\n",
      "<LSTM name=lstm_102, built=True> False\n",
      "<Dropout name=dropout_56, built=True> True\n",
      "<LSTM name=lstm_103, built=True> False\n",
      "<LSTM name=lstm_104, built=True> False\n",
      "<LSTM name=lstm_105, built=True> True\n",
      "<Dense name=dense_56, built=True> True\n",
      "<Dropout name=dropout_57, built=True> True\n",
      "<Dense name=dense_57, built=True> True\n",
      "[MODELO CONGELADO]: 12.44573712348938\n"
     ]
    },
    {
     "name": "stderr",
     "output_type": "stream",
     "text": [
      "/home/workstation/Escritorio/PabloC/TransferLearning/funcionesComunes.py:191: FutureWarning: The behavior of DataFrame concatenation with empty or all-NA entries is deprecated. In a future version, this will no longer exclude empty or all-NA columns when determining the result dtypes. To retain the old behavior, exclude the relevant entries before the concat operation.\n",
      "  predictionsDF = pd.concat([predictionsDF, tempDF], ignore_index=True)\n",
      "/home/workstation/Escritorio/PabloC/TransferLearning/funcionesComunes.py:191: FutureWarning: The behavior of DataFrame concatenation with empty or all-NA entries is deprecated. In a future version, this will no longer exclude empty or all-NA columns when determining the result dtypes. To retain the old behavior, exclude the relevant entries before the concat operation.\n",
      "  predictionsDF = pd.concat([predictionsDF, tempDF], ignore_index=True)\n",
      "/home/workstation/Escritorio/PabloC/TransferLearning/funcionesComunes.py:191: FutureWarning: The behavior of DataFrame concatenation with empty or all-NA entries is deprecated. In a future version, this will no longer exclude empty or all-NA columns when determining the result dtypes. To retain the old behavior, exclude the relevant entries before the concat operation.\n",
      "  predictionsDF = pd.concat([predictionsDF, tempDF], ignore_index=True)\n"
     ]
    },
    {
     "name": "stdout",
     "output_type": "stream",
     "text": [
      "RESULTADOS DE MSE, RMSE, R2, MAPE (Train): 5.709328599320597, 2.3894201387199776, 0.1571587162059599, 59.44595801957144\n",
      "RESULTADOS DE MSE, RMSE, R2, MAPE (Val): 1.531615416208517, 1.2375845087138562, 0.20238641014311332, 46.84597050029182\n",
      "RESULTADOS DE MSE, RMSE, R2, MAPE (Test): 1.4552825587366864, 1.2063509268602923, 0.44386421735326953, 46.17114873675832\n",
      "Tsuga dumosa Pinus wallichiana\n",
      "(20493, 77)\n",
      "SE HA NORMALIZADO EL ARCHIVO: Tsuga dumosa_merged.csv\n",
      "(11935, 4, 43) (4144, 4, 43) (3469, 4, 43)\n",
      "<LSTM name=lstm_101, built=True> False\n",
      "<LSTM name=lstm_102, built=True> False\n",
      "<Dropout name=dropout_56, built=True> True\n",
      "<LSTM name=lstm_103, built=True> False\n",
      "<LSTM name=lstm_104, built=True> False\n",
      "<LSTM name=lstm_105, built=True> True\n",
      "<Dense name=dense_56, built=True> True\n",
      "<Dropout name=dropout_57, built=True> True\n",
      "<Dense name=dense_57, built=True> True\n",
      "[MODELO CONGELADO]: 218.98947429656982\n"
     ]
    },
    {
     "name": "stderr",
     "output_type": "stream",
     "text": [
      "/home/workstation/Escritorio/PabloC/TransferLearning/funcionesComunes.py:191: FutureWarning: The behavior of DataFrame concatenation with empty or all-NA entries is deprecated. In a future version, this will no longer exclude empty or all-NA columns when determining the result dtypes. To retain the old behavior, exclude the relevant entries before the concat operation.\n",
      "  predictionsDF = pd.concat([predictionsDF, tempDF], ignore_index=True)\n",
      "/home/workstation/Escritorio/PabloC/TransferLearning/funcionesComunes.py:191: FutureWarning: The behavior of DataFrame concatenation with empty or all-NA entries is deprecated. In a future version, this will no longer exclude empty or all-NA columns when determining the result dtypes. To retain the old behavior, exclude the relevant entries before the concat operation.\n",
      "  predictionsDF = pd.concat([predictionsDF, tempDF], ignore_index=True)\n",
      "/home/workstation/Escritorio/PabloC/TransferLearning/funcionesComunes.py:191: FutureWarning: The behavior of DataFrame concatenation with empty or all-NA entries is deprecated. In a future version, this will no longer exclude empty or all-NA columns when determining the result dtypes. To retain the old behavior, exclude the relevant entries before the concat operation.\n",
      "  predictionsDF = pd.concat([predictionsDF, tempDF], ignore_index=True)\n"
     ]
    },
    {
     "name": "stdout",
     "output_type": "stream",
     "text": [
      "RESULTADOS DE MSE, RMSE, R2, MAPE (Train): 266.34290468091933, 16.320015462030646, 0.31608707371873823, 46.67616046316443\n",
      "RESULTADOS DE MSE, RMSE, R2, MAPE (Val): 224.07685840822944, 14.969196986085441, 0.2889247789763384, 42.84380648845511\n",
      "RESULTADOS DE MSE, RMSE, R2, MAPE (Test): 410.94008392428015, 20.271657157822105, 0.32923860712029596, 47.431747864567946\n",
      "Cedrus deodara Pinus wallichiana\n",
      "(37273, 77)\n",
      "SE HA NORMALIZADO EL ARCHIVO: Cedrus deodara_merged.csv\n",
      "(22017, 4, 43) (7410, 4, 43) (6282, 4, 43)\n",
      "<LSTM name=lstm_101, built=True> False\n",
      "<LSTM name=lstm_102, built=True> False\n",
      "<Dropout name=dropout_56, built=True> True\n",
      "<LSTM name=lstm_103, built=True> False\n",
      "<LSTM name=lstm_104, built=True> False\n",
      "<LSTM name=lstm_105, built=True> True\n",
      "<Dense name=dense_56, built=True> True\n",
      "<Dropout name=dropout_57, built=True> True\n",
      "<Dense name=dense_57, built=True> True\n",
      "[MODELO CONGELADO]: 124.13116383552551\n"
     ]
    },
    {
     "name": "stderr",
     "output_type": "stream",
     "text": [
      "/home/workstation/Escritorio/PabloC/TransferLearning/funcionesComunes.py:191: FutureWarning: The behavior of DataFrame concatenation with empty or all-NA entries is deprecated. In a future version, this will no longer exclude empty or all-NA columns when determining the result dtypes. To retain the old behavior, exclude the relevant entries before the concat operation.\n",
      "  predictionsDF = pd.concat([predictionsDF, tempDF], ignore_index=True)\n",
      "/home/workstation/Escritorio/PabloC/TransferLearning/funcionesComunes.py:191: FutureWarning: The behavior of DataFrame concatenation with empty or all-NA entries is deprecated. In a future version, this will no longer exclude empty or all-NA columns when determining the result dtypes. To retain the old behavior, exclude the relevant entries before the concat operation.\n",
      "  predictionsDF = pd.concat([predictionsDF, tempDF], ignore_index=True)\n",
      "/home/workstation/Escritorio/PabloC/TransferLearning/funcionesComunes.py:191: FutureWarning: The behavior of DataFrame concatenation with empty or all-NA entries is deprecated. In a future version, this will no longer exclude empty or all-NA columns when determining the result dtypes. To retain the old behavior, exclude the relevant entries before the concat operation.\n",
      "  predictionsDF = pd.concat([predictionsDF, tempDF], ignore_index=True)\n"
     ]
    },
    {
     "name": "stdout",
     "output_type": "stream",
     "text": [
      "RESULTADOS DE MSE, RMSE, R2, MAPE (Train): 242.9923451388545, 15.588211736400506, 0.4311042947187764, 42.18076501301986\n",
      "RESULTADOS DE MSE, RMSE, R2, MAPE (Val): 299.31618560810847, 17.300756792929853, 0.3290983980686679, 45.03183938395735\n",
      "RESULTADOS DE MSE, RMSE, R2, MAPE (Test): 219.22378362641513, 14.806207604461553, 0.3779613670967539, 42.27255949060853\n",
      "Juniperus spp. L. Pinus wallichiana\n",
      "(7264, 77)\n",
      "SE HA NORMALIZADO EL ARCHIVO: Juniperus spp. L._merged.csv\n",
      "(4216, 4, 43) (1524, 4, 43) (1188, 4, 43)\n",
      "<LSTM name=lstm_101, built=True> False\n",
      "<LSTM name=lstm_102, built=True> False\n",
      "<Dropout name=dropout_56, built=True> True\n",
      "<LSTM name=lstm_103, built=True> False\n",
      "<LSTM name=lstm_104, built=True> False\n",
      "<LSTM name=lstm_105, built=True> True\n",
      "<Dense name=dense_56, built=True> True\n",
      "<Dropout name=dropout_57, built=True> True\n",
      "<Dense name=dense_57, built=True> True\n",
      "[MODELO CONGELADO]: 20.559452056884766\n"
     ]
    },
    {
     "name": "stderr",
     "output_type": "stream",
     "text": [
      "/home/workstation/Escritorio/PabloC/TransferLearning/funcionesComunes.py:191: FutureWarning: The behavior of DataFrame concatenation with empty or all-NA entries is deprecated. In a future version, this will no longer exclude empty or all-NA columns when determining the result dtypes. To retain the old behavior, exclude the relevant entries before the concat operation.\n",
      "  predictionsDF = pd.concat([predictionsDF, tempDF], ignore_index=True)\n",
      "/home/workstation/Escritorio/PabloC/TransferLearning/funcionesComunes.py:191: FutureWarning: The behavior of DataFrame concatenation with empty or all-NA entries is deprecated. In a future version, this will no longer exclude empty or all-NA columns when determining the result dtypes. To retain the old behavior, exclude the relevant entries before the concat operation.\n",
      "  predictionsDF = pd.concat([predictionsDF, tempDF], ignore_index=True)\n",
      "/home/workstation/Escritorio/PabloC/TransferLearning/funcionesComunes.py:191: FutureWarning: The behavior of DataFrame concatenation with empty or all-NA entries is deprecated. In a future version, this will no longer exclude empty or all-NA columns when determining the result dtypes. To retain the old behavior, exclude the relevant entries before the concat operation.\n",
      "  predictionsDF = pd.concat([predictionsDF, tempDF], ignore_index=True)\n"
     ]
    },
    {
     "name": "stdout",
     "output_type": "stream",
     "text": [
      "RESULTADOS DE MSE, RMSE, R2, MAPE (Train): 4.668749564671953, 2.160728942896807, 0.6275127256612552, 39.653420173780205\n",
      "RESULTADOS DE MSE, RMSE, R2, MAPE (Val): 1.528171700936164, 1.2361924206757473, 0.3219145053750361, 43.36435692768485\n",
      "RESULTADOS DE MSE, RMSE, R2, MAPE (Test): 12.815573519936875, 3.5798845679626146, 0.3239709700164446, 52.86173780005894\n",
      "Juniperus recurva Pinus wallichiana\n",
      "(5316, 77)\n",
      "SE HA NORMALIZADO EL ARCHIVO: Juniperus recurva_merged.csv\n",
      "(3188, 4, 43) (1082, 4, 43) (810, 4, 43)\n",
      "<LSTM name=lstm_101, built=True> False\n",
      "<LSTM name=lstm_102, built=True> False\n",
      "<Dropout name=dropout_56, built=True> True\n",
      "<LSTM name=lstm_103, built=True> False\n",
      "<LSTM name=lstm_104, built=True> False\n",
      "<LSTM name=lstm_105, built=True> True\n",
      "<Dense name=dense_56, built=True> True\n",
      "<Dropout name=dropout_57, built=True> True\n",
      "<Dense name=dense_57, built=True> True\n",
      "[MODELO CONGELADO]: 54.65240263938904\n"
     ]
    },
    {
     "name": "stderr",
     "output_type": "stream",
     "text": [
      "/home/workstation/Escritorio/PabloC/TransferLearning/funcionesComunes.py:191: FutureWarning: The behavior of DataFrame concatenation with empty or all-NA entries is deprecated. In a future version, this will no longer exclude empty or all-NA columns when determining the result dtypes. To retain the old behavior, exclude the relevant entries before the concat operation.\n",
      "  predictionsDF = pd.concat([predictionsDF, tempDF], ignore_index=True)\n",
      "/home/workstation/Escritorio/PabloC/TransferLearning/funcionesComunes.py:191: FutureWarning: The behavior of DataFrame concatenation with empty or all-NA entries is deprecated. In a future version, this will no longer exclude empty or all-NA columns when determining the result dtypes. To retain the old behavior, exclude the relevant entries before the concat operation.\n",
      "  predictionsDF = pd.concat([predictionsDF, tempDF], ignore_index=True)\n",
      "/home/workstation/Escritorio/PabloC/TransferLearning/funcionesComunes.py:191: FutureWarning: The behavior of DataFrame concatenation with empty or all-NA entries is deprecated. In a future version, this will no longer exclude empty or all-NA columns when determining the result dtypes. To retain the old behavior, exclude the relevant entries before the concat operation.\n",
      "  predictionsDF = pd.concat([predictionsDF, tempDF], ignore_index=True)\n"
     ]
    },
    {
     "name": "stdout",
     "output_type": "stream",
     "text": [
      "RESULTADOS DE MSE, RMSE, R2, MAPE (Train): 10.916900254944368, 3.304073282320531, 0.5662027504651068, 37.55520332396432\n",
      "RESULTADOS DE MSE, RMSE, R2, MAPE (Val): 8.26183020125989, 2.87433995923584, 0.7000012428854079, 30.826120143399276\n",
      "RESULTADOS DE MSE, RMSE, R2, MAPE (Test): 3.2964013553202194, 1.8155994479290358, 0.6495521582075092, 28.289918950318327\n",
      "totalMerged.csv Pinus wallichiana\n",
      "Juniperus spp.  Pinus wallichiana\n",
      "(17976, 77)\n",
      "SE HA NORMALIZADO EL ARCHIVO: Juniperus spp. _merged.csv\n",
      "(10218, 4, 43) (3900, 4, 43) (3018, 4, 43)\n",
      "<LSTM name=lstm_101, built=True> False\n",
      "<LSTM name=lstm_102, built=True> False\n",
      "<Dropout name=dropout_56, built=True> True\n",
      "<LSTM name=lstm_103, built=True> False\n",
      "<LSTM name=lstm_104, built=True> False\n",
      "<LSTM name=lstm_105, built=True> True\n",
      "<Dense name=dense_56, built=True> True\n",
      "<Dropout name=dropout_57, built=True> True\n",
      "<Dense name=dense_57, built=True> True\n",
      "[MODELO CONGELADO]: 202.14300966262817\n"
     ]
    },
    {
     "name": "stderr",
     "output_type": "stream",
     "text": [
      "/home/workstation/Escritorio/PabloC/TransferLearning/funcionesComunes.py:191: FutureWarning: The behavior of DataFrame concatenation with empty or all-NA entries is deprecated. In a future version, this will no longer exclude empty or all-NA columns when determining the result dtypes. To retain the old behavior, exclude the relevant entries before the concat operation.\n",
      "  predictionsDF = pd.concat([predictionsDF, tempDF], ignore_index=True)\n",
      "/home/workstation/Escritorio/PabloC/TransferLearning/funcionesComunes.py:191: FutureWarning: The behavior of DataFrame concatenation with empty or all-NA entries is deprecated. In a future version, this will no longer exclude empty or all-NA columns when determining the result dtypes. To retain the old behavior, exclude the relevant entries before the concat operation.\n",
      "  predictionsDF = pd.concat([predictionsDF, tempDF], ignore_index=True)\n",
      "/home/workstation/Escritorio/PabloC/TransferLearning/funcionesComunes.py:191: FutureWarning: The behavior of DataFrame concatenation with empty or all-NA entries is deprecated. In a future version, this will no longer exclude empty or all-NA columns when determining the result dtypes. To retain the old behavior, exclude the relevant entries before the concat operation.\n",
      "  predictionsDF = pd.concat([predictionsDF, tempDF], ignore_index=True)\n"
     ]
    },
    {
     "name": "stdout",
     "output_type": "stream",
     "text": [
      "RESULTADOS DE MSE, RMSE, R2, MAPE (Train): 32.93041917148284, 5.738503216996818, 0.46292742581334034, 42.478352979699515\n",
      "RESULTADOS DE MSE, RMSE, R2, MAPE (Val): 9.706379221921207, 3.1155062545148593, 0.5066076382678231, 42.65821542722045\n",
      "RESULTADOS DE MSE, RMSE, R2, MAPE (Test): 49.51966131260988, 7.037020769658839, 0.5261109669736539, 42.975772670787656\n",
      "Procesando el modelo: model_Cedrus deodara.keras\n",
      "Abies spectabilis Cedrus deodara\n",
      "(96429, 77)\n",
      "SE HA NORMALIZADO EL ARCHIVO: Abies spectabilis_merged.csv\n",
      "(56618, 4, 43) (19637, 4, 43) (15689, 4, 43)\n",
      "<LSTM name=lstm_119, built=True> False\n",
      "<LSTM name=lstm_120, built=True> False\n",
      "<LSTM name=lstm_121, built=True> False\n",
      "<Dropout name=dropout_66, built=True> True\n",
      "<LSTM name=lstm_122, built=True> False\n",
      "<LSTM name=lstm_123, built=True> False\n",
      "<LSTM name=lstm_124, built=True> True\n",
      "<Dense name=dense_66, built=True> True\n",
      "<Dropout name=dropout_67, built=True> True\n",
      "<Dense name=dense_67, built=True> True\n",
      "[MODELO CONGELADO]: 973.5115194320679\n"
     ]
    },
    {
     "name": "stderr",
     "output_type": "stream",
     "text": [
      "/home/workstation/Escritorio/PabloC/TransferLearning/funcionesComunes.py:191: FutureWarning: The behavior of DataFrame concatenation with empty or all-NA entries is deprecated. In a future version, this will no longer exclude empty or all-NA columns when determining the result dtypes. To retain the old behavior, exclude the relevant entries before the concat operation.\n",
      "  predictionsDF = pd.concat([predictionsDF, tempDF], ignore_index=True)\n",
      "/home/workstation/Escritorio/PabloC/TransferLearning/funcionesComunes.py:191: FutureWarning: The behavior of DataFrame concatenation with empty or all-NA entries is deprecated. In a future version, this will no longer exclude empty or all-NA columns when determining the result dtypes. To retain the old behavior, exclude the relevant entries before the concat operation.\n",
      "  predictionsDF = pd.concat([predictionsDF, tempDF], ignore_index=True)\n",
      "/home/workstation/Escritorio/PabloC/TransferLearning/funcionesComunes.py:191: FutureWarning: The behavior of DataFrame concatenation with empty or all-NA entries is deprecated. In a future version, this will no longer exclude empty or all-NA columns when determining the result dtypes. To retain the old behavior, exclude the relevant entries before the concat operation.\n",
      "  predictionsDF = pd.concat([predictionsDF, tempDF], ignore_index=True)\n"
     ]
    },
    {
     "name": "stdout",
     "output_type": "stream",
     "text": [
      "RESULTADOS DE MSE, RMSE, R2, MAPE (Train): 29.205523456598502, 5.404213491027025, 0.7437665899537956, 28.18938048541566\n",
      "RESULTADOS DE MSE, RMSE, R2, MAPE (Val): 29.329449462324256, 5.41566703761635, 0.732760464697995, 28.622855390258422\n",
      "RESULTADOS DE MSE, RMSE, R2, MAPE (Test): 30.497726795894994, 5.522474698529184, 0.7738210526147266, 27.70937102024288\n",
      "Picea smithiana Cedrus deodara\n",
      "(34476, 77)\n",
      "SE HA NORMALIZADO EL ARCHIVO: Picea smithiana_merged.csv\n",
      "(19933, 4, 43) (7272, 4, 43) (5863, 4, 43)\n",
      "<LSTM name=lstm_119, built=True> False\n",
      "<LSTM name=lstm_120, built=True> False\n",
      "<LSTM name=lstm_121, built=True> False\n",
      "<Dropout name=dropout_66, built=True> True\n",
      "<LSTM name=lstm_122, built=True> False\n",
      "<LSTM name=lstm_123, built=True> False\n",
      "<LSTM name=lstm_124, built=True> True\n",
      "<Dense name=dense_66, built=True> True\n",
      "<Dropout name=dropout_67, built=True> True\n",
      "<Dense name=dense_67, built=True> True\n",
      "[MODELO CONGELADO]: 592.1389100551605\n"
     ]
    },
    {
     "name": "stderr",
     "output_type": "stream",
     "text": [
      "/home/workstation/Escritorio/PabloC/TransferLearning/funcionesComunes.py:191: FutureWarning: The behavior of DataFrame concatenation with empty or all-NA entries is deprecated. In a future version, this will no longer exclude empty or all-NA columns when determining the result dtypes. To retain the old behavior, exclude the relevant entries before the concat operation.\n",
      "  predictionsDF = pd.concat([predictionsDF, tempDF], ignore_index=True)\n",
      "/home/workstation/Escritorio/PabloC/TransferLearning/funcionesComunes.py:191: FutureWarning: The behavior of DataFrame concatenation with empty or all-NA entries is deprecated. In a future version, this will no longer exclude empty or all-NA columns when determining the result dtypes. To retain the old behavior, exclude the relevant entries before the concat operation.\n",
      "  predictionsDF = pd.concat([predictionsDF, tempDF], ignore_index=True)\n",
      "/home/workstation/Escritorio/PabloC/TransferLearning/funcionesComunes.py:191: FutureWarning: The behavior of DataFrame concatenation with empty or all-NA entries is deprecated. In a future version, this will no longer exclude empty or all-NA columns when determining the result dtypes. To retain the old behavior, exclude the relevant entries before the concat operation.\n",
      "  predictionsDF = pd.concat([predictionsDF, tempDF], ignore_index=True)\n"
     ]
    },
    {
     "name": "stdout",
     "output_type": "stream",
     "text": [
      "RESULTADOS DE MSE, RMSE, R2, MAPE (Train): 87.132181587197, 9.334462040589003, 0.7446527164845679, 27.22459448232344\n",
      "RESULTADOS DE MSE, RMSE, R2, MAPE (Val): 94.96162520123372, 9.744825560328605, 0.725965945226736, 28.066339076387585\n",
      "RESULTADOS DE MSE, RMSE, R2, MAPE (Test): 79.43556358111765, 8.912663102637598, 0.7317495115186523, 28.078662372451035\n",
      "Abies pindrow Cedrus deodara\n",
      "(16018, 77)\n",
      "SE HA NORMALIZADO EL ARCHIVO: Abies pindrow_merged.csv\n",
      "(9042, 4, 43) (3441, 4, 43) (2815, 4, 43)\n",
      "<LSTM name=lstm_119, built=True> False\n",
      "<LSTM name=lstm_120, built=True> False\n",
      "<LSTM name=lstm_121, built=True> False\n",
      "<Dropout name=dropout_66, built=True> True\n",
      "<LSTM name=lstm_122, built=True> False\n",
      "<LSTM name=lstm_123, built=True> False\n",
      "<LSTM name=lstm_124, built=True> True\n",
      "<Dense name=dense_66, built=True> True\n",
      "<Dropout name=dropout_67, built=True> True\n",
      "<Dense name=dense_67, built=True> True\n",
      "[MODELO CONGELADO]: 221.7666530609131\n"
     ]
    },
    {
     "name": "stderr",
     "output_type": "stream",
     "text": [
      "/home/workstation/Escritorio/PabloC/TransferLearning/funcionesComunes.py:191: FutureWarning: The behavior of DataFrame concatenation with empty or all-NA entries is deprecated. In a future version, this will no longer exclude empty or all-NA columns when determining the result dtypes. To retain the old behavior, exclude the relevant entries before the concat operation.\n",
      "  predictionsDF = pd.concat([predictionsDF, tempDF], ignore_index=True)\n",
      "/home/workstation/Escritorio/PabloC/TransferLearning/funcionesComunes.py:191: FutureWarning: The behavior of DataFrame concatenation with empty or all-NA entries is deprecated. In a future version, this will no longer exclude empty or all-NA columns when determining the result dtypes. To retain the old behavior, exclude the relevant entries before the concat operation.\n",
      "  predictionsDF = pd.concat([predictionsDF, tempDF], ignore_index=True)\n",
      "/home/workstation/Escritorio/PabloC/TransferLearning/funcionesComunes.py:191: FutureWarning: The behavior of DataFrame concatenation with empty or all-NA entries is deprecated. In a future version, this will no longer exclude empty or all-NA columns when determining the result dtypes. To retain the old behavior, exclude the relevant entries before the concat operation.\n",
      "  predictionsDF = pd.concat([predictionsDF, tempDF], ignore_index=True)\n"
     ]
    },
    {
     "name": "stdout",
     "output_type": "stream",
     "text": [
      "RESULTADOS DE MSE, RMSE, R2, MAPE (Train): 70.296482968156, 8.384299789973877, 0.6982650368081162, 27.041800268870457\n",
      "RESULTADOS DE MSE, RMSE, R2, MAPE (Val): 50.04058448095498, 7.073936985933292, 0.7145440764993063, 24.85398929342983\n",
      "RESULTADOS DE MSE, RMSE, R2, MAPE (Test): 74.84305267398756, 8.65118793426588, 0.4708807662285527, 27.85051130871864\n",
      "Juniperus excelsa M.-Bieb Cedrus deodara\n",
      "(7449, 77)\n",
      "SE HA NORMALIZADO EL ARCHIVO: Juniperus excelsa M.-Bieb_merged.csv\n",
      "(4189, 4, 43) (1707, 4, 43) (1228, 4, 43)\n",
      "<LSTM name=lstm_119, built=True> False\n",
      "<LSTM name=lstm_120, built=True> False\n",
      "<LSTM name=lstm_121, built=True> False\n",
      "<Dropout name=dropout_66, built=True> True\n",
      "<LSTM name=lstm_122, built=True> False\n",
      "<LSTM name=lstm_123, built=True> False\n",
      "<LSTM name=lstm_124, built=True> True\n",
      "<Dense name=dense_66, built=True> True\n",
      "<Dropout name=dropout_67, built=True> True\n",
      "<Dense name=dense_67, built=True> True\n",
      "[MODELO CONGELADO]: 51.32605695724487\n"
     ]
    },
    {
     "name": "stderr",
     "output_type": "stream",
     "text": [
      "/home/workstation/Escritorio/PabloC/TransferLearning/funcionesComunes.py:191: FutureWarning: The behavior of DataFrame concatenation with empty or all-NA entries is deprecated. In a future version, this will no longer exclude empty or all-NA columns when determining the result dtypes. To retain the old behavior, exclude the relevant entries before the concat operation.\n",
      "  predictionsDF = pd.concat([predictionsDF, tempDF], ignore_index=True)\n",
      "/home/workstation/Escritorio/PabloC/TransferLearning/funcionesComunes.py:191: FutureWarning: The behavior of DataFrame concatenation with empty or all-NA entries is deprecated. In a future version, this will no longer exclude empty or all-NA columns when determining the result dtypes. To retain the old behavior, exclude the relevant entries before the concat operation.\n",
      "  predictionsDF = pd.concat([predictionsDF, tempDF], ignore_index=True)\n",
      "/home/workstation/Escritorio/PabloC/TransferLearning/funcionesComunes.py:191: FutureWarning: The behavior of DataFrame concatenation with empty or all-NA entries is deprecated. In a future version, this will no longer exclude empty or all-NA columns when determining the result dtypes. To retain the old behavior, exclude the relevant entries before the concat operation.\n",
      "  predictionsDF = pd.concat([predictionsDF, tempDF], ignore_index=True)\n"
     ]
    },
    {
     "name": "stdout",
     "output_type": "stream",
     "text": [
      "RESULTADOS DE MSE, RMSE, R2, MAPE (Train): 7.766029618633688, 2.786759698760137, 0.6843264071802444, 29.03386934477875\n",
      "RESULTADOS DE MSE, RMSE, R2, MAPE (Val): 6.767216256022915, 2.601387371389143, 0.7419237720889471, 29.060043086796895\n",
      "RESULTADOS DE MSE, RMSE, R2, MAPE (Test): 16.735629767977063, 4.0909204059694275, 0.751880381508562, 29.881783431383575\n",
      "Juniperus turkestanica Komar. Cedrus deodara\n",
      "(6305, 77)\n",
      "SE HA NORMALIZADO EL ARCHIVO: Juniperus turkestanica Komar._merged.csv\n",
      "(3664, 4, 43) (1368, 4, 43) (1001, 4, 43)\n",
      "<LSTM name=lstm_119, built=True> False\n",
      "<LSTM name=lstm_120, built=True> False\n",
      "<LSTM name=lstm_121, built=True> False\n",
      "<Dropout name=dropout_66, built=True> True\n",
      "<LSTM name=lstm_122, built=True> False\n",
      "<LSTM name=lstm_123, built=True> False\n",
      "<LSTM name=lstm_124, built=True> True\n",
      "<Dense name=dense_66, built=True> True\n",
      "<Dropout name=dropout_67, built=True> True\n",
      "<Dense name=dense_67, built=True> True\n",
      "[MODELO CONGELADO]: 37.34667682647705\n"
     ]
    },
    {
     "name": "stderr",
     "output_type": "stream",
     "text": [
      "/home/workstation/Escritorio/PabloC/TransferLearning/funcionesComunes.py:191: FutureWarning: The behavior of DataFrame concatenation with empty or all-NA entries is deprecated. In a future version, this will no longer exclude empty or all-NA columns when determining the result dtypes. To retain the old behavior, exclude the relevant entries before the concat operation.\n",
      "  predictionsDF = pd.concat([predictionsDF, tempDF], ignore_index=True)\n",
      "/home/workstation/Escritorio/PabloC/TransferLearning/funcionesComunes.py:191: FutureWarning: The behavior of DataFrame concatenation with empty or all-NA entries is deprecated. In a future version, this will no longer exclude empty or all-NA columns when determining the result dtypes. To retain the old behavior, exclude the relevant entries before the concat operation.\n",
      "  predictionsDF = pd.concat([predictionsDF, tempDF], ignore_index=True)\n",
      "/home/workstation/Escritorio/PabloC/TransferLearning/funcionesComunes.py:191: FutureWarning: The behavior of DataFrame concatenation with empty or all-NA entries is deprecated. In a future version, this will no longer exclude empty or all-NA columns when determining the result dtypes. To retain the old behavior, exclude the relevant entries before the concat operation.\n",
      "  predictionsDF = pd.concat([predictionsDF, tempDF], ignore_index=True)\n"
     ]
    },
    {
     "name": "stdout",
     "output_type": "stream",
     "text": [
      "RESULTADOS DE MSE, RMSE, R2, MAPE (Train): 8.313189965453336, 2.8832603013694995, 0.8147964604271771, 29.113028333908964\n",
      "RESULTADOS DE MSE, RMSE, R2, MAPE (Val): 7.551660423149435, 2.7480284611243446, 0.5608504846725817, 38.510077495966314\n",
      "RESULTADOS DE MSE, RMSE, R2, MAPE (Test): 2.601914571694409, 1.6130451238866224, 0.5213203920862595, 32.393783127966444\n",
      "Pinus roxburghii Cedrus deodara\n",
      "(10635, 77)\n",
      "SE HA NORMALIZADO EL ARCHIVO: Pinus roxburghii_merged.csv\n",
      "(6309, 4, 43) (2167, 4, 43) (1647, 4, 43)\n",
      "<LSTM name=lstm_119, built=True> False\n",
      "<LSTM name=lstm_120, built=True> False\n",
      "<LSTM name=lstm_121, built=True> False\n",
      "<Dropout name=dropout_66, built=True> True\n",
      "<LSTM name=lstm_122, built=True> False\n",
      "<LSTM name=lstm_123, built=True> False\n",
      "<LSTM name=lstm_124, built=True> True\n",
      "<Dense name=dense_66, built=True> True\n",
      "<Dropout name=dropout_67, built=True> True\n",
      "<Dense name=dense_67, built=True> True\n",
      "[MODELO CONGELADO]: 175.38827347755432\n"
     ]
    },
    {
     "name": "stderr",
     "output_type": "stream",
     "text": [
      "/home/workstation/Escritorio/PabloC/TransferLearning/funcionesComunes.py:191: FutureWarning: The behavior of DataFrame concatenation with empty or all-NA entries is deprecated. In a future version, this will no longer exclude empty or all-NA columns when determining the result dtypes. To retain the old behavior, exclude the relevant entries before the concat operation.\n",
      "  predictionsDF = pd.concat([predictionsDF, tempDF], ignore_index=True)\n",
      "/home/workstation/Escritorio/PabloC/TransferLearning/funcionesComunes.py:191: FutureWarning: The behavior of DataFrame concatenation with empty or all-NA entries is deprecated. In a future version, this will no longer exclude empty or all-NA columns when determining the result dtypes. To retain the old behavior, exclude the relevant entries before the concat operation.\n",
      "  predictionsDF = pd.concat([predictionsDF, tempDF], ignore_index=True)\n",
      "/home/workstation/Escritorio/PabloC/TransferLearning/funcionesComunes.py:191: FutureWarning: The behavior of DataFrame concatenation with empty or all-NA entries is deprecated. In a future version, this will no longer exclude empty or all-NA columns when determining the result dtypes. To retain the old behavior, exclude the relevant entries before the concat operation.\n",
      "  predictionsDF = pd.concat([predictionsDF, tempDF], ignore_index=True)\n"
     ]
    },
    {
     "name": "stdout",
     "output_type": "stream",
     "text": [
      "RESULTADOS DE MSE, RMSE, R2, MAPE (Train): 88.47089275843277, 9.405896701454507, 0.6683195230796644, 29.057617476858233\n",
      "RESULTADOS DE MSE, RMSE, R2, MAPE (Val): 68.55443115871122, 8.27976033220233, 0.6939648215784988, 28.970782865835165\n",
      "RESULTADOS DE MSE, RMSE, R2, MAPE (Test): 80.43226781783113, 8.968403861213607, 0.6624893971915834, 29.27447621600526\n",
      "Pinus wallichiana Cedrus deodara\n",
      "(9365, 77)\n",
      "SE HA NORMALIZADO EL ARCHIVO: Pinus wallichiana_merged.csv\n",
      "(5508, 4, 43) (1957, 4, 43) (1500, 4, 43)\n",
      "<LSTM name=lstm_119, built=True> False\n",
      "<LSTM name=lstm_120, built=True> False\n",
      "<LSTM name=lstm_121, built=True> False\n",
      "<Dropout name=dropout_66, built=True> True\n",
      "<LSTM name=lstm_122, built=True> False\n",
      "<LSTM name=lstm_123, built=True> False\n",
      "<LSTM name=lstm_124, built=True> True\n",
      "<Dense name=dense_66, built=True> True\n",
      "<Dropout name=dropout_67, built=True> True\n",
      "<Dense name=dense_67, built=True> True\n",
      "[MODELO CONGELADO]: 277.88847279548645\n"
     ]
    },
    {
     "name": "stderr",
     "output_type": "stream",
     "text": [
      "/home/workstation/Escritorio/PabloC/TransferLearning/funcionesComunes.py:191: FutureWarning: The behavior of DataFrame concatenation with empty or all-NA entries is deprecated. In a future version, this will no longer exclude empty or all-NA columns when determining the result dtypes. To retain the old behavior, exclude the relevant entries before the concat operation.\n",
      "  predictionsDF = pd.concat([predictionsDF, tempDF], ignore_index=True)\n",
      "/home/workstation/Escritorio/PabloC/TransferLearning/funcionesComunes.py:191: FutureWarning: The behavior of DataFrame concatenation with empty or all-NA entries is deprecated. In a future version, this will no longer exclude empty or all-NA columns when determining the result dtypes. To retain the old behavior, exclude the relevant entries before the concat operation.\n",
      "  predictionsDF = pd.concat([predictionsDF, tempDF], ignore_index=True)\n",
      "/home/workstation/Escritorio/PabloC/TransferLearning/funcionesComunes.py:191: FutureWarning: The behavior of DataFrame concatenation with empty or all-NA entries is deprecated. In a future version, this will no longer exclude empty or all-NA columns when determining the result dtypes. To retain the old behavior, exclude the relevant entries before the concat operation.\n",
      "  predictionsDF = pd.concat([predictionsDF, tempDF], ignore_index=True)\n"
     ]
    },
    {
     "name": "stdout",
     "output_type": "stream",
     "text": [
      "RESULTADOS DE MSE, RMSE, R2, MAPE (Train): 17.200034725529555, 4.147292457197775, 0.7448512110641512, 23.65313282726353\n",
      "RESULTADOS DE MSE, RMSE, R2, MAPE (Val): 13.512552161527124, 3.675942350136509, 0.7739746430470279, 24.19838965303371\n",
      "RESULTADOS DE MSE, RMSE, R2, MAPE (Test): 16.115293551489717, 4.01438582494131, 0.6177917057288077, 26.712032273245\n",
      "Pinus gerardiana Cedrus deodara\n",
      "(10101, 77)\n",
      "SE HA NORMALIZADO EL ARCHIVO: Pinus gerardiana_merged.csv\n",
      "(5767, 4, 43) (2181, 4, 43) (1745, 4, 43)\n",
      "<LSTM name=lstm_119, built=True> False\n",
      "<LSTM name=lstm_120, built=True> False\n",
      "<LSTM name=lstm_121, built=True> False\n",
      "<Dropout name=dropout_66, built=True> True\n",
      "<LSTM name=lstm_122, built=True> False\n",
      "<LSTM name=lstm_123, built=True> False\n",
      "<LSTM name=lstm_124, built=True> True\n",
      "<Dense name=dense_66, built=True> True\n",
      "<Dropout name=dropout_67, built=True> True\n",
      "<Dense name=dense_67, built=True> True\n",
      "[MODELO CONGELADO]: 127.1286461353302\n"
     ]
    },
    {
     "name": "stderr",
     "output_type": "stream",
     "text": [
      "/home/workstation/Escritorio/PabloC/TransferLearning/funcionesComunes.py:191: FutureWarning: The behavior of DataFrame concatenation with empty or all-NA entries is deprecated. In a future version, this will no longer exclude empty or all-NA columns when determining the result dtypes. To retain the old behavior, exclude the relevant entries before the concat operation.\n",
      "  predictionsDF = pd.concat([predictionsDF, tempDF], ignore_index=True)\n",
      "/home/workstation/Escritorio/PabloC/TransferLearning/funcionesComunes.py:191: FutureWarning: The behavior of DataFrame concatenation with empty or all-NA entries is deprecated. In a future version, this will no longer exclude empty or all-NA columns when determining the result dtypes. To retain the old behavior, exclude the relevant entries before the concat operation.\n",
      "  predictionsDF = pd.concat([predictionsDF, tempDF], ignore_index=True)\n",
      "/home/workstation/Escritorio/PabloC/TransferLearning/funcionesComunes.py:191: FutureWarning: The behavior of DataFrame concatenation with empty or all-NA entries is deprecated. In a future version, this will no longer exclude empty or all-NA columns when determining the result dtypes. To retain the old behavior, exclude the relevant entries before the concat operation.\n",
      "  predictionsDF = pd.concat([predictionsDF, tempDF], ignore_index=True)\n"
     ]
    },
    {
     "name": "stdout",
     "output_type": "stream",
     "text": [
      "RESULTADOS DE MSE, RMSE, R2, MAPE (Train): 12.089032783864658, 3.4769286423314267, 0.6885644544559987, 27.02520086614853\n",
      "RESULTADOS DE MSE, RMSE, R2, MAPE (Val): 13.345780441786047, 3.6531877096292282, 0.662729669950631, 26.623438714238322\n",
      "RESULTADOS DE MSE, RMSE, R2, MAPE (Test): 10.746046448855559, 3.2781162958100736, 0.732522046117557, 25.536437137291056\n",
      "Populus ciliata Cedrus deodara\n",
      "(1182, 77)\n",
      "SE HA NORMALIZADO EL ARCHIVO: Populus ciliata_merged.csv\n",
      "(705, 4, 43) (156, 4, 43) (265, 4, 43)\n",
      "<LSTM name=lstm_119, built=True> False\n",
      "<LSTM name=lstm_120, built=True> False\n",
      "<LSTM name=lstm_121, built=True> False\n",
      "<Dropout name=dropout_66, built=True> True\n",
      "<LSTM name=lstm_122, built=True> False\n",
      "<LSTM name=lstm_123, built=True> False\n",
      "<LSTM name=lstm_124, built=True> True\n",
      "<Dense name=dense_66, built=True> True\n",
      "<Dropout name=dropout_67, built=True> True\n",
      "<Dense name=dense_67, built=True> True\n",
      "[MODELO CONGELADO]: 6.95451021194458\n"
     ]
    },
    {
     "name": "stderr",
     "output_type": "stream",
     "text": [
      "/home/workstation/Escritorio/PabloC/TransferLearning/funcionesComunes.py:191: FutureWarning: The behavior of DataFrame concatenation with empty or all-NA entries is deprecated. In a future version, this will no longer exclude empty or all-NA columns when determining the result dtypes. To retain the old behavior, exclude the relevant entries before the concat operation.\n",
      "  predictionsDF = pd.concat([predictionsDF, tempDF], ignore_index=True)\n",
      "/home/workstation/Escritorio/PabloC/TransferLearning/funcionesComunes.py:191: FutureWarning: The behavior of DataFrame concatenation with empty or all-NA entries is deprecated. In a future version, this will no longer exclude empty or all-NA columns when determining the result dtypes. To retain the old behavior, exclude the relevant entries before the concat operation.\n",
      "  predictionsDF = pd.concat([predictionsDF, tempDF], ignore_index=True)\n",
      "/home/workstation/Escritorio/PabloC/TransferLearning/funcionesComunes.py:191: FutureWarning: The behavior of DataFrame concatenation with empty or all-NA entries is deprecated. In a future version, this will no longer exclude empty or all-NA columns when determining the result dtypes. To retain the old behavior, exclude the relevant entries before the concat operation.\n",
      "  predictionsDF = pd.concat([predictionsDF, tempDF], ignore_index=True)\n"
     ]
    },
    {
     "name": "stdout",
     "output_type": "stream",
     "text": [
      "RESULTADOS DE MSE, RMSE, R2, MAPE (Train): 144.77617871817964, 12.032297316729654, 0.6013793092105832, 32.843629077721396\n",
      "RESULTADOS DE MSE, RMSE, R2, MAPE (Val): 168.027156499534, 12.96252893919755, 0.28407080256512485, 39.436396092914364\n",
      "RESULTADOS DE MSE, RMSE, R2, MAPE (Test): 82.7591493331485, 9.097205578261299, 0.5864727503431924, 32.98303085856334\n",
      "Betula utilis Cedrus deodara\n",
      "(3473, 77)\n",
      "SE HA NORMALIZADO EL ARCHIVO: Betula utilis_merged.csv\n",
      "(2059, 4, 43) (665, 4, 43) (593, 4, 43)\n",
      "<LSTM name=lstm_119, built=True> False\n",
      "<LSTM name=lstm_120, built=True> False\n",
      "<LSTM name=lstm_121, built=True> False\n",
      "<Dropout name=dropout_66, built=True> True\n",
      "<LSTM name=lstm_122, built=True> False\n",
      "<LSTM name=lstm_123, built=True> False\n",
      "<LSTM name=lstm_124, built=True> True\n",
      "<Dense name=dense_66, built=True> True\n",
      "<Dropout name=dropout_67, built=True> True\n",
      "<Dense name=dense_67, built=True> True\n",
      "[MODELO CONGELADO]: 22.616029262542725\n"
     ]
    },
    {
     "name": "stderr",
     "output_type": "stream",
     "text": [
      "/home/workstation/Escritorio/PabloC/TransferLearning/funcionesComunes.py:191: FutureWarning: The behavior of DataFrame concatenation with empty or all-NA entries is deprecated. In a future version, this will no longer exclude empty or all-NA columns when determining the result dtypes. To retain the old behavior, exclude the relevant entries before the concat operation.\n",
      "  predictionsDF = pd.concat([predictionsDF, tempDF], ignore_index=True)\n",
      "/home/workstation/Escritorio/PabloC/TransferLearning/funcionesComunes.py:191: FutureWarning: The behavior of DataFrame concatenation with empty or all-NA entries is deprecated. In a future version, this will no longer exclude empty or all-NA columns when determining the result dtypes. To retain the old behavior, exclude the relevant entries before the concat operation.\n",
      "  predictionsDF = pd.concat([predictionsDF, tempDF], ignore_index=True)\n",
      "/home/workstation/Escritorio/PabloC/TransferLearning/funcionesComunes.py:191: FutureWarning: The behavior of DataFrame concatenation with empty or all-NA entries is deprecated. In a future version, this will no longer exclude empty or all-NA columns when determining the result dtypes. To retain the old behavior, exclude the relevant entries before the concat operation.\n",
      "  predictionsDF = pd.concat([predictionsDF, tempDF], ignore_index=True)\n"
     ]
    },
    {
     "name": "stdout",
     "output_type": "stream",
     "text": [
      "RESULTADOS DE MSE, RMSE, R2, MAPE (Train): 2.2986556862995253, 1.5161318169273823, 0.6606602902709593, 32.51611795577734\n",
      "RESULTADOS DE MSE, RMSE, R2, MAPE (Val): 0.5091556282208503, 0.7135514194652339, 0.7348489417621648, 25.472629487076127\n",
      "RESULTADOS DE MSE, RMSE, R2, MAPE (Test): 0.5832117299857563, 0.7636830035988469, 0.7771258165933479, 26.89124983768843\n",
      "Tsuga dumosa Cedrus deodara\n",
      "(20493, 77)\n",
      "SE HA NORMALIZADO EL ARCHIVO: Tsuga dumosa_merged.csv\n",
      "(11935, 4, 43) (4144, 4, 43) (3469, 4, 43)\n",
      "<LSTM name=lstm_119, built=True> False\n",
      "<LSTM name=lstm_120, built=True> False\n",
      "<LSTM name=lstm_121, built=True> False\n",
      "<Dropout name=dropout_66, built=True> True\n",
      "<LSTM name=lstm_122, built=True> False\n",
      "<LSTM name=lstm_123, built=True> False\n",
      "<LSTM name=lstm_124, built=True> True\n",
      "<Dense name=dense_66, built=True> True\n",
      "<Dropout name=dropout_67, built=True> True\n",
      "<Dense name=dense_67, built=True> True\n",
      "[MODELO CONGELADO]: 601.679477930069\n"
     ]
    },
    {
     "name": "stderr",
     "output_type": "stream",
     "text": [
      "/home/workstation/Escritorio/PabloC/TransferLearning/funcionesComunes.py:191: FutureWarning: The behavior of DataFrame concatenation with empty or all-NA entries is deprecated. In a future version, this will no longer exclude empty or all-NA columns when determining the result dtypes. To retain the old behavior, exclude the relevant entries before the concat operation.\n",
      "  predictionsDF = pd.concat([predictionsDF, tempDF], ignore_index=True)\n",
      "/home/workstation/Escritorio/PabloC/TransferLearning/funcionesComunes.py:191: FutureWarning: The behavior of DataFrame concatenation with empty or all-NA entries is deprecated. In a future version, this will no longer exclude empty or all-NA columns when determining the result dtypes. To retain the old behavior, exclude the relevant entries before the concat operation.\n",
      "  predictionsDF = pd.concat([predictionsDF, tempDF], ignore_index=True)\n",
      "/home/workstation/Escritorio/PabloC/TransferLearning/funcionesComunes.py:191: FutureWarning: The behavior of DataFrame concatenation with empty or all-NA entries is deprecated. In a future version, this will no longer exclude empty or all-NA columns when determining the result dtypes. To retain the old behavior, exclude the relevant entries before the concat operation.\n",
      "  predictionsDF = pd.concat([predictionsDF, tempDF], ignore_index=True)\n"
     ]
    },
    {
     "name": "stdout",
     "output_type": "stream",
     "text": [
      "RESULTADOS DE MSE, RMSE, R2, MAPE (Train): 130.89760239523437, 11.441049007640618, 0.6638823083927297, 30.44988985471181\n",
      "RESULTADOS DE MSE, RMSE, R2, MAPE (Val): 122.49597105242225, 11.067789799793916, 0.611276906016234, 29.893533071778595\n",
      "RESULTADOS DE MSE, RMSE, R2, MAPE (Test): 180.5146222997752, 13.435573017172553, 0.7053530569890536, 29.66914993297971\n",
      "Cedrus deodara Cedrus deodara\n",
      "Juniperus spp. L. Cedrus deodara\n",
      "(7264, 77)\n",
      "SE HA NORMALIZADO EL ARCHIVO: Juniperus spp. L._merged.csv\n",
      "(4216, 4, 43) (1524, 4, 43) (1188, 4, 43)\n",
      "<LSTM name=lstm_119, built=True> False\n",
      "<LSTM name=lstm_120, built=True> False\n",
      "<LSTM name=lstm_121, built=True> False\n",
      "<Dropout name=dropout_66, built=True> True\n",
      "<LSTM name=lstm_122, built=True> False\n",
      "<LSTM name=lstm_123, built=True> False\n",
      "<LSTM name=lstm_124, built=True> True\n",
      "<Dense name=dense_66, built=True> True\n",
      "<Dropout name=dropout_67, built=True> True\n",
      "<Dense name=dense_67, built=True> True\n",
      "[MODELO CONGELADO]: 33.54429745674133\n"
     ]
    },
    {
     "name": "stderr",
     "output_type": "stream",
     "text": [
      "/home/workstation/Escritorio/PabloC/TransferLearning/funcionesComunes.py:191: FutureWarning: The behavior of DataFrame concatenation with empty or all-NA entries is deprecated. In a future version, this will no longer exclude empty or all-NA columns when determining the result dtypes. To retain the old behavior, exclude the relevant entries before the concat operation.\n",
      "  predictionsDF = pd.concat([predictionsDF, tempDF], ignore_index=True)\n",
      "/home/workstation/Escritorio/PabloC/TransferLearning/funcionesComunes.py:191: FutureWarning: The behavior of DataFrame concatenation with empty or all-NA entries is deprecated. In a future version, this will no longer exclude empty or all-NA columns when determining the result dtypes. To retain the old behavior, exclude the relevant entries before the concat operation.\n",
      "  predictionsDF = pd.concat([predictionsDF, tempDF], ignore_index=True)\n",
      "/home/workstation/Escritorio/PabloC/TransferLearning/funcionesComunes.py:191: FutureWarning: The behavior of DataFrame concatenation with empty or all-NA entries is deprecated. In a future version, this will no longer exclude empty or all-NA columns when determining the result dtypes. To retain the old behavior, exclude the relevant entries before the concat operation.\n",
      "  predictionsDF = pd.concat([predictionsDF, tempDF], ignore_index=True)\n"
     ]
    },
    {
     "name": "stdout",
     "output_type": "stream",
     "text": [
      "RESULTADOS DE MSE, RMSE, R2, MAPE (Train): 2.962324071684761, 1.7211403404966026, 0.7636566271364267, 31.575549770845875\n",
      "RESULTADOS DE MSE, RMSE, R2, MAPE (Val): 0.9688702220578908, 0.9843120552232868, 0.5700896415310813, 33.31810678199655\n",
      "RESULTADOS DE MSE, RMSE, R2, MAPE (Test): 3.6067741701187463, 1.899150907673939, 0.8097405442056932, 30.23653589011271\n",
      "Juniperus recurva Cedrus deodara\n",
      "(5316, 77)\n",
      "SE HA NORMALIZADO EL ARCHIVO: Juniperus recurva_merged.csv\n",
      "(3188, 4, 43) (1082, 4, 43) (810, 4, 43)\n",
      "<LSTM name=lstm_119, built=True> False\n",
      "<LSTM name=lstm_120, built=True> False\n",
      "<LSTM name=lstm_121, built=True> False\n",
      "<Dropout name=dropout_66, built=True> True\n",
      "<LSTM name=lstm_122, built=True> False\n",
      "<LSTM name=lstm_123, built=True> False\n",
      "<LSTM name=lstm_124, built=True> True\n",
      "<Dense name=dense_66, built=True> True\n",
      "<Dropout name=dropout_67, built=True> True\n",
      "<Dense name=dense_67, built=True> True\n",
      "[MODELO CONGELADO]: 132.7417848110199\n"
     ]
    },
    {
     "name": "stderr",
     "output_type": "stream",
     "text": [
      "/home/workstation/Escritorio/PabloC/TransferLearning/funcionesComunes.py:191: FutureWarning: The behavior of DataFrame concatenation with empty or all-NA entries is deprecated. In a future version, this will no longer exclude empty or all-NA columns when determining the result dtypes. To retain the old behavior, exclude the relevant entries before the concat operation.\n",
      "  predictionsDF = pd.concat([predictionsDF, tempDF], ignore_index=True)\n",
      "/home/workstation/Escritorio/PabloC/TransferLearning/funcionesComunes.py:191: FutureWarning: The behavior of DataFrame concatenation with empty or all-NA entries is deprecated. In a future version, this will no longer exclude empty or all-NA columns when determining the result dtypes. To retain the old behavior, exclude the relevant entries before the concat operation.\n",
      "  predictionsDF = pd.concat([predictionsDF, tempDF], ignore_index=True)\n",
      "/home/workstation/Escritorio/PabloC/TransferLearning/funcionesComunes.py:191: FutureWarning: The behavior of DataFrame concatenation with empty or all-NA entries is deprecated. In a future version, this will no longer exclude empty or all-NA columns when determining the result dtypes. To retain the old behavior, exclude the relevant entries before the concat operation.\n",
      "  predictionsDF = pd.concat([predictionsDF, tempDF], ignore_index=True)\n"
     ]
    },
    {
     "name": "stdout",
     "output_type": "stream",
     "text": [
      "RESULTADOS DE MSE, RMSE, R2, MAPE (Train): 5.710864011168065, 2.3897414109413733, 0.7730713808262106, 27.199436137929027\n",
      "RESULTADOS DE MSE, RMSE, R2, MAPE (Val): 6.067846410299843, 2.4632999026305837, 0.7796679020134549, 26.70989984668335\n",
      "RESULTADOS DE MSE, RMSE, R2, MAPE (Test): 2.2381584691547816, 1.496047615938337, 0.7620563394566727, 22.564358440898165\n",
      "totalMerged.csv Cedrus deodara\n",
      "Juniperus spp.  Cedrus deodara\n",
      "(17976, 77)\n",
      "SE HA NORMALIZADO EL ARCHIVO: Juniperus spp. _merged.csv\n",
      "(10218, 4, 43) (3900, 4, 43) (3018, 4, 43)\n",
      "<LSTM name=lstm_119, built=True> False\n",
      "<LSTM name=lstm_120, built=True> False\n",
      "<LSTM name=lstm_121, built=True> False\n",
      "<Dropout name=dropout_66, built=True> True\n",
      "<LSTM name=lstm_122, built=True> False\n",
      "<LSTM name=lstm_123, built=True> False\n",
      "<LSTM name=lstm_124, built=True> True\n",
      "<Dense name=dense_66, built=True> True\n",
      "<Dropout name=dropout_67, built=True> True\n",
      "<Dense name=dense_67, built=True> True\n",
      "[MODELO CONGELADO]: 599.7108006477356\n"
     ]
    },
    {
     "name": "stderr",
     "output_type": "stream",
     "text": [
      "/home/workstation/Escritorio/PabloC/TransferLearning/funcionesComunes.py:191: FutureWarning: The behavior of DataFrame concatenation with empty or all-NA entries is deprecated. In a future version, this will no longer exclude empty or all-NA columns when determining the result dtypes. To retain the old behavior, exclude the relevant entries before the concat operation.\n",
      "  predictionsDF = pd.concat([predictionsDF, tempDF], ignore_index=True)\n",
      "/home/workstation/Escritorio/PabloC/TransferLearning/funcionesComunes.py:191: FutureWarning: The behavior of DataFrame concatenation with empty or all-NA entries is deprecated. In a future version, this will no longer exclude empty or all-NA columns when determining the result dtypes. To retain the old behavior, exclude the relevant entries before the concat operation.\n",
      "  predictionsDF = pd.concat([predictionsDF, tempDF], ignore_index=True)\n",
      "/home/workstation/Escritorio/PabloC/TransferLearning/funcionesComunes.py:191: FutureWarning: The behavior of DataFrame concatenation with empty or all-NA entries is deprecated. In a future version, this will no longer exclude empty or all-NA columns when determining the result dtypes. To retain the old behavior, exclude the relevant entries before the concat operation.\n",
      "  predictionsDF = pd.concat([predictionsDF, tempDF], ignore_index=True)\n"
     ]
    },
    {
     "name": "stdout",
     "output_type": "stream",
     "text": [
      "RESULTADOS DE MSE, RMSE, R2, MAPE (Train): 10.182070881307121, 3.1909357375708964, 0.8339374002408606, 26.431445515389118\n",
      "RESULTADOS DE MSE, RMSE, R2, MAPE (Val): 4.043461179121143, 2.0108359403793097, 0.7944637423362411, 28.4258530702099\n",
      "RESULTADOS DE MSE, RMSE, R2, MAPE (Test): 13.833856453285827, 3.719389258102172, 0.8676139399199904, 26.72496902867245\n",
      "Procesando el modelo: model_Tsuga dumosa.keras\n",
      "Abies spectabilis Tsuga dumosa\n",
      "(96429, 77)\n",
      "SE HA NORMALIZADO EL ARCHIVO: Abies spectabilis_merged.csv\n",
      "(56618, 4, 43) (19637, 4, 43) (15689, 4, 43)\n",
      "<LSTM name=lstm_116, built=True> False\n",
      "<LSTM name=lstm_117, built=True> False\n",
      "<Dropout name=dropout_64, built=True> True\n",
      "<LSTM name=lstm_118, built=True> True\n",
      "<Dense name=dense_64, built=True> True\n",
      "<Dropout name=dropout_65, built=True> True\n",
      "<Dense name=dense_65, built=True> True\n",
      "[MODELO CONGELADO]: 1575.451014995575\n"
     ]
    },
    {
     "name": "stderr",
     "output_type": "stream",
     "text": [
      "/home/workstation/Escritorio/PabloC/TransferLearning/funcionesComunes.py:191: FutureWarning: The behavior of DataFrame concatenation with empty or all-NA entries is deprecated. In a future version, this will no longer exclude empty or all-NA columns when determining the result dtypes. To retain the old behavior, exclude the relevant entries before the concat operation.\n",
      "  predictionsDF = pd.concat([predictionsDF, tempDF], ignore_index=True)\n",
      "/home/workstation/Escritorio/PabloC/TransferLearning/funcionesComunes.py:191: FutureWarning: The behavior of DataFrame concatenation with empty or all-NA entries is deprecated. In a future version, this will no longer exclude empty or all-NA columns when determining the result dtypes. To retain the old behavior, exclude the relevant entries before the concat operation.\n",
      "  predictionsDF = pd.concat([predictionsDF, tempDF], ignore_index=True)\n",
      "/home/workstation/Escritorio/PabloC/TransferLearning/funcionesComunes.py:191: FutureWarning: The behavior of DataFrame concatenation with empty or all-NA entries is deprecated. In a future version, this will no longer exclude empty or all-NA columns when determining the result dtypes. To retain the old behavior, exclude the relevant entries before the concat operation.\n",
      "  predictionsDF = pd.concat([predictionsDF, tempDF], ignore_index=True)\n"
     ]
    },
    {
     "name": "stdout",
     "output_type": "stream",
     "text": [
      "RESULTADOS DE MSE, RMSE, R2, MAPE (Train): 74.42954975658344, 8.627256212526868, 0.3469955308051784, 46.95861542544228\n",
      "RESULTADOS DE MSE, RMSE, R2, MAPE (Val): 71.8678971767617, 8.47749356689592, 0.34516522482559864, 46.446261711529644\n",
      "RESULTADOS DE MSE, RMSE, R2, MAPE (Test): 79.55287659431438, 8.919241929352202, 0.410015506729686, 45.96743040215738\n",
      "Picea smithiana Tsuga dumosa\n",
      "(34476, 77)\n",
      "SE HA NORMALIZADO EL ARCHIVO: Picea smithiana_merged.csv\n",
      "(19933, 4, 43) (7272, 4, 43) (5863, 4, 43)\n",
      "<LSTM name=lstm_116, built=True> False\n",
      "<LSTM name=lstm_117, built=True> False\n",
      "<Dropout name=dropout_64, built=True> True\n",
      "<LSTM name=lstm_118, built=True> True\n",
      "<Dense name=dense_64, built=True> True\n",
      "<Dropout name=dropout_65, built=True> True\n",
      "<Dense name=dense_65, built=True> True\n",
      "[MODELO CONGELADO]: 538.9114511013031\n"
     ]
    },
    {
     "name": "stderr",
     "output_type": "stream",
     "text": [
      "/home/workstation/Escritorio/PabloC/TransferLearning/funcionesComunes.py:191: FutureWarning: The behavior of DataFrame concatenation with empty or all-NA entries is deprecated. In a future version, this will no longer exclude empty or all-NA columns when determining the result dtypes. To retain the old behavior, exclude the relevant entries before the concat operation.\n",
      "  predictionsDF = pd.concat([predictionsDF, tempDF], ignore_index=True)\n",
      "/home/workstation/Escritorio/PabloC/TransferLearning/funcionesComunes.py:191: FutureWarning: The behavior of DataFrame concatenation with empty or all-NA entries is deprecated. In a future version, this will no longer exclude empty or all-NA columns when determining the result dtypes. To retain the old behavior, exclude the relevant entries before the concat operation.\n",
      "  predictionsDF = pd.concat([predictionsDF, tempDF], ignore_index=True)\n",
      "/home/workstation/Escritorio/PabloC/TransferLearning/funcionesComunes.py:191: FutureWarning: The behavior of DataFrame concatenation with empty or all-NA entries is deprecated. In a future version, this will no longer exclude empty or all-NA columns when determining the result dtypes. To retain the old behavior, exclude the relevant entries before the concat operation.\n",
      "  predictionsDF = pd.concat([predictionsDF, tempDF], ignore_index=True)\n"
     ]
    },
    {
     "name": "stdout",
     "output_type": "stream",
     "text": [
      "RESULTADOS DE MSE, RMSE, R2, MAPE (Train): 202.07100266803172, 14.21516804923641, 0.40781602539258277, 41.648704689121274\n",
      "RESULTADOS DE MSE, RMSE, R2, MAPE (Val): 233.59967869130645, 15.28396802833958, 0.32589330679780004, 44.22306416848675\n",
      "RESULTADOS DE MSE, RMSE, R2, MAPE (Test): 218.18442290239025, 14.77106708746495, 0.2632005693165419, 45.752072107756604\n",
      "Abies pindrow Tsuga dumosa\n",
      "(16018, 77)\n",
      "SE HA NORMALIZADO EL ARCHIVO: Abies pindrow_merged.csv\n",
      "(9042, 4, 43) (3441, 4, 43) (2815, 4, 43)\n",
      "<LSTM name=lstm_116, built=True> False\n",
      "<LSTM name=lstm_117, built=True> False\n",
      "<Dropout name=dropout_64, built=True> True\n",
      "<LSTM name=lstm_118, built=True> True\n",
      "<Dense name=dense_64, built=True> True\n",
      "<Dropout name=dropout_65, built=True> True\n",
      "<Dense name=dense_65, built=True> True\n",
      "[MODELO CONGELADO]: 47.952380418777466\n"
     ]
    },
    {
     "name": "stderr",
     "output_type": "stream",
     "text": [
      "/home/workstation/Escritorio/PabloC/TransferLearning/funcionesComunes.py:191: FutureWarning: The behavior of DataFrame concatenation with empty or all-NA entries is deprecated. In a future version, this will no longer exclude empty or all-NA columns when determining the result dtypes. To retain the old behavior, exclude the relevant entries before the concat operation.\n",
      "  predictionsDF = pd.concat([predictionsDF, tempDF], ignore_index=True)\n",
      "/home/workstation/Escritorio/PabloC/TransferLearning/funcionesComunes.py:191: FutureWarning: The behavior of DataFrame concatenation with empty or all-NA entries is deprecated. In a future version, this will no longer exclude empty or all-NA columns when determining the result dtypes. To retain the old behavior, exclude the relevant entries before the concat operation.\n",
      "  predictionsDF = pd.concat([predictionsDF, tempDF], ignore_index=True)\n",
      "/home/workstation/Escritorio/PabloC/TransferLearning/funcionesComunes.py:191: FutureWarning: The behavior of DataFrame concatenation with empty or all-NA entries is deprecated. In a future version, this will no longer exclude empty or all-NA columns when determining the result dtypes. To retain the old behavior, exclude the relevant entries before the concat operation.\n",
      "  predictionsDF = pd.concat([predictionsDF, tempDF], ignore_index=True)\n"
     ]
    },
    {
     "name": "stdout",
     "output_type": "stream",
     "text": [
      "RESULTADOS DE MSE, RMSE, R2, MAPE (Train): 175.91964075285546, 13.26347016255005, 0.24489669915153833, 44.98256252482674\n",
      "RESULTADOS DE MSE, RMSE, R2, MAPE (Val): 153.1187773291736, 12.374117234339328, 0.1265357421148532, 40.43699419896951\n",
      "RESULTADOS DE MSE, RMSE, R2, MAPE (Test): 290.84384118195055, 17.05414439900022, -1.0561837725096503, 51.378185818479395\n",
      "Juniperus excelsa M.-Bieb Tsuga dumosa\n",
      "(7449, 77)\n",
      "SE HA NORMALIZADO EL ARCHIVO: Juniperus excelsa M.-Bieb_merged.csv\n",
      "(4189, 4, 43) (1707, 4, 43) (1228, 4, 43)\n",
      "<LSTM name=lstm_116, built=True> False\n",
      "<LSTM name=lstm_117, built=True> False\n",
      "<Dropout name=dropout_64, built=True> True\n",
      "<LSTM name=lstm_118, built=True> True\n",
      "<Dense name=dense_64, built=True> True\n",
      "<Dropout name=dropout_65, built=True> True\n",
      "<Dense name=dense_65, built=True> True\n",
      "[MODELO CONGELADO]: 42.987791538238525\n"
     ]
    },
    {
     "name": "stderr",
     "output_type": "stream",
     "text": [
      "/home/workstation/Escritorio/PabloC/TransferLearning/funcionesComunes.py:191: FutureWarning: The behavior of DataFrame concatenation with empty or all-NA entries is deprecated. In a future version, this will no longer exclude empty or all-NA columns when determining the result dtypes. To retain the old behavior, exclude the relevant entries before the concat operation.\n",
      "  predictionsDF = pd.concat([predictionsDF, tempDF], ignore_index=True)\n",
      "/home/workstation/Escritorio/PabloC/TransferLearning/funcionesComunes.py:191: FutureWarning: The behavior of DataFrame concatenation with empty or all-NA entries is deprecated. In a future version, this will no longer exclude empty or all-NA columns when determining the result dtypes. To retain the old behavior, exclude the relevant entries before the concat operation.\n",
      "  predictionsDF = pd.concat([predictionsDF, tempDF], ignore_index=True)\n",
      "/home/workstation/Escritorio/PabloC/TransferLearning/funcionesComunes.py:191: FutureWarning: The behavior of DataFrame concatenation with empty or all-NA entries is deprecated. In a future version, this will no longer exclude empty or all-NA columns when determining the result dtypes. To retain the old behavior, exclude the relevant entries before the concat operation.\n",
      "  predictionsDF = pd.concat([predictionsDF, tempDF], ignore_index=True)\n"
     ]
    },
    {
     "name": "stdout",
     "output_type": "stream",
     "text": [
      "RESULTADOS DE MSE, RMSE, R2, MAPE (Train): 20.423667907420114, 4.519255238136049, 0.16981869198341637, 49.71421006076181\n",
      "RESULTADOS DE MSE, RMSE, R2, MAPE (Val): 24.216159400582473, 4.920991709054434, 0.07648657348095467, 57.32465489214592\n",
      "RESULTADOS DE MSE, RMSE, R2, MAPE (Test): 82.98133349237445, 9.109409063840225, -0.23026722588208237, 70.21802702846445\n",
      "Juniperus turkestanica Komar. Tsuga dumosa\n",
      "(6305, 77)\n",
      "SE HA NORMALIZADO EL ARCHIVO: Juniperus turkestanica Komar._merged.csv\n",
      "(3664, 4, 43) (1368, 4, 43) (1001, 4, 43)\n",
      "<LSTM name=lstm_116, built=True> False\n",
      "<LSTM name=lstm_117, built=True> False\n",
      "<Dropout name=dropout_64, built=True> True\n",
      "<LSTM name=lstm_118, built=True> True\n",
      "<Dense name=dense_64, built=True> True\n",
      "<Dropout name=dropout_65, built=True> True\n",
      "<Dense name=dense_65, built=True> True\n",
      "[MODELO CONGELADO]: 26.485739946365356\n"
     ]
    },
    {
     "name": "stderr",
     "output_type": "stream",
     "text": [
      "/home/workstation/Escritorio/PabloC/TransferLearning/funcionesComunes.py:191: FutureWarning: The behavior of DataFrame concatenation with empty or all-NA entries is deprecated. In a future version, this will no longer exclude empty or all-NA columns when determining the result dtypes. To retain the old behavior, exclude the relevant entries before the concat operation.\n",
      "  predictionsDF = pd.concat([predictionsDF, tempDF], ignore_index=True)\n",
      "/home/workstation/Escritorio/PabloC/TransferLearning/funcionesComunes.py:191: FutureWarning: The behavior of DataFrame concatenation with empty or all-NA entries is deprecated. In a future version, this will no longer exclude empty or all-NA columns when determining the result dtypes. To retain the old behavior, exclude the relevant entries before the concat operation.\n",
      "  predictionsDF = pd.concat([predictionsDF, tempDF], ignore_index=True)\n",
      "/home/workstation/Escritorio/PabloC/TransferLearning/funcionesComunes.py:191: FutureWarning: The behavior of DataFrame concatenation with empty or all-NA entries is deprecated. In a future version, this will no longer exclude empty or all-NA columns when determining the result dtypes. To retain the old behavior, exclude the relevant entries before the concat operation.\n",
      "  predictionsDF = pd.concat([predictionsDF, tempDF], ignore_index=True)\n"
     ]
    },
    {
     "name": "stdout",
     "output_type": "stream",
     "text": [
      "RESULTADOS DE MSE, RMSE, R2, MAPE (Train): 10.781705415060909, 3.283550732828855, 0.7598021922031393, 33.30257946431815\n",
      "RESULTADOS DE MSE, RMSE, R2, MAPE (Val): 10.170711741776753, 3.1891553335917573, 0.40854555400236103, 42.93323807301124\n",
      "RESULTADOS DE MSE, RMSE, R2, MAPE (Test): 2.926030401127857, 1.7105643516476827, 0.46169213225034744, 34.03850648086355\n",
      "Pinus roxburghii Tsuga dumosa\n",
      "(10635, 77)\n",
      "SE HA NORMALIZADO EL ARCHIVO: Pinus roxburghii_merged.csv\n",
      "(6309, 4, 43) (2167, 4, 43) (1647, 4, 43)\n",
      "<LSTM name=lstm_116, built=True> False\n",
      "<LSTM name=lstm_117, built=True> False\n",
      "<Dropout name=dropout_64, built=True> True\n",
      "<LSTM name=lstm_118, built=True> True\n",
      "<Dense name=dense_64, built=True> True\n",
      "<Dropout name=dropout_65, built=True> True\n",
      "<Dense name=dense_65, built=True> True\n",
      "[MODELO CONGELADO]: 198.97350931167603\n"
     ]
    },
    {
     "name": "stderr",
     "output_type": "stream",
     "text": [
      "/home/workstation/Escritorio/PabloC/TransferLearning/funcionesComunes.py:191: FutureWarning: The behavior of DataFrame concatenation with empty or all-NA entries is deprecated. In a future version, this will no longer exclude empty or all-NA columns when determining the result dtypes. To retain the old behavior, exclude the relevant entries before the concat operation.\n",
      "  predictionsDF = pd.concat([predictionsDF, tempDF], ignore_index=True)\n",
      "/home/workstation/Escritorio/PabloC/TransferLearning/funcionesComunes.py:191: FutureWarning: The behavior of DataFrame concatenation with empty or all-NA entries is deprecated. In a future version, this will no longer exclude empty or all-NA columns when determining the result dtypes. To retain the old behavior, exclude the relevant entries before the concat operation.\n",
      "  predictionsDF = pd.concat([predictionsDF, tempDF], ignore_index=True)\n",
      "/home/workstation/Escritorio/PabloC/TransferLearning/funcionesComunes.py:191: FutureWarning: The behavior of DataFrame concatenation with empty or all-NA entries is deprecated. In a future version, this will no longer exclude empty or all-NA columns when determining the result dtypes. To retain the old behavior, exclude the relevant entries before the concat operation.\n",
      "  predictionsDF = pd.concat([predictionsDF, tempDF], ignore_index=True)\n"
     ]
    },
    {
     "name": "stdout",
     "output_type": "stream",
     "text": [
      "RESULTADOS DE MSE, RMSE, R2, MAPE (Train): 179.4382050729676, 13.395454642264577, 0.3272798817704031, 43.46447554057035\n",
      "RESULTADOS DE MSE, RMSE, R2, MAPE (Val): 150.6399100052077, 12.273545127843368, 0.3275254282379886, 44.59062156610682\n",
      "RESULTADOS DE MSE, RMSE, R2, MAPE (Test): 163.3539582396089, 12.780999892011927, 0.3145326569497937, 44.37771039258406\n",
      "Pinus wallichiana Tsuga dumosa\n",
      "(9365, 77)\n",
      "SE HA NORMALIZADO EL ARCHIVO: Pinus wallichiana_merged.csv\n",
      "(5508, 4, 43) (1957, 4, 43) (1500, 4, 43)\n",
      "<LSTM name=lstm_116, built=True> False\n",
      "<LSTM name=lstm_117, built=True> False\n",
      "<Dropout name=dropout_64, built=True> True\n",
      "<LSTM name=lstm_118, built=True> True\n",
      "<Dense name=dense_64, built=True> True\n",
      "<Dropout name=dropout_65, built=True> True\n",
      "<Dense name=dense_65, built=True> True\n",
      "[MODELO CONGELADO]: 108.67744541168213\n"
     ]
    },
    {
     "name": "stderr",
     "output_type": "stream",
     "text": [
      "/home/workstation/Escritorio/PabloC/TransferLearning/funcionesComunes.py:191: FutureWarning: The behavior of DataFrame concatenation with empty or all-NA entries is deprecated. In a future version, this will no longer exclude empty or all-NA columns when determining the result dtypes. To retain the old behavior, exclude the relevant entries before the concat operation.\n",
      "  predictionsDF = pd.concat([predictionsDF, tempDF], ignore_index=True)\n",
      "/home/workstation/Escritorio/PabloC/TransferLearning/funcionesComunes.py:191: FutureWarning: The behavior of DataFrame concatenation with empty or all-NA entries is deprecated. In a future version, this will no longer exclude empty or all-NA columns when determining the result dtypes. To retain the old behavior, exclude the relevant entries before the concat operation.\n",
      "  predictionsDF = pd.concat([predictionsDF, tempDF], ignore_index=True)\n",
      "/home/workstation/Escritorio/PabloC/TransferLearning/funcionesComunes.py:191: FutureWarning: The behavior of DataFrame concatenation with empty or all-NA entries is deprecated. In a future version, this will no longer exclude empty or all-NA columns when determining the result dtypes. To retain the old behavior, exclude the relevant entries before the concat operation.\n",
      "  predictionsDF = pd.concat([predictionsDF, tempDF], ignore_index=True)\n"
     ]
    },
    {
     "name": "stdout",
     "output_type": "stream",
     "text": [
      "RESULTADOS DE MSE, RMSE, R2, MAPE (Train): 29.26654948805527, 5.409856697552651, 0.5658540940545407, 30.75748674157569\n",
      "RESULTADOS DE MSE, RMSE, R2, MAPE (Val): 22.87366882226639, 4.782642451852991, 0.617390623283075, 31.605226086736376\n",
      "RESULTADOS DE MSE, RMSE, R2, MAPE (Test): 43.005802431532175, 6.5578809406341145, -0.01997362558749871, 43.021855211339826\n",
      "Pinus gerardiana Tsuga dumosa\n",
      "(10101, 77)\n",
      "SE HA NORMALIZADO EL ARCHIVO: Pinus gerardiana_merged.csv\n",
      "(5767, 4, 43) (2181, 4, 43) (1745, 4, 43)\n",
      "<LSTM name=lstm_116, built=True> False\n",
      "<LSTM name=lstm_117, built=True> False\n",
      "<Dropout name=dropout_64, built=True> True\n",
      "<LSTM name=lstm_118, built=True> True\n",
      "<Dense name=dense_64, built=True> True\n",
      "<Dropout name=dropout_65, built=True> True\n",
      "<Dense name=dense_65, built=True> True\n",
      "[MODELO CONGELADO]: 12.709848403930664\n"
     ]
    },
    {
     "name": "stderr",
     "output_type": "stream",
     "text": [
      "/home/workstation/Escritorio/PabloC/TransferLearning/funcionesComunes.py:191: FutureWarning: The behavior of DataFrame concatenation with empty or all-NA entries is deprecated. In a future version, this will no longer exclude empty or all-NA columns when determining the result dtypes. To retain the old behavior, exclude the relevant entries before the concat operation.\n",
      "  predictionsDF = pd.concat([predictionsDF, tempDF], ignore_index=True)\n",
      "/home/workstation/Escritorio/PabloC/TransferLearning/funcionesComunes.py:191: FutureWarning: The behavior of DataFrame concatenation with empty or all-NA entries is deprecated. In a future version, this will no longer exclude empty or all-NA columns when determining the result dtypes. To retain the old behavior, exclude the relevant entries before the concat operation.\n",
      "  predictionsDF = pd.concat([predictionsDF, tempDF], ignore_index=True)\n",
      "/home/workstation/Escritorio/PabloC/TransferLearning/funcionesComunes.py:191: FutureWarning: The behavior of DataFrame concatenation with empty or all-NA entries is deprecated. In a future version, this will no longer exclude empty or all-NA columns when determining the result dtypes. To retain the old behavior, exclude the relevant entries before the concat operation.\n",
      "  predictionsDF = pd.concat([predictionsDF, tempDF], ignore_index=True)\n"
     ]
    },
    {
     "name": "stdout",
     "output_type": "stream",
     "text": [
      "RESULTADOS DE MSE, RMSE, R2, MAPE (Train): 20.47582213830792, 4.525021783186013, 0.47250545580311665, 36.02440782378623\n",
      "RESULTADOS DE MSE, RMSE, R2, MAPE (Val): 22.50626968765857, 4.744077327327051, 0.43122869143193676, 36.14328932343294\n",
      "RESULTADOS DE MSE, RMSE, R2, MAPE (Test): 18.58190356899218, 4.310673215286932, 0.5374811034430047, 34.043944211537216\n",
      "Populus ciliata Tsuga dumosa\n",
      "(1182, 77)\n",
      "SE HA NORMALIZADO EL ARCHIVO: Populus ciliata_merged.csv\n",
      "(705, 4, 43) (156, 4, 43) (265, 4, 43)\n",
      "<LSTM name=lstm_116, built=True> False\n",
      "<LSTM name=lstm_117, built=True> False\n",
      "<Dropout name=dropout_64, built=True> True\n",
      "<LSTM name=lstm_118, built=True> True\n",
      "<Dense name=dense_64, built=True> True\n",
      "<Dropout name=dropout_65, built=True> True\n",
      "<Dense name=dense_65, built=True> True\n",
      "[MODELO CONGELADO]: 15.550185441970825\n"
     ]
    },
    {
     "name": "stderr",
     "output_type": "stream",
     "text": [
      "/home/workstation/Escritorio/PabloC/TransferLearning/funcionesComunes.py:191: FutureWarning: The behavior of DataFrame concatenation with empty or all-NA entries is deprecated. In a future version, this will no longer exclude empty or all-NA columns when determining the result dtypes. To retain the old behavior, exclude the relevant entries before the concat operation.\n",
      "  predictionsDF = pd.concat([predictionsDF, tempDF], ignore_index=True)\n",
      "/home/workstation/Escritorio/PabloC/TransferLearning/funcionesComunes.py:191: FutureWarning: The behavior of DataFrame concatenation with empty or all-NA entries is deprecated. In a future version, this will no longer exclude empty or all-NA columns when determining the result dtypes. To retain the old behavior, exclude the relevant entries before the concat operation.\n",
      "  predictionsDF = pd.concat([predictionsDF, tempDF], ignore_index=True)\n",
      "/home/workstation/Escritorio/PabloC/TransferLearning/funcionesComunes.py:191: FutureWarning: The behavior of DataFrame concatenation with empty or all-NA entries is deprecated. In a future version, this will no longer exclude empty or all-NA columns when determining the result dtypes. To retain the old behavior, exclude the relevant entries before the concat operation.\n",
      "  predictionsDF = pd.concat([predictionsDF, tempDF], ignore_index=True)\n"
     ]
    },
    {
     "name": "stdout",
     "output_type": "stream",
     "text": [
      "RESULTADOS DE MSE, RMSE, R2, MAPE (Train): 196.13927028762697, 14.004973055583754, 0.4599583156205501, 38.70682073361716\n",
      "RESULTADOS DE MSE, RMSE, R2, MAPE (Val): 233.1536947090527, 15.269371130110523, 0.006580001652941481, 47.833159295919444\n",
      "RESULTADOS DE MSE, RMSE, R2, MAPE (Test): 83.88387577640911, 9.158814103169094, 0.580852767097285, 33.37263507217522\n",
      "Betula utilis Tsuga dumosa\n",
      "(3473, 77)\n",
      "SE HA NORMALIZADO EL ARCHIVO: Betula utilis_merged.csv\n",
      "(2059, 4, 43) (665, 4, 43) (593, 4, 43)\n",
      "<LSTM name=lstm_116, built=True> False\n",
      "<LSTM name=lstm_117, built=True> False\n",
      "<Dropout name=dropout_64, built=True> True\n",
      "<LSTM name=lstm_118, built=True> True\n",
      "<Dense name=dense_64, built=True> True\n",
      "<Dropout name=dropout_65, built=True> True\n",
      "<Dense name=dense_65, built=True> True\n",
      "[MODELO CONGELADO]: 19.65038275718689\n"
     ]
    },
    {
     "name": "stderr",
     "output_type": "stream",
     "text": [
      "/home/workstation/Escritorio/PabloC/TransferLearning/funcionesComunes.py:191: FutureWarning: The behavior of DataFrame concatenation with empty or all-NA entries is deprecated. In a future version, this will no longer exclude empty or all-NA columns when determining the result dtypes. To retain the old behavior, exclude the relevant entries before the concat operation.\n",
      "  predictionsDF = pd.concat([predictionsDF, tempDF], ignore_index=True)\n",
      "/home/workstation/Escritorio/PabloC/TransferLearning/funcionesComunes.py:191: FutureWarning: The behavior of DataFrame concatenation with empty or all-NA entries is deprecated. In a future version, this will no longer exclude empty or all-NA columns when determining the result dtypes. To retain the old behavior, exclude the relevant entries before the concat operation.\n",
      "  predictionsDF = pd.concat([predictionsDF, tempDF], ignore_index=True)\n",
      "/home/workstation/Escritorio/PabloC/TransferLearning/funcionesComunes.py:191: FutureWarning: The behavior of DataFrame concatenation with empty or all-NA entries is deprecated. In a future version, this will no longer exclude empty or all-NA columns when determining the result dtypes. To retain the old behavior, exclude the relevant entries before the concat operation.\n",
      "  predictionsDF = pd.concat([predictionsDF, tempDF], ignore_index=True)\n"
     ]
    },
    {
     "name": "stdout",
     "output_type": "stream",
     "text": [
      "RESULTADOS DE MSE, RMSE, R2, MAPE (Train): 5.253020556822323, 2.291946892234269, 0.2245213227987135, 57.54320331193755\n",
      "RESULTADOS DE MSE, RMSE, R2, MAPE (Val): 1.471607503049447, 1.2130983072486117, 0.2336365049959781, 44.738929321606804\n",
      "RESULTADOS DE MSE, RMSE, R2, MAPE (Test): 1.3865034071159794, 1.1774987928299456, 0.4701481490108885, 44.73819568781126\n",
      "Tsuga dumosa Tsuga dumosa\n",
      "Cedrus deodara Tsuga dumosa\n",
      "(37273, 77)\n",
      "SE HA NORMALIZADO EL ARCHIVO: Cedrus deodara_merged.csv\n",
      "(22017, 4, 43) (7410, 4, 43) (6282, 4, 43)\n",
      "<LSTM name=lstm_116, built=True> False\n",
      "<LSTM name=lstm_117, built=True> False\n",
      "<Dropout name=dropout_64, built=True> True\n",
      "<LSTM name=lstm_118, built=True> True\n",
      "<Dense name=dense_64, built=True> True\n",
      "<Dropout name=dropout_65, built=True> True\n",
      "<Dense name=dense_65, built=True> True\n",
      "[MODELO CONGELADO]: 540.9733183383942\n"
     ]
    },
    {
     "name": "stderr",
     "output_type": "stream",
     "text": [
      "/home/workstation/Escritorio/PabloC/TransferLearning/funcionesComunes.py:191: FutureWarning: The behavior of DataFrame concatenation with empty or all-NA entries is deprecated. In a future version, this will no longer exclude empty or all-NA columns when determining the result dtypes. To retain the old behavior, exclude the relevant entries before the concat operation.\n",
      "  predictionsDF = pd.concat([predictionsDF, tempDF], ignore_index=True)\n",
      "/home/workstation/Escritorio/PabloC/TransferLearning/funcionesComunes.py:191: FutureWarning: The behavior of DataFrame concatenation with empty or all-NA entries is deprecated. In a future version, this will no longer exclude empty or all-NA columns when determining the result dtypes. To retain the old behavior, exclude the relevant entries before the concat operation.\n",
      "  predictionsDF = pd.concat([predictionsDF, tempDF], ignore_index=True)\n",
      "/home/workstation/Escritorio/PabloC/TransferLearning/funcionesComunes.py:191: FutureWarning: The behavior of DataFrame concatenation with empty or all-NA entries is deprecated. In a future version, this will no longer exclude empty or all-NA columns when determining the result dtypes. To retain the old behavior, exclude the relevant entries before the concat operation.\n",
      "  predictionsDF = pd.concat([predictionsDF, tempDF], ignore_index=True)\n"
     ]
    },
    {
     "name": "stdout",
     "output_type": "stream",
     "text": [
      "RESULTADOS DE MSE, RMSE, R2, MAPE (Train): 228.71097592017477, 15.123193310943783, 0.46453995545697646, 40.90051987239953\n",
      "RESULTADOS DE MSE, RMSE, R2, MAPE (Val): 288.26481823553274, 16.978363237825157, 0.353869461012455, 44.057869219896915\n",
      "RESULTADOS DE MSE, RMSE, R2, MAPE (Test): 209.63888134435555, 14.478911607726443, 0.4051581402452542, 41.12575784655951\n",
      "Juniperus spp. L. Tsuga dumosa\n",
      "(7264, 77)\n",
      "SE HA NORMALIZADO EL ARCHIVO: Juniperus spp. L._merged.csv\n",
      "(4216, 4, 43) (1524, 4, 43) (1188, 4, 43)\n",
      "<LSTM name=lstm_116, built=True> False\n",
      "<LSTM name=lstm_117, built=True> False\n",
      "<Dropout name=dropout_64, built=True> True\n",
      "<LSTM name=lstm_118, built=True> True\n",
      "<Dense name=dense_64, built=True> True\n",
      "<Dropout name=dropout_65, built=True> True\n",
      "<Dense name=dense_65, built=True> True\n",
      "[MODELO CONGELADO]: 11.238688707351685\n"
     ]
    },
    {
     "name": "stderr",
     "output_type": "stream",
     "text": [
      "/home/workstation/Escritorio/PabloC/TransferLearning/funcionesComunes.py:191: FutureWarning: The behavior of DataFrame concatenation with empty or all-NA entries is deprecated. In a future version, this will no longer exclude empty or all-NA columns when determining the result dtypes. To retain the old behavior, exclude the relevant entries before the concat operation.\n",
      "  predictionsDF = pd.concat([predictionsDF, tempDF], ignore_index=True)\n",
      "/home/workstation/Escritorio/PabloC/TransferLearning/funcionesComunes.py:191: FutureWarning: The behavior of DataFrame concatenation with empty or all-NA entries is deprecated. In a future version, this will no longer exclude empty or all-NA columns when determining the result dtypes. To retain the old behavior, exclude the relevant entries before the concat operation.\n",
      "  predictionsDF = pd.concat([predictionsDF, tempDF], ignore_index=True)\n",
      "/home/workstation/Escritorio/PabloC/TransferLearning/funcionesComunes.py:191: FutureWarning: The behavior of DataFrame concatenation with empty or all-NA entries is deprecated. In a future version, this will no longer exclude empty or all-NA columns when determining the result dtypes. To retain the old behavior, exclude the relevant entries before the concat operation.\n",
      "  predictionsDF = pd.concat([predictionsDF, tempDF], ignore_index=True)\n"
     ]
    },
    {
     "name": "stdout",
     "output_type": "stream",
     "text": [
      "RESULTADOS DE MSE, RMSE, R2, MAPE (Train): 4.727335620050632, 2.1742436892056585, 0.6228385490364492, 39.77281038207914\n",
      "RESULTADOS DE MSE, RMSE, R2, MAPE (Val): 1.5568998963680012, 1.2477579478280236, 0.30916713373011806, 43.44728774395541\n",
      "RESULTADOS DE MSE, RMSE, R2, MAPE (Test): 15.556685377816319, 3.944196417246017, 0.17937570961113503, 56.400602140966015\n",
      "Juniperus recurva Tsuga dumosa\n",
      "(5316, 77)\n",
      "SE HA NORMALIZADO EL ARCHIVO: Juniperus recurva_merged.csv\n",
      "(3188, 4, 43) (1082, 4, 43) (810, 4, 43)\n",
      "<LSTM name=lstm_116, built=True> False\n",
      "<LSTM name=lstm_117, built=True> False\n",
      "<Dropout name=dropout_64, built=True> True\n",
      "<LSTM name=lstm_118, built=True> True\n",
      "<Dense name=dense_64, built=True> True\n",
      "<Dropout name=dropout_65, built=True> True\n",
      "<Dense name=dense_65, built=True> True\n",
      "[MODELO CONGELADO]: 21.317869901657104\n"
     ]
    },
    {
     "name": "stderr",
     "output_type": "stream",
     "text": [
      "/home/workstation/Escritorio/PabloC/TransferLearning/funcionesComunes.py:191: FutureWarning: The behavior of DataFrame concatenation with empty or all-NA entries is deprecated. In a future version, this will no longer exclude empty or all-NA columns when determining the result dtypes. To retain the old behavior, exclude the relevant entries before the concat operation.\n",
      "  predictionsDF = pd.concat([predictionsDF, tempDF], ignore_index=True)\n",
      "/home/workstation/Escritorio/PabloC/TransferLearning/funcionesComunes.py:191: FutureWarning: The behavior of DataFrame concatenation with empty or all-NA entries is deprecated. In a future version, this will no longer exclude empty or all-NA columns when determining the result dtypes. To retain the old behavior, exclude the relevant entries before the concat operation.\n",
      "  predictionsDF = pd.concat([predictionsDF, tempDF], ignore_index=True)\n",
      "/home/workstation/Escritorio/PabloC/TransferLearning/funcionesComunes.py:191: FutureWarning: The behavior of DataFrame concatenation with empty or all-NA entries is deprecated. In a future version, this will no longer exclude empty or all-NA columns when determining the result dtypes. To retain the old behavior, exclude the relevant entries before the concat operation.\n",
      "  predictionsDF = pd.concat([predictionsDF, tempDF], ignore_index=True)\n"
     ]
    },
    {
     "name": "stdout",
     "output_type": "stream",
     "text": [
      "RESULTADOS DE MSE, RMSE, R2, MAPE (Train): 9.716257140582577, 3.1170911344685734, 0.6139118683025864, 35.64138832280367\n",
      "RESULTADOS DE MSE, RMSE, R2, MAPE (Val): 7.893455644840654, 2.809529434770288, 0.7133774448148009, 29.62745923610037\n",
      "RESULTADOS DE MSE, RMSE, R2, MAPE (Test): 3.130003625882165, 1.7691816260300028, 0.6672422750576985, 27.839975417911788\n",
      "totalMerged.csv Tsuga dumosa\n",
      "Juniperus spp.  Tsuga dumosa\n",
      "(17976, 77)\n",
      "SE HA NORMALIZADO EL ARCHIVO: Juniperus spp. _merged.csv\n",
      "(10218, 4, 43) (3900, 4, 43) (3018, 4, 43)\n",
      "<LSTM name=lstm_116, built=True> False\n",
      "<LSTM name=lstm_117, built=True> False\n",
      "<Dropout name=dropout_64, built=True> True\n",
      "<LSTM name=lstm_118, built=True> True\n",
      "<Dense name=dense_64, built=True> True\n",
      "<Dropout name=dropout_65, built=True> True\n",
      "<Dense name=dense_65, built=True> True\n",
      "[MODELO CONGELADO]: 51.48071765899658\n"
     ]
    },
    {
     "name": "stderr",
     "output_type": "stream",
     "text": [
      "/home/workstation/Escritorio/PabloC/TransferLearning/funcionesComunes.py:191: FutureWarning: The behavior of DataFrame concatenation with empty or all-NA entries is deprecated. In a future version, this will no longer exclude empty or all-NA columns when determining the result dtypes. To retain the old behavior, exclude the relevant entries before the concat operation.\n",
      "  predictionsDF = pd.concat([predictionsDF, tempDF], ignore_index=True)\n",
      "/home/workstation/Escritorio/PabloC/TransferLearning/funcionesComunes.py:191: FutureWarning: The behavior of DataFrame concatenation with empty or all-NA entries is deprecated. In a future version, this will no longer exclude empty or all-NA columns when determining the result dtypes. To retain the old behavior, exclude the relevant entries before the concat operation.\n",
      "  predictionsDF = pd.concat([predictionsDF, tempDF], ignore_index=True)\n",
      "/home/workstation/Escritorio/PabloC/TransferLearning/funcionesComunes.py:191: FutureWarning: The behavior of DataFrame concatenation with empty or all-NA entries is deprecated. In a future version, this will no longer exclude empty or all-NA columns when determining the result dtypes. To retain the old behavior, exclude the relevant entries before the concat operation.\n",
      "  predictionsDF = pd.concat([predictionsDF, tempDF], ignore_index=True)\n"
     ]
    },
    {
     "name": "stdout",
     "output_type": "stream",
     "text": [
      "RESULTADOS DE MSE, RMSE, R2, MAPE (Train): 32.69775956346805, 5.7181954813969105, 0.46672194461175187, 41.58231113041172\n",
      "RESULTADOS DE MSE, RMSE, R2, MAPE (Val): 9.129177653679696, 3.021452904428546, 0.5359478112034759, 41.974758922460786\n",
      "RESULTADOS DE MSE, RMSE, R2, MAPE (Test): 52.11113723998788, 7.21880441901482, 0.5013112815803393, 42.97366444984133\n",
      "Procesando el modelo: model_Juniperus turkestanica Komar..keras\n",
      "Abies spectabilis Juniperus turkestanica Komar.\n",
      "(96429, 77)\n",
      "SE HA NORMALIZADO EL ARCHIVO: Abies spectabilis_merged.csv\n",
      "(56618, 4, 43) (19637, 4, 43) (15689, 4, 43)\n",
      "<LSTM name=lstm_95, built=True> False\n",
      "<Dropout name=dropout_52, built=True> True\n",
      "<LSTM name=lstm_96, built=True> False\n",
      "<LSTM name=lstm_97, built=True> False\n",
      "<LSTM name=lstm_98, built=True> True\n",
      "<Dense name=dense_52, built=True> True\n",
      "<Dropout name=dropout_53, built=True> True\n",
      "<Dense name=dense_53, built=True> True\n",
      "[MODELO CONGELADO]: 1405.295062303543\n"
     ]
    },
    {
     "name": "stderr",
     "output_type": "stream",
     "text": [
      "/home/workstation/Escritorio/PabloC/TransferLearning/funcionesComunes.py:191: FutureWarning: The behavior of DataFrame concatenation with empty or all-NA entries is deprecated. In a future version, this will no longer exclude empty or all-NA columns when determining the result dtypes. To retain the old behavior, exclude the relevant entries before the concat operation.\n",
      "  predictionsDF = pd.concat([predictionsDF, tempDF], ignore_index=True)\n",
      "/home/workstation/Escritorio/PabloC/TransferLearning/funcionesComunes.py:191: FutureWarning: The behavior of DataFrame concatenation with empty or all-NA entries is deprecated. In a future version, this will no longer exclude empty or all-NA columns when determining the result dtypes. To retain the old behavior, exclude the relevant entries before the concat operation.\n",
      "  predictionsDF = pd.concat([predictionsDF, tempDF], ignore_index=True)\n",
      "/home/workstation/Escritorio/PabloC/TransferLearning/funcionesComunes.py:191: FutureWarning: The behavior of DataFrame concatenation with empty or all-NA entries is deprecated. In a future version, this will no longer exclude empty or all-NA columns when determining the result dtypes. To retain the old behavior, exclude the relevant entries before the concat operation.\n",
      "  predictionsDF = pd.concat([predictionsDF, tempDF], ignore_index=True)\n"
     ]
    },
    {
     "name": "stdout",
     "output_type": "stream",
     "text": [
      "RESULTADOS DE MSE, RMSE, R2, MAPE (Train): 76.08787110701594, 8.722836184809156, 0.33244631941353164, 47.248403108068565\n",
      "RESULTADOS DE MSE, RMSE, R2, MAPE (Val): 74.6954127804867, 8.642650795935626, 0.3194019060504103, 46.880424803627264\n",
      "RESULTADOS DE MSE, RMSE, R2, MAPE (Test): 78.34980934675949, 8.851542766476333, 0.4189377613458002, 45.504198316592294\n",
      "Picea smithiana Juniperus turkestanica Komar.\n",
      "(34476, 77)\n",
      "SE HA NORMALIZADO EL ARCHIVO: Picea smithiana_merged.csv\n",
      "(19933, 4, 43) (7272, 4, 43) (5863, 4, 43)\n",
      "<LSTM name=lstm_95, built=True> False\n",
      "<Dropout name=dropout_52, built=True> True\n",
      "<LSTM name=lstm_96, built=True> False\n",
      "<LSTM name=lstm_97, built=True> False\n",
      "<LSTM name=lstm_98, built=True> True\n",
      "<Dense name=dense_52, built=True> True\n",
      "<Dropout name=dropout_53, built=True> True\n",
      "<Dense name=dense_53, built=True> True\n",
      "[MODELO CONGELADO]: 390.03620195388794\n"
     ]
    },
    {
     "name": "stderr",
     "output_type": "stream",
     "text": [
      "/home/workstation/Escritorio/PabloC/TransferLearning/funcionesComunes.py:191: FutureWarning: The behavior of DataFrame concatenation with empty or all-NA entries is deprecated. In a future version, this will no longer exclude empty or all-NA columns when determining the result dtypes. To retain the old behavior, exclude the relevant entries before the concat operation.\n",
      "  predictionsDF = pd.concat([predictionsDF, tempDF], ignore_index=True)\n",
      "/home/workstation/Escritorio/PabloC/TransferLearning/funcionesComunes.py:191: FutureWarning: The behavior of DataFrame concatenation with empty or all-NA entries is deprecated. In a future version, this will no longer exclude empty or all-NA columns when determining the result dtypes. To retain the old behavior, exclude the relevant entries before the concat operation.\n",
      "  predictionsDF = pd.concat([predictionsDF, tempDF], ignore_index=True)\n",
      "/home/workstation/Escritorio/PabloC/TransferLearning/funcionesComunes.py:191: FutureWarning: The behavior of DataFrame concatenation with empty or all-NA entries is deprecated. In a future version, this will no longer exclude empty or all-NA columns when determining the result dtypes. To retain the old behavior, exclude the relevant entries before the concat operation.\n",
      "  predictionsDF = pd.concat([predictionsDF, tempDF], ignore_index=True)\n"
     ]
    },
    {
     "name": "stdout",
     "output_type": "stream",
     "text": [
      "RESULTADOS DE MSE, RMSE, R2, MAPE (Train): 210.7477985421797, 14.517155318525035, 0.3823880352318595, 42.605563173664876\n",
      "RESULTADOS DE MSE, RMSE, R2, MAPE (Val): 237.49270624531044, 15.41079836495535, 0.3146590621889168, 44.875619339975984\n",
      "RESULTADOS DE MSE, RMSE, R2, MAPE (Test): 209.1571322917825, 14.462265807672825, 0.29368534221660136, 45.57775781345937\n",
      "Abies pindrow Juniperus turkestanica Komar.\n",
      "(16018, 77)\n",
      "SE HA NORMALIZADO EL ARCHIVO: Abies pindrow_merged.csv\n",
      "(9042, 4, 43) (3441, 4, 43) (2815, 4, 43)\n",
      "<LSTM name=lstm_95, built=True> False\n",
      "<Dropout name=dropout_52, built=True> True\n",
      "<LSTM name=lstm_96, built=True> False\n",
      "<LSTM name=lstm_97, built=True> False\n",
      "<LSTM name=lstm_98, built=True> True\n",
      "<Dense name=dense_52, built=True> True\n",
      "<Dropout name=dropout_53, built=True> True\n",
      "<Dense name=dense_53, built=True> True\n",
      "[MODELO CONGELADO]: 43.46239185333252\n"
     ]
    },
    {
     "name": "stderr",
     "output_type": "stream",
     "text": [
      "/home/workstation/Escritorio/PabloC/TransferLearning/funcionesComunes.py:191: FutureWarning: The behavior of DataFrame concatenation with empty or all-NA entries is deprecated. In a future version, this will no longer exclude empty or all-NA columns when determining the result dtypes. To retain the old behavior, exclude the relevant entries before the concat operation.\n",
      "  predictionsDF = pd.concat([predictionsDF, tempDF], ignore_index=True)\n",
      "/home/workstation/Escritorio/PabloC/TransferLearning/funcionesComunes.py:191: FutureWarning: The behavior of DataFrame concatenation with empty or all-NA entries is deprecated. In a future version, this will no longer exclude empty or all-NA columns when determining the result dtypes. To retain the old behavior, exclude the relevant entries before the concat operation.\n",
      "  predictionsDF = pd.concat([predictionsDF, tempDF], ignore_index=True)\n",
      "/home/workstation/Escritorio/PabloC/TransferLearning/funcionesComunes.py:191: FutureWarning: The behavior of DataFrame concatenation with empty or all-NA entries is deprecated. In a future version, this will no longer exclude empty or all-NA columns when determining the result dtypes. To retain the old behavior, exclude the relevant entries before the concat operation.\n",
      "  predictionsDF = pd.concat([predictionsDF, tempDF], ignore_index=True)\n"
     ]
    },
    {
     "name": "stdout",
     "output_type": "stream",
     "text": [
      "RESULTADOS DE MSE, RMSE, R2, MAPE (Train): 173.3877362158874, 13.167677707777003, 0.25576444231606477, 44.59130760121796\n",
      "RESULTADOS DE MSE, RMSE, R2, MAPE (Val): 150.80777257150945, 12.280381613431622, 0.1397188414762245, 40.60579531363749\n",
      "RESULTADOS DE MSE, RMSE, R2, MAPE (Test): 261.48859587956684, 16.1706090138735, -0.8486504832245567, 50.199056856686056\n",
      "Juniperus excelsa M.-Bieb Juniperus turkestanica Komar.\n",
      "(7449, 77)\n",
      "SE HA NORMALIZADO EL ARCHIVO: Juniperus excelsa M.-Bieb_merged.csv\n",
      "(4189, 4, 43) (1707, 4, 43) (1228, 4, 43)\n",
      "<LSTM name=lstm_95, built=True> False\n",
      "<Dropout name=dropout_52, built=True> True\n",
      "<LSTM name=lstm_96, built=True> False\n",
      "<LSTM name=lstm_97, built=True> False\n",
      "<LSTM name=lstm_98, built=True> True\n",
      "<Dense name=dense_52, built=True> True\n",
      "<Dropout name=dropout_53, built=True> True\n",
      "<Dense name=dense_53, built=True> True\n",
      "[MODELO CONGELADO]: 93.16480565071106\n"
     ]
    },
    {
     "name": "stderr",
     "output_type": "stream",
     "text": [
      "/home/workstation/Escritorio/PabloC/TransferLearning/funcionesComunes.py:191: FutureWarning: The behavior of DataFrame concatenation with empty or all-NA entries is deprecated. In a future version, this will no longer exclude empty or all-NA columns when determining the result dtypes. To retain the old behavior, exclude the relevant entries before the concat operation.\n",
      "  predictionsDF = pd.concat([predictionsDF, tempDF], ignore_index=True)\n",
      "/home/workstation/Escritorio/PabloC/TransferLearning/funcionesComunes.py:191: FutureWarning: The behavior of DataFrame concatenation with empty or all-NA entries is deprecated. In a future version, this will no longer exclude empty or all-NA columns when determining the result dtypes. To retain the old behavior, exclude the relevant entries before the concat operation.\n",
      "  predictionsDF = pd.concat([predictionsDF, tempDF], ignore_index=True)\n",
      "/home/workstation/Escritorio/PabloC/TransferLearning/funcionesComunes.py:191: FutureWarning: The behavior of DataFrame concatenation with empty or all-NA entries is deprecated. In a future version, this will no longer exclude empty or all-NA columns when determining the result dtypes. To retain the old behavior, exclude the relevant entries before the concat operation.\n",
      "  predictionsDF = pd.concat([predictionsDF, tempDF], ignore_index=True)\n"
     ]
    },
    {
     "name": "stdout",
     "output_type": "stream",
     "text": [
      "RESULTADOS DE MSE, RMSE, R2, MAPE (Train): 20.856080463557394, 4.566845789333968, 0.15224198523886434, 49.88115236516866\n",
      "RESULTADOS DE MSE, RMSE, R2, MAPE (Val): 24.91120225064027, 4.991112325989095, 0.04998024795606559, 58.02570661863072\n",
      "RESULTADOS DE MSE, RMSE, R2, MAPE (Test): 88.06339788141135, 9.384210029694101, -0.30561305360644786, 71.5887201681488\n",
      "Juniperus turkestanica Komar. Juniperus turkestanica Komar.\n",
      "Pinus roxburghii Juniperus turkestanica Komar.\n",
      "(10635, 77)\n",
      "SE HA NORMALIZADO EL ARCHIVO: Pinus roxburghii_merged.csv\n",
      "(6309, 4, 43) (2167, 4, 43) (1647, 4, 43)\n",
      "<LSTM name=lstm_95, built=True> False\n",
      "<Dropout name=dropout_52, built=True> True\n",
      "<LSTM name=lstm_96, built=True> False\n",
      "<LSTM name=lstm_97, built=True> False\n",
      "<LSTM name=lstm_98, built=True> True\n",
      "<Dense name=dense_52, built=True> True\n",
      "<Dropout name=dropout_53, built=True> True\n",
      "<Dense name=dense_53, built=True> True\n",
      "[MODELO CONGELADO]: 81.02708792686462\n"
     ]
    },
    {
     "name": "stderr",
     "output_type": "stream",
     "text": [
      "/home/workstation/Escritorio/PabloC/TransferLearning/funcionesComunes.py:191: FutureWarning: The behavior of DataFrame concatenation with empty or all-NA entries is deprecated. In a future version, this will no longer exclude empty or all-NA columns when determining the result dtypes. To retain the old behavior, exclude the relevant entries before the concat operation.\n",
      "  predictionsDF = pd.concat([predictionsDF, tempDF], ignore_index=True)\n",
      "/home/workstation/Escritorio/PabloC/TransferLearning/funcionesComunes.py:191: FutureWarning: The behavior of DataFrame concatenation with empty or all-NA entries is deprecated. In a future version, this will no longer exclude empty or all-NA columns when determining the result dtypes. To retain the old behavior, exclude the relevant entries before the concat operation.\n",
      "  predictionsDF = pd.concat([predictionsDF, tempDF], ignore_index=True)\n",
      "/home/workstation/Escritorio/PabloC/TransferLearning/funcionesComunes.py:191: FutureWarning: The behavior of DataFrame concatenation with empty or all-NA entries is deprecated. In a future version, this will no longer exclude empty or all-NA columns when determining the result dtypes. To retain the old behavior, exclude the relevant entries before the concat operation.\n",
      "  predictionsDF = pd.concat([predictionsDF, tempDF], ignore_index=True)\n"
     ]
    },
    {
     "name": "stdout",
     "output_type": "stream",
     "text": [
      "RESULTADOS DE MSE, RMSE, R2, MAPE (Train): 182.36178296849224, 13.504139475305053, 0.3163192857996009, 43.53321113776662\n",
      "RESULTADOS DE MSE, RMSE, R2, MAPE (Val): 155.79086901331067, 12.481621249393472, 0.30453093127487996, 45.254907105088236\n",
      "RESULTADOS DE MSE, RMSE, R2, MAPE (Test): 165.316036064187, 12.857528380843148, 0.30629936840407945, 44.7417707946893\n",
      "Pinus wallichiana Juniperus turkestanica Komar.\n",
      "(9365, 77)\n",
      "SE HA NORMALIZADO EL ARCHIVO: Pinus wallichiana_merged.csv\n",
      "(5508, 4, 43) (1957, 4, 43) (1500, 4, 43)\n",
      "<LSTM name=lstm_95, built=True> False\n",
      "<Dropout name=dropout_52, built=True> True\n",
      "<LSTM name=lstm_96, built=True> False\n",
      "<LSTM name=lstm_97, built=True> False\n",
      "<LSTM name=lstm_98, built=True> True\n",
      "<Dense name=dense_52, built=True> True\n",
      "<Dropout name=dropout_53, built=True> True\n",
      "<Dense name=dense_53, built=True> True\n",
      "[MODELO CONGELADO]: 140.6977894306183\n"
     ]
    },
    {
     "name": "stderr",
     "output_type": "stream",
     "text": [
      "/home/workstation/Escritorio/PabloC/TransferLearning/funcionesComunes.py:191: FutureWarning: The behavior of DataFrame concatenation with empty or all-NA entries is deprecated. In a future version, this will no longer exclude empty or all-NA columns when determining the result dtypes. To retain the old behavior, exclude the relevant entries before the concat operation.\n",
      "  predictionsDF = pd.concat([predictionsDF, tempDF], ignore_index=True)\n",
      "/home/workstation/Escritorio/PabloC/TransferLearning/funcionesComunes.py:191: FutureWarning: The behavior of DataFrame concatenation with empty or all-NA entries is deprecated. In a future version, this will no longer exclude empty or all-NA columns when determining the result dtypes. To retain the old behavior, exclude the relevant entries before the concat operation.\n",
      "  predictionsDF = pd.concat([predictionsDF, tempDF], ignore_index=True)\n",
      "/home/workstation/Escritorio/PabloC/TransferLearning/funcionesComunes.py:191: FutureWarning: The behavior of DataFrame concatenation with empty or all-NA entries is deprecated. In a future version, this will no longer exclude empty or all-NA columns when determining the result dtypes. To retain the old behavior, exclude the relevant entries before the concat operation.\n",
      "  predictionsDF = pd.concat([predictionsDF, tempDF], ignore_index=True)\n"
     ]
    },
    {
     "name": "stdout",
     "output_type": "stream",
     "text": [
      "RESULTADOS DE MSE, RMSE, R2, MAPE (Train): 30.486464107386894, 5.521454890460203, 0.5477576342104448, 31.492896694601452\n",
      "RESULTADOS DE MSE, RMSE, R2, MAPE (Val): 25.512099896258967, 5.050950395347292, 0.5732574115724911, 33.19289364719403\n",
      "RESULTADOS DE MSE, RMSE, R2, MAPE (Test): 43.19908045581297, 6.572600737593374, -0.024557623002403828, 43.54118298180746\n",
      "Pinus gerardiana Juniperus turkestanica Komar.\n",
      "(10101, 77)\n",
      "SE HA NORMALIZADO EL ARCHIVO: Pinus gerardiana_merged.csv\n",
      "(5767, 4, 43) (2181, 4, 43) (1745, 4, 43)\n",
      "<LSTM name=lstm_95, built=True> False\n",
      "<Dropout name=dropout_52, built=True> True\n",
      "<LSTM name=lstm_96, built=True> False\n",
      "<LSTM name=lstm_97, built=True> False\n",
      "<LSTM name=lstm_98, built=True> True\n",
      "<Dense name=dense_52, built=True> True\n",
      "<Dropout name=dropout_53, built=True> True\n",
      "<Dense name=dense_53, built=True> True\n",
      "[MODELO CONGELADO]: 17.634565353393555\n"
     ]
    },
    {
     "name": "stderr",
     "output_type": "stream",
     "text": [
      "/home/workstation/Escritorio/PabloC/TransferLearning/funcionesComunes.py:191: FutureWarning: The behavior of DataFrame concatenation with empty or all-NA entries is deprecated. In a future version, this will no longer exclude empty or all-NA columns when determining the result dtypes. To retain the old behavior, exclude the relevant entries before the concat operation.\n",
      "  predictionsDF = pd.concat([predictionsDF, tempDF], ignore_index=True)\n",
      "/home/workstation/Escritorio/PabloC/TransferLearning/funcionesComunes.py:191: FutureWarning: The behavior of DataFrame concatenation with empty or all-NA entries is deprecated. In a future version, this will no longer exclude empty or all-NA columns when determining the result dtypes. To retain the old behavior, exclude the relevant entries before the concat operation.\n",
      "  predictionsDF = pd.concat([predictionsDF, tempDF], ignore_index=True)\n",
      "/home/workstation/Escritorio/PabloC/TransferLearning/funcionesComunes.py:191: FutureWarning: The behavior of DataFrame concatenation with empty or all-NA entries is deprecated. In a future version, this will no longer exclude empty or all-NA columns when determining the result dtypes. To retain the old behavior, exclude the relevant entries before the concat operation.\n",
      "  predictionsDF = pd.concat([predictionsDF, tempDF], ignore_index=True)\n"
     ]
    },
    {
     "name": "stdout",
     "output_type": "stream",
     "text": [
      "RESULTADOS DE MSE, RMSE, R2, MAPE (Train): 20.470906738289642, 4.5244786150770615, 0.4726320854776017, 35.81681569217583\n",
      "RESULTADOS DE MSE, RMSE, R2, MAPE (Val): 22.165112066349852, 4.707983864283081, 0.43985031862260937, 35.620314132119276\n",
      "RESULTADOS DE MSE, RMSE, R2, MAPE (Test): 18.571542136183897, 4.309471213058964, 0.5377390080463432, 33.94484504899763\n",
      "Populus ciliata Juniperus turkestanica Komar.\n",
      "(1182, 77)\n",
      "SE HA NORMALIZADO EL ARCHIVO: Populus ciliata_merged.csv\n",
      "(705, 4, 43) (156, 4, 43) (265, 4, 43)\n",
      "<LSTM name=lstm_95, built=True> False\n",
      "<Dropout name=dropout_52, built=True> True\n",
      "<LSTM name=lstm_96, built=True> False\n",
      "<LSTM name=lstm_97, built=True> False\n",
      "<LSTM name=lstm_98, built=True> True\n",
      "<Dense name=dense_52, built=True> True\n",
      "<Dropout name=dropout_53, built=True> True\n",
      "<Dense name=dense_53, built=True> True\n",
      "[MODELO CONGELADO]: 32.118282079696655\n"
     ]
    },
    {
     "name": "stderr",
     "output_type": "stream",
     "text": [
      "/home/workstation/Escritorio/PabloC/TransferLearning/funcionesComunes.py:191: FutureWarning: The behavior of DataFrame concatenation with empty or all-NA entries is deprecated. In a future version, this will no longer exclude empty or all-NA columns when determining the result dtypes. To retain the old behavior, exclude the relevant entries before the concat operation.\n",
      "  predictionsDF = pd.concat([predictionsDF, tempDF], ignore_index=True)\n",
      "/home/workstation/Escritorio/PabloC/TransferLearning/funcionesComunes.py:191: FutureWarning: The behavior of DataFrame concatenation with empty or all-NA entries is deprecated. In a future version, this will no longer exclude empty or all-NA columns when determining the result dtypes. To retain the old behavior, exclude the relevant entries before the concat operation.\n",
      "  predictionsDF = pd.concat([predictionsDF, tempDF], ignore_index=True)\n",
      "/home/workstation/Escritorio/PabloC/TransferLearning/funcionesComunes.py:191: FutureWarning: The behavior of DataFrame concatenation with empty or all-NA entries is deprecated. In a future version, this will no longer exclude empty or all-NA columns when determining the result dtypes. To retain the old behavior, exclude the relevant entries before the concat operation.\n",
      "  predictionsDF = pd.concat([predictionsDF, tempDF], ignore_index=True)\n"
     ]
    },
    {
     "name": "stdout",
     "output_type": "stream",
     "text": [
      "RESULTADOS DE MSE, RMSE, R2, MAPE (Train): 190.6627300760111, 13.808067572112003, 0.4750371929719124, 39.31636735706559\n",
      "RESULTADOS DE MSE, RMSE, R2, MAPE (Val): 245.84563856092365, 15.679465506225768, -0.047497763900293144, 48.99082731110008\n",
      "RESULTADOS DE MSE, RMSE, R2, MAPE (Test): 81.77539300187941, 9.042974787196933, 0.5913883403810328, 33.42987022091254\n",
      "Betula utilis Juniperus turkestanica Komar.\n",
      "(3473, 77)\n",
      "SE HA NORMALIZADO EL ARCHIVO: Betula utilis_merged.csv\n",
      "(2059, 4, 43) (665, 4, 43) (593, 4, 43)\n",
      "<LSTM name=lstm_95, built=True> False\n",
      "<Dropout name=dropout_52, built=True> True\n",
      "<LSTM name=lstm_96, built=True> False\n",
      "<LSTM name=lstm_97, built=True> False\n",
      "<LSTM name=lstm_98, built=True> True\n",
      "<Dense name=dense_52, built=True> True\n",
      "<Dropout name=dropout_53, built=True> True\n",
      "<Dense name=dense_53, built=True> True\n",
      "[MODELO CONGELADO]: 11.344125747680664\n"
     ]
    },
    {
     "name": "stderr",
     "output_type": "stream",
     "text": [
      "/home/workstation/Escritorio/PabloC/TransferLearning/funcionesComunes.py:191: FutureWarning: The behavior of DataFrame concatenation with empty or all-NA entries is deprecated. In a future version, this will no longer exclude empty or all-NA columns when determining the result dtypes. To retain the old behavior, exclude the relevant entries before the concat operation.\n",
      "  predictionsDF = pd.concat([predictionsDF, tempDF], ignore_index=True)\n",
      "/home/workstation/Escritorio/PabloC/TransferLearning/funcionesComunes.py:191: FutureWarning: The behavior of DataFrame concatenation with empty or all-NA entries is deprecated. In a future version, this will no longer exclude empty or all-NA columns when determining the result dtypes. To retain the old behavior, exclude the relevant entries before the concat operation.\n",
      "  predictionsDF = pd.concat([predictionsDF, tempDF], ignore_index=True)\n",
      "/home/workstation/Escritorio/PabloC/TransferLearning/funcionesComunes.py:191: FutureWarning: The behavior of DataFrame concatenation with empty or all-NA entries is deprecated. In a future version, this will no longer exclude empty or all-NA columns when determining the result dtypes. To retain the old behavior, exclude the relevant entries before the concat operation.\n",
      "  predictionsDF = pd.concat([predictionsDF, tempDF], ignore_index=True)\n"
     ]
    },
    {
     "name": "stdout",
     "output_type": "stream",
     "text": [
      "RESULTADOS DE MSE, RMSE, R2, MAPE (Train): 5.1967491980139195, 2.2796379532754583, 0.23282839839855796, 57.29431653714979\n",
      "RESULTADOS DE MSE, RMSE, R2, MAPE (Val): 1.5314076725227002, 1.237500574756513, 0.2024945960396909, 46.232529302464954\n",
      "RESULTADOS DE MSE, RMSE, R2, MAPE (Test): 1.467597320205866, 1.2114443116403932, 0.4391581350418624, 46.128365409967934\n",
      "Tsuga dumosa Juniperus turkestanica Komar.\n",
      "(20493, 77)\n",
      "SE HA NORMALIZADO EL ARCHIVO: Tsuga dumosa_merged.csv\n",
      "(11935, 4, 43) (4144, 4, 43) (3469, 4, 43)\n",
      "<LSTM name=lstm_95, built=True> False\n",
      "<Dropout name=dropout_52, built=True> True\n",
      "<LSTM name=lstm_96, built=True> False\n",
      "<LSTM name=lstm_97, built=True> False\n",
      "<LSTM name=lstm_98, built=True> True\n",
      "<Dense name=dense_52, built=True> True\n",
      "<Dropout name=dropout_53, built=True> True\n",
      "<Dense name=dense_53, built=True> True\n",
      "[MODELO CONGELADO]: 377.78976941108704\n"
     ]
    },
    {
     "name": "stderr",
     "output_type": "stream",
     "text": [
      "/home/workstation/Escritorio/PabloC/TransferLearning/funcionesComunes.py:191: FutureWarning: The behavior of DataFrame concatenation with empty or all-NA entries is deprecated. In a future version, this will no longer exclude empty or all-NA columns when determining the result dtypes. To retain the old behavior, exclude the relevant entries before the concat operation.\n",
      "  predictionsDF = pd.concat([predictionsDF, tempDF], ignore_index=True)\n",
      "/home/workstation/Escritorio/PabloC/TransferLearning/funcionesComunes.py:191: FutureWarning: The behavior of DataFrame concatenation with empty or all-NA entries is deprecated. In a future version, this will no longer exclude empty or all-NA columns when determining the result dtypes. To retain the old behavior, exclude the relevant entries before the concat operation.\n",
      "  predictionsDF = pd.concat([predictionsDF, tempDF], ignore_index=True)\n",
      "/home/workstation/Escritorio/PabloC/TransferLearning/funcionesComunes.py:191: FutureWarning: The behavior of DataFrame concatenation with empty or all-NA entries is deprecated. In a future version, this will no longer exclude empty or all-NA columns when determining the result dtypes. To retain the old behavior, exclude the relevant entries before the concat operation.\n",
      "  predictionsDF = pd.concat([predictionsDF, tempDF], ignore_index=True)\n"
     ]
    },
    {
     "name": "stdout",
     "output_type": "stream",
     "text": [
      "RESULTADOS DE MSE, RMSE, R2, MAPE (Train): 272.73912864871664, 16.514815428841967, 0.2996629070745873, 47.08714616954241\n",
      "RESULTADOS DE MSE, RMSE, R2, MAPE (Val): 219.56497048609697, 14.817724875502885, 0.3032425970868521, 42.430892506987185\n",
      "RESULTADOS DE MSE, RMSE, R2, MAPE (Test): 419.36992836530885, 20.47852358851362, 0.31547890243287124, 47.92725545385114\n",
      "Cedrus deodara Juniperus turkestanica Komar.\n",
      "(37273, 77)\n",
      "SE HA NORMALIZADO EL ARCHIVO: Cedrus deodara_merged.csv\n",
      "(22017, 4, 43) (7410, 4, 43) (6282, 4, 43)\n",
      "<LSTM name=lstm_95, built=True> False\n",
      "<Dropout name=dropout_52, built=True> True\n",
      "<LSTM name=lstm_96, built=True> False\n",
      "<LSTM name=lstm_97, built=True> False\n",
      "<LSTM name=lstm_98, built=True> True\n",
      "<Dense name=dense_52, built=True> True\n",
      "<Dropout name=dropout_53, built=True> True\n",
      "<Dense name=dense_53, built=True> True\n",
      "[MODELO CONGELADO]: 716.8179018497467\n"
     ]
    },
    {
     "name": "stderr",
     "output_type": "stream",
     "text": [
      "/home/workstation/Escritorio/PabloC/TransferLearning/funcionesComunes.py:191: FutureWarning: The behavior of DataFrame concatenation with empty or all-NA entries is deprecated. In a future version, this will no longer exclude empty or all-NA columns when determining the result dtypes. To retain the old behavior, exclude the relevant entries before the concat operation.\n",
      "  predictionsDF = pd.concat([predictionsDF, tempDF], ignore_index=True)\n",
      "/home/workstation/Escritorio/PabloC/TransferLearning/funcionesComunes.py:191: FutureWarning: The behavior of DataFrame concatenation with empty or all-NA entries is deprecated. In a future version, this will no longer exclude empty or all-NA columns when determining the result dtypes. To retain the old behavior, exclude the relevant entries before the concat operation.\n",
      "  predictionsDF = pd.concat([predictionsDF, tempDF], ignore_index=True)\n",
      "/home/workstation/Escritorio/PabloC/TransferLearning/funcionesComunes.py:191: FutureWarning: The behavior of DataFrame concatenation with empty or all-NA entries is deprecated. In a future version, this will no longer exclude empty or all-NA columns when determining the result dtypes. To retain the old behavior, exclude the relevant entries before the concat operation.\n",
      "  predictionsDF = pd.concat([predictionsDF, tempDF], ignore_index=True)\n"
     ]
    },
    {
     "name": "stdout",
     "output_type": "stream",
     "text": [
      "RESULTADOS DE MSE, RMSE, R2, MAPE (Train): 240.27806301160996, 15.500905232005321, 0.43745899467538873, 41.893704467230926\n",
      "RESULTADOS DE MSE, RMSE, R2, MAPE (Val): 300.2791384649423, 17.328564235531527, 0.3269399895184534, 44.99210694466825\n",
      "RESULTADOS DE MSE, RMSE, R2, MAPE (Test): 214.3220643980848, 14.639742634284415, 0.3918697974560351, 41.59973205392492\n",
      "Juniperus spp. L. Juniperus turkestanica Komar.\n",
      "(7264, 77)\n",
      "SE HA NORMALIZADO EL ARCHIVO: Juniperus spp. L._merged.csv\n",
      "(4216, 4, 43) (1524, 4, 43) (1188, 4, 43)\n",
      "<LSTM name=lstm_95, built=True> False\n",
      "<Dropout name=dropout_52, built=True> True\n",
      "<LSTM name=lstm_96, built=True> False\n",
      "<LSTM name=lstm_97, built=True> False\n",
      "<LSTM name=lstm_98, built=True> True\n",
      "<Dense name=dense_52, built=True> True\n",
      "<Dropout name=dropout_53, built=True> True\n",
      "<Dense name=dense_53, built=True> True\n",
      "[MODELO CONGELADO]: 29.9175922870636\n"
     ]
    },
    {
     "name": "stderr",
     "output_type": "stream",
     "text": [
      "/home/workstation/Escritorio/PabloC/TransferLearning/funcionesComunes.py:191: FutureWarning: The behavior of DataFrame concatenation with empty or all-NA entries is deprecated. In a future version, this will no longer exclude empty or all-NA columns when determining the result dtypes. To retain the old behavior, exclude the relevant entries before the concat operation.\n",
      "  predictionsDF = pd.concat([predictionsDF, tempDF], ignore_index=True)\n",
      "/home/workstation/Escritorio/PabloC/TransferLearning/funcionesComunes.py:191: FutureWarning: The behavior of DataFrame concatenation with empty or all-NA entries is deprecated. In a future version, this will no longer exclude empty or all-NA columns when determining the result dtypes. To retain the old behavior, exclude the relevant entries before the concat operation.\n",
      "  predictionsDF = pd.concat([predictionsDF, tempDF], ignore_index=True)\n",
      "/home/workstation/Escritorio/PabloC/TransferLearning/funcionesComunes.py:191: FutureWarning: The behavior of DataFrame concatenation with empty or all-NA entries is deprecated. In a future version, this will no longer exclude empty or all-NA columns when determining the result dtypes. To retain the old behavior, exclude the relevant entries before the concat operation.\n",
      "  predictionsDF = pd.concat([predictionsDF, tempDF], ignore_index=True)\n"
     ]
    },
    {
     "name": "stdout",
     "output_type": "stream",
     "text": [
      "RESULTADOS DE MSE, RMSE, R2, MAPE (Train): 4.702464965480004, 2.1685167662436933, 0.6248228067490782, 39.853693532067005\n",
      "RESULTADOS DE MSE, RMSE, R2, MAPE (Val): 1.533493528713264, 1.238343057764392, 0.31955308602776444, 42.99371683723681\n",
      "RESULTADOS DE MSE, RMSE, R2, MAPE (Test): 15.409358604647265, 3.925475589612966, 0.18714728342335196, 56.220180175064996\n",
      "Juniperus recurva Juniperus turkestanica Komar.\n",
      "(5316, 77)\n",
      "SE HA NORMALIZADO EL ARCHIVO: Juniperus recurva_merged.csv\n",
      "(3188, 4, 43) (1082, 4, 43) (810, 4, 43)\n",
      "<LSTM name=lstm_95, built=True> False\n",
      "<Dropout name=dropout_52, built=True> True\n",
      "<LSTM name=lstm_96, built=True> False\n",
      "<LSTM name=lstm_97, built=True> False\n",
      "<LSTM name=lstm_98, built=True> True\n",
      "<Dense name=dense_52, built=True> True\n",
      "<Dropout name=dropout_53, built=True> True\n",
      "<Dense name=dense_53, built=True> True\n",
      "[MODELO CONGELADO]: 32.57308864593506\n"
     ]
    },
    {
     "name": "stderr",
     "output_type": "stream",
     "text": [
      "/home/workstation/Escritorio/PabloC/TransferLearning/funcionesComunes.py:191: FutureWarning: The behavior of DataFrame concatenation with empty or all-NA entries is deprecated. In a future version, this will no longer exclude empty or all-NA columns when determining the result dtypes. To retain the old behavior, exclude the relevant entries before the concat operation.\n",
      "  predictionsDF = pd.concat([predictionsDF, tempDF], ignore_index=True)\n",
      "/home/workstation/Escritorio/PabloC/TransferLearning/funcionesComunes.py:191: FutureWarning: The behavior of DataFrame concatenation with empty or all-NA entries is deprecated. In a future version, this will no longer exclude empty or all-NA columns when determining the result dtypes. To retain the old behavior, exclude the relevant entries before the concat operation.\n",
      "  predictionsDF = pd.concat([predictionsDF, tempDF], ignore_index=True)\n",
      "/home/workstation/Escritorio/PabloC/TransferLearning/funcionesComunes.py:191: FutureWarning: The behavior of DataFrame concatenation with empty or all-NA entries is deprecated. In a future version, this will no longer exclude empty or all-NA columns when determining the result dtypes. To retain the old behavior, exclude the relevant entries before the concat operation.\n",
      "  predictionsDF = pd.concat([predictionsDF, tempDF], ignore_index=True)\n"
     ]
    },
    {
     "name": "stdout",
     "output_type": "stream",
     "text": [
      "RESULTADOS DE MSE, RMSE, R2, MAPE (Train): 10.543840216445382, 3.2471279950820207, 0.5810267769591608, 36.61476878563118\n",
      "RESULTADOS DE MSE, RMSE, R2, MAPE (Val): 8.276305378051578, 2.876856857414282, 0.699475628712672, 30.64954965388257\n",
      "RESULTADOS DE MSE, RMSE, R2, MAPE (Test): 3.4542187631741874, 1.858552868006231, 0.6327742346423324, 29.028836525767954\n",
      "totalMerged.csv Juniperus turkestanica Komar.\n",
      "Juniperus spp.  Juniperus turkestanica Komar.\n",
      "(17976, 77)\n",
      "SE HA NORMALIZADO EL ARCHIVO: Juniperus spp. _merged.csv\n",
      "(10218, 4, 43) (3900, 4, 43) (3018, 4, 43)\n",
      "<LSTM name=lstm_95, built=True> False\n",
      "<Dropout name=dropout_52, built=True> True\n",
      "<LSTM name=lstm_96, built=True> False\n",
      "<LSTM name=lstm_97, built=True> False\n",
      "<LSTM name=lstm_98, built=True> True\n",
      "<Dense name=dense_52, built=True> True\n",
      "<Dropout name=dropout_53, built=True> True\n",
      "<Dense name=dense_53, built=True> True\n",
      "[MODELO CONGELADO]: 156.055969953537\n"
     ]
    },
    {
     "name": "stderr",
     "output_type": "stream",
     "text": [
      "/home/workstation/Escritorio/PabloC/TransferLearning/funcionesComunes.py:191: FutureWarning: The behavior of DataFrame concatenation with empty or all-NA entries is deprecated. In a future version, this will no longer exclude empty or all-NA columns when determining the result dtypes. To retain the old behavior, exclude the relevant entries before the concat operation.\n",
      "  predictionsDF = pd.concat([predictionsDF, tempDF], ignore_index=True)\n",
      "/home/workstation/Escritorio/PabloC/TransferLearning/funcionesComunes.py:191: FutureWarning: The behavior of DataFrame concatenation with empty or all-NA entries is deprecated. In a future version, this will no longer exclude empty or all-NA columns when determining the result dtypes. To retain the old behavior, exclude the relevant entries before the concat operation.\n",
      "  predictionsDF = pd.concat([predictionsDF, tempDF], ignore_index=True)\n",
      "/home/workstation/Escritorio/PabloC/TransferLearning/funcionesComunes.py:191: FutureWarning: The behavior of DataFrame concatenation with empty or all-NA entries is deprecated. In a future version, this will no longer exclude empty or all-NA columns when determining the result dtypes. To retain the old behavior, exclude the relevant entries before the concat operation.\n",
      "  predictionsDF = pd.concat([predictionsDF, tempDF], ignore_index=True)\n"
     ]
    },
    {
     "name": "stdout",
     "output_type": "stream",
     "text": [
      "RESULTADOS DE MSE, RMSE, R2, MAPE (Train): 34.36502867566367, 5.862169280706902, 0.4395299277325908, 42.34161267797384\n",
      "RESULTADOS DE MSE, RMSE, R2, MAPE (Val): 9.260782683293717, 3.0431534110678213, 0.5292580956161796, 42.474674376504495\n",
      "RESULTADOS DE MSE, RMSE, R2, MAPE (Test): 52.81082183255217, 7.267105464526586, 0.4946154996180889, 43.53780128848134\n",
      "Procesando el modelo: model_Abies pindrow.keras\n",
      "Abies spectabilis Abies pindrow\n",
      "(96429, 77)\n",
      "SE HA NORMALIZADO EL ARCHIVO: Abies spectabilis_merged.csv\n",
      "(56618, 4, 43) (19637, 4, 43) (15689, 4, 43)\n",
      "<LSTM name=lstm_88, built=True> False\n",
      "<LSTM name=lstm_89, built=True> False\n",
      "<LSTM name=lstm_90, built=True> False\n",
      "<Dropout name=dropout_48, built=True> True\n",
      "<LSTM name=lstm_91, built=True> True\n",
      "<Dense name=dense_48, built=True> True\n",
      "<Dropout name=dropout_49, built=True> True\n",
      "<Dense name=dense_49, built=True> True\n",
      "[MODELO CONGELADO]: 782.5911438465118\n"
     ]
    },
    {
     "name": "stderr",
     "output_type": "stream",
     "text": [
      "/home/workstation/Escritorio/PabloC/TransferLearning/funcionesComunes.py:191: FutureWarning: The behavior of DataFrame concatenation with empty or all-NA entries is deprecated. In a future version, this will no longer exclude empty or all-NA columns when determining the result dtypes. To retain the old behavior, exclude the relevant entries before the concat operation.\n",
      "  predictionsDF = pd.concat([predictionsDF, tempDF], ignore_index=True)\n",
      "/home/workstation/Escritorio/PabloC/TransferLearning/funcionesComunes.py:191: FutureWarning: The behavior of DataFrame concatenation with empty or all-NA entries is deprecated. In a future version, this will no longer exclude empty or all-NA columns when determining the result dtypes. To retain the old behavior, exclude the relevant entries before the concat operation.\n",
      "  predictionsDF = pd.concat([predictionsDF, tempDF], ignore_index=True)\n",
      "/home/workstation/Escritorio/PabloC/TransferLearning/funcionesComunes.py:191: FutureWarning: The behavior of DataFrame concatenation with empty or all-NA entries is deprecated. In a future version, this will no longer exclude empty or all-NA columns when determining the result dtypes. To retain the old behavior, exclude the relevant entries before the concat operation.\n",
      "  predictionsDF = pd.concat([predictionsDF, tempDF], ignore_index=True)\n"
     ]
    },
    {
     "name": "stdout",
     "output_type": "stream",
     "text": [
      "RESULTADOS DE MSE, RMSE, R2, MAPE (Train): 80.28601755782454, 8.960246512112517, 0.29561406120858535, 48.85487090258385\n",
      "RESULTADOS DE MSE, RMSE, R2, MAPE (Val): 78.02490755649286, 8.8331708664835, 0.28906473119571974, 48.11831817242048\n",
      "RESULTADOS DE MSE, RMSE, R2, MAPE (Test): 82.893371308288, 9.104579688721934, 0.3852415429779247, 47.36797577375007\n",
      "Picea smithiana Abies pindrow\n",
      "(34476, 77)\n",
      "SE HA NORMALIZADO EL ARCHIVO: Picea smithiana_merged.csv\n",
      "(19933, 4, 43) (7272, 4, 43) (5863, 4, 43)\n",
      "<LSTM name=lstm_88, built=True> False\n",
      "<LSTM name=lstm_89, built=True> False\n",
      "<LSTM name=lstm_90, built=True> False\n",
      "<Dropout name=dropout_48, built=True> True\n",
      "<LSTM name=lstm_91, built=True> True\n",
      "<Dense name=dense_48, built=True> True\n",
      "<Dropout name=dropout_49, built=True> True\n",
      "<Dense name=dense_49, built=True> True\n",
      "[MODELO CONGELADO]: 317.0588798522949\n"
     ]
    },
    {
     "name": "stderr",
     "output_type": "stream",
     "text": [
      "/home/workstation/Escritorio/PabloC/TransferLearning/funcionesComunes.py:191: FutureWarning: The behavior of DataFrame concatenation with empty or all-NA entries is deprecated. In a future version, this will no longer exclude empty or all-NA columns when determining the result dtypes. To retain the old behavior, exclude the relevant entries before the concat operation.\n",
      "  predictionsDF = pd.concat([predictionsDF, tempDF], ignore_index=True)\n",
      "/home/workstation/Escritorio/PabloC/TransferLearning/funcionesComunes.py:191: FutureWarning: The behavior of DataFrame concatenation with empty or all-NA entries is deprecated. In a future version, this will no longer exclude empty or all-NA columns when determining the result dtypes. To retain the old behavior, exclude the relevant entries before the concat operation.\n",
      "  predictionsDF = pd.concat([predictionsDF, tempDF], ignore_index=True)\n",
      "/home/workstation/Escritorio/PabloC/TransferLearning/funcionesComunes.py:191: FutureWarning: The behavior of DataFrame concatenation with empty or all-NA entries is deprecated. In a future version, this will no longer exclude empty or all-NA columns when determining the result dtypes. To retain the old behavior, exclude the relevant entries before the concat operation.\n",
      "  predictionsDF = pd.concat([predictionsDF, tempDF], ignore_index=True)\n"
     ]
    },
    {
     "name": "stdout",
     "output_type": "stream",
     "text": [
      "RESULTADOS DE MSE, RMSE, R2, MAPE (Train): 210.9413376771927, 14.523819665542282, 0.38182085452457926, 42.77016996868154\n",
      "RESULTADOS DE MSE, RMSE, R2, MAPE (Val): 252.87563518073878, 15.902063865446484, 0.2702680107349066, 45.7211752897082\n",
      "RESULTADOS DE MSE, RMSE, R2, MAPE (Test): 222.3127392674245, 14.91015557489004, 0.24925942215774932, 46.45240805511606\n",
      "Abies pindrow Abies pindrow\n",
      "Juniperus excelsa M.-Bieb Abies pindrow\n",
      "(7449, 77)\n",
      "SE HA NORMALIZADO EL ARCHIVO: Juniperus excelsa M.-Bieb_merged.csv\n",
      "(4189, 4, 43) (1707, 4, 43) (1228, 4, 43)\n",
      "<LSTM name=lstm_88, built=True> False\n",
      "<LSTM name=lstm_89, built=True> False\n",
      "<LSTM name=lstm_90, built=True> False\n",
      "<Dropout name=dropout_48, built=True> True\n",
      "<LSTM name=lstm_91, built=True> True\n",
      "<Dense name=dense_48, built=True> True\n",
      "<Dropout name=dropout_49, built=True> True\n",
      "<Dense name=dense_49, built=True> True\n",
      "[MODELO CONGELADO]: 58.00440216064453\n"
     ]
    },
    {
     "name": "stderr",
     "output_type": "stream",
     "text": [
      "/home/workstation/Escritorio/PabloC/TransferLearning/funcionesComunes.py:191: FutureWarning: The behavior of DataFrame concatenation with empty or all-NA entries is deprecated. In a future version, this will no longer exclude empty or all-NA columns when determining the result dtypes. To retain the old behavior, exclude the relevant entries before the concat operation.\n",
      "  predictionsDF = pd.concat([predictionsDF, tempDF], ignore_index=True)\n",
      "/home/workstation/Escritorio/PabloC/TransferLearning/funcionesComunes.py:191: FutureWarning: The behavior of DataFrame concatenation with empty or all-NA entries is deprecated. In a future version, this will no longer exclude empty or all-NA columns when determining the result dtypes. To retain the old behavior, exclude the relevant entries before the concat operation.\n",
      "  predictionsDF = pd.concat([predictionsDF, tempDF], ignore_index=True)\n",
      "/home/workstation/Escritorio/PabloC/TransferLearning/funcionesComunes.py:191: FutureWarning: The behavior of DataFrame concatenation with empty or all-NA entries is deprecated. In a future version, this will no longer exclude empty or all-NA columns when determining the result dtypes. To retain the old behavior, exclude the relevant entries before the concat operation.\n",
      "  predictionsDF = pd.concat([predictionsDF, tempDF], ignore_index=True)\n"
     ]
    },
    {
     "name": "stdout",
     "output_type": "stream",
     "text": [
      "RESULTADOS DE MSE, RMSE, R2, MAPE (Train): 19.697049786390938, 4.438135845869405, 0.19935426732076278, 48.81258750483492\n",
      "RESULTADOS DE MSE, RMSE, R2, MAPE (Val): 23.34680223699407, 4.831852878243922, 0.10964059265193404, 56.1036215891502\n",
      "RESULTADOS DE MSE, RMSE, R2, MAPE (Test): 80.96164455574153, 8.997868889672795, -0.20032365905033878, 69.9435177075869\n",
      "Juniperus turkestanica Komar. Abies pindrow\n",
      "(6305, 77)\n",
      "SE HA NORMALIZADO EL ARCHIVO: Juniperus turkestanica Komar._merged.csv\n",
      "(3664, 4, 43) (1368, 4, 43) (1001, 4, 43)\n",
      "<LSTM name=lstm_88, built=True> False\n",
      "<LSTM name=lstm_89, built=True> False\n",
      "<LSTM name=lstm_90, built=True> False\n",
      "<Dropout name=dropout_48, built=True> True\n",
      "<LSTM name=lstm_91, built=True> True\n",
      "<Dense name=dense_48, built=True> True\n",
      "<Dropout name=dropout_49, built=True> True\n",
      "<Dense name=dense_49, built=True> True\n",
      "[MODELO CONGELADO]: 11.593635559082031\n"
     ]
    },
    {
     "name": "stderr",
     "output_type": "stream",
     "text": [
      "/home/workstation/Escritorio/PabloC/TransferLearning/funcionesComunes.py:191: FutureWarning: The behavior of DataFrame concatenation with empty or all-NA entries is deprecated. In a future version, this will no longer exclude empty or all-NA columns when determining the result dtypes. To retain the old behavior, exclude the relevant entries before the concat operation.\n",
      "  predictionsDF = pd.concat([predictionsDF, tempDF], ignore_index=True)\n",
      "/home/workstation/Escritorio/PabloC/TransferLearning/funcionesComunes.py:191: FutureWarning: The behavior of DataFrame concatenation with empty or all-NA entries is deprecated. In a future version, this will no longer exclude empty or all-NA columns when determining the result dtypes. To retain the old behavior, exclude the relevant entries before the concat operation.\n",
      "  predictionsDF = pd.concat([predictionsDF, tempDF], ignore_index=True)\n",
      "/home/workstation/Escritorio/PabloC/TransferLearning/funcionesComunes.py:191: FutureWarning: The behavior of DataFrame concatenation with empty or all-NA entries is deprecated. In a future version, this will no longer exclude empty or all-NA columns when determining the result dtypes. To retain the old behavior, exclude the relevant entries before the concat operation.\n",
      "  predictionsDF = pd.concat([predictionsDF, tempDF], ignore_index=True)\n"
     ]
    },
    {
     "name": "stdout",
     "output_type": "stream",
     "text": [
      "RESULTADOS DE MSE, RMSE, R2, MAPE (Train): 11.169806142364857, 3.342125991396024, 0.7511559771273169, 34.13914172020504\n",
      "RESULTADOS DE MSE, RMSE, R2, MAPE (Val): 10.383159346399768, 3.2222910089561694, 0.39619115015275597, 44.302811571551366\n",
      "RESULTADOS DE MSE, RMSE, R2, MAPE (Test): 2.936310955853613, 1.7135667351619583, 0.45980079732382995, 34.377599047101015\n",
      "Pinus roxburghii Abies pindrow\n",
      "(10635, 77)\n",
      "SE HA NORMALIZADO EL ARCHIVO: Pinus roxburghii_merged.csv\n",
      "(6309, 4, 43) (2167, 4, 43) (1647, 4, 43)\n",
      "<LSTM name=lstm_88, built=True> False\n",
      "<LSTM name=lstm_89, built=True> False\n",
      "<LSTM name=lstm_90, built=True> False\n",
      "<Dropout name=dropout_48, built=True> True\n",
      "<LSTM name=lstm_91, built=True> True\n",
      "<Dense name=dense_48, built=True> True\n",
      "<Dropout name=dropout_49, built=True> True\n",
      "<Dense name=dense_49, built=True> True\n",
      "[MODELO CONGELADO]: 46.19949126243591\n"
     ]
    },
    {
     "name": "stderr",
     "output_type": "stream",
     "text": [
      "/home/workstation/Escritorio/PabloC/TransferLearning/funcionesComunes.py:191: FutureWarning: The behavior of DataFrame concatenation with empty or all-NA entries is deprecated. In a future version, this will no longer exclude empty or all-NA columns when determining the result dtypes. To retain the old behavior, exclude the relevant entries before the concat operation.\n",
      "  predictionsDF = pd.concat([predictionsDF, tempDF], ignore_index=True)\n",
      "/home/workstation/Escritorio/PabloC/TransferLearning/funcionesComunes.py:191: FutureWarning: The behavior of DataFrame concatenation with empty or all-NA entries is deprecated. In a future version, this will no longer exclude empty or all-NA columns when determining the result dtypes. To retain the old behavior, exclude the relevant entries before the concat operation.\n",
      "  predictionsDF = pd.concat([predictionsDF, tempDF], ignore_index=True)\n",
      "/home/workstation/Escritorio/PabloC/TransferLearning/funcionesComunes.py:191: FutureWarning: The behavior of DataFrame concatenation with empty or all-NA entries is deprecated. In a future version, this will no longer exclude empty or all-NA columns when determining the result dtypes. To retain the old behavior, exclude the relevant entries before the concat operation.\n",
      "  predictionsDF = pd.concat([predictionsDF, tempDF], ignore_index=True)\n"
     ]
    },
    {
     "name": "stdout",
     "output_type": "stream",
     "text": [
      "RESULTADOS DE MSE, RMSE, R2, MAPE (Train): 186.47914217518323, 13.655736603170963, 0.30088316186382846, 44.12128566762667\n",
      "RESULTADOS DE MSE, RMSE, R2, MAPE (Val): 150.90169134651654, 12.284204953781769, 0.3263568050266108, 44.121886625930614\n",
      "RESULTADOS DE MSE, RMSE, R2, MAPE (Test): 173.34103468770846, 13.165904248767285, 0.27262479728424094, 45.45102935831164\n",
      "Pinus wallichiana Abies pindrow\n",
      "(9365, 77)\n",
      "SE HA NORMALIZADO EL ARCHIVO: Pinus wallichiana_merged.csv\n",
      "(5508, 4, 43) (1957, 4, 43) (1500, 4, 43)\n",
      "<LSTM name=lstm_88, built=True> False\n",
      "<LSTM name=lstm_89, built=True> False\n",
      "<LSTM name=lstm_90, built=True> False\n",
      "<Dropout name=dropout_48, built=True> True\n",
      "<LSTM name=lstm_91, built=True> True\n",
      "<Dense name=dense_48, built=True> True\n",
      "<Dropout name=dropout_49, built=True> True\n",
      "<Dense name=dense_49, built=True> True\n",
      "[MODELO CONGELADO]: 23.12552785873413\n"
     ]
    },
    {
     "name": "stderr",
     "output_type": "stream",
     "text": [
      "/home/workstation/Escritorio/PabloC/TransferLearning/funcionesComunes.py:191: FutureWarning: The behavior of DataFrame concatenation with empty or all-NA entries is deprecated. In a future version, this will no longer exclude empty or all-NA columns when determining the result dtypes. To retain the old behavior, exclude the relevant entries before the concat operation.\n",
      "  predictionsDF = pd.concat([predictionsDF, tempDF], ignore_index=True)\n",
      "/home/workstation/Escritorio/PabloC/TransferLearning/funcionesComunes.py:191: FutureWarning: The behavior of DataFrame concatenation with empty or all-NA entries is deprecated. In a future version, this will no longer exclude empty or all-NA columns when determining the result dtypes. To retain the old behavior, exclude the relevant entries before the concat operation.\n",
      "  predictionsDF = pd.concat([predictionsDF, tempDF], ignore_index=True)\n",
      "/home/workstation/Escritorio/PabloC/TransferLearning/funcionesComunes.py:191: FutureWarning: The behavior of DataFrame concatenation with empty or all-NA entries is deprecated. In a future version, this will no longer exclude empty or all-NA columns when determining the result dtypes. To retain the old behavior, exclude the relevant entries before the concat operation.\n",
      "  predictionsDF = pd.concat([predictionsDF, tempDF], ignore_index=True)\n"
     ]
    },
    {
     "name": "stdout",
     "output_type": "stream",
     "text": [
      "RESULTADOS DE MSE, RMSE, R2, MAPE (Train): 34.06147661089066, 5.836221089959723, 0.4947251767035068, 33.16985882191911\n",
      "RESULTADOS DE MSE, RMSE, R2, MAPE (Val): 26.0558083514141, 5.104489039209909, 0.5641627641523919, 34.558950107404556\n",
      "RESULTADOS DE MSE, RMSE, R2, MAPE (Test): 58.76504224968569, 7.665836043751894, -0.3937373519919929, 49.15700488885622\n",
      "Pinus gerardiana Abies pindrow\n",
      "(10101, 77)\n",
      "SE HA NORMALIZADO EL ARCHIVO: Pinus gerardiana_merged.csv\n",
      "(5767, 4, 43) (2181, 4, 43) (1745, 4, 43)\n",
      "<LSTM name=lstm_88, built=True> False\n",
      "<LSTM name=lstm_89, built=True> False\n",
      "<LSTM name=lstm_90, built=True> False\n",
      "<Dropout name=dropout_48, built=True> True\n",
      "<LSTM name=lstm_91, built=True> True\n",
      "<Dense name=dense_48, built=True> True\n",
      "<Dropout name=dropout_49, built=True> True\n",
      "<Dense name=dense_49, built=True> True\n",
      "[MODELO CONGELADO]: 18.178509950637817\n"
     ]
    },
    {
     "name": "stderr",
     "output_type": "stream",
     "text": [
      "/home/workstation/Escritorio/PabloC/TransferLearning/funcionesComunes.py:191: FutureWarning: The behavior of DataFrame concatenation with empty or all-NA entries is deprecated. In a future version, this will no longer exclude empty or all-NA columns when determining the result dtypes. To retain the old behavior, exclude the relevant entries before the concat operation.\n",
      "  predictionsDF = pd.concat([predictionsDF, tempDF], ignore_index=True)\n",
      "/home/workstation/Escritorio/PabloC/TransferLearning/funcionesComunes.py:191: FutureWarning: The behavior of DataFrame concatenation with empty or all-NA entries is deprecated. In a future version, this will no longer exclude empty or all-NA columns when determining the result dtypes. To retain the old behavior, exclude the relevant entries before the concat operation.\n",
      "  predictionsDF = pd.concat([predictionsDF, tempDF], ignore_index=True)\n",
      "/home/workstation/Escritorio/PabloC/TransferLearning/funcionesComunes.py:191: FutureWarning: The behavior of DataFrame concatenation with empty or all-NA entries is deprecated. In a future version, this will no longer exclude empty or all-NA columns when determining the result dtypes. To retain the old behavior, exclude the relevant entries before the concat operation.\n",
      "  predictionsDF = pd.concat([predictionsDF, tempDF], ignore_index=True)\n"
     ]
    },
    {
     "name": "stdout",
     "output_type": "stream",
     "text": [
      "RESULTADOS DE MSE, RMSE, R2, MAPE (Train): 21.636482104462612, 4.651503209120962, 0.44260473701005265, 37.43088895098712\n",
      "RESULTADOS DE MSE, RMSE, R2, MAPE (Val): 23.46155649169915, 4.843713089325084, 0.4070869863367603, 37.001958667547186\n",
      "RESULTADOS DE MSE, RMSE, R2, MAPE (Test): 19.25588700386684, 4.388153028765843, 0.5207051001967007, 35.395115887366856\n",
      "Populus ciliata Abies pindrow\n",
      "(1182, 77)\n",
      "SE HA NORMALIZADO EL ARCHIVO: Populus ciliata_merged.csv\n",
      "(705, 4, 43) (156, 4, 43) (265, 4, 43)\n",
      "<LSTM name=lstm_88, built=True> False\n",
      "<LSTM name=lstm_89, built=True> False\n",
      "<LSTM name=lstm_90, built=True> False\n",
      "<Dropout name=dropout_48, built=True> True\n",
      "<LSTM name=lstm_91, built=True> True\n",
      "<Dense name=dense_48, built=True> True\n",
      "<Dropout name=dropout_49, built=True> True\n",
      "<Dense name=dense_49, built=True> True\n",
      "[MODELO CONGELADO]: 9.22020173072815\n"
     ]
    },
    {
     "name": "stderr",
     "output_type": "stream",
     "text": [
      "/home/workstation/Escritorio/PabloC/TransferLearning/funcionesComunes.py:191: FutureWarning: The behavior of DataFrame concatenation with empty or all-NA entries is deprecated. In a future version, this will no longer exclude empty or all-NA columns when determining the result dtypes. To retain the old behavior, exclude the relevant entries before the concat operation.\n",
      "  predictionsDF = pd.concat([predictionsDF, tempDF], ignore_index=True)\n",
      "/home/workstation/Escritorio/PabloC/TransferLearning/funcionesComunes.py:191: FutureWarning: The behavior of DataFrame concatenation with empty or all-NA entries is deprecated. In a future version, this will no longer exclude empty or all-NA columns when determining the result dtypes. To retain the old behavior, exclude the relevant entries before the concat operation.\n",
      "  predictionsDF = pd.concat([predictionsDF, tempDF], ignore_index=True)\n",
      "/home/workstation/Escritorio/PabloC/TransferLearning/funcionesComunes.py:191: FutureWarning: The behavior of DataFrame concatenation with empty or all-NA entries is deprecated. In a future version, this will no longer exclude empty or all-NA columns when determining the result dtypes. To retain the old behavior, exclude the relevant entries before the concat operation.\n",
      "  predictionsDF = pd.concat([predictionsDF, tempDF], ignore_index=True)\n"
     ]
    },
    {
     "name": "stdout",
     "output_type": "stream",
     "text": [
      "RESULTADOS DE MSE, RMSE, R2, MAPE (Train): 206.97617716271213, 14.386666645290427, 0.430120428318828, 40.460751328894595\n",
      "RESULTADOS DE MSE, RMSE, R2, MAPE (Val): 259.57071597189895, 16.111198464791467, -0.10597749932090861, 49.86277527831533\n",
      "RESULTADOS DE MSE, RMSE, R2, MAPE (Test): 94.76409384890522, 9.73468509243649, 0.5264869756235987, 35.93012521693045\n",
      "Betula utilis Abies pindrow\n",
      "(3473, 77)\n",
      "SE HA NORMALIZADO EL ARCHIVO: Betula utilis_merged.csv\n",
      "(2059, 4, 43) (665, 4, 43) (593, 4, 43)\n",
      "<LSTM name=lstm_88, built=True> False\n",
      "<LSTM name=lstm_89, built=True> False\n",
      "<LSTM name=lstm_90, built=True> False\n",
      "<Dropout name=dropout_48, built=True> True\n",
      "<LSTM name=lstm_91, built=True> True\n",
      "<Dense name=dense_48, built=True> True\n",
      "<Dropout name=dropout_49, built=True> True\n",
      "<Dense name=dense_49, built=True> True\n",
      "[MODELO CONGELADO]: 12.791889905929565\n"
     ]
    },
    {
     "name": "stderr",
     "output_type": "stream",
     "text": [
      "/home/workstation/Escritorio/PabloC/TransferLearning/funcionesComunes.py:191: FutureWarning: The behavior of DataFrame concatenation with empty or all-NA entries is deprecated. In a future version, this will no longer exclude empty or all-NA columns when determining the result dtypes. To retain the old behavior, exclude the relevant entries before the concat operation.\n",
      "  predictionsDF = pd.concat([predictionsDF, tempDF], ignore_index=True)\n",
      "/home/workstation/Escritorio/PabloC/TransferLearning/funcionesComunes.py:191: FutureWarning: The behavior of DataFrame concatenation with empty or all-NA entries is deprecated. In a future version, this will no longer exclude empty or all-NA columns when determining the result dtypes. To retain the old behavior, exclude the relevant entries before the concat operation.\n",
      "  predictionsDF = pd.concat([predictionsDF, tempDF], ignore_index=True)\n",
      "/home/workstation/Escritorio/PabloC/TransferLearning/funcionesComunes.py:191: FutureWarning: The behavior of DataFrame concatenation with empty or all-NA entries is deprecated. In a future version, this will no longer exclude empty or all-NA columns when determining the result dtypes. To retain the old behavior, exclude the relevant entries before the concat operation.\n",
      "  predictionsDF = pd.concat([predictionsDF, tempDF], ignore_index=True)\n"
     ]
    },
    {
     "name": "stdout",
     "output_type": "stream",
     "text": [
      "RESULTADOS DE MSE, RMSE, R2, MAPE (Train): 5.303834051241064, 2.3030054388214247, 0.2170199660060691, 57.406869221515336\n",
      "RESULTADOS DE MSE, RMSE, R2, MAPE (Val): 1.496839622475538, 1.223453972356761, 0.22049646922579602, 45.371183009297155\n",
      "RESULTADOS DE MSE, RMSE, R2, MAPE (Test): 1.3935586727208797, 1.1804908609222182, 0.467451981427895, 45.177077233698064\n",
      "Tsuga dumosa Abies pindrow\n",
      "(20493, 77)\n",
      "SE HA NORMALIZADO EL ARCHIVO: Tsuga dumosa_merged.csv\n",
      "(11935, 4, 43) (4144, 4, 43) (3469, 4, 43)\n",
      "<LSTM name=lstm_88, built=True> False\n",
      "<LSTM name=lstm_89, built=True> False\n",
      "<LSTM name=lstm_90, built=True> False\n",
      "<Dropout name=dropout_48, built=True> True\n",
      "<LSTM name=lstm_91, built=True> True\n",
      "<Dense name=dense_48, built=True> True\n",
      "<Dropout name=dropout_49, built=True> True\n",
      "<Dense name=dense_49, built=True> True\n",
      "[MODELO CONGELADO]: 67.40587878227234\n"
     ]
    },
    {
     "name": "stderr",
     "output_type": "stream",
     "text": [
      "/home/workstation/Escritorio/PabloC/TransferLearning/funcionesComunes.py:191: FutureWarning: The behavior of DataFrame concatenation with empty or all-NA entries is deprecated. In a future version, this will no longer exclude empty or all-NA columns when determining the result dtypes. To retain the old behavior, exclude the relevant entries before the concat operation.\n",
      "  predictionsDF = pd.concat([predictionsDF, tempDF], ignore_index=True)\n",
      "/home/workstation/Escritorio/PabloC/TransferLearning/funcionesComunes.py:191: FutureWarning: The behavior of DataFrame concatenation with empty or all-NA entries is deprecated. In a future version, this will no longer exclude empty or all-NA columns when determining the result dtypes. To retain the old behavior, exclude the relevant entries before the concat operation.\n",
      "  predictionsDF = pd.concat([predictionsDF, tempDF], ignore_index=True)\n",
      "/home/workstation/Escritorio/PabloC/TransferLearning/funcionesComunes.py:191: FutureWarning: The behavior of DataFrame concatenation with empty or all-NA entries is deprecated. In a future version, this will no longer exclude empty or all-NA columns when determining the result dtypes. To retain the old behavior, exclude the relevant entries before the concat operation.\n",
      "  predictionsDF = pd.concat([predictionsDF, tempDF], ignore_index=True)\n"
     ]
    },
    {
     "name": "stdout",
     "output_type": "stream",
     "text": [
      "RESULTADOS DE MSE, RMSE, R2, MAPE (Train): 270.240987001279, 16.439008090553365, 0.30607761283298185, 46.96328378720651\n",
      "RESULTADOS DE MSE, RMSE, R2, MAPE (Val): 233.93857523812707, 15.295050677854162, 0.25763005927923877, 43.22930225538338\n",
      "RESULTADOS DE MSE, RMSE, R2, MAPE (Test): 411.9306213317228, 20.296074037402477, 0.32762179173258577, 47.573890428085726\n",
      "Cedrus deodara Abies pindrow\n",
      "(37273, 77)\n",
      "SE HA NORMALIZADO EL ARCHIVO: Cedrus deodara_merged.csv\n",
      "(22017, 4, 43) (7410, 4, 43) (6282, 4, 43)\n",
      "<LSTM name=lstm_88, built=True> False\n",
      "<LSTM name=lstm_89, built=True> False\n",
      "<LSTM name=lstm_90, built=True> False\n",
      "<Dropout name=dropout_48, built=True> True\n",
      "<LSTM name=lstm_91, built=True> True\n",
      "<Dense name=dense_48, built=True> True\n",
      "<Dropout name=dropout_49, built=True> True\n",
      "<Dense name=dense_49, built=True> True\n",
      "[MODELO CONGELADO]: 977.9192628860474\n"
     ]
    },
    {
     "name": "stderr",
     "output_type": "stream",
     "text": [
      "/home/workstation/Escritorio/PabloC/TransferLearning/funcionesComunes.py:191: FutureWarning: The behavior of DataFrame concatenation with empty or all-NA entries is deprecated. In a future version, this will no longer exclude empty or all-NA columns when determining the result dtypes. To retain the old behavior, exclude the relevant entries before the concat operation.\n",
      "  predictionsDF = pd.concat([predictionsDF, tempDF], ignore_index=True)\n",
      "/home/workstation/Escritorio/PabloC/TransferLearning/funcionesComunes.py:191: FutureWarning: The behavior of DataFrame concatenation with empty or all-NA entries is deprecated. In a future version, this will no longer exclude empty or all-NA columns when determining the result dtypes. To retain the old behavior, exclude the relevant entries before the concat operation.\n",
      "  predictionsDF = pd.concat([predictionsDF, tempDF], ignore_index=True)\n",
      "/home/workstation/Escritorio/PabloC/TransferLearning/funcionesComunes.py:191: FutureWarning: The behavior of DataFrame concatenation with empty or all-NA entries is deprecated. In a future version, this will no longer exclude empty or all-NA columns when determining the result dtypes. To retain the old behavior, exclude the relevant entries before the concat operation.\n",
      "  predictionsDF = pd.concat([predictionsDF, tempDF], ignore_index=True)\n"
     ]
    },
    {
     "name": "stdout",
     "output_type": "stream",
     "text": [
      "RESULTADOS DE MSE, RMSE, R2, MAPE (Train): 231.16050988394153, 15.20396362413241, 0.4588050861090097, 40.75280856029387\n",
      "RESULTADOS DE MSE, RMSE, R2, MAPE (Val): 290.0355712848947, 17.030430742787885, 0.34990041050812604, 43.86812374400469\n",
      "RESULTADOS DE MSE, RMSE, R2, MAPE (Test): 213.45887184477425, 14.61023175191873, 0.3943190714668723, 40.958684251065286\n",
      "Juniperus spp. L. Abies pindrow\n",
      "(7264, 77)\n",
      "SE HA NORMALIZADO EL ARCHIVO: Juniperus spp. L._merged.csv\n",
      "(4216, 4, 43) (1524, 4, 43) (1188, 4, 43)\n",
      "<LSTM name=lstm_88, built=True> False\n",
      "<LSTM name=lstm_89, built=True> False\n",
      "<LSTM name=lstm_90, built=True> False\n",
      "<Dropout name=dropout_48, built=True> True\n",
      "<LSTM name=lstm_91, built=True> True\n",
      "<Dense name=dense_48, built=True> True\n",
      "<Dropout name=dropout_49, built=True> True\n",
      "<Dense name=dense_49, built=True> True\n",
      "[MODELO CONGELADO]: 51.269238233566284\n"
     ]
    },
    {
     "name": "stderr",
     "output_type": "stream",
     "text": [
      "/home/workstation/Escritorio/PabloC/TransferLearning/funcionesComunes.py:191: FutureWarning: The behavior of DataFrame concatenation with empty or all-NA entries is deprecated. In a future version, this will no longer exclude empty or all-NA columns when determining the result dtypes. To retain the old behavior, exclude the relevant entries before the concat operation.\n",
      "  predictionsDF = pd.concat([predictionsDF, tempDF], ignore_index=True)\n",
      "/home/workstation/Escritorio/PabloC/TransferLearning/funcionesComunes.py:191: FutureWarning: The behavior of DataFrame concatenation with empty or all-NA entries is deprecated. In a future version, this will no longer exclude empty or all-NA columns when determining the result dtypes. To retain the old behavior, exclude the relevant entries before the concat operation.\n",
      "  predictionsDF = pd.concat([predictionsDF, tempDF], ignore_index=True)\n",
      "/home/workstation/Escritorio/PabloC/TransferLearning/funcionesComunes.py:191: FutureWarning: The behavior of DataFrame concatenation with empty or all-NA entries is deprecated. In a future version, this will no longer exclude empty or all-NA columns when determining the result dtypes. To retain the old behavior, exclude the relevant entries before the concat operation.\n",
      "  predictionsDF = pd.concat([predictionsDF, tempDF], ignore_index=True)\n"
     ]
    },
    {
     "name": "stdout",
     "output_type": "stream",
     "text": [
      "RESULTADOS DE MSE, RMSE, R2, MAPE (Train): 4.617523494857815, 2.1488423615653653, 0.6315996998833336, 39.61080756970805\n",
      "RESULTADOS DE MSE, RMSE, R2, MAPE (Val): 1.516931230086653, 1.2316376212533673, 0.3269021649627244, 42.63757641456544\n",
      "RESULTADOS DE MSE, RMSE, R2, MAPE (Test): 12.790040126510819, 3.576316558487352, 0.32531787151587044, 52.5951760698242\n",
      "Juniperus recurva Abies pindrow\n",
      "(5316, 77)\n",
      "SE HA NORMALIZADO EL ARCHIVO: Juniperus recurva_merged.csv\n",
      "(3188, 4, 43) (1082, 4, 43) (810, 4, 43)\n",
      "<LSTM name=lstm_88, built=True> False\n",
      "<LSTM name=lstm_89, built=True> False\n",
      "<LSTM name=lstm_90, built=True> False\n",
      "<Dropout name=dropout_48, built=True> True\n",
      "<LSTM name=lstm_91, built=True> True\n",
      "<Dense name=dense_48, built=True> True\n",
      "<Dropout name=dropout_49, built=True> True\n",
      "<Dense name=dense_49, built=True> True\n",
      "[MODELO CONGELADO]: 64.14175581932068\n"
     ]
    },
    {
     "name": "stderr",
     "output_type": "stream",
     "text": [
      "/home/workstation/Escritorio/PabloC/TransferLearning/funcionesComunes.py:191: FutureWarning: The behavior of DataFrame concatenation with empty or all-NA entries is deprecated. In a future version, this will no longer exclude empty or all-NA columns when determining the result dtypes. To retain the old behavior, exclude the relevant entries before the concat operation.\n",
      "  predictionsDF = pd.concat([predictionsDF, tempDF], ignore_index=True)\n",
      "/home/workstation/Escritorio/PabloC/TransferLearning/funcionesComunes.py:191: FutureWarning: The behavior of DataFrame concatenation with empty or all-NA entries is deprecated. In a future version, this will no longer exclude empty or all-NA columns when determining the result dtypes. To retain the old behavior, exclude the relevant entries before the concat operation.\n",
      "  predictionsDF = pd.concat([predictionsDF, tempDF], ignore_index=True)\n",
      "/home/workstation/Escritorio/PabloC/TransferLearning/funcionesComunes.py:191: FutureWarning: The behavior of DataFrame concatenation with empty or all-NA entries is deprecated. In a future version, this will no longer exclude empty or all-NA columns when determining the result dtypes. To retain the old behavior, exclude the relevant entries before the concat operation.\n",
      "  predictionsDF = pd.concat([predictionsDF, tempDF], ignore_index=True)\n"
     ]
    },
    {
     "name": "stdout",
     "output_type": "stream",
     "text": [
      "RESULTADOS DE MSE, RMSE, R2, MAPE (Train): 11.157556765478429, 3.340292916119547, 0.5566399505938651, 37.92530284594147\n",
      "RESULTADOS DE MSE, RMSE, R2, MAPE (Val): 8.135944469235584, 2.852357703591116, 0.7045723321266264, 30.725004775798435\n",
      "RESULTADOS DE MSE, RMSE, R2, MAPE (Test): 3.20661237810761, 1.790701644079105, 0.659097826313163, 27.83659154398456\n",
      "totalMerged.csv Abies pindrow\n",
      "Juniperus spp.  Abies pindrow\n",
      "(17976, 77)\n",
      "SE HA NORMALIZADO EL ARCHIVO: Juniperus spp. _merged.csv\n",
      "(10218, 4, 43) (3900, 4, 43) (3018, 4, 43)\n",
      "<LSTM name=lstm_88, built=True> False\n",
      "<LSTM name=lstm_89, built=True> False\n",
      "<LSTM name=lstm_90, built=True> False\n",
      "<Dropout name=dropout_48, built=True> True\n",
      "<LSTM name=lstm_91, built=True> True\n",
      "<Dense name=dense_48, built=True> True\n",
      "<Dropout name=dropout_49, built=True> True\n",
      "<Dense name=dense_49, built=True> True\n",
      "[MODELO CONGELADO]: 183.77595233917236\n"
     ]
    },
    {
     "name": "stderr",
     "output_type": "stream",
     "text": [
      "/home/workstation/Escritorio/PabloC/TransferLearning/funcionesComunes.py:191: FutureWarning: The behavior of DataFrame concatenation with empty or all-NA entries is deprecated. In a future version, this will no longer exclude empty or all-NA columns when determining the result dtypes. To retain the old behavior, exclude the relevant entries before the concat operation.\n",
      "  predictionsDF = pd.concat([predictionsDF, tempDF], ignore_index=True)\n",
      "/home/workstation/Escritorio/PabloC/TransferLearning/funcionesComunes.py:191: FutureWarning: The behavior of DataFrame concatenation with empty or all-NA entries is deprecated. In a future version, this will no longer exclude empty or all-NA columns when determining the result dtypes. To retain the old behavior, exclude the relevant entries before the concat operation.\n",
      "  predictionsDF = pd.concat([predictionsDF, tempDF], ignore_index=True)\n",
      "/home/workstation/Escritorio/PabloC/TransferLearning/funcionesComunes.py:191: FutureWarning: The behavior of DataFrame concatenation with empty or all-NA entries is deprecated. In a future version, this will no longer exclude empty or all-NA columns when determining the result dtypes. To retain the old behavior, exclude the relevant entries before the concat operation.\n",
      "  predictionsDF = pd.concat([predictionsDF, tempDF], ignore_index=True)\n"
     ]
    },
    {
     "name": "stdout",
     "output_type": "stream",
     "text": [
      "RESULTADOS DE MSE, RMSE, R2, MAPE (Train): 23.196115707574815, 4.816234598477821, 0.621687245785586, 38.7827908263624\n",
      "RESULTADOS DE MSE, RMSE, R2, MAPE (Val): 7.810798866312028, 2.7947806472623262, 0.6029633283891094, 39.19522977808118\n",
      "RESULTADOS DE MSE, RMSE, R2, MAPE (Test): 33.1463153692416, 5.757283679760934, 0.6827992170714554, 39.75458323185154\n",
      "Procesando el modelo: model_Pinus roxburghii.keras\n",
      "Abies spectabilis Pinus roxburghii\n",
      "(96429, 77)\n",
      "SE HA NORMALIZADO EL ARCHIVO: Abies spectabilis_merged.csv\n",
      "(56618, 4, 43) (19637, 4, 43) (15689, 4, 43)\n",
      "<LSTM name=lstm_99, built=True> False\n",
      "<Dropout name=dropout_54, built=True> True\n",
      "<LSTM name=lstm_100, built=True> True\n",
      "<Dense name=dense_54, built=True> True\n",
      "<Dropout name=dropout_55, built=True> True\n",
      "<Dense name=dense_55, built=True> True\n",
      "[MODELO CONGELADO]: 572.5720365047455\n"
     ]
    },
    {
     "name": "stderr",
     "output_type": "stream",
     "text": [
      "/home/workstation/Escritorio/PabloC/TransferLearning/funcionesComunes.py:191: FutureWarning: The behavior of DataFrame concatenation with empty or all-NA entries is deprecated. In a future version, this will no longer exclude empty or all-NA columns when determining the result dtypes. To retain the old behavior, exclude the relevant entries before the concat operation.\n",
      "  predictionsDF = pd.concat([predictionsDF, tempDF], ignore_index=True)\n",
      "/home/workstation/Escritorio/PabloC/TransferLearning/funcionesComunes.py:191: FutureWarning: The behavior of DataFrame concatenation with empty or all-NA entries is deprecated. In a future version, this will no longer exclude empty or all-NA columns when determining the result dtypes. To retain the old behavior, exclude the relevant entries before the concat operation.\n",
      "  predictionsDF = pd.concat([predictionsDF, tempDF], ignore_index=True)\n",
      "/home/workstation/Escritorio/PabloC/TransferLearning/funcionesComunes.py:191: FutureWarning: The behavior of DataFrame concatenation with empty or all-NA entries is deprecated. In a future version, this will no longer exclude empty or all-NA columns when determining the result dtypes. To retain the old behavior, exclude the relevant entries before the concat operation.\n",
      "  predictionsDF = pd.concat([predictionsDF, tempDF], ignore_index=True)\n"
     ]
    },
    {
     "name": "stdout",
     "output_type": "stream",
     "text": [
      "RESULTADOS DE MSE, RMSE, R2, MAPE (Train): 79.60382289760751, 8.922097449457024, 0.3015992668619778, 48.20631984411062\n",
      "RESULTADOS DE MSE, RMSE, R2, MAPE (Val): 77.53482424759149, 8.805386093045067, 0.2935301963896134, 47.73611536667424\n",
      "RESULTADOS DE MSE, RMSE, R2, MAPE (Test): 83.59647317815062, 9.1431106948429, 0.3800271595619269, 47.03863352477738\n",
      "Picea smithiana Pinus roxburghii\n",
      "(34476, 77)\n",
      "SE HA NORMALIZADO EL ARCHIVO: Picea smithiana_merged.csv\n",
      "(19933, 4, 43) (7272, 4, 43) (5863, 4, 43)\n",
      "<LSTM name=lstm_99, built=True> False\n",
      "<Dropout name=dropout_54, built=True> True\n",
      "<LSTM name=lstm_100, built=True> True\n",
      "<Dense name=dense_54, built=True> True\n",
      "<Dropout name=dropout_55, built=True> True\n",
      "<Dense name=dense_55, built=True> True\n",
      "[MODELO CONGELADO]: 70.38398385047913\n"
     ]
    },
    {
     "name": "stderr",
     "output_type": "stream",
     "text": [
      "/home/workstation/Escritorio/PabloC/TransferLearning/funcionesComunes.py:191: FutureWarning: The behavior of DataFrame concatenation with empty or all-NA entries is deprecated. In a future version, this will no longer exclude empty or all-NA columns when determining the result dtypes. To retain the old behavior, exclude the relevant entries before the concat operation.\n",
      "  predictionsDF = pd.concat([predictionsDF, tempDF], ignore_index=True)\n",
      "/home/workstation/Escritorio/PabloC/TransferLearning/funcionesComunes.py:191: FutureWarning: The behavior of DataFrame concatenation with empty or all-NA entries is deprecated. In a future version, this will no longer exclude empty or all-NA columns when determining the result dtypes. To retain the old behavior, exclude the relevant entries before the concat operation.\n",
      "  predictionsDF = pd.concat([predictionsDF, tempDF], ignore_index=True)\n",
      "/home/workstation/Escritorio/PabloC/TransferLearning/funcionesComunes.py:191: FutureWarning: The behavior of DataFrame concatenation with empty or all-NA entries is deprecated. In a future version, this will no longer exclude empty or all-NA columns when determining the result dtypes. To retain the old behavior, exclude the relevant entries before the concat operation.\n",
      "  predictionsDF = pd.concat([predictionsDF, tempDF], ignore_index=True)\n"
     ]
    },
    {
     "name": "stdout",
     "output_type": "stream",
     "text": [
      "RESULTADOS DE MSE, RMSE, R2, MAPE (Train): 213.58124601496075, 14.614419113155362, 0.3740844084664231, 42.76386993346274\n",
      "RESULTADOS DE MSE, RMSE, R2, MAPE (Val): 249.76439036643927, 15.803935913766521, 0.2792462377823909, 45.607713189386885\n",
      "RESULTADOS DE MSE, RMSE, R2, MAPE (Test): 217.0284049815289, 14.731883959002966, 0.2671043922137959, 46.11720319714611\n",
      "Abies pindrow Pinus roxburghii\n",
      "(16018, 77)\n",
      "SE HA NORMALIZADO EL ARCHIVO: Abies pindrow_merged.csv\n",
      "(9042, 4, 43) (3441, 4, 43) (2815, 4, 43)\n",
      "<LSTM name=lstm_99, built=True> False\n",
      "<Dropout name=dropout_54, built=True> True\n",
      "<LSTM name=lstm_100, built=True> True\n",
      "<Dense name=dense_54, built=True> True\n",
      "<Dropout name=dropout_55, built=True> True\n",
      "<Dense name=dense_55, built=True> True\n",
      "[MODELO CONGELADO]: 98.57941818237305\n"
     ]
    },
    {
     "name": "stderr",
     "output_type": "stream",
     "text": [
      "/home/workstation/Escritorio/PabloC/TransferLearning/funcionesComunes.py:191: FutureWarning: The behavior of DataFrame concatenation with empty or all-NA entries is deprecated. In a future version, this will no longer exclude empty or all-NA columns when determining the result dtypes. To retain the old behavior, exclude the relevant entries before the concat operation.\n",
      "  predictionsDF = pd.concat([predictionsDF, tempDF], ignore_index=True)\n",
      "/home/workstation/Escritorio/PabloC/TransferLearning/funcionesComunes.py:191: FutureWarning: The behavior of DataFrame concatenation with empty or all-NA entries is deprecated. In a future version, this will no longer exclude empty or all-NA columns when determining the result dtypes. To retain the old behavior, exclude the relevant entries before the concat operation.\n",
      "  predictionsDF = pd.concat([predictionsDF, tempDF], ignore_index=True)\n",
      "/home/workstation/Escritorio/PabloC/TransferLearning/funcionesComunes.py:191: FutureWarning: The behavior of DataFrame concatenation with empty or all-NA entries is deprecated. In a future version, this will no longer exclude empty or all-NA columns when determining the result dtypes. To retain the old behavior, exclude the relevant entries before the concat operation.\n",
      "  predictionsDF = pd.concat([predictionsDF, tempDF], ignore_index=True)\n"
     ]
    },
    {
     "name": "stdout",
     "output_type": "stream",
     "text": [
      "RESULTADOS DE MSE, RMSE, R2, MAPE (Train): 180.0218843417316, 13.417223421473297, 0.22728855908492374, 45.3980793243752\n",
      "RESULTADOS DE MSE, RMSE, R2, MAPE (Val): 150.54729064370292, 12.269771417744623, 0.14120475755871054, 40.601252756727135\n",
      "RESULTADOS DE MSE, RMSE, R2, MAPE (Test): 277.6190466392384, 16.661904052035542, -0.962688212063908, 50.95909383684343\n",
      "Juniperus excelsa M.-Bieb Pinus roxburghii\n",
      "(7449, 77)\n",
      "SE HA NORMALIZADO EL ARCHIVO: Juniperus excelsa M.-Bieb_merged.csv\n",
      "(4189, 4, 43) (1707, 4, 43) (1228, 4, 43)\n",
      "<LSTM name=lstm_99, built=True> False\n",
      "<Dropout name=dropout_54, built=True> True\n",
      "<LSTM name=lstm_100, built=True> True\n",
      "<Dense name=dense_54, built=True> True\n",
      "<Dropout name=dropout_55, built=True> True\n",
      "<Dense name=dense_55, built=True> True\n",
      "[MODELO CONGELADO]: 17.663882732391357\n"
     ]
    },
    {
     "name": "stderr",
     "output_type": "stream",
     "text": [
      "/home/workstation/Escritorio/PabloC/TransferLearning/funcionesComunes.py:191: FutureWarning: The behavior of DataFrame concatenation with empty or all-NA entries is deprecated. In a future version, this will no longer exclude empty or all-NA columns when determining the result dtypes. To retain the old behavior, exclude the relevant entries before the concat operation.\n",
      "  predictionsDF = pd.concat([predictionsDF, tempDF], ignore_index=True)\n",
      "/home/workstation/Escritorio/PabloC/TransferLearning/funcionesComunes.py:191: FutureWarning: The behavior of DataFrame concatenation with empty or all-NA entries is deprecated. In a future version, this will no longer exclude empty or all-NA columns when determining the result dtypes. To retain the old behavior, exclude the relevant entries before the concat operation.\n",
      "  predictionsDF = pd.concat([predictionsDF, tempDF], ignore_index=True)\n",
      "/home/workstation/Escritorio/PabloC/TransferLearning/funcionesComunes.py:191: FutureWarning: The behavior of DataFrame concatenation with empty or all-NA entries is deprecated. In a future version, this will no longer exclude empty or all-NA columns when determining the result dtypes. To retain the old behavior, exclude the relevant entries before the concat operation.\n",
      "  predictionsDF = pd.concat([predictionsDF, tempDF], ignore_index=True)\n"
     ]
    },
    {
     "name": "stdout",
     "output_type": "stream",
     "text": [
      "RESULTADOS DE MSE, RMSE, R2, MAPE (Train): 21.17349257706692, 4.601466350748088, 0.1393398167954618, 50.57406882010128\n",
      "RESULTADOS DE MSE, RMSE, R2, MAPE (Val): 25.411224079246466, 5.040954679348592, 0.030911292196742268, 58.83882001929187\n",
      "RESULTADOS DE MSE, RMSE, R2, MAPE (Test): 87.82053308747336, 9.371261019066397, -0.30201238121751883, 71.66448127364978\n",
      "Juniperus turkestanica Komar. Pinus roxburghii\n",
      "(6305, 77)\n",
      "SE HA NORMALIZADO EL ARCHIVO: Juniperus turkestanica Komar._merged.csv\n",
      "(3664, 4, 43) (1368, 4, 43) (1001, 4, 43)\n",
      "<LSTM name=lstm_99, built=True> False\n",
      "<Dropout name=dropout_54, built=True> True\n",
      "<LSTM name=lstm_100, built=True> True\n",
      "<Dense name=dense_54, built=True> True\n",
      "<Dropout name=dropout_55, built=True> True\n",
      "<Dense name=dense_55, built=True> True\n",
      "[MODELO CONGELADO]: 6.1998536586761475\n"
     ]
    },
    {
     "name": "stderr",
     "output_type": "stream",
     "text": [
      "/home/workstation/Escritorio/PabloC/TransferLearning/funcionesComunes.py:191: FutureWarning: The behavior of DataFrame concatenation with empty or all-NA entries is deprecated. In a future version, this will no longer exclude empty or all-NA columns when determining the result dtypes. To retain the old behavior, exclude the relevant entries before the concat operation.\n",
      "  predictionsDF = pd.concat([predictionsDF, tempDF], ignore_index=True)\n",
      "/home/workstation/Escritorio/PabloC/TransferLearning/funcionesComunes.py:191: FutureWarning: The behavior of DataFrame concatenation with empty or all-NA entries is deprecated. In a future version, this will no longer exclude empty or all-NA columns when determining the result dtypes. To retain the old behavior, exclude the relevant entries before the concat operation.\n",
      "  predictionsDF = pd.concat([predictionsDF, tempDF], ignore_index=True)\n",
      "/home/workstation/Escritorio/PabloC/TransferLearning/funcionesComunes.py:191: FutureWarning: The behavior of DataFrame concatenation with empty or all-NA entries is deprecated. In a future version, this will no longer exclude empty or all-NA columns when determining the result dtypes. To retain the old behavior, exclude the relevant entries before the concat operation.\n",
      "  predictionsDF = pd.concat([predictionsDF, tempDF], ignore_index=True)\n"
     ]
    },
    {
     "name": "stdout",
     "output_type": "stream",
     "text": [
      "RESULTADOS DE MSE, RMSE, R2, MAPE (Train): 11.232364258369367, 3.3514719539881828, 0.7497622901598363, 34.12526347840571\n",
      "RESULTADOS DE MSE, RMSE, R2, MAPE (Val): 9.410481943585138, 3.067650883589125, 0.4527549766599114, 42.38644178029725\n",
      "RESULTADOS DE MSE, RMSE, R2, MAPE (Test): 2.9395074341561007, 1.7144991788146475, 0.4592127345960274, 34.81987331410408\n",
      "Pinus roxburghii Pinus roxburghii\n",
      "Pinus wallichiana Pinus roxburghii\n",
      "(9365, 77)\n",
      "SE HA NORMALIZADO EL ARCHIVO: Pinus wallichiana_merged.csv\n",
      "(5508, 4, 43) (1957, 4, 43) (1500, 4, 43)\n",
      "<LSTM name=lstm_99, built=True> False\n",
      "<Dropout name=dropout_54, built=True> True\n",
      "<LSTM name=lstm_100, built=True> True\n",
      "<Dense name=dense_54, built=True> True\n",
      "<Dropout name=dropout_55, built=True> True\n",
      "<Dense name=dense_55, built=True> True\n",
      "[MODELO CONGELADO]: 43.30983567237854\n"
     ]
    },
    {
     "name": "stderr",
     "output_type": "stream",
     "text": [
      "/home/workstation/Escritorio/PabloC/TransferLearning/funcionesComunes.py:191: FutureWarning: The behavior of DataFrame concatenation with empty or all-NA entries is deprecated. In a future version, this will no longer exclude empty or all-NA columns when determining the result dtypes. To retain the old behavior, exclude the relevant entries before the concat operation.\n",
      "  predictionsDF = pd.concat([predictionsDF, tempDF], ignore_index=True)\n",
      "/home/workstation/Escritorio/PabloC/TransferLearning/funcionesComunes.py:191: FutureWarning: The behavior of DataFrame concatenation with empty or all-NA entries is deprecated. In a future version, this will no longer exclude empty or all-NA columns when determining the result dtypes. To retain the old behavior, exclude the relevant entries before the concat operation.\n",
      "  predictionsDF = pd.concat([predictionsDF, tempDF], ignore_index=True)\n",
      "/home/workstation/Escritorio/PabloC/TransferLearning/funcionesComunes.py:191: FutureWarning: The behavior of DataFrame concatenation with empty or all-NA entries is deprecated. In a future version, this will no longer exclude empty or all-NA columns when determining the result dtypes. To retain the old behavior, exclude the relevant entries before the concat operation.\n",
      "  predictionsDF = pd.concat([predictionsDF, tempDF], ignore_index=True)\n"
     ]
    },
    {
     "name": "stdout",
     "output_type": "stream",
     "text": [
      "RESULTADOS DE MSE, RMSE, R2, MAPE (Train): 28.639451858233805, 5.351584051309837, 0.5751565869475346, 30.947663505277806\n",
      "RESULTADOS DE MSE, RMSE, R2, MAPE (Val): 24.457776879317205, 4.945480449796279, 0.5908931426615811, 33.062201021947516\n",
      "RESULTADOS DE MSE, RMSE, R2, MAPE (Test): 50.78855387988301, 7.126608862557494, -0.2045580482234639, 46.14517149948624\n",
      "Pinus gerardiana Pinus roxburghii\n",
      "(10101, 77)\n",
      "SE HA NORMALIZADO EL ARCHIVO: Pinus gerardiana_merged.csv\n",
      "(5767, 4, 43) (2181, 4, 43) (1745, 4, 43)\n",
      "<LSTM name=lstm_99, built=True> False\n",
      "<Dropout name=dropout_54, built=True> True\n",
      "<LSTM name=lstm_100, built=True> True\n",
      "<Dense name=dense_54, built=True> True\n",
      "<Dropout name=dropout_55, built=True> True\n",
      "<Dense name=dense_55, built=True> True\n",
      "[MODELO CONGELADO]: 10.51683235168457\n"
     ]
    },
    {
     "name": "stderr",
     "output_type": "stream",
     "text": [
      "/home/workstation/Escritorio/PabloC/TransferLearning/funcionesComunes.py:191: FutureWarning: The behavior of DataFrame concatenation with empty or all-NA entries is deprecated. In a future version, this will no longer exclude empty or all-NA columns when determining the result dtypes. To retain the old behavior, exclude the relevant entries before the concat operation.\n",
      "  predictionsDF = pd.concat([predictionsDF, tempDF], ignore_index=True)\n",
      "/home/workstation/Escritorio/PabloC/TransferLearning/funcionesComunes.py:191: FutureWarning: The behavior of DataFrame concatenation with empty or all-NA entries is deprecated. In a future version, this will no longer exclude empty or all-NA columns when determining the result dtypes. To retain the old behavior, exclude the relevant entries before the concat operation.\n",
      "  predictionsDF = pd.concat([predictionsDF, tempDF], ignore_index=True)\n",
      "/home/workstation/Escritorio/PabloC/TransferLearning/funcionesComunes.py:191: FutureWarning: The behavior of DataFrame concatenation with empty or all-NA entries is deprecated. In a future version, this will no longer exclude empty or all-NA columns when determining the result dtypes. To retain the old behavior, exclude the relevant entries before the concat operation.\n",
      "  predictionsDF = pd.concat([predictionsDF, tempDF], ignore_index=True)\n"
     ]
    },
    {
     "name": "stdout",
     "output_type": "stream",
     "text": [
      "RESULTADOS DE MSE, RMSE, R2, MAPE (Train): 20.230072695807653, 4.497785310106258, 0.47883640990511545, 35.78144760943881\n",
      "RESULTADOS DE MSE, RMSE, R2, MAPE (Val): 22.654456741108863, 4.759669814294775, 0.42748375522200643, 36.27907865995817\n",
      "RESULTADOS DE MSE, RMSE, R2, MAPE (Test): 18.265687051458418, 4.273837508780419, 0.5453519932159379, 33.850361896789465\n",
      "Populus ciliata Pinus roxburghii\n",
      "(1182, 77)\n",
      "SE HA NORMALIZADO EL ARCHIVO: Populus ciliata_merged.csv\n",
      "(705, 4, 43) (156, 4, 43) (265, 4, 43)\n",
      "<LSTM name=lstm_99, built=True> False\n",
      "<Dropout name=dropout_54, built=True> True\n",
      "<LSTM name=lstm_100, built=True> True\n",
      "<Dense name=dense_54, built=True> True\n",
      "<Dropout name=dropout_55, built=True> True\n",
      "<Dense name=dense_55, built=True> True\n",
      "[MODELO CONGELADO]: 11.037490844726562\n"
     ]
    },
    {
     "name": "stderr",
     "output_type": "stream",
     "text": [
      "/home/workstation/Escritorio/PabloC/TransferLearning/funcionesComunes.py:191: FutureWarning: The behavior of DataFrame concatenation with empty or all-NA entries is deprecated. In a future version, this will no longer exclude empty or all-NA columns when determining the result dtypes. To retain the old behavior, exclude the relevant entries before the concat operation.\n",
      "  predictionsDF = pd.concat([predictionsDF, tempDF], ignore_index=True)\n",
      "/home/workstation/Escritorio/PabloC/TransferLearning/funcionesComunes.py:191: FutureWarning: The behavior of DataFrame concatenation with empty or all-NA entries is deprecated. In a future version, this will no longer exclude empty or all-NA columns when determining the result dtypes. To retain the old behavior, exclude the relevant entries before the concat operation.\n",
      "  predictionsDF = pd.concat([predictionsDF, tempDF], ignore_index=True)\n",
      "/home/workstation/Escritorio/PabloC/TransferLearning/funcionesComunes.py:191: FutureWarning: The behavior of DataFrame concatenation with empty or all-NA entries is deprecated. In a future version, this will no longer exclude empty or all-NA columns when determining the result dtypes. To retain the old behavior, exclude the relevant entries before the concat operation.\n",
      "  predictionsDF = pd.concat([predictionsDF, tempDF], ignore_index=True)\n"
     ]
    },
    {
     "name": "stdout",
     "output_type": "stream",
     "text": [
      "RESULTADOS DE MSE, RMSE, R2, MAPE (Train): 192.99019805995246, 13.892091205428809, 0.46862883972096103, 39.10088637764231\n",
      "RESULTADOS DE MSE, RMSE, R2, MAPE (Val): 242.4446836959775, 15.570635301617513, -0.033006993850394295, 48.065130590779034\n",
      "RESULTADOS DE MSE, RMSE, R2, MAPE (Test): 91.1506905012455, 9.547287075459996, 0.5445422693318911, 35.31047836045802\n",
      "Betula utilis Pinus roxburghii\n",
      "(3473, 77)\n",
      "SE HA NORMALIZADO EL ARCHIVO: Betula utilis_merged.csv\n",
      "(2059, 4, 43) (665, 4, 43) (593, 4, 43)\n",
      "<LSTM name=lstm_99, built=True> False\n",
      "<Dropout name=dropout_54, built=True> True\n",
      "<LSTM name=lstm_100, built=True> True\n",
      "<Dense name=dense_54, built=True> True\n",
      "<Dropout name=dropout_55, built=True> True\n",
      "<Dense name=dense_55, built=True> True\n",
      "[MODELO CONGELADO]: 12.031828880310059\n"
     ]
    },
    {
     "name": "stderr",
     "output_type": "stream",
     "text": [
      "/home/workstation/Escritorio/PabloC/TransferLearning/funcionesComunes.py:191: FutureWarning: The behavior of DataFrame concatenation with empty or all-NA entries is deprecated. In a future version, this will no longer exclude empty or all-NA columns when determining the result dtypes. To retain the old behavior, exclude the relevant entries before the concat operation.\n",
      "  predictionsDF = pd.concat([predictionsDF, tempDF], ignore_index=True)\n",
      "/home/workstation/Escritorio/PabloC/TransferLearning/funcionesComunes.py:191: FutureWarning: The behavior of DataFrame concatenation with empty or all-NA entries is deprecated. In a future version, this will no longer exclude empty or all-NA columns when determining the result dtypes. To retain the old behavior, exclude the relevant entries before the concat operation.\n",
      "  predictionsDF = pd.concat([predictionsDF, tempDF], ignore_index=True)\n",
      "/home/workstation/Escritorio/PabloC/TransferLearning/funcionesComunes.py:191: FutureWarning: The behavior of DataFrame concatenation with empty or all-NA entries is deprecated. In a future version, this will no longer exclude empty or all-NA columns when determining the result dtypes. To retain the old behavior, exclude the relevant entries before the concat operation.\n",
      "  predictionsDF = pd.concat([predictionsDF, tempDF], ignore_index=True)\n"
     ]
    },
    {
     "name": "stdout",
     "output_type": "stream",
     "text": [
      "RESULTADOS DE MSE, RMSE, R2, MAPE (Train): 5.195679073039836, 2.2794032273908527, 0.23298637590699622, 57.09348774642532\n",
      "RESULTADOS DE MSE, RMSE, R2, MAPE (Val): 1.4891029253453854, 1.2202880501526618, 0.22452547984185045, 45.2190656136052\n",
      "RESULTADOS DE MSE, RMSE, R2, MAPE (Test): 1.3786498318550122, 1.1741592020910163, 0.4731493903836461, 44.37357586684169\n",
      "Tsuga dumosa Pinus roxburghii\n",
      "(20493, 77)\n",
      "SE HA NORMALIZADO EL ARCHIVO: Tsuga dumosa_merged.csv\n",
      "(11935, 4, 43) (4144, 4, 43) (3469, 4, 43)\n",
      "<LSTM name=lstm_99, built=True> False\n",
      "<Dropout name=dropout_54, built=True> True\n",
      "<LSTM name=lstm_100, built=True> True\n",
      "<Dense name=dense_54, built=True> True\n",
      "<Dropout name=dropout_55, built=True> True\n",
      "<Dense name=dense_55, built=True> True\n",
      "[MODELO CONGELADO]: 17.662978172302246\n"
     ]
    },
    {
     "name": "stderr",
     "output_type": "stream",
     "text": [
      "/home/workstation/Escritorio/PabloC/TransferLearning/funcionesComunes.py:191: FutureWarning: The behavior of DataFrame concatenation with empty or all-NA entries is deprecated. In a future version, this will no longer exclude empty or all-NA columns when determining the result dtypes. To retain the old behavior, exclude the relevant entries before the concat operation.\n",
      "  predictionsDF = pd.concat([predictionsDF, tempDF], ignore_index=True)\n",
      "/home/workstation/Escritorio/PabloC/TransferLearning/funcionesComunes.py:191: FutureWarning: The behavior of DataFrame concatenation with empty or all-NA entries is deprecated. In a future version, this will no longer exclude empty or all-NA columns when determining the result dtypes. To retain the old behavior, exclude the relevant entries before the concat operation.\n",
      "  predictionsDF = pd.concat([predictionsDF, tempDF], ignore_index=True)\n",
      "/home/workstation/Escritorio/PabloC/TransferLearning/funcionesComunes.py:191: FutureWarning: The behavior of DataFrame concatenation with empty or all-NA entries is deprecated. In a future version, this will no longer exclude empty or all-NA columns when determining the result dtypes. To retain the old behavior, exclude the relevant entries before the concat operation.\n",
      "  predictionsDF = pd.concat([predictionsDF, tempDF], ignore_index=True)\n"
     ]
    },
    {
     "name": "stdout",
     "output_type": "stream",
     "text": [
      "RESULTADOS DE MSE, RMSE, R2, MAPE (Train): 271.1416313730828, 16.466378817854363, 0.30376494627782424, 47.476387996248626\n",
      "RESULTADOS DE MSE, RMSE, R2, MAPE (Val): 228.18663804538525, 15.105847809553268, 0.2758829928472011, 43.84427258480471\n",
      "RESULTADOS DE MSE, RMSE, R2, MAPE (Test): 407.3000891789425, 20.181677065569712, 0.335180027879599, 47.75530671870713\n",
      "Cedrus deodara Pinus roxburghii\n",
      "(37273, 77)\n",
      "SE HA NORMALIZADO EL ARCHIVO: Cedrus deodara_merged.csv\n",
      "(22017, 4, 43) (7410, 4, 43) (6282, 4, 43)\n",
      "<LSTM name=lstm_99, built=True> False\n",
      "<Dropout name=dropout_54, built=True> True\n",
      "<LSTM name=lstm_100, built=True> True\n",
      "<Dense name=dense_54, built=True> True\n",
      "<Dropout name=dropout_55, built=True> True\n",
      "<Dense name=dense_55, built=True> True\n",
      "[MODELO CONGELADO]: 195.88961219787598\n"
     ]
    },
    {
     "name": "stderr",
     "output_type": "stream",
     "text": [
      "/home/workstation/Escritorio/PabloC/TransferLearning/funcionesComunes.py:191: FutureWarning: The behavior of DataFrame concatenation with empty or all-NA entries is deprecated. In a future version, this will no longer exclude empty or all-NA columns when determining the result dtypes. To retain the old behavior, exclude the relevant entries before the concat operation.\n",
      "  predictionsDF = pd.concat([predictionsDF, tempDF], ignore_index=True)\n",
      "/home/workstation/Escritorio/PabloC/TransferLearning/funcionesComunes.py:191: FutureWarning: The behavior of DataFrame concatenation with empty or all-NA entries is deprecated. In a future version, this will no longer exclude empty or all-NA columns when determining the result dtypes. To retain the old behavior, exclude the relevant entries before the concat operation.\n",
      "  predictionsDF = pd.concat([predictionsDF, tempDF], ignore_index=True)\n",
      "/home/workstation/Escritorio/PabloC/TransferLearning/funcionesComunes.py:191: FutureWarning: The behavior of DataFrame concatenation with empty or all-NA entries is deprecated. In a future version, this will no longer exclude empty or all-NA columns when determining the result dtypes. To retain the old behavior, exclude the relevant entries before the concat operation.\n",
      "  predictionsDF = pd.concat([predictionsDF, tempDF], ignore_index=True)\n"
     ]
    },
    {
     "name": "stdout",
     "output_type": "stream",
     "text": [
      "RESULTADOS DE MSE, RMSE, R2, MAPE (Train): 237.92319088491047, 15.42475902193971, 0.44297224094082266, 41.73856295161255\n",
      "RESULTADOS DE MSE, RMSE, R2, MAPE (Val): 296.96447522543633, 17.23265723054446, 0.33436963410225495, 44.85916088066795\n",
      "RESULTADOS DE MSE, RMSE, R2, MAPE (Test): 211.40055148252608, 14.53962005977206, 0.40015947237150973, 41.47767485912961\n",
      "Juniperus spp. L. Pinus roxburghii\n",
      "(7264, 77)\n",
      "SE HA NORMALIZADO EL ARCHIVO: Juniperus spp. L._merged.csv\n",
      "(4216, 4, 43) (1524, 4, 43) (1188, 4, 43)\n",
      "<LSTM name=lstm_99, built=True> False\n",
      "<Dropout name=dropout_54, built=True> True\n",
      "<LSTM name=lstm_100, built=True> True\n",
      "<Dense name=dense_54, built=True> True\n",
      "<Dropout name=dropout_55, built=True> True\n",
      "<Dense name=dense_55, built=True> True\n",
      "[MODELO CONGELADO]: 17.413782358169556\n"
     ]
    },
    {
     "name": "stderr",
     "output_type": "stream",
     "text": [
      "/home/workstation/Escritorio/PabloC/TransferLearning/funcionesComunes.py:191: FutureWarning: The behavior of DataFrame concatenation with empty or all-NA entries is deprecated. In a future version, this will no longer exclude empty or all-NA columns when determining the result dtypes. To retain the old behavior, exclude the relevant entries before the concat operation.\n",
      "  predictionsDF = pd.concat([predictionsDF, tempDF], ignore_index=True)\n",
      "/home/workstation/Escritorio/PabloC/TransferLearning/funcionesComunes.py:191: FutureWarning: The behavior of DataFrame concatenation with empty or all-NA entries is deprecated. In a future version, this will no longer exclude empty or all-NA columns when determining the result dtypes. To retain the old behavior, exclude the relevant entries before the concat operation.\n",
      "  predictionsDF = pd.concat([predictionsDF, tempDF], ignore_index=True)\n",
      "/home/workstation/Escritorio/PabloC/TransferLearning/funcionesComunes.py:191: FutureWarning: The behavior of DataFrame concatenation with empty or all-NA entries is deprecated. In a future version, this will no longer exclude empty or all-NA columns when determining the result dtypes. To retain the old behavior, exclude the relevant entries before the concat operation.\n",
      "  predictionsDF = pd.concat([predictionsDF, tempDF], ignore_index=True)\n"
     ]
    },
    {
     "name": "stdout",
     "output_type": "stream",
     "text": [
      "RESULTADOS DE MSE, RMSE, R2, MAPE (Train): 4.707123456936099, 2.169590619664479, 0.624451137898356, 39.93762873947567\n",
      "RESULTADOS DE MSE, RMSE, R2, MAPE (Val): 1.5505339809491518, 1.2452043932419898, 0.31199183916268614, 43.38690618917665\n",
      "RESULTADOS DE MSE, RMSE, R2, MAPE (Test): 14.408801823213405, 3.795892757074863, 0.23992724128820553, 54.97552450298361\n",
      "Juniperus recurva Pinus roxburghii\n",
      "(5316, 77)\n",
      "SE HA NORMALIZADO EL ARCHIVO: Juniperus recurva_merged.csv\n",
      "(3188, 4, 43) (1082, 4, 43) (810, 4, 43)\n",
      "<LSTM name=lstm_99, built=True> False\n",
      "<Dropout name=dropout_54, built=True> True\n",
      "<LSTM name=lstm_100, built=True> True\n",
      "<Dense name=dense_54, built=True> True\n",
      "<Dropout name=dropout_55, built=True> True\n",
      "<Dense name=dense_55, built=True> True\n",
      "[MODELO CONGELADO]: 17.960277795791626\n"
     ]
    },
    {
     "name": "stderr",
     "output_type": "stream",
     "text": [
      "/home/workstation/Escritorio/PabloC/TransferLearning/funcionesComunes.py:191: FutureWarning: The behavior of DataFrame concatenation with empty or all-NA entries is deprecated. In a future version, this will no longer exclude empty or all-NA columns when determining the result dtypes. To retain the old behavior, exclude the relevant entries before the concat operation.\n",
      "  predictionsDF = pd.concat([predictionsDF, tempDF], ignore_index=True)\n",
      "/home/workstation/Escritorio/PabloC/TransferLearning/funcionesComunes.py:191: FutureWarning: The behavior of DataFrame concatenation with empty or all-NA entries is deprecated. In a future version, this will no longer exclude empty or all-NA columns when determining the result dtypes. To retain the old behavior, exclude the relevant entries before the concat operation.\n",
      "  predictionsDF = pd.concat([predictionsDF, tempDF], ignore_index=True)\n",
      "/home/workstation/Escritorio/PabloC/TransferLearning/funcionesComunes.py:191: FutureWarning: The behavior of DataFrame concatenation with empty or all-NA entries is deprecated. In a future version, this will no longer exclude empty or all-NA columns when determining the result dtypes. To retain the old behavior, exclude the relevant entries before the concat operation.\n",
      "  predictionsDF = pd.concat([predictionsDF, tempDF], ignore_index=True)\n"
     ]
    },
    {
     "name": "stdout",
     "output_type": "stream",
     "text": [
      "RESULTADOS DE MSE, RMSE, R2, MAPE (Train): 10.659304744170713, 3.2648590695726383, 0.5764386435718095, 37.10473052885194\n",
      "RESULTADOS DE MSE, RMSE, R2, MAPE (Val): 8.226342456861165, 2.868160117019474, 0.7012898531513021, 30.96389681664231\n",
      "RESULTADOS DE MSE, RMSE, R2, MAPE (Test): 3.1881785663425584, 1.785547133609908, 0.6610575663001174, 27.829538472008856\n",
      "totalMerged.csv Pinus roxburghii\n",
      "Juniperus spp.  Pinus roxburghii\n",
      "(17976, 77)\n",
      "SE HA NORMALIZADO EL ARCHIVO: Juniperus spp. _merged.csv\n",
      "(10218, 4, 43) (3900, 4, 43) (3018, 4, 43)\n",
      "<LSTM name=lstm_99, built=True> False\n",
      "<Dropout name=dropout_54, built=True> True\n",
      "<LSTM name=lstm_100, built=True> True\n",
      "<Dense name=dense_54, built=True> True\n",
      "<Dropout name=dropout_55, built=True> True\n",
      "<Dense name=dense_55, built=True> True\n",
      "[MODELO CONGELADO]: 16.765406131744385\n"
     ]
    },
    {
     "name": "stderr",
     "output_type": "stream",
     "text": [
      "/home/workstation/Escritorio/PabloC/TransferLearning/funcionesComunes.py:191: FutureWarning: The behavior of DataFrame concatenation with empty or all-NA entries is deprecated. In a future version, this will no longer exclude empty or all-NA columns when determining the result dtypes. To retain the old behavior, exclude the relevant entries before the concat operation.\n",
      "  predictionsDF = pd.concat([predictionsDF, tempDF], ignore_index=True)\n",
      "/home/workstation/Escritorio/PabloC/TransferLearning/funcionesComunes.py:191: FutureWarning: The behavior of DataFrame concatenation with empty or all-NA entries is deprecated. In a future version, this will no longer exclude empty or all-NA columns when determining the result dtypes. To retain the old behavior, exclude the relevant entries before the concat operation.\n",
      "  predictionsDF = pd.concat([predictionsDF, tempDF], ignore_index=True)\n",
      "/home/workstation/Escritorio/PabloC/TransferLearning/funcionesComunes.py:191: FutureWarning: The behavior of DataFrame concatenation with empty or all-NA entries is deprecated. In a future version, this will no longer exclude empty or all-NA columns when determining the result dtypes. To retain the old behavior, exclude the relevant entries before the concat operation.\n",
      "  predictionsDF = pd.concat([predictionsDF, tempDF], ignore_index=True)\n"
     ]
    },
    {
     "name": "stdout",
     "output_type": "stream",
     "text": [
      "RESULTADOS DE MSE, RMSE, R2, MAPE (Train): 35.17296754919078, 5.9306801927933, 0.42635299827016715, 43.15490688854248\n",
      "RESULTADOS DE MSE, RMSE, R2, MAPE (Val): 10.044021102558208, 3.1692303643878916, 0.4894447064372851, 43.377895808653925\n",
      "RESULTADOS DE MSE, RMSE, R2, MAPE (Test): 53.766141961321935, 7.332539939292655, 0.4854733584956894, 44.00017875460906\n",
      "Procesando el modelo: model_Betula utilis.keras\n",
      "Abies spectabilis Betula utilis\n",
      "(96429, 77)\n",
      "SE HA NORMALIZADO EL ARCHIVO: Abies spectabilis_merged.csv\n",
      "(56618, 4, 43) (19637, 4, 43) (15689, 4, 43)\n",
      "<LSTM name=lstm_113, built=True> False\n",
      "<LSTM name=lstm_114, built=True> False\n",
      "<Dropout name=dropout_62, built=True> True\n",
      "<LSTM name=lstm_115, built=True> True\n",
      "<Dense name=dense_62, built=True> True\n",
      "<Dropout name=dropout_63, built=True> True\n",
      "<Dense name=dense_63, built=True> True\n",
      "[MODELO CONGELADO]: 1215.4558548927307\n"
     ]
    },
    {
     "name": "stderr",
     "output_type": "stream",
     "text": [
      "/home/workstation/Escritorio/PabloC/TransferLearning/funcionesComunes.py:191: FutureWarning: The behavior of DataFrame concatenation with empty or all-NA entries is deprecated. In a future version, this will no longer exclude empty or all-NA columns when determining the result dtypes. To retain the old behavior, exclude the relevant entries before the concat operation.\n",
      "  predictionsDF = pd.concat([predictionsDF, tempDF], ignore_index=True)\n",
      "/home/workstation/Escritorio/PabloC/TransferLearning/funcionesComunes.py:191: FutureWarning: The behavior of DataFrame concatenation with empty or all-NA entries is deprecated. In a future version, this will no longer exclude empty or all-NA columns when determining the result dtypes. To retain the old behavior, exclude the relevant entries before the concat operation.\n",
      "  predictionsDF = pd.concat([predictionsDF, tempDF], ignore_index=True)\n",
      "/home/workstation/Escritorio/PabloC/TransferLearning/funcionesComunes.py:191: FutureWarning: The behavior of DataFrame concatenation with empty or all-NA entries is deprecated. In a future version, this will no longer exclude empty or all-NA columns when determining the result dtypes. To retain the old behavior, exclude the relevant entries before the concat operation.\n",
      "  predictionsDF = pd.concat([predictionsDF, tempDF], ignore_index=True)\n"
     ]
    },
    {
     "name": "stdout",
     "output_type": "stream",
     "text": [
      "RESULTADOS DE MSE, RMSE, R2, MAPE (Train): 76.75171213135451, 8.760805449920372, 0.3266221385989809, 47.684993155268145\n",
      "RESULTADOS DE MSE, RMSE, R2, MAPE (Val): 76.58857174432568, 8.751489687151878, 0.30215211340090786, 47.48291678558471\n",
      "RESULTADOS DE MSE, RMSE, R2, MAPE (Test): 81.25601637675322, 9.014211911018801, 0.39738458620829653, 46.724177014383294\n",
      "Picea smithiana Betula utilis\n",
      "(34476, 77)\n",
      "SE HA NORMALIZADO EL ARCHIVO: Picea smithiana_merged.csv\n",
      "(19933, 4, 43) (7272, 4, 43) (5863, 4, 43)\n",
      "<LSTM name=lstm_113, built=True> False\n",
      "<LSTM name=lstm_114, built=True> False\n",
      "<Dropout name=dropout_62, built=True> True\n",
      "<LSTM name=lstm_115, built=True> True\n",
      "<Dense name=dense_62, built=True> True\n",
      "<Dropout name=dropout_63, built=True> True\n",
      "<Dense name=dense_63, built=True> True\n",
      "[MODELO CONGELADO]: 220.385835647583\n"
     ]
    },
    {
     "name": "stderr",
     "output_type": "stream",
     "text": [
      "/home/workstation/Escritorio/PabloC/TransferLearning/funcionesComunes.py:191: FutureWarning: The behavior of DataFrame concatenation with empty or all-NA entries is deprecated. In a future version, this will no longer exclude empty or all-NA columns when determining the result dtypes. To retain the old behavior, exclude the relevant entries before the concat operation.\n",
      "  predictionsDF = pd.concat([predictionsDF, tempDF], ignore_index=True)\n",
      "/home/workstation/Escritorio/PabloC/TransferLearning/funcionesComunes.py:191: FutureWarning: The behavior of DataFrame concatenation with empty or all-NA entries is deprecated. In a future version, this will no longer exclude empty or all-NA columns when determining the result dtypes. To retain the old behavior, exclude the relevant entries before the concat operation.\n",
      "  predictionsDF = pd.concat([predictionsDF, tempDF], ignore_index=True)\n",
      "/home/workstation/Escritorio/PabloC/TransferLearning/funcionesComunes.py:191: FutureWarning: The behavior of DataFrame concatenation with empty or all-NA entries is deprecated. In a future version, this will no longer exclude empty or all-NA columns when determining the result dtypes. To retain the old behavior, exclude the relevant entries before the concat operation.\n",
      "  predictionsDF = pd.concat([predictionsDF, tempDF], ignore_index=True)\n"
     ]
    },
    {
     "name": "stdout",
     "output_type": "stream",
     "text": [
      "RESULTADOS DE MSE, RMSE, R2, MAPE (Train): 210.1204030906868, 14.49553045220101, 0.3842266638683791, 42.50625626577924\n",
      "RESULTADOS DE MSE, RMSE, R2, MAPE (Val): 244.6745414441921, 15.642075995346401, 0.2939341913151049, 45.13931215234585\n",
      "RESULTADOS DE MSE, RMSE, R2, MAPE (Test): 206.07045434552097, 14.355154278011817, 0.3041089211470098, 45.309581290869055\n",
      "Abies pindrow Betula utilis\n",
      "(16018, 77)\n",
      "SE HA NORMALIZADO EL ARCHIVO: Abies pindrow_merged.csv\n",
      "(9042, 4, 43) (3441, 4, 43) (2815, 4, 43)\n",
      "<LSTM name=lstm_113, built=True> False\n",
      "<LSTM name=lstm_114, built=True> False\n",
      "<Dropout name=dropout_62, built=True> True\n",
      "<LSTM name=lstm_115, built=True> True\n",
      "<Dense name=dense_62, built=True> True\n",
      "<Dropout name=dropout_63, built=True> True\n",
      "<Dense name=dense_63, built=True> True\n",
      "[MODELO CONGELADO]: 141.56880593299866\n"
     ]
    },
    {
     "name": "stderr",
     "output_type": "stream",
     "text": [
      "/home/workstation/Escritorio/PabloC/TransferLearning/funcionesComunes.py:191: FutureWarning: The behavior of DataFrame concatenation with empty or all-NA entries is deprecated. In a future version, this will no longer exclude empty or all-NA columns when determining the result dtypes. To retain the old behavior, exclude the relevant entries before the concat operation.\n",
      "  predictionsDF = pd.concat([predictionsDF, tempDF], ignore_index=True)\n",
      "/home/workstation/Escritorio/PabloC/TransferLearning/funcionesComunes.py:191: FutureWarning: The behavior of DataFrame concatenation with empty or all-NA entries is deprecated. In a future version, this will no longer exclude empty or all-NA columns when determining the result dtypes. To retain the old behavior, exclude the relevant entries before the concat operation.\n",
      "  predictionsDF = pd.concat([predictionsDF, tempDF], ignore_index=True)\n",
      "/home/workstation/Escritorio/PabloC/TransferLearning/funcionesComunes.py:191: FutureWarning: The behavior of DataFrame concatenation with empty or all-NA entries is deprecated. In a future version, this will no longer exclude empty or all-NA columns when determining the result dtypes. To retain the old behavior, exclude the relevant entries before the concat operation.\n",
      "  predictionsDF = pd.concat([predictionsDF, tempDF], ignore_index=True)\n"
     ]
    },
    {
     "name": "stdout",
     "output_type": "stream",
     "text": [
      "RESULTADOS DE MSE, RMSE, R2, MAPE (Train): 177.24856143410577, 13.313472929108533, 0.23919254702455883, 44.78023822138778\n",
      "RESULTADOS DE MSE, RMSE, R2, MAPE (Val): 146.93828689700243, 12.121810380343458, 0.16179227683167063, 40.10817724512019\n",
      "RESULTADOS DE MSE, RMSE, R2, MAPE (Test): 279.1722392369548, 16.708448139697317, -0.9736688448393107, 51.15087941926819\n",
      "Juniperus excelsa M.-Bieb Betula utilis\n",
      "(7449, 77)\n",
      "SE HA NORMALIZADO EL ARCHIVO: Juniperus excelsa M.-Bieb_merged.csv\n",
      "(4189, 4, 43) (1707, 4, 43) (1228, 4, 43)\n",
      "<LSTM name=lstm_113, built=True> False\n",
      "<LSTM name=lstm_114, built=True> False\n",
      "<Dropout name=dropout_62, built=True> True\n",
      "<LSTM name=lstm_115, built=True> True\n",
      "<Dense name=dense_62, built=True> True\n",
      "<Dropout name=dropout_63, built=True> True\n",
      "<Dense name=dense_63, built=True> True\n",
      "[MODELO CONGELADO]: 29.066089153289795\n"
     ]
    },
    {
     "name": "stderr",
     "output_type": "stream",
     "text": [
      "/home/workstation/Escritorio/PabloC/TransferLearning/funcionesComunes.py:191: FutureWarning: The behavior of DataFrame concatenation with empty or all-NA entries is deprecated. In a future version, this will no longer exclude empty or all-NA columns when determining the result dtypes. To retain the old behavior, exclude the relevant entries before the concat operation.\n",
      "  predictionsDF = pd.concat([predictionsDF, tempDF], ignore_index=True)\n",
      "/home/workstation/Escritorio/PabloC/TransferLearning/funcionesComunes.py:191: FutureWarning: The behavior of DataFrame concatenation with empty or all-NA entries is deprecated. In a future version, this will no longer exclude empty or all-NA columns when determining the result dtypes. To retain the old behavior, exclude the relevant entries before the concat operation.\n",
      "  predictionsDF = pd.concat([predictionsDF, tempDF], ignore_index=True)\n",
      "/home/workstation/Escritorio/PabloC/TransferLearning/funcionesComunes.py:191: FutureWarning: The behavior of DataFrame concatenation with empty or all-NA entries is deprecated. In a future version, this will no longer exclude empty or all-NA columns when determining the result dtypes. To retain the old behavior, exclude the relevant entries before the concat operation.\n",
      "  predictionsDF = pd.concat([predictionsDF, tempDF], ignore_index=True)\n"
     ]
    },
    {
     "name": "stdout",
     "output_type": "stream",
     "text": [
      "RESULTADOS DE MSE, RMSE, R2, MAPE (Train): 20.099028452962198, 4.483194001263184, 0.183014637401122, 49.30354832265769\n",
      "RESULTADOS DE MSE, RMSE, R2, MAPE (Val): 23.078209411403634, 4.803978498224533, 0.11988371488268257, 56.00619546806188\n",
      "RESULTADOS DE MSE, RMSE, R2, MAPE (Test): 79.11683327764622, 8.894764374487174, -0.17297279882842087, 69.29733905976359\n",
      "Juniperus turkestanica Komar. Betula utilis\n",
      "(6305, 77)\n",
      "SE HA NORMALIZADO EL ARCHIVO: Juniperus turkestanica Komar._merged.csv\n",
      "(3664, 4, 43) (1368, 4, 43) (1001, 4, 43)\n",
      "<LSTM name=lstm_113, built=True> False\n",
      "<LSTM name=lstm_114, built=True> False\n",
      "<Dropout name=dropout_62, built=True> True\n",
      "<LSTM name=lstm_115, built=True> True\n",
      "<Dense name=dense_62, built=True> True\n",
      "<Dropout name=dropout_63, built=True> True\n",
      "<Dense name=dense_63, built=True> True\n",
      "[MODELO CONGELADO]: 21.73507285118103\n"
     ]
    },
    {
     "name": "stderr",
     "output_type": "stream",
     "text": [
      "/home/workstation/Escritorio/PabloC/TransferLearning/funcionesComunes.py:191: FutureWarning: The behavior of DataFrame concatenation with empty or all-NA entries is deprecated. In a future version, this will no longer exclude empty or all-NA columns when determining the result dtypes. To retain the old behavior, exclude the relevant entries before the concat operation.\n",
      "  predictionsDF = pd.concat([predictionsDF, tempDF], ignore_index=True)\n",
      "/home/workstation/Escritorio/PabloC/TransferLearning/funcionesComunes.py:191: FutureWarning: The behavior of DataFrame concatenation with empty or all-NA entries is deprecated. In a future version, this will no longer exclude empty or all-NA columns when determining the result dtypes. To retain the old behavior, exclude the relevant entries before the concat operation.\n",
      "  predictionsDF = pd.concat([predictionsDF, tempDF], ignore_index=True)\n",
      "/home/workstation/Escritorio/PabloC/TransferLearning/funcionesComunes.py:191: FutureWarning: The behavior of DataFrame concatenation with empty or all-NA entries is deprecated. In a future version, this will no longer exclude empty or all-NA columns when determining the result dtypes. To retain the old behavior, exclude the relevant entries before the concat operation.\n",
      "  predictionsDF = pd.concat([predictionsDF, tempDF], ignore_index=True)\n"
     ]
    },
    {
     "name": "stdout",
     "output_type": "stream",
     "text": [
      "RESULTADOS DE MSE, RMSE, R2, MAPE (Train): 10.384847177804275, 3.2225528975959845, 0.7686435095017933, 32.84587603249234\n",
      "RESULTADOS DE MSE, RMSE, R2, MAPE (Val): 10.143651045127505, 3.1849098959197426, 0.4101192068352546, 42.91077400368197\n",
      "RESULTADOS DE MSE, RMSE, R2, MAPE (Test): 2.8894890994102074, 1.6998497284790228, 0.468414711142502, 33.91164227843518\n",
      "Pinus roxburghii Betula utilis\n",
      "(10635, 77)\n",
      "SE HA NORMALIZADO EL ARCHIVO: Pinus roxburghii_merged.csv\n",
      "(6309, 4, 43) (2167, 4, 43) (1647, 4, 43)\n",
      "<LSTM name=lstm_113, built=True> False\n",
      "<LSTM name=lstm_114, built=True> False\n",
      "<Dropout name=dropout_62, built=True> True\n",
      "<LSTM name=lstm_115, built=True> True\n",
      "<Dense name=dense_62, built=True> True\n",
      "<Dropout name=dropout_63, built=True> True\n",
      "<Dense name=dense_63, built=True> True\n",
      "[MODELO CONGELADO]: 32.3180935382843\n"
     ]
    },
    {
     "name": "stderr",
     "output_type": "stream",
     "text": [
      "/home/workstation/Escritorio/PabloC/TransferLearning/funcionesComunes.py:191: FutureWarning: The behavior of DataFrame concatenation with empty or all-NA entries is deprecated. In a future version, this will no longer exclude empty or all-NA columns when determining the result dtypes. To retain the old behavior, exclude the relevant entries before the concat operation.\n",
      "  predictionsDF = pd.concat([predictionsDF, tempDF], ignore_index=True)\n",
      "/home/workstation/Escritorio/PabloC/TransferLearning/funcionesComunes.py:191: FutureWarning: The behavior of DataFrame concatenation with empty or all-NA entries is deprecated. In a future version, this will no longer exclude empty or all-NA columns when determining the result dtypes. To retain the old behavior, exclude the relevant entries before the concat operation.\n",
      "  predictionsDF = pd.concat([predictionsDF, tempDF], ignore_index=True)\n",
      "/home/workstation/Escritorio/PabloC/TransferLearning/funcionesComunes.py:191: FutureWarning: The behavior of DataFrame concatenation with empty or all-NA entries is deprecated. In a future version, this will no longer exclude empty or all-NA columns when determining the result dtypes. To retain the old behavior, exclude the relevant entries before the concat operation.\n",
      "  predictionsDF = pd.concat([predictionsDF, tempDF], ignore_index=True)\n"
     ]
    },
    {
     "name": "stdout",
     "output_type": "stream",
     "text": [
      "RESULTADOS DE MSE, RMSE, R2, MAPE (Train): 189.87692790590972, 13.779583734856061, 0.2881447441028857, 44.61077079834052\n",
      "RESULTADOS DE MSE, RMSE, R2, MAPE (Val): 155.9868616715789, 12.489470031653822, 0.3036559966115966, 45.305679383743254\n",
      "RESULTADOS DE MSE, RMSE, R2, MAPE (Test): 173.84791428675612, 13.185139903950816, 0.27049782456959204, 45.857299662499216\n",
      "Pinus wallichiana Betula utilis\n",
      "(9365, 77)\n",
      "SE HA NORMALIZADO EL ARCHIVO: Pinus wallichiana_merged.csv\n",
      "(5508, 4, 43) (1957, 4, 43) (1500, 4, 43)\n",
      "<LSTM name=lstm_113, built=True> False\n",
      "<LSTM name=lstm_114, built=True> False\n",
      "<Dropout name=dropout_62, built=True> True\n",
      "<LSTM name=lstm_115, built=True> True\n",
      "<Dense name=dense_62, built=True> True\n",
      "<Dropout name=dropout_63, built=True> True\n",
      "<Dense name=dense_63, built=True> True\n",
      "[MODELO CONGELADO]: 86.95755887031555\n"
     ]
    },
    {
     "name": "stderr",
     "output_type": "stream",
     "text": [
      "/home/workstation/Escritorio/PabloC/TransferLearning/funcionesComunes.py:191: FutureWarning: The behavior of DataFrame concatenation with empty or all-NA entries is deprecated. In a future version, this will no longer exclude empty or all-NA columns when determining the result dtypes. To retain the old behavior, exclude the relevant entries before the concat operation.\n",
      "  predictionsDF = pd.concat([predictionsDF, tempDF], ignore_index=True)\n",
      "/home/workstation/Escritorio/PabloC/TransferLearning/funcionesComunes.py:191: FutureWarning: The behavior of DataFrame concatenation with empty or all-NA entries is deprecated. In a future version, this will no longer exclude empty or all-NA columns when determining the result dtypes. To retain the old behavior, exclude the relevant entries before the concat operation.\n",
      "  predictionsDF = pd.concat([predictionsDF, tempDF], ignore_index=True)\n",
      "/home/workstation/Escritorio/PabloC/TransferLearning/funcionesComunes.py:191: FutureWarning: The behavior of DataFrame concatenation with empty or all-NA entries is deprecated. In a future version, this will no longer exclude empty or all-NA columns when determining the result dtypes. To retain the old behavior, exclude the relevant entries before the concat operation.\n",
      "  predictionsDF = pd.concat([predictionsDF, tempDF], ignore_index=True)\n"
     ]
    },
    {
     "name": "stdout",
     "output_type": "stream",
     "text": [
      "RESULTADOS DE MSE, RMSE, R2, MAPE (Train): 28.26200163668758, 5.316201805489289, 0.580755759765956, 30.762118385754583\n",
      "RESULTADOS DE MSE, RMSE, R2, MAPE (Val): 24.691107975700472, 4.969014789241472, 0.5869901979241382, 33.091300114096995\n",
      "RESULTADOS DE MSE, RMSE, R2, MAPE (Test): 45.87649727358815, 6.773219121923352, -0.08805822953527453, 44.53441517089203\n",
      "Pinus gerardiana Betula utilis\n",
      "(10101, 77)\n",
      "SE HA NORMALIZADO EL ARCHIVO: Pinus gerardiana_merged.csv\n",
      "(5767, 4, 43) (2181, 4, 43) (1745, 4, 43)\n",
      "<LSTM name=lstm_113, built=True> False\n",
      "<LSTM name=lstm_114, built=True> False\n",
      "<Dropout name=dropout_62, built=True> True\n",
      "<LSTM name=lstm_115, built=True> True\n",
      "<Dense name=dense_62, built=True> True\n",
      "<Dropout name=dropout_63, built=True> True\n",
      "<Dense name=dense_63, built=True> True\n",
      "[MODELO CONGELADO]: 25.169790267944336\n"
     ]
    },
    {
     "name": "stderr",
     "output_type": "stream",
     "text": [
      "/home/workstation/Escritorio/PabloC/TransferLearning/funcionesComunes.py:191: FutureWarning: The behavior of DataFrame concatenation with empty or all-NA entries is deprecated. In a future version, this will no longer exclude empty or all-NA columns when determining the result dtypes. To retain the old behavior, exclude the relevant entries before the concat operation.\n",
      "  predictionsDF = pd.concat([predictionsDF, tempDF], ignore_index=True)\n",
      "/home/workstation/Escritorio/PabloC/TransferLearning/funcionesComunes.py:191: FutureWarning: The behavior of DataFrame concatenation with empty or all-NA entries is deprecated. In a future version, this will no longer exclude empty or all-NA columns when determining the result dtypes. To retain the old behavior, exclude the relevant entries before the concat operation.\n",
      "  predictionsDF = pd.concat([predictionsDF, tempDF], ignore_index=True)\n",
      "/home/workstation/Escritorio/PabloC/TransferLearning/funcionesComunes.py:191: FutureWarning: The behavior of DataFrame concatenation with empty or all-NA entries is deprecated. In a future version, this will no longer exclude empty or all-NA columns when determining the result dtypes. To retain the old behavior, exclude the relevant entries before the concat operation.\n",
      "  predictionsDF = pd.concat([predictionsDF, tempDF], ignore_index=True)\n"
     ]
    },
    {
     "name": "stdout",
     "output_type": "stream",
     "text": [
      "RESULTADOS DE MSE, RMSE, R2, MAPE (Train): 19.670635693680676, 4.435159038149667, 0.49324852798518704, 34.92766388787088\n",
      "RESULTADOS DE MSE, RMSE, R2, MAPE (Val): 21.98842212690753, 4.689181391981711, 0.44431557072622785, 35.51539939347615\n",
      "RESULTADOS DE MSE, RMSE, R2, MAPE (Test): 17.525343786632337, 4.186328198628523, 0.5637797473289323, 32.731052246133316\n",
      "Populus ciliata Betula utilis\n",
      "(1182, 77)\n",
      "SE HA NORMALIZADO EL ARCHIVO: Populus ciliata_merged.csv\n",
      "(705, 4, 43) (156, 4, 43) (265, 4, 43)\n",
      "<LSTM name=lstm_113, built=True> False\n",
      "<LSTM name=lstm_114, built=True> False\n",
      "<Dropout name=dropout_62, built=True> True\n",
      "<LSTM name=lstm_115, built=True> True\n",
      "<Dense name=dense_62, built=True> True\n",
      "<Dropout name=dropout_63, built=True> True\n",
      "<Dense name=dense_63, built=True> True\n",
      "[MODELO CONGELADO]: 7.9237072467803955\n"
     ]
    },
    {
     "name": "stderr",
     "output_type": "stream",
     "text": [
      "/home/workstation/Escritorio/PabloC/TransferLearning/funcionesComunes.py:191: FutureWarning: The behavior of DataFrame concatenation with empty or all-NA entries is deprecated. In a future version, this will no longer exclude empty or all-NA columns when determining the result dtypes. To retain the old behavior, exclude the relevant entries before the concat operation.\n",
      "  predictionsDF = pd.concat([predictionsDF, tempDF], ignore_index=True)\n",
      "/home/workstation/Escritorio/PabloC/TransferLearning/funcionesComunes.py:191: FutureWarning: The behavior of DataFrame concatenation with empty or all-NA entries is deprecated. In a future version, this will no longer exclude empty or all-NA columns when determining the result dtypes. To retain the old behavior, exclude the relevant entries before the concat operation.\n",
      "  predictionsDF = pd.concat([predictionsDF, tempDF], ignore_index=True)\n",
      "/home/workstation/Escritorio/PabloC/TransferLearning/funcionesComunes.py:191: FutureWarning: The behavior of DataFrame concatenation with empty or all-NA entries is deprecated. In a future version, this will no longer exclude empty or all-NA columns when determining the result dtypes. To retain the old behavior, exclude the relevant entries before the concat operation.\n",
      "  predictionsDF = pd.concat([predictionsDF, tempDF], ignore_index=True)\n"
     ]
    },
    {
     "name": "stdout",
     "output_type": "stream",
     "text": [
      "RESULTADOS DE MSE, RMSE, R2, MAPE (Train): 193.65448637681877, 13.915979533501002, 0.46679981598171705, 38.7321479847521\n",
      "RESULTADOS DE MSE, RMSE, R2, MAPE (Val): 246.5418401471484, 15.701650873304642, -0.050464135844343616, 48.86753058723377\n",
      "RESULTADOS DE MSE, RMSE, R2, MAPE (Test): 85.27461943226142, 9.23442577707252, 0.5739035608328859, 34.22048471693159\n",
      "Betula utilis Betula utilis\n",
      "Tsuga dumosa Betula utilis\n",
      "(20493, 77)\n",
      "SE HA NORMALIZADO EL ARCHIVO: Tsuga dumosa_merged.csv\n",
      "(11935, 4, 43) (4144, 4, 43) (3469, 4, 43)\n",
      "<LSTM name=lstm_113, built=True> False\n",
      "<LSTM name=lstm_114, built=True> False\n",
      "<Dropout name=dropout_62, built=True> True\n",
      "<LSTM name=lstm_115, built=True> True\n",
      "<Dense name=dense_62, built=True> True\n",
      "<Dropout name=dropout_63, built=True> True\n",
      "<Dense name=dense_63, built=True> True\n",
      "[MODELO CONGELADO]: 264.98534536361694\n"
     ]
    },
    {
     "name": "stderr",
     "output_type": "stream",
     "text": [
      "/home/workstation/Escritorio/PabloC/TransferLearning/funcionesComunes.py:191: FutureWarning: The behavior of DataFrame concatenation with empty or all-NA entries is deprecated. In a future version, this will no longer exclude empty or all-NA columns when determining the result dtypes. To retain the old behavior, exclude the relevant entries before the concat operation.\n",
      "  predictionsDF = pd.concat([predictionsDF, tempDF], ignore_index=True)\n",
      "/home/workstation/Escritorio/PabloC/TransferLearning/funcionesComunes.py:191: FutureWarning: The behavior of DataFrame concatenation with empty or all-NA entries is deprecated. In a future version, this will no longer exclude empty or all-NA columns when determining the result dtypes. To retain the old behavior, exclude the relevant entries before the concat operation.\n",
      "  predictionsDF = pd.concat([predictionsDF, tempDF], ignore_index=True)\n",
      "/home/workstation/Escritorio/PabloC/TransferLearning/funcionesComunes.py:191: FutureWarning: The behavior of DataFrame concatenation with empty or all-NA entries is deprecated. In a future version, this will no longer exclude empty or all-NA columns when determining the result dtypes. To retain the old behavior, exclude the relevant entries before the concat operation.\n",
      "  predictionsDF = pd.concat([predictionsDF, tempDF], ignore_index=True)\n"
     ]
    },
    {
     "name": "stdout",
     "output_type": "stream",
     "text": [
      "RESULTADOS DE MSE, RMSE, R2, MAPE (Train): 262.435249534431, 16.199853380028816, 0.32612111562172985, 46.104842141839534\n",
      "RESULTADOS DE MSE, RMSE, R2, MAPE (Val): 220.1566309760227, 14.837676063859282, 0.30136504883562454, 42.005817745942934\n",
      "RESULTADOS DE MSE, RMSE, R2, MAPE (Test): 412.2574598077441, 20.30412420686359, 0.32708830609806405, 47.10850632698733\n",
      "Cedrus deodara Betula utilis\n",
      "(37273, 77)\n",
      "SE HA NORMALIZADO EL ARCHIVO: Cedrus deodara_merged.csv\n",
      "(22017, 4, 43) (7410, 4, 43) (6282, 4, 43)\n",
      "<LSTM name=lstm_113, built=True> False\n",
      "<LSTM name=lstm_114, built=True> False\n",
      "<Dropout name=dropout_62, built=True> True\n",
      "<LSTM name=lstm_115, built=True> True\n",
      "<Dense name=dense_62, built=True> True\n",
      "<Dropout name=dropout_63, built=True> True\n",
      "<Dense name=dense_63, built=True> True\n",
      "[MODELO CONGELADO]: 584.609415769577\n"
     ]
    },
    {
     "name": "stderr",
     "output_type": "stream",
     "text": [
      "/home/workstation/Escritorio/PabloC/TransferLearning/funcionesComunes.py:191: FutureWarning: The behavior of DataFrame concatenation with empty or all-NA entries is deprecated. In a future version, this will no longer exclude empty or all-NA columns when determining the result dtypes. To retain the old behavior, exclude the relevant entries before the concat operation.\n",
      "  predictionsDF = pd.concat([predictionsDF, tempDF], ignore_index=True)\n",
      "/home/workstation/Escritorio/PabloC/TransferLearning/funcionesComunes.py:191: FutureWarning: The behavior of DataFrame concatenation with empty or all-NA entries is deprecated. In a future version, this will no longer exclude empty or all-NA columns when determining the result dtypes. To retain the old behavior, exclude the relevant entries before the concat operation.\n",
      "  predictionsDF = pd.concat([predictionsDF, tempDF], ignore_index=True)\n",
      "/home/workstation/Escritorio/PabloC/TransferLearning/funcionesComunes.py:191: FutureWarning: The behavior of DataFrame concatenation with empty or all-NA entries is deprecated. In a future version, this will no longer exclude empty or all-NA columns when determining the result dtypes. To retain the old behavior, exclude the relevant entries before the concat operation.\n",
      "  predictionsDF = pd.concat([predictionsDF, tempDF], ignore_index=True)\n"
     ]
    },
    {
     "name": "stdout",
     "output_type": "stream",
     "text": [
      "RESULTADOS DE MSE, RMSE, R2, MAPE (Train): 234.75232347058983, 15.32162926945401, 0.45039590217999614, 41.3713487407023\n",
      "RESULTADOS DE MSE, RMSE, R2, MAPE (Val): 295.18965514386304, 17.181084224921985, 0.33834780064693504, 44.54024100008998\n",
      "RESULTADOS DE MSE, RMSE, R2, MAPE (Test): 209.81061021994483, 14.484840703989287, 0.40467086649587125, 41.217268751215606\n",
      "Juniperus spp. L. Betula utilis\n",
      "(7264, 77)\n",
      "SE HA NORMALIZADO EL ARCHIVO: Juniperus spp. L._merged.csv\n",
      "(4216, 4, 43) (1524, 4, 43) (1188, 4, 43)\n",
      "<LSTM name=lstm_113, built=True> False\n",
      "<LSTM name=lstm_114, built=True> False\n",
      "<Dropout name=dropout_62, built=True> True\n",
      "<LSTM name=lstm_115, built=True> True\n",
      "<Dense name=dense_62, built=True> True\n",
      "<Dropout name=dropout_63, built=True> True\n",
      "<Dense name=dense_63, built=True> True\n",
      "[MODELO CONGELADO]: 16.735188007354736\n"
     ]
    },
    {
     "name": "stderr",
     "output_type": "stream",
     "text": [
      "/home/workstation/Escritorio/PabloC/TransferLearning/funcionesComunes.py:191: FutureWarning: The behavior of DataFrame concatenation with empty or all-NA entries is deprecated. In a future version, this will no longer exclude empty or all-NA columns when determining the result dtypes. To retain the old behavior, exclude the relevant entries before the concat operation.\n",
      "  predictionsDF = pd.concat([predictionsDF, tempDF], ignore_index=True)\n",
      "/home/workstation/Escritorio/PabloC/TransferLearning/funcionesComunes.py:191: FutureWarning: The behavior of DataFrame concatenation with empty or all-NA entries is deprecated. In a future version, this will no longer exclude empty or all-NA columns when determining the result dtypes. To retain the old behavior, exclude the relevant entries before the concat operation.\n",
      "  predictionsDF = pd.concat([predictionsDF, tempDF], ignore_index=True)\n",
      "/home/workstation/Escritorio/PabloC/TransferLearning/funcionesComunes.py:191: FutureWarning: The behavior of DataFrame concatenation with empty or all-NA entries is deprecated. In a future version, this will no longer exclude empty or all-NA columns when determining the result dtypes. To retain the old behavior, exclude the relevant entries before the concat operation.\n",
      "  predictionsDF = pd.concat([predictionsDF, tempDF], ignore_index=True)\n"
     ]
    },
    {
     "name": "stdout",
     "output_type": "stream",
     "text": [
      "RESULTADOS DE MSE, RMSE, R2, MAPE (Train): 4.821708253091088, 2.195838849526779, 0.6153092086067532, 40.140524226933216\n",
      "RESULTADOS DE MSE, RMSE, R2, MAPE (Val): 1.556681149495772, 1.247670288776555, 0.30926419682908945, 43.720904035019856\n",
      "RESULTADOS DE MSE, RMSE, R2, MAPE (Test): 16.451385861730863, 4.056030801378468, 0.1321797336116507, 57.33391679305145\n",
      "Juniperus recurva Betula utilis\n",
      "(5316, 77)\n",
      "SE HA NORMALIZADO EL ARCHIVO: Juniperus recurva_merged.csv\n",
      "(3188, 4, 43) (1082, 4, 43) (810, 4, 43)\n",
      "<LSTM name=lstm_113, built=True> False\n",
      "<LSTM name=lstm_114, built=True> False\n",
      "<Dropout name=dropout_62, built=True> True\n",
      "<LSTM name=lstm_115, built=True> True\n",
      "<Dense name=dense_62, built=True> True\n",
      "<Dropout name=dropout_63, built=True> True\n",
      "<Dense name=dense_63, built=True> True\n",
      "[MODELO CONGELADO]: 24.17071509361267\n"
     ]
    },
    {
     "name": "stderr",
     "output_type": "stream",
     "text": [
      "/home/workstation/Escritorio/PabloC/TransferLearning/funcionesComunes.py:191: FutureWarning: The behavior of DataFrame concatenation with empty or all-NA entries is deprecated. In a future version, this will no longer exclude empty or all-NA columns when determining the result dtypes. To retain the old behavior, exclude the relevant entries before the concat operation.\n",
      "  predictionsDF = pd.concat([predictionsDF, tempDF], ignore_index=True)\n",
      "/home/workstation/Escritorio/PabloC/TransferLearning/funcionesComunes.py:191: FutureWarning: The behavior of DataFrame concatenation with empty or all-NA entries is deprecated. In a future version, this will no longer exclude empty or all-NA columns when determining the result dtypes. To retain the old behavior, exclude the relevant entries before the concat operation.\n",
      "  predictionsDF = pd.concat([predictionsDF, tempDF], ignore_index=True)\n",
      "/home/workstation/Escritorio/PabloC/TransferLearning/funcionesComunes.py:191: FutureWarning: The behavior of DataFrame concatenation with empty or all-NA entries is deprecated. In a future version, this will no longer exclude empty or all-NA columns when determining the result dtypes. To retain the old behavior, exclude the relevant entries before the concat operation.\n",
      "  predictionsDF = pd.concat([predictionsDF, tempDF], ignore_index=True)\n"
     ]
    },
    {
     "name": "stdout",
     "output_type": "stream",
     "text": [
      "RESULTADOS DE MSE, RMSE, R2, MAPE (Train): 10.087757893750096, 3.176123091718911, 0.5991498020419533, 36.108700863410306\n",
      "RESULTADOS DE MSE, RMSE, R2, MAPE (Val): 8.078591941979916, 2.842286393377683, 0.7066548836285269, 30.984790693641344\n",
      "RESULTADOS DE MSE, RMSE, R2, MAPE (Test): 3.451303489979814, 1.857768416670876, 0.6330841638921656, 29.015688531269223\n",
      "totalMerged.csv Betula utilis\n",
      "Juniperus spp.  Betula utilis\n",
      "(17976, 77)\n",
      "SE HA NORMALIZADO EL ARCHIVO: Juniperus spp. _merged.csv\n",
      "(10218, 4, 43) (3900, 4, 43) (3018, 4, 43)\n",
      "<LSTM name=lstm_113, built=True> False\n",
      "<LSTM name=lstm_114, built=True> False\n",
      "<Dropout name=dropout_62, built=True> True\n",
      "<LSTM name=lstm_115, built=True> True\n",
      "<Dense name=dense_62, built=True> True\n",
      "<Dropout name=dropout_63, built=True> True\n",
      "<Dense name=dense_63, built=True> True\n",
      "[MODELO CONGELADO]: 33.14757752418518\n"
     ]
    },
    {
     "name": "stderr",
     "output_type": "stream",
     "text": [
      "/home/workstation/Escritorio/PabloC/TransferLearning/funcionesComunes.py:191: FutureWarning: The behavior of DataFrame concatenation with empty or all-NA entries is deprecated. In a future version, this will no longer exclude empty or all-NA columns when determining the result dtypes. To retain the old behavior, exclude the relevant entries before the concat operation.\n",
      "  predictionsDF = pd.concat([predictionsDF, tempDF], ignore_index=True)\n",
      "/home/workstation/Escritorio/PabloC/TransferLearning/funcionesComunes.py:191: FutureWarning: The behavior of DataFrame concatenation with empty or all-NA entries is deprecated. In a future version, this will no longer exclude empty or all-NA columns when determining the result dtypes. To retain the old behavior, exclude the relevant entries before the concat operation.\n",
      "  predictionsDF = pd.concat([predictionsDF, tempDF], ignore_index=True)\n",
      "/home/workstation/Escritorio/PabloC/TransferLearning/funcionesComunes.py:191: FutureWarning: The behavior of DataFrame concatenation with empty or all-NA entries is deprecated. In a future version, this will no longer exclude empty or all-NA columns when determining the result dtypes. To retain the old behavior, exclude the relevant entries before the concat operation.\n",
      "  predictionsDF = pd.concat([predictionsDF, tempDF], ignore_index=True)\n"
     ]
    },
    {
     "name": "stdout",
     "output_type": "stream",
     "text": [
      "RESULTADOS DE MSE, RMSE, R2, MAPE (Train): 32.28237055519526, 5.6817576994443595, 0.4734966547300825, 41.435720974487666\n",
      "RESULTADOS DE MSE, RMSE, R2, MAPE (Val): 8.993213163351124, 2.9988686472320065, 0.5428591258617186, 41.60123151199032\n",
      "RESULTADOS DE MSE, RMSE, R2, MAPE (Test): 49.88007612542355, 7.0625828225532015, 0.5226619000251861, 42.80731137591546\n",
      "Procesando el modelo: model_Juniperus spp. .keras\n",
      "Abies spectabilis Juniperus spp. \n",
      "(96429, 77)\n",
      "SE HA NORMALIZADO EL ARCHIVO: Abies spectabilis_merged.csv\n",
      "(56618, 4, 43) (19637, 4, 43) (15689, 4, 43)\n",
      "<LSTM name=lstm_131, built=True> False\n",
      "<LSTM name=lstm_132, built=True> False\n",
      "<LSTM name=lstm_133, built=True> False\n",
      "<Dropout name=dropout_72, built=True> True\n",
      "<LSTM name=lstm_134, built=True> True\n",
      "<Dense name=dense_72, built=True> True\n",
      "<Dropout name=dropout_73, built=True> True\n",
      "<Dense name=dense_73, built=True> True\n",
      "[MODELO CONGELADO]: 2006.6978845596313\n"
     ]
    },
    {
     "name": "stderr",
     "output_type": "stream",
     "text": [
      "/home/workstation/Escritorio/PabloC/TransferLearning/funcionesComunes.py:191: FutureWarning: The behavior of DataFrame concatenation with empty or all-NA entries is deprecated. In a future version, this will no longer exclude empty or all-NA columns when determining the result dtypes. To retain the old behavior, exclude the relevant entries before the concat operation.\n",
      "  predictionsDF = pd.concat([predictionsDF, tempDF], ignore_index=True)\n",
      "/home/workstation/Escritorio/PabloC/TransferLearning/funcionesComunes.py:191: FutureWarning: The behavior of DataFrame concatenation with empty or all-NA entries is deprecated. In a future version, this will no longer exclude empty or all-NA columns when determining the result dtypes. To retain the old behavior, exclude the relevant entries before the concat operation.\n",
      "  predictionsDF = pd.concat([predictionsDF, tempDF], ignore_index=True)\n",
      "/home/workstation/Escritorio/PabloC/TransferLearning/funcionesComunes.py:191: FutureWarning: The behavior of DataFrame concatenation with empty or all-NA entries is deprecated. In a future version, this will no longer exclude empty or all-NA columns when determining the result dtypes. To retain the old behavior, exclude the relevant entries before the concat operation.\n",
      "  predictionsDF = pd.concat([predictionsDF, tempDF], ignore_index=True)\n"
     ]
    },
    {
     "name": "stdout",
     "output_type": "stream",
     "text": [
      "RESULTADOS DE MSE, RMSE, R2, MAPE (Train): 77.00133489800805, 8.775040449935718, 0.3244320839396334, 47.46373124068325\n",
      "RESULTADOS DE MSE, RMSE, R2, MAPE (Val): 75.59727235699934, 8.694669191924403, 0.31118448163388657, 47.21424317848242\n",
      "RESULTADOS DE MSE, RMSE, R2, MAPE (Test): 80.452687920761, 8.969542235853567, 0.40334227563862524, 46.266067762814586\n",
      "Picea smithiana Juniperus spp. \n",
      "(34476, 77)\n",
      "SE HA NORMALIZADO EL ARCHIVO: Picea smithiana_merged.csv\n",
      "(19933, 4, 43) (7272, 4, 43) (5863, 4, 43)\n",
      "<LSTM name=lstm_131, built=True> False\n",
      "<LSTM name=lstm_132, built=True> False\n",
      "<LSTM name=lstm_133, built=True> False\n",
      "<Dropout name=dropout_72, built=True> True\n",
      "<LSTM name=lstm_134, built=True> True\n",
      "<Dense name=dense_72, built=True> True\n",
      "<Dropout name=dropout_73, built=True> True\n",
      "<Dense name=dense_73, built=True> True\n",
      "[MODELO CONGELADO]: 234.4166464805603\n"
     ]
    },
    {
     "name": "stderr",
     "output_type": "stream",
     "text": [
      "/home/workstation/Escritorio/PabloC/TransferLearning/funcionesComunes.py:191: FutureWarning: The behavior of DataFrame concatenation with empty or all-NA entries is deprecated. In a future version, this will no longer exclude empty or all-NA columns when determining the result dtypes. To retain the old behavior, exclude the relevant entries before the concat operation.\n",
      "  predictionsDF = pd.concat([predictionsDF, tempDF], ignore_index=True)\n",
      "/home/workstation/Escritorio/PabloC/TransferLearning/funcionesComunes.py:191: FutureWarning: The behavior of DataFrame concatenation with empty or all-NA entries is deprecated. In a future version, this will no longer exclude empty or all-NA columns when determining the result dtypes. To retain the old behavior, exclude the relevant entries before the concat operation.\n",
      "  predictionsDF = pd.concat([predictionsDF, tempDF], ignore_index=True)\n",
      "/home/workstation/Escritorio/PabloC/TransferLearning/funcionesComunes.py:191: FutureWarning: The behavior of DataFrame concatenation with empty or all-NA entries is deprecated. In a future version, this will no longer exclude empty or all-NA columns when determining the result dtypes. To retain the old behavior, exclude the relevant entries before the concat operation.\n",
      "  predictionsDF = pd.concat([predictionsDF, tempDF], ignore_index=True)\n"
     ]
    },
    {
     "name": "stdout",
     "output_type": "stream",
     "text": [
      "RESULTADOS DE MSE, RMSE, R2, MAPE (Train): 211.82891721429422, 14.55434358582668, 0.37921973723847124, 42.736665575388024\n",
      "RESULTADOS DE MSE, RMSE, R2, MAPE (Val): 246.35712628992857, 15.695767782747316, 0.28907869787972906, 45.44970289448359\n",
      "RESULTADOS DE MSE, RMSE, R2, MAPE (Test): 220.8555540968129, 14.861209711756741, 0.25418027392995557, 46.53978381734098\n",
      "Abies pindrow Juniperus spp. \n",
      "(16018, 77)\n",
      "SE HA NORMALIZADO EL ARCHIVO: Abies pindrow_merged.csv\n",
      "(9042, 4, 43) (3441, 4, 43) (2815, 4, 43)\n",
      "<LSTM name=lstm_131, built=True> False\n",
      "<LSTM name=lstm_132, built=True> False\n",
      "<LSTM name=lstm_133, built=True> False\n",
      "<Dropout name=dropout_72, built=True> True\n",
      "<LSTM name=lstm_134, built=True> True\n",
      "<Dense name=dense_72, built=True> True\n",
      "<Dropout name=dropout_73, built=True> True\n",
      "<Dense name=dense_73, built=True> True\n",
      "[MODELO CONGELADO]: 112.37558603286743\n"
     ]
    },
    {
     "name": "stderr",
     "output_type": "stream",
     "text": [
      "/home/workstation/Escritorio/PabloC/TransferLearning/funcionesComunes.py:191: FutureWarning: The behavior of DataFrame concatenation with empty or all-NA entries is deprecated. In a future version, this will no longer exclude empty or all-NA columns when determining the result dtypes. To retain the old behavior, exclude the relevant entries before the concat operation.\n",
      "  predictionsDF = pd.concat([predictionsDF, tempDF], ignore_index=True)\n",
      "/home/workstation/Escritorio/PabloC/TransferLearning/funcionesComunes.py:191: FutureWarning: The behavior of DataFrame concatenation with empty or all-NA entries is deprecated. In a future version, this will no longer exclude empty or all-NA columns when determining the result dtypes. To retain the old behavior, exclude the relevant entries before the concat operation.\n",
      "  predictionsDF = pd.concat([predictionsDF, tempDF], ignore_index=True)\n",
      "/home/workstation/Escritorio/PabloC/TransferLearning/funcionesComunes.py:191: FutureWarning: The behavior of DataFrame concatenation with empty or all-NA entries is deprecated. In a future version, this will no longer exclude empty or all-NA columns when determining the result dtypes. To retain the old behavior, exclude the relevant entries before the concat operation.\n",
      "  predictionsDF = pd.concat([predictionsDF, tempDF], ignore_index=True)\n"
     ]
    },
    {
     "name": "stdout",
     "output_type": "stream",
     "text": [
      "RESULTADOS DE MSE, RMSE, R2, MAPE (Train): 191.3374330681951, 13.83247747398112, 0.17871860886391344, 46.43181356306991\n",
      "RESULTADOS DE MSE, RMSE, R2, MAPE (Val): 158.53098729048813, 12.590908914390896, 0.09566185427537999, 41.121948697963674\n",
      "RESULTADOS DE MSE, RMSE, R2, MAPE (Test): 293.12351555160234, 17.120850316254806, -1.0723004261284275, 51.19058998781141\n",
      "Juniperus excelsa M.-Bieb Juniperus spp. \n",
      "(7449, 77)\n",
      "SE HA NORMALIZADO EL ARCHIVO: Juniperus excelsa M.-Bieb_merged.csv\n",
      "(4189, 4, 43) (1707, 4, 43) (1228, 4, 43)\n",
      "<LSTM name=lstm_131, built=True> False\n",
      "<LSTM name=lstm_132, built=True> False\n",
      "<LSTM name=lstm_133, built=True> False\n",
      "<Dropout name=dropout_72, built=True> True\n",
      "<LSTM name=lstm_134, built=True> True\n",
      "<Dense name=dense_72, built=True> True\n",
      "<Dropout name=dropout_73, built=True> True\n",
      "<Dense name=dense_73, built=True> True\n",
      "[MODELO CONGELADO]: 52.469165325164795\n"
     ]
    },
    {
     "name": "stderr",
     "output_type": "stream",
     "text": [
      "/home/workstation/Escritorio/PabloC/TransferLearning/funcionesComunes.py:191: FutureWarning: The behavior of DataFrame concatenation with empty or all-NA entries is deprecated. In a future version, this will no longer exclude empty or all-NA columns when determining the result dtypes. To retain the old behavior, exclude the relevant entries before the concat operation.\n",
      "  predictionsDF = pd.concat([predictionsDF, tempDF], ignore_index=True)\n",
      "/home/workstation/Escritorio/PabloC/TransferLearning/funcionesComunes.py:191: FutureWarning: The behavior of DataFrame concatenation with empty or all-NA entries is deprecated. In a future version, this will no longer exclude empty or all-NA columns when determining the result dtypes. To retain the old behavior, exclude the relevant entries before the concat operation.\n",
      "  predictionsDF = pd.concat([predictionsDF, tempDF], ignore_index=True)\n",
      "/home/workstation/Escritorio/PabloC/TransferLearning/funcionesComunes.py:191: FutureWarning: The behavior of DataFrame concatenation with empty or all-NA entries is deprecated. In a future version, this will no longer exclude empty or all-NA columns when determining the result dtypes. To retain the old behavior, exclude the relevant entries before the concat operation.\n",
      "  predictionsDF = pd.concat([predictionsDF, tempDF], ignore_index=True)\n"
     ]
    },
    {
     "name": "stdout",
     "output_type": "stream",
     "text": [
      "RESULTADOS DE MSE, RMSE, R2, MAPE (Train): 19.529110482128495, 4.4191753169713115, 0.20618066461198303, 48.502516737692794\n",
      "RESULTADOS DE MSE, RMSE, R2, MAPE (Val): 24.34115779986922, 4.933675891246731, 0.07171960370159636, 57.60944345634723\n",
      "RESULTADOS DE MSE, RMSE, R2, MAPE (Test): 92.7416836430182, 9.630248368708784, -0.37497252764219113, 71.80028085645382\n",
      "Juniperus turkestanica Komar. Juniperus spp. \n",
      "(6305, 77)\n",
      "SE HA NORMALIZADO EL ARCHIVO: Juniperus turkestanica Komar._merged.csv\n",
      "(3664, 4, 43) (1368, 4, 43) (1001, 4, 43)\n",
      "<LSTM name=lstm_131, built=True> False\n",
      "<LSTM name=lstm_132, built=True> False\n",
      "<LSTM name=lstm_133, built=True> False\n",
      "<Dropout name=dropout_72, built=True> True\n",
      "<LSTM name=lstm_134, built=True> True\n",
      "<Dense name=dense_72, built=True> True\n",
      "<Dropout name=dropout_73, built=True> True\n",
      "<Dense name=dense_73, built=True> True\n",
      "[MODELO CONGELADO]: 84.34057903289795\n"
     ]
    },
    {
     "name": "stderr",
     "output_type": "stream",
     "text": [
      "/home/workstation/Escritorio/PabloC/TransferLearning/funcionesComunes.py:191: FutureWarning: The behavior of DataFrame concatenation with empty or all-NA entries is deprecated. In a future version, this will no longer exclude empty or all-NA columns when determining the result dtypes. To retain the old behavior, exclude the relevant entries before the concat operation.\n",
      "  predictionsDF = pd.concat([predictionsDF, tempDF], ignore_index=True)\n",
      "/home/workstation/Escritorio/PabloC/TransferLearning/funcionesComunes.py:191: FutureWarning: The behavior of DataFrame concatenation with empty or all-NA entries is deprecated. In a future version, this will no longer exclude empty or all-NA columns when determining the result dtypes. To retain the old behavior, exclude the relevant entries before the concat operation.\n",
      "  predictionsDF = pd.concat([predictionsDF, tempDF], ignore_index=True)\n",
      "/home/workstation/Escritorio/PabloC/TransferLearning/funcionesComunes.py:191: FutureWarning: The behavior of DataFrame concatenation with empty or all-NA entries is deprecated. In a future version, this will no longer exclude empty or all-NA columns when determining the result dtypes. To retain the old behavior, exclude the relevant entries before the concat operation.\n",
      "  predictionsDF = pd.concat([predictionsDF, tempDF], ignore_index=True)\n"
     ]
    },
    {
     "name": "stdout",
     "output_type": "stream",
     "text": [
      "RESULTADOS DE MSE, RMSE, R2, MAPE (Train): 10.280685097493079, 3.2063507446149866, 0.7709640610641983, 32.29550522795121\n",
      "RESULTADOS DE MSE, RMSE, R2, MAPE (Val): 9.037951849716785, 3.0063186540546205, 0.47441861101318084, 41.26699695764965\n",
      "RESULTADOS DE MSE, RMSE, R2, MAPE (Test): 2.966983316331293, 1.722493342898977, 0.45415793969623164, 34.59197843180574\n",
      "Pinus roxburghii Juniperus spp. \n",
      "(10635, 77)\n",
      "SE HA NORMALIZADO EL ARCHIVO: Pinus roxburghii_merged.csv\n",
      "(6309, 4, 43) (2167, 4, 43) (1647, 4, 43)\n",
      "<LSTM name=lstm_131, built=True> False\n",
      "<LSTM name=lstm_132, built=True> False\n",
      "<LSTM name=lstm_133, built=True> False\n",
      "<Dropout name=dropout_72, built=True> True\n",
      "<LSTM name=lstm_134, built=True> True\n",
      "<Dense name=dense_72, built=True> True\n",
      "<Dropout name=dropout_73, built=True> True\n",
      "<Dense name=dense_73, built=True> True\n",
      "[MODELO CONGELADO]: 69.10888171195984\n"
     ]
    },
    {
     "name": "stderr",
     "output_type": "stream",
     "text": [
      "/home/workstation/Escritorio/PabloC/TransferLearning/funcionesComunes.py:191: FutureWarning: The behavior of DataFrame concatenation with empty or all-NA entries is deprecated. In a future version, this will no longer exclude empty or all-NA columns when determining the result dtypes. To retain the old behavior, exclude the relevant entries before the concat operation.\n",
      "  predictionsDF = pd.concat([predictionsDF, tempDF], ignore_index=True)\n",
      "/home/workstation/Escritorio/PabloC/TransferLearning/funcionesComunes.py:191: FutureWarning: The behavior of DataFrame concatenation with empty or all-NA entries is deprecated. In a future version, this will no longer exclude empty or all-NA columns when determining the result dtypes. To retain the old behavior, exclude the relevant entries before the concat operation.\n",
      "  predictionsDF = pd.concat([predictionsDF, tempDF], ignore_index=True)\n",
      "/home/workstation/Escritorio/PabloC/TransferLearning/funcionesComunes.py:191: FutureWarning: The behavior of DataFrame concatenation with empty or all-NA entries is deprecated. In a future version, this will no longer exclude empty or all-NA columns when determining the result dtypes. To retain the old behavior, exclude the relevant entries before the concat operation.\n",
      "  predictionsDF = pd.concat([predictionsDF, tempDF], ignore_index=True)\n"
     ]
    },
    {
     "name": "stdout",
     "output_type": "stream",
     "text": [
      "RESULTADOS DE MSE, RMSE, R2, MAPE (Train): 187.31390962762688, 13.686267191152849, 0.29775358943484787, 44.22552649652923\n",
      "RESULTADOS DE MSE, RMSE, R2, MAPE (Val): 150.8547935895517, 12.282295941295002, 0.32656616222172896, 44.2861689238171\n",
      "RESULTADOS DE MSE, RMSE, R2, MAPE (Test): 167.1352056050965, 12.928078186841867, 0.29866575287860786, 44.87134229902296\n",
      "Pinus wallichiana Juniperus spp. \n",
      "(9365, 77)\n",
      "SE HA NORMALIZADO EL ARCHIVO: Pinus wallichiana_merged.csv\n",
      "(5508, 4, 43) (1957, 4, 43) (1500, 4, 43)\n",
      "<LSTM name=lstm_131, built=True> False\n",
      "<LSTM name=lstm_132, built=True> False\n",
      "<LSTM name=lstm_133, built=True> False\n",
      "<Dropout name=dropout_72, built=True> True\n",
      "<LSTM name=lstm_134, built=True> True\n",
      "<Dense name=dense_72, built=True> True\n",
      "<Dropout name=dropout_73, built=True> True\n",
      "<Dense name=dense_73, built=True> True\n",
      "[MODELO CONGELADO]: 92.22524619102478\n"
     ]
    },
    {
     "name": "stderr",
     "output_type": "stream",
     "text": [
      "/home/workstation/Escritorio/PabloC/TransferLearning/funcionesComunes.py:191: FutureWarning: The behavior of DataFrame concatenation with empty or all-NA entries is deprecated. In a future version, this will no longer exclude empty or all-NA columns when determining the result dtypes. To retain the old behavior, exclude the relevant entries before the concat operation.\n",
      "  predictionsDF = pd.concat([predictionsDF, tempDF], ignore_index=True)\n",
      "/home/workstation/Escritorio/PabloC/TransferLearning/funcionesComunes.py:191: FutureWarning: The behavior of DataFrame concatenation with empty or all-NA entries is deprecated. In a future version, this will no longer exclude empty or all-NA columns when determining the result dtypes. To retain the old behavior, exclude the relevant entries before the concat operation.\n",
      "  predictionsDF = pd.concat([predictionsDF, tempDF], ignore_index=True)\n",
      "/home/workstation/Escritorio/PabloC/TransferLearning/funcionesComunes.py:191: FutureWarning: The behavior of DataFrame concatenation with empty or all-NA entries is deprecated. In a future version, this will no longer exclude empty or all-NA columns when determining the result dtypes. To retain the old behavior, exclude the relevant entries before the concat operation.\n",
      "  predictionsDF = pd.concat([predictionsDF, tempDF], ignore_index=True)\n"
     ]
    },
    {
     "name": "stdout",
     "output_type": "stream",
     "text": [
      "RESULTADOS DE MSE, RMSE, R2, MAPE (Train): 31.92016725470587, 5.649793558591842, 0.5264897921642311, 32.19700267669284\n",
      "RESULTADOS DE MSE, RMSE, R2, MAPE (Val): 26.96619935134303, 5.192898935213647, 0.5489345934659111, 34.648957085756294\n",
      "RESULTADOS DE MSE, RMSE, R2, MAPE (Test): 52.32698051875765, 7.233739041378093, -0.2410450920136955, 46.835181583250105\n",
      "Pinus gerardiana Juniperus spp. \n",
      "(10101, 77)\n",
      "SE HA NORMALIZADO EL ARCHIVO: Pinus gerardiana_merged.csv\n",
      "(5767, 4, 43) (2181, 4, 43) (1745, 4, 43)\n",
      "<LSTM name=lstm_131, built=True> False\n",
      "<LSTM name=lstm_132, built=True> False\n",
      "<LSTM name=lstm_133, built=True> False\n",
      "<Dropout name=dropout_72, built=True> True\n",
      "<LSTM name=lstm_134, built=True> True\n",
      "<Dense name=dense_72, built=True> True\n",
      "<Dropout name=dropout_73, built=True> True\n",
      "<Dense name=dense_73, built=True> True\n",
      "[MODELO CONGELADO]: 94.23775172233582\n"
     ]
    },
    {
     "name": "stderr",
     "output_type": "stream",
     "text": [
      "/home/workstation/Escritorio/PabloC/TransferLearning/funcionesComunes.py:191: FutureWarning: The behavior of DataFrame concatenation with empty or all-NA entries is deprecated. In a future version, this will no longer exclude empty or all-NA columns when determining the result dtypes. To retain the old behavior, exclude the relevant entries before the concat operation.\n",
      "  predictionsDF = pd.concat([predictionsDF, tempDF], ignore_index=True)\n",
      "/home/workstation/Escritorio/PabloC/TransferLearning/funcionesComunes.py:191: FutureWarning: The behavior of DataFrame concatenation with empty or all-NA entries is deprecated. In a future version, this will no longer exclude empty or all-NA columns when determining the result dtypes. To retain the old behavior, exclude the relevant entries before the concat operation.\n",
      "  predictionsDF = pd.concat([predictionsDF, tempDF], ignore_index=True)\n",
      "/home/workstation/Escritorio/PabloC/TransferLearning/funcionesComunes.py:191: FutureWarning: The behavior of DataFrame concatenation with empty or all-NA entries is deprecated. In a future version, this will no longer exclude empty or all-NA columns when determining the result dtypes. To retain the old behavior, exclude the relevant entries before the concat operation.\n",
      "  predictionsDF = pd.concat([predictionsDF, tempDF], ignore_index=True)\n"
     ]
    },
    {
     "name": "stdout",
     "output_type": "stream",
     "text": [
      "RESULTADOS DE MSE, RMSE, R2, MAPE (Train): 19.17456759339189, 4.378877435301415, 0.5060281475132786, 34.96934798320498\n",
      "RESULTADOS DE MSE, RMSE, R2, MAPE (Val): 21.64593903753958, 4.65251964397138, 0.4529706947252554, 35.50672723654781\n",
      "RESULTADOS DE MSE, RMSE, R2, MAPE (Test): 17.818562186826437, 4.221203878850965, 0.5564812996535127, 33.48320250970404\n",
      "Populus ciliata Juniperus spp. \n",
      "(1182, 77)\n",
      "SE HA NORMALIZADO EL ARCHIVO: Populus ciliata_merged.csv\n",
      "(705, 4, 43) (156, 4, 43) (265, 4, 43)\n",
      "<LSTM name=lstm_131, built=True> False\n",
      "<LSTM name=lstm_132, built=True> False\n",
      "<LSTM name=lstm_133, built=True> False\n",
      "<Dropout name=dropout_72, built=True> True\n",
      "<LSTM name=lstm_134, built=True> True\n",
      "<Dense name=dense_72, built=True> True\n",
      "<Dropout name=dropout_73, built=True> True\n",
      "<Dense name=dense_73, built=True> True\n",
      "[MODELO CONGELADO]: 5.369783878326416\n"
     ]
    },
    {
     "name": "stderr",
     "output_type": "stream",
     "text": [
      "/home/workstation/Escritorio/PabloC/TransferLearning/funcionesComunes.py:191: FutureWarning: The behavior of DataFrame concatenation with empty or all-NA entries is deprecated. In a future version, this will no longer exclude empty or all-NA columns when determining the result dtypes. To retain the old behavior, exclude the relevant entries before the concat operation.\n",
      "  predictionsDF = pd.concat([predictionsDF, tempDF], ignore_index=True)\n",
      "/home/workstation/Escritorio/PabloC/TransferLearning/funcionesComunes.py:191: FutureWarning: The behavior of DataFrame concatenation with empty or all-NA entries is deprecated. In a future version, this will no longer exclude empty or all-NA columns when determining the result dtypes. To retain the old behavior, exclude the relevant entries before the concat operation.\n",
      "  predictionsDF = pd.concat([predictionsDF, tempDF], ignore_index=True)\n",
      "/home/workstation/Escritorio/PabloC/TransferLearning/funcionesComunes.py:191: FutureWarning: The behavior of DataFrame concatenation with empty or all-NA entries is deprecated. In a future version, this will no longer exclude empty or all-NA columns when determining the result dtypes. To retain the old behavior, exclude the relevant entries before the concat operation.\n",
      "  predictionsDF = pd.concat([predictionsDF, tempDF], ignore_index=True)\n"
     ]
    },
    {
     "name": "stdout",
     "output_type": "stream",
     "text": [
      "RESULTADOS DE MSE, RMSE, R2, MAPE (Train): 208.03411616246478, 14.423387818486502, 0.42720754321142795, 41.274659092926996\n",
      "RESULTADOS DE MSE, RMSE, R2, MAPE (Val): 270.6301083141804, 16.45083913708296, -0.15309929825314805, 50.35239712591098\n",
      "RESULTADOS DE MSE, RMSE, R2, MAPE (Test): 95.6740410122008, 9.781310802351635, 0.5219401919652036, 36.463345435860056\n",
      "Betula utilis Juniperus spp. \n",
      "(3473, 77)\n",
      "SE HA NORMALIZADO EL ARCHIVO: Betula utilis_merged.csv\n",
      "(2059, 4, 43) (665, 4, 43) (593, 4, 43)\n",
      "<LSTM name=lstm_131, built=True> False\n",
      "<LSTM name=lstm_132, built=True> False\n",
      "<LSTM name=lstm_133, built=True> False\n",
      "<Dropout name=dropout_72, built=True> True\n",
      "<LSTM name=lstm_134, built=True> True\n",
      "<Dense name=dense_72, built=True> True\n",
      "<Dropout name=dropout_73, built=True> True\n",
      "<Dense name=dense_73, built=True> True\n",
      "[MODELO CONGELADO]: 22.995959043502808\n"
     ]
    },
    {
     "name": "stderr",
     "output_type": "stream",
     "text": [
      "/home/workstation/Escritorio/PabloC/TransferLearning/funcionesComunes.py:191: FutureWarning: The behavior of DataFrame concatenation with empty or all-NA entries is deprecated. In a future version, this will no longer exclude empty or all-NA columns when determining the result dtypes. To retain the old behavior, exclude the relevant entries before the concat operation.\n",
      "  predictionsDF = pd.concat([predictionsDF, tempDF], ignore_index=True)\n",
      "/home/workstation/Escritorio/PabloC/TransferLearning/funcionesComunes.py:191: FutureWarning: The behavior of DataFrame concatenation with empty or all-NA entries is deprecated. In a future version, this will no longer exclude empty or all-NA columns when determining the result dtypes. To retain the old behavior, exclude the relevant entries before the concat operation.\n",
      "  predictionsDF = pd.concat([predictionsDF, tempDF], ignore_index=True)\n",
      "/home/workstation/Escritorio/PabloC/TransferLearning/funcionesComunes.py:191: FutureWarning: The behavior of DataFrame concatenation with empty or all-NA entries is deprecated. In a future version, this will no longer exclude empty or all-NA columns when determining the result dtypes. To retain the old behavior, exclude the relevant entries before the concat operation.\n",
      "  predictionsDF = pd.concat([predictionsDF, tempDF], ignore_index=True)\n"
     ]
    },
    {
     "name": "stdout",
     "output_type": "stream",
     "text": [
      "RESULTADOS DE MSE, RMSE, R2, MAPE (Train): 5.451230738750961, 2.334787086385172, 0.19526048743224633, 58.73169613967825\n",
      "RESULTADOS DE MSE, RMSE, R2, MAPE (Val): 1.4504660783475412, 1.2043529708302052, 0.24464624508655475, 45.63132679730452\n",
      "RESULTADOS DE MSE, RMSE, R2, MAPE (Test): 1.374253453267894, 1.1722855681393907, 0.4748294651098084, 45.02066442880326\n",
      "Tsuga dumosa Juniperus spp. \n",
      "(20493, 77)\n",
      "SE HA NORMALIZADO EL ARCHIVO: Tsuga dumosa_merged.csv\n",
      "(11935, 4, 43) (4144, 4, 43) (3469, 4, 43)\n",
      "<LSTM name=lstm_131, built=True> False\n",
      "<LSTM name=lstm_132, built=True> False\n",
      "<LSTM name=lstm_133, built=True> False\n",
      "<Dropout name=dropout_72, built=True> True\n",
      "<LSTM name=lstm_134, built=True> True\n",
      "<Dense name=dense_72, built=True> True\n",
      "<Dropout name=dropout_73, built=True> True\n",
      "<Dense name=dense_73, built=True> True\n",
      "[MODELO CONGELADO]: 28.48138952255249\n"
     ]
    },
    {
     "name": "stderr",
     "output_type": "stream",
     "text": [
      "/home/workstation/Escritorio/PabloC/TransferLearning/funcionesComunes.py:191: FutureWarning: The behavior of DataFrame concatenation with empty or all-NA entries is deprecated. In a future version, this will no longer exclude empty or all-NA columns when determining the result dtypes. To retain the old behavior, exclude the relevant entries before the concat operation.\n",
      "  predictionsDF = pd.concat([predictionsDF, tempDF], ignore_index=True)\n",
      "/home/workstation/Escritorio/PabloC/TransferLearning/funcionesComunes.py:191: FutureWarning: The behavior of DataFrame concatenation with empty or all-NA entries is deprecated. In a future version, this will no longer exclude empty or all-NA columns when determining the result dtypes. To retain the old behavior, exclude the relevant entries before the concat operation.\n",
      "  predictionsDF = pd.concat([predictionsDF, tempDF], ignore_index=True)\n",
      "/home/workstation/Escritorio/PabloC/TransferLearning/funcionesComunes.py:191: FutureWarning: The behavior of DataFrame concatenation with empty or all-NA entries is deprecated. In a future version, this will no longer exclude empty or all-NA columns when determining the result dtypes. To retain the old behavior, exclude the relevant entries before the concat operation.\n",
      "  predictionsDF = pd.concat([predictionsDF, tempDF], ignore_index=True)\n"
     ]
    },
    {
     "name": "stdout",
     "output_type": "stream",
     "text": [
      "RESULTADOS DE MSE, RMSE, R2, MAPE (Train): 272.22026845821847, 16.49909901958948, 0.30099523162680164, 47.36656462564898\n",
      "RESULTADOS DE MSE, RMSE, R2, MAPE (Val): 229.35633208396368, 15.144514917420224, 0.2721711394549292, 43.412969689097594\n",
      "RESULTADOS DE MSE, RMSE, R2, MAPE (Test): 412.2618548838374, 20.304232437692328, 0.3270811321876147, 47.735035787777456\n",
      "Cedrus deodara Juniperus spp. \n",
      "(37273, 77)\n",
      "SE HA NORMALIZADO EL ARCHIVO: Cedrus deodara_merged.csv\n",
      "(22017, 4, 43) (7410, 4, 43) (6282, 4, 43)\n",
      "<LSTM name=lstm_131, built=True> False\n",
      "<LSTM name=lstm_132, built=True> False\n",
      "<LSTM name=lstm_133, built=True> False\n",
      "<Dropout name=dropout_72, built=True> True\n",
      "<LSTM name=lstm_134, built=True> True\n",
      "<Dense name=dense_72, built=True> True\n",
      "<Dropout name=dropout_73, built=True> True\n",
      "<Dense name=dense_73, built=True> True\n",
      "[MODELO CONGELADO]: 609.4869401454926\n"
     ]
    },
    {
     "name": "stderr",
     "output_type": "stream",
     "text": [
      "/home/workstation/Escritorio/PabloC/TransferLearning/funcionesComunes.py:191: FutureWarning: The behavior of DataFrame concatenation with empty or all-NA entries is deprecated. In a future version, this will no longer exclude empty or all-NA columns when determining the result dtypes. To retain the old behavior, exclude the relevant entries before the concat operation.\n",
      "  predictionsDF = pd.concat([predictionsDF, tempDF], ignore_index=True)\n",
      "/home/workstation/Escritorio/PabloC/TransferLearning/funcionesComunes.py:191: FutureWarning: The behavior of DataFrame concatenation with empty or all-NA entries is deprecated. In a future version, this will no longer exclude empty or all-NA columns when determining the result dtypes. To retain the old behavior, exclude the relevant entries before the concat operation.\n",
      "  predictionsDF = pd.concat([predictionsDF, tempDF], ignore_index=True)\n",
      "/home/workstation/Escritorio/PabloC/TransferLearning/funcionesComunes.py:191: FutureWarning: The behavior of DataFrame concatenation with empty or all-NA entries is deprecated. In a future version, this will no longer exclude empty or all-NA columns when determining the result dtypes. To retain the old behavior, exclude the relevant entries before the concat operation.\n",
      "  predictionsDF = pd.concat([predictionsDF, tempDF], ignore_index=True)\n"
     ]
    },
    {
     "name": "stdout",
     "output_type": "stream",
     "text": [
      "RESULTADOS DE MSE, RMSE, R2, MAPE (Train): 230.71097949569625, 15.189173101117001, 0.459857530403582, 40.8375364580816\n",
      "RESULTADOS DE MSE, RMSE, R2, MAPE (Val): 287.10516774433313, 16.944177989632106, 0.35646875703998404, 43.8303501786572\n",
      "RESULTADOS DE MSE, RMSE, R2, MAPE (Test): 208.3242454030564, 14.433441911167842, 0.4088883666384121, 40.95656749000845\n",
      "Juniperus spp. L. Juniperus spp. \n",
      "(7264, 77)\n",
      "SE HA NORMALIZADO EL ARCHIVO: Juniperus spp. L._merged.csv\n",
      "(4216, 4, 43) (1524, 4, 43) (1188, 4, 43)\n",
      "<LSTM name=lstm_131, built=True> False\n",
      "<LSTM name=lstm_132, built=True> False\n",
      "<LSTM name=lstm_133, built=True> False\n",
      "<Dropout name=dropout_72, built=True> True\n",
      "<LSTM name=lstm_134, built=True> True\n",
      "<Dense name=dense_72, built=True> True\n",
      "<Dropout name=dropout_73, built=True> True\n",
      "<Dense name=dense_73, built=True> True\n",
      "[MODELO CONGELADO]: 15.51814341545105\n"
     ]
    },
    {
     "name": "stderr",
     "output_type": "stream",
     "text": [
      "/home/workstation/Escritorio/PabloC/TransferLearning/funcionesComunes.py:191: FutureWarning: The behavior of DataFrame concatenation with empty or all-NA entries is deprecated. In a future version, this will no longer exclude empty or all-NA columns when determining the result dtypes. To retain the old behavior, exclude the relevant entries before the concat operation.\n",
      "  predictionsDF = pd.concat([predictionsDF, tempDF], ignore_index=True)\n",
      "/home/workstation/Escritorio/PabloC/TransferLearning/funcionesComunes.py:191: FutureWarning: The behavior of DataFrame concatenation with empty or all-NA entries is deprecated. In a future version, this will no longer exclude empty or all-NA columns when determining the result dtypes. To retain the old behavior, exclude the relevant entries before the concat operation.\n",
      "  predictionsDF = pd.concat([predictionsDF, tempDF], ignore_index=True)\n",
      "/home/workstation/Escritorio/PabloC/TransferLearning/funcionesComunes.py:191: FutureWarning: The behavior of DataFrame concatenation with empty or all-NA entries is deprecated. In a future version, this will no longer exclude empty or all-NA columns when determining the result dtypes. To retain the old behavior, exclude the relevant entries before the concat operation.\n",
      "  predictionsDF = pd.concat([predictionsDF, tempDF], ignore_index=True)\n"
     ]
    },
    {
     "name": "stdout",
     "output_type": "stream",
     "text": [
      "RESULTADOS DE MSE, RMSE, R2, MAPE (Train): 4.651729192065055, 2.156786774826166, 0.6288706636086119, 39.18995820123852\n",
      "RESULTADOS DE MSE, RMSE, R2, MAPE (Val): 1.5948018490216667, 1.262854642871327, 0.2923491516298944, 43.776515762497546\n",
      "RESULTADOS DE MSE, RMSE, R2, MAPE (Test): 15.980838477949145, 3.997604092196868, 0.15700138446671297, 56.43337589794915\n",
      "Juniperus recurva Juniperus spp. \n",
      "(5316, 77)\n",
      "SE HA NORMALIZADO EL ARCHIVO: Juniperus recurva_merged.csv\n",
      "(3188, 4, 43) (1082, 4, 43) (810, 4, 43)\n",
      "<LSTM name=lstm_131, built=True> False\n",
      "<LSTM name=lstm_132, built=True> False\n",
      "<LSTM name=lstm_133, built=True> False\n",
      "<Dropout name=dropout_72, built=True> True\n",
      "<LSTM name=lstm_134, built=True> True\n",
      "<Dense name=dense_72, built=True> True\n",
      "<Dropout name=dropout_73, built=True> True\n",
      "<Dense name=dense_73, built=True> True\n",
      "[MODELO CONGELADO]: 91.80262494087219\n"
     ]
    },
    {
     "name": "stderr",
     "output_type": "stream",
     "text": [
      "/home/workstation/Escritorio/PabloC/TransferLearning/funcionesComunes.py:191: FutureWarning: The behavior of DataFrame concatenation with empty or all-NA entries is deprecated. In a future version, this will no longer exclude empty or all-NA columns when determining the result dtypes. To retain the old behavior, exclude the relevant entries before the concat operation.\n",
      "  predictionsDF = pd.concat([predictionsDF, tempDF], ignore_index=True)\n",
      "/home/workstation/Escritorio/PabloC/TransferLearning/funcionesComunes.py:191: FutureWarning: The behavior of DataFrame concatenation with empty or all-NA entries is deprecated. In a future version, this will no longer exclude empty or all-NA columns when determining the result dtypes. To retain the old behavior, exclude the relevant entries before the concat operation.\n",
      "  predictionsDF = pd.concat([predictionsDF, tempDF], ignore_index=True)\n",
      "/home/workstation/Escritorio/PabloC/TransferLearning/funcionesComunes.py:191: FutureWarning: The behavior of DataFrame concatenation with empty or all-NA entries is deprecated. In a future version, this will no longer exclude empty or all-NA columns when determining the result dtypes. To retain the old behavior, exclude the relevant entries before the concat operation.\n",
      "  predictionsDF = pd.concat([predictionsDF, tempDF], ignore_index=True)\n"
     ]
    },
    {
     "name": "stdout",
     "output_type": "stream",
     "text": [
      "RESULTADOS DE MSE, RMSE, R2, MAPE (Train): 10.141978613486454, 3.1846473295306112, 0.596995271127486, 36.47796484985161\n",
      "RESULTADOS DE MSE, RMSE, R2, MAPE (Val): 7.886969703528174, 2.8083749221797603, 0.7136129585308981, 30.19768926162824\n",
      "RESULTADOS DE MSE, RMSE, R2, MAPE (Test): 2.964106566266804, 1.721658086342002, 0.6848791645730155, 26.803891216824294\n",
      "totalMerged.csv Juniperus spp. \n",
      "Juniperus spp.  Juniperus spp. \n",
      "Procesando el modelo: model_Juniperus recurva.keras\n",
      "Abies spectabilis Juniperus recurva\n",
      "(96429, 77)\n",
      "SE HA NORMALIZADO EL ARCHIVO: Abies spectabilis_merged.csv\n",
      "(56618, 4, 43) (19637, 4, 43) (15689, 4, 43)\n",
      "<LSTM name=lstm_127, built=True> False\n",
      "<LSTM name=lstm_128, built=True> False\n",
      "<Dropout name=dropout_70, built=True> True\n",
      "<LSTM name=lstm_129, built=True> False\n",
      "<LSTM name=lstm_130, built=True> True\n",
      "<Dense name=dense_70, built=True> True\n",
      "<Dropout name=dropout_71, built=True> True\n",
      "<Dense name=dense_71, built=True> True\n",
      "[MODELO CONGELADO]: 1121.2832946777344\n"
     ]
    },
    {
     "name": "stderr",
     "output_type": "stream",
     "text": [
      "/home/workstation/Escritorio/PabloC/TransferLearning/funcionesComunes.py:191: FutureWarning: The behavior of DataFrame concatenation with empty or all-NA entries is deprecated. In a future version, this will no longer exclude empty or all-NA columns when determining the result dtypes. To retain the old behavior, exclude the relevant entries before the concat operation.\n",
      "  predictionsDF = pd.concat([predictionsDF, tempDF], ignore_index=True)\n",
      "/home/workstation/Escritorio/PabloC/TransferLearning/funcionesComunes.py:191: FutureWarning: The behavior of DataFrame concatenation with empty or all-NA entries is deprecated. In a future version, this will no longer exclude empty or all-NA columns when determining the result dtypes. To retain the old behavior, exclude the relevant entries before the concat operation.\n",
      "  predictionsDF = pd.concat([predictionsDF, tempDF], ignore_index=True)\n",
      "/home/workstation/Escritorio/PabloC/TransferLearning/funcionesComunes.py:191: FutureWarning: The behavior of DataFrame concatenation with empty or all-NA entries is deprecated. In a future version, this will no longer exclude empty or all-NA columns when determining the result dtypes. To retain the old behavior, exclude the relevant entries before the concat operation.\n",
      "  predictionsDF = pd.concat([predictionsDF, tempDF], ignore_index=True)\n"
     ]
    },
    {
     "name": "stdout",
     "output_type": "stream",
     "text": [
      "RESULTADOS DE MSE, RMSE, R2, MAPE (Train): 75.79050814217342, 8.705774413696545, 0.33505522065840343, 47.35212525375182\n",
      "RESULTADOS DE MSE, RMSE, R2, MAPE (Val): 75.3621974538185, 8.681140331420664, 0.3133264007301829, 46.89412589197003\n",
      "RESULTADOS DE MSE, RMSE, R2, MAPE (Test): 79.66745735832612, 8.925662852602384, 0.40916574645842985, 46.05876128608251\n",
      "Picea smithiana Juniperus recurva\n",
      "(34476, 77)\n",
      "SE HA NORMALIZADO EL ARCHIVO: Picea smithiana_merged.csv\n",
      "(19933, 4, 43) (7272, 4, 43) (5863, 4, 43)\n",
      "<LSTM name=lstm_127, built=True> False\n",
      "<LSTM name=lstm_128, built=True> False\n",
      "<Dropout name=dropout_70, built=True> True\n",
      "<LSTM name=lstm_129, built=True> False\n",
      "<LSTM name=lstm_130, built=True> True\n",
      "<Dense name=dense_70, built=True> True\n",
      "<Dropout name=dropout_71, built=True> True\n",
      "<Dense name=dense_71, built=True> True\n",
      "[MODELO CONGELADO]: 530.4288763999939\n"
     ]
    },
    {
     "name": "stderr",
     "output_type": "stream",
     "text": [
      "/home/workstation/Escritorio/PabloC/TransferLearning/funcionesComunes.py:191: FutureWarning: The behavior of DataFrame concatenation with empty or all-NA entries is deprecated. In a future version, this will no longer exclude empty or all-NA columns when determining the result dtypes. To retain the old behavior, exclude the relevant entries before the concat operation.\n",
      "  predictionsDF = pd.concat([predictionsDF, tempDF], ignore_index=True)\n",
      "/home/workstation/Escritorio/PabloC/TransferLearning/funcionesComunes.py:191: FutureWarning: The behavior of DataFrame concatenation with empty or all-NA entries is deprecated. In a future version, this will no longer exclude empty or all-NA columns when determining the result dtypes. To retain the old behavior, exclude the relevant entries before the concat operation.\n",
      "  predictionsDF = pd.concat([predictionsDF, tempDF], ignore_index=True)\n",
      "/home/workstation/Escritorio/PabloC/TransferLearning/funcionesComunes.py:191: FutureWarning: The behavior of DataFrame concatenation with empty or all-NA entries is deprecated. In a future version, this will no longer exclude empty or all-NA columns when determining the result dtypes. To retain the old behavior, exclude the relevant entries before the concat operation.\n",
      "  predictionsDF = pd.concat([predictionsDF, tempDF], ignore_index=True)\n"
     ]
    },
    {
     "name": "stdout",
     "output_type": "stream",
     "text": [
      "RESULTADOS DE MSE, RMSE, R2, MAPE (Train): 208.93568122457424, 14.454607612265864, 0.38769857866177193, 42.29702615554191\n",
      "RESULTADOS DE MSE, RMSE, R2, MAPE (Val): 241.1994218966317, 15.530596314907926, 0.3039624642982366, 44.875726540491826\n",
      "RESULTADOS DE MSE, RMSE, R2, MAPE (Test): 212.04874155454172, 14.561893474220367, 0.283920501857154, 45.5805374457143\n",
      "Abies pindrow Juniperus recurva\n",
      "(16018, 77)\n",
      "SE HA NORMALIZADO EL ARCHIVO: Abies pindrow_merged.csv\n",
      "(9042, 4, 43) (3441, 4, 43) (2815, 4, 43)\n",
      "<LSTM name=lstm_127, built=True> False\n",
      "<LSTM name=lstm_128, built=True> False\n",
      "<Dropout name=dropout_70, built=True> True\n",
      "<LSTM name=lstm_129, built=True> False\n",
      "<LSTM name=lstm_130, built=True> True\n",
      "<Dense name=dense_70, built=True> True\n",
      "<Dropout name=dropout_71, built=True> True\n",
      "<Dense name=dense_71, built=True> True\n",
      "[MODELO CONGELADO]: 111.01974940299988\n"
     ]
    },
    {
     "name": "stderr",
     "output_type": "stream",
     "text": [
      "/home/workstation/Escritorio/PabloC/TransferLearning/funcionesComunes.py:191: FutureWarning: The behavior of DataFrame concatenation with empty or all-NA entries is deprecated. In a future version, this will no longer exclude empty or all-NA columns when determining the result dtypes. To retain the old behavior, exclude the relevant entries before the concat operation.\n",
      "  predictionsDF = pd.concat([predictionsDF, tempDF], ignore_index=True)\n",
      "/home/workstation/Escritorio/PabloC/TransferLearning/funcionesComunes.py:191: FutureWarning: The behavior of DataFrame concatenation with empty or all-NA entries is deprecated. In a future version, this will no longer exclude empty or all-NA columns when determining the result dtypes. To retain the old behavior, exclude the relevant entries before the concat operation.\n",
      "  predictionsDF = pd.concat([predictionsDF, tempDF], ignore_index=True)\n",
      "/home/workstation/Escritorio/PabloC/TransferLearning/funcionesComunes.py:191: FutureWarning: The behavior of DataFrame concatenation with empty or all-NA entries is deprecated. In a future version, this will no longer exclude empty or all-NA columns when determining the result dtypes. To retain the old behavior, exclude the relevant entries before the concat operation.\n",
      "  predictionsDF = pd.concat([predictionsDF, tempDF], ignore_index=True)\n"
     ]
    },
    {
     "name": "stdout",
     "output_type": "stream",
     "text": [
      "RESULTADOS DE MSE, RMSE, R2, MAPE (Train): 184.68905921242026, 13.590035291066034, 0.20725555347274738, 46.13698092900436\n",
      "RESULTADOS DE MSE, RMSE, R2, MAPE (Val): 161.72791303589278, 12.717228984173117, 0.07742502909671023, 41.23995348961994\n",
      "RESULTADOS DE MSE, RMSE, R2, MAPE (Test): 301.18721094914827, 17.354746064092907, -1.1293084740056458, 51.64435058124963\n",
      "Juniperus excelsa M.-Bieb Juniperus recurva\n",
      "(7449, 77)\n",
      "SE HA NORMALIZADO EL ARCHIVO: Juniperus excelsa M.-Bieb_merged.csv\n",
      "(4189, 4, 43) (1707, 4, 43) (1228, 4, 43)\n",
      "<LSTM name=lstm_127, built=True> False\n",
      "<LSTM name=lstm_128, built=True> False\n",
      "<Dropout name=dropout_70, built=True> True\n",
      "<LSTM name=lstm_129, built=True> False\n",
      "<LSTM name=lstm_130, built=True> True\n",
      "<Dense name=dense_70, built=True> True\n",
      "<Dropout name=dropout_71, built=True> True\n",
      "<Dense name=dense_71, built=True> True\n",
      "[MODELO CONGELADO]: 37.08271622657776\n"
     ]
    },
    {
     "name": "stderr",
     "output_type": "stream",
     "text": [
      "/home/workstation/Escritorio/PabloC/TransferLearning/funcionesComunes.py:191: FutureWarning: The behavior of DataFrame concatenation with empty or all-NA entries is deprecated. In a future version, this will no longer exclude empty or all-NA columns when determining the result dtypes. To retain the old behavior, exclude the relevant entries before the concat operation.\n",
      "  predictionsDF = pd.concat([predictionsDF, tempDF], ignore_index=True)\n",
      "/home/workstation/Escritorio/PabloC/TransferLearning/funcionesComunes.py:191: FutureWarning: The behavior of DataFrame concatenation with empty or all-NA entries is deprecated. In a future version, this will no longer exclude empty or all-NA columns when determining the result dtypes. To retain the old behavior, exclude the relevant entries before the concat operation.\n",
      "  predictionsDF = pd.concat([predictionsDF, tempDF], ignore_index=True)\n",
      "/home/workstation/Escritorio/PabloC/TransferLearning/funcionesComunes.py:191: FutureWarning: The behavior of DataFrame concatenation with empty or all-NA entries is deprecated. In a future version, this will no longer exclude empty or all-NA columns when determining the result dtypes. To retain the old behavior, exclude the relevant entries before the concat operation.\n",
      "  predictionsDF = pd.concat([predictionsDF, tempDF], ignore_index=True)\n"
     ]
    },
    {
     "name": "stdout",
     "output_type": "stream",
     "text": [
      "RESULTADOS DE MSE, RMSE, R2, MAPE (Train): 20.641037928321932, 4.543240905820638, 0.16098303478932818, 49.710710461119405\n",
      "RESULTADOS DE MSE, RMSE, R2, MAPE (Val): 24.417847160473325, 4.94144180988437, 0.06879495933427571, 57.29870505583985\n",
      "RESULTADOS DE MSE, RMSE, R2, MAPE (Test): 80.14519869825844, 8.952385084336935, -0.188219170752848, 69.88747266364864\n",
      "Juniperus turkestanica Komar. Juniperus recurva\n",
      "(6305, 77)\n",
      "SE HA NORMALIZADO EL ARCHIVO: Juniperus turkestanica Komar._merged.csv\n",
      "(3664, 4, 43) (1368, 4, 43) (1001, 4, 43)\n",
      "<LSTM name=lstm_127, built=True> False\n",
      "<LSTM name=lstm_128, built=True> False\n",
      "<Dropout name=dropout_70, built=True> True\n",
      "<LSTM name=lstm_129, built=True> False\n",
      "<LSTM name=lstm_130, built=True> True\n",
      "<Dense name=dense_70, built=True> True\n",
      "<Dropout name=dropout_71, built=True> True\n",
      "<Dense name=dense_71, built=True> True\n",
      "[MODELO CONGELADO]: 88.82425594329834\n"
     ]
    },
    {
     "name": "stderr",
     "output_type": "stream",
     "text": [
      "/home/workstation/Escritorio/PabloC/TransferLearning/funcionesComunes.py:191: FutureWarning: The behavior of DataFrame concatenation with empty or all-NA entries is deprecated. In a future version, this will no longer exclude empty or all-NA columns when determining the result dtypes. To retain the old behavior, exclude the relevant entries before the concat operation.\n",
      "  predictionsDF = pd.concat([predictionsDF, tempDF], ignore_index=True)\n",
      "/home/workstation/Escritorio/PabloC/TransferLearning/funcionesComunes.py:191: FutureWarning: The behavior of DataFrame concatenation with empty or all-NA entries is deprecated. In a future version, this will no longer exclude empty or all-NA columns when determining the result dtypes. To retain the old behavior, exclude the relevant entries before the concat operation.\n",
      "  predictionsDF = pd.concat([predictionsDF, tempDF], ignore_index=True)\n",
      "/home/workstation/Escritorio/PabloC/TransferLearning/funcionesComunes.py:191: FutureWarning: The behavior of DataFrame concatenation with empty or all-NA entries is deprecated. In a future version, this will no longer exclude empty or all-NA columns when determining the result dtypes. To retain the old behavior, exclude the relevant entries before the concat operation.\n",
      "  predictionsDF = pd.concat([predictionsDF, tempDF], ignore_index=True)\n"
     ]
    },
    {
     "name": "stdout",
     "output_type": "stream",
     "text": [
      "RESULTADOS DE MSE, RMSE, R2, MAPE (Train): 10.721084709801383, 3.274306752551047, 0.7611527169995317, 33.318311967178616\n",
      "RESULTADOS DE MSE, RMSE, R2, MAPE (Val): 9.584752909764312, 3.095925210621909, 0.442620647777932, 42.27888106794353\n",
      "RESULTADOS DE MSE, RMSE, R2, MAPE (Test): 2.986308077542731, 1.728093769892922, 0.45060272338730667, 35.03790610029367\n",
      "Pinus roxburghii Juniperus recurva\n",
      "(10635, 77)\n",
      "SE HA NORMALIZADO EL ARCHIVO: Pinus roxburghii_merged.csv\n",
      "(6309, 4, 43) (2167, 4, 43) (1647, 4, 43)\n",
      "<LSTM name=lstm_127, built=True> False\n",
      "<LSTM name=lstm_128, built=True> False\n",
      "<Dropout name=dropout_70, built=True> True\n",
      "<LSTM name=lstm_129, built=True> False\n",
      "<LSTM name=lstm_130, built=True> True\n",
      "<Dense name=dense_70, built=True> True\n",
      "<Dropout name=dropout_71, built=True> True\n",
      "<Dense name=dense_71, built=True> True\n",
      "[MODELO CONGELADO]: 22.154061317443848\n"
     ]
    },
    {
     "name": "stderr",
     "output_type": "stream",
     "text": [
      "/home/workstation/Escritorio/PabloC/TransferLearning/funcionesComunes.py:191: FutureWarning: The behavior of DataFrame concatenation with empty or all-NA entries is deprecated. In a future version, this will no longer exclude empty or all-NA columns when determining the result dtypes. To retain the old behavior, exclude the relevant entries before the concat operation.\n",
      "  predictionsDF = pd.concat([predictionsDF, tempDF], ignore_index=True)\n",
      "/home/workstation/Escritorio/PabloC/TransferLearning/funcionesComunes.py:191: FutureWarning: The behavior of DataFrame concatenation with empty or all-NA entries is deprecated. In a future version, this will no longer exclude empty or all-NA columns when determining the result dtypes. To retain the old behavior, exclude the relevant entries before the concat operation.\n",
      "  predictionsDF = pd.concat([predictionsDF, tempDF], ignore_index=True)\n",
      "/home/workstation/Escritorio/PabloC/TransferLearning/funcionesComunes.py:191: FutureWarning: The behavior of DataFrame concatenation with empty or all-NA entries is deprecated. In a future version, this will no longer exclude empty or all-NA columns when determining the result dtypes. To retain the old behavior, exclude the relevant entries before the concat operation.\n",
      "  predictionsDF = pd.concat([predictionsDF, tempDF], ignore_index=True)\n"
     ]
    },
    {
     "name": "stdout",
     "output_type": "stream",
     "text": [
      "RESULTADOS DE MSE, RMSE, R2, MAPE (Train): 188.06344249564646, 13.713622515427733, 0.2949435644494438, 44.24143342804523\n",
      "RESULTADOS DE MSE, RMSE, R2, MAPE (Val): 157.26763622964188, 12.540639386795311, 0.29793846582956607, 45.094834896801956\n",
      "RESULTADOS DE MSE, RMSE, R2, MAPE (Test): 166.83601097157543, 12.916501498918947, 0.2999212360802683, 45.00588740248605\n",
      "Pinus wallichiana Juniperus recurva\n",
      "(9365, 77)\n",
      "SE HA NORMALIZADO EL ARCHIVO: Pinus wallichiana_merged.csv\n",
      "(5508, 4, 43) (1957, 4, 43) (1500, 4, 43)\n",
      "<LSTM name=lstm_127, built=True> False\n",
      "<LSTM name=lstm_128, built=True> False\n",
      "<Dropout name=dropout_70, built=True> True\n",
      "<LSTM name=lstm_129, built=True> False\n",
      "<LSTM name=lstm_130, built=True> True\n",
      "<Dense name=dense_70, built=True> True\n",
      "<Dropout name=dropout_71, built=True> True\n",
      "<Dense name=dense_71, built=True> True\n",
      "[MODELO CONGELADO]: 70.84449076652527\n"
     ]
    },
    {
     "name": "stderr",
     "output_type": "stream",
     "text": [
      "/home/workstation/Escritorio/PabloC/TransferLearning/funcionesComunes.py:191: FutureWarning: The behavior of DataFrame concatenation with empty or all-NA entries is deprecated. In a future version, this will no longer exclude empty or all-NA columns when determining the result dtypes. To retain the old behavior, exclude the relevant entries before the concat operation.\n",
      "  predictionsDF = pd.concat([predictionsDF, tempDF], ignore_index=True)\n",
      "/home/workstation/Escritorio/PabloC/TransferLearning/funcionesComunes.py:191: FutureWarning: The behavior of DataFrame concatenation with empty or all-NA entries is deprecated. In a future version, this will no longer exclude empty or all-NA columns when determining the result dtypes. To retain the old behavior, exclude the relevant entries before the concat operation.\n",
      "  predictionsDF = pd.concat([predictionsDF, tempDF], ignore_index=True)\n",
      "/home/workstation/Escritorio/PabloC/TransferLearning/funcionesComunes.py:191: FutureWarning: The behavior of DataFrame concatenation with empty or all-NA entries is deprecated. In a future version, this will no longer exclude empty or all-NA columns when determining the result dtypes. To retain the old behavior, exclude the relevant entries before the concat operation.\n",
      "  predictionsDF = pd.concat([predictionsDF, tempDF], ignore_index=True)\n"
     ]
    },
    {
     "name": "stdout",
     "output_type": "stream",
     "text": [
      "RESULTADOS DE MSE, RMSE, R2, MAPE (Train): 33.585721853532604, 5.795318960465645, 0.5017826188603068, 32.732804653945934\n",
      "RESULTADOS DE MSE, RMSE, R2, MAPE (Val): 27.354467936520702, 5.230149896180864, 0.5424399990688382, 34.984919705441854\n",
      "RESULTADOS DE MSE, RMSE, R2, MAPE (Test): 54.05001998654574, 7.351871869568032, -0.2819106197709822, 47.545650381004755\n",
      "Pinus gerardiana Juniperus recurva\n",
      "(10101, 77)\n",
      "SE HA NORMALIZADO EL ARCHIVO: Pinus gerardiana_merged.csv\n",
      "(5767, 4, 43) (2181, 4, 43) (1745, 4, 43)\n",
      "<LSTM name=lstm_127, built=True> False\n",
      "<LSTM name=lstm_128, built=True> False\n",
      "<Dropout name=dropout_70, built=True> True\n",
      "<LSTM name=lstm_129, built=True> False\n",
      "<LSTM name=lstm_130, built=True> True\n",
      "<Dense name=dense_70, built=True> True\n",
      "<Dropout name=dropout_71, built=True> True\n",
      "<Dense name=dense_71, built=True> True\n",
      "[MODELO CONGELADO]: 27.326016664505005\n"
     ]
    },
    {
     "name": "stderr",
     "output_type": "stream",
     "text": [
      "/home/workstation/Escritorio/PabloC/TransferLearning/funcionesComunes.py:191: FutureWarning: The behavior of DataFrame concatenation with empty or all-NA entries is deprecated. In a future version, this will no longer exclude empty or all-NA columns when determining the result dtypes. To retain the old behavior, exclude the relevant entries before the concat operation.\n",
      "  predictionsDF = pd.concat([predictionsDF, tempDF], ignore_index=True)\n",
      "/home/workstation/Escritorio/PabloC/TransferLearning/funcionesComunes.py:191: FutureWarning: The behavior of DataFrame concatenation with empty or all-NA entries is deprecated. In a future version, this will no longer exclude empty or all-NA columns when determining the result dtypes. To retain the old behavior, exclude the relevant entries before the concat operation.\n",
      "  predictionsDF = pd.concat([predictionsDF, tempDF], ignore_index=True)\n",
      "/home/workstation/Escritorio/PabloC/TransferLearning/funcionesComunes.py:191: FutureWarning: The behavior of DataFrame concatenation with empty or all-NA entries is deprecated. In a future version, this will no longer exclude empty or all-NA columns when determining the result dtypes. To retain the old behavior, exclude the relevant entries before the concat operation.\n",
      "  predictionsDF = pd.concat([predictionsDF, tempDF], ignore_index=True)\n"
     ]
    },
    {
     "name": "stdout",
     "output_type": "stream",
     "text": [
      "RESULTADOS DE MSE, RMSE, R2, MAPE (Train): 20.93451635947552, 4.57542526542348, 0.46068865560402383, 36.85143178305269\n",
      "RESULTADOS DE MSE, RMSE, R2, MAPE (Val): 22.49493173719658, 4.742882218355899, 0.43151522051961944, 36.15457616683403\n",
      "RESULTADOS DE MSE, RMSE, R2, MAPE (Test): 18.972189480102042, 4.355707689928474, 0.5277665654099097, 34.92406638585568\n",
      "Populus ciliata Juniperus recurva\n",
      "(1182, 77)\n",
      "SE HA NORMALIZADO EL ARCHIVO: Populus ciliata_merged.csv\n",
      "(705, 4, 43) (156, 4, 43) (265, 4, 43)\n",
      "<LSTM name=lstm_127, built=True> False\n",
      "<LSTM name=lstm_128, built=True> False\n",
      "<Dropout name=dropout_70, built=True> True\n",
      "<LSTM name=lstm_129, built=True> False\n",
      "<LSTM name=lstm_130, built=True> True\n",
      "<Dense name=dense_70, built=True> True\n",
      "<Dropout name=dropout_71, built=True> True\n",
      "<Dense name=dense_71, built=True> True\n",
      "[MODELO CONGELADO]: 5.4851813316345215\n"
     ]
    },
    {
     "name": "stderr",
     "output_type": "stream",
     "text": [
      "/home/workstation/Escritorio/PabloC/TransferLearning/funcionesComunes.py:191: FutureWarning: The behavior of DataFrame concatenation with empty or all-NA entries is deprecated. In a future version, this will no longer exclude empty or all-NA columns when determining the result dtypes. To retain the old behavior, exclude the relevant entries before the concat operation.\n",
      "  predictionsDF = pd.concat([predictionsDF, tempDF], ignore_index=True)\n",
      "/home/workstation/Escritorio/PabloC/TransferLearning/funcionesComunes.py:191: FutureWarning: The behavior of DataFrame concatenation with empty or all-NA entries is deprecated. In a future version, this will no longer exclude empty or all-NA columns when determining the result dtypes. To retain the old behavior, exclude the relevant entries before the concat operation.\n",
      "  predictionsDF = pd.concat([predictionsDF, tempDF], ignore_index=True)\n",
      "/home/workstation/Escritorio/PabloC/TransferLearning/funcionesComunes.py:191: FutureWarning: The behavior of DataFrame concatenation with empty or all-NA entries is deprecated. In a future version, this will no longer exclude empty or all-NA columns when determining the result dtypes. To retain the old behavior, exclude the relevant entries before the concat operation.\n",
      "  predictionsDF = pd.concat([predictionsDF, tempDF], ignore_index=True)\n"
     ]
    },
    {
     "name": "stdout",
     "output_type": "stream",
     "text": [
      "RESULTADOS DE MSE, RMSE, R2, MAPE (Train): 205.70151489122955, 14.342298103554729, 0.4336300302414666, 39.85047369079634\n",
      "RESULTADOS DE MSE, RMSE, R2, MAPE (Val): 233.06977277310182, 15.266622834572871, 0.006937575782648531, 47.97556380943053\n",
      "RESULTADOS DE MSE, RMSE, R2, MAPE (Test): 96.82819496132957, 9.84013185690769, 0.5161731666621463, 35.46333940554377\n",
      "Betula utilis Juniperus recurva\n",
      "(3473, 77)\n",
      "SE HA NORMALIZADO EL ARCHIVO: Betula utilis_merged.csv\n",
      "(2059, 4, 43) (665, 4, 43) (593, 4, 43)\n",
      "<LSTM name=lstm_127, built=True> False\n",
      "<LSTM name=lstm_128, built=True> False\n",
      "<Dropout name=dropout_70, built=True> True\n",
      "<LSTM name=lstm_129, built=True> False\n",
      "<LSTM name=lstm_130, built=True> True\n",
      "<Dense name=dense_70, built=True> True\n",
      "<Dropout name=dropout_71, built=True> True\n",
      "<Dense name=dense_71, built=True> True\n",
      "[MODELO CONGELADO]: 6.5762152671813965\n"
     ]
    },
    {
     "name": "stderr",
     "output_type": "stream",
     "text": [
      "/home/workstation/Escritorio/PabloC/TransferLearning/funcionesComunes.py:191: FutureWarning: The behavior of DataFrame concatenation with empty or all-NA entries is deprecated. In a future version, this will no longer exclude empty or all-NA columns when determining the result dtypes. To retain the old behavior, exclude the relevant entries before the concat operation.\n",
      "  predictionsDF = pd.concat([predictionsDF, tempDF], ignore_index=True)\n",
      "/home/workstation/Escritorio/PabloC/TransferLearning/funcionesComunes.py:191: FutureWarning: The behavior of DataFrame concatenation with empty or all-NA entries is deprecated. In a future version, this will no longer exclude empty or all-NA columns when determining the result dtypes. To retain the old behavior, exclude the relevant entries before the concat operation.\n",
      "  predictionsDF = pd.concat([predictionsDF, tempDF], ignore_index=True)\n",
      "/home/workstation/Escritorio/PabloC/TransferLearning/funcionesComunes.py:191: FutureWarning: The behavior of DataFrame concatenation with empty or all-NA entries is deprecated. In a future version, this will no longer exclude empty or all-NA columns when determining the result dtypes. To retain the old behavior, exclude the relevant entries before the concat operation.\n",
      "  predictionsDF = pd.concat([predictionsDF, tempDF], ignore_index=True)\n"
     ]
    },
    {
     "name": "stdout",
     "output_type": "stream",
     "text": [
      "RESULTADOS DE MSE, RMSE, R2, MAPE (Train): 5.388815208793991, 2.3213821763755296, 0.20447459807283508, 57.99958487490605\n",
      "RESULTADOS DE MSE, RMSE, R2, MAPE (Val): 1.5281911512980026, 1.2362002876953244, 0.20416965167946288, 46.210318654388416\n",
      "RESULTADOS DE MSE, RMSE, R2, MAPE (Test): 1.4297923608148155, 1.1957392528535706, 0.45360528865656724, 45.47517029929982\n",
      "Tsuga dumosa Juniperus recurva\n",
      "(20493, 77)\n",
      "SE HA NORMALIZADO EL ARCHIVO: Tsuga dumosa_merged.csv\n",
      "(11935, 4, 43) (4144, 4, 43) (3469, 4, 43)\n",
      "<LSTM name=lstm_127, built=True> False\n",
      "<LSTM name=lstm_128, built=True> False\n",
      "<Dropout name=dropout_70, built=True> True\n",
      "<LSTM name=lstm_129, built=True> False\n",
      "<LSTM name=lstm_130, built=True> True\n",
      "<Dense name=dense_70, built=True> True\n",
      "<Dropout name=dropout_71, built=True> True\n",
      "<Dense name=dense_71, built=True> True\n",
      "[MODELO CONGELADO]: 255.36613202095032\n"
     ]
    },
    {
     "name": "stderr",
     "output_type": "stream",
     "text": [
      "/home/workstation/Escritorio/PabloC/TransferLearning/funcionesComunes.py:191: FutureWarning: The behavior of DataFrame concatenation with empty or all-NA entries is deprecated. In a future version, this will no longer exclude empty or all-NA columns when determining the result dtypes. To retain the old behavior, exclude the relevant entries before the concat operation.\n",
      "  predictionsDF = pd.concat([predictionsDF, tempDF], ignore_index=True)\n",
      "/home/workstation/Escritorio/PabloC/TransferLearning/funcionesComunes.py:191: FutureWarning: The behavior of DataFrame concatenation with empty or all-NA entries is deprecated. In a future version, this will no longer exclude empty or all-NA columns when determining the result dtypes. To retain the old behavior, exclude the relevant entries before the concat operation.\n",
      "  predictionsDF = pd.concat([predictionsDF, tempDF], ignore_index=True)\n",
      "/home/workstation/Escritorio/PabloC/TransferLearning/funcionesComunes.py:191: FutureWarning: The behavior of DataFrame concatenation with empty or all-NA entries is deprecated. In a future version, this will no longer exclude empty or all-NA columns when determining the result dtypes. To retain the old behavior, exclude the relevant entries before the concat operation.\n",
      "  predictionsDF = pd.concat([predictionsDF, tempDF], ignore_index=True)\n"
     ]
    },
    {
     "name": "stdout",
     "output_type": "stream",
     "text": [
      "RESULTADOS DE MSE, RMSE, R2, MAPE (Train): 259.5044874084318, 16.109142975603383, 0.333646700372064, 45.87694680514636\n",
      "RESULTADOS DE MSE, RMSE, R2, MAPE (Val): 220.7425743033637, 14.857408061413798, 0.2995056431658196, 41.923758761513625\n",
      "RESULTADOS DE MSE, RMSE, R2, MAPE (Test): 399.9483590247143, 19.99870893394657, 0.3471799688715672, 46.73951242394951\n",
      "Cedrus deodara Juniperus recurva\n",
      "(37273, 77)\n",
      "SE HA NORMALIZADO EL ARCHIVO: Cedrus deodara_merged.csv\n",
      "(22017, 4, 43) (7410, 4, 43) (6282, 4, 43)\n",
      "<LSTM name=lstm_127, built=True> False\n",
      "<LSTM name=lstm_128, built=True> False\n",
      "<Dropout name=dropout_70, built=True> True\n",
      "<LSTM name=lstm_129, built=True> False\n",
      "<LSTM name=lstm_130, built=True> True\n",
      "<Dense name=dense_70, built=True> True\n",
      "<Dropout name=dropout_71, built=True> True\n",
      "<Dense name=dense_71, built=True> True\n",
      "[MODELO CONGELADO]: 745.9660301208496\n"
     ]
    },
    {
     "name": "stderr",
     "output_type": "stream",
     "text": [
      "/home/workstation/Escritorio/PabloC/TransferLearning/funcionesComunes.py:191: FutureWarning: The behavior of DataFrame concatenation with empty or all-NA entries is deprecated. In a future version, this will no longer exclude empty or all-NA columns when determining the result dtypes. To retain the old behavior, exclude the relevant entries before the concat operation.\n",
      "  predictionsDF = pd.concat([predictionsDF, tempDF], ignore_index=True)\n",
      "/home/workstation/Escritorio/PabloC/TransferLearning/funcionesComunes.py:191: FutureWarning: The behavior of DataFrame concatenation with empty or all-NA entries is deprecated. In a future version, this will no longer exclude empty or all-NA columns when determining the result dtypes. To retain the old behavior, exclude the relevant entries before the concat operation.\n",
      "  predictionsDF = pd.concat([predictionsDF, tempDF], ignore_index=True)\n",
      "/home/workstation/Escritorio/PabloC/TransferLearning/funcionesComunes.py:191: FutureWarning: The behavior of DataFrame concatenation with empty or all-NA entries is deprecated. In a future version, this will no longer exclude empty or all-NA columns when determining the result dtypes. To retain the old behavior, exclude the relevant entries before the concat operation.\n",
      "  predictionsDF = pd.concat([predictionsDF, tempDF], ignore_index=True)\n"
     ]
    },
    {
     "name": "stdout",
     "output_type": "stream",
     "text": [
      "RESULTADOS DE MSE, RMSE, R2, MAPE (Train): 231.38470269299503, 15.211334678225807, 0.4582802040344217, 40.898001621922845\n",
      "RESULTADOS DE MSE, RMSE, R2, MAPE (Val): 288.78649654595404, 16.993719326443934, 0.35270014631788416, 43.94398015219971\n",
      "RESULTADOS DE MSE, RMSE, R2, MAPE (Test): 211.3294478978097, 14.537174687600396, 0.4003612259216942, 41.13836444093603\n",
      "Juniperus spp. L. Juniperus recurva\n",
      "(7264, 77)\n",
      "SE HA NORMALIZADO EL ARCHIVO: Juniperus spp. L._merged.csv\n",
      "(4216, 4, 43) (1524, 4, 43) (1188, 4, 43)\n",
      "<LSTM name=lstm_127, built=True> False\n",
      "<LSTM name=lstm_128, built=True> False\n",
      "<Dropout name=dropout_70, built=True> True\n",
      "<LSTM name=lstm_129, built=True> False\n",
      "<LSTM name=lstm_130, built=True> True\n",
      "<Dense name=dense_70, built=True> True\n",
      "<Dropout name=dropout_71, built=True> True\n",
      "<Dense name=dense_71, built=True> True\n",
      "[MODELO CONGELADO]: 14.074636459350586\n"
     ]
    },
    {
     "name": "stderr",
     "output_type": "stream",
     "text": [
      "/home/workstation/Escritorio/PabloC/TransferLearning/funcionesComunes.py:191: FutureWarning: The behavior of DataFrame concatenation with empty or all-NA entries is deprecated. In a future version, this will no longer exclude empty or all-NA columns when determining the result dtypes. To retain the old behavior, exclude the relevant entries before the concat operation.\n",
      "  predictionsDF = pd.concat([predictionsDF, tempDF], ignore_index=True)\n",
      "/home/workstation/Escritorio/PabloC/TransferLearning/funcionesComunes.py:191: FutureWarning: The behavior of DataFrame concatenation with empty or all-NA entries is deprecated. In a future version, this will no longer exclude empty or all-NA columns when determining the result dtypes. To retain the old behavior, exclude the relevant entries before the concat operation.\n",
      "  predictionsDF = pd.concat([predictionsDF, tempDF], ignore_index=True)\n",
      "/home/workstation/Escritorio/PabloC/TransferLearning/funcionesComunes.py:191: FutureWarning: The behavior of DataFrame concatenation with empty or all-NA entries is deprecated. In a future version, this will no longer exclude empty or all-NA columns when determining the result dtypes. To retain the old behavior, exclude the relevant entries before the concat operation.\n",
      "  predictionsDF = pd.concat([predictionsDF, tempDF], ignore_index=True)\n"
     ]
    },
    {
     "name": "stdout",
     "output_type": "stream",
     "text": [
      "RESULTADOS DE MSE, RMSE, R2, MAPE (Train): 4.607516152343877, 2.146512555831872, 0.6323981166081454, 39.51013424159106\n",
      "RESULTADOS DE MSE, RMSE, R2, MAPE (Val): 1.5131873166837093, 1.2301167898552192, 0.328563426828857, 42.762692333839155\n",
      "RESULTADOS DE MSE, RMSE, R2, MAPE (Test): 13.334541547768454, 3.651649154528465, 0.29659510174947457, 53.535354518324255\n",
      "Juniperus recurva Juniperus recurva\n",
      "totalMerged.csv Juniperus recurva\n",
      "Juniperus spp.  Juniperus recurva\n",
      "(17976, 77)\n",
      "SE HA NORMALIZADO EL ARCHIVO: Juniperus spp. _merged.csv\n",
      "(10218, 4, 43) (3900, 4, 43) (3018, 4, 43)\n",
      "<LSTM name=lstm_127, built=True> False\n",
      "<LSTM name=lstm_128, built=True> False\n",
      "<Dropout name=dropout_70, built=True> True\n",
      "<LSTM name=lstm_129, built=True> False\n",
      "<LSTM name=lstm_130, built=True> True\n",
      "<Dense name=dense_70, built=True> True\n",
      "<Dropout name=dropout_71, built=True> True\n",
      "<Dense name=dense_71, built=True> True\n",
      "[MODELO CONGELADO]: 39.64025354385376\n"
     ]
    },
    {
     "name": "stderr",
     "output_type": "stream",
     "text": [
      "/home/workstation/Escritorio/PabloC/TransferLearning/funcionesComunes.py:191: FutureWarning: The behavior of DataFrame concatenation with empty or all-NA entries is deprecated. In a future version, this will no longer exclude empty or all-NA columns when determining the result dtypes. To retain the old behavior, exclude the relevant entries before the concat operation.\n",
      "  predictionsDF = pd.concat([predictionsDF, tempDF], ignore_index=True)\n",
      "/home/workstation/Escritorio/PabloC/TransferLearning/funcionesComunes.py:191: FutureWarning: The behavior of DataFrame concatenation with empty or all-NA entries is deprecated. In a future version, this will no longer exclude empty or all-NA columns when determining the result dtypes. To retain the old behavior, exclude the relevant entries before the concat operation.\n",
      "  predictionsDF = pd.concat([predictionsDF, tempDF], ignore_index=True)\n",
      "/home/workstation/Escritorio/PabloC/TransferLearning/funcionesComunes.py:191: FutureWarning: The behavior of DataFrame concatenation with empty or all-NA entries is deprecated. In a future version, this will no longer exclude empty or all-NA columns when determining the result dtypes. To retain the old behavior, exclude the relevant entries before the concat operation.\n",
      "  predictionsDF = pd.concat([predictionsDF, tempDF], ignore_index=True)\n"
     ]
    },
    {
     "name": "stdout",
     "output_type": "stream",
     "text": [
      "RESULTADOS DE MSE, RMSE, R2, MAPE (Train): 35.50517634355558, 5.958622017174406, 0.4209349004491877, 43.07211345577777\n",
      "RESULTADOS DE MSE, RMSE, R2, MAPE (Val): 10.044621677356094, 3.169325113861955, 0.48941417816189514, 43.319900613217435\n",
      "RESULTADOS DE MSE, RMSE, R2, MAPE (Test): 54.81163551646467, 7.403488064180604, 0.4754682834053292, 44.024491473901556\n",
      "Procesando el modelo: model_Populus ciliata.keras\n",
      "Abies spectabilis Populus ciliata\n",
      "(96429, 77)\n",
      "SE HA NORMALIZADO EL ARCHIVO: Abies spectabilis_merged.csv\n",
      "(56618, 4, 43) (19637, 4, 43) (15689, 4, 43)\n",
      "<LSTM name=lstm_108, built=True> False\n",
      "<LSTM name=lstm_109, built=True> False\n",
      "<LSTM name=lstm_110, built=True> False\n",
      "<Dropout name=dropout_60, built=True> True\n",
      "<LSTM name=lstm_111, built=True> False\n",
      "<LSTM name=lstm_112, built=True> True\n",
      "<Dense name=dense_60, built=True> True\n",
      "<Dropout name=dropout_61, built=True> True\n",
      "<Dense name=dense_61, built=True> True\n",
      "[MODELO CONGELADO]: 951.210310459137\n"
     ]
    },
    {
     "name": "stderr",
     "output_type": "stream",
     "text": [
      "/home/workstation/Escritorio/PabloC/TransferLearning/funcionesComunes.py:191: FutureWarning: The behavior of DataFrame concatenation with empty or all-NA entries is deprecated. In a future version, this will no longer exclude empty or all-NA columns when determining the result dtypes. To retain the old behavior, exclude the relevant entries before the concat operation.\n",
      "  predictionsDF = pd.concat([predictionsDF, tempDF], ignore_index=True)\n",
      "/home/workstation/Escritorio/PabloC/TransferLearning/funcionesComunes.py:191: FutureWarning: The behavior of DataFrame concatenation with empty or all-NA entries is deprecated. In a future version, this will no longer exclude empty or all-NA columns when determining the result dtypes. To retain the old behavior, exclude the relevant entries before the concat operation.\n",
      "  predictionsDF = pd.concat([predictionsDF, tempDF], ignore_index=True)\n",
      "/home/workstation/Escritorio/PabloC/TransferLearning/funcionesComunes.py:191: FutureWarning: The behavior of DataFrame concatenation with empty or all-NA entries is deprecated. In a future version, this will no longer exclude empty or all-NA columns when determining the result dtypes. To retain the old behavior, exclude the relevant entries before the concat operation.\n",
      "  predictionsDF = pd.concat([predictionsDF, tempDF], ignore_index=True)\n"
     ]
    },
    {
     "name": "stdout",
     "output_type": "stream",
     "text": [
      "RESULTADOS DE MSE, RMSE, R2, MAPE (Train): 80.32948340899736, 8.962671666919265, 0.2952327154236648, 48.67974062977856\n",
      "RESULTADOS DE MSE, RMSE, R2, MAPE (Val): 76.29374633827443, 8.734629147151837, 0.3048384578755824, 47.85607477530834\n",
      "RESULTADOS DE MSE, RMSE, R2, MAPE (Test): 84.41193704811789, 9.187596913672143, 0.3739794707956695, 47.42806880391243\n",
      "Picea smithiana Populus ciliata\n",
      "(34476, 77)\n",
      "SE HA NORMALIZADO EL ARCHIVO: Picea smithiana_merged.csv\n",
      "(19933, 4, 43) (7272, 4, 43) (5863, 4, 43)\n",
      "<LSTM name=lstm_108, built=True> False\n",
      "<LSTM name=lstm_109, built=True> False\n",
      "<LSTM name=lstm_110, built=True> False\n",
      "<Dropout name=dropout_60, built=True> True\n",
      "<LSTM name=lstm_111, built=True> False\n",
      "<LSTM name=lstm_112, built=True> True\n",
      "<Dense name=dense_60, built=True> True\n",
      "<Dropout name=dropout_61, built=True> True\n",
      "<Dense name=dense_61, built=True> True\n",
      "[MODELO CONGELADO]: 459.0731556415558\n"
     ]
    },
    {
     "name": "stderr",
     "output_type": "stream",
     "text": [
      "/home/workstation/Escritorio/PabloC/TransferLearning/funcionesComunes.py:191: FutureWarning: The behavior of DataFrame concatenation with empty or all-NA entries is deprecated. In a future version, this will no longer exclude empty or all-NA columns when determining the result dtypes. To retain the old behavior, exclude the relevant entries before the concat operation.\n",
      "  predictionsDF = pd.concat([predictionsDF, tempDF], ignore_index=True)\n",
      "/home/workstation/Escritorio/PabloC/TransferLearning/funcionesComunes.py:191: FutureWarning: The behavior of DataFrame concatenation with empty or all-NA entries is deprecated. In a future version, this will no longer exclude empty or all-NA columns when determining the result dtypes. To retain the old behavior, exclude the relevant entries before the concat operation.\n",
      "  predictionsDF = pd.concat([predictionsDF, tempDF], ignore_index=True)\n",
      "/home/workstation/Escritorio/PabloC/TransferLearning/funcionesComunes.py:191: FutureWarning: The behavior of DataFrame concatenation with empty or all-NA entries is deprecated. In a future version, this will no longer exclude empty or all-NA columns when determining the result dtypes. To retain the old behavior, exclude the relevant entries before the concat operation.\n",
      "  predictionsDF = pd.concat([predictionsDF, tempDF], ignore_index=True)\n"
     ]
    },
    {
     "name": "stdout",
     "output_type": "stream",
     "text": [
      "RESULTADOS DE MSE, RMSE, R2, MAPE (Train): 217.179914573263, 14.73702529594297, 0.3635382448802942, 42.93522191491938\n",
      "RESULTADOS DE MSE, RMSE, R2, MAPE (Val): 250.5149290098072, 15.82766340967002, 0.2770803823932241, 45.573352557666816\n",
      "RESULTADOS DE MSE, RMSE, R2, MAPE (Test): 212.35128574039683, 14.572277987342845, 0.28289882312808, 45.90465814430978\n",
      "Abies pindrow Populus ciliata\n",
      "(16018, 77)\n",
      "SE HA NORMALIZADO EL ARCHIVO: Abies pindrow_merged.csv\n",
      "(9042, 4, 43) (3441, 4, 43) (2815, 4, 43)\n",
      "<LSTM name=lstm_108, built=True> False\n",
      "<LSTM name=lstm_109, built=True> False\n",
      "<LSTM name=lstm_110, built=True> False\n",
      "<Dropout name=dropout_60, built=True> True\n",
      "<LSTM name=lstm_111, built=True> False\n",
      "<LSTM name=lstm_112, built=True> True\n",
      "<Dense name=dense_60, built=True> True\n",
      "<Dropout name=dropout_61, built=True> True\n",
      "<Dense name=dense_61, built=True> True\n",
      "[MODELO CONGELADO]: 190.81912684440613\n"
     ]
    },
    {
     "name": "stderr",
     "output_type": "stream",
     "text": [
      "/home/workstation/Escritorio/PabloC/TransferLearning/funcionesComunes.py:191: FutureWarning: The behavior of DataFrame concatenation with empty or all-NA entries is deprecated. In a future version, this will no longer exclude empty or all-NA columns when determining the result dtypes. To retain the old behavior, exclude the relevant entries before the concat operation.\n",
      "  predictionsDF = pd.concat([predictionsDF, tempDF], ignore_index=True)\n",
      "/home/workstation/Escritorio/PabloC/TransferLearning/funcionesComunes.py:191: FutureWarning: The behavior of DataFrame concatenation with empty or all-NA entries is deprecated. In a future version, this will no longer exclude empty or all-NA columns when determining the result dtypes. To retain the old behavior, exclude the relevant entries before the concat operation.\n",
      "  predictionsDF = pd.concat([predictionsDF, tempDF], ignore_index=True)\n",
      "/home/workstation/Escritorio/PabloC/TransferLearning/funcionesComunes.py:191: FutureWarning: The behavior of DataFrame concatenation with empty or all-NA entries is deprecated. In a future version, this will no longer exclude empty or all-NA columns when determining the result dtypes. To retain the old behavior, exclude the relevant entries before the concat operation.\n",
      "  predictionsDF = pd.concat([predictionsDF, tempDF], ignore_index=True)\n"
     ]
    },
    {
     "name": "stdout",
     "output_type": "stream",
     "text": [
      "RESULTADOS DE MSE, RMSE, R2, MAPE (Train): 184.33107516423988, 13.576858074099466, 0.2087921353761396, 45.94616349128762\n",
      "RESULTADOS DE MSE, RMSE, R2, MAPE (Val): 156.97452862657155, 12.528947626459756, 0.10454065435150728, 41.13175643427538\n",
      "RESULTADOS DE MSE, RMSE, R2, MAPE (Test): 289.81572230423757, 17.023974926680243, -1.0489152625629612, 51.40674847341889\n",
      "Juniperus excelsa M.-Bieb Populus ciliata\n",
      "(7449, 77)\n",
      "SE HA NORMALIZADO EL ARCHIVO: Juniperus excelsa M.-Bieb_merged.csv\n",
      "(4189, 4, 43) (1707, 4, 43) (1228, 4, 43)\n",
      "<LSTM name=lstm_108, built=True> False\n",
      "<LSTM name=lstm_109, built=True> False\n",
      "<LSTM name=lstm_110, built=True> False\n",
      "<Dropout name=dropout_60, built=True> True\n",
      "<LSTM name=lstm_111, built=True> False\n",
      "<LSTM name=lstm_112, built=True> True\n",
      "<Dense name=dense_60, built=True> True\n",
      "<Dropout name=dropout_61, built=True> True\n",
      "<Dense name=dense_61, built=True> True\n",
      "[MODELO CONGELADO]: 120.63390612602234\n"
     ]
    },
    {
     "name": "stderr",
     "output_type": "stream",
     "text": [
      "/home/workstation/Escritorio/PabloC/TransferLearning/funcionesComunes.py:191: FutureWarning: The behavior of DataFrame concatenation with empty or all-NA entries is deprecated. In a future version, this will no longer exclude empty or all-NA columns when determining the result dtypes. To retain the old behavior, exclude the relevant entries before the concat operation.\n",
      "  predictionsDF = pd.concat([predictionsDF, tempDF], ignore_index=True)\n",
      "/home/workstation/Escritorio/PabloC/TransferLearning/funcionesComunes.py:191: FutureWarning: The behavior of DataFrame concatenation with empty or all-NA entries is deprecated. In a future version, this will no longer exclude empty or all-NA columns when determining the result dtypes. To retain the old behavior, exclude the relevant entries before the concat operation.\n",
      "  predictionsDF = pd.concat([predictionsDF, tempDF], ignore_index=True)\n",
      "/home/workstation/Escritorio/PabloC/TransferLearning/funcionesComunes.py:191: FutureWarning: The behavior of DataFrame concatenation with empty or all-NA entries is deprecated. In a future version, this will no longer exclude empty or all-NA columns when determining the result dtypes. To retain the old behavior, exclude the relevant entries before the concat operation.\n",
      "  predictionsDF = pd.concat([predictionsDF, tempDF], ignore_index=True)\n"
     ]
    },
    {
     "name": "stdout",
     "output_type": "stream",
     "text": [
      "RESULTADOS DE MSE, RMSE, R2, MAPE (Train): 20.96547174549753, 4.578806803687783, 0.1477954481164271, 50.30141077828746\n",
      "RESULTADOS DE MSE, RMSE, R2, MAPE (Val): 24.949990302905405, 4.99499652681615, 0.0485010172298872, 58.25223087726749\n",
      "RESULTADOS DE MSE, RMSE, R2, MAPE (Test): 85.19229729879258, 9.2299673509061, -0.26304660160635507, 71.0255248458274\n",
      "Juniperus turkestanica Komar. Populus ciliata\n",
      "(6305, 77)\n",
      "SE HA NORMALIZADO EL ARCHIVO: Juniperus turkestanica Komar._merged.csv\n",
      "(3664, 4, 43) (1368, 4, 43) (1001, 4, 43)\n",
      "<LSTM name=lstm_108, built=True> False\n",
      "<LSTM name=lstm_109, built=True> False\n",
      "<LSTM name=lstm_110, built=True> False\n",
      "<Dropout name=dropout_60, built=True> True\n",
      "<LSTM name=lstm_111, built=True> False\n",
      "<LSTM name=lstm_112, built=True> True\n",
      "<Dense name=dense_60, built=True> True\n",
      "<Dropout name=dropout_61, built=True> True\n",
      "<Dense name=dense_61, built=True> True\n",
      "[MODELO CONGELADO]: 13.626922369003296\n"
     ]
    },
    {
     "name": "stderr",
     "output_type": "stream",
     "text": [
      "/home/workstation/Escritorio/PabloC/TransferLearning/funcionesComunes.py:191: FutureWarning: The behavior of DataFrame concatenation with empty or all-NA entries is deprecated. In a future version, this will no longer exclude empty or all-NA columns when determining the result dtypes. To retain the old behavior, exclude the relevant entries before the concat operation.\n",
      "  predictionsDF = pd.concat([predictionsDF, tempDF], ignore_index=True)\n",
      "/home/workstation/Escritorio/PabloC/TransferLearning/funcionesComunes.py:191: FutureWarning: The behavior of DataFrame concatenation with empty or all-NA entries is deprecated. In a future version, this will no longer exclude empty or all-NA columns when determining the result dtypes. To retain the old behavior, exclude the relevant entries before the concat operation.\n",
      "  predictionsDF = pd.concat([predictionsDF, tempDF], ignore_index=True)\n",
      "/home/workstation/Escritorio/PabloC/TransferLearning/funcionesComunes.py:191: FutureWarning: The behavior of DataFrame concatenation with empty or all-NA entries is deprecated. In a future version, this will no longer exclude empty or all-NA columns when determining the result dtypes. To retain the old behavior, exclude the relevant entries before the concat operation.\n",
      "  predictionsDF = pd.concat([predictionsDF, tempDF], ignore_index=True)\n"
     ]
    },
    {
     "name": "stdout",
     "output_type": "stream",
     "text": [
      "RESULTADOS DE MSE, RMSE, R2, MAPE (Train): 11.287591091487554, 3.3597010419809012, 0.7485319315351218, 34.41272694114235\n",
      "RESULTADOS DE MSE, RMSE, R2, MAPE (Val): 9.355036034274157, 3.0586003390888057, 0.45597930652068797, 42.28860333656288\n",
      "RESULTADOS DE MSE, RMSE, R2, MAPE (Test): 2.9234919472741843, 1.709822197561543, 0.46215913685864707, 34.58054174734252\n",
      "Pinus roxburghii Populus ciliata\n",
      "(10635, 77)\n",
      "SE HA NORMALIZADO EL ARCHIVO: Pinus roxburghii_merged.csv\n",
      "(6309, 4, 43) (2167, 4, 43) (1647, 4, 43)\n",
      "<LSTM name=lstm_108, built=True> False\n",
      "<LSTM name=lstm_109, built=True> False\n",
      "<LSTM name=lstm_110, built=True> False\n",
      "<Dropout name=dropout_60, built=True> True\n",
      "<LSTM name=lstm_111, built=True> False\n",
      "<LSTM name=lstm_112, built=True> True\n",
      "<Dense name=dense_60, built=True> True\n",
      "<Dropout name=dropout_61, built=True> True\n",
      "<Dense name=dense_61, built=True> True\n",
      "[MODELO CONGELADO]: 29.177860260009766\n"
     ]
    },
    {
     "name": "stderr",
     "output_type": "stream",
     "text": [
      "/home/workstation/Escritorio/PabloC/TransferLearning/funcionesComunes.py:191: FutureWarning: The behavior of DataFrame concatenation with empty or all-NA entries is deprecated. In a future version, this will no longer exclude empty or all-NA columns when determining the result dtypes. To retain the old behavior, exclude the relevant entries before the concat operation.\n",
      "  predictionsDF = pd.concat([predictionsDF, tempDF], ignore_index=True)\n",
      "/home/workstation/Escritorio/PabloC/TransferLearning/funcionesComunes.py:191: FutureWarning: The behavior of DataFrame concatenation with empty or all-NA entries is deprecated. In a future version, this will no longer exclude empty or all-NA columns when determining the result dtypes. To retain the old behavior, exclude the relevant entries before the concat operation.\n",
      "  predictionsDF = pd.concat([predictionsDF, tempDF], ignore_index=True)\n",
      "/home/workstation/Escritorio/PabloC/TransferLearning/funcionesComunes.py:191: FutureWarning: The behavior of DataFrame concatenation with empty or all-NA entries is deprecated. In a future version, this will no longer exclude empty or all-NA columns when determining the result dtypes. To retain the old behavior, exclude the relevant entries before the concat operation.\n",
      "  predictionsDF = pd.concat([predictionsDF, tempDF], ignore_index=True)\n"
     ]
    },
    {
     "name": "stdout",
     "output_type": "stream",
     "text": [
      "RESULTADOS DE MSE, RMSE, R2, MAPE (Train): 191.8756645201193, 13.851919163788073, 0.2806514105016378, 44.69739115493716\n",
      "RESULTADOS DE MSE, RMSE, R2, MAPE (Val): 151.3462332155577, 12.3022856906982, 0.3243723169649583, 44.30220500146312\n",
      "RESULTADOS DE MSE, RMSE, R2, MAPE (Test): 174.30617504235585, 13.202506392437606, 0.26857486668139474, 45.6214878423968\n",
      "Pinus wallichiana Populus ciliata\n",
      "(9365, 77)\n",
      "SE HA NORMALIZADO EL ARCHIVO: Pinus wallichiana_merged.csv\n",
      "(5508, 4, 43) (1957, 4, 43) (1500, 4, 43)\n",
      "<LSTM name=lstm_108, built=True> False\n",
      "<LSTM name=lstm_109, built=True> False\n",
      "<LSTM name=lstm_110, built=True> False\n",
      "<Dropout name=dropout_60, built=True> True\n",
      "<LSTM name=lstm_111, built=True> False\n",
      "<LSTM name=lstm_112, built=True> True\n",
      "<Dense name=dense_60, built=True> True\n",
      "<Dropout name=dropout_61, built=True> True\n",
      "<Dense name=dense_61, built=True> True\n",
      "[MODELO CONGELADO]: 28.317611932754517\n"
     ]
    },
    {
     "name": "stderr",
     "output_type": "stream",
     "text": [
      "/home/workstation/Escritorio/PabloC/TransferLearning/funcionesComunes.py:191: FutureWarning: The behavior of DataFrame concatenation with empty or all-NA entries is deprecated. In a future version, this will no longer exclude empty or all-NA columns when determining the result dtypes. To retain the old behavior, exclude the relevant entries before the concat operation.\n",
      "  predictionsDF = pd.concat([predictionsDF, tempDF], ignore_index=True)\n",
      "/home/workstation/Escritorio/PabloC/TransferLearning/funcionesComunes.py:191: FutureWarning: The behavior of DataFrame concatenation with empty or all-NA entries is deprecated. In a future version, this will no longer exclude empty or all-NA columns when determining the result dtypes. To retain the old behavior, exclude the relevant entries before the concat operation.\n",
      "  predictionsDF = pd.concat([predictionsDF, tempDF], ignore_index=True)\n",
      "/home/workstation/Escritorio/PabloC/TransferLearning/funcionesComunes.py:191: FutureWarning: The behavior of DataFrame concatenation with empty or all-NA entries is deprecated. In a future version, this will no longer exclude empty or all-NA columns when determining the result dtypes. To retain the old behavior, exclude the relevant entries before the concat operation.\n",
      "  predictionsDF = pd.concat([predictionsDF, tempDF], ignore_index=True)\n"
     ]
    },
    {
     "name": "stdout",
     "output_type": "stream",
     "text": [
      "RESULTADOS DE MSE, RMSE, R2, MAPE (Train): 33.65034477420707, 5.800891722330893, 0.5008239894034073, 32.897269206366744\n",
      "RESULTADOS DE MSE, RMSE, R2, MAPE (Val): 27.101545938690187, 5.205914515115494, 0.5466706421152101, 34.79398348175742\n",
      "RESULTADOS DE MSE, RMSE, R2, MAPE (Test): 52.801100121816745, 7.266436549080763, -0.2522898418649322, 46.956616083843286\n",
      "Pinus gerardiana Populus ciliata\n",
      "(10101, 77)\n",
      "SE HA NORMALIZADO EL ARCHIVO: Pinus gerardiana_merged.csv\n",
      "(5767, 4, 43) (2181, 4, 43) (1745, 4, 43)\n",
      "<LSTM name=lstm_108, built=True> False\n",
      "<LSTM name=lstm_109, built=True> False\n",
      "<LSTM name=lstm_110, built=True> False\n",
      "<Dropout name=dropout_60, built=True> True\n",
      "<LSTM name=lstm_111, built=True> False\n",
      "<LSTM name=lstm_112, built=True> True\n",
      "<Dense name=dense_60, built=True> True\n",
      "<Dropout name=dropout_61, built=True> True\n",
      "<Dense name=dense_61, built=True> True\n",
      "[MODELO CONGELADO]: 35.378825187683105\n"
     ]
    },
    {
     "name": "stderr",
     "output_type": "stream",
     "text": [
      "/home/workstation/Escritorio/PabloC/TransferLearning/funcionesComunes.py:191: FutureWarning: The behavior of DataFrame concatenation with empty or all-NA entries is deprecated. In a future version, this will no longer exclude empty or all-NA columns when determining the result dtypes. To retain the old behavior, exclude the relevant entries before the concat operation.\n",
      "  predictionsDF = pd.concat([predictionsDF, tempDF], ignore_index=True)\n",
      "/home/workstation/Escritorio/PabloC/TransferLearning/funcionesComunes.py:191: FutureWarning: The behavior of DataFrame concatenation with empty or all-NA entries is deprecated. In a future version, this will no longer exclude empty or all-NA columns when determining the result dtypes. To retain the old behavior, exclude the relevant entries before the concat operation.\n",
      "  predictionsDF = pd.concat([predictionsDF, tempDF], ignore_index=True)\n",
      "/home/workstation/Escritorio/PabloC/TransferLearning/funcionesComunes.py:191: FutureWarning: The behavior of DataFrame concatenation with empty or all-NA entries is deprecated. In a future version, this will no longer exclude empty or all-NA columns when determining the result dtypes. To retain the old behavior, exclude the relevant entries before the concat operation.\n",
      "  predictionsDF = pd.concat([predictionsDF, tempDF], ignore_index=True)\n"
     ]
    },
    {
     "name": "stdout",
     "output_type": "stream",
     "text": [
      "RESULTADOS DE MSE, RMSE, R2, MAPE (Train): 21.993784678736418, 4.689753157548531, 0.43339997066251157, 37.67975440149382\n",
      "RESULTADOS DE MSE, RMSE, R2, MAPE (Val): 23.032610380591112, 4.799230186247698, 0.4179271763951724, 36.40263451247352\n",
      "RESULTADOS DE MSE, RMSE, R2, MAPE (Test): 19.46437415764451, 4.411844756747965, 0.5155156830870096, 35.329142641238086\n",
      "Populus ciliata Populus ciliata\n",
      "Betula utilis Populus ciliata\n",
      "(3473, 77)\n",
      "SE HA NORMALIZADO EL ARCHIVO: Betula utilis_merged.csv\n",
      "(2059, 4, 43) (665, 4, 43) (593, 4, 43)\n",
      "<LSTM name=lstm_108, built=True> False\n",
      "<LSTM name=lstm_109, built=True> False\n",
      "<LSTM name=lstm_110, built=True> False\n",
      "<Dropout name=dropout_60, built=True> True\n",
      "<LSTM name=lstm_111, built=True> False\n",
      "<LSTM name=lstm_112, built=True> True\n",
      "<Dense name=dense_60, built=True> True\n",
      "<Dropout name=dropout_61, built=True> True\n",
      "<Dense name=dense_61, built=True> True\n",
      "[MODELO CONGELADO]: 44.972471714019775\n"
     ]
    },
    {
     "name": "stderr",
     "output_type": "stream",
     "text": [
      "/home/workstation/Escritorio/PabloC/TransferLearning/funcionesComunes.py:191: FutureWarning: The behavior of DataFrame concatenation with empty or all-NA entries is deprecated. In a future version, this will no longer exclude empty or all-NA columns when determining the result dtypes. To retain the old behavior, exclude the relevant entries before the concat operation.\n",
      "  predictionsDF = pd.concat([predictionsDF, tempDF], ignore_index=True)\n",
      "/home/workstation/Escritorio/PabloC/TransferLearning/funcionesComunes.py:191: FutureWarning: The behavior of DataFrame concatenation with empty or all-NA entries is deprecated. In a future version, this will no longer exclude empty or all-NA columns when determining the result dtypes. To retain the old behavior, exclude the relevant entries before the concat operation.\n",
      "  predictionsDF = pd.concat([predictionsDF, tempDF], ignore_index=True)\n",
      "/home/workstation/Escritorio/PabloC/TransferLearning/funcionesComunes.py:191: FutureWarning: The behavior of DataFrame concatenation with empty or all-NA entries is deprecated. In a future version, this will no longer exclude empty or all-NA columns when determining the result dtypes. To retain the old behavior, exclude the relevant entries before the concat operation.\n",
      "  predictionsDF = pd.concat([predictionsDF, tempDF], ignore_index=True)\n"
     ]
    },
    {
     "name": "stdout",
     "output_type": "stream",
     "text": [
      "RESULTADOS DE MSE, RMSE, R2, MAPE (Train): 5.466698689789805, 2.3380972370262545, 0.19297702669173222, 58.54330104793127\n",
      "RESULTADOS DE MSE, RMSE, R2, MAPE (Val): 1.505610441982698, 1.2270331869932034, 0.2159289225955785, 46.133358210188824\n",
      "RESULTADOS DE MSE, RMSE, R2, MAPE (Test): 1.4377438225361172, 1.1990595575433762, 0.45056664000307123, 45.78698503457459\n",
      "Tsuga dumosa Populus ciliata\n",
      "(20493, 77)\n",
      "SE HA NORMALIZADO EL ARCHIVO: Tsuga dumosa_merged.csv\n",
      "(11935, 4, 43) (4144, 4, 43) (3469, 4, 43)\n",
      "<LSTM name=lstm_108, built=True> False\n",
      "<LSTM name=lstm_109, built=True> False\n",
      "<LSTM name=lstm_110, built=True> False\n",
      "<Dropout name=dropout_60, built=True> True\n",
      "<LSTM name=lstm_111, built=True> False\n",
      "<LSTM name=lstm_112, built=True> True\n",
      "<Dense name=dense_60, built=True> True\n",
      "<Dropout name=dropout_61, built=True> True\n",
      "<Dense name=dense_61, built=True> True\n",
      "[MODELO CONGELADO]: 226.01945114135742\n"
     ]
    },
    {
     "name": "stderr",
     "output_type": "stream",
     "text": [
      "/home/workstation/Escritorio/PabloC/TransferLearning/funcionesComunes.py:191: FutureWarning: The behavior of DataFrame concatenation with empty or all-NA entries is deprecated. In a future version, this will no longer exclude empty or all-NA columns when determining the result dtypes. To retain the old behavior, exclude the relevant entries before the concat operation.\n",
      "  predictionsDF = pd.concat([predictionsDF, tempDF], ignore_index=True)\n",
      "/home/workstation/Escritorio/PabloC/TransferLearning/funcionesComunes.py:191: FutureWarning: The behavior of DataFrame concatenation with empty or all-NA entries is deprecated. In a future version, this will no longer exclude empty or all-NA columns when determining the result dtypes. To retain the old behavior, exclude the relevant entries before the concat operation.\n",
      "  predictionsDF = pd.concat([predictionsDF, tempDF], ignore_index=True)\n",
      "/home/workstation/Escritorio/PabloC/TransferLearning/funcionesComunes.py:191: FutureWarning: The behavior of DataFrame concatenation with empty or all-NA entries is deprecated. In a future version, this will no longer exclude empty or all-NA columns when determining the result dtypes. To retain the old behavior, exclude the relevant entries before the concat operation.\n",
      "  predictionsDF = pd.concat([predictionsDF, tempDF], ignore_index=True)\n"
     ]
    },
    {
     "name": "stdout",
     "output_type": "stream",
     "text": [
      "RESULTADOS DE MSE, RMSE, R2, MAPE (Train): 268.23947349035683, 16.37801799639861, 0.31121708130835257, 46.875070831150694\n",
      "RESULTADOS DE MSE, RMSE, R2, MAPE (Val): 232.0823459879369, 15.234249111391637, 0.2635205320113445, 43.43595271754027\n",
      "RESULTADOS DE MSE, RMSE, R2, MAPE (Test): 416.57299225315967, 20.410119849064085, 0.32004423162749507, 47.66987147600392\n",
      "Cedrus deodara Populus ciliata\n",
      "(37273, 77)\n",
      "SE HA NORMALIZADO EL ARCHIVO: Cedrus deodara_merged.csv\n",
      "(22017, 4, 43) (7410, 4, 43) (6282, 4, 43)\n",
      "<LSTM name=lstm_108, built=True> False\n",
      "<LSTM name=lstm_109, built=True> False\n",
      "<LSTM name=lstm_110, built=True> False\n",
      "<Dropout name=dropout_60, built=True> True\n",
      "<LSTM name=lstm_111, built=True> False\n",
      "<LSTM name=lstm_112, built=True> True\n",
      "<Dense name=dense_60, built=True> True\n",
      "<Dropout name=dropout_61, built=True> True\n",
      "<Dense name=dense_61, built=True> True\n",
      "[MODELO CONGELADO]: 451.2401294708252\n"
     ]
    },
    {
     "name": "stderr",
     "output_type": "stream",
     "text": [
      "/home/workstation/Escritorio/PabloC/TransferLearning/funcionesComunes.py:191: FutureWarning: The behavior of DataFrame concatenation with empty or all-NA entries is deprecated. In a future version, this will no longer exclude empty or all-NA columns when determining the result dtypes. To retain the old behavior, exclude the relevant entries before the concat operation.\n",
      "  predictionsDF = pd.concat([predictionsDF, tempDF], ignore_index=True)\n",
      "/home/workstation/Escritorio/PabloC/TransferLearning/funcionesComunes.py:191: FutureWarning: The behavior of DataFrame concatenation with empty or all-NA entries is deprecated. In a future version, this will no longer exclude empty or all-NA columns when determining the result dtypes. To retain the old behavior, exclude the relevant entries before the concat operation.\n",
      "  predictionsDF = pd.concat([predictionsDF, tempDF], ignore_index=True)\n",
      "/home/workstation/Escritorio/PabloC/TransferLearning/funcionesComunes.py:191: FutureWarning: The behavior of DataFrame concatenation with empty or all-NA entries is deprecated. In a future version, this will no longer exclude empty or all-NA columns when determining the result dtypes. To retain the old behavior, exclude the relevant entries before the concat operation.\n",
      "  predictionsDF = pd.concat([predictionsDF, tempDF], ignore_index=True)\n"
     ]
    },
    {
     "name": "stdout",
     "output_type": "stream",
     "text": [
      "RESULTADOS DE MSE, RMSE, R2, MAPE (Train): 238.24227254644984, 15.43509872162954, 0.44222520429331, 41.912873870399295\n",
      "RESULTADOS DE MSE, RMSE, R2, MAPE (Val): 293.88666624023546, 17.143123001373915, 0.3412683822418343, 44.701691241755896\n",
      "RESULTADOS DE MSE, RMSE, R2, MAPE (Test): 211.6458851046663, 14.548054340861746, 0.39946334812624373, 41.59508113029411\n",
      "Juniperus spp. L. Populus ciliata\n",
      "(7264, 77)\n",
      "SE HA NORMALIZADO EL ARCHIVO: Juniperus spp. L._merged.csv\n",
      "(4216, 4, 43) (1524, 4, 43) (1188, 4, 43)\n",
      "<LSTM name=lstm_108, built=True> False\n",
      "<LSTM name=lstm_109, built=True> False\n",
      "<LSTM name=lstm_110, built=True> False\n",
      "<Dropout name=dropout_60, built=True> True\n",
      "<LSTM name=lstm_111, built=True> False\n",
      "<LSTM name=lstm_112, built=True> True\n",
      "<Dense name=dense_60, built=True> True\n",
      "<Dropout name=dropout_61, built=True> True\n",
      "<Dense name=dense_61, built=True> True\n",
      "[MODELO CONGELADO]: 15.06618618965149\n"
     ]
    },
    {
     "name": "stderr",
     "output_type": "stream",
     "text": [
      "/home/workstation/Escritorio/PabloC/TransferLearning/funcionesComunes.py:191: FutureWarning: The behavior of DataFrame concatenation with empty or all-NA entries is deprecated. In a future version, this will no longer exclude empty or all-NA columns when determining the result dtypes. To retain the old behavior, exclude the relevant entries before the concat operation.\n",
      "  predictionsDF = pd.concat([predictionsDF, tempDF], ignore_index=True)\n",
      "/home/workstation/Escritorio/PabloC/TransferLearning/funcionesComunes.py:191: FutureWarning: The behavior of DataFrame concatenation with empty or all-NA entries is deprecated. In a future version, this will no longer exclude empty or all-NA columns when determining the result dtypes. To retain the old behavior, exclude the relevant entries before the concat operation.\n",
      "  predictionsDF = pd.concat([predictionsDF, tempDF], ignore_index=True)\n",
      "/home/workstation/Escritorio/PabloC/TransferLearning/funcionesComunes.py:191: FutureWarning: The behavior of DataFrame concatenation with empty or all-NA entries is deprecated. In a future version, this will no longer exclude empty or all-NA columns when determining the result dtypes. To retain the old behavior, exclude the relevant entries before the concat operation.\n",
      "  predictionsDF = pd.concat([predictionsDF, tempDF], ignore_index=True)\n"
     ]
    },
    {
     "name": "stdout",
     "output_type": "stream",
     "text": [
      "RESULTADOS DE MSE, RMSE, R2, MAPE (Train): 4.7235234801788115, 2.1733668535658706, 0.6231426933411677, 39.99778599020239\n",
      "RESULTADOS DE MSE, RMSE, R2, MAPE (Val): 1.5327603935321508, 1.238047007803884, 0.31987839523981676, 43.106027208958125\n",
      "RESULTADOS DE MSE, RMSE, R2, MAPE (Test): 13.950448013101436, 3.735029854378869, 0.26410567397069284, 54.23906436264184\n",
      "Juniperus recurva Populus ciliata\n",
      "(5316, 77)\n",
      "SE HA NORMALIZADO EL ARCHIVO: Juniperus recurva_merged.csv\n",
      "(3188, 4, 43) (1082, 4, 43) (810, 4, 43)\n",
      "<LSTM name=lstm_108, built=True> False\n",
      "<LSTM name=lstm_109, built=True> False\n",
      "<LSTM name=lstm_110, built=True> False\n",
      "<Dropout name=dropout_60, built=True> True\n",
      "<LSTM name=lstm_111, built=True> False\n",
      "<LSTM name=lstm_112, built=True> True\n",
      "<Dense name=dense_60, built=True> True\n",
      "<Dropout name=dropout_61, built=True> True\n",
      "<Dense name=dense_61, built=True> True\n",
      "[MODELO CONGELADO]: 59.66246700286865\n"
     ]
    },
    {
     "name": "stderr",
     "output_type": "stream",
     "text": [
      "/home/workstation/Escritorio/PabloC/TransferLearning/funcionesComunes.py:191: FutureWarning: The behavior of DataFrame concatenation with empty or all-NA entries is deprecated. In a future version, this will no longer exclude empty or all-NA columns when determining the result dtypes. To retain the old behavior, exclude the relevant entries before the concat operation.\n",
      "  predictionsDF = pd.concat([predictionsDF, tempDF], ignore_index=True)\n",
      "/home/workstation/Escritorio/PabloC/TransferLearning/funcionesComunes.py:191: FutureWarning: The behavior of DataFrame concatenation with empty or all-NA entries is deprecated. In a future version, this will no longer exclude empty or all-NA columns when determining the result dtypes. To retain the old behavior, exclude the relevant entries before the concat operation.\n",
      "  predictionsDF = pd.concat([predictionsDF, tempDF], ignore_index=True)\n",
      "/home/workstation/Escritorio/PabloC/TransferLearning/funcionesComunes.py:191: FutureWarning: The behavior of DataFrame concatenation with empty or all-NA entries is deprecated. In a future version, this will no longer exclude empty or all-NA columns when determining the result dtypes. To retain the old behavior, exclude the relevant entries before the concat operation.\n",
      "  predictionsDF = pd.concat([predictionsDF, tempDF], ignore_index=True)\n"
     ]
    },
    {
     "name": "stdout",
     "output_type": "stream",
     "text": [
      "RESULTADOS DE MSE, RMSE, R2, MAPE (Train): 10.817633513881304, 3.2890171045285403, 0.5701472437038304, 37.314586584549055\n",
      "RESULTADOS DE MSE, RMSE, R2, MAPE (Val): 8.120995667512767, 2.84973606979888, 0.7051151442914798, 30.784627773672035\n",
      "RESULTADOS DE MSE, RMSE, R2, MAPE (Test): 3.305719975998094, 1.8181639024021168, 0.648561474685379, 28.356371338026587\n",
      "totalMerged.csv Populus ciliata\n",
      "Juniperus spp.  Populus ciliata\n",
      "(17976, 77)\n",
      "SE HA NORMALIZADO EL ARCHIVO: Juniperus spp. _merged.csv\n",
      "(10218, 4, 43) (3900, 4, 43) (3018, 4, 43)\n",
      "<LSTM name=lstm_108, built=True> False\n",
      "<LSTM name=lstm_109, built=True> False\n",
      "<LSTM name=lstm_110, built=True> False\n",
      "<Dropout name=dropout_60, built=True> True\n",
      "<LSTM name=lstm_111, built=True> False\n",
      "<LSTM name=lstm_112, built=True> True\n",
      "<Dense name=dense_60, built=True> True\n",
      "<Dropout name=dropout_61, built=True> True\n",
      "<Dense name=dense_61, built=True> True\n",
      "[MODELO CONGELADO]: 187.66417002677917\n"
     ]
    },
    {
     "name": "stderr",
     "output_type": "stream",
     "text": [
      "/home/workstation/Escritorio/PabloC/TransferLearning/funcionesComunes.py:191: FutureWarning: The behavior of DataFrame concatenation with empty or all-NA entries is deprecated. In a future version, this will no longer exclude empty or all-NA columns when determining the result dtypes. To retain the old behavior, exclude the relevant entries before the concat operation.\n",
      "  predictionsDF = pd.concat([predictionsDF, tempDF], ignore_index=True)\n",
      "/home/workstation/Escritorio/PabloC/TransferLearning/funcionesComunes.py:191: FutureWarning: The behavior of DataFrame concatenation with empty or all-NA entries is deprecated. In a future version, this will no longer exclude empty or all-NA columns when determining the result dtypes. To retain the old behavior, exclude the relevant entries before the concat operation.\n",
      "  predictionsDF = pd.concat([predictionsDF, tempDF], ignore_index=True)\n",
      "/home/workstation/Escritorio/PabloC/TransferLearning/funcionesComunes.py:191: FutureWarning: The behavior of DataFrame concatenation with empty or all-NA entries is deprecated. In a future version, this will no longer exclude empty or all-NA columns when determining the result dtypes. To retain the old behavior, exclude the relevant entries before the concat operation.\n",
      "  predictionsDF = pd.concat([predictionsDF, tempDF], ignore_index=True)\n"
     ]
    },
    {
     "name": "stdout",
     "output_type": "stream",
     "text": [
      "RESULTADOS DE MSE, RMSE, R2, MAPE (Train): 31.544850034313544, 5.616480217566296, 0.48552510910847213, 41.81756839794191\n",
      "RESULTADOS DE MSE, RMSE, R2, MAPE (Val): 9.070011559801708, 3.0116459884590867, 0.5389553280257117, 41.8237983251347\n",
      "RESULTADOS DE MSE, RMSE, R2, MAPE (Test): 48.399649143701744, 6.956985636301238, 0.5368291639409353, 42.5058071929955\n",
      "Procesando el modelo: model_Juniperus spp. L..keras\n",
      "Abies spectabilis Juniperus spp. L.\n",
      "(96429, 77)\n",
      "SE HA NORMALIZADO EL ARCHIVO: Abies spectabilis_merged.csv\n",
      "(56618, 4, 43) (19637, 4, 43) (15689, 4, 43)\n",
      "<LSTM name=lstm_125, built=True> False\n",
      "<Dropout name=dropout_68, built=True> True\n",
      "<LSTM name=lstm_126, built=True> True\n",
      "<Dense name=dense_68, built=True> True\n",
      "<Dropout name=dropout_69, built=True> True\n",
      "<Dense name=dense_69, built=True> True\n",
      "[MODELO CONGELADO]: 409.2841143608093\n"
     ]
    },
    {
     "name": "stderr",
     "output_type": "stream",
     "text": [
      "/home/workstation/Escritorio/PabloC/TransferLearning/funcionesComunes.py:191: FutureWarning: The behavior of DataFrame concatenation with empty or all-NA entries is deprecated. In a future version, this will no longer exclude empty or all-NA columns when determining the result dtypes. To retain the old behavior, exclude the relevant entries before the concat operation.\n",
      "  predictionsDF = pd.concat([predictionsDF, tempDF], ignore_index=True)\n",
      "/home/workstation/Escritorio/PabloC/TransferLearning/funcionesComunes.py:191: FutureWarning: The behavior of DataFrame concatenation with empty or all-NA entries is deprecated. In a future version, this will no longer exclude empty or all-NA columns when determining the result dtypes. To retain the old behavior, exclude the relevant entries before the concat operation.\n",
      "  predictionsDF = pd.concat([predictionsDF, tempDF], ignore_index=True)\n",
      "/home/workstation/Escritorio/PabloC/TransferLearning/funcionesComunes.py:191: FutureWarning: The behavior of DataFrame concatenation with empty or all-NA entries is deprecated. In a future version, this will no longer exclude empty or all-NA columns when determining the result dtypes. To retain the old behavior, exclude the relevant entries before the concat operation.\n",
      "  predictionsDF = pd.concat([predictionsDF, tempDF], ignore_index=True)\n"
     ]
    },
    {
     "name": "stdout",
     "output_type": "stream",
     "text": [
      "RESULTADOS DE MSE, RMSE, R2, MAPE (Train): 64.09828062728769, 8.006140182840149, 0.437636478331371, 42.313983603418784\n",
      "RESULTADOS DE MSE, RMSE, R2, MAPE (Val): 69.24805861762033, 8.321541841366919, 0.3690362640692971, 43.70679449197332\n",
      "RESULTADOS DE MSE, RMSE, R2, MAPE (Test): 71.59829775468496, 8.461577734364022, 0.4690086992676531, 42.87915007783149\n",
      "Picea smithiana Juniperus spp. L.\n",
      "(34476, 77)\n",
      "SE HA NORMALIZADO EL ARCHIVO: Picea smithiana_merged.csv\n",
      "(19933, 4, 43) (7272, 4, 43) (5863, 4, 43)\n",
      "<LSTM name=lstm_125, built=True> False\n",
      "<Dropout name=dropout_68, built=True> True\n",
      "<LSTM name=lstm_126, built=True> True\n",
      "<Dense name=dense_68, built=True> True\n",
      "<Dropout name=dropout_69, built=True> True\n",
      "<Dense name=dense_69, built=True> True\n",
      "[MODELO CONGELADO]: 118.37751412391663\n"
     ]
    },
    {
     "name": "stderr",
     "output_type": "stream",
     "text": [
      "/home/workstation/Escritorio/PabloC/TransferLearning/funcionesComunes.py:191: FutureWarning: The behavior of DataFrame concatenation with empty or all-NA entries is deprecated. In a future version, this will no longer exclude empty or all-NA columns when determining the result dtypes. To retain the old behavior, exclude the relevant entries before the concat operation.\n",
      "  predictionsDF = pd.concat([predictionsDF, tempDF], ignore_index=True)\n",
      "/home/workstation/Escritorio/PabloC/TransferLearning/funcionesComunes.py:191: FutureWarning: The behavior of DataFrame concatenation with empty or all-NA entries is deprecated. In a future version, this will no longer exclude empty or all-NA columns when determining the result dtypes. To retain the old behavior, exclude the relevant entries before the concat operation.\n",
      "  predictionsDF = pd.concat([predictionsDF, tempDF], ignore_index=True)\n",
      "/home/workstation/Escritorio/PabloC/TransferLearning/funcionesComunes.py:191: FutureWarning: The behavior of DataFrame concatenation with empty or all-NA entries is deprecated. In a future version, this will no longer exclude empty or all-NA columns when determining the result dtypes. To retain the old behavior, exclude the relevant entries before the concat operation.\n",
      "  predictionsDF = pd.concat([predictionsDF, tempDF], ignore_index=True)\n"
     ]
    },
    {
     "name": "stdout",
     "output_type": "stream",
     "text": [
      "RESULTADOS DE MSE, RMSE, R2, MAPE (Train): 196.59558717657552, 14.021254836018619, 0.42386213426296016, 40.820280544833125\n",
      "RESULTADOS DE MSE, RMSE, R2, MAPE (Val): 215.90349001035068, 14.693654753339983, 0.37695981211506635, 43.51337048610039\n",
      "RESULTADOS DE MSE, RMSE, R2, MAPE (Test): 215.05504372957859, 14.664755154095774, 0.2737683484560812, 45.46747881274586\n",
      "Abies pindrow Juniperus spp. L.\n",
      "(16018, 77)\n",
      "SE HA NORMALIZADO EL ARCHIVO: Abies pindrow_merged.csv\n",
      "(9042, 4, 43) (3441, 4, 43) (2815, 4, 43)\n",
      "<LSTM name=lstm_125, built=True> False\n",
      "<Dropout name=dropout_68, built=True> True\n",
      "<LSTM name=lstm_126, built=True> True\n",
      "<Dense name=dense_68, built=True> True\n",
      "<Dropout name=dropout_69, built=True> True\n",
      "<Dense name=dense_69, built=True> True\n",
      "[MODELO CONGELADO]: 26.08832359313965\n"
     ]
    },
    {
     "name": "stderr",
     "output_type": "stream",
     "text": [
      "/home/workstation/Escritorio/PabloC/TransferLearning/funcionesComunes.py:191: FutureWarning: The behavior of DataFrame concatenation with empty or all-NA entries is deprecated. In a future version, this will no longer exclude empty or all-NA columns when determining the result dtypes. To retain the old behavior, exclude the relevant entries before the concat operation.\n",
      "  predictionsDF = pd.concat([predictionsDF, tempDF], ignore_index=True)\n",
      "/home/workstation/Escritorio/PabloC/TransferLearning/funcionesComunes.py:191: FutureWarning: The behavior of DataFrame concatenation with empty or all-NA entries is deprecated. In a future version, this will no longer exclude empty or all-NA columns when determining the result dtypes. To retain the old behavior, exclude the relevant entries before the concat operation.\n",
      "  predictionsDF = pd.concat([predictionsDF, tempDF], ignore_index=True)\n",
      "/home/workstation/Escritorio/PabloC/TransferLearning/funcionesComunes.py:191: FutureWarning: The behavior of DataFrame concatenation with empty or all-NA entries is deprecated. In a future version, this will no longer exclude empty or all-NA columns when determining the result dtypes. To retain the old behavior, exclude the relevant entries before the concat operation.\n",
      "  predictionsDF = pd.concat([predictionsDF, tempDF], ignore_index=True)\n"
     ]
    },
    {
     "name": "stdout",
     "output_type": "stream",
     "text": [
      "RESULTADOS DE MSE, RMSE, R2, MAPE (Train): 174.4378395697236, 13.207491797071977, 0.2512570632347959, 45.02739877856325\n",
      "RESULTADOS DE MSE, RMSE, R2, MAPE (Val): 195.25920475150895, 13.973517980505445, -0.11385382869711269, 43.476300067026536\n",
      "RESULTADOS DE MSE, RMSE, R2, MAPE (Test): 316.61296025320195, 17.793621336119354, -1.2383641626834558, 52.619929703102954\n",
      "Juniperus excelsa M.-Bieb Juniperus spp. L.\n",
      "(7449, 77)\n",
      "SE HA NORMALIZADO EL ARCHIVO: Juniperus excelsa M.-Bieb_merged.csv\n",
      "(4189, 4, 43) (1707, 4, 43) (1228, 4, 43)\n",
      "<LSTM name=lstm_125, built=True> False\n",
      "<Dropout name=dropout_68, built=True> True\n",
      "<LSTM name=lstm_126, built=True> True\n",
      "<Dense name=dense_68, built=True> True\n",
      "<Dropout name=dropout_69, built=True> True\n",
      "<Dense name=dense_69, built=True> True\n",
      "[MODELO CONGELADO]: 14.375010013580322\n"
     ]
    },
    {
     "name": "stderr",
     "output_type": "stream",
     "text": [
      "/home/workstation/Escritorio/PabloC/TransferLearning/funcionesComunes.py:191: FutureWarning: The behavior of DataFrame concatenation with empty or all-NA entries is deprecated. In a future version, this will no longer exclude empty or all-NA columns when determining the result dtypes. To retain the old behavior, exclude the relevant entries before the concat operation.\n",
      "  predictionsDF = pd.concat([predictionsDF, tempDF], ignore_index=True)\n",
      "/home/workstation/Escritorio/PabloC/TransferLearning/funcionesComunes.py:191: FutureWarning: The behavior of DataFrame concatenation with empty or all-NA entries is deprecated. In a future version, this will no longer exclude empty or all-NA columns when determining the result dtypes. To retain the old behavior, exclude the relevant entries before the concat operation.\n",
      "  predictionsDF = pd.concat([predictionsDF, tempDF], ignore_index=True)\n",
      "/home/workstation/Escritorio/PabloC/TransferLearning/funcionesComunes.py:191: FutureWarning: The behavior of DataFrame concatenation with empty or all-NA entries is deprecated. In a future version, this will no longer exclude empty or all-NA columns when determining the result dtypes. To retain the old behavior, exclude the relevant entries before the concat operation.\n",
      "  predictionsDF = pd.concat([predictionsDF, tempDF], ignore_index=True)\n"
     ]
    },
    {
     "name": "stdout",
     "output_type": "stream",
     "text": [
      "RESULTADOS DE MSE, RMSE, R2, MAPE (Train): 20.963941358837484, 4.578639684320823, 0.1478576552774995, 50.390217566674266\n",
      "RESULTADOS DE MSE, RMSE, R2, MAPE (Val): 25.222513199368866, 5.022202026936876, 0.03810801684718368, 58.45872612668022\n",
      "RESULTADOS DE MSE, RMSE, R2, MAPE (Test): 86.43142805871526, 9.29685043757913, -0.28141774483045534, 71.43931829909174\n",
      "Juniperus turkestanica Komar. Juniperus spp. L.\n",
      "(6305, 77)\n",
      "SE HA NORMALIZADO EL ARCHIVO: Juniperus turkestanica Komar._merged.csv\n",
      "(3664, 4, 43) (1368, 4, 43) (1001, 4, 43)\n",
      "<LSTM name=lstm_125, built=True> False\n",
      "<Dropout name=dropout_68, built=True> True\n",
      "<LSTM name=lstm_126, built=True> True\n",
      "<Dense name=dense_68, built=True> True\n",
      "<Dropout name=dropout_69, built=True> True\n",
      "<Dense name=dense_69, built=True> True\n",
      "[MODELO CONGELADO]: 18.81645941734314\n"
     ]
    },
    {
     "name": "stderr",
     "output_type": "stream",
     "text": [
      "/home/workstation/Escritorio/PabloC/TransferLearning/funcionesComunes.py:191: FutureWarning: The behavior of DataFrame concatenation with empty or all-NA entries is deprecated. In a future version, this will no longer exclude empty or all-NA columns when determining the result dtypes. To retain the old behavior, exclude the relevant entries before the concat operation.\n",
      "  predictionsDF = pd.concat([predictionsDF, tempDF], ignore_index=True)\n",
      "/home/workstation/Escritorio/PabloC/TransferLearning/funcionesComunes.py:191: FutureWarning: The behavior of DataFrame concatenation with empty or all-NA entries is deprecated. In a future version, this will no longer exclude empty or all-NA columns when determining the result dtypes. To retain the old behavior, exclude the relevant entries before the concat operation.\n",
      "  predictionsDF = pd.concat([predictionsDF, tempDF], ignore_index=True)\n",
      "/home/workstation/Escritorio/PabloC/TransferLearning/funcionesComunes.py:191: FutureWarning: The behavior of DataFrame concatenation with empty or all-NA entries is deprecated. In a future version, this will no longer exclude empty or all-NA columns when determining the result dtypes. To retain the old behavior, exclude the relevant entries before the concat operation.\n",
      "  predictionsDF = pd.concat([predictionsDF, tempDF], ignore_index=True)\n"
     ]
    },
    {
     "name": "stdout",
     "output_type": "stream",
     "text": [
      "RESULTADOS DE MSE, RMSE, R2, MAPE (Train): 11.326474970791, 3.3654828733468545, 0.7476656657443426, 34.55054837988111\n",
      "RESULTADOS DE MSE, RMSE, R2, MAPE (Val): 9.305826152769347, 3.0505452222134566, 0.45884099446760773, 42.13826809632086\n",
      "RESULTADOS DE MSE, RMSE, R2, MAPE (Test): 2.9233662920342565, 1.7097854520477873, 0.4621822539131559, 34.59450945359555\n",
      "Pinus roxburghii Juniperus spp. L.\n",
      "(10635, 77)\n",
      "SE HA NORMALIZADO EL ARCHIVO: Pinus roxburghii_merged.csv\n",
      "(6309, 4, 43) (2167, 4, 43) (1647, 4, 43)\n",
      "<LSTM name=lstm_125, built=True> False\n",
      "<Dropout name=dropout_68, built=True> True\n",
      "<LSTM name=lstm_126, built=True> True\n",
      "<Dense name=dense_68, built=True> True\n",
      "<Dropout name=dropout_69, built=True> True\n",
      "<Dense name=dense_69, built=True> True\n",
      "[MODELO CONGELADO]: 77.73114109039307\n"
     ]
    },
    {
     "name": "stderr",
     "output_type": "stream",
     "text": [
      "/home/workstation/Escritorio/PabloC/TransferLearning/funcionesComunes.py:191: FutureWarning: The behavior of DataFrame concatenation with empty or all-NA entries is deprecated. In a future version, this will no longer exclude empty or all-NA columns when determining the result dtypes. To retain the old behavior, exclude the relevant entries before the concat operation.\n",
      "  predictionsDF = pd.concat([predictionsDF, tempDF], ignore_index=True)\n",
      "/home/workstation/Escritorio/PabloC/TransferLearning/funcionesComunes.py:191: FutureWarning: The behavior of DataFrame concatenation with empty or all-NA entries is deprecated. In a future version, this will no longer exclude empty or all-NA columns when determining the result dtypes. To retain the old behavior, exclude the relevant entries before the concat operation.\n",
      "  predictionsDF = pd.concat([predictionsDF, tempDF], ignore_index=True)\n",
      "/home/workstation/Escritorio/PabloC/TransferLearning/funcionesComunes.py:191: FutureWarning: The behavior of DataFrame concatenation with empty or all-NA entries is deprecated. In a future version, this will no longer exclude empty or all-NA columns when determining the result dtypes. To retain the old behavior, exclude the relevant entries before the concat operation.\n",
      "  predictionsDF = pd.concat([predictionsDF, tempDF], ignore_index=True)\n"
     ]
    },
    {
     "name": "stdout",
     "output_type": "stream",
     "text": [
      "RESULTADOS DE MSE, RMSE, R2, MAPE (Train): 148.28423879109764, 12.177201599345295, 0.444077192978114, 39.093739454194626\n",
      "RESULTADOS DE MSE, RMSE, R2, MAPE (Val): 123.27366847866838, 11.10286757908372, 0.44969160286368437, 40.82020403823464\n",
      "RESULTADOS DE MSE, RMSE, R2, MAPE (Test): 143.70547017921825, 11.98772164254819, 0.3969818185792544, 41.55780005201943\n",
      "Pinus wallichiana Juniperus spp. L.\n",
      "(9365, 77)\n",
      "SE HA NORMALIZADO EL ARCHIVO: Pinus wallichiana_merged.csv\n",
      "(5508, 4, 43) (1957, 4, 43) (1500, 4, 43)\n",
      "<LSTM name=lstm_125, built=True> False\n",
      "<Dropout name=dropout_68, built=True> True\n",
      "<LSTM name=lstm_126, built=True> True\n",
      "<Dense name=dense_68, built=True> True\n",
      "<Dropout name=dropout_69, built=True> True\n",
      "<Dense name=dense_69, built=True> True\n",
      "[MODELO CONGELADO]: 107.9463460445404\n"
     ]
    },
    {
     "name": "stderr",
     "output_type": "stream",
     "text": [
      "/home/workstation/Escritorio/PabloC/TransferLearning/funcionesComunes.py:191: FutureWarning: The behavior of DataFrame concatenation with empty or all-NA entries is deprecated. In a future version, this will no longer exclude empty or all-NA columns when determining the result dtypes. To retain the old behavior, exclude the relevant entries before the concat operation.\n",
      "  predictionsDF = pd.concat([predictionsDF, tempDF], ignore_index=True)\n",
      "/home/workstation/Escritorio/PabloC/TransferLearning/funcionesComunes.py:191: FutureWarning: The behavior of DataFrame concatenation with empty or all-NA entries is deprecated. In a future version, this will no longer exclude empty or all-NA columns when determining the result dtypes. To retain the old behavior, exclude the relevant entries before the concat operation.\n",
      "  predictionsDF = pd.concat([predictionsDF, tempDF], ignore_index=True)\n",
      "/home/workstation/Escritorio/PabloC/TransferLearning/funcionesComunes.py:191: FutureWarning: The behavior of DataFrame concatenation with empty or all-NA entries is deprecated. In a future version, this will no longer exclude empty or all-NA columns when determining the result dtypes. To retain the old behavior, exclude the relevant entries before the concat operation.\n",
      "  predictionsDF = pd.concat([predictionsDF, tempDF], ignore_index=True)\n"
     ]
    },
    {
     "name": "stdout",
     "output_type": "stream",
     "text": [
      "RESULTADOS DE MSE, RMSE, R2, MAPE (Train): 28.134504332922422, 5.304196860309996, 0.5826470805200926, 29.386094487792704\n",
      "RESULTADOS DE MSE, RMSE, R2, MAPE (Val): 22.099112976631076, 4.700969365634186, 0.6303466703271108, 31.07837038532808\n",
      "RESULTADOS DE MSE, RMSE, R2, MAPE (Test): 41.84140762029484, 6.468493458317388, 0.007642461779405529, 41.86911790984202\n",
      "Pinus gerardiana Juniperus spp. L.\n",
      "(10101, 77)\n",
      "SE HA NORMALIZADO EL ARCHIVO: Pinus gerardiana_merged.csv\n",
      "(5767, 4, 43) (2181, 4, 43) (1745, 4, 43)\n",
      "<LSTM name=lstm_125, built=True> False\n",
      "<Dropout name=dropout_68, built=True> True\n",
      "<LSTM name=lstm_126, built=True> True\n",
      "<Dense name=dense_68, built=True> True\n",
      "<Dropout name=dropout_69, built=True> True\n",
      "<Dense name=dense_69, built=True> True\n",
      "[MODELO CONGELADO]: 20.60205078125\n"
     ]
    },
    {
     "name": "stderr",
     "output_type": "stream",
     "text": [
      "/home/workstation/Escritorio/PabloC/TransferLearning/funcionesComunes.py:191: FutureWarning: The behavior of DataFrame concatenation with empty or all-NA entries is deprecated. In a future version, this will no longer exclude empty or all-NA columns when determining the result dtypes. To retain the old behavior, exclude the relevant entries before the concat operation.\n",
      "  predictionsDF = pd.concat([predictionsDF, tempDF], ignore_index=True)\n",
      "/home/workstation/Escritorio/PabloC/TransferLearning/funcionesComunes.py:191: FutureWarning: The behavior of DataFrame concatenation with empty or all-NA entries is deprecated. In a future version, this will no longer exclude empty or all-NA columns when determining the result dtypes. To retain the old behavior, exclude the relevant entries before the concat operation.\n",
      "  predictionsDF = pd.concat([predictionsDF, tempDF], ignore_index=True)\n",
      "/home/workstation/Escritorio/PabloC/TransferLearning/funcionesComunes.py:191: FutureWarning: The behavior of DataFrame concatenation with empty or all-NA entries is deprecated. In a future version, this will no longer exclude empty or all-NA columns when determining the result dtypes. To retain the old behavior, exclude the relevant entries before the concat operation.\n",
      "  predictionsDF = pd.concat([predictionsDF, tempDF], ignore_index=True)\n"
     ]
    },
    {
     "name": "stdout",
     "output_type": "stream",
     "text": [
      "RESULTADOS DE MSE, RMSE, R2, MAPE (Train): 15.988666760499616, 3.998583094109664, 0.588102766854637, 32.51127262345529\n",
      "RESULTADOS DE MSE, RMSE, R2, MAPE (Val): 19.867376306205905, 4.4572835119841665, 0.49791796791223575, 34.26956144129708\n",
      "RESULTADOS DE MSE, RMSE, R2, MAPE (Test): 17.608993855946398, 4.1963071689220275, 0.5616976281524763, 33.97707379836152\n",
      "Populus ciliata Juniperus spp. L.\n",
      "(1182, 77)\n",
      "SE HA NORMALIZADO EL ARCHIVO: Populus ciliata_merged.csv\n",
      "(705, 4, 43) (156, 4, 43) (265, 4, 43)\n",
      "<LSTM name=lstm_125, built=True> False\n",
      "<Dropout name=dropout_68, built=True> True\n",
      "<LSTM name=lstm_126, built=True> True\n",
      "<Dense name=dense_68, built=True> True\n",
      "<Dropout name=dropout_69, built=True> True\n",
      "<Dense name=dense_69, built=True> True\n",
      "[MODELO CONGELADO]: 24.876904487609863\n"
     ]
    },
    {
     "name": "stderr",
     "output_type": "stream",
     "text": [
      "/home/workstation/Escritorio/PabloC/TransferLearning/funcionesComunes.py:191: FutureWarning: The behavior of DataFrame concatenation with empty or all-NA entries is deprecated. In a future version, this will no longer exclude empty or all-NA columns when determining the result dtypes. To retain the old behavior, exclude the relevant entries before the concat operation.\n",
      "  predictionsDF = pd.concat([predictionsDF, tempDF], ignore_index=True)\n",
      "/home/workstation/Escritorio/PabloC/TransferLearning/funcionesComunes.py:191: FutureWarning: The behavior of DataFrame concatenation with empty or all-NA entries is deprecated. In a future version, this will no longer exclude empty or all-NA columns when determining the result dtypes. To retain the old behavior, exclude the relevant entries before the concat operation.\n",
      "  predictionsDF = pd.concat([predictionsDF, tempDF], ignore_index=True)\n",
      "/home/workstation/Escritorio/PabloC/TransferLearning/funcionesComunes.py:191: FutureWarning: The behavior of DataFrame concatenation with empty or all-NA entries is deprecated. In a future version, this will no longer exclude empty or all-NA columns when determining the result dtypes. To retain the old behavior, exclude the relevant entries before the concat operation.\n",
      "  predictionsDF = pd.concat([predictionsDF, tempDF], ignore_index=True)\n"
     ]
    },
    {
     "name": "stdout",
     "output_type": "stream",
     "text": [
      "RESULTADOS DE MSE, RMSE, R2, MAPE (Train): 140.1078607919695, 11.83671663899958, 0.6142328610382833, 33.88046797185059\n",
      "RESULTADOS DE MSE, RMSE, R2, MAPE (Val): 225.42703160668998, 15.014227639365602, 0.03950172590850576, 47.17851546277288\n",
      "RESULTADOS DE MSE, RMSE, R2, MAPE (Test): 60.52267021669188, 7.779631753283177, 0.6975830037130419, 30.20854696821738\n",
      "Betula utilis Juniperus spp. L.\n",
      "(3473, 77)\n",
      "SE HA NORMALIZADO EL ARCHIVO: Betula utilis_merged.csv\n",
      "(2059, 4, 43) (665, 4, 43) (593, 4, 43)\n",
      "<LSTM name=lstm_125, built=True> False\n",
      "<Dropout name=dropout_68, built=True> True\n",
      "<LSTM name=lstm_126, built=True> True\n",
      "<Dense name=dense_68, built=True> True\n",
      "<Dropout name=dropout_69, built=True> True\n",
      "<Dense name=dense_69, built=True> True\n",
      "[MODELO CONGELADO]: 8.9494788646698\n"
     ]
    },
    {
     "name": "stderr",
     "output_type": "stream",
     "text": [
      "/home/workstation/Escritorio/PabloC/TransferLearning/funcionesComunes.py:191: FutureWarning: The behavior of DataFrame concatenation with empty or all-NA entries is deprecated. In a future version, this will no longer exclude empty or all-NA columns when determining the result dtypes. To retain the old behavior, exclude the relevant entries before the concat operation.\n",
      "  predictionsDF = pd.concat([predictionsDF, tempDF], ignore_index=True)\n",
      "/home/workstation/Escritorio/PabloC/TransferLearning/funcionesComunes.py:191: FutureWarning: The behavior of DataFrame concatenation with empty or all-NA entries is deprecated. In a future version, this will no longer exclude empty or all-NA columns when determining the result dtypes. To retain the old behavior, exclude the relevant entries before the concat operation.\n",
      "  predictionsDF = pd.concat([predictionsDF, tempDF], ignore_index=True)\n",
      "/home/workstation/Escritorio/PabloC/TransferLearning/funcionesComunes.py:191: FutureWarning: The behavior of DataFrame concatenation with empty or all-NA entries is deprecated. In a future version, this will no longer exclude empty or all-NA columns when determining the result dtypes. To retain the old behavior, exclude the relevant entries before the concat operation.\n",
      "  predictionsDF = pd.concat([predictionsDF, tempDF], ignore_index=True)\n"
     ]
    },
    {
     "name": "stdout",
     "output_type": "stream",
     "text": [
      "RESULTADOS DE MSE, RMSE, R2, MAPE (Train): 4.3684906778132415, 2.0900934615019593, 0.3551003017117361, 53.11205737997676\n",
      "RESULTADOS DE MSE, RMSE, R2, MAPE (Val): 1.495458019547002, 1.2228892098415955, 0.22121596137762778, 45.25696918762884\n",
      "RESULTADOS DE MSE, RMSE, R2, MAPE (Test): 1.4004685098943992, 1.1834139216243822, 0.4648113892752668, 45.46088423815919\n",
      "Tsuga dumosa Juniperus spp. L.\n",
      "(20493, 77)\n",
      "SE HA NORMALIZADO EL ARCHIVO: Tsuga dumosa_merged.csv\n",
      "(11935, 4, 43) (4144, 4, 43) (3469, 4, 43)\n",
      "<LSTM name=lstm_125, built=True> False\n",
      "<Dropout name=dropout_68, built=True> True\n",
      "<LSTM name=lstm_126, built=True> True\n",
      "<Dense name=dense_68, built=True> True\n",
      "<Dropout name=dropout_69, built=True> True\n",
      "<Dense name=dense_69, built=True> True\n",
      "[MODELO CONGELADO]: 87.69206047058105\n"
     ]
    },
    {
     "name": "stderr",
     "output_type": "stream",
     "text": [
      "/home/workstation/Escritorio/PabloC/TransferLearning/funcionesComunes.py:191: FutureWarning: The behavior of DataFrame concatenation with empty or all-NA entries is deprecated. In a future version, this will no longer exclude empty or all-NA columns when determining the result dtypes. To retain the old behavior, exclude the relevant entries before the concat operation.\n",
      "  predictionsDF = pd.concat([predictionsDF, tempDF], ignore_index=True)\n",
      "/home/workstation/Escritorio/PabloC/TransferLearning/funcionesComunes.py:191: FutureWarning: The behavior of DataFrame concatenation with empty or all-NA entries is deprecated. In a future version, this will no longer exclude empty or all-NA columns when determining the result dtypes. To retain the old behavior, exclude the relevant entries before the concat operation.\n",
      "  predictionsDF = pd.concat([predictionsDF, tempDF], ignore_index=True)\n",
      "/home/workstation/Escritorio/PabloC/TransferLearning/funcionesComunes.py:191: FutureWarning: The behavior of DataFrame concatenation with empty or all-NA entries is deprecated. In a future version, this will no longer exclude empty or all-NA columns when determining the result dtypes. To retain the old behavior, exclude the relevant entries before the concat operation.\n",
      "  predictionsDF = pd.concat([predictionsDF, tempDF], ignore_index=True)\n"
     ]
    },
    {
     "name": "stdout",
     "output_type": "stream",
     "text": [
      "RESULTADOS DE MSE, RMSE, R2, MAPE (Train): 228.8519302034436, 15.12785279553723, 0.4123560623548128, 42.01118487757671\n",
      "RESULTADOS DE MSE, RMSE, R2, MAPE (Val): 204.1153056980751, 14.286892793678936, 0.3522698544391921, 40.08661190048451\n",
      "RESULTADOS DE MSE, RMSE, R2, MAPE (Test): 364.5296249541826, 19.092658928346847, 0.40499258031679986, 45.193992334097096\n",
      "Cedrus deodara Juniperus spp. L.\n",
      "(37273, 77)\n",
      "SE HA NORMALIZADO EL ARCHIVO: Cedrus deodara_merged.csv\n",
      "(22017, 4, 43) (7410, 4, 43) (6282, 4, 43)\n",
      "<LSTM name=lstm_125, built=True> False\n",
      "<Dropout name=dropout_68, built=True> True\n",
      "<LSTM name=lstm_126, built=True> True\n",
      "<Dense name=dense_68, built=True> True\n",
      "<Dropout name=dropout_69, built=True> True\n",
      "<Dense name=dense_69, built=True> True\n",
      "[MODELO CONGELADO]: 286.2451055049896\n"
     ]
    },
    {
     "name": "stderr",
     "output_type": "stream",
     "text": [
      "/home/workstation/Escritorio/PabloC/TransferLearning/funcionesComunes.py:191: FutureWarning: The behavior of DataFrame concatenation with empty or all-NA entries is deprecated. In a future version, this will no longer exclude empty or all-NA columns when determining the result dtypes. To retain the old behavior, exclude the relevant entries before the concat operation.\n",
      "  predictionsDF = pd.concat([predictionsDF, tempDF], ignore_index=True)\n",
      "/home/workstation/Escritorio/PabloC/TransferLearning/funcionesComunes.py:191: FutureWarning: The behavior of DataFrame concatenation with empty or all-NA entries is deprecated. In a future version, this will no longer exclude empty or all-NA columns when determining the result dtypes. To retain the old behavior, exclude the relevant entries before the concat operation.\n",
      "  predictionsDF = pd.concat([predictionsDF, tempDF], ignore_index=True)\n",
      "/home/workstation/Escritorio/PabloC/TransferLearning/funcionesComunes.py:191: FutureWarning: The behavior of DataFrame concatenation with empty or all-NA entries is deprecated. In a future version, this will no longer exclude empty or all-NA columns when determining the result dtypes. To retain the old behavior, exclude the relevant entries before the concat operation.\n",
      "  predictionsDF = pd.concat([predictionsDF, tempDF], ignore_index=True)\n"
     ]
    },
    {
     "name": "stdout",
     "output_type": "stream",
     "text": [
      "RESULTADOS DE MSE, RMSE, R2, MAPE (Train): 204.88656084408203, 14.313859047932603, 0.5203178747567857, 38.149632363980174\n",
      "RESULTADOS DE MSE, RMSE, R2, MAPE (Val): 272.41618364015784, 16.505035099634227, 0.38939334795782343, 41.8627502703735\n",
      "RESULTADOS DE MSE, RMSE, R2, MAPE (Test): 202.46075606380575, 14.228870512581304, 0.42552578084729065, 39.44589098209019\n",
      "Juniperus spp. L. Juniperus spp. L.\n",
      "Juniperus recurva Juniperus spp. L.\n",
      "(5316, 77)\n",
      "SE HA NORMALIZADO EL ARCHIVO: Juniperus recurva_merged.csv\n",
      "(3188, 4, 43) (1082, 4, 43) (810, 4, 43)\n",
      "<LSTM name=lstm_125, built=True> False\n",
      "<Dropout name=dropout_68, built=True> True\n",
      "<LSTM name=lstm_126, built=True> True\n",
      "<Dense name=dense_68, built=True> True\n",
      "<Dropout name=dropout_69, built=True> True\n",
      "<Dense name=dense_69, built=True> True\n",
      "[MODELO CONGELADO]: 30.148985624313354\n"
     ]
    },
    {
     "name": "stderr",
     "output_type": "stream",
     "text": [
      "/home/workstation/Escritorio/PabloC/TransferLearning/funcionesComunes.py:191: FutureWarning: The behavior of DataFrame concatenation with empty or all-NA entries is deprecated. In a future version, this will no longer exclude empty or all-NA columns when determining the result dtypes. To retain the old behavior, exclude the relevant entries before the concat operation.\n",
      "  predictionsDF = pd.concat([predictionsDF, tempDF], ignore_index=True)\n",
      "/home/workstation/Escritorio/PabloC/TransferLearning/funcionesComunes.py:191: FutureWarning: The behavior of DataFrame concatenation with empty or all-NA entries is deprecated. In a future version, this will no longer exclude empty or all-NA columns when determining the result dtypes. To retain the old behavior, exclude the relevant entries before the concat operation.\n",
      "  predictionsDF = pd.concat([predictionsDF, tempDF], ignore_index=True)\n",
      "/home/workstation/Escritorio/PabloC/TransferLearning/funcionesComunes.py:191: FutureWarning: The behavior of DataFrame concatenation with empty or all-NA entries is deprecated. In a future version, this will no longer exclude empty or all-NA columns when determining the result dtypes. To retain the old behavior, exclude the relevant entries before the concat operation.\n",
      "  predictionsDF = pd.concat([predictionsDF, tempDF], ignore_index=True)\n"
     ]
    },
    {
     "name": "stdout",
     "output_type": "stream",
     "text": [
      "RESULTADOS DE MSE, RMSE, R2, MAPE (Train): 8.881467032149239, 2.9801790268621846, 0.6470833404714657, 33.66064510801065\n",
      "RESULTADOS DE MSE, RMSE, R2, MAPE (Val): 7.295803315247654, 2.701074474213485, 0.7350790474496747, 28.982497742449542\n",
      "RESULTADOS DE MSE, RMSE, R2, MAPE (Test): 2.8162619973103022, 1.6781722192046626, 0.7005968532057802, 26.6785081529305\n",
      "totalMerged.csv Juniperus spp. L.\n",
      "Juniperus spp.  Juniperus spp. L.\n",
      "(17976, 77)\n",
      "SE HA NORMALIZADO EL ARCHIVO: Juniperus spp. _merged.csv\n",
      "(10218, 4, 43) (3900, 4, 43) (3018, 4, 43)\n",
      "<LSTM name=lstm_125, built=True> False\n",
      "<Dropout name=dropout_68, built=True> True\n",
      "<LSTM name=lstm_126, built=True> True\n",
      "<Dense name=dense_68, built=True> True\n",
      "<Dropout name=dropout_69, built=True> True\n",
      "<Dense name=dense_69, built=True> True\n",
      "[MODELO CONGELADO]: 20.561995029449463\n"
     ]
    },
    {
     "name": "stderr",
     "output_type": "stream",
     "text": [
      "/home/workstation/Escritorio/PabloC/TransferLearning/funcionesComunes.py:191: FutureWarning: The behavior of DataFrame concatenation with empty or all-NA entries is deprecated. In a future version, this will no longer exclude empty or all-NA columns when determining the result dtypes. To retain the old behavior, exclude the relevant entries before the concat operation.\n",
      "  predictionsDF = pd.concat([predictionsDF, tempDF], ignore_index=True)\n",
      "/home/workstation/Escritorio/PabloC/TransferLearning/funcionesComunes.py:191: FutureWarning: The behavior of DataFrame concatenation with empty or all-NA entries is deprecated. In a future version, this will no longer exclude empty or all-NA columns when determining the result dtypes. To retain the old behavior, exclude the relevant entries before the concat operation.\n",
      "  predictionsDF = pd.concat([predictionsDF, tempDF], ignore_index=True)\n",
      "/home/workstation/Escritorio/PabloC/TransferLearning/funcionesComunes.py:191: FutureWarning: The behavior of DataFrame concatenation with empty or all-NA entries is deprecated. In a future version, this will no longer exclude empty or all-NA columns when determining the result dtypes. To retain the old behavior, exclude the relevant entries before the concat operation.\n",
      "  predictionsDF = pd.concat([predictionsDF, tempDF], ignore_index=True)\n"
     ]
    },
    {
     "name": "stdout",
     "output_type": "stream",
     "text": [
      "RESULTADOS DE MSE, RMSE, R2, MAPE (Train): 34.123112285257235, 5.841499147073227, 0.4434754183094629, 42.962553670315295\n",
      "RESULTADOS DE MSE, RMSE, R2, MAPE (Val): 9.851350291829382, 3.1386860772988086, 0.49923850329694786, 43.0692048546425\n",
      "RESULTADOS DE MSE, RMSE, R2, MAPE (Test): 51.65607936538661, 7.1872163850399415, 0.5056660556326995, 43.16436971247784\n",
      "Procesando el modelo: model_Juniperus excelsa M.-Bieb.keras\n",
      "Abies spectabilis Juniperus excelsa M.-Bieb\n",
      "(96429, 77)\n",
      "SE HA NORMALIZADO EL ARCHIVO: Abies spectabilis_merged.csv\n",
      "(56618, 4, 43) (19637, 4, 43) (15689, 4, 43)\n",
      "<LSTM name=lstm_92, built=True> False\n",
      "<Dropout name=dropout_50, built=True> True\n",
      "<LSTM name=lstm_93, built=True> False\n",
      "<LSTM name=lstm_94, built=True> True\n",
      "<Dense name=dense_50, built=True> True\n",
      "<Dropout name=dropout_51, built=True> True\n",
      "<Dense name=dense_51, built=True> True\n",
      "[MODELO CONGELADO]: 1168.560742855072\n"
     ]
    },
    {
     "name": "stderr",
     "output_type": "stream",
     "text": [
      "/home/workstation/Escritorio/PabloC/TransferLearning/funcionesComunes.py:191: FutureWarning: The behavior of DataFrame concatenation with empty or all-NA entries is deprecated. In a future version, this will no longer exclude empty or all-NA columns when determining the result dtypes. To retain the old behavior, exclude the relevant entries before the concat operation.\n",
      "  predictionsDF = pd.concat([predictionsDF, tempDF], ignore_index=True)\n",
      "/home/workstation/Escritorio/PabloC/TransferLearning/funcionesComunes.py:191: FutureWarning: The behavior of DataFrame concatenation with empty or all-NA entries is deprecated. In a future version, this will no longer exclude empty or all-NA columns when determining the result dtypes. To retain the old behavior, exclude the relevant entries before the concat operation.\n",
      "  predictionsDF = pd.concat([predictionsDF, tempDF], ignore_index=True)\n",
      "/home/workstation/Escritorio/PabloC/TransferLearning/funcionesComunes.py:191: FutureWarning: The behavior of DataFrame concatenation with empty or all-NA entries is deprecated. In a future version, this will no longer exclude empty or all-NA columns when determining the result dtypes. To retain the old behavior, exclude the relevant entries before the concat operation.\n",
      "  predictionsDF = pd.concat([predictionsDF, tempDF], ignore_index=True)\n"
     ]
    },
    {
     "name": "stdout",
     "output_type": "stream",
     "text": [
      "RESULTADOS DE MSE, RMSE, R2, MAPE (Train): 77.89503418640211, 8.825816346741084, 0.31659125148335576, 47.63538356366841\n",
      "RESULTADOS DE MSE, RMSE, R2, MAPE (Val): 74.39982930012906, 8.625533566112248, 0.32209515782914544, 46.730105902563146\n",
      "RESULTADOS DE MSE, RMSE, R2, MAPE (Test): 80.42711177038994, 8.968116400359104, 0.4035319549156352, 46.12047405088087\n",
      "Picea smithiana Juniperus excelsa M.-Bieb\n",
      "(34476, 77)\n",
      "SE HA NORMALIZADO EL ARCHIVO: Picea smithiana_merged.csv\n",
      "(19933, 4, 43) (7272, 4, 43) (5863, 4, 43)\n",
      "<LSTM name=lstm_92, built=True> False\n",
      "<Dropout name=dropout_50, built=True> True\n",
      "<LSTM name=lstm_93, built=True> False\n",
      "<LSTM name=lstm_94, built=True> True\n",
      "<Dense name=dense_50, built=True> True\n",
      "<Dropout name=dropout_51, built=True> True\n",
      "<Dense name=dense_51, built=True> True\n",
      "[MODELO CONGELADO]: 184.7916362285614\n"
     ]
    },
    {
     "name": "stderr",
     "output_type": "stream",
     "text": [
      "/home/workstation/Escritorio/PabloC/TransferLearning/funcionesComunes.py:191: FutureWarning: The behavior of DataFrame concatenation with empty or all-NA entries is deprecated. In a future version, this will no longer exclude empty or all-NA columns when determining the result dtypes. To retain the old behavior, exclude the relevant entries before the concat operation.\n",
      "  predictionsDF = pd.concat([predictionsDF, tempDF], ignore_index=True)\n",
      "/home/workstation/Escritorio/PabloC/TransferLearning/funcionesComunes.py:191: FutureWarning: The behavior of DataFrame concatenation with empty or all-NA entries is deprecated. In a future version, this will no longer exclude empty or all-NA columns when determining the result dtypes. To retain the old behavior, exclude the relevant entries before the concat operation.\n",
      "  predictionsDF = pd.concat([predictionsDF, tempDF], ignore_index=True)\n",
      "/home/workstation/Escritorio/PabloC/TransferLearning/funcionesComunes.py:191: FutureWarning: The behavior of DataFrame concatenation with empty or all-NA entries is deprecated. In a future version, this will no longer exclude empty or all-NA columns when determining the result dtypes. To retain the old behavior, exclude the relevant entries before the concat operation.\n",
      "  predictionsDF = pd.concat([predictionsDF, tempDF], ignore_index=True)\n"
     ]
    },
    {
     "name": "stdout",
     "output_type": "stream",
     "text": [
      "RESULTADOS DE MSE, RMSE, R2, MAPE (Train): 212.78006549517028, 14.586982741306382, 0.3764323270609926, 42.675974544702\n",
      "RESULTADOS DE MSE, RMSE, R2, MAPE (Val): 242.17029471108498, 15.561821702843307, 0.30116078295116644, 45.01833026205308\n",
      "RESULTADOS DE MSE, RMSE, R2, MAPE (Test): 217.14815772134065, 14.735947805327646, 0.26669999235177844, 45.89369402988274\n",
      "Abies pindrow Juniperus excelsa M.-Bieb\n",
      "(16018, 77)\n",
      "SE HA NORMALIZADO EL ARCHIVO: Abies pindrow_merged.csv\n",
      "(9042, 4, 43) (3441, 4, 43) (2815, 4, 43)\n",
      "<LSTM name=lstm_92, built=True> False\n",
      "<Dropout name=dropout_50, built=True> True\n",
      "<LSTM name=lstm_93, built=True> False\n",
      "<LSTM name=lstm_94, built=True> True\n",
      "<Dense name=dense_50, built=True> True\n",
      "<Dropout name=dropout_51, built=True> True\n",
      "<Dense name=dense_51, built=True> True\n",
      "[MODELO CONGELADO]: 37.78492212295532\n"
     ]
    },
    {
     "name": "stderr",
     "output_type": "stream",
     "text": [
      "/home/workstation/Escritorio/PabloC/TransferLearning/funcionesComunes.py:191: FutureWarning: The behavior of DataFrame concatenation with empty or all-NA entries is deprecated. In a future version, this will no longer exclude empty or all-NA columns when determining the result dtypes. To retain the old behavior, exclude the relevant entries before the concat operation.\n",
      "  predictionsDF = pd.concat([predictionsDF, tempDF], ignore_index=True)\n",
      "/home/workstation/Escritorio/PabloC/TransferLearning/funcionesComunes.py:191: FutureWarning: The behavior of DataFrame concatenation with empty or all-NA entries is deprecated. In a future version, this will no longer exclude empty or all-NA columns when determining the result dtypes. To retain the old behavior, exclude the relevant entries before the concat operation.\n",
      "  predictionsDF = pd.concat([predictionsDF, tempDF], ignore_index=True)\n",
      "/home/workstation/Escritorio/PabloC/TransferLearning/funcionesComunes.py:191: FutureWarning: The behavior of DataFrame concatenation with empty or all-NA entries is deprecated. In a future version, this will no longer exclude empty or all-NA columns when determining the result dtypes. To retain the old behavior, exclude the relevant entries before the concat operation.\n",
      "  predictionsDF = pd.concat([predictionsDF, tempDF], ignore_index=True)\n"
     ]
    },
    {
     "name": "stdout",
     "output_type": "stream",
     "text": [
      "RESULTADOS DE MSE, RMSE, R2, MAPE (Train): 183.82189930378308, 13.55809349812071, 0.21097768084052249, 45.87656999878252\n",
      "RESULTADOS DE MSE, RMSE, R2, MAPE (Val): 156.50999956649372, 12.510395659869983, 0.10719055489149598, 41.33045273884505\n",
      "RESULTADOS DE MSE, RMSE, R2, MAPE (Test): 273.5350575027295, 16.53889529269502, -0.9338155628942739, 50.83330877103236\n",
      "Juniperus excelsa M.-Bieb Juniperus excelsa M.-Bieb\n",
      "Juniperus turkestanica Komar. Juniperus excelsa M.-Bieb\n",
      "(6305, 77)\n",
      "SE HA NORMALIZADO EL ARCHIVO: Juniperus turkestanica Komar._merged.csv\n",
      "(3664, 4, 43) (1368, 4, 43) (1001, 4, 43)\n",
      "<LSTM name=lstm_92, built=True> False\n",
      "<Dropout name=dropout_50, built=True> True\n",
      "<LSTM name=lstm_93, built=True> False\n",
      "<LSTM name=lstm_94, built=True> True\n",
      "<Dense name=dense_50, built=True> True\n",
      "<Dropout name=dropout_51, built=True> True\n",
      "<Dense name=dense_51, built=True> True\n",
      "[MODELO CONGELADO]: 18.247904062271118\n"
     ]
    },
    {
     "name": "stderr",
     "output_type": "stream",
     "text": [
      "/home/workstation/Escritorio/PabloC/TransferLearning/funcionesComunes.py:191: FutureWarning: The behavior of DataFrame concatenation with empty or all-NA entries is deprecated. In a future version, this will no longer exclude empty or all-NA columns when determining the result dtypes. To retain the old behavior, exclude the relevant entries before the concat operation.\n",
      "  predictionsDF = pd.concat([predictionsDF, tempDF], ignore_index=True)\n",
      "/home/workstation/Escritorio/PabloC/TransferLearning/funcionesComunes.py:191: FutureWarning: The behavior of DataFrame concatenation with empty or all-NA entries is deprecated. In a future version, this will no longer exclude empty or all-NA columns when determining the result dtypes. To retain the old behavior, exclude the relevant entries before the concat operation.\n",
      "  predictionsDF = pd.concat([predictionsDF, tempDF], ignore_index=True)\n",
      "/home/workstation/Escritorio/PabloC/TransferLearning/funcionesComunes.py:191: FutureWarning: The behavior of DataFrame concatenation with empty or all-NA entries is deprecated. In a future version, this will no longer exclude empty or all-NA columns when determining the result dtypes. To retain the old behavior, exclude the relevant entries before the concat operation.\n",
      "  predictionsDF = pd.concat([predictionsDF, tempDF], ignore_index=True)\n"
     ]
    },
    {
     "name": "stdout",
     "output_type": "stream",
     "text": [
      "RESULTADOS DE MSE, RMSE, R2, MAPE (Train): 11.272667221703617, 3.357479295796717, 0.7488644096235084, 34.42737777861056\n",
      "RESULTADOS DE MSE, RMSE, R2, MAPE (Val): 9.598583783037556, 3.09815812750698, 0.44181634502143063, 42.69410313855413\n",
      "RESULTADOS DE MSE, RMSE, R2, MAPE (Test): 2.892633382814105, 1.7007743479997883, 0.46783625081820046, 34.246522448742\n",
      "Pinus roxburghii Juniperus excelsa M.-Bieb\n",
      "(10635, 77)\n",
      "SE HA NORMALIZADO EL ARCHIVO: Pinus roxburghii_merged.csv\n",
      "(6309, 4, 43) (2167, 4, 43) (1647, 4, 43)\n",
      "<LSTM name=lstm_92, built=True> False\n",
      "<Dropout name=dropout_50, built=True> True\n",
      "<LSTM name=lstm_93, built=True> False\n",
      "<LSTM name=lstm_94, built=True> True\n",
      "<Dense name=dense_50, built=True> True\n",
      "<Dropout name=dropout_51, built=True> True\n",
      "<Dense name=dense_51, built=True> True\n",
      "[MODELO CONGELADO]: 21.282240629196167\n"
     ]
    },
    {
     "name": "stderr",
     "output_type": "stream",
     "text": [
      "/home/workstation/Escritorio/PabloC/TransferLearning/funcionesComunes.py:191: FutureWarning: The behavior of DataFrame concatenation with empty or all-NA entries is deprecated. In a future version, this will no longer exclude empty or all-NA columns when determining the result dtypes. To retain the old behavior, exclude the relevant entries before the concat operation.\n",
      "  predictionsDF = pd.concat([predictionsDF, tempDF], ignore_index=True)\n",
      "/home/workstation/Escritorio/PabloC/TransferLearning/funcionesComunes.py:191: FutureWarning: The behavior of DataFrame concatenation with empty or all-NA entries is deprecated. In a future version, this will no longer exclude empty or all-NA columns when determining the result dtypes. To retain the old behavior, exclude the relevant entries before the concat operation.\n",
      "  predictionsDF = pd.concat([predictionsDF, tempDF], ignore_index=True)\n",
      "/home/workstation/Escritorio/PabloC/TransferLearning/funcionesComunes.py:191: FutureWarning: The behavior of DataFrame concatenation with empty or all-NA entries is deprecated. In a future version, this will no longer exclude empty or all-NA columns when determining the result dtypes. To retain the old behavior, exclude the relevant entries before the concat operation.\n",
      "  predictionsDF = pd.concat([predictionsDF, tempDF], ignore_index=True)\n"
     ]
    },
    {
     "name": "stdout",
     "output_type": "stream",
     "text": [
      "RESULTADOS DE MSE, RMSE, R2, MAPE (Train): 189.3965922083286, 13.762143445275107, 0.28994553946380264, 44.467399403218025\n",
      "RESULTADOS DE MSE, RMSE, R2, MAPE (Val): 154.82183736654395, 12.442742357155192, 0.30885680442271146, 44.82135963925067\n",
      "RESULTADOS DE MSE, RMSE, R2, MAPE (Test): 172.00703832741496, 13.115145379576049, 0.27822252476255394, 45.3404961054315\n",
      "Pinus wallichiana Juniperus excelsa M.-Bieb\n",
      "(9365, 77)\n",
      "SE HA NORMALIZADO EL ARCHIVO: Pinus wallichiana_merged.csv\n",
      "(5508, 4, 43) (1957, 4, 43) (1500, 4, 43)\n",
      "<LSTM name=lstm_92, built=True> False\n",
      "<Dropout name=dropout_50, built=True> True\n",
      "<LSTM name=lstm_93, built=True> False\n",
      "<LSTM name=lstm_94, built=True> True\n",
      "<Dense name=dense_50, built=True> True\n",
      "<Dropout name=dropout_51, built=True> True\n",
      "<Dense name=dense_51, built=True> True\n",
      "[MODELO CONGELADO]: 40.59623050689697\n"
     ]
    },
    {
     "name": "stderr",
     "output_type": "stream",
     "text": [
      "/home/workstation/Escritorio/PabloC/TransferLearning/funcionesComunes.py:191: FutureWarning: The behavior of DataFrame concatenation with empty or all-NA entries is deprecated. In a future version, this will no longer exclude empty or all-NA columns when determining the result dtypes. To retain the old behavior, exclude the relevant entries before the concat operation.\n",
      "  predictionsDF = pd.concat([predictionsDF, tempDF], ignore_index=True)\n",
      "/home/workstation/Escritorio/PabloC/TransferLearning/funcionesComunes.py:191: FutureWarning: The behavior of DataFrame concatenation with empty or all-NA entries is deprecated. In a future version, this will no longer exclude empty or all-NA columns when determining the result dtypes. To retain the old behavior, exclude the relevant entries before the concat operation.\n",
      "  predictionsDF = pd.concat([predictionsDF, tempDF], ignore_index=True)\n",
      "/home/workstation/Escritorio/PabloC/TransferLearning/funcionesComunes.py:191: FutureWarning: The behavior of DataFrame concatenation with empty or all-NA entries is deprecated. In a future version, this will no longer exclude empty or all-NA columns when determining the result dtypes. To retain the old behavior, exclude the relevant entries before the concat operation.\n",
      "  predictionsDF = pd.concat([predictionsDF, tempDF], ignore_index=True)\n"
     ]
    },
    {
     "name": "stdout",
     "output_type": "stream",
     "text": [
      "RESULTADOS DE MSE, RMSE, R2, MAPE (Train): 31.20484454600355, 5.586129657106389, 0.537101033695785, 31.740203375516497\n",
      "RESULTADOS DE MSE, RMSE, R2, MAPE (Val): 25.010928828341914, 5.001092763421002, 0.5816405332926777, 33.02885799385695\n",
      "RESULTADOS DE MSE, RMSE, R2, MAPE (Test): 47.477751279260715, 6.890410095143881, -0.12603535730198856, 45.09364574172158\n",
      "Pinus gerardiana Juniperus excelsa M.-Bieb\n",
      "(10101, 77)\n",
      "SE HA NORMALIZADO EL ARCHIVO: Pinus gerardiana_merged.csv\n",
      "(5767, 4, 43) (2181, 4, 43) (1745, 4, 43)\n",
      "<LSTM name=lstm_92, built=True> False\n",
      "<Dropout name=dropout_50, built=True> True\n",
      "<LSTM name=lstm_93, built=True> False\n",
      "<LSTM name=lstm_94, built=True> True\n",
      "<Dense name=dense_50, built=True> True\n",
      "<Dropout name=dropout_51, built=True> True\n",
      "<Dense name=dense_51, built=True> True\n",
      "[MODELO CONGELADO]: 45.682225942611694\n"
     ]
    },
    {
     "name": "stderr",
     "output_type": "stream",
     "text": [
      "/home/workstation/Escritorio/PabloC/TransferLearning/funcionesComunes.py:191: FutureWarning: The behavior of DataFrame concatenation with empty or all-NA entries is deprecated. In a future version, this will no longer exclude empty or all-NA columns when determining the result dtypes. To retain the old behavior, exclude the relevant entries before the concat operation.\n",
      "  predictionsDF = pd.concat([predictionsDF, tempDF], ignore_index=True)\n",
      "/home/workstation/Escritorio/PabloC/TransferLearning/funcionesComunes.py:191: FutureWarning: The behavior of DataFrame concatenation with empty or all-NA entries is deprecated. In a future version, this will no longer exclude empty or all-NA columns when determining the result dtypes. To retain the old behavior, exclude the relevant entries before the concat operation.\n",
      "  predictionsDF = pd.concat([predictionsDF, tempDF], ignore_index=True)\n",
      "/home/workstation/Escritorio/PabloC/TransferLearning/funcionesComunes.py:191: FutureWarning: The behavior of DataFrame concatenation with empty or all-NA entries is deprecated. In a future version, this will no longer exclude empty or all-NA columns when determining the result dtypes. To retain the old behavior, exclude the relevant entries before the concat operation.\n",
      "  predictionsDF = pd.concat([predictionsDF, tempDF], ignore_index=True)\n"
     ]
    },
    {
     "name": "stdout",
     "output_type": "stream",
     "text": [
      "RESULTADOS DE MSE, RMSE, R2, MAPE (Train): 20.303220760884763, 4.505909537583368, 0.4769519822623032, 36.05206698982972\n",
      "RESULTADOS DE MSE, RMSE, R2, MAPE (Val): 22.350074624193397, 4.727586553855296, 0.43517600353082597, 36.2446582915029\n",
      "RESULTADOS DE MSE, RMSE, R2, MAPE (Test): 18.258252146024677, 4.272967604139385, 0.5455370541406408, 34.15636269139\n",
      "Populus ciliata Juniperus excelsa M.-Bieb\n",
      "(1182, 77)\n",
      "SE HA NORMALIZADO EL ARCHIVO: Populus ciliata_merged.csv\n",
      "(705, 4, 43) (156, 4, 43) (265, 4, 43)\n",
      "<LSTM name=lstm_92, built=True> False\n",
      "<Dropout name=dropout_50, built=True> True\n",
      "<LSTM name=lstm_93, built=True> False\n",
      "<LSTM name=lstm_94, built=True> True\n",
      "<Dense name=dense_50, built=True> True\n",
      "<Dropout name=dropout_51, built=True> True\n",
      "<Dense name=dense_51, built=True> True\n",
      "[MODELO CONGELADO]: 12.82108998298645\n"
     ]
    },
    {
     "name": "stderr",
     "output_type": "stream",
     "text": [
      "/home/workstation/Escritorio/PabloC/TransferLearning/funcionesComunes.py:191: FutureWarning: The behavior of DataFrame concatenation with empty or all-NA entries is deprecated. In a future version, this will no longer exclude empty or all-NA columns when determining the result dtypes. To retain the old behavior, exclude the relevant entries before the concat operation.\n",
      "  predictionsDF = pd.concat([predictionsDF, tempDF], ignore_index=True)\n",
      "/home/workstation/Escritorio/PabloC/TransferLearning/funcionesComunes.py:191: FutureWarning: The behavior of DataFrame concatenation with empty or all-NA entries is deprecated. In a future version, this will no longer exclude empty or all-NA columns when determining the result dtypes. To retain the old behavior, exclude the relevant entries before the concat operation.\n",
      "  predictionsDF = pd.concat([predictionsDF, tempDF], ignore_index=True)\n",
      "/home/workstation/Escritorio/PabloC/TransferLearning/funcionesComunes.py:191: FutureWarning: The behavior of DataFrame concatenation with empty or all-NA entries is deprecated. In a future version, this will no longer exclude empty or all-NA columns when determining the result dtypes. To retain the old behavior, exclude the relevant entries before the concat operation.\n",
      "  predictionsDF = pd.concat([predictionsDF, tempDF], ignore_index=True)\n"
     ]
    },
    {
     "name": "stdout",
     "output_type": "stream",
     "text": [
      "RESULTADOS DE MSE, RMSE, R2, MAPE (Train): 194.33734464741465, 13.940492984375217, 0.46491966250656513, 38.567980124876456\n",
      "RESULTADOS DE MSE, RMSE, R2, MAPE (Val): 232.11991176475397, 15.235481999751565, 0.010984738417237683, 47.38655277261955\n",
      "RESULTADOS DE MSE, RMSE, R2, MAPE (Test): 83.56986652723714, 9.14165556818004, 0.5824217945972434, 33.115423380376605\n",
      "Betula utilis Juniperus excelsa M.-Bieb\n",
      "(3473, 77)\n",
      "SE HA NORMALIZADO EL ARCHIVO: Betula utilis_merged.csv\n",
      "(2059, 4, 43) (665, 4, 43) (593, 4, 43)\n",
      "<LSTM name=lstm_92, built=True> False\n",
      "<Dropout name=dropout_50, built=True> True\n",
      "<LSTM name=lstm_93, built=True> False\n",
      "<LSTM name=lstm_94, built=True> True\n",
      "<Dense name=dense_50, built=True> True\n",
      "<Dropout name=dropout_51, built=True> True\n",
      "<Dense name=dense_51, built=True> True\n",
      "[MODELO CONGELADO]: 13.490237712860107\n"
     ]
    },
    {
     "name": "stderr",
     "output_type": "stream",
     "text": [
      "/home/workstation/Escritorio/PabloC/TransferLearning/funcionesComunes.py:191: FutureWarning: The behavior of DataFrame concatenation with empty or all-NA entries is deprecated. In a future version, this will no longer exclude empty or all-NA columns when determining the result dtypes. To retain the old behavior, exclude the relevant entries before the concat operation.\n",
      "  predictionsDF = pd.concat([predictionsDF, tempDF], ignore_index=True)\n",
      "/home/workstation/Escritorio/PabloC/TransferLearning/funcionesComunes.py:191: FutureWarning: The behavior of DataFrame concatenation with empty or all-NA entries is deprecated. In a future version, this will no longer exclude empty or all-NA columns when determining the result dtypes. To retain the old behavior, exclude the relevant entries before the concat operation.\n",
      "  predictionsDF = pd.concat([predictionsDF, tempDF], ignore_index=True)\n",
      "/home/workstation/Escritorio/PabloC/TransferLearning/funcionesComunes.py:191: FutureWarning: The behavior of DataFrame concatenation with empty or all-NA entries is deprecated. In a future version, this will no longer exclude empty or all-NA columns when determining the result dtypes. To retain the old behavior, exclude the relevant entries before the concat operation.\n",
      "  predictionsDF = pd.concat([predictionsDF, tempDF], ignore_index=True)\n"
     ]
    },
    {
     "name": "stdout",
     "output_type": "stream",
     "text": [
      "RESULTADOS DE MSE, RMSE, R2, MAPE (Train): 5.1136865759026895, 2.2613461866557913, 0.24509054198298197, 56.94267744621511\n",
      "RESULTADOS DE MSE, RMSE, R2, MAPE (Val): 1.5124406177959386, 1.2298132450888382, 0.2123719976703654, 45.39486630406478\n",
      "RESULTADOS DE MSE, RMSE, R2, MAPE (Test): 1.3935869122708002, 1.180502821797051, 0.4674411896925702, 44.961095192255016\n",
      "Tsuga dumosa Juniperus excelsa M.-Bieb\n",
      "(20493, 77)\n",
      "SE HA NORMALIZADO EL ARCHIVO: Tsuga dumosa_merged.csv\n",
      "(11935, 4, 43) (4144, 4, 43) (3469, 4, 43)\n",
      "<LSTM name=lstm_92, built=True> False\n",
      "<Dropout name=dropout_50, built=True> True\n",
      "<LSTM name=lstm_93, built=True> False\n",
      "<LSTM name=lstm_94, built=True> True\n",
      "<Dense name=dense_50, built=True> True\n",
      "<Dropout name=dropout_51, built=True> True\n",
      "<Dense name=dense_51, built=True> True\n",
      "[MODELO CONGELADO]: 92.50226473808289\n"
     ]
    },
    {
     "name": "stderr",
     "output_type": "stream",
     "text": [
      "/home/workstation/Escritorio/PabloC/TransferLearning/funcionesComunes.py:191: FutureWarning: The behavior of DataFrame concatenation with empty or all-NA entries is deprecated. In a future version, this will no longer exclude empty or all-NA columns when determining the result dtypes. To retain the old behavior, exclude the relevant entries before the concat operation.\n",
      "  predictionsDF = pd.concat([predictionsDF, tempDF], ignore_index=True)\n",
      "/home/workstation/Escritorio/PabloC/TransferLearning/funcionesComunes.py:191: FutureWarning: The behavior of DataFrame concatenation with empty or all-NA entries is deprecated. In a future version, this will no longer exclude empty or all-NA columns when determining the result dtypes. To retain the old behavior, exclude the relevant entries before the concat operation.\n",
      "  predictionsDF = pd.concat([predictionsDF, tempDF], ignore_index=True)\n",
      "/home/workstation/Escritorio/PabloC/TransferLearning/funcionesComunes.py:191: FutureWarning: The behavior of DataFrame concatenation with empty or all-NA entries is deprecated. In a future version, this will no longer exclude empty or all-NA columns when determining the result dtypes. To retain the old behavior, exclude the relevant entries before the concat operation.\n",
      "  predictionsDF = pd.concat([predictionsDF, tempDF], ignore_index=True)\n"
     ]
    },
    {
     "name": "stdout",
     "output_type": "stream",
     "text": [
      "RESULTADOS DE MSE, RMSE, R2, MAPE (Train): 269.7607522015164, 16.424395033045098, 0.30731075545264797, 47.001906712968314\n",
      "RESULTADOS DE MSE, RMSE, R2, MAPE (Val): 224.35767713243433, 14.97857393520606, 0.2880336417219157, 42.45732116513838\n",
      "RESULTADOS DE MSE, RMSE, R2, MAPE (Test): 412.5560674583222, 20.311476250098668, 0.32660090053345336, 47.56362125239725\n",
      "Cedrus deodara Juniperus excelsa M.-Bieb\n",
      "(37273, 77)\n",
      "SE HA NORMALIZADO EL ARCHIVO: Cedrus deodara_merged.csv\n",
      "(22017, 4, 43) (7410, 4, 43) (6282, 4, 43)\n",
      "<LSTM name=lstm_92, built=True> False\n",
      "<Dropout name=dropout_50, built=True> True\n",
      "<LSTM name=lstm_93, built=True> False\n",
      "<LSTM name=lstm_94, built=True> True\n",
      "<Dense name=dense_50, built=True> True\n",
      "<Dropout name=dropout_51, built=True> True\n",
      "<Dense name=dense_51, built=True> True\n",
      "[MODELO CONGELADO]: 150.50915050506592\n"
     ]
    },
    {
     "name": "stderr",
     "output_type": "stream",
     "text": [
      "/home/workstation/Escritorio/PabloC/TransferLearning/funcionesComunes.py:191: FutureWarning: The behavior of DataFrame concatenation with empty or all-NA entries is deprecated. In a future version, this will no longer exclude empty or all-NA columns when determining the result dtypes. To retain the old behavior, exclude the relevant entries before the concat operation.\n",
      "  predictionsDF = pd.concat([predictionsDF, tempDF], ignore_index=True)\n",
      "/home/workstation/Escritorio/PabloC/TransferLearning/funcionesComunes.py:191: FutureWarning: The behavior of DataFrame concatenation with empty or all-NA entries is deprecated. In a future version, this will no longer exclude empty or all-NA columns when determining the result dtypes. To retain the old behavior, exclude the relevant entries before the concat operation.\n",
      "  predictionsDF = pd.concat([predictionsDF, tempDF], ignore_index=True)\n",
      "/home/workstation/Escritorio/PabloC/TransferLearning/funcionesComunes.py:191: FutureWarning: The behavior of DataFrame concatenation with empty or all-NA entries is deprecated. In a future version, this will no longer exclude empty or all-NA columns when determining the result dtypes. To retain the old behavior, exclude the relevant entries before the concat operation.\n",
      "  predictionsDF = pd.concat([predictionsDF, tempDF], ignore_index=True)\n"
     ]
    },
    {
     "name": "stdout",
     "output_type": "stream",
     "text": [
      "RESULTADOS DE MSE, RMSE, R2, MAPE (Train): 241.9242968875524, 15.553915805595464, 0.4336048181935044, 42.203419136889345\n",
      "RESULTADOS DE MSE, RMSE, R2, MAPE (Val): 300.1568100245309, 17.325034199808407, 0.3272141823305361, 45.11886517104804\n",
      "RESULTADOS DE MSE, RMSE, R2, MAPE (Test): 211.69285992969253, 14.549668722334971, 0.3993300589572638, 41.735892135086424\n",
      "Juniperus spp. L. Juniperus excelsa M.-Bieb\n",
      "(7264, 77)\n",
      "SE HA NORMALIZADO EL ARCHIVO: Juniperus spp. L._merged.csv\n",
      "(4216, 4, 43) (1524, 4, 43) (1188, 4, 43)\n",
      "<LSTM name=lstm_92, built=True> False\n",
      "<Dropout name=dropout_50, built=True> True\n",
      "<LSTM name=lstm_93, built=True> False\n",
      "<LSTM name=lstm_94, built=True> True\n",
      "<Dense name=dense_50, built=True> True\n",
      "<Dropout name=dropout_51, built=True> True\n",
      "<Dense name=dense_51, built=True> True\n",
      "[MODELO CONGELADO]: 10.42617130279541\n"
     ]
    },
    {
     "name": "stderr",
     "output_type": "stream",
     "text": [
      "/home/workstation/Escritorio/PabloC/TransferLearning/funcionesComunes.py:191: FutureWarning: The behavior of DataFrame concatenation with empty or all-NA entries is deprecated. In a future version, this will no longer exclude empty or all-NA columns when determining the result dtypes. To retain the old behavior, exclude the relevant entries before the concat operation.\n",
      "  predictionsDF = pd.concat([predictionsDF, tempDF], ignore_index=True)\n",
      "/home/workstation/Escritorio/PabloC/TransferLearning/funcionesComunes.py:191: FutureWarning: The behavior of DataFrame concatenation with empty or all-NA entries is deprecated. In a future version, this will no longer exclude empty or all-NA columns when determining the result dtypes. To retain the old behavior, exclude the relevant entries before the concat operation.\n",
      "  predictionsDF = pd.concat([predictionsDF, tempDF], ignore_index=True)\n",
      "/home/workstation/Escritorio/PabloC/TransferLearning/funcionesComunes.py:191: FutureWarning: The behavior of DataFrame concatenation with empty or all-NA entries is deprecated. In a future version, this will no longer exclude empty or all-NA columns when determining the result dtypes. To retain the old behavior, exclude the relevant entries before the concat operation.\n",
      "  predictionsDF = pd.concat([predictionsDF, tempDF], ignore_index=True)\n"
     ]
    },
    {
     "name": "stdout",
     "output_type": "stream",
     "text": [
      "RESULTADOS DE MSE, RMSE, R2, MAPE (Train): 4.6043852792155935, 2.1457831389065376, 0.6326479073458364, 39.62824044155567\n",
      "RESULTADOS DE MSE, RMSE, R2, MAPE (Val): 1.5344469875070403, 1.2387279715526893, 0.3191300140801644, 43.10658364441331\n",
      "RESULTADOS DE MSE, RMSE, R2, MAPE (Test): 13.091571264173691, 3.6182276412870555, 0.3094119269097274, 53.14038182177261\n",
      "Juniperus recurva Juniperus excelsa M.-Bieb\n",
      "(5316, 77)\n",
      "SE HA NORMALIZADO EL ARCHIVO: Juniperus recurva_merged.csv\n",
      "(3188, 4, 43) (1082, 4, 43) (810, 4, 43)\n",
      "<LSTM name=lstm_92, built=True> False\n",
      "<Dropout name=dropout_50, built=True> True\n",
      "<LSTM name=lstm_93, built=True> False\n",
      "<LSTM name=lstm_94, built=True> True\n",
      "<Dense name=dense_50, built=True> True\n",
      "<Dropout name=dropout_51, built=True> True\n",
      "<Dense name=dense_51, built=True> True\n",
      "[MODELO CONGELADO]: 15.366733312606812\n"
     ]
    },
    {
     "name": "stderr",
     "output_type": "stream",
     "text": [
      "/home/workstation/Escritorio/PabloC/TransferLearning/funcionesComunes.py:191: FutureWarning: The behavior of DataFrame concatenation with empty or all-NA entries is deprecated. In a future version, this will no longer exclude empty or all-NA columns when determining the result dtypes. To retain the old behavior, exclude the relevant entries before the concat operation.\n",
      "  predictionsDF = pd.concat([predictionsDF, tempDF], ignore_index=True)\n",
      "/home/workstation/Escritorio/PabloC/TransferLearning/funcionesComunes.py:191: FutureWarning: The behavior of DataFrame concatenation with empty or all-NA entries is deprecated. In a future version, this will no longer exclude empty or all-NA columns when determining the result dtypes. To retain the old behavior, exclude the relevant entries before the concat operation.\n",
      "  predictionsDF = pd.concat([predictionsDF, tempDF], ignore_index=True)\n",
      "/home/workstation/Escritorio/PabloC/TransferLearning/funcionesComunes.py:191: FutureWarning: The behavior of DataFrame concatenation with empty or all-NA entries is deprecated. In a future version, this will no longer exclude empty or all-NA columns when determining the result dtypes. To retain the old behavior, exclude the relevant entries before the concat operation.\n",
      "  predictionsDF = pd.concat([predictionsDF, tempDF], ignore_index=True)\n"
     ]
    },
    {
     "name": "stdout",
     "output_type": "stream",
     "text": [
      "RESULTADOS DE MSE, RMSE, R2, MAPE (Train): 10.546311049505329, 3.2475084371723084, 0.5809285951895711, 36.91815750654768\n",
      "RESULTADOS DE MSE, RMSE, R2, MAPE (Val): 8.336364010590097, 2.8872762269291274, 0.6972948146948761, 30.97689944868992\n",
      "RESULTADOS DE MSE, RMSE, R2, MAPE (Test): 3.50584226149927, 1.8723894524108147, 0.6272860244325515, 29.245474004441995\n",
      "totalMerged.csv Juniperus excelsa M.-Bieb\n",
      "Juniperus spp.  Juniperus excelsa M.-Bieb\n",
      "(17976, 77)\n",
      "SE HA NORMALIZADO EL ARCHIVO: Juniperus spp. _merged.csv\n",
      "(10218, 4, 43) (3900, 4, 43) (3018, 4, 43)\n",
      "<LSTM name=lstm_92, built=True> False\n",
      "<Dropout name=dropout_50, built=True> True\n",
      "<LSTM name=lstm_93, built=True> False\n",
      "<LSTM name=lstm_94, built=True> True\n",
      "<Dense name=dense_50, built=True> True\n",
      "<Dropout name=dropout_51, built=True> True\n",
      "<Dense name=dense_51, built=True> True\n",
      "[MODELO CONGELADO]: 22.018192768096924\n"
     ]
    },
    {
     "name": "stderr",
     "output_type": "stream",
     "text": [
      "/home/workstation/Escritorio/PabloC/TransferLearning/funcionesComunes.py:191: FutureWarning: The behavior of DataFrame concatenation with empty or all-NA entries is deprecated. In a future version, this will no longer exclude empty or all-NA columns when determining the result dtypes. To retain the old behavior, exclude the relevant entries before the concat operation.\n",
      "  predictionsDF = pd.concat([predictionsDF, tempDF], ignore_index=True)\n",
      "/home/workstation/Escritorio/PabloC/TransferLearning/funcionesComunes.py:191: FutureWarning: The behavior of DataFrame concatenation with empty or all-NA entries is deprecated. In a future version, this will no longer exclude empty or all-NA columns when determining the result dtypes. To retain the old behavior, exclude the relevant entries before the concat operation.\n",
      "  predictionsDF = pd.concat([predictionsDF, tempDF], ignore_index=True)\n",
      "/home/workstation/Escritorio/PabloC/TransferLearning/funcionesComunes.py:191: FutureWarning: The behavior of DataFrame concatenation with empty or all-NA entries is deprecated. In a future version, this will no longer exclude empty or all-NA columns when determining the result dtypes. To retain the old behavior, exclude the relevant entries before the concat operation.\n",
      "  predictionsDF = pd.concat([predictionsDF, tempDF], ignore_index=True)\n"
     ]
    },
    {
     "name": "stdout",
     "output_type": "stream",
     "text": [
      "RESULTADOS DE MSE, RMSE, R2, MAPE (Train): 30.23987804173002, 5.499079744987339, 0.5068083081970906, 41.8940331030691\n",
      "RESULTADOS DE MSE, RMSE, R2, MAPE (Val): 9.776918459168488, 3.126806431355879, 0.503022004524849, 43.06474815525673\n",
      "RESULTADOS DE MSE, RMSE, R2, MAPE (Test): 46.08833175313776, 6.78883876323026, 0.5589478120535876, 42.317250216803934\n",
      "Procesando el modelo: model_Picea smithiana.keras\n",
      "Abies spectabilis Picea smithiana\n",
      "(96429, 77)\n",
      "SE HA NORMALIZADO EL ARCHIVO: Abies spectabilis_merged.csv\n",
      "(56618, 4, 43) (19637, 4, 43) (15689, 4, 43)\n",
      "<LSTM name=lstm_85, built=True> False\n",
      "<LSTM name=lstm_86, built=True> False\n",
      "<Dropout name=dropout_46, built=True> True\n",
      "<LSTM name=lstm_87, built=True> True\n",
      "<Dense name=dense_46, built=True> True\n",
      "<Dropout name=dropout_47, built=True> True\n",
      "<Dense name=dense_47, built=True> True\n",
      "[MODELO CONGELADO]: 1528.4648842811584\n"
     ]
    },
    {
     "name": "stderr",
     "output_type": "stream",
     "text": [
      "/home/workstation/Escritorio/PabloC/TransferLearning/funcionesComunes.py:191: FutureWarning: The behavior of DataFrame concatenation with empty or all-NA entries is deprecated. In a future version, this will no longer exclude empty or all-NA columns when determining the result dtypes. To retain the old behavior, exclude the relevant entries before the concat operation.\n",
      "  predictionsDF = pd.concat([predictionsDF, tempDF], ignore_index=True)\n",
      "/home/workstation/Escritorio/PabloC/TransferLearning/funcionesComunes.py:191: FutureWarning: The behavior of DataFrame concatenation with empty or all-NA entries is deprecated. In a future version, this will no longer exclude empty or all-NA columns when determining the result dtypes. To retain the old behavior, exclude the relevant entries before the concat operation.\n",
      "  predictionsDF = pd.concat([predictionsDF, tempDF], ignore_index=True)\n",
      "/home/workstation/Escritorio/PabloC/TransferLearning/funcionesComunes.py:191: FutureWarning: The behavior of DataFrame concatenation with empty or all-NA entries is deprecated. In a future version, this will no longer exclude empty or all-NA columns when determining the result dtypes. To retain the old behavior, exclude the relevant entries before the concat operation.\n",
      "  predictionsDF = pd.concat([predictionsDF, tempDF], ignore_index=True)\n"
     ]
    },
    {
     "name": "stdout",
     "output_type": "stream",
     "text": [
      "RESULTADOS DE MSE, RMSE, R2, MAPE (Train): 75.99133381003564, 8.717300832828682, 0.33329328525677937, 47.4247591792926\n",
      "RESULTADOS DE MSE, RMSE, R2, MAPE (Val): 74.51999363770963, 8.632496373454762, 0.32100026302806295, 46.96343281099989\n",
      "RESULTADOS DE MSE, RMSE, R2, MAPE (Test): 78.66169192597079, 8.869142682693225, 0.4166247603163822, 46.006172353038025\n",
      "Picea smithiana Picea smithiana\n",
      "Abies pindrow Picea smithiana\n",
      "(16018, 77)\n",
      "SE HA NORMALIZADO EL ARCHIVO: Abies pindrow_merged.csv\n",
      "(9042, 4, 43) (3441, 4, 43) (2815, 4, 43)\n",
      "<LSTM name=lstm_85, built=True> False\n",
      "<LSTM name=lstm_86, built=True> False\n",
      "<Dropout name=dropout_46, built=True> True\n",
      "<LSTM name=lstm_87, built=True> True\n",
      "<Dense name=dense_46, built=True> True\n",
      "<Dropout name=dropout_47, built=True> True\n",
      "<Dense name=dense_47, built=True> True\n",
      "[MODELO CONGELADO]: 55.63495492935181\n"
     ]
    },
    {
     "name": "stderr",
     "output_type": "stream",
     "text": [
      "/home/workstation/Escritorio/PabloC/TransferLearning/funcionesComunes.py:191: FutureWarning: The behavior of DataFrame concatenation with empty or all-NA entries is deprecated. In a future version, this will no longer exclude empty or all-NA columns when determining the result dtypes. To retain the old behavior, exclude the relevant entries before the concat operation.\n",
      "  predictionsDF = pd.concat([predictionsDF, tempDF], ignore_index=True)\n",
      "/home/workstation/Escritorio/PabloC/TransferLearning/funcionesComunes.py:191: FutureWarning: The behavior of DataFrame concatenation with empty or all-NA entries is deprecated. In a future version, this will no longer exclude empty or all-NA columns when determining the result dtypes. To retain the old behavior, exclude the relevant entries before the concat operation.\n",
      "  predictionsDF = pd.concat([predictionsDF, tempDF], ignore_index=True)\n",
      "/home/workstation/Escritorio/PabloC/TransferLearning/funcionesComunes.py:191: FutureWarning: The behavior of DataFrame concatenation with empty or all-NA entries is deprecated. In a future version, this will no longer exclude empty or all-NA columns when determining the result dtypes. To retain the old behavior, exclude the relevant entries before the concat operation.\n",
      "  predictionsDF = pd.concat([predictionsDF, tempDF], ignore_index=True)\n"
     ]
    },
    {
     "name": "stdout",
     "output_type": "stream",
     "text": [
      "RESULTADOS DE MSE, RMSE, R2, MAPE (Train): 187.8136742577212, 13.70451291574134, 0.19384370744753765, 45.98428167568262\n",
      "RESULTADOS DE MSE, RMSE, R2, MAPE (Val): 153.3464935239083, 12.383315126568826, 0.12523673776991417, 40.564428854408014\n",
      "RESULTADOS DE MSE, RMSE, R2, MAPE (Test): 290.4880568235325, 17.04371018362881, -1.0536684776307248, 51.03882436839393\n",
      "Juniperus excelsa M.-Bieb Picea smithiana\n",
      "(7449, 77)\n",
      "SE HA NORMALIZADO EL ARCHIVO: Juniperus excelsa M.-Bieb_merged.csv\n",
      "(4189, 4, 43) (1707, 4, 43) (1228, 4, 43)\n",
      "<LSTM name=lstm_85, built=True> False\n",
      "<LSTM name=lstm_86, built=True> False\n",
      "<Dropout name=dropout_46, built=True> True\n",
      "<LSTM name=lstm_87, built=True> True\n",
      "<Dense name=dense_46, built=True> True\n",
      "<Dropout name=dropout_47, built=True> True\n",
      "<Dense name=dense_47, built=True> True\n",
      "[MODELO CONGELADO]: 9.941096544265747\n"
     ]
    },
    {
     "name": "stderr",
     "output_type": "stream",
     "text": [
      "/home/workstation/Escritorio/PabloC/TransferLearning/funcionesComunes.py:191: FutureWarning: The behavior of DataFrame concatenation with empty or all-NA entries is deprecated. In a future version, this will no longer exclude empty or all-NA columns when determining the result dtypes. To retain the old behavior, exclude the relevant entries before the concat operation.\n",
      "  predictionsDF = pd.concat([predictionsDF, tempDF], ignore_index=True)\n",
      "/home/workstation/Escritorio/PabloC/TransferLearning/funcionesComunes.py:191: FutureWarning: The behavior of DataFrame concatenation with empty or all-NA entries is deprecated. In a future version, this will no longer exclude empty or all-NA columns when determining the result dtypes. To retain the old behavior, exclude the relevant entries before the concat operation.\n",
      "  predictionsDF = pd.concat([predictionsDF, tempDF], ignore_index=True)\n",
      "/home/workstation/Escritorio/PabloC/TransferLearning/funcionesComunes.py:191: FutureWarning: The behavior of DataFrame concatenation with empty or all-NA entries is deprecated. In a future version, this will no longer exclude empty or all-NA columns when determining the result dtypes. To retain the old behavior, exclude the relevant entries before the concat operation.\n",
      "  predictionsDF = pd.concat([predictionsDF, tempDF], ignore_index=True)\n"
     ]
    },
    {
     "name": "stdout",
     "output_type": "stream",
     "text": [
      "RESULTADOS DE MSE, RMSE, R2, MAPE (Train): 20.40471919574729, 4.517158309794698, 0.17058891926644326, 49.5767603040337\n",
      "RESULTADOS DE MSE, RMSE, R2, MAPE (Val): 23.309210210351573, 4.827961289234988, 0.11107421145003171, 56.738286446286125\n",
      "RESULTADOS DE MSE, RMSE, R2, MAPE (Test): 76.5692019322833, 8.750382959178605, -0.13520204707112482, 68.61694249377894\n",
      "Juniperus turkestanica Komar. Picea smithiana\n",
      "(6305, 77)\n",
      "SE HA NORMALIZADO EL ARCHIVO: Juniperus turkestanica Komar._merged.csv\n",
      "(3664, 4, 43) (1368, 4, 43) (1001, 4, 43)\n",
      "<LSTM name=lstm_85, built=True> False\n",
      "<LSTM name=lstm_86, built=True> False\n",
      "<Dropout name=dropout_46, built=True> True\n",
      "<LSTM name=lstm_87, built=True> True\n",
      "<Dense name=dense_46, built=True> True\n",
      "<Dropout name=dropout_47, built=True> True\n",
      "<Dense name=dense_47, built=True> True\n",
      "[MODELO CONGELADO]: 45.22803473472595\n"
     ]
    },
    {
     "name": "stderr",
     "output_type": "stream",
     "text": [
      "/home/workstation/Escritorio/PabloC/TransferLearning/funcionesComunes.py:191: FutureWarning: The behavior of DataFrame concatenation with empty or all-NA entries is deprecated. In a future version, this will no longer exclude empty or all-NA columns when determining the result dtypes. To retain the old behavior, exclude the relevant entries before the concat operation.\n",
      "  predictionsDF = pd.concat([predictionsDF, tempDF], ignore_index=True)\n",
      "/home/workstation/Escritorio/PabloC/TransferLearning/funcionesComunes.py:191: FutureWarning: The behavior of DataFrame concatenation with empty or all-NA entries is deprecated. In a future version, this will no longer exclude empty or all-NA columns when determining the result dtypes. To retain the old behavior, exclude the relevant entries before the concat operation.\n",
      "  predictionsDF = pd.concat([predictionsDF, tempDF], ignore_index=True)\n",
      "/home/workstation/Escritorio/PabloC/TransferLearning/funcionesComunes.py:191: FutureWarning: The behavior of DataFrame concatenation with empty or all-NA entries is deprecated. In a future version, this will no longer exclude empty or all-NA columns when determining the result dtypes. To retain the old behavior, exclude the relevant entries before the concat operation.\n",
      "  predictionsDF = pd.concat([predictionsDF, tempDF], ignore_index=True)\n"
     ]
    },
    {
     "name": "stdout",
     "output_type": "stream",
     "text": [
      "RESULTADOS DE MSE, RMSE, R2, MAPE (Train): 10.27003086722964, 3.204688887743963, 0.7712014189453983, 32.611740050316094\n",
      "RESULTADOS DE MSE, RMSE, R2, MAPE (Val): 10.10776199200044, 3.179270669823574, 0.41220625251834675, 43.35260057779152\n",
      "RESULTADOS DE MSE, RMSE, R2, MAPE (Test): 2.854922578868969, 1.6896516146439682, 0.47477398545520444, 33.99661215200655\n",
      "Pinus roxburghii Picea smithiana\n",
      "(10635, 77)\n",
      "SE HA NORMALIZADO EL ARCHIVO: Pinus roxburghii_merged.csv\n",
      "(6309, 4, 43) (2167, 4, 43) (1647, 4, 43)\n",
      "<LSTM name=lstm_85, built=True> False\n",
      "<LSTM name=lstm_86, built=True> False\n",
      "<Dropout name=dropout_46, built=True> True\n",
      "<LSTM name=lstm_87, built=True> True\n",
      "<Dense name=dense_46, built=True> True\n",
      "<Dropout name=dropout_47, built=True> True\n",
      "<Dense name=dense_47, built=True> True\n",
      "[MODELO CONGELADO]: 49.16897487640381\n"
     ]
    },
    {
     "name": "stderr",
     "output_type": "stream",
     "text": [
      "/home/workstation/Escritorio/PabloC/TransferLearning/funcionesComunes.py:191: FutureWarning: The behavior of DataFrame concatenation with empty or all-NA entries is deprecated. In a future version, this will no longer exclude empty or all-NA columns when determining the result dtypes. To retain the old behavior, exclude the relevant entries before the concat operation.\n",
      "  predictionsDF = pd.concat([predictionsDF, tempDF], ignore_index=True)\n",
      "/home/workstation/Escritorio/PabloC/TransferLearning/funcionesComunes.py:191: FutureWarning: The behavior of DataFrame concatenation with empty or all-NA entries is deprecated. In a future version, this will no longer exclude empty or all-NA columns when determining the result dtypes. To retain the old behavior, exclude the relevant entries before the concat operation.\n",
      "  predictionsDF = pd.concat([predictionsDF, tempDF], ignore_index=True)\n",
      "/home/workstation/Escritorio/PabloC/TransferLearning/funcionesComunes.py:191: FutureWarning: The behavior of DataFrame concatenation with empty or all-NA entries is deprecated. In a future version, this will no longer exclude empty or all-NA columns when determining the result dtypes. To retain the old behavior, exclude the relevant entries before the concat operation.\n",
      "  predictionsDF = pd.concat([predictionsDF, tempDF], ignore_index=True)\n"
     ]
    },
    {
     "name": "stdout",
     "output_type": "stream",
     "text": [
      "RESULTADOS DE MSE, RMSE, R2, MAPE (Train): 187.6763824916801, 13.699503001630392, 0.29639466596667263, 44.22167064591426\n",
      "RESULTADOS DE MSE, RMSE, R2, MAPE (Val): 148.85156351313094, 12.200473905268227, 0.3355088208288355, 44.08327510327162\n",
      "RESULTADOS DE MSE, RMSE, R2, MAPE (Test): 173.43960819226032, 13.169647231124314, 0.27221116226132225, 45.620734921994185\n",
      "Pinus wallichiana Picea smithiana\n",
      "(9365, 77)\n",
      "SE HA NORMALIZADO EL ARCHIVO: Pinus wallichiana_merged.csv\n",
      "(5508, 4, 43) (1957, 4, 43) (1500, 4, 43)\n",
      "<LSTM name=lstm_85, built=True> False\n",
      "<LSTM name=lstm_86, built=True> False\n",
      "<Dropout name=dropout_46, built=True> True\n",
      "<LSTM name=lstm_87, built=True> True\n",
      "<Dense name=dense_46, built=True> True\n",
      "<Dropout name=dropout_47, built=True> True\n",
      "<Dense name=dense_47, built=True> True\n",
      "[MODELO CONGELADO]: 20.15566349029541\n"
     ]
    },
    {
     "name": "stderr",
     "output_type": "stream",
     "text": [
      "/home/workstation/Escritorio/PabloC/TransferLearning/funcionesComunes.py:191: FutureWarning: The behavior of DataFrame concatenation with empty or all-NA entries is deprecated. In a future version, this will no longer exclude empty or all-NA columns when determining the result dtypes. To retain the old behavior, exclude the relevant entries before the concat operation.\n",
      "  predictionsDF = pd.concat([predictionsDF, tempDF], ignore_index=True)\n",
      "/home/workstation/Escritorio/PabloC/TransferLearning/funcionesComunes.py:191: FutureWarning: The behavior of DataFrame concatenation with empty or all-NA entries is deprecated. In a future version, this will no longer exclude empty or all-NA columns when determining the result dtypes. To retain the old behavior, exclude the relevant entries before the concat operation.\n",
      "  predictionsDF = pd.concat([predictionsDF, tempDF], ignore_index=True)\n",
      "/home/workstation/Escritorio/PabloC/TransferLearning/funcionesComunes.py:191: FutureWarning: The behavior of DataFrame concatenation with empty or all-NA entries is deprecated. In a future version, this will no longer exclude empty or all-NA columns when determining the result dtypes. To retain the old behavior, exclude the relevant entries before the concat operation.\n",
      "  predictionsDF = pd.concat([predictionsDF, tempDF], ignore_index=True)\n"
     ]
    },
    {
     "name": "stdout",
     "output_type": "stream",
     "text": [
      "RESULTADOS DE MSE, RMSE, R2, MAPE (Train): 31.212580353140414, 5.586822026263269, 0.5369862791703489, 31.852988966662206\n",
      "RESULTADOS DE MSE, RMSE, R2, MAPE (Val): 25.422659511603552, 5.04208880441465, 0.5747534868235683, 33.997030207385464\n",
      "RESULTADOS DE MSE, RMSE, R2, MAPE (Test): 52.39210784240431, 7.238239277780496, -0.2425897243346582, 46.53772633268583\n",
      "Pinus gerardiana Picea smithiana\n",
      "(10101, 77)\n",
      "SE HA NORMALIZADO EL ARCHIVO: Pinus gerardiana_merged.csv\n",
      "(5767, 4, 43) (2181, 4, 43) (1745, 4, 43)\n",
      "<LSTM name=lstm_85, built=True> False\n",
      "<LSTM name=lstm_86, built=True> False\n",
      "<Dropout name=dropout_46, built=True> True\n",
      "<LSTM name=lstm_87, built=True> True\n",
      "<Dense name=dense_46, built=True> True\n",
      "<Dropout name=dropout_47, built=True> True\n",
      "<Dense name=dense_47, built=True> True\n",
      "[MODELO CONGELADO]: 23.16975975036621\n"
     ]
    },
    {
     "name": "stderr",
     "output_type": "stream",
     "text": [
      "/home/workstation/Escritorio/PabloC/TransferLearning/funcionesComunes.py:191: FutureWarning: The behavior of DataFrame concatenation with empty or all-NA entries is deprecated. In a future version, this will no longer exclude empty or all-NA columns when determining the result dtypes. To retain the old behavior, exclude the relevant entries before the concat operation.\n",
      "  predictionsDF = pd.concat([predictionsDF, tempDF], ignore_index=True)\n",
      "/home/workstation/Escritorio/PabloC/TransferLearning/funcionesComunes.py:191: FutureWarning: The behavior of DataFrame concatenation with empty or all-NA entries is deprecated. In a future version, this will no longer exclude empty or all-NA columns when determining the result dtypes. To retain the old behavior, exclude the relevant entries before the concat operation.\n",
      "  predictionsDF = pd.concat([predictionsDF, tempDF], ignore_index=True)\n",
      "/home/workstation/Escritorio/PabloC/TransferLearning/funcionesComunes.py:191: FutureWarning: The behavior of DataFrame concatenation with empty or all-NA entries is deprecated. In a future version, this will no longer exclude empty or all-NA columns when determining the result dtypes. To retain the old behavior, exclude the relevant entries before the concat operation.\n",
      "  predictionsDF = pd.concat([predictionsDF, tempDF], ignore_index=True)\n"
     ]
    },
    {
     "name": "stdout",
     "output_type": "stream",
     "text": [
      "RESULTADOS DE MSE, RMSE, R2, MAPE (Train): 20.59322942088233, 4.537976357461807, 0.4694808299498223, 36.46813789728147\n",
      "RESULTADOS DE MSE, RMSE, R2, MAPE (Val): 22.321567202504973, 4.7245705839266465, 0.43589643404919476, 35.74895757561994\n",
      "RESULTADOS DE MSE, RMSE, R2, MAPE (Test): 18.412440645668347, 4.290971993111625, 0.5416991752897369, 34.42932427650365\n",
      "Populus ciliata Picea smithiana\n",
      "(1182, 77)\n",
      "SE HA NORMALIZADO EL ARCHIVO: Populus ciliata_merged.csv\n",
      "(705, 4, 43) (156, 4, 43) (265, 4, 43)\n",
      "<LSTM name=lstm_85, built=True> False\n",
      "<LSTM name=lstm_86, built=True> False\n",
      "<Dropout name=dropout_46, built=True> True\n",
      "<LSTM name=lstm_87, built=True> True\n",
      "<Dense name=dense_46, built=True> True\n",
      "<Dropout name=dropout_47, built=True> True\n",
      "<Dense name=dense_47, built=True> True\n",
      "[MODELO CONGELADO]: 26.86206579208374\n"
     ]
    },
    {
     "name": "stderr",
     "output_type": "stream",
     "text": [
      "/home/workstation/Escritorio/PabloC/TransferLearning/funcionesComunes.py:191: FutureWarning: The behavior of DataFrame concatenation with empty or all-NA entries is deprecated. In a future version, this will no longer exclude empty or all-NA columns when determining the result dtypes. To retain the old behavior, exclude the relevant entries before the concat operation.\n",
      "  predictionsDF = pd.concat([predictionsDF, tempDF], ignore_index=True)\n",
      "/home/workstation/Escritorio/PabloC/TransferLearning/funcionesComunes.py:191: FutureWarning: The behavior of DataFrame concatenation with empty or all-NA entries is deprecated. In a future version, this will no longer exclude empty or all-NA columns when determining the result dtypes. To retain the old behavior, exclude the relevant entries before the concat operation.\n",
      "  predictionsDF = pd.concat([predictionsDF, tempDF], ignore_index=True)\n",
      "/home/workstation/Escritorio/PabloC/TransferLearning/funcionesComunes.py:191: FutureWarning: The behavior of DataFrame concatenation with empty or all-NA entries is deprecated. In a future version, this will no longer exclude empty or all-NA columns when determining the result dtypes. To retain the old behavior, exclude the relevant entries before the concat operation.\n",
      "  predictionsDF = pd.concat([predictionsDF, tempDF], ignore_index=True)\n"
     ]
    },
    {
     "name": "stdout",
     "output_type": "stream",
     "text": [
      "RESULTADOS DE MSE, RMSE, R2, MAPE (Train): 188.31673471723383, 13.722854466809514, 0.481496558723822, 38.34212036931358\n",
      "RESULTADOS DE MSE, RMSE, R2, MAPE (Val): 223.59861251064345, 14.953214119735042, 0.04729224407995869, 46.70578751114415\n",
      "RESULTADOS DE MSE, RMSE, R2, MAPE (Test): 89.90902970554478, 9.482037212832735, 0.5507465449677589, 34.61542828477259\n",
      "Betula utilis Picea smithiana\n",
      "(3473, 77)\n",
      "SE HA NORMALIZADO EL ARCHIVO: Betula utilis_merged.csv\n",
      "(2059, 4, 43) (665, 4, 43) (593, 4, 43)\n",
      "<LSTM name=lstm_85, built=True> False\n",
      "<LSTM name=lstm_86, built=True> False\n",
      "<Dropout name=dropout_46, built=True> True\n",
      "<LSTM name=lstm_87, built=True> True\n",
      "<Dense name=dense_46, built=True> True\n",
      "<Dropout name=dropout_47, built=True> True\n",
      "<Dense name=dense_47, built=True> True\n",
      "[MODELO CONGELADO]: 5.985087633132935\n"
     ]
    },
    {
     "name": "stderr",
     "output_type": "stream",
     "text": [
      "/home/workstation/Escritorio/PabloC/TransferLearning/funcionesComunes.py:191: FutureWarning: The behavior of DataFrame concatenation with empty or all-NA entries is deprecated. In a future version, this will no longer exclude empty or all-NA columns when determining the result dtypes. To retain the old behavior, exclude the relevant entries before the concat operation.\n",
      "  predictionsDF = pd.concat([predictionsDF, tempDF], ignore_index=True)\n",
      "/home/workstation/Escritorio/PabloC/TransferLearning/funcionesComunes.py:191: FutureWarning: The behavior of DataFrame concatenation with empty or all-NA entries is deprecated. In a future version, this will no longer exclude empty or all-NA columns when determining the result dtypes. To retain the old behavior, exclude the relevant entries before the concat operation.\n",
      "  predictionsDF = pd.concat([predictionsDF, tempDF], ignore_index=True)\n",
      "/home/workstation/Escritorio/PabloC/TransferLearning/funcionesComunes.py:191: FutureWarning: The behavior of DataFrame concatenation with empty or all-NA entries is deprecated. In a future version, this will no longer exclude empty or all-NA columns when determining the result dtypes. To retain the old behavior, exclude the relevant entries before the concat operation.\n",
      "  predictionsDF = pd.concat([predictionsDF, tempDF], ignore_index=True)\n"
     ]
    },
    {
     "name": "stdout",
     "output_type": "stream",
     "text": [
      "RESULTADOS DE MSE, RMSE, R2, MAPE (Train): 5.638961301168306, 2.37464972178389, 0.16754670892350143, 59.27764907496413\n",
      "RESULTADOS DE MSE, RMSE, R2, MAPE (Val): 1.5248025224081316, 1.2348289445944047, 0.20593433517960258, 46.510460871215734\n",
      "RESULTADOS DE MSE, RMSE, R2, MAPE (Test): 1.4255602574603599, 1.1939682815972792, 0.45522258565304563, 45.58907996800044\n",
      "Tsuga dumosa Picea smithiana\n",
      "(20493, 77)\n",
      "SE HA NORMALIZADO EL ARCHIVO: Tsuga dumosa_merged.csv\n",
      "(11935, 4, 43) (4144, 4, 43) (3469, 4, 43)\n",
      "<LSTM name=lstm_85, built=True> False\n",
      "<LSTM name=lstm_86, built=True> False\n",
      "<Dropout name=dropout_46, built=True> True\n",
      "<LSTM name=lstm_87, built=True> True\n",
      "<Dense name=dense_46, built=True> True\n",
      "<Dropout name=dropout_47, built=True> True\n",
      "<Dense name=dense_47, built=True> True\n",
      "[MODELO CONGELADO]: 115.10897541046143\n"
     ]
    },
    {
     "name": "stderr",
     "output_type": "stream",
     "text": [
      "/home/workstation/Escritorio/PabloC/TransferLearning/funcionesComunes.py:191: FutureWarning: The behavior of DataFrame concatenation with empty or all-NA entries is deprecated. In a future version, this will no longer exclude empty or all-NA columns when determining the result dtypes. To retain the old behavior, exclude the relevant entries before the concat operation.\n",
      "  predictionsDF = pd.concat([predictionsDF, tempDF], ignore_index=True)\n",
      "/home/workstation/Escritorio/PabloC/TransferLearning/funcionesComunes.py:191: FutureWarning: The behavior of DataFrame concatenation with empty or all-NA entries is deprecated. In a future version, this will no longer exclude empty or all-NA columns when determining the result dtypes. To retain the old behavior, exclude the relevant entries before the concat operation.\n",
      "  predictionsDF = pd.concat([predictionsDF, tempDF], ignore_index=True)\n",
      "/home/workstation/Escritorio/PabloC/TransferLearning/funcionesComunes.py:191: FutureWarning: The behavior of DataFrame concatenation with empty or all-NA entries is deprecated. In a future version, this will no longer exclude empty or all-NA columns when determining the result dtypes. To retain the old behavior, exclude the relevant entries before the concat operation.\n",
      "  predictionsDF = pd.concat([predictionsDF, tempDF], ignore_index=True)\n"
     ]
    },
    {
     "name": "stdout",
     "output_type": "stream",
     "text": [
      "RESULTADOS DE MSE, RMSE, R2, MAPE (Train): 263.1723318978643, 16.222587090161184, 0.3242284421274242, 46.52145092161708\n",
      "RESULTADOS DE MSE, RMSE, R2, MAPE (Val): 226.0727427252788, 15.035715570776098, 0.28259113126293667, 42.88553944296567\n",
      "RESULTADOS DE MSE, RMSE, R2, MAPE (Test): 408.1576397488977, 20.202911665126333, 0.3337802816945228, 46.9978944077684\n",
      "Cedrus deodara Picea smithiana\n",
      "(37273, 77)\n",
      "SE HA NORMALIZADO EL ARCHIVO: Cedrus deodara_merged.csv\n",
      "(22017, 4, 43) (7410, 4, 43) (6282, 4, 43)\n",
      "<LSTM name=lstm_85, built=True> False\n",
      "<LSTM name=lstm_86, built=True> False\n",
      "<Dropout name=dropout_46, built=True> True\n",
      "<LSTM name=lstm_87, built=True> True\n",
      "<Dense name=dense_46, built=True> True\n",
      "<Dropout name=dropout_47, built=True> True\n",
      "<Dense name=dense_47, built=True> True\n",
      "[MODELO CONGELADO]: 698.0623757839203\n"
     ]
    },
    {
     "name": "stderr",
     "output_type": "stream",
     "text": [
      "/home/workstation/Escritorio/PabloC/TransferLearning/funcionesComunes.py:191: FutureWarning: The behavior of DataFrame concatenation with empty or all-NA entries is deprecated. In a future version, this will no longer exclude empty or all-NA columns when determining the result dtypes. To retain the old behavior, exclude the relevant entries before the concat operation.\n",
      "  predictionsDF = pd.concat([predictionsDF, tempDF], ignore_index=True)\n",
      "/home/workstation/Escritorio/PabloC/TransferLearning/funcionesComunes.py:191: FutureWarning: The behavior of DataFrame concatenation with empty or all-NA entries is deprecated. In a future version, this will no longer exclude empty or all-NA columns when determining the result dtypes. To retain the old behavior, exclude the relevant entries before the concat operation.\n",
      "  predictionsDF = pd.concat([predictionsDF, tempDF], ignore_index=True)\n",
      "/home/workstation/Escritorio/PabloC/TransferLearning/funcionesComunes.py:191: FutureWarning: The behavior of DataFrame concatenation with empty or all-NA entries is deprecated. In a future version, this will no longer exclude empty or all-NA columns when determining the result dtypes. To retain the old behavior, exclude the relevant entries before the concat operation.\n",
      "  predictionsDF = pd.concat([predictionsDF, tempDF], ignore_index=True)\n"
     ]
    },
    {
     "name": "stdout",
     "output_type": "stream",
     "text": [
      "RESULTADOS DE MSE, RMSE, R2, MAPE (Train): 225.2826844366932, 15.009419856766389, 0.4725663000740894, 40.60706191308797\n",
      "RESULTADOS DE MSE, RMSE, R2, MAPE (Val): 276.7870699598423, 16.636918884211774, 0.3795962344880711, 43.00810859125877\n",
      "RESULTADOS DE MSE, RMSE, R2, MAPE (Test): 204.90578524614503, 14.31453056324744, 0.4185881092824997, 40.41672260040547\n",
      "Juniperus spp. L. Picea smithiana\n",
      "(7264, 77)\n",
      "SE HA NORMALIZADO EL ARCHIVO: Juniperus spp. L._merged.csv\n",
      "(4216, 4, 43) (1524, 4, 43) (1188, 4, 43)\n",
      "<LSTM name=lstm_85, built=True> False\n",
      "<LSTM name=lstm_86, built=True> False\n",
      "<Dropout name=dropout_46, built=True> True\n",
      "<LSTM name=lstm_87, built=True> True\n",
      "<Dense name=dense_46, built=True> True\n",
      "<Dropout name=dropout_47, built=True> True\n",
      "<Dense name=dense_47, built=True> True\n",
      "[MODELO CONGELADO]: 11.51758885383606\n"
     ]
    },
    {
     "name": "stderr",
     "output_type": "stream",
     "text": [
      "/home/workstation/Escritorio/PabloC/TransferLearning/funcionesComunes.py:191: FutureWarning: The behavior of DataFrame concatenation with empty or all-NA entries is deprecated. In a future version, this will no longer exclude empty or all-NA columns when determining the result dtypes. To retain the old behavior, exclude the relevant entries before the concat operation.\n",
      "  predictionsDF = pd.concat([predictionsDF, tempDF], ignore_index=True)\n",
      "/home/workstation/Escritorio/PabloC/TransferLearning/funcionesComunes.py:191: FutureWarning: The behavior of DataFrame concatenation with empty or all-NA entries is deprecated. In a future version, this will no longer exclude empty or all-NA columns when determining the result dtypes. To retain the old behavior, exclude the relevant entries before the concat operation.\n",
      "  predictionsDF = pd.concat([predictionsDF, tempDF], ignore_index=True)\n",
      "/home/workstation/Escritorio/PabloC/TransferLearning/funcionesComunes.py:191: FutureWarning: The behavior of DataFrame concatenation with empty or all-NA entries is deprecated. In a future version, this will no longer exclude empty or all-NA columns when determining the result dtypes. To retain the old behavior, exclude the relevant entries before the concat operation.\n",
      "  predictionsDF = pd.concat([predictionsDF, tempDF], ignore_index=True)\n"
     ]
    },
    {
     "name": "stdout",
     "output_type": "stream",
     "text": [
      "RESULTADOS DE MSE, RMSE, R2, MAPE (Train): 4.702693471014114, 2.168569452660927, 0.6248045758711112, 39.75516582471016\n",
      "RESULTADOS DE MSE, RMSE, R2, MAPE (Val): 1.5344546525270881, 1.2387310654565373, 0.31912661293165, 43.213953786867386\n",
      "RESULTADOS DE MSE, RMSE, R2, MAPE (Test): 14.058667375992066, 3.749488948642477, 0.2583970390191178, 54.17569406315532\n",
      "Juniperus recurva Picea smithiana\n",
      "(5316, 77)\n",
      "SE HA NORMALIZADO EL ARCHIVO: Juniperus recurva_merged.csv\n",
      "(3188, 4, 43) (1082, 4, 43) (810, 4, 43)\n",
      "<LSTM name=lstm_85, built=True> False\n",
      "<LSTM name=lstm_86, built=True> False\n",
      "<Dropout name=dropout_46, built=True> True\n",
      "<LSTM name=lstm_87, built=True> True\n",
      "<Dense name=dense_46, built=True> True\n",
      "<Dropout name=dropout_47, built=True> True\n",
      "<Dense name=dense_47, built=True> True\n",
      "[MODELO CONGELADO]: 52.57010197639465\n"
     ]
    },
    {
     "name": "stderr",
     "output_type": "stream",
     "text": [
      "/home/workstation/Escritorio/PabloC/TransferLearning/funcionesComunes.py:191: FutureWarning: The behavior of DataFrame concatenation with empty or all-NA entries is deprecated. In a future version, this will no longer exclude empty or all-NA columns when determining the result dtypes. To retain the old behavior, exclude the relevant entries before the concat operation.\n",
      "  predictionsDF = pd.concat([predictionsDF, tempDF], ignore_index=True)\n",
      "/home/workstation/Escritorio/PabloC/TransferLearning/funcionesComunes.py:191: FutureWarning: The behavior of DataFrame concatenation with empty or all-NA entries is deprecated. In a future version, this will no longer exclude empty or all-NA columns when determining the result dtypes. To retain the old behavior, exclude the relevant entries before the concat operation.\n",
      "  predictionsDF = pd.concat([predictionsDF, tempDF], ignore_index=True)\n",
      "/home/workstation/Escritorio/PabloC/TransferLearning/funcionesComunes.py:191: FutureWarning: The behavior of DataFrame concatenation with empty or all-NA entries is deprecated. In a future version, this will no longer exclude empty or all-NA columns when determining the result dtypes. To retain the old behavior, exclude the relevant entries before the concat operation.\n",
      "  predictionsDF = pd.concat([predictionsDF, tempDF], ignore_index=True)\n"
     ]
    },
    {
     "name": "stdout",
     "output_type": "stream",
     "text": [
      "RESULTADOS DE MSE, RMSE, R2, MAPE (Train): 10.395504752761099, 3.2242060654928832, 0.5869210797971465, 36.795089619871646\n",
      "RESULTADOS DE MSE, RMSE, R2, MAPE (Val): 7.7610851074987455, 2.7858724140740447, 0.7181840065225334, 30.11552917355952\n",
      "RESULTADOS DE MSE, RMSE, R2, MAPE (Test): 3.0686001242675327, 1.7517420256040936, 0.6737702194127206, 27.0388024396503\n",
      "totalMerged.csv Picea smithiana\n",
      "Juniperus spp.  Picea smithiana\n",
      "(17976, 77)\n",
      "SE HA NORMALIZADO EL ARCHIVO: Juniperus spp. _merged.csv\n",
      "(10218, 4, 43) (3900, 4, 43) (3018, 4, 43)\n",
      "<LSTM name=lstm_85, built=True> False\n",
      "<LSTM name=lstm_86, built=True> False\n",
      "<Dropout name=dropout_46, built=True> True\n",
      "<LSTM name=lstm_87, built=True> True\n",
      "<Dense name=dense_46, built=True> True\n",
      "<Dropout name=dropout_47, built=True> True\n",
      "<Dense name=dense_47, built=True> True\n",
      "[MODELO CONGELADO]: 77.21886897087097\n"
     ]
    },
    {
     "name": "stderr",
     "output_type": "stream",
     "text": [
      "/home/workstation/Escritorio/PabloC/TransferLearning/funcionesComunes.py:191: FutureWarning: The behavior of DataFrame concatenation with empty or all-NA entries is deprecated. In a future version, this will no longer exclude empty or all-NA columns when determining the result dtypes. To retain the old behavior, exclude the relevant entries before the concat operation.\n",
      "  predictionsDF = pd.concat([predictionsDF, tempDF], ignore_index=True)\n",
      "/home/workstation/Escritorio/PabloC/TransferLearning/funcionesComunes.py:191: FutureWarning: The behavior of DataFrame concatenation with empty or all-NA entries is deprecated. In a future version, this will no longer exclude empty or all-NA columns when determining the result dtypes. To retain the old behavior, exclude the relevant entries before the concat operation.\n",
      "  predictionsDF = pd.concat([predictionsDF, tempDF], ignore_index=True)\n",
      "/home/workstation/Escritorio/PabloC/TransferLearning/funcionesComunes.py:191: FutureWarning: The behavior of DataFrame concatenation with empty or all-NA entries is deprecated. In a future version, this will no longer exclude empty or all-NA columns when determining the result dtypes. To retain the old behavior, exclude the relevant entries before the concat operation.\n",
      "  predictionsDF = pd.concat([predictionsDF, tempDF], ignore_index=True)\n"
     ]
    },
    {
     "name": "stdout",
     "output_type": "stream",
     "text": [
      "RESULTADOS DE MSE, RMSE, R2, MAPE (Train): 32.95594840390553, 5.740727166823514, 0.4625110615240532, 41.27119119289308\n",
      "RESULTADOS DE MSE, RMSE, R2, MAPE (Val): 9.284263489402365, 3.047008941470695, 0.5280645248606545, 41.503350510372044\n",
      "RESULTADOS DE MSE, RMSE, R2, MAPE (Test): 51.28090274538589, 7.161068547736845, 0.5092563888650669, 42.62590826817508\n"
     ]
    }
   ],
   "source": [
    "# Leemos los diferentes modelos\n",
    "for model in os.listdir(\"models/LSTM\"):\n",
    "\n",
    "    # Creamos un df que contiene los resultados de los modelos freeze de cada especie\n",
    "    df_Freeze = pd.DataFrame(columns = [\"File\", \"Time\", \"TrainMSE\", \"TrainRMSE\", \"TrainR2\", \"TrainMAPE\", \n",
    "                                        \"ValidationMSE\", \"ValidationRMSE\", \"ValidationR2\", \"ValidationMAPE\",\n",
    "                                        \"TestMSE\", \"TestRMSE\", \"TestR2\", \"TestMAPE\"])\n",
    "\n",
    "\n",
    "    if model != \"model_Abies_spectabilis.keras\":\n",
    "        print(f'Procesando el modelo: {model}')\n",
    "\n",
    "        # Para cada archivo \n",
    "        for archivo in os.listdir(\"RCPMerged\"):\n",
    "\n",
    "            # Comprobamos que el modelo no sea del archivo a procesar\n",
    "            archivoProcesar = archivo.split(\"_merged\")[0]\n",
    "            modeloProcesar = model.split(\"model_\")[1].split(\".keras\")[0]\n",
    "            print(archivoProcesar, modeloProcesar)\n",
    "\n",
    "            # Lanzamos la ejecución siempre que no sea el mismo archivo o el global\n",
    "            if archivoProcesar != modeloProcesar and archivo != \"totalMerged.csv\":\n",
    "\n",
    "                # Cargar el archivo CSV con punto y coma como delimitador\n",
    "                df = pd.read_csv(f'RCPMerged/{archivo}')\n",
    "                df = df[~df[\"nametag\"].str.startswith(\"INDI005\")]\n",
    "\n",
    "                # Codificamos, normalización y split de datos\n",
    "                df = codification(df)\n",
    "                print(df.shape)\n",
    "\n",
    "                df, valorNormalizacion = individualNormalization(df)\n",
    "                print(f\"SE HA NORMALIZADO EL ARCHIVO: {archivo}\")\n",
    "\n",
    "                temp_df = df\n",
    "                train_data, val_data, test_data = split_population_individuals(temp_df, train_pct=0.80, val_pct_in_train=0.20, details=False)\n",
    "                train_data.shape, val_data.shape, test_data.shape\n",
    "\n",
    "                # Obtenemos X e y para los datasets de train, val y test \n",
    "                WINDOWS_SIZE = 3\n",
    "                X_train, y_train = df_to_X_y_ind_3(train_data, WINDOWS_SIZE)\n",
    "                X_val, y_val = df_to_X_y_ind_3(val_data, WINDOWS_SIZE)\n",
    "                X_test, y_test = df_to_X_y_ind_3(test_data, WINDOWS_SIZE)\n",
    "                print(X_train.shape, X_test.shape, X_val.shape)\n",
    "\n",
    "                # Cargamos el modelo global\n",
    "                modelLSTM = tf.keras.models.load_model(f'models/LSTM/{model}')\n",
    "                modelLSTMFreeze = modelLSTM\n",
    "\n",
    "                # Obtener el optimizador del modelo\n",
    "                optimizer = modelLSTMFreeze.optimizer\n",
    "\n",
    "                # Obtenemos el valor de batch size\n",
    "                with open(f'arquitecturaModelosJSON/LSTM/{archivo.split(\".csv\")[0]}_best_models_updated_no_train.json') as f:\n",
    "                    parameters = json.load(f)\n",
    "\n",
    "                batch_size_LSTM = parameters[0][\"batch_size\"]\n",
    "\n",
    "                # Indicamos el numero de layers a entrenar\n",
    "                NUM_TRAINABLE = 1\n",
    "\n",
    "                numLSTM_layers = sum(1 for layer in modelLSTMFreeze.layers if \"lstm\" in layer.name)\n",
    "\n",
    "                numFreezeLayers = numLSTM_layers - NUM_TRAINABLE # Congelamos todas menos la útlima capa\n",
    "\n",
    "                numberLayersFreezed = 0\n",
    "\n",
    "                # Congelar las primeras 'numFreezeLayers' capas LSTM\n",
    "                for i, layer in enumerate(modelLSTMFreeze.layers):\n",
    "\n",
    "                    if \"lstm\" in layer.name and numFreezeLayers>numberLayersFreezed:\n",
    "                        numberLayersFreezed += 1\n",
    "                        layer.trainable = False\n",
    "\n",
    "                    print(layer, layer.trainable)\n",
    "\n",
    "                # Compilamos el modelo con los nuevos datos\n",
    "                modelLSTMFreeze.compile(optimizer=optimizer, loss=MeanSquaredError(), metrics=[\n",
    "                                            MeanSquaredError(name='mse'),\n",
    "                                            RootMeanSquaredError(name='rmse'),\n",
    "                                            MeanAbsolutePercentageError(name='mape')\n",
    "                                        ])\n",
    "\n",
    "                # Comienza a medir el tiempo de entrenamiento\n",
    "                start_time = time.time()\n",
    "\n",
    "                historyLSTMTransfer = modelLSTMFreeze.fit(X_train, y_train, epochs=200, batch_size=batch_size_LSTM,\n",
    "                                        validation_data=(X_val, y_val), callbacks=[EarlyStopping(monitor='val_loss', patience=10)], verbose=0)\n",
    "\n",
    "                # Finaliza la medición del tiempo de entrenamiento\n",
    "                end_time = time.time()\n",
    "                print(f\"[MODELO CONGELADO]: {end_time-start_time}\")\n",
    "\n",
    "                # Realizar predicciones y calcular métricas para el conjunto de entrenamiento\n",
    "                predictions_train = predictionForIndividuals(X_train, y_train, modelLSTMFreeze, batch_size_LSTM)\n",
    "                predictions_train[\"PredictionsDenormalize\"] = predictions_train.apply(lambda row: desnormalizacionBAI(row, valorNormalizacion, \"Predictions\"), axis=1)\n",
    "                predictions_train[\"ActualDenormalize\"] = predictions_train.apply(lambda row: desnormalizacionBAI(row, valorNormalizacion, \"Actuals\"), axis=1)\n",
    "\n",
    "                train_mse = mean_squared_error(predictions_train[\"ActualDenormalize\"],predictions_train[\"PredictionsDenormalize\"])\n",
    "                train_rmse = np.sqrt(train_mse)\n",
    "                train_mape = (np.sum(np.abs(predictions_train[\"PredictionsDenormalize\"] - predictions_train[\"ActualDenormalize\"])) / np.sum(np.abs(predictions_train[\"ActualDenormalize\"]))) * 100\n",
    "                train_r2 = r2_score(predictions_train[\"ActualDenormalize\"], predictions_train[\"PredictionsDenormalize\"])\n",
    "\n",
    "                # Realizar predicciones y calcular métricas para el conjunto de validación\n",
    "                predictions_val = predictionForIndividuals(X_val, y_val, modelLSTMFreeze, batch_size_LSTM)\n",
    "                predictions_val[\"PredictionsDenormalize\"] = predictions_val.apply(lambda row: desnormalizacionBAI(row, valorNormalizacion, \"Predictions\"), axis=1)\n",
    "                predictions_val[\"ActualDenormalize\"] = predictions_val.apply(lambda row: desnormalizacionBAI(row, valorNormalizacion, \"Actuals\"), axis=1)\n",
    "\n",
    "                val_mse = mean_squared_error(predictions_val[\"ActualDenormalize\"],predictions_val[\"PredictionsDenormalize\"])\n",
    "                val_rmse = np.sqrt(val_mse)\n",
    "                val_mape = (np.sum(np.abs(predictions_val[\"PredictionsDenormalize\"] - predictions_val[\"ActualDenormalize\"])) / np.sum(np.abs(predictions_val[\"ActualDenormalize\"]))) * 100\n",
    "                val_r2 = r2_score(predictions_val[\"ActualDenormalize\"], predictions_val[\"PredictionsDenormalize\"])\n",
    "\n",
    "                # Realizar predicciones y calcular métricas para el conjunto de prueba\n",
    "                predictions_test = predictionForIndividuals(X_test, y_test, modelLSTMFreeze, batch_size_LSTM)\n",
    "                predictions_test[\"PredictionsDenormalize\"] = predictions_test.apply(lambda row: desnormalizacionBAI(row, valorNormalizacion, \"Predictions\"), axis=1)\n",
    "                predictions_test[\"ActualDenormalize\"] = predictions_test.apply(lambda row: desnormalizacionBAI(row, valorNormalizacion, \"Actuals\"), axis=1)\n",
    "\n",
    "                test_mse = mean_squared_error(predictions_test[\"ActualDenormalize\"],predictions_test[\"PredictionsDenormalize\"])\n",
    "                test_rmse = np.sqrt(test_mse)\n",
    "                test_mape = (np.sum(np.abs(predictions_test[\"PredictionsDenormalize\"] - predictions_test[\"ActualDenormalize\"])) / np.sum(np.abs(predictions_test[\"ActualDenormalize\"]))) * 100\n",
    "                test_r2 = r2_score(predictions_test[\"ActualDenormalize\"], predictions_test[\"PredictionsDenormalize\"])\n",
    "\n",
    "                print(f\"RESULTADOS DE MSE, RMSE, R2, MAPE (Train): {train_mse}, {train_rmse}, {train_r2}, {train_mape}\")\n",
    "                print(f\"RESULTADOS DE MSE, RMSE, R2, MAPE (Val): {val_mse}, {val_rmse}, {val_r2}, {val_mape}\")\n",
    "                print(f\"RESULTADOS DE MSE, RMSE, R2, MAPE (Test): {test_mse}, {test_rmse}, {test_r2}, {test_mape}\")\n",
    "\n",
    "                # Guardamos los datos calculados\n",
    "                df_Freeze.loc[len(df_Freeze)] = [archivo, end_time-start_time,train_mse, train_rmse, train_r2, train_mape, val_mse, val_rmse, val_r2, val_mape, test_mse, test_rmse, test_r2, test_mape]\n",
    "\n",
    "    df_Freeze.to_csv(f'resultadosTransfer_{model.split(\"model_\")[1].split(\".keras\")[0]}.csv', index=False)"
   ]
  },
  {
   "cell_type": "markdown",
   "metadata": {},
   "source": [
    "# Entrenamiento desde 0 de los modelos"
   ]
  },
  {
   "cell_type": "code",
   "execution_count": 186,
   "metadata": {},
   "outputs": [],
   "source": [
    "# Función para crear el modelo LSTM basado en los parámetros del JSON\n",
    "def create_lstm_model(params, input_shape):\n",
    "    model = tf.keras.Sequential()\n",
    "\n",
    "    # Añadir capas LSTM\n",
    "    for i in range(params['num_lstm_layers']):\n",
    "        if i == 0:\n",
    "            # Primera capa LSTM necesita el input_shape\n",
    "            model.add(tf.keras.layers.LSTM(units=params[f'units_lstm_{i}'],\n",
    "                                           return_sequences=True,\n",
    "                                           use_bias = True, \n",
    "                                           input_shape=input_shape))\n",
    "        else:\n",
    "            # Capas posteriores\n",
    "            model.add(tf.keras.layers.LSTM(units=params[f'units_lstm_{i}'], \n",
    "                                           use_bias = True,\n",
    "                                           return_sequences=True))\n",
    "\n",
    "    # CAPA DROPOUT\n",
    "    model.add(Dropout(params[\"dropout\"]))\n",
    "\n",
    "    # Añadir las capas LSTM adicionales (si existen)\n",
    "    for i in range(params['num_lstm_layers_after']):\n",
    "        model.add(tf.keras.layers.LSTM(units=params[f'units_lstm_after_{i}'], \n",
    "                                       use_bias = True,\n",
    "                                       return_sequences=(i < params['num_lstm_layers_after'] - 1)))\n",
    "\n",
    "    # Añadir capa densa\n",
    "    model.add(tf.keras.layers.Dense(units=params['dense_units'], activation=params['dense_activation'], use_bias = True))\n",
    "\n",
    "    # DROPOUT 2\n",
    "    model.add(Dropout(params[\"dropout_2\"]))\n",
    "\n",
    "    # Añadir la capa de salida (una sola unidad de salida)\n",
    "    model.add(tf.keras.layers.Dense(1, activation=params[\"dense_activation\"], use_bias = True))\n",
    "\n",
    "    # Compilar el modelo según el optimizador especificado en los parámetros\n",
    "    learning_rate = params['learning_rate']\n",
    "    optimizer_name = params['optimizer']\n",
    "\n",
    "    if optimizer_name == 'rmsprop':\n",
    "        optimizer = RMSprop(learning_rate=learning_rate)\n",
    "    elif optimizer_name == 'adam':\n",
    "        optimizer = Adam(learning_rate=learning_rate)\n",
    "    elif optimizer_name == 'sgd':\n",
    "        optimizer = SGD(learning_rate=learning_rate)\n",
    "    else:\n",
    "        raise ValueError(f\"Optimizer {optimizer_name} not recognized\")\n",
    "\n",
    "    # Compilamos el modelo\n",
    "    model.compile(optimizer=optimizer,\n",
    "                  loss='mean_squared_error',  # Asumo que quieres minimizar el MSE\n",
    "                  metrics=['mse', 'mae', tf.keras.metrics.RootMeanSquaredError(name='rmse')])\n",
    "\n",
    "    return model"
   ]
  },
  {
   "cell_type": "code",
   "execution_count": 210,
   "metadata": {},
   "outputs": [
    {
     "name": "stdout",
     "output_type": "stream",
     "text": [
      "(34476, 77)\n",
      "SE HA NORMALIZADO EL ARCHIVO: Picea smithiana merged.csv\n",
      "(19933, 4, 43) (7272, 4, 43) (5863, 4, 43)\n"
     ]
    },
    {
     "name": "stderr",
     "output_type": "stream",
     "text": [
      "/home/workstation/Escritorio/PabloC/TransferLearning/.venv/lib/python3.10/site-packages/keras/src/layers/rnn/rnn.py:204: UserWarning: Do not pass an `input_shape`/`input_dim` argument to a layer. When using Sequential models, prefer using an `Input(shape)` object as the first layer in the model instead.\n",
      "  super().__init__(**kwargs)\n"
     ]
    },
    {
     "name": "stdout",
     "output_type": "stream",
     "text": [
      "[MODELO CONGELADO]: 576.243658542633\n"
     ]
    },
    {
     "name": "stderr",
     "output_type": "stream",
     "text": [
      "/home/workstation/Escritorio/PabloC/TransferLearning/funcionesComunes.py:191: FutureWarning: The behavior of DataFrame concatenation with empty or all-NA entries is deprecated. In a future version, this will no longer exclude empty or all-NA columns when determining the result dtypes. To retain the old behavior, exclude the relevant entries before the concat operation.\n",
      "  predictionsDF = pd.concat([predictionsDF, tempDF], ignore_index=True)\n",
      "/home/workstation/Escritorio/PabloC/TransferLearning/funcionesComunes.py:191: FutureWarning: The behavior of DataFrame concatenation with empty or all-NA entries is deprecated. In a future version, this will no longer exclude empty or all-NA columns when determining the result dtypes. To retain the old behavior, exclude the relevant entries before the concat operation.\n",
      "  predictionsDF = pd.concat([predictionsDF, tempDF], ignore_index=True)\n",
      "/home/workstation/Escritorio/PabloC/TransferLearning/funcionesComunes.py:191: FutureWarning: The behavior of DataFrame concatenation with empty or all-NA entries is deprecated. In a future version, this will no longer exclude empty or all-NA columns when determining the result dtypes. To retain the old behavior, exclude the relevant entries before the concat operation.\n",
      "  predictionsDF = pd.concat([predictionsDF, tempDF], ignore_index=True)\n"
     ]
    },
    {
     "name": "stdout",
     "output_type": "stream",
     "text": [
      "RESULTADOS DE MSE, RMSE, R2, MAPE (Train): 171.35650608905578, 13.090321084261294, 0.49782712259134665, 37.79580734658723\n",
      "RESULTADOS DE MSE, RMSE, R2, MAPE (Val): 186.241596963849, 13.647036197059382, 0.4625561654478877, 39.92407381916745\n",
      "RESULTADOS DE MSE, RMSE, R2, MAPE (Test): 203.87084700933804, 14.278334882238125, 0.3115369007042479, 43.19865538799758\n",
      "(16018, 77)\n",
      "SE HA NORMALIZADO EL ARCHIVO: Abies pindrow merged.csv\n",
      "(9042, 4, 43) (3441, 4, 43) (2815, 4, 43)\n"
     ]
    },
    {
     "name": "stderr",
     "output_type": "stream",
     "text": [
      "/home/workstation/Escritorio/PabloC/TransferLearning/.venv/lib/python3.10/site-packages/keras/src/layers/rnn/rnn.py:204: UserWarning: Do not pass an `input_shape`/`input_dim` argument to a layer. When using Sequential models, prefer using an `Input(shape)` object as the first layer in the model instead.\n",
      "  super().__init__(**kwargs)\n"
     ]
    },
    {
     "name": "stdout",
     "output_type": "stream",
     "text": [
      "[MODELO CONGELADO]: 226.3893609046936\n"
     ]
    },
    {
     "name": "stderr",
     "output_type": "stream",
     "text": [
      "/home/workstation/Escritorio/PabloC/TransferLearning/funcionesComunes.py:191: FutureWarning: The behavior of DataFrame concatenation with empty or all-NA entries is deprecated. In a future version, this will no longer exclude empty or all-NA columns when determining the result dtypes. To retain the old behavior, exclude the relevant entries before the concat operation.\n",
      "  predictionsDF = pd.concat([predictionsDF, tempDF], ignore_index=True)\n",
      "/home/workstation/Escritorio/PabloC/TransferLearning/funcionesComunes.py:191: FutureWarning: The behavior of DataFrame concatenation with empty or all-NA entries is deprecated. In a future version, this will no longer exclude empty or all-NA columns when determining the result dtypes. To retain the old behavior, exclude the relevant entries before the concat operation.\n",
      "  predictionsDF = pd.concat([predictionsDF, tempDF], ignore_index=True)\n",
      "/home/workstation/Escritorio/PabloC/TransferLearning/funcionesComunes.py:191: FutureWarning: The behavior of DataFrame concatenation with empty or all-NA entries is deprecated. In a future version, this will no longer exclude empty or all-NA columns when determining the result dtypes. To retain the old behavior, exclude the relevant entries before the concat operation.\n",
      "  predictionsDF = pd.concat([predictionsDF, tempDF], ignore_index=True)\n"
     ]
    },
    {
     "name": "stdout",
     "output_type": "stream",
     "text": [
      "RESULTADOS DE MSE, RMSE, R2, MAPE (Train): 174.9178956076841, 13.225652936913326, 0.2491965093517563, 44.430568099919974\n",
      "RESULTADOS DE MSE, RMSE, R2, MAPE (Val): 153.26960167737204, 12.380210082117832, 0.1256753664008613, 40.72868331199774\n",
      "RESULTADOS DE MSE, RMSE, R2, MAPE (Test): 295.90314407053324, 17.20183548550948, -1.0919516143090129, 51.13291186131542\n",
      "(7449, 77)\n",
      "SE HA NORMALIZADO EL ARCHIVO: Juniperus excelsa M.-Bieb merged.csv\n",
      "(4189, 4, 43) (1707, 4, 43) (1228, 4, 43)\n"
     ]
    },
    {
     "name": "stderr",
     "output_type": "stream",
     "text": [
      "/home/workstation/Escritorio/PabloC/TransferLearning/.venv/lib/python3.10/site-packages/keras/src/layers/rnn/rnn.py:204: UserWarning: Do not pass an `input_shape`/`input_dim` argument to a layer. When using Sequential models, prefer using an `Input(shape)` object as the first layer in the model instead.\n",
      "  super().__init__(**kwargs)\n"
     ]
    },
    {
     "name": "stdout",
     "output_type": "stream",
     "text": [
      "[MODELO CONGELADO]: 73.0703227519989\n"
     ]
    },
    {
     "name": "stderr",
     "output_type": "stream",
     "text": [
      "/home/workstation/Escritorio/PabloC/TransferLearning/funcionesComunes.py:191: FutureWarning: The behavior of DataFrame concatenation with empty or all-NA entries is deprecated. In a future version, this will no longer exclude empty or all-NA columns when determining the result dtypes. To retain the old behavior, exclude the relevant entries before the concat operation.\n",
      "  predictionsDF = pd.concat([predictionsDF, tempDF], ignore_index=True)\n",
      "/home/workstation/Escritorio/PabloC/TransferLearning/funcionesComunes.py:191: FutureWarning: The behavior of DataFrame concatenation with empty or all-NA entries is deprecated. In a future version, this will no longer exclude empty or all-NA columns when determining the result dtypes. To retain the old behavior, exclude the relevant entries before the concat operation.\n",
      "  predictionsDF = pd.concat([predictionsDF, tempDF], ignore_index=True)\n",
      "/home/workstation/Escritorio/PabloC/TransferLearning/funcionesComunes.py:191: FutureWarning: The behavior of DataFrame concatenation with empty or all-NA entries is deprecated. In a future version, this will no longer exclude empty or all-NA columns when determining the result dtypes. To retain the old behavior, exclude the relevant entries before the concat operation.\n",
      "  predictionsDF = pd.concat([predictionsDF, tempDF], ignore_index=True)\n"
     ]
    },
    {
     "name": "stdout",
     "output_type": "stream",
     "text": [
      "RESULTADOS DE MSE, RMSE, R2, MAPE (Train): 17.669238243990634, 4.2034793021960555, 0.28178075634869104, 46.07955751601084\n",
      "RESULTADOS DE MSE, RMSE, R2, MAPE (Val): 19.291555137805286, 4.392215288189467, 0.2642924960360509, 50.63104232696824\n",
      "RESULTADOS DE MSE, RMSE, R2, MAPE (Test): 75.12913465026521, 8.667706423862382, -0.11385185293023725, 66.5711385083088\n",
      "(6305, 77)\n",
      "SE HA NORMALIZADO EL ARCHIVO: Juniperus turkestanica Komar. merged.csv\n",
      "(3664, 4, 43) (1368, 4, 43) (1001, 4, 43)\n"
     ]
    },
    {
     "name": "stderr",
     "output_type": "stream",
     "text": [
      "/home/workstation/Escritorio/PabloC/TransferLearning/.venv/lib/python3.10/site-packages/keras/src/layers/rnn/rnn.py:204: UserWarning: Do not pass an `input_shape`/`input_dim` argument to a layer. When using Sequential models, prefer using an `Input(shape)` object as the first layer in the model instead.\n",
      "  super().__init__(**kwargs)\n"
     ]
    },
    {
     "name": "stdout",
     "output_type": "stream",
     "text": [
      "[MODELO CONGELADO]: 95.84277200698853\n"
     ]
    },
    {
     "name": "stderr",
     "output_type": "stream",
     "text": [
      "/home/workstation/Escritorio/PabloC/TransferLearning/funcionesComunes.py:191: FutureWarning: The behavior of DataFrame concatenation with empty or all-NA entries is deprecated. In a future version, this will no longer exclude empty or all-NA columns when determining the result dtypes. To retain the old behavior, exclude the relevant entries before the concat operation.\n",
      "  predictionsDF = pd.concat([predictionsDF, tempDF], ignore_index=True)\n",
      "/home/workstation/Escritorio/PabloC/TransferLearning/funcionesComunes.py:191: FutureWarning: The behavior of DataFrame concatenation with empty or all-NA entries is deprecated. In a future version, this will no longer exclude empty or all-NA columns when determining the result dtypes. To retain the old behavior, exclude the relevant entries before the concat operation.\n",
      "  predictionsDF = pd.concat([predictionsDF, tempDF], ignore_index=True)\n",
      "/home/workstation/Escritorio/PabloC/TransferLearning/funcionesComunes.py:191: FutureWarning: The behavior of DataFrame concatenation with empty or all-NA entries is deprecated. In a future version, this will no longer exclude empty or all-NA columns when determining the result dtypes. To retain the old behavior, exclude the relevant entries before the concat operation.\n",
      "  predictionsDF = pd.concat([predictionsDF, tempDF], ignore_index=True)\n"
     ]
    },
    {
     "name": "stdout",
     "output_type": "stream",
     "text": [
      "RESULTADOS DE MSE, RMSE, R2, MAPE (Train): 8.183904468569413, 2.8607524304926164, 0.817676718395278, 27.923413534980746\n",
      "RESULTADOS DE MSE, RMSE, R2, MAPE (Val): 6.952433082884572, 2.6367466853842014, 0.5956971781549277, 35.72901647707773\n",
      "RESULTADOS DE MSE, RMSE, R2, MAPE (Test): 2.998765129730553, 1.7316942945365827, 0.4483109737188521, 33.05222052318821\n",
      "(10635, 77)\n",
      "SE HA NORMALIZADO EL ARCHIVO: Pinus roxburghii merged.csv\n",
      "(6309, 4, 43) (2167, 4, 43) (1647, 4, 43)\n"
     ]
    },
    {
     "name": "stderr",
     "output_type": "stream",
     "text": [
      "/home/workstation/Escritorio/PabloC/TransferLearning/.venv/lib/python3.10/site-packages/keras/src/layers/rnn/rnn.py:204: UserWarning: Do not pass an `input_shape`/`input_dim` argument to a layer. When using Sequential models, prefer using an `Input(shape)` object as the first layer in the model instead.\n",
      "  super().__init__(**kwargs)\n"
     ]
    },
    {
     "name": "stdout",
     "output_type": "stream",
     "text": [
      "[MODELO CONGELADO]: 64.67873430252075\n"
     ]
    },
    {
     "name": "stderr",
     "output_type": "stream",
     "text": [
      "/home/workstation/Escritorio/PabloC/TransferLearning/funcionesComunes.py:191: FutureWarning: The behavior of DataFrame concatenation with empty or all-NA entries is deprecated. In a future version, this will no longer exclude empty or all-NA columns when determining the result dtypes. To retain the old behavior, exclude the relevant entries before the concat operation.\n",
      "  predictionsDF = pd.concat([predictionsDF, tempDF], ignore_index=True)\n",
      "/home/workstation/Escritorio/PabloC/TransferLearning/funcionesComunes.py:191: FutureWarning: The behavior of DataFrame concatenation with empty or all-NA entries is deprecated. In a future version, this will no longer exclude empty or all-NA columns when determining the result dtypes. To retain the old behavior, exclude the relevant entries before the concat operation.\n",
      "  predictionsDF = pd.concat([predictionsDF, tempDF], ignore_index=True)\n",
      "/home/workstation/Escritorio/PabloC/TransferLearning/funcionesComunes.py:191: FutureWarning: The behavior of DataFrame concatenation with empty or all-NA entries is deprecated. In a future version, this will no longer exclude empty or all-NA columns when determining the result dtypes. To retain the old behavior, exclude the relevant entries before the concat operation.\n",
      "  predictionsDF = pd.concat([predictionsDF, tempDF], ignore_index=True)\n"
     ]
    },
    {
     "name": "stdout",
     "output_type": "stream",
     "text": [
      "RESULTADOS DE MSE, RMSE, R2, MAPE (Train): 184.77641292644756, 13.593248799549267, 0.30726675347998755, 43.89959138246116\n",
      "RESULTADOS DE MSE, RMSE, R2, MAPE (Val): 159.38235107614057, 12.624672315594594, 0.2884981258774989, 45.59964761497086\n",
      "RESULTADOS DE MSE, RMSE, R2, MAPE (Test): 168.16164394334055, 12.96771544811732, 0.2943586031278257, 45.07524276965995\n",
      "(9365, 77)\n",
      "SE HA NORMALIZADO EL ARCHIVO: Pinus wallichiana merged.csv\n",
      "(5508, 4, 43) (1957, 4, 43) (1500, 4, 43)\n"
     ]
    },
    {
     "name": "stderr",
     "output_type": "stream",
     "text": [
      "/home/workstation/Escritorio/PabloC/TransferLearning/.venv/lib/python3.10/site-packages/keras/src/layers/rnn/rnn.py:204: UserWarning: Do not pass an `input_shape`/`input_dim` argument to a layer. When using Sequential models, prefer using an `Input(shape)` object as the first layer in the model instead.\n",
      "  super().__init__(**kwargs)\n"
     ]
    },
    {
     "name": "stdout",
     "output_type": "stream",
     "text": [
      "[MODELO CONGELADO]: 117.10288763046265\n"
     ]
    },
    {
     "name": "stderr",
     "output_type": "stream",
     "text": [
      "/home/workstation/Escritorio/PabloC/TransferLearning/funcionesComunes.py:191: FutureWarning: The behavior of DataFrame concatenation with empty or all-NA entries is deprecated. In a future version, this will no longer exclude empty or all-NA columns when determining the result dtypes. To retain the old behavior, exclude the relevant entries before the concat operation.\n",
      "  predictionsDF = pd.concat([predictionsDF, tempDF], ignore_index=True)\n",
      "/home/workstation/Escritorio/PabloC/TransferLearning/funcionesComunes.py:191: FutureWarning: The behavior of DataFrame concatenation with empty or all-NA entries is deprecated. In a future version, this will no longer exclude empty or all-NA columns when determining the result dtypes. To retain the old behavior, exclude the relevant entries before the concat operation.\n",
      "  predictionsDF = pd.concat([predictionsDF, tempDF], ignore_index=True)\n",
      "/home/workstation/Escritorio/PabloC/TransferLearning/funcionesComunes.py:191: FutureWarning: The behavior of DataFrame concatenation with empty or all-NA entries is deprecated. In a future version, this will no longer exclude empty or all-NA columns when determining the result dtypes. To retain the old behavior, exclude the relevant entries before the concat operation.\n",
      "  predictionsDF = pd.concat([predictionsDF, tempDF], ignore_index=True)\n"
     ]
    },
    {
     "name": "stdout",
     "output_type": "stream",
     "text": [
      "RESULTADOS DE MSE, RMSE, R2, MAPE (Train): 23.88511283209151, 4.8872397968681165, 0.645683412274819, 28.24645782709006\n",
      "RESULTADOS DE MSE, RMSE, R2, MAPE (Val): 29.743652442199707, 5.453774146607073, 0.5024759512511255, 33.36518162483442\n",
      "RESULTADOS DE MSE, RMSE, R2, MAPE (Test): 38.956364436469, 6.241503379512744, 0.07606736702023309, 40.83397530763276\n",
      "(10101, 77)\n",
      "SE HA NORMALIZADO EL ARCHIVO: Pinus gerardiana merged.csv\n",
      "(5767, 4, 43) (2181, 4, 43) (1745, 4, 43)\n"
     ]
    },
    {
     "name": "stderr",
     "output_type": "stream",
     "text": [
      "/home/workstation/Escritorio/PabloC/TransferLearning/.venv/lib/python3.10/site-packages/keras/src/layers/rnn/rnn.py:204: UserWarning: Do not pass an `input_shape`/`input_dim` argument to a layer. When using Sequential models, prefer using an `Input(shape)` object as the first layer in the model instead.\n",
      "  super().__init__(**kwargs)\n"
     ]
    },
    {
     "name": "stdout",
     "output_type": "stream",
     "text": [
      "[MODELO CONGELADO]: 93.55375266075134\n"
     ]
    },
    {
     "name": "stderr",
     "output_type": "stream",
     "text": [
      "/home/workstation/Escritorio/PabloC/TransferLearning/funcionesComunes.py:191: FutureWarning: The behavior of DataFrame concatenation with empty or all-NA entries is deprecated. In a future version, this will no longer exclude empty or all-NA columns when determining the result dtypes. To retain the old behavior, exclude the relevant entries before the concat operation.\n",
      "  predictionsDF = pd.concat([predictionsDF, tempDF], ignore_index=True)\n",
      "/home/workstation/Escritorio/PabloC/TransferLearning/funcionesComunes.py:191: FutureWarning: The behavior of DataFrame concatenation with empty or all-NA entries is deprecated. In a future version, this will no longer exclude empty or all-NA columns when determining the result dtypes. To retain the old behavior, exclude the relevant entries before the concat operation.\n",
      "  predictionsDF = pd.concat([predictionsDF, tempDF], ignore_index=True)\n",
      "/home/workstation/Escritorio/PabloC/TransferLearning/funcionesComunes.py:191: FutureWarning: The behavior of DataFrame concatenation with empty or all-NA entries is deprecated. In a future version, this will no longer exclude empty or all-NA columns when determining the result dtypes. To retain the old behavior, exclude the relevant entries before the concat operation.\n",
      "  predictionsDF = pd.concat([predictionsDF, tempDF], ignore_index=True)\n"
     ]
    },
    {
     "name": "stdout",
     "output_type": "stream",
     "text": [
      "RESULTADOS DE MSE, RMSE, R2, MAPE (Train): 12.968559077267479, 3.601188564525257, 0.6659062521081816, 28.34312358158072\n",
      "RESULTADOS DE MSE, RMSE, R2, MAPE (Val): 18.294157447345956, 4.277166988480337, 0.5376758558890424, 33.047655645727616\n",
      "RESULTADOS DE MSE, RMSE, R2, MAPE (Test): 15.900546270668638, 3.9875489051130946, 0.6042222967922775, 31.949995271618842\n",
      "(1182, 77)\n",
      "SE HA NORMALIZADO EL ARCHIVO: Populus ciliata merged.csv\n",
      "(705, 4, 43) (156, 4, 43) (265, 4, 43)\n"
     ]
    },
    {
     "name": "stderr",
     "output_type": "stream",
     "text": [
      "/home/workstation/Escritorio/PabloC/TransferLearning/.venv/lib/python3.10/site-packages/keras/src/layers/rnn/rnn.py:204: UserWarning: Do not pass an `input_shape`/`input_dim` argument to a layer. When using Sequential models, prefer using an `Input(shape)` object as the first layer in the model instead.\n",
      "  super().__init__(**kwargs)\n"
     ]
    },
    {
     "name": "stdout",
     "output_type": "stream",
     "text": [
      "[MODELO CONGELADO]: 71.95125031471252\n"
     ]
    },
    {
     "name": "stderr",
     "output_type": "stream",
     "text": [
      "/home/workstation/Escritorio/PabloC/TransferLearning/funcionesComunes.py:191: FutureWarning: The behavior of DataFrame concatenation with empty or all-NA entries is deprecated. In a future version, this will no longer exclude empty or all-NA columns when determining the result dtypes. To retain the old behavior, exclude the relevant entries before the concat operation.\n",
      "  predictionsDF = pd.concat([predictionsDF, tempDF], ignore_index=True)\n",
      "/home/workstation/Escritorio/PabloC/TransferLearning/funcionesComunes.py:191: FutureWarning: The behavior of DataFrame concatenation with empty or all-NA entries is deprecated. In a future version, this will no longer exclude empty or all-NA columns when determining the result dtypes. To retain the old behavior, exclude the relevant entries before the concat operation.\n",
      "  predictionsDF = pd.concat([predictionsDF, tempDF], ignore_index=True)\n",
      "/home/workstation/Escritorio/PabloC/TransferLearning/funcionesComunes.py:191: FutureWarning: The behavior of DataFrame concatenation with empty or all-NA entries is deprecated. In a future version, this will no longer exclude empty or all-NA columns when determining the result dtypes. To retain the old behavior, exclude the relevant entries before the concat operation.\n",
      "  predictionsDF = pd.concat([predictionsDF, tempDF], ignore_index=True)\n"
     ]
    },
    {
     "name": "stdout",
     "output_type": "stream",
     "text": [
      "RESULTADOS DE MSE, RMSE, R2, MAPE (Train): 181.39042676226723, 13.468126327083038, 0.5005671660991107, 36.518049329336556\n",
      "RESULTADOS DE MSE, RMSE, R2, MAPE (Val): 204.46283827286928, 14.299050257722339, 0.1288258472054905, 44.6090142110594\n",
      "RESULTADOS DE MSE, RMSE, R2, MAPE (Test): 81.00120553666918, 9.000066974010203, 0.5952567659966514, 31.848031861572263\n",
      "(3473, 77)\n",
      "SE HA NORMALIZADO EL ARCHIVO: Betula utilis merged.csv\n",
      "(2059, 4, 43) (665, 4, 43) (593, 4, 43)\n"
     ]
    },
    {
     "name": "stderr",
     "output_type": "stream",
     "text": [
      "/home/workstation/Escritorio/PabloC/TransferLearning/.venv/lib/python3.10/site-packages/keras/src/layers/rnn/rnn.py:204: UserWarning: Do not pass an `input_shape`/`input_dim` argument to a layer. When using Sequential models, prefer using an `Input(shape)` object as the first layer in the model instead.\n",
      "  super().__init__(**kwargs)\n"
     ]
    },
    {
     "name": "stdout",
     "output_type": "stream",
     "text": [
      "[MODELO CONGELADO]: 23.186583280563354\n"
     ]
    },
    {
     "name": "stderr",
     "output_type": "stream",
     "text": [
      "/home/workstation/Escritorio/PabloC/TransferLearning/funcionesComunes.py:191: FutureWarning: The behavior of DataFrame concatenation with empty or all-NA entries is deprecated. In a future version, this will no longer exclude empty or all-NA columns when determining the result dtypes. To retain the old behavior, exclude the relevant entries before the concat operation.\n",
      "  predictionsDF = pd.concat([predictionsDF, tempDF], ignore_index=True)\n",
      "/home/workstation/Escritorio/PabloC/TransferLearning/funcionesComunes.py:191: FutureWarning: The behavior of DataFrame concatenation with empty or all-NA entries is deprecated. In a future version, this will no longer exclude empty or all-NA columns when determining the result dtypes. To retain the old behavior, exclude the relevant entries before the concat operation.\n",
      "  predictionsDF = pd.concat([predictionsDF, tempDF], ignore_index=True)\n",
      "/home/workstation/Escritorio/PabloC/TransferLearning/funcionesComunes.py:191: FutureWarning: The behavior of DataFrame concatenation with empty or all-NA entries is deprecated. In a future version, this will no longer exclude empty or all-NA columns when determining the result dtypes. To retain the old behavior, exclude the relevant entries before the concat operation.\n",
      "  predictionsDF = pd.concat([predictionsDF, tempDF], ignore_index=True)\n"
     ]
    },
    {
     "name": "stdout",
     "output_type": "stream",
     "text": [
      "RESULTADOS DE MSE, RMSE, R2, MAPE (Train): 3.7527241807667755, 1.9371949258571723, 0.44600300872176213, 47.890538368824814\n",
      "RESULTADOS DE MSE, RMSE, R2, MAPE (Val): 1.6447854860635096, 1.2824919048725063, 0.14345125923894775, 45.566121917170015\n",
      "RESULTADOS DE MSE, RMSE, R2, MAPE (Test): 1.5628139307792177, 1.2501255660049584, 0.4027711365691067, 46.27843115130922\n",
      "(20493, 77)\n",
      "SE HA NORMALIZADO EL ARCHIVO: Tsuga dumosa merged.csv\n",
      "(11935, 4, 43) (4144, 4, 43) (3469, 4, 43)\n"
     ]
    },
    {
     "name": "stderr",
     "output_type": "stream",
     "text": [
      "/home/workstation/Escritorio/PabloC/TransferLearning/.venv/lib/python3.10/site-packages/keras/src/layers/rnn/rnn.py:204: UserWarning: Do not pass an `input_shape`/`input_dim` argument to a layer. When using Sequential models, prefer using an `Input(shape)` object as the first layer in the model instead.\n",
      "  super().__init__(**kwargs)\n"
     ]
    },
    {
     "name": "stdout",
     "output_type": "stream",
     "text": [
      "[MODELO CONGELADO]: 298.64744806289673\n"
     ]
    },
    {
     "name": "stderr",
     "output_type": "stream",
     "text": [
      "/home/workstation/Escritorio/PabloC/TransferLearning/funcionesComunes.py:191: FutureWarning: The behavior of DataFrame concatenation with empty or all-NA entries is deprecated. In a future version, this will no longer exclude empty or all-NA columns when determining the result dtypes. To retain the old behavior, exclude the relevant entries before the concat operation.\n",
      "  predictionsDF = pd.concat([predictionsDF, tempDF], ignore_index=True)\n",
      "/home/workstation/Escritorio/PabloC/TransferLearning/funcionesComunes.py:191: FutureWarning: The behavior of DataFrame concatenation with empty or all-NA entries is deprecated. In a future version, this will no longer exclude empty or all-NA columns when determining the result dtypes. To retain the old behavior, exclude the relevant entries before the concat operation.\n",
      "  predictionsDF = pd.concat([predictionsDF, tempDF], ignore_index=True)\n",
      "/home/workstation/Escritorio/PabloC/TransferLearning/funcionesComunes.py:191: FutureWarning: The behavior of DataFrame concatenation with empty or all-NA entries is deprecated. In a future version, this will no longer exclude empty or all-NA columns when determining the result dtypes. To retain the old behavior, exclude the relevant entries before the concat operation.\n",
      "  predictionsDF = pd.concat([predictionsDF, tempDF], ignore_index=True)\n"
     ]
    },
    {
     "name": "stdout",
     "output_type": "stream",
     "text": [
      "RESULTADOS DE MSE, RMSE, R2, MAPE (Train): 255.14040114103338, 15.973114947969083, 0.34485276202126014, 45.17569716835284\n",
      "RESULTADOS DE MSE, RMSE, R2, MAPE (Val): 210.03758020080787, 14.492673328299643, 0.33347638026739046, 41.279456563624585\n",
      "RESULTADOS DE MSE, RMSE, R2, MAPE (Test): 377.5528719356513, 19.43071979973082, 0.38373524469335174, 46.07046550014789\n",
      "(37273, 77)\n",
      "SE HA NORMALIZADO EL ARCHIVO: Cedrus deodara merged.csv\n",
      "(22017, 4, 43) (7410, 4, 43) (6282, 4, 43)\n"
     ]
    },
    {
     "name": "stderr",
     "output_type": "stream",
     "text": [
      "/home/workstation/Escritorio/PabloC/TransferLearning/.venv/lib/python3.10/site-packages/keras/src/layers/rnn/rnn.py:204: UserWarning: Do not pass an `input_shape`/`input_dim` argument to a layer. When using Sequential models, prefer using an `Input(shape)` object as the first layer in the model instead.\n",
      "  super().__init__(**kwargs)\n"
     ]
    },
    {
     "name": "stdout",
     "output_type": "stream",
     "text": [
      "[MODELO CONGELADO]: 2512.251734495163\n"
     ]
    },
    {
     "name": "stderr",
     "output_type": "stream",
     "text": [
      "/home/workstation/Escritorio/PabloC/TransferLearning/funcionesComunes.py:191: FutureWarning: The behavior of DataFrame concatenation with empty or all-NA entries is deprecated. In a future version, this will no longer exclude empty or all-NA columns when determining the result dtypes. To retain the old behavior, exclude the relevant entries before the concat operation.\n",
      "  predictionsDF = pd.concat([predictionsDF, tempDF], ignore_index=True)\n",
      "/home/workstation/Escritorio/PabloC/TransferLearning/funcionesComunes.py:191: FutureWarning: The behavior of DataFrame concatenation with empty or all-NA entries is deprecated. In a future version, this will no longer exclude empty or all-NA columns when determining the result dtypes. To retain the old behavior, exclude the relevant entries before the concat operation.\n",
      "  predictionsDF = pd.concat([predictionsDF, tempDF], ignore_index=True)\n",
      "/home/workstation/Escritorio/PabloC/TransferLearning/funcionesComunes.py:191: FutureWarning: The behavior of DataFrame concatenation with empty or all-NA entries is deprecated. In a future version, this will no longer exclude empty or all-NA columns when determining the result dtypes. To retain the old behavior, exclude the relevant entries before the concat operation.\n",
      "  predictionsDF = pd.concat([predictionsDF, tempDF], ignore_index=True)\n"
     ]
    },
    {
     "name": "stdout",
     "output_type": "stream",
     "text": [
      "RESULTADOS DE MSE, RMSE, R2, MAPE (Train): 183.02485779206756, 13.528667997702788, 0.5715006762944945, 38.28249048613594\n",
      "RESULTADOS DE MSE, RMSE, R2, MAPE (Val): 237.64851660148022, 15.415852769194451, 0.4673232583108976, 40.72177911389589\n",
      "RESULTADOS DE MSE, RMSE, R2, MAPE (Test): 156.29432925223992, 12.501773044342148, 0.5565211525394063, 37.471294974276624\n",
      "(7264, 77)\n",
      "SE HA NORMALIZADO EL ARCHIVO: Juniperus spp. L. merged.csv\n",
      "(4216, 4, 43) (1524, 4, 43) (1188, 4, 43)\n"
     ]
    },
    {
     "name": "stderr",
     "output_type": "stream",
     "text": [
      "/home/workstation/Escritorio/PabloC/TransferLearning/.venv/lib/python3.10/site-packages/keras/src/layers/rnn/rnn.py:204: UserWarning: Do not pass an `input_shape`/`input_dim` argument to a layer. When using Sequential models, prefer using an `Input(shape)` object as the first layer in the model instead.\n",
      "  super().__init__(**kwargs)\n"
     ]
    },
    {
     "name": "stdout",
     "output_type": "stream",
     "text": [
      "[MODELO CONGELADO]: 150.6079878807068\n"
     ]
    },
    {
     "name": "stderr",
     "output_type": "stream",
     "text": [
      "/home/workstation/Escritorio/PabloC/TransferLearning/funcionesComunes.py:191: FutureWarning: The behavior of DataFrame concatenation with empty or all-NA entries is deprecated. In a future version, this will no longer exclude empty or all-NA columns when determining the result dtypes. To retain the old behavior, exclude the relevant entries before the concat operation.\n",
      "  predictionsDF = pd.concat([predictionsDF, tempDF], ignore_index=True)\n",
      "/home/workstation/Escritorio/PabloC/TransferLearning/funcionesComunes.py:191: FutureWarning: The behavior of DataFrame concatenation with empty or all-NA entries is deprecated. In a future version, this will no longer exclude empty or all-NA columns when determining the result dtypes. To retain the old behavior, exclude the relevant entries before the concat operation.\n",
      "  predictionsDF = pd.concat([predictionsDF, tempDF], ignore_index=True)\n",
      "/home/workstation/Escritorio/PabloC/TransferLearning/funcionesComunes.py:191: FutureWarning: The behavior of DataFrame concatenation with empty or all-NA entries is deprecated. In a future version, this will no longer exclude empty or all-NA columns when determining the result dtypes. To retain the old behavior, exclude the relevant entries before the concat operation.\n",
      "  predictionsDF = pd.concat([predictionsDF, tempDF], ignore_index=True)\n"
     ]
    },
    {
     "name": "stdout",
     "output_type": "stream",
     "text": [
      "RESULTADOS DE MSE, RMSE, R2, MAPE (Train): 4.648975639655266, 2.1561483343349237, 0.6290903505328437, 39.71466939207775\n",
      "RESULTADOS DE MSE, RMSE, R2, MAPE (Val): 1.5261438087796229, 1.2353719313549352, 0.3228143285134779, 42.80357229760276\n",
      "RESULTADOS DE MSE, RMSE, R2, MAPE (Test): 13.420136850135593, 3.6633504951254108, 0.2920798992780137, 53.54400975401785\n",
      "(5316, 77)\n",
      "SE HA NORMALIZADO EL ARCHIVO: Juniperus recurva merged.csv\n",
      "(3188, 4, 43) (1082, 4, 43) (810, 4, 43)\n"
     ]
    },
    {
     "name": "stderr",
     "output_type": "stream",
     "text": [
      "/home/workstation/Escritorio/PabloC/TransferLearning/.venv/lib/python3.10/site-packages/keras/src/layers/rnn/rnn.py:204: UserWarning: Do not pass an `input_shape`/`input_dim` argument to a layer. When using Sequential models, prefer using an `Input(shape)` object as the first layer in the model instead.\n",
      "  super().__init__(**kwargs)\n"
     ]
    },
    {
     "name": "stdout",
     "output_type": "stream",
     "text": [
      "[MODELO CONGELADO]: 103.51394319534302\n"
     ]
    },
    {
     "name": "stderr",
     "output_type": "stream",
     "text": [
      "/home/workstation/Escritorio/PabloC/TransferLearning/funcionesComunes.py:191: FutureWarning: The behavior of DataFrame concatenation with empty or all-NA entries is deprecated. In a future version, this will no longer exclude empty or all-NA columns when determining the result dtypes. To retain the old behavior, exclude the relevant entries before the concat operation.\n",
      "  predictionsDF = pd.concat([predictionsDF, tempDF], ignore_index=True)\n",
      "/home/workstation/Escritorio/PabloC/TransferLearning/funcionesComunes.py:191: FutureWarning: The behavior of DataFrame concatenation with empty or all-NA entries is deprecated. In a future version, this will no longer exclude empty or all-NA columns when determining the result dtypes. To retain the old behavior, exclude the relevant entries before the concat operation.\n",
      "  predictionsDF = pd.concat([predictionsDF, tempDF], ignore_index=True)\n",
      "/home/workstation/Escritorio/PabloC/TransferLearning/funcionesComunes.py:191: FutureWarning: The behavior of DataFrame concatenation with empty or all-NA entries is deprecated. In a future version, this will no longer exclude empty or all-NA columns when determining the result dtypes. To retain the old behavior, exclude the relevant entries before the concat operation.\n",
      "  predictionsDF = pd.concat([predictionsDF, tempDF], ignore_index=True)\n"
     ]
    },
    {
     "name": "stdout",
     "output_type": "stream",
     "text": [
      "RESULTADOS DE MSE, RMSE, R2, MAPE (Train): 8.45629687955978, 2.9079712652568936, 0.6639780302158466, 33.234290301671074\n",
      "RESULTADOS DE MSE, RMSE, R2, MAPE (Val): 7.599576065682429, 2.756732860776036, 0.7240486286010984, 29.749938258111857\n",
      "RESULTADOS DE MSE, RMSE, R2, MAPE (Test): 3.0112565297438, 1.7352972453570599, 0.6798665459140527, 27.580481593978817\n",
      "(17976, 77)\n",
      "SE HA NORMALIZADO EL ARCHIVO: Juniperus spp.  merged.csv\n",
      "(10218, 4, 43) (3900, 4, 43) (3018, 4, 43)\n"
     ]
    },
    {
     "name": "stderr",
     "output_type": "stream",
     "text": [
      "/home/workstation/Escritorio/PabloC/TransferLearning/.venv/lib/python3.10/site-packages/keras/src/layers/rnn/rnn.py:204: UserWarning: Do not pass an `input_shape`/`input_dim` argument to a layer. When using Sequential models, prefer using an `Input(shape)` object as the first layer in the model instead.\n",
      "  super().__init__(**kwargs)\n"
     ]
    },
    {
     "name": "stdout",
     "output_type": "stream",
     "text": [
      "[MODELO CONGELADO]: 258.2245650291443\n"
     ]
    },
    {
     "name": "stderr",
     "output_type": "stream",
     "text": [
      "/home/workstation/Escritorio/PabloC/TransferLearning/funcionesComunes.py:191: FutureWarning: The behavior of DataFrame concatenation with empty or all-NA entries is deprecated. In a future version, this will no longer exclude empty or all-NA columns when determining the result dtypes. To retain the old behavior, exclude the relevant entries before the concat operation.\n",
      "  predictionsDF = pd.concat([predictionsDF, tempDF], ignore_index=True)\n",
      "/home/workstation/Escritorio/PabloC/TransferLearning/funcionesComunes.py:191: FutureWarning: The behavior of DataFrame concatenation with empty or all-NA entries is deprecated. In a future version, this will no longer exclude empty or all-NA columns when determining the result dtypes. To retain the old behavior, exclude the relevant entries before the concat operation.\n",
      "  predictionsDF = pd.concat([predictionsDF, tempDF], ignore_index=True)\n",
      "/home/workstation/Escritorio/PabloC/TransferLearning/funcionesComunes.py:191: FutureWarning: The behavior of DataFrame concatenation with empty or all-NA entries is deprecated. In a future version, this will no longer exclude empty or all-NA columns when determining the result dtypes. To retain the old behavior, exclude the relevant entries before the concat operation.\n",
      "  predictionsDF = pd.concat([predictionsDF, tempDF], ignore_index=True)\n"
     ]
    },
    {
     "name": "stdout",
     "output_type": "stream",
     "text": [
      "RESULTADOS DE MSE, RMSE, R2, MAPE (Train): 20.157254829637722, 4.489683154704541, 0.6712489846085818, 35.417586445858724\n",
      "RESULTADOS DE MSE, RMSE, R2, MAPE (Val): 8.608813333573943, 2.934077935838437, 0.5623988466501744, 40.58349332693904\n",
      "RESULTADOS DE MSE, RMSE, R2, MAPE (Test): 30.19989208883748, 5.49544284738159, 0.7109956473826915, 39.595025150939\n"
     ]
    }
   ],
   "source": [
    "df_Not_Freeze = pd.DataFrame(columns = [\"File\", \"Time\", \"TrainMSE\", \"TrainRMSE\", \"TrainR2\", \"TrainMAPE\", \n",
    "                                \"ValidationMSE\", \"ValidationRMSE\", \"ValidationR2\", \"ValidationMAPE\",\n",
    "                                \"TestMSE\", \"TestRMSE\", \"TestR2\", \"TestMAPE\"])\n",
    "\n",
    "for archivo in os.listdir(\"RCPMerged\"):\n",
    "\n",
    "    if archivo != \"totalMerged.csv\" and archivo != \"Abies spectabilis_merged.csv\":\n",
    "\n",
    "        # Cargar el archivo CSV con punto y coma como delimitador\n",
    "        df = pd.read_csv(f'RCPMerged/{archivo}')\n",
    "        df = df[~df[\"nametag\"].str.startswith(\"INDI005\")]\n",
    "\n",
    "        # Codificamos, normalización y split de datos\n",
    "        df = codification(df)\n",
    "        print(df.shape)\n",
    "\n",
    "        df, valorNormalizacion = individualNormalization(df)\n",
    "        print(f'SE HA NORMALIZADO EL ARCHIVO: {archivo.replace(\"_\",\" \")}')\n",
    "\n",
    "        temp_df = df\n",
    "        train_data, val_data, test_data = split_population_individuals(temp_df, train_pct=0.80, val_pct_in_train=0.20, details=False)\n",
    "        train_data.shape, val_data.shape, test_data.shape\n",
    "\n",
    "        # Obtenemos X e y para los datasets de train, val y test \n",
    "        WINDOWS_SIZE = 3\n",
    "        X_train, y_train = df_to_X_y_ind_3(train_data, WINDOWS_SIZE)\n",
    "        X_val, y_val = df_to_X_y_ind_3(val_data, WINDOWS_SIZE)\n",
    "        X_test, y_test = df_to_X_y_ind_3(test_data, WINDOWS_SIZE)\n",
    "        print(X_train.shape, X_test.shape, X_val.shape)\n",
    "\n",
    "        # Lectura de la arquitectura del modelo LSTM\n",
    "        with open(f'arquitecturaModelosJSON/LSTM/{archivo.split(\".csv\")[0]}_best_models_updated_no_train.json', \"r\") as f:\n",
    "            arquitectura_json = json.load(f)\n",
    "\n",
    "        arquitecturaLSTM = arquitectura_json[0]\n",
    "\n",
    "        # Crear el modelo desde cero basado en las configuraciones\n",
    "        input_shape = (X_train.shape[1], X_train.shape[2])\n",
    "        modelLSTM = create_lstm_model(arquitecturaLSTM, input_shape)\n",
    "\n",
    "        # Obtener el optimizador y otros hiperparámetros desde el JSON\n",
    "        learning_rate = arquitecturaLSTM['learning_rate']\n",
    "        optimizer_name = arquitecturaLSTM['optimizer']\n",
    "        batch_size_LSTM = arquitecturaLSTM['batch_size']\n",
    "\n",
    "        if optimizer_name == 'rmsprop':\n",
    "            opt = RMSprop(learning_rate=learning_rate)\n",
    "        elif optimizer_name == 'adam':\n",
    "            opt = Adam(learning_rate=learning_rate)\n",
    "        elif optimizer_name == 'sgd':\n",
    "            opt = SGD(learning_rate=learning_rate)\n",
    "        else:\n",
    "            raise ValueError(f\"Optimizador {optimizer_name} no reconocido\")\n",
    "\n",
    "        # Compilar el modelo con los hiperparámetros del JSON\n",
    "        modelLSTM.compile(optimizer=opt,\n",
    "                    loss=MeanSquaredError(),\n",
    "                    metrics=[\n",
    "                        MeanSquaredError(name='mse'),\n",
    "                        RootMeanSquaredError(name='rmse'),\n",
    "                        MeanAbsolutePercentageError(name='mape')\n",
    "                    ])\n",
    "        \n",
    "        # Inicio del entrenamiento \n",
    "        start_time = time.time()\n",
    "\n",
    "        # Entrenar el modelo\n",
    "        historyLSTM = modelLSTM.fit(X_train, y_train, epochs=200, batch_size=batch_size_LSTM,\n",
    "                    validation_data=(X_val, y_val), callbacks=[EarlyStopping(monitor='val_loss', patience=20)], verbose = 0)\n",
    "        \n",
    "        # Finaliza la medición del tiempo de entrenamiento\n",
    "        end_time = time.time()\n",
    "        print(f\"[MODELO CONGELADO]: {end_time-start_time}\")\n",
    "\n",
    "        # Guardamos el modelo entrenado \n",
    "        modelLSTM.save(f'models/model_{archivo.split(\"_merged\")[0]}.keras')\n",
    "\n",
    "        # Realizar predicciones y calcular métricas para el conjunto de entrenamiento\n",
    "        predictions_train = predictionForIndividuals(X_train, y_train, modelLSTM, batch_size_LSTM)\n",
    "        predictions_train[\"PredictionsDenormalize\"] = predictions_train.apply(lambda row: desnormalizacionBAI(row, valorNormalizacion, \"Predictions\"), axis=1)\n",
    "        predictions_train[\"ActualDenormalize\"] = predictions_train.apply(lambda row: desnormalizacionBAI(row, valorNormalizacion, \"Actuals\"), axis=1)\n",
    "\n",
    "        train_mse = mean_squared_error(predictions_train[\"ActualDenormalize\"],predictions_train[\"PredictionsDenormalize\"])\n",
    "        train_rmse = np.sqrt(train_mse)\n",
    "        train_mape = (np.sum(np.abs(predictions_train[\"PredictionsDenormalize\"] - predictions_train[\"ActualDenormalize\"])) / np.sum(np.abs(predictions_train[\"ActualDenormalize\"]))) * 100\n",
    "        train_r2 = r2_score(predictions_train[\"ActualDenormalize\"], predictions_train[\"PredictionsDenormalize\"])\n",
    "\n",
    "        # Realizar predicciones y calcular métricas para el conjunto de validación\n",
    "        predictions_val = predictionForIndividuals(X_val, y_val, modelLSTM, batch_size_LSTM)\n",
    "        predictions_val[\"PredictionsDenormalize\"] = predictions_val.apply(lambda row: desnormalizacionBAI(row, valorNormalizacion, \"Predictions\"), axis=1)\n",
    "        predictions_val[\"ActualDenormalize\"] = predictions_val.apply(lambda row: desnormalizacionBAI(row, valorNormalizacion, \"Actuals\"), axis=1)\n",
    "\n",
    "        val_mse = mean_squared_error(predictions_val[\"ActualDenormalize\"],predictions_val[\"PredictionsDenormalize\"])\n",
    "        val_rmse = np.sqrt(val_mse)\n",
    "        val_mape = (np.sum(np.abs(predictions_val[\"PredictionsDenormalize\"] - predictions_val[\"ActualDenormalize\"])) / np.sum(np.abs(predictions_val[\"ActualDenormalize\"]))) * 100\n",
    "        val_r2 = r2_score(predictions_val[\"ActualDenormalize\"], predictions_val[\"PredictionsDenormalize\"])\n",
    "\n",
    "        # Realizar predicciones y calcular métricas para el conjunto de prueba\n",
    "        predictions_test = predictionForIndividuals(X_test, y_test, modelLSTM, batch_size_LSTM)\n",
    "        predictions_test[\"PredictionsDenormalize\"] = predictions_test.apply(lambda row: desnormalizacionBAI(row, valorNormalizacion, \"Predictions\"), axis=1)\n",
    "        predictions_test[\"ActualDenormalize\"] = predictions_test.apply(lambda row: desnormalizacionBAI(row, valorNormalizacion, \"Actuals\"), axis=1)\n",
    "\n",
    "        test_mse = mean_squared_error(predictions_test[\"ActualDenormalize\"],predictions_test[\"PredictionsDenormalize\"])\n",
    "        test_rmse = np.sqrt(test_mse)\n",
    "        test_mape = (np.sum(np.abs(predictions_test[\"PredictionsDenormalize\"] - predictions_test[\"ActualDenormalize\"])) / np.sum(np.abs(predictions_test[\"ActualDenormalize\"]))) * 100\n",
    "        test_r2 = r2_score(predictions_test[\"ActualDenormalize\"], predictions_test[\"PredictionsDenormalize\"])\n",
    "\n",
    "        print(f\"RESULTADOS DE MSE, RMSE, R2, MAPE (Train): {train_mse}, {train_rmse}, {train_r2}, {train_mape}\")\n",
    "        print(f\"RESULTADOS DE MSE, RMSE, R2, MAPE (Val): {val_mse}, {val_rmse}, {val_r2}, {val_mape}\")\n",
    "        print(f\"RESULTADOS DE MSE, RMSE, R2, MAPE (Test): {test_mse}, {test_rmse}, {test_r2}, {test_mape}\")\n",
    "\n",
    "        # Guardamos los datos calculados\n",
    "        df_Not_Freeze.loc[len(df_Not_Freeze)] = [archivo, end_time-start_time,train_mse, train_rmse, train_r2, train_mape, val_mse, val_rmse, val_r2, val_mape, test_mse, test_rmse, test_r2, test_mape]\n",
    "\n",
    "df_Not_Freeze.to_csv(\"resultados_Not_Transfer.csv\", index=False)\n"
   ]
  }
 ],
 "metadata": {
  "kernelspec": {
   "display_name": ".venv",
   "language": "python",
   "name": "python3"
  },
  "language_info": {
   "codemirror_mode": {
    "name": "ipython",
    "version": 3
   },
   "file_extension": ".py",
   "mimetype": "text/x-python",
   "name": "python",
   "nbconvert_exporter": "python",
   "pygments_lexer": "ipython3",
   "version": "3.10.12"
  }
 },
 "nbformat": 4,
 "nbformat_minor": 2
}
