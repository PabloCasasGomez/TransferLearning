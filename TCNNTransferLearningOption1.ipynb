{
 "cells": [
  {
   "cell_type": "code",
   "execution_count": 2,
   "metadata": {},
   "outputs": [
    {
     "name": "stderr",
     "output_type": "stream",
     "text": [
      "2024-11-27 19:32:57.459485: I external/local_xla/xla/tsl/cuda/cudart_stub.cc:32] Could not find cuda drivers on your machine, GPU will not be used.\n",
      "2024-11-27 19:32:57.462210: I external/local_xla/xla/tsl/cuda/cudart_stub.cc:32] Could not find cuda drivers on your machine, GPU will not be used.\n",
      "2024-11-27 19:32:57.471887: E external/local_xla/xla/stream_executor/cuda/cuda_fft.cc:485] Unable to register cuFFT factory: Attempting to register factory for plugin cuFFT when one has already been registered\n",
      "2024-11-27 19:32:57.488684: E external/local_xla/xla/stream_executor/cuda/cuda_dnn.cc:8454] Unable to register cuDNN factory: Attempting to register factory for plugin cuDNN when one has already been registered\n",
      "2024-11-27 19:32:57.493653: E external/local_xla/xla/stream_executor/cuda/cuda_blas.cc:1452] Unable to register cuBLAS factory: Attempting to register factory for plugin cuBLAS when one has already been registered\n",
      "2024-11-27 19:32:57.506357: I tensorflow/core/platform/cpu_feature_guard.cc:210] This TensorFlow binary is optimized to use available CPU instructions in performance-critical operations.\n",
      "To enable the following instructions: AVX2 FMA, in other operations, rebuild TensorFlow with the appropriate compiler flags.\n",
      "2024-11-27 19:32:58.306217: W tensorflow/compiler/tf2tensorrt/utils/py_utils.cc:38] TF-TRT Warning: Could not find TensorRT\n"
     ]
    }
   ],
   "source": [
    "import numpy as np\n",
    "import pandas as pd\n",
    "import matplotlib as mpl\n",
    "import matplotlib.pyplot as plt\n",
    "from sklearn.preprocessing import LabelEncoder\n",
    "from sklearn.model_selection import train_test_split\n",
    "from keras import layers, models\n",
    "import tensorflow as tf\n",
    "import math\n",
    "import os\n",
    "import json\n",
    "\n",
    "import random as python_random\n",
    "\n",
    "from keras_tuner import HyperModel, HyperParameters\n",
    "from keras_tuner.tuners import RandomSearch\n",
    "from keras_tuner.tuners import Hyperband\n",
    "from tensorflow.keras.models import Sequential\n",
    "from tensorflow.keras.layers import LSTM, Dropout, Dense\n",
    "from tensorflow.keras.callbacks import EarlyStopping, ModelCheckpoint\n",
    "from tensorflow.keras.optimizers import Adam\n",
    "from tensorflow.keras.optimizers import SGD\n",
    "from tensorflow.keras.optimizers import RMSprop\n",
    "from tensorflow.keras.losses import MeanSquaredError\n",
    "from tensorflow.keras.metrics import RootMeanSquaredError\n",
    "from tensorflow.keras.metrics import MeanAbsolutePercentageError\n",
    "\n",
    "from tensorflow.keras.layers import Conv1D, BatchNormalization, MaxPooling1D\n",
    "\n",
    "import time\n",
    "\n",
    "\n",
    "from sklearn.metrics import mean_squared_error, r2_score, mean_absolute_percentage_error\n",
    "\n",
    "np.random.seed(123)\n",
    "python_random.seed(123)\n",
    "tf.random.set_seed(1234)\n",
    "\n",
    "mpl.rcParams['figure.figsize'] = (8, 6)\n",
    "mpl.rcParams['axes.grid'] = False\n",
    "\n",
    "from funcionesComunes import *"
   ]
  },
  {
   "cell_type": "code",
   "execution_count": 19,
   "metadata": {},
   "outputs": [
    {
     "name": "stdout",
     "output_type": "stream",
     "text": [
      "Procesando el archivo:  Abies spectabilis_merged.csv\n",
      "(56618, 4, 43) (56618,) (15689, 4, 43) (15689,) (19637, 4, 43) (19637,)\n"
     ]
    },
    {
     "name": "stderr",
     "output_type": "stream",
     "text": [
      "/home/workstation/Escritorio/PabloC/TransferLearning/.venv/lib/python3.10/site-packages/keras/src/layers/convolutional/base_conv.py:107: UserWarning: Do not pass an `input_shape`/`input_dim` argument to a layer. When using Sequential models, prefer using an `Input(shape)` object as the first layer in the model instead.\n",
      "  super().__init__(activity_regularizer=activity_regularizer, **kwargs)\n",
      "/home/workstation/Escritorio/PabloC/TransferLearning/funcionesComunes.py:247: FutureWarning: The behavior of DataFrame concatenation with empty or all-NA entries is deprecated. In a future version, this will no longer exclude empty or all-NA columns when determining the result dtypes. To retain the old behavior, exclude the relevant entries before the concat operation.\n",
      "  predictionsDF = pd.concat([predictionsDF, tempDF], ignore_index=True)\n",
      "/home/workstation/Escritorio/PabloC/TransferLearning/funcionesComunes.py:247: FutureWarning: The behavior of DataFrame concatenation with empty or all-NA entries is deprecated. In a future version, this will no longer exclude empty or all-NA columns when determining the result dtypes. To retain the old behavior, exclude the relevant entries before the concat operation.\n",
      "  predictionsDF = pd.concat([predictionsDF, tempDF], ignore_index=True)\n",
      "/home/workstation/Escritorio/PabloC/TransferLearning/funcionesComunes.py:247: FutureWarning: The behavior of DataFrame concatenation with empty or all-NA entries is deprecated. In a future version, this will no longer exclude empty or all-NA columns when determining the result dtypes. To retain the old behavior, exclude the relevant entries before the concat operation.\n",
      "  predictionsDF = pd.concat([predictionsDF, tempDF], ignore_index=True)\n"
     ]
    },
    {
     "name": "stdout",
     "output_type": "stream",
     "text": [
      "RESULTADOS DE MSE, RMSE, R2, MAPE (Train): 16.992359388702223, 4.12217896126578, 0.8509182621784479, 20.203425817542623\n",
      "RESULTADOS DE MSE, RMSE, R2, MAPE (Val): 17.620423648187227, 4.197668834982963, 0.83944895271168, 20.71440540072978\n",
      "RESULTADOS DE MSE, RMSE, R2, MAPE (Test): 17.607770755828092, 4.196161431097247, 0.8694162656119522, 19.953329034632635\n",
      "Procesando el archivo:  Picea smithiana_merged.csv\n",
      "(19933, 4, 43) (19933,) (5863, 4, 43) (5863,) (7272, 4, 43) (7272,)\n"
     ]
    },
    {
     "name": "stderr",
     "output_type": "stream",
     "text": [
      "/home/workstation/Escritorio/PabloC/TransferLearning/.venv/lib/python3.10/site-packages/keras/src/layers/convolutional/base_conv.py:107: UserWarning: Do not pass an `input_shape`/`input_dim` argument to a layer. When using Sequential models, prefer using an `Input(shape)` object as the first layer in the model instead.\n",
      "  super().__init__(activity_regularizer=activity_regularizer, **kwargs)\n",
      "/home/workstation/Escritorio/PabloC/TransferLearning/funcionesComunes.py:247: FutureWarning: The behavior of DataFrame concatenation with empty or all-NA entries is deprecated. In a future version, this will no longer exclude empty or all-NA columns when determining the result dtypes. To retain the old behavior, exclude the relevant entries before the concat operation.\n",
      "  predictionsDF = pd.concat([predictionsDF, tempDF], ignore_index=True)\n",
      "/home/workstation/Escritorio/PabloC/TransferLearning/funcionesComunes.py:247: FutureWarning: The behavior of DataFrame concatenation with empty or all-NA entries is deprecated. In a future version, this will no longer exclude empty or all-NA columns when determining the result dtypes. To retain the old behavior, exclude the relevant entries before the concat operation.\n",
      "  predictionsDF = pd.concat([predictionsDF, tempDF], ignore_index=True)\n",
      "/home/workstation/Escritorio/PabloC/TransferLearning/funcionesComunes.py:247: FutureWarning: The behavior of DataFrame concatenation with empty or all-NA entries is deprecated. In a future version, this will no longer exclude empty or all-NA columns when determining the result dtypes. To retain the old behavior, exclude the relevant entries before the concat operation.\n",
      "  predictionsDF = pd.concat([predictionsDF, tempDF], ignore_index=True)\n"
     ]
    },
    {
     "name": "stdout",
     "output_type": "stream",
     "text": [
      "RESULTADOS DE MSE, RMSE, R2, MAPE (Train): 61.76854832551392, 7.859296935827906, 0.8189827141441706, 22.04134793491326\n",
      "RESULTADOS DE MSE, RMSE, R2, MAPE (Val): 60.540515090709896, 7.780778565844802, 0.825296136273859, 21.547447014180012\n",
      "RESULTADOS DE MSE, RMSE, R2, MAPE (Test): 53.27096026861117, 7.298695792305032, 0.8201062538023935, 22.928274612585533\n",
      "Procesando el archivo:  Abies pindrow_merged.csv\n",
      "(9042, 4, 43) (9042,) (2815, 4, 43) (2815,) (3441, 4, 43) (3441,)\n"
     ]
    },
    {
     "name": "stderr",
     "output_type": "stream",
     "text": [
      "/home/workstation/Escritorio/PabloC/TransferLearning/.venv/lib/python3.10/site-packages/keras/src/layers/convolutional/base_conv.py:107: UserWarning: Do not pass an `input_shape`/`input_dim` argument to a layer. When using Sequential models, prefer using an `Input(shape)` object as the first layer in the model instead.\n",
      "  super().__init__(activity_regularizer=activity_regularizer, **kwargs)\n",
      "/home/workstation/Escritorio/PabloC/TransferLearning/funcionesComunes.py:247: FutureWarning: The behavior of DataFrame concatenation with empty or all-NA entries is deprecated. In a future version, this will no longer exclude empty or all-NA columns when determining the result dtypes. To retain the old behavior, exclude the relevant entries before the concat operation.\n",
      "  predictionsDF = pd.concat([predictionsDF, tempDF], ignore_index=True)\n",
      "/home/workstation/Escritorio/PabloC/TransferLearning/funcionesComunes.py:247: FutureWarning: The behavior of DataFrame concatenation with empty or all-NA entries is deprecated. In a future version, this will no longer exclude empty or all-NA columns when determining the result dtypes. To retain the old behavior, exclude the relevant entries before the concat operation.\n",
      "  predictionsDF = pd.concat([predictionsDF, tempDF], ignore_index=True)\n",
      "/home/workstation/Escritorio/PabloC/TransferLearning/funcionesComunes.py:247: FutureWarning: The behavior of DataFrame concatenation with empty or all-NA entries is deprecated. In a future version, this will no longer exclude empty or all-NA columns when determining the result dtypes. To retain the old behavior, exclude the relevant entries before the concat operation.\n",
      "  predictionsDF = pd.concat([predictionsDF, tempDF], ignore_index=True)\n"
     ]
    },
    {
     "name": "stdout",
     "output_type": "stream",
     "text": [
      "RESULTADOS DE MSE, RMSE, R2, MAPE (Train): 71.46346970565966, 8.453606905082568, 0.6932559569022894, 26.541626903913844\n",
      "RESULTADOS DE MSE, RMSE, R2, MAPE (Val): 45.34332628813331, 6.733745338823953, 0.7413395304145864, 23.188771986667213\n",
      "RESULTADOS DE MSE, RMSE, R2, MAPE (Test): 68.17498432551731, 8.256814417529155, 0.518022125235472, 27.300304034179245\n",
      "Procesando el archivo:  Juniperus excelsa M.-Bieb_merged.csv\n",
      "(4189, 4, 43) (4189,) (1228, 4, 43) (1228,) (1707, 4, 43) (1707,)\n"
     ]
    },
    {
     "name": "stderr",
     "output_type": "stream",
     "text": [
      "/home/workstation/Escritorio/PabloC/TransferLearning/.venv/lib/python3.10/site-packages/keras/src/layers/convolutional/base_conv.py:107: UserWarning: Do not pass an `input_shape`/`input_dim` argument to a layer. When using Sequential models, prefer using an `Input(shape)` object as the first layer in the model instead.\n",
      "  super().__init__(activity_regularizer=activity_regularizer, **kwargs)\n",
      "/home/workstation/Escritorio/PabloC/TransferLearning/funcionesComunes.py:247: FutureWarning: The behavior of DataFrame concatenation with empty or all-NA entries is deprecated. In a future version, this will no longer exclude empty or all-NA columns when determining the result dtypes. To retain the old behavior, exclude the relevant entries before the concat operation.\n",
      "  predictionsDF = pd.concat([predictionsDF, tempDF], ignore_index=True)\n",
      "/home/workstation/Escritorio/PabloC/TransferLearning/funcionesComunes.py:247: FutureWarning: The behavior of DataFrame concatenation with empty or all-NA entries is deprecated. In a future version, this will no longer exclude empty or all-NA columns when determining the result dtypes. To retain the old behavior, exclude the relevant entries before the concat operation.\n",
      "  predictionsDF = pd.concat([predictionsDF, tempDF], ignore_index=True)\n",
      "/home/workstation/Escritorio/PabloC/TransferLearning/funcionesComunes.py:247: FutureWarning: The behavior of DataFrame concatenation with empty or all-NA entries is deprecated. In a future version, this will no longer exclude empty or all-NA columns when determining the result dtypes. To retain the old behavior, exclude the relevant entries before the concat operation.\n",
      "  predictionsDF = pd.concat([predictionsDF, tempDF], ignore_index=True)\n"
     ]
    },
    {
     "name": "stdout",
     "output_type": "stream",
     "text": [
      "RESULTADOS DE MSE, RMSE, R2, MAPE (Train): 5.772432603017085, 2.4025887294784942, 0.7653621440314715, 23.70895101966942\n",
      "RESULTADOS DE MSE, RMSE, R2, MAPE (Val): 4.734202521958194, 2.1758222634117415, 0.8194552851851662, 23.651348189806292\n",
      "RESULTADOS DE MSE, RMSE, R2, MAPE (Test): 12.645288805000531, 3.556021485452602, 0.8125230853269504, 24.31024975452765\n",
      "Procesando el archivo:  Juniperus turkestanica Komar._merged.csv\n",
      "(3664, 4, 43) (3664,) (1001, 4, 43) (1001,) (1368, 4, 43) (1368,)\n"
     ]
    },
    {
     "name": "stderr",
     "output_type": "stream",
     "text": [
      "/home/workstation/Escritorio/PabloC/TransferLearning/.venv/lib/python3.10/site-packages/keras/src/layers/convolutional/base_conv.py:107: UserWarning: Do not pass an `input_shape`/`input_dim` argument to a layer. When using Sequential models, prefer using an `Input(shape)` object as the first layer in the model instead.\n",
      "  super().__init__(activity_regularizer=activity_regularizer, **kwargs)\n",
      "/home/workstation/Escritorio/PabloC/TransferLearning/funcionesComunes.py:247: FutureWarning: The behavior of DataFrame concatenation with empty or all-NA entries is deprecated. In a future version, this will no longer exclude empty or all-NA columns when determining the result dtypes. To retain the old behavior, exclude the relevant entries before the concat operation.\n",
      "  predictionsDF = pd.concat([predictionsDF, tempDF], ignore_index=True)\n",
      "/home/workstation/Escritorio/PabloC/TransferLearning/funcionesComunes.py:247: FutureWarning: The behavior of DataFrame concatenation with empty or all-NA entries is deprecated. In a future version, this will no longer exclude empty or all-NA columns when determining the result dtypes. To retain the old behavior, exclude the relevant entries before the concat operation.\n",
      "  predictionsDF = pd.concat([predictionsDF, tempDF], ignore_index=True)\n",
      "/home/workstation/Escritorio/PabloC/TransferLearning/funcionesComunes.py:247: FutureWarning: The behavior of DataFrame concatenation with empty or all-NA entries is deprecated. In a future version, this will no longer exclude empty or all-NA columns when determining the result dtypes. To retain the old behavior, exclude the relevant entries before the concat operation.\n",
      "  predictionsDF = pd.concat([predictionsDF, tempDF], ignore_index=True)\n"
     ]
    },
    {
     "name": "stdout",
     "output_type": "stream",
     "text": [
      "RESULTADOS DE MSE, RMSE, R2, MAPE (Train): 4.534398019248126, 2.1294125995795476, 0.8989814299340441, 21.294339807916714\n",
      "RESULTADOS DE MSE, RMSE, R2, MAPE (Val): 2.8555986774146773, 1.6898516731993602, 0.8339391994756467, 22.947331944970355\n",
      "RESULTADOS DE MSE, RMSE, R2, MAPE (Test): 1.0307166356322537, 1.0152421561540153, 0.8103769276739482, 20.59950974220155\n",
      "Procesando el archivo:  Pinus roxburghii_merged.csv\n",
      "(6309, 4, 43) (6309,) (1647, 4, 43) (1647,) (2167, 4, 43) (2167,)\n"
     ]
    },
    {
     "name": "stderr",
     "output_type": "stream",
     "text": [
      "/home/workstation/Escritorio/PabloC/TransferLearning/.venv/lib/python3.10/site-packages/keras/src/layers/convolutional/base_conv.py:107: UserWarning: Do not pass an `input_shape`/`input_dim` argument to a layer. When using Sequential models, prefer using an `Input(shape)` object as the first layer in the model instead.\n",
      "  super().__init__(activity_regularizer=activity_regularizer, **kwargs)\n",
      "/home/workstation/Escritorio/PabloC/TransferLearning/funcionesComunes.py:247: FutureWarning: The behavior of DataFrame concatenation with empty or all-NA entries is deprecated. In a future version, this will no longer exclude empty or all-NA columns when determining the result dtypes. To retain the old behavior, exclude the relevant entries before the concat operation.\n",
      "  predictionsDF = pd.concat([predictionsDF, tempDF], ignore_index=True)\n",
      "/home/workstation/Escritorio/PabloC/TransferLearning/funcionesComunes.py:247: FutureWarning: The behavior of DataFrame concatenation with empty or all-NA entries is deprecated. In a future version, this will no longer exclude empty or all-NA columns when determining the result dtypes. To retain the old behavior, exclude the relevant entries before the concat operation.\n",
      "  predictionsDF = pd.concat([predictionsDF, tempDF], ignore_index=True)\n",
      "/home/workstation/Escritorio/PabloC/TransferLearning/funcionesComunes.py:247: FutureWarning: The behavior of DataFrame concatenation with empty or all-NA entries is deprecated. In a future version, this will no longer exclude empty or all-NA columns when determining the result dtypes. To retain the old behavior, exclude the relevant entries before the concat operation.\n",
      "  predictionsDF = pd.concat([predictionsDF, tempDF], ignore_index=True)\n"
     ]
    },
    {
     "name": "stdout",
     "output_type": "stream",
     "text": [
      "RESULTADOS DE MSE, RMSE, R2, MAPE (Train): 80.77624742301671, 8.987560704830688, 0.6971670180580665, 29.36071678167611\n",
      "RESULTADOS DE MSE, RMSE, R2, MAPE (Val): 62.34136808711995, 7.895655013177814, 0.7217006780872703, 29.73941064943837\n",
      "RESULTADOS DE MSE, RMSE, R2, MAPE (Test): 77.23023610408363, 8.788073514945333, 0.6759257913557548, 29.234319593569356\n",
      "Procesando el archivo:  Pinus wallichiana_merged.csv\n",
      "(5508, 4, 43) (5508,) (1500, 4, 43) (1500,) (1957, 4, 43) (1957,)\n"
     ]
    },
    {
     "name": "stderr",
     "output_type": "stream",
     "text": [
      "/home/workstation/Escritorio/PabloC/TransferLearning/.venv/lib/python3.10/site-packages/keras/src/layers/convolutional/base_conv.py:107: UserWarning: Do not pass an `input_shape`/`input_dim` argument to a layer. When using Sequential models, prefer using an `Input(shape)` object as the first layer in the model instead.\n",
      "  super().__init__(activity_regularizer=activity_regularizer, **kwargs)\n",
      "/home/workstation/Escritorio/PabloC/TransferLearning/funcionesComunes.py:247: FutureWarning: The behavior of DataFrame concatenation with empty or all-NA entries is deprecated. In a future version, this will no longer exclude empty or all-NA columns when determining the result dtypes. To retain the old behavior, exclude the relevant entries before the concat operation.\n",
      "  predictionsDF = pd.concat([predictionsDF, tempDF], ignore_index=True)\n",
      "/home/workstation/Escritorio/PabloC/TransferLearning/funcionesComunes.py:247: FutureWarning: The behavior of DataFrame concatenation with empty or all-NA entries is deprecated. In a future version, this will no longer exclude empty or all-NA columns when determining the result dtypes. To retain the old behavior, exclude the relevant entries before the concat operation.\n",
      "  predictionsDF = pd.concat([predictionsDF, tempDF], ignore_index=True)\n",
      "/home/workstation/Escritorio/PabloC/TransferLearning/funcionesComunes.py:247: FutureWarning: The behavior of DataFrame concatenation with empty or all-NA entries is deprecated. In a future version, this will no longer exclude empty or all-NA columns when determining the result dtypes. To retain the old behavior, exclude the relevant entries before the concat operation.\n",
      "  predictionsDF = pd.concat([predictionsDF, tempDF], ignore_index=True)\n"
     ]
    },
    {
     "name": "stdout",
     "output_type": "stream",
     "text": [
      "RESULTADOS DE MSE, RMSE, R2, MAPE (Train): 16.574961159087277, 4.071235827004778, 0.7541236785921869, 24.813701700771613\n",
      "RESULTADOS DE MSE, RMSE, R2, MAPE (Val): 10.103426728053572, 3.1785887950556884, 0.8309993104664232, 23.402767750621326\n",
      "RESULTADOS DE MSE, RMSE, R2, MAPE (Test): 11.30870705212498, 3.3628421093064986, 0.73179007760577, 24.080207210723977\n",
      "Procesando el archivo:  Pinus gerardiana_merged.csv\n",
      "(5767, 4, 43) (5767,) (1745, 4, 43) (1745,) (2181, 4, 43) (2181,)\n"
     ]
    },
    {
     "name": "stderr",
     "output_type": "stream",
     "text": [
      "/home/workstation/Escritorio/PabloC/TransferLearning/.venv/lib/python3.10/site-packages/keras/src/layers/convolutional/base_conv.py:107: UserWarning: Do not pass an `input_shape`/`input_dim` argument to a layer. When using Sequential models, prefer using an `Input(shape)` object as the first layer in the model instead.\n",
      "  super().__init__(activity_regularizer=activity_regularizer, **kwargs)\n",
      "/home/workstation/Escritorio/PabloC/TransferLearning/funcionesComunes.py:247: FutureWarning: The behavior of DataFrame concatenation with empty or all-NA entries is deprecated. In a future version, this will no longer exclude empty or all-NA columns when determining the result dtypes. To retain the old behavior, exclude the relevant entries before the concat operation.\n",
      "  predictionsDF = pd.concat([predictionsDF, tempDF], ignore_index=True)\n",
      "/home/workstation/Escritorio/PabloC/TransferLearning/funcionesComunes.py:247: FutureWarning: The behavior of DataFrame concatenation with empty or all-NA entries is deprecated. In a future version, this will no longer exclude empty or all-NA columns when determining the result dtypes. To retain the old behavior, exclude the relevant entries before the concat operation.\n",
      "  predictionsDF = pd.concat([predictionsDF, tempDF], ignore_index=True)\n",
      "/home/workstation/Escritorio/PabloC/TransferLearning/funcionesComunes.py:247: FutureWarning: The behavior of DataFrame concatenation with empty or all-NA entries is deprecated. In a future version, this will no longer exclude empty or all-NA columns when determining the result dtypes. To retain the old behavior, exclude the relevant entries before the concat operation.\n",
      "  predictionsDF = pd.concat([predictionsDF, tempDF], ignore_index=True)\n"
     ]
    },
    {
     "name": "stdout",
     "output_type": "stream",
     "text": [
      "RESULTADOS DE MSE, RMSE, R2, MAPE (Train): 8.315749015703013, 2.8837040444024438, 0.7857711301131455, 22.721650530321487\n",
      "RESULTADOS DE MSE, RMSE, R2, MAPE (Val): 9.270984326372277, 3.0448291128357723, 0.765706624855905, 22.299969427138635\n",
      "RESULTADOS DE MSE, RMSE, R2, MAPE (Test): 8.294711927302856, 2.880054153536502, 0.793537782949417, 22.848850463128574\n",
      "Procesando el archivo:  Populus ciliata_merged.csv\n",
      "(705, 4, 43) (705,) (265, 4, 43) (265,) (156, 4, 43) (156,)\n"
     ]
    },
    {
     "name": "stderr",
     "output_type": "stream",
     "text": [
      "/home/workstation/Escritorio/PabloC/TransferLearning/.venv/lib/python3.10/site-packages/keras/src/layers/convolutional/base_conv.py:107: UserWarning: Do not pass an `input_shape`/`input_dim` argument to a layer. When using Sequential models, prefer using an `Input(shape)` object as the first layer in the model instead.\n",
      "  super().__init__(activity_regularizer=activity_regularizer, **kwargs)\n",
      "/home/workstation/Escritorio/PabloC/TransferLearning/funcionesComunes.py:247: FutureWarning: The behavior of DataFrame concatenation with empty or all-NA entries is deprecated. In a future version, this will no longer exclude empty or all-NA columns when determining the result dtypes. To retain the old behavior, exclude the relevant entries before the concat operation.\n",
      "  predictionsDF = pd.concat([predictionsDF, tempDF], ignore_index=True)\n",
      "/home/workstation/Escritorio/PabloC/TransferLearning/funcionesComunes.py:247: FutureWarning: The behavior of DataFrame concatenation with empty or all-NA entries is deprecated. In a future version, this will no longer exclude empty or all-NA columns when determining the result dtypes. To retain the old behavior, exclude the relevant entries before the concat operation.\n",
      "  predictionsDF = pd.concat([predictionsDF, tempDF], ignore_index=True)\n",
      "/home/workstation/Escritorio/PabloC/TransferLearning/funcionesComunes.py:247: FutureWarning: The behavior of DataFrame concatenation with empty or all-NA entries is deprecated. In a future version, this will no longer exclude empty or all-NA columns when determining the result dtypes. To retain the old behavior, exclude the relevant entries before the concat operation.\n",
      "  predictionsDF = pd.concat([predictionsDF, tempDF], ignore_index=True)\n"
     ]
    },
    {
     "name": "stdout",
     "output_type": "stream",
     "text": [
      "RESULTADOS DE MSE, RMSE, R2, MAPE (Train): 151.92971470842724, 12.325977231377124, 0.5816830616423265, 33.72213769230983\n",
      "RESULTADOS DE MSE, RMSE, R2, MAPE (Val): 189.38160381374604, 13.761598882896784, 0.19308388922429487, 43.76901671614715\n",
      "RESULTADOS DE MSE, RMSE, R2, MAPE (Test): 62.45416477807443, 7.9027947447769655, 0.6879317972889604, 28.485847536583908\n",
      "Procesando el archivo:  Betula utilis_merged.csv\n",
      "(2059, 4, 43) (2059,) (593, 4, 43) (593,) (665, 4, 43) (665,)\n"
     ]
    },
    {
     "name": "stderr",
     "output_type": "stream",
     "text": [
      "/home/workstation/Escritorio/PabloC/TransferLearning/.venv/lib/python3.10/site-packages/keras/src/layers/convolutional/base_conv.py:107: UserWarning: Do not pass an `input_shape`/`input_dim` argument to a layer. When using Sequential models, prefer using an `Input(shape)` object as the first layer in the model instead.\n",
      "  super().__init__(activity_regularizer=activity_regularizer, **kwargs)\n",
      "/home/workstation/Escritorio/PabloC/TransferLearning/funcionesComunes.py:247: FutureWarning: The behavior of DataFrame concatenation with empty or all-NA entries is deprecated. In a future version, this will no longer exclude empty or all-NA columns when determining the result dtypes. To retain the old behavior, exclude the relevant entries before the concat operation.\n",
      "  predictionsDF = pd.concat([predictionsDF, tempDF], ignore_index=True)\n",
      "/home/workstation/Escritorio/PabloC/TransferLearning/funcionesComunes.py:247: FutureWarning: The behavior of DataFrame concatenation with empty or all-NA entries is deprecated. In a future version, this will no longer exclude empty or all-NA columns when determining the result dtypes. To retain the old behavior, exclude the relevant entries before the concat operation.\n",
      "  predictionsDF = pd.concat([predictionsDF, tempDF], ignore_index=True)\n",
      "/home/workstation/Escritorio/PabloC/TransferLearning/funcionesComunes.py:247: FutureWarning: The behavior of DataFrame concatenation with empty or all-NA entries is deprecated. In a future version, this will no longer exclude empty or all-NA columns when determining the result dtypes. To retain the old behavior, exclude the relevant entries before the concat operation.\n",
      "  predictionsDF = pd.concat([predictionsDF, tempDF], ignore_index=True)\n"
     ]
    },
    {
     "name": "stdout",
     "output_type": "stream",
     "text": [
      "RESULTADOS DE MSE, RMSE, R2, MAPE (Train): 1.9950191049971069, 1.4124514522620262, 0.705484728300716, 32.30228322568796\n",
      "RESULTADOS DE MSE, RMSE, R2, MAPE (Val): 0.431378269678828, 0.6567939324314955, 0.775352763739785, 23.36316943430969\n",
      "RESULTADOS DE MSE, RMSE, R2, MAPE (Test): 0.49854913086106256, 0.7060801164606341, 0.8094796028340013, 25.555197331723782\n",
      "Procesando el archivo:  Tsuga dumosa_merged.csv\n",
      "(11935, 4, 43) (11935,) (3469, 4, 43) (3469,) (4144, 4, 43) (4144,)\n"
     ]
    },
    {
     "name": "stderr",
     "output_type": "stream",
     "text": [
      "/home/workstation/Escritorio/PabloC/TransferLearning/.venv/lib/python3.10/site-packages/keras/src/layers/convolutional/base_conv.py:107: UserWarning: Do not pass an `input_shape`/`input_dim` argument to a layer. When using Sequential models, prefer using an `Input(shape)` object as the first layer in the model instead.\n",
      "  super().__init__(activity_regularizer=activity_regularizer, **kwargs)\n",
      "/home/workstation/Escritorio/PabloC/TransferLearning/funcionesComunes.py:247: FutureWarning: The behavior of DataFrame concatenation with empty or all-NA entries is deprecated. In a future version, this will no longer exclude empty or all-NA columns when determining the result dtypes. To retain the old behavior, exclude the relevant entries before the concat operation.\n",
      "  predictionsDF = pd.concat([predictionsDF, tempDF], ignore_index=True)\n",
      "/home/workstation/Escritorio/PabloC/TransferLearning/funcionesComunes.py:247: FutureWarning: The behavior of DataFrame concatenation with empty or all-NA entries is deprecated. In a future version, this will no longer exclude empty or all-NA columns when determining the result dtypes. To retain the old behavior, exclude the relevant entries before the concat operation.\n",
      "  predictionsDF = pd.concat([predictionsDF, tempDF], ignore_index=True)\n",
      "/home/workstation/Escritorio/PabloC/TransferLearning/funcionesComunes.py:247: FutureWarning: The behavior of DataFrame concatenation with empty or all-NA entries is deprecated. In a future version, this will no longer exclude empty or all-NA columns when determining the result dtypes. To retain the old behavior, exclude the relevant entries before the concat operation.\n",
      "  predictionsDF = pd.concat([predictionsDF, tempDF], ignore_index=True)\n"
     ]
    },
    {
     "name": "stdout",
     "output_type": "stream",
     "text": [
      "RESULTADOS DE MSE, RMSE, R2, MAPE (Train): 97.45562997352988, 9.871961809768608, 0.7497543057975236, 26.579021786718833\n",
      "RESULTADOS DE MSE, RMSE, R2, MAPE (Val): 93.15783568005415, 9.651830690602386, 0.7043771986681528, 26.524981667873636\n",
      "RESULTADOS DE MSE, RMSE, R2, MAPE (Test): 135.1703055977244, 11.626276514762772, 0.7793668079470895, 26.05028676986664\n",
      "Procesando el archivo:  Cedrus deodara_merged.csv\n",
      "(22017, 4, 43) (22017,) (6282, 4, 43) (6282,) (7410, 4, 43) (7410,)\n"
     ]
    },
    {
     "name": "stderr",
     "output_type": "stream",
     "text": [
      "/home/workstation/Escritorio/PabloC/TransferLearning/.venv/lib/python3.10/site-packages/keras/src/layers/convolutional/base_conv.py:107: UserWarning: Do not pass an `input_shape`/`input_dim` argument to a layer. When using Sequential models, prefer using an `Input(shape)` object as the first layer in the model instead.\n",
      "  super().__init__(activity_regularizer=activity_regularizer, **kwargs)\n",
      "/home/workstation/Escritorio/PabloC/TransferLearning/funcionesComunes.py:247: FutureWarning: The behavior of DataFrame concatenation with empty or all-NA entries is deprecated. In a future version, this will no longer exclude empty or all-NA columns when determining the result dtypes. To retain the old behavior, exclude the relevant entries before the concat operation.\n",
      "  predictionsDF = pd.concat([predictionsDF, tempDF], ignore_index=True)\n",
      "/home/workstation/Escritorio/PabloC/TransferLearning/funcionesComunes.py:247: FutureWarning: The behavior of DataFrame concatenation with empty or all-NA entries is deprecated. In a future version, this will no longer exclude empty or all-NA columns when determining the result dtypes. To retain the old behavior, exclude the relevant entries before the concat operation.\n",
      "  predictionsDF = pd.concat([predictionsDF, tempDF], ignore_index=True)\n",
      "/home/workstation/Escritorio/PabloC/TransferLearning/funcionesComunes.py:247: FutureWarning: The behavior of DataFrame concatenation with empty or all-NA entries is deprecated. In a future version, this will no longer exclude empty or all-NA columns when determining the result dtypes. To retain the old behavior, exclude the relevant entries before the concat operation.\n",
      "  predictionsDF = pd.concat([predictionsDF, tempDF], ignore_index=True)\n"
     ]
    },
    {
     "name": "stdout",
     "output_type": "stream",
     "text": [
      "RESULTADOS DE MSE, RMSE, R2, MAPE (Train): 75.50883826491261, 8.689582168603541, 0.8232180780216087, 21.344021647166414\n",
      "RESULTADOS DE MSE, RMSE, R2, MAPE (Val): 87.52074530509255, 9.355252284417164, 0.803826819093942, 21.80741462475715\n",
      "RESULTADOS DE MSE, RMSE, R2, MAPE (Test): 62.870189972241064, 7.929072453461443, 0.8216083749045011, 20.891629573465266\n",
      "Procesando el archivo:  Juniperus spp. L._merged.csv\n",
      "(4216, 4, 43) (4216,) (1188, 4, 43) (1188,) (1524, 4, 43) (1524,)\n"
     ]
    },
    {
     "name": "stderr",
     "output_type": "stream",
     "text": [
      "/home/workstation/Escritorio/PabloC/TransferLearning/.venv/lib/python3.10/site-packages/keras/src/layers/convolutional/base_conv.py:107: UserWarning: Do not pass an `input_shape`/`input_dim` argument to a layer. When using Sequential models, prefer using an `Input(shape)` object as the first layer in the model instead.\n",
      "  super().__init__(activity_regularizer=activity_regularizer, **kwargs)\n",
      "/home/workstation/Escritorio/PabloC/TransferLearning/funcionesComunes.py:247: FutureWarning: The behavior of DataFrame concatenation with empty or all-NA entries is deprecated. In a future version, this will no longer exclude empty or all-NA columns when determining the result dtypes. To retain the old behavior, exclude the relevant entries before the concat operation.\n",
      "  predictionsDF = pd.concat([predictionsDF, tempDF], ignore_index=True)\n",
      "/home/workstation/Escritorio/PabloC/TransferLearning/funcionesComunes.py:247: FutureWarning: The behavior of DataFrame concatenation with empty or all-NA entries is deprecated. In a future version, this will no longer exclude empty or all-NA columns when determining the result dtypes. To retain the old behavior, exclude the relevant entries before the concat operation.\n",
      "  predictionsDF = pd.concat([predictionsDF, tempDF], ignore_index=True)\n",
      "/home/workstation/Escritorio/PabloC/TransferLearning/funcionesComunes.py:247: FutureWarning: The behavior of DataFrame concatenation with empty or all-NA entries is deprecated. In a future version, this will no longer exclude empty or all-NA columns when determining the result dtypes. To retain the old behavior, exclude the relevant entries before the concat operation.\n",
      "  predictionsDF = pd.concat([predictionsDF, tempDF], ignore_index=True)\n"
     ]
    },
    {
     "name": "stdout",
     "output_type": "stream",
     "text": [
      "RESULTADOS DE MSE, RMSE, R2, MAPE (Train): 2.0799432422658484, 1.4422008328474396, 0.8340556977068581, 25.382730243214404\n",
      "RESULTADOS DE MSE, RMSE, R2, MAPE (Val): 0.6869648424777913, 0.8288334226355687, 0.6951776461269701, 27.911098051096356\n",
      "RESULTADOS DE MSE, RMSE, R2, MAPE (Test): 3.785924904393789, 1.9457453339000428, 0.8002902377543752, 27.862424286092452\n",
      "Procesando el archivo:  Juniperus recurva_merged.csv\n",
      "(3188, 4, 43) (3188,) (810, 4, 43) (810,) (1082, 4, 43) (1082,)\n"
     ]
    },
    {
     "name": "stderr",
     "output_type": "stream",
     "text": [
      "/home/workstation/Escritorio/PabloC/TransferLearning/.venv/lib/python3.10/site-packages/keras/src/layers/convolutional/base_conv.py:107: UserWarning: Do not pass an `input_shape`/`input_dim` argument to a layer. When using Sequential models, prefer using an `Input(shape)` object as the first layer in the model instead.\n",
      "  super().__init__(activity_regularizer=activity_regularizer, **kwargs)\n",
      "/home/workstation/Escritorio/PabloC/TransferLearning/funcionesComunes.py:247: FutureWarning: The behavior of DataFrame concatenation with empty or all-NA entries is deprecated. In a future version, this will no longer exclude empty or all-NA columns when determining the result dtypes. To retain the old behavior, exclude the relevant entries before the concat operation.\n",
      "  predictionsDF = pd.concat([predictionsDF, tempDF], ignore_index=True)\n",
      "/home/workstation/Escritorio/PabloC/TransferLearning/funcionesComunes.py:247: FutureWarning: The behavior of DataFrame concatenation with empty or all-NA entries is deprecated. In a future version, this will no longer exclude empty or all-NA columns when determining the result dtypes. To retain the old behavior, exclude the relevant entries before the concat operation.\n",
      "  predictionsDF = pd.concat([predictionsDF, tempDF], ignore_index=True)\n",
      "/home/workstation/Escritorio/PabloC/TransferLearning/funcionesComunes.py:247: FutureWarning: The behavior of DataFrame concatenation with empty or all-NA entries is deprecated. In a future version, this will no longer exclude empty or all-NA columns when determining the result dtypes. To retain the old behavior, exclude the relevant entries before the concat operation.\n",
      "  predictionsDF = pd.concat([predictionsDF, tempDF], ignore_index=True)\n"
     ]
    },
    {
     "name": "stdout",
     "output_type": "stream",
     "text": [
      "RESULTADOS DE MSE, RMSE, R2, MAPE (Train): 3.5697852525939493, 1.889387533724606, 0.8581499337869172, 21.260826990440645\n",
      "RESULTADOS DE MSE, RMSE, R2, MAPE (Val): 3.4419489988301026, 1.8552490395712653, 0.8750179564882148, 20.874614307450493\n",
      "RESULTADOS DE MSE, RMSE, R2, MAPE (Test): 1.1650738876307616, 1.079385884487453, 0.876138374718838, 16.470256674396094\n",
      "Procesando el archivo:  Juniperus spp. _merged.csv\n",
      "(10218, 4, 43) (10218,) (3018, 4, 43) (3018,) (3900, 4, 43) (3900,)\n"
     ]
    },
    {
     "name": "stderr",
     "output_type": "stream",
     "text": [
      "/home/workstation/Escritorio/PabloC/TransferLearning/.venv/lib/python3.10/site-packages/keras/src/layers/convolutional/base_conv.py:107: UserWarning: Do not pass an `input_shape`/`input_dim` argument to a layer. When using Sequential models, prefer using an `Input(shape)` object as the first layer in the model instead.\n",
      "  super().__init__(activity_regularizer=activity_regularizer, **kwargs)\n",
      "/home/workstation/Escritorio/PabloC/TransferLearning/funcionesComunes.py:247: FutureWarning: The behavior of DataFrame concatenation with empty or all-NA entries is deprecated. In a future version, this will no longer exclude empty or all-NA columns when determining the result dtypes. To retain the old behavior, exclude the relevant entries before the concat operation.\n",
      "  predictionsDF = pd.concat([predictionsDF, tempDF], ignore_index=True)\n",
      "/home/workstation/Escritorio/PabloC/TransferLearning/funcionesComunes.py:247: FutureWarning: The behavior of DataFrame concatenation with empty or all-NA entries is deprecated. In a future version, this will no longer exclude empty or all-NA columns when determining the result dtypes. To retain the old behavior, exclude the relevant entries before the concat operation.\n",
      "  predictionsDF = pd.concat([predictionsDF, tempDF], ignore_index=True)\n",
      "/home/workstation/Escritorio/PabloC/TransferLearning/funcionesComunes.py:247: FutureWarning: The behavior of DataFrame concatenation with empty or all-NA entries is deprecated. In a future version, this will no longer exclude empty or all-NA columns when determining the result dtypes. To retain the old behavior, exclude the relevant entries before the concat operation.\n",
      "  predictionsDF = pd.concat([predictionsDF, tempDF], ignore_index=True)\n"
     ]
    },
    {
     "name": "stdout",
     "output_type": "stream",
     "text": [
      "RESULTADOS DE MSE, RMSE, R2, MAPE (Train): 6.93322346903177, 2.633101492353033, 0.886923875565214, 20.061323307284418\n",
      "RESULTADOS DE MSE, RMSE, R2, MAPE (Val): 2.780104229896562, 1.6673644562292198, 0.8586824025222065, 21.922721502898526\n",
      "RESULTADOS DE MSE, RMSE, R2, MAPE (Test): 8.382794264934477, 2.8953055564023766, 0.9197790501192903, 19.232067977876355\n"
     ]
    }
   ],
   "source": [
    "df_Not_Freeze = pd.DataFrame(columns = [\"File\", \"Time\", \"TrainMSE\", \"TrainRMSE\", \"TrainR2\", \"TrainMAPE\", \n",
    "                                \"ValidationMSE\", \"ValidationRMSE\", \"ValidationR2\", \"ValidationMAPE\",\n",
    "                                \"TestMSE\", \"TestRMSE\", \"TestR2\", \"TestMAPE\"]) \n",
    "\n",
    "for archivo in os.listdir(\"RCPMerged\"):\n",
    "\n",
    "    if archivo != \"totalMerged.csv\":\n",
    "        \n",
    "        print(\"Procesando el archivo: \", archivo)\n",
    "\n",
    "        # Supongamos que tus datos están en un archivo CSV\n",
    "        df = pd.read_csv(f'RCPMerged/{archivo}')\n",
    "\n",
    "        # Ver las primeras filas\n",
    "        df = codification(df)\n",
    "\n",
    "        # Normalizamos los datos de crecimiento de los individuos\n",
    "        df, valorNormalizacion = individualNormalization(df)\n",
    "\n",
    "        # División adicional para validación\n",
    "        train_data, val_data, test_data = split_population_individuals(df, train_pct=0.80, val_pct_in_train=0.20, details=False)\n",
    "        train_data.shape, val_data.shape, test_data.shape\n",
    "\n",
    "        WINDOWS_SIZE = 3\n",
    "\n",
    "        # Obtenemos X e y para los datasets de train, val y test \n",
    "        X_train, y_train = df_to_X_y_ind_3(train_data, WINDOWS_SIZE)\n",
    "        X_val, y_val = df_to_X_y_ind_3(val_data, WINDOWS_SIZE)\n",
    "        X_test, y_test = df_to_X_y_ind_3(test_data, WINDOWS_SIZE)\n",
    "        print(X_train.shape, y_train.shape, X_val.shape, y_val.shape, X_test.shape, y_test.shape)\n",
    "\n",
    "        # Cargamos el modelo\n",
    "        model = models.load_model(f'models/TCNNModels/{archivo.split(\".csv\")[0]}_model_1.h5', compile=False)\n",
    "\n",
    "        # Cargamos el json con la arquitectura\n",
    "        with open(f'models/TCNNModels/{archivo.split(\".csv\")[0]}_best_models.json') as f:\n",
    "            parametros = json.load(f)\n",
    "\n",
    "        parametros = parametros[0]\n",
    "        batch_size = parametros['batch_size']\n",
    "\n",
    "        # Obtener el optimizador según los valores del JSON\n",
    "        learning_rate = parametros['learning_rate']\n",
    "        optimizer_name = parametros['optimizer']\n",
    "        batch_size_json = parametros['batch_size']  \n",
    "\n",
    "        if optimizer_name == 'rmsprop':\n",
    "            opt = RMSprop(learning_rate=learning_rate)\n",
    "        elif optimizer_name == 'adam':\n",
    "            opt = Adam(learning_rate=learning_rate)\n",
    "        elif optimizer_name == 'sgd':\n",
    "            opt = SGD(learning_rate=learning_rate)\n",
    "        else:\n",
    "            raise ValueError(f\"Optimizador {optimizer_name} no reconocido\")\n",
    "\n",
    "        # Compilar el modelo con los hiperparámetros del JSON\n",
    "        model.compile(optimizer=opt,\n",
    "                    loss=MeanSquaredError(),\n",
    "                    metrics=[\n",
    "                        MeanSquaredError(name='mse'),\n",
    "                        RootMeanSquaredError(name='rmse'),\n",
    "                        MeanAbsolutePercentageError(name='mape')\n",
    "                    ])\n",
    "        \n",
    "        model.save(f'models/TCNN/model_{archivo.split(\"_merged\")[0]}.keras')\n",
    "                \n",
    "        # # Inicio del entrenamiento \n",
    "        # start_time = time.time()\n",
    "\n",
    "        # # Entrenar el modelo\n",
    "        # historyTCMM = model.fit(X_train, y_train, epochs=200, batch_size=batch_size,\n",
    "        #             validation_data=(X_val, y_val), callbacks=[EarlyStopping(monitor='val_loss', patience=10)])\n",
    "        \n",
    "        # # Fin del entrenamiento \n",
    "        # end_time = time.time()\n",
    "\n",
    "        # Realizar predicciones y calcular métricas para el conjunto de entrenamiento\n",
    "        predictions_train = predictionForIndividuals(X_train, y_train, model, batch_size)\n",
    "        predictions_train[\"PredictionsDenormalize\"] = predictions_train.apply(lambda row: desnormalizacionBAI(row, valorNormalizacion, \"Predictions\"), axis=1)\n",
    "        predictions_train[\"ActualDenormalize\"] = predictions_train.apply(lambda row: desnormalizacionBAI(row, valorNormalizacion, \"Actuals\"), axis=1)\n",
    "\n",
    "        train_mse = mean_squared_error(predictions_train[\"ActualDenormalize\"],predictions_train[\"PredictionsDenormalize\"])\n",
    "        train_rmse = np.sqrt(train_mse)\n",
    "        train_mape = (np.sum(np.abs(predictions_train[\"PredictionsDenormalize\"] - predictions_train[\"ActualDenormalize\"])) / np.sum(np.abs(predictions_train[\"ActualDenormalize\"]))) * 100\n",
    "        train_r2 = r2_score(predictions_train[\"ActualDenormalize\"], predictions_train[\"PredictionsDenormalize\"])\n",
    "\n",
    "        # Realizar predicciones y calcular métricas para el conjunto de validación\n",
    "        predictions_val = predictionForIndividuals(X_val, y_val, model, batch_size)\n",
    "        predictions_val[\"PredictionsDenormalize\"] = predictions_val.apply(lambda row: desnormalizacionBAI(row, valorNormalizacion, \"Predictions\"), axis=1)\n",
    "        predictions_val[\"ActualDenormalize\"] = predictions_val.apply(lambda row: desnormalizacionBAI(row, valorNormalizacion, \"Actuals\"), axis=1)\n",
    "\n",
    "        val_mse = mean_squared_error(predictions_val[\"ActualDenormalize\"],predictions_val[\"PredictionsDenormalize\"])\n",
    "        val_rmse = np.sqrt(val_mse)\n",
    "        val_mape = (np.sum(np.abs(predictions_val[\"PredictionsDenormalize\"] - predictions_val[\"ActualDenormalize\"])) / np.sum(np.abs(predictions_val[\"ActualDenormalize\"]))) * 100\n",
    "        val_r2 = r2_score(predictions_val[\"ActualDenormalize\"], predictions_val[\"PredictionsDenormalize\"])\n",
    "\n",
    "        # Realizar predicciones y calcular métricas para el conjunto de prueba\n",
    "        predictions_test = predictionForIndividuals(X_test, y_test, model, batch_size)\n",
    "        predictions_test[\"PredictionsDenormalize\"] = predictions_test.apply(lambda row: desnormalizacionBAI(row, valorNormalizacion, \"Predictions\"), axis=1)\n",
    "        predictions_test[\"ActualDenormalize\"] = predictions_test.apply(lambda row: desnormalizacionBAI(row, valorNormalizacion, \"Actuals\"), axis=1)\n",
    "\n",
    "        test_mse = mean_squared_error(predictions_test[\"ActualDenormalize\"],predictions_test[\"PredictionsDenormalize\"])\n",
    "        test_rmse = np.sqrt(test_mse)\n",
    "        test_mape = (np.sum(np.abs(predictions_test[\"PredictionsDenormalize\"] - predictions_test[\"ActualDenormalize\"])) / np.sum(np.abs(predictions_test[\"ActualDenormalize\"]))) * 100\n",
    "        test_r2 = r2_score(predictions_test[\"ActualDenormalize\"], predictions_test[\"PredictionsDenormalize\"])\n",
    "\n",
    "        print(f\"RESULTADOS DE MSE, RMSE, R2, MAPE (Train): {train_mse}, {train_rmse}, {train_r2}, {train_mape}\")\n",
    "        print(f\"RESULTADOS DE MSE, RMSE, R2, MAPE (Val): {val_mse}, {val_rmse}, {val_r2}, {val_mape}\")\n",
    "        print(f\"RESULTADOS DE MSE, RMSE, R2, MAPE (Test): {test_mse}, {test_rmse}, {test_r2}, {test_mape}\")\n",
    "\n",
    "        # Guardamos los datos calculados\n",
    "        df_Not_Freeze.loc[len(df_Not_Freeze)] = [archivo, -999, train_mse, train_rmse, train_r2, train_mape, val_mse, val_rmse, val_r2, val_mape, test_mse, test_rmse, test_r2, test_mape]\n",
    "\n",
    "df_Not_Freeze.to_csv(\"resultsTransfer/TCNN/Global/resultados_Not_Transfer_MultipleLayers.csv\", index=False)"
   ]
  },
  {
   "cell_type": "markdown",
   "metadata": {},
   "source": [
    "## Transfer Learning"
   ]
  },
  {
   "cell_type": "code",
   "execution_count": 3,
   "metadata": {},
   "outputs": [
    {
     "name": "stdout",
     "output_type": "stream",
     "text": [
      "Procesando el modelo: model_Pinus gerardiana.keras\n",
      "Abies spectabilis Pinus gerardiana\n",
      "(96429, 77)\n",
      "SE HA NORMALIZADO EL ARCHIVO: Abies spectabilis_merged.csv\n",
      "(56618, 4, 43) (19637, 4, 43) (15689, 4, 43)\n"
     ]
    },
    {
     "name": "stderr",
     "output_type": "stream",
     "text": [
      "WARNING: All log messages before absl::InitializeLog() is called are written to STDERR\n",
      "I0000 00:00:1732732419.918038 3481384 cuda_executor.cc:1015] successful NUMA node read from SysFS had negative value (-1), but there must be at least one NUMA node, so returning NUMA node zero. See more at https://github.com/torvalds/linux/blob/v6.0/Documentation/ABI/testing/sysfs-bus-pci#L344-L355\n",
      "I0000 00:00:1732732419.918336 3481384 cuda_executor.cc:1015] successful NUMA node read from SysFS had negative value (-1), but there must be at least one NUMA node, so returning NUMA node zero. See more at https://github.com/torvalds/linux/blob/v6.0/Documentation/ABI/testing/sysfs-bus-pci#L344-L355\n",
      "2024-11-27 19:33:39.922852: W tensorflow/core/common_runtime/gpu/gpu_device.cc:2343] Cannot dlopen some GPU libraries. Please make sure the missing libraries mentioned above are installed properly if you would like to use GPU. Follow the guide at https://www.tensorflow.org/install/gpu for how to download and setup the required libraries for your platform.\n",
      "Skipping registering GPU devices...\n",
      "/home/workstation/Escritorio/PabloC/TransferLearning/.venv/lib/python3.10/site-packages/keras/src/saving/saving_lib.py:719: UserWarning: Skipping variable loading for optimizer 'adam', because it has 50 variables whereas the saved optimizer has 2 variables. \n",
      "  saveable.load_own_variables(weights_store.get(inner_path))\n"
     ]
    },
    {
     "name": "stdout",
     "output_type": "stream",
     "text": [
      "<Conv1D name=conv1d_6, built=True> False\n",
      "<BatchNormalization name=batch_normalization_6, built=True> False\n",
      "<MaxPooling1D name=max_pooling1d_5, built=True> False\n",
      "<Conv1D name=conv1d_7, built=True> False\n",
      "<BatchNormalization name=batch_normalization_7, built=True> False\n",
      "<MaxPooling1D name=max_pooling1d_6, built=True> False\n",
      "<Conv1D name=conv1d_8, built=True> False\n",
      "<BatchNormalization name=batch_normalization_8, built=True> False\n",
      "<MaxPooling1D name=max_pooling1d_7, built=True> False\n",
      "<Dropout name=dropout_1, built=True> True\n",
      "<Conv1D name=conv1d_9, built=True> False\n",
      "<BatchNormalization name=batch_normalization_9, built=True> False\n",
      "<MaxPooling1D name=max_pooling1d_8, built=True> False\n",
      "<Conv1D name=conv1d_10, built=True> True\n",
      "<BatchNormalization name=batch_normalization_10, built=True> True\n",
      "<GlobalAveragePooling1D name=global_average_pooling1d_1, built=True> True\n",
      "<Dense name=dense_2, built=True> True\n",
      "<Dense name=dense_3, built=True> True\n",
      "[MODELO CONGELADO]: 294.5899293422699\n"
     ]
    },
    {
     "name": "stderr",
     "output_type": "stream",
     "text": [
      "/home/workstation/Escritorio/PabloC/TransferLearning/funcionesComunes.py:247: FutureWarning: The behavior of DataFrame concatenation with empty or all-NA entries is deprecated. In a future version, this will no longer exclude empty or all-NA columns when determining the result dtypes. To retain the old behavior, exclude the relevant entries before the concat operation.\n",
      "  predictionsDF = pd.concat([predictionsDF, tempDF], ignore_index=True)\n",
      "/home/workstation/Escritorio/PabloC/TransferLearning/funcionesComunes.py:247: FutureWarning: The behavior of DataFrame concatenation with empty or all-NA entries is deprecated. In a future version, this will no longer exclude empty or all-NA columns when determining the result dtypes. To retain the old behavior, exclude the relevant entries before the concat operation.\n",
      "  predictionsDF = pd.concat([predictionsDF, tempDF], ignore_index=True)\n",
      "/home/workstation/Escritorio/PabloC/TransferLearning/funcionesComunes.py:247: FutureWarning: The behavior of DataFrame concatenation with empty or all-NA entries is deprecated. In a future version, this will no longer exclude empty or all-NA columns when determining the result dtypes. To retain the old behavior, exclude the relevant entries before the concat operation.\n",
      "  predictionsDF = pd.concat([predictionsDF, tempDF], ignore_index=True)\n"
     ]
    },
    {
     "name": "stdout",
     "output_type": "stream",
     "text": [
      "RESULTADOS DE MSE, RMSE, R2, MAPE (Train): 84.26563638518476, 9.179631604001587, 0.26069904575495195, 49.73059785188782\n",
      "RESULTADOS DE MSE, RMSE, R2, MAPE (Val): 82.28013775596257, 9.070839969703059, 0.2502925836799571, 49.03547043552493\n",
      "RESULTADOS DE MSE, RMSE, R2, MAPE (Test): 87.8525893113706, 9.37297121042045, 0.3484627130245297, 48.61058063814436\n",
      "Picea smithiana Pinus gerardiana\n",
      "(34476, 77)\n",
      "SE HA NORMALIZADO EL ARCHIVO: Picea smithiana_merged.csv\n",
      "(19933, 4, 43) (7272, 4, 43) (5863, 4, 43)\n",
      "<Conv1D name=conv1d_6, built=True> False\n",
      "<BatchNormalization name=batch_normalization_6, built=True> False\n",
      "<MaxPooling1D name=max_pooling1d_5, built=True> False\n",
      "<Conv1D name=conv1d_7, built=True> False\n",
      "<BatchNormalization name=batch_normalization_7, built=True> False\n",
      "<MaxPooling1D name=max_pooling1d_6, built=True> False\n",
      "<Conv1D name=conv1d_8, built=True> False\n",
      "<BatchNormalization name=batch_normalization_8, built=True> False\n",
      "<MaxPooling1D name=max_pooling1d_7, built=True> False\n",
      "<Dropout name=dropout_1, built=True> True\n",
      "<Conv1D name=conv1d_9, built=True> False\n",
      "<BatchNormalization name=batch_normalization_9, built=True> False\n",
      "<MaxPooling1D name=max_pooling1d_8, built=True> False\n",
      "<Conv1D name=conv1d_10, built=True> True\n",
      "<BatchNormalization name=batch_normalization_10, built=True> True\n",
      "<GlobalAveragePooling1D name=global_average_pooling1d_1, built=True> True\n",
      "<Dense name=dense_2, built=True> True\n",
      "<Dense name=dense_3, built=True> True\n"
     ]
    },
    {
     "name": "stderr",
     "output_type": "stream",
     "text": [
      "/home/workstation/Escritorio/PabloC/TransferLearning/.venv/lib/python3.10/site-packages/keras/src/saving/saving_lib.py:719: UserWarning: Skipping variable loading for optimizer 'adam', because it has 50 variables whereas the saved optimizer has 2 variables. \n",
      "  saveable.load_own_variables(weights_store.get(inner_path))\n"
     ]
    },
    {
     "name": "stdout",
     "output_type": "stream",
     "text": [
      "[MODELO CONGELADO]: 26.55038547515869\n"
     ]
    },
    {
     "name": "stderr",
     "output_type": "stream",
     "text": [
      "/home/workstation/Escritorio/PabloC/TransferLearning/funcionesComunes.py:247: FutureWarning: The behavior of DataFrame concatenation with empty or all-NA entries is deprecated. In a future version, this will no longer exclude empty or all-NA columns when determining the result dtypes. To retain the old behavior, exclude the relevant entries before the concat operation.\n",
      "  predictionsDF = pd.concat([predictionsDF, tempDF], ignore_index=True)\n",
      "/home/workstation/Escritorio/PabloC/TransferLearning/funcionesComunes.py:247: FutureWarning: The behavior of DataFrame concatenation with empty or all-NA entries is deprecated. In a future version, this will no longer exclude empty or all-NA columns when determining the result dtypes. To retain the old behavior, exclude the relevant entries before the concat operation.\n",
      "  predictionsDF = pd.concat([predictionsDF, tempDF], ignore_index=True)\n",
      "/home/workstation/Escritorio/PabloC/TransferLearning/funcionesComunes.py:247: FutureWarning: The behavior of DataFrame concatenation with empty or all-NA entries is deprecated. In a future version, this will no longer exclude empty or all-NA columns when determining the result dtypes. To retain the old behavior, exclude the relevant entries before the concat operation.\n",
      "  predictionsDF = pd.concat([predictionsDF, tempDF], ignore_index=True)\n"
     ]
    },
    {
     "name": "stdout",
     "output_type": "stream",
     "text": [
      "RESULTADOS DE MSE, RMSE, R2, MAPE (Train): 165.67148790483995, 12.87134367130487, 0.5144874876095531, 37.17362669977052\n",
      "RESULTADOS DE MSE, RMSE, R2, MAPE (Val): 205.24555272075068, 14.326393569937645, 0.4077157913308719, 40.02321761715158\n",
      "RESULTADOS DE MSE, RMSE, R2, MAPE (Test): 153.8884993517237, 12.405180343377669, 0.48032514327657994, 39.079515671144996\n",
      "Abies pindrow Pinus gerardiana\n",
      "(16018, 77)\n",
      "SE HA NORMALIZADO EL ARCHIVO: Abies pindrow_merged.csv\n",
      "(9042, 4, 43) (3441, 4, 43) (2815, 4, 43)\n",
      "<Conv1D name=conv1d_6, built=True> False\n",
      "<BatchNormalization name=batch_normalization_6, built=True> False\n",
      "<MaxPooling1D name=max_pooling1d_5, built=True> False\n",
      "<Conv1D name=conv1d_7, built=True> False\n",
      "<BatchNormalization name=batch_normalization_7, built=True> False\n",
      "<MaxPooling1D name=max_pooling1d_6, built=True> False\n",
      "<Conv1D name=conv1d_8, built=True> False\n",
      "<BatchNormalization name=batch_normalization_8, built=True> False\n",
      "<MaxPooling1D name=max_pooling1d_7, built=True> False\n",
      "<Dropout name=dropout_1, built=True> True\n",
      "<Conv1D name=conv1d_9, built=True> False\n",
      "<BatchNormalization name=batch_normalization_9, built=True> False\n",
      "<MaxPooling1D name=max_pooling1d_8, built=True> False\n",
      "<Conv1D name=conv1d_10, built=True> True\n",
      "<BatchNormalization name=batch_normalization_10, built=True> True\n",
      "<GlobalAveragePooling1D name=global_average_pooling1d_1, built=True> True\n",
      "<Dense name=dense_2, built=True> True\n",
      "<Dense name=dense_3, built=True> True\n"
     ]
    },
    {
     "name": "stderr",
     "output_type": "stream",
     "text": [
      "/home/workstation/Escritorio/PabloC/TransferLearning/.venv/lib/python3.10/site-packages/keras/src/saving/saving_lib.py:719: UserWarning: Skipping variable loading for optimizer 'adam', because it has 50 variables whereas the saved optimizer has 2 variables. \n",
      "  saveable.load_own_variables(weights_store.get(inner_path))\n"
     ]
    },
    {
     "name": "stdout",
     "output_type": "stream",
     "text": [
      "[MODELO CONGELADO]: 27.120040893554688\n"
     ]
    },
    {
     "name": "stderr",
     "output_type": "stream",
     "text": [
      "/home/workstation/Escritorio/PabloC/TransferLearning/funcionesComunes.py:247: FutureWarning: The behavior of DataFrame concatenation with empty or all-NA entries is deprecated. In a future version, this will no longer exclude empty or all-NA columns when determining the result dtypes. To retain the old behavior, exclude the relevant entries before the concat operation.\n",
      "  predictionsDF = pd.concat([predictionsDF, tempDF], ignore_index=True)\n",
      "/home/workstation/Escritorio/PabloC/TransferLearning/funcionesComunes.py:247: FutureWarning: The behavior of DataFrame concatenation with empty or all-NA entries is deprecated. In a future version, this will no longer exclude empty or all-NA columns when determining the result dtypes. To retain the old behavior, exclude the relevant entries before the concat operation.\n",
      "  predictionsDF = pd.concat([predictionsDF, tempDF], ignore_index=True)\n",
      "/home/workstation/Escritorio/PabloC/TransferLearning/funcionesComunes.py:247: FutureWarning: The behavior of DataFrame concatenation with empty or all-NA entries is deprecated. In a future version, this will no longer exclude empty or all-NA columns when determining the result dtypes. To retain the old behavior, exclude the relevant entries before the concat operation.\n",
      "  predictionsDF = pd.concat([predictionsDF, tempDF], ignore_index=True)\n"
     ]
    },
    {
     "name": "stdout",
     "output_type": "stream",
     "text": [
      "RESULTADOS DE MSE, RMSE, R2, MAPE (Train): 139.1996340126033, 11.798289452823376, 0.4025106993739218, 38.66690386617151\n",
      "RESULTADOS DE MSE, RMSE, R2, MAPE (Val): 113.74706555157488, 10.66522693389948, 0.35113120721288793, 34.88309317003392\n",
      "RESULTADOS DE MSE, RMSE, R2, MAPE (Test): 242.51211878014394, 15.57280060811619, -0.714492152373658, 44.08229445862115\n",
      "Juniperus excelsa M.-Bieb Pinus gerardiana\n",
      "(7449, 77)\n",
      "SE HA NORMALIZADO EL ARCHIVO: Juniperus excelsa M.-Bieb_merged.csv\n",
      "(4189, 4, 43) (1707, 4, 43) (1228, 4, 43)\n",
      "<Conv1D name=conv1d_6, built=True> False\n",
      "<BatchNormalization name=batch_normalization_6, built=True> False\n",
      "<MaxPooling1D name=max_pooling1d_5, built=True> False\n",
      "<Conv1D name=conv1d_7, built=True> False\n",
      "<BatchNormalization name=batch_normalization_7, built=True> False\n",
      "<MaxPooling1D name=max_pooling1d_6, built=True> False\n",
      "<Conv1D name=conv1d_8, built=True> False\n",
      "<BatchNormalization name=batch_normalization_8, built=True> False\n",
      "<MaxPooling1D name=max_pooling1d_7, built=True> False\n",
      "<Dropout name=dropout_1, built=True> True\n",
      "<Conv1D name=conv1d_9, built=True> False\n",
      "<BatchNormalization name=batch_normalization_9, built=True> False\n",
      "<MaxPooling1D name=max_pooling1d_8, built=True> False\n",
      "<Conv1D name=conv1d_10, built=True> True\n",
      "<BatchNormalization name=batch_normalization_10, built=True> True\n",
      "<GlobalAveragePooling1D name=global_average_pooling1d_1, built=True> True\n",
      "<Dense name=dense_2, built=True> True\n",
      "<Dense name=dense_3, built=True> True\n"
     ]
    },
    {
     "name": "stderr",
     "output_type": "stream",
     "text": [
      "/home/workstation/Escritorio/PabloC/TransferLearning/.venv/lib/python3.10/site-packages/keras/src/saving/saving_lib.py:719: UserWarning: Skipping variable loading for optimizer 'adam', because it has 50 variables whereas the saved optimizer has 2 variables. \n",
      "  saveable.load_own_variables(weights_store.get(inner_path))\n"
     ]
    },
    {
     "name": "stdout",
     "output_type": "stream",
     "text": [
      "[MODELO CONGELADO]: 31.256357192993164\n"
     ]
    },
    {
     "name": "stderr",
     "output_type": "stream",
     "text": [
      "/home/workstation/Escritorio/PabloC/TransferLearning/funcionesComunes.py:247: FutureWarning: The behavior of DataFrame concatenation with empty or all-NA entries is deprecated. In a future version, this will no longer exclude empty or all-NA columns when determining the result dtypes. To retain the old behavior, exclude the relevant entries before the concat operation.\n",
      "  predictionsDF = pd.concat([predictionsDF, tempDF], ignore_index=True)\n",
      "/home/workstation/Escritorio/PabloC/TransferLearning/funcionesComunes.py:247: FutureWarning: The behavior of DataFrame concatenation with empty or all-NA entries is deprecated. In a future version, this will no longer exclude empty or all-NA columns when determining the result dtypes. To retain the old behavior, exclude the relevant entries before the concat operation.\n",
      "  predictionsDF = pd.concat([predictionsDF, tempDF], ignore_index=True)\n",
      "/home/workstation/Escritorio/PabloC/TransferLearning/funcionesComunes.py:247: FutureWarning: The behavior of DataFrame concatenation with empty or all-NA entries is deprecated. In a future version, this will no longer exclude empty or all-NA columns when determining the result dtypes. To retain the old behavior, exclude the relevant entries before the concat operation.\n",
      "  predictionsDF = pd.concat([predictionsDF, tempDF], ignore_index=True)\n"
     ]
    },
    {
     "name": "stdout",
     "output_type": "stream",
     "text": [
      "RESULTADOS DE MSE, RMSE, R2, MAPE (Train): 8.295560059732857, 2.880201392217714, 0.662802052386628, 28.43294388280083\n",
      "RESULTADOS DE MSE, RMSE, R2, MAPE (Val): 8.876033255063458, 2.9792672345836078, 0.6615014069867957, 31.588589849315706\n",
      "RESULTADOS DE MSE, RMSE, R2, MAPE (Test): 25.765716920982626, 5.075994180550508, 0.6180018355314418, 36.83147189877305\n",
      "Juniperus turkestanica Komar. Pinus gerardiana\n",
      "(6305, 77)\n",
      "SE HA NORMALIZADO EL ARCHIVO: Juniperus turkestanica Komar._merged.csv\n",
      "(3664, 4, 43) (1368, 4, 43) (1001, 4, 43)\n",
      "<Conv1D name=conv1d_6, built=True> False\n",
      "<BatchNormalization name=batch_normalization_6, built=True> False\n",
      "<MaxPooling1D name=max_pooling1d_5, built=True> False\n",
      "<Conv1D name=conv1d_7, built=True> False\n",
      "<BatchNormalization name=batch_normalization_7, built=True> False\n",
      "<MaxPooling1D name=max_pooling1d_6, built=True> False\n",
      "<Conv1D name=conv1d_8, built=True> False\n",
      "<BatchNormalization name=batch_normalization_8, built=True> False\n",
      "<MaxPooling1D name=max_pooling1d_7, built=True> False\n",
      "<Dropout name=dropout_1, built=True> True\n",
      "<Conv1D name=conv1d_9, built=True> False\n",
      "<BatchNormalization name=batch_normalization_9, built=True> False\n",
      "<MaxPooling1D name=max_pooling1d_8, built=True> False\n",
      "<Conv1D name=conv1d_10, built=True> True\n",
      "<BatchNormalization name=batch_normalization_10, built=True> True\n",
      "<GlobalAveragePooling1D name=global_average_pooling1d_1, built=True> True\n",
      "<Dense name=dense_2, built=True> True\n",
      "<Dense name=dense_3, built=True> True\n"
     ]
    },
    {
     "name": "stderr",
     "output_type": "stream",
     "text": [
      "/home/workstation/Escritorio/PabloC/TransferLearning/.venv/lib/python3.10/site-packages/keras/src/saving/saving_lib.py:719: UserWarning: Skipping variable loading for optimizer 'adam', because it has 50 variables whereas the saved optimizer has 2 variables. \n",
      "  saveable.load_own_variables(weights_store.get(inner_path))\n"
     ]
    },
    {
     "name": "stdout",
     "output_type": "stream",
     "text": [
      "[MODELO CONGELADO]: 10.229959964752197\n"
     ]
    },
    {
     "name": "stderr",
     "output_type": "stream",
     "text": [
      "/home/workstation/Escritorio/PabloC/TransferLearning/funcionesComunes.py:247: FutureWarning: The behavior of DataFrame concatenation with empty or all-NA entries is deprecated. In a future version, this will no longer exclude empty or all-NA columns when determining the result dtypes. To retain the old behavior, exclude the relevant entries before the concat operation.\n",
      "  predictionsDF = pd.concat([predictionsDF, tempDF], ignore_index=True)\n",
      "/home/workstation/Escritorio/PabloC/TransferLearning/funcionesComunes.py:247: FutureWarning: The behavior of DataFrame concatenation with empty or all-NA entries is deprecated. In a future version, this will no longer exclude empty or all-NA columns when determining the result dtypes. To retain the old behavior, exclude the relevant entries before the concat operation.\n",
      "  predictionsDF = pd.concat([predictionsDF, tempDF], ignore_index=True)\n",
      "/home/workstation/Escritorio/PabloC/TransferLearning/funcionesComunes.py:247: FutureWarning: The behavior of DataFrame concatenation with empty or all-NA entries is deprecated. In a future version, this will no longer exclude empty or all-NA columns when determining the result dtypes. To retain the old behavior, exclude the relevant entries before the concat operation.\n",
      "  predictionsDF = pd.concat([predictionsDF, tempDF], ignore_index=True)\n"
     ]
    },
    {
     "name": "stdout",
     "output_type": "stream",
     "text": [
      "RESULTADOS DE MSE, RMSE, R2, MAPE (Train): 10.818205329133203, 3.2891040313637396, 0.7589890370474909, 33.1569185261073\n",
      "RESULTADOS DE MSE, RMSE, R2, MAPE (Val): 9.574916323606992, 3.09433616848703, 0.4431926719158581, 42.60132158839383\n",
      "RESULTADOS DE MSE, RMSE, R2, MAPE (Test): 2.817821402277325, 1.6786367690114872, 0.48159956568648055, 33.89278204341658\n",
      "Pinus roxburghii Pinus gerardiana\n",
      "(10635, 77)\n",
      "SE HA NORMALIZADO EL ARCHIVO: Pinus roxburghii_merged.csv\n",
      "(6309, 4, 43) (2167, 4, 43) (1647, 4, 43)\n"
     ]
    },
    {
     "name": "stderr",
     "output_type": "stream",
     "text": [
      "/home/workstation/Escritorio/PabloC/TransferLearning/.venv/lib/python3.10/site-packages/keras/src/saving/saving_lib.py:719: UserWarning: Skipping variable loading for optimizer 'adam', because it has 50 variables whereas the saved optimizer has 2 variables. \n",
      "  saveable.load_own_variables(weights_store.get(inner_path))\n"
     ]
    },
    {
     "name": "stdout",
     "output_type": "stream",
     "text": [
      "<Conv1D name=conv1d_6, built=True> False\n",
      "<BatchNormalization name=batch_normalization_6, built=True> False\n",
      "<MaxPooling1D name=max_pooling1d_5, built=True> False\n",
      "<Conv1D name=conv1d_7, built=True> False\n",
      "<BatchNormalization name=batch_normalization_7, built=True> False\n",
      "<MaxPooling1D name=max_pooling1d_6, built=True> False\n",
      "<Conv1D name=conv1d_8, built=True> False\n",
      "<BatchNormalization name=batch_normalization_8, built=True> False\n",
      "<MaxPooling1D name=max_pooling1d_7, built=True> False\n",
      "<Dropout name=dropout_1, built=True> True\n",
      "<Conv1D name=conv1d_9, built=True> False\n",
      "<BatchNormalization name=batch_normalization_9, built=True> False\n",
      "<MaxPooling1D name=max_pooling1d_8, built=True> False\n",
      "<Conv1D name=conv1d_10, built=True> True\n",
      "<BatchNormalization name=batch_normalization_10, built=True> True\n",
      "<GlobalAveragePooling1D name=global_average_pooling1d_1, built=True> True\n",
      "<Dense name=dense_2, built=True> True\n",
      "<Dense name=dense_3, built=True> True\n",
      "[MODELO CONGELADO]: 25.383068323135376\n"
     ]
    },
    {
     "name": "stderr",
     "output_type": "stream",
     "text": [
      "/home/workstation/Escritorio/PabloC/TransferLearning/funcionesComunes.py:247: FutureWarning: The behavior of DataFrame concatenation with empty or all-NA entries is deprecated. In a future version, this will no longer exclude empty or all-NA columns when determining the result dtypes. To retain the old behavior, exclude the relevant entries before the concat operation.\n",
      "  predictionsDF = pd.concat([predictionsDF, tempDF], ignore_index=True)\n",
      "/home/workstation/Escritorio/PabloC/TransferLearning/funcionesComunes.py:247: FutureWarning: The behavior of DataFrame concatenation with empty or all-NA entries is deprecated. In a future version, this will no longer exclude empty or all-NA columns when determining the result dtypes. To retain the old behavior, exclude the relevant entries before the concat operation.\n",
      "  predictionsDF = pd.concat([predictionsDF, tempDF], ignore_index=True)\n",
      "/home/workstation/Escritorio/PabloC/TransferLearning/funcionesComunes.py:247: FutureWarning: The behavior of DataFrame concatenation with empty or all-NA entries is deprecated. In a future version, this will no longer exclude empty or all-NA columns when determining the result dtypes. To retain the old behavior, exclude the relevant entries before the concat operation.\n",
      "  predictionsDF = pd.concat([predictionsDF, tempDF], ignore_index=True)\n"
     ]
    },
    {
     "name": "stdout",
     "output_type": "stream",
     "text": [
      "RESULTADOS DE MSE, RMSE, R2, MAPE (Train): 173.55313628184808, 13.173956743584977, 0.3493432108777207, 41.89724884163255\n",
      "RESULTADOS DE MSE, RMSE, R2, MAPE (Val): 124.28420150655985, 11.148282446482948, 0.44518046258778277, 40.17321537311138\n",
      "RESULTADOS DE MSE, RMSE, R2, MAPE (Test): 147.15828673211993, 12.130881531534298, 0.3824930788262473, 41.842319133154234\n",
      "Pinus wallichiana Pinus gerardiana\n",
      "(9365, 77)\n",
      "SE HA NORMALIZADO EL ARCHIVO: Pinus wallichiana_merged.csv\n",
      "(5508, 4, 43) (1957, 4, 43) (1500, 4, 43)\n",
      "<Conv1D name=conv1d_6, built=True> False\n",
      "<BatchNormalization name=batch_normalization_6, built=True> False\n",
      "<MaxPooling1D name=max_pooling1d_5, built=True> False\n",
      "<Conv1D name=conv1d_7, built=True> False\n",
      "<BatchNormalization name=batch_normalization_7, built=True> False\n",
      "<MaxPooling1D name=max_pooling1d_6, built=True> False\n",
      "<Conv1D name=conv1d_8, built=True> False\n",
      "<BatchNormalization name=batch_normalization_8, built=True> False\n",
      "<MaxPooling1D name=max_pooling1d_7, built=True> False\n",
      "<Dropout name=dropout_1, built=True> True\n",
      "<Conv1D name=conv1d_9, built=True> False\n",
      "<BatchNormalization name=batch_normalization_9, built=True> False\n",
      "<MaxPooling1D name=max_pooling1d_8, built=True> False\n",
      "<Conv1D name=conv1d_10, built=True> True\n",
      "<BatchNormalization name=batch_normalization_10, built=True> True\n",
      "<GlobalAveragePooling1D name=global_average_pooling1d_1, built=True> True\n",
      "<Dense name=dense_2, built=True> True\n",
      "<Dense name=dense_3, built=True> True\n"
     ]
    },
    {
     "name": "stderr",
     "output_type": "stream",
     "text": [
      "/home/workstation/Escritorio/PabloC/TransferLearning/.venv/lib/python3.10/site-packages/keras/src/saving/saving_lib.py:719: UserWarning: Skipping variable loading for optimizer 'adam', because it has 50 variables whereas the saved optimizer has 2 variables. \n",
      "  saveable.load_own_variables(weights_store.get(inner_path))\n"
     ]
    },
    {
     "name": "stdout",
     "output_type": "stream",
     "text": [
      "[MODELO CONGELADO]: 22.198329210281372\n"
     ]
    },
    {
     "name": "stderr",
     "output_type": "stream",
     "text": [
      "/home/workstation/Escritorio/PabloC/TransferLearning/funcionesComunes.py:247: FutureWarning: The behavior of DataFrame concatenation with empty or all-NA entries is deprecated. In a future version, this will no longer exclude empty or all-NA columns when determining the result dtypes. To retain the old behavior, exclude the relevant entries before the concat operation.\n",
      "  predictionsDF = pd.concat([predictionsDF, tempDF], ignore_index=True)\n",
      "/home/workstation/Escritorio/PabloC/TransferLearning/funcionesComunes.py:247: FutureWarning: The behavior of DataFrame concatenation with empty or all-NA entries is deprecated. In a future version, this will no longer exclude empty or all-NA columns when determining the result dtypes. To retain the old behavior, exclude the relevant entries before the concat operation.\n",
      "  predictionsDF = pd.concat([predictionsDF, tempDF], ignore_index=True)\n",
      "/home/workstation/Escritorio/PabloC/TransferLearning/funcionesComunes.py:247: FutureWarning: The behavior of DataFrame concatenation with empty or all-NA entries is deprecated. In a future version, this will no longer exclude empty or all-NA columns when determining the result dtypes. To retain the old behavior, exclude the relevant entries before the concat operation.\n",
      "  predictionsDF = pd.concat([predictionsDF, tempDF], ignore_index=True)\n"
     ]
    },
    {
     "name": "stdout",
     "output_type": "stream",
     "text": [
      "RESULTADOS DE MSE, RMSE, R2, MAPE (Train): 25.43680755179896, 5.04349160322479, 0.6226652594135422, 29.149184077338465\n",
      "RESULTADOS DE MSE, RMSE, R2, MAPE (Val): 17.264656070068174, 4.155075940349126, 0.7112129519086761, 30.33416498462862\n",
      "RESULTADOS DE MSE, RMSE, R2, MAPE (Test): 37.56866138191806, 6.129327971475997, 0.10897968200476582, 39.93036641876835\n",
      "Pinus gerardiana Pinus gerardiana\n",
      "Populus ciliata Pinus gerardiana\n",
      "(1182, 77)\n",
      "SE HA NORMALIZADO EL ARCHIVO: Populus ciliata_merged.csv\n",
      "(705, 4, 43) (156, 4, 43) (265, 4, 43)\n"
     ]
    },
    {
     "name": "stderr",
     "output_type": "stream",
     "text": [
      "/home/workstation/Escritorio/PabloC/TransferLearning/.venv/lib/python3.10/site-packages/keras/src/saving/saving_lib.py:719: UserWarning: Skipping variable loading for optimizer 'adam', because it has 50 variables whereas the saved optimizer has 2 variables. \n",
      "  saveable.load_own_variables(weights_store.get(inner_path))\n"
     ]
    },
    {
     "name": "stdout",
     "output_type": "stream",
     "text": [
      "<Conv1D name=conv1d_6, built=True> False\n",
      "<BatchNormalization name=batch_normalization_6, built=True> False\n",
      "<MaxPooling1D name=max_pooling1d_5, built=True> False\n",
      "<Conv1D name=conv1d_7, built=True> False\n",
      "<BatchNormalization name=batch_normalization_7, built=True> False\n",
      "<MaxPooling1D name=max_pooling1d_6, built=True> False\n",
      "<Conv1D name=conv1d_8, built=True> False\n",
      "<BatchNormalization name=batch_normalization_8, built=True> False\n",
      "<MaxPooling1D name=max_pooling1d_7, built=True> False\n",
      "<Dropout name=dropout_1, built=True> True\n",
      "<Conv1D name=conv1d_9, built=True> False\n",
      "<BatchNormalization name=batch_normalization_9, built=True> False\n",
      "<MaxPooling1D name=max_pooling1d_8, built=True> False\n",
      "<Conv1D name=conv1d_10, built=True> True\n",
      "<BatchNormalization name=batch_normalization_10, built=True> True\n",
      "<GlobalAveragePooling1D name=global_average_pooling1d_1, built=True> True\n",
      "<Dense name=dense_2, built=True> True\n",
      "<Dense name=dense_3, built=True> True\n",
      "[MODELO CONGELADO]: 4.899076700210571\n"
     ]
    },
    {
     "name": "stderr",
     "output_type": "stream",
     "text": [
      "/home/workstation/Escritorio/PabloC/TransferLearning/funcionesComunes.py:247: FutureWarning: The behavior of DataFrame concatenation with empty or all-NA entries is deprecated. In a future version, this will no longer exclude empty or all-NA columns when determining the result dtypes. To retain the old behavior, exclude the relevant entries before the concat operation.\n",
      "  predictionsDF = pd.concat([predictionsDF, tempDF], ignore_index=True)\n",
      "/home/workstation/Escritorio/PabloC/TransferLearning/funcionesComunes.py:247: FutureWarning: The behavior of DataFrame concatenation with empty or all-NA entries is deprecated. In a future version, this will no longer exclude empty or all-NA columns when determining the result dtypes. To retain the old behavior, exclude the relevant entries before the concat operation.\n",
      "  predictionsDF = pd.concat([predictionsDF, tempDF], ignore_index=True)\n",
      "/home/workstation/Escritorio/PabloC/TransferLearning/funcionesComunes.py:247: FutureWarning: The behavior of DataFrame concatenation with empty or all-NA entries is deprecated. In a future version, this will no longer exclude empty or all-NA columns when determining the result dtypes. To retain the old behavior, exclude the relevant entries before the concat operation.\n",
      "  predictionsDF = pd.concat([predictionsDF, tempDF], ignore_index=True)\n"
     ]
    },
    {
     "name": "stdout",
     "output_type": "stream",
     "text": [
      "RESULTADOS DE MSE, RMSE, R2, MAPE (Train): 200.8278701032721, 14.171375025143893, 0.44704892048458844, 40.20977712100858\n",
      "RESULTADOS DE MSE, RMSE, R2, MAPE (Val): 253.62534444740868, 15.92561912289154, -0.08064549256286835, 49.1531035916619\n",
      "RESULTADOS DE MSE, RMSE, R2, MAPE (Test): 90.03786004573882, 9.488828170313699, 0.5501028112333977, 34.888860542009006\n",
      "Betula utilis Pinus gerardiana\n",
      "(3473, 77)\n",
      "SE HA NORMALIZADO EL ARCHIVO: Betula utilis_merged.csv\n",
      "(2059, 4, 43) (665, 4, 43) (593, 4, 43)\n",
      "<Conv1D name=conv1d_6, built=True> False\n",
      "<BatchNormalization name=batch_normalization_6, built=True> False\n",
      "<MaxPooling1D name=max_pooling1d_5, built=True> False\n",
      "<Conv1D name=conv1d_7, built=True> False\n",
      "<BatchNormalization name=batch_normalization_7, built=True> False\n",
      "<MaxPooling1D name=max_pooling1d_6, built=True> False\n",
      "<Conv1D name=conv1d_8, built=True> False\n",
      "<BatchNormalization name=batch_normalization_8, built=True> False\n",
      "<MaxPooling1D name=max_pooling1d_7, built=True> False\n",
      "<Dropout name=dropout_1, built=True> True\n",
      "<Conv1D name=conv1d_9, built=True> False\n",
      "<BatchNormalization name=batch_normalization_9, built=True> False\n",
      "<MaxPooling1D name=max_pooling1d_8, built=True> False\n",
      "<Conv1D name=conv1d_10, built=True> True\n",
      "<BatchNormalization name=batch_normalization_10, built=True> True\n",
      "<GlobalAveragePooling1D name=global_average_pooling1d_1, built=True> True\n",
      "<Dense name=dense_2, built=True> True\n",
      "<Dense name=dense_3, built=True> True\n"
     ]
    },
    {
     "name": "stderr",
     "output_type": "stream",
     "text": [
      "/home/workstation/Escritorio/PabloC/TransferLearning/.venv/lib/python3.10/site-packages/keras/src/saving/saving_lib.py:719: UserWarning: Skipping variable loading for optimizer 'adam', because it has 50 variables whereas the saved optimizer has 2 variables. \n",
      "  saveable.load_own_variables(weights_store.get(inner_path))\n"
     ]
    },
    {
     "name": "stdout",
     "output_type": "stream",
     "text": [
      "[MODELO CONGELADO]: 4.582811594009399\n"
     ]
    },
    {
     "name": "stderr",
     "output_type": "stream",
     "text": [
      "/home/workstation/Escritorio/PabloC/TransferLearning/funcionesComunes.py:247: FutureWarning: The behavior of DataFrame concatenation with empty or all-NA entries is deprecated. In a future version, this will no longer exclude empty or all-NA columns when determining the result dtypes. To retain the old behavior, exclude the relevant entries before the concat operation.\n",
      "  predictionsDF = pd.concat([predictionsDF, tempDF], ignore_index=True)\n",
      "/home/workstation/Escritorio/PabloC/TransferLearning/funcionesComunes.py:247: FutureWarning: The behavior of DataFrame concatenation with empty or all-NA entries is deprecated. In a future version, this will no longer exclude empty or all-NA columns when determining the result dtypes. To retain the old behavior, exclude the relevant entries before the concat operation.\n",
      "  predictionsDF = pd.concat([predictionsDF, tempDF], ignore_index=True)\n",
      "/home/workstation/Escritorio/PabloC/TransferLearning/funcionesComunes.py:247: FutureWarning: The behavior of DataFrame concatenation with empty or all-NA entries is deprecated. In a future version, this will no longer exclude empty or all-NA columns when determining the result dtypes. To retain the old behavior, exclude the relevant entries before the concat operation.\n",
      "  predictionsDF = pd.concat([predictionsDF, tempDF], ignore_index=True)\n"
     ]
    },
    {
     "name": "stdout",
     "output_type": "stream",
     "text": [
      "RESULTADOS DE MSE, RMSE, R2, MAPE (Train): 5.801341846691405, 2.408597485403363, 0.14357523398192062, 59.629876381336985\n",
      "RESULTADOS DE MSE, RMSE, R2, MAPE (Val): 1.532458155710747, 1.2379249394493783, 0.2019475398676026, 46.688795293592875\n",
      "RESULTADOS DE MSE, RMSE, R2, MAPE (Test): 1.449349828969922, 1.2038894587834557, 0.44613140821064856, 46.18068551755618\n",
      "Tsuga dumosa Pinus gerardiana\n",
      "(20493, 77)\n",
      "SE HA NORMALIZADO EL ARCHIVO: Tsuga dumosa_merged.csv\n",
      "(11935, 4, 43) (4144, 4, 43) (3469, 4, 43)\n",
      "<Conv1D name=conv1d_6, built=True> False\n",
      "<BatchNormalization name=batch_normalization_6, built=True> False\n",
      "<MaxPooling1D name=max_pooling1d_5, built=True> False\n",
      "<Conv1D name=conv1d_7, built=True> False\n",
      "<BatchNormalization name=batch_normalization_7, built=True> False\n",
      "<MaxPooling1D name=max_pooling1d_6, built=True> False\n",
      "<Conv1D name=conv1d_8, built=True> False\n",
      "<BatchNormalization name=batch_normalization_8, built=True> False\n",
      "<MaxPooling1D name=max_pooling1d_7, built=True> False\n",
      "<Dropout name=dropout_1, built=True> True\n",
      "<Conv1D name=conv1d_9, built=True> False\n",
      "<BatchNormalization name=batch_normalization_9, built=True> False\n",
      "<MaxPooling1D name=max_pooling1d_8, built=True> False\n",
      "<Conv1D name=conv1d_10, built=True> True\n",
      "<BatchNormalization name=batch_normalization_10, built=True> True\n",
      "<GlobalAveragePooling1D name=global_average_pooling1d_1, built=True> True\n",
      "<Dense name=dense_2, built=True> True\n",
      "<Dense name=dense_3, built=True> True\n"
     ]
    },
    {
     "name": "stderr",
     "output_type": "stream",
     "text": [
      "/home/workstation/Escritorio/PabloC/TransferLearning/.venv/lib/python3.10/site-packages/keras/src/saving/saving_lib.py:719: UserWarning: Skipping variable loading for optimizer 'adam', because it has 50 variables whereas the saved optimizer has 2 variables. \n",
      "  saveable.load_own_variables(weights_store.get(inner_path))\n"
     ]
    },
    {
     "name": "stdout",
     "output_type": "stream",
     "text": [
      "[MODELO CONGELADO]: 89.48422741889954\n"
     ]
    },
    {
     "name": "stderr",
     "output_type": "stream",
     "text": [
      "/home/workstation/Escritorio/PabloC/TransferLearning/funcionesComunes.py:247: FutureWarning: The behavior of DataFrame concatenation with empty or all-NA entries is deprecated. In a future version, this will no longer exclude empty or all-NA columns when determining the result dtypes. To retain the old behavior, exclude the relevant entries before the concat operation.\n",
      "  predictionsDF = pd.concat([predictionsDF, tempDF], ignore_index=True)\n",
      "/home/workstation/Escritorio/PabloC/TransferLearning/funcionesComunes.py:247: FutureWarning: The behavior of DataFrame concatenation with empty or all-NA entries is deprecated. In a future version, this will no longer exclude empty or all-NA columns when determining the result dtypes. To retain the old behavior, exclude the relevant entries before the concat operation.\n",
      "  predictionsDF = pd.concat([predictionsDF, tempDF], ignore_index=True)\n",
      "/home/workstation/Escritorio/PabloC/TransferLearning/funcionesComunes.py:247: FutureWarning: The behavior of DataFrame concatenation with empty or all-NA entries is deprecated. In a future version, this will no longer exclude empty or all-NA columns when determining the result dtypes. To retain the old behavior, exclude the relevant entries before the concat operation.\n",
      "  predictionsDF = pd.concat([predictionsDF, tempDF], ignore_index=True)\n"
     ]
    },
    {
     "name": "stdout",
     "output_type": "stream",
     "text": [
      "RESULTADOS DE MSE, RMSE, R2, MAPE (Train): 274.23365634595353, 16.560001701266625, 0.29582527223295274, 47.48641146584271\n",
      "RESULTADOS DE MSE, RMSE, R2, MAPE (Val): 230.28791298268902, 15.175240129325434, 0.2692149033751833, 43.426725495754994\n",
      "RESULTADOS DE MSE, RMSE, R2, MAPE (Test): 416.6382321043146, 20.411718009621694, 0.3199377431754218, 47.85251615083159\n",
      "Cedrus deodara Pinus gerardiana\n",
      "(37273, 77)\n",
      "SE HA NORMALIZADO EL ARCHIVO: Cedrus deodara_merged.csv\n",
      "(22017, 4, 43) (7410, 4, 43) (6282, 4, 43)\n",
      "<Conv1D name=conv1d_6, built=True> False\n",
      "<BatchNormalization name=batch_normalization_6, built=True> False\n",
      "<MaxPooling1D name=max_pooling1d_5, built=True> False\n",
      "<Conv1D name=conv1d_7, built=True> False\n",
      "<BatchNormalization name=batch_normalization_7, built=True> False\n",
      "<MaxPooling1D name=max_pooling1d_6, built=True> False\n",
      "<Conv1D name=conv1d_8, built=True> False\n",
      "<BatchNormalization name=batch_normalization_8, built=True> False\n",
      "<MaxPooling1D name=max_pooling1d_7, built=True> False\n",
      "<Dropout name=dropout_1, built=True> True\n",
      "<Conv1D name=conv1d_9, built=True> False\n",
      "<BatchNormalization name=batch_normalization_9, built=True> False\n",
      "<MaxPooling1D name=max_pooling1d_8, built=True> False\n",
      "<Conv1D name=conv1d_10, built=True> True\n",
      "<BatchNormalization name=batch_normalization_10, built=True> True\n",
      "<GlobalAveragePooling1D name=global_average_pooling1d_1, built=True> True\n",
      "<Dense name=dense_2, built=True> True\n",
      "<Dense name=dense_3, built=True> True\n"
     ]
    },
    {
     "name": "stderr",
     "output_type": "stream",
     "text": [
      "/home/workstation/Escritorio/PabloC/TransferLearning/.venv/lib/python3.10/site-packages/keras/src/saving/saving_lib.py:719: UserWarning: Skipping variable loading for optimizer 'adam', because it has 50 variables whereas the saved optimizer has 2 variables. \n",
      "  saveable.load_own_variables(weights_store.get(inner_path))\n"
     ]
    },
    {
     "name": "stdout",
     "output_type": "stream",
     "text": [
      "[MODELO CONGELADO]: 54.09833478927612\n"
     ]
    },
    {
     "name": "stderr",
     "output_type": "stream",
     "text": [
      "/home/workstation/Escritorio/PabloC/TransferLearning/funcionesComunes.py:247: FutureWarning: The behavior of DataFrame concatenation with empty or all-NA entries is deprecated. In a future version, this will no longer exclude empty or all-NA columns when determining the result dtypes. To retain the old behavior, exclude the relevant entries before the concat operation.\n",
      "  predictionsDF = pd.concat([predictionsDF, tempDF], ignore_index=True)\n",
      "/home/workstation/Escritorio/PabloC/TransferLearning/funcionesComunes.py:247: FutureWarning: The behavior of DataFrame concatenation with empty or all-NA entries is deprecated. In a future version, this will no longer exclude empty or all-NA columns when determining the result dtypes. To retain the old behavior, exclude the relevant entries before the concat operation.\n",
      "  predictionsDF = pd.concat([predictionsDF, tempDF], ignore_index=True)\n",
      "/home/workstation/Escritorio/PabloC/TransferLearning/funcionesComunes.py:247: FutureWarning: The behavior of DataFrame concatenation with empty or all-NA entries is deprecated. In a future version, this will no longer exclude empty or all-NA columns when determining the result dtypes. To retain the old behavior, exclude the relevant entries before the concat operation.\n",
      "  predictionsDF = pd.concat([predictionsDF, tempDF], ignore_index=True)\n"
     ]
    },
    {
     "name": "stdout",
     "output_type": "stream",
     "text": [
      "RESULTADOS DE MSE, RMSE, R2, MAPE (Train): 148.68378341387773, 12.193596000109144, 0.6519002860736891, 32.05556925864426\n",
      "RESULTADOS DE MSE, RMSE, R2, MAPE (Val): 187.1146583036489, 13.678986011530565, 0.5805922631757903, 33.651777953251674\n",
      "RESULTADOS DE MSE, RMSE, R2, MAPE (Test): 127.00688176569574, 11.269732994427851, 0.639623102037738, 31.84894478307461\n",
      "Juniperus spp. L. Pinus gerardiana\n",
      "(7264, 77)\n",
      "SE HA NORMALIZADO EL ARCHIVO: Juniperus spp. L._merged.csv\n",
      "(4216, 4, 43) (1524, 4, 43) (1188, 4, 43)\n",
      "<Conv1D name=conv1d_6, built=True> False\n",
      "<BatchNormalization name=batch_normalization_6, built=True> False\n",
      "<MaxPooling1D name=max_pooling1d_5, built=True> False\n",
      "<Conv1D name=conv1d_7, built=True> False\n",
      "<BatchNormalization name=batch_normalization_7, built=True> False\n",
      "<MaxPooling1D name=max_pooling1d_6, built=True> False\n",
      "<Conv1D name=conv1d_8, built=True> False\n",
      "<BatchNormalization name=batch_normalization_8, built=True> False\n",
      "<MaxPooling1D name=max_pooling1d_7, built=True> False\n",
      "<Dropout name=dropout_1, built=True> True\n",
      "<Conv1D name=conv1d_9, built=True> False\n",
      "<BatchNormalization name=batch_normalization_9, built=True> False\n",
      "<MaxPooling1D name=max_pooling1d_8, built=True> False\n",
      "<Conv1D name=conv1d_10, built=True> True\n",
      "<BatchNormalization name=batch_normalization_10, built=True> True\n",
      "<GlobalAveragePooling1D name=global_average_pooling1d_1, built=True> True\n",
      "<Dense name=dense_2, built=True> True\n",
      "<Dense name=dense_3, built=True> True\n"
     ]
    },
    {
     "name": "stderr",
     "output_type": "stream",
     "text": [
      "/home/workstation/Escritorio/PabloC/TransferLearning/.venv/lib/python3.10/site-packages/keras/src/saving/saving_lib.py:719: UserWarning: Skipping variable loading for optimizer 'adam', because it has 50 variables whereas the saved optimizer has 2 variables. \n",
      "  saveable.load_own_variables(weights_store.get(inner_path))\n"
     ]
    },
    {
     "name": "stdout",
     "output_type": "stream",
     "text": [
      "[MODELO CONGELADO]: 17.168195486068726\n"
     ]
    },
    {
     "name": "stderr",
     "output_type": "stream",
     "text": [
      "/home/workstation/Escritorio/PabloC/TransferLearning/funcionesComunes.py:247: FutureWarning: The behavior of DataFrame concatenation with empty or all-NA entries is deprecated. In a future version, this will no longer exclude empty or all-NA columns when determining the result dtypes. To retain the old behavior, exclude the relevant entries before the concat operation.\n",
      "  predictionsDF = pd.concat([predictionsDF, tempDF], ignore_index=True)\n",
      "/home/workstation/Escritorio/PabloC/TransferLearning/funcionesComunes.py:247: FutureWarning: The behavior of DataFrame concatenation with empty or all-NA entries is deprecated. In a future version, this will no longer exclude empty or all-NA columns when determining the result dtypes. To retain the old behavior, exclude the relevant entries before the concat operation.\n",
      "  predictionsDF = pd.concat([predictionsDF, tempDF], ignore_index=True)\n",
      "/home/workstation/Escritorio/PabloC/TransferLearning/funcionesComunes.py:247: FutureWarning: The behavior of DataFrame concatenation with empty or all-NA entries is deprecated. In a future version, this will no longer exclude empty or all-NA columns when determining the result dtypes. To retain the old behavior, exclude the relevant entries before the concat operation.\n",
      "  predictionsDF = pd.concat([predictionsDF, tempDF], ignore_index=True)\n"
     ]
    },
    {
     "name": "stdout",
     "output_type": "stream",
     "text": [
      "RESULTADOS DE MSE, RMSE, R2, MAPE (Train): 2.8127442876442648, 1.6771238140472113, 0.775590564753262, 30.35872439224427\n",
      "RESULTADOS DE MSE, RMSE, R2, MAPE (Val): 1.2143452970117805, 1.1019733649284726, 0.46116661441558204, 37.99689817223634\n",
      "RESULTADOS DE MSE, RMSE, R2, MAPE (Test): 8.187885200815455, 2.861448095076242, 0.5680842467710923, 40.462449773123815\n",
      "Juniperus recurva Pinus gerardiana\n",
      "(5316, 77)\n",
      "SE HA NORMALIZADO EL ARCHIVO: Juniperus recurva_merged.csv\n",
      "(3188, 4, 43) (1082, 4, 43) (810, 4, 43)\n",
      "<Conv1D name=conv1d_6, built=True> False\n",
      "<BatchNormalization name=batch_normalization_6, built=True> False\n",
      "<MaxPooling1D name=max_pooling1d_5, built=True> False\n",
      "<Conv1D name=conv1d_7, built=True> False\n",
      "<BatchNormalization name=batch_normalization_7, built=True> False\n",
      "<MaxPooling1D name=max_pooling1d_6, built=True> False\n",
      "<Conv1D name=conv1d_8, built=True> False\n",
      "<BatchNormalization name=batch_normalization_8, built=True> False\n",
      "<MaxPooling1D name=max_pooling1d_7, built=True> False\n",
      "<Dropout name=dropout_1, built=True> True\n",
      "<Conv1D name=conv1d_9, built=True> False\n",
      "<BatchNormalization name=batch_normalization_9, built=True> False\n",
      "<MaxPooling1D name=max_pooling1d_8, built=True> False\n",
      "<Conv1D name=conv1d_10, built=True> True\n",
      "<BatchNormalization name=batch_normalization_10, built=True> True\n",
      "<GlobalAveragePooling1D name=global_average_pooling1d_1, built=True> True\n",
      "<Dense name=dense_2, built=True> True\n",
      "<Dense name=dense_3, built=True> True\n"
     ]
    },
    {
     "name": "stderr",
     "output_type": "stream",
     "text": [
      "/home/workstation/Escritorio/PabloC/TransferLearning/.venv/lib/python3.10/site-packages/keras/src/saving/saving_lib.py:719: UserWarning: Skipping variable loading for optimizer 'adam', because it has 50 variables whereas the saved optimizer has 2 variables. \n",
      "  saveable.load_own_variables(weights_store.get(inner_path))\n"
     ]
    },
    {
     "name": "stdout",
     "output_type": "stream",
     "text": [
      "[MODELO CONGELADO]: 7.852639198303223\n"
     ]
    },
    {
     "name": "stderr",
     "output_type": "stream",
     "text": [
      "/home/workstation/Escritorio/PabloC/TransferLearning/funcionesComunes.py:247: FutureWarning: The behavior of DataFrame concatenation with empty or all-NA entries is deprecated. In a future version, this will no longer exclude empty or all-NA columns when determining the result dtypes. To retain the old behavior, exclude the relevant entries before the concat operation.\n",
      "  predictionsDF = pd.concat([predictionsDF, tempDF], ignore_index=True)\n",
      "/home/workstation/Escritorio/PabloC/TransferLearning/funcionesComunes.py:247: FutureWarning: The behavior of DataFrame concatenation with empty or all-NA entries is deprecated. In a future version, this will no longer exclude empty or all-NA columns when determining the result dtypes. To retain the old behavior, exclude the relevant entries before the concat operation.\n",
      "  predictionsDF = pd.concat([predictionsDF, tempDF], ignore_index=True)\n",
      "/home/workstation/Escritorio/PabloC/TransferLearning/funcionesComunes.py:247: FutureWarning: The behavior of DataFrame concatenation with empty or all-NA entries is deprecated. In a future version, this will no longer exclude empty or all-NA columns when determining the result dtypes. To retain the old behavior, exclude the relevant entries before the concat operation.\n",
      "  predictionsDF = pd.concat([predictionsDF, tempDF], ignore_index=True)\n"
     ]
    },
    {
     "name": "stdout",
     "output_type": "stream",
     "text": [
      "RESULTADOS DE MSE, RMSE, R2, MAPE (Train): 11.337547711330242, 3.367127516345385, 0.5494877759446245, 38.34305617689922\n",
      "RESULTADOS DE MSE, RMSE, R2, MAPE (Val): 8.30841758129428, 2.882432580528863, 0.6983095891274536, 30.979010739150404\n",
      "RESULTADOS DE MSE, RMSE, R2, MAPE (Test): 3.172965762854817, 1.7812820559515041, 0.6626748736529637, 27.75755869432881\n",
      "totalMerged.csv Pinus gerardiana\n",
      "Juniperus spp.  Pinus gerardiana\n",
      "(17976, 77)\n",
      "SE HA NORMALIZADO EL ARCHIVO: Juniperus spp. _merged.csv\n",
      "(10218, 4, 43) (3900, 4, 43) (3018, 4, 43)\n",
      "<Conv1D name=conv1d_6, built=True> False\n",
      "<BatchNormalization name=batch_normalization_6, built=True> False\n",
      "<MaxPooling1D name=max_pooling1d_5, built=True> False\n",
      "<Conv1D name=conv1d_7, built=True> False\n",
      "<BatchNormalization name=batch_normalization_7, built=True> False\n",
      "<MaxPooling1D name=max_pooling1d_6, built=True> False\n",
      "<Conv1D name=conv1d_8, built=True> False\n",
      "<BatchNormalization name=batch_normalization_8, built=True> False\n",
      "<MaxPooling1D name=max_pooling1d_7, built=True> False\n",
      "<Dropout name=dropout_1, built=True> True\n",
      "<Conv1D name=conv1d_9, built=True> False\n",
      "<BatchNormalization name=batch_normalization_9, built=True> False\n",
      "<MaxPooling1D name=max_pooling1d_8, built=True> False\n",
      "<Conv1D name=conv1d_10, built=True> True\n",
      "<BatchNormalization name=batch_normalization_10, built=True> True\n",
      "<GlobalAveragePooling1D name=global_average_pooling1d_1, built=True> True\n",
      "<Dense name=dense_2, built=True> True\n",
      "<Dense name=dense_3, built=True> True\n"
     ]
    },
    {
     "name": "stderr",
     "output_type": "stream",
     "text": [
      "/home/workstation/Escritorio/PabloC/TransferLearning/.venv/lib/python3.10/site-packages/keras/src/saving/saving_lib.py:719: UserWarning: Skipping variable loading for optimizer 'adam', because it has 50 variables whereas the saved optimizer has 2 variables. \n",
      "  saveable.load_own_variables(weights_store.get(inner_path))\n"
     ]
    },
    {
     "name": "stdout",
     "output_type": "stream",
     "text": [
      "[MODELO CONGELADO]: 21.8859224319458\n"
     ]
    },
    {
     "name": "stderr",
     "output_type": "stream",
     "text": [
      "/home/workstation/Escritorio/PabloC/TransferLearning/funcionesComunes.py:247: FutureWarning: The behavior of DataFrame concatenation with empty or all-NA entries is deprecated. In a future version, this will no longer exclude empty or all-NA columns when determining the result dtypes. To retain the old behavior, exclude the relevant entries before the concat operation.\n",
      "  predictionsDF = pd.concat([predictionsDF, tempDF], ignore_index=True)\n",
      "/home/workstation/Escritorio/PabloC/TransferLearning/funcionesComunes.py:247: FutureWarning: The behavior of DataFrame concatenation with empty or all-NA entries is deprecated. In a future version, this will no longer exclude empty or all-NA columns when determining the result dtypes. To retain the old behavior, exclude the relevant entries before the concat operation.\n",
      "  predictionsDF = pd.concat([predictionsDF, tempDF], ignore_index=True)\n",
      "/home/workstation/Escritorio/PabloC/TransferLearning/funcionesComunes.py:247: FutureWarning: The behavior of DataFrame concatenation with empty or all-NA entries is deprecated. In a future version, this will no longer exclude empty or all-NA columns when determining the result dtypes. To retain the old behavior, exclude the relevant entries before the concat operation.\n",
      "  predictionsDF = pd.concat([predictionsDF, tempDF], ignore_index=True)\n"
     ]
    },
    {
     "name": "stdout",
     "output_type": "stream",
     "text": [
      "RESULTADOS DE MSE, RMSE, R2, MAPE (Train): 17.589422442373284, 4.193974540024448, 0.7131285714770743, 30.12301411610566\n",
      "RESULTADOS DE MSE, RMSE, R2, MAPE (Val): 4.687021480501761, 2.164952997296191, 0.7617504380488771, 31.46057495824647\n",
      "RESULTADOS DE MSE, RMSE, R2, MAPE (Test): 25.76142684156948, 5.0755715778195345, 0.7534704937042529, 31.150931255036397\n",
      "Procesando el modelo: model_Pinus wallichiana.keras\n",
      "Abies spectabilis Pinus wallichiana\n",
      "(96429, 77)\n",
      "SE HA NORMALIZADO EL ARCHIVO: Abies spectabilis_merged.csv\n",
      "(56618, 4, 43) (19637, 4, 43) (15689, 4, 43)\n",
      "<Conv1D name=conv1d_6, built=True> False\n",
      "<BatchNormalization name=batch_normalization_6, built=True> False\n",
      "<MaxPooling1D name=max_pooling1d_5, built=True> False\n",
      "<Dropout name=dropout_1, built=True> True\n",
      "<Conv1D name=conv1d_7, built=True> False\n",
      "<BatchNormalization name=batch_normalization_7, built=True> False\n",
      "<MaxPooling1D name=max_pooling1d_6, built=True> False\n",
      "<Conv1D name=conv1d_8, built=True> False\n",
      "<BatchNormalization name=batch_normalization_8, built=True> False\n",
      "<MaxPooling1D name=max_pooling1d_7, built=True> False\n",
      "<Conv1D name=conv1d_9, built=True> False\n",
      "<BatchNormalization name=batch_normalization_9, built=True> False\n",
      "<MaxPooling1D name=max_pooling1d_8, built=True> False\n",
      "<Conv1D name=conv1d_10, built=True> True\n",
      "<BatchNormalization name=batch_normalization_10, built=True> True\n",
      "<GlobalAveragePooling1D name=global_average_pooling1d_1, built=True> True\n",
      "<Dense name=dense_2, built=True> True\n",
      "<Dense name=dense_3, built=True> True\n"
     ]
    },
    {
     "name": "stderr",
     "output_type": "stream",
     "text": [
      "/home/workstation/Escritorio/PabloC/TransferLearning/.venv/lib/python3.10/site-packages/keras/src/saving/saving_lib.py:719: UserWarning: Skipping variable loading for optimizer 'rmsprop', because it has 26 variables whereas the saved optimizer has 2 variables. \n",
      "  saveable.load_own_variables(weights_store.get(inner_path))\n"
     ]
    },
    {
     "name": "stdout",
     "output_type": "stream",
     "text": [
      "[MODELO CONGELADO]: 74.23856782913208\n"
     ]
    },
    {
     "name": "stderr",
     "output_type": "stream",
     "text": [
      "/home/workstation/Escritorio/PabloC/TransferLearning/funcionesComunes.py:247: FutureWarning: The behavior of DataFrame concatenation with empty or all-NA entries is deprecated. In a future version, this will no longer exclude empty or all-NA columns when determining the result dtypes. To retain the old behavior, exclude the relevant entries before the concat operation.\n",
      "  predictionsDF = pd.concat([predictionsDF, tempDF], ignore_index=True)\n",
      "/home/workstation/Escritorio/PabloC/TransferLearning/funcionesComunes.py:247: FutureWarning: The behavior of DataFrame concatenation with empty or all-NA entries is deprecated. In a future version, this will no longer exclude empty or all-NA columns when determining the result dtypes. To retain the old behavior, exclude the relevant entries before the concat operation.\n",
      "  predictionsDF = pd.concat([predictionsDF, tempDF], ignore_index=True)\n",
      "/home/workstation/Escritorio/PabloC/TransferLearning/funcionesComunes.py:247: FutureWarning: The behavior of DataFrame concatenation with empty or all-NA entries is deprecated. In a future version, this will no longer exclude empty or all-NA columns when determining the result dtypes. To retain the old behavior, exclude the relevant entries before the concat operation.\n",
      "  predictionsDF = pd.concat([predictionsDF, tempDF], ignore_index=True)\n"
     ]
    },
    {
     "name": "stdout",
     "output_type": "stream",
     "text": [
      "RESULTADOS DE MSE, RMSE, R2, MAPE (Train): 75.10928687527556, 8.666561421652508, 0.3410318862871715, 46.95613577149867\n",
      "RESULTADOS DE MSE, RMSE, R2, MAPE (Val): 69.44813678447038, 8.33355487079016, 0.36721322281508717, 46.39251157728055\n",
      "RESULTADOS DE MSE, RMSE, R2, MAPE (Test): 80.42867325443571, 8.96820345746213, 0.40352037455031176, 46.201407416387994\n",
      "Picea smithiana Pinus wallichiana\n",
      "(34476, 77)\n",
      "SE HA NORMALIZADO EL ARCHIVO: Picea smithiana_merged.csv\n",
      "(19933, 4, 43) (7272, 4, 43) (5863, 4, 43)\n",
      "<Conv1D name=conv1d_6, built=True> False\n",
      "<BatchNormalization name=batch_normalization_6, built=True> False\n",
      "<MaxPooling1D name=max_pooling1d_5, built=True> False\n",
      "<Dropout name=dropout_1, built=True> True\n",
      "<Conv1D name=conv1d_7, built=True> False\n",
      "<BatchNormalization name=batch_normalization_7, built=True> False\n",
      "<MaxPooling1D name=max_pooling1d_6, built=True> False\n",
      "<Conv1D name=conv1d_8, built=True> False\n",
      "<BatchNormalization name=batch_normalization_8, built=True> False\n",
      "<MaxPooling1D name=max_pooling1d_7, built=True> False\n",
      "<Conv1D name=conv1d_9, built=True> False\n",
      "<BatchNormalization name=batch_normalization_9, built=True> False\n",
      "<MaxPooling1D name=max_pooling1d_8, built=True> False\n",
      "<Conv1D name=conv1d_10, built=True> True\n",
      "<BatchNormalization name=batch_normalization_10, built=True> True\n",
      "<GlobalAveragePooling1D name=global_average_pooling1d_1, built=True> True\n",
      "<Dense name=dense_2, built=True> True\n",
      "<Dense name=dense_3, built=True> True\n"
     ]
    },
    {
     "name": "stderr",
     "output_type": "stream",
     "text": [
      "/home/workstation/Escritorio/PabloC/TransferLearning/.venv/lib/python3.10/site-packages/keras/src/saving/saving_lib.py:719: UserWarning: Skipping variable loading for optimizer 'rmsprop', because it has 26 variables whereas the saved optimizer has 2 variables. \n",
      "  saveable.load_own_variables(weights_store.get(inner_path))\n"
     ]
    },
    {
     "name": "stdout",
     "output_type": "stream",
     "text": [
      "[MODELO CONGELADO]: 151.07512259483337\n"
     ]
    },
    {
     "name": "stderr",
     "output_type": "stream",
     "text": [
      "/home/workstation/Escritorio/PabloC/TransferLearning/funcionesComunes.py:247: FutureWarning: The behavior of DataFrame concatenation with empty or all-NA entries is deprecated. In a future version, this will no longer exclude empty or all-NA columns when determining the result dtypes. To retain the old behavior, exclude the relevant entries before the concat operation.\n",
      "  predictionsDF = pd.concat([predictionsDF, tempDF], ignore_index=True)\n",
      "/home/workstation/Escritorio/PabloC/TransferLearning/funcionesComunes.py:247: FutureWarning: The behavior of DataFrame concatenation with empty or all-NA entries is deprecated. In a future version, this will no longer exclude empty or all-NA columns when determining the result dtypes. To retain the old behavior, exclude the relevant entries before the concat operation.\n",
      "  predictionsDF = pd.concat([predictionsDF, tempDF], ignore_index=True)\n",
      "/home/workstation/Escritorio/PabloC/TransferLearning/funcionesComunes.py:247: FutureWarning: The behavior of DataFrame concatenation with empty or all-NA entries is deprecated. In a future version, this will no longer exclude empty or all-NA columns when determining the result dtypes. To retain the old behavior, exclude the relevant entries before the concat operation.\n",
      "  predictionsDF = pd.concat([predictionsDF, tempDF], ignore_index=True)\n"
     ]
    },
    {
     "name": "stdout",
     "output_type": "stream",
     "text": [
      "RESULTADOS DE MSE, RMSE, R2, MAPE (Train): 110.6570972497422, 10.519367721005963, 0.6757112163414885, 30.386581162938846\n",
      "RESULTADOS DE MSE, RMSE, R2, MAPE (Val): 120.67285563486465, 10.985119736937992, 0.6517701559907478, 32.37805577326792\n",
      "RESULTADOS DE MSE, RMSE, R2, MAPE (Test): 154.48843604493135, 12.429337715458992, 0.47829918281560213, 35.7854605114716\n",
      "Abies pindrow Pinus wallichiana\n",
      "(16018, 77)\n",
      "SE HA NORMALIZADO EL ARCHIVO: Abies pindrow_merged.csv\n",
      "(9042, 4, 43) (3441, 4, 43) (2815, 4, 43)\n",
      "<Conv1D name=conv1d_6, built=True> False\n",
      "<BatchNormalization name=batch_normalization_6, built=True> False\n",
      "<MaxPooling1D name=max_pooling1d_5, built=True> False\n",
      "<Dropout name=dropout_1, built=True> True\n",
      "<Conv1D name=conv1d_7, built=True> False\n",
      "<BatchNormalization name=batch_normalization_7, built=True> False\n",
      "<MaxPooling1D name=max_pooling1d_6, built=True> False\n",
      "<Conv1D name=conv1d_8, built=True> False\n",
      "<BatchNormalization name=batch_normalization_8, built=True> False\n",
      "<MaxPooling1D name=max_pooling1d_7, built=True> False\n",
      "<Conv1D name=conv1d_9, built=True> False\n",
      "<BatchNormalization name=batch_normalization_9, built=True> False\n",
      "<MaxPooling1D name=max_pooling1d_8, built=True> False\n",
      "<Conv1D name=conv1d_10, built=True> True\n",
      "<BatchNormalization name=batch_normalization_10, built=True> True\n",
      "<GlobalAveragePooling1D name=global_average_pooling1d_1, built=True> True\n",
      "<Dense name=dense_2, built=True> True\n",
      "<Dense name=dense_3, built=True> True\n"
     ]
    },
    {
     "name": "stderr",
     "output_type": "stream",
     "text": [
      "/home/workstation/Escritorio/PabloC/TransferLearning/.venv/lib/python3.10/site-packages/keras/src/saving/saving_lib.py:719: UserWarning: Skipping variable loading for optimizer 'rmsprop', because it has 26 variables whereas the saved optimizer has 2 variables. \n",
      "  saveable.load_own_variables(weights_store.get(inner_path))\n"
     ]
    },
    {
     "name": "stdout",
     "output_type": "stream",
     "text": [
      "[MODELO CONGELADO]: 32.411924600601196\n"
     ]
    },
    {
     "name": "stderr",
     "output_type": "stream",
     "text": [
      "/home/workstation/Escritorio/PabloC/TransferLearning/funcionesComunes.py:247: FutureWarning: The behavior of DataFrame concatenation with empty or all-NA entries is deprecated. In a future version, this will no longer exclude empty or all-NA columns when determining the result dtypes. To retain the old behavior, exclude the relevant entries before the concat operation.\n",
      "  predictionsDF = pd.concat([predictionsDF, tempDF], ignore_index=True)\n",
      "/home/workstation/Escritorio/PabloC/TransferLearning/funcionesComunes.py:247: FutureWarning: The behavior of DataFrame concatenation with empty or all-NA entries is deprecated. In a future version, this will no longer exclude empty or all-NA columns when determining the result dtypes. To retain the old behavior, exclude the relevant entries before the concat operation.\n",
      "  predictionsDF = pd.concat([predictionsDF, tempDF], ignore_index=True)\n",
      "/home/workstation/Escritorio/PabloC/TransferLearning/funcionesComunes.py:247: FutureWarning: The behavior of DataFrame concatenation with empty or all-NA entries is deprecated. In a future version, this will no longer exclude empty or all-NA columns when determining the result dtypes. To retain the old behavior, exclude the relevant entries before the concat operation.\n",
      "  predictionsDF = pd.concat([predictionsDF, tempDF], ignore_index=True)\n"
     ]
    },
    {
     "name": "stdout",
     "output_type": "stream",
     "text": [
      "RESULTADOS DE MSE, RMSE, R2, MAPE (Train): 91.48461103767386, 9.564758807083107, 0.6073188219589754, 29.31467076579622\n",
      "RESULTADOS DE MSE, RMSE, R2, MAPE (Val): 86.74759115533755, 9.313838690644022, 0.5051493902088229, 28.79740102165263\n",
      "RESULTADOS DE MSE, RMSE, R2, MAPE (Test): 77.27517235299146, 8.790629804114802, 0.4536863673496001, 29.14745419463982\n",
      "Juniperus excelsa M.-Bieb Pinus wallichiana\n",
      "(7449, 77)\n",
      "SE HA NORMALIZADO EL ARCHIVO: Juniperus excelsa M.-Bieb_merged.csv\n",
      "(4189, 4, 43) (1707, 4, 43) (1228, 4, 43)\n",
      "<Conv1D name=conv1d_6, built=True> False\n",
      "<BatchNormalization name=batch_normalization_6, built=True> False\n",
      "<MaxPooling1D name=max_pooling1d_5, built=True> False\n",
      "<Dropout name=dropout_1, built=True> True\n",
      "<Conv1D name=conv1d_7, built=True> False\n",
      "<BatchNormalization name=batch_normalization_7, built=True> False\n",
      "<MaxPooling1D name=max_pooling1d_6, built=True> False\n",
      "<Conv1D name=conv1d_8, built=True> False\n",
      "<BatchNormalization name=batch_normalization_8, built=True> False\n",
      "<MaxPooling1D name=max_pooling1d_7, built=True> False\n",
      "<Conv1D name=conv1d_9, built=True> False\n",
      "<BatchNormalization name=batch_normalization_9, built=True> False\n",
      "<MaxPooling1D name=max_pooling1d_8, built=True> False\n",
      "<Conv1D name=conv1d_10, built=True> True\n",
      "<BatchNormalization name=batch_normalization_10, built=True> True\n",
      "<GlobalAveragePooling1D name=global_average_pooling1d_1, built=True> True\n",
      "<Dense name=dense_2, built=True> True\n",
      "<Dense name=dense_3, built=True> True\n"
     ]
    },
    {
     "name": "stderr",
     "output_type": "stream",
     "text": [
      "/home/workstation/Escritorio/PabloC/TransferLearning/.venv/lib/python3.10/site-packages/keras/src/saving/saving_lib.py:719: UserWarning: Skipping variable loading for optimizer 'rmsprop', because it has 26 variables whereas the saved optimizer has 2 variables. \n",
      "  saveable.load_own_variables(weights_store.get(inner_path))\n"
     ]
    },
    {
     "name": "stdout",
     "output_type": "stream",
     "text": [
      "[MODELO CONGELADO]: 14.575409412384033\n"
     ]
    },
    {
     "name": "stderr",
     "output_type": "stream",
     "text": [
      "/home/workstation/Escritorio/PabloC/TransferLearning/funcionesComunes.py:247: FutureWarning: The behavior of DataFrame concatenation with empty or all-NA entries is deprecated. In a future version, this will no longer exclude empty or all-NA columns when determining the result dtypes. To retain the old behavior, exclude the relevant entries before the concat operation.\n",
      "  predictionsDF = pd.concat([predictionsDF, tempDF], ignore_index=True)\n",
      "/home/workstation/Escritorio/PabloC/TransferLearning/funcionesComunes.py:247: FutureWarning: The behavior of DataFrame concatenation with empty or all-NA entries is deprecated. In a future version, this will no longer exclude empty or all-NA columns when determining the result dtypes. To retain the old behavior, exclude the relevant entries before the concat operation.\n",
      "  predictionsDF = pd.concat([predictionsDF, tempDF], ignore_index=True)\n",
      "/home/workstation/Escritorio/PabloC/TransferLearning/funcionesComunes.py:247: FutureWarning: The behavior of DataFrame concatenation with empty or all-NA entries is deprecated. In a future version, this will no longer exclude empty or all-NA columns when determining the result dtypes. To retain the old behavior, exclude the relevant entries before the concat operation.\n",
      "  predictionsDF = pd.concat([predictionsDF, tempDF], ignore_index=True)\n"
     ]
    },
    {
     "name": "stdout",
     "output_type": "stream",
     "text": [
      "RESULTADOS DE MSE, RMSE, R2, MAPE (Train): 7.060784327107422, 2.6572136397187602, 0.7129932196864888, 27.067057335776674\n",
      "RESULTADOS DE MSE, RMSE, R2, MAPE (Val): 6.895651544034975, 2.6259572624159317, 0.7370257322736358, 28.661493682836735\n",
      "RESULTADOS DE MSE, RMSE, R2, MAPE (Test): 17.05546766618436, 4.129826590328504, 0.7471385188847756, 30.43546509126403\n",
      "Juniperus turkestanica Komar. Pinus wallichiana\n",
      "(6305, 77)\n",
      "SE HA NORMALIZADO EL ARCHIVO: Juniperus turkestanica Komar._merged.csv\n",
      "(3664, 4, 43) (1368, 4, 43) (1001, 4, 43)\n",
      "<Conv1D name=conv1d_6, built=True> False\n",
      "<BatchNormalization name=batch_normalization_6, built=True> False\n",
      "<MaxPooling1D name=max_pooling1d_5, built=True> False\n",
      "<Dropout name=dropout_1, built=True> True\n",
      "<Conv1D name=conv1d_7, built=True> False\n",
      "<BatchNormalization name=batch_normalization_7, built=True> False\n",
      "<MaxPooling1D name=max_pooling1d_6, built=True> False\n",
      "<Conv1D name=conv1d_8, built=True> False\n",
      "<BatchNormalization name=batch_normalization_8, built=True> False\n",
      "<MaxPooling1D name=max_pooling1d_7, built=True> False\n",
      "<Conv1D name=conv1d_9, built=True> False\n",
      "<BatchNormalization name=batch_normalization_9, built=True> False\n",
      "<MaxPooling1D name=max_pooling1d_8, built=True> False\n",
      "<Conv1D name=conv1d_10, built=True> True\n",
      "<BatchNormalization name=batch_normalization_10, built=True> True\n",
      "<GlobalAveragePooling1D name=global_average_pooling1d_1, built=True> True\n",
      "<Dense name=dense_2, built=True> True\n",
      "<Dense name=dense_3, built=True> True\n"
     ]
    },
    {
     "name": "stderr",
     "output_type": "stream",
     "text": [
      "/home/workstation/Escritorio/PabloC/TransferLearning/.venv/lib/python3.10/site-packages/keras/src/saving/saving_lib.py:719: UserWarning: Skipping variable loading for optimizer 'rmsprop', because it has 26 variables whereas the saved optimizer has 2 variables. \n",
      "  saveable.load_own_variables(weights_store.get(inner_path))\n"
     ]
    },
    {
     "name": "stdout",
     "output_type": "stream",
     "text": [
      "[MODELO CONGELADO]: 10.149537801742554\n"
     ]
    },
    {
     "name": "stderr",
     "output_type": "stream",
     "text": [
      "/home/workstation/Escritorio/PabloC/TransferLearning/funcionesComunes.py:247: FutureWarning: The behavior of DataFrame concatenation with empty or all-NA entries is deprecated. In a future version, this will no longer exclude empty or all-NA columns when determining the result dtypes. To retain the old behavior, exclude the relevant entries before the concat operation.\n",
      "  predictionsDF = pd.concat([predictionsDF, tempDF], ignore_index=True)\n",
      "/home/workstation/Escritorio/PabloC/TransferLearning/funcionesComunes.py:247: FutureWarning: The behavior of DataFrame concatenation with empty or all-NA entries is deprecated. In a future version, this will no longer exclude empty or all-NA columns when determining the result dtypes. To retain the old behavior, exclude the relevant entries before the concat operation.\n",
      "  predictionsDF = pd.concat([predictionsDF, tempDF], ignore_index=True)\n",
      "/home/workstation/Escritorio/PabloC/TransferLearning/funcionesComunes.py:247: FutureWarning: The behavior of DataFrame concatenation with empty or all-NA entries is deprecated. In a future version, this will no longer exclude empty or all-NA columns when determining the result dtypes. To retain the old behavior, exclude the relevant entries before the concat operation.\n",
      "  predictionsDF = pd.concat([predictionsDF, tempDF], ignore_index=True)\n"
     ]
    },
    {
     "name": "stdout",
     "output_type": "stream",
     "text": [
      "RESULTADOS DE MSE, RMSE, R2, MAPE (Train): 4.408277183845705, 2.099589765607964, 0.901791184700563, 22.51085890456725\n",
      "RESULTADOS DE MSE, RMSE, R2, MAPE (Val): 3.7220698298218213, 1.9292666559658935, 0.7835515542025168, 27.491597922428205\n",
      "RESULTADOS DE MSE, RMSE, R2, MAPE (Test): 1.9278205373997546, 1.3884597716173683, 0.6453348664827134, 28.19398236945171\n",
      "Pinus roxburghii Pinus wallichiana\n",
      "(10635, 77)\n",
      "SE HA NORMALIZADO EL ARCHIVO: Pinus roxburghii_merged.csv\n",
      "(6309, 4, 43) (2167, 4, 43) (1647, 4, 43)\n",
      "<Conv1D name=conv1d_6, built=True> False\n",
      "<BatchNormalization name=batch_normalization_6, built=True> False\n",
      "<MaxPooling1D name=max_pooling1d_5, built=True> False\n",
      "<Dropout name=dropout_1, built=True> True\n",
      "<Conv1D name=conv1d_7, built=True> False\n",
      "<BatchNormalization name=batch_normalization_7, built=True> False\n",
      "<MaxPooling1D name=max_pooling1d_6, built=True> False\n",
      "<Conv1D name=conv1d_8, built=True> False\n",
      "<BatchNormalization name=batch_normalization_8, built=True> False\n",
      "<MaxPooling1D name=max_pooling1d_7, built=True> False\n",
      "<Conv1D name=conv1d_9, built=True> False\n",
      "<BatchNormalization name=batch_normalization_9, built=True> False\n",
      "<MaxPooling1D name=max_pooling1d_8, built=True> False\n",
      "<Conv1D name=conv1d_10, built=True> True\n",
      "<BatchNormalization name=batch_normalization_10, built=True> True\n",
      "<GlobalAveragePooling1D name=global_average_pooling1d_1, built=True> True\n",
      "<Dense name=dense_2, built=True> True\n",
      "<Dense name=dense_3, built=True> True\n"
     ]
    },
    {
     "name": "stderr",
     "output_type": "stream",
     "text": [
      "/home/workstation/Escritorio/PabloC/TransferLearning/.venv/lib/python3.10/site-packages/keras/src/saving/saving_lib.py:719: UserWarning: Skipping variable loading for optimizer 'rmsprop', because it has 26 variables whereas the saved optimizer has 2 variables. \n",
      "  saveable.load_own_variables(weights_store.get(inner_path))\n"
     ]
    },
    {
     "name": "stdout",
     "output_type": "stream",
     "text": [
      "[MODELO CONGELADO]: 17.95468044281006\n"
     ]
    },
    {
     "name": "stderr",
     "output_type": "stream",
     "text": [
      "/home/workstation/Escritorio/PabloC/TransferLearning/funcionesComunes.py:247: FutureWarning: The behavior of DataFrame concatenation with empty or all-NA entries is deprecated. In a future version, this will no longer exclude empty or all-NA columns when determining the result dtypes. To retain the old behavior, exclude the relevant entries before the concat operation.\n",
      "  predictionsDF = pd.concat([predictionsDF, tempDF], ignore_index=True)\n",
      "/home/workstation/Escritorio/PabloC/TransferLearning/funcionesComunes.py:247: FutureWarning: The behavior of DataFrame concatenation with empty or all-NA entries is deprecated. In a future version, this will no longer exclude empty or all-NA columns when determining the result dtypes. To retain the old behavior, exclude the relevant entries before the concat operation.\n",
      "  predictionsDF = pd.concat([predictionsDF, tempDF], ignore_index=True)\n",
      "/home/workstation/Escritorio/PabloC/TransferLearning/funcionesComunes.py:247: FutureWarning: The behavior of DataFrame concatenation with empty or all-NA entries is deprecated. In a future version, this will no longer exclude empty or all-NA columns when determining the result dtypes. To retain the old behavior, exclude the relevant entries before the concat operation.\n",
      "  predictionsDF = pd.concat([predictionsDF, tempDF], ignore_index=True)\n"
     ]
    },
    {
     "name": "stdout",
     "output_type": "stream",
     "text": [
      "RESULTADOS DE MSE, RMSE, R2, MAPE (Train): 181.7800631674601, 13.482583697773217, 0.31850017371679606, 43.22777228388643\n",
      "RESULTADOS DE MSE, RMSE, R2, MAPE (Val): 144.14212545340598, 12.005920433411426, 0.3565323154813732, 42.706600554335175\n",
      "RESULTADOS DE MSE, RMSE, R2, MAPE (Test): 162.69349868461234, 12.755136168799309, 0.3173040832515156, 43.1806277161984\n",
      "Pinus wallichiana Pinus wallichiana\n",
      "Pinus gerardiana Pinus wallichiana\n",
      "(10101, 77)\n",
      "SE HA NORMALIZADO EL ARCHIVO: Pinus gerardiana_merged.csv\n",
      "(5767, 4, 43) (2181, 4, 43) (1745, 4, 43)\n",
      "<Conv1D name=conv1d_6, built=True> False\n",
      "<BatchNormalization name=batch_normalization_6, built=True> False\n",
      "<MaxPooling1D name=max_pooling1d_5, built=True> False\n",
      "<Dropout name=dropout_1, built=True> True\n",
      "<Conv1D name=conv1d_7, built=True> False\n",
      "<BatchNormalization name=batch_normalization_7, built=True> False\n",
      "<MaxPooling1D name=max_pooling1d_6, built=True> False\n",
      "<Conv1D name=conv1d_8, built=True> False\n",
      "<BatchNormalization name=batch_normalization_8, built=True> False\n",
      "<MaxPooling1D name=max_pooling1d_7, built=True> False\n",
      "<Conv1D name=conv1d_9, built=True> False\n",
      "<BatchNormalization name=batch_normalization_9, built=True> False\n",
      "<MaxPooling1D name=max_pooling1d_8, built=True> False\n",
      "<Conv1D name=conv1d_10, built=True> True\n",
      "<BatchNormalization name=batch_normalization_10, built=True> True\n",
      "<GlobalAveragePooling1D name=global_average_pooling1d_1, built=True> True\n",
      "<Dense name=dense_2, built=True> True\n",
      "<Dense name=dense_3, built=True> True\n"
     ]
    },
    {
     "name": "stderr",
     "output_type": "stream",
     "text": [
      "/home/workstation/Escritorio/PabloC/TransferLearning/.venv/lib/python3.10/site-packages/keras/src/saving/saving_lib.py:719: UserWarning: Skipping variable loading for optimizer 'rmsprop', because it has 26 variables whereas the saved optimizer has 2 variables. \n",
      "  saveable.load_own_variables(weights_store.get(inner_path))\n"
     ]
    },
    {
     "name": "stdout",
     "output_type": "stream",
     "text": [
      "[MODELO CONGELADO]: 17.591506719589233\n"
     ]
    },
    {
     "name": "stderr",
     "output_type": "stream",
     "text": [
      "/home/workstation/Escritorio/PabloC/TransferLearning/funcionesComunes.py:247: FutureWarning: The behavior of DataFrame concatenation with empty or all-NA entries is deprecated. In a future version, this will no longer exclude empty or all-NA columns when determining the result dtypes. To retain the old behavior, exclude the relevant entries before the concat operation.\n",
      "  predictionsDF = pd.concat([predictionsDF, tempDF], ignore_index=True)\n",
      "/home/workstation/Escritorio/PabloC/TransferLearning/funcionesComunes.py:247: FutureWarning: The behavior of DataFrame concatenation with empty or all-NA entries is deprecated. In a future version, this will no longer exclude empty or all-NA columns when determining the result dtypes. To retain the old behavior, exclude the relevant entries before the concat operation.\n",
      "  predictionsDF = pd.concat([predictionsDF, tempDF], ignore_index=True)\n",
      "/home/workstation/Escritorio/PabloC/TransferLearning/funcionesComunes.py:247: FutureWarning: The behavior of DataFrame concatenation with empty or all-NA entries is deprecated. In a future version, this will no longer exclude empty or all-NA columns when determining the result dtypes. To retain the old behavior, exclude the relevant entries before the concat operation.\n",
      "  predictionsDF = pd.concat([predictionsDF, tempDF], ignore_index=True)\n"
     ]
    },
    {
     "name": "stdout",
     "output_type": "stream",
     "text": [
      "RESULTADOS DE MSE, RMSE, R2, MAPE (Train): 16.217360907246253, 4.027078458044523, 0.5822111882951163, 29.949773916254603\n",
      "RESULTADOS DE MSE, RMSE, R2, MAPE (Val): 18.221751786378494, 4.268694388964675, 0.5395056687859695, 30.333879689428866\n",
      "RESULTADOS DE MSE, RMSE, R2, MAPE (Test): 13.961557715605343, 3.7365167891507385, 0.6524853202007646, 27.904892935244764\n",
      "Populus ciliata Pinus wallichiana\n",
      "(1182, 77)\n",
      "SE HA NORMALIZADO EL ARCHIVO: Populus ciliata_merged.csv\n",
      "(705, 4, 43) (156, 4, 43) (265, 4, 43)\n"
     ]
    },
    {
     "name": "stderr",
     "output_type": "stream",
     "text": [
      "/home/workstation/Escritorio/PabloC/TransferLearning/.venv/lib/python3.10/site-packages/keras/src/saving/saving_lib.py:719: UserWarning: Skipping variable loading for optimizer 'rmsprop', because it has 26 variables whereas the saved optimizer has 2 variables. \n",
      "  saveable.load_own_variables(weights_store.get(inner_path))\n"
     ]
    },
    {
     "name": "stdout",
     "output_type": "stream",
     "text": [
      "<Conv1D name=conv1d_6, built=True> False\n",
      "<BatchNormalization name=batch_normalization_6, built=True> False\n",
      "<MaxPooling1D name=max_pooling1d_5, built=True> False\n",
      "<Dropout name=dropout_1, built=True> True\n",
      "<Conv1D name=conv1d_7, built=True> False\n",
      "<BatchNormalization name=batch_normalization_7, built=True> False\n",
      "<MaxPooling1D name=max_pooling1d_6, built=True> False\n",
      "<Conv1D name=conv1d_8, built=True> False\n",
      "<BatchNormalization name=batch_normalization_8, built=True> False\n",
      "<MaxPooling1D name=max_pooling1d_7, built=True> False\n",
      "<Conv1D name=conv1d_9, built=True> False\n",
      "<BatchNormalization name=batch_normalization_9, built=True> False\n",
      "<MaxPooling1D name=max_pooling1d_8, built=True> False\n",
      "<Conv1D name=conv1d_10, built=True> True\n",
      "<BatchNormalization name=batch_normalization_10, built=True> True\n",
      "<GlobalAveragePooling1D name=global_average_pooling1d_1, built=True> True\n",
      "<Dense name=dense_2, built=True> True\n",
      "<Dense name=dense_3, built=True> True\n",
      "[MODELO CONGELADO]: 4.745134592056274\n"
     ]
    },
    {
     "name": "stderr",
     "output_type": "stream",
     "text": [
      "/home/workstation/Escritorio/PabloC/TransferLearning/funcionesComunes.py:247: FutureWarning: The behavior of DataFrame concatenation with empty or all-NA entries is deprecated. In a future version, this will no longer exclude empty or all-NA columns when determining the result dtypes. To retain the old behavior, exclude the relevant entries before the concat operation.\n",
      "  predictionsDF = pd.concat([predictionsDF, tempDF], ignore_index=True)\n",
      "/home/workstation/Escritorio/PabloC/TransferLearning/funcionesComunes.py:247: FutureWarning: The behavior of DataFrame concatenation with empty or all-NA entries is deprecated. In a future version, this will no longer exclude empty or all-NA columns when determining the result dtypes. To retain the old behavior, exclude the relevant entries before the concat operation.\n",
      "  predictionsDF = pd.concat([predictionsDF, tempDF], ignore_index=True)\n",
      "/home/workstation/Escritorio/PabloC/TransferLearning/funcionesComunes.py:247: FutureWarning: The behavior of DataFrame concatenation with empty or all-NA entries is deprecated. In a future version, this will no longer exclude empty or all-NA columns when determining the result dtypes. To retain the old behavior, exclude the relevant entries before the concat operation.\n",
      "  predictionsDF = pd.concat([predictionsDF, tempDF], ignore_index=True)\n"
     ]
    },
    {
     "name": "stdout",
     "output_type": "stream",
     "text": [
      "RESULTADOS DE MSE, RMSE, R2, MAPE (Train): 189.39589206632664, 13.762118008007585, 0.47852525189852435, 38.18238174216917\n",
      "RESULTADOS DE MSE, RMSE, R2, MAPE (Val): 216.94494416347607, 14.729051027254814, 0.07564215809994979, 46.54269100111993\n",
      "RESULTADOS DE MSE, RMSE, R2, MAPE (Test): 92.38253985273842, 9.611583628764743, 0.5383870190856159, 35.042093210673066\n",
      "Betula utilis Pinus wallichiana\n",
      "(3473, 77)\n",
      "SE HA NORMALIZADO EL ARCHIVO: Betula utilis_merged.csv\n",
      "(2059, 4, 43) (665, 4, 43) (593, 4, 43)\n",
      "<Conv1D name=conv1d_6, built=True> False\n",
      "<BatchNormalization name=batch_normalization_6, built=True> False\n",
      "<MaxPooling1D name=max_pooling1d_5, built=True> False\n",
      "<Dropout name=dropout_1, built=True> True\n",
      "<Conv1D name=conv1d_7, built=True> False\n",
      "<BatchNormalization name=batch_normalization_7, built=True> False\n",
      "<MaxPooling1D name=max_pooling1d_6, built=True> False\n",
      "<Conv1D name=conv1d_8, built=True> False\n",
      "<BatchNormalization name=batch_normalization_8, built=True> False\n",
      "<MaxPooling1D name=max_pooling1d_7, built=True> False\n",
      "<Conv1D name=conv1d_9, built=True> False\n",
      "<BatchNormalization name=batch_normalization_9, built=True> False\n",
      "<MaxPooling1D name=max_pooling1d_8, built=True> False\n",
      "<Conv1D name=conv1d_10, built=True> True\n",
      "<BatchNormalization name=batch_normalization_10, built=True> True\n",
      "<GlobalAveragePooling1D name=global_average_pooling1d_1, built=True> True\n",
      "<Dense name=dense_2, built=True> True\n",
      "<Dense name=dense_3, built=True> True\n"
     ]
    },
    {
     "name": "stderr",
     "output_type": "stream",
     "text": [
      "/home/workstation/Escritorio/PabloC/TransferLearning/.venv/lib/python3.10/site-packages/keras/src/saving/saving_lib.py:719: UserWarning: Skipping variable loading for optimizer 'rmsprop', because it has 26 variables whereas the saved optimizer has 2 variables. \n",
      "  saveable.load_own_variables(weights_store.get(inner_path))\n"
     ]
    },
    {
     "name": "stdout",
     "output_type": "stream",
     "text": [
      "[MODELO CONGELADO]: 16.022077560424805\n"
     ]
    },
    {
     "name": "stderr",
     "output_type": "stream",
     "text": [
      "/home/workstation/Escritorio/PabloC/TransferLearning/funcionesComunes.py:247: FutureWarning: The behavior of DataFrame concatenation with empty or all-NA entries is deprecated. In a future version, this will no longer exclude empty or all-NA columns when determining the result dtypes. To retain the old behavior, exclude the relevant entries before the concat operation.\n",
      "  predictionsDF = pd.concat([predictionsDF, tempDF], ignore_index=True)\n",
      "/home/workstation/Escritorio/PabloC/TransferLearning/funcionesComunes.py:247: FutureWarning: The behavior of DataFrame concatenation with empty or all-NA entries is deprecated. In a future version, this will no longer exclude empty or all-NA columns when determining the result dtypes. To retain the old behavior, exclude the relevant entries before the concat operation.\n",
      "  predictionsDF = pd.concat([predictionsDF, tempDF], ignore_index=True)\n",
      "/home/workstation/Escritorio/PabloC/TransferLearning/funcionesComunes.py:247: FutureWarning: The behavior of DataFrame concatenation with empty or all-NA entries is deprecated. In a future version, this will no longer exclude empty or all-NA columns when determining the result dtypes. To retain the old behavior, exclude the relevant entries before the concat operation.\n",
      "  predictionsDF = pd.concat([predictionsDF, tempDF], ignore_index=True)\n"
     ]
    },
    {
     "name": "stdout",
     "output_type": "stream",
     "text": [
      "RESULTADOS DE MSE, RMSE, R2, MAPE (Train): 5.178480965126771, 2.2756275980763574, 0.23552525155587745, 55.44527807000665\n",
      "RESULTADOS DE MSE, RMSE, R2, MAPE (Val): 1.4680279865048236, 1.2116220477132396, 0.23550059634090392, 44.223687639998545\n",
      "RESULTADOS DE MSE, RMSE, R2, MAPE (Test): 1.4171709558533248, 1.1904498964061128, 0.45842855468433674, 45.089218593636865\n",
      "Tsuga dumosa Pinus wallichiana\n",
      "(20493, 77)\n",
      "SE HA NORMALIZADO EL ARCHIVO: Tsuga dumosa_merged.csv\n",
      "(11935, 4, 43) (4144, 4, 43) (3469, 4, 43)\n",
      "<Conv1D name=conv1d_6, built=True> False\n",
      "<BatchNormalization name=batch_normalization_6, built=True> False\n",
      "<MaxPooling1D name=max_pooling1d_5, built=True> False\n",
      "<Dropout name=dropout_1, built=True> True\n",
      "<Conv1D name=conv1d_7, built=True> False\n",
      "<BatchNormalization name=batch_normalization_7, built=True> False\n",
      "<MaxPooling1D name=max_pooling1d_6, built=True> False\n",
      "<Conv1D name=conv1d_8, built=True> False\n",
      "<BatchNormalization name=batch_normalization_8, built=True> False\n",
      "<MaxPooling1D name=max_pooling1d_7, built=True> False\n",
      "<Conv1D name=conv1d_9, built=True> False\n",
      "<BatchNormalization name=batch_normalization_9, built=True> False\n",
      "<MaxPooling1D name=max_pooling1d_8, built=True> False\n",
      "<Conv1D name=conv1d_10, built=True> True\n",
      "<BatchNormalization name=batch_normalization_10, built=True> True\n",
      "<GlobalAveragePooling1D name=global_average_pooling1d_1, built=True> True\n",
      "<Dense name=dense_2, built=True> True\n",
      "<Dense name=dense_3, built=True> True\n"
     ]
    },
    {
     "name": "stderr",
     "output_type": "stream",
     "text": [
      "/home/workstation/Escritorio/PabloC/TransferLearning/.venv/lib/python3.10/site-packages/keras/src/saving/saving_lib.py:719: UserWarning: Skipping variable loading for optimizer 'rmsprop', because it has 26 variables whereas the saved optimizer has 2 variables. \n",
      "  saveable.load_own_variables(weights_store.get(inner_path))\n"
     ]
    },
    {
     "name": "stdout",
     "output_type": "stream",
     "text": [
      "[MODELO CONGELADO]: 38.31866264343262\n"
     ]
    },
    {
     "name": "stderr",
     "output_type": "stream",
     "text": [
      "/home/workstation/Escritorio/PabloC/TransferLearning/funcionesComunes.py:247: FutureWarning: The behavior of DataFrame concatenation with empty or all-NA entries is deprecated. In a future version, this will no longer exclude empty or all-NA columns when determining the result dtypes. To retain the old behavior, exclude the relevant entries before the concat operation.\n",
      "  predictionsDF = pd.concat([predictionsDF, tempDF], ignore_index=True)\n",
      "/home/workstation/Escritorio/PabloC/TransferLearning/funcionesComunes.py:247: FutureWarning: The behavior of DataFrame concatenation with empty or all-NA entries is deprecated. In a future version, this will no longer exclude empty or all-NA columns when determining the result dtypes. To retain the old behavior, exclude the relevant entries before the concat operation.\n",
      "  predictionsDF = pd.concat([predictionsDF, tempDF], ignore_index=True)\n",
      "/home/workstation/Escritorio/PabloC/TransferLearning/funcionesComunes.py:247: FutureWarning: The behavior of DataFrame concatenation with empty or all-NA entries is deprecated. In a future version, this will no longer exclude empty or all-NA columns when determining the result dtypes. To retain the old behavior, exclude the relevant entries before the concat operation.\n",
      "  predictionsDF = pd.concat([predictionsDF, tempDF], ignore_index=True)\n"
     ]
    },
    {
     "name": "stdout",
     "output_type": "stream",
     "text": [
      "RESULTADOS DE MSE, RMSE, R2, MAPE (Train): 227.35228890817314, 15.078205758914857, 0.41620682784770013, 42.16072721697659\n",
      "RESULTADOS DE MSE, RMSE, R2, MAPE (Val): 185.63488573904053, 13.62478938329105, 0.41091477118931896, 38.72787729730204\n",
      "RESULTADOS DE MSE, RMSE, R2, MAPE (Test): 347.1314401422619, 18.63146371443376, 0.43339095549251705, 43.267001069851396\n",
      "Cedrus deodara Pinus wallichiana\n",
      "(37273, 77)\n",
      "SE HA NORMALIZADO EL ARCHIVO: Cedrus deodara_merged.csv\n",
      "(22017, 4, 43) (7410, 4, 43) (6282, 4, 43)\n",
      "<Conv1D name=conv1d_6, built=True> False\n",
      "<BatchNormalization name=batch_normalization_6, built=True> False\n",
      "<MaxPooling1D name=max_pooling1d_5, built=True> False\n",
      "<Dropout name=dropout_1, built=True> True\n",
      "<Conv1D name=conv1d_7, built=True> False\n",
      "<BatchNormalization name=batch_normalization_7, built=True> False\n",
      "<MaxPooling1D name=max_pooling1d_6, built=True> False\n",
      "<Conv1D name=conv1d_8, built=True> False\n",
      "<BatchNormalization name=batch_normalization_8, built=True> False\n",
      "<MaxPooling1D name=max_pooling1d_7, built=True> False\n",
      "<Conv1D name=conv1d_9, built=True> False\n",
      "<BatchNormalization name=batch_normalization_9, built=True> False\n",
      "<MaxPooling1D name=max_pooling1d_8, built=True> False\n",
      "<Conv1D name=conv1d_10, built=True> True\n",
      "<BatchNormalization name=batch_normalization_10, built=True> True\n",
      "<GlobalAveragePooling1D name=global_average_pooling1d_1, built=True> True\n",
      "<Dense name=dense_2, built=True> True\n",
      "<Dense name=dense_3, built=True> True\n"
     ]
    },
    {
     "name": "stderr",
     "output_type": "stream",
     "text": [
      "/home/workstation/Escritorio/PabloC/TransferLearning/.venv/lib/python3.10/site-packages/keras/src/saving/saving_lib.py:719: UserWarning: Skipping variable loading for optimizer 'rmsprop', because it has 26 variables whereas the saved optimizer has 2 variables. \n",
      "  saveable.load_own_variables(weights_store.get(inner_path))\n"
     ]
    },
    {
     "name": "stdout",
     "output_type": "stream",
     "text": [
      "[MODELO CONGELADO]: 58.15120267868042\n"
     ]
    },
    {
     "name": "stderr",
     "output_type": "stream",
     "text": [
      "/home/workstation/Escritorio/PabloC/TransferLearning/funcionesComunes.py:247: FutureWarning: The behavior of DataFrame concatenation with empty or all-NA entries is deprecated. In a future version, this will no longer exclude empty or all-NA columns when determining the result dtypes. To retain the old behavior, exclude the relevant entries before the concat operation.\n",
      "  predictionsDF = pd.concat([predictionsDF, tempDF], ignore_index=True)\n",
      "/home/workstation/Escritorio/PabloC/TransferLearning/funcionesComunes.py:247: FutureWarning: The behavior of DataFrame concatenation with empty or all-NA entries is deprecated. In a future version, this will no longer exclude empty or all-NA columns when determining the result dtypes. To retain the old behavior, exclude the relevant entries before the concat operation.\n",
      "  predictionsDF = pd.concat([predictionsDF, tempDF], ignore_index=True)\n",
      "/home/workstation/Escritorio/PabloC/TransferLearning/funcionesComunes.py:247: FutureWarning: The behavior of DataFrame concatenation with empty or all-NA entries is deprecated. In a future version, this will no longer exclude empty or all-NA columns when determining the result dtypes. To retain the old behavior, exclude the relevant entries before the concat operation.\n",
      "  predictionsDF = pd.concat([predictionsDF, tempDF], ignore_index=True)\n"
     ]
    },
    {
     "name": "stdout",
     "output_type": "stream",
     "text": [
      "RESULTADOS DE MSE, RMSE, R2, MAPE (Train): 175.8087858057975, 13.259290546850442, 0.588395004219283, 36.051529876473545\n",
      "RESULTADOS DE MSE, RMSE, R2, MAPE (Val): 215.90429165174743, 14.693682031803581, 0.5160618032108089, 37.79462989617064\n",
      "RESULTADOS DE MSE, RMSE, R2, MAPE (Test): 168.3835235029774, 12.976267703117772, 0.5222185520631484, 36.91126287149216\n",
      "Juniperus spp. L. Pinus wallichiana\n",
      "(7264, 77)\n",
      "SE HA NORMALIZADO EL ARCHIVO: Juniperus spp. L._merged.csv\n",
      "(4216, 4, 43) (1524, 4, 43) (1188, 4, 43)\n",
      "<Conv1D name=conv1d_6, built=True> False\n",
      "<BatchNormalization name=batch_normalization_6, built=True> False\n",
      "<MaxPooling1D name=max_pooling1d_5, built=True> False\n",
      "<Dropout name=dropout_1, built=True> True\n",
      "<Conv1D name=conv1d_7, built=True> False\n",
      "<BatchNormalization name=batch_normalization_7, built=True> False\n",
      "<MaxPooling1D name=max_pooling1d_6, built=True> False\n",
      "<Conv1D name=conv1d_8, built=True> False\n",
      "<BatchNormalization name=batch_normalization_8, built=True> False\n",
      "<MaxPooling1D name=max_pooling1d_7, built=True> False\n",
      "<Conv1D name=conv1d_9, built=True> False\n",
      "<BatchNormalization name=batch_normalization_9, built=True> False\n",
      "<MaxPooling1D name=max_pooling1d_8, built=True> False\n",
      "<Conv1D name=conv1d_10, built=True> True\n",
      "<BatchNormalization name=batch_normalization_10, built=True> True\n",
      "<GlobalAveragePooling1D name=global_average_pooling1d_1, built=True> True\n",
      "<Dense name=dense_2, built=True> True\n",
      "<Dense name=dense_3, built=True> True\n"
     ]
    },
    {
     "name": "stderr",
     "output_type": "stream",
     "text": [
      "/home/workstation/Escritorio/PabloC/TransferLearning/.venv/lib/python3.10/site-packages/keras/src/saving/saving_lib.py:719: UserWarning: Skipping variable loading for optimizer 'rmsprop', because it has 26 variables whereas the saved optimizer has 2 variables. \n",
      "  saveable.load_own_variables(weights_store.get(inner_path))\n"
     ]
    },
    {
     "name": "stdout",
     "output_type": "stream",
     "text": [
      "[MODELO CONGELADO]: 5.823963403701782\n"
     ]
    },
    {
     "name": "stderr",
     "output_type": "stream",
     "text": [
      "/home/workstation/Escritorio/PabloC/TransferLearning/funcionesComunes.py:247: FutureWarning: The behavior of DataFrame concatenation with empty or all-NA entries is deprecated. In a future version, this will no longer exclude empty or all-NA columns when determining the result dtypes. To retain the old behavior, exclude the relevant entries before the concat operation.\n",
      "  predictionsDF = pd.concat([predictionsDF, tempDF], ignore_index=True)\n",
      "/home/workstation/Escritorio/PabloC/TransferLearning/funcionesComunes.py:247: FutureWarning: The behavior of DataFrame concatenation with empty or all-NA entries is deprecated. In a future version, this will no longer exclude empty or all-NA columns when determining the result dtypes. To retain the old behavior, exclude the relevant entries before the concat operation.\n",
      "  predictionsDF = pd.concat([predictionsDF, tempDF], ignore_index=True)\n",
      "/home/workstation/Escritorio/PabloC/TransferLearning/funcionesComunes.py:247: FutureWarning: The behavior of DataFrame concatenation with empty or all-NA entries is deprecated. In a future version, this will no longer exclude empty or all-NA columns when determining the result dtypes. To retain the old behavior, exclude the relevant entries before the concat operation.\n",
      "  predictionsDF = pd.concat([predictionsDF, tempDF], ignore_index=True)\n"
     ]
    },
    {
     "name": "stdout",
     "output_type": "stream",
     "text": [
      "RESULTADOS DE MSE, RMSE, R2, MAPE (Train): 2.577298442601851, 1.6053966620750932, 0.7943751621833436, 28.919218251261793\n",
      "RESULTADOS DE MSE, RMSE, R2, MAPE (Val): 0.9065824120872484, 0.9521462136075785, 0.5977281983811883, 31.27000628159348\n",
      "RESULTADOS DE MSE, RMSE, R2, MAPE (Test): 7.024174980489294, 2.650316015212015, 0.6294706443603371, 36.75811095421909\n",
      "Juniperus recurva Pinus wallichiana\n",
      "(5316, 77)\n",
      "SE HA NORMALIZADO EL ARCHIVO: Juniperus recurva_merged.csv\n",
      "(3188, 4, 43) (1082, 4, 43) (810, 4, 43)\n",
      "<Conv1D name=conv1d_6, built=True> False\n",
      "<BatchNormalization name=batch_normalization_6, built=True> False\n",
      "<MaxPooling1D name=max_pooling1d_5, built=True> False\n",
      "<Dropout name=dropout_1, built=True> True\n",
      "<Conv1D name=conv1d_7, built=True> False\n",
      "<BatchNormalization name=batch_normalization_7, built=True> False\n",
      "<MaxPooling1D name=max_pooling1d_6, built=True> False\n",
      "<Conv1D name=conv1d_8, built=True> False\n",
      "<BatchNormalization name=batch_normalization_8, built=True> False\n",
      "<MaxPooling1D name=max_pooling1d_7, built=True> False\n",
      "<Conv1D name=conv1d_9, built=True> False\n",
      "<BatchNormalization name=batch_normalization_9, built=True> False\n",
      "<MaxPooling1D name=max_pooling1d_8, built=True> False\n",
      "<Conv1D name=conv1d_10, built=True> True\n",
      "<BatchNormalization name=batch_normalization_10, built=True> True\n",
      "<GlobalAveragePooling1D name=global_average_pooling1d_1, built=True> True\n",
      "<Dense name=dense_2, built=True> True\n",
      "<Dense name=dense_3, built=True> True\n"
     ]
    },
    {
     "name": "stderr",
     "output_type": "stream",
     "text": [
      "/home/workstation/Escritorio/PabloC/TransferLearning/.venv/lib/python3.10/site-packages/keras/src/saving/saving_lib.py:719: UserWarning: Skipping variable loading for optimizer 'rmsprop', because it has 26 variables whereas the saved optimizer has 2 variables. \n",
      "  saveable.load_own_variables(weights_store.get(inner_path))\n"
     ]
    },
    {
     "name": "stdout",
     "output_type": "stream",
     "text": [
      "[MODELO CONGELADO]: 7.6086835861206055\n"
     ]
    },
    {
     "name": "stderr",
     "output_type": "stream",
     "text": [
      "/home/workstation/Escritorio/PabloC/TransferLearning/funcionesComunes.py:247: FutureWarning: The behavior of DataFrame concatenation with empty or all-NA entries is deprecated. In a future version, this will no longer exclude empty or all-NA columns when determining the result dtypes. To retain the old behavior, exclude the relevant entries before the concat operation.\n",
      "  predictionsDF = pd.concat([predictionsDF, tempDF], ignore_index=True)\n",
      "/home/workstation/Escritorio/PabloC/TransferLearning/funcionesComunes.py:247: FutureWarning: The behavior of DataFrame concatenation with empty or all-NA entries is deprecated. In a future version, this will no longer exclude empty or all-NA columns when determining the result dtypes. To retain the old behavior, exclude the relevant entries before the concat operation.\n",
      "  predictionsDF = pd.concat([predictionsDF, tempDF], ignore_index=True)\n",
      "/home/workstation/Escritorio/PabloC/TransferLearning/funcionesComunes.py:247: FutureWarning: The behavior of DataFrame concatenation with empty or all-NA entries is deprecated. In a future version, this will no longer exclude empty or all-NA columns when determining the result dtypes. To retain the old behavior, exclude the relevant entries before the concat operation.\n",
      "  predictionsDF = pd.concat([predictionsDF, tempDF], ignore_index=True)\n"
     ]
    },
    {
     "name": "stdout",
     "output_type": "stream",
     "text": [
      "RESULTADOS DE MSE, RMSE, R2, MAPE (Train): 9.196596691268459, 3.032589106896689, 0.63456125304918, 34.578402076785146\n",
      "RESULTADOS DE MSE, RMSE, R2, MAPE (Val): 7.559325848530606, 2.7494228209809064, 0.7255101709984837, 29.83061020861798\n",
      "RESULTADOS DE MSE, RMSE, R2, MAPE (Test): 2.6702146111823395, 1.6340791324725799, 0.7161234792901234, 25.629751522524515\n",
      "totalMerged.csv Pinus wallichiana\n",
      "Juniperus spp.  Pinus wallichiana\n",
      "(17976, 77)\n",
      "SE HA NORMALIZADO EL ARCHIVO: Juniperus spp. _merged.csv\n",
      "(10218, 4, 43) (3900, 4, 43) (3018, 4, 43)\n",
      "<Conv1D name=conv1d_6, built=True> False\n",
      "<BatchNormalization name=batch_normalization_6, built=True> False\n",
      "<MaxPooling1D name=max_pooling1d_5, built=True> False\n",
      "<Dropout name=dropout_1, built=True> True\n",
      "<Conv1D name=conv1d_7, built=True> False\n",
      "<BatchNormalization name=batch_normalization_7, built=True> False\n",
      "<MaxPooling1D name=max_pooling1d_6, built=True> False\n",
      "<Conv1D name=conv1d_8, built=True> False\n",
      "<BatchNormalization name=batch_normalization_8, built=True> False\n",
      "<MaxPooling1D name=max_pooling1d_7, built=True> False\n",
      "<Conv1D name=conv1d_9, built=True> False\n",
      "<BatchNormalization name=batch_normalization_9, built=True> False\n",
      "<MaxPooling1D name=max_pooling1d_8, built=True> False\n",
      "<Conv1D name=conv1d_10, built=True> True\n",
      "<BatchNormalization name=batch_normalization_10, built=True> True\n",
      "<GlobalAveragePooling1D name=global_average_pooling1d_1, built=True> True\n",
      "<Dense name=dense_2, built=True> True\n",
      "<Dense name=dense_3, built=True> True\n"
     ]
    },
    {
     "name": "stderr",
     "output_type": "stream",
     "text": [
      "/home/workstation/Escritorio/PabloC/TransferLearning/.venv/lib/python3.10/site-packages/keras/src/saving/saving_lib.py:719: UserWarning: Skipping variable loading for optimizer 'rmsprop', because it has 26 variables whereas the saved optimizer has 2 variables. \n",
      "  saveable.load_own_variables(weights_store.get(inner_path))\n"
     ]
    },
    {
     "name": "stdout",
     "output_type": "stream",
     "text": [
      "[MODELO CONGELADO]: 38.47907757759094\n"
     ]
    },
    {
     "name": "stderr",
     "output_type": "stream",
     "text": [
      "/home/workstation/Escritorio/PabloC/TransferLearning/funcionesComunes.py:247: FutureWarning: The behavior of DataFrame concatenation with empty or all-NA entries is deprecated. In a future version, this will no longer exclude empty or all-NA columns when determining the result dtypes. To retain the old behavior, exclude the relevant entries before the concat operation.\n",
      "  predictionsDF = pd.concat([predictionsDF, tempDF], ignore_index=True)\n",
      "/home/workstation/Escritorio/PabloC/TransferLearning/funcionesComunes.py:247: FutureWarning: The behavior of DataFrame concatenation with empty or all-NA entries is deprecated. In a future version, this will no longer exclude empty or all-NA columns when determining the result dtypes. To retain the old behavior, exclude the relevant entries before the concat operation.\n",
      "  predictionsDF = pd.concat([predictionsDF, tempDF], ignore_index=True)\n",
      "/home/workstation/Escritorio/PabloC/TransferLearning/funcionesComunes.py:247: FutureWarning: The behavior of DataFrame concatenation with empty or all-NA entries is deprecated. In a future version, this will no longer exclude empty or all-NA columns when determining the result dtypes. To retain the old behavior, exclude the relevant entries before the concat operation.\n",
      "  predictionsDF = pd.concat([predictionsDF, tempDF], ignore_index=True)\n"
     ]
    },
    {
     "name": "stdout",
     "output_type": "stream",
     "text": [
      "RESULTADOS DE MSE, RMSE, R2, MAPE (Train): 9.747822385514091, 3.1221502823397356, 0.8410196956789404, 25.244425858589935\n",
      "RESULTADOS DE MSE, RMSE, R2, MAPE (Val): 4.1219117606586515, 2.030249186838564, 0.7904759610205638, 28.504053935297513\n",
      "RESULTADOS DE MSE, RMSE, R2, MAPE (Test): 14.59563022383719, 3.820422780771415, 0.8603239822356575, 26.650669638303736\n",
      "Procesando el modelo: model_Cedrus deodara.keras\n",
      "Abies spectabilis Cedrus deodara\n",
      "(96429, 77)\n",
      "SE HA NORMALIZADO EL ARCHIVO: Abies spectabilis_merged.csv\n",
      "(56618, 4, 43) (19637, 4, 43) (15689, 4, 43)\n",
      "<Conv1D name=conv1d_5, built=True> False\n",
      "<BatchNormalization name=batch_normalization_5, built=True> False\n",
      "<MaxPooling1D name=max_pooling1d_4, built=True> False\n",
      "<Conv1D name=conv1d_6, built=True> False\n",
      "<BatchNormalization name=batch_normalization_6, built=True> False\n",
      "<MaxPooling1D name=max_pooling1d_5, built=True> False\n",
      "<Dropout name=dropout_1, built=True> True\n",
      "<Conv1D name=conv1d_7, built=True> False\n",
      "<BatchNormalization name=batch_normalization_7, built=True> False\n",
      "<MaxPooling1D name=max_pooling1d_6, built=True> False\n",
      "<Conv1D name=conv1d_8, built=True> False\n",
      "<BatchNormalization name=batch_normalization_8, built=True> False\n",
      "<MaxPooling1D name=max_pooling1d_7, built=True> False\n",
      "<Conv1D name=conv1d_9, built=True> False\n",
      "<BatchNormalization name=batch_normalization_9, built=True> False\n",
      "<MaxPooling1D name=max_pooling1d_8, built=True> False\n",
      "<Conv1D name=conv1d_10, built=True> True\n",
      "<BatchNormalization name=batch_normalization_10, built=True> True\n",
      "<GlobalAveragePooling1D name=global_average_pooling1d_1, built=True> True\n",
      "<Dense name=dense_2, built=True> True\n",
      "<Dense name=dense_3, built=True> True\n"
     ]
    },
    {
     "name": "stderr",
     "output_type": "stream",
     "text": [
      "/home/workstation/Escritorio/PabloC/TransferLearning/.venv/lib/python3.10/site-packages/keras/src/saving/saving_lib.py:719: UserWarning: Skipping variable loading for optimizer 'adam', because it has 58 variables whereas the saved optimizer has 2 variables. \n",
      "  saveable.load_own_variables(weights_store.get(inner_path))\n"
     ]
    },
    {
     "name": "stdout",
     "output_type": "stream",
     "text": [
      "[MODELO CONGELADO]: 294.3454501628876\n"
     ]
    },
    {
     "name": "stderr",
     "output_type": "stream",
     "text": [
      "/home/workstation/Escritorio/PabloC/TransferLearning/funcionesComunes.py:247: FutureWarning: The behavior of DataFrame concatenation with empty or all-NA entries is deprecated. In a future version, this will no longer exclude empty or all-NA columns when determining the result dtypes. To retain the old behavior, exclude the relevant entries before the concat operation.\n",
      "  predictionsDF = pd.concat([predictionsDF, tempDF], ignore_index=True)\n",
      "/home/workstation/Escritorio/PabloC/TransferLearning/funcionesComunes.py:247: FutureWarning: The behavior of DataFrame concatenation with empty or all-NA entries is deprecated. In a future version, this will no longer exclude empty or all-NA columns when determining the result dtypes. To retain the old behavior, exclude the relevant entries before the concat operation.\n",
      "  predictionsDF = pd.concat([predictionsDF, tempDF], ignore_index=True)\n",
      "/home/workstation/Escritorio/PabloC/TransferLearning/funcionesComunes.py:247: FutureWarning: The behavior of DataFrame concatenation with empty or all-NA entries is deprecated. In a future version, this will no longer exclude empty or all-NA columns when determining the result dtypes. To retain the old behavior, exclude the relevant entries before the concat operation.\n",
      "  predictionsDF = pd.concat([predictionsDF, tempDF], ignore_index=True)\n"
     ]
    },
    {
     "name": "stdout",
     "output_type": "stream",
     "text": [
      "RESULTADOS DE MSE, RMSE, R2, MAPE (Train): 26.44232003063495, 5.142209644757295, 0.7680094369460151, 25.541868481741382\n",
      "RESULTADOS DE MSE, RMSE, R2, MAPE (Val): 27.91487584098071, 5.283453022501545, 0.7456495575431891, 26.70657645139225\n",
      "RESULTADOS DE MSE, RMSE, R2, MAPE (Test): 29.813715236995016, 5.460193699585667, 0.7788938573987271, 26.131035429650662\n",
      "Picea smithiana Cedrus deodara\n",
      "(34476, 77)\n",
      "SE HA NORMALIZADO EL ARCHIVO: Picea smithiana_merged.csv\n",
      "(19933, 4, 43) (7272, 4, 43) (5863, 4, 43)\n",
      "<Conv1D name=conv1d_5, built=True> False\n",
      "<BatchNormalization name=batch_normalization_5, built=True> False\n",
      "<MaxPooling1D name=max_pooling1d_4, built=True> False\n",
      "<Conv1D name=conv1d_6, built=True> False\n",
      "<BatchNormalization name=batch_normalization_6, built=True> False\n",
      "<MaxPooling1D name=max_pooling1d_5, built=True> False\n",
      "<Dropout name=dropout_1, built=True> True\n",
      "<Conv1D name=conv1d_7, built=True> False\n",
      "<BatchNormalization name=batch_normalization_7, built=True> False\n",
      "<MaxPooling1D name=max_pooling1d_6, built=True> False\n",
      "<Conv1D name=conv1d_8, built=True> False\n",
      "<BatchNormalization name=batch_normalization_8, built=True> False\n",
      "<MaxPooling1D name=max_pooling1d_7, built=True> False\n",
      "<Conv1D name=conv1d_9, built=True> False\n",
      "<BatchNormalization name=batch_normalization_9, built=True> False\n",
      "<MaxPooling1D name=max_pooling1d_8, built=True> False\n",
      "<Conv1D name=conv1d_10, built=True> True\n",
      "<BatchNormalization name=batch_normalization_10, built=True> True\n",
      "<GlobalAveragePooling1D name=global_average_pooling1d_1, built=True> True\n",
      "<Dense name=dense_2, built=True> True\n",
      "<Dense name=dense_3, built=True> True\n"
     ]
    },
    {
     "name": "stderr",
     "output_type": "stream",
     "text": [
      "/home/workstation/Escritorio/PabloC/TransferLearning/.venv/lib/python3.10/site-packages/keras/src/saving/saving_lib.py:719: UserWarning: Skipping variable loading for optimizer 'adam', because it has 58 variables whereas the saved optimizer has 2 variables. \n",
      "  saveable.load_own_variables(weights_store.get(inner_path))\n"
     ]
    },
    {
     "name": "stdout",
     "output_type": "stream",
     "text": [
      "[MODELO CONGELADO]: 162.1351773738861\n"
     ]
    },
    {
     "name": "stderr",
     "output_type": "stream",
     "text": [
      "/home/workstation/Escritorio/PabloC/TransferLearning/funcionesComunes.py:247: FutureWarning: The behavior of DataFrame concatenation with empty or all-NA entries is deprecated. In a future version, this will no longer exclude empty or all-NA columns when determining the result dtypes. To retain the old behavior, exclude the relevant entries before the concat operation.\n",
      "  predictionsDF = pd.concat([predictionsDF, tempDF], ignore_index=True)\n",
      "/home/workstation/Escritorio/PabloC/TransferLearning/funcionesComunes.py:247: FutureWarning: The behavior of DataFrame concatenation with empty or all-NA entries is deprecated. In a future version, this will no longer exclude empty or all-NA columns when determining the result dtypes. To retain the old behavior, exclude the relevant entries before the concat operation.\n",
      "  predictionsDF = pd.concat([predictionsDF, tempDF], ignore_index=True)\n",
      "/home/workstation/Escritorio/PabloC/TransferLearning/funcionesComunes.py:247: FutureWarning: The behavior of DataFrame concatenation with empty or all-NA entries is deprecated. In a future version, this will no longer exclude empty or all-NA columns when determining the result dtypes. To retain the old behavior, exclude the relevant entries before the concat operation.\n",
      "  predictionsDF = pd.concat([predictionsDF, tempDF], ignore_index=True)\n"
     ]
    },
    {
     "name": "stdout",
     "output_type": "stream",
     "text": [
      "RESULTADOS DE MSE, RMSE, R2, MAPE (Train): 60.22664898173727, 7.760583031044592, 0.8235013638751381, 21.988802682228016\n",
      "RESULTADOS DE MSE, RMSE, R2, MAPE (Val): 68.6945021336582, 8.28821465296708, 0.8017658931128695, 23.091815509154966\n",
      "RESULTADOS DE MSE, RMSE, R2, MAPE (Test): 59.923682480515374, 7.741038850213541, 0.7976402964575875, 24.197900719755527\n",
      "Abies pindrow Cedrus deodara\n",
      "(16018, 77)\n",
      "SE HA NORMALIZADO EL ARCHIVO: Abies pindrow_merged.csv\n",
      "(9042, 4, 43) (3441, 4, 43) (2815, 4, 43)\n",
      "<Conv1D name=conv1d_5, built=True> False\n",
      "<BatchNormalization name=batch_normalization_5, built=True> False\n",
      "<MaxPooling1D name=max_pooling1d_4, built=True> False\n",
      "<Conv1D name=conv1d_6, built=True> False\n",
      "<BatchNormalization name=batch_normalization_6, built=True> False\n",
      "<MaxPooling1D name=max_pooling1d_5, built=True> False\n",
      "<Dropout name=dropout_1, built=True> True\n",
      "<Conv1D name=conv1d_7, built=True> False\n",
      "<BatchNormalization name=batch_normalization_7, built=True> False\n",
      "<MaxPooling1D name=max_pooling1d_6, built=True> False\n",
      "<Conv1D name=conv1d_8, built=True> False\n",
      "<BatchNormalization name=batch_normalization_8, built=True> False\n",
      "<MaxPooling1D name=max_pooling1d_7, built=True> False\n",
      "<Conv1D name=conv1d_9, built=True> False\n",
      "<BatchNormalization name=batch_normalization_9, built=True> False\n",
      "<MaxPooling1D name=max_pooling1d_8, built=True> False\n",
      "<Conv1D name=conv1d_10, built=True> True\n",
      "<BatchNormalization name=batch_normalization_10, built=True> True\n",
      "<GlobalAveragePooling1D name=global_average_pooling1d_1, built=True> True\n",
      "<Dense name=dense_2, built=True> True\n",
      "<Dense name=dense_3, built=True> True\n"
     ]
    },
    {
     "name": "stderr",
     "output_type": "stream",
     "text": [
      "/home/workstation/Escritorio/PabloC/TransferLearning/.venv/lib/python3.10/site-packages/keras/src/saving/saving_lib.py:719: UserWarning: Skipping variable loading for optimizer 'adam', because it has 58 variables whereas the saved optimizer has 2 variables. \n",
      "  saveable.load_own_variables(weights_store.get(inner_path))\n"
     ]
    },
    {
     "name": "stdout",
     "output_type": "stream",
     "text": [
      "[MODELO CONGELADO]: 64.87665915489197\n"
     ]
    },
    {
     "name": "stderr",
     "output_type": "stream",
     "text": [
      "/home/workstation/Escritorio/PabloC/TransferLearning/funcionesComunes.py:247: FutureWarning: The behavior of DataFrame concatenation with empty or all-NA entries is deprecated. In a future version, this will no longer exclude empty or all-NA columns when determining the result dtypes. To retain the old behavior, exclude the relevant entries before the concat operation.\n",
      "  predictionsDF = pd.concat([predictionsDF, tempDF], ignore_index=True)\n",
      "/home/workstation/Escritorio/PabloC/TransferLearning/funcionesComunes.py:247: FutureWarning: The behavior of DataFrame concatenation with empty or all-NA entries is deprecated. In a future version, this will no longer exclude empty or all-NA columns when determining the result dtypes. To retain the old behavior, exclude the relevant entries before the concat operation.\n",
      "  predictionsDF = pd.concat([predictionsDF, tempDF], ignore_index=True)\n",
      "/home/workstation/Escritorio/PabloC/TransferLearning/funcionesComunes.py:247: FutureWarning: The behavior of DataFrame concatenation with empty or all-NA entries is deprecated. In a future version, this will no longer exclude empty or all-NA columns when determining the result dtypes. To retain the old behavior, exclude the relevant entries before the concat operation.\n",
      "  predictionsDF = pd.concat([predictionsDF, tempDF], ignore_index=True)\n"
     ]
    },
    {
     "name": "stdout",
     "output_type": "stream",
     "text": [
      "RESULTADOS DE MSE, RMSE, R2, MAPE (Train): 57.958631453674684, 7.613056643272444, 0.7512230372001891, 23.246701560466732\n",
      "RESULTADOS DE MSE, RMSE, R2, MAPE (Val): 51.154495456963254, 7.152237094571408, 0.708189784485091, 22.24980698276653\n",
      "RESULTADOS DE MSE, RMSE, R2, MAPE (Test): 56.517463575017004, 7.517809759166362, 0.6004375028396953, 23.095224140992894\n",
      "Juniperus excelsa M.-Bieb Cedrus deodara\n",
      "(7449, 77)\n",
      "SE HA NORMALIZADO EL ARCHIVO: Juniperus excelsa M.-Bieb_merged.csv\n",
      "(4189, 4, 43) (1707, 4, 43) (1228, 4, 43)\n",
      "<Conv1D name=conv1d_5, built=True> False\n",
      "<BatchNormalization name=batch_normalization_5, built=True> False\n",
      "<MaxPooling1D name=max_pooling1d_4, built=True> False\n",
      "<Conv1D name=conv1d_6, built=True> False\n",
      "<BatchNormalization name=batch_normalization_6, built=True> False\n",
      "<MaxPooling1D name=max_pooling1d_5, built=True> False\n",
      "<Dropout name=dropout_1, built=True> True\n",
      "<Conv1D name=conv1d_7, built=True> False\n",
      "<BatchNormalization name=batch_normalization_7, built=True> False\n",
      "<MaxPooling1D name=max_pooling1d_6, built=True> False\n",
      "<Conv1D name=conv1d_8, built=True> False\n",
      "<BatchNormalization name=batch_normalization_8, built=True> False\n",
      "<MaxPooling1D name=max_pooling1d_7, built=True> False\n",
      "<Conv1D name=conv1d_9, built=True> False\n",
      "<BatchNormalization name=batch_normalization_9, built=True> False\n",
      "<MaxPooling1D name=max_pooling1d_8, built=True> False\n",
      "<Conv1D name=conv1d_10, built=True> True\n",
      "<BatchNormalization name=batch_normalization_10, built=True> True\n",
      "<GlobalAveragePooling1D name=global_average_pooling1d_1, built=True> True\n",
      "<Dense name=dense_2, built=True> True\n",
      "<Dense name=dense_3, built=True> True\n"
     ]
    },
    {
     "name": "stderr",
     "output_type": "stream",
     "text": [
      "/home/workstation/Escritorio/PabloC/TransferLearning/.venv/lib/python3.10/site-packages/keras/src/saving/saving_lib.py:719: UserWarning: Skipping variable loading for optimizer 'adam', because it has 58 variables whereas the saved optimizer has 2 variables. \n",
      "  saveable.load_own_variables(weights_store.get(inner_path))\n"
     ]
    },
    {
     "name": "stdout",
     "output_type": "stream",
     "text": [
      "[MODELO CONGELADO]: 20.03815770149231\n"
     ]
    },
    {
     "name": "stderr",
     "output_type": "stream",
     "text": [
      "/home/workstation/Escritorio/PabloC/TransferLearning/funcionesComunes.py:247: FutureWarning: The behavior of DataFrame concatenation with empty or all-NA entries is deprecated. In a future version, this will no longer exclude empty or all-NA columns when determining the result dtypes. To retain the old behavior, exclude the relevant entries before the concat operation.\n",
      "  predictionsDF = pd.concat([predictionsDF, tempDF], ignore_index=True)\n",
      "/home/workstation/Escritorio/PabloC/TransferLearning/funcionesComunes.py:247: FutureWarning: The behavior of DataFrame concatenation with empty or all-NA entries is deprecated. In a future version, this will no longer exclude empty or all-NA columns when determining the result dtypes. To retain the old behavior, exclude the relevant entries before the concat operation.\n",
      "  predictionsDF = pd.concat([predictionsDF, tempDF], ignore_index=True)\n",
      "/home/workstation/Escritorio/PabloC/TransferLearning/funcionesComunes.py:247: FutureWarning: The behavior of DataFrame concatenation with empty or all-NA entries is deprecated. In a future version, this will no longer exclude empty or all-NA columns when determining the result dtypes. To retain the old behavior, exclude the relevant entries before the concat operation.\n",
      "  predictionsDF = pd.concat([predictionsDF, tempDF], ignore_index=True)\n"
     ]
    },
    {
     "name": "stdout",
     "output_type": "stream",
     "text": [
      "RESULTADOS DE MSE, RMSE, R2, MAPE (Train): 6.0313427513688875, 2.4558792216574674, 0.7548379636251021, 24.535176339638312\n",
      "RESULTADOS DE MSE, RMSE, R2, MAPE (Val): 4.894711131263864, 2.212399405908405, 0.8133340892798353, 24.583938582819613\n",
      "RESULTADOS DE MSE, RMSE, R2, MAPE (Test): 13.15742226225144, 3.627316123837491, 0.804930281244194, 25.19848407818561\n",
      "Juniperus turkestanica Komar. Cedrus deodara\n",
      "(6305, 77)\n",
      "SE HA NORMALIZADO EL ARCHIVO: Juniperus turkestanica Komar._merged.csv\n",
      "(3664, 4, 43) (1368, 4, 43) (1001, 4, 43)\n",
      "<Conv1D name=conv1d_5, built=True> False\n",
      "<BatchNormalization name=batch_normalization_5, built=True> False\n",
      "<MaxPooling1D name=max_pooling1d_4, built=True> False\n",
      "<Conv1D name=conv1d_6, built=True> False\n",
      "<BatchNormalization name=batch_normalization_6, built=True> False\n",
      "<MaxPooling1D name=max_pooling1d_5, built=True> False\n",
      "<Dropout name=dropout_1, built=True> True\n",
      "<Conv1D name=conv1d_7, built=True> False\n",
      "<BatchNormalization name=batch_normalization_7, built=True> False\n",
      "<MaxPooling1D name=max_pooling1d_6, built=True> False\n",
      "<Conv1D name=conv1d_8, built=True> False\n",
      "<BatchNormalization name=batch_normalization_8, built=True> False\n",
      "<MaxPooling1D name=max_pooling1d_7, built=True> False\n",
      "<Conv1D name=conv1d_9, built=True> False\n",
      "<BatchNormalization name=batch_normalization_9, built=True> False\n",
      "<MaxPooling1D name=max_pooling1d_8, built=True> False\n",
      "<Conv1D name=conv1d_10, built=True> True\n",
      "<BatchNormalization name=batch_normalization_10, built=True> True\n",
      "<GlobalAveragePooling1D name=global_average_pooling1d_1, built=True> True\n",
      "<Dense name=dense_2, built=True> True\n",
      "<Dense name=dense_3, built=True> True\n"
     ]
    },
    {
     "name": "stderr",
     "output_type": "stream",
     "text": [
      "/home/workstation/Escritorio/PabloC/TransferLearning/.venv/lib/python3.10/site-packages/keras/src/saving/saving_lib.py:719: UserWarning: Skipping variable loading for optimizer 'adam', because it has 58 variables whereas the saved optimizer has 2 variables. \n",
      "  saveable.load_own_variables(weights_store.get(inner_path))\n"
     ]
    },
    {
     "name": "stdout",
     "output_type": "stream",
     "text": [
      "[MODELO CONGELADO]: 14.735535144805908\n"
     ]
    },
    {
     "name": "stderr",
     "output_type": "stream",
     "text": [
      "/home/workstation/Escritorio/PabloC/TransferLearning/funcionesComunes.py:247: FutureWarning: The behavior of DataFrame concatenation with empty or all-NA entries is deprecated. In a future version, this will no longer exclude empty or all-NA columns when determining the result dtypes. To retain the old behavior, exclude the relevant entries before the concat operation.\n",
      "  predictionsDF = pd.concat([predictionsDF, tempDF], ignore_index=True)\n",
      "/home/workstation/Escritorio/PabloC/TransferLearning/funcionesComunes.py:247: FutureWarning: The behavior of DataFrame concatenation with empty or all-NA entries is deprecated. In a future version, this will no longer exclude empty or all-NA columns when determining the result dtypes. To retain the old behavior, exclude the relevant entries before the concat operation.\n",
      "  predictionsDF = pd.concat([predictionsDF, tempDF], ignore_index=True)\n",
      "/home/workstation/Escritorio/PabloC/TransferLearning/funcionesComunes.py:247: FutureWarning: The behavior of DataFrame concatenation with empty or all-NA entries is deprecated. In a future version, this will no longer exclude empty or all-NA columns when determining the result dtypes. To retain the old behavior, exclude the relevant entries before the concat operation.\n",
      "  predictionsDF = pd.concat([predictionsDF, tempDF], ignore_index=True)\n"
     ]
    },
    {
     "name": "stdout",
     "output_type": "stream",
     "text": [
      "RESULTADOS DE MSE, RMSE, R2, MAPE (Train): 4.243005633444312, 2.0598557312210755, 0.9054731498971031, 21.377464859163588\n",
      "RESULTADOS DE MSE, RMSE, R2, MAPE (Val): 2.6459092704743905, 1.6266251167599715, 0.8461332066564828, 23.500955641648158\n",
      "RESULTADOS DE MSE, RMSE, R2, MAPE (Test): 1.6955144193819633, 1.3021192032152675, 0.6880727037270408, 25.770029255891547\n",
      "Pinus roxburghii Cedrus deodara\n",
      "(10635, 77)\n",
      "SE HA NORMALIZADO EL ARCHIVO: Pinus roxburghii_merged.csv\n",
      "(6309, 4, 43) (2167, 4, 43) (1647, 4, 43)\n",
      "<Conv1D name=conv1d_5, built=True> False\n",
      "<BatchNormalization name=batch_normalization_5, built=True> False\n",
      "<MaxPooling1D name=max_pooling1d_4, built=True> False\n",
      "<Conv1D name=conv1d_6, built=True> False\n",
      "<BatchNormalization name=batch_normalization_6, built=True> False\n",
      "<MaxPooling1D name=max_pooling1d_5, built=True> False\n",
      "<Dropout name=dropout_1, built=True> True\n",
      "<Conv1D name=conv1d_7, built=True> False\n",
      "<BatchNormalization name=batch_normalization_7, built=True> False\n",
      "<MaxPooling1D name=max_pooling1d_6, built=True> False\n",
      "<Conv1D name=conv1d_8, built=True> False\n",
      "<BatchNormalization name=batch_normalization_8, built=True> False\n",
      "<MaxPooling1D name=max_pooling1d_7, built=True> False\n",
      "<Conv1D name=conv1d_9, built=True> False\n",
      "<BatchNormalization name=batch_normalization_9, built=True> False\n",
      "<MaxPooling1D name=max_pooling1d_8, built=True> False\n",
      "<Conv1D name=conv1d_10, built=True> True\n",
      "<BatchNormalization name=batch_normalization_10, built=True> True\n",
      "<GlobalAveragePooling1D name=global_average_pooling1d_1, built=True> True\n",
      "<Dense name=dense_2, built=True> True\n",
      "<Dense name=dense_3, built=True> True\n"
     ]
    },
    {
     "name": "stderr",
     "output_type": "stream",
     "text": [
      "/home/workstation/Escritorio/PabloC/TransferLearning/.venv/lib/python3.10/site-packages/keras/src/saving/saving_lib.py:719: UserWarning: Skipping variable loading for optimizer 'adam', because it has 58 variables whereas the saved optimizer has 2 variables. \n",
      "  saveable.load_own_variables(weights_store.get(inner_path))\n"
     ]
    },
    {
     "name": "stdout",
     "output_type": "stream",
     "text": [
      "[MODELO CONGELADO]: 25.88181757926941\n"
     ]
    },
    {
     "name": "stderr",
     "output_type": "stream",
     "text": [
      "/home/workstation/Escritorio/PabloC/TransferLearning/funcionesComunes.py:247: FutureWarning: The behavior of DataFrame concatenation with empty or all-NA entries is deprecated. In a future version, this will no longer exclude empty or all-NA columns when determining the result dtypes. To retain the old behavior, exclude the relevant entries before the concat operation.\n",
      "  predictionsDF = pd.concat([predictionsDF, tempDF], ignore_index=True)\n",
      "/home/workstation/Escritorio/PabloC/TransferLearning/funcionesComunes.py:247: FutureWarning: The behavior of DataFrame concatenation with empty or all-NA entries is deprecated. In a future version, this will no longer exclude empty or all-NA columns when determining the result dtypes. To retain the old behavior, exclude the relevant entries before the concat operation.\n",
      "  predictionsDF = pd.concat([predictionsDF, tempDF], ignore_index=True)\n",
      "/home/workstation/Escritorio/PabloC/TransferLearning/funcionesComunes.py:247: FutureWarning: The behavior of DataFrame concatenation with empty or all-NA entries is deprecated. In a future version, this will no longer exclude empty or all-NA columns when determining the result dtypes. To retain the old behavior, exclude the relevant entries before the concat operation.\n",
      "  predictionsDF = pd.concat([predictionsDF, tempDF], ignore_index=True)\n"
     ]
    },
    {
     "name": "stdout",
     "output_type": "stream",
     "text": [
      "RESULTADOS DE MSE, RMSE, R2, MAPE (Train): 131.03641612747023, 11.447113877631786, 0.5087398844977948, 35.45788307524793\n",
      "RESULTADOS DE MSE, RMSE, R2, MAPE (Val): 86.60166768071774, 9.306001702166068, 0.6133997996583151, 34.12488706505739\n",
      "RESULTADOS DE MSE, RMSE, R2, MAPE (Test): 101.85509498873483, 10.092328521641319, 0.5725947378903158, 34.00545786283965\n",
      "Pinus wallichiana Cedrus deodara\n",
      "(9365, 77)\n",
      "SE HA NORMALIZADO EL ARCHIVO: Pinus wallichiana_merged.csv\n",
      "(5508, 4, 43) (1957, 4, 43) (1500, 4, 43)\n",
      "<Conv1D name=conv1d_5, built=True> False\n",
      "<BatchNormalization name=batch_normalization_5, built=True> False\n",
      "<MaxPooling1D name=max_pooling1d_4, built=True> False\n",
      "<Conv1D name=conv1d_6, built=True> False\n",
      "<BatchNormalization name=batch_normalization_6, built=True> False\n",
      "<MaxPooling1D name=max_pooling1d_5, built=True> False\n",
      "<Dropout name=dropout_1, built=True> True\n",
      "<Conv1D name=conv1d_7, built=True> False\n",
      "<BatchNormalization name=batch_normalization_7, built=True> False\n",
      "<MaxPooling1D name=max_pooling1d_6, built=True> False\n",
      "<Conv1D name=conv1d_8, built=True> False\n",
      "<BatchNormalization name=batch_normalization_8, built=True> False\n",
      "<MaxPooling1D name=max_pooling1d_7, built=True> False\n",
      "<Conv1D name=conv1d_9, built=True> False\n",
      "<BatchNormalization name=batch_normalization_9, built=True> False\n",
      "<MaxPooling1D name=max_pooling1d_8, built=True> False\n",
      "<Conv1D name=conv1d_10, built=True> True\n",
      "<BatchNormalization name=batch_normalization_10, built=True> True\n",
      "<GlobalAveragePooling1D name=global_average_pooling1d_1, built=True> True\n",
      "<Dense name=dense_2, built=True> True\n",
      "<Dense name=dense_3, built=True> True\n"
     ]
    },
    {
     "name": "stderr",
     "output_type": "stream",
     "text": [
      "/home/workstation/Escritorio/PabloC/TransferLearning/.venv/lib/python3.10/site-packages/keras/src/saving/saving_lib.py:719: UserWarning: Skipping variable loading for optimizer 'adam', because it has 58 variables whereas the saved optimizer has 2 variables. \n",
      "  saveable.load_own_variables(weights_store.get(inner_path))\n"
     ]
    },
    {
     "name": "stdout",
     "output_type": "stream",
     "text": [
      "[MODELO CONGELADO]: 47.8369505405426\n"
     ]
    },
    {
     "name": "stderr",
     "output_type": "stream",
     "text": [
      "/home/workstation/Escritorio/PabloC/TransferLearning/funcionesComunes.py:247: FutureWarning: The behavior of DataFrame concatenation with empty or all-NA entries is deprecated. In a future version, this will no longer exclude empty or all-NA columns when determining the result dtypes. To retain the old behavior, exclude the relevant entries before the concat operation.\n",
      "  predictionsDF = pd.concat([predictionsDF, tempDF], ignore_index=True)\n",
      "/home/workstation/Escritorio/PabloC/TransferLearning/funcionesComunes.py:247: FutureWarning: The behavior of DataFrame concatenation with empty or all-NA entries is deprecated. In a future version, this will no longer exclude empty or all-NA columns when determining the result dtypes. To retain the old behavior, exclude the relevant entries before the concat operation.\n",
      "  predictionsDF = pd.concat([predictionsDF, tempDF], ignore_index=True)\n",
      "/home/workstation/Escritorio/PabloC/TransferLearning/funcionesComunes.py:247: FutureWarning: The behavior of DataFrame concatenation with empty or all-NA entries is deprecated. In a future version, this will no longer exclude empty or all-NA columns when determining the result dtypes. To retain the old behavior, exclude the relevant entries before the concat operation.\n",
      "  predictionsDF = pd.concat([predictionsDF, tempDF], ignore_index=True)\n"
     ]
    },
    {
     "name": "stdout",
     "output_type": "stream",
     "text": [
      "RESULTADOS DE MSE, RMSE, R2, MAPE (Train): 9.223897338866616, 3.037086982433433, 0.8631708439642143, 17.151092959696363\n",
      "RESULTADOS DE MSE, RMSE, R2, MAPE (Val): 8.1263536043826, 2.850675990775276, 0.8640699438418251, 19.88763992524852\n",
      "RESULTADOS DE MSE, RMSE, R2, MAPE (Test): 12.729244984001847, 3.5678067470088464, 0.6980990140110895, 23.44925384851713\n",
      "Pinus gerardiana Cedrus deodara\n",
      "(10101, 77)\n",
      "SE HA NORMALIZADO EL ARCHIVO: Pinus gerardiana_merged.csv\n",
      "(5767, 4, 43) (2181, 4, 43) (1745, 4, 43)\n",
      "<Conv1D name=conv1d_5, built=True> False\n",
      "<BatchNormalization name=batch_normalization_5, built=True> False\n",
      "<MaxPooling1D name=max_pooling1d_4, built=True> False\n",
      "<Conv1D name=conv1d_6, built=True> False\n",
      "<BatchNormalization name=batch_normalization_6, built=True> False\n",
      "<MaxPooling1D name=max_pooling1d_5, built=True> False\n",
      "<Dropout name=dropout_1, built=True> True\n",
      "<Conv1D name=conv1d_7, built=True> False\n",
      "<BatchNormalization name=batch_normalization_7, built=True> False\n",
      "<MaxPooling1D name=max_pooling1d_6, built=True> False\n",
      "<Conv1D name=conv1d_8, built=True> False\n",
      "<BatchNormalization name=batch_normalization_8, built=True> False\n",
      "<MaxPooling1D name=max_pooling1d_7, built=True> False\n",
      "<Conv1D name=conv1d_9, built=True> False\n",
      "<BatchNormalization name=batch_normalization_9, built=True> False\n",
      "<MaxPooling1D name=max_pooling1d_8, built=True> False\n",
      "<Conv1D name=conv1d_10, built=True> True\n",
      "<BatchNormalization name=batch_normalization_10, built=True> True\n",
      "<GlobalAveragePooling1D name=global_average_pooling1d_1, built=True> True\n",
      "<Dense name=dense_2, built=True> True\n",
      "<Dense name=dense_3, built=True> True\n"
     ]
    },
    {
     "name": "stderr",
     "output_type": "stream",
     "text": [
      "/home/workstation/Escritorio/PabloC/TransferLearning/.venv/lib/python3.10/site-packages/keras/src/saving/saving_lib.py:719: UserWarning: Skipping variable loading for optimizer 'adam', because it has 58 variables whereas the saved optimizer has 2 variables. \n",
      "  saveable.load_own_variables(weights_store.get(inner_path))\n"
     ]
    },
    {
     "name": "stdout",
     "output_type": "stream",
     "text": [
      "[MODELO CONGELADO]: 21.237422466278076\n"
     ]
    },
    {
     "name": "stderr",
     "output_type": "stream",
     "text": [
      "/home/workstation/Escritorio/PabloC/TransferLearning/funcionesComunes.py:247: FutureWarning: The behavior of DataFrame concatenation with empty or all-NA entries is deprecated. In a future version, this will no longer exclude empty or all-NA columns when determining the result dtypes. To retain the old behavior, exclude the relevant entries before the concat operation.\n",
      "  predictionsDF = pd.concat([predictionsDF, tempDF], ignore_index=True)\n",
      "/home/workstation/Escritorio/PabloC/TransferLearning/funcionesComunes.py:247: FutureWarning: The behavior of DataFrame concatenation with empty or all-NA entries is deprecated. In a future version, this will no longer exclude empty or all-NA columns when determining the result dtypes. To retain the old behavior, exclude the relevant entries before the concat operation.\n",
      "  predictionsDF = pd.concat([predictionsDF, tempDF], ignore_index=True)\n",
      "/home/workstation/Escritorio/PabloC/TransferLearning/funcionesComunes.py:247: FutureWarning: The behavior of DataFrame concatenation with empty or all-NA entries is deprecated. In a future version, this will no longer exclude empty or all-NA columns when determining the result dtypes. To retain the old behavior, exclude the relevant entries before the concat operation.\n",
      "  predictionsDF = pd.concat([predictionsDF, tempDF], ignore_index=True)\n"
     ]
    },
    {
     "name": "stdout",
     "output_type": "stream",
     "text": [
      "RESULTADOS DE MSE, RMSE, R2, MAPE (Train): 11.644876157892572, 3.4124589606166067, 0.7000067396734915, 25.572433280960006\n",
      "RESULTADOS DE MSE, RMSE, R2, MAPE (Val): 15.445660596113923, 3.930096766762101, 0.6096621647714808, 27.12477254710666\n",
      "RESULTADOS DE MSE, RMSE, R2, MAPE (Test): 11.581972879956869, 3.403229771842752, 0.7117151482085086, 24.867232397328\n",
      "Populus ciliata Cedrus deodara\n",
      "(1182, 77)\n",
      "SE HA NORMALIZADO EL ARCHIVO: Populus ciliata_merged.csv\n",
      "(705, 4, 43) (156, 4, 43) (265, 4, 43)\n"
     ]
    },
    {
     "name": "stderr",
     "output_type": "stream",
     "text": [
      "/home/workstation/Escritorio/PabloC/TransferLearning/.venv/lib/python3.10/site-packages/keras/src/saving/saving_lib.py:719: UserWarning: Skipping variable loading for optimizer 'adam', because it has 58 variables whereas the saved optimizer has 2 variables. \n",
      "  saveable.load_own_variables(weights_store.get(inner_path))\n"
     ]
    },
    {
     "name": "stdout",
     "output_type": "stream",
     "text": [
      "<Conv1D name=conv1d_5, built=True> False\n",
      "<BatchNormalization name=batch_normalization_5, built=True> False\n",
      "<MaxPooling1D name=max_pooling1d_4, built=True> False\n",
      "<Conv1D name=conv1d_6, built=True> False\n",
      "<BatchNormalization name=batch_normalization_6, built=True> False\n",
      "<MaxPooling1D name=max_pooling1d_5, built=True> False\n",
      "<Dropout name=dropout_1, built=True> True\n",
      "<Conv1D name=conv1d_7, built=True> False\n",
      "<BatchNormalization name=batch_normalization_7, built=True> False\n",
      "<MaxPooling1D name=max_pooling1d_6, built=True> False\n",
      "<Conv1D name=conv1d_8, built=True> False\n",
      "<BatchNormalization name=batch_normalization_8, built=True> False\n",
      "<MaxPooling1D name=max_pooling1d_7, built=True> False\n",
      "<Conv1D name=conv1d_9, built=True> False\n",
      "<BatchNormalization name=batch_normalization_9, built=True> False\n",
      "<MaxPooling1D name=max_pooling1d_8, built=True> False\n",
      "<Conv1D name=conv1d_10, built=True> True\n",
      "<BatchNormalization name=batch_normalization_10, built=True> True\n",
      "<GlobalAveragePooling1D name=global_average_pooling1d_1, built=True> True\n",
      "<Dense name=dense_2, built=True> True\n",
      "<Dense name=dense_3, built=True> True\n",
      "[MODELO CONGELADO]: 7.015991449356079\n"
     ]
    },
    {
     "name": "stderr",
     "output_type": "stream",
     "text": [
      "/home/workstation/Escritorio/PabloC/TransferLearning/funcionesComunes.py:247: FutureWarning: The behavior of DataFrame concatenation with empty or all-NA entries is deprecated. In a future version, this will no longer exclude empty or all-NA columns when determining the result dtypes. To retain the old behavior, exclude the relevant entries before the concat operation.\n",
      "  predictionsDF = pd.concat([predictionsDF, tempDF], ignore_index=True)\n",
      "/home/workstation/Escritorio/PabloC/TransferLearning/funcionesComunes.py:247: FutureWarning: The behavior of DataFrame concatenation with empty or all-NA entries is deprecated. In a future version, this will no longer exclude empty or all-NA columns when determining the result dtypes. To retain the old behavior, exclude the relevant entries before the concat operation.\n",
      "  predictionsDF = pd.concat([predictionsDF, tempDF], ignore_index=True)\n",
      "/home/workstation/Escritorio/PabloC/TransferLearning/funcionesComunes.py:247: FutureWarning: The behavior of DataFrame concatenation with empty or all-NA entries is deprecated. In a future version, this will no longer exclude empty or all-NA columns when determining the result dtypes. To retain the old behavior, exclude the relevant entries before the concat operation.\n",
      "  predictionsDF = pd.concat([predictionsDF, tempDF], ignore_index=True)\n"
     ]
    },
    {
     "name": "stdout",
     "output_type": "stream",
     "text": [
      "RESULTADOS DE MSE, RMSE, R2, MAPE (Train): 118.64149752873766, 10.892267786312345, 0.6733374501252969, 28.447362129905212\n",
      "RESULTADOS DE MSE, RMSE, R2, MAPE (Val): 134.52702150693898, 11.598578426123565, 0.4268079961167818, 35.90928735003229\n",
      "RESULTADOS DE MSE, RMSE, R2, MAPE (Test): 90.06872543395257, 9.49045443769436, 0.5499485844294676, 33.43370963286206\n",
      "Betula utilis Cedrus deodara\n",
      "(3473, 77)\n",
      "SE HA NORMALIZADO EL ARCHIVO: Betula utilis_merged.csv\n",
      "(2059, 4, 43) (665, 4, 43) (593, 4, 43)\n",
      "<Conv1D name=conv1d_5, built=True> False\n",
      "<BatchNormalization name=batch_normalization_5, built=True> False\n",
      "<MaxPooling1D name=max_pooling1d_4, built=True> False\n",
      "<Conv1D name=conv1d_6, built=True> False\n",
      "<BatchNormalization name=batch_normalization_6, built=True> False\n",
      "<MaxPooling1D name=max_pooling1d_5, built=True> False\n",
      "<Dropout name=dropout_1, built=True> True\n",
      "<Conv1D name=conv1d_7, built=True> False\n",
      "<BatchNormalization name=batch_normalization_7, built=True> False\n",
      "<MaxPooling1D name=max_pooling1d_6, built=True> False\n",
      "<Conv1D name=conv1d_8, built=True> False\n",
      "<BatchNormalization name=batch_normalization_8, built=True> False\n",
      "<MaxPooling1D name=max_pooling1d_7, built=True> False\n",
      "<Conv1D name=conv1d_9, built=True> False\n",
      "<BatchNormalization name=batch_normalization_9, built=True> False\n",
      "<MaxPooling1D name=max_pooling1d_8, built=True> False\n",
      "<Conv1D name=conv1d_10, built=True> True\n",
      "<BatchNormalization name=batch_normalization_10, built=True> True\n",
      "<GlobalAveragePooling1D name=global_average_pooling1d_1, built=True> True\n",
      "<Dense name=dense_2, built=True> True\n",
      "<Dense name=dense_3, built=True> True\n"
     ]
    },
    {
     "name": "stderr",
     "output_type": "stream",
     "text": [
      "/home/workstation/Escritorio/PabloC/TransferLearning/.venv/lib/python3.10/site-packages/keras/src/saving/saving_lib.py:719: UserWarning: Skipping variable loading for optimizer 'adam', because it has 58 variables whereas the saved optimizer has 2 variables. \n",
      "  saveable.load_own_variables(weights_store.get(inner_path))\n"
     ]
    },
    {
     "name": "stdout",
     "output_type": "stream",
     "text": [
      "[MODELO CONGELADO]: 20.23901653289795\n"
     ]
    },
    {
     "name": "stderr",
     "output_type": "stream",
     "text": [
      "/home/workstation/Escritorio/PabloC/TransferLearning/funcionesComunes.py:247: FutureWarning: The behavior of DataFrame concatenation with empty or all-NA entries is deprecated. In a future version, this will no longer exclude empty or all-NA columns when determining the result dtypes. To retain the old behavior, exclude the relevant entries before the concat operation.\n",
      "  predictionsDF = pd.concat([predictionsDF, tempDF], ignore_index=True)\n",
      "/home/workstation/Escritorio/PabloC/TransferLearning/funcionesComunes.py:247: FutureWarning: The behavior of DataFrame concatenation with empty or all-NA entries is deprecated. In a future version, this will no longer exclude empty or all-NA columns when determining the result dtypes. To retain the old behavior, exclude the relevant entries before the concat operation.\n",
      "  predictionsDF = pd.concat([predictionsDF, tempDF], ignore_index=True)\n",
      "/home/workstation/Escritorio/PabloC/TransferLearning/funcionesComunes.py:247: FutureWarning: The behavior of DataFrame concatenation with empty or all-NA entries is deprecated. In a future version, this will no longer exclude empty or all-NA columns when determining the result dtypes. To retain the old behavior, exclude the relevant entries before the concat operation.\n",
      "  predictionsDF = pd.concat([predictionsDF, tempDF], ignore_index=True)\n"
     ]
    },
    {
     "name": "stdout",
     "output_type": "stream",
     "text": [
      "RESULTADOS DE MSE, RMSE, R2, MAPE (Train): 2.983070998083651, 1.7271569118304366, 0.5596232821539144, 38.23715211468316\n",
      "RESULTADOS DE MSE, RMSE, R2, MAPE (Val): 0.6248369208247713, 0.7904662679866683, 0.6746060308482043, 28.820352735135735\n",
      "RESULTADOS DE MSE, RMSE, R2, MAPE (Test): 0.6681456746419115, 0.8174017828717476, 0.7446683357412246, 30.609942173210463\n",
      "Tsuga dumosa Cedrus deodara\n",
      "(20493, 77)\n",
      "SE HA NORMALIZADO EL ARCHIVO: Tsuga dumosa_merged.csv\n",
      "(11935, 4, 43) (4144, 4, 43) (3469, 4, 43)\n",
      "<Conv1D name=conv1d_5, built=True> False\n",
      "<BatchNormalization name=batch_normalization_5, built=True> False\n",
      "<MaxPooling1D name=max_pooling1d_4, built=True> False\n",
      "<Conv1D name=conv1d_6, built=True> False\n",
      "<BatchNormalization name=batch_normalization_6, built=True> False\n",
      "<MaxPooling1D name=max_pooling1d_5, built=True> False\n",
      "<Dropout name=dropout_1, built=True> True\n",
      "<Conv1D name=conv1d_7, built=True> False\n",
      "<BatchNormalization name=batch_normalization_7, built=True> False\n",
      "<MaxPooling1D name=max_pooling1d_6, built=True> False\n",
      "<Conv1D name=conv1d_8, built=True> False\n",
      "<BatchNormalization name=batch_normalization_8, built=True> False\n",
      "<MaxPooling1D name=max_pooling1d_7, built=True> False\n",
      "<Conv1D name=conv1d_9, built=True> False\n",
      "<BatchNormalization name=batch_normalization_9, built=True> False\n",
      "<MaxPooling1D name=max_pooling1d_8, built=True> False\n",
      "<Conv1D name=conv1d_10, built=True> True\n",
      "<BatchNormalization name=batch_normalization_10, built=True> True\n",
      "<GlobalAveragePooling1D name=global_average_pooling1d_1, built=True> True\n",
      "<Dense name=dense_2, built=True> True\n",
      "<Dense name=dense_3, built=True> True\n"
     ]
    },
    {
     "name": "stderr",
     "output_type": "stream",
     "text": [
      "/home/workstation/Escritorio/PabloC/TransferLearning/.venv/lib/python3.10/site-packages/keras/src/saving/saving_lib.py:719: UserWarning: Skipping variable loading for optimizer 'adam', because it has 58 variables whereas the saved optimizer has 2 variables. \n",
      "  saveable.load_own_variables(weights_store.get(inner_path))\n"
     ]
    },
    {
     "name": "stdout",
     "output_type": "stream",
     "text": [
      "[MODELO CONGELADO]: 66.85734796524048\n"
     ]
    },
    {
     "name": "stderr",
     "output_type": "stream",
     "text": [
      "/home/workstation/Escritorio/PabloC/TransferLearning/funcionesComunes.py:247: FutureWarning: The behavior of DataFrame concatenation with empty or all-NA entries is deprecated. In a future version, this will no longer exclude empty or all-NA columns when determining the result dtypes. To retain the old behavior, exclude the relevant entries before the concat operation.\n",
      "  predictionsDF = pd.concat([predictionsDF, tempDF], ignore_index=True)\n",
      "/home/workstation/Escritorio/PabloC/TransferLearning/funcionesComunes.py:247: FutureWarning: The behavior of DataFrame concatenation with empty or all-NA entries is deprecated. In a future version, this will no longer exclude empty or all-NA columns when determining the result dtypes. To retain the old behavior, exclude the relevant entries before the concat operation.\n",
      "  predictionsDF = pd.concat([predictionsDF, tempDF], ignore_index=True)\n",
      "/home/workstation/Escritorio/PabloC/TransferLearning/funcionesComunes.py:247: FutureWarning: The behavior of DataFrame concatenation with empty or all-NA entries is deprecated. In a future version, this will no longer exclude empty or all-NA columns when determining the result dtypes. To retain the old behavior, exclude the relevant entries before the concat operation.\n",
      "  predictionsDF = pd.concat([predictionsDF, tempDF], ignore_index=True)\n"
     ]
    },
    {
     "name": "stdout",
     "output_type": "stream",
     "text": [
      "RESULTADOS DE MSE, RMSE, R2, MAPE (Train): 142.58163047128429, 11.94075502098943, 0.6338801656969563, 31.349921354542964\n",
      "RESULTADOS DE MSE, RMSE, R2, MAPE (Val): 128.96045884440804, 11.356075855875922, 0.5907627970710051, 30.979666029422226\n",
      "RESULTADOS DE MSE, RMSE, R2, MAPE (Test): 201.80686386549036, 14.205874273183271, 0.6705985655951651, 30.972945068503897\n",
      "Cedrus deodara Cedrus deodara\n",
      "Juniperus spp. L. Cedrus deodara\n",
      "(7264, 77)\n",
      "SE HA NORMALIZADO EL ARCHIVO: Juniperus spp. L._merged.csv\n",
      "(4216, 4, 43) (1524, 4, 43) (1188, 4, 43)\n",
      "<Conv1D name=conv1d_5, built=True> False\n",
      "<BatchNormalization name=batch_normalization_5, built=True> False\n",
      "<MaxPooling1D name=max_pooling1d_4, built=True> False\n",
      "<Conv1D name=conv1d_6, built=True> False\n",
      "<BatchNormalization name=batch_normalization_6, built=True> False\n",
      "<MaxPooling1D name=max_pooling1d_5, built=True> False\n",
      "<Dropout name=dropout_1, built=True> True\n",
      "<Conv1D name=conv1d_7, built=True> False\n",
      "<BatchNormalization name=batch_normalization_7, built=True> False\n",
      "<MaxPooling1D name=max_pooling1d_6, built=True> False\n",
      "<Conv1D name=conv1d_8, built=True> False\n",
      "<BatchNormalization name=batch_normalization_8, built=True> False\n",
      "<MaxPooling1D name=max_pooling1d_7, built=True> False\n",
      "<Conv1D name=conv1d_9, built=True> False\n",
      "<BatchNormalization name=batch_normalization_9, built=True> False\n",
      "<MaxPooling1D name=max_pooling1d_8, built=True> False\n",
      "<Conv1D name=conv1d_10, built=True> True\n",
      "<BatchNormalization name=batch_normalization_10, built=True> True\n",
      "<GlobalAveragePooling1D name=global_average_pooling1d_1, built=True> True\n",
      "<Dense name=dense_2, built=True> True\n",
      "<Dense name=dense_3, built=True> True\n"
     ]
    },
    {
     "name": "stderr",
     "output_type": "stream",
     "text": [
      "/home/workstation/Escritorio/PabloC/TransferLearning/.venv/lib/python3.10/site-packages/keras/src/saving/saving_lib.py:719: UserWarning: Skipping variable loading for optimizer 'adam', because it has 58 variables whereas the saved optimizer has 2 variables. \n",
      "  saveable.load_own_variables(weights_store.get(inner_path))\n"
     ]
    },
    {
     "name": "stdout",
     "output_type": "stream",
     "text": [
      "[MODELO CONGELADO]: 11.856096506118774\n"
     ]
    },
    {
     "name": "stderr",
     "output_type": "stream",
     "text": [
      "/home/workstation/Escritorio/PabloC/TransferLearning/funcionesComunes.py:247: FutureWarning: The behavior of DataFrame concatenation with empty or all-NA entries is deprecated. In a future version, this will no longer exclude empty or all-NA columns when determining the result dtypes. To retain the old behavior, exclude the relevant entries before the concat operation.\n",
      "  predictionsDF = pd.concat([predictionsDF, tempDF], ignore_index=True)\n",
      "/home/workstation/Escritorio/PabloC/TransferLearning/funcionesComunes.py:247: FutureWarning: The behavior of DataFrame concatenation with empty or all-NA entries is deprecated. In a future version, this will no longer exclude empty or all-NA columns when determining the result dtypes. To retain the old behavior, exclude the relevant entries before the concat operation.\n",
      "  predictionsDF = pd.concat([predictionsDF, tempDF], ignore_index=True)\n",
      "/home/workstation/Escritorio/PabloC/TransferLearning/funcionesComunes.py:247: FutureWarning: The behavior of DataFrame concatenation with empty or all-NA entries is deprecated. In a future version, this will no longer exclude empty or all-NA columns when determining the result dtypes. To retain the old behavior, exclude the relevant entries before the concat operation.\n",
      "  predictionsDF = pd.concat([predictionsDF, tempDF], ignore_index=True)\n"
     ]
    },
    {
     "name": "stdout",
     "output_type": "stream",
     "text": [
      "RESULTADOS DE MSE, RMSE, R2, MAPE (Train): 1.9559712727667367, 1.3985604287147326, 0.843946564709568, 25.489325932552447\n",
      "RESULTADOS DE MSE, RMSE, R2, MAPE (Val): 0.735100045959712, 0.8573797559773102, 0.6738189314996044, 28.074663605994747\n",
      "RESULTADOS DE MSE, RMSE, R2, MAPE (Test): 2.7094025985009806, 1.6460263055312878, 0.8570774216502981, 25.469607124355704\n",
      "Juniperus recurva Cedrus deodara\n",
      "(5316, 77)\n",
      "SE HA NORMALIZADO EL ARCHIVO: Juniperus recurva_merged.csv\n",
      "(3188, 4, 43) (1082, 4, 43) (810, 4, 43)\n",
      "<Conv1D name=conv1d_5, built=True> False\n",
      "<BatchNormalization name=batch_normalization_5, built=True> False\n",
      "<MaxPooling1D name=max_pooling1d_4, built=True> False\n",
      "<Conv1D name=conv1d_6, built=True> False\n",
      "<BatchNormalization name=batch_normalization_6, built=True> False\n",
      "<MaxPooling1D name=max_pooling1d_5, built=True> False\n",
      "<Dropout name=dropout_1, built=True> True\n",
      "<Conv1D name=conv1d_7, built=True> False\n",
      "<BatchNormalization name=batch_normalization_7, built=True> False\n",
      "<MaxPooling1D name=max_pooling1d_6, built=True> False\n",
      "<Conv1D name=conv1d_8, built=True> False\n",
      "<BatchNormalization name=batch_normalization_8, built=True> False\n",
      "<MaxPooling1D name=max_pooling1d_7, built=True> False\n",
      "<Conv1D name=conv1d_9, built=True> False\n",
      "<BatchNormalization name=batch_normalization_9, built=True> False\n",
      "<MaxPooling1D name=max_pooling1d_8, built=True> False\n",
      "<Conv1D name=conv1d_10, built=True> True\n",
      "<BatchNormalization name=batch_normalization_10, built=True> True\n",
      "<GlobalAveragePooling1D name=global_average_pooling1d_1, built=True> True\n",
      "<Dense name=dense_2, built=True> True\n",
      "<Dense name=dense_3, built=True> True\n"
     ]
    },
    {
     "name": "stderr",
     "output_type": "stream",
     "text": [
      "/home/workstation/Escritorio/PabloC/TransferLearning/.venv/lib/python3.10/site-packages/keras/src/saving/saving_lib.py:719: UserWarning: Skipping variable loading for optimizer 'adam', because it has 58 variables whereas the saved optimizer has 2 variables. \n",
      "  saveable.load_own_variables(weights_store.get(inner_path))\n"
     ]
    },
    {
     "name": "stdout",
     "output_type": "stream",
     "text": [
      "[MODELO CONGELADO]: 17.989115238189697\n"
     ]
    },
    {
     "name": "stderr",
     "output_type": "stream",
     "text": [
      "/home/workstation/Escritorio/PabloC/TransferLearning/funcionesComunes.py:247: FutureWarning: The behavior of DataFrame concatenation with empty or all-NA entries is deprecated. In a future version, this will no longer exclude empty or all-NA columns when determining the result dtypes. To retain the old behavior, exclude the relevant entries before the concat operation.\n",
      "  predictionsDF = pd.concat([predictionsDF, tempDF], ignore_index=True)\n",
      "/home/workstation/Escritorio/PabloC/TransferLearning/funcionesComunes.py:247: FutureWarning: The behavior of DataFrame concatenation with empty or all-NA entries is deprecated. In a future version, this will no longer exclude empty or all-NA columns when determining the result dtypes. To retain the old behavior, exclude the relevant entries before the concat operation.\n",
      "  predictionsDF = pd.concat([predictionsDF, tempDF], ignore_index=True)\n",
      "/home/workstation/Escritorio/PabloC/TransferLearning/funcionesComunes.py:247: FutureWarning: The behavior of DataFrame concatenation with empty or all-NA entries is deprecated. In a future version, this will no longer exclude empty or all-NA columns when determining the result dtypes. To retain the old behavior, exclude the relevant entries before the concat operation.\n",
      "  predictionsDF = pd.concat([predictionsDF, tempDF], ignore_index=True)\n"
     ]
    },
    {
     "name": "stdout",
     "output_type": "stream",
     "text": [
      "RESULTADOS DE MSE, RMSE, R2, MAPE (Train): 5.475072319896078, 2.339887245124448, 0.7824408707682519, 25.58330386999716\n",
      "RESULTADOS DE MSE, RMSE, R2, MAPE (Val): 4.912415110835061, 2.216396875750158, 0.8216232491129236, 24.682983764946933\n",
      "RESULTADOS DE MSE, RMSE, R2, MAPE (Test): 1.7260428129711123, 1.313789485789528, 0.8165005066294768, 20.34771521941778\n",
      "totalMerged.csv Cedrus deodara\n",
      "Juniperus spp.  Cedrus deodara\n",
      "(17976, 77)\n",
      "SE HA NORMALIZADO EL ARCHIVO: Juniperus spp. _merged.csv\n",
      "(10218, 4, 43) (3900, 4, 43) (3018, 4, 43)\n",
      "<Conv1D name=conv1d_5, built=True> False\n",
      "<BatchNormalization name=batch_normalization_5, built=True> False\n",
      "<MaxPooling1D name=max_pooling1d_4, built=True> False\n",
      "<Conv1D name=conv1d_6, built=True> False\n",
      "<BatchNormalization name=batch_normalization_6, built=True> False\n",
      "<MaxPooling1D name=max_pooling1d_5, built=True> False\n",
      "<Dropout name=dropout_1, built=True> True\n",
      "<Conv1D name=conv1d_7, built=True> False\n",
      "<BatchNormalization name=batch_normalization_7, built=True> False\n",
      "<MaxPooling1D name=max_pooling1d_6, built=True> False\n",
      "<Conv1D name=conv1d_8, built=True> False\n",
      "<BatchNormalization name=batch_normalization_8, built=True> False\n",
      "<MaxPooling1D name=max_pooling1d_7, built=True> False\n",
      "<Conv1D name=conv1d_9, built=True> False\n",
      "<BatchNormalization name=batch_normalization_9, built=True> False\n",
      "<MaxPooling1D name=max_pooling1d_8, built=True> False\n",
      "<Conv1D name=conv1d_10, built=True> True\n",
      "<BatchNormalization name=batch_normalization_10, built=True> True\n",
      "<GlobalAveragePooling1D name=global_average_pooling1d_1, built=True> True\n",
      "<Dense name=dense_2, built=True> True\n",
      "<Dense name=dense_3, built=True> True\n"
     ]
    },
    {
     "name": "stderr",
     "output_type": "stream",
     "text": [
      "/home/workstation/Escritorio/PabloC/TransferLearning/.venv/lib/python3.10/site-packages/keras/src/saving/saving_lib.py:719: UserWarning: Skipping variable loading for optimizer 'adam', because it has 58 variables whereas the saved optimizer has 2 variables. \n",
      "  saveable.load_own_variables(weights_store.get(inner_path))\n"
     ]
    },
    {
     "name": "stdout",
     "output_type": "stream",
     "text": [
      "[MODELO CONGELADO]: 33.88871622085571\n"
     ]
    },
    {
     "name": "stderr",
     "output_type": "stream",
     "text": [
      "/home/workstation/Escritorio/PabloC/TransferLearning/funcionesComunes.py:247: FutureWarning: The behavior of DataFrame concatenation with empty or all-NA entries is deprecated. In a future version, this will no longer exclude empty or all-NA columns when determining the result dtypes. To retain the old behavior, exclude the relevant entries before the concat operation.\n",
      "  predictionsDF = pd.concat([predictionsDF, tempDF], ignore_index=True)\n",
      "/home/workstation/Escritorio/PabloC/TransferLearning/funcionesComunes.py:247: FutureWarning: The behavior of DataFrame concatenation with empty or all-NA entries is deprecated. In a future version, this will no longer exclude empty or all-NA columns when determining the result dtypes. To retain the old behavior, exclude the relevant entries before the concat operation.\n",
      "  predictionsDF = pd.concat([predictionsDF, tempDF], ignore_index=True)\n",
      "/home/workstation/Escritorio/PabloC/TransferLearning/funcionesComunes.py:247: FutureWarning: The behavior of DataFrame concatenation with empty or all-NA entries is deprecated. In a future version, this will no longer exclude empty or all-NA columns when determining the result dtypes. To retain the old behavior, exclude the relevant entries before the concat operation.\n",
      "  predictionsDF = pd.concat([predictionsDF, tempDF], ignore_index=True)\n"
     ]
    },
    {
     "name": "stdout",
     "output_type": "stream",
     "text": [
      "RESULTADOS DE MSE, RMSE, R2, MAPE (Train): 6.376824719811215, 2.5252375571045222, 0.8959983579446215, 21.519547794010506\n",
      "RESULTADOS DE MSE, RMSE, R2, MAPE (Val): 3.326809247466056, 1.8239542887545335, 0.8308924230023198, 25.308400396921783\n",
      "RESULTADOS DE MSE, RMSE, R2, MAPE (Test): 9.535112751552235, 3.0878977883913574, 0.9087516909070692, 22.48644873954771\n",
      "Procesando el modelo: model_Tsuga dumosa.keras\n",
      "Abies spectabilis Tsuga dumosa\n",
      "(96429, 77)\n",
      "SE HA NORMALIZADO EL ARCHIVO: Abies spectabilis_merged.csv\n",
      "(56618, 4, 43) (19637, 4, 43) (15689, 4, 43)\n",
      "<Conv1D name=conv1d_5, built=True> False\n",
      "<BatchNormalization name=batch_normalization_5, built=True> False\n",
      "<MaxPooling1D name=max_pooling1d_4, built=True> False\n",
      "<Conv1D name=conv1d_6, built=True> False\n",
      "<BatchNormalization name=batch_normalization_6, built=True> False\n",
      "<MaxPooling1D name=max_pooling1d_5, built=True> False\n",
      "<Dropout name=dropout_1, built=True> True\n",
      "<Conv1D name=conv1d_7, built=True> False\n",
      "<BatchNormalization name=batch_normalization_7, built=True> False\n",
      "<MaxPooling1D name=max_pooling1d_6, built=True> False\n",
      "<Conv1D name=conv1d_8, built=True> False\n",
      "<BatchNormalization name=batch_normalization_8, built=True> False\n",
      "<MaxPooling1D name=max_pooling1d_7, built=True> False\n",
      "<Conv1D name=conv1d_9, built=True> False\n",
      "<BatchNormalization name=batch_normalization_9, built=True> False\n",
      "<MaxPooling1D name=max_pooling1d_8, built=True> False\n",
      "<Conv1D name=conv1d_10, built=True> True\n",
      "<BatchNormalization name=batch_normalization_10, built=True> True\n",
      "<GlobalAveragePooling1D name=global_average_pooling1d_1, built=True> True\n",
      "<Dense name=dense_2, built=True> True\n",
      "<Dense name=dense_3, built=True> True\n"
     ]
    },
    {
     "name": "stderr",
     "output_type": "stream",
     "text": [
      "/home/workstation/Escritorio/PabloC/TransferLearning/.venv/lib/python3.10/site-packages/keras/src/saving/saving_lib.py:719: UserWarning: Skipping variable loading for optimizer 'adam', because it has 58 variables whereas the saved optimizer has 2 variables. \n",
      "  saveable.load_own_variables(weights_store.get(inner_path))\n"
     ]
    },
    {
     "name": "stdout",
     "output_type": "stream",
     "text": [
      "[MODELO CONGELADO]: 175.88640093803406\n"
     ]
    },
    {
     "name": "stderr",
     "output_type": "stream",
     "text": [
      "/home/workstation/Escritorio/PabloC/TransferLearning/funcionesComunes.py:247: FutureWarning: The behavior of DataFrame concatenation with empty or all-NA entries is deprecated. In a future version, this will no longer exclude empty or all-NA columns when determining the result dtypes. To retain the old behavior, exclude the relevant entries before the concat operation.\n",
      "  predictionsDF = pd.concat([predictionsDF, tempDF], ignore_index=True)\n",
      "/home/workstation/Escritorio/PabloC/TransferLearning/funcionesComunes.py:247: FutureWarning: The behavior of DataFrame concatenation with empty or all-NA entries is deprecated. In a future version, this will no longer exclude empty or all-NA columns when determining the result dtypes. To retain the old behavior, exclude the relevant entries before the concat operation.\n",
      "  predictionsDF = pd.concat([predictionsDF, tempDF], ignore_index=True)\n",
      "/home/workstation/Escritorio/PabloC/TransferLearning/funcionesComunes.py:247: FutureWarning: The behavior of DataFrame concatenation with empty or all-NA entries is deprecated. In a future version, this will no longer exclude empty or all-NA columns when determining the result dtypes. To retain the old behavior, exclude the relevant entries before the concat operation.\n",
      "  predictionsDF = pd.concat([predictionsDF, tempDF], ignore_index=True)\n"
     ]
    },
    {
     "name": "stdout",
     "output_type": "stream",
     "text": [
      "RESULTADOS DE MSE, RMSE, R2, MAPE (Train): 44.09438948989311, 6.6403606445654075, 0.6131397610561187, 34.78416321016019\n",
      "RESULTADOS DE MSE, RMSE, R2, MAPE (Val): 53.27744803943496, 7.299140226042719, 0.5145548001361286, 36.37972228659773\n",
      "RESULTADOS DE MSE, RMSE, R2, MAPE (Test): 44.44080452125048, 6.666393666837451, 0.6704156196676245, 33.8613908266868\n",
      "Picea smithiana Tsuga dumosa\n",
      "(34476, 77)\n",
      "SE HA NORMALIZADO EL ARCHIVO: Picea smithiana_merged.csv\n",
      "(19933, 4, 43) (7272, 4, 43) (5863, 4, 43)\n",
      "<Conv1D name=conv1d_5, built=True> False\n",
      "<BatchNormalization name=batch_normalization_5, built=True> False\n",
      "<MaxPooling1D name=max_pooling1d_4, built=True> False\n",
      "<Conv1D name=conv1d_6, built=True> False\n",
      "<BatchNormalization name=batch_normalization_6, built=True> False\n",
      "<MaxPooling1D name=max_pooling1d_5, built=True> False\n",
      "<Dropout name=dropout_1, built=True> True\n",
      "<Conv1D name=conv1d_7, built=True> False\n",
      "<BatchNormalization name=batch_normalization_7, built=True> False\n",
      "<MaxPooling1D name=max_pooling1d_6, built=True> False\n",
      "<Conv1D name=conv1d_8, built=True> False\n",
      "<BatchNormalization name=batch_normalization_8, built=True> False\n",
      "<MaxPooling1D name=max_pooling1d_7, built=True> False\n",
      "<Conv1D name=conv1d_9, built=True> False\n",
      "<BatchNormalization name=batch_normalization_9, built=True> False\n",
      "<MaxPooling1D name=max_pooling1d_8, built=True> False\n",
      "<Conv1D name=conv1d_10, built=True> True\n",
      "<BatchNormalization name=batch_normalization_10, built=True> True\n",
      "<GlobalAveragePooling1D name=global_average_pooling1d_1, built=True> True\n",
      "<Dense name=dense_2, built=True> True\n",
      "<Dense name=dense_3, built=True> True\n"
     ]
    },
    {
     "name": "stderr",
     "output_type": "stream",
     "text": [
      "/home/workstation/Escritorio/PabloC/TransferLearning/.venv/lib/python3.10/site-packages/keras/src/saving/saving_lib.py:719: UserWarning: Skipping variable loading for optimizer 'adam', because it has 58 variables whereas the saved optimizer has 2 variables. \n",
      "  saveable.load_own_variables(weights_store.get(inner_path))\n"
     ]
    },
    {
     "name": "stdout",
     "output_type": "stream",
     "text": [
      "[MODELO CONGELADO]: 117.29027485847473\n"
     ]
    },
    {
     "name": "stderr",
     "output_type": "stream",
     "text": [
      "/home/workstation/Escritorio/PabloC/TransferLearning/funcionesComunes.py:247: FutureWarning: The behavior of DataFrame concatenation with empty or all-NA entries is deprecated. In a future version, this will no longer exclude empty or all-NA columns when determining the result dtypes. To retain the old behavior, exclude the relevant entries before the concat operation.\n",
      "  predictionsDF = pd.concat([predictionsDF, tempDF], ignore_index=True)\n",
      "/home/workstation/Escritorio/PabloC/TransferLearning/funcionesComunes.py:247: FutureWarning: The behavior of DataFrame concatenation with empty or all-NA entries is deprecated. In a future version, this will no longer exclude empty or all-NA columns when determining the result dtypes. To retain the old behavior, exclude the relevant entries before the concat operation.\n",
      "  predictionsDF = pd.concat([predictionsDF, tempDF], ignore_index=True)\n",
      "/home/workstation/Escritorio/PabloC/TransferLearning/funcionesComunes.py:247: FutureWarning: The behavior of DataFrame concatenation with empty or all-NA entries is deprecated. In a future version, this will no longer exclude empty or all-NA columns when determining the result dtypes. To retain the old behavior, exclude the relevant entries before the concat operation.\n",
      "  predictionsDF = pd.concat([predictionsDF, tempDF], ignore_index=True)\n"
     ]
    },
    {
     "name": "stdout",
     "output_type": "stream",
     "text": [
      "RESULTADOS DE MSE, RMSE, R2, MAPE (Train): 113.16737297614097, 10.638015462300332, 0.6683546682104264, 29.896534938064757\n",
      "RESULTADOS DE MSE, RMSE, R2, MAPE (Val): 103.60485999234339, 10.178647257486793, 0.7010238628735124, 30.14508870946021\n",
      "RESULTADOS DE MSE, RMSE, R2, MAPE (Test): 155.0865442361826, 12.45337481312526, 0.47627939712724354, 35.03571360573398\n",
      "Abies pindrow Tsuga dumosa\n",
      "(16018, 77)\n",
      "SE HA NORMALIZADO EL ARCHIVO: Abies pindrow_merged.csv\n",
      "(9042, 4, 43) (3441, 4, 43) (2815, 4, 43)\n",
      "<Conv1D name=conv1d_5, built=True> False\n",
      "<BatchNormalization name=batch_normalization_5, built=True> False\n",
      "<MaxPooling1D name=max_pooling1d_4, built=True> False\n",
      "<Conv1D name=conv1d_6, built=True> False\n",
      "<BatchNormalization name=batch_normalization_6, built=True> False\n",
      "<MaxPooling1D name=max_pooling1d_5, built=True> False\n",
      "<Dropout name=dropout_1, built=True> True\n",
      "<Conv1D name=conv1d_7, built=True> False\n",
      "<BatchNormalization name=batch_normalization_7, built=True> False\n",
      "<MaxPooling1D name=max_pooling1d_6, built=True> False\n",
      "<Conv1D name=conv1d_8, built=True> False\n",
      "<BatchNormalization name=batch_normalization_8, built=True> False\n",
      "<MaxPooling1D name=max_pooling1d_7, built=True> False\n",
      "<Conv1D name=conv1d_9, built=True> False\n",
      "<BatchNormalization name=batch_normalization_9, built=True> False\n",
      "<MaxPooling1D name=max_pooling1d_8, built=True> False\n",
      "<Conv1D name=conv1d_10, built=True> True\n",
      "<BatchNormalization name=batch_normalization_10, built=True> True\n",
      "<GlobalAveragePooling1D name=global_average_pooling1d_1, built=True> True\n",
      "<Dense name=dense_2, built=True> True\n",
      "<Dense name=dense_3, built=True> True\n"
     ]
    },
    {
     "name": "stderr",
     "output_type": "stream",
     "text": [
      "/home/workstation/Escritorio/PabloC/TransferLearning/.venv/lib/python3.10/site-packages/keras/src/saving/saving_lib.py:719: UserWarning: Skipping variable loading for optimizer 'adam', because it has 58 variables whereas the saved optimizer has 2 variables. \n",
      "  saveable.load_own_variables(weights_store.get(inner_path))\n"
     ]
    },
    {
     "name": "stdout",
     "output_type": "stream",
     "text": [
      "[MODELO CONGELADO]: 61.09757375717163\n"
     ]
    },
    {
     "name": "stderr",
     "output_type": "stream",
     "text": [
      "/home/workstation/Escritorio/PabloC/TransferLearning/funcionesComunes.py:247: FutureWarning: The behavior of DataFrame concatenation with empty or all-NA entries is deprecated. In a future version, this will no longer exclude empty or all-NA columns when determining the result dtypes. To retain the old behavior, exclude the relevant entries before the concat operation.\n",
      "  predictionsDF = pd.concat([predictionsDF, tempDF], ignore_index=True)\n",
      "/home/workstation/Escritorio/PabloC/TransferLearning/funcionesComunes.py:247: FutureWarning: The behavior of DataFrame concatenation with empty or all-NA entries is deprecated. In a future version, this will no longer exclude empty or all-NA columns when determining the result dtypes. To retain the old behavior, exclude the relevant entries before the concat operation.\n",
      "  predictionsDF = pd.concat([predictionsDF, tempDF], ignore_index=True)\n",
      "/home/workstation/Escritorio/PabloC/TransferLearning/funcionesComunes.py:247: FutureWarning: The behavior of DataFrame concatenation with empty or all-NA entries is deprecated. In a future version, this will no longer exclude empty or all-NA columns when determining the result dtypes. To retain the old behavior, exclude the relevant entries before the concat operation.\n",
      "  predictionsDF = pd.concat([predictionsDF, tempDF], ignore_index=True)\n"
     ]
    },
    {
     "name": "stdout",
     "output_type": "stream",
     "text": [
      "RESULTADOS DE MSE, RMSE, R2, MAPE (Train): 87.70512656869187, 9.365101524740234, 0.6235415767680483, 30.407123125474726\n",
      "RESULTADOS DE MSE, RMSE, R2, MAPE (Val): 115.52927599218764, 10.748454586227158, 0.3409646087913345, 34.00247461812694\n",
      "RESULTADOS DE MSE, RMSE, R2, MAPE (Test): 105.04751047365158, 10.249268777510501, 0.257343784552298, 33.712227347827934\n",
      "Juniperus excelsa M.-Bieb Tsuga dumosa\n",
      "(7449, 77)\n",
      "SE HA NORMALIZADO EL ARCHIVO: Juniperus excelsa M.-Bieb_merged.csv\n",
      "(4189, 4, 43) (1707, 4, 43) (1228, 4, 43)\n",
      "<Conv1D name=conv1d_5, built=True> False\n",
      "<BatchNormalization name=batch_normalization_5, built=True> False\n",
      "<MaxPooling1D name=max_pooling1d_4, built=True> False\n",
      "<Conv1D name=conv1d_6, built=True> False\n",
      "<BatchNormalization name=batch_normalization_6, built=True> False\n",
      "<MaxPooling1D name=max_pooling1d_5, built=True> False\n",
      "<Dropout name=dropout_1, built=True> True\n",
      "<Conv1D name=conv1d_7, built=True> False\n",
      "<BatchNormalization name=batch_normalization_7, built=True> False\n",
      "<MaxPooling1D name=max_pooling1d_6, built=True> False\n",
      "<Conv1D name=conv1d_8, built=True> False\n",
      "<BatchNormalization name=batch_normalization_8, built=True> False\n",
      "<MaxPooling1D name=max_pooling1d_7, built=True> False\n",
      "<Conv1D name=conv1d_9, built=True> False\n",
      "<BatchNormalization name=batch_normalization_9, built=True> False\n",
      "<MaxPooling1D name=max_pooling1d_8, built=True> False\n",
      "<Conv1D name=conv1d_10, built=True> True\n",
      "<BatchNormalization name=batch_normalization_10, built=True> True\n",
      "<GlobalAveragePooling1D name=global_average_pooling1d_1, built=True> True\n",
      "<Dense name=dense_2, built=True> True\n",
      "<Dense name=dense_3, built=True> True\n"
     ]
    },
    {
     "name": "stderr",
     "output_type": "stream",
     "text": [
      "/home/workstation/Escritorio/PabloC/TransferLearning/.venv/lib/python3.10/site-packages/keras/src/saving/saving_lib.py:719: UserWarning: Skipping variable loading for optimizer 'adam', because it has 58 variables whereas the saved optimizer has 2 variables. \n",
      "  saveable.load_own_variables(weights_store.get(inner_path))\n"
     ]
    },
    {
     "name": "stdout",
     "output_type": "stream",
     "text": [
      "[MODELO CONGELADO]: 12.758589506149292\n"
     ]
    },
    {
     "name": "stderr",
     "output_type": "stream",
     "text": [
      "/home/workstation/Escritorio/PabloC/TransferLearning/funcionesComunes.py:247: FutureWarning: The behavior of DataFrame concatenation with empty or all-NA entries is deprecated. In a future version, this will no longer exclude empty or all-NA columns when determining the result dtypes. To retain the old behavior, exclude the relevant entries before the concat operation.\n",
      "  predictionsDF = pd.concat([predictionsDF, tempDF], ignore_index=True)\n",
      "/home/workstation/Escritorio/PabloC/TransferLearning/funcionesComunes.py:247: FutureWarning: The behavior of DataFrame concatenation with empty or all-NA entries is deprecated. In a future version, this will no longer exclude empty or all-NA columns when determining the result dtypes. To retain the old behavior, exclude the relevant entries before the concat operation.\n",
      "  predictionsDF = pd.concat([predictionsDF, tempDF], ignore_index=True)\n",
      "/home/workstation/Escritorio/PabloC/TransferLearning/funcionesComunes.py:247: FutureWarning: The behavior of DataFrame concatenation with empty or all-NA entries is deprecated. In a future version, this will no longer exclude empty or all-NA columns when determining the result dtypes. To retain the old behavior, exclude the relevant entries before the concat operation.\n",
      "  predictionsDF = pd.concat([predictionsDF, tempDF], ignore_index=True)\n"
     ]
    },
    {
     "name": "stdout",
     "output_type": "stream",
     "text": [
      "RESULTADOS DE MSE, RMSE, R2, MAPE (Train): 20.158560550225253, 4.489828565794607, 0.1805947765515017, 49.43511090179718\n",
      "RESULTADOS DE MSE, RMSE, R2, MAPE (Val): 24.443420432978172, 4.9440287653874115, 0.06781969070775307, 57.193199233883306\n",
      "RESULTADOS DE MSE, RMSE, R2, MAPE (Test): 83.87785372325928, 9.158485340014433, -0.24355888330645015, 70.83742663975163\n",
      "Juniperus turkestanica Komar. Tsuga dumosa\n",
      "(6305, 77)\n",
      "SE HA NORMALIZADO EL ARCHIVO: Juniperus turkestanica Komar._merged.csv\n",
      "(3664, 4, 43) (1368, 4, 43) (1001, 4, 43)\n",
      "<Conv1D name=conv1d_5, built=True> False\n",
      "<BatchNormalization name=batch_normalization_5, built=True> False\n",
      "<MaxPooling1D name=max_pooling1d_4, built=True> False\n",
      "<Conv1D name=conv1d_6, built=True> False\n",
      "<BatchNormalization name=batch_normalization_6, built=True> False\n",
      "<MaxPooling1D name=max_pooling1d_5, built=True> False\n",
      "<Dropout name=dropout_1, built=True> True\n",
      "<Conv1D name=conv1d_7, built=True> False\n",
      "<BatchNormalization name=batch_normalization_7, built=True> False\n",
      "<MaxPooling1D name=max_pooling1d_6, built=True> False\n",
      "<Conv1D name=conv1d_8, built=True> False\n",
      "<BatchNormalization name=batch_normalization_8, built=True> False\n",
      "<MaxPooling1D name=max_pooling1d_7, built=True> False\n",
      "<Conv1D name=conv1d_9, built=True> False\n",
      "<BatchNormalization name=batch_normalization_9, built=True> False\n",
      "<MaxPooling1D name=max_pooling1d_8, built=True> False\n",
      "<Conv1D name=conv1d_10, built=True> True\n",
      "<BatchNormalization name=batch_normalization_10, built=True> True\n",
      "<GlobalAveragePooling1D name=global_average_pooling1d_1, built=True> True\n",
      "<Dense name=dense_2, built=True> True\n",
      "<Dense name=dense_3, built=True> True\n"
     ]
    },
    {
     "name": "stderr",
     "output_type": "stream",
     "text": [
      "/home/workstation/Escritorio/PabloC/TransferLearning/.venv/lib/python3.10/site-packages/keras/src/saving/saving_lib.py:719: UserWarning: Skipping variable loading for optimizer 'adam', because it has 58 variables whereas the saved optimizer has 2 variables. \n",
      "  saveable.load_own_variables(weights_store.get(inner_path))\n"
     ]
    },
    {
     "name": "stdout",
     "output_type": "stream",
     "text": [
      "[MODELO CONGELADO]: 8.543725728988647\n"
     ]
    },
    {
     "name": "stderr",
     "output_type": "stream",
     "text": [
      "/home/workstation/Escritorio/PabloC/TransferLearning/funcionesComunes.py:247: FutureWarning: The behavior of DataFrame concatenation with empty or all-NA entries is deprecated. In a future version, this will no longer exclude empty or all-NA columns when determining the result dtypes. To retain the old behavior, exclude the relevant entries before the concat operation.\n",
      "  predictionsDF = pd.concat([predictionsDF, tempDF], ignore_index=True)\n",
      "/home/workstation/Escritorio/PabloC/TransferLearning/funcionesComunes.py:247: FutureWarning: The behavior of DataFrame concatenation with empty or all-NA entries is deprecated. In a future version, this will no longer exclude empty or all-NA columns when determining the result dtypes. To retain the old behavior, exclude the relevant entries before the concat operation.\n",
      "  predictionsDF = pd.concat([predictionsDF, tempDF], ignore_index=True)\n",
      "/home/workstation/Escritorio/PabloC/TransferLearning/funcionesComunes.py:247: FutureWarning: The behavior of DataFrame concatenation with empty or all-NA entries is deprecated. In a future version, this will no longer exclude empty or all-NA columns when determining the result dtypes. To retain the old behavior, exclude the relevant entries before the concat operation.\n",
      "  predictionsDF = pd.concat([predictionsDF, tempDF], ignore_index=True)\n"
     ]
    },
    {
     "name": "stdout",
     "output_type": "stream",
     "text": [
      "RESULTADOS DE MSE, RMSE, R2, MAPE (Train): 11.222895042776594, 3.3500589610895797, 0.74997324795727, 34.17487935125181\n",
      "RESULTADOS DE MSE, RMSE, R2, MAPE (Val): 9.983562732774867, 3.1596776311476567, 0.41942877596838657, 43.496598475242145\n",
      "RESULTADOS DE MSE, RMSE, R2, MAPE (Test): 3.0327507741929636, 1.7414794785448846, 0.4420585643803824, 35.69378945211675\n",
      "Pinus roxburghii Tsuga dumosa\n",
      "(10635, 77)\n",
      "SE HA NORMALIZADO EL ARCHIVO: Pinus roxburghii_merged.csv\n",
      "(6309, 4, 43) (2167, 4, 43) (1647, 4, 43)\n",
      "<Conv1D name=conv1d_5, built=True> False\n",
      "<BatchNormalization name=batch_normalization_5, built=True> False\n",
      "<MaxPooling1D name=max_pooling1d_4, built=True> False\n",
      "<Conv1D name=conv1d_6, built=True> False\n",
      "<BatchNormalization name=batch_normalization_6, built=True> False\n",
      "<MaxPooling1D name=max_pooling1d_5, built=True> False\n",
      "<Dropout name=dropout_1, built=True> True\n",
      "<Conv1D name=conv1d_7, built=True> False\n",
      "<BatchNormalization name=batch_normalization_7, built=True> False\n",
      "<MaxPooling1D name=max_pooling1d_6, built=True> False\n",
      "<Conv1D name=conv1d_8, built=True> False\n",
      "<BatchNormalization name=batch_normalization_8, built=True> False\n",
      "<MaxPooling1D name=max_pooling1d_7, built=True> False\n",
      "<Conv1D name=conv1d_9, built=True> False\n",
      "<BatchNormalization name=batch_normalization_9, built=True> False\n",
      "<MaxPooling1D name=max_pooling1d_8, built=True> False\n",
      "<Conv1D name=conv1d_10, built=True> True\n",
      "<BatchNormalization name=batch_normalization_10, built=True> True\n",
      "<GlobalAveragePooling1D name=global_average_pooling1d_1, built=True> True\n",
      "<Dense name=dense_2, built=True> True\n",
      "<Dense name=dense_3, built=True> True\n"
     ]
    },
    {
     "name": "stderr",
     "output_type": "stream",
     "text": [
      "/home/workstation/Escritorio/PabloC/TransferLearning/.venv/lib/python3.10/site-packages/keras/src/saving/saving_lib.py:719: UserWarning: Skipping variable loading for optimizer 'adam', because it has 58 variables whereas the saved optimizer has 2 variables. \n",
      "  saveable.load_own_variables(weights_store.get(inner_path))\n"
     ]
    },
    {
     "name": "stdout",
     "output_type": "stream",
     "text": [
      "[MODELO CONGELADO]: 18.82534694671631\n"
     ]
    },
    {
     "name": "stderr",
     "output_type": "stream",
     "text": [
      "/home/workstation/Escritorio/PabloC/TransferLearning/funcionesComunes.py:247: FutureWarning: The behavior of DataFrame concatenation with empty or all-NA entries is deprecated. In a future version, this will no longer exclude empty or all-NA columns when determining the result dtypes. To retain the old behavior, exclude the relevant entries before the concat operation.\n",
      "  predictionsDF = pd.concat([predictionsDF, tempDF], ignore_index=True)\n",
      "/home/workstation/Escritorio/PabloC/TransferLearning/funcionesComunes.py:247: FutureWarning: The behavior of DataFrame concatenation with empty or all-NA entries is deprecated. In a future version, this will no longer exclude empty or all-NA columns when determining the result dtypes. To retain the old behavior, exclude the relevant entries before the concat operation.\n",
      "  predictionsDF = pd.concat([predictionsDF, tempDF], ignore_index=True)\n",
      "/home/workstation/Escritorio/PabloC/TransferLearning/funcionesComunes.py:247: FutureWarning: The behavior of DataFrame concatenation with empty or all-NA entries is deprecated. In a future version, this will no longer exclude empty or all-NA columns when determining the result dtypes. To retain the old behavior, exclude the relevant entries before the concat operation.\n",
      "  predictionsDF = pd.concat([predictionsDF, tempDF], ignore_index=True)\n"
     ]
    },
    {
     "name": "stdout",
     "output_type": "stream",
     "text": [
      "RESULTADOS DE MSE, RMSE, R2, MAPE (Train): 144.6231922115002, 12.025938308984468, 0.4578025848859819, 37.31683071453916\n",
      "RESULTADOS DE MSE, RMSE, R2, MAPE (Val): 106.87056998886999, 10.33782230398985, 0.5229169960023017, 36.16250623767536\n",
      "RESULTADOS DE MSE, RMSE, R2, MAPE (Test): 110.65261397424152, 10.519154622603544, 0.5356785099065191, 35.52549089159454\n",
      "Pinus wallichiana Tsuga dumosa\n",
      "(9365, 77)\n",
      "SE HA NORMALIZADO EL ARCHIVO: Pinus wallichiana_merged.csv\n",
      "(5508, 4, 43) (1957, 4, 43) (1500, 4, 43)\n",
      "<Conv1D name=conv1d_5, built=True> False\n",
      "<BatchNormalization name=batch_normalization_5, built=True> False\n",
      "<MaxPooling1D name=max_pooling1d_4, built=True> False\n",
      "<Conv1D name=conv1d_6, built=True> False\n",
      "<BatchNormalization name=batch_normalization_6, built=True> False\n",
      "<MaxPooling1D name=max_pooling1d_5, built=True> False\n",
      "<Dropout name=dropout_1, built=True> True\n",
      "<Conv1D name=conv1d_7, built=True> False\n",
      "<BatchNormalization name=batch_normalization_7, built=True> False\n",
      "<MaxPooling1D name=max_pooling1d_6, built=True> False\n",
      "<Conv1D name=conv1d_8, built=True> False\n",
      "<BatchNormalization name=batch_normalization_8, built=True> False\n",
      "<MaxPooling1D name=max_pooling1d_7, built=True> False\n",
      "<Conv1D name=conv1d_9, built=True> False\n",
      "<BatchNormalization name=batch_normalization_9, built=True> False\n",
      "<MaxPooling1D name=max_pooling1d_8, built=True> False\n",
      "<Conv1D name=conv1d_10, built=True> True\n",
      "<BatchNormalization name=batch_normalization_10, built=True> True\n",
      "<GlobalAveragePooling1D name=global_average_pooling1d_1, built=True> True\n",
      "<Dense name=dense_2, built=True> True\n",
      "<Dense name=dense_3, built=True> True\n"
     ]
    },
    {
     "name": "stderr",
     "output_type": "stream",
     "text": [
      "/home/workstation/Escritorio/PabloC/TransferLearning/.venv/lib/python3.10/site-packages/keras/src/saving/saving_lib.py:719: UserWarning: Skipping variable loading for optimizer 'adam', because it has 58 variables whereas the saved optimizer has 2 variables. \n",
      "  saveable.load_own_variables(weights_store.get(inner_path))\n"
     ]
    },
    {
     "name": "stdout",
     "output_type": "stream",
     "text": [
      "[MODELO CONGELADO]: 23.245899438858032\n"
     ]
    },
    {
     "name": "stderr",
     "output_type": "stream",
     "text": [
      "/home/workstation/Escritorio/PabloC/TransferLearning/funcionesComunes.py:247: FutureWarning: The behavior of DataFrame concatenation with empty or all-NA entries is deprecated. In a future version, this will no longer exclude empty or all-NA columns when determining the result dtypes. To retain the old behavior, exclude the relevant entries before the concat operation.\n",
      "  predictionsDF = pd.concat([predictionsDF, tempDF], ignore_index=True)\n",
      "/home/workstation/Escritorio/PabloC/TransferLearning/funcionesComunes.py:247: FutureWarning: The behavior of DataFrame concatenation with empty or all-NA entries is deprecated. In a future version, this will no longer exclude empty or all-NA columns when determining the result dtypes. To retain the old behavior, exclude the relevant entries before the concat operation.\n",
      "  predictionsDF = pd.concat([predictionsDF, tempDF], ignore_index=True)\n",
      "/home/workstation/Escritorio/PabloC/TransferLearning/funcionesComunes.py:247: FutureWarning: The behavior of DataFrame concatenation with empty or all-NA entries is deprecated. In a future version, this will no longer exclude empty or all-NA columns when determining the result dtypes. To retain the old behavior, exclude the relevant entries before the concat operation.\n",
      "  predictionsDF = pd.concat([predictionsDF, tempDF], ignore_index=True)\n"
     ]
    },
    {
     "name": "stdout",
     "output_type": "stream",
     "text": [
      "RESULTADOS DE MSE, RMSE, R2, MAPE (Train): 28.25512441804205, 5.315554949207284, 0.5808577778163061, 28.57081392787325\n",
      "RESULTADOS DE MSE, RMSE, R2, MAPE (Val): 21.883867056249635, 4.678019565612101, 0.6339471031250988, 29.63547649804299\n",
      "RESULTADOS DE MSE, RMSE, R2, MAPE (Test): 28.370663105614433, 5.326411841532199, 0.3271296785073362, 34.011542549946654\n",
      "Pinus gerardiana Tsuga dumosa\n",
      "(10101, 77)\n",
      "SE HA NORMALIZADO EL ARCHIVO: Pinus gerardiana_merged.csv\n",
      "(5767, 4, 43) (2181, 4, 43) (1745, 4, 43)\n",
      "<Conv1D name=conv1d_5, built=True> False\n",
      "<BatchNormalization name=batch_normalization_5, built=True> False\n",
      "<MaxPooling1D name=max_pooling1d_4, built=True> False\n",
      "<Conv1D name=conv1d_6, built=True> False\n",
      "<BatchNormalization name=batch_normalization_6, built=True> False\n",
      "<MaxPooling1D name=max_pooling1d_5, built=True> False\n",
      "<Dropout name=dropout_1, built=True> True\n",
      "<Conv1D name=conv1d_7, built=True> False\n",
      "<BatchNormalization name=batch_normalization_7, built=True> False\n",
      "<MaxPooling1D name=max_pooling1d_6, built=True> False\n",
      "<Conv1D name=conv1d_8, built=True> False\n",
      "<BatchNormalization name=batch_normalization_8, built=True> False\n",
      "<MaxPooling1D name=max_pooling1d_7, built=True> False\n",
      "<Conv1D name=conv1d_9, built=True> False\n",
      "<BatchNormalization name=batch_normalization_9, built=True> False\n",
      "<MaxPooling1D name=max_pooling1d_8, built=True> False\n",
      "<Conv1D name=conv1d_10, built=True> True\n",
      "<BatchNormalization name=batch_normalization_10, built=True> True\n",
      "<GlobalAveragePooling1D name=global_average_pooling1d_1, built=True> True\n",
      "<Dense name=dense_2, built=True> True\n",
      "<Dense name=dense_3, built=True> True\n"
     ]
    },
    {
     "name": "stderr",
     "output_type": "stream",
     "text": [
      "/home/workstation/Escritorio/PabloC/TransferLearning/.venv/lib/python3.10/site-packages/keras/src/saving/saving_lib.py:719: UserWarning: Skipping variable loading for optimizer 'adam', because it has 58 variables whereas the saved optimizer has 2 variables. \n",
      "  saveable.load_own_variables(weights_store.get(inner_path))\n"
     ]
    },
    {
     "name": "stdout",
     "output_type": "stream",
     "text": [
      "[MODELO CONGELADO]: 12.485695600509644\n"
     ]
    },
    {
     "name": "stderr",
     "output_type": "stream",
     "text": [
      "/home/workstation/Escritorio/PabloC/TransferLearning/funcionesComunes.py:247: FutureWarning: The behavior of DataFrame concatenation with empty or all-NA entries is deprecated. In a future version, this will no longer exclude empty or all-NA columns when determining the result dtypes. To retain the old behavior, exclude the relevant entries before the concat operation.\n",
      "  predictionsDF = pd.concat([predictionsDF, tempDF], ignore_index=True)\n",
      "/home/workstation/Escritorio/PabloC/TransferLearning/funcionesComunes.py:247: FutureWarning: The behavior of DataFrame concatenation with empty or all-NA entries is deprecated. In a future version, this will no longer exclude empty or all-NA columns when determining the result dtypes. To retain the old behavior, exclude the relevant entries before the concat operation.\n",
      "  predictionsDF = pd.concat([predictionsDF, tempDF], ignore_index=True)\n",
      "/home/workstation/Escritorio/PabloC/TransferLearning/funcionesComunes.py:247: FutureWarning: The behavior of DataFrame concatenation with empty or all-NA entries is deprecated. In a future version, this will no longer exclude empty or all-NA columns when determining the result dtypes. To retain the old behavior, exclude the relevant entries before the concat operation.\n",
      "  predictionsDF = pd.concat([predictionsDF, tempDF], ignore_index=True)\n"
     ]
    },
    {
     "name": "stdout",
     "output_type": "stream",
     "text": [
      "RESULTADOS DE MSE, RMSE, R2, MAPE (Train): 19.476206465722242, 4.413185523601092, 0.4982573797073657, 35.29816727102348\n",
      "RESULTADOS DE MSE, RMSE, R2, MAPE (Val): 22.016454750694297, 4.692169514275278, 0.4436071391498241, 36.31699974750456\n",
      "RESULTADOS DE MSE, RMSE, R2, MAPE (Test): 18.444521720550707, 4.294708572249194, 0.5409006508920692, 34.759411126536385\n",
      "Populus ciliata Tsuga dumosa\n",
      "(1182, 77)\n",
      "SE HA NORMALIZADO EL ARCHIVO: Populus ciliata_merged.csv\n",
      "(705, 4, 43) (156, 4, 43) (265, 4, 43)\n"
     ]
    },
    {
     "name": "stderr",
     "output_type": "stream",
     "text": [
      "/home/workstation/Escritorio/PabloC/TransferLearning/.venv/lib/python3.10/site-packages/keras/src/saving/saving_lib.py:719: UserWarning: Skipping variable loading for optimizer 'adam', because it has 58 variables whereas the saved optimizer has 2 variables. \n",
      "  saveable.load_own_variables(weights_store.get(inner_path))\n"
     ]
    },
    {
     "name": "stdout",
     "output_type": "stream",
     "text": [
      "<Conv1D name=conv1d_5, built=True> False\n",
      "<BatchNormalization name=batch_normalization_5, built=True> False\n",
      "<MaxPooling1D name=max_pooling1d_4, built=True> False\n",
      "<Conv1D name=conv1d_6, built=True> False\n",
      "<BatchNormalization name=batch_normalization_6, built=True> False\n",
      "<MaxPooling1D name=max_pooling1d_5, built=True> False\n",
      "<Dropout name=dropout_1, built=True> True\n",
      "<Conv1D name=conv1d_7, built=True> False\n",
      "<BatchNormalization name=batch_normalization_7, built=True> False\n",
      "<MaxPooling1D name=max_pooling1d_6, built=True> False\n",
      "<Conv1D name=conv1d_8, built=True> False\n",
      "<BatchNormalization name=batch_normalization_8, built=True> False\n",
      "<MaxPooling1D name=max_pooling1d_7, built=True> False\n",
      "<Conv1D name=conv1d_9, built=True> False\n",
      "<BatchNormalization name=batch_normalization_9, built=True> False\n",
      "<MaxPooling1D name=max_pooling1d_8, built=True> False\n",
      "<Conv1D name=conv1d_10, built=True> True\n",
      "<BatchNormalization name=batch_normalization_10, built=True> True\n",
      "<GlobalAveragePooling1D name=global_average_pooling1d_1, built=True> True\n",
      "<Dense name=dense_2, built=True> True\n",
      "<Dense name=dense_3, built=True> True\n",
      "[MODELO CONGELADO]: 4.431514501571655\n"
     ]
    },
    {
     "name": "stderr",
     "output_type": "stream",
     "text": [
      "/home/workstation/Escritorio/PabloC/TransferLearning/funcionesComunes.py:247: FutureWarning: The behavior of DataFrame concatenation with empty or all-NA entries is deprecated. In a future version, this will no longer exclude empty or all-NA columns when determining the result dtypes. To retain the old behavior, exclude the relevant entries before the concat operation.\n",
      "  predictionsDF = pd.concat([predictionsDF, tempDF], ignore_index=True)\n",
      "/home/workstation/Escritorio/PabloC/TransferLearning/funcionesComunes.py:247: FutureWarning: The behavior of DataFrame concatenation with empty or all-NA entries is deprecated. In a future version, this will no longer exclude empty or all-NA columns when determining the result dtypes. To retain the old behavior, exclude the relevant entries before the concat operation.\n",
      "  predictionsDF = pd.concat([predictionsDF, tempDF], ignore_index=True)\n",
      "/home/workstation/Escritorio/PabloC/TransferLearning/funcionesComunes.py:247: FutureWarning: The behavior of DataFrame concatenation with empty or all-NA entries is deprecated. In a future version, this will no longer exclude empty or all-NA columns when determining the result dtypes. To retain the old behavior, exclude the relevant entries before the concat operation.\n",
      "  predictionsDF = pd.concat([predictionsDF, tempDF], ignore_index=True)\n"
     ]
    },
    {
     "name": "stdout",
     "output_type": "stream",
     "text": [
      "RESULTADOS DE MSE, RMSE, R2, MAPE (Train): 122.77567141872652, 11.080418377422692, 0.6619545882038005, 28.283742118076344\n",
      "RESULTADOS DE MSE, RMSE, R2, MAPE (Val): 146.8568298243144, 12.118449976144408, 0.3742732156855667, 36.45918028318635\n",
      "RESULTADOS DE MSE, RMSE, R2, MAPE (Test): 73.11914670470178, 8.55097343608912, 0.6346414882500868, 30.22950569246456\n",
      "Betula utilis Tsuga dumosa\n",
      "(3473, 77)\n",
      "SE HA NORMALIZADO EL ARCHIVO: Betula utilis_merged.csv\n",
      "(2059, 4, 43) (665, 4, 43) (593, 4, 43)\n",
      "<Conv1D name=conv1d_5, built=True> False\n",
      "<BatchNormalization name=batch_normalization_5, built=True> False\n",
      "<MaxPooling1D name=max_pooling1d_4, built=True> False\n",
      "<Conv1D name=conv1d_6, built=True> False\n",
      "<BatchNormalization name=batch_normalization_6, built=True> False\n",
      "<MaxPooling1D name=max_pooling1d_5, built=True> False\n",
      "<Dropout name=dropout_1, built=True> True\n",
      "<Conv1D name=conv1d_7, built=True> False\n",
      "<BatchNormalization name=batch_normalization_7, built=True> False\n",
      "<MaxPooling1D name=max_pooling1d_6, built=True> False\n",
      "<Conv1D name=conv1d_8, built=True> False\n",
      "<BatchNormalization name=batch_normalization_8, built=True> False\n",
      "<MaxPooling1D name=max_pooling1d_7, built=True> False\n",
      "<Conv1D name=conv1d_9, built=True> False\n",
      "<BatchNormalization name=batch_normalization_9, built=True> False\n",
      "<MaxPooling1D name=max_pooling1d_8, built=True> False\n",
      "<Conv1D name=conv1d_10, built=True> True\n",
      "<BatchNormalization name=batch_normalization_10, built=True> True\n",
      "<GlobalAveragePooling1D name=global_average_pooling1d_1, built=True> True\n",
      "<Dense name=dense_2, built=True> True\n",
      "<Dense name=dense_3, built=True> True\n"
     ]
    },
    {
     "name": "stderr",
     "output_type": "stream",
     "text": [
      "/home/workstation/Escritorio/PabloC/TransferLearning/.venv/lib/python3.10/site-packages/keras/src/saving/saving_lib.py:719: UserWarning: Skipping variable loading for optimizer 'adam', because it has 58 variables whereas the saved optimizer has 2 variables. \n",
      "  saveable.load_own_variables(weights_store.get(inner_path))\n"
     ]
    },
    {
     "name": "stdout",
     "output_type": "stream",
     "text": [
      "[MODELO CONGELADO]: 13.166301488876343\n"
     ]
    },
    {
     "name": "stderr",
     "output_type": "stream",
     "text": [
      "/home/workstation/Escritorio/PabloC/TransferLearning/funcionesComunes.py:247: FutureWarning: The behavior of DataFrame concatenation with empty or all-NA entries is deprecated. In a future version, this will no longer exclude empty or all-NA columns when determining the result dtypes. To retain the old behavior, exclude the relevant entries before the concat operation.\n",
      "  predictionsDF = pd.concat([predictionsDF, tempDF], ignore_index=True)\n",
      "/home/workstation/Escritorio/PabloC/TransferLearning/funcionesComunes.py:247: FutureWarning: The behavior of DataFrame concatenation with empty or all-NA entries is deprecated. In a future version, this will no longer exclude empty or all-NA columns when determining the result dtypes. To retain the old behavior, exclude the relevant entries before the concat operation.\n",
      "  predictionsDF = pd.concat([predictionsDF, tempDF], ignore_index=True)\n",
      "/home/workstation/Escritorio/PabloC/TransferLearning/funcionesComunes.py:247: FutureWarning: The behavior of DataFrame concatenation with empty or all-NA entries is deprecated. In a future version, this will no longer exclude empty or all-NA columns when determining the result dtypes. To retain the old behavior, exclude the relevant entries before the concat operation.\n",
      "  predictionsDF = pd.concat([predictionsDF, tempDF], ignore_index=True)\n"
     ]
    },
    {
     "name": "stdout",
     "output_type": "stream",
     "text": [
      "RESULTADOS DE MSE, RMSE, R2, MAPE (Train): 4.359464855425904, 2.0879331539649213, 0.3564327413490598, 47.32477902728002\n",
      "RESULTADOS DE MSE, RMSE, R2, MAPE (Val): 0.9471376272263283, 0.9732099605050949, 0.5067627062604094, 35.64106590377188\n",
      "RESULTADOS DE MSE, RMSE, R2, MAPE (Test): 0.9504074717904397, 0.9748884406897231, 0.6368020766934022, 36.41558115920024\n",
      "Tsuga dumosa Tsuga dumosa\n",
      "Cedrus deodara Tsuga dumosa\n",
      "(37273, 77)\n",
      "SE HA NORMALIZADO EL ARCHIVO: Cedrus deodara_merged.csv\n",
      "(22017, 4, 43) (7410, 4, 43) (6282, 4, 43)\n",
      "<Conv1D name=conv1d_5, built=True> False\n",
      "<BatchNormalization name=batch_normalization_5, built=True> False\n",
      "<MaxPooling1D name=max_pooling1d_4, built=True> False\n",
      "<Conv1D name=conv1d_6, built=True> False\n",
      "<BatchNormalization name=batch_normalization_6, built=True> False\n",
      "<MaxPooling1D name=max_pooling1d_5, built=True> False\n",
      "<Dropout name=dropout_1, built=True> True\n",
      "<Conv1D name=conv1d_7, built=True> False\n",
      "<BatchNormalization name=batch_normalization_7, built=True> False\n",
      "<MaxPooling1D name=max_pooling1d_6, built=True> False\n",
      "<Conv1D name=conv1d_8, built=True> False\n",
      "<BatchNormalization name=batch_normalization_8, built=True> False\n",
      "<MaxPooling1D name=max_pooling1d_7, built=True> False\n",
      "<Conv1D name=conv1d_9, built=True> False\n",
      "<BatchNormalization name=batch_normalization_9, built=True> False\n",
      "<MaxPooling1D name=max_pooling1d_8, built=True> False\n",
      "<Conv1D name=conv1d_10, built=True> True\n",
      "<BatchNormalization name=batch_normalization_10, built=True> True\n",
      "<GlobalAveragePooling1D name=global_average_pooling1d_1, built=True> True\n",
      "<Dense name=dense_2, built=True> True\n",
      "<Dense name=dense_3, built=True> True\n"
     ]
    },
    {
     "name": "stderr",
     "output_type": "stream",
     "text": [
      "/home/workstation/Escritorio/PabloC/TransferLearning/.venv/lib/python3.10/site-packages/keras/src/saving/saving_lib.py:719: UserWarning: Skipping variable loading for optimizer 'adam', because it has 58 variables whereas the saved optimizer has 2 variables. \n",
      "  saveable.load_own_variables(weights_store.get(inner_path))\n"
     ]
    },
    {
     "name": "stdout",
     "output_type": "stream",
     "text": [
      "[MODELO CONGELADO]: 132.1502721309662\n"
     ]
    },
    {
     "name": "stderr",
     "output_type": "stream",
     "text": [
      "/home/workstation/Escritorio/PabloC/TransferLearning/funcionesComunes.py:247: FutureWarning: The behavior of DataFrame concatenation with empty or all-NA entries is deprecated. In a future version, this will no longer exclude empty or all-NA columns when determining the result dtypes. To retain the old behavior, exclude the relevant entries before the concat operation.\n",
      "  predictionsDF = pd.concat([predictionsDF, tempDF], ignore_index=True)\n",
      "/home/workstation/Escritorio/PabloC/TransferLearning/funcionesComunes.py:247: FutureWarning: The behavior of DataFrame concatenation with empty or all-NA entries is deprecated. In a future version, this will no longer exclude empty or all-NA columns when determining the result dtypes. To retain the old behavior, exclude the relevant entries before the concat operation.\n",
      "  predictionsDF = pd.concat([predictionsDF, tempDF], ignore_index=True)\n",
      "/home/workstation/Escritorio/PabloC/TransferLearning/funcionesComunes.py:247: FutureWarning: The behavior of DataFrame concatenation with empty or all-NA entries is deprecated. In a future version, this will no longer exclude empty or all-NA columns when determining the result dtypes. To retain the old behavior, exclude the relevant entries before the concat operation.\n",
      "  predictionsDF = pd.concat([predictionsDF, tempDF], ignore_index=True)\n"
     ]
    },
    {
     "name": "stdout",
     "output_type": "stream",
     "text": [
      "RESULTADOS DE MSE, RMSE, R2, MAPE (Train): 165.70011200504896, 12.872455554595982, 0.6120615156398319, 34.410586795060105\n",
      "RESULTADOS DE MSE, RMSE, R2, MAPE (Val): 201.17488187277053, 14.18361314590787, 0.549077006167982, 36.3825409039299\n",
      "RESULTADOS DE MSE, RMSE, R2, MAPE (Test): 167.37767227302695, 12.937452309980777, 0.525072614307821, 35.4111252151878\n",
      "Juniperus spp. L. Tsuga dumosa\n",
      "(7264, 77)\n",
      "SE HA NORMALIZADO EL ARCHIVO: Juniperus spp. L._merged.csv\n",
      "(4216, 4, 43) (1524, 4, 43) (1188, 4, 43)\n",
      "<Conv1D name=conv1d_5, built=True> False\n",
      "<BatchNormalization name=batch_normalization_5, built=True> False\n",
      "<MaxPooling1D name=max_pooling1d_4, built=True> False\n",
      "<Conv1D name=conv1d_6, built=True> False\n",
      "<BatchNormalization name=batch_normalization_6, built=True> False\n",
      "<MaxPooling1D name=max_pooling1d_5, built=True> False\n",
      "<Dropout name=dropout_1, built=True> True\n",
      "<Conv1D name=conv1d_7, built=True> False\n",
      "<BatchNormalization name=batch_normalization_7, built=True> False\n",
      "<MaxPooling1D name=max_pooling1d_6, built=True> False\n",
      "<Conv1D name=conv1d_8, built=True> False\n",
      "<BatchNormalization name=batch_normalization_8, built=True> False\n",
      "<MaxPooling1D name=max_pooling1d_7, built=True> False\n",
      "<Conv1D name=conv1d_9, built=True> False\n",
      "<BatchNormalization name=batch_normalization_9, built=True> False\n",
      "<MaxPooling1D name=max_pooling1d_8, built=True> False\n",
      "<Conv1D name=conv1d_10, built=True> True\n",
      "<BatchNormalization name=batch_normalization_10, built=True> True\n",
      "<GlobalAveragePooling1D name=global_average_pooling1d_1, built=True> True\n",
      "<Dense name=dense_2, built=True> True\n",
      "<Dense name=dense_3, built=True> True\n"
     ]
    },
    {
     "name": "stderr",
     "output_type": "stream",
     "text": [
      "/home/workstation/Escritorio/PabloC/TransferLearning/.venv/lib/python3.10/site-packages/keras/src/saving/saving_lib.py:719: UserWarning: Skipping variable loading for optimizer 'adam', because it has 58 variables whereas the saved optimizer has 2 variables. \n",
      "  saveable.load_own_variables(weights_store.get(inner_path))\n"
     ]
    },
    {
     "name": "stdout",
     "output_type": "stream",
     "text": [
      "[MODELO CONGELADO]: 6.8839709758758545\n"
     ]
    },
    {
     "name": "stderr",
     "output_type": "stream",
     "text": [
      "/home/workstation/Escritorio/PabloC/TransferLearning/funcionesComunes.py:247: FutureWarning: The behavior of DataFrame concatenation with empty or all-NA entries is deprecated. In a future version, this will no longer exclude empty or all-NA columns when determining the result dtypes. To retain the old behavior, exclude the relevant entries before the concat operation.\n",
      "  predictionsDF = pd.concat([predictionsDF, tempDF], ignore_index=True)\n",
      "/home/workstation/Escritorio/PabloC/TransferLearning/funcionesComunes.py:247: FutureWarning: The behavior of DataFrame concatenation with empty or all-NA entries is deprecated. In a future version, this will no longer exclude empty or all-NA columns when determining the result dtypes. To retain the old behavior, exclude the relevant entries before the concat operation.\n",
      "  predictionsDF = pd.concat([predictionsDF, tempDF], ignore_index=True)\n",
      "/home/workstation/Escritorio/PabloC/TransferLearning/funcionesComunes.py:247: FutureWarning: The behavior of DataFrame concatenation with empty or all-NA entries is deprecated. In a future version, this will no longer exclude empty or all-NA columns when determining the result dtypes. To retain the old behavior, exclude the relevant entries before the concat operation.\n",
      "  predictionsDF = pd.concat([predictionsDF, tempDF], ignore_index=True)\n"
     ]
    },
    {
     "name": "stdout",
     "output_type": "stream",
     "text": [
      "RESULTADOS DE MSE, RMSE, R2, MAPE (Train): 4.69339839215697, 2.1664252565359763, 0.6255461659993246, 39.538918145619434\n",
      "RESULTADOS DE MSE, RMSE, R2, MAPE (Val): 1.5426776828730304, 1.2420457652087666, 0.3154778622081361, 43.45303468170498\n",
      "RESULTADOS DE MSE, RMSE, R2, MAPE (Test): 14.942443440845551, 3.865545684744335, 0.2117773325412038, 55.51424188815549\n",
      "Juniperus recurva Tsuga dumosa\n",
      "(5316, 77)\n",
      "SE HA NORMALIZADO EL ARCHIVO: Juniperus recurva_merged.csv\n",
      "(3188, 4, 43) (1082, 4, 43) (810, 4, 43)\n",
      "<Conv1D name=conv1d_5, built=True> False\n",
      "<BatchNormalization name=batch_normalization_5, built=True> False\n",
      "<MaxPooling1D name=max_pooling1d_4, built=True> False\n",
      "<Conv1D name=conv1d_6, built=True> False\n",
      "<BatchNormalization name=batch_normalization_6, built=True> False\n",
      "<MaxPooling1D name=max_pooling1d_5, built=True> False\n",
      "<Dropout name=dropout_1, built=True> True\n",
      "<Conv1D name=conv1d_7, built=True> False\n",
      "<BatchNormalization name=batch_normalization_7, built=True> False\n",
      "<MaxPooling1D name=max_pooling1d_6, built=True> False\n",
      "<Conv1D name=conv1d_8, built=True> False\n",
      "<BatchNormalization name=batch_normalization_8, built=True> False\n",
      "<MaxPooling1D name=max_pooling1d_7, built=True> False\n",
      "<Conv1D name=conv1d_9, built=True> False\n",
      "<BatchNormalization name=batch_normalization_9, built=True> False\n",
      "<MaxPooling1D name=max_pooling1d_8, built=True> False\n",
      "<Conv1D name=conv1d_10, built=True> True\n",
      "<BatchNormalization name=batch_normalization_10, built=True> True\n",
      "<GlobalAveragePooling1D name=global_average_pooling1d_1, built=True> True\n",
      "<Dense name=dense_2, built=True> True\n",
      "<Dense name=dense_3, built=True> True\n"
     ]
    },
    {
     "name": "stderr",
     "output_type": "stream",
     "text": [
      "/home/workstation/Escritorio/PabloC/TransferLearning/.venv/lib/python3.10/site-packages/keras/src/saving/saving_lib.py:719: UserWarning: Skipping variable loading for optimizer 'adam', because it has 58 variables whereas the saved optimizer has 2 variables. \n",
      "  saveable.load_own_variables(weights_store.get(inner_path))\n"
     ]
    },
    {
     "name": "stdout",
     "output_type": "stream",
     "text": [
      "[MODELO CONGELADO]: 21.63640856742859\n"
     ]
    },
    {
     "name": "stderr",
     "output_type": "stream",
     "text": [
      "/home/workstation/Escritorio/PabloC/TransferLearning/funcionesComunes.py:247: FutureWarning: The behavior of DataFrame concatenation with empty or all-NA entries is deprecated. In a future version, this will no longer exclude empty or all-NA columns when determining the result dtypes. To retain the old behavior, exclude the relevant entries before the concat operation.\n",
      "  predictionsDF = pd.concat([predictionsDF, tempDF], ignore_index=True)\n",
      "/home/workstation/Escritorio/PabloC/TransferLearning/funcionesComunes.py:247: FutureWarning: The behavior of DataFrame concatenation with empty or all-NA entries is deprecated. In a future version, this will no longer exclude empty or all-NA columns when determining the result dtypes. To retain the old behavior, exclude the relevant entries before the concat operation.\n",
      "  predictionsDF = pd.concat([predictionsDF, tempDF], ignore_index=True)\n",
      "/home/workstation/Escritorio/PabloC/TransferLearning/funcionesComunes.py:247: FutureWarning: The behavior of DataFrame concatenation with empty or all-NA entries is deprecated. In a future version, this will no longer exclude empty or all-NA columns when determining the result dtypes. To retain the old behavior, exclude the relevant entries before the concat operation.\n",
      "  predictionsDF = pd.concat([predictionsDF, tempDF], ignore_index=True)\n"
     ]
    },
    {
     "name": "stdout",
     "output_type": "stream",
     "text": [
      "RESULTADOS DE MSE, RMSE, R2, MAPE (Train): 3.142942594102145, 1.772834621193456, 0.8751110827315587, 19.658435895454794\n",
      "RESULTADOS DE MSE, RMSE, R2, MAPE (Val): 3.570317806457749, 1.8895284614045245, 0.8703567032546753, 21.506991183444317\n",
      "RESULTADOS DE MSE, RMSE, R2, MAPE (Test): 1.0557656326195037, 1.0275045657414392, 0.8877591811467245, 15.378642874004816\n",
      "totalMerged.csv Tsuga dumosa\n",
      "Juniperus spp.  Tsuga dumosa\n",
      "(17976, 77)\n",
      "SE HA NORMALIZADO EL ARCHIVO: Juniperus spp. _merged.csv\n",
      "(10218, 4, 43) (3900, 4, 43) (3018, 4, 43)\n",
      "<Conv1D name=conv1d_5, built=True> False\n",
      "<BatchNormalization name=batch_normalization_5, built=True> False\n",
      "<MaxPooling1D name=max_pooling1d_4, built=True> False\n",
      "<Conv1D name=conv1d_6, built=True> False\n",
      "<BatchNormalization name=batch_normalization_6, built=True> False\n",
      "<MaxPooling1D name=max_pooling1d_5, built=True> False\n",
      "<Dropout name=dropout_1, built=True> True\n",
      "<Conv1D name=conv1d_7, built=True> False\n",
      "<BatchNormalization name=batch_normalization_7, built=True> False\n",
      "<MaxPooling1D name=max_pooling1d_6, built=True> False\n",
      "<Conv1D name=conv1d_8, built=True> False\n",
      "<BatchNormalization name=batch_normalization_8, built=True> False\n",
      "<MaxPooling1D name=max_pooling1d_7, built=True> False\n",
      "<Conv1D name=conv1d_9, built=True> False\n",
      "<BatchNormalization name=batch_normalization_9, built=True> False\n",
      "<MaxPooling1D name=max_pooling1d_8, built=True> False\n",
      "<Conv1D name=conv1d_10, built=True> True\n",
      "<BatchNormalization name=batch_normalization_10, built=True> True\n",
      "<GlobalAveragePooling1D name=global_average_pooling1d_1, built=True> True\n",
      "<Dense name=dense_2, built=True> True\n",
      "<Dense name=dense_3, built=True> True\n"
     ]
    },
    {
     "name": "stderr",
     "output_type": "stream",
     "text": [
      "/home/workstation/Escritorio/PabloC/TransferLearning/.venv/lib/python3.10/site-packages/keras/src/saving/saving_lib.py:719: UserWarning: Skipping variable loading for optimizer 'adam', because it has 58 variables whereas the saved optimizer has 2 variables. \n",
      "  saveable.load_own_variables(weights_store.get(inner_path))\n"
     ]
    },
    {
     "name": "stdout",
     "output_type": "stream",
     "text": [
      "[MODELO CONGELADO]: 40.062435150146484\n"
     ]
    },
    {
     "name": "stderr",
     "output_type": "stream",
     "text": [
      "/home/workstation/Escritorio/PabloC/TransferLearning/funcionesComunes.py:247: FutureWarning: The behavior of DataFrame concatenation with empty or all-NA entries is deprecated. In a future version, this will no longer exclude empty or all-NA columns when determining the result dtypes. To retain the old behavior, exclude the relevant entries before the concat operation.\n",
      "  predictionsDF = pd.concat([predictionsDF, tempDF], ignore_index=True)\n",
      "/home/workstation/Escritorio/PabloC/TransferLearning/funcionesComunes.py:247: FutureWarning: The behavior of DataFrame concatenation with empty or all-NA entries is deprecated. In a future version, this will no longer exclude empty or all-NA columns when determining the result dtypes. To retain the old behavior, exclude the relevant entries before the concat operation.\n",
      "  predictionsDF = pd.concat([predictionsDF, tempDF], ignore_index=True)\n",
      "/home/workstation/Escritorio/PabloC/TransferLearning/funcionesComunes.py:247: FutureWarning: The behavior of DataFrame concatenation with empty or all-NA entries is deprecated. In a future version, this will no longer exclude empty or all-NA columns when determining the result dtypes. To retain the old behavior, exclude the relevant entries before the concat operation.\n",
      "  predictionsDF = pd.concat([predictionsDF, tempDF], ignore_index=True)\n"
     ]
    },
    {
     "name": "stdout",
     "output_type": "stream",
     "text": [
      "RESULTADOS DE MSE, RMSE, R2, MAPE (Train): 32.34000782775009, 5.686827571480437, 0.4725566303052817, 41.24414798603162\n",
      "RESULTADOS DE MSE, RMSE, R2, MAPE (Val): 9.255552077192384, 3.0422938840934455, 0.5295239765423851, 42.04916198109309\n",
      "RESULTADOS DE MSE, RMSE, R2, MAPE (Test): 50.0426300628279, 7.074081570269592, 0.5211063052135642, 42.50396707012825\n",
      "Procesando el modelo: model_Juniperus turkestanica Komar..keras\n",
      "Abies spectabilis Juniperus turkestanica Komar.\n",
      "(96429, 77)\n",
      "SE HA NORMALIZADO EL ARCHIVO: Abies spectabilis_merged.csv\n",
      "(56618, 4, 43) (19637, 4, 43) (15689, 4, 43)\n",
      "<Conv1D name=conv1d_4, built=True> False\n",
      "<BatchNormalization name=batch_normalization_4, built=True> False\n",
      "<MaxPooling1D name=max_pooling1d_3, built=True> False\n",
      "<Dropout name=dropout_1, built=True> True\n",
      "<Conv1D name=conv1d_5, built=True> False\n",
      "<BatchNormalization name=batch_normalization_5, built=True> False\n",
      "<MaxPooling1D name=max_pooling1d_4, built=True> False\n",
      "<Conv1D name=conv1d_6, built=True> True\n",
      "<BatchNormalization name=batch_normalization_6, built=True> True\n",
      "<GlobalAveragePooling1D name=global_average_pooling1d_1, built=True> True\n",
      "<Dense name=dense_2, built=True> True\n",
      "<Dense name=dense_3, built=True> True\n"
     ]
    },
    {
     "name": "stderr",
     "output_type": "stream",
     "text": [
      "/home/workstation/Escritorio/PabloC/TransferLearning/.venv/lib/python3.10/site-packages/keras/src/saving/saving_lib.py:719: UserWarning: Skipping variable loading for optimizer 'adam', because it has 34 variables whereas the saved optimizer has 2 variables. \n",
      "  saveable.load_own_variables(weights_store.get(inner_path))\n"
     ]
    },
    {
     "name": "stdout",
     "output_type": "stream",
     "text": [
      "[MODELO CONGELADO]: 320.71163177490234\n"
     ]
    },
    {
     "name": "stderr",
     "output_type": "stream",
     "text": [
      "/home/workstation/Escritorio/PabloC/TransferLearning/funcionesComunes.py:247: FutureWarning: The behavior of DataFrame concatenation with empty or all-NA entries is deprecated. In a future version, this will no longer exclude empty or all-NA columns when determining the result dtypes. To retain the old behavior, exclude the relevant entries before the concat operation.\n",
      "  predictionsDF = pd.concat([predictionsDF, tempDF], ignore_index=True)\n",
      "/home/workstation/Escritorio/PabloC/TransferLearning/funcionesComunes.py:247: FutureWarning: The behavior of DataFrame concatenation with empty or all-NA entries is deprecated. In a future version, this will no longer exclude empty or all-NA columns when determining the result dtypes. To retain the old behavior, exclude the relevant entries before the concat operation.\n",
      "  predictionsDF = pd.concat([predictionsDF, tempDF], ignore_index=True)\n",
      "/home/workstation/Escritorio/PabloC/TransferLearning/funcionesComunes.py:247: FutureWarning: The behavior of DataFrame concatenation with empty or all-NA entries is deprecated. In a future version, this will no longer exclude empty or all-NA columns when determining the result dtypes. To retain the old behavior, exclude the relevant entries before the concat operation.\n",
      "  predictionsDF = pd.concat([predictionsDF, tempDF], ignore_index=True)\n"
     ]
    },
    {
     "name": "stdout",
     "output_type": "stream",
     "text": [
      "RESULTADOS DE MSE, RMSE, R2, MAPE (Train): 65.9774062370719, 8.122647735626106, 0.42115005022075347, 42.80273190341354\n",
      "RESULTADOS DE MSE, RMSE, R2, MAPE (Val): 66.7000946422088, 8.167012589815739, 0.3922524076123225, 43.31515953398355\n",
      "RESULTADOS DE MSE, RMSE, R2, MAPE (Test): 70.09862682630754, 8.37249227090163, 0.48013064269231376, 42.33425400459442\n",
      "Picea smithiana Juniperus turkestanica Komar.\n",
      "(34476, 77)\n",
      "SE HA NORMALIZADO EL ARCHIVO: Picea smithiana_merged.csv\n",
      "(19933, 4, 43) (7272, 4, 43) (5863, 4, 43)\n",
      "<Conv1D name=conv1d_4, built=True> False\n",
      "<BatchNormalization name=batch_normalization_4, built=True> False\n",
      "<MaxPooling1D name=max_pooling1d_3, built=True> False\n",
      "<Dropout name=dropout_1, built=True> True\n",
      "<Conv1D name=conv1d_5, built=True> False\n",
      "<BatchNormalization name=batch_normalization_5, built=True> False\n",
      "<MaxPooling1D name=max_pooling1d_4, built=True> False\n",
      "<Conv1D name=conv1d_6, built=True> True\n",
      "<BatchNormalization name=batch_normalization_6, built=True> True\n",
      "<GlobalAveragePooling1D name=global_average_pooling1d_1, built=True> True\n",
      "<Dense name=dense_2, built=True> True\n",
      "<Dense name=dense_3, built=True> True\n"
     ]
    },
    {
     "name": "stderr",
     "output_type": "stream",
     "text": [
      "/home/workstation/Escritorio/PabloC/TransferLearning/.venv/lib/python3.10/site-packages/keras/src/saving/saving_lib.py:719: UserWarning: Skipping variable loading for optimizer 'adam', because it has 34 variables whereas the saved optimizer has 2 variables. \n",
      "  saveable.load_own_variables(weights_store.get(inner_path))\n"
     ]
    },
    {
     "name": "stdout",
     "output_type": "stream",
     "text": [
      "[MODELO CONGELADO]: 65.3018479347229\n"
     ]
    },
    {
     "name": "stderr",
     "output_type": "stream",
     "text": [
      "/home/workstation/Escritorio/PabloC/TransferLearning/funcionesComunes.py:247: FutureWarning: The behavior of DataFrame concatenation with empty or all-NA entries is deprecated. In a future version, this will no longer exclude empty or all-NA columns when determining the result dtypes. To retain the old behavior, exclude the relevant entries before the concat operation.\n",
      "  predictionsDF = pd.concat([predictionsDF, tempDF], ignore_index=True)\n",
      "/home/workstation/Escritorio/PabloC/TransferLearning/funcionesComunes.py:247: FutureWarning: The behavior of DataFrame concatenation with empty or all-NA entries is deprecated. In a future version, this will no longer exclude empty or all-NA columns when determining the result dtypes. To retain the old behavior, exclude the relevant entries before the concat operation.\n",
      "  predictionsDF = pd.concat([predictionsDF, tempDF], ignore_index=True)\n",
      "/home/workstation/Escritorio/PabloC/TransferLearning/funcionesComunes.py:247: FutureWarning: The behavior of DataFrame concatenation with empty or all-NA entries is deprecated. In a future version, this will no longer exclude empty or all-NA columns when determining the result dtypes. To retain the old behavior, exclude the relevant entries before the concat operation.\n",
      "  predictionsDF = pd.concat([predictionsDF, tempDF], ignore_index=True)\n"
     ]
    },
    {
     "name": "stdout",
     "output_type": "stream",
     "text": [
      "RESULTADOS DE MSE, RMSE, R2, MAPE (Train): 150.80315932712298, 12.280193782148675, 0.5580602209392642, 34.709922134774786\n",
      "RESULTADOS DE MSE, RMSE, R2, MAPE (Val): 201.11289363858063, 14.1814277715109, 0.4196415489501497, 38.975673598870614\n",
      "RESULTADOS DE MSE, RMSE, R2, MAPE (Test): 160.75403664678095, 12.678881521915919, 0.45714051853094784, 37.849120596181805\n",
      "Abies pindrow Juniperus turkestanica Komar.\n",
      "(16018, 77)\n",
      "SE HA NORMALIZADO EL ARCHIVO: Abies pindrow_merged.csv\n",
      "(9042, 4, 43) (3441, 4, 43) (2815, 4, 43)\n",
      "<Conv1D name=conv1d_4, built=True> False\n",
      "<BatchNormalization name=batch_normalization_4, built=True> False\n",
      "<MaxPooling1D name=max_pooling1d_3, built=True> False\n",
      "<Dropout name=dropout_1, built=True> True\n",
      "<Conv1D name=conv1d_5, built=True> False\n",
      "<BatchNormalization name=batch_normalization_5, built=True> False\n",
      "<MaxPooling1D name=max_pooling1d_4, built=True> False\n",
      "<Conv1D name=conv1d_6, built=True> True\n",
      "<BatchNormalization name=batch_normalization_6, built=True> True\n",
      "<GlobalAveragePooling1D name=global_average_pooling1d_1, built=True> True\n",
      "<Dense name=dense_2, built=True> True\n",
      "<Dense name=dense_3, built=True> True\n"
     ]
    },
    {
     "name": "stderr",
     "output_type": "stream",
     "text": [
      "/home/workstation/Escritorio/PabloC/TransferLearning/.venv/lib/python3.10/site-packages/keras/src/saving/saving_lib.py:719: UserWarning: Skipping variable loading for optimizer 'adam', because it has 34 variables whereas the saved optimizer has 2 variables. \n",
      "  saveable.load_own_variables(weights_store.get(inner_path))\n"
     ]
    },
    {
     "name": "stdout",
     "output_type": "stream",
     "text": [
      "[MODELO CONGELADO]: 29.22191095352173\n"
     ]
    },
    {
     "name": "stderr",
     "output_type": "stream",
     "text": [
      "/home/workstation/Escritorio/PabloC/TransferLearning/funcionesComunes.py:247: FutureWarning: The behavior of DataFrame concatenation with empty or all-NA entries is deprecated. In a future version, this will no longer exclude empty or all-NA columns when determining the result dtypes. To retain the old behavior, exclude the relevant entries before the concat operation.\n",
      "  predictionsDF = pd.concat([predictionsDF, tempDF], ignore_index=True)\n",
      "/home/workstation/Escritorio/PabloC/TransferLearning/funcionesComunes.py:247: FutureWarning: The behavior of DataFrame concatenation with empty or all-NA entries is deprecated. In a future version, this will no longer exclude empty or all-NA columns when determining the result dtypes. To retain the old behavior, exclude the relevant entries before the concat operation.\n",
      "  predictionsDF = pd.concat([predictionsDF, tempDF], ignore_index=True)\n",
      "/home/workstation/Escritorio/PabloC/TransferLearning/funcionesComunes.py:247: FutureWarning: The behavior of DataFrame concatenation with empty or all-NA entries is deprecated. In a future version, this will no longer exclude empty or all-NA columns when determining the result dtypes. To retain the old behavior, exclude the relevant entries before the concat operation.\n",
      "  predictionsDF = pd.concat([predictionsDF, tempDF], ignore_index=True)\n"
     ]
    },
    {
     "name": "stdout",
     "output_type": "stream",
     "text": [
      "RESULTADOS DE MSE, RMSE, R2, MAPE (Train): 137.979227848631, 11.74645596972257, 0.40774907252456916, 37.33426189614736\n",
      "RESULTADOS DE MSE, RMSE, R2, MAPE (Val): 132.1320617799668, 11.494871107583887, 0.2462542132415293, 34.581524089516066\n",
      "RESULTADOS DE MSE, RMSE, R2, MAPE (Test): 190.82286857086092, 13.813865084430965, -0.349063759385859, 39.614547604467944\n",
      "Juniperus excelsa M.-Bieb Juniperus turkestanica Komar.\n",
      "(7449, 77)\n",
      "SE HA NORMALIZADO EL ARCHIVO: Juniperus excelsa M.-Bieb_merged.csv\n",
      "(4189, 4, 43) (1707, 4, 43) (1228, 4, 43)\n",
      "<Conv1D name=conv1d_4, built=True> False\n",
      "<BatchNormalization name=batch_normalization_4, built=True> False\n",
      "<MaxPooling1D name=max_pooling1d_3, built=True> False\n",
      "<Dropout name=dropout_1, built=True> True\n",
      "<Conv1D name=conv1d_5, built=True> False\n",
      "<BatchNormalization name=batch_normalization_5, built=True> False\n",
      "<MaxPooling1D name=max_pooling1d_4, built=True> False\n",
      "<Conv1D name=conv1d_6, built=True> True\n",
      "<BatchNormalization name=batch_normalization_6, built=True> True\n",
      "<GlobalAveragePooling1D name=global_average_pooling1d_1, built=True> True\n",
      "<Dense name=dense_2, built=True> True\n",
      "<Dense name=dense_3, built=True> True\n"
     ]
    },
    {
     "name": "stderr",
     "output_type": "stream",
     "text": [
      "/home/workstation/Escritorio/PabloC/TransferLearning/.venv/lib/python3.10/site-packages/keras/src/saving/saving_lib.py:719: UserWarning: Skipping variable loading for optimizer 'adam', because it has 34 variables whereas the saved optimizer has 2 variables. \n",
      "  saveable.load_own_variables(weights_store.get(inner_path))\n"
     ]
    },
    {
     "name": "stdout",
     "output_type": "stream",
     "text": [
      "[MODELO CONGELADO]: 12.848684549331665\n"
     ]
    },
    {
     "name": "stderr",
     "output_type": "stream",
     "text": [
      "/home/workstation/Escritorio/PabloC/TransferLearning/funcionesComunes.py:247: FutureWarning: The behavior of DataFrame concatenation with empty or all-NA entries is deprecated. In a future version, this will no longer exclude empty or all-NA columns when determining the result dtypes. To retain the old behavior, exclude the relevant entries before the concat operation.\n",
      "  predictionsDF = pd.concat([predictionsDF, tempDF], ignore_index=True)\n",
      "/home/workstation/Escritorio/PabloC/TransferLearning/funcionesComunes.py:247: FutureWarning: The behavior of DataFrame concatenation with empty or all-NA entries is deprecated. In a future version, this will no longer exclude empty or all-NA columns when determining the result dtypes. To retain the old behavior, exclude the relevant entries before the concat operation.\n",
      "  predictionsDF = pd.concat([predictionsDF, tempDF], ignore_index=True)\n",
      "/home/workstation/Escritorio/PabloC/TransferLearning/funcionesComunes.py:247: FutureWarning: The behavior of DataFrame concatenation with empty or all-NA entries is deprecated. In a future version, this will no longer exclude empty or all-NA columns when determining the result dtypes. To retain the old behavior, exclude the relevant entries before the concat operation.\n",
      "  predictionsDF = pd.concat([predictionsDF, tempDF], ignore_index=True)\n"
     ]
    },
    {
     "name": "stdout",
     "output_type": "stream",
     "text": [
      "RESULTADOS DE MSE, RMSE, R2, MAPE (Train): 6.697366921968513, 2.587927147732044, 0.7277654113477428, 26.4716575151387\n",
      "RESULTADOS DE MSE, RMSE, R2, MAPE (Val): 6.869973378218044, 2.6210634059896463, 0.7380050011373742, 29.292936049803963\n",
      "RESULTADOS DE MSE, RMSE, R2, MAPE (Test): 21.036991975076294, 4.586610074453277, 0.688109112389004, 32.92373920839184\n",
      "Juniperus turkestanica Komar. Juniperus turkestanica Komar.\n",
      "Pinus roxburghii Juniperus turkestanica Komar.\n",
      "(10635, 77)\n",
      "SE HA NORMALIZADO EL ARCHIVO: Pinus roxburghii_merged.csv\n",
      "(6309, 4, 43) (2167, 4, 43) (1647, 4, 43)\n",
      "<Conv1D name=conv1d_4, built=True> False\n",
      "<BatchNormalization name=batch_normalization_4, built=True> False\n",
      "<MaxPooling1D name=max_pooling1d_3, built=True> False\n",
      "<Dropout name=dropout_1, built=True> True\n",
      "<Conv1D name=conv1d_5, built=True> False\n",
      "<BatchNormalization name=batch_normalization_5, built=True> False\n",
      "<MaxPooling1D name=max_pooling1d_4, built=True> False\n",
      "<Conv1D name=conv1d_6, built=True> True\n",
      "<BatchNormalization name=batch_normalization_6, built=True> True\n",
      "<GlobalAveragePooling1D name=global_average_pooling1d_1, built=True> True\n",
      "<Dense name=dense_2, built=True> True\n",
      "<Dense name=dense_3, built=True> True\n"
     ]
    },
    {
     "name": "stderr",
     "output_type": "stream",
     "text": [
      "/home/workstation/Escritorio/PabloC/TransferLearning/.venv/lib/python3.10/site-packages/keras/src/saving/saving_lib.py:719: UserWarning: Skipping variable loading for optimizer 'adam', because it has 34 variables whereas the saved optimizer has 2 variables. \n",
      "  saveable.load_own_variables(weights_store.get(inner_path))\n"
     ]
    },
    {
     "name": "stdout",
     "output_type": "stream",
     "text": [
      "[MODELO CONGELADO]: 13.93801474571228\n"
     ]
    },
    {
     "name": "stderr",
     "output_type": "stream",
     "text": [
      "/home/workstation/Escritorio/PabloC/TransferLearning/funcionesComunes.py:247: FutureWarning: The behavior of DataFrame concatenation with empty or all-NA entries is deprecated. In a future version, this will no longer exclude empty or all-NA columns when determining the result dtypes. To retain the old behavior, exclude the relevant entries before the concat operation.\n",
      "  predictionsDF = pd.concat([predictionsDF, tempDF], ignore_index=True)\n",
      "/home/workstation/Escritorio/PabloC/TransferLearning/funcionesComunes.py:247: FutureWarning: The behavior of DataFrame concatenation with empty or all-NA entries is deprecated. In a future version, this will no longer exclude empty or all-NA columns when determining the result dtypes. To retain the old behavior, exclude the relevant entries before the concat operation.\n",
      "  predictionsDF = pd.concat([predictionsDF, tempDF], ignore_index=True)\n",
      "/home/workstation/Escritorio/PabloC/TransferLearning/funcionesComunes.py:247: FutureWarning: The behavior of DataFrame concatenation with empty or all-NA entries is deprecated. In a future version, this will no longer exclude empty or all-NA columns when determining the result dtypes. To retain the old behavior, exclude the relevant entries before the concat operation.\n",
      "  predictionsDF = pd.concat([predictionsDF, tempDF], ignore_index=True)\n"
     ]
    },
    {
     "name": "stdout",
     "output_type": "stream",
     "text": [
      "RESULTADOS DE MSE, RMSE, R2, MAPE (Train): 196.17319731165352, 14.006184252381287, 0.2645398094831096, 44.63241784239697\n",
      "RESULTADOS DE MSE, RMSE, R2, MAPE (Val): 153.0010382947597, 12.369358847359862, 0.3169850692100473, 44.342590435396275\n",
      "RESULTADOS DE MSE, RMSE, R2, MAPE (Test): 165.97651159693015, 12.88318716765887, 0.3035278750563942, 45.539960044426984\n",
      "Pinus wallichiana Juniperus turkestanica Komar.\n",
      "(9365, 77)\n",
      "SE HA NORMALIZADO EL ARCHIVO: Pinus wallichiana_merged.csv\n",
      "(5508, 4, 43) (1957, 4, 43) (1500, 4, 43)\n",
      "<Conv1D name=conv1d_4, built=True> False\n",
      "<BatchNormalization name=batch_normalization_4, built=True> False\n",
      "<MaxPooling1D name=max_pooling1d_3, built=True> False\n",
      "<Dropout name=dropout_1, built=True> True\n",
      "<Conv1D name=conv1d_5, built=True> False\n",
      "<BatchNormalization name=batch_normalization_5, built=True> False\n",
      "<MaxPooling1D name=max_pooling1d_4, built=True> False\n",
      "<Conv1D name=conv1d_6, built=True> True\n",
      "<BatchNormalization name=batch_normalization_6, built=True> True\n",
      "<GlobalAveragePooling1D name=global_average_pooling1d_1, built=True> True\n",
      "<Dense name=dense_2, built=True> True\n",
      "<Dense name=dense_3, built=True> True\n"
     ]
    },
    {
     "name": "stderr",
     "output_type": "stream",
     "text": [
      "/home/workstation/Escritorio/PabloC/TransferLearning/.venv/lib/python3.10/site-packages/keras/src/saving/saving_lib.py:719: UserWarning: Skipping variable loading for optimizer 'adam', because it has 34 variables whereas the saved optimizer has 2 variables. \n",
      "  saveable.load_own_variables(weights_store.get(inner_path))\n"
     ]
    },
    {
     "name": "stdout",
     "output_type": "stream",
     "text": [
      "[MODELO CONGELADO]: 13.936679124832153\n"
     ]
    },
    {
     "name": "stderr",
     "output_type": "stream",
     "text": [
      "/home/workstation/Escritorio/PabloC/TransferLearning/funcionesComunes.py:247: FutureWarning: The behavior of DataFrame concatenation with empty or all-NA entries is deprecated. In a future version, this will no longer exclude empty or all-NA columns when determining the result dtypes. To retain the old behavior, exclude the relevant entries before the concat operation.\n",
      "  predictionsDF = pd.concat([predictionsDF, tempDF], ignore_index=True)\n",
      "/home/workstation/Escritorio/PabloC/TransferLearning/funcionesComunes.py:247: FutureWarning: The behavior of DataFrame concatenation with empty or all-NA entries is deprecated. In a future version, this will no longer exclude empty or all-NA columns when determining the result dtypes. To retain the old behavior, exclude the relevant entries before the concat operation.\n",
      "  predictionsDF = pd.concat([predictionsDF, tempDF], ignore_index=True)\n",
      "/home/workstation/Escritorio/PabloC/TransferLearning/funcionesComunes.py:247: FutureWarning: The behavior of DataFrame concatenation with empty or all-NA entries is deprecated. In a future version, this will no longer exclude empty or all-NA columns when determining the result dtypes. To retain the old behavior, exclude the relevant entries before the concat operation.\n",
      "  predictionsDF = pd.concat([predictionsDF, tempDF], ignore_index=True)\n"
     ]
    },
    {
     "name": "stdout",
     "output_type": "stream",
     "text": [
      "RESULTADOS DE MSE, RMSE, R2, MAPE (Train): 20.185469163773934, 4.492824185718147, 0.7005646736518276, 24.19915126419004\n",
      "RESULTADOS DE MSE, RMSE, R2, MAPE (Val): 21.798062853057004, 4.668839561717345, 0.6353823557274827, 27.896131691087216\n",
      "RESULTADOS DE MSE, RMSE, R2, MAPE (Test): 53.21699157864393, 7.2949977092966884, -0.2621535879895682, 42.867995067739486\n",
      "Pinus gerardiana Juniperus turkestanica Komar.\n",
      "(10101, 77)\n",
      "SE HA NORMALIZADO EL ARCHIVO: Pinus gerardiana_merged.csv\n",
      "(5767, 4, 43) (2181, 4, 43) (1745, 4, 43)\n",
      "<Conv1D name=conv1d_4, built=True> False\n",
      "<BatchNormalization name=batch_normalization_4, built=True> False\n",
      "<MaxPooling1D name=max_pooling1d_3, built=True> False\n",
      "<Dropout name=dropout_1, built=True> True\n",
      "<Conv1D name=conv1d_5, built=True> False\n",
      "<BatchNormalization name=batch_normalization_5, built=True> False\n",
      "<MaxPooling1D name=max_pooling1d_4, built=True> False\n",
      "<Conv1D name=conv1d_6, built=True> True\n",
      "<BatchNormalization name=batch_normalization_6, built=True> True\n",
      "<GlobalAveragePooling1D name=global_average_pooling1d_1, built=True> True\n",
      "<Dense name=dense_2, built=True> True\n",
      "<Dense name=dense_3, built=True> True\n"
     ]
    },
    {
     "name": "stderr",
     "output_type": "stream",
     "text": [
      "/home/workstation/Escritorio/PabloC/TransferLearning/.venv/lib/python3.10/site-packages/keras/src/saving/saving_lib.py:719: UserWarning: Skipping variable loading for optimizer 'adam', because it has 34 variables whereas the saved optimizer has 2 variables. \n",
      "  saveable.load_own_variables(weights_store.get(inner_path))\n"
     ]
    },
    {
     "name": "stdout",
     "output_type": "stream",
     "text": [
      "[MODELO CONGELADO]: 15.959723472595215\n"
     ]
    },
    {
     "name": "stderr",
     "output_type": "stream",
     "text": [
      "/home/workstation/Escritorio/PabloC/TransferLearning/funcionesComunes.py:247: FutureWarning: The behavior of DataFrame concatenation with empty or all-NA entries is deprecated. In a future version, this will no longer exclude empty or all-NA columns when determining the result dtypes. To retain the old behavior, exclude the relevant entries before the concat operation.\n",
      "  predictionsDF = pd.concat([predictionsDF, tempDF], ignore_index=True)\n",
      "/home/workstation/Escritorio/PabloC/TransferLearning/funcionesComunes.py:247: FutureWarning: The behavior of DataFrame concatenation with empty or all-NA entries is deprecated. In a future version, this will no longer exclude empty or all-NA columns when determining the result dtypes. To retain the old behavior, exclude the relevant entries before the concat operation.\n",
      "  predictionsDF = pd.concat([predictionsDF, tempDF], ignore_index=True)\n",
      "/home/workstation/Escritorio/PabloC/TransferLearning/funcionesComunes.py:247: FutureWarning: The behavior of DataFrame concatenation with empty or all-NA entries is deprecated. In a future version, this will no longer exclude empty or all-NA columns when determining the result dtypes. To retain the old behavior, exclude the relevant entries before the concat operation.\n",
      "  predictionsDF = pd.concat([predictionsDF, tempDF], ignore_index=True)\n"
     ]
    },
    {
     "name": "stdout",
     "output_type": "stream",
     "text": [
      "RESULTADOS DE MSE, RMSE, R2, MAPE (Train): 16.074374747810456, 4.009286064601834, 0.5858947726947354, 32.43435500913392\n",
      "RESULTADOS DE MSE, RMSE, R2, MAPE (Val): 19.68486568803112, 4.4367629740646635, 0.5025303183624643, 34.19758416620963\n",
      "RESULTADOS DE MSE, RMSE, R2, MAPE (Test): 16.62289972880999, 4.077119047662208, 0.586242323796336, 32.91084854741802\n",
      "Populus ciliata Juniperus turkestanica Komar.\n",
      "(1182, 77)\n",
      "SE HA NORMALIZADO EL ARCHIVO: Populus ciliata_merged.csv\n",
      "(705, 4, 43) (156, 4, 43) (265, 4, 43)\n",
      "<Conv1D name=conv1d_4, built=True> False\n",
      "<BatchNormalization name=batch_normalization_4, built=True> False\n",
      "<MaxPooling1D name=max_pooling1d_3, built=True> False\n",
      "<Dropout name=dropout_1, built=True> True\n",
      "<Conv1D name=conv1d_5, built=True> False\n",
      "<BatchNormalization name=batch_normalization_5, built=True> False\n",
      "<MaxPooling1D name=max_pooling1d_4, built=True> False\n",
      "<Conv1D name=conv1d_6, built=True> True\n",
      "<BatchNormalization name=batch_normalization_6, built=True> True\n",
      "<GlobalAveragePooling1D name=global_average_pooling1d_1, built=True> True\n",
      "<Dense name=dense_2, built=True> True\n",
      "<Dense name=dense_3, built=True> True\n"
     ]
    },
    {
     "name": "stderr",
     "output_type": "stream",
     "text": [
      "/home/workstation/Escritorio/PabloC/TransferLearning/.venv/lib/python3.10/site-packages/keras/src/saving/saving_lib.py:719: UserWarning: Skipping variable loading for optimizer 'adam', because it has 34 variables whereas the saved optimizer has 2 variables. \n",
      "  saveable.load_own_variables(weights_store.get(inner_path))\n"
     ]
    },
    {
     "name": "stdout",
     "output_type": "stream",
     "text": [
      "[MODELO CONGELADO]: 2.802703380584717\n"
     ]
    },
    {
     "name": "stderr",
     "output_type": "stream",
     "text": [
      "/home/workstation/Escritorio/PabloC/TransferLearning/funcionesComunes.py:247: FutureWarning: The behavior of DataFrame concatenation with empty or all-NA entries is deprecated. In a future version, this will no longer exclude empty or all-NA columns when determining the result dtypes. To retain the old behavior, exclude the relevant entries before the concat operation.\n",
      "  predictionsDF = pd.concat([predictionsDF, tempDF], ignore_index=True)\n",
      "/home/workstation/Escritorio/PabloC/TransferLearning/funcionesComunes.py:247: FutureWarning: The behavior of DataFrame concatenation with empty or all-NA entries is deprecated. In a future version, this will no longer exclude empty or all-NA columns when determining the result dtypes. To retain the old behavior, exclude the relevant entries before the concat operation.\n",
      "  predictionsDF = pd.concat([predictionsDF, tempDF], ignore_index=True)\n",
      "/home/workstation/Escritorio/PabloC/TransferLearning/funcionesComunes.py:247: FutureWarning: The behavior of DataFrame concatenation with empty or all-NA entries is deprecated. In a future version, this will no longer exclude empty or all-NA columns when determining the result dtypes. To retain the old behavior, exclude the relevant entries before the concat operation.\n",
      "  predictionsDF = pd.concat([predictionsDF, tempDF], ignore_index=True)\n"
     ]
    },
    {
     "name": "stdout",
     "output_type": "stream",
     "text": [
      "RESULTADOS DE MSE, RMSE, R2, MAPE (Train): 190.1355592235514, 13.788965125184392, 0.4764886832048504, 36.547052738071564\n",
      "RESULTADOS DE MSE, RMSE, R2, MAPE (Val): 199.24792175318447, 14.115520598022039, 0.15104553523930042, 44.86580753568336\n",
      "RESULTADOS DE MSE, RMSE, R2, MAPE (Test): 91.99354046938836, 9.591326314404508, 0.5403307539646126, 34.245335474178624\n",
      "Betula utilis Juniperus turkestanica Komar.\n",
      "(3473, 77)\n",
      "SE HA NORMALIZADO EL ARCHIVO: Betula utilis_merged.csv\n",
      "(2059, 4, 43) (665, 4, 43) (593, 4, 43)\n",
      "<Conv1D name=conv1d_4, built=True> False\n",
      "<BatchNormalization name=batch_normalization_4, built=True> False\n",
      "<MaxPooling1D name=max_pooling1d_3, built=True> False\n",
      "<Dropout name=dropout_1, built=True> True\n",
      "<Conv1D name=conv1d_5, built=True> False\n",
      "<BatchNormalization name=batch_normalization_5, built=True> False\n",
      "<MaxPooling1D name=max_pooling1d_4, built=True> False\n",
      "<Conv1D name=conv1d_6, built=True> True\n",
      "<BatchNormalization name=batch_normalization_6, built=True> True\n",
      "<GlobalAveragePooling1D name=global_average_pooling1d_1, built=True> True\n",
      "<Dense name=dense_2, built=True> True\n",
      "<Dense name=dense_3, built=True> True\n"
     ]
    },
    {
     "name": "stderr",
     "output_type": "stream",
     "text": [
      "/home/workstation/Escritorio/PabloC/TransferLearning/.venv/lib/python3.10/site-packages/keras/src/saving/saving_lib.py:719: UserWarning: Skipping variable loading for optimizer 'adam', because it has 34 variables whereas the saved optimizer has 2 variables. \n",
      "  saveable.load_own_variables(weights_store.get(inner_path))\n"
     ]
    },
    {
     "name": "stdout",
     "output_type": "stream",
     "text": [
      "[MODELO CONGELADO]: 14.632167100906372\n"
     ]
    },
    {
     "name": "stderr",
     "output_type": "stream",
     "text": [
      "/home/workstation/Escritorio/PabloC/TransferLearning/funcionesComunes.py:247: FutureWarning: The behavior of DataFrame concatenation with empty or all-NA entries is deprecated. In a future version, this will no longer exclude empty or all-NA columns when determining the result dtypes. To retain the old behavior, exclude the relevant entries before the concat operation.\n",
      "  predictionsDF = pd.concat([predictionsDF, tempDF], ignore_index=True)\n",
      "/home/workstation/Escritorio/PabloC/TransferLearning/funcionesComunes.py:247: FutureWarning: The behavior of DataFrame concatenation with empty or all-NA entries is deprecated. In a future version, this will no longer exclude empty or all-NA columns when determining the result dtypes. To retain the old behavior, exclude the relevant entries before the concat operation.\n",
      "  predictionsDF = pd.concat([predictionsDF, tempDF], ignore_index=True)\n",
      "/home/workstation/Escritorio/PabloC/TransferLearning/funcionesComunes.py:247: FutureWarning: The behavior of DataFrame concatenation with empty or all-NA entries is deprecated. In a future version, this will no longer exclude empty or all-NA columns when determining the result dtypes. To retain the old behavior, exclude the relevant entries before the concat operation.\n",
      "  predictionsDF = pd.concat([predictionsDF, tempDF], ignore_index=True)\n"
     ]
    },
    {
     "name": "stdout",
     "output_type": "stream",
     "text": [
      "RESULTADOS DE MSE, RMSE, R2, MAPE (Train): 5.189529850172847, 2.2780539612074264, 0.23389415670913216, 55.588725825867726\n",
      "RESULTADOS DE MSE, RMSE, R2, MAPE (Val): 1.303329773330352, 1.141634693468253, 0.32126986430655147, 42.780135114620236\n",
      "RESULTADOS DE MSE, RMSE, R2, MAPE (Test): 1.3469335646176233, 1.1605746699879431, 0.4852697521627428, 44.81913537272665\n",
      "Tsuga dumosa Juniperus turkestanica Komar.\n",
      "(20493, 77)\n",
      "SE HA NORMALIZADO EL ARCHIVO: Tsuga dumosa_merged.csv\n",
      "(11935, 4, 43) (4144, 4, 43) (3469, 4, 43)\n",
      "<Conv1D name=conv1d_4, built=True> False\n",
      "<BatchNormalization name=batch_normalization_4, built=True> False\n",
      "<MaxPooling1D name=max_pooling1d_3, built=True> False\n",
      "<Dropout name=dropout_1, built=True> True\n",
      "<Conv1D name=conv1d_5, built=True> False\n",
      "<BatchNormalization name=batch_normalization_5, built=True> False\n",
      "<MaxPooling1D name=max_pooling1d_4, built=True> False\n",
      "<Conv1D name=conv1d_6, built=True> True\n",
      "<BatchNormalization name=batch_normalization_6, built=True> True\n",
      "<GlobalAveragePooling1D name=global_average_pooling1d_1, built=True> True\n",
      "<Dense name=dense_2, built=True> True\n",
      "<Dense name=dense_3, built=True> True\n"
     ]
    },
    {
     "name": "stderr",
     "output_type": "stream",
     "text": [
      "/home/workstation/Escritorio/PabloC/TransferLearning/.venv/lib/python3.10/site-packages/keras/src/saving/saving_lib.py:719: UserWarning: Skipping variable loading for optimizer 'adam', because it has 34 variables whereas the saved optimizer has 2 variables. \n",
      "  saveable.load_own_variables(weights_store.get(inner_path))\n"
     ]
    },
    {
     "name": "stdout",
     "output_type": "stream",
     "text": [
      "[MODELO CONGELADO]: 28.76901888847351\n"
     ]
    },
    {
     "name": "stderr",
     "output_type": "stream",
     "text": [
      "/home/workstation/Escritorio/PabloC/TransferLearning/funcionesComunes.py:247: FutureWarning: The behavior of DataFrame concatenation with empty or all-NA entries is deprecated. In a future version, this will no longer exclude empty or all-NA columns when determining the result dtypes. To retain the old behavior, exclude the relevant entries before the concat operation.\n",
      "  predictionsDF = pd.concat([predictionsDF, tempDF], ignore_index=True)\n",
      "/home/workstation/Escritorio/PabloC/TransferLearning/funcionesComunes.py:247: FutureWarning: The behavior of DataFrame concatenation with empty or all-NA entries is deprecated. In a future version, this will no longer exclude empty or all-NA columns when determining the result dtypes. To retain the old behavior, exclude the relevant entries before the concat operation.\n",
      "  predictionsDF = pd.concat([predictionsDF, tempDF], ignore_index=True)\n",
      "/home/workstation/Escritorio/PabloC/TransferLearning/funcionesComunes.py:247: FutureWarning: The behavior of DataFrame concatenation with empty or all-NA entries is deprecated. In a future version, this will no longer exclude empty or all-NA columns when determining the result dtypes. To retain the old behavior, exclude the relevant entries before the concat operation.\n",
      "  predictionsDF = pd.concat([predictionsDF, tempDF], ignore_index=True)\n"
     ]
    },
    {
     "name": "stdout",
     "output_type": "stream",
     "text": [
      "RESULTADOS DE MSE, RMSE, R2, MAPE (Train): 249.4467407517889, 15.793883016908442, 0.3594728921979017, 44.658763352123124\n",
      "RESULTADOS DE MSE, RMSE, R2, MAPE (Val): 214.57765908981352, 14.648469513563986, 0.3190691022361042, 41.07294353000533\n",
      "RESULTADOS DE MSE, RMSE, R2, MAPE (Test): 385.214961060332, 19.626893820987874, 0.37122871691791515, 45.51390039043726\n",
      "Cedrus deodara Juniperus turkestanica Komar.\n",
      "(37273, 77)\n",
      "SE HA NORMALIZADO EL ARCHIVO: Cedrus deodara_merged.csv\n",
      "(22017, 4, 43) (7410, 4, 43) (6282, 4, 43)\n",
      "<Conv1D name=conv1d_4, built=True> False\n",
      "<BatchNormalization name=batch_normalization_4, built=True> False\n",
      "<MaxPooling1D name=max_pooling1d_3, built=True> False\n",
      "<Dropout name=dropout_1, built=True> True\n",
      "<Conv1D name=conv1d_5, built=True> False\n",
      "<BatchNormalization name=batch_normalization_5, built=True> False\n",
      "<MaxPooling1D name=max_pooling1d_4, built=True> False\n",
      "<Conv1D name=conv1d_6, built=True> True\n",
      "<BatchNormalization name=batch_normalization_6, built=True> True\n",
      "<GlobalAveragePooling1D name=global_average_pooling1d_1, built=True> True\n",
      "<Dense name=dense_2, built=True> True\n",
      "<Dense name=dense_3, built=True> True\n"
     ]
    },
    {
     "name": "stderr",
     "output_type": "stream",
     "text": [
      "/home/workstation/Escritorio/PabloC/TransferLearning/.venv/lib/python3.10/site-packages/keras/src/saving/saving_lib.py:719: UserWarning: Skipping variable loading for optimizer 'adam', because it has 34 variables whereas the saved optimizer has 2 variables. \n",
      "  saveable.load_own_variables(weights_store.get(inner_path))\n"
     ]
    },
    {
     "name": "stdout",
     "output_type": "stream",
     "text": [
      "[MODELO CONGELADO]: 102.23058915138245\n"
     ]
    },
    {
     "name": "stderr",
     "output_type": "stream",
     "text": [
      "/home/workstation/Escritorio/PabloC/TransferLearning/funcionesComunes.py:247: FutureWarning: The behavior of DataFrame concatenation with empty or all-NA entries is deprecated. In a future version, this will no longer exclude empty or all-NA columns when determining the result dtypes. To retain the old behavior, exclude the relevant entries before the concat operation.\n",
      "  predictionsDF = pd.concat([predictionsDF, tempDF], ignore_index=True)\n",
      "/home/workstation/Escritorio/PabloC/TransferLearning/funcionesComunes.py:247: FutureWarning: The behavior of DataFrame concatenation with empty or all-NA entries is deprecated. In a future version, this will no longer exclude empty or all-NA columns when determining the result dtypes. To retain the old behavior, exclude the relevant entries before the concat operation.\n",
      "  predictionsDF = pd.concat([predictionsDF, tempDF], ignore_index=True)\n",
      "/home/workstation/Escritorio/PabloC/TransferLearning/funcionesComunes.py:247: FutureWarning: The behavior of DataFrame concatenation with empty or all-NA entries is deprecated. In a future version, this will no longer exclude empty or all-NA columns when determining the result dtypes. To retain the old behavior, exclude the relevant entries before the concat operation.\n",
      "  predictionsDF = pd.concat([predictionsDF, tempDF], ignore_index=True)\n"
     ]
    },
    {
     "name": "stdout",
     "output_type": "stream",
     "text": [
      "RESULTADOS DE MSE, RMSE, R2, MAPE (Train): 160.95648788877895, 12.686862807202534, 0.6231673279882513, 32.26149215758475\n",
      "RESULTADOS DE MSE, RMSE, R2, MAPE (Val): 211.61094562705676, 14.54685346138665, 0.5256851141579213, 35.52224356161358\n",
      "RESULTADOS DE MSE, RMSE, R2, MAPE (Test): 148.64268930064, 12.191910814168548, 0.5782323718981235, 32.897161818326175\n",
      "Juniperus spp. L. Juniperus turkestanica Komar.\n",
      "(7264, 77)\n",
      "SE HA NORMALIZADO EL ARCHIVO: Juniperus spp. L._merged.csv\n",
      "(4216, 4, 43) (1524, 4, 43) (1188, 4, 43)\n",
      "<Conv1D name=conv1d_4, built=True> False\n",
      "<BatchNormalization name=batch_normalization_4, built=True> False\n",
      "<MaxPooling1D name=max_pooling1d_3, built=True> False\n",
      "<Dropout name=dropout_1, built=True> True\n",
      "<Conv1D name=conv1d_5, built=True> False\n",
      "<BatchNormalization name=batch_normalization_5, built=True> False\n",
      "<MaxPooling1D name=max_pooling1d_4, built=True> False\n",
      "<Conv1D name=conv1d_6, built=True> True\n",
      "<BatchNormalization name=batch_normalization_6, built=True> True\n",
      "<GlobalAveragePooling1D name=global_average_pooling1d_1, built=True> True\n",
      "<Dense name=dense_2, built=True> True\n",
      "<Dense name=dense_3, built=True> True\n"
     ]
    },
    {
     "name": "stderr",
     "output_type": "stream",
     "text": [
      "/home/workstation/Escritorio/PabloC/TransferLearning/.venv/lib/python3.10/site-packages/keras/src/saving/saving_lib.py:719: UserWarning: Skipping variable loading for optimizer 'adam', because it has 34 variables whereas the saved optimizer has 2 variables. \n",
      "  saveable.load_own_variables(weights_store.get(inner_path))\n"
     ]
    },
    {
     "name": "stdout",
     "output_type": "stream",
     "text": [
      "[MODELO CONGELADO]: 11.364482402801514\n"
     ]
    },
    {
     "name": "stderr",
     "output_type": "stream",
     "text": [
      "/home/workstation/Escritorio/PabloC/TransferLearning/funcionesComunes.py:247: FutureWarning: The behavior of DataFrame concatenation with empty or all-NA entries is deprecated. In a future version, this will no longer exclude empty or all-NA columns when determining the result dtypes. To retain the old behavior, exclude the relevant entries before the concat operation.\n",
      "  predictionsDF = pd.concat([predictionsDF, tempDF], ignore_index=True)\n",
      "/home/workstation/Escritorio/PabloC/TransferLearning/funcionesComunes.py:247: FutureWarning: The behavior of DataFrame concatenation with empty or all-NA entries is deprecated. In a future version, this will no longer exclude empty or all-NA columns when determining the result dtypes. To retain the old behavior, exclude the relevant entries before the concat operation.\n",
      "  predictionsDF = pd.concat([predictionsDF, tempDF], ignore_index=True)\n",
      "/home/workstation/Escritorio/PabloC/TransferLearning/funcionesComunes.py:247: FutureWarning: The behavior of DataFrame concatenation with empty or all-NA entries is deprecated. In a future version, this will no longer exclude empty or all-NA columns when determining the result dtypes. To retain the old behavior, exclude the relevant entries before the concat operation.\n",
      "  predictionsDF = pd.concat([predictionsDF, tempDF], ignore_index=True)\n"
     ]
    },
    {
     "name": "stdout",
     "output_type": "stream",
     "text": [
      "RESULTADOS DE MSE, RMSE, R2, MAPE (Train): 1.9475623287018, 1.395550905091534, 0.8446174562644537, 23.96378852892918\n",
      "RESULTADOS DE MSE, RMSE, R2, MAPE (Val): 0.7852951529034204, 0.8861688060992784, 0.6515461895696062, 28.180749532765866\n",
      "RESULTADOS DE MSE, RMSE, R2, MAPE (Test): 3.2576725333598087, 1.8049023611707666, 0.8281558605781265, 26.823901552767243\n",
      "Juniperus recurva Juniperus turkestanica Komar.\n",
      "(5316, 77)\n",
      "SE HA NORMALIZADO EL ARCHIVO: Juniperus recurva_merged.csv\n",
      "(3188, 4, 43) (1082, 4, 43) (810, 4, 43)\n",
      "<Conv1D name=conv1d_4, built=True> False\n",
      "<BatchNormalization name=batch_normalization_4, built=True> False\n",
      "<MaxPooling1D name=max_pooling1d_3, built=True> False\n",
      "<Dropout name=dropout_1, built=True> True\n",
      "<Conv1D name=conv1d_5, built=True> False\n",
      "<BatchNormalization name=batch_normalization_5, built=True> False\n",
      "<MaxPooling1D name=max_pooling1d_4, built=True> False\n",
      "<Conv1D name=conv1d_6, built=True> True\n",
      "<BatchNormalization name=batch_normalization_6, built=True> True\n",
      "<GlobalAveragePooling1D name=global_average_pooling1d_1, built=True> True\n",
      "<Dense name=dense_2, built=True> True\n",
      "<Dense name=dense_3, built=True> True\n"
     ]
    },
    {
     "name": "stderr",
     "output_type": "stream",
     "text": [
      "/home/workstation/Escritorio/PabloC/TransferLearning/.venv/lib/python3.10/site-packages/keras/src/saving/saving_lib.py:719: UserWarning: Skipping variable loading for optimizer 'adam', because it has 34 variables whereas the saved optimizer has 2 variables. \n",
      "  saveable.load_own_variables(weights_store.get(inner_path))\n"
     ]
    },
    {
     "name": "stdout",
     "output_type": "stream",
     "text": [
      "[MODELO CONGELADO]: 7.537593841552734\n"
     ]
    },
    {
     "name": "stderr",
     "output_type": "stream",
     "text": [
      "/home/workstation/Escritorio/PabloC/TransferLearning/funcionesComunes.py:247: FutureWarning: The behavior of DataFrame concatenation with empty or all-NA entries is deprecated. In a future version, this will no longer exclude empty or all-NA columns when determining the result dtypes. To retain the old behavior, exclude the relevant entries before the concat operation.\n",
      "  predictionsDF = pd.concat([predictionsDF, tempDF], ignore_index=True)\n",
      "/home/workstation/Escritorio/PabloC/TransferLearning/funcionesComunes.py:247: FutureWarning: The behavior of DataFrame concatenation with empty or all-NA entries is deprecated. In a future version, this will no longer exclude empty or all-NA columns when determining the result dtypes. To retain the old behavior, exclude the relevant entries before the concat operation.\n",
      "  predictionsDF = pd.concat([predictionsDF, tempDF], ignore_index=True)\n",
      "/home/workstation/Escritorio/PabloC/TransferLearning/funcionesComunes.py:247: FutureWarning: The behavior of DataFrame concatenation with empty or all-NA entries is deprecated. In a future version, this will no longer exclude empty or all-NA columns when determining the result dtypes. To retain the old behavior, exclude the relevant entries before the concat operation.\n",
      "  predictionsDF = pd.concat([predictionsDF, tempDF], ignore_index=True)\n"
     ]
    },
    {
     "name": "stdout",
     "output_type": "stream",
     "text": [
      "RESULTADOS DE MSE, RMSE, R2, MAPE (Train): 9.55126477409231, 3.0905120569401294, 0.620468054867112, 34.80792859045669\n",
      "RESULTADOS DE MSE, RMSE, R2, MAPE (Val): 7.663436171865341, 2.768291200698608, 0.7217297776906599, 29.864636967912432\n",
      "RESULTADOS DE MSE, RMSE, R2, MAPE (Test): 3.0161149155087825, 1.7366965525124942, 0.6793500399967178, 27.47188504846051\n",
      "totalMerged.csv Juniperus turkestanica Komar.\n",
      "Juniperus spp.  Juniperus turkestanica Komar.\n",
      "(17976, 77)\n",
      "SE HA NORMALIZADO EL ARCHIVO: Juniperus spp. _merged.csv\n",
      "(10218, 4, 43) (3900, 4, 43) (3018, 4, 43)\n",
      "<Conv1D name=conv1d_4, built=True> False\n",
      "<BatchNormalization name=batch_normalization_4, built=True> False\n",
      "<MaxPooling1D name=max_pooling1d_3, built=True> False\n",
      "<Dropout name=dropout_1, built=True> True\n",
      "<Conv1D name=conv1d_5, built=True> False\n",
      "<BatchNormalization name=batch_normalization_5, built=True> False\n",
      "<MaxPooling1D name=max_pooling1d_4, built=True> False\n",
      "<Conv1D name=conv1d_6, built=True> True\n",
      "<BatchNormalization name=batch_normalization_6, built=True> True\n",
      "<GlobalAveragePooling1D name=global_average_pooling1d_1, built=True> True\n",
      "<Dense name=dense_2, built=True> True\n",
      "<Dense name=dense_3, built=True> True\n"
     ]
    },
    {
     "name": "stderr",
     "output_type": "stream",
     "text": [
      "/home/workstation/Escritorio/PabloC/TransferLearning/.venv/lib/python3.10/site-packages/keras/src/saving/saving_lib.py:719: UserWarning: Skipping variable loading for optimizer 'adam', because it has 34 variables whereas the saved optimizer has 2 variables. \n",
      "  saveable.load_own_variables(weights_store.get(inner_path))\n"
     ]
    },
    {
     "name": "stdout",
     "output_type": "stream",
     "text": [
      "[MODELO CONGELADO]: 25.08090901374817\n"
     ]
    },
    {
     "name": "stderr",
     "output_type": "stream",
     "text": [
      "/home/workstation/Escritorio/PabloC/TransferLearning/funcionesComunes.py:247: FutureWarning: The behavior of DataFrame concatenation with empty or all-NA entries is deprecated. In a future version, this will no longer exclude empty or all-NA columns when determining the result dtypes. To retain the old behavior, exclude the relevant entries before the concat operation.\n",
      "  predictionsDF = pd.concat([predictionsDF, tempDF], ignore_index=True)\n",
      "/home/workstation/Escritorio/PabloC/TransferLearning/funcionesComunes.py:247: FutureWarning: The behavior of DataFrame concatenation with empty or all-NA entries is deprecated. In a future version, this will no longer exclude empty or all-NA columns when determining the result dtypes. To retain the old behavior, exclude the relevant entries before the concat operation.\n",
      "  predictionsDF = pd.concat([predictionsDF, tempDF], ignore_index=True)\n",
      "/home/workstation/Escritorio/PabloC/TransferLearning/funcionesComunes.py:247: FutureWarning: The behavior of DataFrame concatenation with empty or all-NA entries is deprecated. In a future version, this will no longer exclude empty or all-NA columns when determining the result dtypes. To retain the old behavior, exclude the relevant entries before the concat operation.\n",
      "  predictionsDF = pd.concat([predictionsDF, tempDF], ignore_index=True)\n"
     ]
    },
    {
     "name": "stdout",
     "output_type": "stream",
     "text": [
      "RESULTADOS DE MSE, RMSE, R2, MAPE (Train): 6.390428134481996, 2.527929614226234, 0.8957764955718129, 19.88014967990469\n",
      "RESULTADOS DE MSE, RMSE, R2, MAPE (Val): 3.142618929292254, 1.772743334296382, 0.8402551414799506, 23.349651029322906\n",
      "RESULTADOS DE MSE, RMSE, R2, MAPE (Test): 9.524157538390716, 3.08612338353325, 0.9088565291719947, 21.08072367336818\n",
      "Procesando el modelo: model_Abies pindrow.keras\n",
      "Abies spectabilis Abies pindrow\n",
      "(96429, 77)\n",
      "SE HA NORMALIZADO EL ARCHIVO: Abies spectabilis_merged.csv\n",
      "(56618, 4, 43) (19637, 4, 43) (15689, 4, 43)\n",
      "<Conv1D name=conv1d_4, built=True> False\n",
      "<BatchNormalization name=batch_normalization_4, built=True> False\n",
      "<MaxPooling1D name=max_pooling1d_3, built=True> False\n",
      "<Conv1D name=conv1d_5, built=True> False\n",
      "<BatchNormalization name=batch_normalization_5, built=True> False\n",
      "<MaxPooling1D name=max_pooling1d_4, built=True> False\n",
      "<Dropout name=dropout_1, built=True> True\n",
      "<Conv1D name=conv1d_6, built=True> False\n",
      "<BatchNormalization name=batch_normalization_6, built=True> False\n",
      "<MaxPooling1D name=max_pooling1d_5, built=True> False\n",
      "<Conv1D name=conv1d_7, built=True> False\n",
      "<BatchNormalization name=batch_normalization_7, built=True> False\n",
      "<MaxPooling1D name=max_pooling1d_6, built=True> False\n",
      "<Conv1D name=conv1d_8, built=True> True\n",
      "<BatchNormalization name=batch_normalization_8, built=True> True\n",
      "<GlobalAveragePooling1D name=global_average_pooling1d_1, built=True> True\n",
      "<Dense name=dense_2, built=True> True\n",
      "<Dense name=dense_3, built=True> True\n"
     ]
    },
    {
     "name": "stderr",
     "output_type": "stream",
     "text": [
      "/home/workstation/Escritorio/PabloC/TransferLearning/.venv/lib/python3.10/site-packages/keras/src/saving/saving_lib.py:719: UserWarning: Skipping variable loading for optimizer 'adam', because it has 50 variables whereas the saved optimizer has 2 variables. \n",
      "  saveable.load_own_variables(weights_store.get(inner_path))\n"
     ]
    },
    {
     "name": "stdout",
     "output_type": "stream",
     "text": [
      "[MODELO CONGELADO]: 129.7054464817047\n"
     ]
    },
    {
     "name": "stderr",
     "output_type": "stream",
     "text": [
      "/home/workstation/Escritorio/PabloC/TransferLearning/funcionesComunes.py:247: FutureWarning: The behavior of DataFrame concatenation with empty or all-NA entries is deprecated. In a future version, this will no longer exclude empty or all-NA columns when determining the result dtypes. To retain the old behavior, exclude the relevant entries before the concat operation.\n",
      "  predictionsDF = pd.concat([predictionsDF, tempDF], ignore_index=True)\n",
      "/home/workstation/Escritorio/PabloC/TransferLearning/funcionesComunes.py:247: FutureWarning: The behavior of DataFrame concatenation with empty or all-NA entries is deprecated. In a future version, this will no longer exclude empty or all-NA columns when determining the result dtypes. To retain the old behavior, exclude the relevant entries before the concat operation.\n",
      "  predictionsDF = pd.concat([predictionsDF, tempDF], ignore_index=True)\n",
      "/home/workstation/Escritorio/PabloC/TransferLearning/funcionesComunes.py:247: FutureWarning: The behavior of DataFrame concatenation with empty or all-NA entries is deprecated. In a future version, this will no longer exclude empty or all-NA columns when determining the result dtypes. To retain the old behavior, exclude the relevant entries before the concat operation.\n",
      "  predictionsDF = pd.concat([predictionsDF, tempDF], ignore_index=True)\n"
     ]
    },
    {
     "name": "stdout",
     "output_type": "stream",
     "text": [
      "RESULTADOS DE MSE, RMSE, R2, MAPE (Train): 35.955344633283914, 5.996277564729964, 0.6845473227533843, 30.96383883649158\n",
      "RESULTADOS DE MSE, RMSE, R2, MAPE (Val): 36.91986614779165, 6.076171997877583, 0.6635992814859273, 31.54872347441222\n",
      "RESULTADOS DE MSE, RMSE, R2, MAPE (Test): 37.33025125735157, 6.109848709857845, 0.7231493025194247, 30.388507388503566\n",
      "Picea smithiana Abies pindrow\n",
      "(34476, 77)\n",
      "SE HA NORMALIZADO EL ARCHIVO: Picea smithiana_merged.csv\n",
      "(19933, 4, 43) (7272, 4, 43) (5863, 4, 43)\n",
      "<Conv1D name=conv1d_4, built=True> False\n",
      "<BatchNormalization name=batch_normalization_4, built=True> False\n",
      "<MaxPooling1D name=max_pooling1d_3, built=True> False\n",
      "<Conv1D name=conv1d_5, built=True> False\n",
      "<BatchNormalization name=batch_normalization_5, built=True> False\n",
      "<MaxPooling1D name=max_pooling1d_4, built=True> False\n",
      "<Dropout name=dropout_1, built=True> True\n",
      "<Conv1D name=conv1d_6, built=True> False\n",
      "<BatchNormalization name=batch_normalization_6, built=True> False\n",
      "<MaxPooling1D name=max_pooling1d_5, built=True> False\n",
      "<Conv1D name=conv1d_7, built=True> False\n",
      "<BatchNormalization name=batch_normalization_7, built=True> False\n",
      "<MaxPooling1D name=max_pooling1d_6, built=True> False\n",
      "<Conv1D name=conv1d_8, built=True> True\n",
      "<BatchNormalization name=batch_normalization_8, built=True> True\n",
      "<GlobalAveragePooling1D name=global_average_pooling1d_1, built=True> True\n",
      "<Dense name=dense_2, built=True> True\n",
      "<Dense name=dense_3, built=True> True\n"
     ]
    },
    {
     "name": "stderr",
     "output_type": "stream",
     "text": [
      "/home/workstation/Escritorio/PabloC/TransferLearning/.venv/lib/python3.10/site-packages/keras/src/saving/saving_lib.py:719: UserWarning: Skipping variable loading for optimizer 'adam', because it has 50 variables whereas the saved optimizer has 2 variables. \n",
      "  saveable.load_own_variables(weights_store.get(inner_path))\n"
     ]
    },
    {
     "name": "stdout",
     "output_type": "stream",
     "text": [
      "[MODELO CONGELADO]: 71.9887433052063\n"
     ]
    },
    {
     "name": "stderr",
     "output_type": "stream",
     "text": [
      "/home/workstation/Escritorio/PabloC/TransferLearning/funcionesComunes.py:247: FutureWarning: The behavior of DataFrame concatenation with empty or all-NA entries is deprecated. In a future version, this will no longer exclude empty or all-NA columns when determining the result dtypes. To retain the old behavior, exclude the relevant entries before the concat operation.\n",
      "  predictionsDF = pd.concat([predictionsDF, tempDF], ignore_index=True)\n",
      "/home/workstation/Escritorio/PabloC/TransferLearning/funcionesComunes.py:247: FutureWarning: The behavior of DataFrame concatenation with empty or all-NA entries is deprecated. In a future version, this will no longer exclude empty or all-NA columns when determining the result dtypes. To retain the old behavior, exclude the relevant entries before the concat operation.\n",
      "  predictionsDF = pd.concat([predictionsDF, tempDF], ignore_index=True)\n",
      "/home/workstation/Escritorio/PabloC/TransferLearning/funcionesComunes.py:247: FutureWarning: The behavior of DataFrame concatenation with empty or all-NA entries is deprecated. In a future version, this will no longer exclude empty or all-NA columns when determining the result dtypes. To retain the old behavior, exclude the relevant entries before the concat operation.\n",
      "  predictionsDF = pd.concat([predictionsDF, tempDF], ignore_index=True)\n"
     ]
    },
    {
     "name": "stdout",
     "output_type": "stream",
     "text": [
      "RESULTADOS DE MSE, RMSE, R2, MAPE (Train): 75.62325882197753, 8.696163454189298, 0.7783804633486442, 24.4123971350574\n",
      "RESULTADOS DE MSE, RMSE, R2, MAPE (Val): 79.58277377902111, 8.920917765511636, 0.770345230059466, 24.73787868212722\n",
      "RESULTADOS DE MSE, RMSE, R2, MAPE (Test): 65.50562291189947, 8.093554405321525, 0.7787903232228222, 24.59525094732224\n",
      "Abies pindrow Abies pindrow\n",
      "Juniperus excelsa M.-Bieb Abies pindrow\n",
      "(7449, 77)\n",
      "SE HA NORMALIZADO EL ARCHIVO: Juniperus excelsa M.-Bieb_merged.csv\n",
      "(4189, 4, 43) (1707, 4, 43) (1228, 4, 43)\n",
      "<Conv1D name=conv1d_4, built=True> False\n",
      "<BatchNormalization name=batch_normalization_4, built=True> False\n",
      "<MaxPooling1D name=max_pooling1d_3, built=True> False\n",
      "<Conv1D name=conv1d_5, built=True> False\n",
      "<BatchNormalization name=batch_normalization_5, built=True> False\n",
      "<MaxPooling1D name=max_pooling1d_4, built=True> False\n",
      "<Dropout name=dropout_1, built=True> True\n",
      "<Conv1D name=conv1d_6, built=True> False\n",
      "<BatchNormalization name=batch_normalization_6, built=True> False\n",
      "<MaxPooling1D name=max_pooling1d_5, built=True> False\n",
      "<Conv1D name=conv1d_7, built=True> False\n",
      "<BatchNormalization name=batch_normalization_7, built=True> False\n",
      "<MaxPooling1D name=max_pooling1d_6, built=True> False\n",
      "<Conv1D name=conv1d_8, built=True> True\n",
      "<BatchNormalization name=batch_normalization_8, built=True> True\n",
      "<GlobalAveragePooling1D name=global_average_pooling1d_1, built=True> True\n",
      "<Dense name=dense_2, built=True> True\n",
      "<Dense name=dense_3, built=True> True\n"
     ]
    },
    {
     "name": "stderr",
     "output_type": "stream",
     "text": [
      "/home/workstation/Escritorio/PabloC/TransferLearning/.venv/lib/python3.10/site-packages/keras/src/saving/saving_lib.py:719: UserWarning: Skipping variable loading for optimizer 'adam', because it has 50 variables whereas the saved optimizer has 2 variables. \n",
      "  saveable.load_own_variables(weights_store.get(inner_path))\n"
     ]
    },
    {
     "name": "stdout",
     "output_type": "stream",
     "text": [
      "[MODELO CONGELADO]: 26.148518562316895\n"
     ]
    },
    {
     "name": "stderr",
     "output_type": "stream",
     "text": [
      "/home/workstation/Escritorio/PabloC/TransferLearning/funcionesComunes.py:247: FutureWarning: The behavior of DataFrame concatenation with empty or all-NA entries is deprecated. In a future version, this will no longer exclude empty or all-NA columns when determining the result dtypes. To retain the old behavior, exclude the relevant entries before the concat operation.\n",
      "  predictionsDF = pd.concat([predictionsDF, tempDF], ignore_index=True)\n",
      "/home/workstation/Escritorio/PabloC/TransferLearning/funcionesComunes.py:247: FutureWarning: The behavior of DataFrame concatenation with empty or all-NA entries is deprecated. In a future version, this will no longer exclude empty or all-NA columns when determining the result dtypes. To retain the old behavior, exclude the relevant entries before the concat operation.\n",
      "  predictionsDF = pd.concat([predictionsDF, tempDF], ignore_index=True)\n",
      "/home/workstation/Escritorio/PabloC/TransferLearning/funcionesComunes.py:247: FutureWarning: The behavior of DataFrame concatenation with empty or all-NA entries is deprecated. In a future version, this will no longer exclude empty or all-NA columns when determining the result dtypes. To retain the old behavior, exclude the relevant entries before the concat operation.\n",
      "  predictionsDF = pd.concat([predictionsDF, tempDF], ignore_index=True)\n"
     ]
    },
    {
     "name": "stdout",
     "output_type": "stream",
     "text": [
      "RESULTADOS DE MSE, RMSE, R2, MAPE (Train): 6.912359001299993, 2.6291365505237634, 0.7190264127289996, 27.048898585087784\n",
      "RESULTADOS DE MSE, RMSE, R2, MAPE (Val): 6.621662707871438, 2.573259160650446, 0.7474746380942371, 27.694888923042203\n",
      "RESULTADOS DE MSE, RMSE, R2, MAPE (Test): 15.491398213042608, 3.9359113573659923, 0.7703271482574335, 27.85687002270112\n",
      "Juniperus turkestanica Komar. Abies pindrow\n",
      "(6305, 77)\n",
      "SE HA NORMALIZADO EL ARCHIVO: Juniperus turkestanica Komar._merged.csv\n",
      "(3664, 4, 43) (1368, 4, 43) (1001, 4, 43)\n",
      "<Conv1D name=conv1d_4, built=True> False\n",
      "<BatchNormalization name=batch_normalization_4, built=True> False\n",
      "<MaxPooling1D name=max_pooling1d_3, built=True> False\n",
      "<Conv1D name=conv1d_5, built=True> False\n",
      "<BatchNormalization name=batch_normalization_5, built=True> False\n",
      "<MaxPooling1D name=max_pooling1d_4, built=True> False\n",
      "<Dropout name=dropout_1, built=True> True\n",
      "<Conv1D name=conv1d_6, built=True> False\n",
      "<BatchNormalization name=batch_normalization_6, built=True> False\n",
      "<MaxPooling1D name=max_pooling1d_5, built=True> False\n",
      "<Conv1D name=conv1d_7, built=True> False\n",
      "<BatchNormalization name=batch_normalization_7, built=True> False\n",
      "<MaxPooling1D name=max_pooling1d_6, built=True> False\n",
      "<Conv1D name=conv1d_8, built=True> True\n",
      "<BatchNormalization name=batch_normalization_8, built=True> True\n",
      "<GlobalAveragePooling1D name=global_average_pooling1d_1, built=True> True\n",
      "<Dense name=dense_2, built=True> True\n",
      "<Dense name=dense_3, built=True> True\n"
     ]
    },
    {
     "name": "stderr",
     "output_type": "stream",
     "text": [
      "/home/workstation/Escritorio/PabloC/TransferLearning/.venv/lib/python3.10/site-packages/keras/src/saving/saving_lib.py:719: UserWarning: Skipping variable loading for optimizer 'adam', because it has 50 variables whereas the saved optimizer has 2 variables. \n",
      "  saveable.load_own_variables(weights_store.get(inner_path))\n"
     ]
    },
    {
     "name": "stdout",
     "output_type": "stream",
     "text": [
      "[MODELO CONGELADO]: 14.776933431625366\n"
     ]
    },
    {
     "name": "stderr",
     "output_type": "stream",
     "text": [
      "/home/workstation/Escritorio/PabloC/TransferLearning/funcionesComunes.py:247: FutureWarning: The behavior of DataFrame concatenation with empty or all-NA entries is deprecated. In a future version, this will no longer exclude empty or all-NA columns when determining the result dtypes. To retain the old behavior, exclude the relevant entries before the concat operation.\n",
      "  predictionsDF = pd.concat([predictionsDF, tempDF], ignore_index=True)\n",
      "/home/workstation/Escritorio/PabloC/TransferLearning/funcionesComunes.py:247: FutureWarning: The behavior of DataFrame concatenation with empty or all-NA entries is deprecated. In a future version, this will no longer exclude empty or all-NA columns when determining the result dtypes. To retain the old behavior, exclude the relevant entries before the concat operation.\n",
      "  predictionsDF = pd.concat([predictionsDF, tempDF], ignore_index=True)\n",
      "/home/workstation/Escritorio/PabloC/TransferLearning/funcionesComunes.py:247: FutureWarning: The behavior of DataFrame concatenation with empty or all-NA entries is deprecated. In a future version, this will no longer exclude empty or all-NA columns when determining the result dtypes. To retain the old behavior, exclude the relevant entries before the concat operation.\n",
      "  predictionsDF = pd.concat([predictionsDF, tempDF], ignore_index=True)\n"
     ]
    },
    {
     "name": "stdout",
     "output_type": "stream",
     "text": [
      "RESULTADOS DE MSE, RMSE, R2, MAPE (Train): 3.684536764013456, 1.9195147209681556, 0.9179148734460232, 19.562311850777903\n",
      "RESULTADOS DE MSE, RMSE, R2, MAPE (Val): 2.535617557518591, 1.5923622570001434, 0.8525469686075228, 21.824079220568674\n",
      "RESULTADOS DE MSE, RMSE, R2, MAPE (Test): 1.1919153022095803, 1.0917487358406146, 0.7807208754142451, 21.779295709863312\n",
      "Pinus roxburghii Abies pindrow\n",
      "(10635, 77)\n",
      "SE HA NORMALIZADO EL ARCHIVO: Pinus roxburghii_merged.csv\n",
      "(6309, 4, 43) (2167, 4, 43) (1647, 4, 43)\n",
      "<Conv1D name=conv1d_4, built=True> False\n",
      "<BatchNormalization name=batch_normalization_4, built=True> False\n",
      "<MaxPooling1D name=max_pooling1d_3, built=True> False\n",
      "<Conv1D name=conv1d_5, built=True> False\n",
      "<BatchNormalization name=batch_normalization_5, built=True> False\n",
      "<MaxPooling1D name=max_pooling1d_4, built=True> False\n",
      "<Dropout name=dropout_1, built=True> True\n",
      "<Conv1D name=conv1d_6, built=True> False\n",
      "<BatchNormalization name=batch_normalization_6, built=True> False\n",
      "<MaxPooling1D name=max_pooling1d_5, built=True> False\n",
      "<Conv1D name=conv1d_7, built=True> False\n",
      "<BatchNormalization name=batch_normalization_7, built=True> False\n",
      "<MaxPooling1D name=max_pooling1d_6, built=True> False\n",
      "<Conv1D name=conv1d_8, built=True> True\n",
      "<BatchNormalization name=batch_normalization_8, built=True> True\n",
      "<GlobalAveragePooling1D name=global_average_pooling1d_1, built=True> True\n",
      "<Dense name=dense_2, built=True> True\n",
      "<Dense name=dense_3, built=True> True\n"
     ]
    },
    {
     "name": "stderr",
     "output_type": "stream",
     "text": [
      "/home/workstation/Escritorio/PabloC/TransferLearning/.venv/lib/python3.10/site-packages/keras/src/saving/saving_lib.py:719: UserWarning: Skipping variable loading for optimizer 'adam', because it has 50 variables whereas the saved optimizer has 2 variables. \n",
      "  saveable.load_own_variables(weights_store.get(inner_path))\n"
     ]
    },
    {
     "name": "stdout",
     "output_type": "stream",
     "text": [
      "[MODELO CONGELADO]: 32.51866388320923\n"
     ]
    },
    {
     "name": "stderr",
     "output_type": "stream",
     "text": [
      "/home/workstation/Escritorio/PabloC/TransferLearning/funcionesComunes.py:247: FutureWarning: The behavior of DataFrame concatenation with empty or all-NA entries is deprecated. In a future version, this will no longer exclude empty or all-NA columns when determining the result dtypes. To retain the old behavior, exclude the relevant entries before the concat operation.\n",
      "  predictionsDF = pd.concat([predictionsDF, tempDF], ignore_index=True)\n",
      "/home/workstation/Escritorio/PabloC/TransferLearning/funcionesComunes.py:247: FutureWarning: The behavior of DataFrame concatenation with empty or all-NA entries is deprecated. In a future version, this will no longer exclude empty or all-NA columns when determining the result dtypes. To retain the old behavior, exclude the relevant entries before the concat operation.\n",
      "  predictionsDF = pd.concat([predictionsDF, tempDF], ignore_index=True)\n",
      "/home/workstation/Escritorio/PabloC/TransferLearning/funcionesComunes.py:247: FutureWarning: The behavior of DataFrame concatenation with empty or all-NA entries is deprecated. In a future version, this will no longer exclude empty or all-NA columns when determining the result dtypes. To retain the old behavior, exclude the relevant entries before the concat operation.\n",
      "  predictionsDF = pd.concat([predictionsDF, tempDF], ignore_index=True)\n"
     ]
    },
    {
     "name": "stdout",
     "output_type": "stream",
     "text": [
      "RESULTADOS DE MSE, RMSE, R2, MAPE (Train): 135.42991300264055, 11.63743584311598, 0.49226851076718914, 35.40704797827862\n",
      "RESULTADOS DE MSE, RMSE, R2, MAPE (Val): 82.85730721432968, 9.102598926368758, 0.6301150725303573, 32.68234659702715\n",
      "RESULTADOS DE MSE, RMSE, R2, MAPE (Test): 103.16368196473206, 10.156952395513729, 0.5671036334980292, 33.59584521557137\n",
      "Pinus wallichiana Abies pindrow\n",
      "(9365, 77)\n",
      "SE HA NORMALIZADO EL ARCHIVO: Pinus wallichiana_merged.csv\n",
      "(5508, 4, 43) (1957, 4, 43) (1500, 4, 43)\n",
      "<Conv1D name=conv1d_4, built=True> False\n",
      "<BatchNormalization name=batch_normalization_4, built=True> False\n",
      "<MaxPooling1D name=max_pooling1d_3, built=True> False\n",
      "<Conv1D name=conv1d_5, built=True> False\n",
      "<BatchNormalization name=batch_normalization_5, built=True> False\n",
      "<MaxPooling1D name=max_pooling1d_4, built=True> False\n",
      "<Dropout name=dropout_1, built=True> True\n",
      "<Conv1D name=conv1d_6, built=True> False\n",
      "<BatchNormalization name=batch_normalization_6, built=True> False\n",
      "<MaxPooling1D name=max_pooling1d_5, built=True> False\n",
      "<Conv1D name=conv1d_7, built=True> False\n",
      "<BatchNormalization name=batch_normalization_7, built=True> False\n",
      "<MaxPooling1D name=max_pooling1d_6, built=True> False\n",
      "<Conv1D name=conv1d_8, built=True> True\n",
      "<BatchNormalization name=batch_normalization_8, built=True> True\n",
      "<GlobalAveragePooling1D name=global_average_pooling1d_1, built=True> True\n",
      "<Dense name=dense_2, built=True> True\n",
      "<Dense name=dense_3, built=True> True\n"
     ]
    },
    {
     "name": "stderr",
     "output_type": "stream",
     "text": [
      "/home/workstation/Escritorio/PabloC/TransferLearning/.venv/lib/python3.10/site-packages/keras/src/saving/saving_lib.py:719: UserWarning: Skipping variable loading for optimizer 'adam', because it has 50 variables whereas the saved optimizer has 2 variables. \n",
      "  saveable.load_own_variables(weights_store.get(inner_path))\n"
     ]
    },
    {
     "name": "stdout",
     "output_type": "stream",
     "text": [
      "[MODELO CONGELADO]: 32.91195368766785\n"
     ]
    },
    {
     "name": "stderr",
     "output_type": "stream",
     "text": [
      "/home/workstation/Escritorio/PabloC/TransferLearning/funcionesComunes.py:247: FutureWarning: The behavior of DataFrame concatenation with empty or all-NA entries is deprecated. In a future version, this will no longer exclude empty or all-NA columns when determining the result dtypes. To retain the old behavior, exclude the relevant entries before the concat operation.\n",
      "  predictionsDF = pd.concat([predictionsDF, tempDF], ignore_index=True)\n",
      "/home/workstation/Escritorio/PabloC/TransferLearning/funcionesComunes.py:247: FutureWarning: The behavior of DataFrame concatenation with empty or all-NA entries is deprecated. In a future version, this will no longer exclude empty or all-NA columns when determining the result dtypes. To retain the old behavior, exclude the relevant entries before the concat operation.\n",
      "  predictionsDF = pd.concat([predictionsDF, tempDF], ignore_index=True)\n",
      "/home/workstation/Escritorio/PabloC/TransferLearning/funcionesComunes.py:247: FutureWarning: The behavior of DataFrame concatenation with empty or all-NA entries is deprecated. In a future version, this will no longer exclude empty or all-NA columns when determining the result dtypes. To retain the old behavior, exclude the relevant entries before the concat operation.\n",
      "  predictionsDF = pd.concat([predictionsDF, tempDF], ignore_index=True)\n"
     ]
    },
    {
     "name": "stdout",
     "output_type": "stream",
     "text": [
      "RESULTADOS DE MSE, RMSE, R2, MAPE (Train): 11.915726667959579, 3.4519163761539153, 0.8232397040392092, 19.10569159798695\n",
      "RESULTADOS DE MSE, RMSE, R2, MAPE (Val): 10.035034648921966, 3.167812281200066, 0.8321433093138423, 19.69875302986363\n",
      "RESULTADOS DE MSE, RMSE, R2, MAPE (Test): 15.550731459126995, 3.943441575467677, 0.6311814906336062, 24.48004879675032\n",
      "Pinus gerardiana Abies pindrow\n",
      "(10101, 77)\n",
      "SE HA NORMALIZADO EL ARCHIVO: Pinus gerardiana_merged.csv\n",
      "(5767, 4, 43) (2181, 4, 43) (1745, 4, 43)\n",
      "<Conv1D name=conv1d_4, built=True> False\n",
      "<BatchNormalization name=batch_normalization_4, built=True> False\n",
      "<MaxPooling1D name=max_pooling1d_3, built=True> False\n",
      "<Conv1D name=conv1d_5, built=True> False\n",
      "<BatchNormalization name=batch_normalization_5, built=True> False\n",
      "<MaxPooling1D name=max_pooling1d_4, built=True> False\n",
      "<Dropout name=dropout_1, built=True> True\n",
      "<Conv1D name=conv1d_6, built=True> False\n",
      "<BatchNormalization name=batch_normalization_6, built=True> False\n",
      "<MaxPooling1D name=max_pooling1d_5, built=True> False\n",
      "<Conv1D name=conv1d_7, built=True> False\n",
      "<BatchNormalization name=batch_normalization_7, built=True> False\n",
      "<MaxPooling1D name=max_pooling1d_6, built=True> False\n",
      "<Conv1D name=conv1d_8, built=True> True\n",
      "<BatchNormalization name=batch_normalization_8, built=True> True\n",
      "<GlobalAveragePooling1D name=global_average_pooling1d_1, built=True> True\n",
      "<Dense name=dense_2, built=True> True\n",
      "<Dense name=dense_3, built=True> True\n"
     ]
    },
    {
     "name": "stderr",
     "output_type": "stream",
     "text": [
      "/home/workstation/Escritorio/PabloC/TransferLearning/.venv/lib/python3.10/site-packages/keras/src/saving/saving_lib.py:719: UserWarning: Skipping variable loading for optimizer 'adam', because it has 50 variables whereas the saved optimizer has 2 variables. \n",
      "  saveable.load_own_variables(weights_store.get(inner_path))\n"
     ]
    },
    {
     "name": "stdout",
     "output_type": "stream",
     "text": [
      "[MODELO CONGELADO]: 28.43022394180298\n"
     ]
    },
    {
     "name": "stderr",
     "output_type": "stream",
     "text": [
      "/home/workstation/Escritorio/PabloC/TransferLearning/funcionesComunes.py:247: FutureWarning: The behavior of DataFrame concatenation with empty or all-NA entries is deprecated. In a future version, this will no longer exclude empty or all-NA columns when determining the result dtypes. To retain the old behavior, exclude the relevant entries before the concat operation.\n",
      "  predictionsDF = pd.concat([predictionsDF, tempDF], ignore_index=True)\n",
      "/home/workstation/Escritorio/PabloC/TransferLearning/funcionesComunes.py:247: FutureWarning: The behavior of DataFrame concatenation with empty or all-NA entries is deprecated. In a future version, this will no longer exclude empty or all-NA columns when determining the result dtypes. To retain the old behavior, exclude the relevant entries before the concat operation.\n",
      "  predictionsDF = pd.concat([predictionsDF, tempDF], ignore_index=True)\n",
      "/home/workstation/Escritorio/PabloC/TransferLearning/funcionesComunes.py:247: FutureWarning: The behavior of DataFrame concatenation with empty or all-NA entries is deprecated. In a future version, this will no longer exclude empty or all-NA columns when determining the result dtypes. To retain the old behavior, exclude the relevant entries before the concat operation.\n",
      "  predictionsDF = pd.concat([predictionsDF, tempDF], ignore_index=True)\n"
     ]
    },
    {
     "name": "stdout",
     "output_type": "stream",
     "text": [
      "RESULTADOS DE MSE, RMSE, R2, MAPE (Train): 12.702764566517626, 3.5640937931706604, 0.6727536037481295, 27.26513322411057\n",
      "RESULTADOS DE MSE, RMSE, R2, MAPE (Val): 13.7589892196838, 3.709311151640396, 0.6522871887852342, 26.489514060194274\n",
      "RESULTADOS DE MSE, RMSE, R2, MAPE (Test): 11.416316898115992, 3.3788040632916245, 0.7158384621437376, 25.73203350446405\n",
      "Populus ciliata Abies pindrow\n",
      "(1182, 77)\n",
      "SE HA NORMALIZADO EL ARCHIVO: Populus ciliata_merged.csv\n",
      "(705, 4, 43) (156, 4, 43) (265, 4, 43)\n"
     ]
    },
    {
     "name": "stderr",
     "output_type": "stream",
     "text": [
      "/home/workstation/Escritorio/PabloC/TransferLearning/.venv/lib/python3.10/site-packages/keras/src/saving/saving_lib.py:719: UserWarning: Skipping variable loading for optimizer 'adam', because it has 50 variables whereas the saved optimizer has 2 variables. \n",
      "  saveable.load_own_variables(weights_store.get(inner_path))\n"
     ]
    },
    {
     "name": "stdout",
     "output_type": "stream",
     "text": [
      "<Conv1D name=conv1d_4, built=True> False\n",
      "<BatchNormalization name=batch_normalization_4, built=True> False\n",
      "<MaxPooling1D name=max_pooling1d_3, built=True> False\n",
      "<Conv1D name=conv1d_5, built=True> False\n",
      "<BatchNormalization name=batch_normalization_5, built=True> False\n",
      "<MaxPooling1D name=max_pooling1d_4, built=True> False\n",
      "<Dropout name=dropout_1, built=True> True\n",
      "<Conv1D name=conv1d_6, built=True> False\n",
      "<BatchNormalization name=batch_normalization_6, built=True> False\n",
      "<MaxPooling1D name=max_pooling1d_5, built=True> False\n",
      "<Conv1D name=conv1d_7, built=True> False\n",
      "<BatchNormalization name=batch_normalization_7, built=True> False\n",
      "<MaxPooling1D name=max_pooling1d_6, built=True> False\n",
      "<Conv1D name=conv1d_8, built=True> True\n",
      "<BatchNormalization name=batch_normalization_8, built=True> True\n",
      "<GlobalAveragePooling1D name=global_average_pooling1d_1, built=True> True\n",
      "<Dense name=dense_2, built=True> True\n",
      "<Dense name=dense_3, built=True> True\n",
      "[MODELO CONGELADO]: 7.324336528778076\n"
     ]
    },
    {
     "name": "stderr",
     "output_type": "stream",
     "text": [
      "/home/workstation/Escritorio/PabloC/TransferLearning/funcionesComunes.py:247: FutureWarning: The behavior of DataFrame concatenation with empty or all-NA entries is deprecated. In a future version, this will no longer exclude empty or all-NA columns when determining the result dtypes. To retain the old behavior, exclude the relevant entries before the concat operation.\n",
      "  predictionsDF = pd.concat([predictionsDF, tempDF], ignore_index=True)\n",
      "/home/workstation/Escritorio/PabloC/TransferLearning/funcionesComunes.py:247: FutureWarning: The behavior of DataFrame concatenation with empty or all-NA entries is deprecated. In a future version, this will no longer exclude empty or all-NA columns when determining the result dtypes. To retain the old behavior, exclude the relevant entries before the concat operation.\n",
      "  predictionsDF = pd.concat([predictionsDF, tempDF], ignore_index=True)\n",
      "/home/workstation/Escritorio/PabloC/TransferLearning/funcionesComunes.py:247: FutureWarning: The behavior of DataFrame concatenation with empty or all-NA entries is deprecated. In a future version, this will no longer exclude empty or all-NA columns when determining the result dtypes. To retain the old behavior, exclude the relevant entries before the concat operation.\n",
      "  predictionsDF = pd.concat([predictionsDF, tempDF], ignore_index=True)\n"
     ]
    },
    {
     "name": "stdout",
     "output_type": "stream",
     "text": [
      "RESULTADOS DE MSE, RMSE, R2, MAPE (Train): 131.85046873461332, 11.48261593604059, 0.636968419851655, 31.21304845666117\n",
      "RESULTADOS DE MSE, RMSE, R2, MAPE (Val): 176.58209994733122, 13.28841976863055, 0.24761994590434921, 39.98006121314774\n",
      "RESULTADOS DE MSE, RMSE, R2, MAPE (Test): 70.01866569638186, 8.367715679705057, 0.650133834344927, 31.925944911530596\n",
      "Betula utilis Abies pindrow\n",
      "(3473, 77)\n",
      "SE HA NORMALIZADO EL ARCHIVO: Betula utilis_merged.csv\n",
      "(2059, 4, 43) (665, 4, 43) (593, 4, 43)\n",
      "<Conv1D name=conv1d_4, built=True> False\n",
      "<BatchNormalization name=batch_normalization_4, built=True> False\n",
      "<MaxPooling1D name=max_pooling1d_3, built=True> False\n",
      "<Conv1D name=conv1d_5, built=True> False\n",
      "<BatchNormalization name=batch_normalization_5, built=True> False\n",
      "<MaxPooling1D name=max_pooling1d_4, built=True> False\n",
      "<Dropout name=dropout_1, built=True> True\n",
      "<Conv1D name=conv1d_6, built=True> False\n",
      "<BatchNormalization name=batch_normalization_6, built=True> False\n",
      "<MaxPooling1D name=max_pooling1d_5, built=True> False\n",
      "<Conv1D name=conv1d_7, built=True> False\n",
      "<BatchNormalization name=batch_normalization_7, built=True> False\n",
      "<MaxPooling1D name=max_pooling1d_6, built=True> False\n",
      "<Conv1D name=conv1d_8, built=True> True\n",
      "<BatchNormalization name=batch_normalization_8, built=True> True\n",
      "<GlobalAveragePooling1D name=global_average_pooling1d_1, built=True> True\n",
      "<Dense name=dense_2, built=True> True\n",
      "<Dense name=dense_3, built=True> True\n"
     ]
    },
    {
     "name": "stderr",
     "output_type": "stream",
     "text": [
      "/home/workstation/Escritorio/PabloC/TransferLearning/.venv/lib/python3.10/site-packages/keras/src/saving/saving_lib.py:719: UserWarning: Skipping variable loading for optimizer 'adam', because it has 50 variables whereas the saved optimizer has 2 variables. \n",
      "  saveable.load_own_variables(weights_store.get(inner_path))\n"
     ]
    },
    {
     "name": "stdout",
     "output_type": "stream",
     "text": [
      "[MODELO CONGELADO]: 12.761465311050415\n"
     ]
    },
    {
     "name": "stderr",
     "output_type": "stream",
     "text": [
      "/home/workstation/Escritorio/PabloC/TransferLearning/funcionesComunes.py:247: FutureWarning: The behavior of DataFrame concatenation with empty or all-NA entries is deprecated. In a future version, this will no longer exclude empty or all-NA columns when determining the result dtypes. To retain the old behavior, exclude the relevant entries before the concat operation.\n",
      "  predictionsDF = pd.concat([predictionsDF, tempDF], ignore_index=True)\n",
      "/home/workstation/Escritorio/PabloC/TransferLearning/funcionesComunes.py:247: FutureWarning: The behavior of DataFrame concatenation with empty or all-NA entries is deprecated. In a future version, this will no longer exclude empty or all-NA columns when determining the result dtypes. To retain the old behavior, exclude the relevant entries before the concat operation.\n",
      "  predictionsDF = pd.concat([predictionsDF, tempDF], ignore_index=True)\n",
      "/home/workstation/Escritorio/PabloC/TransferLearning/funcionesComunes.py:247: FutureWarning: The behavior of DataFrame concatenation with empty or all-NA entries is deprecated. In a future version, this will no longer exclude empty or all-NA columns when determining the result dtypes. To retain the old behavior, exclude the relevant entries before the concat operation.\n",
      "  predictionsDF = pd.concat([predictionsDF, tempDF], ignore_index=True)\n"
     ]
    },
    {
     "name": "stdout",
     "output_type": "stream",
     "text": [
      "RESULTADOS DE MSE, RMSE, R2, MAPE (Train): 2.37696808499894, 1.5417418996054235, 0.6490993997899559, 35.50636304506225\n",
      "RESULTADOS DE MSE, RMSE, R2, MAPE (Val): 0.6925170074890025, 0.8321760676016839, 0.6393605271043759, 29.39411717926929\n",
      "RESULTADOS DE MSE, RMSE, R2, MAPE (Test): 0.7144243319862044, 0.8452362580877635, 0.7269829610574585, 30.305088224091865\n",
      "Tsuga dumosa Abies pindrow\n",
      "(20493, 77)\n",
      "SE HA NORMALIZADO EL ARCHIVO: Tsuga dumosa_merged.csv\n",
      "(11935, 4, 43) (4144, 4, 43) (3469, 4, 43)\n",
      "<Conv1D name=conv1d_4, built=True> False\n",
      "<BatchNormalization name=batch_normalization_4, built=True> False\n",
      "<MaxPooling1D name=max_pooling1d_3, built=True> False\n",
      "<Conv1D name=conv1d_5, built=True> False\n",
      "<BatchNormalization name=batch_normalization_5, built=True> False\n",
      "<MaxPooling1D name=max_pooling1d_4, built=True> False\n",
      "<Dropout name=dropout_1, built=True> True\n",
      "<Conv1D name=conv1d_6, built=True> False\n",
      "<BatchNormalization name=batch_normalization_6, built=True> False\n",
      "<MaxPooling1D name=max_pooling1d_5, built=True> False\n",
      "<Conv1D name=conv1d_7, built=True> False\n",
      "<BatchNormalization name=batch_normalization_7, built=True> False\n",
      "<MaxPooling1D name=max_pooling1d_6, built=True> False\n",
      "<Conv1D name=conv1d_8, built=True> True\n",
      "<BatchNormalization name=batch_normalization_8, built=True> True\n",
      "<GlobalAveragePooling1D name=global_average_pooling1d_1, built=True> True\n",
      "<Dense name=dense_2, built=True> True\n",
      "<Dense name=dense_3, built=True> True\n"
     ]
    },
    {
     "name": "stderr",
     "output_type": "stream",
     "text": [
      "/home/workstation/Escritorio/PabloC/TransferLearning/.venv/lib/python3.10/site-packages/keras/src/saving/saving_lib.py:719: UserWarning: Skipping variable loading for optimizer 'adam', because it has 50 variables whereas the saved optimizer has 2 variables. \n",
      "  saveable.load_own_variables(weights_store.get(inner_path))\n"
     ]
    },
    {
     "name": "stdout",
     "output_type": "stream",
     "text": [
      "[MODELO CONGELADO]: 65.02540111541748\n"
     ]
    },
    {
     "name": "stderr",
     "output_type": "stream",
     "text": [
      "/home/workstation/Escritorio/PabloC/TransferLearning/funcionesComunes.py:247: FutureWarning: The behavior of DataFrame concatenation with empty or all-NA entries is deprecated. In a future version, this will no longer exclude empty or all-NA columns when determining the result dtypes. To retain the old behavior, exclude the relevant entries before the concat operation.\n",
      "  predictionsDF = pd.concat([predictionsDF, tempDF], ignore_index=True)\n",
      "/home/workstation/Escritorio/PabloC/TransferLearning/funcionesComunes.py:247: FutureWarning: The behavior of DataFrame concatenation with empty or all-NA entries is deprecated. In a future version, this will no longer exclude empty or all-NA columns when determining the result dtypes. To retain the old behavior, exclude the relevant entries before the concat operation.\n",
      "  predictionsDF = pd.concat([predictionsDF, tempDF], ignore_index=True)\n",
      "/home/workstation/Escritorio/PabloC/TransferLearning/funcionesComunes.py:247: FutureWarning: The behavior of DataFrame concatenation with empty or all-NA entries is deprecated. In a future version, this will no longer exclude empty or all-NA columns when determining the result dtypes. To retain the old behavior, exclude the relevant entries before the concat operation.\n",
      "  predictionsDF = pd.concat([predictionsDF, tempDF], ignore_index=True)\n"
     ]
    },
    {
     "name": "stdout",
     "output_type": "stream",
     "text": [
      "RESULTADOS DE MSE, RMSE, R2, MAPE (Train): 156.1610240747916, 12.496440456177575, 0.5990111203674936, 33.53651331817721\n",
      "RESULTADOS DE MSE, RMSE, R2, MAPE (Val): 143.07112375700459, 11.961234207096046, 0.5459846604852285, 32.884266617082254\n",
      "RESULTADOS DE MSE, RMSE, R2, MAPE (Test): 223.07235297061465, 14.93560688323761, 0.635887741194181, 33.443602149229974\n",
      "Cedrus deodara Abies pindrow\n",
      "(37273, 77)\n",
      "SE HA NORMALIZADO EL ARCHIVO: Cedrus deodara_merged.csv\n",
      "(22017, 4, 43) (7410, 4, 43) (6282, 4, 43)\n",
      "<Conv1D name=conv1d_4, built=True> False\n",
      "<BatchNormalization name=batch_normalization_4, built=True> False\n",
      "<MaxPooling1D name=max_pooling1d_3, built=True> False\n",
      "<Conv1D name=conv1d_5, built=True> False\n",
      "<BatchNormalization name=batch_normalization_5, built=True> False\n",
      "<MaxPooling1D name=max_pooling1d_4, built=True> False\n",
      "<Dropout name=dropout_1, built=True> True\n",
      "<Conv1D name=conv1d_6, built=True> False\n",
      "<BatchNormalization name=batch_normalization_6, built=True> False\n",
      "<MaxPooling1D name=max_pooling1d_5, built=True> False\n",
      "<Conv1D name=conv1d_7, built=True> False\n",
      "<BatchNormalization name=batch_normalization_7, built=True> False\n",
      "<MaxPooling1D name=max_pooling1d_6, built=True> False\n",
      "<Conv1D name=conv1d_8, built=True> True\n",
      "<BatchNormalization name=batch_normalization_8, built=True> True\n",
      "<GlobalAveragePooling1D name=global_average_pooling1d_1, built=True> True\n",
      "<Dense name=dense_2, built=True> True\n",
      "<Dense name=dense_3, built=True> True\n"
     ]
    },
    {
     "name": "stderr",
     "output_type": "stream",
     "text": [
      "/home/workstation/Escritorio/PabloC/TransferLearning/.venv/lib/python3.10/site-packages/keras/src/saving/saving_lib.py:719: UserWarning: Skipping variable loading for optimizer 'adam', because it has 50 variables whereas the saved optimizer has 2 variables. \n",
      "  saveable.load_own_variables(weights_store.get(inner_path))\n"
     ]
    },
    {
     "name": "stdout",
     "output_type": "stream",
     "text": [
      "[MODELO CONGELADO]: 117.42441892623901\n"
     ]
    },
    {
     "name": "stderr",
     "output_type": "stream",
     "text": [
      "/home/workstation/Escritorio/PabloC/TransferLearning/funcionesComunes.py:247: FutureWarning: The behavior of DataFrame concatenation with empty or all-NA entries is deprecated. In a future version, this will no longer exclude empty or all-NA columns when determining the result dtypes. To retain the old behavior, exclude the relevant entries before the concat operation.\n",
      "  predictionsDF = pd.concat([predictionsDF, tempDF], ignore_index=True)\n",
      "/home/workstation/Escritorio/PabloC/TransferLearning/funcionesComunes.py:247: FutureWarning: The behavior of DataFrame concatenation with empty or all-NA entries is deprecated. In a future version, this will no longer exclude empty or all-NA columns when determining the result dtypes. To retain the old behavior, exclude the relevant entries before the concat operation.\n",
      "  predictionsDF = pd.concat([predictionsDF, tempDF], ignore_index=True)\n",
      "/home/workstation/Escritorio/PabloC/TransferLearning/funcionesComunes.py:247: FutureWarning: The behavior of DataFrame concatenation with empty or all-NA entries is deprecated. In a future version, this will no longer exclude empty or all-NA columns when determining the result dtypes. To retain the old behavior, exclude the relevant entries before the concat operation.\n",
      "  predictionsDF = pd.concat([predictionsDF, tempDF], ignore_index=True)\n"
     ]
    },
    {
     "name": "stdout",
     "output_type": "stream",
     "text": [
      "RESULTADOS DE MSE, RMSE, R2, MAPE (Train): 99.5885916226304, 9.979408380391614, 0.7668423586070372, 25.51832809966671\n",
      "RESULTADOS DE MSE, RMSE, R2, MAPE (Val): 124.086093836576, 11.13939378227451, 0.7218674995365664, 26.376045789693304\n",
      "RESULTADOS DE MSE, RMSE, R2, MAPE (Test): 82.51411059582588, 9.083727791816854, 0.765869543435477, 25.0719168996326\n",
      "Juniperus spp. L. Abies pindrow\n",
      "(7264, 77)\n",
      "SE HA NORMALIZADO EL ARCHIVO: Juniperus spp. L._merged.csv\n",
      "(4216, 4, 43) (1524, 4, 43) (1188, 4, 43)\n",
      "<Conv1D name=conv1d_4, built=True> False\n",
      "<BatchNormalization name=batch_normalization_4, built=True> False\n",
      "<MaxPooling1D name=max_pooling1d_3, built=True> False\n",
      "<Conv1D name=conv1d_5, built=True> False\n",
      "<BatchNormalization name=batch_normalization_5, built=True> False\n",
      "<MaxPooling1D name=max_pooling1d_4, built=True> False\n",
      "<Dropout name=dropout_1, built=True> True\n",
      "<Conv1D name=conv1d_6, built=True> False\n",
      "<BatchNormalization name=batch_normalization_6, built=True> False\n",
      "<MaxPooling1D name=max_pooling1d_5, built=True> False\n",
      "<Conv1D name=conv1d_7, built=True> False\n",
      "<BatchNormalization name=batch_normalization_7, built=True> False\n",
      "<MaxPooling1D name=max_pooling1d_6, built=True> False\n",
      "<Conv1D name=conv1d_8, built=True> True\n",
      "<BatchNormalization name=batch_normalization_8, built=True> True\n",
      "<GlobalAveragePooling1D name=global_average_pooling1d_1, built=True> True\n",
      "<Dense name=dense_2, built=True> True\n",
      "<Dense name=dense_3, built=True> True\n"
     ]
    },
    {
     "name": "stderr",
     "output_type": "stream",
     "text": [
      "/home/workstation/Escritorio/PabloC/TransferLearning/.venv/lib/python3.10/site-packages/keras/src/saving/saving_lib.py:719: UserWarning: Skipping variable loading for optimizer 'adam', because it has 50 variables whereas the saved optimizer has 2 variables. \n",
      "  saveable.load_own_variables(weights_store.get(inner_path))\n"
     ]
    },
    {
     "name": "stdout",
     "output_type": "stream",
     "text": [
      "[MODELO CONGELADO]: 7.6121978759765625\n"
     ]
    },
    {
     "name": "stderr",
     "output_type": "stream",
     "text": [
      "/home/workstation/Escritorio/PabloC/TransferLearning/funcionesComunes.py:247: FutureWarning: The behavior of DataFrame concatenation with empty or all-NA entries is deprecated. In a future version, this will no longer exclude empty or all-NA columns when determining the result dtypes. To retain the old behavior, exclude the relevant entries before the concat operation.\n",
      "  predictionsDF = pd.concat([predictionsDF, tempDF], ignore_index=True)\n",
      "/home/workstation/Escritorio/PabloC/TransferLearning/funcionesComunes.py:247: FutureWarning: The behavior of DataFrame concatenation with empty or all-NA entries is deprecated. In a future version, this will no longer exclude empty or all-NA columns when determining the result dtypes. To retain the old behavior, exclude the relevant entries before the concat operation.\n",
      "  predictionsDF = pd.concat([predictionsDF, tempDF], ignore_index=True)\n",
      "/home/workstation/Escritorio/PabloC/TransferLearning/funcionesComunes.py:247: FutureWarning: The behavior of DataFrame concatenation with empty or all-NA entries is deprecated. In a future version, this will no longer exclude empty or all-NA columns when determining the result dtypes. To retain the old behavior, exclude the relevant entries before the concat operation.\n",
      "  predictionsDF = pd.concat([predictionsDF, tempDF], ignore_index=True)\n"
     ]
    },
    {
     "name": "stdout",
     "output_type": "stream",
     "text": [
      "RESULTADOS DE MSE, RMSE, R2, MAPE (Train): 2.0420773981559637, 1.4290127354771769, 0.8370767518173108, 25.82972997234161\n",
      "RESULTADOS DE MSE, RMSE, R2, MAPE (Val): 0.7967905964450597, 0.8926312768691559, 0.6464453926401181, 29.501895221455417\n",
      "RESULTADOS DE MSE, RMSE, R2, MAPE (Test): 3.9557650138984513, 1.9889105092734694, 0.791331072227985, 28.96746784358109\n",
      "Juniperus recurva Abies pindrow\n",
      "(5316, 77)\n",
      "SE HA NORMALIZADO EL ARCHIVO: Juniperus recurva_merged.csv\n",
      "(3188, 4, 43) (1082, 4, 43) (810, 4, 43)\n",
      "<Conv1D name=conv1d_4, built=True> False\n",
      "<BatchNormalization name=batch_normalization_4, built=True> False\n",
      "<MaxPooling1D name=max_pooling1d_3, built=True> False\n",
      "<Conv1D name=conv1d_5, built=True> False\n",
      "<BatchNormalization name=batch_normalization_5, built=True> False\n",
      "<MaxPooling1D name=max_pooling1d_4, built=True> False\n",
      "<Dropout name=dropout_1, built=True> True\n",
      "<Conv1D name=conv1d_6, built=True> False\n",
      "<BatchNormalization name=batch_normalization_6, built=True> False\n",
      "<MaxPooling1D name=max_pooling1d_5, built=True> False\n",
      "<Conv1D name=conv1d_7, built=True> False\n",
      "<BatchNormalization name=batch_normalization_7, built=True> False\n",
      "<MaxPooling1D name=max_pooling1d_6, built=True> False\n",
      "<Conv1D name=conv1d_8, built=True> True\n",
      "<BatchNormalization name=batch_normalization_8, built=True> True\n",
      "<GlobalAveragePooling1D name=global_average_pooling1d_1, built=True> True\n",
      "<Dense name=dense_2, built=True> True\n",
      "<Dense name=dense_3, built=True> True\n"
     ]
    },
    {
     "name": "stderr",
     "output_type": "stream",
     "text": [
      "/home/workstation/Escritorio/PabloC/TransferLearning/.venv/lib/python3.10/site-packages/keras/src/saving/saving_lib.py:719: UserWarning: Skipping variable loading for optimizer 'adam', because it has 50 variables whereas the saved optimizer has 2 variables. \n",
      "  saveable.load_own_variables(weights_store.get(inner_path))\n"
     ]
    },
    {
     "name": "stdout",
     "output_type": "stream",
     "text": [
      "[MODELO CONGELADO]: 8.800054550170898\n"
     ]
    },
    {
     "name": "stderr",
     "output_type": "stream",
     "text": [
      "/home/workstation/Escritorio/PabloC/TransferLearning/funcionesComunes.py:247: FutureWarning: The behavior of DataFrame concatenation with empty or all-NA entries is deprecated. In a future version, this will no longer exclude empty or all-NA columns when determining the result dtypes. To retain the old behavior, exclude the relevant entries before the concat operation.\n",
      "  predictionsDF = pd.concat([predictionsDF, tempDF], ignore_index=True)\n",
      "/home/workstation/Escritorio/PabloC/TransferLearning/funcionesComunes.py:247: FutureWarning: The behavior of DataFrame concatenation with empty or all-NA entries is deprecated. In a future version, this will no longer exclude empty or all-NA columns when determining the result dtypes. To retain the old behavior, exclude the relevant entries before the concat operation.\n",
      "  predictionsDF = pd.concat([predictionsDF, tempDF], ignore_index=True)\n",
      "/home/workstation/Escritorio/PabloC/TransferLearning/funcionesComunes.py:247: FutureWarning: The behavior of DataFrame concatenation with empty or all-NA entries is deprecated. In a future version, this will no longer exclude empty or all-NA columns when determining the result dtypes. To retain the old behavior, exclude the relevant entries before the concat operation.\n",
      "  predictionsDF = pd.concat([predictionsDF, tempDF], ignore_index=True)\n"
     ]
    },
    {
     "name": "stdout",
     "output_type": "stream",
     "text": [
      "RESULTADOS DE MSE, RMSE, R2, MAPE (Train): 5.810930174643762, 2.410587101650501, 0.7690951214967726, 26.575388223659658\n",
      "RESULTADOS DE MSE, RMSE, R2, MAPE (Val): 5.1331128558013805, 2.265637406073924, 0.8136094013848751, 25.45292130274491\n",
      "RESULTADOS DE MSE, RMSE, R2, MAPE (Test): 1.9735050264191478, 1.404814943833937, 0.7901922421676597, 21.06919891687037\n",
      "totalMerged.csv Abies pindrow\n",
      "Juniperus spp.  Abies pindrow\n",
      "(17976, 77)\n",
      "SE HA NORMALIZADO EL ARCHIVO: Juniperus spp. _merged.csv\n",
      "(10218, 4, 43) (3900, 4, 43) (3018, 4, 43)\n",
      "<Conv1D name=conv1d_4, built=True> False\n",
      "<BatchNormalization name=batch_normalization_4, built=True> False\n",
      "<MaxPooling1D name=max_pooling1d_3, built=True> False\n",
      "<Conv1D name=conv1d_5, built=True> False\n",
      "<BatchNormalization name=batch_normalization_5, built=True> False\n",
      "<MaxPooling1D name=max_pooling1d_4, built=True> False\n",
      "<Dropout name=dropout_1, built=True> True\n",
      "<Conv1D name=conv1d_6, built=True> False\n",
      "<BatchNormalization name=batch_normalization_6, built=True> False\n",
      "<MaxPooling1D name=max_pooling1d_5, built=True> False\n",
      "<Conv1D name=conv1d_7, built=True> False\n",
      "<BatchNormalization name=batch_normalization_7, built=True> False\n",
      "<MaxPooling1D name=max_pooling1d_6, built=True> False\n",
      "<Conv1D name=conv1d_8, built=True> True\n",
      "<BatchNormalization name=batch_normalization_8, built=True> True\n",
      "<GlobalAveragePooling1D name=global_average_pooling1d_1, built=True> True\n",
      "<Dense name=dense_2, built=True> True\n",
      "<Dense name=dense_3, built=True> True\n"
     ]
    },
    {
     "name": "stderr",
     "output_type": "stream",
     "text": [
      "/home/workstation/Escritorio/PabloC/TransferLearning/.venv/lib/python3.10/site-packages/keras/src/saving/saving_lib.py:719: UserWarning: Skipping variable loading for optimizer 'adam', because it has 50 variables whereas the saved optimizer has 2 variables. \n",
      "  saveable.load_own_variables(weights_store.get(inner_path))\n"
     ]
    },
    {
     "name": "stdout",
     "output_type": "stream",
     "text": [
      "[MODELO CONGELADO]: 37.03278946876526\n"
     ]
    },
    {
     "name": "stderr",
     "output_type": "stream",
     "text": [
      "/home/workstation/Escritorio/PabloC/TransferLearning/funcionesComunes.py:247: FutureWarning: The behavior of DataFrame concatenation with empty or all-NA entries is deprecated. In a future version, this will no longer exclude empty or all-NA columns when determining the result dtypes. To retain the old behavior, exclude the relevant entries before the concat operation.\n",
      "  predictionsDF = pd.concat([predictionsDF, tempDF], ignore_index=True)\n",
      "/home/workstation/Escritorio/PabloC/TransferLearning/funcionesComunes.py:247: FutureWarning: The behavior of DataFrame concatenation with empty or all-NA entries is deprecated. In a future version, this will no longer exclude empty or all-NA columns when determining the result dtypes. To retain the old behavior, exclude the relevant entries before the concat operation.\n",
      "  predictionsDF = pd.concat([predictionsDF, tempDF], ignore_index=True)\n",
      "/home/workstation/Escritorio/PabloC/TransferLearning/funcionesComunes.py:247: FutureWarning: The behavior of DataFrame concatenation with empty or all-NA entries is deprecated. In a future version, this will no longer exclude empty or all-NA columns when determining the result dtypes. To retain the old behavior, exclude the relevant entries before the concat operation.\n",
      "  predictionsDF = pd.concat([predictionsDF, tempDF], ignore_index=True)\n"
     ]
    },
    {
     "name": "stdout",
     "output_type": "stream",
     "text": [
      "RESULTADOS DE MSE, RMSE, R2, MAPE (Train): 8.239829818496478, 2.870510375960428, 0.8656140212356542, 22.523988341502786\n",
      "RESULTADOS DE MSE, RMSE, R2, MAPE (Val): 3.345147476702589, 1.8289744330368833, 0.8299602584921424, 24.762926919968965\n",
      "RESULTADOS DE MSE, RMSE, R2, MAPE (Test): 10.83436965478692, 3.291560367787126, 0.8963181729627552, 22.40972873477965\n",
      "Procesando el modelo: model_Pinus roxburghii.keras\n",
      "Abies spectabilis Pinus roxburghii\n",
      "(96429, 77)\n",
      "SE HA NORMALIZADO EL ARCHIVO: Abies spectabilis_merged.csv\n",
      "(56618, 4, 43) (19637, 4, 43) (15689, 4, 43)\n",
      "<Conv1D name=conv1d_6, built=True> False\n",
      "<BatchNormalization name=batch_normalization_6, built=True> False\n",
      "<MaxPooling1D name=max_pooling1d_5, built=True> False\n",
      "<Conv1D name=conv1d_7, built=True> False\n",
      "<BatchNormalization name=batch_normalization_7, built=True> False\n",
      "<MaxPooling1D name=max_pooling1d_6, built=True> False\n",
      "<Dropout name=dropout_1, built=True> True\n",
      "<Conv1D name=conv1d_8, built=True> False\n",
      "<BatchNormalization name=batch_normalization_8, built=True> False\n",
      "<MaxPooling1D name=max_pooling1d_7, built=True> False\n",
      "<Conv1D name=conv1d_9, built=True> False\n",
      "<BatchNormalization name=batch_normalization_9, built=True> False\n",
      "<MaxPooling1D name=max_pooling1d_8, built=True> False\n",
      "<Conv1D name=conv1d_10, built=True> True\n",
      "<BatchNormalization name=batch_normalization_10, built=True> True\n",
      "<GlobalAveragePooling1D name=global_average_pooling1d_1, built=True> True\n",
      "<Dense name=dense_2, built=True> True\n",
      "<Dense name=dense_3, built=True> True\n"
     ]
    },
    {
     "name": "stderr",
     "output_type": "stream",
     "text": [
      "/home/workstation/Escritorio/PabloC/TransferLearning/.venv/lib/python3.10/site-packages/keras/src/saving/saving_lib.py:719: UserWarning: Skipping variable loading for optimizer 'adam', because it has 50 variables whereas the saved optimizer has 2 variables. \n",
      "  saveable.load_own_variables(weights_store.get(inner_path))\n"
     ]
    },
    {
     "name": "stdout",
     "output_type": "stream",
     "text": [
      "[MODELO CONGELADO]: 459.4389991760254\n"
     ]
    },
    {
     "name": "stderr",
     "output_type": "stream",
     "text": [
      "/home/workstation/Escritorio/PabloC/TransferLearning/funcionesComunes.py:247: FutureWarning: The behavior of DataFrame concatenation with empty or all-NA entries is deprecated. In a future version, this will no longer exclude empty or all-NA columns when determining the result dtypes. To retain the old behavior, exclude the relevant entries before the concat operation.\n",
      "  predictionsDF = pd.concat([predictionsDF, tempDF], ignore_index=True)\n",
      "/home/workstation/Escritorio/PabloC/TransferLearning/funcionesComunes.py:247: FutureWarning: The behavior of DataFrame concatenation with empty or all-NA entries is deprecated. In a future version, this will no longer exclude empty or all-NA columns when determining the result dtypes. To retain the old behavior, exclude the relevant entries before the concat operation.\n",
      "  predictionsDF = pd.concat([predictionsDF, tempDF], ignore_index=True)\n",
      "/home/workstation/Escritorio/PabloC/TransferLearning/funcionesComunes.py:247: FutureWarning: The behavior of DataFrame concatenation with empty or all-NA entries is deprecated. In a future version, this will no longer exclude empty or all-NA columns when determining the result dtypes. To retain the old behavior, exclude the relevant entries before the concat operation.\n",
      "  predictionsDF = pd.concat([predictionsDF, tempDF], ignore_index=True)\n"
     ]
    },
    {
     "name": "stdout",
     "output_type": "stream",
     "text": [
      "RESULTADOS DE MSE, RMSE, R2, MAPE (Train): 63.211210951280655, 7.950547839695115, 0.4454191461671194, 42.44587868234157\n",
      "RESULTADOS DE MSE, RMSE, R2, MAPE (Val): 69.01171904205916, 8.307329236406797, 0.3711897064115264, 43.48986892826477\n",
      "RESULTADOS DE MSE, RMSE, R2, MAPE (Test): 66.36056877868403, 8.146199652517979, 0.5078530378772013, 41.712254243092225\n",
      "Picea smithiana Pinus roxburghii\n",
      "(34476, 77)\n",
      "SE HA NORMALIZADO EL ARCHIVO: Picea smithiana_merged.csv\n",
      "(19933, 4, 43) (7272, 4, 43) (5863, 4, 43)\n",
      "<Conv1D name=conv1d_6, built=True> False\n",
      "<BatchNormalization name=batch_normalization_6, built=True> False\n",
      "<MaxPooling1D name=max_pooling1d_5, built=True> False\n",
      "<Conv1D name=conv1d_7, built=True> False\n",
      "<BatchNormalization name=batch_normalization_7, built=True> False\n",
      "<MaxPooling1D name=max_pooling1d_6, built=True> False\n",
      "<Dropout name=dropout_1, built=True> True\n",
      "<Conv1D name=conv1d_8, built=True> False\n",
      "<BatchNormalization name=batch_normalization_8, built=True> False\n",
      "<MaxPooling1D name=max_pooling1d_7, built=True> False\n",
      "<Conv1D name=conv1d_9, built=True> False\n",
      "<BatchNormalization name=batch_normalization_9, built=True> False\n",
      "<MaxPooling1D name=max_pooling1d_8, built=True> False\n",
      "<Conv1D name=conv1d_10, built=True> True\n",
      "<BatchNormalization name=batch_normalization_10, built=True> True\n",
      "<GlobalAveragePooling1D name=global_average_pooling1d_1, built=True> True\n",
      "<Dense name=dense_2, built=True> True\n",
      "<Dense name=dense_3, built=True> True\n"
     ]
    },
    {
     "name": "stderr",
     "output_type": "stream",
     "text": [
      "/home/workstation/Escritorio/PabloC/TransferLearning/.venv/lib/python3.10/site-packages/keras/src/saving/saving_lib.py:719: UserWarning: Skipping variable loading for optimizer 'adam', because it has 50 variables whereas the saved optimizer has 2 variables. \n",
      "  saveable.load_own_variables(weights_store.get(inner_path))\n"
     ]
    },
    {
     "name": "stdout",
     "output_type": "stream",
     "text": [
      "[MODELO CONGELADO]: 95.14281678199768\n"
     ]
    },
    {
     "name": "stderr",
     "output_type": "stream",
     "text": [
      "/home/workstation/Escritorio/PabloC/TransferLearning/funcionesComunes.py:247: FutureWarning: The behavior of DataFrame concatenation with empty or all-NA entries is deprecated. In a future version, this will no longer exclude empty or all-NA columns when determining the result dtypes. To retain the old behavior, exclude the relevant entries before the concat operation.\n",
      "  predictionsDF = pd.concat([predictionsDF, tempDF], ignore_index=True)\n",
      "/home/workstation/Escritorio/PabloC/TransferLearning/funcionesComunes.py:247: FutureWarning: The behavior of DataFrame concatenation with empty or all-NA entries is deprecated. In a future version, this will no longer exclude empty or all-NA columns when determining the result dtypes. To retain the old behavior, exclude the relevant entries before the concat operation.\n",
      "  predictionsDF = pd.concat([predictionsDF, tempDF], ignore_index=True)\n",
      "/home/workstation/Escritorio/PabloC/TransferLearning/funcionesComunes.py:247: FutureWarning: The behavior of DataFrame concatenation with empty or all-NA entries is deprecated. In a future version, this will no longer exclude empty or all-NA columns when determining the result dtypes. To retain the old behavior, exclude the relevant entries before the concat operation.\n",
      "  predictionsDF = pd.concat([predictionsDF, tempDF], ignore_index=True)\n"
     ]
    },
    {
     "name": "stdout",
     "output_type": "stream",
     "text": [
      "RESULTADOS DE MSE, RMSE, R2, MAPE (Train): 151.60324202668198, 12.312726831481399, 0.5557155195878395, 35.12465080582321\n",
      "RESULTADOS DE MSE, RMSE, R2, MAPE (Val): 142.7865618821576, 11.94933311453646, 0.5879558670485676, 35.40001185049167\n",
      "RESULTADOS DE MSE, RMSE, R2, MAPE (Test): 166.29417854485874, 12.895510014918322, 0.43843169714897656, 38.770014036022374\n",
      "Abies pindrow Pinus roxburghii\n",
      "(16018, 77)\n",
      "SE HA NORMALIZADO EL ARCHIVO: Abies pindrow_merged.csv\n",
      "(9042, 4, 43) (3441, 4, 43) (2815, 4, 43)\n",
      "<Conv1D name=conv1d_6, built=True> False\n",
      "<BatchNormalization name=batch_normalization_6, built=True> False\n",
      "<MaxPooling1D name=max_pooling1d_5, built=True> False\n",
      "<Conv1D name=conv1d_7, built=True> False\n",
      "<BatchNormalization name=batch_normalization_7, built=True> False\n",
      "<MaxPooling1D name=max_pooling1d_6, built=True> False\n",
      "<Dropout name=dropout_1, built=True> True\n",
      "<Conv1D name=conv1d_8, built=True> False\n",
      "<BatchNormalization name=batch_normalization_8, built=True> False\n",
      "<MaxPooling1D name=max_pooling1d_7, built=True> False\n",
      "<Conv1D name=conv1d_9, built=True> False\n",
      "<BatchNormalization name=batch_normalization_9, built=True> False\n",
      "<MaxPooling1D name=max_pooling1d_8, built=True> False\n",
      "<Conv1D name=conv1d_10, built=True> True\n",
      "<BatchNormalization name=batch_normalization_10, built=True> True\n",
      "<GlobalAveragePooling1D name=global_average_pooling1d_1, built=True> True\n",
      "<Dense name=dense_2, built=True> True\n",
      "<Dense name=dense_3, built=True> True\n"
     ]
    },
    {
     "name": "stderr",
     "output_type": "stream",
     "text": [
      "/home/workstation/Escritorio/PabloC/TransferLearning/.venv/lib/python3.10/site-packages/keras/src/saving/saving_lib.py:719: UserWarning: Skipping variable loading for optimizer 'adam', because it has 50 variables whereas the saved optimizer has 2 variables. \n",
      "  saveable.load_own_variables(weights_store.get(inner_path))\n"
     ]
    },
    {
     "name": "stdout",
     "output_type": "stream",
     "text": [
      "[MODELO CONGELADO]: 30.189263105392456\n"
     ]
    },
    {
     "name": "stderr",
     "output_type": "stream",
     "text": [
      "/home/workstation/Escritorio/PabloC/TransferLearning/funcionesComunes.py:247: FutureWarning: The behavior of DataFrame concatenation with empty or all-NA entries is deprecated. In a future version, this will no longer exclude empty or all-NA columns when determining the result dtypes. To retain the old behavior, exclude the relevant entries before the concat operation.\n",
      "  predictionsDF = pd.concat([predictionsDF, tempDF], ignore_index=True)\n",
      "/home/workstation/Escritorio/PabloC/TransferLearning/funcionesComunes.py:247: FutureWarning: The behavior of DataFrame concatenation with empty or all-NA entries is deprecated. In a future version, this will no longer exclude empty or all-NA columns when determining the result dtypes. To retain the old behavior, exclude the relevant entries before the concat operation.\n",
      "  predictionsDF = pd.concat([predictionsDF, tempDF], ignore_index=True)\n",
      "/home/workstation/Escritorio/PabloC/TransferLearning/funcionesComunes.py:247: FutureWarning: The behavior of DataFrame concatenation with empty or all-NA entries is deprecated. In a future version, this will no longer exclude empty or all-NA columns when determining the result dtypes. To retain the old behavior, exclude the relevant entries before the concat operation.\n",
      "  predictionsDF = pd.concat([predictionsDF, tempDF], ignore_index=True)\n"
     ]
    },
    {
     "name": "stdout",
     "output_type": "stream",
     "text": [
      "RESULTADOS DE MSE, RMSE, R2, MAPE (Train): 135.33090487410144, 11.633181201808103, 0.4191165208164258, 39.22690375800811\n",
      "RESULTADOS DE MSE, RMSE, R2, MAPE (Val): 118.10476202241092, 10.86760148433917, 0.3262727791325436, 36.28213421507376\n",
      "RESULTADOS DE MSE, RMSE, R2, MAPE (Test): 217.76609621846188, 14.756899952851272, -0.5395447654229522, 46.03820414340148\n",
      "Juniperus excelsa M.-Bieb Pinus roxburghii\n",
      "(7449, 77)\n",
      "SE HA NORMALIZADO EL ARCHIVO: Juniperus excelsa M.-Bieb_merged.csv\n",
      "(4189, 4, 43) (1707, 4, 43) (1228, 4, 43)\n",
      "<Conv1D name=conv1d_6, built=True> False\n",
      "<BatchNormalization name=batch_normalization_6, built=True> False\n",
      "<MaxPooling1D name=max_pooling1d_5, built=True> False\n",
      "<Conv1D name=conv1d_7, built=True> False\n",
      "<BatchNormalization name=batch_normalization_7, built=True> False\n",
      "<MaxPooling1D name=max_pooling1d_6, built=True> False\n",
      "<Dropout name=dropout_1, built=True> True\n",
      "<Conv1D name=conv1d_8, built=True> False\n",
      "<BatchNormalization name=batch_normalization_8, built=True> False\n",
      "<MaxPooling1D name=max_pooling1d_7, built=True> False\n",
      "<Conv1D name=conv1d_9, built=True> False\n",
      "<BatchNormalization name=batch_normalization_9, built=True> False\n",
      "<MaxPooling1D name=max_pooling1d_8, built=True> False\n",
      "<Conv1D name=conv1d_10, built=True> True\n",
      "<BatchNormalization name=batch_normalization_10, built=True> True\n",
      "<GlobalAveragePooling1D name=global_average_pooling1d_1, built=True> True\n",
      "<Dense name=dense_2, built=True> True\n",
      "<Dense name=dense_3, built=True> True\n"
     ]
    },
    {
     "name": "stderr",
     "output_type": "stream",
     "text": [
      "/home/workstation/Escritorio/PabloC/TransferLearning/.venv/lib/python3.10/site-packages/keras/src/saving/saving_lib.py:719: UserWarning: Skipping variable loading for optimizer 'adam', because it has 50 variables whereas the saved optimizer has 2 variables. \n",
      "  saveable.load_own_variables(weights_store.get(inner_path))\n"
     ]
    },
    {
     "name": "stdout",
     "output_type": "stream",
     "text": [
      "[MODELO CONGELADO]: 9.432405471801758\n"
     ]
    },
    {
     "name": "stderr",
     "output_type": "stream",
     "text": [
      "/home/workstation/Escritorio/PabloC/TransferLearning/funcionesComunes.py:247: FutureWarning: The behavior of DataFrame concatenation with empty or all-NA entries is deprecated. In a future version, this will no longer exclude empty or all-NA columns when determining the result dtypes. To retain the old behavior, exclude the relevant entries before the concat operation.\n",
      "  predictionsDF = pd.concat([predictionsDF, tempDF], ignore_index=True)\n",
      "/home/workstation/Escritorio/PabloC/TransferLearning/funcionesComunes.py:247: FutureWarning: The behavior of DataFrame concatenation with empty or all-NA entries is deprecated. In a future version, this will no longer exclude empty or all-NA columns when determining the result dtypes. To retain the old behavior, exclude the relevant entries before the concat operation.\n",
      "  predictionsDF = pd.concat([predictionsDF, tempDF], ignore_index=True)\n",
      "/home/workstation/Escritorio/PabloC/TransferLearning/funcionesComunes.py:247: FutureWarning: The behavior of DataFrame concatenation with empty or all-NA entries is deprecated. In a future version, this will no longer exclude empty or all-NA columns when determining the result dtypes. To retain the old behavior, exclude the relevant entries before the concat operation.\n",
      "  predictionsDF = pd.concat([predictionsDF, tempDF], ignore_index=True)\n"
     ]
    },
    {
     "name": "stdout",
     "output_type": "stream",
     "text": [
      "RESULTADOS DE MSE, RMSE, R2, MAPE (Train): 21.22206303145958, 4.606741042370363, 0.13736552483471132, 50.620139618291596\n",
      "RESULTADOS DE MSE, RMSE, R2, MAPE (Val): 25.56452248392735, 5.05613711087104, 0.02506506643299289, 59.10260315454049\n",
      "RESULTADOS DE MSE, RMSE, R2, MAPE (Test): 89.45770018369868, 9.458208085239967, -0.3262847438924765, 72.10891442610915\n",
      "Juniperus turkestanica Komar. Pinus roxburghii\n",
      "(6305, 77)\n",
      "SE HA NORMALIZADO EL ARCHIVO: Juniperus turkestanica Komar._merged.csv\n",
      "(3664, 4, 43) (1368, 4, 43) (1001, 4, 43)\n",
      "<Conv1D name=conv1d_6, built=True> False\n",
      "<BatchNormalization name=batch_normalization_6, built=True> False\n",
      "<MaxPooling1D name=max_pooling1d_5, built=True> False\n",
      "<Conv1D name=conv1d_7, built=True> False\n",
      "<BatchNormalization name=batch_normalization_7, built=True> False\n",
      "<MaxPooling1D name=max_pooling1d_6, built=True> False\n",
      "<Dropout name=dropout_1, built=True> True\n",
      "<Conv1D name=conv1d_8, built=True> False\n",
      "<BatchNormalization name=batch_normalization_8, built=True> False\n",
      "<MaxPooling1D name=max_pooling1d_7, built=True> False\n",
      "<Conv1D name=conv1d_9, built=True> False\n",
      "<BatchNormalization name=batch_normalization_9, built=True> False\n",
      "<MaxPooling1D name=max_pooling1d_8, built=True> False\n",
      "<Conv1D name=conv1d_10, built=True> True\n",
      "<BatchNormalization name=batch_normalization_10, built=True> True\n",
      "<GlobalAveragePooling1D name=global_average_pooling1d_1, built=True> True\n",
      "<Dense name=dense_2, built=True> True\n",
      "<Dense name=dense_3, built=True> True\n"
     ]
    },
    {
     "name": "stderr",
     "output_type": "stream",
     "text": [
      "/home/workstation/Escritorio/PabloC/TransferLearning/.venv/lib/python3.10/site-packages/keras/src/saving/saving_lib.py:719: UserWarning: Skipping variable loading for optimizer 'adam', because it has 50 variables whereas the saved optimizer has 2 variables. \n",
      "  saveable.load_own_variables(weights_store.get(inner_path))\n"
     ]
    },
    {
     "name": "stdout",
     "output_type": "stream",
     "text": [
      "[MODELO CONGELADO]: 11.457807779312134\n"
     ]
    },
    {
     "name": "stderr",
     "output_type": "stream",
     "text": [
      "/home/workstation/Escritorio/PabloC/TransferLearning/funcionesComunes.py:247: FutureWarning: The behavior of DataFrame concatenation with empty or all-NA entries is deprecated. In a future version, this will no longer exclude empty or all-NA columns when determining the result dtypes. To retain the old behavior, exclude the relevant entries before the concat operation.\n",
      "  predictionsDF = pd.concat([predictionsDF, tempDF], ignore_index=True)\n",
      "/home/workstation/Escritorio/PabloC/TransferLearning/funcionesComunes.py:247: FutureWarning: The behavior of DataFrame concatenation with empty or all-NA entries is deprecated. In a future version, this will no longer exclude empty or all-NA columns when determining the result dtypes. To retain the old behavior, exclude the relevant entries before the concat operation.\n",
      "  predictionsDF = pd.concat([predictionsDF, tempDF], ignore_index=True)\n",
      "/home/workstation/Escritorio/PabloC/TransferLearning/funcionesComunes.py:247: FutureWarning: The behavior of DataFrame concatenation with empty or all-NA entries is deprecated. In a future version, this will no longer exclude empty or all-NA columns when determining the result dtypes. To retain the old behavior, exclude the relevant entries before the concat operation.\n",
      "  predictionsDF = pd.concat([predictionsDF, tempDF], ignore_index=True)\n"
     ]
    },
    {
     "name": "stdout",
     "output_type": "stream",
     "text": [
      "RESULTADOS DE MSE, RMSE, R2, MAPE (Train): 11.007767662650783, 3.3177956029042512, 0.7547659150831145, 34.090133596370286\n",
      "RESULTADOS DE MSE, RMSE, R2, MAPE (Val): 9.543288496791765, 3.0892213415020566, 0.4450319157428433, 42.56585638250121\n",
      "RESULTADOS DE MSE, RMSE, R2, MAPE (Test): 2.9987779615794445, 1.7316979995309356, 0.4483086130170585, 35.30256269870476\n",
      "Pinus roxburghii Pinus roxburghii\n",
      "Pinus wallichiana Pinus roxburghii\n",
      "(9365, 77)\n",
      "SE HA NORMALIZADO EL ARCHIVO: Pinus wallichiana_merged.csv\n",
      "(5508, 4, 43) (1957, 4, 43) (1500, 4, 43)\n",
      "<Conv1D name=conv1d_6, built=True> False\n",
      "<BatchNormalization name=batch_normalization_6, built=True> False\n",
      "<MaxPooling1D name=max_pooling1d_5, built=True> False\n",
      "<Conv1D name=conv1d_7, built=True> False\n",
      "<BatchNormalization name=batch_normalization_7, built=True> False\n",
      "<MaxPooling1D name=max_pooling1d_6, built=True> False\n",
      "<Dropout name=dropout_1, built=True> True\n",
      "<Conv1D name=conv1d_8, built=True> False\n",
      "<BatchNormalization name=batch_normalization_8, built=True> False\n",
      "<MaxPooling1D name=max_pooling1d_7, built=True> False\n",
      "<Conv1D name=conv1d_9, built=True> False\n",
      "<BatchNormalization name=batch_normalization_9, built=True> False\n",
      "<MaxPooling1D name=max_pooling1d_8, built=True> False\n",
      "<Conv1D name=conv1d_10, built=True> True\n",
      "<BatchNormalization name=batch_normalization_10, built=True> True\n",
      "<GlobalAveragePooling1D name=global_average_pooling1d_1, built=True> True\n",
      "<Dense name=dense_2, built=True> True\n",
      "<Dense name=dense_3, built=True> True\n"
     ]
    },
    {
     "name": "stderr",
     "output_type": "stream",
     "text": [
      "/home/workstation/Escritorio/PabloC/TransferLearning/.venv/lib/python3.10/site-packages/keras/src/saving/saving_lib.py:719: UserWarning: Skipping variable loading for optimizer 'adam', because it has 50 variables whereas the saved optimizer has 2 variables. \n",
      "  saveable.load_own_variables(weights_store.get(inner_path))\n"
     ]
    },
    {
     "name": "stdout",
     "output_type": "stream",
     "text": [
      "[MODELO CONGELADO]: 22.368104696273804\n"
     ]
    },
    {
     "name": "stderr",
     "output_type": "stream",
     "text": [
      "/home/workstation/Escritorio/PabloC/TransferLearning/funcionesComunes.py:247: FutureWarning: The behavior of DataFrame concatenation with empty or all-NA entries is deprecated. In a future version, this will no longer exclude empty or all-NA columns when determining the result dtypes. To retain the old behavior, exclude the relevant entries before the concat operation.\n",
      "  predictionsDF = pd.concat([predictionsDF, tempDF], ignore_index=True)\n",
      "/home/workstation/Escritorio/PabloC/TransferLearning/funcionesComunes.py:247: FutureWarning: The behavior of DataFrame concatenation with empty or all-NA entries is deprecated. In a future version, this will no longer exclude empty or all-NA columns when determining the result dtypes. To retain the old behavior, exclude the relevant entries before the concat operation.\n",
      "  predictionsDF = pd.concat([predictionsDF, tempDF], ignore_index=True)\n",
      "/home/workstation/Escritorio/PabloC/TransferLearning/funcionesComunes.py:247: FutureWarning: The behavior of DataFrame concatenation with empty or all-NA entries is deprecated. In a future version, this will no longer exclude empty or all-NA columns when determining the result dtypes. To retain the old behavior, exclude the relevant entries before the concat operation.\n",
      "  predictionsDF = pd.concat([predictionsDF, tempDF], ignore_index=True)\n"
     ]
    },
    {
     "name": "stdout",
     "output_type": "stream",
     "text": [
      "RESULTADOS DE MSE, RMSE, R2, MAPE (Train): 31.780074807560055, 5.637381910741905, 0.5285679518190637, 32.06244886393614\n",
      "RESULTADOS DE MSE, RMSE, R2, MAPE (Val): 27.559491263803277, 5.249713445875239, 0.5390105602641785, 34.63079039718786\n",
      "RESULTADOS DE MSE, RMSE, R2, MAPE (Test): 53.13906498076181, 7.289654654423748, -0.2603053937907025, 46.8527203948374\n",
      "Pinus gerardiana Pinus roxburghii\n",
      "(10101, 77)\n",
      "SE HA NORMALIZADO EL ARCHIVO: Pinus gerardiana_merged.csv\n",
      "(5767, 4, 43) (2181, 4, 43) (1745, 4, 43)\n",
      "<Conv1D name=conv1d_6, built=True> False\n",
      "<BatchNormalization name=batch_normalization_6, built=True> False\n",
      "<MaxPooling1D name=max_pooling1d_5, built=True> False\n",
      "<Conv1D name=conv1d_7, built=True> False\n",
      "<BatchNormalization name=batch_normalization_7, built=True> False\n",
      "<MaxPooling1D name=max_pooling1d_6, built=True> False\n",
      "<Dropout name=dropout_1, built=True> True\n",
      "<Conv1D name=conv1d_8, built=True> False\n",
      "<BatchNormalization name=batch_normalization_8, built=True> False\n",
      "<MaxPooling1D name=max_pooling1d_7, built=True> False\n",
      "<Conv1D name=conv1d_9, built=True> False\n",
      "<BatchNormalization name=batch_normalization_9, built=True> False\n",
      "<MaxPooling1D name=max_pooling1d_8, built=True> False\n",
      "<Conv1D name=conv1d_10, built=True> True\n",
      "<BatchNormalization name=batch_normalization_10, built=True> True\n",
      "<GlobalAveragePooling1D name=global_average_pooling1d_1, built=True> True\n",
      "<Dense name=dense_2, built=True> True\n",
      "<Dense name=dense_3, built=True> True\n"
     ]
    },
    {
     "name": "stderr",
     "output_type": "stream",
     "text": [
      "/home/workstation/Escritorio/PabloC/TransferLearning/.venv/lib/python3.10/site-packages/keras/src/saving/saving_lib.py:719: UserWarning: Skipping variable loading for optimizer 'adam', because it has 50 variables whereas the saved optimizer has 2 variables. \n",
      "  saveable.load_own_variables(weights_store.get(inner_path))\n"
     ]
    },
    {
     "name": "stdout",
     "output_type": "stream",
     "text": [
      "[MODELO CONGELADO]: 6.720502614974976\n"
     ]
    },
    {
     "name": "stderr",
     "output_type": "stream",
     "text": [
      "/home/workstation/Escritorio/PabloC/TransferLearning/funcionesComunes.py:247: FutureWarning: The behavior of DataFrame concatenation with empty or all-NA entries is deprecated. In a future version, this will no longer exclude empty or all-NA columns when determining the result dtypes. To retain the old behavior, exclude the relevant entries before the concat operation.\n",
      "  predictionsDF = pd.concat([predictionsDF, tempDF], ignore_index=True)\n",
      "/home/workstation/Escritorio/PabloC/TransferLearning/funcionesComunes.py:247: FutureWarning: The behavior of DataFrame concatenation with empty or all-NA entries is deprecated. In a future version, this will no longer exclude empty or all-NA columns when determining the result dtypes. To retain the old behavior, exclude the relevant entries before the concat operation.\n",
      "  predictionsDF = pd.concat([predictionsDF, tempDF], ignore_index=True)\n",
      "/home/workstation/Escritorio/PabloC/TransferLearning/funcionesComunes.py:247: FutureWarning: The behavior of DataFrame concatenation with empty or all-NA entries is deprecated. In a future version, this will no longer exclude empty or all-NA columns when determining the result dtypes. To retain the old behavior, exclude the relevant entries before the concat operation.\n",
      "  predictionsDF = pd.concat([predictionsDF, tempDF], ignore_index=True)\n"
     ]
    },
    {
     "name": "stdout",
     "output_type": "stream",
     "text": [
      "RESULTADOS DE MSE, RMSE, R2, MAPE (Train): 20.716847927075126, 4.551576422194307, 0.4662961916413818, 36.54088676631823\n",
      "RESULTADOS DE MSE, RMSE, R2, MAPE (Val): 22.92966229288747, 4.788492695294363, 0.42052884781253264, 36.66497257505551\n",
      "RESULTADOS DE MSE, RMSE, R2, MAPE (Test): 18.79174512020303, 4.334944650189092, 0.5322579742647966, 34.73452160080065\n",
      "Populus ciliata Pinus roxburghii\n",
      "(1182, 77)\n",
      "SE HA NORMALIZADO EL ARCHIVO: Populus ciliata_merged.csv\n",
      "(705, 4, 43) (156, 4, 43) (265, 4, 43)\n"
     ]
    },
    {
     "name": "stderr",
     "output_type": "stream",
     "text": [
      "/home/workstation/Escritorio/PabloC/TransferLearning/.venv/lib/python3.10/site-packages/keras/src/saving/saving_lib.py:719: UserWarning: Skipping variable loading for optimizer 'adam', because it has 50 variables whereas the saved optimizer has 2 variables. \n",
      "  saveable.load_own_variables(weights_store.get(inner_path))\n"
     ]
    },
    {
     "name": "stdout",
     "output_type": "stream",
     "text": [
      "<Conv1D name=conv1d_6, built=True> False\n",
      "<BatchNormalization name=batch_normalization_6, built=True> False\n",
      "<MaxPooling1D name=max_pooling1d_5, built=True> False\n",
      "<Conv1D name=conv1d_7, built=True> False\n",
      "<BatchNormalization name=batch_normalization_7, built=True> False\n",
      "<MaxPooling1D name=max_pooling1d_6, built=True> False\n",
      "<Dropout name=dropout_1, built=True> True\n",
      "<Conv1D name=conv1d_8, built=True> False\n",
      "<BatchNormalization name=batch_normalization_8, built=True> False\n",
      "<MaxPooling1D name=max_pooling1d_7, built=True> False\n",
      "<Conv1D name=conv1d_9, built=True> False\n",
      "<BatchNormalization name=batch_normalization_9, built=True> False\n",
      "<MaxPooling1D name=max_pooling1d_8, built=True> False\n",
      "<Conv1D name=conv1d_10, built=True> True\n",
      "<BatchNormalization name=batch_normalization_10, built=True> True\n",
      "<GlobalAveragePooling1D name=global_average_pooling1d_1, built=True> True\n",
      "<Dense name=dense_2, built=True> True\n",
      "<Dense name=dense_3, built=True> True\n",
      "[MODELO CONGELADO]: 4.580854892730713\n"
     ]
    },
    {
     "name": "stderr",
     "output_type": "stream",
     "text": [
      "/home/workstation/Escritorio/PabloC/TransferLearning/funcionesComunes.py:247: FutureWarning: The behavior of DataFrame concatenation with empty or all-NA entries is deprecated. In a future version, this will no longer exclude empty or all-NA columns when determining the result dtypes. To retain the old behavior, exclude the relevant entries before the concat operation.\n",
      "  predictionsDF = pd.concat([predictionsDF, tempDF], ignore_index=True)\n",
      "/home/workstation/Escritorio/PabloC/TransferLearning/funcionesComunes.py:247: FutureWarning: The behavior of DataFrame concatenation with empty or all-NA entries is deprecated. In a future version, this will no longer exclude empty or all-NA columns when determining the result dtypes. To retain the old behavior, exclude the relevant entries before the concat operation.\n",
      "  predictionsDF = pd.concat([predictionsDF, tempDF], ignore_index=True)\n",
      "/home/workstation/Escritorio/PabloC/TransferLearning/funcionesComunes.py:247: FutureWarning: The behavior of DataFrame concatenation with empty or all-NA entries is deprecated. In a future version, this will no longer exclude empty or all-NA columns when determining the result dtypes. To retain the old behavior, exclude the relevant entries before the concat operation.\n",
      "  predictionsDF = pd.concat([predictionsDF, tempDF], ignore_index=True)\n"
     ]
    },
    {
     "name": "stdout",
     "output_type": "stream",
     "text": [
      "RESULTADOS DE MSE, RMSE, R2, MAPE (Train): 136.59800986824504, 11.687515128043474, 0.6238967381496305, 30.63165356012553\n",
      "RESULTADOS DE MSE, RMSE, R2, MAPE (Val): 150.74281145693044, 12.27773641421457, 0.3577158462136075, 37.31035252132557\n",
      "RESULTADOS DE MSE, RMSE, R2, MAPE (Test): 82.98799556395916, 9.109774726301367, 0.5853292616391155, 31.38689501662646\n",
      "Betula utilis Pinus roxburghii\n",
      "(3473, 77)\n",
      "SE HA NORMALIZADO EL ARCHIVO: Betula utilis_merged.csv\n",
      "(2059, 4, 43) (665, 4, 43) (593, 4, 43)\n",
      "<Conv1D name=conv1d_6, built=True> False\n",
      "<BatchNormalization name=batch_normalization_6, built=True> False\n",
      "<MaxPooling1D name=max_pooling1d_5, built=True> False\n",
      "<Conv1D name=conv1d_7, built=True> False\n",
      "<BatchNormalization name=batch_normalization_7, built=True> False\n",
      "<MaxPooling1D name=max_pooling1d_6, built=True> False\n",
      "<Dropout name=dropout_1, built=True> True\n",
      "<Conv1D name=conv1d_8, built=True> False\n",
      "<BatchNormalization name=batch_normalization_8, built=True> False\n",
      "<MaxPooling1D name=max_pooling1d_7, built=True> False\n",
      "<Conv1D name=conv1d_9, built=True> False\n",
      "<BatchNormalization name=batch_normalization_9, built=True> False\n",
      "<MaxPooling1D name=max_pooling1d_8, built=True> False\n",
      "<Conv1D name=conv1d_10, built=True> True\n",
      "<BatchNormalization name=batch_normalization_10, built=True> True\n",
      "<GlobalAveragePooling1D name=global_average_pooling1d_1, built=True> True\n",
      "<Dense name=dense_2, built=True> True\n",
      "<Dense name=dense_3, built=True> True\n"
     ]
    },
    {
     "name": "stderr",
     "output_type": "stream",
     "text": [
      "/home/workstation/Escritorio/PabloC/TransferLearning/.venv/lib/python3.10/site-packages/keras/src/saving/saving_lib.py:719: UserWarning: Skipping variable loading for optimizer 'adam', because it has 50 variables whereas the saved optimizer has 2 variables. \n",
      "  saveable.load_own_variables(weights_store.get(inner_path))\n"
     ]
    },
    {
     "name": "stdout",
     "output_type": "stream",
     "text": [
      "[MODELO CONGELADO]: 7.810880661010742\n"
     ]
    },
    {
     "name": "stderr",
     "output_type": "stream",
     "text": [
      "/home/workstation/Escritorio/PabloC/TransferLearning/funcionesComunes.py:247: FutureWarning: The behavior of DataFrame concatenation with empty or all-NA entries is deprecated. In a future version, this will no longer exclude empty or all-NA columns when determining the result dtypes. To retain the old behavior, exclude the relevant entries before the concat operation.\n",
      "  predictionsDF = pd.concat([predictionsDF, tempDF], ignore_index=True)\n",
      "/home/workstation/Escritorio/PabloC/TransferLearning/funcionesComunes.py:247: FutureWarning: The behavior of DataFrame concatenation with empty or all-NA entries is deprecated. In a future version, this will no longer exclude empty or all-NA columns when determining the result dtypes. To retain the old behavior, exclude the relevant entries before the concat operation.\n",
      "  predictionsDF = pd.concat([predictionsDF, tempDF], ignore_index=True)\n",
      "/home/workstation/Escritorio/PabloC/TransferLearning/funcionesComunes.py:247: FutureWarning: The behavior of DataFrame concatenation with empty or all-NA entries is deprecated. In a future version, this will no longer exclude empty or all-NA columns when determining the result dtypes. To retain the old behavior, exclude the relevant entries before the concat operation.\n",
      "  predictionsDF = pd.concat([predictionsDF, tempDF], ignore_index=True)\n"
     ]
    },
    {
     "name": "stdout",
     "output_type": "stream",
     "text": [
      "RESULTADOS DE MSE, RMSE, R2, MAPE (Train): 5.655010383984393, 2.3780265734394965, 0.16517745843649378, 59.179609399351676\n",
      "RESULTADOS DE MSE, RMSE, R2, MAPE (Val): 1.455871729588455, 1.20659509761496, 0.2418311644559008, 45.617679052958586\n",
      "RESULTADOS DE MSE, RMSE, R2, MAPE (Test): 1.3659962865507733, 1.1687584380661271, 0.4779849388335208, 45.17387157734792\n",
      "Tsuga dumosa Pinus roxburghii\n",
      "(20493, 77)\n",
      "SE HA NORMALIZADO EL ARCHIVO: Tsuga dumosa_merged.csv\n",
      "(11935, 4, 43) (4144, 4, 43) (3469, 4, 43)\n",
      "<Conv1D name=conv1d_6, built=True> False\n",
      "<BatchNormalization name=batch_normalization_6, built=True> False\n",
      "<MaxPooling1D name=max_pooling1d_5, built=True> False\n",
      "<Conv1D name=conv1d_7, built=True> False\n",
      "<BatchNormalization name=batch_normalization_7, built=True> False\n",
      "<MaxPooling1D name=max_pooling1d_6, built=True> False\n",
      "<Dropout name=dropout_1, built=True> True\n",
      "<Conv1D name=conv1d_8, built=True> False\n",
      "<BatchNormalization name=batch_normalization_8, built=True> False\n",
      "<MaxPooling1D name=max_pooling1d_7, built=True> False\n",
      "<Conv1D name=conv1d_9, built=True> False\n",
      "<BatchNormalization name=batch_normalization_9, built=True> False\n",
      "<MaxPooling1D name=max_pooling1d_8, built=True> False\n",
      "<Conv1D name=conv1d_10, built=True> True\n",
      "<BatchNormalization name=batch_normalization_10, built=True> True\n",
      "<GlobalAveragePooling1D name=global_average_pooling1d_1, built=True> True\n",
      "<Dense name=dense_2, built=True> True\n",
      "<Dense name=dense_3, built=True> True\n"
     ]
    },
    {
     "name": "stderr",
     "output_type": "stream",
     "text": [
      "/home/workstation/Escritorio/PabloC/TransferLearning/.venv/lib/python3.10/site-packages/keras/src/saving/saving_lib.py:719: UserWarning: Skipping variable loading for optimizer 'adam', because it has 50 variables whereas the saved optimizer has 2 variables. \n",
      "  saveable.load_own_variables(weights_store.get(inner_path))\n"
     ]
    },
    {
     "name": "stdout",
     "output_type": "stream",
     "text": [
      "[MODELO CONGELADO]: 74.57428860664368\n"
     ]
    },
    {
     "name": "stderr",
     "output_type": "stream",
     "text": [
      "/home/workstation/Escritorio/PabloC/TransferLearning/funcionesComunes.py:247: FutureWarning: The behavior of DataFrame concatenation with empty or all-NA entries is deprecated. In a future version, this will no longer exclude empty or all-NA columns when determining the result dtypes. To retain the old behavior, exclude the relevant entries before the concat operation.\n",
      "  predictionsDF = pd.concat([predictionsDF, tempDF], ignore_index=True)\n",
      "/home/workstation/Escritorio/PabloC/TransferLearning/funcionesComunes.py:247: FutureWarning: The behavior of DataFrame concatenation with empty or all-NA entries is deprecated. In a future version, this will no longer exclude empty or all-NA columns when determining the result dtypes. To retain the old behavior, exclude the relevant entries before the concat operation.\n",
      "  predictionsDF = pd.concat([predictionsDF, tempDF], ignore_index=True)\n",
      "/home/workstation/Escritorio/PabloC/TransferLearning/funcionesComunes.py:247: FutureWarning: The behavior of DataFrame concatenation with empty or all-NA entries is deprecated. In a future version, this will no longer exclude empty or all-NA columns when determining the result dtypes. To retain the old behavior, exclude the relevant entries before the concat operation.\n",
      "  predictionsDF = pd.concat([predictionsDF, tempDF], ignore_index=True)\n"
     ]
    },
    {
     "name": "stdout",
     "output_type": "stream",
     "text": [
      "RESULTADOS DE MSE, RMSE, R2, MAPE (Train): 203.80831749530086, 14.276145050233303, 0.47666282687102757, 39.37293758802679\n",
      "RESULTADOS DE MSE, RMSE, R2, MAPE (Val): 178.1479869402039, 13.34720895693942, 0.4346733523118086, 37.40875291259818\n",
      "RESULTADOS DE MSE, RMSE, R2, MAPE (Test): 306.39516723630567, 17.504147143928655, 0.4998831771667642, 39.96389390122008\n",
      "Cedrus deodara Pinus roxburghii\n",
      "(37273, 77)\n",
      "SE HA NORMALIZADO EL ARCHIVO: Cedrus deodara_merged.csv\n",
      "(22017, 4, 43) (7410, 4, 43) (6282, 4, 43)\n",
      "<Conv1D name=conv1d_6, built=True> False\n",
      "<BatchNormalization name=batch_normalization_6, built=True> False\n",
      "<MaxPooling1D name=max_pooling1d_5, built=True> False\n",
      "<Conv1D name=conv1d_7, built=True> False\n",
      "<BatchNormalization name=batch_normalization_7, built=True> False\n",
      "<MaxPooling1D name=max_pooling1d_6, built=True> False\n",
      "<Dropout name=dropout_1, built=True> True\n",
      "<Conv1D name=conv1d_8, built=True> False\n",
      "<BatchNormalization name=batch_normalization_8, built=True> False\n",
      "<MaxPooling1D name=max_pooling1d_7, built=True> False\n",
      "<Conv1D name=conv1d_9, built=True> False\n",
      "<BatchNormalization name=batch_normalization_9, built=True> False\n",
      "<MaxPooling1D name=max_pooling1d_8, built=True> False\n",
      "<Conv1D name=conv1d_10, built=True> True\n",
      "<BatchNormalization name=batch_normalization_10, built=True> True\n",
      "<GlobalAveragePooling1D name=global_average_pooling1d_1, built=True> True\n",
      "<Dense name=dense_2, built=True> True\n",
      "<Dense name=dense_3, built=True> True\n"
     ]
    },
    {
     "name": "stderr",
     "output_type": "stream",
     "text": [
      "/home/workstation/Escritorio/PabloC/TransferLearning/.venv/lib/python3.10/site-packages/keras/src/saving/saving_lib.py:719: UserWarning: Skipping variable loading for optimizer 'adam', because it has 50 variables whereas the saved optimizer has 2 variables. \n",
      "  saveable.load_own_variables(weights_store.get(inner_path))\n"
     ]
    },
    {
     "name": "stdout",
     "output_type": "stream",
     "text": [
      "[MODELO CONGELADO]: 63.90502047538757\n"
     ]
    },
    {
     "name": "stderr",
     "output_type": "stream",
     "text": [
      "/home/workstation/Escritorio/PabloC/TransferLearning/funcionesComunes.py:247: FutureWarning: The behavior of DataFrame concatenation with empty or all-NA entries is deprecated. In a future version, this will no longer exclude empty or all-NA columns when determining the result dtypes. To retain the old behavior, exclude the relevant entries before the concat operation.\n",
      "  predictionsDF = pd.concat([predictionsDF, tempDF], ignore_index=True)\n",
      "/home/workstation/Escritorio/PabloC/TransferLearning/funcionesComunes.py:247: FutureWarning: The behavior of DataFrame concatenation with empty or all-NA entries is deprecated. In a future version, this will no longer exclude empty or all-NA columns when determining the result dtypes. To retain the old behavior, exclude the relevant entries before the concat operation.\n",
      "  predictionsDF = pd.concat([predictionsDF, tempDF], ignore_index=True)\n",
      "/home/workstation/Escritorio/PabloC/TransferLearning/funcionesComunes.py:247: FutureWarning: The behavior of DataFrame concatenation with empty or all-NA entries is deprecated. In a future version, this will no longer exclude empty or all-NA columns when determining the result dtypes. To retain the old behavior, exclude the relevant entries before the concat operation.\n",
      "  predictionsDF = pd.concat([predictionsDF, tempDF], ignore_index=True)\n"
     ]
    },
    {
     "name": "stdout",
     "output_type": "stream",
     "text": [
      "RESULTADOS DE MSE, RMSE, R2, MAPE (Train): 194.23490156252143, 13.93681820081332, 0.5452556283141498, 37.38017712956077\n",
      "RESULTADOS DE MSE, RMSE, R2, MAPE (Val): 232.07696952077347, 15.234072650502014, 0.4798115901867289, 38.421941851430475\n",
      "RESULTADOS DE MSE, RMSE, R2, MAPE (Test): 177.99172004459655, 13.341353756069754, 0.49495568239386345, 37.26680997904219\n",
      "Juniperus spp. L. Pinus roxburghii\n",
      "(7264, 77)\n",
      "SE HA NORMALIZADO EL ARCHIVO: Juniperus spp. L._merged.csv\n",
      "(4216, 4, 43) (1524, 4, 43) (1188, 4, 43)\n",
      "<Conv1D name=conv1d_6, built=True> False\n",
      "<BatchNormalization name=batch_normalization_6, built=True> False\n",
      "<MaxPooling1D name=max_pooling1d_5, built=True> False\n",
      "<Conv1D name=conv1d_7, built=True> False\n",
      "<BatchNormalization name=batch_normalization_7, built=True> False\n",
      "<MaxPooling1D name=max_pooling1d_6, built=True> False\n",
      "<Dropout name=dropout_1, built=True> True\n",
      "<Conv1D name=conv1d_8, built=True> False\n",
      "<BatchNormalization name=batch_normalization_8, built=True> False\n",
      "<MaxPooling1D name=max_pooling1d_7, built=True> False\n",
      "<Conv1D name=conv1d_9, built=True> False\n",
      "<BatchNormalization name=batch_normalization_9, built=True> False\n",
      "<MaxPooling1D name=max_pooling1d_8, built=True> False\n",
      "<Conv1D name=conv1d_10, built=True> True\n",
      "<BatchNormalization name=batch_normalization_10, built=True> True\n",
      "<GlobalAveragePooling1D name=global_average_pooling1d_1, built=True> True\n",
      "<Dense name=dense_2, built=True> True\n",
      "<Dense name=dense_3, built=True> True\n"
     ]
    },
    {
     "name": "stderr",
     "output_type": "stream",
     "text": [
      "/home/workstation/Escritorio/PabloC/TransferLearning/.venv/lib/python3.10/site-packages/keras/src/saving/saving_lib.py:719: UserWarning: Skipping variable loading for optimizer 'adam', because it has 50 variables whereas the saved optimizer has 2 variables. \n",
      "  saveable.load_own_variables(weights_store.get(inner_path))\n"
     ]
    },
    {
     "name": "stdout",
     "output_type": "stream",
     "text": [
      "[MODELO CONGELADO]: 4.987903356552124\n"
     ]
    },
    {
     "name": "stderr",
     "output_type": "stream",
     "text": [
      "/home/workstation/Escritorio/PabloC/TransferLearning/funcionesComunes.py:247: FutureWarning: The behavior of DataFrame concatenation with empty or all-NA entries is deprecated. In a future version, this will no longer exclude empty or all-NA columns when determining the result dtypes. To retain the old behavior, exclude the relevant entries before the concat operation.\n",
      "  predictionsDF = pd.concat([predictionsDF, tempDF], ignore_index=True)\n",
      "/home/workstation/Escritorio/PabloC/TransferLearning/funcionesComunes.py:247: FutureWarning: The behavior of DataFrame concatenation with empty or all-NA entries is deprecated. In a future version, this will no longer exclude empty or all-NA columns when determining the result dtypes. To retain the old behavior, exclude the relevant entries before the concat operation.\n",
      "  predictionsDF = pd.concat([predictionsDF, tempDF], ignore_index=True)\n",
      "/home/workstation/Escritorio/PabloC/TransferLearning/funcionesComunes.py:247: FutureWarning: The behavior of DataFrame concatenation with empty or all-NA entries is deprecated. In a future version, this will no longer exclude empty or all-NA columns when determining the result dtypes. To retain the old behavior, exclude the relevant entries before the concat operation.\n",
      "  predictionsDF = pd.concat([predictionsDF, tempDF], ignore_index=True)\n"
     ]
    },
    {
     "name": "stdout",
     "output_type": "stream",
     "text": [
      "RESULTADOS DE MSE, RMSE, R2, MAPE (Train): 4.6356490368174486, 2.1530557440106954, 0.6301535881082355, 39.57160492795382\n",
      "RESULTADOS DE MSE, RMSE, R2, MAPE (Val): 1.5337747253458964, 1.2384565900127047, 0.31942831251075154, 42.94016368375829\n",
      "RESULTADOS DE MSE, RMSE, R2, MAPE (Test): 14.267879661566196, 3.777284694269972, 0.24736096808110664, 54.502844714254316\n",
      "Juniperus recurva Pinus roxburghii\n",
      "(5316, 77)\n",
      "SE HA NORMALIZADO EL ARCHIVO: Juniperus recurva_merged.csv\n",
      "(3188, 4, 43) (1082, 4, 43) (810, 4, 43)\n",
      "<Conv1D name=conv1d_6, built=True> False\n",
      "<BatchNormalization name=batch_normalization_6, built=True> False\n",
      "<MaxPooling1D name=max_pooling1d_5, built=True> False\n",
      "<Conv1D name=conv1d_7, built=True> False\n",
      "<BatchNormalization name=batch_normalization_7, built=True> False\n",
      "<MaxPooling1D name=max_pooling1d_6, built=True> False\n",
      "<Dropout name=dropout_1, built=True> True\n",
      "<Conv1D name=conv1d_8, built=True> False\n",
      "<BatchNormalization name=batch_normalization_8, built=True> False\n",
      "<MaxPooling1D name=max_pooling1d_7, built=True> False\n",
      "<Conv1D name=conv1d_9, built=True> False\n",
      "<BatchNormalization name=batch_normalization_9, built=True> False\n",
      "<MaxPooling1D name=max_pooling1d_8, built=True> False\n",
      "<Conv1D name=conv1d_10, built=True> True\n",
      "<BatchNormalization name=batch_normalization_10, built=True> True\n",
      "<GlobalAveragePooling1D name=global_average_pooling1d_1, built=True> True\n",
      "<Dense name=dense_2, built=True> True\n",
      "<Dense name=dense_3, built=True> True\n"
     ]
    },
    {
     "name": "stderr",
     "output_type": "stream",
     "text": [
      "/home/workstation/Escritorio/PabloC/TransferLearning/.venv/lib/python3.10/site-packages/keras/src/saving/saving_lib.py:719: UserWarning: Skipping variable loading for optimizer 'adam', because it has 50 variables whereas the saved optimizer has 2 variables. \n",
      "  saveable.load_own_variables(weights_store.get(inner_path))\n"
     ]
    },
    {
     "name": "stdout",
     "output_type": "stream",
     "text": [
      "[MODELO CONGELADO]: 4.767606496810913\n"
     ]
    },
    {
     "name": "stderr",
     "output_type": "stream",
     "text": [
      "/home/workstation/Escritorio/PabloC/TransferLearning/funcionesComunes.py:247: FutureWarning: The behavior of DataFrame concatenation with empty or all-NA entries is deprecated. In a future version, this will no longer exclude empty or all-NA columns when determining the result dtypes. To retain the old behavior, exclude the relevant entries before the concat operation.\n",
      "  predictionsDF = pd.concat([predictionsDF, tempDF], ignore_index=True)\n",
      "/home/workstation/Escritorio/PabloC/TransferLearning/funcionesComunes.py:247: FutureWarning: The behavior of DataFrame concatenation with empty or all-NA entries is deprecated. In a future version, this will no longer exclude empty or all-NA columns when determining the result dtypes. To retain the old behavior, exclude the relevant entries before the concat operation.\n",
      "  predictionsDF = pd.concat([predictionsDF, tempDF], ignore_index=True)\n",
      "/home/workstation/Escritorio/PabloC/TransferLearning/funcionesComunes.py:247: FutureWarning: The behavior of DataFrame concatenation with empty or all-NA entries is deprecated. In a future version, this will no longer exclude empty or all-NA columns when determining the result dtypes. To retain the old behavior, exclude the relevant entries before the concat operation.\n",
      "  predictionsDF = pd.concat([predictionsDF, tempDF], ignore_index=True)\n"
     ]
    },
    {
     "name": "stdout",
     "output_type": "stream",
     "text": [
      "RESULTADOS DE MSE, RMSE, R2, MAPE (Train): 11.365114625892234, 3.371218566912005, 0.5483923686920265, 38.33656658599456\n",
      "RESULTADOS DE MSE, RMSE, R2, MAPE (Val): 8.105423553060373, 2.847002555857717, 0.7056805898244384, 30.763122006341696\n",
      "RESULTADOS DE MSE, RMSE, R2, MAPE (Test): 2.9708507074647748, 1.723615591558853, 0.6841621797544775, 26.989012347307373\n",
      "totalMerged.csv Pinus roxburghii\n",
      "Juniperus spp.  Pinus roxburghii\n",
      "(17976, 77)\n",
      "SE HA NORMALIZADO EL ARCHIVO: Juniperus spp. _merged.csv\n",
      "(10218, 4, 43) (3900, 4, 43) (3018, 4, 43)\n",
      "<Conv1D name=conv1d_6, built=True> False\n",
      "<BatchNormalization name=batch_normalization_6, built=True> False\n",
      "<MaxPooling1D name=max_pooling1d_5, built=True> False\n",
      "<Conv1D name=conv1d_7, built=True> False\n",
      "<BatchNormalization name=batch_normalization_7, built=True> False\n",
      "<MaxPooling1D name=max_pooling1d_6, built=True> False\n",
      "<Dropout name=dropout_1, built=True> True\n",
      "<Conv1D name=conv1d_8, built=True> False\n",
      "<BatchNormalization name=batch_normalization_8, built=True> False\n",
      "<MaxPooling1D name=max_pooling1d_7, built=True> False\n",
      "<Conv1D name=conv1d_9, built=True> False\n",
      "<BatchNormalization name=batch_normalization_9, built=True> False\n",
      "<MaxPooling1D name=max_pooling1d_8, built=True> False\n",
      "<Conv1D name=conv1d_10, built=True> True\n",
      "<BatchNormalization name=batch_normalization_10, built=True> True\n",
      "<GlobalAveragePooling1D name=global_average_pooling1d_1, built=True> True\n",
      "<Dense name=dense_2, built=True> True\n",
      "<Dense name=dense_3, built=True> True\n"
     ]
    },
    {
     "name": "stderr",
     "output_type": "stream",
     "text": [
      "/home/workstation/Escritorio/PabloC/TransferLearning/.venv/lib/python3.10/site-packages/keras/src/saving/saving_lib.py:719: UserWarning: Skipping variable loading for optimizer 'adam', because it has 50 variables whereas the saved optimizer has 2 variables. \n",
      "  saveable.load_own_variables(weights_store.get(inner_path))\n"
     ]
    },
    {
     "name": "stdout",
     "output_type": "stream",
     "text": [
      "[MODELO CONGELADO]: 26.416049003601074\n"
     ]
    },
    {
     "name": "stderr",
     "output_type": "stream",
     "text": [
      "/home/workstation/Escritorio/PabloC/TransferLearning/funcionesComunes.py:247: FutureWarning: The behavior of DataFrame concatenation with empty or all-NA entries is deprecated. In a future version, this will no longer exclude empty or all-NA columns when determining the result dtypes. To retain the old behavior, exclude the relevant entries before the concat operation.\n",
      "  predictionsDF = pd.concat([predictionsDF, tempDF], ignore_index=True)\n",
      "/home/workstation/Escritorio/PabloC/TransferLearning/funcionesComunes.py:247: FutureWarning: The behavior of DataFrame concatenation with empty or all-NA entries is deprecated. In a future version, this will no longer exclude empty or all-NA columns when determining the result dtypes. To retain the old behavior, exclude the relevant entries before the concat operation.\n",
      "  predictionsDF = pd.concat([predictionsDF, tempDF], ignore_index=True)\n",
      "/home/workstation/Escritorio/PabloC/TransferLearning/funcionesComunes.py:247: FutureWarning: The behavior of DataFrame concatenation with empty or all-NA entries is deprecated. In a future version, this will no longer exclude empty or all-NA columns when determining the result dtypes. To retain the old behavior, exclude the relevant entries before the concat operation.\n",
      "  predictionsDF = pd.concat([predictionsDF, tempDF], ignore_index=True)\n"
     ]
    },
    {
     "name": "stdout",
     "output_type": "stream",
     "text": [
      "RESULTADOS DE MSE, RMSE, R2, MAPE (Train): 32.140871356201366, 5.669291962511841, 0.47580440971653615, 42.12346166619007\n",
      "RESULTADOS DE MSE, RMSE, R2, MAPE (Val): 9.462438282560719, 3.076107651328334, 0.5190075861209231, 42.84799936813494\n",
      "RESULTADOS DE MSE, RMSE, R2, MAPE (Test): 49.59384092487616, 7.042289466137853, 0.5254010892443773, 43.84449988542648\n",
      "Procesando el modelo: model_Betula utilis.keras\n",
      "Abies spectabilis Betula utilis\n",
      "(96429, 77)\n",
      "SE HA NORMALIZADO EL ARCHIVO: Abies spectabilis_merged.csv\n",
      "(56618, 4, 43) (19637, 4, 43) (15689, 4, 43)\n",
      "<Conv1D name=conv1d_5, built=True> False\n",
      "<BatchNormalization name=batch_normalization_5, built=True> False\n",
      "<MaxPooling1D name=max_pooling1d_4, built=True> False\n",
      "<Conv1D name=conv1d_6, built=True> False\n",
      "<BatchNormalization name=batch_normalization_6, built=True> False\n",
      "<MaxPooling1D name=max_pooling1d_5, built=True> False\n",
      "<Conv1D name=conv1d_7, built=True> False\n",
      "<BatchNormalization name=batch_normalization_7, built=True> False\n",
      "<MaxPooling1D name=max_pooling1d_6, built=True> False\n",
      "<Dropout name=dropout_1, built=True> True\n",
      "<Conv1D name=conv1d_8, built=True> False\n",
      "<BatchNormalization name=batch_normalization_8, built=True> False\n",
      "<MaxPooling1D name=max_pooling1d_7, built=True> False\n",
      "<Conv1D name=conv1d_9, built=True> True\n",
      "<BatchNormalization name=batch_normalization_9, built=True> True\n",
      "<GlobalAveragePooling1D name=global_average_pooling1d_1, built=True> True\n",
      "<Dense name=dense_2, built=True> True\n",
      "<Dense name=dense_3, built=True> True\n"
     ]
    },
    {
     "name": "stderr",
     "output_type": "stream",
     "text": [
      "/home/workstation/Escritorio/PabloC/TransferLearning/.venv/lib/python3.10/site-packages/keras/src/saving/saving_lib.py:719: UserWarning: Skipping variable loading for optimizer 'adam', because it has 50 variables whereas the saved optimizer has 2 variables. \n",
      "  saveable.load_own_variables(weights_store.get(inner_path))\n"
     ]
    },
    {
     "name": "stdout",
     "output_type": "stream",
     "text": [
      "[MODELO CONGELADO]: 205.17717480659485\n"
     ]
    },
    {
     "name": "stderr",
     "output_type": "stream",
     "text": [
      "/home/workstation/Escritorio/PabloC/TransferLearning/funcionesComunes.py:247: FutureWarning: The behavior of DataFrame concatenation with empty or all-NA entries is deprecated. In a future version, this will no longer exclude empty or all-NA columns when determining the result dtypes. To retain the old behavior, exclude the relevant entries before the concat operation.\n",
      "  predictionsDF = pd.concat([predictionsDF, tempDF], ignore_index=True)\n",
      "/home/workstation/Escritorio/PabloC/TransferLearning/funcionesComunes.py:247: FutureWarning: The behavior of DataFrame concatenation with empty or all-NA entries is deprecated. In a future version, this will no longer exclude empty or all-NA columns when determining the result dtypes. To retain the old behavior, exclude the relevant entries before the concat operation.\n",
      "  predictionsDF = pd.concat([predictionsDF, tempDF], ignore_index=True)\n",
      "/home/workstation/Escritorio/PabloC/TransferLearning/funcionesComunes.py:247: FutureWarning: The behavior of DataFrame concatenation with empty or all-NA entries is deprecated. In a future version, this will no longer exclude empty or all-NA columns when determining the result dtypes. To retain the old behavior, exclude the relevant entries before the concat operation.\n",
      "  predictionsDF = pd.concat([predictionsDF, tempDF], ignore_index=True)\n"
     ]
    },
    {
     "name": "stdout",
     "output_type": "stream",
     "text": [
      "RESULTADOS DE MSE, RMSE, R2, MAPE (Train): 75.22416916370567, 8.673186794005169, 0.34002397144660723, 46.465379659614115\n",
      "RESULTADOS DE MSE, RMSE, R2, MAPE (Val): 75.09826207349636, 8.66592534432973, 0.3157312862524172, 46.80712498126757\n",
      "RESULTADOS DE MSE, RMSE, R2, MAPE (Test): 78.8757589367435, 8.88120256140707, 0.4150371845770322, 45.64087724758632\n",
      "Picea smithiana Betula utilis\n",
      "(34476, 77)\n",
      "SE HA NORMALIZADO EL ARCHIVO: Picea smithiana_merged.csv\n",
      "(19933, 4, 43) (7272, 4, 43) (5863, 4, 43)\n",
      "<Conv1D name=conv1d_5, built=True> False\n",
      "<BatchNormalization name=batch_normalization_5, built=True> False\n",
      "<MaxPooling1D name=max_pooling1d_4, built=True> False\n",
      "<Conv1D name=conv1d_6, built=True> False\n",
      "<BatchNormalization name=batch_normalization_6, built=True> False\n",
      "<MaxPooling1D name=max_pooling1d_5, built=True> False\n",
      "<Conv1D name=conv1d_7, built=True> False\n",
      "<BatchNormalization name=batch_normalization_7, built=True> False\n",
      "<MaxPooling1D name=max_pooling1d_6, built=True> False\n",
      "<Dropout name=dropout_1, built=True> True\n",
      "<Conv1D name=conv1d_8, built=True> False\n",
      "<BatchNormalization name=batch_normalization_8, built=True> False\n",
      "<MaxPooling1D name=max_pooling1d_7, built=True> False\n",
      "<Conv1D name=conv1d_9, built=True> True\n",
      "<BatchNormalization name=batch_normalization_9, built=True> True\n",
      "<GlobalAveragePooling1D name=global_average_pooling1d_1, built=True> True\n",
      "<Dense name=dense_2, built=True> True\n",
      "<Dense name=dense_3, built=True> True\n"
     ]
    },
    {
     "name": "stderr",
     "output_type": "stream",
     "text": [
      "/home/workstation/Escritorio/PabloC/TransferLearning/.venv/lib/python3.10/site-packages/keras/src/saving/saving_lib.py:719: UserWarning: Skipping variable loading for optimizer 'adam', because it has 50 variables whereas the saved optimizer has 2 variables. \n",
      "  saveable.load_own_variables(weights_store.get(inner_path))\n"
     ]
    },
    {
     "name": "stdout",
     "output_type": "stream",
     "text": [
      "[MODELO CONGELADO]: 110.45950150489807\n"
     ]
    },
    {
     "name": "stderr",
     "output_type": "stream",
     "text": [
      "/home/workstation/Escritorio/PabloC/TransferLearning/funcionesComunes.py:247: FutureWarning: The behavior of DataFrame concatenation with empty or all-NA entries is deprecated. In a future version, this will no longer exclude empty or all-NA columns when determining the result dtypes. To retain the old behavior, exclude the relevant entries before the concat operation.\n",
      "  predictionsDF = pd.concat([predictionsDF, tempDF], ignore_index=True)\n",
      "/home/workstation/Escritorio/PabloC/TransferLearning/funcionesComunes.py:247: FutureWarning: The behavior of DataFrame concatenation with empty or all-NA entries is deprecated. In a future version, this will no longer exclude empty or all-NA columns when determining the result dtypes. To retain the old behavior, exclude the relevant entries before the concat operation.\n",
      "  predictionsDF = pd.concat([predictionsDF, tempDF], ignore_index=True)\n",
      "/home/workstation/Escritorio/PabloC/TransferLearning/funcionesComunes.py:247: FutureWarning: The behavior of DataFrame concatenation with empty or all-NA entries is deprecated. In a future version, this will no longer exclude empty or all-NA columns when determining the result dtypes. To retain the old behavior, exclude the relevant entries before the concat operation.\n",
      "  predictionsDF = pd.concat([predictionsDF, tempDF], ignore_index=True)\n"
     ]
    },
    {
     "name": "stdout",
     "output_type": "stream",
     "text": [
      "RESULTADOS DE MSE, RMSE, R2, MAPE (Train): 220.67769125443988, 14.855224375768946, 0.3532877523801342, 43.75512779522084\n",
      "RESULTADOS DE MSE, RMSE, R2, MAPE (Val): 257.6930068873246, 16.052819281588036, 0.2563663541519634, 46.090529646446264\n",
      "RESULTADOS DE MSE, RMSE, R2, MAPE (Test): 210.28569197457145, 14.501230705515013, 0.28987424461068656, 46.31917118426775\n",
      "Abies pindrow Betula utilis\n",
      "(16018, 77)\n",
      "SE HA NORMALIZADO EL ARCHIVO: Abies pindrow_merged.csv\n",
      "(9042, 4, 43) (3441, 4, 43) (2815, 4, 43)\n",
      "<Conv1D name=conv1d_5, built=True> False\n",
      "<BatchNormalization name=batch_normalization_5, built=True> False\n",
      "<MaxPooling1D name=max_pooling1d_4, built=True> False\n",
      "<Conv1D name=conv1d_6, built=True> False\n",
      "<BatchNormalization name=batch_normalization_6, built=True> False\n",
      "<MaxPooling1D name=max_pooling1d_5, built=True> False\n",
      "<Conv1D name=conv1d_7, built=True> False\n",
      "<BatchNormalization name=batch_normalization_7, built=True> False\n",
      "<MaxPooling1D name=max_pooling1d_6, built=True> False\n",
      "<Dropout name=dropout_1, built=True> True\n",
      "<Conv1D name=conv1d_8, built=True> False\n",
      "<BatchNormalization name=batch_normalization_8, built=True> False\n",
      "<MaxPooling1D name=max_pooling1d_7, built=True> False\n",
      "<Conv1D name=conv1d_9, built=True> True\n",
      "<BatchNormalization name=batch_normalization_9, built=True> True\n",
      "<GlobalAveragePooling1D name=global_average_pooling1d_1, built=True> True\n",
      "<Dense name=dense_2, built=True> True\n",
      "<Dense name=dense_3, built=True> True\n"
     ]
    },
    {
     "name": "stderr",
     "output_type": "stream",
     "text": [
      "/home/workstation/Escritorio/PabloC/TransferLearning/.venv/lib/python3.10/site-packages/keras/src/saving/saving_lib.py:719: UserWarning: Skipping variable loading for optimizer 'adam', because it has 50 variables whereas the saved optimizer has 2 variables. \n",
      "  saveable.load_own_variables(weights_store.get(inner_path))\n"
     ]
    },
    {
     "name": "stdout",
     "output_type": "stream",
     "text": [
      "[MODELO CONGELADO]: 38.34316539764404\n"
     ]
    },
    {
     "name": "stderr",
     "output_type": "stream",
     "text": [
      "/home/workstation/Escritorio/PabloC/TransferLearning/funcionesComunes.py:247: FutureWarning: The behavior of DataFrame concatenation with empty or all-NA entries is deprecated. In a future version, this will no longer exclude empty or all-NA columns when determining the result dtypes. To retain the old behavior, exclude the relevant entries before the concat operation.\n",
      "  predictionsDF = pd.concat([predictionsDF, tempDF], ignore_index=True)\n",
      "/home/workstation/Escritorio/PabloC/TransferLearning/funcionesComunes.py:247: FutureWarning: The behavior of DataFrame concatenation with empty or all-NA entries is deprecated. In a future version, this will no longer exclude empty or all-NA columns when determining the result dtypes. To retain the old behavior, exclude the relevant entries before the concat operation.\n",
      "  predictionsDF = pd.concat([predictionsDF, tempDF], ignore_index=True)\n",
      "/home/workstation/Escritorio/PabloC/TransferLearning/funcionesComunes.py:247: FutureWarning: The behavior of DataFrame concatenation with empty or all-NA entries is deprecated. In a future version, this will no longer exclude empty or all-NA columns when determining the result dtypes. To retain the old behavior, exclude the relevant entries before the concat operation.\n",
      "  predictionsDF = pd.concat([predictionsDF, tempDF], ignore_index=True)\n"
     ]
    },
    {
     "name": "stdout",
     "output_type": "stream",
     "text": [
      "RESULTADOS DE MSE, RMSE, R2, MAPE (Train): 226.40584165534264, 15.04678841664701, 0.028193795566579527, 49.49992977363414\n",
      "RESULTADOS DE MSE, RMSE, R2, MAPE (Val): 193.70005756503878, 13.91761680622939, -0.10495969197581334, 44.472121769705936\n",
      "RESULTADOS DE MSE, RMSE, R2, MAPE (Test): 319.7028397293517, 17.880236008771018, -1.2602087374630027, 52.89147146626427\n",
      "Juniperus excelsa M.-Bieb Betula utilis\n",
      "(7449, 77)\n",
      "SE HA NORMALIZADO EL ARCHIVO: Juniperus excelsa M.-Bieb_merged.csv\n",
      "(4189, 4, 43) (1707, 4, 43) (1228, 4, 43)\n",
      "<Conv1D name=conv1d_5, built=True> False\n",
      "<BatchNormalization name=batch_normalization_5, built=True> False\n",
      "<MaxPooling1D name=max_pooling1d_4, built=True> False\n",
      "<Conv1D name=conv1d_6, built=True> False\n",
      "<BatchNormalization name=batch_normalization_6, built=True> False\n",
      "<MaxPooling1D name=max_pooling1d_5, built=True> False\n",
      "<Conv1D name=conv1d_7, built=True> False\n",
      "<BatchNormalization name=batch_normalization_7, built=True> False\n",
      "<MaxPooling1D name=max_pooling1d_6, built=True> False\n",
      "<Dropout name=dropout_1, built=True> True\n",
      "<Conv1D name=conv1d_8, built=True> False\n",
      "<BatchNormalization name=batch_normalization_8, built=True> False\n",
      "<MaxPooling1D name=max_pooling1d_7, built=True> False\n",
      "<Conv1D name=conv1d_9, built=True> True\n",
      "<BatchNormalization name=batch_normalization_9, built=True> True\n",
      "<GlobalAveragePooling1D name=global_average_pooling1d_1, built=True> True\n",
      "<Dense name=dense_2, built=True> True\n",
      "<Dense name=dense_3, built=True> True\n"
     ]
    },
    {
     "name": "stderr",
     "output_type": "stream",
     "text": [
      "/home/workstation/Escritorio/PabloC/TransferLearning/.venv/lib/python3.10/site-packages/keras/src/saving/saving_lib.py:719: UserWarning: Skipping variable loading for optimizer 'adam', because it has 50 variables whereas the saved optimizer has 2 variables. \n",
      "  saveable.load_own_variables(weights_store.get(inner_path))\n"
     ]
    },
    {
     "name": "stdout",
     "output_type": "stream",
     "text": [
      "[MODELO CONGELADO]: 14.670812606811523\n"
     ]
    },
    {
     "name": "stderr",
     "output_type": "stream",
     "text": [
      "/home/workstation/Escritorio/PabloC/TransferLearning/funcionesComunes.py:247: FutureWarning: The behavior of DataFrame concatenation with empty or all-NA entries is deprecated. In a future version, this will no longer exclude empty or all-NA columns when determining the result dtypes. To retain the old behavior, exclude the relevant entries before the concat operation.\n",
      "  predictionsDF = pd.concat([predictionsDF, tempDF], ignore_index=True)\n",
      "/home/workstation/Escritorio/PabloC/TransferLearning/funcionesComunes.py:247: FutureWarning: The behavior of DataFrame concatenation with empty or all-NA entries is deprecated. In a future version, this will no longer exclude empty or all-NA columns when determining the result dtypes. To retain the old behavior, exclude the relevant entries before the concat operation.\n",
      "  predictionsDF = pd.concat([predictionsDF, tempDF], ignore_index=True)\n",
      "/home/workstation/Escritorio/PabloC/TransferLearning/funcionesComunes.py:247: FutureWarning: The behavior of DataFrame concatenation with empty or all-NA entries is deprecated. In a future version, this will no longer exclude empty or all-NA columns when determining the result dtypes. To retain the old behavior, exclude the relevant entries before the concat operation.\n",
      "  predictionsDF = pd.concat([predictionsDF, tempDF], ignore_index=True)\n"
     ]
    },
    {
     "name": "stdout",
     "output_type": "stream",
     "text": [
      "RESULTADOS DE MSE, RMSE, R2, MAPE (Train): 20.35668423846634, 4.511838232745755, 0.17254144433915708, 49.58812976022721\n",
      "RESULTADOS DE MSE, RMSE, R2, MAPE (Val): 25.383347706667344, 5.038188931219962, 0.03197439241563371, 58.584379490684476\n",
      "RESULTADOS DE MSE, RMSE, R2, MAPE (Test): 89.16132077427447, 9.442527245090398, -0.3218906728587254, 72.05282857826272\n",
      "Juniperus turkestanica Komar. Betula utilis\n",
      "(6305, 77)\n",
      "SE HA NORMALIZADO EL ARCHIVO: Juniperus turkestanica Komar._merged.csv\n",
      "(3664, 4, 43) (1368, 4, 43) (1001, 4, 43)\n",
      "<Conv1D name=conv1d_5, built=True> False\n",
      "<BatchNormalization name=batch_normalization_5, built=True> False\n",
      "<MaxPooling1D name=max_pooling1d_4, built=True> False\n",
      "<Conv1D name=conv1d_6, built=True> False\n",
      "<BatchNormalization name=batch_normalization_6, built=True> False\n",
      "<MaxPooling1D name=max_pooling1d_5, built=True> False\n",
      "<Conv1D name=conv1d_7, built=True> False\n",
      "<BatchNormalization name=batch_normalization_7, built=True> False\n",
      "<MaxPooling1D name=max_pooling1d_6, built=True> False\n",
      "<Dropout name=dropout_1, built=True> True\n",
      "<Conv1D name=conv1d_8, built=True> False\n",
      "<BatchNormalization name=batch_normalization_8, built=True> False\n",
      "<MaxPooling1D name=max_pooling1d_7, built=True> False\n",
      "<Conv1D name=conv1d_9, built=True> True\n",
      "<BatchNormalization name=batch_normalization_9, built=True> True\n",
      "<GlobalAveragePooling1D name=global_average_pooling1d_1, built=True> True\n",
      "<Dense name=dense_2, built=True> True\n",
      "<Dense name=dense_3, built=True> True\n"
     ]
    },
    {
     "name": "stderr",
     "output_type": "stream",
     "text": [
      "/home/workstation/Escritorio/PabloC/TransferLearning/.venv/lib/python3.10/site-packages/keras/src/saving/saving_lib.py:719: UserWarning: Skipping variable loading for optimizer 'adam', because it has 50 variables whereas the saved optimizer has 2 variables. \n",
      "  saveable.load_own_variables(weights_store.get(inner_path))\n"
     ]
    },
    {
     "name": "stdout",
     "output_type": "stream",
     "text": [
      "[MODELO CONGELADO]: 11.683445453643799\n"
     ]
    },
    {
     "name": "stderr",
     "output_type": "stream",
     "text": [
      "/home/workstation/Escritorio/PabloC/TransferLearning/funcionesComunes.py:247: FutureWarning: The behavior of DataFrame concatenation with empty or all-NA entries is deprecated. In a future version, this will no longer exclude empty or all-NA columns when determining the result dtypes. To retain the old behavior, exclude the relevant entries before the concat operation.\n",
      "  predictionsDF = pd.concat([predictionsDF, tempDF], ignore_index=True)\n",
      "/home/workstation/Escritorio/PabloC/TransferLearning/funcionesComunes.py:247: FutureWarning: The behavior of DataFrame concatenation with empty or all-NA entries is deprecated. In a future version, this will no longer exclude empty or all-NA columns when determining the result dtypes. To retain the old behavior, exclude the relevant entries before the concat operation.\n",
      "  predictionsDF = pd.concat([predictionsDF, tempDF], ignore_index=True)\n",
      "/home/workstation/Escritorio/PabloC/TransferLearning/funcionesComunes.py:247: FutureWarning: The behavior of DataFrame concatenation with empty or all-NA entries is deprecated. In a future version, this will no longer exclude empty or all-NA columns when determining the result dtypes. To retain the old behavior, exclude the relevant entries before the concat operation.\n",
      "  predictionsDF = pd.concat([predictionsDF, tempDF], ignore_index=True)\n"
     ]
    },
    {
     "name": "stdout",
     "output_type": "stream",
     "text": [
      "RESULTADOS DE MSE, RMSE, R2, MAPE (Train): 10.615562436485709, 3.258153224832391, 0.7635035713169536, 33.07730388254041\n",
      "RESULTADOS DE MSE, RMSE, R2, MAPE (Val): 9.366188101033979, 3.060422863107969, 0.45533078362134505, 41.880592912272476\n",
      "RESULTADOS DE MSE, RMSE, R2, MAPE (Test): 2.9428591884737934, 1.7154763736273937, 0.458596105418394, 34.625764940561\n",
      "Pinus roxburghii Betula utilis\n",
      "(10635, 77)\n",
      "SE HA NORMALIZADO EL ARCHIVO: Pinus roxburghii_merged.csv\n",
      "(6309, 4, 43) (2167, 4, 43) (1647, 4, 43)\n",
      "<Conv1D name=conv1d_5, built=True> False\n",
      "<BatchNormalization name=batch_normalization_5, built=True> False\n",
      "<MaxPooling1D name=max_pooling1d_4, built=True> False\n",
      "<Conv1D name=conv1d_6, built=True> False\n",
      "<BatchNormalization name=batch_normalization_6, built=True> False\n",
      "<MaxPooling1D name=max_pooling1d_5, built=True> False\n",
      "<Conv1D name=conv1d_7, built=True> False\n",
      "<BatchNormalization name=batch_normalization_7, built=True> False\n",
      "<MaxPooling1D name=max_pooling1d_6, built=True> False\n",
      "<Dropout name=dropout_1, built=True> True\n",
      "<Conv1D name=conv1d_8, built=True> False\n",
      "<BatchNormalization name=batch_normalization_8, built=True> False\n",
      "<MaxPooling1D name=max_pooling1d_7, built=True> False\n",
      "<Conv1D name=conv1d_9, built=True> True\n",
      "<BatchNormalization name=batch_normalization_9, built=True> True\n",
      "<GlobalAveragePooling1D name=global_average_pooling1d_1, built=True> True\n",
      "<Dense name=dense_2, built=True> True\n",
      "<Dense name=dense_3, built=True> True\n"
     ]
    },
    {
     "name": "stderr",
     "output_type": "stream",
     "text": [
      "/home/workstation/Escritorio/PabloC/TransferLearning/.venv/lib/python3.10/site-packages/keras/src/saving/saving_lib.py:719: UserWarning: Skipping variable loading for optimizer 'adam', because it has 50 variables whereas the saved optimizer has 2 variables. \n",
      "  saveable.load_own_variables(weights_store.get(inner_path))\n"
     ]
    },
    {
     "name": "stdout",
     "output_type": "stream",
     "text": [
      "[MODELO CONGELADO]: 30.013864517211914\n"
     ]
    },
    {
     "name": "stderr",
     "output_type": "stream",
     "text": [
      "/home/workstation/Escritorio/PabloC/TransferLearning/funcionesComunes.py:247: FutureWarning: The behavior of DataFrame concatenation with empty or all-NA entries is deprecated. In a future version, this will no longer exclude empty or all-NA columns when determining the result dtypes. To retain the old behavior, exclude the relevant entries before the concat operation.\n",
      "  predictionsDF = pd.concat([predictionsDF, tempDF], ignore_index=True)\n",
      "/home/workstation/Escritorio/PabloC/TransferLearning/funcionesComunes.py:247: FutureWarning: The behavior of DataFrame concatenation with empty or all-NA entries is deprecated. In a future version, this will no longer exclude empty or all-NA columns when determining the result dtypes. To retain the old behavior, exclude the relevant entries before the concat operation.\n",
      "  predictionsDF = pd.concat([predictionsDF, tempDF], ignore_index=True)\n",
      "/home/workstation/Escritorio/PabloC/TransferLearning/funcionesComunes.py:247: FutureWarning: The behavior of DataFrame concatenation with empty or all-NA entries is deprecated. In a future version, this will no longer exclude empty or all-NA columns when determining the result dtypes. To retain the old behavior, exclude the relevant entries before the concat operation.\n",
      "  predictionsDF = pd.concat([predictionsDF, tempDF], ignore_index=True)\n"
     ]
    },
    {
     "name": "stdout",
     "output_type": "stream",
     "text": [
      "RESULTADOS DE MSE, RMSE, R2, MAPE (Train): 189.1690435374657, 13.753873764778623, 0.2907986274040416, 44.32433776418103\n",
      "RESULTADOS DE MSE, RMSE, R2, MAPE (Val): 149.26465368073357, 12.217391443378311, 0.3336647369233946, 43.90298342117297\n",
      "RESULTADOS DE MSE, RMSE, R2, MAPE (Test): 170.5168104425655, 13.058208546449452, 0.28447583236388385, 45.351492478735544\n",
      "Pinus wallichiana Betula utilis\n",
      "(9365, 77)\n",
      "SE HA NORMALIZADO EL ARCHIVO: Pinus wallichiana_merged.csv\n",
      "(5508, 4, 43) (1957, 4, 43) (1500, 4, 43)\n",
      "<Conv1D name=conv1d_5, built=True> False\n",
      "<BatchNormalization name=batch_normalization_5, built=True> False\n",
      "<MaxPooling1D name=max_pooling1d_4, built=True> False\n",
      "<Conv1D name=conv1d_6, built=True> False\n",
      "<BatchNormalization name=batch_normalization_6, built=True> False\n",
      "<MaxPooling1D name=max_pooling1d_5, built=True> False\n",
      "<Conv1D name=conv1d_7, built=True> False\n",
      "<BatchNormalization name=batch_normalization_7, built=True> False\n",
      "<MaxPooling1D name=max_pooling1d_6, built=True> False\n",
      "<Dropout name=dropout_1, built=True> True\n",
      "<Conv1D name=conv1d_8, built=True> False\n",
      "<BatchNormalization name=batch_normalization_8, built=True> False\n",
      "<MaxPooling1D name=max_pooling1d_7, built=True> False\n",
      "<Conv1D name=conv1d_9, built=True> True\n",
      "<BatchNormalization name=batch_normalization_9, built=True> True\n",
      "<GlobalAveragePooling1D name=global_average_pooling1d_1, built=True> True\n",
      "<Dense name=dense_2, built=True> True\n",
      "<Dense name=dense_3, built=True> True\n"
     ]
    },
    {
     "name": "stderr",
     "output_type": "stream",
     "text": [
      "/home/workstation/Escritorio/PabloC/TransferLearning/.venv/lib/python3.10/site-packages/keras/src/saving/saving_lib.py:719: UserWarning: Skipping variable loading for optimizer 'adam', because it has 50 variables whereas the saved optimizer has 2 variables. \n",
      "  saveable.load_own_variables(weights_store.get(inner_path))\n"
     ]
    },
    {
     "name": "stdout",
     "output_type": "stream",
     "text": [
      "[MODELO CONGELADO]: 27.555182933807373\n"
     ]
    },
    {
     "name": "stderr",
     "output_type": "stream",
     "text": [
      "/home/workstation/Escritorio/PabloC/TransferLearning/funcionesComunes.py:247: FutureWarning: The behavior of DataFrame concatenation with empty or all-NA entries is deprecated. In a future version, this will no longer exclude empty or all-NA columns when determining the result dtypes. To retain the old behavior, exclude the relevant entries before the concat operation.\n",
      "  predictionsDF = pd.concat([predictionsDF, tempDF], ignore_index=True)\n",
      "/home/workstation/Escritorio/PabloC/TransferLearning/funcionesComunes.py:247: FutureWarning: The behavior of DataFrame concatenation with empty or all-NA entries is deprecated. In a future version, this will no longer exclude empty or all-NA columns when determining the result dtypes. To retain the old behavior, exclude the relevant entries before the concat operation.\n",
      "  predictionsDF = pd.concat([predictionsDF, tempDF], ignore_index=True)\n",
      "/home/workstation/Escritorio/PabloC/TransferLearning/funcionesComunes.py:247: FutureWarning: The behavior of DataFrame concatenation with empty or all-NA entries is deprecated. In a future version, this will no longer exclude empty or all-NA columns when determining the result dtypes. To retain the old behavior, exclude the relevant entries before the concat operation.\n",
      "  predictionsDF = pd.concat([predictionsDF, tempDF], ignore_index=True)\n"
     ]
    },
    {
     "name": "stdout",
     "output_type": "stream",
     "text": [
      "RESULTADOS DE MSE, RMSE, R2, MAPE (Train): 31.269187998297035, 5.59188590712445, 0.536146549929292, 31.902008752933497\n",
      "RESULTADOS DE MSE, RMSE, R2, MAPE (Val): 29.163583615977828, 5.400331806100235, 0.5121788010116163, 36.77404231799557\n",
      "RESULTADOS DE MSE, RMSE, R2, MAPE (Test): 50.067049856801134, 7.07580736430841, -0.18744605326719244, 46.22839931338388\n",
      "Pinus gerardiana Betula utilis\n",
      "(10101, 77)\n",
      "SE HA NORMALIZADO EL ARCHIVO: Pinus gerardiana_merged.csv\n",
      "(5767, 4, 43) (2181, 4, 43) (1745, 4, 43)\n",
      "<Conv1D name=conv1d_5, built=True> False\n",
      "<BatchNormalization name=batch_normalization_5, built=True> False\n",
      "<MaxPooling1D name=max_pooling1d_4, built=True> False\n",
      "<Conv1D name=conv1d_6, built=True> False\n",
      "<BatchNormalization name=batch_normalization_6, built=True> False\n",
      "<MaxPooling1D name=max_pooling1d_5, built=True> False\n",
      "<Conv1D name=conv1d_7, built=True> False\n",
      "<BatchNormalization name=batch_normalization_7, built=True> False\n",
      "<MaxPooling1D name=max_pooling1d_6, built=True> False\n",
      "<Dropout name=dropout_1, built=True> True\n",
      "<Conv1D name=conv1d_8, built=True> False\n",
      "<BatchNormalization name=batch_normalization_8, built=True> False\n",
      "<MaxPooling1D name=max_pooling1d_7, built=True> False\n",
      "<Conv1D name=conv1d_9, built=True> True\n",
      "<BatchNormalization name=batch_normalization_9, built=True> True\n",
      "<GlobalAveragePooling1D name=global_average_pooling1d_1, built=True> True\n",
      "<Dense name=dense_2, built=True> True\n",
      "<Dense name=dense_3, built=True> True\n"
     ]
    },
    {
     "name": "stderr",
     "output_type": "stream",
     "text": [
      "/home/workstation/Escritorio/PabloC/TransferLearning/.venv/lib/python3.10/site-packages/keras/src/saving/saving_lib.py:719: UserWarning: Skipping variable loading for optimizer 'adam', because it has 50 variables whereas the saved optimizer has 2 variables. \n",
      "  saveable.load_own_variables(weights_store.get(inner_path))\n"
     ]
    },
    {
     "name": "stdout",
     "output_type": "stream",
     "text": [
      "[MODELO CONGELADO]: 15.6443030834198\n"
     ]
    },
    {
     "name": "stderr",
     "output_type": "stream",
     "text": [
      "/home/workstation/Escritorio/PabloC/TransferLearning/funcionesComunes.py:247: FutureWarning: The behavior of DataFrame concatenation with empty or all-NA entries is deprecated. In a future version, this will no longer exclude empty or all-NA columns when determining the result dtypes. To retain the old behavior, exclude the relevant entries before the concat operation.\n",
      "  predictionsDF = pd.concat([predictionsDF, tempDF], ignore_index=True)\n",
      "/home/workstation/Escritorio/PabloC/TransferLearning/funcionesComunes.py:247: FutureWarning: The behavior of DataFrame concatenation with empty or all-NA entries is deprecated. In a future version, this will no longer exclude empty or all-NA columns when determining the result dtypes. To retain the old behavior, exclude the relevant entries before the concat operation.\n",
      "  predictionsDF = pd.concat([predictionsDF, tempDF], ignore_index=True)\n",
      "/home/workstation/Escritorio/PabloC/TransferLearning/funcionesComunes.py:247: FutureWarning: The behavior of DataFrame concatenation with empty or all-NA entries is deprecated. In a future version, this will no longer exclude empty or all-NA columns when determining the result dtypes. To retain the old behavior, exclude the relevant entries before the concat operation.\n",
      "  predictionsDF = pd.concat([predictionsDF, tempDF], ignore_index=True)\n"
     ]
    },
    {
     "name": "stdout",
     "output_type": "stream",
     "text": [
      "RESULTADOS DE MSE, RMSE, R2, MAPE (Train): 21.97973898856927, 4.6882554312419105, 0.4337618132729135, 38.01538977115983\n",
      "RESULTADOS DE MSE, RMSE, R2, MAPE (Val): 23.322852917059336, 4.829373967406059, 0.4105922590783472, 37.23904460449581\n",
      "RESULTADOS DE MSE, RMSE, R2, MAPE (Test): 19.56816977223943, 4.423592405753431, 0.5129321246829068, 35.80166860166932\n",
      "Populus ciliata Betula utilis\n",
      "(1182, 77)\n",
      "SE HA NORMALIZADO EL ARCHIVO: Populus ciliata_merged.csv\n",
      "(705, 4, 43) (156, 4, 43) (265, 4, 43)\n"
     ]
    },
    {
     "name": "stderr",
     "output_type": "stream",
     "text": [
      "/home/workstation/Escritorio/PabloC/TransferLearning/.venv/lib/python3.10/site-packages/keras/src/saving/saving_lib.py:719: UserWarning: Skipping variable loading for optimizer 'adam', because it has 50 variables whereas the saved optimizer has 2 variables. \n",
      "  saveable.load_own_variables(weights_store.get(inner_path))\n"
     ]
    },
    {
     "name": "stdout",
     "output_type": "stream",
     "text": [
      "<Conv1D name=conv1d_5, built=True> False\n",
      "<BatchNormalization name=batch_normalization_5, built=True> False\n",
      "<MaxPooling1D name=max_pooling1d_4, built=True> False\n",
      "<Conv1D name=conv1d_6, built=True> False\n",
      "<BatchNormalization name=batch_normalization_6, built=True> False\n",
      "<MaxPooling1D name=max_pooling1d_5, built=True> False\n",
      "<Conv1D name=conv1d_7, built=True> False\n",
      "<BatchNormalization name=batch_normalization_7, built=True> False\n",
      "<MaxPooling1D name=max_pooling1d_6, built=True> False\n",
      "<Dropout name=dropout_1, built=True> True\n",
      "<Conv1D name=conv1d_8, built=True> False\n",
      "<BatchNormalization name=batch_normalization_8, built=True> False\n",
      "<MaxPooling1D name=max_pooling1d_7, built=True> False\n",
      "<Conv1D name=conv1d_9, built=True> True\n",
      "<BatchNormalization name=batch_normalization_9, built=True> True\n",
      "<GlobalAveragePooling1D name=global_average_pooling1d_1, built=True> True\n",
      "<Dense name=dense_2, built=True> True\n",
      "<Dense name=dense_3, built=True> True\n",
      "[MODELO CONGELADO]: 4.892383575439453\n"
     ]
    },
    {
     "name": "stderr",
     "output_type": "stream",
     "text": [
      "/home/workstation/Escritorio/PabloC/TransferLearning/funcionesComunes.py:247: FutureWarning: The behavior of DataFrame concatenation with empty or all-NA entries is deprecated. In a future version, this will no longer exclude empty or all-NA columns when determining the result dtypes. To retain the old behavior, exclude the relevant entries before the concat operation.\n",
      "  predictionsDF = pd.concat([predictionsDF, tempDF], ignore_index=True)\n",
      "/home/workstation/Escritorio/PabloC/TransferLearning/funcionesComunes.py:247: FutureWarning: The behavior of DataFrame concatenation with empty or all-NA entries is deprecated. In a future version, this will no longer exclude empty or all-NA columns when determining the result dtypes. To retain the old behavior, exclude the relevant entries before the concat operation.\n",
      "  predictionsDF = pd.concat([predictionsDF, tempDF], ignore_index=True)\n",
      "/home/workstation/Escritorio/PabloC/TransferLearning/funcionesComunes.py:247: FutureWarning: The behavior of DataFrame concatenation with empty or all-NA entries is deprecated. In a future version, this will no longer exclude empty or all-NA columns when determining the result dtypes. To retain the old behavior, exclude the relevant entries before the concat operation.\n",
      "  predictionsDF = pd.concat([predictionsDF, tempDF], ignore_index=True)\n"
     ]
    },
    {
     "name": "stdout",
     "output_type": "stream",
     "text": [
      "RESULTADOS DE MSE, RMSE, R2, MAPE (Train): 202.52307451229157, 14.231060203382304, 0.4423814153844019, 40.23924324648126\n",
      "RESULTADOS DE MSE, RMSE, R2, MAPE (Val): 254.15796112822184, 15.942332361615783, -0.0829148628288352, 49.11881976107234\n",
      "RESULTADOS DE MSE, RMSE, R2, MAPE (Test): 97.02427576739154, 9.85009014006428, 0.5151933987803513, 36.188718997942246\n",
      "Betula utilis Betula utilis\n",
      "Tsuga dumosa Betula utilis\n",
      "(20493, 77)\n",
      "SE HA NORMALIZADO EL ARCHIVO: Tsuga dumosa_merged.csv\n",
      "(11935, 4, 43) (4144, 4, 43) (3469, 4, 43)\n",
      "<Conv1D name=conv1d_5, built=True> False\n",
      "<BatchNormalization name=batch_normalization_5, built=True> False\n",
      "<MaxPooling1D name=max_pooling1d_4, built=True> False\n",
      "<Conv1D name=conv1d_6, built=True> False\n",
      "<BatchNormalization name=batch_normalization_6, built=True> False\n",
      "<MaxPooling1D name=max_pooling1d_5, built=True> False\n",
      "<Conv1D name=conv1d_7, built=True> False\n",
      "<BatchNormalization name=batch_normalization_7, built=True> False\n",
      "<MaxPooling1D name=max_pooling1d_6, built=True> False\n",
      "<Dropout name=dropout_1, built=True> True\n",
      "<Conv1D name=conv1d_8, built=True> False\n",
      "<BatchNormalization name=batch_normalization_8, built=True> False\n",
      "<MaxPooling1D name=max_pooling1d_7, built=True> False\n",
      "<Conv1D name=conv1d_9, built=True> True\n",
      "<BatchNormalization name=batch_normalization_9, built=True> True\n",
      "<GlobalAveragePooling1D name=global_average_pooling1d_1, built=True> True\n",
      "<Dense name=dense_2, built=True> True\n",
      "<Dense name=dense_3, built=True> True\n"
     ]
    },
    {
     "name": "stderr",
     "output_type": "stream",
     "text": [
      "/home/workstation/Escritorio/PabloC/TransferLearning/.venv/lib/python3.10/site-packages/keras/src/saving/saving_lib.py:719: UserWarning: Skipping variable loading for optimizer 'adam', because it has 50 variables whereas the saved optimizer has 2 variables. \n",
      "  saveable.load_own_variables(weights_store.get(inner_path))\n"
     ]
    },
    {
     "name": "stdout",
     "output_type": "stream",
     "text": [
      "[MODELO CONGELADO]: 63.301860332489014\n"
     ]
    },
    {
     "name": "stderr",
     "output_type": "stream",
     "text": [
      "/home/workstation/Escritorio/PabloC/TransferLearning/funcionesComunes.py:247: FutureWarning: The behavior of DataFrame concatenation with empty or all-NA entries is deprecated. In a future version, this will no longer exclude empty or all-NA columns when determining the result dtypes. To retain the old behavior, exclude the relevant entries before the concat operation.\n",
      "  predictionsDF = pd.concat([predictionsDF, tempDF], ignore_index=True)\n",
      "/home/workstation/Escritorio/PabloC/TransferLearning/funcionesComunes.py:247: FutureWarning: The behavior of DataFrame concatenation with empty or all-NA entries is deprecated. In a future version, this will no longer exclude empty or all-NA columns when determining the result dtypes. To retain the old behavior, exclude the relevant entries before the concat operation.\n",
      "  predictionsDF = pd.concat([predictionsDF, tempDF], ignore_index=True)\n",
      "/home/workstation/Escritorio/PabloC/TransferLearning/funcionesComunes.py:247: FutureWarning: The behavior of DataFrame concatenation with empty or all-NA entries is deprecated. In a future version, this will no longer exclude empty or all-NA columns when determining the result dtypes. To retain the old behavior, exclude the relevant entries before the concat operation.\n",
      "  predictionsDF = pd.concat([predictionsDF, tempDF], ignore_index=True)\n"
     ]
    },
    {
     "name": "stdout",
     "output_type": "stream",
     "text": [
      "RESULTADOS DE MSE, RMSE, R2, MAPE (Train): 306.4075208889693, 17.504500018251573, 0.21320951088668394, 51.2956086367345\n",
      "RESULTADOS DE MSE, RMSE, R2, MAPE (Val): 257.6165762393735, 16.050438506139745, 0.18249137733339515, 47.468953107461125\n",
      "RESULTADOS DE MSE, RMSE, R2, MAPE (Test): 455.6956930823756, 21.34703007639179, 0.2561857804128499, 50.794392578108926\n",
      "Cedrus deodara Betula utilis\n",
      "(37273, 77)\n",
      "SE HA NORMALIZADO EL ARCHIVO: Cedrus deodara_merged.csv\n",
      "(22017, 4, 43) (7410, 4, 43) (6282, 4, 43)\n"
     ]
    },
    {
     "name": "stderr",
     "output_type": "stream",
     "text": [
      "/home/workstation/Escritorio/PabloC/TransferLearning/.venv/lib/python3.10/site-packages/keras/src/saving/saving_lib.py:719: UserWarning: Skipping variable loading for optimizer 'adam', because it has 50 variables whereas the saved optimizer has 2 variables. \n",
      "  saveable.load_own_variables(weights_store.get(inner_path))\n"
     ]
    },
    {
     "name": "stdout",
     "output_type": "stream",
     "text": [
      "<Conv1D name=conv1d_5, built=True> False\n",
      "<BatchNormalization name=batch_normalization_5, built=True> False\n",
      "<MaxPooling1D name=max_pooling1d_4, built=True> False\n",
      "<Conv1D name=conv1d_6, built=True> False\n",
      "<BatchNormalization name=batch_normalization_6, built=True> False\n",
      "<MaxPooling1D name=max_pooling1d_5, built=True> False\n",
      "<Conv1D name=conv1d_7, built=True> False\n",
      "<BatchNormalization name=batch_normalization_7, built=True> False\n",
      "<MaxPooling1D name=max_pooling1d_6, built=True> False\n",
      "<Dropout name=dropout_1, built=True> True\n",
      "<Conv1D name=conv1d_8, built=True> False\n",
      "<BatchNormalization name=batch_normalization_8, built=True> False\n",
      "<MaxPooling1D name=max_pooling1d_7, built=True> False\n",
      "<Conv1D name=conv1d_9, built=True> True\n",
      "<BatchNormalization name=batch_normalization_9, built=True> True\n",
      "<GlobalAveragePooling1D name=global_average_pooling1d_1, built=True> True\n",
      "<Dense name=dense_2, built=True> True\n",
      "<Dense name=dense_3, built=True> True\n",
      "[MODELO CONGELADO]: 68.90360307693481\n"
     ]
    },
    {
     "name": "stderr",
     "output_type": "stream",
     "text": [
      "/home/workstation/Escritorio/PabloC/TransferLearning/funcionesComunes.py:247: FutureWarning: The behavior of DataFrame concatenation with empty or all-NA entries is deprecated. In a future version, this will no longer exclude empty or all-NA columns when determining the result dtypes. To retain the old behavior, exclude the relevant entries before the concat operation.\n",
      "  predictionsDF = pd.concat([predictionsDF, tempDF], ignore_index=True)\n",
      "/home/workstation/Escritorio/PabloC/TransferLearning/funcionesComunes.py:247: FutureWarning: The behavior of DataFrame concatenation with empty or all-NA entries is deprecated. In a future version, this will no longer exclude empty or all-NA columns when determining the result dtypes. To retain the old behavior, exclude the relevant entries before the concat operation.\n",
      "  predictionsDF = pd.concat([predictionsDF, tempDF], ignore_index=True)\n",
      "/home/workstation/Escritorio/PabloC/TransferLearning/funcionesComunes.py:247: FutureWarning: The behavior of DataFrame concatenation with empty or all-NA entries is deprecated. In a future version, this will no longer exclude empty or all-NA columns when determining the result dtypes. To retain the old behavior, exclude the relevant entries before the concat operation.\n",
      "  predictionsDF = pd.concat([predictionsDF, tempDF], ignore_index=True)\n"
     ]
    },
    {
     "name": "stdout",
     "output_type": "stream",
     "text": [
      "RESULTADOS DE MSE, RMSE, R2, MAPE (Train): 237.1200013924286, 15.39870128914866, 0.4448526748801668, 41.60178476825438\n",
      "RESULTADOS DE MSE, RMSE, R2, MAPE (Val): 289.16837938039436, 17.004951613585803, 0.3518441758836238, 44.01262444384252\n",
      "RESULTADOS DE MSE, RMSE, R2, MAPE (Test): 208.95521645088218, 14.455283340387423, 0.4070980117713512, 41.199948070457346\n",
      "Juniperus spp. L. Betula utilis\n",
      "(7264, 77)\n",
      "SE HA NORMALIZADO EL ARCHIVO: Juniperus spp. L._merged.csv\n",
      "(4216, 4, 43) (1524, 4, 43) (1188, 4, 43)\n",
      "<Conv1D name=conv1d_5, built=True> False\n",
      "<BatchNormalization name=batch_normalization_5, built=True> False\n",
      "<MaxPooling1D name=max_pooling1d_4, built=True> False\n",
      "<Conv1D name=conv1d_6, built=True> False\n",
      "<BatchNormalization name=batch_normalization_6, built=True> False\n",
      "<MaxPooling1D name=max_pooling1d_5, built=True> False\n",
      "<Conv1D name=conv1d_7, built=True> False\n",
      "<BatchNormalization name=batch_normalization_7, built=True> False\n",
      "<MaxPooling1D name=max_pooling1d_6, built=True> False\n",
      "<Dropout name=dropout_1, built=True> True\n",
      "<Conv1D name=conv1d_8, built=True> False\n",
      "<BatchNormalization name=batch_normalization_8, built=True> False\n",
      "<MaxPooling1D name=max_pooling1d_7, built=True> False\n",
      "<Conv1D name=conv1d_9, built=True> True\n",
      "<BatchNormalization name=batch_normalization_9, built=True> True\n",
      "<GlobalAveragePooling1D name=global_average_pooling1d_1, built=True> True\n",
      "<Dense name=dense_2, built=True> True\n",
      "<Dense name=dense_3, built=True> True\n"
     ]
    },
    {
     "name": "stderr",
     "output_type": "stream",
     "text": [
      "/home/workstation/Escritorio/PabloC/TransferLearning/.venv/lib/python3.10/site-packages/keras/src/saving/saving_lib.py:719: UserWarning: Skipping variable loading for optimizer 'adam', because it has 50 variables whereas the saved optimizer has 2 variables. \n",
      "  saveable.load_own_variables(weights_store.get(inner_path))\n"
     ]
    },
    {
     "name": "stdout",
     "output_type": "stream",
     "text": [
      "[MODELO CONGELADO]: 5.028316497802734\n"
     ]
    },
    {
     "name": "stderr",
     "output_type": "stream",
     "text": [
      "/home/workstation/Escritorio/PabloC/TransferLearning/funcionesComunes.py:247: FutureWarning: The behavior of DataFrame concatenation with empty or all-NA entries is deprecated. In a future version, this will no longer exclude empty or all-NA columns when determining the result dtypes. To retain the old behavior, exclude the relevant entries before the concat operation.\n",
      "  predictionsDF = pd.concat([predictionsDF, tempDF], ignore_index=True)\n",
      "/home/workstation/Escritorio/PabloC/TransferLearning/funcionesComunes.py:247: FutureWarning: The behavior of DataFrame concatenation with empty or all-NA entries is deprecated. In a future version, this will no longer exclude empty or all-NA columns when determining the result dtypes. To retain the old behavior, exclude the relevant entries before the concat operation.\n",
      "  predictionsDF = pd.concat([predictionsDF, tempDF], ignore_index=True)\n",
      "/home/workstation/Escritorio/PabloC/TransferLearning/funcionesComunes.py:247: FutureWarning: The behavior of DataFrame concatenation with empty or all-NA entries is deprecated. In a future version, this will no longer exclude empty or all-NA columns when determining the result dtypes. To retain the old behavior, exclude the relevant entries before the concat operation.\n",
      "  predictionsDF = pd.concat([predictionsDF, tempDF], ignore_index=True)\n"
     ]
    },
    {
     "name": "stdout",
     "output_type": "stream",
     "text": [
      "RESULTADOS DE MSE, RMSE, R2, MAPE (Train): 4.766695900853954, 2.1832764142118957, 0.6196982641463413, 39.81278483317784\n",
      "RESULTADOS DE MSE, RMSE, R2, MAPE (Val): 1.5621007071841064, 1.2498402726685145, 0.3068594124364118, 43.444868964488684\n",
      "RESULTADOS DE MSE, RMSE, R2, MAPE (Test): 16.709542531070387, 4.087730731233454, 0.1185618176841361, 57.62374658966565\n",
      "Juniperus recurva Betula utilis\n",
      "(5316, 77)\n",
      "SE HA NORMALIZADO EL ARCHIVO: Juniperus recurva_merged.csv\n",
      "(3188, 4, 43) (1082, 4, 43) (810, 4, 43)\n",
      "<Conv1D name=conv1d_5, built=True> False\n",
      "<BatchNormalization name=batch_normalization_5, built=True> False\n",
      "<MaxPooling1D name=max_pooling1d_4, built=True> False\n",
      "<Conv1D name=conv1d_6, built=True> False\n",
      "<BatchNormalization name=batch_normalization_6, built=True> False\n",
      "<MaxPooling1D name=max_pooling1d_5, built=True> False\n",
      "<Conv1D name=conv1d_7, built=True> False\n",
      "<BatchNormalization name=batch_normalization_7, built=True> False\n",
      "<MaxPooling1D name=max_pooling1d_6, built=True> False\n",
      "<Dropout name=dropout_1, built=True> True\n",
      "<Conv1D name=conv1d_8, built=True> False\n",
      "<BatchNormalization name=batch_normalization_8, built=True> False\n",
      "<MaxPooling1D name=max_pooling1d_7, built=True> False\n",
      "<Conv1D name=conv1d_9, built=True> True\n",
      "<BatchNormalization name=batch_normalization_9, built=True> True\n",
      "<GlobalAveragePooling1D name=global_average_pooling1d_1, built=True> True\n",
      "<Dense name=dense_2, built=True> True\n",
      "<Dense name=dense_3, built=True> True\n"
     ]
    },
    {
     "name": "stderr",
     "output_type": "stream",
     "text": [
      "/home/workstation/Escritorio/PabloC/TransferLearning/.venv/lib/python3.10/site-packages/keras/src/saving/saving_lib.py:719: UserWarning: Skipping variable loading for optimizer 'adam', because it has 50 variables whereas the saved optimizer has 2 variables. \n",
      "  saveable.load_own_variables(weights_store.get(inner_path))\n"
     ]
    },
    {
     "name": "stdout",
     "output_type": "stream",
     "text": [
      "[MODELO CONGELADO]: 11.6597158908844\n"
     ]
    },
    {
     "name": "stderr",
     "output_type": "stream",
     "text": [
      "/home/workstation/Escritorio/PabloC/TransferLearning/funcionesComunes.py:247: FutureWarning: The behavior of DataFrame concatenation with empty or all-NA entries is deprecated. In a future version, this will no longer exclude empty or all-NA columns when determining the result dtypes. To retain the old behavior, exclude the relevant entries before the concat operation.\n",
      "  predictionsDF = pd.concat([predictionsDF, tempDF], ignore_index=True)\n",
      "/home/workstation/Escritorio/PabloC/TransferLearning/funcionesComunes.py:247: FutureWarning: The behavior of DataFrame concatenation with empty or all-NA entries is deprecated. In a future version, this will no longer exclude empty or all-NA columns when determining the result dtypes. To retain the old behavior, exclude the relevant entries before the concat operation.\n",
      "  predictionsDF = pd.concat([predictionsDF, tempDF], ignore_index=True)\n",
      "/home/workstation/Escritorio/PabloC/TransferLearning/funcionesComunes.py:247: FutureWarning: The behavior of DataFrame concatenation with empty or all-NA entries is deprecated. In a future version, this will no longer exclude empty or all-NA columns when determining the result dtypes. To retain the old behavior, exclude the relevant entries before the concat operation.\n",
      "  predictionsDF = pd.concat([predictionsDF, tempDF], ignore_index=True)\n"
     ]
    },
    {
     "name": "stdout",
     "output_type": "stream",
     "text": [
      "RESULTADOS DE MSE, RMSE, R2, MAPE (Train): 8.956444939382974, 2.9927320193066023, 0.6441039956781351, 33.74356758363281\n",
      "RESULTADOS DE MSE, RMSE, R2, MAPE (Val): 6.9133872647841805, 2.629332094807383, 0.7489651159169519, 28.88685130157992\n",
      "RESULTADOS DE MSE, RMSE, R2, MAPE (Test): 2.458236150318801, 1.5678763185655942, 0.7386593862106278, 24.624421937264263\n",
      "totalMerged.csv Betula utilis\n",
      "Juniperus spp.  Betula utilis\n",
      "(17976, 77)\n",
      "SE HA NORMALIZADO EL ARCHIVO: Juniperus spp. _merged.csv\n",
      "(10218, 4, 43) (3900, 4, 43) (3018, 4, 43)\n",
      "<Conv1D name=conv1d_5, built=True> False\n",
      "<BatchNormalization name=batch_normalization_5, built=True> False\n",
      "<MaxPooling1D name=max_pooling1d_4, built=True> False\n",
      "<Conv1D name=conv1d_6, built=True> False\n",
      "<BatchNormalization name=batch_normalization_6, built=True> False\n",
      "<MaxPooling1D name=max_pooling1d_5, built=True> False\n",
      "<Conv1D name=conv1d_7, built=True> False\n",
      "<BatchNormalization name=batch_normalization_7, built=True> False\n",
      "<MaxPooling1D name=max_pooling1d_6, built=True> False\n",
      "<Dropout name=dropout_1, built=True> True\n",
      "<Conv1D name=conv1d_8, built=True> False\n",
      "<BatchNormalization name=batch_normalization_8, built=True> False\n",
      "<MaxPooling1D name=max_pooling1d_7, built=True> False\n",
      "<Conv1D name=conv1d_9, built=True> True\n",
      "<BatchNormalization name=batch_normalization_9, built=True> True\n",
      "<GlobalAveragePooling1D name=global_average_pooling1d_1, built=True> True\n",
      "<Dense name=dense_2, built=True> True\n",
      "<Dense name=dense_3, built=True> True\n"
     ]
    },
    {
     "name": "stderr",
     "output_type": "stream",
     "text": [
      "/home/workstation/Escritorio/PabloC/TransferLearning/.venv/lib/python3.10/site-packages/keras/src/saving/saving_lib.py:719: UserWarning: Skipping variable loading for optimizer 'adam', because it has 50 variables whereas the saved optimizer has 2 variables. \n",
      "  saveable.load_own_variables(weights_store.get(inner_path))\n"
     ]
    },
    {
     "name": "stdout",
     "output_type": "stream",
     "text": [
      "[MODELO CONGELADO]: 17.38681674003601\n"
     ]
    },
    {
     "name": "stderr",
     "output_type": "stream",
     "text": [
      "/home/workstation/Escritorio/PabloC/TransferLearning/funcionesComunes.py:247: FutureWarning: The behavior of DataFrame concatenation with empty or all-NA entries is deprecated. In a future version, this will no longer exclude empty or all-NA columns when determining the result dtypes. To retain the old behavior, exclude the relevant entries before the concat operation.\n",
      "  predictionsDF = pd.concat([predictionsDF, tempDF], ignore_index=True)\n",
      "/home/workstation/Escritorio/PabloC/TransferLearning/funcionesComunes.py:247: FutureWarning: The behavior of DataFrame concatenation with empty or all-NA entries is deprecated. In a future version, this will no longer exclude empty or all-NA columns when determining the result dtypes. To retain the old behavior, exclude the relevant entries before the concat operation.\n",
      "  predictionsDF = pd.concat([predictionsDF, tempDF], ignore_index=True)\n",
      "/home/workstation/Escritorio/PabloC/TransferLearning/funcionesComunes.py:247: FutureWarning: The behavior of DataFrame concatenation with empty or all-NA entries is deprecated. In a future version, this will no longer exclude empty or all-NA columns when determining the result dtypes. To retain the old behavior, exclude the relevant entries before the concat operation.\n",
      "  predictionsDF = pd.concat([predictionsDF, tempDF], ignore_index=True)\n"
     ]
    },
    {
     "name": "stdout",
     "output_type": "stream",
     "text": [
      "RESULTADOS DE MSE, RMSE, R2, MAPE (Train): 31.039556915058657, 5.571315546175666, 0.49376609367850866, 41.26923660316948\n",
      "RESULTADOS DE MSE, RMSE, R2, MAPE (Val): 9.09386125205151, 3.015602966580898, 0.5377430061375311, 42.19749571056259\n",
      "RESULTADOS DE MSE, RMSE, R2, MAPE (Test): 45.794143273463064, 6.767137007144385, 0.5617631118853139, 41.97323136523989\n",
      "Procesando el modelo: model_Abies spectabilis.keras\n",
      "Abies spectabilis Abies spectabilis\n",
      "Picea smithiana Abies spectabilis\n",
      "(34476, 77)\n",
      "SE HA NORMALIZADO EL ARCHIVO: Picea smithiana_merged.csv\n",
      "(19933, 4, 43) (7272, 4, 43) (5863, 4, 43)\n",
      "<Conv1D name=conv1d_4, built=True> False\n",
      "<BatchNormalization name=batch_normalization_4, built=True> False\n",
      "<MaxPooling1D name=max_pooling1d_3, built=True> False\n",
      "<Dropout name=dropout_1, built=True> True\n",
      "<Conv1D name=conv1d_5, built=True> False\n",
      "<BatchNormalization name=batch_normalization_5, built=True> False\n",
      "<MaxPooling1D name=max_pooling1d_4, built=True> False\n",
      "<Conv1D name=conv1d_6, built=True> False\n",
      "<BatchNormalization name=batch_normalization_6, built=True> False\n",
      "<MaxPooling1D name=max_pooling1d_5, built=True> False\n",
      "<Conv1D name=conv1d_7, built=True> True\n",
      "<BatchNormalization name=batch_normalization_7, built=True> True\n",
      "<GlobalAveragePooling1D name=global_average_pooling1d_1, built=True> True\n",
      "<Dense name=dense_2, built=True> True\n",
      "<Dense name=dense_3, built=True> True\n"
     ]
    },
    {
     "name": "stderr",
     "output_type": "stream",
     "text": [
      "/home/workstation/Escritorio/PabloC/TransferLearning/.venv/lib/python3.10/site-packages/keras/src/saving/saving_lib.py:719: UserWarning: Skipping variable loading for optimizer 'adam', because it has 42 variables whereas the saved optimizer has 2 variables. \n",
      "  saveable.load_own_variables(weights_store.get(inner_path))\n"
     ]
    },
    {
     "name": "stdout",
     "output_type": "stream",
     "text": [
      "[MODELO CONGELADO]: 32.528114795684814\n"
     ]
    },
    {
     "name": "stderr",
     "output_type": "stream",
     "text": [
      "/home/workstation/Escritorio/PabloC/TransferLearning/funcionesComunes.py:247: FutureWarning: The behavior of DataFrame concatenation with empty or all-NA entries is deprecated. In a future version, this will no longer exclude empty or all-NA columns when determining the result dtypes. To retain the old behavior, exclude the relevant entries before the concat operation.\n",
      "  predictionsDF = pd.concat([predictionsDF, tempDF], ignore_index=True)\n",
      "/home/workstation/Escritorio/PabloC/TransferLearning/funcionesComunes.py:247: FutureWarning: The behavior of DataFrame concatenation with empty or all-NA entries is deprecated. In a future version, this will no longer exclude empty or all-NA columns when determining the result dtypes. To retain the old behavior, exclude the relevant entries before the concat operation.\n",
      "  predictionsDF = pd.concat([predictionsDF, tempDF], ignore_index=True)\n",
      "/home/workstation/Escritorio/PabloC/TransferLearning/funcionesComunes.py:247: FutureWarning: The behavior of DataFrame concatenation with empty or all-NA entries is deprecated. In a future version, this will no longer exclude empty or all-NA columns when determining the result dtypes. To retain the old behavior, exclude the relevant entries before the concat operation.\n",
      "  predictionsDF = pd.concat([predictionsDF, tempDF], ignore_index=True)\n"
     ]
    },
    {
     "name": "stdout",
     "output_type": "stream",
     "text": [
      "RESULTADOS DE MSE, RMSE, R2, MAPE (Train): 56.41032192425091, 7.510680523378086, 0.834685391743881, 21.80171213916216\n",
      "RESULTADOS DE MSE, RMSE, R2, MAPE (Val): 59.70059520693803, 7.726616025592189, 0.8277199222078817, 22.560967323380172\n",
      "RESULTADOS DE MSE, RMSE, R2, MAPE (Test): 55.00221892978356, 7.4163480858023085, 0.814259867617032, 23.13233563651919\n",
      "Abies pindrow Abies spectabilis\n",
      "(16018, 77)\n",
      "SE HA NORMALIZADO EL ARCHIVO: Abies pindrow_merged.csv\n",
      "(9042, 4, 43) (3441, 4, 43) (2815, 4, 43)\n",
      "<Conv1D name=conv1d_4, built=True> False\n",
      "<BatchNormalization name=batch_normalization_4, built=True> False\n",
      "<MaxPooling1D name=max_pooling1d_3, built=True> False\n",
      "<Dropout name=dropout_1, built=True> True\n",
      "<Conv1D name=conv1d_5, built=True> False\n",
      "<BatchNormalization name=batch_normalization_5, built=True> False\n",
      "<MaxPooling1D name=max_pooling1d_4, built=True> False\n",
      "<Conv1D name=conv1d_6, built=True> False\n",
      "<BatchNormalization name=batch_normalization_6, built=True> False\n",
      "<MaxPooling1D name=max_pooling1d_5, built=True> False\n",
      "<Conv1D name=conv1d_7, built=True> True\n",
      "<BatchNormalization name=batch_normalization_7, built=True> True\n",
      "<GlobalAveragePooling1D name=global_average_pooling1d_1, built=True> True\n",
      "<Dense name=dense_2, built=True> True\n",
      "<Dense name=dense_3, built=True> True\n"
     ]
    },
    {
     "name": "stderr",
     "output_type": "stream",
     "text": [
      "/home/workstation/Escritorio/PabloC/TransferLearning/.venv/lib/python3.10/site-packages/keras/src/saving/saving_lib.py:719: UserWarning: Skipping variable loading for optimizer 'adam', because it has 42 variables whereas the saved optimizer has 2 variables. \n",
      "  saveable.load_own_variables(weights_store.get(inner_path))\n"
     ]
    },
    {
     "name": "stdout",
     "output_type": "stream",
     "text": [
      "[MODELO CONGELADO]: 47.553231716156006\n"
     ]
    },
    {
     "name": "stderr",
     "output_type": "stream",
     "text": [
      "/home/workstation/Escritorio/PabloC/TransferLearning/funcionesComunes.py:247: FutureWarning: The behavior of DataFrame concatenation with empty or all-NA entries is deprecated. In a future version, this will no longer exclude empty or all-NA columns when determining the result dtypes. To retain the old behavior, exclude the relevant entries before the concat operation.\n",
      "  predictionsDF = pd.concat([predictionsDF, tempDF], ignore_index=True)\n",
      "/home/workstation/Escritorio/PabloC/TransferLearning/funcionesComunes.py:247: FutureWarning: The behavior of DataFrame concatenation with empty or all-NA entries is deprecated. In a future version, this will no longer exclude empty or all-NA columns when determining the result dtypes. To retain the old behavior, exclude the relevant entries before the concat operation.\n",
      "  predictionsDF = pd.concat([predictionsDF, tempDF], ignore_index=True)\n",
      "/home/workstation/Escritorio/PabloC/TransferLearning/funcionesComunes.py:247: FutureWarning: The behavior of DataFrame concatenation with empty or all-NA entries is deprecated. In a future version, this will no longer exclude empty or all-NA columns when determining the result dtypes. To retain the old behavior, exclude the relevant entries before the concat operation.\n",
      "  predictionsDF = pd.concat([predictionsDF, tempDF], ignore_index=True)\n"
     ]
    },
    {
     "name": "stdout",
     "output_type": "stream",
     "text": [
      "RESULTADOS DE MSE, RMSE, R2, MAPE (Train): 49.835132924820535, 7.059400323315043, 0.7860916881781261, 21.354611461850318\n",
      "RESULTADOS DE MSE, RMSE, R2, MAPE (Val): 50.189665312049115, 7.084466480409736, 0.7136936466580557, 22.430764152750022\n",
      "RESULTADOS DE MSE, RMSE, R2, MAPE (Test): 60.24725525633613, 7.7619105416344585, 0.5740689295915787, 23.152349325190645\n",
      "Juniperus excelsa M.-Bieb Abies spectabilis\n",
      "(7449, 77)\n",
      "SE HA NORMALIZADO EL ARCHIVO: Juniperus excelsa M.-Bieb_merged.csv\n",
      "(4189, 4, 43) (1707, 4, 43) (1228, 4, 43)\n",
      "<Conv1D name=conv1d_4, built=True> False\n",
      "<BatchNormalization name=batch_normalization_4, built=True> False\n",
      "<MaxPooling1D name=max_pooling1d_3, built=True> False\n",
      "<Dropout name=dropout_1, built=True> True\n",
      "<Conv1D name=conv1d_5, built=True> False\n",
      "<BatchNormalization name=batch_normalization_5, built=True> False\n",
      "<MaxPooling1D name=max_pooling1d_4, built=True> False\n",
      "<Conv1D name=conv1d_6, built=True> False\n",
      "<BatchNormalization name=batch_normalization_6, built=True> False\n",
      "<MaxPooling1D name=max_pooling1d_5, built=True> False\n",
      "<Conv1D name=conv1d_7, built=True> True\n",
      "<BatchNormalization name=batch_normalization_7, built=True> True\n",
      "<GlobalAveragePooling1D name=global_average_pooling1d_1, built=True> True\n",
      "<Dense name=dense_2, built=True> True\n",
      "<Dense name=dense_3, built=True> True\n"
     ]
    },
    {
     "name": "stderr",
     "output_type": "stream",
     "text": [
      "/home/workstation/Escritorio/PabloC/TransferLearning/.venv/lib/python3.10/site-packages/keras/src/saving/saving_lib.py:719: UserWarning: Skipping variable loading for optimizer 'adam', because it has 42 variables whereas the saved optimizer has 2 variables. \n",
      "  saveable.load_own_variables(weights_store.get(inner_path))\n"
     ]
    },
    {
     "name": "stdout",
     "output_type": "stream",
     "text": [
      "[MODELO CONGELADO]: 12.04141092300415\n"
     ]
    },
    {
     "name": "stderr",
     "output_type": "stream",
     "text": [
      "/home/workstation/Escritorio/PabloC/TransferLearning/funcionesComunes.py:247: FutureWarning: The behavior of DataFrame concatenation with empty or all-NA entries is deprecated. In a future version, this will no longer exclude empty or all-NA columns when determining the result dtypes. To retain the old behavior, exclude the relevant entries before the concat operation.\n",
      "  predictionsDF = pd.concat([predictionsDF, tempDF], ignore_index=True)\n",
      "/home/workstation/Escritorio/PabloC/TransferLearning/funcionesComunes.py:247: FutureWarning: The behavior of DataFrame concatenation with empty or all-NA entries is deprecated. In a future version, this will no longer exclude empty or all-NA columns when determining the result dtypes. To retain the old behavior, exclude the relevant entries before the concat operation.\n",
      "  predictionsDF = pd.concat([predictionsDF, tempDF], ignore_index=True)\n",
      "/home/workstation/Escritorio/PabloC/TransferLearning/funcionesComunes.py:247: FutureWarning: The behavior of DataFrame concatenation with empty or all-NA entries is deprecated. In a future version, this will no longer exclude empty or all-NA columns when determining the result dtypes. To retain the old behavior, exclude the relevant entries before the concat operation.\n",
      "  predictionsDF = pd.concat([predictionsDF, tempDF], ignore_index=True)\n"
     ]
    },
    {
     "name": "stdout",
     "output_type": "stream",
     "text": [
      "RESULTADOS DE MSE, RMSE, R2, MAPE (Train): 7.83741052709275, 2.7995375559353994, 0.6814249158212694, 27.893365254293624\n",
      "RESULTADOS DE MSE, RMSE, R2, MAPE (Val): 8.362114860450928, 2.8917321557244766, 0.68110032561418, 30.285364882700637\n",
      "RESULTADOS DE MSE, RMSE, R2, MAPE (Test): 19.349538021638452, 4.398810978166538, 0.7131270195101338, 33.200029344196054\n",
      "Juniperus turkestanica Komar. Abies spectabilis\n",
      "(6305, 77)\n",
      "SE HA NORMALIZADO EL ARCHIVO: Juniperus turkestanica Komar._merged.csv\n",
      "(3664, 4, 43) (1368, 4, 43) (1001, 4, 43)\n",
      "<Conv1D name=conv1d_4, built=True> False\n",
      "<BatchNormalization name=batch_normalization_4, built=True> False\n",
      "<MaxPooling1D name=max_pooling1d_3, built=True> False\n",
      "<Dropout name=dropout_1, built=True> True\n",
      "<Conv1D name=conv1d_5, built=True> False\n",
      "<BatchNormalization name=batch_normalization_5, built=True> False\n",
      "<MaxPooling1D name=max_pooling1d_4, built=True> False\n",
      "<Conv1D name=conv1d_6, built=True> False\n",
      "<BatchNormalization name=batch_normalization_6, built=True> False\n",
      "<MaxPooling1D name=max_pooling1d_5, built=True> False\n",
      "<Conv1D name=conv1d_7, built=True> True\n",
      "<BatchNormalization name=batch_normalization_7, built=True> True\n",
      "<GlobalAveragePooling1D name=global_average_pooling1d_1, built=True> True\n",
      "<Dense name=dense_2, built=True> True\n",
      "<Dense name=dense_3, built=True> True\n"
     ]
    },
    {
     "name": "stderr",
     "output_type": "stream",
     "text": [
      "/home/workstation/Escritorio/PabloC/TransferLearning/.venv/lib/python3.10/site-packages/keras/src/saving/saving_lib.py:719: UserWarning: Skipping variable loading for optimizer 'adam', because it has 42 variables whereas the saved optimizer has 2 variables. \n",
      "  saveable.load_own_variables(weights_store.get(inner_path))\n"
     ]
    },
    {
     "name": "stdout",
     "output_type": "stream",
     "text": [
      "[MODELO CONGELADO]: 8.147982597351074\n"
     ]
    },
    {
     "name": "stderr",
     "output_type": "stream",
     "text": [
      "/home/workstation/Escritorio/PabloC/TransferLearning/funcionesComunes.py:247: FutureWarning: The behavior of DataFrame concatenation with empty or all-NA entries is deprecated. In a future version, this will no longer exclude empty or all-NA columns when determining the result dtypes. To retain the old behavior, exclude the relevant entries before the concat operation.\n",
      "  predictionsDF = pd.concat([predictionsDF, tempDF], ignore_index=True)\n",
      "/home/workstation/Escritorio/PabloC/TransferLearning/funcionesComunes.py:247: FutureWarning: The behavior of DataFrame concatenation with empty or all-NA entries is deprecated. In a future version, this will no longer exclude empty or all-NA columns when determining the result dtypes. To retain the old behavior, exclude the relevant entries before the concat operation.\n",
      "  predictionsDF = pd.concat([predictionsDF, tempDF], ignore_index=True)\n",
      "/home/workstation/Escritorio/PabloC/TransferLearning/funcionesComunes.py:247: FutureWarning: The behavior of DataFrame concatenation with empty or all-NA entries is deprecated. In a future version, this will no longer exclude empty or all-NA columns when determining the result dtypes. To retain the old behavior, exclude the relevant entries before the concat operation.\n",
      "  predictionsDF = pd.concat([predictionsDF, tempDF], ignore_index=True)\n"
     ]
    },
    {
     "name": "stdout",
     "output_type": "stream",
     "text": [
      "RESULTADOS DE MSE, RMSE, R2, MAPE (Train): 5.349939726642166, 2.3129936719848945, 0.8808125667772638, 24.18308425838187\n",
      "RESULTADOS DE MSE, RMSE, R2, MAPE (Val): 4.784281523307872, 2.187300053332389, 0.7217810660937608, 30.957725729070145\n",
      "RESULTADOS DE MSE, RMSE, R2, MAPE (Test): 2.371538622825789, 1.5399800722171013, 0.563703132118102, 29.63691101816802\n",
      "Pinus roxburghii Abies spectabilis\n",
      "(10635, 77)\n",
      "SE HA NORMALIZADO EL ARCHIVO: Pinus roxburghii_merged.csv\n",
      "(6309, 4, 43) (2167, 4, 43) (1647, 4, 43)\n",
      "<Conv1D name=conv1d_4, built=True> False\n",
      "<BatchNormalization name=batch_normalization_4, built=True> False\n",
      "<MaxPooling1D name=max_pooling1d_3, built=True> False\n",
      "<Dropout name=dropout_1, built=True> True\n",
      "<Conv1D name=conv1d_5, built=True> False\n",
      "<BatchNormalization name=batch_normalization_5, built=True> False\n",
      "<MaxPooling1D name=max_pooling1d_4, built=True> False\n",
      "<Conv1D name=conv1d_6, built=True> False\n",
      "<BatchNormalization name=batch_normalization_6, built=True> False\n",
      "<MaxPooling1D name=max_pooling1d_5, built=True> False\n",
      "<Conv1D name=conv1d_7, built=True> True\n",
      "<BatchNormalization name=batch_normalization_7, built=True> True\n",
      "<GlobalAveragePooling1D name=global_average_pooling1d_1, built=True> True\n",
      "<Dense name=dense_2, built=True> True\n",
      "<Dense name=dense_3, built=True> True\n"
     ]
    },
    {
     "name": "stderr",
     "output_type": "stream",
     "text": [
      "/home/workstation/Escritorio/PabloC/TransferLearning/.venv/lib/python3.10/site-packages/keras/src/saving/saving_lib.py:719: UserWarning: Skipping variable loading for optimizer 'adam', because it has 42 variables whereas the saved optimizer has 2 variables. \n",
      "  saveable.load_own_variables(weights_store.get(inner_path))\n"
     ]
    },
    {
     "name": "stdout",
     "output_type": "stream",
     "text": [
      "[MODELO CONGELADO]: 29.892919540405273\n"
     ]
    },
    {
     "name": "stderr",
     "output_type": "stream",
     "text": [
      "/home/workstation/Escritorio/PabloC/TransferLearning/funcionesComunes.py:247: FutureWarning: The behavior of DataFrame concatenation with empty or all-NA entries is deprecated. In a future version, this will no longer exclude empty or all-NA columns when determining the result dtypes. To retain the old behavior, exclude the relevant entries before the concat operation.\n",
      "  predictionsDF = pd.concat([predictionsDF, tempDF], ignore_index=True)\n",
      "/home/workstation/Escritorio/PabloC/TransferLearning/funcionesComunes.py:247: FutureWarning: The behavior of DataFrame concatenation with empty or all-NA entries is deprecated. In a future version, this will no longer exclude empty or all-NA columns when determining the result dtypes. To retain the old behavior, exclude the relevant entries before the concat operation.\n",
      "  predictionsDF = pd.concat([predictionsDF, tempDF], ignore_index=True)\n",
      "/home/workstation/Escritorio/PabloC/TransferLearning/funcionesComunes.py:247: FutureWarning: The behavior of DataFrame concatenation with empty or all-NA entries is deprecated. In a future version, this will no longer exclude empty or all-NA columns when determining the result dtypes. To retain the old behavior, exclude the relevant entries before the concat operation.\n",
      "  predictionsDF = pd.concat([predictionsDF, tempDF], ignore_index=True)\n"
     ]
    },
    {
     "name": "stdout",
     "output_type": "stream",
     "text": [
      "RESULTADOS DE MSE, RMSE, R2, MAPE (Train): 69.64253884821683, 8.345210533486668, 0.7389076816237075, 25.536581550280683\n",
      "RESULTADOS DE MSE, RMSE, R2, MAPE (Val): 51.79794695347659, 7.197079057053395, 0.7687677708086366, 25.6388505967206\n",
      "RESULTADOS DE MSE, RMSE, R2, MAPE (Test): 73.22171263516532, 8.55696865923706, 0.6927463934483192, 27.541384328887013\n",
      "Pinus wallichiana Abies spectabilis\n",
      "(9365, 77)\n",
      "SE HA NORMALIZADO EL ARCHIVO: Pinus wallichiana_merged.csv\n",
      "(5508, 4, 43) (1957, 4, 43) (1500, 4, 43)\n",
      "<Conv1D name=conv1d_4, built=True> False\n",
      "<BatchNormalization name=batch_normalization_4, built=True> False\n",
      "<MaxPooling1D name=max_pooling1d_3, built=True> False\n",
      "<Dropout name=dropout_1, built=True> True\n",
      "<Conv1D name=conv1d_5, built=True> False\n",
      "<BatchNormalization name=batch_normalization_5, built=True> False\n",
      "<MaxPooling1D name=max_pooling1d_4, built=True> False\n",
      "<Conv1D name=conv1d_6, built=True> False\n",
      "<BatchNormalization name=batch_normalization_6, built=True> False\n",
      "<MaxPooling1D name=max_pooling1d_5, built=True> False\n",
      "<Conv1D name=conv1d_7, built=True> True\n",
      "<BatchNormalization name=batch_normalization_7, built=True> True\n",
      "<GlobalAveragePooling1D name=global_average_pooling1d_1, built=True> True\n",
      "<Dense name=dense_2, built=True> True\n",
      "<Dense name=dense_3, built=True> True\n"
     ]
    },
    {
     "name": "stderr",
     "output_type": "stream",
     "text": [
      "/home/workstation/Escritorio/PabloC/TransferLearning/.venv/lib/python3.10/site-packages/keras/src/saving/saving_lib.py:719: UserWarning: Skipping variable loading for optimizer 'adam', because it has 42 variables whereas the saved optimizer has 2 variables. \n",
      "  saveable.load_own_variables(weights_store.get(inner_path))\n"
     ]
    },
    {
     "name": "stdout",
     "output_type": "stream",
     "text": [
      "[MODELO CONGELADO]: 14.011527061462402\n"
     ]
    },
    {
     "name": "stderr",
     "output_type": "stream",
     "text": [
      "/home/workstation/Escritorio/PabloC/TransferLearning/funcionesComunes.py:247: FutureWarning: The behavior of DataFrame concatenation with empty or all-NA entries is deprecated. In a future version, this will no longer exclude empty or all-NA columns when determining the result dtypes. To retain the old behavior, exclude the relevant entries before the concat operation.\n",
      "  predictionsDF = pd.concat([predictionsDF, tempDF], ignore_index=True)\n",
      "/home/workstation/Escritorio/PabloC/TransferLearning/funcionesComunes.py:247: FutureWarning: The behavior of DataFrame concatenation with empty or all-NA entries is deprecated. In a future version, this will no longer exclude empty or all-NA columns when determining the result dtypes. To retain the old behavior, exclude the relevant entries before the concat operation.\n",
      "  predictionsDF = pd.concat([predictionsDF, tempDF], ignore_index=True)\n",
      "/home/workstation/Escritorio/PabloC/TransferLearning/funcionesComunes.py:247: FutureWarning: The behavior of DataFrame concatenation with empty or all-NA entries is deprecated. In a future version, this will no longer exclude empty or all-NA columns when determining the result dtypes. To retain the old behavior, exclude the relevant entries before the concat operation.\n",
      "  predictionsDF = pd.concat([predictionsDF, tempDF], ignore_index=True)\n"
     ]
    },
    {
     "name": "stdout",
     "output_type": "stream",
     "text": [
      "RESULTADOS DE MSE, RMSE, R2, MAPE (Train): 12.269935849674457, 3.5028468207551495, 0.8179852934995393, 19.386573325466973\n",
      "RESULTADOS DE MSE, RMSE, R2, MAPE (Val): 12.790683643451263, 3.576406526592197, 0.7860493856656547, 23.564727188320017\n",
      "RESULTADOS DE MSE, RMSE, R2, MAPE (Test): 15.690521341481874, 3.9611262718426277, 0.6278660777110603, 24.282920961685015\n",
      "Pinus gerardiana Abies spectabilis\n",
      "(10101, 77)\n",
      "SE HA NORMALIZADO EL ARCHIVO: Pinus gerardiana_merged.csv\n",
      "(5767, 4, 43) (2181, 4, 43) (1745, 4, 43)\n",
      "<Conv1D name=conv1d_4, built=True> False\n",
      "<BatchNormalization name=batch_normalization_4, built=True> False\n",
      "<MaxPooling1D name=max_pooling1d_3, built=True> False\n",
      "<Dropout name=dropout_1, built=True> True\n",
      "<Conv1D name=conv1d_5, built=True> False\n",
      "<BatchNormalization name=batch_normalization_5, built=True> False\n",
      "<MaxPooling1D name=max_pooling1d_4, built=True> False\n",
      "<Conv1D name=conv1d_6, built=True> False\n",
      "<BatchNormalization name=batch_normalization_6, built=True> False\n",
      "<MaxPooling1D name=max_pooling1d_5, built=True> False\n",
      "<Conv1D name=conv1d_7, built=True> True\n",
      "<BatchNormalization name=batch_normalization_7, built=True> True\n",
      "<GlobalAveragePooling1D name=global_average_pooling1d_1, built=True> True\n",
      "<Dense name=dense_2, built=True> True\n",
      "<Dense name=dense_3, built=True> True\n"
     ]
    },
    {
     "name": "stderr",
     "output_type": "stream",
     "text": [
      "/home/workstation/Escritorio/PabloC/TransferLearning/.venv/lib/python3.10/site-packages/keras/src/saving/saving_lib.py:719: UserWarning: Skipping variable loading for optimizer 'adam', because it has 42 variables whereas the saved optimizer has 2 variables. \n",
      "  saveable.load_own_variables(weights_store.get(inner_path))\n"
     ]
    },
    {
     "name": "stdout",
     "output_type": "stream",
     "text": [
      "[MODELO CONGELADO]: 17.67952585220337\n"
     ]
    },
    {
     "name": "stderr",
     "output_type": "stream",
     "text": [
      "/home/workstation/Escritorio/PabloC/TransferLearning/funcionesComunes.py:247: FutureWarning: The behavior of DataFrame concatenation with empty or all-NA entries is deprecated. In a future version, this will no longer exclude empty or all-NA columns when determining the result dtypes. To retain the old behavior, exclude the relevant entries before the concat operation.\n",
      "  predictionsDF = pd.concat([predictionsDF, tempDF], ignore_index=True)\n",
      "/home/workstation/Escritorio/PabloC/TransferLearning/funcionesComunes.py:247: FutureWarning: The behavior of DataFrame concatenation with empty or all-NA entries is deprecated. In a future version, this will no longer exclude empty or all-NA columns when determining the result dtypes. To retain the old behavior, exclude the relevant entries before the concat operation.\n",
      "  predictionsDF = pd.concat([predictionsDF, tempDF], ignore_index=True)\n",
      "/home/workstation/Escritorio/PabloC/TransferLearning/funcionesComunes.py:247: FutureWarning: The behavior of DataFrame concatenation with empty or all-NA entries is deprecated. In a future version, this will no longer exclude empty or all-NA columns when determining the result dtypes. To retain the old behavior, exclude the relevant entries before the concat operation.\n",
      "  predictionsDF = pd.concat([predictionsDF, tempDF], ignore_index=True)\n"
     ]
    },
    {
     "name": "stdout",
     "output_type": "stream",
     "text": [
      "RESULTADOS DE MSE, RMSE, R2, MAPE (Train): 10.84749885218054, 3.2935541368224905, 0.7205486341863662, 25.152844213156833\n",
      "RESULTADOS DE MSE, RMSE, R2, MAPE (Val): 15.16567541874216, 3.8943132152848414, 0.6167378613628498, 27.787061238878273\n",
      "RESULTADOS DE MSE, RMSE, R2, MAPE (Test): 11.183350291116536, 3.3441516549218484, 0.7216371930220864, 25.02626968177029\n",
      "Populus ciliata Abies spectabilis\n",
      "(1182, 77)\n",
      "SE HA NORMALIZADO EL ARCHIVO: Populus ciliata_merged.csv\n",
      "(705, 4, 43) (156, 4, 43) (265, 4, 43)\n"
     ]
    },
    {
     "name": "stderr",
     "output_type": "stream",
     "text": [
      "/home/workstation/Escritorio/PabloC/TransferLearning/.venv/lib/python3.10/site-packages/keras/src/saving/saving_lib.py:719: UserWarning: Skipping variable loading for optimizer 'adam', because it has 42 variables whereas the saved optimizer has 2 variables. \n",
      "  saveable.load_own_variables(weights_store.get(inner_path))\n"
     ]
    },
    {
     "name": "stdout",
     "output_type": "stream",
     "text": [
      "<Conv1D name=conv1d_4, built=True> False\n",
      "<BatchNormalization name=batch_normalization_4, built=True> False\n",
      "<MaxPooling1D name=max_pooling1d_3, built=True> False\n",
      "<Dropout name=dropout_1, built=True> True\n",
      "<Conv1D name=conv1d_5, built=True> False\n",
      "<BatchNormalization name=batch_normalization_5, built=True> False\n",
      "<MaxPooling1D name=max_pooling1d_4, built=True> False\n",
      "<Conv1D name=conv1d_6, built=True> False\n",
      "<BatchNormalization name=batch_normalization_6, built=True> False\n",
      "<MaxPooling1D name=max_pooling1d_5, built=True> False\n",
      "<Conv1D name=conv1d_7, built=True> True\n",
      "<BatchNormalization name=batch_normalization_7, built=True> True\n",
      "<GlobalAveragePooling1D name=global_average_pooling1d_1, built=True> True\n",
      "<Dense name=dense_2, built=True> True\n",
      "<Dense name=dense_3, built=True> True\n",
      "[MODELO CONGELADO]: 3.5238747596740723\n"
     ]
    },
    {
     "name": "stderr",
     "output_type": "stream",
     "text": [
      "/home/workstation/Escritorio/PabloC/TransferLearning/funcionesComunes.py:247: FutureWarning: The behavior of DataFrame concatenation with empty or all-NA entries is deprecated. In a future version, this will no longer exclude empty or all-NA columns when determining the result dtypes. To retain the old behavior, exclude the relevant entries before the concat operation.\n",
      "  predictionsDF = pd.concat([predictionsDF, tempDF], ignore_index=True)\n",
      "/home/workstation/Escritorio/PabloC/TransferLearning/funcionesComunes.py:247: FutureWarning: The behavior of DataFrame concatenation with empty or all-NA entries is deprecated. In a future version, this will no longer exclude empty or all-NA columns when determining the result dtypes. To retain the old behavior, exclude the relevant entries before the concat operation.\n",
      "  predictionsDF = pd.concat([predictionsDF, tempDF], ignore_index=True)\n",
      "/home/workstation/Escritorio/PabloC/TransferLearning/funcionesComunes.py:247: FutureWarning: The behavior of DataFrame concatenation with empty or all-NA entries is deprecated. In a future version, this will no longer exclude empty or all-NA columns when determining the result dtypes. To retain the old behavior, exclude the relevant entries before the concat operation.\n",
      "  predictionsDF = pd.concat([predictionsDF, tempDF], ignore_index=True)\n"
     ]
    },
    {
     "name": "stdout",
     "output_type": "stream",
     "text": [
      "RESULTADOS DE MSE, RMSE, R2, MAPE (Train): 73.78013628258182, 8.589536441658643, 0.7968568506787987, 22.14004792520093\n",
      "RESULTADOS DE MSE, RMSE, R2, MAPE (Val): 115.5474544650877, 10.749300184899838, 0.5076760324688203, 31.53485697703225\n",
      "RESULTADOS DE MSE, RMSE, R2, MAPE (Test): 67.76649074701832, 8.232040497168263, 0.6613874023197156, 29.181858134049033\n",
      "Betula utilis Abies spectabilis\n",
      "(3473, 77)\n",
      "SE HA NORMALIZADO EL ARCHIVO: Betula utilis_merged.csv\n",
      "(2059, 4, 43) (665, 4, 43) (593, 4, 43)\n",
      "<Conv1D name=conv1d_4, built=True> False\n",
      "<BatchNormalization name=batch_normalization_4, built=True> False\n",
      "<MaxPooling1D name=max_pooling1d_3, built=True> False\n",
      "<Dropout name=dropout_1, built=True> True\n",
      "<Conv1D name=conv1d_5, built=True> False\n",
      "<BatchNormalization name=batch_normalization_5, built=True> False\n",
      "<MaxPooling1D name=max_pooling1d_4, built=True> False\n",
      "<Conv1D name=conv1d_6, built=True> False\n",
      "<BatchNormalization name=batch_normalization_6, built=True> False\n",
      "<MaxPooling1D name=max_pooling1d_5, built=True> False\n",
      "<Conv1D name=conv1d_7, built=True> True\n",
      "<BatchNormalization name=batch_normalization_7, built=True> True\n",
      "<GlobalAveragePooling1D name=global_average_pooling1d_1, built=True> True\n",
      "<Dense name=dense_2, built=True> True\n",
      "<Dense name=dense_3, built=True> True\n"
     ]
    },
    {
     "name": "stderr",
     "output_type": "stream",
     "text": [
      "/home/workstation/Escritorio/PabloC/TransferLearning/.venv/lib/python3.10/site-packages/keras/src/saving/saving_lib.py:719: UserWarning: Skipping variable loading for optimizer 'adam', because it has 42 variables whereas the saved optimizer has 2 variables. \n",
      "  saveable.load_own_variables(weights_store.get(inner_path))\n"
     ]
    },
    {
     "name": "stdout",
     "output_type": "stream",
     "text": [
      "[MODELO CONGELADO]: 4.642237901687622\n"
     ]
    },
    {
     "name": "stderr",
     "output_type": "stream",
     "text": [
      "/home/workstation/Escritorio/PabloC/TransferLearning/funcionesComunes.py:247: FutureWarning: The behavior of DataFrame concatenation with empty or all-NA entries is deprecated. In a future version, this will no longer exclude empty or all-NA columns when determining the result dtypes. To retain the old behavior, exclude the relevant entries before the concat operation.\n",
      "  predictionsDF = pd.concat([predictionsDF, tempDF], ignore_index=True)\n",
      "/home/workstation/Escritorio/PabloC/TransferLearning/funcionesComunes.py:247: FutureWarning: The behavior of DataFrame concatenation with empty or all-NA entries is deprecated. In a future version, this will no longer exclude empty or all-NA columns when determining the result dtypes. To retain the old behavior, exclude the relevant entries before the concat operation.\n",
      "  predictionsDF = pd.concat([predictionsDF, tempDF], ignore_index=True)\n",
      "/home/workstation/Escritorio/PabloC/TransferLearning/funcionesComunes.py:247: FutureWarning: The behavior of DataFrame concatenation with empty or all-NA entries is deprecated. In a future version, this will no longer exclude empty or all-NA columns when determining the result dtypes. To retain the old behavior, exclude the relevant entries before the concat operation.\n",
      "  predictionsDF = pd.concat([predictionsDF, tempDF], ignore_index=True)\n"
     ]
    },
    {
     "name": "stdout",
     "output_type": "stream",
     "text": [
      "RESULTADOS DE MSE, RMSE, R2, MAPE (Train): 1.1119764146609004, 1.0545029230215062, 0.8358441605562841, 22.904570520319144\n",
      "RESULTADOS DE MSE, RMSE, R2, MAPE (Val): 0.3709180401356863, 0.6090304098611877, 0.8068384096918569, 21.51873274417023\n",
      "RESULTADOS DE MSE, RMSE, R2, MAPE (Test): 0.39512440639073604, 0.6285892191174901, 0.8490033295103234, 22.1610609465221\n",
      "Tsuga dumosa Abies spectabilis\n",
      "(20493, 77)\n",
      "SE HA NORMALIZADO EL ARCHIVO: Tsuga dumosa_merged.csv\n",
      "(11935, 4, 43) (4144, 4, 43) (3469, 4, 43)\n",
      "<Conv1D name=conv1d_4, built=True> False\n",
      "<BatchNormalization name=batch_normalization_4, built=True> False\n",
      "<MaxPooling1D name=max_pooling1d_3, built=True> False\n",
      "<Dropout name=dropout_1, built=True> True\n",
      "<Conv1D name=conv1d_5, built=True> False\n",
      "<BatchNormalization name=batch_normalization_5, built=True> False\n",
      "<MaxPooling1D name=max_pooling1d_4, built=True> False\n",
      "<Conv1D name=conv1d_6, built=True> False\n",
      "<BatchNormalization name=batch_normalization_6, built=True> False\n",
      "<MaxPooling1D name=max_pooling1d_5, built=True> False\n",
      "<Conv1D name=conv1d_7, built=True> True\n",
      "<BatchNormalization name=batch_normalization_7, built=True> True\n",
      "<GlobalAveragePooling1D name=global_average_pooling1d_1, built=True> True\n",
      "<Dense name=dense_2, built=True> True\n",
      "<Dense name=dense_3, built=True> True\n"
     ]
    },
    {
     "name": "stderr",
     "output_type": "stream",
     "text": [
      "/home/workstation/Escritorio/PabloC/TransferLearning/.venv/lib/python3.10/site-packages/keras/src/saving/saving_lib.py:719: UserWarning: Skipping variable loading for optimizer 'adam', because it has 42 variables whereas the saved optimizer has 2 variables. \n",
      "  saveable.load_own_variables(weights_store.get(inner_path))\n"
     ]
    },
    {
     "name": "stdout",
     "output_type": "stream",
     "text": [
      "[MODELO CONGELADO]: 36.50875759124756\n"
     ]
    },
    {
     "name": "stderr",
     "output_type": "stream",
     "text": [
      "/home/workstation/Escritorio/PabloC/TransferLearning/funcionesComunes.py:247: FutureWarning: The behavior of DataFrame concatenation with empty or all-NA entries is deprecated. In a future version, this will no longer exclude empty or all-NA columns when determining the result dtypes. To retain the old behavior, exclude the relevant entries before the concat operation.\n",
      "  predictionsDF = pd.concat([predictionsDF, tempDF], ignore_index=True)\n",
      "/home/workstation/Escritorio/PabloC/TransferLearning/funcionesComunes.py:247: FutureWarning: The behavior of DataFrame concatenation with empty or all-NA entries is deprecated. In a future version, this will no longer exclude empty or all-NA columns when determining the result dtypes. To retain the old behavior, exclude the relevant entries before the concat operation.\n",
      "  predictionsDF = pd.concat([predictionsDF, tempDF], ignore_index=True)\n",
      "/home/workstation/Escritorio/PabloC/TransferLearning/funcionesComunes.py:247: FutureWarning: The behavior of DataFrame concatenation with empty or all-NA entries is deprecated. In a future version, this will no longer exclude empty or all-NA columns when determining the result dtypes. To retain the old behavior, exclude the relevant entries before the concat operation.\n",
      "  predictionsDF = pd.concat([predictionsDF, tempDF], ignore_index=True)\n"
     ]
    },
    {
     "name": "stdout",
     "output_type": "stream",
     "text": [
      "RESULTADOS DE MSE, RMSE, R2, MAPE (Train): 66.29244715950293, 8.142017388798855, 0.829774847647933, 20.98503996595771\n",
      "RESULTADOS DE MSE, RMSE, R2, MAPE (Val): 74.04910175543776, 8.60517877533278, 0.7650159781273614, 22.37049671179803\n",
      "RESULTADOS DE MSE, RMSE, R2, MAPE (Test): 110.94346052768326, 10.53297016646697, 0.8189113376242088, 22.697833944769727\n",
      "Cedrus deodara Abies spectabilis\n",
      "(37273, 77)\n",
      "SE HA NORMALIZADO EL ARCHIVO: Cedrus deodara_merged.csv\n",
      "(22017, 4, 43) (7410, 4, 43) (6282, 4, 43)\n",
      "<Conv1D name=conv1d_4, built=True> False\n",
      "<BatchNormalization name=batch_normalization_4, built=True> False\n",
      "<MaxPooling1D name=max_pooling1d_3, built=True> False\n",
      "<Dropout name=dropout_1, built=True> True\n",
      "<Conv1D name=conv1d_5, built=True> False\n",
      "<BatchNormalization name=batch_normalization_5, built=True> False\n",
      "<MaxPooling1D name=max_pooling1d_4, built=True> False\n",
      "<Conv1D name=conv1d_6, built=True> False\n",
      "<BatchNormalization name=batch_normalization_6, built=True> False\n",
      "<MaxPooling1D name=max_pooling1d_5, built=True> False\n",
      "<Conv1D name=conv1d_7, built=True> True\n",
      "<BatchNormalization name=batch_normalization_7, built=True> True\n",
      "<GlobalAveragePooling1D name=global_average_pooling1d_1, built=True> True\n",
      "<Dense name=dense_2, built=True> True\n",
      "<Dense name=dense_3, built=True> True\n"
     ]
    },
    {
     "name": "stderr",
     "output_type": "stream",
     "text": [
      "/home/workstation/Escritorio/PabloC/TransferLearning/.venv/lib/python3.10/site-packages/keras/src/saving/saving_lib.py:719: UserWarning: Skipping variable loading for optimizer 'adam', because it has 42 variables whereas the saved optimizer has 2 variables. \n",
      "  saveable.load_own_variables(weights_store.get(inner_path))\n"
     ]
    },
    {
     "name": "stdout",
     "output_type": "stream",
     "text": [
      "[MODELO CONGELADO]: 88.45450806617737\n"
     ]
    },
    {
     "name": "stderr",
     "output_type": "stream",
     "text": [
      "/home/workstation/Escritorio/PabloC/TransferLearning/funcionesComunes.py:247: FutureWarning: The behavior of DataFrame concatenation with empty or all-NA entries is deprecated. In a future version, this will no longer exclude empty or all-NA columns when determining the result dtypes. To retain the old behavior, exclude the relevant entries before the concat operation.\n",
      "  predictionsDF = pd.concat([predictionsDF, tempDF], ignore_index=True)\n",
      "/home/workstation/Escritorio/PabloC/TransferLearning/funcionesComunes.py:247: FutureWarning: The behavior of DataFrame concatenation with empty or all-NA entries is deprecated. In a future version, this will no longer exclude empty or all-NA columns when determining the result dtypes. To retain the old behavior, exclude the relevant entries before the concat operation.\n",
      "  predictionsDF = pd.concat([predictionsDF, tempDF], ignore_index=True)\n",
      "/home/workstation/Escritorio/PabloC/TransferLearning/funcionesComunes.py:247: FutureWarning: The behavior of DataFrame concatenation with empty or all-NA entries is deprecated. In a future version, this will no longer exclude empty or all-NA columns when determining the result dtypes. To retain the old behavior, exclude the relevant entries before the concat operation.\n",
      "  predictionsDF = pd.concat([predictionsDF, tempDF], ignore_index=True)\n"
     ]
    },
    {
     "name": "stdout",
     "output_type": "stream",
     "text": [
      "RESULTADOS DE MSE, RMSE, R2, MAPE (Train): 75.61186494352556, 8.69550832001934, 0.8229768711022764, 22.183877038792264\n",
      "RESULTADOS DE MSE, RMSE, R2, MAPE (Val): 105.9952512567193, 10.29539951904341, 0.7624171786073951, 24.46311106667113\n",
      "RESULTADOS DE MSE, RMSE, R2, MAPE (Test): 70.16067267124137, 8.376196790384128, 0.8009219246650551, 22.851360288108065\n",
      "Juniperus spp. L. Abies spectabilis\n",
      "(7264, 77)\n",
      "SE HA NORMALIZADO EL ARCHIVO: Juniperus spp. L._merged.csv\n",
      "(4216, 4, 43) (1524, 4, 43) (1188, 4, 43)\n",
      "<Conv1D name=conv1d_4, built=True> False\n",
      "<BatchNormalization name=batch_normalization_4, built=True> False\n",
      "<MaxPooling1D name=max_pooling1d_3, built=True> False\n",
      "<Dropout name=dropout_1, built=True> True\n",
      "<Conv1D name=conv1d_5, built=True> False\n",
      "<BatchNormalization name=batch_normalization_5, built=True> False\n",
      "<MaxPooling1D name=max_pooling1d_4, built=True> False\n",
      "<Conv1D name=conv1d_6, built=True> False\n",
      "<BatchNormalization name=batch_normalization_6, built=True> False\n",
      "<MaxPooling1D name=max_pooling1d_5, built=True> False\n",
      "<Conv1D name=conv1d_7, built=True> True\n",
      "<BatchNormalization name=batch_normalization_7, built=True> True\n",
      "<GlobalAveragePooling1D name=global_average_pooling1d_1, built=True> True\n",
      "<Dense name=dense_2, built=True> True\n",
      "<Dense name=dense_3, built=True> True\n"
     ]
    },
    {
     "name": "stderr",
     "output_type": "stream",
     "text": [
      "/home/workstation/Escritorio/PabloC/TransferLearning/.venv/lib/python3.10/site-packages/keras/src/saving/saving_lib.py:719: UserWarning: Skipping variable loading for optimizer 'adam', because it has 42 variables whereas the saved optimizer has 2 variables. \n",
      "  saveable.load_own_variables(weights_store.get(inner_path))\n"
     ]
    },
    {
     "name": "stdout",
     "output_type": "stream",
     "text": [
      "[MODELO CONGELADO]: 13.190157413482666\n"
     ]
    },
    {
     "name": "stderr",
     "output_type": "stream",
     "text": [
      "/home/workstation/Escritorio/PabloC/TransferLearning/funcionesComunes.py:247: FutureWarning: The behavior of DataFrame concatenation with empty or all-NA entries is deprecated. In a future version, this will no longer exclude empty or all-NA columns when determining the result dtypes. To retain the old behavior, exclude the relevant entries before the concat operation.\n",
      "  predictionsDF = pd.concat([predictionsDF, tempDF], ignore_index=True)\n",
      "/home/workstation/Escritorio/PabloC/TransferLearning/funcionesComunes.py:247: FutureWarning: The behavior of DataFrame concatenation with empty or all-NA entries is deprecated. In a future version, this will no longer exclude empty or all-NA columns when determining the result dtypes. To retain the old behavior, exclude the relevant entries before the concat operation.\n",
      "  predictionsDF = pd.concat([predictionsDF, tempDF], ignore_index=True)\n",
      "/home/workstation/Escritorio/PabloC/TransferLearning/funcionesComunes.py:247: FutureWarning: The behavior of DataFrame concatenation with empty or all-NA entries is deprecated. In a future version, this will no longer exclude empty or all-NA columns when determining the result dtypes. To retain the old behavior, exclude the relevant entries before the concat operation.\n",
      "  predictionsDF = pd.concat([predictionsDF, tempDF], ignore_index=True)\n"
     ]
    },
    {
     "name": "stdout",
     "output_type": "stream",
     "text": [
      "RESULTADOS DE MSE, RMSE, R2, MAPE (Train): 2.0712710851225498, 1.4391911218189715, 0.8347475892148943, 26.411629456264407\n",
      "RESULTADOS DE MSE, RMSE, R2, MAPE (Val): 0.9240205839972132, 0.9612598940958752, 0.5899904740026516, 32.27660525794806\n",
      "RESULTADOS DE MSE, RMSE, R2, MAPE (Test): 4.0479140636500475, 2.0119428579485175, 0.7864701557328655, 28.88773239987662\n",
      "Juniperus recurva Abies spectabilis\n",
      "(5316, 77)\n",
      "SE HA NORMALIZADO EL ARCHIVO: Juniperus recurva_merged.csv\n",
      "(3188, 4, 43) (1082, 4, 43) (810, 4, 43)\n",
      "<Conv1D name=conv1d_4, built=True> False\n",
      "<BatchNormalization name=batch_normalization_4, built=True> False\n",
      "<MaxPooling1D name=max_pooling1d_3, built=True> False\n",
      "<Dropout name=dropout_1, built=True> True\n",
      "<Conv1D name=conv1d_5, built=True> False\n",
      "<BatchNormalization name=batch_normalization_5, built=True> False\n",
      "<MaxPooling1D name=max_pooling1d_4, built=True> False\n",
      "<Conv1D name=conv1d_6, built=True> False\n",
      "<BatchNormalization name=batch_normalization_6, built=True> False\n",
      "<MaxPooling1D name=max_pooling1d_5, built=True> False\n",
      "<Conv1D name=conv1d_7, built=True> True\n",
      "<BatchNormalization name=batch_normalization_7, built=True> True\n",
      "<GlobalAveragePooling1D name=global_average_pooling1d_1, built=True> True\n",
      "<Dense name=dense_2, built=True> True\n",
      "<Dense name=dense_3, built=True> True\n"
     ]
    },
    {
     "name": "stderr",
     "output_type": "stream",
     "text": [
      "/home/workstation/Escritorio/PabloC/TransferLearning/.venv/lib/python3.10/site-packages/keras/src/saving/saving_lib.py:719: UserWarning: Skipping variable loading for optimizer 'adam', because it has 42 variables whereas the saved optimizer has 2 variables. \n",
      "  saveable.load_own_variables(weights_store.get(inner_path))\n"
     ]
    },
    {
     "name": "stdout",
     "output_type": "stream",
     "text": [
      "[MODELO CONGELADO]: 7.333981990814209\n"
     ]
    },
    {
     "name": "stderr",
     "output_type": "stream",
     "text": [
      "/home/workstation/Escritorio/PabloC/TransferLearning/funcionesComunes.py:247: FutureWarning: The behavior of DataFrame concatenation with empty or all-NA entries is deprecated. In a future version, this will no longer exclude empty or all-NA columns when determining the result dtypes. To retain the old behavior, exclude the relevant entries before the concat operation.\n",
      "  predictionsDF = pd.concat([predictionsDF, tempDF], ignore_index=True)\n",
      "/home/workstation/Escritorio/PabloC/TransferLearning/funcionesComunes.py:247: FutureWarning: The behavior of DataFrame concatenation with empty or all-NA entries is deprecated. In a future version, this will no longer exclude empty or all-NA columns when determining the result dtypes. To retain the old behavior, exclude the relevant entries before the concat operation.\n",
      "  predictionsDF = pd.concat([predictionsDF, tempDF], ignore_index=True)\n",
      "/home/workstation/Escritorio/PabloC/TransferLearning/funcionesComunes.py:247: FutureWarning: The behavior of DataFrame concatenation with empty or all-NA entries is deprecated. In a future version, this will no longer exclude empty or all-NA columns when determining the result dtypes. To retain the old behavior, exclude the relevant entries before the concat operation.\n",
      "  predictionsDF = pd.concat([predictionsDF, tempDF], ignore_index=True)\n"
     ]
    },
    {
     "name": "stdout",
     "output_type": "stream",
     "text": [
      "RESULTADOS DE MSE, RMSE, R2, MAPE (Train): 1.806833798207778, 1.344185180028324, 0.9282031058519356, 14.559866210642594\n",
      "RESULTADOS DE MSE, RMSE, R2, MAPE (Val): 2.9174759183638965, 1.708062035865178, 0.8940623169322153, 18.740681955350603\n",
      "RESULTADOS DE MSE, RMSE, R2, MAPE (Test): 0.8814847564713925, 0.9388741962964966, 0.9062873730531001, 13.884666949122327\n",
      "totalMerged.csv Abies spectabilis\n",
      "Juniperus spp.  Abies spectabilis\n",
      "(17976, 77)\n",
      "SE HA NORMALIZADO EL ARCHIVO: Juniperus spp. _merged.csv\n",
      "(10218, 4, 43) (3900, 4, 43) (3018, 4, 43)\n",
      "<Conv1D name=conv1d_4, built=True> False\n",
      "<BatchNormalization name=batch_normalization_4, built=True> False\n",
      "<MaxPooling1D name=max_pooling1d_3, built=True> False\n",
      "<Dropout name=dropout_1, built=True> True\n",
      "<Conv1D name=conv1d_5, built=True> False\n",
      "<BatchNormalization name=batch_normalization_5, built=True> False\n",
      "<MaxPooling1D name=max_pooling1d_4, built=True> False\n",
      "<Conv1D name=conv1d_6, built=True> False\n",
      "<BatchNormalization name=batch_normalization_6, built=True> False\n",
      "<MaxPooling1D name=max_pooling1d_5, built=True> False\n",
      "<Conv1D name=conv1d_7, built=True> True\n",
      "<BatchNormalization name=batch_normalization_7, built=True> True\n",
      "<GlobalAveragePooling1D name=global_average_pooling1d_1, built=True> True\n",
      "<Dense name=dense_2, built=True> True\n",
      "<Dense name=dense_3, built=True> True\n"
     ]
    },
    {
     "name": "stderr",
     "output_type": "stream",
     "text": [
      "/home/workstation/Escritorio/PabloC/TransferLearning/.venv/lib/python3.10/site-packages/keras/src/saving/saving_lib.py:719: UserWarning: Skipping variable loading for optimizer 'adam', because it has 42 variables whereas the saved optimizer has 2 variables. \n",
      "  saveable.load_own_variables(weights_store.get(inner_path))\n"
     ]
    },
    {
     "name": "stdout",
     "output_type": "stream",
     "text": [
      "[MODELO CONGELADO]: 17.081381797790527\n"
     ]
    },
    {
     "name": "stderr",
     "output_type": "stream",
     "text": [
      "/home/workstation/Escritorio/PabloC/TransferLearning/funcionesComunes.py:247: FutureWarning: The behavior of DataFrame concatenation with empty or all-NA entries is deprecated. In a future version, this will no longer exclude empty or all-NA columns when determining the result dtypes. To retain the old behavior, exclude the relevant entries before the concat operation.\n",
      "  predictionsDF = pd.concat([predictionsDF, tempDF], ignore_index=True)\n",
      "/home/workstation/Escritorio/PabloC/TransferLearning/funcionesComunes.py:247: FutureWarning: The behavior of DataFrame concatenation with empty or all-NA entries is deprecated. In a future version, this will no longer exclude empty or all-NA columns when determining the result dtypes. To retain the old behavior, exclude the relevant entries before the concat operation.\n",
      "  predictionsDF = pd.concat([predictionsDF, tempDF], ignore_index=True)\n",
      "/home/workstation/Escritorio/PabloC/TransferLearning/funcionesComunes.py:247: FutureWarning: The behavior of DataFrame concatenation with empty or all-NA entries is deprecated. In a future version, this will no longer exclude empty or all-NA columns when determining the result dtypes. To retain the old behavior, exclude the relevant entries before the concat operation.\n",
      "  predictionsDF = pd.concat([predictionsDF, tempDF], ignore_index=True)\n"
     ]
    },
    {
     "name": "stdout",
     "output_type": "stream",
     "text": [
      "RESULTADOS DE MSE, RMSE, R2, MAPE (Train): 10.138927124075606, 3.1841681997148967, 0.8346410453610684, 26.70577707042625\n",
      "RESULTADOS DE MSE, RMSE, R2, MAPE (Val): 4.093094000090554, 2.0231396392959518, 0.7919408185767589, 29.695288854765494\n",
      "RESULTADOS DE MSE, RMSE, R2, MAPE (Test): 14.82407576976811, 3.8502046399857903, 0.8581378235263529, 28.597214521734145\n",
      "Procesando el modelo: model_Juniperus spp. .keras\n",
      "Abies spectabilis Juniperus spp. \n",
      "(96429, 77)\n",
      "SE HA NORMALIZADO EL ARCHIVO: Abies spectabilis_merged.csv\n",
      "(56618, 4, 43) (19637, 4, 43) (15689, 4, 43)\n",
      "<Conv1D name=conv1d_5, built=True> False\n",
      "<BatchNormalization name=batch_normalization_5, built=True> False\n",
      "<MaxPooling1D name=max_pooling1d_4, built=True> False\n",
      "<Conv1D name=conv1d_6, built=True> False\n",
      "<BatchNormalization name=batch_normalization_6, built=True> False\n",
      "<MaxPooling1D name=max_pooling1d_5, built=True> False\n",
      "<Dropout name=dropout_1, built=True> True\n",
      "<Conv1D name=conv1d_7, built=True> False\n",
      "<BatchNormalization name=batch_normalization_7, built=True> False\n",
      "<MaxPooling1D name=max_pooling1d_6, built=True> False\n",
      "<Conv1D name=conv1d_8, built=True> False\n",
      "<BatchNormalization name=batch_normalization_8, built=True> False\n",
      "<MaxPooling1D name=max_pooling1d_7, built=True> False\n",
      "<Conv1D name=conv1d_9, built=True> False\n",
      "<BatchNormalization name=batch_normalization_9, built=True> False\n",
      "<MaxPooling1D name=max_pooling1d_8, built=True> False\n",
      "<Conv1D name=conv1d_10, built=True> True\n",
      "<BatchNormalization name=batch_normalization_10, built=True> True\n",
      "<GlobalAveragePooling1D name=global_average_pooling1d_1, built=True> True\n",
      "<Dense name=dense_2, built=True> True\n",
      "<Dense name=dense_3, built=True> True\n"
     ]
    },
    {
     "name": "stderr",
     "output_type": "stream",
     "text": [
      "/home/workstation/Escritorio/PabloC/TransferLearning/.venv/lib/python3.10/site-packages/keras/src/saving/saving_lib.py:719: UserWarning: Skipping variable loading for optimizer 'rmsprop', because it has 30 variables whereas the saved optimizer has 2 variables. \n",
      "  saveable.load_own_variables(weights_store.get(inner_path))\n"
     ]
    },
    {
     "name": "stdout",
     "output_type": "stream",
     "text": [
      "[MODELO CONGELADO]: 180.67873358726501\n"
     ]
    },
    {
     "name": "stderr",
     "output_type": "stream",
     "text": [
      "/home/workstation/Escritorio/PabloC/TransferLearning/funcionesComunes.py:247: FutureWarning: The behavior of DataFrame concatenation with empty or all-NA entries is deprecated. In a future version, this will no longer exclude empty or all-NA columns when determining the result dtypes. To retain the old behavior, exclude the relevant entries before the concat operation.\n",
      "  predictionsDF = pd.concat([predictionsDF, tempDF], ignore_index=True)\n",
      "/home/workstation/Escritorio/PabloC/TransferLearning/funcionesComunes.py:247: FutureWarning: The behavior of DataFrame concatenation with empty or all-NA entries is deprecated. In a future version, this will no longer exclude empty or all-NA columns when determining the result dtypes. To retain the old behavior, exclude the relevant entries before the concat operation.\n",
      "  predictionsDF = pd.concat([predictionsDF, tempDF], ignore_index=True)\n",
      "/home/workstation/Escritorio/PabloC/TransferLearning/funcionesComunes.py:247: FutureWarning: The behavior of DataFrame concatenation with empty or all-NA entries is deprecated. In a future version, this will no longer exclude empty or all-NA columns when determining the result dtypes. To retain the old behavior, exclude the relevant entries before the concat operation.\n",
      "  predictionsDF = pd.concat([predictionsDF, tempDF], ignore_index=True)\n"
     ]
    },
    {
     "name": "stdout",
     "output_type": "stream",
     "text": [
      "RESULTADOS DE MSE, RMSE, R2, MAPE (Train): 81.36783336605424, 9.020412039704963, 0.2861227965169415, 48.996912236111626\n",
      "RESULTADOS DE MSE, RMSE, R2, MAPE (Val): 78.7597140126534, 8.874666980380358, 0.2823694355293791, 48.4591474431806\n",
      "RESULTADOS DE MSE, RMSE, R2, MAPE (Test): 85.08629081620046, 9.224223046750359, 0.3689782906601474, 47.734450362871996\n",
      "Picea smithiana Juniperus spp. \n",
      "(34476, 77)\n",
      "SE HA NORMALIZADO EL ARCHIVO: Picea smithiana_merged.csv\n",
      "(19933, 4, 43) (7272, 4, 43) (5863, 4, 43)\n",
      "<Conv1D name=conv1d_5, built=True> False\n",
      "<BatchNormalization name=batch_normalization_5, built=True> False\n",
      "<MaxPooling1D name=max_pooling1d_4, built=True> False\n",
      "<Conv1D name=conv1d_6, built=True> False\n",
      "<BatchNormalization name=batch_normalization_6, built=True> False\n",
      "<MaxPooling1D name=max_pooling1d_5, built=True> False\n",
      "<Dropout name=dropout_1, built=True> True\n",
      "<Conv1D name=conv1d_7, built=True> False\n",
      "<BatchNormalization name=batch_normalization_7, built=True> False\n",
      "<MaxPooling1D name=max_pooling1d_6, built=True> False\n",
      "<Conv1D name=conv1d_8, built=True> False\n",
      "<BatchNormalization name=batch_normalization_8, built=True> False\n",
      "<MaxPooling1D name=max_pooling1d_7, built=True> False\n",
      "<Conv1D name=conv1d_9, built=True> False\n",
      "<BatchNormalization name=batch_normalization_9, built=True> False\n",
      "<MaxPooling1D name=max_pooling1d_8, built=True> False\n",
      "<Conv1D name=conv1d_10, built=True> True\n",
      "<BatchNormalization name=batch_normalization_10, built=True> True\n",
      "<GlobalAveragePooling1D name=global_average_pooling1d_1, built=True> True\n",
      "<Dense name=dense_2, built=True> True\n",
      "<Dense name=dense_3, built=True> True\n"
     ]
    },
    {
     "name": "stderr",
     "output_type": "stream",
     "text": [
      "/home/workstation/Escritorio/PabloC/TransferLearning/.venv/lib/python3.10/site-packages/keras/src/saving/saving_lib.py:719: UserWarning: Skipping variable loading for optimizer 'rmsprop', because it has 30 variables whereas the saved optimizer has 2 variables. \n",
      "  saveable.load_own_variables(weights_store.get(inner_path))\n"
     ]
    },
    {
     "name": "stdout",
     "output_type": "stream",
     "text": [
      "[MODELO CONGELADO]: 92.4772539138794\n"
     ]
    },
    {
     "name": "stderr",
     "output_type": "stream",
     "text": [
      "/home/workstation/Escritorio/PabloC/TransferLearning/funcionesComunes.py:247: FutureWarning: The behavior of DataFrame concatenation with empty or all-NA entries is deprecated. In a future version, this will no longer exclude empty or all-NA columns when determining the result dtypes. To retain the old behavior, exclude the relevant entries before the concat operation.\n",
      "  predictionsDF = pd.concat([predictionsDF, tempDF], ignore_index=True)\n",
      "/home/workstation/Escritorio/PabloC/TransferLearning/funcionesComunes.py:247: FutureWarning: The behavior of DataFrame concatenation with empty or all-NA entries is deprecated. In a future version, this will no longer exclude empty or all-NA columns when determining the result dtypes. To retain the old behavior, exclude the relevant entries before the concat operation.\n",
      "  predictionsDF = pd.concat([predictionsDF, tempDF], ignore_index=True)\n",
      "/home/workstation/Escritorio/PabloC/TransferLearning/funcionesComunes.py:247: FutureWarning: The behavior of DataFrame concatenation with empty or all-NA entries is deprecated. In a future version, this will no longer exclude empty or all-NA columns when determining the result dtypes. To retain the old behavior, exclude the relevant entries before the concat operation.\n",
      "  predictionsDF = pd.concat([predictionsDF, tempDF], ignore_index=True)\n"
     ]
    },
    {
     "name": "stdout",
     "output_type": "stream",
     "text": [
      "RESULTADOS DE MSE, RMSE, R2, MAPE (Train): 191.2117842346391, 13.827934922996967, 0.43963976580120057, 39.42327942757678\n",
      "RESULTADOS DE MSE, RMSE, R2, MAPE (Val): 238.49775992762213, 15.443372686289162, 0.3117587439261972, 43.465739738163634\n",
      "RESULTADOS DE MSE, RMSE, R2, MAPE (Test): 198.69724608152677, 14.096001067023469, 0.32900792896321807, 42.4021025828189\n",
      "Abies pindrow Juniperus spp. \n",
      "(16018, 77)\n",
      "SE HA NORMALIZADO EL ARCHIVO: Abies pindrow_merged.csv\n",
      "(9042, 4, 43) (3441, 4, 43) (2815, 4, 43)\n",
      "<Conv1D name=conv1d_5, built=True> False\n",
      "<BatchNormalization name=batch_normalization_5, built=True> False\n",
      "<MaxPooling1D name=max_pooling1d_4, built=True> False\n",
      "<Conv1D name=conv1d_6, built=True> False\n",
      "<BatchNormalization name=batch_normalization_6, built=True> False\n",
      "<MaxPooling1D name=max_pooling1d_5, built=True> False\n",
      "<Dropout name=dropout_1, built=True> True\n",
      "<Conv1D name=conv1d_7, built=True> False\n",
      "<BatchNormalization name=batch_normalization_7, built=True> False\n",
      "<MaxPooling1D name=max_pooling1d_6, built=True> False\n",
      "<Conv1D name=conv1d_8, built=True> False\n",
      "<BatchNormalization name=batch_normalization_8, built=True> False\n",
      "<MaxPooling1D name=max_pooling1d_7, built=True> False\n",
      "<Conv1D name=conv1d_9, built=True> False\n",
      "<BatchNormalization name=batch_normalization_9, built=True> False\n",
      "<MaxPooling1D name=max_pooling1d_8, built=True> False\n",
      "<Conv1D name=conv1d_10, built=True> True\n",
      "<BatchNormalization name=batch_normalization_10, built=True> True\n",
      "<GlobalAveragePooling1D name=global_average_pooling1d_1, built=True> True\n",
      "<Dense name=dense_2, built=True> True\n",
      "<Dense name=dense_3, built=True> True\n"
     ]
    },
    {
     "name": "stderr",
     "output_type": "stream",
     "text": [
      "/home/workstation/Escritorio/PabloC/TransferLearning/.venv/lib/python3.10/site-packages/keras/src/saving/saving_lib.py:719: UserWarning: Skipping variable loading for optimizer 'rmsprop', because it has 30 variables whereas the saved optimizer has 2 variables. \n",
      "  saveable.load_own_variables(weights_store.get(inner_path))\n"
     ]
    },
    {
     "name": "stdout",
     "output_type": "stream",
     "text": [
      "[MODELO CONGELADO]: 44.89126896858215\n"
     ]
    },
    {
     "name": "stderr",
     "output_type": "stream",
     "text": [
      "/home/workstation/Escritorio/PabloC/TransferLearning/funcionesComunes.py:247: FutureWarning: The behavior of DataFrame concatenation with empty or all-NA entries is deprecated. In a future version, this will no longer exclude empty or all-NA columns when determining the result dtypes. To retain the old behavior, exclude the relevant entries before the concat operation.\n",
      "  predictionsDF = pd.concat([predictionsDF, tempDF], ignore_index=True)\n",
      "/home/workstation/Escritorio/PabloC/TransferLearning/funcionesComunes.py:247: FutureWarning: The behavior of DataFrame concatenation with empty or all-NA entries is deprecated. In a future version, this will no longer exclude empty or all-NA columns when determining the result dtypes. To retain the old behavior, exclude the relevant entries before the concat operation.\n",
      "  predictionsDF = pd.concat([predictionsDF, tempDF], ignore_index=True)\n",
      "/home/workstation/Escritorio/PabloC/TransferLearning/funcionesComunes.py:247: FutureWarning: The behavior of DataFrame concatenation with empty or all-NA entries is deprecated. In a future version, this will no longer exclude empty or all-NA columns when determining the result dtypes. To retain the old behavior, exclude the relevant entries before the concat operation.\n",
      "  predictionsDF = pd.concat([predictionsDF, tempDF], ignore_index=True)\n"
     ]
    },
    {
     "name": "stdout",
     "output_type": "stream",
     "text": [
      "RESULTADOS DE MSE, RMSE, R2, MAPE (Train): 164.19753049149318, 12.813958423980202, 0.2952117413684524, 41.3990688525858\n",
      "RESULTADOS DE MSE, RMSE, R2, MAPE (Val): 123.90959470074742, 11.131468667734165, 0.2931591796382732, 35.29600333290327\n",
      "RESULTADOS DE MSE, RMSE, R2, MAPE (Test): 221.61088822116784, 14.886600962649863, -0.5667263584472761, 43.17948619337287\n",
      "Juniperus excelsa M.-Bieb Juniperus spp. \n",
      "(7449, 77)\n",
      "SE HA NORMALIZADO EL ARCHIVO: Juniperus excelsa M.-Bieb_merged.csv\n",
      "(4189, 4, 43) (1707, 4, 43) (1228, 4, 43)\n",
      "<Conv1D name=conv1d_5, built=True> False\n",
      "<BatchNormalization name=batch_normalization_5, built=True> False\n",
      "<MaxPooling1D name=max_pooling1d_4, built=True> False\n",
      "<Conv1D name=conv1d_6, built=True> False\n",
      "<BatchNormalization name=batch_normalization_6, built=True> False\n",
      "<MaxPooling1D name=max_pooling1d_5, built=True> False\n",
      "<Dropout name=dropout_1, built=True> True\n",
      "<Conv1D name=conv1d_7, built=True> False\n",
      "<BatchNormalization name=batch_normalization_7, built=True> False\n",
      "<MaxPooling1D name=max_pooling1d_6, built=True> False\n",
      "<Conv1D name=conv1d_8, built=True> False\n",
      "<BatchNormalization name=batch_normalization_8, built=True> False\n",
      "<MaxPooling1D name=max_pooling1d_7, built=True> False\n",
      "<Conv1D name=conv1d_9, built=True> False\n",
      "<BatchNormalization name=batch_normalization_9, built=True> False\n",
      "<MaxPooling1D name=max_pooling1d_8, built=True> False\n",
      "<Conv1D name=conv1d_10, built=True> True\n",
      "<BatchNormalization name=batch_normalization_10, built=True> True\n",
      "<GlobalAveragePooling1D name=global_average_pooling1d_1, built=True> True\n",
      "<Dense name=dense_2, built=True> True\n",
      "<Dense name=dense_3, built=True> True\n"
     ]
    },
    {
     "name": "stderr",
     "output_type": "stream",
     "text": [
      "/home/workstation/Escritorio/PabloC/TransferLearning/.venv/lib/python3.10/site-packages/keras/src/saving/saving_lib.py:719: UserWarning: Skipping variable loading for optimizer 'rmsprop', because it has 30 variables whereas the saved optimizer has 2 variables. \n",
      "  saveable.load_own_variables(weights_store.get(inner_path))\n"
     ]
    },
    {
     "name": "stdout",
     "output_type": "stream",
     "text": [
      "[MODELO CONGELADO]: 29.630897045135498\n"
     ]
    },
    {
     "name": "stderr",
     "output_type": "stream",
     "text": [
      "/home/workstation/Escritorio/PabloC/TransferLearning/funcionesComunes.py:247: FutureWarning: The behavior of DataFrame concatenation with empty or all-NA entries is deprecated. In a future version, this will no longer exclude empty or all-NA columns when determining the result dtypes. To retain the old behavior, exclude the relevant entries before the concat operation.\n",
      "  predictionsDF = pd.concat([predictionsDF, tempDF], ignore_index=True)\n",
      "/home/workstation/Escritorio/PabloC/TransferLearning/funcionesComunes.py:247: FutureWarning: The behavior of DataFrame concatenation with empty or all-NA entries is deprecated. In a future version, this will no longer exclude empty or all-NA columns when determining the result dtypes. To retain the old behavior, exclude the relevant entries before the concat operation.\n",
      "  predictionsDF = pd.concat([predictionsDF, tempDF], ignore_index=True)\n",
      "/home/workstation/Escritorio/PabloC/TransferLearning/funcionesComunes.py:247: FutureWarning: The behavior of DataFrame concatenation with empty or all-NA entries is deprecated. In a future version, this will no longer exclude empty or all-NA columns when determining the result dtypes. To retain the old behavior, exclude the relevant entries before the concat operation.\n",
      "  predictionsDF = pd.concat([predictionsDF, tempDF], ignore_index=True)\n"
     ]
    },
    {
     "name": "stdout",
     "output_type": "stream",
     "text": [
      "RESULTADOS DE MSE, RMSE, R2, MAPE (Train): 7.022572525864687, 2.650013684090082, 0.7145464530861485, 26.99678784360822\n",
      "RESULTADOS DE MSE, RMSE, R2, MAPE (Val): 7.433220301447313, 2.7263932771057284, 0.716524877578423, 29.08349611382838\n",
      "RESULTADOS DE MSE, RMSE, R2, MAPE (Test): 20.261436321708988, 4.501270523053351, 0.6996073694310294, 32.220286724528854\n",
      "Juniperus turkestanica Komar. Juniperus spp. \n",
      "(6305, 77)\n",
      "SE HA NORMALIZADO EL ARCHIVO: Juniperus turkestanica Komar._merged.csv\n",
      "(3664, 4, 43) (1368, 4, 43) (1001, 4, 43)\n",
      "<Conv1D name=conv1d_5, built=True> False\n",
      "<BatchNormalization name=batch_normalization_5, built=True> False\n",
      "<MaxPooling1D name=max_pooling1d_4, built=True> False\n",
      "<Conv1D name=conv1d_6, built=True> False\n",
      "<BatchNormalization name=batch_normalization_6, built=True> False\n",
      "<MaxPooling1D name=max_pooling1d_5, built=True> False\n",
      "<Dropout name=dropout_1, built=True> True\n",
      "<Conv1D name=conv1d_7, built=True> False\n",
      "<BatchNormalization name=batch_normalization_7, built=True> False\n",
      "<MaxPooling1D name=max_pooling1d_6, built=True> False\n",
      "<Conv1D name=conv1d_8, built=True> False\n",
      "<BatchNormalization name=batch_normalization_8, built=True> False\n",
      "<MaxPooling1D name=max_pooling1d_7, built=True> False\n",
      "<Conv1D name=conv1d_9, built=True> False\n",
      "<BatchNormalization name=batch_normalization_9, built=True> False\n",
      "<MaxPooling1D name=max_pooling1d_8, built=True> False\n",
      "<Conv1D name=conv1d_10, built=True> True\n",
      "<BatchNormalization name=batch_normalization_10, built=True> True\n",
      "<GlobalAveragePooling1D name=global_average_pooling1d_1, built=True> True\n",
      "<Dense name=dense_2, built=True> True\n",
      "<Dense name=dense_3, built=True> True\n"
     ]
    },
    {
     "name": "stderr",
     "output_type": "stream",
     "text": [
      "/home/workstation/Escritorio/PabloC/TransferLearning/.venv/lib/python3.10/site-packages/keras/src/saving/saving_lib.py:719: UserWarning: Skipping variable loading for optimizer 'rmsprop', because it has 30 variables whereas the saved optimizer has 2 variables. \n",
      "  saveable.load_own_variables(weights_store.get(inner_path))\n"
     ]
    },
    {
     "name": "stdout",
     "output_type": "stream",
     "text": [
      "[MODELO CONGELADO]: 17.263813257217407\n"
     ]
    },
    {
     "name": "stderr",
     "output_type": "stream",
     "text": [
      "/home/workstation/Escritorio/PabloC/TransferLearning/funcionesComunes.py:247: FutureWarning: The behavior of DataFrame concatenation with empty or all-NA entries is deprecated. In a future version, this will no longer exclude empty or all-NA columns when determining the result dtypes. To retain the old behavior, exclude the relevant entries before the concat operation.\n",
      "  predictionsDF = pd.concat([predictionsDF, tempDF], ignore_index=True)\n",
      "/home/workstation/Escritorio/PabloC/TransferLearning/funcionesComunes.py:247: FutureWarning: The behavior of DataFrame concatenation with empty or all-NA entries is deprecated. In a future version, this will no longer exclude empty or all-NA columns when determining the result dtypes. To retain the old behavior, exclude the relevant entries before the concat operation.\n",
      "  predictionsDF = pd.concat([predictionsDF, tempDF], ignore_index=True)\n",
      "/home/workstation/Escritorio/PabloC/TransferLearning/funcionesComunes.py:247: FutureWarning: The behavior of DataFrame concatenation with empty or all-NA entries is deprecated. In a future version, this will no longer exclude empty or all-NA columns when determining the result dtypes. To retain the old behavior, exclude the relevant entries before the concat operation.\n",
      "  predictionsDF = pd.concat([predictionsDF, tempDF], ignore_index=True)\n"
     ]
    },
    {
     "name": "stdout",
     "output_type": "stream",
     "text": [
      "RESULTADOS DE MSE, RMSE, R2, MAPE (Train): 5.699627228356589, 2.3873892075563607, 0.8730221321389334, 22.464266619428944\n",
      "RESULTADOS DE MSE, RMSE, R2, MAPE (Val): 4.054139876147559, 2.0134894775358423, 0.7642407812430141, 25.474739671471646\n",
      "RESULTADOS DE MSE, RMSE, R2, MAPE (Test): 1.2061934270168084, 1.0982683765896242, 0.7780940992476407, 21.592864994721335\n",
      "Pinus roxburghii Juniperus spp. \n",
      "(10635, 77)\n",
      "SE HA NORMALIZADO EL ARCHIVO: Pinus roxburghii_merged.csv\n",
      "(6309, 4, 43) (2167, 4, 43) (1647, 4, 43)\n",
      "<Conv1D name=conv1d_5, built=True> False\n",
      "<BatchNormalization name=batch_normalization_5, built=True> False\n",
      "<MaxPooling1D name=max_pooling1d_4, built=True> False\n",
      "<Conv1D name=conv1d_6, built=True> False\n",
      "<BatchNormalization name=batch_normalization_6, built=True> False\n",
      "<MaxPooling1D name=max_pooling1d_5, built=True> False\n",
      "<Dropout name=dropout_1, built=True> True\n",
      "<Conv1D name=conv1d_7, built=True> False\n",
      "<BatchNormalization name=batch_normalization_7, built=True> False\n",
      "<MaxPooling1D name=max_pooling1d_6, built=True> False\n",
      "<Conv1D name=conv1d_8, built=True> False\n",
      "<BatchNormalization name=batch_normalization_8, built=True> False\n",
      "<MaxPooling1D name=max_pooling1d_7, built=True> False\n",
      "<Conv1D name=conv1d_9, built=True> False\n",
      "<BatchNormalization name=batch_normalization_9, built=True> False\n",
      "<MaxPooling1D name=max_pooling1d_8, built=True> False\n",
      "<Conv1D name=conv1d_10, built=True> True\n",
      "<BatchNormalization name=batch_normalization_10, built=True> True\n",
      "<GlobalAveragePooling1D name=global_average_pooling1d_1, built=True> True\n",
      "<Dense name=dense_2, built=True> True\n",
      "<Dense name=dense_3, built=True> True\n"
     ]
    },
    {
     "name": "stderr",
     "output_type": "stream",
     "text": [
      "/home/workstation/Escritorio/PabloC/TransferLearning/.venv/lib/python3.10/site-packages/keras/src/saving/saving_lib.py:719: UserWarning: Skipping variable loading for optimizer 'rmsprop', because it has 30 variables whereas the saved optimizer has 2 variables. \n",
      "  saveable.load_own_variables(weights_store.get(inner_path))\n"
     ]
    },
    {
     "name": "stdout",
     "output_type": "stream",
     "text": [
      "[MODELO CONGELADO]: 17.757055521011353\n"
     ]
    },
    {
     "name": "stderr",
     "output_type": "stream",
     "text": [
      "/home/workstation/Escritorio/PabloC/TransferLearning/funcionesComunes.py:247: FutureWarning: The behavior of DataFrame concatenation with empty or all-NA entries is deprecated. In a future version, this will no longer exclude empty or all-NA columns when determining the result dtypes. To retain the old behavior, exclude the relevant entries before the concat operation.\n",
      "  predictionsDF = pd.concat([predictionsDF, tempDF], ignore_index=True)\n",
      "/home/workstation/Escritorio/PabloC/TransferLearning/funcionesComunes.py:247: FutureWarning: The behavior of DataFrame concatenation with empty or all-NA entries is deprecated. In a future version, this will no longer exclude empty or all-NA columns when determining the result dtypes. To retain the old behavior, exclude the relevant entries before the concat operation.\n",
      "  predictionsDF = pd.concat([predictionsDF, tempDF], ignore_index=True)\n",
      "/home/workstation/Escritorio/PabloC/TransferLearning/funcionesComunes.py:247: FutureWarning: The behavior of DataFrame concatenation with empty or all-NA entries is deprecated. In a future version, this will no longer exclude empty or all-NA columns when determining the result dtypes. To retain the old behavior, exclude the relevant entries before the concat operation.\n",
      "  predictionsDF = pd.concat([predictionsDF, tempDF], ignore_index=True)\n"
     ]
    },
    {
     "name": "stdout",
     "output_type": "stream",
     "text": [
      "RESULTADOS DE MSE, RMSE, R2, MAPE (Train): 189.8694618658225, 13.779312822699922, 0.28817273454877845, 44.2418327057381\n",
      "RESULTADOS DE MSE, RMSE, R2, MAPE (Val): 148.54525220728672, 12.187914186081501, 0.336876231126786, 43.62244391036153\n",
      "RESULTADOS DE MSE, RMSE, R2, MAPE (Test): 167.69716619842134, 12.94979406007761, 0.2963076488023034, 44.74324943407134\n",
      "Pinus wallichiana Juniperus spp. \n",
      "(9365, 77)\n",
      "SE HA NORMALIZADO EL ARCHIVO: Pinus wallichiana_merged.csv\n",
      "(5508, 4, 43) (1957, 4, 43) (1500, 4, 43)\n",
      "<Conv1D name=conv1d_5, built=True> False\n",
      "<BatchNormalization name=batch_normalization_5, built=True> False\n",
      "<MaxPooling1D name=max_pooling1d_4, built=True> False\n",
      "<Conv1D name=conv1d_6, built=True> False\n",
      "<BatchNormalization name=batch_normalization_6, built=True> False\n",
      "<MaxPooling1D name=max_pooling1d_5, built=True> False\n",
      "<Dropout name=dropout_1, built=True> True\n",
      "<Conv1D name=conv1d_7, built=True> False\n",
      "<BatchNormalization name=batch_normalization_7, built=True> False\n",
      "<MaxPooling1D name=max_pooling1d_6, built=True> False\n",
      "<Conv1D name=conv1d_8, built=True> False\n",
      "<BatchNormalization name=batch_normalization_8, built=True> False\n",
      "<MaxPooling1D name=max_pooling1d_7, built=True> False\n",
      "<Conv1D name=conv1d_9, built=True> False\n",
      "<BatchNormalization name=batch_normalization_9, built=True> False\n",
      "<MaxPooling1D name=max_pooling1d_8, built=True> False\n",
      "<Conv1D name=conv1d_10, built=True> True\n",
      "<BatchNormalization name=batch_normalization_10, built=True> True\n",
      "<GlobalAveragePooling1D name=global_average_pooling1d_1, built=True> True\n",
      "<Dense name=dense_2, built=True> True\n",
      "<Dense name=dense_3, built=True> True\n"
     ]
    },
    {
     "name": "stderr",
     "output_type": "stream",
     "text": [
      "/home/workstation/Escritorio/PabloC/TransferLearning/.venv/lib/python3.10/site-packages/keras/src/saving/saving_lib.py:719: UserWarning: Skipping variable loading for optimizer 'rmsprop', because it has 30 variables whereas the saved optimizer has 2 variables. \n",
      "  saveable.load_own_variables(weights_store.get(inner_path))\n"
     ]
    },
    {
     "name": "stdout",
     "output_type": "stream",
     "text": [
      "[MODELO CONGELADO]: 22.421220064163208\n"
     ]
    },
    {
     "name": "stderr",
     "output_type": "stream",
     "text": [
      "/home/workstation/Escritorio/PabloC/TransferLearning/funcionesComunes.py:247: FutureWarning: The behavior of DataFrame concatenation with empty or all-NA entries is deprecated. In a future version, this will no longer exclude empty or all-NA columns when determining the result dtypes. To retain the old behavior, exclude the relevant entries before the concat operation.\n",
      "  predictionsDF = pd.concat([predictionsDF, tempDF], ignore_index=True)\n",
      "/home/workstation/Escritorio/PabloC/TransferLearning/funcionesComunes.py:247: FutureWarning: The behavior of DataFrame concatenation with empty or all-NA entries is deprecated. In a future version, this will no longer exclude empty or all-NA columns when determining the result dtypes. To retain the old behavior, exclude the relevant entries before the concat operation.\n",
      "  predictionsDF = pd.concat([predictionsDF, tempDF], ignore_index=True)\n",
      "/home/workstation/Escritorio/PabloC/TransferLearning/funcionesComunes.py:247: FutureWarning: The behavior of DataFrame concatenation with empty or all-NA entries is deprecated. In a future version, this will no longer exclude empty or all-NA columns when determining the result dtypes. To retain the old behavior, exclude the relevant entries before the concat operation.\n",
      "  predictionsDF = pd.concat([predictionsDF, tempDF], ignore_index=True)\n"
     ]
    },
    {
     "name": "stdout",
     "output_type": "stream",
     "text": [
      "RESULTADOS DE MSE, RMSE, R2, MAPE (Train): 25.53524574048082, 5.053241112442669, 0.6212050074414963, 28.642149555993672\n",
      "RESULTADOS DE MSE, RMSE, R2, MAPE (Val): 21.838816097965058, 4.673201910678059, 0.6347006734947538, 29.41682456154635\n",
      "RESULTADOS DE MSE, RMSE, R2, MAPE (Test): 48.25261070400039, 6.946409914768951, -0.1444127885342188, 44.120303517537174\n",
      "Pinus gerardiana Juniperus spp. \n",
      "(10101, 77)\n",
      "SE HA NORMALIZADO EL ARCHIVO: Pinus gerardiana_merged.csv\n",
      "(5767, 4, 43) (2181, 4, 43) (1745, 4, 43)\n",
      "<Conv1D name=conv1d_5, built=True> False\n",
      "<BatchNormalization name=batch_normalization_5, built=True> False\n",
      "<MaxPooling1D name=max_pooling1d_4, built=True> False\n",
      "<Conv1D name=conv1d_6, built=True> False\n",
      "<BatchNormalization name=batch_normalization_6, built=True> False\n",
      "<MaxPooling1D name=max_pooling1d_5, built=True> False\n",
      "<Dropout name=dropout_1, built=True> True\n",
      "<Conv1D name=conv1d_7, built=True> False\n",
      "<BatchNormalization name=batch_normalization_7, built=True> False\n",
      "<MaxPooling1D name=max_pooling1d_6, built=True> False\n",
      "<Conv1D name=conv1d_8, built=True> False\n",
      "<BatchNormalization name=batch_normalization_8, built=True> False\n",
      "<MaxPooling1D name=max_pooling1d_7, built=True> False\n",
      "<Conv1D name=conv1d_9, built=True> False\n",
      "<BatchNormalization name=batch_normalization_9, built=True> False\n",
      "<MaxPooling1D name=max_pooling1d_8, built=True> False\n",
      "<Conv1D name=conv1d_10, built=True> True\n",
      "<BatchNormalization name=batch_normalization_10, built=True> True\n",
      "<GlobalAveragePooling1D name=global_average_pooling1d_1, built=True> True\n",
      "<Dense name=dense_2, built=True> True\n",
      "<Dense name=dense_3, built=True> True\n"
     ]
    },
    {
     "name": "stderr",
     "output_type": "stream",
     "text": [
      "/home/workstation/Escritorio/PabloC/TransferLearning/.venv/lib/python3.10/site-packages/keras/src/saving/saving_lib.py:719: UserWarning: Skipping variable loading for optimizer 'rmsprop', because it has 30 variables whereas the saved optimizer has 2 variables. \n",
      "  saveable.load_own_variables(weights_store.get(inner_path))\n"
     ]
    },
    {
     "name": "stdout",
     "output_type": "stream",
     "text": [
      "[MODELO CONGELADO]: 32.615368604660034\n"
     ]
    },
    {
     "name": "stderr",
     "output_type": "stream",
     "text": [
      "/home/workstation/Escritorio/PabloC/TransferLearning/funcionesComunes.py:247: FutureWarning: The behavior of DataFrame concatenation with empty or all-NA entries is deprecated. In a future version, this will no longer exclude empty or all-NA columns when determining the result dtypes. To retain the old behavior, exclude the relevant entries before the concat operation.\n",
      "  predictionsDF = pd.concat([predictionsDF, tempDF], ignore_index=True)\n",
      "/home/workstation/Escritorio/PabloC/TransferLearning/funcionesComunes.py:247: FutureWarning: The behavior of DataFrame concatenation with empty or all-NA entries is deprecated. In a future version, this will no longer exclude empty or all-NA columns when determining the result dtypes. To retain the old behavior, exclude the relevant entries before the concat operation.\n",
      "  predictionsDF = pd.concat([predictionsDF, tempDF], ignore_index=True)\n",
      "/home/workstation/Escritorio/PabloC/TransferLearning/funcionesComunes.py:247: FutureWarning: The behavior of DataFrame concatenation with empty or all-NA entries is deprecated. In a future version, this will no longer exclude empty or all-NA columns when determining the result dtypes. To retain the old behavior, exclude the relevant entries before the concat operation.\n",
      "  predictionsDF = pd.concat([predictionsDF, tempDF], ignore_index=True)\n"
     ]
    },
    {
     "name": "stdout",
     "output_type": "stream",
     "text": [
      "RESULTADOS DE MSE, RMSE, R2, MAPE (Train): 20.155761279889116, 4.489516820314756, 0.48075080758857824, 35.39095757754266\n",
      "RESULTADOS DE MSE, RMSE, R2, MAPE (Val): 21.001111580001982, 4.582696976672359, 0.46926656969317115, 34.45204546797764\n",
      "RESULTADOS DE MSE, RMSE, R2, MAPE (Test): 17.89951245361238, 4.230781541702712, 0.5544663807873795, 33.350834498182536\n",
      "Populus ciliata Juniperus spp. \n",
      "(1182, 77)\n",
      "SE HA NORMALIZADO EL ARCHIVO: Populus ciliata_merged.csv\n",
      "(705, 4, 43) (156, 4, 43) (265, 4, 43)\n"
     ]
    },
    {
     "name": "stderr",
     "output_type": "stream",
     "text": [
      "/home/workstation/Escritorio/PabloC/TransferLearning/.venv/lib/python3.10/site-packages/keras/src/saving/saving_lib.py:719: UserWarning: Skipping variable loading for optimizer 'rmsprop', because it has 30 variables whereas the saved optimizer has 2 variables. \n",
      "  saveable.load_own_variables(weights_store.get(inner_path))\n"
     ]
    },
    {
     "name": "stdout",
     "output_type": "stream",
     "text": [
      "<Conv1D name=conv1d_5, built=True> False\n",
      "<BatchNormalization name=batch_normalization_5, built=True> False\n",
      "<MaxPooling1D name=max_pooling1d_4, built=True> False\n",
      "<Conv1D name=conv1d_6, built=True> False\n",
      "<BatchNormalization name=batch_normalization_6, built=True> False\n",
      "<MaxPooling1D name=max_pooling1d_5, built=True> False\n",
      "<Dropout name=dropout_1, built=True> True\n",
      "<Conv1D name=conv1d_7, built=True> False\n",
      "<BatchNormalization name=batch_normalization_7, built=True> False\n",
      "<MaxPooling1D name=max_pooling1d_6, built=True> False\n",
      "<Conv1D name=conv1d_8, built=True> False\n",
      "<BatchNormalization name=batch_normalization_8, built=True> False\n",
      "<MaxPooling1D name=max_pooling1d_7, built=True> False\n",
      "<Conv1D name=conv1d_9, built=True> False\n",
      "<BatchNormalization name=batch_normalization_9, built=True> False\n",
      "<MaxPooling1D name=max_pooling1d_8, built=True> False\n",
      "<Conv1D name=conv1d_10, built=True> True\n",
      "<BatchNormalization name=batch_normalization_10, built=True> True\n",
      "<GlobalAveragePooling1D name=global_average_pooling1d_1, built=True> True\n",
      "<Dense name=dense_2, built=True> True\n",
      "<Dense name=dense_3, built=True> True\n",
      "[MODELO CONGELADO]: 4.40850305557251\n"
     ]
    },
    {
     "name": "stderr",
     "output_type": "stream",
     "text": [
      "/home/workstation/Escritorio/PabloC/TransferLearning/funcionesComunes.py:247: FutureWarning: The behavior of DataFrame concatenation with empty or all-NA entries is deprecated. In a future version, this will no longer exclude empty or all-NA columns when determining the result dtypes. To retain the old behavior, exclude the relevant entries before the concat operation.\n",
      "  predictionsDF = pd.concat([predictionsDF, tempDF], ignore_index=True)\n",
      "/home/workstation/Escritorio/PabloC/TransferLearning/funcionesComunes.py:247: FutureWarning: The behavior of DataFrame concatenation with empty or all-NA entries is deprecated. In a future version, this will no longer exclude empty or all-NA columns when determining the result dtypes. To retain the old behavior, exclude the relevant entries before the concat operation.\n",
      "  predictionsDF = pd.concat([predictionsDF, tempDF], ignore_index=True)\n",
      "/home/workstation/Escritorio/PabloC/TransferLearning/funcionesComunes.py:247: FutureWarning: The behavior of DataFrame concatenation with empty or all-NA entries is deprecated. In a future version, this will no longer exclude empty or all-NA columns when determining the result dtypes. To retain the old behavior, exclude the relevant entries before the concat operation.\n",
      "  predictionsDF = pd.concat([predictionsDF, tempDF], ignore_index=True)\n"
     ]
    },
    {
     "name": "stdout",
     "output_type": "stream",
     "text": [
      "RESULTADOS DE MSE, RMSE, R2, MAPE (Train): 199.79964166404127, 14.135050111833396, 0.4498800017740965, 39.69842987929169\n",
      "RESULTADOS DE MSE, RMSE, R2, MAPE (Val): 242.79591631196462, 15.581909905783842, -0.03450352387634448, 48.0915566635887\n",
      "RESULTADOS DE MSE, RMSE, R2, MAPE (Test): 89.55036729876822, 9.463105584255532, 0.5525386933866914, 34.60805781763988\n",
      "Betula utilis Juniperus spp. \n",
      "(3473, 77)\n",
      "SE HA NORMALIZADO EL ARCHIVO: Betula utilis_merged.csv\n",
      "(2059, 4, 43) (665, 4, 43) (593, 4, 43)\n",
      "<Conv1D name=conv1d_5, built=True> False\n",
      "<BatchNormalization name=batch_normalization_5, built=True> False\n",
      "<MaxPooling1D name=max_pooling1d_4, built=True> False\n",
      "<Conv1D name=conv1d_6, built=True> False\n",
      "<BatchNormalization name=batch_normalization_6, built=True> False\n",
      "<MaxPooling1D name=max_pooling1d_5, built=True> False\n",
      "<Dropout name=dropout_1, built=True> True\n",
      "<Conv1D name=conv1d_7, built=True> False\n",
      "<BatchNormalization name=batch_normalization_7, built=True> False\n",
      "<MaxPooling1D name=max_pooling1d_6, built=True> False\n",
      "<Conv1D name=conv1d_8, built=True> False\n",
      "<BatchNormalization name=batch_normalization_8, built=True> False\n",
      "<MaxPooling1D name=max_pooling1d_7, built=True> False\n",
      "<Conv1D name=conv1d_9, built=True> False\n",
      "<BatchNormalization name=batch_normalization_9, built=True> False\n",
      "<MaxPooling1D name=max_pooling1d_8, built=True> False\n",
      "<Conv1D name=conv1d_10, built=True> True\n",
      "<BatchNormalization name=batch_normalization_10, built=True> True\n",
      "<GlobalAveragePooling1D name=global_average_pooling1d_1, built=True> True\n",
      "<Dense name=dense_2, built=True> True\n",
      "<Dense name=dense_3, built=True> True\n"
     ]
    },
    {
     "name": "stderr",
     "output_type": "stream",
     "text": [
      "/home/workstation/Escritorio/PabloC/TransferLearning/.venv/lib/python3.10/site-packages/keras/src/saving/saving_lib.py:719: UserWarning: Skipping variable loading for optimizer 'rmsprop', because it has 30 variables whereas the saved optimizer has 2 variables. \n",
      "  saveable.load_own_variables(weights_store.get(inner_path))\n"
     ]
    },
    {
     "name": "stdout",
     "output_type": "stream",
     "text": [
      "[MODELO CONGELADO]: 10.466814041137695\n"
     ]
    },
    {
     "name": "stderr",
     "output_type": "stream",
     "text": [
      "/home/workstation/Escritorio/PabloC/TransferLearning/funcionesComunes.py:247: FutureWarning: The behavior of DataFrame concatenation with empty or all-NA entries is deprecated. In a future version, this will no longer exclude empty or all-NA columns when determining the result dtypes. To retain the old behavior, exclude the relevant entries before the concat operation.\n",
      "  predictionsDF = pd.concat([predictionsDF, tempDF], ignore_index=True)\n",
      "/home/workstation/Escritorio/PabloC/TransferLearning/funcionesComunes.py:247: FutureWarning: The behavior of DataFrame concatenation with empty or all-NA entries is deprecated. In a future version, this will no longer exclude empty or all-NA columns when determining the result dtypes. To retain the old behavior, exclude the relevant entries before the concat operation.\n",
      "  predictionsDF = pd.concat([predictionsDF, tempDF], ignore_index=True)\n",
      "/home/workstation/Escritorio/PabloC/TransferLearning/funcionesComunes.py:247: FutureWarning: The behavior of DataFrame concatenation with empty or all-NA entries is deprecated. In a future version, this will no longer exclude empty or all-NA columns when determining the result dtypes. To retain the old behavior, exclude the relevant entries before the concat operation.\n",
      "  predictionsDF = pd.concat([predictionsDF, tempDF], ignore_index=True)\n"
     ]
    },
    {
     "name": "stdout",
     "output_type": "stream",
     "text": [
      "RESULTADOS DE MSE, RMSE, R2, MAPE (Train): 5.226022896071258, 2.2860496267735, 0.22850686026621392, 57.37939444879079\n",
      "RESULTADOS DE MSE, RMSE, R2, MAPE (Val): 1.5047365990343564, 1.2266770557218214, 0.2163839904955368, 45.37941718232435\n",
      "RESULTADOS DE MSE, RMSE, R2, MAPE (Test): 1.4228990694622992, 1.192853331077337, 0.45623955782878334, 45.19684126322341\n",
      "Tsuga dumosa Juniperus spp. \n",
      "(20493, 77)\n",
      "SE HA NORMALIZADO EL ARCHIVO: Tsuga dumosa_merged.csv\n",
      "(11935, 4, 43) (4144, 4, 43) (3469, 4, 43)\n",
      "<Conv1D name=conv1d_5, built=True> False\n",
      "<BatchNormalization name=batch_normalization_5, built=True> False\n",
      "<MaxPooling1D name=max_pooling1d_4, built=True> False\n",
      "<Conv1D name=conv1d_6, built=True> False\n",
      "<BatchNormalization name=batch_normalization_6, built=True> False\n",
      "<MaxPooling1D name=max_pooling1d_5, built=True> False\n",
      "<Dropout name=dropout_1, built=True> True\n",
      "<Conv1D name=conv1d_7, built=True> False\n",
      "<BatchNormalization name=batch_normalization_7, built=True> False\n",
      "<MaxPooling1D name=max_pooling1d_6, built=True> False\n",
      "<Conv1D name=conv1d_8, built=True> False\n",
      "<BatchNormalization name=batch_normalization_8, built=True> False\n",
      "<MaxPooling1D name=max_pooling1d_7, built=True> False\n",
      "<Conv1D name=conv1d_9, built=True> False\n",
      "<BatchNormalization name=batch_normalization_9, built=True> False\n",
      "<MaxPooling1D name=max_pooling1d_8, built=True> False\n",
      "<Conv1D name=conv1d_10, built=True> True\n",
      "<BatchNormalization name=batch_normalization_10, built=True> True\n",
      "<GlobalAveragePooling1D name=global_average_pooling1d_1, built=True> True\n",
      "<Dense name=dense_2, built=True> True\n",
      "<Dense name=dense_3, built=True> True\n"
     ]
    },
    {
     "name": "stderr",
     "output_type": "stream",
     "text": [
      "/home/workstation/Escritorio/PabloC/TransferLearning/.venv/lib/python3.10/site-packages/keras/src/saving/saving_lib.py:719: UserWarning: Skipping variable loading for optimizer 'rmsprop', because it has 30 variables whereas the saved optimizer has 2 variables. \n",
      "  saveable.load_own_variables(weights_store.get(inner_path))\n"
     ]
    },
    {
     "name": "stdout",
     "output_type": "stream",
     "text": [
      "[MODELO CONGELADO]: 43.528794288635254\n"
     ]
    },
    {
     "name": "stderr",
     "output_type": "stream",
     "text": [
      "/home/workstation/Escritorio/PabloC/TransferLearning/funcionesComunes.py:247: FutureWarning: The behavior of DataFrame concatenation with empty or all-NA entries is deprecated. In a future version, this will no longer exclude empty or all-NA columns when determining the result dtypes. To retain the old behavior, exclude the relevant entries before the concat operation.\n",
      "  predictionsDF = pd.concat([predictionsDF, tempDF], ignore_index=True)\n",
      "/home/workstation/Escritorio/PabloC/TransferLearning/funcionesComunes.py:247: FutureWarning: The behavior of DataFrame concatenation with empty or all-NA entries is deprecated. In a future version, this will no longer exclude empty or all-NA columns when determining the result dtypes. To retain the old behavior, exclude the relevant entries before the concat operation.\n",
      "  predictionsDF = pd.concat([predictionsDF, tempDF], ignore_index=True)\n",
      "/home/workstation/Escritorio/PabloC/TransferLearning/funcionesComunes.py:247: FutureWarning: The behavior of DataFrame concatenation with empty or all-NA entries is deprecated. In a future version, this will no longer exclude empty or all-NA columns when determining the result dtypes. To retain the old behavior, exclude the relevant entries before the concat operation.\n",
      "  predictionsDF = pd.concat([predictionsDF, tempDF], ignore_index=True)\n"
     ]
    },
    {
     "name": "stdout",
     "output_type": "stream",
     "text": [
      "RESULTADOS DE MSE, RMSE, R2, MAPE (Train): 280.51385326329915, 16.74854779565378, 0.27969903881025293, 48.39217501464634\n",
      "RESULTADOS DE MSE, RMSE, R2, MAPE (Val): 235.685978414809, 15.352067561563459, 0.2520849302154742, 44.19991344588264\n",
      "RESULTADOS DE MSE, RMSE, R2, MAPE (Test): 436.04993570990837, 20.881808726973542, 0.28825278018929656, 48.82739551712465\n",
      "Cedrus deodara Juniperus spp. \n",
      "(37273, 77)\n",
      "SE HA NORMALIZADO EL ARCHIVO: Cedrus deodara_merged.csv\n",
      "(22017, 4, 43) (7410, 4, 43) (6282, 4, 43)\n",
      "<Conv1D name=conv1d_5, built=True> False\n",
      "<BatchNormalization name=batch_normalization_5, built=True> False\n",
      "<MaxPooling1D name=max_pooling1d_4, built=True> False\n",
      "<Conv1D name=conv1d_6, built=True> False\n",
      "<BatchNormalization name=batch_normalization_6, built=True> False\n",
      "<MaxPooling1D name=max_pooling1d_5, built=True> False\n",
      "<Dropout name=dropout_1, built=True> True\n",
      "<Conv1D name=conv1d_7, built=True> False\n",
      "<BatchNormalization name=batch_normalization_7, built=True> False\n",
      "<MaxPooling1D name=max_pooling1d_6, built=True> False\n",
      "<Conv1D name=conv1d_8, built=True> False\n",
      "<BatchNormalization name=batch_normalization_8, built=True> False\n",
      "<MaxPooling1D name=max_pooling1d_7, built=True> False\n",
      "<Conv1D name=conv1d_9, built=True> False\n",
      "<BatchNormalization name=batch_normalization_9, built=True> False\n",
      "<MaxPooling1D name=max_pooling1d_8, built=True> False\n",
      "<Conv1D name=conv1d_10, built=True> True\n",
      "<BatchNormalization name=batch_normalization_10, built=True> True\n",
      "<GlobalAveragePooling1D name=global_average_pooling1d_1, built=True> True\n",
      "<Dense name=dense_2, built=True> True\n",
      "<Dense name=dense_3, built=True> True\n"
     ]
    },
    {
     "name": "stderr",
     "output_type": "stream",
     "text": [
      "/home/workstation/Escritorio/PabloC/TransferLearning/.venv/lib/python3.10/site-packages/keras/src/saving/saving_lib.py:719: UserWarning: Skipping variable loading for optimizer 'rmsprop', because it has 30 variables whereas the saved optimizer has 2 variables. \n",
      "  saveable.load_own_variables(weights_store.get(inner_path))\n"
     ]
    },
    {
     "name": "stdout",
     "output_type": "stream",
     "text": [
      "[MODELO CONGELADO]: 81.44249534606934\n"
     ]
    },
    {
     "name": "stderr",
     "output_type": "stream",
     "text": [
      "/home/workstation/Escritorio/PabloC/TransferLearning/funcionesComunes.py:247: FutureWarning: The behavior of DataFrame concatenation with empty or all-NA entries is deprecated. In a future version, this will no longer exclude empty or all-NA columns when determining the result dtypes. To retain the old behavior, exclude the relevant entries before the concat operation.\n",
      "  predictionsDF = pd.concat([predictionsDF, tempDF], ignore_index=True)\n",
      "/home/workstation/Escritorio/PabloC/TransferLearning/funcionesComunes.py:247: FutureWarning: The behavior of DataFrame concatenation with empty or all-NA entries is deprecated. In a future version, this will no longer exclude empty or all-NA columns when determining the result dtypes. To retain the old behavior, exclude the relevant entries before the concat operation.\n",
      "  predictionsDF = pd.concat([predictionsDF, tempDF], ignore_index=True)\n",
      "/home/workstation/Escritorio/PabloC/TransferLearning/funcionesComunes.py:247: FutureWarning: The behavior of DataFrame concatenation with empty or all-NA entries is deprecated. In a future version, this will no longer exclude empty or all-NA columns when determining the result dtypes. To retain the old behavior, exclude the relevant entries before the concat operation.\n",
      "  predictionsDF = pd.concat([predictionsDF, tempDF], ignore_index=True)\n"
     ]
    },
    {
     "name": "stdout",
     "output_type": "stream",
     "text": [
      "RESULTADOS DE MSE, RMSE, R2, MAPE (Train): 222.354557326168, 14.911557843705264, 0.4794216556892772, 39.69529017267395\n",
      "RESULTADOS DE MSE, RMSE, R2, MAPE (Val): 275.42773140551424, 16.5960155279969, 0.3826431208828477, 42.41878093547593\n",
      "RESULTADOS DE MSE, RMSE, R2, MAPE (Test): 177.7723953293244, 13.333131489988554, 0.4955780074162355, 38.40485897839507\n",
      "Juniperus spp. L. Juniperus spp. \n",
      "(7264, 77)\n",
      "SE HA NORMALIZADO EL ARCHIVO: Juniperus spp. L._merged.csv\n",
      "(4216, 4, 43) (1524, 4, 43) (1188, 4, 43)\n",
      "<Conv1D name=conv1d_5, built=True> False\n",
      "<BatchNormalization name=batch_normalization_5, built=True> False\n",
      "<MaxPooling1D name=max_pooling1d_4, built=True> False\n",
      "<Conv1D name=conv1d_6, built=True> False\n",
      "<BatchNormalization name=batch_normalization_6, built=True> False\n",
      "<MaxPooling1D name=max_pooling1d_5, built=True> False\n",
      "<Dropout name=dropout_1, built=True> True\n",
      "<Conv1D name=conv1d_7, built=True> False\n",
      "<BatchNormalization name=batch_normalization_7, built=True> False\n",
      "<MaxPooling1D name=max_pooling1d_6, built=True> False\n",
      "<Conv1D name=conv1d_8, built=True> False\n",
      "<BatchNormalization name=batch_normalization_8, built=True> False\n",
      "<MaxPooling1D name=max_pooling1d_7, built=True> False\n",
      "<Conv1D name=conv1d_9, built=True> False\n",
      "<BatchNormalization name=batch_normalization_9, built=True> False\n",
      "<MaxPooling1D name=max_pooling1d_8, built=True> False\n",
      "<Conv1D name=conv1d_10, built=True> True\n",
      "<BatchNormalization name=batch_normalization_10, built=True> True\n",
      "<GlobalAveragePooling1D name=global_average_pooling1d_1, built=True> True\n",
      "<Dense name=dense_2, built=True> True\n",
      "<Dense name=dense_3, built=True> True\n"
     ]
    },
    {
     "name": "stderr",
     "output_type": "stream",
     "text": [
      "/home/workstation/Escritorio/PabloC/TransferLearning/.venv/lib/python3.10/site-packages/keras/src/saving/saving_lib.py:719: UserWarning: Skipping variable loading for optimizer 'rmsprop', because it has 30 variables whereas the saved optimizer has 2 variables. \n",
      "  saveable.load_own_variables(weights_store.get(inner_path))\n"
     ]
    },
    {
     "name": "stdout",
     "output_type": "stream",
     "text": [
      "[MODELO CONGELADO]: 18.276390314102173\n"
     ]
    },
    {
     "name": "stderr",
     "output_type": "stream",
     "text": [
      "/home/workstation/Escritorio/PabloC/TransferLearning/funcionesComunes.py:247: FutureWarning: The behavior of DataFrame concatenation with empty or all-NA entries is deprecated. In a future version, this will no longer exclude empty or all-NA columns when determining the result dtypes. To retain the old behavior, exclude the relevant entries before the concat operation.\n",
      "  predictionsDF = pd.concat([predictionsDF, tempDF], ignore_index=True)\n",
      "/home/workstation/Escritorio/PabloC/TransferLearning/funcionesComunes.py:247: FutureWarning: The behavior of DataFrame concatenation with empty or all-NA entries is deprecated. In a future version, this will no longer exclude empty or all-NA columns when determining the result dtypes. To retain the old behavior, exclude the relevant entries before the concat operation.\n",
      "  predictionsDF = pd.concat([predictionsDF, tempDF], ignore_index=True)\n",
      "/home/workstation/Escritorio/PabloC/TransferLearning/funcionesComunes.py:247: FutureWarning: The behavior of DataFrame concatenation with empty or all-NA entries is deprecated. In a future version, this will no longer exclude empty or all-NA columns when determining the result dtypes. To retain the old behavior, exclude the relevant entries before the concat operation.\n",
      "  predictionsDF = pd.concat([predictionsDF, tempDF], ignore_index=True)\n"
     ]
    },
    {
     "name": "stdout",
     "output_type": "stream",
     "text": [
      "RESULTADOS DE MSE, RMSE, R2, MAPE (Train): 2.2619124331887637, 1.5039655691500267, 0.8195376330727218, 26.581031895556634\n",
      "RESULTADOS DE MSE, RMSE, R2, MAPE (Val): 0.7722581103650729, 0.8787821745831403, 0.6573310299986278, 29.119692652084456\n",
      "RESULTADOS DE MSE, RMSE, R2, MAPE (Test): 4.154306980840953, 2.0382117114865554, 0.780857866864654, 29.05528342931019\n",
      "Juniperus recurva Juniperus spp. \n",
      "(5316, 77)\n",
      "SE HA NORMALIZADO EL ARCHIVO: Juniperus recurva_merged.csv\n",
      "(3188, 4, 43) (1082, 4, 43) (810, 4, 43)\n",
      "<Conv1D name=conv1d_5, built=True> False\n",
      "<BatchNormalization name=batch_normalization_5, built=True> False\n",
      "<MaxPooling1D name=max_pooling1d_4, built=True> False\n",
      "<Conv1D name=conv1d_6, built=True> False\n",
      "<BatchNormalization name=batch_normalization_6, built=True> False\n",
      "<MaxPooling1D name=max_pooling1d_5, built=True> False\n",
      "<Dropout name=dropout_1, built=True> True\n",
      "<Conv1D name=conv1d_7, built=True> False\n",
      "<BatchNormalization name=batch_normalization_7, built=True> False\n",
      "<MaxPooling1D name=max_pooling1d_6, built=True> False\n",
      "<Conv1D name=conv1d_8, built=True> False\n",
      "<BatchNormalization name=batch_normalization_8, built=True> False\n",
      "<MaxPooling1D name=max_pooling1d_7, built=True> False\n",
      "<Conv1D name=conv1d_9, built=True> False\n",
      "<BatchNormalization name=batch_normalization_9, built=True> False\n",
      "<MaxPooling1D name=max_pooling1d_8, built=True> False\n",
      "<Conv1D name=conv1d_10, built=True> True\n",
      "<BatchNormalization name=batch_normalization_10, built=True> True\n",
      "<GlobalAveragePooling1D name=global_average_pooling1d_1, built=True> True\n",
      "<Dense name=dense_2, built=True> True\n",
      "<Dense name=dense_3, built=True> True\n"
     ]
    },
    {
     "name": "stderr",
     "output_type": "stream",
     "text": [
      "/home/workstation/Escritorio/PabloC/TransferLearning/.venv/lib/python3.10/site-packages/keras/src/saving/saving_lib.py:719: UserWarning: Skipping variable loading for optimizer 'rmsprop', because it has 30 variables whereas the saved optimizer has 2 variables. \n",
      "  saveable.load_own_variables(weights_store.get(inner_path))\n"
     ]
    },
    {
     "name": "stdout",
     "output_type": "stream",
     "text": [
      "[MODELO CONGELADO]: 12.50130844116211\n"
     ]
    },
    {
     "name": "stderr",
     "output_type": "stream",
     "text": [
      "/home/workstation/Escritorio/PabloC/TransferLearning/funcionesComunes.py:247: FutureWarning: The behavior of DataFrame concatenation with empty or all-NA entries is deprecated. In a future version, this will no longer exclude empty or all-NA columns when determining the result dtypes. To retain the old behavior, exclude the relevant entries before the concat operation.\n",
      "  predictionsDF = pd.concat([predictionsDF, tempDF], ignore_index=True)\n",
      "/home/workstation/Escritorio/PabloC/TransferLearning/funcionesComunes.py:247: FutureWarning: The behavior of DataFrame concatenation with empty or all-NA entries is deprecated. In a future version, this will no longer exclude empty or all-NA columns when determining the result dtypes. To retain the old behavior, exclude the relevant entries before the concat operation.\n",
      "  predictionsDF = pd.concat([predictionsDF, tempDF], ignore_index=True)\n",
      "/home/workstation/Escritorio/PabloC/TransferLearning/funcionesComunes.py:247: FutureWarning: The behavior of DataFrame concatenation with empty or all-NA entries is deprecated. In a future version, this will no longer exclude empty or all-NA columns when determining the result dtypes. To retain the old behavior, exclude the relevant entries before the concat operation.\n",
      "  predictionsDF = pd.concat([predictionsDF, tempDF], ignore_index=True)\n"
     ]
    },
    {
     "name": "stdout",
     "output_type": "stream",
     "text": [
      "RESULTADOS DE MSE, RMSE, R2, MAPE (Train): 10.834245036975812, 3.2915414378336196, 0.5694871631992275, 37.189574011455846\n",
      "RESULTADOS DE MSE, RMSE, R2, MAPE (Val): 8.053503161565349, 2.8378694757802636, 0.7075658927824966, 30.55779770756997\n",
      "RESULTADOS DE MSE, RMSE, R2, MAPE (Test): 3.4029866104388438, 1.8447185721510053, 0.6382208400223196, 28.40403751480806\n",
      "totalMerged.csv Juniperus spp. \n",
      "Juniperus spp.  Juniperus spp. \n",
      "Procesando el modelo: model_Juniperus recurva.keras\n",
      "Abies spectabilis Juniperus recurva\n",
      "(96429, 77)\n",
      "SE HA NORMALIZADO EL ARCHIVO: Abies spectabilis_merged.csv\n",
      "(56618, 4, 43) (19637, 4, 43) (15689, 4, 43)\n"
     ]
    },
    {
     "name": "stderr",
     "output_type": "stream",
     "text": [
      "/home/workstation/Escritorio/PabloC/TransferLearning/.venv/lib/python3.10/site-packages/keras/src/saving/saving_lib.py:719: UserWarning: Skipping variable loading for optimizer 'adam', because it has 66 variables whereas the saved optimizer has 2 variables. \n",
      "  saveable.load_own_variables(weights_store.get(inner_path))\n"
     ]
    },
    {
     "name": "stdout",
     "output_type": "stream",
     "text": [
      "<Conv1D name=conv1d_6, built=True> False\n",
      "<BatchNormalization name=batch_normalization_6, built=True> False\n",
      "<MaxPooling1D name=max_pooling1d_5, built=True> False\n",
      "<Conv1D name=conv1d_7, built=True> False\n",
      "<BatchNormalization name=batch_normalization_7, built=True> False\n",
      "<MaxPooling1D name=max_pooling1d_6, built=True> False\n",
      "<Conv1D name=conv1d_8, built=True> False\n",
      "<BatchNormalization name=batch_normalization_8, built=True> False\n",
      "<MaxPooling1D name=max_pooling1d_7, built=True> False\n",
      "<Dropout name=dropout_1, built=True> True\n",
      "<Conv1D name=conv1d_9, built=True> False\n",
      "<BatchNormalization name=batch_normalization_9, built=True> False\n",
      "<MaxPooling1D name=max_pooling1d_8, built=True> False\n",
      "<Conv1D name=conv1d_10, built=True> False\n",
      "<BatchNormalization name=batch_normalization_10, built=True> False\n",
      "<MaxPooling1D name=max_pooling1d_9, built=True> False\n",
      "<Conv1D name=conv1d_11, built=True> False\n",
      "<BatchNormalization name=batch_normalization_11, built=True> False\n",
      "<MaxPooling1D name=max_pooling1d_10, built=True> False\n",
      "<Conv1D name=conv1d_12, built=True> True\n",
      "<BatchNormalization name=batch_normalization_12, built=True> True\n",
      "<GlobalAveragePooling1D name=global_average_pooling1d_1, built=True> True\n",
      "<Dense name=dense_2, built=True> True\n",
      "<Dense name=dense_3, built=True> True\n",
      "[MODELO CONGELADO]: 251.60696935653687\n"
     ]
    },
    {
     "name": "stderr",
     "output_type": "stream",
     "text": [
      "/home/workstation/Escritorio/PabloC/TransferLearning/funcionesComunes.py:247: FutureWarning: The behavior of DataFrame concatenation with empty or all-NA entries is deprecated. In a future version, this will no longer exclude empty or all-NA columns when determining the result dtypes. To retain the old behavior, exclude the relevant entries before the concat operation.\n",
      "  predictionsDF = pd.concat([predictionsDF, tempDF], ignore_index=True)\n",
      "/home/workstation/Escritorio/PabloC/TransferLearning/funcionesComunes.py:247: FutureWarning: The behavior of DataFrame concatenation with empty or all-NA entries is deprecated. In a future version, this will no longer exclude empty or all-NA columns when determining the result dtypes. To retain the old behavior, exclude the relevant entries before the concat operation.\n",
      "  predictionsDF = pd.concat([predictionsDF, tempDF], ignore_index=True)\n",
      "/home/workstation/Escritorio/PabloC/TransferLearning/funcionesComunes.py:247: FutureWarning: The behavior of DataFrame concatenation with empty or all-NA entries is deprecated. In a future version, this will no longer exclude empty or all-NA columns when determining the result dtypes. To retain the old behavior, exclude the relevant entries before the concat operation.\n",
      "  predictionsDF = pd.concat([predictionsDF, tempDF], ignore_index=True)\n"
     ]
    },
    {
     "name": "stdout",
     "output_type": "stream",
     "text": [
      "RESULTADOS DE MSE, RMSE, R2, MAPE (Train): 72.67742320870282, 8.525105466133708, 0.36236773808176126, 45.5746532734546\n",
      "RESULTADOS DE MSE, RMSE, R2, MAPE (Val): 69.50773354402047, 8.337129814511734, 0.36667019829128455, 44.9727703537218\n",
      "RESULTADOS DE MSE, RMSE, R2, MAPE (Test): 73.40347214411247, 8.56758263129761, 0.45562106398650404, 43.93256852104067\n",
      "Picea smithiana Juniperus recurva\n",
      "(34476, 77)\n",
      "SE HA NORMALIZADO EL ARCHIVO: Picea smithiana_merged.csv\n",
      "(19933, 4, 43) (7272, 4, 43) (5863, 4, 43)\n",
      "<Conv1D name=conv1d_6, built=True> False\n",
      "<BatchNormalization name=batch_normalization_6, built=True> False\n",
      "<MaxPooling1D name=max_pooling1d_5, built=True> False\n",
      "<Conv1D name=conv1d_7, built=True> False\n",
      "<BatchNormalization name=batch_normalization_7, built=True> False\n",
      "<MaxPooling1D name=max_pooling1d_6, built=True> False\n",
      "<Conv1D name=conv1d_8, built=True> False\n",
      "<BatchNormalization name=batch_normalization_8, built=True> False\n",
      "<MaxPooling1D name=max_pooling1d_7, built=True> False\n",
      "<Dropout name=dropout_1, built=True> True\n",
      "<Conv1D name=conv1d_9, built=True> False\n",
      "<BatchNormalization name=batch_normalization_9, built=True> False\n",
      "<MaxPooling1D name=max_pooling1d_8, built=True> False\n",
      "<Conv1D name=conv1d_10, built=True> False\n",
      "<BatchNormalization name=batch_normalization_10, built=True> False\n",
      "<MaxPooling1D name=max_pooling1d_9, built=True> False\n",
      "<Conv1D name=conv1d_11, built=True> False\n",
      "<BatchNormalization name=batch_normalization_11, built=True> False\n",
      "<MaxPooling1D name=max_pooling1d_10, built=True> False\n",
      "<Conv1D name=conv1d_12, built=True> True\n",
      "<BatchNormalization name=batch_normalization_12, built=True> True\n",
      "<GlobalAveragePooling1D name=global_average_pooling1d_1, built=True> True\n",
      "<Dense name=dense_2, built=True> True\n",
      "<Dense name=dense_3, built=True> True\n"
     ]
    },
    {
     "name": "stderr",
     "output_type": "stream",
     "text": [
      "/home/workstation/Escritorio/PabloC/TransferLearning/.venv/lib/python3.10/site-packages/keras/src/saving/saving_lib.py:719: UserWarning: Skipping variable loading for optimizer 'adam', because it has 66 variables whereas the saved optimizer has 2 variables. \n",
      "  saveable.load_own_variables(weights_store.get(inner_path))\n"
     ]
    },
    {
     "name": "stdout",
     "output_type": "stream",
     "text": [
      "[MODELO CONGELADO]: 61.648704528808594\n"
     ]
    },
    {
     "name": "stderr",
     "output_type": "stream",
     "text": [
      "/home/workstation/Escritorio/PabloC/TransferLearning/funcionesComunes.py:247: FutureWarning: The behavior of DataFrame concatenation with empty or all-NA entries is deprecated. In a future version, this will no longer exclude empty or all-NA columns when determining the result dtypes. To retain the old behavior, exclude the relevant entries before the concat operation.\n",
      "  predictionsDF = pd.concat([predictionsDF, tempDF], ignore_index=True)\n",
      "/home/workstation/Escritorio/PabloC/TransferLearning/funcionesComunes.py:247: FutureWarning: The behavior of DataFrame concatenation with empty or all-NA entries is deprecated. In a future version, this will no longer exclude empty or all-NA columns when determining the result dtypes. To retain the old behavior, exclude the relevant entries before the concat operation.\n",
      "  predictionsDF = pd.concat([predictionsDF, tempDF], ignore_index=True)\n",
      "/home/workstation/Escritorio/PabloC/TransferLearning/funcionesComunes.py:247: FutureWarning: The behavior of DataFrame concatenation with empty or all-NA entries is deprecated. In a future version, this will no longer exclude empty or all-NA columns when determining the result dtypes. To retain the old behavior, exclude the relevant entries before the concat operation.\n",
      "  predictionsDF = pd.concat([predictionsDF, tempDF], ignore_index=True)\n"
     ]
    },
    {
     "name": "stdout",
     "output_type": "stream",
     "text": [
      "RESULTADOS DE MSE, RMSE, R2, MAPE (Train): 220.61314902367127, 14.853051842085224, 0.35347689814692873, 43.2508830812018\n",
      "RESULTADOS DE MSE, RMSE, R2, MAPE (Val): 267.47980710482636, 16.354809907327763, 0.22812424539303477, 46.57851699411593\n",
      "RESULTADOS DE MSE, RMSE, R2, MAPE (Test): 237.7240978278965, 15.418303986752125, 0.1972159258239421, 47.71269602024229\n",
      "Abies pindrow Juniperus recurva\n",
      "(16018, 77)\n",
      "SE HA NORMALIZADO EL ARCHIVO: Abies pindrow_merged.csv\n",
      "(9042, 4, 43) (3441, 4, 43) (2815, 4, 43)\n",
      "<Conv1D name=conv1d_6, built=True> False\n",
      "<BatchNormalization name=batch_normalization_6, built=True> False\n",
      "<MaxPooling1D name=max_pooling1d_5, built=True> False\n",
      "<Conv1D name=conv1d_7, built=True> False\n",
      "<BatchNormalization name=batch_normalization_7, built=True> False\n",
      "<MaxPooling1D name=max_pooling1d_6, built=True> False\n",
      "<Conv1D name=conv1d_8, built=True> False\n",
      "<BatchNormalization name=batch_normalization_8, built=True> False\n",
      "<MaxPooling1D name=max_pooling1d_7, built=True> False\n",
      "<Dropout name=dropout_1, built=True> True\n",
      "<Conv1D name=conv1d_9, built=True> False\n",
      "<BatchNormalization name=batch_normalization_9, built=True> False\n",
      "<MaxPooling1D name=max_pooling1d_8, built=True> False\n",
      "<Conv1D name=conv1d_10, built=True> False\n",
      "<BatchNormalization name=batch_normalization_10, built=True> False\n",
      "<MaxPooling1D name=max_pooling1d_9, built=True> False\n",
      "<Conv1D name=conv1d_11, built=True> False\n",
      "<BatchNormalization name=batch_normalization_11, built=True> False\n",
      "<MaxPooling1D name=max_pooling1d_10, built=True> False\n",
      "<Conv1D name=conv1d_12, built=True> True\n",
      "<BatchNormalization name=batch_normalization_12, built=True> True\n",
      "<GlobalAveragePooling1D name=global_average_pooling1d_1, built=True> True\n",
      "<Dense name=dense_2, built=True> True\n",
      "<Dense name=dense_3, built=True> True\n"
     ]
    },
    {
     "name": "stderr",
     "output_type": "stream",
     "text": [
      "/home/workstation/Escritorio/PabloC/TransferLearning/.venv/lib/python3.10/site-packages/keras/src/saving/saving_lib.py:719: UserWarning: Skipping variable loading for optimizer 'adam', because it has 66 variables whereas the saved optimizer has 2 variables. \n",
      "  saveable.load_own_variables(weights_store.get(inner_path))\n"
     ]
    },
    {
     "name": "stdout",
     "output_type": "stream",
     "text": [
      "[MODELO CONGELADO]: 45.76846957206726\n"
     ]
    },
    {
     "name": "stderr",
     "output_type": "stream",
     "text": [
      "/home/workstation/Escritorio/PabloC/TransferLearning/funcionesComunes.py:247: FutureWarning: The behavior of DataFrame concatenation with empty or all-NA entries is deprecated. In a future version, this will no longer exclude empty or all-NA columns when determining the result dtypes. To retain the old behavior, exclude the relevant entries before the concat operation.\n",
      "  predictionsDF = pd.concat([predictionsDF, tempDF], ignore_index=True)\n",
      "/home/workstation/Escritorio/PabloC/TransferLearning/funcionesComunes.py:247: FutureWarning: The behavior of DataFrame concatenation with empty or all-NA entries is deprecated. In a future version, this will no longer exclude empty or all-NA columns when determining the result dtypes. To retain the old behavior, exclude the relevant entries before the concat operation.\n",
      "  predictionsDF = pd.concat([predictionsDF, tempDF], ignore_index=True)\n",
      "/home/workstation/Escritorio/PabloC/TransferLearning/funcionesComunes.py:247: FutureWarning: The behavior of DataFrame concatenation with empty or all-NA entries is deprecated. In a future version, this will no longer exclude empty or all-NA columns when determining the result dtypes. To retain the old behavior, exclude the relevant entries before the concat operation.\n",
      "  predictionsDF = pd.concat([predictionsDF, tempDF], ignore_index=True)\n"
     ]
    },
    {
     "name": "stdout",
     "output_type": "stream",
     "text": [
      "RESULTADOS DE MSE, RMSE, R2, MAPE (Train): 163.8078435374933, 12.798743826543811, 0.2968844022720537, 43.038953709347005\n",
      "RESULTADOS DE MSE, RMSE, R2, MAPE (Val): 153.34730972625084, 12.383348082253477, 0.12523208175328537, 41.306331993874785\n",
      "RESULTADOS DE MSE, RMSE, R2, MAPE (Test): 207.39840424169654, 14.401333418878147, -0.46624811277811595, 48.254648558759165\n",
      "Juniperus excelsa M.-Bieb Juniperus recurva\n",
      "(7449, 77)\n",
      "SE HA NORMALIZADO EL ARCHIVO: Juniperus excelsa M.-Bieb_merged.csv\n",
      "(4189, 4, 43) (1707, 4, 43) (1228, 4, 43)\n",
      "<Conv1D name=conv1d_6, built=True> False\n",
      "<BatchNormalization name=batch_normalization_6, built=True> False\n",
      "<MaxPooling1D name=max_pooling1d_5, built=True> False\n",
      "<Conv1D name=conv1d_7, built=True> False\n",
      "<BatchNormalization name=batch_normalization_7, built=True> False\n",
      "<MaxPooling1D name=max_pooling1d_6, built=True> False\n",
      "<Conv1D name=conv1d_8, built=True> False\n",
      "<BatchNormalization name=batch_normalization_8, built=True> False\n",
      "<MaxPooling1D name=max_pooling1d_7, built=True> False\n",
      "<Dropout name=dropout_1, built=True> True\n",
      "<Conv1D name=conv1d_9, built=True> False\n",
      "<BatchNormalization name=batch_normalization_9, built=True> False\n",
      "<MaxPooling1D name=max_pooling1d_8, built=True> False\n",
      "<Conv1D name=conv1d_10, built=True> False\n",
      "<BatchNormalization name=batch_normalization_10, built=True> False\n",
      "<MaxPooling1D name=max_pooling1d_9, built=True> False\n",
      "<Conv1D name=conv1d_11, built=True> False\n",
      "<BatchNormalization name=batch_normalization_11, built=True> False\n",
      "<MaxPooling1D name=max_pooling1d_10, built=True> False\n",
      "<Conv1D name=conv1d_12, built=True> True\n",
      "<BatchNormalization name=batch_normalization_12, built=True> True\n",
      "<GlobalAveragePooling1D name=global_average_pooling1d_1, built=True> True\n",
      "<Dense name=dense_2, built=True> True\n",
      "<Dense name=dense_3, built=True> True\n"
     ]
    },
    {
     "name": "stderr",
     "output_type": "stream",
     "text": [
      "/home/workstation/Escritorio/PabloC/TransferLearning/.venv/lib/python3.10/site-packages/keras/src/saving/saving_lib.py:719: UserWarning: Skipping variable loading for optimizer 'adam', because it has 66 variables whereas the saved optimizer has 2 variables. \n",
      "  saveable.load_own_variables(weights_store.get(inner_path))\n"
     ]
    },
    {
     "name": "stdout",
     "output_type": "stream",
     "text": [
      "[MODELO CONGELADO]: 8.24290418624878\n"
     ]
    },
    {
     "name": "stderr",
     "output_type": "stream",
     "text": [
      "/home/workstation/Escritorio/PabloC/TransferLearning/funcionesComunes.py:247: FutureWarning: The behavior of DataFrame concatenation with empty or all-NA entries is deprecated. In a future version, this will no longer exclude empty or all-NA columns when determining the result dtypes. To retain the old behavior, exclude the relevant entries before the concat operation.\n",
      "  predictionsDF = pd.concat([predictionsDF, tempDF], ignore_index=True)\n",
      "/home/workstation/Escritorio/PabloC/TransferLearning/funcionesComunes.py:247: FutureWarning: The behavior of DataFrame concatenation with empty or all-NA entries is deprecated. In a future version, this will no longer exclude empty or all-NA columns when determining the result dtypes. To retain the old behavior, exclude the relevant entries before the concat operation.\n",
      "  predictionsDF = pd.concat([predictionsDF, tempDF], ignore_index=True)\n",
      "/home/workstation/Escritorio/PabloC/TransferLearning/funcionesComunes.py:247: FutureWarning: The behavior of DataFrame concatenation with empty or all-NA entries is deprecated. In a future version, this will no longer exclude empty or all-NA columns when determining the result dtypes. To retain the old behavior, exclude the relevant entries before the concat operation.\n",
      "  predictionsDF = pd.concat([predictionsDF, tempDF], ignore_index=True)\n"
     ]
    },
    {
     "name": "stdout",
     "output_type": "stream",
     "text": [
      "RESULTADOS DE MSE, RMSE, R2, MAPE (Train): 19.688244499104126, 4.437143732076315, 0.19971218466207308, 48.96026469528144\n",
      "RESULTADOS DE MSE, RMSE, R2, MAPE (Val): 23.901658276720838, 4.88893222255339, 0.08848046589539604, 56.65419054573007\n",
      "RESULTADOS DE MSE, RMSE, R2, MAPE (Test): 81.54821425166185, 9.03040498824177, -0.20902004222731807, 69.99761697931378\n",
      "Juniperus turkestanica Komar. Juniperus recurva\n",
      "(6305, 77)\n",
      "SE HA NORMALIZADO EL ARCHIVO: Juniperus turkestanica Komar._merged.csv\n",
      "(3664, 4, 43) (1368, 4, 43) (1001, 4, 43)\n",
      "<Conv1D name=conv1d_6, built=True> False\n",
      "<BatchNormalization name=batch_normalization_6, built=True> False\n",
      "<MaxPooling1D name=max_pooling1d_5, built=True> False\n",
      "<Conv1D name=conv1d_7, built=True> False\n",
      "<BatchNormalization name=batch_normalization_7, built=True> False\n",
      "<MaxPooling1D name=max_pooling1d_6, built=True> False\n",
      "<Conv1D name=conv1d_8, built=True> False\n",
      "<BatchNormalization name=batch_normalization_8, built=True> False\n",
      "<MaxPooling1D name=max_pooling1d_7, built=True> False\n",
      "<Dropout name=dropout_1, built=True> True\n",
      "<Conv1D name=conv1d_9, built=True> False\n",
      "<BatchNormalization name=batch_normalization_9, built=True> False\n",
      "<MaxPooling1D name=max_pooling1d_8, built=True> False\n",
      "<Conv1D name=conv1d_10, built=True> False\n",
      "<BatchNormalization name=batch_normalization_10, built=True> False\n",
      "<MaxPooling1D name=max_pooling1d_9, built=True> False\n",
      "<Conv1D name=conv1d_11, built=True> False\n",
      "<BatchNormalization name=batch_normalization_11, built=True> False\n",
      "<MaxPooling1D name=max_pooling1d_10, built=True> False\n",
      "<Conv1D name=conv1d_12, built=True> True\n",
      "<BatchNormalization name=batch_normalization_12, built=True> True\n",
      "<GlobalAveragePooling1D name=global_average_pooling1d_1, built=True> True\n",
      "<Dense name=dense_2, built=True> True\n",
      "<Dense name=dense_3, built=True> True\n"
     ]
    },
    {
     "name": "stderr",
     "output_type": "stream",
     "text": [
      "/home/workstation/Escritorio/PabloC/TransferLearning/.venv/lib/python3.10/site-packages/keras/src/saving/saving_lib.py:719: UserWarning: Skipping variable loading for optimizer 'adam', because it has 66 variables whereas the saved optimizer has 2 variables. \n",
      "  saveable.load_own_variables(weights_store.get(inner_path))\n"
     ]
    },
    {
     "name": "stdout",
     "output_type": "stream",
     "text": [
      "[MODELO CONGELADO]: 16.798022270202637\n"
     ]
    },
    {
     "name": "stderr",
     "output_type": "stream",
     "text": [
      "/home/workstation/Escritorio/PabloC/TransferLearning/funcionesComunes.py:247: FutureWarning: The behavior of DataFrame concatenation with empty or all-NA entries is deprecated. In a future version, this will no longer exclude empty or all-NA columns when determining the result dtypes. To retain the old behavior, exclude the relevant entries before the concat operation.\n",
      "  predictionsDF = pd.concat([predictionsDF, tempDF], ignore_index=True)\n",
      "/home/workstation/Escritorio/PabloC/TransferLearning/funcionesComunes.py:247: FutureWarning: The behavior of DataFrame concatenation with empty or all-NA entries is deprecated. In a future version, this will no longer exclude empty or all-NA columns when determining the result dtypes. To retain the old behavior, exclude the relevant entries before the concat operation.\n",
      "  predictionsDF = pd.concat([predictionsDF, tempDF], ignore_index=True)\n",
      "/home/workstation/Escritorio/PabloC/TransferLearning/funcionesComunes.py:247: FutureWarning: The behavior of DataFrame concatenation with empty or all-NA entries is deprecated. In a future version, this will no longer exclude empty or all-NA columns when determining the result dtypes. To retain the old behavior, exclude the relevant entries before the concat operation.\n",
      "  predictionsDF = pd.concat([predictionsDF, tempDF], ignore_index=True)\n"
     ]
    },
    {
     "name": "stdout",
     "output_type": "stream",
     "text": [
      "RESULTADOS DE MSE, RMSE, R2, MAPE (Train): 11.087165723460314, 3.3297395879348155, 0.7529970631793024, 33.983357535364455\n",
      "RESULTADOS DE MSE, RMSE, R2, MAPE (Val): 9.575676986182781, 3.0944590781237973, 0.4431484373260106, 42.80726403968758\n",
      "RESULTADOS DE MSE, RMSE, R2, MAPE (Test): 2.9311793961647, 1.7120687474995564, 0.4607448609785698, 34.74928903704518\n",
      "Pinus roxburghii Juniperus recurva\n",
      "(10635, 77)\n",
      "SE HA NORMALIZADO EL ARCHIVO: Pinus roxburghii_merged.csv\n",
      "(6309, 4, 43) (2167, 4, 43) (1647, 4, 43)\n",
      "<Conv1D name=conv1d_6, built=True> False\n",
      "<BatchNormalization name=batch_normalization_6, built=True> False\n",
      "<MaxPooling1D name=max_pooling1d_5, built=True> False\n",
      "<Conv1D name=conv1d_7, built=True> False\n",
      "<BatchNormalization name=batch_normalization_7, built=True> False\n",
      "<MaxPooling1D name=max_pooling1d_6, built=True> False\n",
      "<Conv1D name=conv1d_8, built=True> False\n",
      "<BatchNormalization name=batch_normalization_8, built=True> False\n",
      "<MaxPooling1D name=max_pooling1d_7, built=True> False\n",
      "<Dropout name=dropout_1, built=True> True\n",
      "<Conv1D name=conv1d_9, built=True> False\n",
      "<BatchNormalization name=batch_normalization_9, built=True> False\n",
      "<MaxPooling1D name=max_pooling1d_8, built=True> False\n",
      "<Conv1D name=conv1d_10, built=True> False\n",
      "<BatchNormalization name=batch_normalization_10, built=True> False\n",
      "<MaxPooling1D name=max_pooling1d_9, built=True> False\n",
      "<Conv1D name=conv1d_11, built=True> False\n",
      "<BatchNormalization name=batch_normalization_11, built=True> False\n",
      "<MaxPooling1D name=max_pooling1d_10, built=True> False\n",
      "<Conv1D name=conv1d_12, built=True> True\n",
      "<BatchNormalization name=batch_normalization_12, built=True> True\n",
      "<GlobalAveragePooling1D name=global_average_pooling1d_1, built=True> True\n",
      "<Dense name=dense_2, built=True> True\n",
      "<Dense name=dense_3, built=True> True\n"
     ]
    },
    {
     "name": "stderr",
     "output_type": "stream",
     "text": [
      "/home/workstation/Escritorio/PabloC/TransferLearning/.venv/lib/python3.10/site-packages/keras/src/saving/saving_lib.py:719: UserWarning: Skipping variable loading for optimizer 'adam', because it has 66 variables whereas the saved optimizer has 2 variables. \n",
      "  saveable.load_own_variables(weights_store.get(inner_path))\n"
     ]
    },
    {
     "name": "stdout",
     "output_type": "stream",
     "text": [
      "[MODELO CONGELADO]: 17.707075595855713\n"
     ]
    },
    {
     "name": "stderr",
     "output_type": "stream",
     "text": [
      "/home/workstation/Escritorio/PabloC/TransferLearning/funcionesComunes.py:247: FutureWarning: The behavior of DataFrame concatenation with empty or all-NA entries is deprecated. In a future version, this will no longer exclude empty or all-NA columns when determining the result dtypes. To retain the old behavior, exclude the relevant entries before the concat operation.\n",
      "  predictionsDF = pd.concat([predictionsDF, tempDF], ignore_index=True)\n",
      "/home/workstation/Escritorio/PabloC/TransferLearning/funcionesComunes.py:247: FutureWarning: The behavior of DataFrame concatenation with empty or all-NA entries is deprecated. In a future version, this will no longer exclude empty or all-NA columns when determining the result dtypes. To retain the old behavior, exclude the relevant entries before the concat operation.\n",
      "  predictionsDF = pd.concat([predictionsDF, tempDF], ignore_index=True)\n",
      "/home/workstation/Escritorio/PabloC/TransferLearning/funcionesComunes.py:247: FutureWarning: The behavior of DataFrame concatenation with empty or all-NA entries is deprecated. In a future version, this will no longer exclude empty or all-NA columns when determining the result dtypes. To retain the old behavior, exclude the relevant entries before the concat operation.\n",
      "  predictionsDF = pd.concat([predictionsDF, tempDF], ignore_index=True)\n"
     ]
    },
    {
     "name": "stdout",
     "output_type": "stream",
     "text": [
      "RESULTADOS DE MSE, RMSE, R2, MAPE (Train): 190.8682152967858, 13.815506335157817, 0.28442837294035384, 44.4203404698991\n",
      "RESULTADOS DE MSE, RMSE, R2, MAPE (Val): 150.37511534835667, 12.262753171631429, 0.32870750325027853, 43.89063637500675\n",
      "RESULTADOS DE MSE, RMSE, R2, MAPE (Test): 171.56746746246216, 13.098376520105923, 0.28006705596417625, 45.277735040947945\n",
      "Pinus wallichiana Juniperus recurva\n",
      "(9365, 77)\n",
      "SE HA NORMALIZADO EL ARCHIVO: Pinus wallichiana_merged.csv\n",
      "(5508, 4, 43) (1957, 4, 43) (1500, 4, 43)\n",
      "<Conv1D name=conv1d_6, built=True> False\n",
      "<BatchNormalization name=batch_normalization_6, built=True> False\n",
      "<MaxPooling1D name=max_pooling1d_5, built=True> False\n",
      "<Conv1D name=conv1d_7, built=True> False\n",
      "<BatchNormalization name=batch_normalization_7, built=True> False\n",
      "<MaxPooling1D name=max_pooling1d_6, built=True> False\n",
      "<Conv1D name=conv1d_8, built=True> False\n",
      "<BatchNormalization name=batch_normalization_8, built=True> False\n",
      "<MaxPooling1D name=max_pooling1d_7, built=True> False\n",
      "<Dropout name=dropout_1, built=True> True\n",
      "<Conv1D name=conv1d_9, built=True> False\n",
      "<BatchNormalization name=batch_normalization_9, built=True> False\n",
      "<MaxPooling1D name=max_pooling1d_8, built=True> False\n",
      "<Conv1D name=conv1d_10, built=True> False\n",
      "<BatchNormalization name=batch_normalization_10, built=True> False\n",
      "<MaxPooling1D name=max_pooling1d_9, built=True> False\n",
      "<Conv1D name=conv1d_11, built=True> False\n",
      "<BatchNormalization name=batch_normalization_11, built=True> False\n",
      "<MaxPooling1D name=max_pooling1d_10, built=True> False\n",
      "<Conv1D name=conv1d_12, built=True> True\n",
      "<BatchNormalization name=batch_normalization_12, built=True> True\n",
      "<GlobalAveragePooling1D name=global_average_pooling1d_1, built=True> True\n",
      "<Dense name=dense_2, built=True> True\n",
      "<Dense name=dense_3, built=True> True\n"
     ]
    },
    {
     "name": "stderr",
     "output_type": "stream",
     "text": [
      "/home/workstation/Escritorio/PabloC/TransferLearning/.venv/lib/python3.10/site-packages/keras/src/saving/saving_lib.py:719: UserWarning: Skipping variable loading for optimizer 'adam', because it has 66 variables whereas the saved optimizer has 2 variables. \n",
      "  saveable.load_own_variables(weights_store.get(inner_path))\n"
     ]
    },
    {
     "name": "stdout",
     "output_type": "stream",
     "text": [
      "[MODELO CONGELADO]: 28.841726779937744\n"
     ]
    },
    {
     "name": "stderr",
     "output_type": "stream",
     "text": [
      "/home/workstation/Escritorio/PabloC/TransferLearning/funcionesComunes.py:247: FutureWarning: The behavior of DataFrame concatenation with empty or all-NA entries is deprecated. In a future version, this will no longer exclude empty or all-NA columns when determining the result dtypes. To retain the old behavior, exclude the relevant entries before the concat operation.\n",
      "  predictionsDF = pd.concat([predictionsDF, tempDF], ignore_index=True)\n",
      "/home/workstation/Escritorio/PabloC/TransferLearning/funcionesComunes.py:247: FutureWarning: The behavior of DataFrame concatenation with empty or all-NA entries is deprecated. In a future version, this will no longer exclude empty or all-NA columns when determining the result dtypes. To retain the old behavior, exclude the relevant entries before the concat operation.\n",
      "  predictionsDF = pd.concat([predictionsDF, tempDF], ignore_index=True)\n",
      "/home/workstation/Escritorio/PabloC/TransferLearning/funcionesComunes.py:247: FutureWarning: The behavior of DataFrame concatenation with empty or all-NA entries is deprecated. In a future version, this will no longer exclude empty or all-NA columns when determining the result dtypes. To retain the old behavior, exclude the relevant entries before the concat operation.\n",
      "  predictionsDF = pd.concat([predictionsDF, tempDF], ignore_index=True)\n"
     ]
    },
    {
     "name": "stdout",
     "output_type": "stream",
     "text": [
      "RESULTADOS DE MSE, RMSE, R2, MAPE (Train): 27.73739399905596, 5.266630231851859, 0.588537895415341, 28.91059992842572\n",
      "RESULTADOS DE MSE, RMSE, R2, MAPE (Val): 26.87085135100908, 5.1837101916493245, 0.5505294857965837, 31.488928527257006\n",
      "RESULTADOS DE MSE, RMSE, R2, MAPE (Test): 29.682641704480645, 5.448177833411887, 0.2960133292586681, 34.94476568736409\n",
      "Pinus gerardiana Juniperus recurva\n",
      "(10101, 77)\n",
      "SE HA NORMALIZADO EL ARCHIVO: Pinus gerardiana_merged.csv\n",
      "(5767, 4, 43) (2181, 4, 43) (1745, 4, 43)\n",
      "<Conv1D name=conv1d_6, built=True> False\n",
      "<BatchNormalization name=batch_normalization_6, built=True> False\n",
      "<MaxPooling1D name=max_pooling1d_5, built=True> False\n",
      "<Conv1D name=conv1d_7, built=True> False\n",
      "<BatchNormalization name=batch_normalization_7, built=True> False\n",
      "<MaxPooling1D name=max_pooling1d_6, built=True> False\n",
      "<Conv1D name=conv1d_8, built=True> False\n",
      "<BatchNormalization name=batch_normalization_8, built=True> False\n",
      "<MaxPooling1D name=max_pooling1d_7, built=True> False\n",
      "<Dropout name=dropout_1, built=True> True\n",
      "<Conv1D name=conv1d_9, built=True> False\n",
      "<BatchNormalization name=batch_normalization_9, built=True> False\n",
      "<MaxPooling1D name=max_pooling1d_8, built=True> False\n",
      "<Conv1D name=conv1d_10, built=True> False\n",
      "<BatchNormalization name=batch_normalization_10, built=True> False\n",
      "<MaxPooling1D name=max_pooling1d_9, built=True> False\n",
      "<Conv1D name=conv1d_11, built=True> False\n",
      "<BatchNormalization name=batch_normalization_11, built=True> False\n",
      "<MaxPooling1D name=max_pooling1d_10, built=True> False\n",
      "<Conv1D name=conv1d_12, built=True> True\n",
      "<BatchNormalization name=batch_normalization_12, built=True> True\n",
      "<GlobalAveragePooling1D name=global_average_pooling1d_1, built=True> True\n",
      "<Dense name=dense_2, built=True> True\n",
      "<Dense name=dense_3, built=True> True\n"
     ]
    },
    {
     "name": "stderr",
     "output_type": "stream",
     "text": [
      "/home/workstation/Escritorio/PabloC/TransferLearning/.venv/lib/python3.10/site-packages/keras/src/saving/saving_lib.py:719: UserWarning: Skipping variable loading for optimizer 'adam', because it has 66 variables whereas the saved optimizer has 2 variables. \n",
      "  saveable.load_own_variables(weights_store.get(inner_path))\n"
     ]
    },
    {
     "name": "stdout",
     "output_type": "stream",
     "text": [
      "[MODELO CONGELADO]: 8.396374702453613\n"
     ]
    },
    {
     "name": "stderr",
     "output_type": "stream",
     "text": [
      "/home/workstation/Escritorio/PabloC/TransferLearning/funcionesComunes.py:247: FutureWarning: The behavior of DataFrame concatenation with empty or all-NA entries is deprecated. In a future version, this will no longer exclude empty or all-NA columns when determining the result dtypes. To retain the old behavior, exclude the relevant entries before the concat operation.\n",
      "  predictionsDF = pd.concat([predictionsDF, tempDF], ignore_index=True)\n",
      "/home/workstation/Escritorio/PabloC/TransferLearning/funcionesComunes.py:247: FutureWarning: The behavior of DataFrame concatenation with empty or all-NA entries is deprecated. In a future version, this will no longer exclude empty or all-NA columns when determining the result dtypes. To retain the old behavior, exclude the relevant entries before the concat operation.\n",
      "  predictionsDF = pd.concat([predictionsDF, tempDF], ignore_index=True)\n",
      "/home/workstation/Escritorio/PabloC/TransferLearning/funcionesComunes.py:247: FutureWarning: The behavior of DataFrame concatenation with empty or all-NA entries is deprecated. In a future version, this will no longer exclude empty or all-NA columns when determining the result dtypes. To retain the old behavior, exclude the relevant entries before the concat operation.\n",
      "  predictionsDF = pd.concat([predictionsDF, tempDF], ignore_index=True)\n"
     ]
    },
    {
     "name": "stdout",
     "output_type": "stream",
     "text": [
      "RESULTADOS DE MSE, RMSE, R2, MAPE (Train): 21.882509888466863, 4.677874505420903, 0.4362666123229716, 37.56514945799842\n",
      "RESULTADOS DE MSE, RMSE, R2, MAPE (Val): 23.650746764670927, 4.863203343956628, 0.40230582976928553, 37.101897331281194\n",
      "RESULTADOS DE MSE, RMSE, R2, MAPE (Test): 19.300621363466455, 4.393247245883898, 0.5195916251125481, 35.258139336251524\n",
      "Populus ciliata Juniperus recurva\n",
      "(1182, 77)\n",
      "SE HA NORMALIZADO EL ARCHIVO: Populus ciliata_merged.csv\n",
      "(705, 4, 43) (156, 4, 43) (265, 4, 43)\n"
     ]
    },
    {
     "name": "stderr",
     "output_type": "stream",
     "text": [
      "/home/workstation/Escritorio/PabloC/TransferLearning/.venv/lib/python3.10/site-packages/keras/src/saving/saving_lib.py:719: UserWarning: Skipping variable loading for optimizer 'adam', because it has 66 variables whereas the saved optimizer has 2 variables. \n",
      "  saveable.load_own_variables(weights_store.get(inner_path))\n"
     ]
    },
    {
     "name": "stdout",
     "output_type": "stream",
     "text": [
      "<Conv1D name=conv1d_6, built=True> False\n",
      "<BatchNormalization name=batch_normalization_6, built=True> False\n",
      "<MaxPooling1D name=max_pooling1d_5, built=True> False\n",
      "<Conv1D name=conv1d_7, built=True> False\n",
      "<BatchNormalization name=batch_normalization_7, built=True> False\n",
      "<MaxPooling1D name=max_pooling1d_6, built=True> False\n",
      "<Conv1D name=conv1d_8, built=True> False\n",
      "<BatchNormalization name=batch_normalization_8, built=True> False\n",
      "<MaxPooling1D name=max_pooling1d_7, built=True> False\n",
      "<Dropout name=dropout_1, built=True> True\n",
      "<Conv1D name=conv1d_9, built=True> False\n",
      "<BatchNormalization name=batch_normalization_9, built=True> False\n",
      "<MaxPooling1D name=max_pooling1d_8, built=True> False\n",
      "<Conv1D name=conv1d_10, built=True> False\n",
      "<BatchNormalization name=batch_normalization_10, built=True> False\n",
      "<MaxPooling1D name=max_pooling1d_9, built=True> False\n",
      "<Conv1D name=conv1d_11, built=True> False\n",
      "<BatchNormalization name=batch_normalization_11, built=True> False\n",
      "<MaxPooling1D name=max_pooling1d_10, built=True> False\n",
      "<Conv1D name=conv1d_12, built=True> True\n",
      "<BatchNormalization name=batch_normalization_12, built=True> True\n",
      "<GlobalAveragePooling1D name=global_average_pooling1d_1, built=True> True\n",
      "<Dense name=dense_2, built=True> True\n",
      "<Dense name=dense_3, built=True> True\n",
      "[MODELO CONGELADO]: 8.463813543319702\n"
     ]
    },
    {
     "name": "stderr",
     "output_type": "stream",
     "text": [
      "/home/workstation/Escritorio/PabloC/TransferLearning/funcionesComunes.py:247: FutureWarning: The behavior of DataFrame concatenation with empty or all-NA entries is deprecated. In a future version, this will no longer exclude empty or all-NA columns when determining the result dtypes. To retain the old behavior, exclude the relevant entries before the concat operation.\n",
      "  predictionsDF = pd.concat([predictionsDF, tempDF], ignore_index=True)\n",
      "/home/workstation/Escritorio/PabloC/TransferLearning/funcionesComunes.py:247: FutureWarning: The behavior of DataFrame concatenation with empty or all-NA entries is deprecated. In a future version, this will no longer exclude empty or all-NA columns when determining the result dtypes. To retain the old behavior, exclude the relevant entries before the concat operation.\n",
      "  predictionsDF = pd.concat([predictionsDF, tempDF], ignore_index=True)\n",
      "/home/workstation/Escritorio/PabloC/TransferLearning/funcionesComunes.py:247: FutureWarning: The behavior of DataFrame concatenation with empty or all-NA entries is deprecated. In a future version, this will no longer exclude empty or all-NA columns when determining the result dtypes. To retain the old behavior, exclude the relevant entries before the concat operation.\n",
      "  predictionsDF = pd.concat([predictionsDF, tempDF], ignore_index=True)\n"
     ]
    },
    {
     "name": "stdout",
     "output_type": "stream",
     "text": [
      "RESULTADOS DE MSE, RMSE, R2, MAPE (Train): 170.70022519456526, 13.065229626553268, 0.5300011211276554, 38.25056211289817\n",
      "RESULTADOS DE MSE, RMSE, R2, MAPE (Val): 223.92845218333147, 14.964239111405949, 0.04588686499083283, 45.73933098311838\n",
      "RESULTADOS DE MSE, RMSE, R2, MAPE (Test): 92.5447563794631, 9.620018522823285, 0.5375764627340118, 36.87551053207663\n",
      "Betula utilis Juniperus recurva\n",
      "(3473, 77)\n",
      "SE HA NORMALIZADO EL ARCHIVO: Betula utilis_merged.csv\n",
      "(2059, 4, 43) (665, 4, 43) (593, 4, 43)\n",
      "<Conv1D name=conv1d_6, built=True> False\n",
      "<BatchNormalization name=batch_normalization_6, built=True> False\n",
      "<MaxPooling1D name=max_pooling1d_5, built=True> False\n",
      "<Conv1D name=conv1d_7, built=True> False\n",
      "<BatchNormalization name=batch_normalization_7, built=True> False\n",
      "<MaxPooling1D name=max_pooling1d_6, built=True> False\n",
      "<Conv1D name=conv1d_8, built=True> False\n",
      "<BatchNormalization name=batch_normalization_8, built=True> False\n",
      "<MaxPooling1D name=max_pooling1d_7, built=True> False\n",
      "<Dropout name=dropout_1, built=True> True\n",
      "<Conv1D name=conv1d_9, built=True> False\n",
      "<BatchNormalization name=batch_normalization_9, built=True> False\n",
      "<MaxPooling1D name=max_pooling1d_8, built=True> False\n",
      "<Conv1D name=conv1d_10, built=True> False\n",
      "<BatchNormalization name=batch_normalization_10, built=True> False\n",
      "<MaxPooling1D name=max_pooling1d_9, built=True> False\n",
      "<Conv1D name=conv1d_11, built=True> False\n",
      "<BatchNormalization name=batch_normalization_11, built=True> False\n",
      "<MaxPooling1D name=max_pooling1d_10, built=True> False\n",
      "<Conv1D name=conv1d_12, built=True> True\n",
      "<BatchNormalization name=batch_normalization_12, built=True> True\n",
      "<GlobalAveragePooling1D name=global_average_pooling1d_1, built=True> True\n",
      "<Dense name=dense_2, built=True> True\n",
      "<Dense name=dense_3, built=True> True\n"
     ]
    },
    {
     "name": "stderr",
     "output_type": "stream",
     "text": [
      "/home/workstation/Escritorio/PabloC/TransferLearning/.venv/lib/python3.10/site-packages/keras/src/saving/saving_lib.py:719: UserWarning: Skipping variable loading for optimizer 'adam', because it has 66 variables whereas the saved optimizer has 2 variables. \n",
      "  saveable.load_own_variables(weights_store.get(inner_path))\n"
     ]
    },
    {
     "name": "stdout",
     "output_type": "stream",
     "text": [
      "[MODELO CONGELADO]: 7.464344024658203\n"
     ]
    },
    {
     "name": "stderr",
     "output_type": "stream",
     "text": [
      "/home/workstation/Escritorio/PabloC/TransferLearning/funcionesComunes.py:247: FutureWarning: The behavior of DataFrame concatenation with empty or all-NA entries is deprecated. In a future version, this will no longer exclude empty or all-NA columns when determining the result dtypes. To retain the old behavior, exclude the relevant entries before the concat operation.\n",
      "  predictionsDF = pd.concat([predictionsDF, tempDF], ignore_index=True)\n",
      "/home/workstation/Escritorio/PabloC/TransferLearning/funcionesComunes.py:247: FutureWarning: The behavior of DataFrame concatenation with empty or all-NA entries is deprecated. In a future version, this will no longer exclude empty or all-NA columns when determining the result dtypes. To retain the old behavior, exclude the relevant entries before the concat operation.\n",
      "  predictionsDF = pd.concat([predictionsDF, tempDF], ignore_index=True)\n",
      "/home/workstation/Escritorio/PabloC/TransferLearning/funcionesComunes.py:247: FutureWarning: The behavior of DataFrame concatenation with empty or all-NA entries is deprecated. In a future version, this will no longer exclude empty or all-NA columns when determining the result dtypes. To retain the old behavior, exclude the relevant entries before the concat operation.\n",
      "  predictionsDF = pd.concat([predictionsDF, tempDF], ignore_index=True)\n"
     ]
    },
    {
     "name": "stdout",
     "output_type": "stream",
     "text": [
      "RESULTADOS DE MSE, RMSE, R2, MAPE (Train): 5.5243865889627175, 2.3504013676312216, 0.1844608339113648, 59.32643335550739\n",
      "RESULTADOS DE MSE, RMSE, R2, MAPE (Val): 0.8175797818390766, 0.9042011843826996, 0.5742320572866992, 36.50449340740641\n",
      "RESULTADOS DE MSE, RMSE, R2, MAPE (Test): 0.8761575154929382, 0.9360328602634301, 0.6651766746772071, 39.37714124276199\n",
      "Tsuga dumosa Juniperus recurva\n",
      "(20493, 77)\n",
      "SE HA NORMALIZADO EL ARCHIVO: Tsuga dumosa_merged.csv\n",
      "(11935, 4, 43) (4144, 4, 43) (3469, 4, 43)\n",
      "<Conv1D name=conv1d_6, built=True> False\n",
      "<BatchNormalization name=batch_normalization_6, built=True> False\n",
      "<MaxPooling1D name=max_pooling1d_5, built=True> False\n",
      "<Conv1D name=conv1d_7, built=True> False\n",
      "<BatchNormalization name=batch_normalization_7, built=True> False\n",
      "<MaxPooling1D name=max_pooling1d_6, built=True> False\n",
      "<Conv1D name=conv1d_8, built=True> False\n",
      "<BatchNormalization name=batch_normalization_8, built=True> False\n",
      "<MaxPooling1D name=max_pooling1d_7, built=True> False\n",
      "<Dropout name=dropout_1, built=True> True\n",
      "<Conv1D name=conv1d_9, built=True> False\n",
      "<BatchNormalization name=batch_normalization_9, built=True> False\n",
      "<MaxPooling1D name=max_pooling1d_8, built=True> False\n",
      "<Conv1D name=conv1d_10, built=True> False\n",
      "<BatchNormalization name=batch_normalization_10, built=True> False\n",
      "<MaxPooling1D name=max_pooling1d_9, built=True> False\n",
      "<Conv1D name=conv1d_11, built=True> False\n",
      "<BatchNormalization name=batch_normalization_11, built=True> False\n",
      "<MaxPooling1D name=max_pooling1d_10, built=True> False\n",
      "<Conv1D name=conv1d_12, built=True> True\n",
      "<BatchNormalization name=batch_normalization_12, built=True> True\n",
      "<GlobalAveragePooling1D name=global_average_pooling1d_1, built=True> True\n",
      "<Dense name=dense_2, built=True> True\n",
      "<Dense name=dense_3, built=True> True\n"
     ]
    },
    {
     "name": "stderr",
     "output_type": "stream",
     "text": [
      "/home/workstation/Escritorio/PabloC/TransferLearning/.venv/lib/python3.10/site-packages/keras/src/saving/saving_lib.py:719: UserWarning: Skipping variable loading for optimizer 'adam', because it has 66 variables whereas the saved optimizer has 2 variables. \n",
      "  saveable.load_own_variables(weights_store.get(inner_path))\n"
     ]
    },
    {
     "name": "stdout",
     "output_type": "stream",
     "text": [
      "[MODELO CONGELADO]: 86.65196394920349\n"
     ]
    },
    {
     "name": "stderr",
     "output_type": "stream",
     "text": [
      "/home/workstation/Escritorio/PabloC/TransferLearning/funcionesComunes.py:247: FutureWarning: The behavior of DataFrame concatenation with empty or all-NA entries is deprecated. In a future version, this will no longer exclude empty or all-NA columns when determining the result dtypes. To retain the old behavior, exclude the relevant entries before the concat operation.\n",
      "  predictionsDF = pd.concat([predictionsDF, tempDF], ignore_index=True)\n",
      "/home/workstation/Escritorio/PabloC/TransferLearning/funcionesComunes.py:247: FutureWarning: The behavior of DataFrame concatenation with empty or all-NA entries is deprecated. In a future version, this will no longer exclude empty or all-NA columns when determining the result dtypes. To retain the old behavior, exclude the relevant entries before the concat operation.\n",
      "  predictionsDF = pd.concat([predictionsDF, tempDF], ignore_index=True)\n",
      "/home/workstation/Escritorio/PabloC/TransferLearning/funcionesComunes.py:247: FutureWarning: The behavior of DataFrame concatenation with empty or all-NA entries is deprecated. In a future version, this will no longer exclude empty or all-NA columns when determining the result dtypes. To retain the old behavior, exclude the relevant entries before the concat operation.\n",
      "  predictionsDF = pd.concat([predictionsDF, tempDF], ignore_index=True)\n"
     ]
    },
    {
     "name": "stdout",
     "output_type": "stream",
     "text": [
      "RESULTADOS DE MSE, RMSE, R2, MAPE (Train): 185.83870546973978, 13.632267070070913, 0.5228050357624696, 37.895796411381546\n",
      "RESULTADOS DE MSE, RMSE, R2, MAPE (Val): 168.55052571153874, 12.982701017567136, 0.46512949540895077, 36.53933400718326\n",
      "RESULTADOS DE MSE, RMSE, R2, MAPE (Test): 267.1902209960797, 16.34595426997395, 0.5638758743423297, 38.35337730184376\n",
      "Cedrus deodara Juniperus recurva\n",
      "(37273, 77)\n",
      "SE HA NORMALIZADO EL ARCHIVO: Cedrus deodara_merged.csv\n",
      "(22017, 4, 43) (7410, 4, 43) (6282, 4, 43)\n",
      "<Conv1D name=conv1d_6, built=True> False\n",
      "<BatchNormalization name=batch_normalization_6, built=True> False\n",
      "<MaxPooling1D name=max_pooling1d_5, built=True> False\n",
      "<Conv1D name=conv1d_7, built=True> False\n",
      "<BatchNormalization name=batch_normalization_7, built=True> False\n",
      "<MaxPooling1D name=max_pooling1d_6, built=True> False\n",
      "<Conv1D name=conv1d_8, built=True> False\n",
      "<BatchNormalization name=batch_normalization_8, built=True> False\n",
      "<MaxPooling1D name=max_pooling1d_7, built=True> False\n",
      "<Dropout name=dropout_1, built=True> True\n",
      "<Conv1D name=conv1d_9, built=True> False\n",
      "<BatchNormalization name=batch_normalization_9, built=True> False\n",
      "<MaxPooling1D name=max_pooling1d_8, built=True> False\n",
      "<Conv1D name=conv1d_10, built=True> False\n",
      "<BatchNormalization name=batch_normalization_10, built=True> False\n",
      "<MaxPooling1D name=max_pooling1d_9, built=True> False\n",
      "<Conv1D name=conv1d_11, built=True> False\n",
      "<BatchNormalization name=batch_normalization_11, built=True> False\n",
      "<MaxPooling1D name=max_pooling1d_10, built=True> False\n",
      "<Conv1D name=conv1d_12, built=True> True\n",
      "<BatchNormalization name=batch_normalization_12, built=True> True\n",
      "<GlobalAveragePooling1D name=global_average_pooling1d_1, built=True> True\n",
      "<Dense name=dense_2, built=True> True\n",
      "<Dense name=dense_3, built=True> True\n"
     ]
    },
    {
     "name": "stderr",
     "output_type": "stream",
     "text": [
      "/home/workstation/Escritorio/PabloC/TransferLearning/.venv/lib/python3.10/site-packages/keras/src/saving/saving_lib.py:719: UserWarning: Skipping variable loading for optimizer 'adam', because it has 66 variables whereas the saved optimizer has 2 variables. \n",
      "  saveable.load_own_variables(weights_store.get(inner_path))\n"
     ]
    },
    {
     "name": "stdout",
     "output_type": "stream",
     "text": [
      "[MODELO CONGELADO]: 37.14485836029053\n"
     ]
    },
    {
     "name": "stderr",
     "output_type": "stream",
     "text": [
      "/home/workstation/Escritorio/PabloC/TransferLearning/funcionesComunes.py:247: FutureWarning: The behavior of DataFrame concatenation with empty or all-NA entries is deprecated. In a future version, this will no longer exclude empty or all-NA columns when determining the result dtypes. To retain the old behavior, exclude the relevant entries before the concat operation.\n",
      "  predictionsDF = pd.concat([predictionsDF, tempDF], ignore_index=True)\n",
      "/home/workstation/Escritorio/PabloC/TransferLearning/funcionesComunes.py:247: FutureWarning: The behavior of DataFrame concatenation with empty or all-NA entries is deprecated. In a future version, this will no longer exclude empty or all-NA columns when determining the result dtypes. To retain the old behavior, exclude the relevant entries before the concat operation.\n",
      "  predictionsDF = pd.concat([predictionsDF, tempDF], ignore_index=True)\n",
      "/home/workstation/Escritorio/PabloC/TransferLearning/funcionesComunes.py:247: FutureWarning: The behavior of DataFrame concatenation with empty or all-NA entries is deprecated. In a future version, this will no longer exclude empty or all-NA columns when determining the result dtypes. To retain the old behavior, exclude the relevant entries before the concat operation.\n",
      "  predictionsDF = pd.concat([predictionsDF, tempDF], ignore_index=True)\n"
     ]
    },
    {
     "name": "stdout",
     "output_type": "stream",
     "text": [
      "RESULTADOS DE MSE, RMSE, R2, MAPE (Train): 246.49987608634572, 15.70031452189241, 0.4228924340075738, 42.774678090892536\n",
      "RESULTADOS DE MSE, RMSE, R2, MAPE (Val): 313.946056661204, 17.718522981930633, 0.29630630596837126, 46.161645579822896\n",
      "RESULTADOS DE MSE, RMSE, R2, MAPE (Test): 218.76809916406907, 14.790811308514117, 0.3792543533562923, 42.60768857899819\n",
      "Juniperus spp. L. Juniperus recurva\n",
      "(7264, 77)\n",
      "SE HA NORMALIZADO EL ARCHIVO: Juniperus spp. L._merged.csv\n",
      "(4216, 4, 43) (1524, 4, 43) (1188, 4, 43)\n",
      "<Conv1D name=conv1d_6, built=True> False\n",
      "<BatchNormalization name=batch_normalization_6, built=True> False\n",
      "<MaxPooling1D name=max_pooling1d_5, built=True> False\n",
      "<Conv1D name=conv1d_7, built=True> False\n",
      "<BatchNormalization name=batch_normalization_7, built=True> False\n",
      "<MaxPooling1D name=max_pooling1d_6, built=True> False\n",
      "<Conv1D name=conv1d_8, built=True> False\n",
      "<BatchNormalization name=batch_normalization_8, built=True> False\n",
      "<MaxPooling1D name=max_pooling1d_7, built=True> False\n",
      "<Dropout name=dropout_1, built=True> True\n",
      "<Conv1D name=conv1d_9, built=True> False\n",
      "<BatchNormalization name=batch_normalization_9, built=True> False\n",
      "<MaxPooling1D name=max_pooling1d_8, built=True> False\n",
      "<Conv1D name=conv1d_10, built=True> False\n",
      "<BatchNormalization name=batch_normalization_10, built=True> False\n",
      "<MaxPooling1D name=max_pooling1d_9, built=True> False\n",
      "<Conv1D name=conv1d_11, built=True> False\n",
      "<BatchNormalization name=batch_normalization_11, built=True> False\n",
      "<MaxPooling1D name=max_pooling1d_10, built=True> False\n",
      "<Conv1D name=conv1d_12, built=True> True\n",
      "<BatchNormalization name=batch_normalization_12, built=True> True\n",
      "<GlobalAveragePooling1D name=global_average_pooling1d_1, built=True> True\n",
      "<Dense name=dense_2, built=True> True\n",
      "<Dense name=dense_3, built=True> True\n"
     ]
    },
    {
     "name": "stderr",
     "output_type": "stream",
     "text": [
      "/home/workstation/Escritorio/PabloC/TransferLearning/.venv/lib/python3.10/site-packages/keras/src/saving/saving_lib.py:719: UserWarning: Skipping variable loading for optimizer 'adam', because it has 66 variables whereas the saved optimizer has 2 variables. \n",
      "  saveable.load_own_variables(weights_store.get(inner_path))\n"
     ]
    },
    {
     "name": "stdout",
     "output_type": "stream",
     "text": [
      "[MODELO CONGELADO]: 7.051366567611694\n"
     ]
    },
    {
     "name": "stderr",
     "output_type": "stream",
     "text": [
      "/home/workstation/Escritorio/PabloC/TransferLearning/funcionesComunes.py:247: FutureWarning: The behavior of DataFrame concatenation with empty or all-NA entries is deprecated. In a future version, this will no longer exclude empty or all-NA columns when determining the result dtypes. To retain the old behavior, exclude the relevant entries before the concat operation.\n",
      "  predictionsDF = pd.concat([predictionsDF, tempDF], ignore_index=True)\n",
      "/home/workstation/Escritorio/PabloC/TransferLearning/funcionesComunes.py:247: FutureWarning: The behavior of DataFrame concatenation with empty or all-NA entries is deprecated. In a future version, this will no longer exclude empty or all-NA columns when determining the result dtypes. To retain the old behavior, exclude the relevant entries before the concat operation.\n",
      "  predictionsDF = pd.concat([predictionsDF, tempDF], ignore_index=True)\n",
      "/home/workstation/Escritorio/PabloC/TransferLearning/funcionesComunes.py:247: FutureWarning: The behavior of DataFrame concatenation with empty or all-NA entries is deprecated. In a future version, this will no longer exclude empty or all-NA columns when determining the result dtypes. To retain the old behavior, exclude the relevant entries before the concat operation.\n",
      "  predictionsDF = pd.concat([predictionsDF, tempDF], ignore_index=True)\n"
     ]
    },
    {
     "name": "stdout",
     "output_type": "stream",
     "text": [
      "RESULTADOS DE MSE, RMSE, R2, MAPE (Train): 4.837237898754694, 2.1993721601299527, 0.6140702054637157, 40.49795665387491\n",
      "RESULTADOS DE MSE, RMSE, R2, MAPE (Val): 1.5734667985628075, 1.2543790489970754, 0.3018160120843718, 43.78479244815994\n",
      "RESULTADOS DE MSE, RMSE, R2, MAPE (Test): 15.50208079371579, 3.9372681892037518, 0.1822561334926499, 56.56687764304999\n",
      "Juniperus recurva Juniperus recurva\n",
      "totalMerged.csv Juniperus recurva\n",
      "Juniperus spp.  Juniperus recurva\n",
      "(17976, 77)\n",
      "SE HA NORMALIZADO EL ARCHIVO: Juniperus spp. _merged.csv\n",
      "(10218, 4, 43) (3900, 4, 43) (3018, 4, 43)\n",
      "<Conv1D name=conv1d_6, built=True> False\n",
      "<BatchNormalization name=batch_normalization_6, built=True> False\n",
      "<MaxPooling1D name=max_pooling1d_5, built=True> False\n",
      "<Conv1D name=conv1d_7, built=True> False\n",
      "<BatchNormalization name=batch_normalization_7, built=True> False\n",
      "<MaxPooling1D name=max_pooling1d_6, built=True> False\n",
      "<Conv1D name=conv1d_8, built=True> False\n",
      "<BatchNormalization name=batch_normalization_8, built=True> False\n",
      "<MaxPooling1D name=max_pooling1d_7, built=True> False\n",
      "<Dropout name=dropout_1, built=True> True\n",
      "<Conv1D name=conv1d_9, built=True> False\n",
      "<BatchNormalization name=batch_normalization_9, built=True> False\n",
      "<MaxPooling1D name=max_pooling1d_8, built=True> False\n",
      "<Conv1D name=conv1d_10, built=True> False\n",
      "<BatchNormalization name=batch_normalization_10, built=True> False\n",
      "<MaxPooling1D name=max_pooling1d_9, built=True> False\n",
      "<Conv1D name=conv1d_11, built=True> False\n",
      "<BatchNormalization name=batch_normalization_11, built=True> False\n",
      "<MaxPooling1D name=max_pooling1d_10, built=True> False\n",
      "<Conv1D name=conv1d_12, built=True> True\n",
      "<BatchNormalization name=batch_normalization_12, built=True> True\n",
      "<GlobalAveragePooling1D name=global_average_pooling1d_1, built=True> True\n",
      "<Dense name=dense_2, built=True> True\n",
      "<Dense name=dense_3, built=True> True\n"
     ]
    },
    {
     "name": "stderr",
     "output_type": "stream",
     "text": [
      "/home/workstation/Escritorio/PabloC/TransferLearning/.venv/lib/python3.10/site-packages/keras/src/saving/saving_lib.py:719: UserWarning: Skipping variable loading for optimizer 'adam', because it has 66 variables whereas the saved optimizer has 2 variables. \n",
      "  saveable.load_own_variables(weights_store.get(inner_path))\n"
     ]
    },
    {
     "name": "stdout",
     "output_type": "stream",
     "text": [
      "[MODELO CONGELADO]: 21.224060773849487\n"
     ]
    },
    {
     "name": "stderr",
     "output_type": "stream",
     "text": [
      "/home/workstation/Escritorio/PabloC/TransferLearning/funcionesComunes.py:247: FutureWarning: The behavior of DataFrame concatenation with empty or all-NA entries is deprecated. In a future version, this will no longer exclude empty or all-NA columns when determining the result dtypes. To retain the old behavior, exclude the relevant entries before the concat operation.\n",
      "  predictionsDF = pd.concat([predictionsDF, tempDF], ignore_index=True)\n",
      "/home/workstation/Escritorio/PabloC/TransferLearning/funcionesComunes.py:247: FutureWarning: The behavior of DataFrame concatenation with empty or all-NA entries is deprecated. In a future version, this will no longer exclude empty or all-NA columns when determining the result dtypes. To retain the old behavior, exclude the relevant entries before the concat operation.\n",
      "  predictionsDF = pd.concat([predictionsDF, tempDF], ignore_index=True)\n",
      "/home/workstation/Escritorio/PabloC/TransferLearning/funcionesComunes.py:247: FutureWarning: The behavior of DataFrame concatenation with empty or all-NA entries is deprecated. In a future version, this will no longer exclude empty or all-NA columns when determining the result dtypes. To retain the old behavior, exclude the relevant entries before the concat operation.\n",
      "  predictionsDF = pd.concat([predictionsDF, tempDF], ignore_index=True)\n"
     ]
    },
    {
     "name": "stdout",
     "output_type": "stream",
     "text": [
      "RESULTADOS DE MSE, RMSE, R2, MAPE (Train): 30.873488569385653, 5.5563916861022005, 0.49647455461358114, 42.0735462816636\n",
      "RESULTADOS DE MSE, RMSE, R2, MAPE (Val): 8.967601930971773, 2.994595453641739, 0.544160989939106, 41.770966228273835\n",
      "RESULTADOS DE MSE, RMSE, R2, MAPE (Test): 46.01693261412523, 6.783578157147247, 0.5596310814469699, 41.76644256507364\n",
      "Procesando el modelo: model_Populus ciliata.keras\n",
      "Abies spectabilis Populus ciliata\n",
      "(96429, 77)\n",
      "SE HA NORMALIZADO EL ARCHIVO: Abies spectabilis_merged.csv\n",
      "(56618, 4, 43) (19637, 4, 43) (15689, 4, 43)\n",
      "<Conv1D name=conv1d_5, built=True> False\n",
      "<BatchNormalization name=batch_normalization_5, built=True> False\n",
      "<MaxPooling1D name=max_pooling1d_4, built=True> False\n",
      "<Conv1D name=conv1d_6, built=True> False\n",
      "<BatchNormalization name=batch_normalization_6, built=True> False\n",
      "<MaxPooling1D name=max_pooling1d_5, built=True> False\n",
      "<Dropout name=dropout_1, built=True> True\n",
      "<Conv1D name=conv1d_7, built=True> False\n",
      "<BatchNormalization name=batch_normalization_7, built=True> False\n",
      "<MaxPooling1D name=max_pooling1d_6, built=True> False\n",
      "<Conv1D name=conv1d_8, built=True> False\n",
      "<BatchNormalization name=batch_normalization_8, built=True> False\n",
      "<MaxPooling1D name=max_pooling1d_7, built=True> False\n",
      "<Conv1D name=conv1d_9, built=True> False\n",
      "<BatchNormalization name=batch_normalization_9, built=True> False\n",
      "<MaxPooling1D name=max_pooling1d_8, built=True> False\n",
      "<Conv1D name=conv1d_10, built=True> True\n",
      "<BatchNormalization name=batch_normalization_10, built=True> True\n",
      "<GlobalAveragePooling1D name=global_average_pooling1d_1, built=True> True\n",
      "<Dense name=dense_2, built=True> True\n",
      "<Dense name=dense_3, built=True> True\n"
     ]
    },
    {
     "name": "stderr",
     "output_type": "stream",
     "text": [
      "/home/workstation/Escritorio/PabloC/TransferLearning/.venv/lib/python3.10/site-packages/keras/src/saving/saving_lib.py:719: UserWarning: Skipping variable loading for optimizer 'adam', because it has 58 variables whereas the saved optimizer has 2 variables. \n",
      "  saveable.load_own_variables(weights_store.get(inner_path))\n"
     ]
    },
    {
     "name": "stdout",
     "output_type": "stream",
     "text": [
      "[MODELO CONGELADO]: 159.90357327461243\n"
     ]
    },
    {
     "name": "stderr",
     "output_type": "stream",
     "text": [
      "/home/workstation/Escritorio/PabloC/TransferLearning/funcionesComunes.py:247: FutureWarning: The behavior of DataFrame concatenation with empty or all-NA entries is deprecated. In a future version, this will no longer exclude empty or all-NA columns when determining the result dtypes. To retain the old behavior, exclude the relevant entries before the concat operation.\n",
      "  predictionsDF = pd.concat([predictionsDF, tempDF], ignore_index=True)\n",
      "/home/workstation/Escritorio/PabloC/TransferLearning/funcionesComunes.py:247: FutureWarning: The behavior of DataFrame concatenation with empty or all-NA entries is deprecated. In a future version, this will no longer exclude empty or all-NA columns when determining the result dtypes. To retain the old behavior, exclude the relevant entries before the concat operation.\n",
      "  predictionsDF = pd.concat([predictionsDF, tempDF], ignore_index=True)\n",
      "/home/workstation/Escritorio/PabloC/TransferLearning/funcionesComunes.py:247: FutureWarning: The behavior of DataFrame concatenation with empty or all-NA entries is deprecated. In a future version, this will no longer exclude empty or all-NA columns when determining the result dtypes. To retain the old behavior, exclude the relevant entries before the concat operation.\n",
      "  predictionsDF = pd.concat([predictionsDF, tempDF], ignore_index=True)\n"
     ]
    },
    {
     "name": "stdout",
     "output_type": "stream",
     "text": [
      "RESULTADOS DE MSE, RMSE, R2, MAPE (Train): 80.35975327062975, 8.964360170733311, 0.294967144088187, 48.80030789531038\n",
      "RESULTADOS DE MSE, RMSE, R2, MAPE (Val): 79.56437238666811, 8.919886343820089, 0.27503767397603707, 48.44271031170925\n",
      "RESULTADOS DE MSE, RMSE, R2, MAPE (Test): 84.0068415257842, 9.165524618142936, 0.3769837628678333, 47.66193421658843\n",
      "Picea smithiana Populus ciliata\n",
      "(34476, 77)\n",
      "SE HA NORMALIZADO EL ARCHIVO: Picea smithiana_merged.csv\n",
      "(19933, 4, 43) (7272, 4, 43) (5863, 4, 43)\n",
      "<Conv1D name=conv1d_5, built=True> False\n",
      "<BatchNormalization name=batch_normalization_5, built=True> False\n",
      "<MaxPooling1D name=max_pooling1d_4, built=True> False\n",
      "<Conv1D name=conv1d_6, built=True> False\n",
      "<BatchNormalization name=batch_normalization_6, built=True> False\n",
      "<MaxPooling1D name=max_pooling1d_5, built=True> False\n",
      "<Dropout name=dropout_1, built=True> True\n",
      "<Conv1D name=conv1d_7, built=True> False\n",
      "<BatchNormalization name=batch_normalization_7, built=True> False\n",
      "<MaxPooling1D name=max_pooling1d_6, built=True> False\n",
      "<Conv1D name=conv1d_8, built=True> False\n",
      "<BatchNormalization name=batch_normalization_8, built=True> False\n",
      "<MaxPooling1D name=max_pooling1d_7, built=True> False\n",
      "<Conv1D name=conv1d_9, built=True> False\n",
      "<BatchNormalization name=batch_normalization_9, built=True> False\n",
      "<MaxPooling1D name=max_pooling1d_8, built=True> False\n",
      "<Conv1D name=conv1d_10, built=True> True\n",
      "<BatchNormalization name=batch_normalization_10, built=True> True\n",
      "<GlobalAveragePooling1D name=global_average_pooling1d_1, built=True> True\n",
      "<Dense name=dense_2, built=True> True\n",
      "<Dense name=dense_3, built=True> True\n"
     ]
    },
    {
     "name": "stderr",
     "output_type": "stream",
     "text": [
      "/home/workstation/Escritorio/PabloC/TransferLearning/.venv/lib/python3.10/site-packages/keras/src/saving/saving_lib.py:719: UserWarning: Skipping variable loading for optimizer 'adam', because it has 58 variables whereas the saved optimizer has 2 variables. \n",
      "  saveable.load_own_variables(weights_store.get(inner_path))\n"
     ]
    },
    {
     "name": "stdout",
     "output_type": "stream",
     "text": [
      "[MODELO CONGELADO]: 48.5951943397522\n"
     ]
    },
    {
     "name": "stderr",
     "output_type": "stream",
     "text": [
      "/home/workstation/Escritorio/PabloC/TransferLearning/funcionesComunes.py:247: FutureWarning: The behavior of DataFrame concatenation with empty or all-NA entries is deprecated. In a future version, this will no longer exclude empty or all-NA columns when determining the result dtypes. To retain the old behavior, exclude the relevant entries before the concat operation.\n",
      "  predictionsDF = pd.concat([predictionsDF, tempDF], ignore_index=True)\n",
      "/home/workstation/Escritorio/PabloC/TransferLearning/funcionesComunes.py:247: FutureWarning: The behavior of DataFrame concatenation with empty or all-NA entries is deprecated. In a future version, this will no longer exclude empty or all-NA columns when determining the result dtypes. To retain the old behavior, exclude the relevant entries before the concat operation.\n",
      "  predictionsDF = pd.concat([predictionsDF, tempDF], ignore_index=True)\n",
      "/home/workstation/Escritorio/PabloC/TransferLearning/funcionesComunes.py:247: FutureWarning: The behavior of DataFrame concatenation with empty or all-NA entries is deprecated. In a future version, this will no longer exclude empty or all-NA columns when determining the result dtypes. To retain the old behavior, exclude the relevant entries before the concat operation.\n",
      "  predictionsDF = pd.concat([predictionsDF, tempDF], ignore_index=True)\n"
     ]
    },
    {
     "name": "stdout",
     "output_type": "stream",
     "text": [
      "RESULTADOS DE MSE, RMSE, R2, MAPE (Train): 222.56720379060812, 14.91868639628195, 0.3477503965548807, 43.555978399929515\n",
      "RESULTADOS DE MSE, RMSE, R2, MAPE (Val): 259.5464626798932, 16.110445762917088, 0.25101777250012003, 46.06895861580988\n",
      "RESULTADOS DE MSE, RMSE, R2, MAPE (Test): 203.45063029381512, 14.263612105417586, 0.31295595451497515, 45.846312218810674\n",
      "Abies pindrow Populus ciliata\n",
      "(16018, 77)\n",
      "SE HA NORMALIZADO EL ARCHIVO: Abies pindrow_merged.csv\n",
      "(9042, 4, 43) (3441, 4, 43) (2815, 4, 43)\n",
      "<Conv1D name=conv1d_5, built=True> False\n",
      "<BatchNormalization name=batch_normalization_5, built=True> False\n",
      "<MaxPooling1D name=max_pooling1d_4, built=True> False\n",
      "<Conv1D name=conv1d_6, built=True> False\n",
      "<BatchNormalization name=batch_normalization_6, built=True> False\n",
      "<MaxPooling1D name=max_pooling1d_5, built=True> False\n",
      "<Dropout name=dropout_1, built=True> True\n",
      "<Conv1D name=conv1d_7, built=True> False\n",
      "<BatchNormalization name=batch_normalization_7, built=True> False\n",
      "<MaxPooling1D name=max_pooling1d_6, built=True> False\n",
      "<Conv1D name=conv1d_8, built=True> False\n",
      "<BatchNormalization name=batch_normalization_8, built=True> False\n",
      "<MaxPooling1D name=max_pooling1d_7, built=True> False\n",
      "<Conv1D name=conv1d_9, built=True> False\n",
      "<BatchNormalization name=batch_normalization_9, built=True> False\n",
      "<MaxPooling1D name=max_pooling1d_8, built=True> False\n",
      "<Conv1D name=conv1d_10, built=True> True\n",
      "<BatchNormalization name=batch_normalization_10, built=True> True\n",
      "<GlobalAveragePooling1D name=global_average_pooling1d_1, built=True> True\n",
      "<Dense name=dense_2, built=True> True\n",
      "<Dense name=dense_3, built=True> True\n"
     ]
    },
    {
     "name": "stderr",
     "output_type": "stream",
     "text": [
      "/home/workstation/Escritorio/PabloC/TransferLearning/.venv/lib/python3.10/site-packages/keras/src/saving/saving_lib.py:719: UserWarning: Skipping variable loading for optimizer 'adam', because it has 58 variables whereas the saved optimizer has 2 variables. \n",
      "  saveable.load_own_variables(weights_store.get(inner_path))\n"
     ]
    },
    {
     "name": "stdout",
     "output_type": "stream",
     "text": [
      "[MODELO CONGELADO]: 28.058032989501953\n"
     ]
    },
    {
     "name": "stderr",
     "output_type": "stream",
     "text": [
      "/home/workstation/Escritorio/PabloC/TransferLearning/funcionesComunes.py:247: FutureWarning: The behavior of DataFrame concatenation with empty or all-NA entries is deprecated. In a future version, this will no longer exclude empty or all-NA columns when determining the result dtypes. To retain the old behavior, exclude the relevant entries before the concat operation.\n",
      "  predictionsDF = pd.concat([predictionsDF, tempDF], ignore_index=True)\n",
      "/home/workstation/Escritorio/PabloC/TransferLearning/funcionesComunes.py:247: FutureWarning: The behavior of DataFrame concatenation with empty or all-NA entries is deprecated. In a future version, this will no longer exclude empty or all-NA columns when determining the result dtypes. To retain the old behavior, exclude the relevant entries before the concat operation.\n",
      "  predictionsDF = pd.concat([predictionsDF, tempDF], ignore_index=True)\n",
      "/home/workstation/Escritorio/PabloC/TransferLearning/funcionesComunes.py:247: FutureWarning: The behavior of DataFrame concatenation with empty or all-NA entries is deprecated. In a future version, this will no longer exclude empty or all-NA columns when determining the result dtypes. To retain the old behavior, exclude the relevant entries before the concat operation.\n",
      "  predictionsDF = pd.concat([predictionsDF, tempDF], ignore_index=True)\n"
     ]
    },
    {
     "name": "stdout",
     "output_type": "stream",
     "text": [
      "RESULTADOS DE MSE, RMSE, R2, MAPE (Train): 177.72133374632918, 13.331216514119376, 0.2371632572193847, 44.087924977384205\n",
      "RESULTADOS DE MSE, RMSE, R2, MAPE (Val): 141.54668057546135, 11.897339222509432, 0.19254863145125822, 39.979726918745\n",
      "RESULTADOS DE MSE, RMSE, R2, MAPE (Test): 244.12365665001124, 15.62445700336531, -0.7258852697363631, 50.27628685577968\n",
      "Juniperus excelsa M.-Bieb Populus ciliata\n",
      "(7449, 77)\n",
      "SE HA NORMALIZADO EL ARCHIVO: Juniperus excelsa M.-Bieb_merged.csv\n",
      "(4189, 4, 43) (1707, 4, 43) (1228, 4, 43)\n",
      "<Conv1D name=conv1d_5, built=True> False\n",
      "<BatchNormalization name=batch_normalization_5, built=True> False\n",
      "<MaxPooling1D name=max_pooling1d_4, built=True> False\n",
      "<Conv1D name=conv1d_6, built=True> False\n",
      "<BatchNormalization name=batch_normalization_6, built=True> False\n",
      "<MaxPooling1D name=max_pooling1d_5, built=True> False\n",
      "<Dropout name=dropout_1, built=True> True\n",
      "<Conv1D name=conv1d_7, built=True> False\n",
      "<BatchNormalization name=batch_normalization_7, built=True> False\n",
      "<MaxPooling1D name=max_pooling1d_6, built=True> False\n",
      "<Conv1D name=conv1d_8, built=True> False\n",
      "<BatchNormalization name=batch_normalization_8, built=True> False\n",
      "<MaxPooling1D name=max_pooling1d_7, built=True> False\n",
      "<Conv1D name=conv1d_9, built=True> False\n",
      "<BatchNormalization name=batch_normalization_9, built=True> False\n",
      "<MaxPooling1D name=max_pooling1d_8, built=True> False\n",
      "<Conv1D name=conv1d_10, built=True> True\n",
      "<BatchNormalization name=batch_normalization_10, built=True> True\n",
      "<GlobalAveragePooling1D name=global_average_pooling1d_1, built=True> True\n",
      "<Dense name=dense_2, built=True> True\n",
      "<Dense name=dense_3, built=True> True\n"
     ]
    },
    {
     "name": "stderr",
     "output_type": "stream",
     "text": [
      "/home/workstation/Escritorio/PabloC/TransferLearning/.venv/lib/python3.10/site-packages/keras/src/saving/saving_lib.py:719: UserWarning: Skipping variable loading for optimizer 'adam', because it has 58 variables whereas the saved optimizer has 2 variables. \n",
      "  saveable.load_own_variables(weights_store.get(inner_path))\n"
     ]
    },
    {
     "name": "stdout",
     "output_type": "stream",
     "text": [
      "[MODELO CONGELADO]: 9.427940130233765\n"
     ]
    },
    {
     "name": "stderr",
     "output_type": "stream",
     "text": [
      "/home/workstation/Escritorio/PabloC/TransferLearning/funcionesComunes.py:247: FutureWarning: The behavior of DataFrame concatenation with empty or all-NA entries is deprecated. In a future version, this will no longer exclude empty or all-NA columns when determining the result dtypes. To retain the old behavior, exclude the relevant entries before the concat operation.\n",
      "  predictionsDF = pd.concat([predictionsDF, tempDF], ignore_index=True)\n",
      "/home/workstation/Escritorio/PabloC/TransferLearning/funcionesComunes.py:247: FutureWarning: The behavior of DataFrame concatenation with empty or all-NA entries is deprecated. In a future version, this will no longer exclude empty or all-NA columns when determining the result dtypes. To retain the old behavior, exclude the relevant entries before the concat operation.\n",
      "  predictionsDF = pd.concat([predictionsDF, tempDF], ignore_index=True)\n",
      "/home/workstation/Escritorio/PabloC/TransferLearning/funcionesComunes.py:247: FutureWarning: The behavior of DataFrame concatenation with empty or all-NA entries is deprecated. In a future version, this will no longer exclude empty or all-NA columns when determining the result dtypes. To retain the old behavior, exclude the relevant entries before the concat operation.\n",
      "  predictionsDF = pd.concat([predictionsDF, tempDF], ignore_index=True)\n"
     ]
    },
    {
     "name": "stdout",
     "output_type": "stream",
     "text": [
      "RESULTADOS DE MSE, RMSE, R2, MAPE (Train): 23.790648087103975, 4.8775657952614, 0.032957672586389486, 53.377384478015756\n",
      "RESULTADOS DE MSE, RMSE, R2, MAPE (Val): 28.20750561446713, 5.311073866410363, -0.07572838998347398, 62.136678435920444\n",
      "RESULTADOS DE MSE, RMSE, R2, MAPE (Test): 97.65568911239284, 9.882089309067837, -0.447826742226878, 74.78885698646093\n",
      "Juniperus turkestanica Komar. Populus ciliata\n",
      "(6305, 77)\n",
      "SE HA NORMALIZADO EL ARCHIVO: Juniperus turkestanica Komar._merged.csv\n",
      "(3664, 4, 43) (1368, 4, 43) (1001, 4, 43)\n",
      "<Conv1D name=conv1d_5, built=True> False\n",
      "<BatchNormalization name=batch_normalization_5, built=True> False\n",
      "<MaxPooling1D name=max_pooling1d_4, built=True> False\n",
      "<Conv1D name=conv1d_6, built=True> False\n",
      "<BatchNormalization name=batch_normalization_6, built=True> False\n",
      "<MaxPooling1D name=max_pooling1d_5, built=True> False\n",
      "<Dropout name=dropout_1, built=True> True\n",
      "<Conv1D name=conv1d_7, built=True> False\n",
      "<BatchNormalization name=batch_normalization_7, built=True> False\n",
      "<MaxPooling1D name=max_pooling1d_6, built=True> False\n",
      "<Conv1D name=conv1d_8, built=True> False\n",
      "<BatchNormalization name=batch_normalization_8, built=True> False\n",
      "<MaxPooling1D name=max_pooling1d_7, built=True> False\n",
      "<Conv1D name=conv1d_9, built=True> False\n",
      "<BatchNormalization name=batch_normalization_9, built=True> False\n",
      "<MaxPooling1D name=max_pooling1d_8, built=True> False\n",
      "<Conv1D name=conv1d_10, built=True> True\n",
      "<BatchNormalization name=batch_normalization_10, built=True> True\n",
      "<GlobalAveragePooling1D name=global_average_pooling1d_1, built=True> True\n",
      "<Dense name=dense_2, built=True> True\n",
      "<Dense name=dense_3, built=True> True\n"
     ]
    },
    {
     "name": "stderr",
     "output_type": "stream",
     "text": [
      "/home/workstation/Escritorio/PabloC/TransferLearning/.venv/lib/python3.10/site-packages/keras/src/saving/saving_lib.py:719: UserWarning: Skipping variable loading for optimizer 'adam', because it has 58 variables whereas the saved optimizer has 2 variables. \n",
      "  saveable.load_own_variables(weights_store.get(inner_path))\n"
     ]
    },
    {
     "name": "stdout",
     "output_type": "stream",
     "text": [
      "[MODELO CONGELADO]: 4.936753511428833\n"
     ]
    },
    {
     "name": "stderr",
     "output_type": "stream",
     "text": [
      "/home/workstation/Escritorio/PabloC/TransferLearning/funcionesComunes.py:247: FutureWarning: The behavior of DataFrame concatenation with empty or all-NA entries is deprecated. In a future version, this will no longer exclude empty or all-NA columns when determining the result dtypes. To retain the old behavior, exclude the relevant entries before the concat operation.\n",
      "  predictionsDF = pd.concat([predictionsDF, tempDF], ignore_index=True)\n",
      "/home/workstation/Escritorio/PabloC/TransferLearning/funcionesComunes.py:247: FutureWarning: The behavior of DataFrame concatenation with empty or all-NA entries is deprecated. In a future version, this will no longer exclude empty or all-NA columns when determining the result dtypes. To retain the old behavior, exclude the relevant entries before the concat operation.\n",
      "  predictionsDF = pd.concat([predictionsDF, tempDF], ignore_index=True)\n",
      "/home/workstation/Escritorio/PabloC/TransferLearning/funcionesComunes.py:247: FutureWarning: The behavior of DataFrame concatenation with empty or all-NA entries is deprecated. In a future version, this will no longer exclude empty or all-NA columns when determining the result dtypes. To retain the old behavior, exclude the relevant entries before the concat operation.\n",
      "  predictionsDF = pd.concat([predictionsDF, tempDF], ignore_index=True)\n"
     ]
    },
    {
     "name": "stdout",
     "output_type": "stream",
     "text": [
      "RESULTADOS DE MSE, RMSE, R2, MAPE (Train): 11.52009617650576, 3.394126717803235, 0.7433521191053569, 34.57311388345427\n",
      "RESULTADOS DE MSE, RMSE, R2, MAPE (Val): 10.007161282612572, 3.163409755724442, 0.4180564563534991, 43.692910156088374\n",
      "RESULTADOS DE MSE, RMSE, R2, MAPE (Test): 3.0449587020635605, 1.7449810033532056, 0.4398126466280824, 35.30481326145601\n",
      "Pinus roxburghii Populus ciliata\n",
      "(10635, 77)\n",
      "SE HA NORMALIZADO EL ARCHIVO: Pinus roxburghii_merged.csv\n",
      "(6309, 4, 43) (2167, 4, 43) (1647, 4, 43)\n",
      "<Conv1D name=conv1d_5, built=True> False\n",
      "<BatchNormalization name=batch_normalization_5, built=True> False\n",
      "<MaxPooling1D name=max_pooling1d_4, built=True> False\n",
      "<Conv1D name=conv1d_6, built=True> False\n",
      "<BatchNormalization name=batch_normalization_6, built=True> False\n",
      "<MaxPooling1D name=max_pooling1d_5, built=True> False\n",
      "<Dropout name=dropout_1, built=True> True\n",
      "<Conv1D name=conv1d_7, built=True> False\n",
      "<BatchNormalization name=batch_normalization_7, built=True> False\n",
      "<MaxPooling1D name=max_pooling1d_6, built=True> False\n",
      "<Conv1D name=conv1d_8, built=True> False\n",
      "<BatchNormalization name=batch_normalization_8, built=True> False\n",
      "<MaxPooling1D name=max_pooling1d_7, built=True> False\n",
      "<Conv1D name=conv1d_9, built=True> False\n",
      "<BatchNormalization name=batch_normalization_9, built=True> False\n",
      "<MaxPooling1D name=max_pooling1d_8, built=True> False\n",
      "<Conv1D name=conv1d_10, built=True> True\n",
      "<BatchNormalization name=batch_normalization_10, built=True> True\n",
      "<GlobalAveragePooling1D name=global_average_pooling1d_1, built=True> True\n",
      "<Dense name=dense_2, built=True> True\n",
      "<Dense name=dense_3, built=True> True\n"
     ]
    },
    {
     "name": "stderr",
     "output_type": "stream",
     "text": [
      "/home/workstation/Escritorio/PabloC/TransferLearning/.venv/lib/python3.10/site-packages/keras/src/saving/saving_lib.py:719: UserWarning: Skipping variable loading for optimizer 'adam', because it has 58 variables whereas the saved optimizer has 2 variables. \n",
      "  saveable.load_own_variables(weights_store.get(inner_path))\n"
     ]
    },
    {
     "name": "stdout",
     "output_type": "stream",
     "text": [
      "[MODELO CONGELADO]: 13.229917526245117\n"
     ]
    },
    {
     "name": "stderr",
     "output_type": "stream",
     "text": [
      "/home/workstation/Escritorio/PabloC/TransferLearning/funcionesComunes.py:247: FutureWarning: The behavior of DataFrame concatenation with empty or all-NA entries is deprecated. In a future version, this will no longer exclude empty or all-NA columns when determining the result dtypes. To retain the old behavior, exclude the relevant entries before the concat operation.\n",
      "  predictionsDF = pd.concat([predictionsDF, tempDF], ignore_index=True)\n",
      "/home/workstation/Escritorio/PabloC/TransferLearning/funcionesComunes.py:247: FutureWarning: The behavior of DataFrame concatenation with empty or all-NA entries is deprecated. In a future version, this will no longer exclude empty or all-NA columns when determining the result dtypes. To retain the old behavior, exclude the relevant entries before the concat operation.\n",
      "  predictionsDF = pd.concat([predictionsDF, tempDF], ignore_index=True)\n",
      "/home/workstation/Escritorio/PabloC/TransferLearning/funcionesComunes.py:247: FutureWarning: The behavior of DataFrame concatenation with empty or all-NA entries is deprecated. In a future version, this will no longer exclude empty or all-NA columns when determining the result dtypes. To retain the old behavior, exclude the relevant entries before the concat operation.\n",
      "  predictionsDF = pd.concat([predictionsDF, tempDF], ignore_index=True)\n"
     ]
    },
    {
     "name": "stdout",
     "output_type": "stream",
     "text": [
      "RESULTADOS DE MSE, RMSE, R2, MAPE (Train): 189.68240189581425, 13.772523439653833, 0.2888740289308126, 44.23280519464444\n",
      "RESULTADOS DE MSE, RMSE, R2, MAPE (Val): 149.26541927357985, 12.217422775429352, 0.3336613192253792, 43.5429069406977\n",
      "RESULTADOS DE MSE, RMSE, R2, MAPE (Test): 170.11483693170618, 13.042807862255204, 0.28616259721142523, 45.14390860014822\n",
      "Pinus wallichiana Populus ciliata\n",
      "(9365, 77)\n",
      "SE HA NORMALIZADO EL ARCHIVO: Pinus wallichiana_merged.csv\n",
      "(5508, 4, 43) (1957, 4, 43) (1500, 4, 43)\n",
      "<Conv1D name=conv1d_5, built=True> False\n",
      "<BatchNormalization name=batch_normalization_5, built=True> False\n",
      "<MaxPooling1D name=max_pooling1d_4, built=True> False\n",
      "<Conv1D name=conv1d_6, built=True> False\n",
      "<BatchNormalization name=batch_normalization_6, built=True> False\n",
      "<MaxPooling1D name=max_pooling1d_5, built=True> False\n",
      "<Dropout name=dropout_1, built=True> True\n",
      "<Conv1D name=conv1d_7, built=True> False\n",
      "<BatchNormalization name=batch_normalization_7, built=True> False\n",
      "<MaxPooling1D name=max_pooling1d_6, built=True> False\n",
      "<Conv1D name=conv1d_8, built=True> False\n",
      "<BatchNormalization name=batch_normalization_8, built=True> False\n",
      "<MaxPooling1D name=max_pooling1d_7, built=True> False\n",
      "<Conv1D name=conv1d_9, built=True> False\n",
      "<BatchNormalization name=batch_normalization_9, built=True> False\n",
      "<MaxPooling1D name=max_pooling1d_8, built=True> False\n",
      "<Conv1D name=conv1d_10, built=True> True\n",
      "<BatchNormalization name=batch_normalization_10, built=True> True\n",
      "<GlobalAveragePooling1D name=global_average_pooling1d_1, built=True> True\n",
      "<Dense name=dense_2, built=True> True\n",
      "<Dense name=dense_3, built=True> True\n"
     ]
    },
    {
     "name": "stderr",
     "output_type": "stream",
     "text": [
      "/home/workstation/Escritorio/PabloC/TransferLearning/.venv/lib/python3.10/site-packages/keras/src/saving/saving_lib.py:719: UserWarning: Skipping variable loading for optimizer 'adam', because it has 58 variables whereas the saved optimizer has 2 variables. \n",
      "  saveable.load_own_variables(weights_store.get(inner_path))\n"
     ]
    },
    {
     "name": "stdout",
     "output_type": "stream",
     "text": [
      "[MODELO CONGELADO]: 9.870074272155762\n"
     ]
    },
    {
     "name": "stderr",
     "output_type": "stream",
     "text": [
      "/home/workstation/Escritorio/PabloC/TransferLearning/funcionesComunes.py:247: FutureWarning: The behavior of DataFrame concatenation with empty or all-NA entries is deprecated. In a future version, this will no longer exclude empty or all-NA columns when determining the result dtypes. To retain the old behavior, exclude the relevant entries before the concat operation.\n",
      "  predictionsDF = pd.concat([predictionsDF, tempDF], ignore_index=True)\n",
      "/home/workstation/Escritorio/PabloC/TransferLearning/funcionesComunes.py:247: FutureWarning: The behavior of DataFrame concatenation with empty or all-NA entries is deprecated. In a future version, this will no longer exclude empty or all-NA columns when determining the result dtypes. To retain the old behavior, exclude the relevant entries before the concat operation.\n",
      "  predictionsDF = pd.concat([predictionsDF, tempDF], ignore_index=True)\n",
      "/home/workstation/Escritorio/PabloC/TransferLearning/funcionesComunes.py:247: FutureWarning: The behavior of DataFrame concatenation with empty or all-NA entries is deprecated. In a future version, this will no longer exclude empty or all-NA columns when determining the result dtypes. To retain the old behavior, exclude the relevant entries before the concat operation.\n",
      "  predictionsDF = pd.concat([predictionsDF, tempDF], ignore_index=True)\n"
     ]
    },
    {
     "name": "stdout",
     "output_type": "stream",
     "text": [
      "RESULTADOS DE MSE, RMSE, R2, MAPE (Train): 33.58817634661183, 5.7955307217382455, 0.5017462084142461, 32.64437158950791\n",
      "RESULTADOS DE MSE, RMSE, R2, MAPE (Val): 27.961805283558235, 5.287892329043608, 0.5322810269506122, 35.41126939360301\n",
      "RESULTADOS DE MSE, RMSE, R2, MAPE (Test): 59.659383534184514, 7.723948700903218, -0.4149485484093862, 49.02940001297143\n",
      "Pinus gerardiana Populus ciliata\n",
      "(10101, 77)\n",
      "SE HA NORMALIZADO EL ARCHIVO: Pinus gerardiana_merged.csv\n",
      "(5767, 4, 43) (2181, 4, 43) (1745, 4, 43)\n",
      "<Conv1D name=conv1d_5, built=True> False\n",
      "<BatchNormalization name=batch_normalization_5, built=True> False\n",
      "<MaxPooling1D name=max_pooling1d_4, built=True> False\n",
      "<Conv1D name=conv1d_6, built=True> False\n",
      "<BatchNormalization name=batch_normalization_6, built=True> False\n",
      "<MaxPooling1D name=max_pooling1d_5, built=True> False\n",
      "<Dropout name=dropout_1, built=True> True\n",
      "<Conv1D name=conv1d_7, built=True> False\n",
      "<BatchNormalization name=batch_normalization_7, built=True> False\n",
      "<MaxPooling1D name=max_pooling1d_6, built=True> False\n",
      "<Conv1D name=conv1d_8, built=True> False\n",
      "<BatchNormalization name=batch_normalization_8, built=True> False\n",
      "<MaxPooling1D name=max_pooling1d_7, built=True> False\n",
      "<Conv1D name=conv1d_9, built=True> False\n",
      "<BatchNormalization name=batch_normalization_9, built=True> False\n",
      "<MaxPooling1D name=max_pooling1d_8, built=True> False\n",
      "<Conv1D name=conv1d_10, built=True> True\n",
      "<BatchNormalization name=batch_normalization_10, built=True> True\n",
      "<GlobalAveragePooling1D name=global_average_pooling1d_1, built=True> True\n",
      "<Dense name=dense_2, built=True> True\n",
      "<Dense name=dense_3, built=True> True\n"
     ]
    },
    {
     "name": "stderr",
     "output_type": "stream",
     "text": [
      "/home/workstation/Escritorio/PabloC/TransferLearning/.venv/lib/python3.10/site-packages/keras/src/saving/saving_lib.py:719: UserWarning: Skipping variable loading for optimizer 'adam', because it has 58 variables whereas the saved optimizer has 2 variables. \n",
      "  saveable.load_own_variables(weights_store.get(inner_path))\n"
     ]
    },
    {
     "name": "stdout",
     "output_type": "stream",
     "text": [
      "[MODELO CONGELADO]: 9.645823240280151\n"
     ]
    },
    {
     "name": "stderr",
     "output_type": "stream",
     "text": [
      "/home/workstation/Escritorio/PabloC/TransferLearning/funcionesComunes.py:247: FutureWarning: The behavior of DataFrame concatenation with empty or all-NA entries is deprecated. In a future version, this will no longer exclude empty or all-NA columns when determining the result dtypes. To retain the old behavior, exclude the relevant entries before the concat operation.\n",
      "  predictionsDF = pd.concat([predictionsDF, tempDF], ignore_index=True)\n",
      "/home/workstation/Escritorio/PabloC/TransferLearning/funcionesComunes.py:247: FutureWarning: The behavior of DataFrame concatenation with empty or all-NA entries is deprecated. In a future version, this will no longer exclude empty or all-NA columns when determining the result dtypes. To retain the old behavior, exclude the relevant entries before the concat operation.\n",
      "  predictionsDF = pd.concat([predictionsDF, tempDF], ignore_index=True)\n",
      "/home/workstation/Escritorio/PabloC/TransferLearning/funcionesComunes.py:247: FutureWarning: The behavior of DataFrame concatenation with empty or all-NA entries is deprecated. In a future version, this will no longer exclude empty or all-NA columns when determining the result dtypes. To retain the old behavior, exclude the relevant entries before the concat operation.\n",
      "  predictionsDF = pd.concat([predictionsDF, tempDF], ignore_index=True)\n"
     ]
    },
    {
     "name": "stdout",
     "output_type": "stream",
     "text": [
      "RESULTADOS DE MSE, RMSE, R2, MAPE (Train): 21.697920038448373, 4.658102622146529, 0.44102198371373524, 37.61908788443223\n",
      "RESULTADOS DE MSE, RMSE, R2, MAPE (Val): 23.044211624741283, 4.800438690863709, 0.41763399343291874, 37.10514810914394\n",
      "RESULTADOS DE MSE, RMSE, R2, MAPE (Test): 19.180653765716542, 4.379572326805043, 0.5225777175076499, 35.415184894442625\n",
      "Populus ciliata Populus ciliata\n",
      "Betula utilis Populus ciliata\n",
      "(3473, 77)\n",
      "SE HA NORMALIZADO EL ARCHIVO: Betula utilis_merged.csv\n",
      "(2059, 4, 43) (665, 4, 43) (593, 4, 43)\n",
      "<Conv1D name=conv1d_5, built=True> False\n",
      "<BatchNormalization name=batch_normalization_5, built=True> False\n",
      "<MaxPooling1D name=max_pooling1d_4, built=True> False\n",
      "<Conv1D name=conv1d_6, built=True> False\n",
      "<BatchNormalization name=batch_normalization_6, built=True> False\n",
      "<MaxPooling1D name=max_pooling1d_5, built=True> False\n",
      "<Dropout name=dropout_1, built=True> True\n",
      "<Conv1D name=conv1d_7, built=True> False\n",
      "<BatchNormalization name=batch_normalization_7, built=True> False\n",
      "<MaxPooling1D name=max_pooling1d_6, built=True> False\n",
      "<Conv1D name=conv1d_8, built=True> False\n",
      "<BatchNormalization name=batch_normalization_8, built=True> False\n",
      "<MaxPooling1D name=max_pooling1d_7, built=True> False\n",
      "<Conv1D name=conv1d_9, built=True> False\n",
      "<BatchNormalization name=batch_normalization_9, built=True> False\n",
      "<MaxPooling1D name=max_pooling1d_8, built=True> False\n",
      "<Conv1D name=conv1d_10, built=True> True\n",
      "<BatchNormalization name=batch_normalization_10, built=True> True\n",
      "<GlobalAveragePooling1D name=global_average_pooling1d_1, built=True> True\n",
      "<Dense name=dense_2, built=True> True\n",
      "<Dense name=dense_3, built=True> True\n"
     ]
    },
    {
     "name": "stderr",
     "output_type": "stream",
     "text": [
      "/home/workstation/Escritorio/PabloC/TransferLearning/.venv/lib/python3.10/site-packages/keras/src/saving/saving_lib.py:719: UserWarning: Skipping variable loading for optimizer 'adam', because it has 58 variables whereas the saved optimizer has 2 variables. \n",
      "  saveable.load_own_variables(weights_store.get(inner_path))\n"
     ]
    },
    {
     "name": "stdout",
     "output_type": "stream",
     "text": [
      "[MODELO CONGELADO]: 6.262291431427002\n"
     ]
    },
    {
     "name": "stderr",
     "output_type": "stream",
     "text": [
      "/home/workstation/Escritorio/PabloC/TransferLearning/funcionesComunes.py:247: FutureWarning: The behavior of DataFrame concatenation with empty or all-NA entries is deprecated. In a future version, this will no longer exclude empty or all-NA columns when determining the result dtypes. To retain the old behavior, exclude the relevant entries before the concat operation.\n",
      "  predictionsDF = pd.concat([predictionsDF, tempDF], ignore_index=True)\n",
      "/home/workstation/Escritorio/PabloC/TransferLearning/funcionesComunes.py:247: FutureWarning: The behavior of DataFrame concatenation with empty or all-NA entries is deprecated. In a future version, this will no longer exclude empty or all-NA columns when determining the result dtypes. To retain the old behavior, exclude the relevant entries before the concat operation.\n",
      "  predictionsDF = pd.concat([predictionsDF, tempDF], ignore_index=True)\n",
      "/home/workstation/Escritorio/PabloC/TransferLearning/funcionesComunes.py:247: FutureWarning: The behavior of DataFrame concatenation with empty or all-NA entries is deprecated. In a future version, this will no longer exclude empty or all-NA columns when determining the result dtypes. To retain the old behavior, exclude the relevant entries before the concat operation.\n",
      "  predictionsDF = pd.concat([predictionsDF, tempDF], ignore_index=True)\n"
     ]
    },
    {
     "name": "stdout",
     "output_type": "stream",
     "text": [
      "RESULTADOS DE MSE, RMSE, R2, MAPE (Train): 5.255641868446878, 2.292518673521958, 0.22413435091289025, 56.91121079365884\n",
      "RESULTADOS DE MSE, RMSE, R2, MAPE (Val): 1.6723372507038363, 1.2931887915938014, 0.1291032305699341, 48.47272209238213\n",
      "RESULTADOS DE MSE, RMSE, R2, MAPE (Test): 1.604193361162247, 1.2665675509668828, 0.3869579999631688, 47.43526491953254\n",
      "Tsuga dumosa Populus ciliata\n",
      "(20493, 77)\n",
      "SE HA NORMALIZADO EL ARCHIVO: Tsuga dumosa_merged.csv\n",
      "(11935, 4, 43) (4144, 4, 43) (3469, 4, 43)\n",
      "<Conv1D name=conv1d_5, built=True> False\n",
      "<BatchNormalization name=batch_normalization_5, built=True> False\n",
      "<MaxPooling1D name=max_pooling1d_4, built=True> False\n",
      "<Conv1D name=conv1d_6, built=True> False\n",
      "<BatchNormalization name=batch_normalization_6, built=True> False\n",
      "<MaxPooling1D name=max_pooling1d_5, built=True> False\n",
      "<Dropout name=dropout_1, built=True> True\n",
      "<Conv1D name=conv1d_7, built=True> False\n",
      "<BatchNormalization name=batch_normalization_7, built=True> False\n",
      "<MaxPooling1D name=max_pooling1d_6, built=True> False\n",
      "<Conv1D name=conv1d_8, built=True> False\n",
      "<BatchNormalization name=batch_normalization_8, built=True> False\n",
      "<MaxPooling1D name=max_pooling1d_7, built=True> False\n",
      "<Conv1D name=conv1d_9, built=True> False\n",
      "<BatchNormalization name=batch_normalization_9, built=True> False\n",
      "<MaxPooling1D name=max_pooling1d_8, built=True> False\n",
      "<Conv1D name=conv1d_10, built=True> True\n",
      "<BatchNormalization name=batch_normalization_10, built=True> True\n",
      "<GlobalAveragePooling1D name=global_average_pooling1d_1, built=True> True\n",
      "<Dense name=dense_2, built=True> True\n",
      "<Dense name=dense_3, built=True> True\n"
     ]
    },
    {
     "name": "stderr",
     "output_type": "stream",
     "text": [
      "/home/workstation/Escritorio/PabloC/TransferLearning/.venv/lib/python3.10/site-packages/keras/src/saving/saving_lib.py:719: UserWarning: Skipping variable loading for optimizer 'adam', because it has 58 variables whereas the saved optimizer has 2 variables. \n",
      "  saveable.load_own_variables(weights_store.get(inner_path))\n"
     ]
    },
    {
     "name": "stdout",
     "output_type": "stream",
     "text": [
      "[MODELO CONGELADO]: 46.354498863220215\n"
     ]
    },
    {
     "name": "stderr",
     "output_type": "stream",
     "text": [
      "/home/workstation/Escritorio/PabloC/TransferLearning/funcionesComunes.py:247: FutureWarning: The behavior of DataFrame concatenation with empty or all-NA entries is deprecated. In a future version, this will no longer exclude empty or all-NA columns when determining the result dtypes. To retain the old behavior, exclude the relevant entries before the concat operation.\n",
      "  predictionsDF = pd.concat([predictionsDF, tempDF], ignore_index=True)\n",
      "/home/workstation/Escritorio/PabloC/TransferLearning/funcionesComunes.py:247: FutureWarning: The behavior of DataFrame concatenation with empty or all-NA entries is deprecated. In a future version, this will no longer exclude empty or all-NA columns when determining the result dtypes. To retain the old behavior, exclude the relevant entries before the concat operation.\n",
      "  predictionsDF = pd.concat([predictionsDF, tempDF], ignore_index=True)\n",
      "/home/workstation/Escritorio/PabloC/TransferLearning/funcionesComunes.py:247: FutureWarning: The behavior of DataFrame concatenation with empty or all-NA entries is deprecated. In a future version, this will no longer exclude empty or all-NA columns when determining the result dtypes. To retain the old behavior, exclude the relevant entries before the concat operation.\n",
      "  predictionsDF = pd.concat([predictionsDF, tempDF], ignore_index=True)\n"
     ]
    },
    {
     "name": "stdout",
     "output_type": "stream",
     "text": [
      "RESULTADOS DE MSE, RMSE, R2, MAPE (Train): 280.5061552567787, 16.74831798291335, 0.279718805682482, 48.16673591748965\n",
      "RESULTADOS DE MSE, RMSE, R2, MAPE (Val): 242.54820745849912, 15.573959273688214, 0.2303086474318803, 44.195941664981135\n",
      "RESULTADOS DE MSE, RMSE, R2, MAPE (Test): 440.4438877609691, 20.986755055533695, 0.28108070446995825, 49.01214754260763\n",
      "Cedrus deodara Populus ciliata\n",
      "(37273, 77)\n",
      "SE HA NORMALIZADO EL ARCHIVO: Cedrus deodara_merged.csv\n",
      "(22017, 4, 43) (7410, 4, 43) (6282, 4, 43)\n",
      "<Conv1D name=conv1d_5, built=True> False\n",
      "<BatchNormalization name=batch_normalization_5, built=True> False\n",
      "<MaxPooling1D name=max_pooling1d_4, built=True> False\n",
      "<Conv1D name=conv1d_6, built=True> False\n",
      "<BatchNormalization name=batch_normalization_6, built=True> False\n",
      "<MaxPooling1D name=max_pooling1d_5, built=True> False\n",
      "<Dropout name=dropout_1, built=True> True\n",
      "<Conv1D name=conv1d_7, built=True> False\n",
      "<BatchNormalization name=batch_normalization_7, built=True> False\n",
      "<MaxPooling1D name=max_pooling1d_6, built=True> False\n",
      "<Conv1D name=conv1d_8, built=True> False\n",
      "<BatchNormalization name=batch_normalization_8, built=True> False\n",
      "<MaxPooling1D name=max_pooling1d_7, built=True> False\n",
      "<Conv1D name=conv1d_9, built=True> False\n",
      "<BatchNormalization name=batch_normalization_9, built=True> False\n",
      "<MaxPooling1D name=max_pooling1d_8, built=True> False\n",
      "<Conv1D name=conv1d_10, built=True> True\n",
      "<BatchNormalization name=batch_normalization_10, built=True> True\n",
      "<GlobalAveragePooling1D name=global_average_pooling1d_1, built=True> True\n",
      "<Dense name=dense_2, built=True> True\n",
      "<Dense name=dense_3, built=True> True\n"
     ]
    },
    {
     "name": "stderr",
     "output_type": "stream",
     "text": [
      "/home/workstation/Escritorio/PabloC/TransferLearning/.venv/lib/python3.10/site-packages/keras/src/saving/saving_lib.py:719: UserWarning: Skipping variable loading for optimizer 'adam', because it has 58 variables whereas the saved optimizer has 2 variables. \n",
      "  saveable.load_own_variables(weights_store.get(inner_path))\n"
     ]
    },
    {
     "name": "stdout",
     "output_type": "stream",
     "text": [
      "[MODELO CONGELADO]: 98.9646668434143\n"
     ]
    },
    {
     "name": "stderr",
     "output_type": "stream",
     "text": [
      "/home/workstation/Escritorio/PabloC/TransferLearning/funcionesComunes.py:247: FutureWarning: The behavior of DataFrame concatenation with empty or all-NA entries is deprecated. In a future version, this will no longer exclude empty or all-NA columns when determining the result dtypes. To retain the old behavior, exclude the relevant entries before the concat operation.\n",
      "  predictionsDF = pd.concat([predictionsDF, tempDF], ignore_index=True)\n",
      "/home/workstation/Escritorio/PabloC/TransferLearning/funcionesComunes.py:247: FutureWarning: The behavior of DataFrame concatenation with empty or all-NA entries is deprecated. In a future version, this will no longer exclude empty or all-NA columns when determining the result dtypes. To retain the old behavior, exclude the relevant entries before the concat operation.\n",
      "  predictionsDF = pd.concat([predictionsDF, tempDF], ignore_index=True)\n",
      "/home/workstation/Escritorio/PabloC/TransferLearning/funcionesComunes.py:247: FutureWarning: The behavior of DataFrame concatenation with empty or all-NA entries is deprecated. In a future version, this will no longer exclude empty or all-NA columns when determining the result dtypes. To retain the old behavior, exclude the relevant entries before the concat operation.\n",
      "  predictionsDF = pd.concat([predictionsDF, tempDF], ignore_index=True)\n"
     ]
    },
    {
     "name": "stdout",
     "output_type": "stream",
     "text": [
      "RESULTADOS DE MSE, RMSE, R2, MAPE (Train): 242.14482953730723, 15.561003487478153, 0.43308850531439647, 42.26296754247893\n",
      "RESULTADOS DE MSE, RMSE, R2, MAPE (Val): 308.11630885627784, 17.553242118089692, 0.30937338128618086, 45.62086012774899\n",
      "RESULTADOS DE MSE, RMSE, R2, MAPE (Test): 216.06170777920354, 14.699037648064024, 0.3869336296158963, 42.10539459585084\n",
      "Juniperus spp. L. Populus ciliata\n",
      "(7264, 77)\n",
      "SE HA NORMALIZADO EL ARCHIVO: Juniperus spp. L._merged.csv\n",
      "(4216, 4, 43) (1524, 4, 43) (1188, 4, 43)\n",
      "<Conv1D name=conv1d_5, built=True> False\n",
      "<BatchNormalization name=batch_normalization_5, built=True> False\n",
      "<MaxPooling1D name=max_pooling1d_4, built=True> False\n",
      "<Conv1D name=conv1d_6, built=True> False\n",
      "<BatchNormalization name=batch_normalization_6, built=True> False\n",
      "<MaxPooling1D name=max_pooling1d_5, built=True> False\n",
      "<Dropout name=dropout_1, built=True> True\n",
      "<Conv1D name=conv1d_7, built=True> False\n",
      "<BatchNormalization name=batch_normalization_7, built=True> False\n",
      "<MaxPooling1D name=max_pooling1d_6, built=True> False\n",
      "<Conv1D name=conv1d_8, built=True> False\n",
      "<BatchNormalization name=batch_normalization_8, built=True> False\n",
      "<MaxPooling1D name=max_pooling1d_7, built=True> False\n",
      "<Conv1D name=conv1d_9, built=True> False\n",
      "<BatchNormalization name=batch_normalization_9, built=True> False\n",
      "<MaxPooling1D name=max_pooling1d_8, built=True> False\n",
      "<Conv1D name=conv1d_10, built=True> True\n",
      "<BatchNormalization name=batch_normalization_10, built=True> True\n",
      "<GlobalAveragePooling1D name=global_average_pooling1d_1, built=True> True\n",
      "<Dense name=dense_2, built=True> True\n",
      "<Dense name=dense_3, built=True> True\n"
     ]
    },
    {
     "name": "stderr",
     "output_type": "stream",
     "text": [
      "/home/workstation/Escritorio/PabloC/TransferLearning/.venv/lib/python3.10/site-packages/keras/src/saving/saving_lib.py:719: UserWarning: Skipping variable loading for optimizer 'adam', because it has 58 variables whereas the saved optimizer has 2 variables. \n",
      "  saveable.load_own_variables(weights_store.get(inner_path))\n"
     ]
    },
    {
     "name": "stdout",
     "output_type": "stream",
     "text": [
      "[MODELO CONGELADO]: 6.445793628692627\n"
     ]
    },
    {
     "name": "stderr",
     "output_type": "stream",
     "text": [
      "/home/workstation/Escritorio/PabloC/TransferLearning/funcionesComunes.py:247: FutureWarning: The behavior of DataFrame concatenation with empty or all-NA entries is deprecated. In a future version, this will no longer exclude empty or all-NA columns when determining the result dtypes. To retain the old behavior, exclude the relevant entries before the concat operation.\n",
      "  predictionsDF = pd.concat([predictionsDF, tempDF], ignore_index=True)\n",
      "/home/workstation/Escritorio/PabloC/TransferLearning/funcionesComunes.py:247: FutureWarning: The behavior of DataFrame concatenation with empty or all-NA entries is deprecated. In a future version, this will no longer exclude empty or all-NA columns when determining the result dtypes. To retain the old behavior, exclude the relevant entries before the concat operation.\n",
      "  predictionsDF = pd.concat([predictionsDF, tempDF], ignore_index=True)\n",
      "/home/workstation/Escritorio/PabloC/TransferLearning/funcionesComunes.py:247: FutureWarning: The behavior of DataFrame concatenation with empty or all-NA entries is deprecated. In a future version, this will no longer exclude empty or all-NA columns when determining the result dtypes. To retain the old behavior, exclude the relevant entries before the concat operation.\n",
      "  predictionsDF = pd.concat([predictionsDF, tempDF], ignore_index=True)\n"
     ]
    },
    {
     "name": "stdout",
     "output_type": "stream",
     "text": [
      "RESULTADOS DE MSE, RMSE, R2, MAPE (Train): 4.730209870541392, 2.174904565846831, 0.6226092324461632, 39.9186365024573\n",
      "RESULTADOS DE MSE, RMSE, R2, MAPE (Val): 1.5513105253925108, 1.2455161682581688, 0.31164726824657063, 43.26443604144588\n",
      "RESULTADOS DE MSE, RMSE, R2, MAPE (Test): 14.953070944750218, 3.8669200851259156, 0.21121672546851655, 55.62428263440458\n",
      "Juniperus recurva Populus ciliata\n",
      "(5316, 77)\n",
      "SE HA NORMALIZADO EL ARCHIVO: Juniperus recurva_merged.csv\n",
      "(3188, 4, 43) (1082, 4, 43) (810, 4, 43)\n",
      "<Conv1D name=conv1d_5, built=True> False\n",
      "<BatchNormalization name=batch_normalization_5, built=True> False\n",
      "<MaxPooling1D name=max_pooling1d_4, built=True> False\n",
      "<Conv1D name=conv1d_6, built=True> False\n",
      "<BatchNormalization name=batch_normalization_6, built=True> False\n",
      "<MaxPooling1D name=max_pooling1d_5, built=True> False\n",
      "<Dropout name=dropout_1, built=True> True\n",
      "<Conv1D name=conv1d_7, built=True> False\n",
      "<BatchNormalization name=batch_normalization_7, built=True> False\n",
      "<MaxPooling1D name=max_pooling1d_6, built=True> False\n",
      "<Conv1D name=conv1d_8, built=True> False\n",
      "<BatchNormalization name=batch_normalization_8, built=True> False\n",
      "<MaxPooling1D name=max_pooling1d_7, built=True> False\n",
      "<Conv1D name=conv1d_9, built=True> False\n",
      "<BatchNormalization name=batch_normalization_9, built=True> False\n",
      "<MaxPooling1D name=max_pooling1d_8, built=True> False\n",
      "<Conv1D name=conv1d_10, built=True> True\n",
      "<BatchNormalization name=batch_normalization_10, built=True> True\n",
      "<GlobalAveragePooling1D name=global_average_pooling1d_1, built=True> True\n",
      "<Dense name=dense_2, built=True> True\n",
      "<Dense name=dense_3, built=True> True\n"
     ]
    },
    {
     "name": "stderr",
     "output_type": "stream",
     "text": [
      "/home/workstation/Escritorio/PabloC/TransferLearning/.venv/lib/python3.10/site-packages/keras/src/saving/saving_lib.py:719: UserWarning: Skipping variable loading for optimizer 'adam', because it has 58 variables whereas the saved optimizer has 2 variables. \n",
      "  saveable.load_own_variables(weights_store.get(inner_path))\n"
     ]
    },
    {
     "name": "stdout",
     "output_type": "stream",
     "text": [
      "[MODELO CONGELADO]: 7.540302276611328\n"
     ]
    },
    {
     "name": "stderr",
     "output_type": "stream",
     "text": [
      "/home/workstation/Escritorio/PabloC/TransferLearning/funcionesComunes.py:247: FutureWarning: The behavior of DataFrame concatenation with empty or all-NA entries is deprecated. In a future version, this will no longer exclude empty or all-NA columns when determining the result dtypes. To retain the old behavior, exclude the relevant entries before the concat operation.\n",
      "  predictionsDF = pd.concat([predictionsDF, tempDF], ignore_index=True)\n",
      "/home/workstation/Escritorio/PabloC/TransferLearning/funcionesComunes.py:247: FutureWarning: The behavior of DataFrame concatenation with empty or all-NA entries is deprecated. In a future version, this will no longer exclude empty or all-NA columns when determining the result dtypes. To retain the old behavior, exclude the relevant entries before the concat operation.\n",
      "  predictionsDF = pd.concat([predictionsDF, tempDF], ignore_index=True)\n",
      "/home/workstation/Escritorio/PabloC/TransferLearning/funcionesComunes.py:247: FutureWarning: The behavior of DataFrame concatenation with empty or all-NA entries is deprecated. In a future version, this will no longer exclude empty or all-NA columns when determining the result dtypes. To retain the old behavior, exclude the relevant entries before the concat operation.\n",
      "  predictionsDF = pd.concat([predictionsDF, tempDF], ignore_index=True)\n"
     ]
    },
    {
     "name": "stdout",
     "output_type": "stream",
     "text": [
      "RESULTADOS DE MSE, RMSE, R2, MAPE (Train): 11.120848899674199, 3.3347936817251824, 0.5580985854490254, 37.92852121382019\n",
      "RESULTADOS DE MSE, RMSE, R2, MAPE (Val): 8.272319976963614, 2.8761641081418867, 0.6996203442713154, 30.937699027329852\n",
      "RESULTADOS DE MSE, RMSE, R2, MAPE (Test): 3.064164079358874, 1.7504753866761091, 0.6742418253237621, 27.23933707114624\n",
      "totalMerged.csv Populus ciliata\n",
      "Juniperus spp.  Populus ciliata\n",
      "(17976, 77)\n",
      "SE HA NORMALIZADO EL ARCHIVO: Juniperus spp. _merged.csv\n",
      "(10218, 4, 43) (3900, 4, 43) (3018, 4, 43)\n",
      "<Conv1D name=conv1d_5, built=True> False\n",
      "<BatchNormalization name=batch_normalization_5, built=True> False\n",
      "<MaxPooling1D name=max_pooling1d_4, built=True> False\n",
      "<Conv1D name=conv1d_6, built=True> False\n",
      "<BatchNormalization name=batch_normalization_6, built=True> False\n",
      "<MaxPooling1D name=max_pooling1d_5, built=True> False\n",
      "<Dropout name=dropout_1, built=True> True\n",
      "<Conv1D name=conv1d_7, built=True> False\n",
      "<BatchNormalization name=batch_normalization_7, built=True> False\n",
      "<MaxPooling1D name=max_pooling1d_6, built=True> False\n",
      "<Conv1D name=conv1d_8, built=True> False\n",
      "<BatchNormalization name=batch_normalization_8, built=True> False\n",
      "<MaxPooling1D name=max_pooling1d_7, built=True> False\n",
      "<Conv1D name=conv1d_9, built=True> False\n",
      "<BatchNormalization name=batch_normalization_9, built=True> False\n",
      "<MaxPooling1D name=max_pooling1d_8, built=True> False\n",
      "<Conv1D name=conv1d_10, built=True> True\n",
      "<BatchNormalization name=batch_normalization_10, built=True> True\n",
      "<GlobalAveragePooling1D name=global_average_pooling1d_1, built=True> True\n",
      "<Dense name=dense_2, built=True> True\n",
      "<Dense name=dense_3, built=True> True\n"
     ]
    },
    {
     "name": "stderr",
     "output_type": "stream",
     "text": [
      "/home/workstation/Escritorio/PabloC/TransferLearning/.venv/lib/python3.10/site-packages/keras/src/saving/saving_lib.py:719: UserWarning: Skipping variable loading for optimizer 'adam', because it has 58 variables whereas the saved optimizer has 2 variables. \n",
      "  saveable.load_own_variables(weights_store.get(inner_path))\n"
     ]
    },
    {
     "name": "stdout",
     "output_type": "stream",
     "text": [
      "[MODELO CONGELADO]: 12.504826545715332\n"
     ]
    },
    {
     "name": "stderr",
     "output_type": "stream",
     "text": [
      "/home/workstation/Escritorio/PabloC/TransferLearning/funcionesComunes.py:247: FutureWarning: The behavior of DataFrame concatenation with empty or all-NA entries is deprecated. In a future version, this will no longer exclude empty or all-NA columns when determining the result dtypes. To retain the old behavior, exclude the relevant entries before the concat operation.\n",
      "  predictionsDF = pd.concat([predictionsDF, tempDF], ignore_index=True)\n",
      "/home/workstation/Escritorio/PabloC/TransferLearning/funcionesComunes.py:247: FutureWarning: The behavior of DataFrame concatenation with empty or all-NA entries is deprecated. In a future version, this will no longer exclude empty or all-NA columns when determining the result dtypes. To retain the old behavior, exclude the relevant entries before the concat operation.\n",
      "  predictionsDF = pd.concat([predictionsDF, tempDF], ignore_index=True)\n",
      "/home/workstation/Escritorio/PabloC/TransferLearning/funcionesComunes.py:247: FutureWarning: The behavior of DataFrame concatenation with empty or all-NA entries is deprecated. In a future version, this will no longer exclude empty or all-NA columns when determining the result dtypes. To retain the old behavior, exclude the relevant entries before the concat operation.\n",
      "  predictionsDF = pd.concat([predictionsDF, tempDF], ignore_index=True)\n"
     ]
    },
    {
     "name": "stdout",
     "output_type": "stream",
     "text": [
      "RESULTADOS DE MSE, RMSE, R2, MAPE (Train): 33.53950829214155, 5.791330442319929, 0.4529935995769423, 42.640770318612496\n",
      "RESULTADOS DE MSE, RMSE, R2, MAPE (Val): 9.421507659869153, 3.0694474518826924, 0.5210881618057626, 42.62842399886101\n",
      "RESULTADOS DE MSE, RMSE, R2, MAPE (Test): 51.466578624287756, 7.174021091709151, 0.5074795236689651, 43.418510584888764\n",
      "Procesando el modelo: model_Juniperus spp. L..keras\n",
      "Abies spectabilis Juniperus spp. L.\n",
      "(96429, 77)\n",
      "SE HA NORMALIZADO EL ARCHIVO: Abies spectabilis_merged.csv\n",
      "(56618, 4, 43) (19637, 4, 43) (15689, 4, 43)\n",
      "<Conv1D name=conv1d_5, built=True> False\n",
      "<BatchNormalization name=batch_normalization_5, built=True> False\n",
      "<MaxPooling1D name=max_pooling1d_4, built=True> False\n",
      "<Conv1D name=conv1d_6, built=True> False\n",
      "<BatchNormalization name=batch_normalization_6, built=True> False\n",
      "<MaxPooling1D name=max_pooling1d_5, built=True> False\n",
      "<Dropout name=dropout_1, built=True> True\n",
      "<Conv1D name=conv1d_7, built=True> False\n",
      "<BatchNormalization name=batch_normalization_7, built=True> False\n",
      "<MaxPooling1D name=max_pooling1d_6, built=True> False\n",
      "<Conv1D name=conv1d_8, built=True> False\n",
      "<BatchNormalization name=batch_normalization_8, built=True> False\n",
      "<MaxPooling1D name=max_pooling1d_7, built=True> False\n",
      "<Conv1D name=conv1d_9, built=True> True\n",
      "<BatchNormalization name=batch_normalization_9, built=True> True\n",
      "<GlobalAveragePooling1D name=global_average_pooling1d_1, built=True> True\n",
      "<Dense name=dense_2, built=True> True\n",
      "<Dense name=dense_3, built=True> True\n"
     ]
    },
    {
     "name": "stderr",
     "output_type": "stream",
     "text": [
      "/home/workstation/Escritorio/PabloC/TransferLearning/.venv/lib/python3.10/site-packages/keras/src/saving/saving_lib.py:719: UserWarning: Skipping variable loading for optimizer 'adam', because it has 50 variables whereas the saved optimizer has 2 variables. \n",
      "  saveable.load_own_variables(weights_store.get(inner_path))\n"
     ]
    },
    {
     "name": "stdout",
     "output_type": "stream",
     "text": [
      "[MODELO CONGELADO]: 181.0812783241272\n"
     ]
    },
    {
     "name": "stderr",
     "output_type": "stream",
     "text": [
      "/home/workstation/Escritorio/PabloC/TransferLearning/funcionesComunes.py:247: FutureWarning: The behavior of DataFrame concatenation with empty or all-NA entries is deprecated. In a future version, this will no longer exclude empty or all-NA columns when determining the result dtypes. To retain the old behavior, exclude the relevant entries before the concat operation.\n",
      "  predictionsDF = pd.concat([predictionsDF, tempDF], ignore_index=True)\n",
      "/home/workstation/Escritorio/PabloC/TransferLearning/funcionesComunes.py:247: FutureWarning: The behavior of DataFrame concatenation with empty or all-NA entries is deprecated. In a future version, this will no longer exclude empty or all-NA columns when determining the result dtypes. To retain the old behavior, exclude the relevant entries before the concat operation.\n",
      "  predictionsDF = pd.concat([predictionsDF, tempDF], ignore_index=True)\n",
      "/home/workstation/Escritorio/PabloC/TransferLearning/funcionesComunes.py:247: FutureWarning: The behavior of DataFrame concatenation with empty or all-NA entries is deprecated. In a future version, this will no longer exclude empty or all-NA columns when determining the result dtypes. To retain the old behavior, exclude the relevant entries before the concat operation.\n",
      "  predictionsDF = pd.concat([predictionsDF, tempDF], ignore_index=True)\n"
     ]
    },
    {
     "name": "stdout",
     "output_type": "stream",
     "text": [
      "RESULTADOS DE MSE, RMSE, R2, MAPE (Train): 73.43320886365031, 8.569317876216887, 0.35573688498580536, 45.906665706373865\n",
      "RESULTADOS DE MSE, RMSE, R2, MAPE (Val): 71.47157102003959, 8.454086054686195, 0.3487764081206175, 45.471556261197414\n",
      "RESULTADOS DE MSE, RMSE, R2, MAPE (Test): 76.99716509336398, 8.774802852108072, 0.4289693173193725, 44.96828501159861\n",
      "Picea smithiana Juniperus spp. L.\n",
      "(34476, 77)\n",
      "SE HA NORMALIZADO EL ARCHIVO: Picea smithiana_merged.csv\n",
      "(19933, 4, 43) (7272, 4, 43) (5863, 4, 43)\n",
      "<Conv1D name=conv1d_5, built=True> False\n",
      "<BatchNormalization name=batch_normalization_5, built=True> False\n",
      "<MaxPooling1D name=max_pooling1d_4, built=True> False\n",
      "<Conv1D name=conv1d_6, built=True> False\n",
      "<BatchNormalization name=batch_normalization_6, built=True> False\n",
      "<MaxPooling1D name=max_pooling1d_5, built=True> False\n",
      "<Dropout name=dropout_1, built=True> True\n",
      "<Conv1D name=conv1d_7, built=True> False\n",
      "<BatchNormalization name=batch_normalization_7, built=True> False\n",
      "<MaxPooling1D name=max_pooling1d_6, built=True> False\n",
      "<Conv1D name=conv1d_8, built=True> False\n",
      "<BatchNormalization name=batch_normalization_8, built=True> False\n",
      "<MaxPooling1D name=max_pooling1d_7, built=True> False\n",
      "<Conv1D name=conv1d_9, built=True> True\n",
      "<BatchNormalization name=batch_normalization_9, built=True> True\n",
      "<GlobalAveragePooling1D name=global_average_pooling1d_1, built=True> True\n",
      "<Dense name=dense_2, built=True> True\n",
      "<Dense name=dense_3, built=True> True\n"
     ]
    },
    {
     "name": "stderr",
     "output_type": "stream",
     "text": [
      "/home/workstation/Escritorio/PabloC/TransferLearning/.venv/lib/python3.10/site-packages/keras/src/saving/saving_lib.py:719: UserWarning: Skipping variable loading for optimizer 'adam', because it has 50 variables whereas the saved optimizer has 2 variables. \n",
      "  saveable.load_own_variables(weights_store.get(inner_path))\n"
     ]
    },
    {
     "name": "stdout",
     "output_type": "stream",
     "text": [
      "[MODELO CONGELADO]: 85.01543879508972\n"
     ]
    },
    {
     "name": "stderr",
     "output_type": "stream",
     "text": [
      "/home/workstation/Escritorio/PabloC/TransferLearning/funcionesComunes.py:247: FutureWarning: The behavior of DataFrame concatenation with empty or all-NA entries is deprecated. In a future version, this will no longer exclude empty or all-NA columns when determining the result dtypes. To retain the old behavior, exclude the relevant entries before the concat operation.\n",
      "  predictionsDF = pd.concat([predictionsDF, tempDF], ignore_index=True)\n",
      "/home/workstation/Escritorio/PabloC/TransferLearning/funcionesComunes.py:247: FutureWarning: The behavior of DataFrame concatenation with empty or all-NA entries is deprecated. In a future version, this will no longer exclude empty or all-NA columns when determining the result dtypes. To retain the old behavior, exclude the relevant entries before the concat operation.\n",
      "  predictionsDF = pd.concat([predictionsDF, tempDF], ignore_index=True)\n",
      "/home/workstation/Escritorio/PabloC/TransferLearning/funcionesComunes.py:247: FutureWarning: The behavior of DataFrame concatenation with empty or all-NA entries is deprecated. In a future version, this will no longer exclude empty or all-NA columns when determining the result dtypes. To retain the old behavior, exclude the relevant entries before the concat operation.\n",
      "  predictionsDF = pd.concat([predictionsDF, tempDF], ignore_index=True)\n"
     ]
    },
    {
     "name": "stdout",
     "output_type": "stream",
     "text": [
      "RESULTADOS DE MSE, RMSE, R2, MAPE (Train): 151.58986908912644, 12.312183766055737, 0.5557547099675044, 34.48418993495183\n",
      "RESULTADOS DE MSE, RMSE, R2, MAPE (Val): 180.627472843654, 13.439772053262436, 0.47875703809931136, 37.38047707393081\n",
      "RESULTADOS DE MSE, RMSE, R2, MAPE (Test): 135.0665253021848, 11.621812479221337, 0.5438861417179914, 35.5802432776952\n",
      "Abies pindrow Juniperus spp. L.\n",
      "(16018, 77)\n",
      "SE HA NORMALIZADO EL ARCHIVO: Abies pindrow_merged.csv\n",
      "(9042, 4, 43) (3441, 4, 43) (2815, 4, 43)\n",
      "<Conv1D name=conv1d_5, built=True> False\n",
      "<BatchNormalization name=batch_normalization_5, built=True> False\n",
      "<MaxPooling1D name=max_pooling1d_4, built=True> False\n",
      "<Conv1D name=conv1d_6, built=True> False\n",
      "<BatchNormalization name=batch_normalization_6, built=True> False\n",
      "<MaxPooling1D name=max_pooling1d_5, built=True> False\n",
      "<Dropout name=dropout_1, built=True> True\n",
      "<Conv1D name=conv1d_7, built=True> False\n",
      "<BatchNormalization name=batch_normalization_7, built=True> False\n",
      "<MaxPooling1D name=max_pooling1d_6, built=True> False\n",
      "<Conv1D name=conv1d_8, built=True> False\n",
      "<BatchNormalization name=batch_normalization_8, built=True> False\n",
      "<MaxPooling1D name=max_pooling1d_7, built=True> False\n",
      "<Conv1D name=conv1d_9, built=True> True\n",
      "<BatchNormalization name=batch_normalization_9, built=True> True\n",
      "<GlobalAveragePooling1D name=global_average_pooling1d_1, built=True> True\n",
      "<Dense name=dense_2, built=True> True\n",
      "<Dense name=dense_3, built=True> True\n"
     ]
    },
    {
     "name": "stderr",
     "output_type": "stream",
     "text": [
      "/home/workstation/Escritorio/PabloC/TransferLearning/.venv/lib/python3.10/site-packages/keras/src/saving/saving_lib.py:719: UserWarning: Skipping variable loading for optimizer 'adam', because it has 50 variables whereas the saved optimizer has 2 variables. \n",
      "  saveable.load_own_variables(weights_store.get(inner_path))\n"
     ]
    },
    {
     "name": "stdout",
     "output_type": "stream",
     "text": [
      "[MODELO CONGELADO]: 79.85030150413513\n"
     ]
    },
    {
     "name": "stderr",
     "output_type": "stream",
     "text": [
      "/home/workstation/Escritorio/PabloC/TransferLearning/funcionesComunes.py:247: FutureWarning: The behavior of DataFrame concatenation with empty or all-NA entries is deprecated. In a future version, this will no longer exclude empty or all-NA columns when determining the result dtypes. To retain the old behavior, exclude the relevant entries before the concat operation.\n",
      "  predictionsDF = pd.concat([predictionsDF, tempDF], ignore_index=True)\n",
      "/home/workstation/Escritorio/PabloC/TransferLearning/funcionesComunes.py:247: FutureWarning: The behavior of DataFrame concatenation with empty or all-NA entries is deprecated. In a future version, this will no longer exclude empty or all-NA columns when determining the result dtypes. To retain the old behavior, exclude the relevant entries before the concat operation.\n",
      "  predictionsDF = pd.concat([predictionsDF, tempDF], ignore_index=True)\n",
      "/home/workstation/Escritorio/PabloC/TransferLearning/funcionesComunes.py:247: FutureWarning: The behavior of DataFrame concatenation with empty or all-NA entries is deprecated. In a future version, this will no longer exclude empty or all-NA columns when determining the result dtypes. To retain the old behavior, exclude the relevant entries before the concat operation.\n",
      "  predictionsDF = pd.concat([predictionsDF, tempDF], ignore_index=True)\n"
     ]
    },
    {
     "name": "stdout",
     "output_type": "stream",
     "text": [
      "RESULTADOS DE MSE, RMSE, R2, MAPE (Train): 134.53195144061613, 11.598790947362406, 0.42254588420227157, 36.394696694992625\n",
      "RESULTADOS DE MSE, RMSE, R2, MAPE (Val): 114.54274171034298, 10.702464282133484, 0.34659228195722724, 32.366158524908215\n",
      "RESULTADOS DE MSE, RMSE, R2, MAPE (Test): 193.62079398846362, 13.91476891610003, -0.3688443014698426, 38.826664885274944\n",
      "Juniperus excelsa M.-Bieb Juniperus spp. L.\n",
      "(7449, 77)\n",
      "SE HA NORMALIZADO EL ARCHIVO: Juniperus excelsa M.-Bieb_merged.csv\n",
      "(4189, 4, 43) (1707, 4, 43) (1228, 4, 43)\n",
      "<Conv1D name=conv1d_5, built=True> False\n",
      "<BatchNormalization name=batch_normalization_5, built=True> False\n",
      "<MaxPooling1D name=max_pooling1d_4, built=True> False\n",
      "<Conv1D name=conv1d_6, built=True> False\n",
      "<BatchNormalization name=batch_normalization_6, built=True> False\n",
      "<MaxPooling1D name=max_pooling1d_5, built=True> False\n",
      "<Dropout name=dropout_1, built=True> True\n",
      "<Conv1D name=conv1d_7, built=True> False\n",
      "<BatchNormalization name=batch_normalization_7, built=True> False\n",
      "<MaxPooling1D name=max_pooling1d_6, built=True> False\n",
      "<Conv1D name=conv1d_8, built=True> False\n",
      "<BatchNormalization name=batch_normalization_8, built=True> False\n",
      "<MaxPooling1D name=max_pooling1d_7, built=True> False\n",
      "<Conv1D name=conv1d_9, built=True> True\n",
      "<BatchNormalization name=batch_normalization_9, built=True> True\n",
      "<GlobalAveragePooling1D name=global_average_pooling1d_1, built=True> True\n",
      "<Dense name=dense_2, built=True> True\n",
      "<Dense name=dense_3, built=True> True\n"
     ]
    },
    {
     "name": "stderr",
     "output_type": "stream",
     "text": [
      "/home/workstation/Escritorio/PabloC/TransferLearning/.venv/lib/python3.10/site-packages/keras/src/saving/saving_lib.py:719: UserWarning: Skipping variable loading for optimizer 'adam', because it has 50 variables whereas the saved optimizer has 2 variables. \n",
      "  saveable.load_own_variables(weights_store.get(inner_path))\n"
     ]
    },
    {
     "name": "stdout",
     "output_type": "stream",
     "text": [
      "[MODELO CONGELADO]: 15.882492542266846\n"
     ]
    },
    {
     "name": "stderr",
     "output_type": "stream",
     "text": [
      "/home/workstation/Escritorio/PabloC/TransferLearning/funcionesComunes.py:247: FutureWarning: The behavior of DataFrame concatenation with empty or all-NA entries is deprecated. In a future version, this will no longer exclude empty or all-NA columns when determining the result dtypes. To retain the old behavior, exclude the relevant entries before the concat operation.\n",
      "  predictionsDF = pd.concat([predictionsDF, tempDF], ignore_index=True)\n",
      "/home/workstation/Escritorio/PabloC/TransferLearning/funcionesComunes.py:247: FutureWarning: The behavior of DataFrame concatenation with empty or all-NA entries is deprecated. In a future version, this will no longer exclude empty or all-NA columns when determining the result dtypes. To retain the old behavior, exclude the relevant entries before the concat operation.\n",
      "  predictionsDF = pd.concat([predictionsDF, tempDF], ignore_index=True)\n",
      "/home/workstation/Escritorio/PabloC/TransferLearning/funcionesComunes.py:247: FutureWarning: The behavior of DataFrame concatenation with empty or all-NA entries is deprecated. In a future version, this will no longer exclude empty or all-NA columns when determining the result dtypes. To retain the old behavior, exclude the relevant entries before the concat operation.\n",
      "  predictionsDF = pd.concat([predictionsDF, tempDF], ignore_index=True)\n"
     ]
    },
    {
     "name": "stdout",
     "output_type": "stream",
     "text": [
      "RESULTADOS DE MSE, RMSE, R2, MAPE (Train): 6.471480737538751, 2.543910520741394, 0.7369472335798133, 25.428455498346793\n",
      "RESULTADOS DE MSE, RMSE, R2, MAPE (Val): 7.202353825192173, 2.68372014658611, 0.7253292584477377, 30.191536054934996\n",
      "RESULTADOS DE MSE, RMSE, R2, MAPE (Test): 21.193411134302355, 4.603630212593357, 0.6857900683703448, 33.455817239258636\n",
      "Juniperus turkestanica Komar. Juniperus spp. L.\n",
      "(6305, 77)\n",
      "SE HA NORMALIZADO EL ARCHIVO: Juniperus turkestanica Komar._merged.csv\n",
      "(3664, 4, 43) (1368, 4, 43) (1001, 4, 43)\n",
      "<Conv1D name=conv1d_5, built=True> False\n",
      "<BatchNormalization name=batch_normalization_5, built=True> False\n",
      "<MaxPooling1D name=max_pooling1d_4, built=True> False\n",
      "<Conv1D name=conv1d_6, built=True> False\n",
      "<BatchNormalization name=batch_normalization_6, built=True> False\n",
      "<MaxPooling1D name=max_pooling1d_5, built=True> False\n",
      "<Dropout name=dropout_1, built=True> True\n",
      "<Conv1D name=conv1d_7, built=True> False\n",
      "<BatchNormalization name=batch_normalization_7, built=True> False\n",
      "<MaxPooling1D name=max_pooling1d_6, built=True> False\n",
      "<Conv1D name=conv1d_8, built=True> False\n",
      "<BatchNormalization name=batch_normalization_8, built=True> False\n",
      "<MaxPooling1D name=max_pooling1d_7, built=True> False\n",
      "<Conv1D name=conv1d_9, built=True> True\n",
      "<BatchNormalization name=batch_normalization_9, built=True> True\n",
      "<GlobalAveragePooling1D name=global_average_pooling1d_1, built=True> True\n",
      "<Dense name=dense_2, built=True> True\n",
      "<Dense name=dense_3, built=True> True\n"
     ]
    },
    {
     "name": "stderr",
     "output_type": "stream",
     "text": [
      "/home/workstation/Escritorio/PabloC/TransferLearning/.venv/lib/python3.10/site-packages/keras/src/saving/saving_lib.py:719: UserWarning: Skipping variable loading for optimizer 'adam', because it has 50 variables whereas the saved optimizer has 2 variables. \n",
      "  saveable.load_own_variables(weights_store.get(inner_path))\n"
     ]
    },
    {
     "name": "stdout",
     "output_type": "stream",
     "text": [
      "[MODELO CONGELADO]: 16.01859426498413\n"
     ]
    },
    {
     "name": "stderr",
     "output_type": "stream",
     "text": [
      "/home/workstation/Escritorio/PabloC/TransferLearning/funcionesComunes.py:247: FutureWarning: The behavior of DataFrame concatenation with empty or all-NA entries is deprecated. In a future version, this will no longer exclude empty or all-NA columns when determining the result dtypes. To retain the old behavior, exclude the relevant entries before the concat operation.\n",
      "  predictionsDF = pd.concat([predictionsDF, tempDF], ignore_index=True)\n",
      "/home/workstation/Escritorio/PabloC/TransferLearning/funcionesComunes.py:247: FutureWarning: The behavior of DataFrame concatenation with empty or all-NA entries is deprecated. In a future version, this will no longer exclude empty or all-NA columns when determining the result dtypes. To retain the old behavior, exclude the relevant entries before the concat operation.\n",
      "  predictionsDF = pd.concat([predictionsDF, tempDF], ignore_index=True)\n",
      "/home/workstation/Escritorio/PabloC/TransferLearning/funcionesComunes.py:247: FutureWarning: The behavior of DataFrame concatenation with empty or all-NA entries is deprecated. In a future version, this will no longer exclude empty or all-NA columns when determining the result dtypes. To retain the old behavior, exclude the relevant entries before the concat operation.\n",
      "  predictionsDF = pd.concat([predictionsDF, tempDF], ignore_index=True)\n"
     ]
    },
    {
     "name": "stdout",
     "output_type": "stream",
     "text": [
      "RESULTADOS DE MSE, RMSE, R2, MAPE (Train): 3.8076933560513617, 1.951331175390626, 0.9151711569109828, 19.90569209225632\n",
      "RESULTADOS DE MSE, RMSE, R2, MAPE (Val): 2.891524156339441, 1.7004482221871506, 0.8318500355337204, 22.442814472665564\n",
      "RESULTADOS DE MSE, RMSE, R2, MAPE (Test): 1.2394414848004514, 1.1133020635930087, 0.771977385256757, 22.19173712030067\n",
      "Pinus roxburghii Juniperus spp. L.\n",
      "(10635, 77)\n",
      "SE HA NORMALIZADO EL ARCHIVO: Pinus roxburghii_merged.csv\n",
      "(6309, 4, 43) (2167, 4, 43) (1647, 4, 43)\n",
      "<Conv1D name=conv1d_5, built=True> False\n",
      "<BatchNormalization name=batch_normalization_5, built=True> False\n",
      "<MaxPooling1D name=max_pooling1d_4, built=True> False\n",
      "<Conv1D name=conv1d_6, built=True> False\n",
      "<BatchNormalization name=batch_normalization_6, built=True> False\n",
      "<MaxPooling1D name=max_pooling1d_5, built=True> False\n",
      "<Dropout name=dropout_1, built=True> True\n",
      "<Conv1D name=conv1d_7, built=True> False\n",
      "<BatchNormalization name=batch_normalization_7, built=True> False\n",
      "<MaxPooling1D name=max_pooling1d_6, built=True> False\n",
      "<Conv1D name=conv1d_8, built=True> False\n",
      "<BatchNormalization name=batch_normalization_8, built=True> False\n",
      "<MaxPooling1D name=max_pooling1d_7, built=True> False\n",
      "<Conv1D name=conv1d_9, built=True> True\n",
      "<BatchNormalization name=batch_normalization_9, built=True> True\n",
      "<GlobalAveragePooling1D name=global_average_pooling1d_1, built=True> True\n",
      "<Dense name=dense_2, built=True> True\n",
      "<Dense name=dense_3, built=True> True\n"
     ]
    },
    {
     "name": "stderr",
     "output_type": "stream",
     "text": [
      "/home/workstation/Escritorio/PabloC/TransferLearning/.venv/lib/python3.10/site-packages/keras/src/saving/saving_lib.py:719: UserWarning: Skipping variable loading for optimizer 'adam', because it has 50 variables whereas the saved optimizer has 2 variables. \n",
      "  saveable.load_own_variables(weights_store.get(inner_path))\n"
     ]
    },
    {
     "name": "stdout",
     "output_type": "stream",
     "text": [
      "[MODELO CONGELADO]: 26.44490671157837\n"
     ]
    },
    {
     "name": "stderr",
     "output_type": "stream",
     "text": [
      "/home/workstation/Escritorio/PabloC/TransferLearning/funcionesComunes.py:247: FutureWarning: The behavior of DataFrame concatenation with empty or all-NA entries is deprecated. In a future version, this will no longer exclude empty or all-NA columns when determining the result dtypes. To retain the old behavior, exclude the relevant entries before the concat operation.\n",
      "  predictionsDF = pd.concat([predictionsDF, tempDF], ignore_index=True)\n",
      "/home/workstation/Escritorio/PabloC/TransferLearning/funcionesComunes.py:247: FutureWarning: The behavior of DataFrame concatenation with empty or all-NA entries is deprecated. In a future version, this will no longer exclude empty or all-NA columns when determining the result dtypes. To retain the old behavior, exclude the relevant entries before the concat operation.\n",
      "  predictionsDF = pd.concat([predictionsDF, tempDF], ignore_index=True)\n",
      "/home/workstation/Escritorio/PabloC/TransferLearning/funcionesComunes.py:247: FutureWarning: The behavior of DataFrame concatenation with empty or all-NA entries is deprecated. In a future version, this will no longer exclude empty or all-NA columns when determining the result dtypes. To retain the old behavior, exclude the relevant entries before the concat operation.\n",
      "  predictionsDF = pd.concat([predictionsDF, tempDF], ignore_index=True)\n"
     ]
    },
    {
     "name": "stdout",
     "output_type": "stream",
     "text": [
      "RESULTADOS DE MSE, RMSE, R2, MAPE (Train): 176.7072614486752, 13.293128354479814, 0.3375182851085622, 42.50899923316298\n",
      "RESULTADOS DE MSE, RMSE, R2, MAPE (Val): 137.90162566755717, 11.74315228835755, 0.38439065276346895, 41.49043432277717\n",
      "RESULTADOS DE MSE, RMSE, R2, MAPE (Test): 150.75309883225313, 12.278155351365006, 0.3674084960858117, 42.40393629582166\n",
      "Pinus wallichiana Juniperus spp. L.\n",
      "(9365, 77)\n",
      "SE HA NORMALIZADO EL ARCHIVO: Pinus wallichiana_merged.csv\n",
      "(5508, 4, 43) (1957, 4, 43) (1500, 4, 43)\n",
      "<Conv1D name=conv1d_5, built=True> False\n",
      "<BatchNormalization name=batch_normalization_5, built=True> False\n",
      "<MaxPooling1D name=max_pooling1d_4, built=True> False\n",
      "<Conv1D name=conv1d_6, built=True> False\n",
      "<BatchNormalization name=batch_normalization_6, built=True> False\n",
      "<MaxPooling1D name=max_pooling1d_5, built=True> False\n",
      "<Dropout name=dropout_1, built=True> True\n",
      "<Conv1D name=conv1d_7, built=True> False\n",
      "<BatchNormalization name=batch_normalization_7, built=True> False\n",
      "<MaxPooling1D name=max_pooling1d_6, built=True> False\n",
      "<Conv1D name=conv1d_8, built=True> False\n",
      "<BatchNormalization name=batch_normalization_8, built=True> False\n",
      "<MaxPooling1D name=max_pooling1d_7, built=True> False\n",
      "<Conv1D name=conv1d_9, built=True> True\n",
      "<BatchNormalization name=batch_normalization_9, built=True> True\n",
      "<GlobalAveragePooling1D name=global_average_pooling1d_1, built=True> True\n",
      "<Dense name=dense_2, built=True> True\n",
      "<Dense name=dense_3, built=True> True\n"
     ]
    },
    {
     "name": "stderr",
     "output_type": "stream",
     "text": [
      "/home/workstation/Escritorio/PabloC/TransferLearning/.venv/lib/python3.10/site-packages/keras/src/saving/saving_lib.py:719: UserWarning: Skipping variable loading for optimizer 'adam', because it has 50 variables whereas the saved optimizer has 2 variables. \n",
      "  saveable.load_own_variables(weights_store.get(inner_path))\n"
     ]
    },
    {
     "name": "stdout",
     "output_type": "stream",
     "text": [
      "[MODELO CONGELADO]: 31.960132122039795\n"
     ]
    },
    {
     "name": "stderr",
     "output_type": "stream",
     "text": [
      "/home/workstation/Escritorio/PabloC/TransferLearning/funcionesComunes.py:247: FutureWarning: The behavior of DataFrame concatenation with empty or all-NA entries is deprecated. In a future version, this will no longer exclude empty or all-NA columns when determining the result dtypes. To retain the old behavior, exclude the relevant entries before the concat operation.\n",
      "  predictionsDF = pd.concat([predictionsDF, tempDF], ignore_index=True)\n",
      "/home/workstation/Escritorio/PabloC/TransferLearning/funcionesComunes.py:247: FutureWarning: The behavior of DataFrame concatenation with empty or all-NA entries is deprecated. In a future version, this will no longer exclude empty or all-NA columns when determining the result dtypes. To retain the old behavior, exclude the relevant entries before the concat operation.\n",
      "  predictionsDF = pd.concat([predictionsDF, tempDF], ignore_index=True)\n",
      "/home/workstation/Escritorio/PabloC/TransferLearning/funcionesComunes.py:247: FutureWarning: The behavior of DataFrame concatenation with empty or all-NA entries is deprecated. In a future version, this will no longer exclude empty or all-NA columns when determining the result dtypes. To retain the old behavior, exclude the relevant entries before the concat operation.\n",
      "  predictionsDF = pd.concat([predictionsDF, tempDF], ignore_index=True)\n"
     ]
    },
    {
     "name": "stdout",
     "output_type": "stream",
     "text": [
      "RESULTADOS DE MSE, RMSE, R2, MAPE (Train): 18.206273665395887, 4.266881023112302, 0.7299244594044052, 25.380951678017055\n",
      "RESULTADOS DE MSE, RMSE, R2, MAPE (Val): 14.045168894921531, 3.747688473568945, 0.7650655275930757, 26.48998338599214\n",
      "RESULTADOS DE MSE, RMSE, R2, MAPE (Test): 41.07071118790936, 6.40864347486341, 0.025921158837065916, 40.58740797239436\n",
      "Pinus gerardiana Juniperus spp. L.\n",
      "(10101, 77)\n",
      "SE HA NORMALIZADO EL ARCHIVO: Pinus gerardiana_merged.csv\n",
      "(5767, 4, 43) (2181, 4, 43) (1745, 4, 43)\n",
      "<Conv1D name=conv1d_5, built=True> False\n",
      "<BatchNormalization name=batch_normalization_5, built=True> False\n",
      "<MaxPooling1D name=max_pooling1d_4, built=True> False\n",
      "<Conv1D name=conv1d_6, built=True> False\n",
      "<BatchNormalization name=batch_normalization_6, built=True> False\n",
      "<MaxPooling1D name=max_pooling1d_5, built=True> False\n",
      "<Dropout name=dropout_1, built=True> True\n",
      "<Conv1D name=conv1d_7, built=True> False\n",
      "<BatchNormalization name=batch_normalization_7, built=True> False\n",
      "<MaxPooling1D name=max_pooling1d_6, built=True> False\n",
      "<Conv1D name=conv1d_8, built=True> False\n",
      "<BatchNormalization name=batch_normalization_8, built=True> False\n",
      "<MaxPooling1D name=max_pooling1d_7, built=True> False\n",
      "<Conv1D name=conv1d_9, built=True> True\n",
      "<BatchNormalization name=batch_normalization_9, built=True> True\n",
      "<GlobalAveragePooling1D name=global_average_pooling1d_1, built=True> True\n",
      "<Dense name=dense_2, built=True> True\n",
      "<Dense name=dense_3, built=True> True\n"
     ]
    },
    {
     "name": "stderr",
     "output_type": "stream",
     "text": [
      "/home/workstation/Escritorio/PabloC/TransferLearning/.venv/lib/python3.10/site-packages/keras/src/saving/saving_lib.py:719: UserWarning: Skipping variable loading for optimizer 'adam', because it has 50 variables whereas the saved optimizer has 2 variables. \n",
      "  saveable.load_own_variables(weights_store.get(inner_path))\n"
     ]
    },
    {
     "name": "stdout",
     "output_type": "stream",
     "text": [
      "[MODELO CONGELADO]: 17.531112670898438\n"
     ]
    },
    {
     "name": "stderr",
     "output_type": "stream",
     "text": [
      "/home/workstation/Escritorio/PabloC/TransferLearning/funcionesComunes.py:247: FutureWarning: The behavior of DataFrame concatenation with empty or all-NA entries is deprecated. In a future version, this will no longer exclude empty or all-NA columns when determining the result dtypes. To retain the old behavior, exclude the relevant entries before the concat operation.\n",
      "  predictionsDF = pd.concat([predictionsDF, tempDF], ignore_index=True)\n",
      "/home/workstation/Escritorio/PabloC/TransferLearning/funcionesComunes.py:247: FutureWarning: The behavior of DataFrame concatenation with empty or all-NA entries is deprecated. In a future version, this will no longer exclude empty or all-NA columns when determining the result dtypes. To retain the old behavior, exclude the relevant entries before the concat operation.\n",
      "  predictionsDF = pd.concat([predictionsDF, tempDF], ignore_index=True)\n",
      "/home/workstation/Escritorio/PabloC/TransferLearning/funcionesComunes.py:247: FutureWarning: The behavior of DataFrame concatenation with empty or all-NA entries is deprecated. In a future version, this will no longer exclude empty or all-NA columns when determining the result dtypes. To retain the old behavior, exclude the relevant entries before the concat operation.\n",
      "  predictionsDF = pd.concat([predictionsDF, tempDF], ignore_index=True)\n"
     ]
    },
    {
     "name": "stdout",
     "output_type": "stream",
     "text": [
      "RESULTADOS DE MSE, RMSE, R2, MAPE (Train): 15.108400128654148, 3.8869525503476563, 0.6107800416717653, 29.58151759103283\n",
      "RESULTADOS DE MSE, RMSE, R2, MAPE (Val): 17.676781217707614, 4.204376436251589, 0.5532779921330051, 31.00454097831282\n",
      "RESULTADOS DE MSE, RMSE, R2, MAPE (Test): 13.220551440314129, 3.6360076237975805, 0.6709295771907436, 27.73859122716794\n",
      "Populus ciliata Juniperus spp. L.\n",
      "(1182, 77)\n",
      "SE HA NORMALIZADO EL ARCHIVO: Populus ciliata_merged.csv\n",
      "(705, 4, 43) (156, 4, 43) (265, 4, 43)\n"
     ]
    },
    {
     "name": "stderr",
     "output_type": "stream",
     "text": [
      "/home/workstation/Escritorio/PabloC/TransferLearning/.venv/lib/python3.10/site-packages/keras/src/saving/saving_lib.py:719: UserWarning: Skipping variable loading for optimizer 'adam', because it has 50 variables whereas the saved optimizer has 2 variables. \n",
      "  saveable.load_own_variables(weights_store.get(inner_path))\n"
     ]
    },
    {
     "name": "stdout",
     "output_type": "stream",
     "text": [
      "<Conv1D name=conv1d_5, built=True> False\n",
      "<BatchNormalization name=batch_normalization_5, built=True> False\n",
      "<MaxPooling1D name=max_pooling1d_4, built=True> False\n",
      "<Conv1D name=conv1d_6, built=True> False\n",
      "<BatchNormalization name=batch_normalization_6, built=True> False\n",
      "<MaxPooling1D name=max_pooling1d_5, built=True> False\n",
      "<Dropout name=dropout_1, built=True> True\n",
      "<Conv1D name=conv1d_7, built=True> False\n",
      "<BatchNormalization name=batch_normalization_7, built=True> False\n",
      "<MaxPooling1D name=max_pooling1d_6, built=True> False\n",
      "<Conv1D name=conv1d_8, built=True> False\n",
      "<BatchNormalization name=batch_normalization_8, built=True> False\n",
      "<MaxPooling1D name=max_pooling1d_7, built=True> False\n",
      "<Conv1D name=conv1d_9, built=True> True\n",
      "<BatchNormalization name=batch_normalization_9, built=True> True\n",
      "<GlobalAveragePooling1D name=global_average_pooling1d_1, built=True> True\n",
      "<Dense name=dense_2, built=True> True\n",
      "<Dense name=dense_3, built=True> True\n",
      "[MODELO CONGELADO]: 3.9020118713378906\n"
     ]
    },
    {
     "name": "stderr",
     "output_type": "stream",
     "text": [
      "/home/workstation/Escritorio/PabloC/TransferLearning/funcionesComunes.py:247: FutureWarning: The behavior of DataFrame concatenation with empty or all-NA entries is deprecated. In a future version, this will no longer exclude empty or all-NA columns when determining the result dtypes. To retain the old behavior, exclude the relevant entries before the concat operation.\n",
      "  predictionsDF = pd.concat([predictionsDF, tempDF], ignore_index=True)\n",
      "/home/workstation/Escritorio/PabloC/TransferLearning/funcionesComunes.py:247: FutureWarning: The behavior of DataFrame concatenation with empty or all-NA entries is deprecated. In a future version, this will no longer exclude empty or all-NA columns when determining the result dtypes. To retain the old behavior, exclude the relevant entries before the concat operation.\n",
      "  predictionsDF = pd.concat([predictionsDF, tempDF], ignore_index=True)\n",
      "/home/workstation/Escritorio/PabloC/TransferLearning/funcionesComunes.py:247: FutureWarning: The behavior of DataFrame concatenation with empty or all-NA entries is deprecated. In a future version, this will no longer exclude empty or all-NA columns when determining the result dtypes. To retain the old behavior, exclude the relevant entries before the concat operation.\n",
      "  predictionsDF = pd.concat([predictionsDF, tempDF], ignore_index=True)\n"
     ]
    },
    {
     "name": "stdout",
     "output_type": "stream",
     "text": [
      "RESULTADOS DE MSE, RMSE, R2, MAPE (Train): 200.3116953647932, 14.153151428738166, 0.4484701344760216, 41.33961279763489\n",
      "RESULTADOS DE MSE, RMSE, R2, MAPE (Val): 275.60789274008783, 16.60144248973829, -0.17430861514743, 50.73316022486395\n",
      "RESULTADOS DE MSE, RMSE, R2, MAPE (Test): 88.51193915250047, 9.408078398509469, 0.5577274651267644, 35.57686860266218\n",
      "Betula utilis Juniperus spp. L.\n",
      "(3473, 77)\n",
      "SE HA NORMALIZADO EL ARCHIVO: Betula utilis_merged.csv\n",
      "(2059, 4, 43) (665, 4, 43) (593, 4, 43)\n",
      "<Conv1D name=conv1d_5, built=True> False\n",
      "<BatchNormalization name=batch_normalization_5, built=True> False\n",
      "<MaxPooling1D name=max_pooling1d_4, built=True> False\n",
      "<Conv1D name=conv1d_6, built=True> False\n",
      "<BatchNormalization name=batch_normalization_6, built=True> False\n",
      "<MaxPooling1D name=max_pooling1d_5, built=True> False\n",
      "<Dropout name=dropout_1, built=True> True\n",
      "<Conv1D name=conv1d_7, built=True> False\n",
      "<BatchNormalization name=batch_normalization_7, built=True> False\n",
      "<MaxPooling1D name=max_pooling1d_6, built=True> False\n",
      "<Conv1D name=conv1d_8, built=True> False\n",
      "<BatchNormalization name=batch_normalization_8, built=True> False\n",
      "<MaxPooling1D name=max_pooling1d_7, built=True> False\n",
      "<Conv1D name=conv1d_9, built=True> True\n",
      "<BatchNormalization name=batch_normalization_9, built=True> True\n",
      "<GlobalAveragePooling1D name=global_average_pooling1d_1, built=True> True\n",
      "<Dense name=dense_2, built=True> True\n",
      "<Dense name=dense_3, built=True> True\n"
     ]
    },
    {
     "name": "stderr",
     "output_type": "stream",
     "text": [
      "/home/workstation/Escritorio/PabloC/TransferLearning/.venv/lib/python3.10/site-packages/keras/src/saving/saving_lib.py:719: UserWarning: Skipping variable loading for optimizer 'adam', because it has 50 variables whereas the saved optimizer has 2 variables. \n",
      "  saveable.load_own_variables(weights_store.get(inner_path))\n"
     ]
    },
    {
     "name": "stdout",
     "output_type": "stream",
     "text": [
      "[MODELO CONGELADO]: 10.16926121711731\n"
     ]
    },
    {
     "name": "stderr",
     "output_type": "stream",
     "text": [
      "/home/workstation/Escritorio/PabloC/TransferLearning/funcionesComunes.py:247: FutureWarning: The behavior of DataFrame concatenation with empty or all-NA entries is deprecated. In a future version, this will no longer exclude empty or all-NA columns when determining the result dtypes. To retain the old behavior, exclude the relevant entries before the concat operation.\n",
      "  predictionsDF = pd.concat([predictionsDF, tempDF], ignore_index=True)\n",
      "/home/workstation/Escritorio/PabloC/TransferLearning/funcionesComunes.py:247: FutureWarning: The behavior of DataFrame concatenation with empty or all-NA entries is deprecated. In a future version, this will no longer exclude empty or all-NA columns when determining the result dtypes. To retain the old behavior, exclude the relevant entries before the concat operation.\n",
      "  predictionsDF = pd.concat([predictionsDF, tempDF], ignore_index=True)\n",
      "/home/workstation/Escritorio/PabloC/TransferLearning/funcionesComunes.py:247: FutureWarning: The behavior of DataFrame concatenation with empty or all-NA entries is deprecated. In a future version, this will no longer exclude empty or all-NA columns when determining the result dtypes. To retain the old behavior, exclude the relevant entries before the concat operation.\n",
      "  predictionsDF = pd.concat([predictionsDF, tempDF], ignore_index=True)\n"
     ]
    },
    {
     "name": "stdout",
     "output_type": "stream",
     "text": [
      "RESULTADOS DE MSE, RMSE, R2, MAPE (Train): 5.597931147849544, 2.3659947480604315, 0.1736037971600355, 58.34952601860968\n",
      "RESULTADOS DE MSE, RMSE, R2, MAPE (Val): 1.4728178254317448, 1.2135970605731314, 0.23300620996890242, 45.62885441447628\n",
      "RESULTADOS DE MSE, RMSE, R2, MAPE (Test): 1.3978683819277973, 1.1823148404413257, 0.46580502737874485, 45.187128818835205\n",
      "Tsuga dumosa Juniperus spp. L.\n",
      "(20493, 77)\n",
      "SE HA NORMALIZADO EL ARCHIVO: Tsuga dumosa_merged.csv\n",
      "(11935, 4, 43) (4144, 4, 43) (3469, 4, 43)\n",
      "<Conv1D name=conv1d_5, built=True> False\n",
      "<BatchNormalization name=batch_normalization_5, built=True> False\n",
      "<MaxPooling1D name=max_pooling1d_4, built=True> False\n",
      "<Conv1D name=conv1d_6, built=True> False\n",
      "<BatchNormalization name=batch_normalization_6, built=True> False\n",
      "<MaxPooling1D name=max_pooling1d_5, built=True> False\n",
      "<Dropout name=dropout_1, built=True> True\n",
      "<Conv1D name=conv1d_7, built=True> False\n",
      "<BatchNormalization name=batch_normalization_7, built=True> False\n",
      "<MaxPooling1D name=max_pooling1d_6, built=True> False\n",
      "<Conv1D name=conv1d_8, built=True> False\n",
      "<BatchNormalization name=batch_normalization_8, built=True> False\n",
      "<MaxPooling1D name=max_pooling1d_7, built=True> False\n",
      "<Conv1D name=conv1d_9, built=True> True\n",
      "<BatchNormalization name=batch_normalization_9, built=True> True\n",
      "<GlobalAveragePooling1D name=global_average_pooling1d_1, built=True> True\n",
      "<Dense name=dense_2, built=True> True\n",
      "<Dense name=dense_3, built=True> True\n"
     ]
    },
    {
     "name": "stderr",
     "output_type": "stream",
     "text": [
      "/home/workstation/Escritorio/PabloC/TransferLearning/.venv/lib/python3.10/site-packages/keras/src/saving/saving_lib.py:719: UserWarning: Skipping variable loading for optimizer 'adam', because it has 50 variables whereas the saved optimizer has 2 variables. \n",
      "  saveable.load_own_variables(weights_store.get(inner_path))\n"
     ]
    },
    {
     "name": "stdout",
     "output_type": "stream",
     "text": [
      "[MODELO CONGELADO]: 27.010193347930908\n"
     ]
    },
    {
     "name": "stderr",
     "output_type": "stream",
     "text": [
      "/home/workstation/Escritorio/PabloC/TransferLearning/funcionesComunes.py:247: FutureWarning: The behavior of DataFrame concatenation with empty or all-NA entries is deprecated. In a future version, this will no longer exclude empty or all-NA columns when determining the result dtypes. To retain the old behavior, exclude the relevant entries before the concat operation.\n",
      "  predictionsDF = pd.concat([predictionsDF, tempDF], ignore_index=True)\n",
      "/home/workstation/Escritorio/PabloC/TransferLearning/funcionesComunes.py:247: FutureWarning: The behavior of DataFrame concatenation with empty or all-NA entries is deprecated. In a future version, this will no longer exclude empty or all-NA columns when determining the result dtypes. To retain the old behavior, exclude the relevant entries before the concat operation.\n",
      "  predictionsDF = pd.concat([predictionsDF, tempDF], ignore_index=True)\n",
      "/home/workstation/Escritorio/PabloC/TransferLearning/funcionesComunes.py:247: FutureWarning: The behavior of DataFrame concatenation with empty or all-NA entries is deprecated. In a future version, this will no longer exclude empty or all-NA columns when determining the result dtypes. To retain the old behavior, exclude the relevant entries before the concat operation.\n",
      "  predictionsDF = pd.concat([predictionsDF, tempDF], ignore_index=True)\n"
     ]
    },
    {
     "name": "stdout",
     "output_type": "stream",
     "text": [
      "RESULTADOS DE MSE, RMSE, R2, MAPE (Train): 257.34107822376376, 16.041853952201528, 0.3392018831091548, 45.68980308836271\n",
      "RESULTADOS DE MSE, RMSE, R2, MAPE (Val): 220.51470452082026, 14.849737523633886, 0.30022875467826105, 42.24297123302508\n",
      "RESULTADOS DE MSE, RMSE, R2, MAPE (Test): 403.12870599373827, 20.078065295086034, 0.3419888131624145, 46.495489535332936\n",
      "Cedrus deodara Juniperus spp. L.\n",
      "(37273, 77)\n",
      "SE HA NORMALIZADO EL ARCHIVO: Cedrus deodara_merged.csv\n",
      "(22017, 4, 43) (7410, 4, 43) (6282, 4, 43)\n",
      "<Conv1D name=conv1d_5, built=True> False\n",
      "<BatchNormalization name=batch_normalization_5, built=True> False\n",
      "<MaxPooling1D name=max_pooling1d_4, built=True> False\n",
      "<Conv1D name=conv1d_6, built=True> False\n",
      "<BatchNormalization name=batch_normalization_6, built=True> False\n",
      "<MaxPooling1D name=max_pooling1d_5, built=True> False\n",
      "<Dropout name=dropout_1, built=True> True\n",
      "<Conv1D name=conv1d_7, built=True> False\n",
      "<BatchNormalization name=batch_normalization_7, built=True> False\n",
      "<MaxPooling1D name=max_pooling1d_6, built=True> False\n",
      "<Conv1D name=conv1d_8, built=True> False\n",
      "<BatchNormalization name=batch_normalization_8, built=True> False\n",
      "<MaxPooling1D name=max_pooling1d_7, built=True> False\n",
      "<Conv1D name=conv1d_9, built=True> True\n",
      "<BatchNormalization name=batch_normalization_9, built=True> True\n",
      "<GlobalAveragePooling1D name=global_average_pooling1d_1, built=True> True\n",
      "<Dense name=dense_2, built=True> True\n",
      "<Dense name=dense_3, built=True> True\n"
     ]
    },
    {
     "name": "stderr",
     "output_type": "stream",
     "text": [
      "/home/workstation/Escritorio/PabloC/TransferLearning/.venv/lib/python3.10/site-packages/keras/src/saving/saving_lib.py:719: UserWarning: Skipping variable loading for optimizer 'adam', because it has 50 variables whereas the saved optimizer has 2 variables. \n",
      "  saveable.load_own_variables(weights_store.get(inner_path))\n"
     ]
    },
    {
     "name": "stdout",
     "output_type": "stream",
     "text": [
      "[MODELO CONGELADO]: 144.86587810516357\n"
     ]
    },
    {
     "name": "stderr",
     "output_type": "stream",
     "text": [
      "/home/workstation/Escritorio/PabloC/TransferLearning/funcionesComunes.py:247: FutureWarning: The behavior of DataFrame concatenation with empty or all-NA entries is deprecated. In a future version, this will no longer exclude empty or all-NA columns when determining the result dtypes. To retain the old behavior, exclude the relevant entries before the concat operation.\n",
      "  predictionsDF = pd.concat([predictionsDF, tempDF], ignore_index=True)\n",
      "/home/workstation/Escritorio/PabloC/TransferLearning/funcionesComunes.py:247: FutureWarning: The behavior of DataFrame concatenation with empty or all-NA entries is deprecated. In a future version, this will no longer exclude empty or all-NA columns when determining the result dtypes. To retain the old behavior, exclude the relevant entries before the concat operation.\n",
      "  predictionsDF = pd.concat([predictionsDF, tempDF], ignore_index=True)\n",
      "/home/workstation/Escritorio/PabloC/TransferLearning/funcionesComunes.py:247: FutureWarning: The behavior of DataFrame concatenation with empty or all-NA entries is deprecated. In a future version, this will no longer exclude empty or all-NA columns when determining the result dtypes. To retain the old behavior, exclude the relevant entries before the concat operation.\n",
      "  predictionsDF = pd.concat([predictionsDF, tempDF], ignore_index=True)\n"
     ]
    },
    {
     "name": "stdout",
     "output_type": "stream",
     "text": [
      "RESULTADOS DE MSE, RMSE, R2, MAPE (Train): 166.39987622302763, 12.899607599575564, 0.6104232218158432, 33.949038593582785\n",
      "RESULTADOS DE MSE, RMSE, R2, MAPE (Val): 220.6444312191551, 14.854104860918248, 0.5054370278659979, 36.55388194810429\n",
      "RESULTADOS DE MSE, RMSE, R2, MAPE (Test): 147.1280819013008, 12.129636511507703, 0.5825300092278196, 33.88441243466694\n",
      "Juniperus spp. L. Juniperus spp. L.\n",
      "Juniperus recurva Juniperus spp. L.\n",
      "(5316, 77)\n",
      "SE HA NORMALIZADO EL ARCHIVO: Juniperus recurva_merged.csv\n",
      "(3188, 4, 43) (1082, 4, 43) (810, 4, 43)\n",
      "<Conv1D name=conv1d_5, built=True> False\n",
      "<BatchNormalization name=batch_normalization_5, built=True> False\n",
      "<MaxPooling1D name=max_pooling1d_4, built=True> False\n",
      "<Conv1D name=conv1d_6, built=True> False\n",
      "<BatchNormalization name=batch_normalization_6, built=True> False\n",
      "<MaxPooling1D name=max_pooling1d_5, built=True> False\n",
      "<Dropout name=dropout_1, built=True> True\n",
      "<Conv1D name=conv1d_7, built=True> False\n",
      "<BatchNormalization name=batch_normalization_7, built=True> False\n",
      "<MaxPooling1D name=max_pooling1d_6, built=True> False\n",
      "<Conv1D name=conv1d_8, built=True> False\n",
      "<BatchNormalization name=batch_normalization_8, built=True> False\n",
      "<MaxPooling1D name=max_pooling1d_7, built=True> False\n",
      "<Conv1D name=conv1d_9, built=True> True\n",
      "<BatchNormalization name=batch_normalization_9, built=True> True\n",
      "<GlobalAveragePooling1D name=global_average_pooling1d_1, built=True> True\n",
      "<Dense name=dense_2, built=True> True\n",
      "<Dense name=dense_3, built=True> True\n"
     ]
    },
    {
     "name": "stderr",
     "output_type": "stream",
     "text": [
      "/home/workstation/Escritorio/PabloC/TransferLearning/.venv/lib/python3.10/site-packages/keras/src/saving/saving_lib.py:719: UserWarning: Skipping variable loading for optimizer 'adam', because it has 50 variables whereas the saved optimizer has 2 variables. \n",
      "  saveable.load_own_variables(weights_store.get(inner_path))\n"
     ]
    },
    {
     "name": "stdout",
     "output_type": "stream",
     "text": [
      "[MODELO CONGELADO]: 9.905914068222046\n"
     ]
    },
    {
     "name": "stderr",
     "output_type": "stream",
     "text": [
      "/home/workstation/Escritorio/PabloC/TransferLearning/funcionesComunes.py:247: FutureWarning: The behavior of DataFrame concatenation with empty or all-NA entries is deprecated. In a future version, this will no longer exclude empty or all-NA columns when determining the result dtypes. To retain the old behavior, exclude the relevant entries before the concat operation.\n",
      "  predictionsDF = pd.concat([predictionsDF, tempDF], ignore_index=True)\n",
      "/home/workstation/Escritorio/PabloC/TransferLearning/funcionesComunes.py:247: FutureWarning: The behavior of DataFrame concatenation with empty or all-NA entries is deprecated. In a future version, this will no longer exclude empty or all-NA columns when determining the result dtypes. To retain the old behavior, exclude the relevant entries before the concat operation.\n",
      "  predictionsDF = pd.concat([predictionsDF, tempDF], ignore_index=True)\n",
      "/home/workstation/Escritorio/PabloC/TransferLearning/funcionesComunes.py:247: FutureWarning: The behavior of DataFrame concatenation with empty or all-NA entries is deprecated. In a future version, this will no longer exclude empty or all-NA columns when determining the result dtypes. To retain the old behavior, exclude the relevant entries before the concat operation.\n",
      "  predictionsDF = pd.concat([predictionsDF, tempDF], ignore_index=True)\n"
     ]
    },
    {
     "name": "stdout",
     "output_type": "stream",
     "text": [
      "RESULTADOS DE MSE, RMSE, R2, MAPE (Train): 10.819709747780763, 3.289332720747593, 0.5700647418457991, 37.25318336955012\n",
      "RESULTADOS DE MSE, RMSE, R2, MAPE (Val): 7.619230290313831, 2.7602953266478263, 0.7233349558654166, 29.961312042253002\n",
      "RESULTADOS DE MSE, RMSE, R2, MAPE (Test): 3.031663706764918, 1.741167340253348, 0.6776970130285667, 27.126997635884198\n",
      "totalMerged.csv Juniperus spp. L.\n",
      "Juniperus spp.  Juniperus spp. L.\n",
      "(17976, 77)\n",
      "SE HA NORMALIZADO EL ARCHIVO: Juniperus spp. _merged.csv\n",
      "(10218, 4, 43) (3900, 4, 43) (3018, 4, 43)\n",
      "<Conv1D name=conv1d_5, built=True> False\n",
      "<BatchNormalization name=batch_normalization_5, built=True> False\n",
      "<MaxPooling1D name=max_pooling1d_4, built=True> False\n",
      "<Conv1D name=conv1d_6, built=True> False\n",
      "<BatchNormalization name=batch_normalization_6, built=True> False\n",
      "<MaxPooling1D name=max_pooling1d_5, built=True> False\n",
      "<Dropout name=dropout_1, built=True> True\n",
      "<Conv1D name=conv1d_7, built=True> False\n",
      "<BatchNormalization name=batch_normalization_7, built=True> False\n",
      "<MaxPooling1D name=max_pooling1d_6, built=True> False\n",
      "<Conv1D name=conv1d_8, built=True> False\n",
      "<BatchNormalization name=batch_normalization_8, built=True> False\n",
      "<MaxPooling1D name=max_pooling1d_7, built=True> False\n",
      "<Conv1D name=conv1d_9, built=True> True\n",
      "<BatchNormalization name=batch_normalization_9, built=True> True\n",
      "<GlobalAveragePooling1D name=global_average_pooling1d_1, built=True> True\n",
      "<Dense name=dense_2, built=True> True\n",
      "<Dense name=dense_3, built=True> True\n"
     ]
    },
    {
     "name": "stderr",
     "output_type": "stream",
     "text": [
      "/home/workstation/Escritorio/PabloC/TransferLearning/.venv/lib/python3.10/site-packages/keras/src/saving/saving_lib.py:719: UserWarning: Skipping variable loading for optimizer 'adam', because it has 50 variables whereas the saved optimizer has 2 variables. \n",
      "  saveable.load_own_variables(weights_store.get(inner_path))\n"
     ]
    },
    {
     "name": "stdout",
     "output_type": "stream",
     "text": [
      "[MODELO CONGELADO]: 45.61273717880249\n"
     ]
    },
    {
     "name": "stderr",
     "output_type": "stream",
     "text": [
      "/home/workstation/Escritorio/PabloC/TransferLearning/funcionesComunes.py:247: FutureWarning: The behavior of DataFrame concatenation with empty or all-NA entries is deprecated. In a future version, this will no longer exclude empty or all-NA columns when determining the result dtypes. To retain the old behavior, exclude the relevant entries before the concat operation.\n",
      "  predictionsDF = pd.concat([predictionsDF, tempDF], ignore_index=True)\n",
      "/home/workstation/Escritorio/PabloC/TransferLearning/funcionesComunes.py:247: FutureWarning: The behavior of DataFrame concatenation with empty or all-NA entries is deprecated. In a future version, this will no longer exclude empty or all-NA columns when determining the result dtypes. To retain the old behavior, exclude the relevant entries before the concat operation.\n",
      "  predictionsDF = pd.concat([predictionsDF, tempDF], ignore_index=True)\n",
      "/home/workstation/Escritorio/PabloC/TransferLearning/funcionesComunes.py:247: FutureWarning: The behavior of DataFrame concatenation with empty or all-NA entries is deprecated. In a future version, this will no longer exclude empty or all-NA columns when determining the result dtypes. To retain the old behavior, exclude the relevant entries before the concat operation.\n",
      "  predictionsDF = pd.concat([predictionsDF, tempDF], ignore_index=True)\n"
     ]
    },
    {
     "name": "stdout",
     "output_type": "stream",
     "text": [
      "RESULTADOS DE MSE, RMSE, R2, MAPE (Train): 6.35996824572315, 2.5218977468809376, 0.8962732754876701, 20.200536856460204\n",
      "RESULTADOS DE MSE, RMSE, R2, MAPE (Val): 3.373057939942682, 1.8365886692296352, 0.8285415204580906, 24.50226311081595\n",
      "RESULTADOS DE MSE, RMSE, R2, MAPE (Test): 9.771270135520577, 3.1259030911915002, 0.9064917321075875, 21.542726200273606\n",
      "Procesando el modelo: model_Juniperus excelsa M.-Bieb.keras\n",
      "Abies spectabilis Juniperus excelsa M.-Bieb\n",
      "(96429, 77)\n",
      "SE HA NORMALIZADO EL ARCHIVO: Abies spectabilis_merged.csv\n",
      "(56618, 4, 43) (19637, 4, 43) (15689, 4, 43)\n",
      "<Conv1D name=conv1d_3, built=True> False\n",
      "<BatchNormalization name=batch_normalization_3, built=True> False\n",
      "<MaxPooling1D name=max_pooling1d_2, built=True> False\n",
      "<Conv1D name=conv1d_4, built=True> False\n",
      "<BatchNormalization name=batch_normalization_4, built=True> False\n",
      "<MaxPooling1D name=max_pooling1d_3, built=True> False\n",
      "<Conv1D name=conv1d_5, built=True> False\n",
      "<BatchNormalization name=batch_normalization_5, built=True> False\n",
      "<MaxPooling1D name=max_pooling1d_4, built=True> False\n",
      "<Dropout name=dropout_1, built=True> True\n",
      "<Conv1D name=conv1d_6, built=True> False\n",
      "<BatchNormalization name=batch_normalization_6, built=True> False\n",
      "<MaxPooling1D name=max_pooling1d_5, built=True> False\n",
      "<Conv1D name=conv1d_7, built=True> False\n",
      "<BatchNormalization name=batch_normalization_7, built=True> False\n",
      "<MaxPooling1D name=max_pooling1d_6, built=True> False\n",
      "<Conv1D name=conv1d_8, built=True> True\n",
      "<BatchNormalization name=batch_normalization_8, built=True> True\n",
      "<GlobalAveragePooling1D name=global_average_pooling1d_1, built=True> True\n",
      "<Dense name=dense_2, built=True> True\n",
      "<Dense name=dense_3, built=True> True\n"
     ]
    },
    {
     "name": "stderr",
     "output_type": "stream",
     "text": [
      "/home/workstation/Escritorio/PabloC/TransferLearning/.venv/lib/python3.10/site-packages/keras/src/saving/saving_lib.py:719: UserWarning: Skipping variable loading for optimizer 'adam', because it has 58 variables whereas the saved optimizer has 2 variables. \n",
      "  saveable.load_own_variables(weights_store.get(inner_path))\n"
     ]
    },
    {
     "name": "stdout",
     "output_type": "stream",
     "text": [
      "[MODELO CONGELADO]: 420.78586888313293\n"
     ]
    },
    {
     "name": "stderr",
     "output_type": "stream",
     "text": [
      "/home/workstation/Escritorio/PabloC/TransferLearning/funcionesComunes.py:247: FutureWarning: The behavior of DataFrame concatenation with empty or all-NA entries is deprecated. In a future version, this will no longer exclude empty or all-NA columns when determining the result dtypes. To retain the old behavior, exclude the relevant entries before the concat operation.\n",
      "  predictionsDF = pd.concat([predictionsDF, tempDF], ignore_index=True)\n",
      "/home/workstation/Escritorio/PabloC/TransferLearning/funcionesComunes.py:247: FutureWarning: The behavior of DataFrame concatenation with empty or all-NA entries is deprecated. In a future version, this will no longer exclude empty or all-NA columns when determining the result dtypes. To retain the old behavior, exclude the relevant entries before the concat operation.\n",
      "  predictionsDF = pd.concat([predictionsDF, tempDF], ignore_index=True)\n",
      "/home/workstation/Escritorio/PabloC/TransferLearning/funcionesComunes.py:247: FutureWarning: The behavior of DataFrame concatenation with empty or all-NA entries is deprecated. In a future version, this will no longer exclude empty or all-NA columns when determining the result dtypes. To retain the old behavior, exclude the relevant entries before the concat operation.\n",
      "  predictionsDF = pd.concat([predictionsDF, tempDF], ignore_index=True)\n"
     ]
    },
    {
     "name": "stdout",
     "output_type": "stream",
     "text": [
      "RESULTADOS DE MSE, RMSE, R2, MAPE (Train): 72.83540846020753, 8.534366318608988, 0.3609816612394743, 45.69630964656163\n",
      "RESULTADOS DE MSE, RMSE, R2, MAPE (Val): 73.84314421174686, 8.593203373116854, 0.32716747480256547, 46.106224002785964\n",
      "RESULTADOS DE MSE, RMSE, R2, MAPE (Test): 76.54026795090722, 8.748729504957119, 0.43235778346426945, 44.944695542995774\n",
      "Picea smithiana Juniperus excelsa M.-Bieb\n",
      "(34476, 77)\n",
      "SE HA NORMALIZADO EL ARCHIVO: Picea smithiana_merged.csv\n",
      "(19933, 4, 43) (7272, 4, 43) (5863, 4, 43)\n",
      "<Conv1D name=conv1d_3, built=True> False\n",
      "<BatchNormalization name=batch_normalization_3, built=True> False\n",
      "<MaxPooling1D name=max_pooling1d_2, built=True> False\n",
      "<Conv1D name=conv1d_4, built=True> False\n",
      "<BatchNormalization name=batch_normalization_4, built=True> False\n",
      "<MaxPooling1D name=max_pooling1d_3, built=True> False\n",
      "<Conv1D name=conv1d_5, built=True> False\n",
      "<BatchNormalization name=batch_normalization_5, built=True> False\n",
      "<MaxPooling1D name=max_pooling1d_4, built=True> False\n",
      "<Dropout name=dropout_1, built=True> True\n",
      "<Conv1D name=conv1d_6, built=True> False\n",
      "<BatchNormalization name=batch_normalization_6, built=True> False\n",
      "<MaxPooling1D name=max_pooling1d_5, built=True> False\n",
      "<Conv1D name=conv1d_7, built=True> False\n",
      "<BatchNormalization name=batch_normalization_7, built=True> False\n",
      "<MaxPooling1D name=max_pooling1d_6, built=True> False\n",
      "<Conv1D name=conv1d_8, built=True> True\n",
      "<BatchNormalization name=batch_normalization_8, built=True> True\n",
      "<GlobalAveragePooling1D name=global_average_pooling1d_1, built=True> True\n",
      "<Dense name=dense_2, built=True> True\n",
      "<Dense name=dense_3, built=True> True\n"
     ]
    },
    {
     "name": "stderr",
     "output_type": "stream",
     "text": [
      "/home/workstation/Escritorio/PabloC/TransferLearning/.venv/lib/python3.10/site-packages/keras/src/saving/saving_lib.py:719: UserWarning: Skipping variable loading for optimizer 'adam', because it has 58 variables whereas the saved optimizer has 2 variables. \n",
      "  saveable.load_own_variables(weights_store.get(inner_path))\n"
     ]
    },
    {
     "name": "stdout",
     "output_type": "stream",
     "text": [
      "[MODELO CONGELADO]: 108.36046719551086\n"
     ]
    },
    {
     "name": "stderr",
     "output_type": "stream",
     "text": [
      "/home/workstation/Escritorio/PabloC/TransferLearning/funcionesComunes.py:247: FutureWarning: The behavior of DataFrame concatenation with empty or all-NA entries is deprecated. In a future version, this will no longer exclude empty or all-NA columns when determining the result dtypes. To retain the old behavior, exclude the relevant entries before the concat operation.\n",
      "  predictionsDF = pd.concat([predictionsDF, tempDF], ignore_index=True)\n",
      "/home/workstation/Escritorio/PabloC/TransferLearning/funcionesComunes.py:247: FutureWarning: The behavior of DataFrame concatenation with empty or all-NA entries is deprecated. In a future version, this will no longer exclude empty or all-NA columns when determining the result dtypes. To retain the old behavior, exclude the relevant entries before the concat operation.\n",
      "  predictionsDF = pd.concat([predictionsDF, tempDF], ignore_index=True)\n",
      "/home/workstation/Escritorio/PabloC/TransferLearning/funcionesComunes.py:247: FutureWarning: The behavior of DataFrame concatenation with empty or all-NA entries is deprecated. In a future version, this will no longer exclude empty or all-NA columns when determining the result dtypes. To retain the old behavior, exclude the relevant entries before the concat operation.\n",
      "  predictionsDF = pd.concat([predictionsDF, tempDF], ignore_index=True)\n"
     ]
    },
    {
     "name": "stdout",
     "output_type": "stream",
     "text": [
      "RESULTADOS DE MSE, RMSE, R2, MAPE (Train): 179.90387203457485, 13.412824908816741, 0.4727784363810005, 38.41773063828154\n",
      "RESULTADOS DE MSE, RMSE, R2, MAPE (Val): 223.29003989045768, 14.942892621258364, 0.35564418898686834, 41.89545108686755\n",
      "RESULTADOS DE MSE, RMSE, R2, MAPE (Test): 148.1771831366922, 12.172805064433268, 0.49961201297933133, 38.19100699161317\n",
      "Abies pindrow Juniperus excelsa M.-Bieb\n",
      "(16018, 77)\n",
      "SE HA NORMALIZADO EL ARCHIVO: Abies pindrow_merged.csv\n",
      "(9042, 4, 43) (3441, 4, 43) (2815, 4, 43)\n",
      "<Conv1D name=conv1d_3, built=True> False\n",
      "<BatchNormalization name=batch_normalization_3, built=True> False\n",
      "<MaxPooling1D name=max_pooling1d_2, built=True> False\n",
      "<Conv1D name=conv1d_4, built=True> False\n",
      "<BatchNormalization name=batch_normalization_4, built=True> False\n",
      "<MaxPooling1D name=max_pooling1d_3, built=True> False\n",
      "<Conv1D name=conv1d_5, built=True> False\n",
      "<BatchNormalization name=batch_normalization_5, built=True> False\n",
      "<MaxPooling1D name=max_pooling1d_4, built=True> False\n",
      "<Dropout name=dropout_1, built=True> True\n",
      "<Conv1D name=conv1d_6, built=True> False\n",
      "<BatchNormalization name=batch_normalization_6, built=True> False\n",
      "<MaxPooling1D name=max_pooling1d_5, built=True> False\n",
      "<Conv1D name=conv1d_7, built=True> False\n",
      "<BatchNormalization name=batch_normalization_7, built=True> False\n",
      "<MaxPooling1D name=max_pooling1d_6, built=True> False\n",
      "<Conv1D name=conv1d_8, built=True> True\n",
      "<BatchNormalization name=batch_normalization_8, built=True> True\n",
      "<GlobalAveragePooling1D name=global_average_pooling1d_1, built=True> True\n",
      "<Dense name=dense_2, built=True> True\n",
      "<Dense name=dense_3, built=True> True\n"
     ]
    },
    {
     "name": "stderr",
     "output_type": "stream",
     "text": [
      "/home/workstation/Escritorio/PabloC/TransferLearning/.venv/lib/python3.10/site-packages/keras/src/saving/saving_lib.py:719: UserWarning: Skipping variable loading for optimizer 'adam', because it has 58 variables whereas the saved optimizer has 2 variables. \n",
      "  saveable.load_own_variables(weights_store.get(inner_path))\n"
     ]
    },
    {
     "name": "stdout",
     "output_type": "stream",
     "text": [
      "[MODELO CONGELADO]: 77.21908354759216\n"
     ]
    },
    {
     "name": "stderr",
     "output_type": "stream",
     "text": [
      "/home/workstation/Escritorio/PabloC/TransferLearning/funcionesComunes.py:247: FutureWarning: The behavior of DataFrame concatenation with empty or all-NA entries is deprecated. In a future version, this will no longer exclude empty or all-NA columns when determining the result dtypes. To retain the old behavior, exclude the relevant entries before the concat operation.\n",
      "  predictionsDF = pd.concat([predictionsDF, tempDF], ignore_index=True)\n",
      "/home/workstation/Escritorio/PabloC/TransferLearning/funcionesComunes.py:247: FutureWarning: The behavior of DataFrame concatenation with empty or all-NA entries is deprecated. In a future version, this will no longer exclude empty or all-NA columns when determining the result dtypes. To retain the old behavior, exclude the relevant entries before the concat operation.\n",
      "  predictionsDF = pd.concat([predictionsDF, tempDF], ignore_index=True)\n",
      "/home/workstation/Escritorio/PabloC/TransferLearning/funcionesComunes.py:247: FutureWarning: The behavior of DataFrame concatenation with empty or all-NA entries is deprecated. In a future version, this will no longer exclude empty or all-NA columns when determining the result dtypes. To retain the old behavior, exclude the relevant entries before the concat operation.\n",
      "  predictionsDF = pd.concat([predictionsDF, tempDF], ignore_index=True)\n"
     ]
    },
    {
     "name": "stdout",
     "output_type": "stream",
     "text": [
      "RESULTADOS DE MSE, RMSE, R2, MAPE (Train): 168.308842988025, 12.973389803286764, 0.2775646746528486, 40.55591299128453\n",
      "RESULTADOS DE MSE, RMSE, R2, MAPE (Val): 121.09648637920733, 11.0043848705508, 0.30920652285302574, 34.22709710588343\n",
      "RESULTADOS DE MSE, RMSE, R2, MAPE (Test): 190.50415873629032, 13.802324396140323, -0.34681057091427214, 40.424746773208454\n",
      "Juniperus excelsa M.-Bieb Juniperus excelsa M.-Bieb\n",
      "Juniperus turkestanica Komar. Juniperus excelsa M.-Bieb\n",
      "(6305, 77)\n",
      "SE HA NORMALIZADO EL ARCHIVO: Juniperus turkestanica Komar._merged.csv\n",
      "(3664, 4, 43) (1368, 4, 43) (1001, 4, 43)\n",
      "<Conv1D name=conv1d_3, built=True> False\n",
      "<BatchNormalization name=batch_normalization_3, built=True> False\n",
      "<MaxPooling1D name=max_pooling1d_2, built=True> False\n",
      "<Conv1D name=conv1d_4, built=True> False\n",
      "<BatchNormalization name=batch_normalization_4, built=True> False\n",
      "<MaxPooling1D name=max_pooling1d_3, built=True> False\n",
      "<Conv1D name=conv1d_5, built=True> False\n",
      "<BatchNormalization name=batch_normalization_5, built=True> False\n",
      "<MaxPooling1D name=max_pooling1d_4, built=True> False\n",
      "<Dropout name=dropout_1, built=True> True\n",
      "<Conv1D name=conv1d_6, built=True> False\n",
      "<BatchNormalization name=batch_normalization_6, built=True> False\n",
      "<MaxPooling1D name=max_pooling1d_5, built=True> False\n",
      "<Conv1D name=conv1d_7, built=True> False\n",
      "<BatchNormalization name=batch_normalization_7, built=True> False\n",
      "<MaxPooling1D name=max_pooling1d_6, built=True> False\n",
      "<Conv1D name=conv1d_8, built=True> True\n",
      "<BatchNormalization name=batch_normalization_8, built=True> True\n",
      "<GlobalAveragePooling1D name=global_average_pooling1d_1, built=True> True\n",
      "<Dense name=dense_2, built=True> True\n",
      "<Dense name=dense_3, built=True> True\n"
     ]
    },
    {
     "name": "stderr",
     "output_type": "stream",
     "text": [
      "/home/workstation/Escritorio/PabloC/TransferLearning/.venv/lib/python3.10/site-packages/keras/src/saving/saving_lib.py:719: UserWarning: Skipping variable loading for optimizer 'adam', because it has 58 variables whereas the saved optimizer has 2 variables. \n",
      "  saveable.load_own_variables(weights_store.get(inner_path))\n"
     ]
    },
    {
     "name": "stdout",
     "output_type": "stream",
     "text": [
      "[MODELO CONGELADO]: 9.848902225494385\n"
     ]
    },
    {
     "name": "stderr",
     "output_type": "stream",
     "text": [
      "/home/workstation/Escritorio/PabloC/TransferLearning/funcionesComunes.py:247: FutureWarning: The behavior of DataFrame concatenation with empty or all-NA entries is deprecated. In a future version, this will no longer exclude empty or all-NA columns when determining the result dtypes. To retain the old behavior, exclude the relevant entries before the concat operation.\n",
      "  predictionsDF = pd.concat([predictionsDF, tempDF], ignore_index=True)\n",
      "/home/workstation/Escritorio/PabloC/TransferLearning/funcionesComunes.py:247: FutureWarning: The behavior of DataFrame concatenation with empty or all-NA entries is deprecated. In a future version, this will no longer exclude empty or all-NA columns when determining the result dtypes. To retain the old behavior, exclude the relevant entries before the concat operation.\n",
      "  predictionsDF = pd.concat([predictionsDF, tempDF], ignore_index=True)\n",
      "/home/workstation/Escritorio/PabloC/TransferLearning/funcionesComunes.py:247: FutureWarning: The behavior of DataFrame concatenation with empty or all-NA entries is deprecated. In a future version, this will no longer exclude empty or all-NA columns when determining the result dtypes. To retain the old behavior, exclude the relevant entries before the concat operation.\n",
      "  predictionsDF = pd.concat([predictionsDF, tempDF], ignore_index=True)\n"
     ]
    },
    {
     "name": "stdout",
     "output_type": "stream",
     "text": [
      "RESULTADOS DE MSE, RMSE, R2, MAPE (Train): 4.634996903805478, 2.152904295087331, 0.8967402602296918, 21.776257799539117\n",
      "RESULTADOS DE MSE, RMSE, R2, MAPE (Val): 2.8824918618405624, 1.697790287945058, 0.832375287932427, 23.727485513220216\n",
      "RESULTADOS DE MSE, RMSE, R2, MAPE (Test): 1.4774071346880173, 1.2154863778290637, 0.7281983522230402, 24.349297045165486\n",
      "Pinus roxburghii Juniperus excelsa M.-Bieb\n",
      "(10635, 77)\n",
      "SE HA NORMALIZADO EL ARCHIVO: Pinus roxburghii_merged.csv\n",
      "(6309, 4, 43) (2167, 4, 43) (1647, 4, 43)\n",
      "<Conv1D name=conv1d_3, built=True> False\n",
      "<BatchNormalization name=batch_normalization_3, built=True> False\n",
      "<MaxPooling1D name=max_pooling1d_2, built=True> False\n",
      "<Conv1D name=conv1d_4, built=True> False\n",
      "<BatchNormalization name=batch_normalization_4, built=True> False\n",
      "<MaxPooling1D name=max_pooling1d_3, built=True> False\n",
      "<Conv1D name=conv1d_5, built=True> False\n",
      "<BatchNormalization name=batch_normalization_5, built=True> False\n",
      "<MaxPooling1D name=max_pooling1d_4, built=True> False\n",
      "<Dropout name=dropout_1, built=True> True\n",
      "<Conv1D name=conv1d_6, built=True> False\n",
      "<BatchNormalization name=batch_normalization_6, built=True> False\n",
      "<MaxPooling1D name=max_pooling1d_5, built=True> False\n",
      "<Conv1D name=conv1d_7, built=True> False\n",
      "<BatchNormalization name=batch_normalization_7, built=True> False\n",
      "<MaxPooling1D name=max_pooling1d_6, built=True> False\n",
      "<Conv1D name=conv1d_8, built=True> True\n",
      "<BatchNormalization name=batch_normalization_8, built=True> True\n",
      "<GlobalAveragePooling1D name=global_average_pooling1d_1, built=True> True\n",
      "<Dense name=dense_2, built=True> True\n",
      "<Dense name=dense_3, built=True> True\n"
     ]
    },
    {
     "name": "stderr",
     "output_type": "stream",
     "text": [
      "/home/workstation/Escritorio/PabloC/TransferLearning/.venv/lib/python3.10/site-packages/keras/src/saving/saving_lib.py:719: UserWarning: Skipping variable loading for optimizer 'adam', because it has 58 variables whereas the saved optimizer has 2 variables. \n",
      "  saveable.load_own_variables(weights_store.get(inner_path))\n"
     ]
    },
    {
     "name": "stdout",
     "output_type": "stream",
     "text": [
      "[MODELO CONGELADO]: 9.341760873794556\n"
     ]
    },
    {
     "name": "stderr",
     "output_type": "stream",
     "text": [
      "/home/workstation/Escritorio/PabloC/TransferLearning/funcionesComunes.py:247: FutureWarning: The behavior of DataFrame concatenation with empty or all-NA entries is deprecated. In a future version, this will no longer exclude empty or all-NA columns when determining the result dtypes. To retain the old behavior, exclude the relevant entries before the concat operation.\n",
      "  predictionsDF = pd.concat([predictionsDF, tempDF], ignore_index=True)\n",
      "/home/workstation/Escritorio/PabloC/TransferLearning/funcionesComunes.py:247: FutureWarning: The behavior of DataFrame concatenation with empty or all-NA entries is deprecated. In a future version, this will no longer exclude empty or all-NA columns when determining the result dtypes. To retain the old behavior, exclude the relevant entries before the concat operation.\n",
      "  predictionsDF = pd.concat([predictionsDF, tempDF], ignore_index=True)\n",
      "/home/workstation/Escritorio/PabloC/TransferLearning/funcionesComunes.py:247: FutureWarning: The behavior of DataFrame concatenation with empty or all-NA entries is deprecated. In a future version, this will no longer exclude empty or all-NA columns when determining the result dtypes. To retain the old behavior, exclude the relevant entries before the concat operation.\n",
      "  predictionsDF = pd.concat([predictionsDF, tempDF], ignore_index=True)\n"
     ]
    },
    {
     "name": "stdout",
     "output_type": "stream",
     "text": [
      "RESULTADOS DE MSE, RMSE, R2, MAPE (Train): 190.43322612041294, 13.799754567397674, 0.28605916260434505, 44.68912691704403\n",
      "RESULTADOS DE MSE, RMSE, R2, MAPE (Val): 154.3233630058672, 12.422695480686436, 0.3110820535762647, 44.874938200860896\n",
      "RESULTADOS DE MSE, RMSE, R2, MAPE (Test): 171.5204324583515, 13.096580945359422, 0.28026442466981105, 45.34576676289535\n",
      "Pinus wallichiana Juniperus excelsa M.-Bieb\n",
      "(9365, 77)\n",
      "SE HA NORMALIZADO EL ARCHIVO: Pinus wallichiana_merged.csv\n",
      "(5508, 4, 43) (1957, 4, 43) (1500, 4, 43)\n",
      "<Conv1D name=conv1d_3, built=True> False\n",
      "<BatchNormalization name=batch_normalization_3, built=True> False\n",
      "<MaxPooling1D name=max_pooling1d_2, built=True> False\n",
      "<Conv1D name=conv1d_4, built=True> False\n",
      "<BatchNormalization name=batch_normalization_4, built=True> False\n",
      "<MaxPooling1D name=max_pooling1d_3, built=True> False\n",
      "<Conv1D name=conv1d_5, built=True> False\n",
      "<BatchNormalization name=batch_normalization_5, built=True> False\n",
      "<MaxPooling1D name=max_pooling1d_4, built=True> False\n",
      "<Dropout name=dropout_1, built=True> True\n",
      "<Conv1D name=conv1d_6, built=True> False\n",
      "<BatchNormalization name=batch_normalization_6, built=True> False\n",
      "<MaxPooling1D name=max_pooling1d_5, built=True> False\n",
      "<Conv1D name=conv1d_7, built=True> False\n",
      "<BatchNormalization name=batch_normalization_7, built=True> False\n",
      "<MaxPooling1D name=max_pooling1d_6, built=True> False\n",
      "<Conv1D name=conv1d_8, built=True> True\n",
      "<BatchNormalization name=batch_normalization_8, built=True> True\n",
      "<GlobalAveragePooling1D name=global_average_pooling1d_1, built=True> True\n",
      "<Dense name=dense_2, built=True> True\n",
      "<Dense name=dense_3, built=True> True\n"
     ]
    },
    {
     "name": "stderr",
     "output_type": "stream",
     "text": [
      "/home/workstation/Escritorio/PabloC/TransferLearning/.venv/lib/python3.10/site-packages/keras/src/saving/saving_lib.py:719: UserWarning: Skipping variable loading for optimizer 'adam', because it has 58 variables whereas the saved optimizer has 2 variables. \n",
      "  saveable.load_own_variables(weights_store.get(inner_path))\n"
     ]
    },
    {
     "name": "stdout",
     "output_type": "stream",
     "text": [
      "[MODELO CONGELADO]: 17.416120767593384\n"
     ]
    },
    {
     "name": "stderr",
     "output_type": "stream",
     "text": [
      "/home/workstation/Escritorio/PabloC/TransferLearning/funcionesComunes.py:247: FutureWarning: The behavior of DataFrame concatenation with empty or all-NA entries is deprecated. In a future version, this will no longer exclude empty or all-NA columns when determining the result dtypes. To retain the old behavior, exclude the relevant entries before the concat operation.\n",
      "  predictionsDF = pd.concat([predictionsDF, tempDF], ignore_index=True)\n",
      "/home/workstation/Escritorio/PabloC/TransferLearning/funcionesComunes.py:247: FutureWarning: The behavior of DataFrame concatenation with empty or all-NA entries is deprecated. In a future version, this will no longer exclude empty or all-NA columns when determining the result dtypes. To retain the old behavior, exclude the relevant entries before the concat operation.\n",
      "  predictionsDF = pd.concat([predictionsDF, tempDF], ignore_index=True)\n",
      "/home/workstation/Escritorio/PabloC/TransferLearning/funcionesComunes.py:247: FutureWarning: The behavior of DataFrame concatenation with empty or all-NA entries is deprecated. In a future version, this will no longer exclude empty or all-NA columns when determining the result dtypes. To retain the old behavior, exclude the relevant entries before the concat operation.\n",
      "  predictionsDF = pd.concat([predictionsDF, tempDF], ignore_index=True)\n"
     ]
    },
    {
     "name": "stdout",
     "output_type": "stream",
     "text": [
      "RESULTADOS DE MSE, RMSE, R2, MAPE (Train): 20.966419761740987, 4.578910324710562, 0.688979894756337, 26.57236815319276\n",
      "RESULTADOS DE MSE, RMSE, R2, MAPE (Val): 14.954531801770528, 3.867108972057877, 0.7498545538877865, 27.242793803980835\n",
      "RESULTADOS DE MSE, RMSE, R2, MAPE (Test): 43.777907586872125, 6.616487556617342, -0.038285733491558505, 41.616546477887134\n",
      "Pinus gerardiana Juniperus excelsa M.-Bieb\n",
      "(10101, 77)\n",
      "SE HA NORMALIZADO EL ARCHIVO: Pinus gerardiana_merged.csv\n",
      "(5767, 4, 43) (2181, 4, 43) (1745, 4, 43)\n",
      "<Conv1D name=conv1d_3, built=True> False\n",
      "<BatchNormalization name=batch_normalization_3, built=True> False\n",
      "<MaxPooling1D name=max_pooling1d_2, built=True> False\n",
      "<Conv1D name=conv1d_4, built=True> False\n",
      "<BatchNormalization name=batch_normalization_4, built=True> False\n",
      "<MaxPooling1D name=max_pooling1d_3, built=True> False\n",
      "<Conv1D name=conv1d_5, built=True> False\n",
      "<BatchNormalization name=batch_normalization_5, built=True> False\n",
      "<MaxPooling1D name=max_pooling1d_4, built=True> False\n",
      "<Dropout name=dropout_1, built=True> True\n",
      "<Conv1D name=conv1d_6, built=True> False\n",
      "<BatchNormalization name=batch_normalization_6, built=True> False\n",
      "<MaxPooling1D name=max_pooling1d_5, built=True> False\n",
      "<Conv1D name=conv1d_7, built=True> False\n",
      "<BatchNormalization name=batch_normalization_7, built=True> False\n",
      "<MaxPooling1D name=max_pooling1d_6, built=True> False\n",
      "<Conv1D name=conv1d_8, built=True> True\n",
      "<BatchNormalization name=batch_normalization_8, built=True> True\n",
      "<GlobalAveragePooling1D name=global_average_pooling1d_1, built=True> True\n",
      "<Dense name=dense_2, built=True> True\n",
      "<Dense name=dense_3, built=True> True\n"
     ]
    },
    {
     "name": "stderr",
     "output_type": "stream",
     "text": [
      "/home/workstation/Escritorio/PabloC/TransferLearning/.venv/lib/python3.10/site-packages/keras/src/saving/saving_lib.py:719: UserWarning: Skipping variable loading for optimizer 'adam', because it has 58 variables whereas the saved optimizer has 2 variables. \n",
      "  saveable.load_own_variables(weights_store.get(inner_path))\n"
     ]
    },
    {
     "name": "stdout",
     "output_type": "stream",
     "text": [
      "[MODELO CONGELADO]: 14.586015939712524\n"
     ]
    },
    {
     "name": "stderr",
     "output_type": "stream",
     "text": [
      "/home/workstation/Escritorio/PabloC/TransferLearning/funcionesComunes.py:247: FutureWarning: The behavior of DataFrame concatenation with empty or all-NA entries is deprecated. In a future version, this will no longer exclude empty or all-NA columns when determining the result dtypes. To retain the old behavior, exclude the relevant entries before the concat operation.\n",
      "  predictionsDF = pd.concat([predictionsDF, tempDF], ignore_index=True)\n",
      "/home/workstation/Escritorio/PabloC/TransferLearning/funcionesComunes.py:247: FutureWarning: The behavior of DataFrame concatenation with empty or all-NA entries is deprecated. In a future version, this will no longer exclude empty or all-NA columns when determining the result dtypes. To retain the old behavior, exclude the relevant entries before the concat operation.\n",
      "  predictionsDF = pd.concat([predictionsDF, tempDF], ignore_index=True)\n",
      "/home/workstation/Escritorio/PabloC/TransferLearning/funcionesComunes.py:247: FutureWarning: The behavior of DataFrame concatenation with empty or all-NA entries is deprecated. In a future version, this will no longer exclude empty or all-NA columns when determining the result dtypes. To retain the old behavior, exclude the relevant entries before the concat operation.\n",
      "  predictionsDF = pd.concat([predictionsDF, tempDF], ignore_index=True)\n"
     ]
    },
    {
     "name": "stdout",
     "output_type": "stream",
     "text": [
      "RESULTADOS DE MSE, RMSE, R2, MAPE (Train): 16.22498112848269, 4.028024469697607, 0.582014877490078, 30.420293246092434\n",
      "RESULTADOS DE MSE, RMSE, R2, MAPE (Val): 16.885547629599696, 4.109202797331825, 0.5732737963927363, 28.905259424674785\n",
      "RESULTADOS DE MSE, RMSE, R2, MAPE (Test): 13.510799826093974, 3.6757039905430324, 0.6637050556222236, 27.265903030382926\n",
      "Populus ciliata Juniperus excelsa M.-Bieb\n",
      "(1182, 77)\n",
      "SE HA NORMALIZADO EL ARCHIVO: Populus ciliata_merged.csv\n",
      "(705, 4, 43) (156, 4, 43) (265, 4, 43)\n"
     ]
    },
    {
     "name": "stderr",
     "output_type": "stream",
     "text": [
      "/home/workstation/Escritorio/PabloC/TransferLearning/.venv/lib/python3.10/site-packages/keras/src/saving/saving_lib.py:719: UserWarning: Skipping variable loading for optimizer 'adam', because it has 58 variables whereas the saved optimizer has 2 variables. \n",
      "  saveable.load_own_variables(weights_store.get(inner_path))\n"
     ]
    },
    {
     "name": "stdout",
     "output_type": "stream",
     "text": [
      "<Conv1D name=conv1d_3, built=True> False\n",
      "<BatchNormalization name=batch_normalization_3, built=True> False\n",
      "<MaxPooling1D name=max_pooling1d_2, built=True> False\n",
      "<Conv1D name=conv1d_4, built=True> False\n",
      "<BatchNormalization name=batch_normalization_4, built=True> False\n",
      "<MaxPooling1D name=max_pooling1d_3, built=True> False\n",
      "<Conv1D name=conv1d_5, built=True> False\n",
      "<BatchNormalization name=batch_normalization_5, built=True> False\n",
      "<MaxPooling1D name=max_pooling1d_4, built=True> False\n",
      "<Dropout name=dropout_1, built=True> True\n",
      "<Conv1D name=conv1d_6, built=True> False\n",
      "<BatchNormalization name=batch_normalization_6, built=True> False\n",
      "<MaxPooling1D name=max_pooling1d_5, built=True> False\n",
      "<Conv1D name=conv1d_7, built=True> False\n",
      "<BatchNormalization name=batch_normalization_7, built=True> False\n",
      "<MaxPooling1D name=max_pooling1d_6, built=True> False\n",
      "<Conv1D name=conv1d_8, built=True> True\n",
      "<BatchNormalization name=batch_normalization_8, built=True> True\n",
      "<GlobalAveragePooling1D name=global_average_pooling1d_1, built=True> True\n",
      "<Dense name=dense_2, built=True> True\n",
      "<Dense name=dense_3, built=True> True\n",
      "[MODELO CONGELADO]: 4.650838613510132\n"
     ]
    },
    {
     "name": "stderr",
     "output_type": "stream",
     "text": [
      "/home/workstation/Escritorio/PabloC/TransferLearning/funcionesComunes.py:247: FutureWarning: The behavior of DataFrame concatenation with empty or all-NA entries is deprecated. In a future version, this will no longer exclude empty or all-NA columns when determining the result dtypes. To retain the old behavior, exclude the relevant entries before the concat operation.\n",
      "  predictionsDF = pd.concat([predictionsDF, tempDF], ignore_index=True)\n",
      "/home/workstation/Escritorio/PabloC/TransferLearning/funcionesComunes.py:247: FutureWarning: The behavior of DataFrame concatenation with empty or all-NA entries is deprecated. In a future version, this will no longer exclude empty or all-NA columns when determining the result dtypes. To retain the old behavior, exclude the relevant entries before the concat operation.\n",
      "  predictionsDF = pd.concat([predictionsDF, tempDF], ignore_index=True)\n",
      "/home/workstation/Escritorio/PabloC/TransferLearning/funcionesComunes.py:247: FutureWarning: The behavior of DataFrame concatenation with empty or all-NA entries is deprecated. In a future version, this will no longer exclude empty or all-NA columns when determining the result dtypes. To retain the old behavior, exclude the relevant entries before the concat operation.\n",
      "  predictionsDF = pd.concat([predictionsDF, tempDF], ignore_index=True)\n"
     ]
    },
    {
     "name": "stdout",
     "output_type": "stream",
     "text": [
      "RESULTADOS DE MSE, RMSE, R2, MAPE (Train): 177.6718847603895, 13.329361753677087, 0.510805644518985, 37.663678244565354\n",
      "RESULTADOS DE MSE, RMSE, R2, MAPE (Val): 248.47013573118338, 15.762935504885611, -0.058680207214325986, 48.888733680842556\n",
      "RESULTADOS DE MSE, RMSE, R2, MAPE (Test): 75.98797205118699, 8.717108009608863, 0.6203066688997556, 33.492109119008624\n",
      "Betula utilis Juniperus excelsa M.-Bieb\n",
      "(3473, 77)\n",
      "SE HA NORMALIZADO EL ARCHIVO: Betula utilis_merged.csv\n",
      "(2059, 4, 43) (665, 4, 43) (593, 4, 43)\n",
      "<Conv1D name=conv1d_3, built=True> False\n",
      "<BatchNormalization name=batch_normalization_3, built=True> False\n",
      "<MaxPooling1D name=max_pooling1d_2, built=True> False\n",
      "<Conv1D name=conv1d_4, built=True> False\n",
      "<BatchNormalization name=batch_normalization_4, built=True> False\n",
      "<MaxPooling1D name=max_pooling1d_3, built=True> False\n",
      "<Conv1D name=conv1d_5, built=True> False\n",
      "<BatchNormalization name=batch_normalization_5, built=True> False\n",
      "<MaxPooling1D name=max_pooling1d_4, built=True> False\n",
      "<Dropout name=dropout_1, built=True> True\n",
      "<Conv1D name=conv1d_6, built=True> False\n",
      "<BatchNormalization name=batch_normalization_6, built=True> False\n",
      "<MaxPooling1D name=max_pooling1d_5, built=True> False\n",
      "<Conv1D name=conv1d_7, built=True> False\n",
      "<BatchNormalization name=batch_normalization_7, built=True> False\n",
      "<MaxPooling1D name=max_pooling1d_6, built=True> False\n",
      "<Conv1D name=conv1d_8, built=True> True\n",
      "<BatchNormalization name=batch_normalization_8, built=True> True\n",
      "<GlobalAveragePooling1D name=global_average_pooling1d_1, built=True> True\n",
      "<Dense name=dense_2, built=True> True\n",
      "<Dense name=dense_3, built=True> True\n"
     ]
    },
    {
     "name": "stderr",
     "output_type": "stream",
     "text": [
      "/home/workstation/Escritorio/PabloC/TransferLearning/.venv/lib/python3.10/site-packages/keras/src/saving/saving_lib.py:719: UserWarning: Skipping variable loading for optimizer 'adam', because it has 58 variables whereas the saved optimizer has 2 variables. \n",
      "  saveable.load_own_variables(weights_store.get(inner_path))\n"
     ]
    },
    {
     "name": "stdout",
     "output_type": "stream",
     "text": [
      "[MODELO CONGELADO]: 7.330169677734375\n"
     ]
    },
    {
     "name": "stderr",
     "output_type": "stream",
     "text": [
      "/home/workstation/Escritorio/PabloC/TransferLearning/funcionesComunes.py:247: FutureWarning: The behavior of DataFrame concatenation with empty or all-NA entries is deprecated. In a future version, this will no longer exclude empty or all-NA columns when determining the result dtypes. To retain the old behavior, exclude the relevant entries before the concat operation.\n",
      "  predictionsDF = pd.concat([predictionsDF, tempDF], ignore_index=True)\n",
      "/home/workstation/Escritorio/PabloC/TransferLearning/funcionesComunes.py:247: FutureWarning: The behavior of DataFrame concatenation with empty or all-NA entries is deprecated. In a future version, this will no longer exclude empty or all-NA columns when determining the result dtypes. To retain the old behavior, exclude the relevant entries before the concat operation.\n",
      "  predictionsDF = pd.concat([predictionsDF, tempDF], ignore_index=True)\n",
      "/home/workstation/Escritorio/PabloC/TransferLearning/funcionesComunes.py:247: FutureWarning: The behavior of DataFrame concatenation with empty or all-NA entries is deprecated. In a future version, this will no longer exclude empty or all-NA columns when determining the result dtypes. To retain the old behavior, exclude the relevant entries before the concat operation.\n",
      "  predictionsDF = pd.concat([predictionsDF, tempDF], ignore_index=True)\n"
     ]
    },
    {
     "name": "stdout",
     "output_type": "stream",
     "text": [
      "RESULTADOS DE MSE, RMSE, R2, MAPE (Train): 3.8047120492384403, 1.9505671096474584, 0.43832828462029993, 48.449722381516565\n",
      "RESULTADOS DE MSE, RMSE, R2, MAPE (Val): 1.1829112947299032, 1.0876172556234585, 0.38397974172432525, 40.65033328110988\n",
      "RESULTADOS DE MSE, RMSE, R2, MAPE (Test): 1.1863488567937308, 1.0891964270937224, 0.5466371489136963, 40.96168359578607\n",
      "Tsuga dumosa Juniperus excelsa M.-Bieb\n",
      "(20493, 77)\n",
      "SE HA NORMALIZADO EL ARCHIVO: Tsuga dumosa_merged.csv\n",
      "(11935, 4, 43) (4144, 4, 43) (3469, 4, 43)\n",
      "<Conv1D name=conv1d_3, built=True> False\n",
      "<BatchNormalization name=batch_normalization_3, built=True> False\n",
      "<MaxPooling1D name=max_pooling1d_2, built=True> False\n",
      "<Conv1D name=conv1d_4, built=True> False\n",
      "<BatchNormalization name=batch_normalization_4, built=True> False\n",
      "<MaxPooling1D name=max_pooling1d_3, built=True> False\n",
      "<Conv1D name=conv1d_5, built=True> False\n",
      "<BatchNormalization name=batch_normalization_5, built=True> False\n",
      "<MaxPooling1D name=max_pooling1d_4, built=True> False\n",
      "<Dropout name=dropout_1, built=True> True\n",
      "<Conv1D name=conv1d_6, built=True> False\n",
      "<BatchNormalization name=batch_normalization_6, built=True> False\n",
      "<MaxPooling1D name=max_pooling1d_5, built=True> False\n",
      "<Conv1D name=conv1d_7, built=True> False\n",
      "<BatchNormalization name=batch_normalization_7, built=True> False\n",
      "<MaxPooling1D name=max_pooling1d_6, built=True> False\n",
      "<Conv1D name=conv1d_8, built=True> True\n",
      "<BatchNormalization name=batch_normalization_8, built=True> True\n",
      "<GlobalAveragePooling1D name=global_average_pooling1d_1, built=True> True\n",
      "<Dense name=dense_2, built=True> True\n",
      "<Dense name=dense_3, built=True> True\n"
     ]
    },
    {
     "name": "stderr",
     "output_type": "stream",
     "text": [
      "/home/workstation/Escritorio/PabloC/TransferLearning/.venv/lib/python3.10/site-packages/keras/src/saving/saving_lib.py:719: UserWarning: Skipping variable loading for optimizer 'adam', because it has 58 variables whereas the saved optimizer has 2 variables. \n",
      "  saveable.load_own_variables(weights_store.get(inner_path))\n"
     ]
    },
    {
     "name": "stdout",
     "output_type": "stream",
     "text": [
      "[MODELO CONGELADO]: 23.72743797302246\n"
     ]
    },
    {
     "name": "stderr",
     "output_type": "stream",
     "text": [
      "/home/workstation/Escritorio/PabloC/TransferLearning/funcionesComunes.py:247: FutureWarning: The behavior of DataFrame concatenation with empty or all-NA entries is deprecated. In a future version, this will no longer exclude empty or all-NA columns when determining the result dtypes. To retain the old behavior, exclude the relevant entries before the concat operation.\n",
      "  predictionsDF = pd.concat([predictionsDF, tempDF], ignore_index=True)\n",
      "/home/workstation/Escritorio/PabloC/TransferLearning/funcionesComunes.py:247: FutureWarning: The behavior of DataFrame concatenation with empty or all-NA entries is deprecated. In a future version, this will no longer exclude empty or all-NA columns when determining the result dtypes. To retain the old behavior, exclude the relevant entries before the concat operation.\n",
      "  predictionsDF = pd.concat([predictionsDF, tempDF], ignore_index=True)\n",
      "/home/workstation/Escritorio/PabloC/TransferLearning/funcionesComunes.py:247: FutureWarning: The behavior of DataFrame concatenation with empty or all-NA entries is deprecated. In a future version, this will no longer exclude empty or all-NA columns when determining the result dtypes. To retain the old behavior, exclude the relevant entries before the concat operation.\n",
      "  predictionsDF = pd.concat([predictionsDF, tempDF], ignore_index=True)\n"
     ]
    },
    {
     "name": "stdout",
     "output_type": "stream",
     "text": [
      "RESULTADOS DE MSE, RMSE, R2, MAPE (Train): 259.8531044693785, 16.119959815997635, 0.33275152460385937, 46.00306933184711\n",
      "RESULTADOS DE MSE, RMSE, R2, MAPE (Val): 221.3400747588471, 14.877502302431248, 0.29760956263585003, 42.62936456642281\n",
      "RESULTADOS DE MSE, RMSE, R2, MAPE (Test): 402.5363635271749, 20.06330888779752, 0.34295567055471265, 46.65955655183502\n",
      "Cedrus deodara Juniperus excelsa M.-Bieb\n",
      "(37273, 77)\n",
      "SE HA NORMALIZADO EL ARCHIVO: Cedrus deodara_merged.csv\n",
      "(22017, 4, 43) (7410, 4, 43) (6282, 4, 43)\n",
      "<Conv1D name=conv1d_3, built=True> False\n",
      "<BatchNormalization name=batch_normalization_3, built=True> False\n",
      "<MaxPooling1D name=max_pooling1d_2, built=True> False\n",
      "<Conv1D name=conv1d_4, built=True> False\n",
      "<BatchNormalization name=batch_normalization_4, built=True> False\n",
      "<MaxPooling1D name=max_pooling1d_3, built=True> False\n",
      "<Conv1D name=conv1d_5, built=True> False\n",
      "<BatchNormalization name=batch_normalization_5, built=True> False\n",
      "<MaxPooling1D name=max_pooling1d_4, built=True> False\n",
      "<Dropout name=dropout_1, built=True> True\n",
      "<Conv1D name=conv1d_6, built=True> False\n",
      "<BatchNormalization name=batch_normalization_6, built=True> False\n",
      "<MaxPooling1D name=max_pooling1d_5, built=True> False\n",
      "<Conv1D name=conv1d_7, built=True> False\n",
      "<BatchNormalization name=batch_normalization_7, built=True> False\n",
      "<MaxPooling1D name=max_pooling1d_6, built=True> False\n",
      "<Conv1D name=conv1d_8, built=True> True\n",
      "<BatchNormalization name=batch_normalization_8, built=True> True\n",
      "<GlobalAveragePooling1D name=global_average_pooling1d_1, built=True> True\n",
      "<Dense name=dense_2, built=True> True\n",
      "<Dense name=dense_3, built=True> True\n"
     ]
    },
    {
     "name": "stderr",
     "output_type": "stream",
     "text": [
      "/home/workstation/Escritorio/PabloC/TransferLearning/.venv/lib/python3.10/site-packages/keras/src/saving/saving_lib.py:719: UserWarning: Skipping variable loading for optimizer 'adam', because it has 58 variables whereas the saved optimizer has 2 variables. \n",
      "  saveable.load_own_variables(weights_store.get(inner_path))\n"
     ]
    },
    {
     "name": "stdout",
     "output_type": "stream",
     "text": [
      "[MODELO CONGELADO]: 61.5790638923645\n"
     ]
    },
    {
     "name": "stderr",
     "output_type": "stream",
     "text": [
      "/home/workstation/Escritorio/PabloC/TransferLearning/funcionesComunes.py:247: FutureWarning: The behavior of DataFrame concatenation with empty or all-NA entries is deprecated. In a future version, this will no longer exclude empty or all-NA columns when determining the result dtypes. To retain the old behavior, exclude the relevant entries before the concat operation.\n",
      "  predictionsDF = pd.concat([predictionsDF, tempDF], ignore_index=True)\n",
      "/home/workstation/Escritorio/PabloC/TransferLearning/funcionesComunes.py:247: FutureWarning: The behavior of DataFrame concatenation with empty or all-NA entries is deprecated. In a future version, this will no longer exclude empty or all-NA columns when determining the result dtypes. To retain the old behavior, exclude the relevant entries before the concat operation.\n",
      "  predictionsDF = pd.concat([predictionsDF, tempDF], ignore_index=True)\n",
      "/home/workstation/Escritorio/PabloC/TransferLearning/funcionesComunes.py:247: FutureWarning: The behavior of DataFrame concatenation with empty or all-NA entries is deprecated. In a future version, this will no longer exclude empty or all-NA columns when determining the result dtypes. To retain the old behavior, exclude the relevant entries before the concat operation.\n",
      "  predictionsDF = pd.concat([predictionsDF, tempDF], ignore_index=True)\n"
     ]
    },
    {
     "name": "stdout",
     "output_type": "stream",
     "text": [
      "RESULTADOS DE MSE, RMSE, R2, MAPE (Train): 188.85764960222403, 13.742548875744413, 0.5578448954562079, 35.503216170010035\n",
      "RESULTADOS DE MSE, RMSE, R2, MAPE (Val): 239.39741561411824, 15.47247283449282, 0.46340319248882667, 37.80562521612437\n",
      "RESULTADOS DE MSE, RMSE, R2, MAPE (Test): 145.9956745867192, 12.082866985393789, 0.5857431692517903, 33.85883953487303\n",
      "Juniperus spp. L. Juniperus excelsa M.-Bieb\n",
      "(7264, 77)\n",
      "SE HA NORMALIZADO EL ARCHIVO: Juniperus spp. L._merged.csv\n",
      "(4216, 4, 43) (1524, 4, 43) (1188, 4, 43)\n",
      "<Conv1D name=conv1d_3, built=True> False\n",
      "<BatchNormalization name=batch_normalization_3, built=True> False\n",
      "<MaxPooling1D name=max_pooling1d_2, built=True> False\n",
      "<Conv1D name=conv1d_4, built=True> False\n",
      "<BatchNormalization name=batch_normalization_4, built=True> False\n",
      "<MaxPooling1D name=max_pooling1d_3, built=True> False\n",
      "<Conv1D name=conv1d_5, built=True> False\n",
      "<BatchNormalization name=batch_normalization_5, built=True> False\n",
      "<MaxPooling1D name=max_pooling1d_4, built=True> False\n",
      "<Dropout name=dropout_1, built=True> True\n",
      "<Conv1D name=conv1d_6, built=True> False\n",
      "<BatchNormalization name=batch_normalization_6, built=True> False\n",
      "<MaxPooling1D name=max_pooling1d_5, built=True> False\n",
      "<Conv1D name=conv1d_7, built=True> False\n",
      "<BatchNormalization name=batch_normalization_7, built=True> False\n",
      "<MaxPooling1D name=max_pooling1d_6, built=True> False\n",
      "<Conv1D name=conv1d_8, built=True> True\n",
      "<BatchNormalization name=batch_normalization_8, built=True> True\n",
      "<GlobalAveragePooling1D name=global_average_pooling1d_1, built=True> True\n",
      "<Dense name=dense_2, built=True> True\n",
      "<Dense name=dense_3, built=True> True\n"
     ]
    },
    {
     "name": "stderr",
     "output_type": "stream",
     "text": [
      "/home/workstation/Escritorio/PabloC/TransferLearning/.venv/lib/python3.10/site-packages/keras/src/saving/saving_lib.py:719: UserWarning: Skipping variable loading for optimizer 'adam', because it has 58 variables whereas the saved optimizer has 2 variables. \n",
      "  saveable.load_own_variables(weights_store.get(inner_path))\n"
     ]
    },
    {
     "name": "stdout",
     "output_type": "stream",
     "text": [
      "[MODELO CONGELADO]: 10.246206045150757\n"
     ]
    },
    {
     "name": "stderr",
     "output_type": "stream",
     "text": [
      "/home/workstation/Escritorio/PabloC/TransferLearning/funcionesComunes.py:247: FutureWarning: The behavior of DataFrame concatenation with empty or all-NA entries is deprecated. In a future version, this will no longer exclude empty or all-NA columns when determining the result dtypes. To retain the old behavior, exclude the relevant entries before the concat operation.\n",
      "  predictionsDF = pd.concat([predictionsDF, tempDF], ignore_index=True)\n",
      "/home/workstation/Escritorio/PabloC/TransferLearning/funcionesComunes.py:247: FutureWarning: The behavior of DataFrame concatenation with empty or all-NA entries is deprecated. In a future version, this will no longer exclude empty or all-NA columns when determining the result dtypes. To retain the old behavior, exclude the relevant entries before the concat operation.\n",
      "  predictionsDF = pd.concat([predictionsDF, tempDF], ignore_index=True)\n",
      "/home/workstation/Escritorio/PabloC/TransferLearning/funcionesComunes.py:247: FutureWarning: The behavior of DataFrame concatenation with empty or all-NA entries is deprecated. In a future version, this will no longer exclude empty or all-NA columns when determining the result dtypes. To retain the old behavior, exclude the relevant entries before the concat operation.\n",
      "  predictionsDF = pd.concat([predictionsDF, tempDF], ignore_index=True)\n"
     ]
    },
    {
     "name": "stdout",
     "output_type": "stream",
     "text": [
      "RESULTADOS DE MSE, RMSE, R2, MAPE (Train): 2.1069469301464965, 1.4515326142207403, 0.8319012600021953, 26.072963935035244\n",
      "RESULTADOS DE MSE, RMSE, R2, MAPE (Val): 0.7799421005775388, 0.8831433069312923, 0.65392146397884, 29.625971538865752\n",
      "RESULTADOS DE MSE, RMSE, R2, MAPE (Test): 3.5509379577776623, 1.8843932598525346, 0.8126859372002537, 28.3779287502519\n",
      "Juniperus recurva Juniperus excelsa M.-Bieb\n",
      "(5316, 77)\n",
      "SE HA NORMALIZADO EL ARCHIVO: Juniperus recurva_merged.csv\n",
      "(3188, 4, 43) (1082, 4, 43) (810, 4, 43)\n",
      "<Conv1D name=conv1d_3, built=True> False\n",
      "<BatchNormalization name=batch_normalization_3, built=True> False\n",
      "<MaxPooling1D name=max_pooling1d_2, built=True> False\n",
      "<Conv1D name=conv1d_4, built=True> False\n",
      "<BatchNormalization name=batch_normalization_4, built=True> False\n",
      "<MaxPooling1D name=max_pooling1d_3, built=True> False\n",
      "<Conv1D name=conv1d_5, built=True> False\n",
      "<BatchNormalization name=batch_normalization_5, built=True> False\n",
      "<MaxPooling1D name=max_pooling1d_4, built=True> False\n",
      "<Dropout name=dropout_1, built=True> True\n",
      "<Conv1D name=conv1d_6, built=True> False\n",
      "<BatchNormalization name=batch_normalization_6, built=True> False\n",
      "<MaxPooling1D name=max_pooling1d_5, built=True> False\n",
      "<Conv1D name=conv1d_7, built=True> False\n",
      "<BatchNormalization name=batch_normalization_7, built=True> False\n",
      "<MaxPooling1D name=max_pooling1d_6, built=True> False\n",
      "<Conv1D name=conv1d_8, built=True> True\n",
      "<BatchNormalization name=batch_normalization_8, built=True> True\n",
      "<GlobalAveragePooling1D name=global_average_pooling1d_1, built=True> True\n",
      "<Dense name=dense_2, built=True> True\n",
      "<Dense name=dense_3, built=True> True\n"
     ]
    },
    {
     "name": "stderr",
     "output_type": "stream",
     "text": [
      "/home/workstation/Escritorio/PabloC/TransferLearning/.venv/lib/python3.10/site-packages/keras/src/saving/saving_lib.py:719: UserWarning: Skipping variable loading for optimizer 'adam', because it has 58 variables whereas the saved optimizer has 2 variables. \n",
      "  saveable.load_own_variables(weights_store.get(inner_path))\n"
     ]
    },
    {
     "name": "stdout",
     "output_type": "stream",
     "text": [
      "[MODELO CONGELADO]: 5.0501861572265625\n"
     ]
    },
    {
     "name": "stderr",
     "output_type": "stream",
     "text": [
      "/home/workstation/Escritorio/PabloC/TransferLearning/funcionesComunes.py:247: FutureWarning: The behavior of DataFrame concatenation with empty or all-NA entries is deprecated. In a future version, this will no longer exclude empty or all-NA columns when determining the result dtypes. To retain the old behavior, exclude the relevant entries before the concat operation.\n",
      "  predictionsDF = pd.concat([predictionsDF, tempDF], ignore_index=True)\n",
      "/home/workstation/Escritorio/PabloC/TransferLearning/funcionesComunes.py:247: FutureWarning: The behavior of DataFrame concatenation with empty or all-NA entries is deprecated. In a future version, this will no longer exclude empty or all-NA columns when determining the result dtypes. To retain the old behavior, exclude the relevant entries before the concat operation.\n",
      "  predictionsDF = pd.concat([predictionsDF, tempDF], ignore_index=True)\n",
      "/home/workstation/Escritorio/PabloC/TransferLearning/funcionesComunes.py:247: FutureWarning: The behavior of DataFrame concatenation with empty or all-NA entries is deprecated. In a future version, this will no longer exclude empty or all-NA columns when determining the result dtypes. To retain the old behavior, exclude the relevant entries before the concat operation.\n",
      "  predictionsDF = pd.concat([predictionsDF, tempDF], ignore_index=True)\n"
     ]
    },
    {
     "name": "stdout",
     "output_type": "stream",
     "text": [
      "RESULTADOS DE MSE, RMSE, R2, MAPE (Train): 10.034295812279131, 3.167695662824813, 0.6012741874769133, 35.872923354492094\n",
      "RESULTADOS DE MSE, RMSE, R2, MAPE (Val): 8.157725831302674, 2.8561732845369647, 0.7037814200176613, 30.940618403323988\n",
      "RESULTADOS DE MSE, RMSE, R2, MAPE (Test): 3.294266015689482, 1.815011299052841, 0.6497791709660977, 28.62860454840962\n",
      "totalMerged.csv Juniperus excelsa M.-Bieb\n",
      "Juniperus spp.  Juniperus excelsa M.-Bieb\n",
      "(17976, 77)\n",
      "SE HA NORMALIZADO EL ARCHIVO: Juniperus spp. _merged.csv\n",
      "(10218, 4, 43) (3900, 4, 43) (3018, 4, 43)\n",
      "<Conv1D name=conv1d_3, built=True> False\n",
      "<BatchNormalization name=batch_normalization_3, built=True> False\n",
      "<MaxPooling1D name=max_pooling1d_2, built=True> False\n",
      "<Conv1D name=conv1d_4, built=True> False\n",
      "<BatchNormalization name=batch_normalization_4, built=True> False\n",
      "<MaxPooling1D name=max_pooling1d_3, built=True> False\n",
      "<Conv1D name=conv1d_5, built=True> False\n",
      "<BatchNormalization name=batch_normalization_5, built=True> False\n",
      "<MaxPooling1D name=max_pooling1d_4, built=True> False\n",
      "<Dropout name=dropout_1, built=True> True\n",
      "<Conv1D name=conv1d_6, built=True> False\n",
      "<BatchNormalization name=batch_normalization_6, built=True> False\n",
      "<MaxPooling1D name=max_pooling1d_5, built=True> False\n",
      "<Conv1D name=conv1d_7, built=True> False\n",
      "<BatchNormalization name=batch_normalization_7, built=True> False\n",
      "<MaxPooling1D name=max_pooling1d_6, built=True> False\n",
      "<Conv1D name=conv1d_8, built=True> True\n",
      "<BatchNormalization name=batch_normalization_8, built=True> True\n",
      "<GlobalAveragePooling1D name=global_average_pooling1d_1, built=True> True\n",
      "<Dense name=dense_2, built=True> True\n",
      "<Dense name=dense_3, built=True> True\n"
     ]
    },
    {
     "name": "stderr",
     "output_type": "stream",
     "text": [
      "/home/workstation/Escritorio/PabloC/TransferLearning/.venv/lib/python3.10/site-packages/keras/src/saving/saving_lib.py:719: UserWarning: Skipping variable loading for optimizer 'adam', because it has 58 variables whereas the saved optimizer has 2 variables. \n",
      "  saveable.load_own_variables(weights_store.get(inner_path))\n"
     ]
    },
    {
     "name": "stdout",
     "output_type": "stream",
     "text": [
      "[MODELO CONGELADO]: 52.971595764160156\n"
     ]
    },
    {
     "name": "stderr",
     "output_type": "stream",
     "text": [
      "/home/workstation/Escritorio/PabloC/TransferLearning/funcionesComunes.py:247: FutureWarning: The behavior of DataFrame concatenation with empty or all-NA entries is deprecated. In a future version, this will no longer exclude empty or all-NA columns when determining the result dtypes. To retain the old behavior, exclude the relevant entries before the concat operation.\n",
      "  predictionsDF = pd.concat([predictionsDF, tempDF], ignore_index=True)\n",
      "/home/workstation/Escritorio/PabloC/TransferLearning/funcionesComunes.py:247: FutureWarning: The behavior of DataFrame concatenation with empty or all-NA entries is deprecated. In a future version, this will no longer exclude empty or all-NA columns when determining the result dtypes. To retain the old behavior, exclude the relevant entries before the concat operation.\n",
      "  predictionsDF = pd.concat([predictionsDF, tempDF], ignore_index=True)\n",
      "/home/workstation/Escritorio/PabloC/TransferLearning/funcionesComunes.py:247: FutureWarning: The behavior of DataFrame concatenation with empty or all-NA entries is deprecated. In a future version, this will no longer exclude empty or all-NA columns when determining the result dtypes. To retain the old behavior, exclude the relevant entries before the concat operation.\n",
      "  predictionsDF = pd.concat([predictionsDF, tempDF], ignore_index=True)\n"
     ]
    },
    {
     "name": "stdout",
     "output_type": "stream",
     "text": [
      "RESULTADOS DE MSE, RMSE, R2, MAPE (Train): 8.355157679267844, 2.890528961845538, 0.8637331028441398, 22.510616467309276\n",
      "RESULTADOS DE MSE, RMSE, R2, MAPE (Val): 3.281569996521775, 1.8115104185518158, 0.8331920138544868, 24.58318124178829\n",
      "RESULTADOS DE MSE, RMSE, R2, MAPE (Test): 9.919061661926548, 3.1494541847638535, 0.9050774093581672, 22.45015284810372\n",
      "Procesando el modelo: model_Picea smithiana.keras\n",
      "Abies spectabilis Picea smithiana\n",
      "(96429, 77)\n",
      "SE HA NORMALIZADO EL ARCHIVO: Abies spectabilis_merged.csv\n",
      "(56618, 4, 43) (19637, 4, 43) (15689, 4, 43)\n",
      "<Conv1D name=conv1d_3, built=True> False\n",
      "<BatchNormalization name=batch_normalization_3, built=True> False\n",
      "<MaxPooling1D name=max_pooling1d_2, built=True> False\n",
      "<Conv1D name=conv1d_4, built=True> False\n",
      "<BatchNormalization name=batch_normalization_4, built=True> False\n",
      "<MaxPooling1D name=max_pooling1d_3, built=True> False\n",
      "<Conv1D name=conv1d_5, built=True> False\n",
      "<BatchNormalization name=batch_normalization_5, built=True> False\n",
      "<MaxPooling1D name=max_pooling1d_4, built=True> False\n",
      "<Dropout name=dropout_1, built=True> True\n",
      "<Conv1D name=conv1d_6, built=True> False\n",
      "<BatchNormalization name=batch_normalization_6, built=True> False\n",
      "<MaxPooling1D name=max_pooling1d_5, built=True> False\n",
      "<Conv1D name=conv1d_7, built=True> False\n",
      "<BatchNormalization name=batch_normalization_7, built=True> False\n",
      "<MaxPooling1D name=max_pooling1d_6, built=True> False\n",
      "<Conv1D name=conv1d_8, built=True> True\n",
      "<BatchNormalization name=batch_normalization_8, built=True> True\n",
      "<GlobalAveragePooling1D name=global_average_pooling1d_1, built=True> True\n",
      "<Dense name=dense_2, built=True> True\n",
      "<Dense name=dense_3, built=True> True\n"
     ]
    },
    {
     "name": "stderr",
     "output_type": "stream",
     "text": [
      "/home/workstation/Escritorio/PabloC/TransferLearning/.venv/lib/python3.10/site-packages/keras/src/saving/saving_lib.py:719: UserWarning: Skipping variable loading for optimizer 'adam', because it has 58 variables whereas the saved optimizer has 2 variables. \n",
      "  saveable.load_own_variables(weights_store.get(inner_path))\n"
     ]
    },
    {
     "name": "stdout",
     "output_type": "stream",
     "text": [
      "[MODELO CONGELADO]: 185.71650862693787\n"
     ]
    },
    {
     "name": "stderr",
     "output_type": "stream",
     "text": [
      "/home/workstation/Escritorio/PabloC/TransferLearning/funcionesComunes.py:247: FutureWarning: The behavior of DataFrame concatenation with empty or all-NA entries is deprecated. In a future version, this will no longer exclude empty or all-NA columns when determining the result dtypes. To retain the old behavior, exclude the relevant entries before the concat operation.\n",
      "  predictionsDF = pd.concat([predictionsDF, tempDF], ignore_index=True)\n",
      "/home/workstation/Escritorio/PabloC/TransferLearning/funcionesComunes.py:247: FutureWarning: The behavior of DataFrame concatenation with empty or all-NA entries is deprecated. In a future version, this will no longer exclude empty or all-NA columns when determining the result dtypes. To retain the old behavior, exclude the relevant entries before the concat operation.\n",
      "  predictionsDF = pd.concat([predictionsDF, tempDF], ignore_index=True)\n",
      "/home/workstation/Escritorio/PabloC/TransferLearning/funcionesComunes.py:247: FutureWarning: The behavior of DataFrame concatenation with empty or all-NA entries is deprecated. In a future version, this will no longer exclude empty or all-NA columns when determining the result dtypes. To retain the old behavior, exclude the relevant entries before the concat operation.\n",
      "  predictionsDF = pd.concat([predictionsDF, tempDF], ignore_index=True)\n"
     ]
    },
    {
     "name": "stdout",
     "output_type": "stream",
     "text": [
      "RESULTADOS DE MSE, RMSE, R2, MAPE (Train): 29.334156929550183, 5.416101635821671, 0.7426380296843837, 26.571327190538963\n",
      "RESULTADOS DE MSE, RMSE, R2, MAPE (Val): 28.14008261792876, 5.30472267116093, 0.7435975533112048, 26.542331839290696\n",
      "RESULTADOS DE MSE, RMSE, R2, MAPE (Test): 31.91898658879076, 5.649689070098527, 0.763280626239032, 26.426193777474342\n",
      "Picea smithiana Picea smithiana\n",
      "Abies pindrow Picea smithiana\n",
      "(16018, 77)\n",
      "SE HA NORMALIZADO EL ARCHIVO: Abies pindrow_merged.csv\n",
      "(9042, 4, 43) (3441, 4, 43) (2815, 4, 43)\n",
      "<Conv1D name=conv1d_3, built=True> False\n",
      "<BatchNormalization name=batch_normalization_3, built=True> False\n",
      "<MaxPooling1D name=max_pooling1d_2, built=True> False\n",
      "<Conv1D name=conv1d_4, built=True> False\n",
      "<BatchNormalization name=batch_normalization_4, built=True> False\n",
      "<MaxPooling1D name=max_pooling1d_3, built=True> False\n",
      "<Conv1D name=conv1d_5, built=True> False\n",
      "<BatchNormalization name=batch_normalization_5, built=True> False\n",
      "<MaxPooling1D name=max_pooling1d_4, built=True> False\n",
      "<Dropout name=dropout_1, built=True> True\n",
      "<Conv1D name=conv1d_6, built=True> False\n",
      "<BatchNormalization name=batch_normalization_6, built=True> False\n",
      "<MaxPooling1D name=max_pooling1d_5, built=True> False\n",
      "<Conv1D name=conv1d_7, built=True> False\n",
      "<BatchNormalization name=batch_normalization_7, built=True> False\n",
      "<MaxPooling1D name=max_pooling1d_6, built=True> False\n",
      "<Conv1D name=conv1d_8, built=True> True\n",
      "<BatchNormalization name=batch_normalization_8, built=True> True\n",
      "<GlobalAveragePooling1D name=global_average_pooling1d_1, built=True> True\n",
      "<Dense name=dense_2, built=True> True\n",
      "<Dense name=dense_3, built=True> True\n"
     ]
    },
    {
     "name": "stderr",
     "output_type": "stream",
     "text": [
      "/home/workstation/Escritorio/PabloC/TransferLearning/.venv/lib/python3.10/site-packages/keras/src/saving/saving_lib.py:719: UserWarning: Skipping variable loading for optimizer 'adam', because it has 58 variables whereas the saved optimizer has 2 variables. \n",
      "  saveable.load_own_variables(weights_store.get(inner_path))\n"
     ]
    },
    {
     "name": "stdout",
     "output_type": "stream",
     "text": [
      "[MODELO CONGELADO]: 30.073726892471313\n"
     ]
    },
    {
     "name": "stderr",
     "output_type": "stream",
     "text": [
      "/home/workstation/Escritorio/PabloC/TransferLearning/funcionesComunes.py:247: FutureWarning: The behavior of DataFrame concatenation with empty or all-NA entries is deprecated. In a future version, this will no longer exclude empty or all-NA columns when determining the result dtypes. To retain the old behavior, exclude the relevant entries before the concat operation.\n",
      "  predictionsDF = pd.concat([predictionsDF, tempDF], ignore_index=True)\n",
      "/home/workstation/Escritorio/PabloC/TransferLearning/funcionesComunes.py:247: FutureWarning: The behavior of DataFrame concatenation with empty or all-NA entries is deprecated. In a future version, this will no longer exclude empty or all-NA columns when determining the result dtypes. To retain the old behavior, exclude the relevant entries before the concat operation.\n",
      "  predictionsDF = pd.concat([predictionsDF, tempDF], ignore_index=True)\n",
      "/home/workstation/Escritorio/PabloC/TransferLearning/funcionesComunes.py:247: FutureWarning: The behavior of DataFrame concatenation with empty or all-NA entries is deprecated. In a future version, this will no longer exclude empty or all-NA columns when determining the result dtypes. To retain the old behavior, exclude the relevant entries before the concat operation.\n",
      "  predictionsDF = pd.concat([predictionsDF, tempDF], ignore_index=True)\n"
     ]
    },
    {
     "name": "stdout",
     "output_type": "stream",
     "text": [
      "RESULTADOS DE MSE, RMSE, R2, MAPE (Train): 66.17911823036594, 8.13505490026748, 0.7159380816767681, 24.45975418933075\n",
      "RESULTADOS DE MSE, RMSE, R2, MAPE (Val): 78.62010200933528, 8.866797731387317, 0.5515125561066339, 25.571149016298904\n",
      "RESULTADOS DE MSE, RMSE, R2, MAPE (Test): 56.1429906089732, 7.492862644475288, 0.603084920893637, 24.034266203789688\n",
      "Juniperus excelsa M.-Bieb Picea smithiana\n",
      "(7449, 77)\n",
      "SE HA NORMALIZADO EL ARCHIVO: Juniperus excelsa M.-Bieb_merged.csv\n",
      "(4189, 4, 43) (1707, 4, 43) (1228, 4, 43)\n",
      "<Conv1D name=conv1d_3, built=True> False\n",
      "<BatchNormalization name=batch_normalization_3, built=True> False\n",
      "<MaxPooling1D name=max_pooling1d_2, built=True> False\n",
      "<Conv1D name=conv1d_4, built=True> False\n",
      "<BatchNormalization name=batch_normalization_4, built=True> False\n",
      "<MaxPooling1D name=max_pooling1d_3, built=True> False\n",
      "<Conv1D name=conv1d_5, built=True> False\n",
      "<BatchNormalization name=batch_normalization_5, built=True> False\n",
      "<MaxPooling1D name=max_pooling1d_4, built=True> False\n",
      "<Dropout name=dropout_1, built=True> True\n",
      "<Conv1D name=conv1d_6, built=True> False\n",
      "<BatchNormalization name=batch_normalization_6, built=True> False\n",
      "<MaxPooling1D name=max_pooling1d_5, built=True> False\n",
      "<Conv1D name=conv1d_7, built=True> False\n",
      "<BatchNormalization name=batch_normalization_7, built=True> False\n",
      "<MaxPooling1D name=max_pooling1d_6, built=True> False\n",
      "<Conv1D name=conv1d_8, built=True> True\n",
      "<BatchNormalization name=batch_normalization_8, built=True> True\n",
      "<GlobalAveragePooling1D name=global_average_pooling1d_1, built=True> True\n",
      "<Dense name=dense_2, built=True> True\n",
      "<Dense name=dense_3, built=True> True\n"
     ]
    },
    {
     "name": "stderr",
     "output_type": "stream",
     "text": [
      "/home/workstation/Escritorio/PabloC/TransferLearning/.venv/lib/python3.10/site-packages/keras/src/saving/saving_lib.py:719: UserWarning: Skipping variable loading for optimizer 'adam', because it has 58 variables whereas the saved optimizer has 2 variables. \n",
      "  saveable.load_own_variables(weights_store.get(inner_path))\n"
     ]
    },
    {
     "name": "stdout",
     "output_type": "stream",
     "text": [
      "[MODELO CONGELADO]: 35.47186470031738\n"
     ]
    },
    {
     "name": "stderr",
     "output_type": "stream",
     "text": [
      "/home/workstation/Escritorio/PabloC/TransferLearning/funcionesComunes.py:247: FutureWarning: The behavior of DataFrame concatenation with empty or all-NA entries is deprecated. In a future version, this will no longer exclude empty or all-NA columns when determining the result dtypes. To retain the old behavior, exclude the relevant entries before the concat operation.\n",
      "  predictionsDF = pd.concat([predictionsDF, tempDF], ignore_index=True)\n",
      "/home/workstation/Escritorio/PabloC/TransferLearning/funcionesComunes.py:247: FutureWarning: The behavior of DataFrame concatenation with empty or all-NA entries is deprecated. In a future version, this will no longer exclude empty or all-NA columns when determining the result dtypes. To retain the old behavior, exclude the relevant entries before the concat operation.\n",
      "  predictionsDF = pd.concat([predictionsDF, tempDF], ignore_index=True)\n",
      "/home/workstation/Escritorio/PabloC/TransferLearning/funcionesComunes.py:247: FutureWarning: The behavior of DataFrame concatenation with empty or all-NA entries is deprecated. In a future version, this will no longer exclude empty or all-NA columns when determining the result dtypes. To retain the old behavior, exclude the relevant entries before the concat operation.\n",
      "  predictionsDF = pd.concat([predictionsDF, tempDF], ignore_index=True)\n"
     ]
    },
    {
     "name": "stdout",
     "output_type": "stream",
     "text": [
      "RESULTADOS DE MSE, RMSE, R2, MAPE (Train): 5.504206445366323, 2.346104525669375, 0.7762650016088743, 23.896760902067374\n",
      "RESULTADOS DE MSE, RMSE, R2, MAPE (Val): 5.8300995790907, 2.414559914164629, 0.7776618847700602, 25.96618695847309\n",
      "RESULTADOS DE MSE, RMSE, R2, MAPE (Test): 15.96995304729726, 3.996242365935437, 0.7632321751641772, 28.5355770495433\n",
      "Juniperus turkestanica Komar. Picea smithiana\n",
      "(6305, 77)\n",
      "SE HA NORMALIZADO EL ARCHIVO: Juniperus turkestanica Komar._merged.csv\n",
      "(3664, 4, 43) (1368, 4, 43) (1001, 4, 43)\n",
      "<Conv1D name=conv1d_3, built=True> False\n",
      "<BatchNormalization name=batch_normalization_3, built=True> False\n",
      "<MaxPooling1D name=max_pooling1d_2, built=True> False\n",
      "<Conv1D name=conv1d_4, built=True> False\n",
      "<BatchNormalization name=batch_normalization_4, built=True> False\n",
      "<MaxPooling1D name=max_pooling1d_3, built=True> False\n",
      "<Conv1D name=conv1d_5, built=True> False\n",
      "<BatchNormalization name=batch_normalization_5, built=True> False\n",
      "<MaxPooling1D name=max_pooling1d_4, built=True> False\n",
      "<Dropout name=dropout_1, built=True> True\n",
      "<Conv1D name=conv1d_6, built=True> False\n",
      "<BatchNormalization name=batch_normalization_6, built=True> False\n",
      "<MaxPooling1D name=max_pooling1d_5, built=True> False\n",
      "<Conv1D name=conv1d_7, built=True> False\n",
      "<BatchNormalization name=batch_normalization_7, built=True> False\n",
      "<MaxPooling1D name=max_pooling1d_6, built=True> False\n",
      "<Conv1D name=conv1d_8, built=True> True\n",
      "<BatchNormalization name=batch_normalization_8, built=True> True\n",
      "<GlobalAveragePooling1D name=global_average_pooling1d_1, built=True> True\n",
      "<Dense name=dense_2, built=True> True\n",
      "<Dense name=dense_3, built=True> True\n"
     ]
    },
    {
     "name": "stderr",
     "output_type": "stream",
     "text": [
      "/home/workstation/Escritorio/PabloC/TransferLearning/.venv/lib/python3.10/site-packages/keras/src/saving/saving_lib.py:719: UserWarning: Skipping variable loading for optimizer 'adam', because it has 58 variables whereas the saved optimizer has 2 variables. \n",
      "  saveable.load_own_variables(weights_store.get(inner_path))\n"
     ]
    },
    {
     "name": "stdout",
     "output_type": "stream",
     "text": [
      "[MODELO CONGELADO]: 31.70870566368103\n"
     ]
    },
    {
     "name": "stderr",
     "output_type": "stream",
     "text": [
      "/home/workstation/Escritorio/PabloC/TransferLearning/funcionesComunes.py:247: FutureWarning: The behavior of DataFrame concatenation with empty or all-NA entries is deprecated. In a future version, this will no longer exclude empty or all-NA columns when determining the result dtypes. To retain the old behavior, exclude the relevant entries before the concat operation.\n",
      "  predictionsDF = pd.concat([predictionsDF, tempDF], ignore_index=True)\n",
      "/home/workstation/Escritorio/PabloC/TransferLearning/funcionesComunes.py:247: FutureWarning: The behavior of DataFrame concatenation with empty or all-NA entries is deprecated. In a future version, this will no longer exclude empty or all-NA columns when determining the result dtypes. To retain the old behavior, exclude the relevant entries before the concat operation.\n",
      "  predictionsDF = pd.concat([predictionsDF, tempDF], ignore_index=True)\n",
      "/home/workstation/Escritorio/PabloC/TransferLearning/funcionesComunes.py:247: FutureWarning: The behavior of DataFrame concatenation with empty or all-NA entries is deprecated. In a future version, this will no longer exclude empty or all-NA columns when determining the result dtypes. To retain the old behavior, exclude the relevant entries before the concat operation.\n",
      "  predictionsDF = pd.concat([predictionsDF, tempDF], ignore_index=True)\n"
     ]
    },
    {
     "name": "stdout",
     "output_type": "stream",
     "text": [
      "RESULTADOS DE MSE, RMSE, R2, MAPE (Train): 3.426819445106135, 1.851167049486927, 0.9236563709781623, 19.158865809918943\n",
      "RESULTADOS DE MSE, RMSE, R2, MAPE (Val): 2.612541794439314, 1.6163359163364879, 0.8480736157992964, 22.599599108406846\n",
      "RESULTADOS DE MSE, RMSE, R2, MAPE (Test): 1.415072849210681, 1.1895683457501216, 0.739666119711057, 23.9394588493881\n",
      "Pinus roxburghii Picea smithiana\n",
      "(10635, 77)\n",
      "SE HA NORMALIZADO EL ARCHIVO: Pinus roxburghii_merged.csv\n",
      "(6309, 4, 43) (2167, 4, 43) (1647, 4, 43)\n",
      "<Conv1D name=conv1d_3, built=True> False\n",
      "<BatchNormalization name=batch_normalization_3, built=True> False\n",
      "<MaxPooling1D name=max_pooling1d_2, built=True> False\n",
      "<Conv1D name=conv1d_4, built=True> False\n",
      "<BatchNormalization name=batch_normalization_4, built=True> False\n",
      "<MaxPooling1D name=max_pooling1d_3, built=True> False\n",
      "<Conv1D name=conv1d_5, built=True> False\n",
      "<BatchNormalization name=batch_normalization_5, built=True> False\n",
      "<MaxPooling1D name=max_pooling1d_4, built=True> False\n",
      "<Dropout name=dropout_1, built=True> True\n",
      "<Conv1D name=conv1d_6, built=True> False\n",
      "<BatchNormalization name=batch_normalization_6, built=True> False\n",
      "<MaxPooling1D name=max_pooling1d_5, built=True> False\n",
      "<Conv1D name=conv1d_7, built=True> False\n",
      "<BatchNormalization name=batch_normalization_7, built=True> False\n",
      "<MaxPooling1D name=max_pooling1d_6, built=True> False\n",
      "<Conv1D name=conv1d_8, built=True> True\n",
      "<BatchNormalization name=batch_normalization_8, built=True> True\n",
      "<GlobalAveragePooling1D name=global_average_pooling1d_1, built=True> True\n",
      "<Dense name=dense_2, built=True> True\n",
      "<Dense name=dense_3, built=True> True\n"
     ]
    },
    {
     "name": "stderr",
     "output_type": "stream",
     "text": [
      "/home/workstation/Escritorio/PabloC/TransferLearning/.venv/lib/python3.10/site-packages/keras/src/saving/saving_lib.py:719: UserWarning: Skipping variable loading for optimizer 'adam', because it has 58 variables whereas the saved optimizer has 2 variables. \n",
      "  saveable.load_own_variables(weights_store.get(inner_path))\n"
     ]
    },
    {
     "name": "stdout",
     "output_type": "stream",
     "text": [
      "[MODELO CONGELADO]: 20.993501901626587\n"
     ]
    },
    {
     "name": "stderr",
     "output_type": "stream",
     "text": [
      "/home/workstation/Escritorio/PabloC/TransferLearning/funcionesComunes.py:247: FutureWarning: The behavior of DataFrame concatenation with empty or all-NA entries is deprecated. In a future version, this will no longer exclude empty or all-NA columns when determining the result dtypes. To retain the old behavior, exclude the relevant entries before the concat operation.\n",
      "  predictionsDF = pd.concat([predictionsDF, tempDF], ignore_index=True)\n",
      "/home/workstation/Escritorio/PabloC/TransferLearning/funcionesComunes.py:247: FutureWarning: The behavior of DataFrame concatenation with empty or all-NA entries is deprecated. In a future version, this will no longer exclude empty or all-NA columns when determining the result dtypes. To retain the old behavior, exclude the relevant entries before the concat operation.\n",
      "  predictionsDF = pd.concat([predictionsDF, tempDF], ignore_index=True)\n",
      "/home/workstation/Escritorio/PabloC/TransferLearning/funcionesComunes.py:247: FutureWarning: The behavior of DataFrame concatenation with empty or all-NA entries is deprecated. In a future version, this will no longer exclude empty or all-NA columns when determining the result dtypes. To retain the old behavior, exclude the relevant entries before the concat operation.\n",
      "  predictionsDF = pd.concat([predictionsDF, tempDF], ignore_index=True)\n"
     ]
    },
    {
     "name": "stdout",
     "output_type": "stream",
     "text": [
      "RESULTADOS DE MSE, RMSE, R2, MAPE (Train): 152.5186628300324, 12.349844648012072, 0.42820218888437545, 37.91538309662554\n",
      "RESULTADOS DE MSE, RMSE, R2, MAPE (Val): 120.29115648176852, 10.967732513230278, 0.46300589306620077, 38.19753160930806\n",
      "RESULTADOS DE MSE, RMSE, R2, MAPE (Test): 114.67090055459941, 10.708449960409743, 0.5188169397582645, 35.62817119657988\n",
      "Pinus wallichiana Picea smithiana\n",
      "(9365, 77)\n",
      "SE HA NORMALIZADO EL ARCHIVO: Pinus wallichiana_merged.csv\n",
      "(5508, 4, 43) (1957, 4, 43) (1500, 4, 43)\n",
      "<Conv1D name=conv1d_3, built=True> False\n",
      "<BatchNormalization name=batch_normalization_3, built=True> False\n",
      "<MaxPooling1D name=max_pooling1d_2, built=True> False\n",
      "<Conv1D name=conv1d_4, built=True> False\n",
      "<BatchNormalization name=batch_normalization_4, built=True> False\n",
      "<MaxPooling1D name=max_pooling1d_3, built=True> False\n",
      "<Conv1D name=conv1d_5, built=True> False\n",
      "<BatchNormalization name=batch_normalization_5, built=True> False\n",
      "<MaxPooling1D name=max_pooling1d_4, built=True> False\n",
      "<Dropout name=dropout_1, built=True> True\n",
      "<Conv1D name=conv1d_6, built=True> False\n",
      "<BatchNormalization name=batch_normalization_6, built=True> False\n",
      "<MaxPooling1D name=max_pooling1d_5, built=True> False\n",
      "<Conv1D name=conv1d_7, built=True> False\n",
      "<BatchNormalization name=batch_normalization_7, built=True> False\n",
      "<MaxPooling1D name=max_pooling1d_6, built=True> False\n",
      "<Conv1D name=conv1d_8, built=True> True\n",
      "<BatchNormalization name=batch_normalization_8, built=True> True\n",
      "<GlobalAveragePooling1D name=global_average_pooling1d_1, built=True> True\n",
      "<Dense name=dense_2, built=True> True\n",
      "<Dense name=dense_3, built=True> True\n"
     ]
    },
    {
     "name": "stderr",
     "output_type": "stream",
     "text": [
      "/home/workstation/Escritorio/PabloC/TransferLearning/.venv/lib/python3.10/site-packages/keras/src/saving/saving_lib.py:719: UserWarning: Skipping variable loading for optimizer 'adam', because it has 58 variables whereas the saved optimizer has 2 variables. \n",
      "  saveable.load_own_variables(weights_store.get(inner_path))\n"
     ]
    },
    {
     "name": "stdout",
     "output_type": "stream",
     "text": [
      "[MODELO CONGELADO]: 61.091230630874634\n"
     ]
    },
    {
     "name": "stderr",
     "output_type": "stream",
     "text": [
      "/home/workstation/Escritorio/PabloC/TransferLearning/funcionesComunes.py:247: FutureWarning: The behavior of DataFrame concatenation with empty or all-NA entries is deprecated. In a future version, this will no longer exclude empty or all-NA columns when determining the result dtypes. To retain the old behavior, exclude the relevant entries before the concat operation.\n",
      "  predictionsDF = pd.concat([predictionsDF, tempDF], ignore_index=True)\n",
      "/home/workstation/Escritorio/PabloC/TransferLearning/funcionesComunes.py:247: FutureWarning: The behavior of DataFrame concatenation with empty or all-NA entries is deprecated. In a future version, this will no longer exclude empty or all-NA columns when determining the result dtypes. To retain the old behavior, exclude the relevant entries before the concat operation.\n",
      "  predictionsDF = pd.concat([predictionsDF, tempDF], ignore_index=True)\n",
      "/home/workstation/Escritorio/PabloC/TransferLearning/funcionesComunes.py:247: FutureWarning: The behavior of DataFrame concatenation with empty or all-NA entries is deprecated. In a future version, this will no longer exclude empty or all-NA columns when determining the result dtypes. To retain the old behavior, exclude the relevant entries before the concat operation.\n",
      "  predictionsDF = pd.concat([predictionsDF, tempDF], ignore_index=True)\n"
     ]
    },
    {
     "name": "stdout",
     "output_type": "stream",
     "text": [
      "RESULTADOS DE MSE, RMSE, R2, MAPE (Train): 8.749735896303717, 2.9579952495404243, 0.870204650567548, 17.065319289630683\n",
      "RESULTADOS DE MSE, RMSE, R2, MAPE (Val): 7.857649885045073, 2.803149993319136, 0.8685645687914166, 18.644343995492406\n",
      "RESULTADOS DE MSE, RMSE, R2, MAPE (Test): 12.980961454483413, 3.6029101368870435, 0.6921290251607264, 23.35835561390194\n",
      "Pinus gerardiana Picea smithiana\n",
      "(10101, 77)\n",
      "SE HA NORMALIZADO EL ARCHIVO: Pinus gerardiana_merged.csv\n",
      "(5767, 4, 43) (2181, 4, 43) (1745, 4, 43)\n",
      "<Conv1D name=conv1d_3, built=True> False\n",
      "<BatchNormalization name=batch_normalization_3, built=True> False\n",
      "<MaxPooling1D name=max_pooling1d_2, built=True> False\n",
      "<Conv1D name=conv1d_4, built=True> False\n",
      "<BatchNormalization name=batch_normalization_4, built=True> False\n",
      "<MaxPooling1D name=max_pooling1d_3, built=True> False\n",
      "<Conv1D name=conv1d_5, built=True> False\n",
      "<BatchNormalization name=batch_normalization_5, built=True> False\n",
      "<MaxPooling1D name=max_pooling1d_4, built=True> False\n",
      "<Dropout name=dropout_1, built=True> True\n",
      "<Conv1D name=conv1d_6, built=True> False\n",
      "<BatchNormalization name=batch_normalization_6, built=True> False\n",
      "<MaxPooling1D name=max_pooling1d_5, built=True> False\n",
      "<Conv1D name=conv1d_7, built=True> False\n",
      "<BatchNormalization name=batch_normalization_7, built=True> False\n",
      "<MaxPooling1D name=max_pooling1d_6, built=True> False\n",
      "<Conv1D name=conv1d_8, built=True> True\n",
      "<BatchNormalization name=batch_normalization_8, built=True> True\n",
      "<GlobalAveragePooling1D name=global_average_pooling1d_1, built=True> True\n",
      "<Dense name=dense_2, built=True> True\n",
      "<Dense name=dense_3, built=True> True\n"
     ]
    },
    {
     "name": "stderr",
     "output_type": "stream",
     "text": [
      "/home/workstation/Escritorio/PabloC/TransferLearning/.venv/lib/python3.10/site-packages/keras/src/saving/saving_lib.py:719: UserWarning: Skipping variable loading for optimizer 'adam', because it has 58 variables whereas the saved optimizer has 2 variables. \n",
      "  saveable.load_own_variables(weights_store.get(inner_path))\n"
     ]
    },
    {
     "name": "stdout",
     "output_type": "stream",
     "text": [
      "[MODELO CONGELADO]: 25.543341159820557\n"
     ]
    },
    {
     "name": "stderr",
     "output_type": "stream",
     "text": [
      "/home/workstation/Escritorio/PabloC/TransferLearning/funcionesComunes.py:247: FutureWarning: The behavior of DataFrame concatenation with empty or all-NA entries is deprecated. In a future version, this will no longer exclude empty or all-NA columns when determining the result dtypes. To retain the old behavior, exclude the relevant entries before the concat operation.\n",
      "  predictionsDF = pd.concat([predictionsDF, tempDF], ignore_index=True)\n",
      "/home/workstation/Escritorio/PabloC/TransferLearning/funcionesComunes.py:247: FutureWarning: The behavior of DataFrame concatenation with empty or all-NA entries is deprecated. In a future version, this will no longer exclude empty or all-NA columns when determining the result dtypes. To retain the old behavior, exclude the relevant entries before the concat operation.\n",
      "  predictionsDF = pd.concat([predictionsDF, tempDF], ignore_index=True)\n",
      "/home/workstation/Escritorio/PabloC/TransferLearning/funcionesComunes.py:247: FutureWarning: The behavior of DataFrame concatenation with empty or all-NA entries is deprecated. In a future version, this will no longer exclude empty or all-NA columns when determining the result dtypes. To retain the old behavior, exclude the relevant entries before the concat operation.\n",
      "  predictionsDF = pd.concat([predictionsDF, tempDF], ignore_index=True)\n"
     ]
    },
    {
     "name": "stdout",
     "output_type": "stream",
     "text": [
      "RESULTADOS DE MSE, RMSE, R2, MAPE (Train): 15.945659445411179, 3.9932016534869836, 0.5892107137744953, 29.63887458865463\n",
      "RESULTADOS DE MSE, RMSE, R2, MAPE (Val): 16.934155936727876, 4.1151131134791274, 0.5720453826735258, 28.790586649894923\n",
      "RESULTADOS DE MSE, RMSE, R2, MAPE (Test): 13.475569579060565, 3.670908549536554, 0.6645819655105363, 26.50435443314282\n",
      "Populus ciliata Picea smithiana\n",
      "(1182, 77)\n",
      "SE HA NORMALIZADO EL ARCHIVO: Populus ciliata_merged.csv\n",
      "(705, 4, 43) (156, 4, 43) (265, 4, 43)\n"
     ]
    },
    {
     "name": "stderr",
     "output_type": "stream",
     "text": [
      "/home/workstation/Escritorio/PabloC/TransferLearning/.venv/lib/python3.10/site-packages/keras/src/saving/saving_lib.py:719: UserWarning: Skipping variable loading for optimizer 'adam', because it has 58 variables whereas the saved optimizer has 2 variables. \n",
      "  saveable.load_own_variables(weights_store.get(inner_path))\n"
     ]
    },
    {
     "name": "stdout",
     "output_type": "stream",
     "text": [
      "<Conv1D name=conv1d_3, built=True> False\n",
      "<BatchNormalization name=batch_normalization_3, built=True> False\n",
      "<MaxPooling1D name=max_pooling1d_2, built=True> False\n",
      "<Conv1D name=conv1d_4, built=True> False\n",
      "<BatchNormalization name=batch_normalization_4, built=True> False\n",
      "<MaxPooling1D name=max_pooling1d_3, built=True> False\n",
      "<Conv1D name=conv1d_5, built=True> False\n",
      "<BatchNormalization name=batch_normalization_5, built=True> False\n",
      "<MaxPooling1D name=max_pooling1d_4, built=True> False\n",
      "<Dropout name=dropout_1, built=True> True\n",
      "<Conv1D name=conv1d_6, built=True> False\n",
      "<BatchNormalization name=batch_normalization_6, built=True> False\n",
      "<MaxPooling1D name=max_pooling1d_5, built=True> False\n",
      "<Conv1D name=conv1d_7, built=True> False\n",
      "<BatchNormalization name=batch_normalization_7, built=True> False\n",
      "<MaxPooling1D name=max_pooling1d_6, built=True> False\n",
      "<Conv1D name=conv1d_8, built=True> True\n",
      "<BatchNormalization name=batch_normalization_8, built=True> True\n",
      "<GlobalAveragePooling1D name=global_average_pooling1d_1, built=True> True\n",
      "<Dense name=dense_2, built=True> True\n",
      "<Dense name=dense_3, built=True> True\n",
      "[MODELO CONGELADO]: 3.495548725128174\n"
     ]
    },
    {
     "name": "stderr",
     "output_type": "stream",
     "text": [
      "/home/workstation/Escritorio/PabloC/TransferLearning/funcionesComunes.py:247: FutureWarning: The behavior of DataFrame concatenation with empty or all-NA entries is deprecated. In a future version, this will no longer exclude empty or all-NA columns when determining the result dtypes. To retain the old behavior, exclude the relevant entries before the concat operation.\n",
      "  predictionsDF = pd.concat([predictionsDF, tempDF], ignore_index=True)\n",
      "/home/workstation/Escritorio/PabloC/TransferLearning/funcionesComunes.py:247: FutureWarning: The behavior of DataFrame concatenation with empty or all-NA entries is deprecated. In a future version, this will no longer exclude empty or all-NA columns when determining the result dtypes. To retain the old behavior, exclude the relevant entries before the concat operation.\n",
      "  predictionsDF = pd.concat([predictionsDF, tempDF], ignore_index=True)\n",
      "/home/workstation/Escritorio/PabloC/TransferLearning/funcionesComunes.py:247: FutureWarning: The behavior of DataFrame concatenation with empty or all-NA entries is deprecated. In a future version, this will no longer exclude empty or all-NA columns when determining the result dtypes. To retain the old behavior, exclude the relevant entries before the concat operation.\n",
      "  predictionsDF = pd.concat([predictionsDF, tempDF], ignore_index=True)\n"
     ]
    },
    {
     "name": "stdout",
     "output_type": "stream",
     "text": [
      "RESULTADOS DE MSE, RMSE, R2, MAPE (Train): 161.96259496528774, 12.726452567989547, 0.5540589476892827, 34.6679937613148\n",
      "RESULTADOS DE MSE, RMSE, R2, MAPE (Val): 211.29560174757512, 14.536010516905082, 0.09971284563706817, 43.42959945457347\n",
      "RESULTADOS DE MSE, RMSE, R2, MAPE (Test): 77.92266615905753, 8.827381613992765, 0.6106394751235807, 31.836231829831064\n",
      "Betula utilis Picea smithiana\n",
      "(3473, 77)\n",
      "SE HA NORMALIZADO EL ARCHIVO: Betula utilis_merged.csv\n",
      "(2059, 4, 43) (665, 4, 43) (593, 4, 43)\n",
      "<Conv1D name=conv1d_3, built=True> False\n",
      "<BatchNormalization name=batch_normalization_3, built=True> False\n",
      "<MaxPooling1D name=max_pooling1d_2, built=True> False\n",
      "<Conv1D name=conv1d_4, built=True> False\n",
      "<BatchNormalization name=batch_normalization_4, built=True> False\n",
      "<MaxPooling1D name=max_pooling1d_3, built=True> False\n",
      "<Conv1D name=conv1d_5, built=True> False\n",
      "<BatchNormalization name=batch_normalization_5, built=True> False\n",
      "<MaxPooling1D name=max_pooling1d_4, built=True> False\n",
      "<Dropout name=dropout_1, built=True> True\n",
      "<Conv1D name=conv1d_6, built=True> False\n",
      "<BatchNormalization name=batch_normalization_6, built=True> False\n",
      "<MaxPooling1D name=max_pooling1d_5, built=True> False\n",
      "<Conv1D name=conv1d_7, built=True> False\n",
      "<BatchNormalization name=batch_normalization_7, built=True> False\n",
      "<MaxPooling1D name=max_pooling1d_6, built=True> False\n",
      "<Conv1D name=conv1d_8, built=True> True\n",
      "<BatchNormalization name=batch_normalization_8, built=True> True\n",
      "<GlobalAveragePooling1D name=global_average_pooling1d_1, built=True> True\n",
      "<Dense name=dense_2, built=True> True\n",
      "<Dense name=dense_3, built=True> True\n"
     ]
    },
    {
     "name": "stderr",
     "output_type": "stream",
     "text": [
      "/home/workstation/Escritorio/PabloC/TransferLearning/.venv/lib/python3.10/site-packages/keras/src/saving/saving_lib.py:719: UserWarning: Skipping variable loading for optimizer 'adam', because it has 58 variables whereas the saved optimizer has 2 variables. \n",
      "  saveable.load_own_variables(weights_store.get(inner_path))\n"
     ]
    },
    {
     "name": "stdout",
     "output_type": "stream",
     "text": [
      "[MODELO CONGELADO]: 9.172022819519043\n"
     ]
    },
    {
     "name": "stderr",
     "output_type": "stream",
     "text": [
      "/home/workstation/Escritorio/PabloC/TransferLearning/funcionesComunes.py:247: FutureWarning: The behavior of DataFrame concatenation with empty or all-NA entries is deprecated. In a future version, this will no longer exclude empty or all-NA columns when determining the result dtypes. To retain the old behavior, exclude the relevant entries before the concat operation.\n",
      "  predictionsDF = pd.concat([predictionsDF, tempDF], ignore_index=True)\n",
      "/home/workstation/Escritorio/PabloC/TransferLearning/funcionesComunes.py:247: FutureWarning: The behavior of DataFrame concatenation with empty or all-NA entries is deprecated. In a future version, this will no longer exclude empty or all-NA columns when determining the result dtypes. To retain the old behavior, exclude the relevant entries before the concat operation.\n",
      "  predictionsDF = pd.concat([predictionsDF, tempDF], ignore_index=True)\n",
      "/home/workstation/Escritorio/PabloC/TransferLearning/funcionesComunes.py:247: FutureWarning: The behavior of DataFrame concatenation with empty or all-NA entries is deprecated. In a future version, this will no longer exclude empty or all-NA columns when determining the result dtypes. To retain the old behavior, exclude the relevant entries before the concat operation.\n",
      "  predictionsDF = pd.concat([predictionsDF, tempDF], ignore_index=True)\n"
     ]
    },
    {
     "name": "stdout",
     "output_type": "stream",
     "text": [
      "RESULTADOS DE MSE, RMSE, R2, MAPE (Train): 1.8333225372596227, 1.3540024140523614, 0.729355230824107, 29.81927577005322\n",
      "RESULTADOS DE MSE, RMSE, R2, MAPE (Val): 0.5369089885007822, 0.7327407375741997, 0.7203959288914361, 26.662623176562207\n",
      "RESULTADOS DE MSE, RMSE, R2, MAPE (Test): 0.5637249656529741, 0.7508161996474064, 0.7845726775952909, 26.72375202532998\n",
      "Tsuga dumosa Picea smithiana\n",
      "(20493, 77)\n",
      "SE HA NORMALIZADO EL ARCHIVO: Tsuga dumosa_merged.csv\n",
      "(11935, 4, 43) (4144, 4, 43) (3469, 4, 43)\n",
      "<Conv1D name=conv1d_3, built=True> False\n",
      "<BatchNormalization name=batch_normalization_3, built=True> False\n",
      "<MaxPooling1D name=max_pooling1d_2, built=True> False\n",
      "<Conv1D name=conv1d_4, built=True> False\n",
      "<BatchNormalization name=batch_normalization_4, built=True> False\n",
      "<MaxPooling1D name=max_pooling1d_3, built=True> False\n",
      "<Conv1D name=conv1d_5, built=True> False\n",
      "<BatchNormalization name=batch_normalization_5, built=True> False\n",
      "<MaxPooling1D name=max_pooling1d_4, built=True> False\n",
      "<Dropout name=dropout_1, built=True> True\n",
      "<Conv1D name=conv1d_6, built=True> False\n",
      "<BatchNormalization name=batch_normalization_6, built=True> False\n",
      "<MaxPooling1D name=max_pooling1d_5, built=True> False\n",
      "<Conv1D name=conv1d_7, built=True> False\n",
      "<BatchNormalization name=batch_normalization_7, built=True> False\n",
      "<MaxPooling1D name=max_pooling1d_6, built=True> False\n",
      "<Conv1D name=conv1d_8, built=True> True\n",
      "<BatchNormalization name=batch_normalization_8, built=True> True\n",
      "<GlobalAveragePooling1D name=global_average_pooling1d_1, built=True> True\n",
      "<Dense name=dense_2, built=True> True\n",
      "<Dense name=dense_3, built=True> True\n"
     ]
    },
    {
     "name": "stderr",
     "output_type": "stream",
     "text": [
      "/home/workstation/Escritorio/PabloC/TransferLearning/.venv/lib/python3.10/site-packages/keras/src/saving/saving_lib.py:719: UserWarning: Skipping variable loading for optimizer 'adam', because it has 58 variables whereas the saved optimizer has 2 variables. \n",
      "  saveable.load_own_variables(weights_store.get(inner_path))\n"
     ]
    },
    {
     "name": "stdout",
     "output_type": "stream",
     "text": [
      "[MODELO CONGELADO]: 55.626625776290894\n"
     ]
    },
    {
     "name": "stderr",
     "output_type": "stream",
     "text": [
      "/home/workstation/Escritorio/PabloC/TransferLearning/funcionesComunes.py:247: FutureWarning: The behavior of DataFrame concatenation with empty or all-NA entries is deprecated. In a future version, this will no longer exclude empty or all-NA columns when determining the result dtypes. To retain the old behavior, exclude the relevant entries before the concat operation.\n",
      "  predictionsDF = pd.concat([predictionsDF, tempDF], ignore_index=True)\n",
      "/home/workstation/Escritorio/PabloC/TransferLearning/funcionesComunes.py:247: FutureWarning: The behavior of DataFrame concatenation with empty or all-NA entries is deprecated. In a future version, this will no longer exclude empty or all-NA columns when determining the result dtypes. To retain the old behavior, exclude the relevant entries before the concat operation.\n",
      "  predictionsDF = pd.concat([predictionsDF, tempDF], ignore_index=True)\n",
      "/home/workstation/Escritorio/PabloC/TransferLearning/funcionesComunes.py:247: FutureWarning: The behavior of DataFrame concatenation with empty or all-NA entries is deprecated. In a future version, this will no longer exclude empty or all-NA columns when determining the result dtypes. To retain the old behavior, exclude the relevant entries before the concat operation.\n",
      "  predictionsDF = pd.concat([predictionsDF, tempDF], ignore_index=True)\n"
     ]
    },
    {
     "name": "stdout",
     "output_type": "stream",
     "text": [
      "RESULTADOS DE MSE, RMSE, R2, MAPE (Train): 143.30935160463113, 11.971188395670294, 0.6320115298854628, 30.848605332880318\n",
      "RESULTADOS DE MSE, RMSE, R2, MAPE (Val): 136.2470677686614, 11.67249192626242, 0.5676398066465009, 31.39784152879396\n",
      "RESULTADOS DE MSE, RMSE, R2, MAPE (Test): 205.19362538033755, 14.324581158984634, 0.6650704875129382, 30.74773485430863\n",
      "Cedrus deodara Picea smithiana\n",
      "(37273, 77)\n",
      "SE HA NORMALIZADO EL ARCHIVO: Cedrus deodara_merged.csv\n",
      "(22017, 4, 43) (7410, 4, 43) (6282, 4, 43)\n",
      "<Conv1D name=conv1d_3, built=True> False\n",
      "<BatchNormalization name=batch_normalization_3, built=True> False\n",
      "<MaxPooling1D name=max_pooling1d_2, built=True> False\n",
      "<Conv1D name=conv1d_4, built=True> False\n",
      "<BatchNormalization name=batch_normalization_4, built=True> False\n",
      "<MaxPooling1D name=max_pooling1d_3, built=True> False\n",
      "<Conv1D name=conv1d_5, built=True> False\n",
      "<BatchNormalization name=batch_normalization_5, built=True> False\n",
      "<MaxPooling1D name=max_pooling1d_4, built=True> False\n",
      "<Dropout name=dropout_1, built=True> True\n",
      "<Conv1D name=conv1d_6, built=True> False\n",
      "<BatchNormalization name=batch_normalization_6, built=True> False\n",
      "<MaxPooling1D name=max_pooling1d_5, built=True> False\n",
      "<Conv1D name=conv1d_7, built=True> False\n",
      "<BatchNormalization name=batch_normalization_7, built=True> False\n",
      "<MaxPooling1D name=max_pooling1d_6, built=True> False\n",
      "<Conv1D name=conv1d_8, built=True> True\n",
      "<BatchNormalization name=batch_normalization_8, built=True> True\n",
      "<GlobalAveragePooling1D name=global_average_pooling1d_1, built=True> True\n",
      "<Dense name=dense_2, built=True> True\n",
      "<Dense name=dense_3, built=True> True\n"
     ]
    },
    {
     "name": "stderr",
     "output_type": "stream",
     "text": [
      "/home/workstation/Escritorio/PabloC/TransferLearning/.venv/lib/python3.10/site-packages/keras/src/saving/saving_lib.py:719: UserWarning: Skipping variable loading for optimizer 'adam', because it has 58 variables whereas the saved optimizer has 2 variables. \n",
      "  saveable.load_own_variables(weights_store.get(inner_path))\n"
     ]
    },
    {
     "name": "stdout",
     "output_type": "stream",
     "text": [
      "[MODELO CONGELADO]: 75.14960145950317\n"
     ]
    },
    {
     "name": "stderr",
     "output_type": "stream",
     "text": [
      "/home/workstation/Escritorio/PabloC/TransferLearning/funcionesComunes.py:247: FutureWarning: The behavior of DataFrame concatenation with empty or all-NA entries is deprecated. In a future version, this will no longer exclude empty or all-NA columns when determining the result dtypes. To retain the old behavior, exclude the relevant entries before the concat operation.\n",
      "  predictionsDF = pd.concat([predictionsDF, tempDF], ignore_index=True)\n",
      "/home/workstation/Escritorio/PabloC/TransferLearning/funcionesComunes.py:247: FutureWarning: The behavior of DataFrame concatenation with empty or all-NA entries is deprecated. In a future version, this will no longer exclude empty or all-NA columns when determining the result dtypes. To retain the old behavior, exclude the relevant entries before the concat operation.\n",
      "  predictionsDF = pd.concat([predictionsDF, tempDF], ignore_index=True)\n",
      "/home/workstation/Escritorio/PabloC/TransferLearning/funcionesComunes.py:247: FutureWarning: The behavior of DataFrame concatenation with empty or all-NA entries is deprecated. In a future version, this will no longer exclude empty or all-NA columns when determining the result dtypes. To retain the old behavior, exclude the relevant entries before the concat operation.\n",
      "  predictionsDF = pd.concat([predictionsDF, tempDF], ignore_index=True)\n"
     ]
    },
    {
     "name": "stdout",
     "output_type": "stream",
     "text": [
      "RESULTADOS DE MSE, RMSE, R2, MAPE (Train): 94.23664979911368, 9.707556324797384, 0.7793723694457482, 24.612251509376346\n",
      "RESULTADOS DE MSE, RMSE, R2, MAPE (Val): 125.54747265218695, 11.204796859032607, 0.718591895223923, 26.067434736020566\n",
      "RESULTADOS DE MSE, RMSE, R2, MAPE (Test): 81.37946032357534, 9.021056497083661, 0.7690890677612534, 24.601574692325073\n",
      "Juniperus spp. L. Picea smithiana\n",
      "(7264, 77)\n",
      "SE HA NORMALIZADO EL ARCHIVO: Juniperus spp. L._merged.csv\n",
      "(4216, 4, 43) (1524, 4, 43) (1188, 4, 43)\n",
      "<Conv1D name=conv1d_3, built=True> False\n",
      "<BatchNormalization name=batch_normalization_3, built=True> False\n",
      "<MaxPooling1D name=max_pooling1d_2, built=True> False\n",
      "<Conv1D name=conv1d_4, built=True> False\n",
      "<BatchNormalization name=batch_normalization_4, built=True> False\n",
      "<MaxPooling1D name=max_pooling1d_3, built=True> False\n",
      "<Conv1D name=conv1d_5, built=True> False\n",
      "<BatchNormalization name=batch_normalization_5, built=True> False\n",
      "<MaxPooling1D name=max_pooling1d_4, built=True> False\n",
      "<Dropout name=dropout_1, built=True> True\n",
      "<Conv1D name=conv1d_6, built=True> False\n",
      "<BatchNormalization name=batch_normalization_6, built=True> False\n",
      "<MaxPooling1D name=max_pooling1d_5, built=True> False\n",
      "<Conv1D name=conv1d_7, built=True> False\n",
      "<BatchNormalization name=batch_normalization_7, built=True> False\n",
      "<MaxPooling1D name=max_pooling1d_6, built=True> False\n",
      "<Conv1D name=conv1d_8, built=True> True\n",
      "<BatchNormalization name=batch_normalization_8, built=True> True\n",
      "<GlobalAveragePooling1D name=global_average_pooling1d_1, built=True> True\n",
      "<Dense name=dense_2, built=True> True\n",
      "<Dense name=dense_3, built=True> True\n"
     ]
    },
    {
     "name": "stderr",
     "output_type": "stream",
     "text": [
      "/home/workstation/Escritorio/PabloC/TransferLearning/.venv/lib/python3.10/site-packages/keras/src/saving/saving_lib.py:719: UserWarning: Skipping variable loading for optimizer 'adam', because it has 58 variables whereas the saved optimizer has 2 variables. \n",
      "  saveable.load_own_variables(weights_store.get(inner_path))\n"
     ]
    },
    {
     "name": "stdout",
     "output_type": "stream",
     "text": [
      "[MODELO CONGELADO]: 11.62073278427124\n"
     ]
    },
    {
     "name": "stderr",
     "output_type": "stream",
     "text": [
      "/home/workstation/Escritorio/PabloC/TransferLearning/funcionesComunes.py:247: FutureWarning: The behavior of DataFrame concatenation with empty or all-NA entries is deprecated. In a future version, this will no longer exclude empty or all-NA columns when determining the result dtypes. To retain the old behavior, exclude the relevant entries before the concat operation.\n",
      "  predictionsDF = pd.concat([predictionsDF, tempDF], ignore_index=True)\n",
      "/home/workstation/Escritorio/PabloC/TransferLearning/funcionesComunes.py:247: FutureWarning: The behavior of DataFrame concatenation with empty or all-NA entries is deprecated. In a future version, this will no longer exclude empty or all-NA columns when determining the result dtypes. To retain the old behavior, exclude the relevant entries before the concat operation.\n",
      "  predictionsDF = pd.concat([predictionsDF, tempDF], ignore_index=True)\n",
      "/home/workstation/Escritorio/PabloC/TransferLearning/funcionesComunes.py:247: FutureWarning: The behavior of DataFrame concatenation with empty or all-NA entries is deprecated. In a future version, this will no longer exclude empty or all-NA columns when determining the result dtypes. To retain the old behavior, exclude the relevant entries before the concat operation.\n",
      "  predictionsDF = pd.concat([predictionsDF, tempDF], ignore_index=True)\n"
     ]
    },
    {
     "name": "stdout",
     "output_type": "stream",
     "text": [
      "RESULTADOS DE MSE, RMSE, R2, MAPE (Train): 2.063528810689907, 1.4364988028849544, 0.8353652918054166, 25.755626412422718\n",
      "RESULTADOS DE MSE, RMSE, R2, MAPE (Val): 0.7481099584015347, 0.8649334994099458, 0.6680461293283978, 28.69200837658553\n",
      "RESULTADOS DE MSE, RMSE, R2, MAPE (Test): 3.598225367821805, 1.896898881812577, 0.8101914985477155, 27.82944392848279\n",
      "Juniperus recurva Picea smithiana\n",
      "(5316, 77)\n",
      "SE HA NORMALIZADO EL ARCHIVO: Juniperus recurva_merged.csv\n",
      "(3188, 4, 43) (1082, 4, 43) (810, 4, 43)\n"
     ]
    },
    {
     "name": "stderr",
     "output_type": "stream",
     "text": [
      "/home/workstation/Escritorio/PabloC/TransferLearning/.venv/lib/python3.10/site-packages/keras/src/saving/saving_lib.py:719: UserWarning: Skipping variable loading for optimizer 'adam', because it has 58 variables whereas the saved optimizer has 2 variables. \n",
      "  saveable.load_own_variables(weights_store.get(inner_path))\n"
     ]
    },
    {
     "name": "stdout",
     "output_type": "stream",
     "text": [
      "<Conv1D name=conv1d_3, built=True> False\n",
      "<BatchNormalization name=batch_normalization_3, built=True> False\n",
      "<MaxPooling1D name=max_pooling1d_2, built=True> False\n",
      "<Conv1D name=conv1d_4, built=True> False\n",
      "<BatchNormalization name=batch_normalization_4, built=True> False\n",
      "<MaxPooling1D name=max_pooling1d_3, built=True> False\n",
      "<Conv1D name=conv1d_5, built=True> False\n",
      "<BatchNormalization name=batch_normalization_5, built=True> False\n",
      "<MaxPooling1D name=max_pooling1d_4, built=True> False\n",
      "<Dropout name=dropout_1, built=True> True\n",
      "<Conv1D name=conv1d_6, built=True> False\n",
      "<BatchNormalization name=batch_normalization_6, built=True> False\n",
      "<MaxPooling1D name=max_pooling1d_5, built=True> False\n",
      "<Conv1D name=conv1d_7, built=True> False\n",
      "<BatchNormalization name=batch_normalization_7, built=True> False\n",
      "<MaxPooling1D name=max_pooling1d_6, built=True> False\n",
      "<Conv1D name=conv1d_8, built=True> True\n",
      "<BatchNormalization name=batch_normalization_8, built=True> True\n",
      "<GlobalAveragePooling1D name=global_average_pooling1d_1, built=True> True\n",
      "<Dense name=dense_2, built=True> True\n",
      "<Dense name=dense_3, built=True> True\n",
      "[MODELO CONGELADO]: 11.71995496749878\n"
     ]
    },
    {
     "name": "stderr",
     "output_type": "stream",
     "text": [
      "/home/workstation/Escritorio/PabloC/TransferLearning/funcionesComunes.py:247: FutureWarning: The behavior of DataFrame concatenation with empty or all-NA entries is deprecated. In a future version, this will no longer exclude empty or all-NA columns when determining the result dtypes. To retain the old behavior, exclude the relevant entries before the concat operation.\n",
      "  predictionsDF = pd.concat([predictionsDF, tempDF], ignore_index=True)\n",
      "/home/workstation/Escritorio/PabloC/TransferLearning/funcionesComunes.py:247: FutureWarning: The behavior of DataFrame concatenation with empty or all-NA entries is deprecated. In a future version, this will no longer exclude empty or all-NA columns when determining the result dtypes. To retain the old behavior, exclude the relevant entries before the concat operation.\n",
      "  predictionsDF = pd.concat([predictionsDF, tempDF], ignore_index=True)\n",
      "/home/workstation/Escritorio/PabloC/TransferLearning/funcionesComunes.py:247: FutureWarning: The behavior of DataFrame concatenation with empty or all-NA entries is deprecated. In a future version, this will no longer exclude empty or all-NA columns when determining the result dtypes. To retain the old behavior, exclude the relevant entries before the concat operation.\n",
      "  predictionsDF = pd.concat([predictionsDF, tempDF], ignore_index=True)\n"
     ]
    },
    {
     "name": "stdout",
     "output_type": "stream",
     "text": [
      "RESULTADOS DE MSE, RMSE, R2, MAPE (Train): 3.5069591967445977, 1.8726876933286547, 0.8606464089392143, 20.64740558254886\n",
      "RESULTADOS DE MSE, RMSE, R2, MAPE (Val): 3.5298396689163685, 1.878786754508443, 0.8718265217642442, 21.17816954691006\n",
      "RESULTADOS DE MSE, RMSE, R2, MAPE (Test): 1.4136670534566245, 1.1889773141051196, 0.8497098761661873, 17.52409005215793\n",
      "totalMerged.csv Picea smithiana\n",
      "Juniperus spp.  Picea smithiana\n",
      "(17976, 77)\n",
      "SE HA NORMALIZADO EL ARCHIVO: Juniperus spp. _merged.csv\n",
      "(10218, 4, 43) (3900, 4, 43) (3018, 4, 43)\n",
      "<Conv1D name=conv1d_3, built=True> False\n",
      "<BatchNormalization name=batch_normalization_3, built=True> False\n",
      "<MaxPooling1D name=max_pooling1d_2, built=True> False\n",
      "<Conv1D name=conv1d_4, built=True> False\n",
      "<BatchNormalization name=batch_normalization_4, built=True> False\n",
      "<MaxPooling1D name=max_pooling1d_3, built=True> False\n",
      "<Conv1D name=conv1d_5, built=True> False\n",
      "<BatchNormalization name=batch_normalization_5, built=True> False\n",
      "<MaxPooling1D name=max_pooling1d_4, built=True> False\n",
      "<Dropout name=dropout_1, built=True> True\n",
      "<Conv1D name=conv1d_6, built=True> False\n",
      "<BatchNormalization name=batch_normalization_6, built=True> False\n",
      "<MaxPooling1D name=max_pooling1d_5, built=True> False\n",
      "<Conv1D name=conv1d_7, built=True> False\n",
      "<BatchNormalization name=batch_normalization_7, built=True> False\n",
      "<MaxPooling1D name=max_pooling1d_6, built=True> False\n",
      "<Conv1D name=conv1d_8, built=True> True\n",
      "<BatchNormalization name=batch_normalization_8, built=True> True\n",
      "<GlobalAveragePooling1D name=global_average_pooling1d_1, built=True> True\n",
      "<Dense name=dense_2, built=True> True\n",
      "<Dense name=dense_3, built=True> True\n"
     ]
    },
    {
     "name": "stderr",
     "output_type": "stream",
     "text": [
      "/home/workstation/Escritorio/PabloC/TransferLearning/.venv/lib/python3.10/site-packages/keras/src/saving/saving_lib.py:719: UserWarning: Skipping variable loading for optimizer 'adam', because it has 58 variables whereas the saved optimizer has 2 variables. \n",
      "  saveable.load_own_variables(weights_store.get(inner_path))\n"
     ]
    },
    {
     "name": "stdout",
     "output_type": "stream",
     "text": [
      "[MODELO CONGELADO]: 20.75176477432251\n"
     ]
    },
    {
     "name": "stderr",
     "output_type": "stream",
     "text": [
      "/home/workstation/Escritorio/PabloC/TransferLearning/funcionesComunes.py:247: FutureWarning: The behavior of DataFrame concatenation with empty or all-NA entries is deprecated. In a future version, this will no longer exclude empty or all-NA columns when determining the result dtypes. To retain the old behavior, exclude the relevant entries before the concat operation.\n",
      "  predictionsDF = pd.concat([predictionsDF, tempDF], ignore_index=True)\n",
      "/home/workstation/Escritorio/PabloC/TransferLearning/funcionesComunes.py:247: FutureWarning: The behavior of DataFrame concatenation with empty or all-NA entries is deprecated. In a future version, this will no longer exclude empty or all-NA columns when determining the result dtypes. To retain the old behavior, exclude the relevant entries before the concat operation.\n",
      "  predictionsDF = pd.concat([predictionsDF, tempDF], ignore_index=True)\n",
      "/home/workstation/Escritorio/PabloC/TransferLearning/funcionesComunes.py:247: FutureWarning: The behavior of DataFrame concatenation with empty or all-NA entries is deprecated. In a future version, this will no longer exclude empty or all-NA columns when determining the result dtypes. To retain the old behavior, exclude the relevant entries before the concat operation.\n",
      "  predictionsDF = pd.concat([predictionsDF, tempDF], ignore_index=True)\n"
     ]
    },
    {
     "name": "stdout",
     "output_type": "stream",
     "text": [
      "RESULTADOS DE MSE, RMSE, R2, MAPE (Train): 6.9787967326388864, 2.6417412312031785, 0.8861806068606128, 21.08782209118952\n",
      "RESULTADOS DE MSE, RMSE, R2, MAPE (Val): 3.120686803397005, 1.7665465754961018, 0.8413699900909368, 23.819064927517175\n",
      "RESULTADOS DE MSE, RMSE, R2, MAPE (Test): 9.49224095309818, 3.080948060759574, 0.9091619617888759, 21.434884962057648\n"
     ]
    }
   ],
   "source": [
    "# Leemos los diferentes modelos\n",
    "for model in os.listdir(\"models/TCNN\"):\n",
    "\n",
    "    # Creamos un df que contiene los resultados de los modelos freeze de cada especie\n",
    "    df_Freeze = pd.DataFrame(columns = [\"File\", \"Time\", \"TrainMSE\", \"TrainRMSE\", \"TrainR2\", \"TrainMAPE\", \n",
    "                                        \"ValidationMSE\", \"ValidationRMSE\", \"ValidationR2\", \"ValidationMAPE\",\n",
    "                                        \"TestMSE\", \"TestRMSE\", \"TestR2\", \"TestMAPE\"])\n",
    "\n",
    "    print(f'Procesando el modelo: {model}')\n",
    "\n",
    "    # Para cada archivo \n",
    "    for archivo in os.listdir(\"RCPMerged\"):\n",
    "\n",
    "        # Comprobamos que el modelo no sea del archivo a procesar\n",
    "        archivoProcesar = archivo.split(\"_merged\")[0]\n",
    "        modeloProcesar = model.split(\"model_\")[1].split(\".keras\")[0]\n",
    "        print(archivoProcesar, modeloProcesar)\n",
    "\n",
    "        # Lanzamos la ejecución siempre que no sea el mismo archivo o el global\n",
    "        if archivoProcesar != modeloProcesar and archivo != \"totalMerged.csv\":\n",
    "\n",
    "            # Cargar el archivo CSV con punto y coma como delimitador\n",
    "            df = pd.read_csv(f'RCPMerged/{archivo}')\n",
    "            df = df[~df[\"nametag\"].str.startswith(\"INDI005\")]\n",
    "\n",
    "            # Codificamos, normalización y split de datos\n",
    "            df = codification(df)\n",
    "            print(df.shape)\n",
    "\n",
    "            df, valorNormalizacion = individualNormalization(df)\n",
    "            print(f\"SE HA NORMALIZADO EL ARCHIVO: {archivo}\")\n",
    "\n",
    "            temp_df = df\n",
    "            train_data, val_data, test_data = split_population_individuals(temp_df, train_pct=0.80, val_pct_in_train=0.20, details=False)\n",
    "            train_data.shape, val_data.shape, test_data.shape\n",
    "\n",
    "            # Obtenemos X e y para los datasets de train, val y test \n",
    "            WINDOWS_SIZE = 3\n",
    "            X_train, y_train = df_to_X_y_ind_3(train_data, WINDOWS_SIZE)\n",
    "            X_val, y_val = df_to_X_y_ind_3(val_data, WINDOWS_SIZE)\n",
    "            X_test, y_test = df_to_X_y_ind_3(test_data, WINDOWS_SIZE)\n",
    "            print(X_train.shape, X_test.shape, X_val.shape)\n",
    "\n",
    "            # Cargamos el modelo global\n",
    "            modelLSTM = tf.keras.models.load_model(f'models/TCNN/{model}')\n",
    "            modelLSTMFreeze = modelLSTM\n",
    "\n",
    "            # Obtener el optimizador del modelo\n",
    "            optimizer = modelLSTMFreeze.optimizer\n",
    "\n",
    "            # Obtenemos el valor de batch size\n",
    "            with open(f'arquitecturaModelosJSON/TCNN/{archivo.split(\".csv\")[0]}_best_models.json') as f:\n",
    "                parameters = json.load(f)\n",
    "\n",
    "            batch_size_LSTM = parameters[0][\"batch_size\"]\n",
    "\n",
    "            # Indicamos el numero de layers a entrenar\n",
    "            NUM_TRAINABLE = 1\n",
    "\n",
    "            numTCNN_layers = sum(1 for layer in modelLSTMFreeze.layers if isinstance(layer, (Conv1D)))\n",
    "\n",
    "            numFreezeLayers = numTCNN_layers - NUM_TRAINABLE # Congelamos todas menos la útlima capa\n",
    "\n",
    "            numberLayersFreezed = 0\n",
    "\n",
    "            # Recorre las capas en orden inverso\n",
    "            for i, layer in enumerate(modelLSTMFreeze.layers):\n",
    "\n",
    "                if isinstance(layer, (Conv1D)):\n",
    "                    numberLayersFreezed +=1\n",
    "            \n",
    "                if isinstance(layer, (Conv1D, BatchNormalization, MaxPooling1D)) and numFreezeLayers>=numberLayersFreezed:\n",
    "                    \n",
    "                    layer.trainable = False\n",
    "                \n",
    "                print(layer, layer.trainable)\n",
    "\n",
    "\n",
    "            # Compilamos el modelo con los nuevos datos\n",
    "            modelLSTMFreeze.compile(optimizer=optimizer, loss=MeanSquaredError(), metrics=[\n",
    "                                        MeanSquaredError(name='mse'),\n",
    "                                        RootMeanSquaredError(name='rmse'),\n",
    "                                        MeanAbsolutePercentageError(name='mape')\n",
    "                                    ])\n",
    "\n",
    "            # Comienza a medir el tiempo de entrenamiento\n",
    "            start_time = time.time()\n",
    "\n",
    "            historyLSTMTransfer = modelLSTMFreeze.fit(X_train, y_train, epochs=200, batch_size=batch_size_LSTM,\n",
    "                                    validation_data=(X_val, y_val), callbacks=[EarlyStopping(monitor='val_loss', patience=10)], verbose=0)\n",
    "\n",
    "            # Finaliza la medición del tiempo de entrenamiento\n",
    "            end_time = time.time()\n",
    "            print(f\"[MODELO CONGELADO]: {end_time-start_time}\")\n",
    "\n",
    "            # Realizar predicciones y calcular métricas para el conjunto de entrenamiento\n",
    "            predictions_train = predictionForIndividuals(X_train, y_train, modelLSTMFreeze, batch_size_LSTM)\n",
    "            predictions_train[\"PredictionsDenormalize\"] = predictions_train.apply(lambda row: desnormalizacionBAI(row, valorNormalizacion, \"Predictions\"), axis=1)\n",
    "            predictions_train[\"ActualDenormalize\"] = predictions_train.apply(lambda row: desnormalizacionBAI(row, valorNormalizacion, \"Actuals\"), axis=1)\n",
    "\n",
    "            train_mse = mean_squared_error(predictions_train[\"ActualDenormalize\"],predictions_train[\"PredictionsDenormalize\"])\n",
    "            train_rmse = np.sqrt(train_mse)\n",
    "            train_mape = (np.sum(np.abs(predictions_train[\"PredictionsDenormalize\"] - predictions_train[\"ActualDenormalize\"])) / np.sum(np.abs(predictions_train[\"ActualDenormalize\"]))) * 100\n",
    "            train_r2 = r2_score(predictions_train[\"ActualDenormalize\"], predictions_train[\"PredictionsDenormalize\"])\n",
    "\n",
    "            # Realizar predicciones y calcular métricas para el conjunto de validación\n",
    "            predictions_val = predictionForIndividuals(X_val, y_val, modelLSTMFreeze, batch_size_LSTM)\n",
    "            predictions_val[\"PredictionsDenormalize\"] = predictions_val.apply(lambda row: desnormalizacionBAI(row, valorNormalizacion, \"Predictions\"), axis=1)\n",
    "            predictions_val[\"ActualDenormalize\"] = predictions_val.apply(lambda row: desnormalizacionBAI(row, valorNormalizacion, \"Actuals\"), axis=1)\n",
    "\n",
    "            val_mse = mean_squared_error(predictions_val[\"ActualDenormalize\"],predictions_val[\"PredictionsDenormalize\"])\n",
    "            val_rmse = np.sqrt(val_mse)\n",
    "            val_mape = (np.sum(np.abs(predictions_val[\"PredictionsDenormalize\"] - predictions_val[\"ActualDenormalize\"])) / np.sum(np.abs(predictions_val[\"ActualDenormalize\"]))) * 100\n",
    "            val_r2 = r2_score(predictions_val[\"ActualDenormalize\"], predictions_val[\"PredictionsDenormalize\"])\n",
    "\n",
    "            # Realizar predicciones y calcular métricas para el conjunto de prueba\n",
    "            predictions_test = predictionForIndividuals(X_test, y_test, modelLSTMFreeze, batch_size_LSTM)\n",
    "            predictions_test[\"PredictionsDenormalize\"] = predictions_test.apply(lambda row: desnormalizacionBAI(row, valorNormalizacion, \"Predictions\"), axis=1)\n",
    "            predictions_test[\"ActualDenormalize\"] = predictions_test.apply(lambda row: desnormalizacionBAI(row, valorNormalizacion, \"Actuals\"), axis=1)\n",
    "\n",
    "            test_mse = mean_squared_error(predictions_test[\"ActualDenormalize\"],predictions_test[\"PredictionsDenormalize\"])\n",
    "            test_rmse = np.sqrt(test_mse)\n",
    "            test_mape = (np.sum(np.abs(predictions_test[\"PredictionsDenormalize\"] - predictions_test[\"ActualDenormalize\"])) / np.sum(np.abs(predictions_test[\"ActualDenormalize\"]))) * 100\n",
    "            test_r2 = r2_score(predictions_test[\"ActualDenormalize\"], predictions_test[\"PredictionsDenormalize\"])\n",
    "\n",
    "            print(f\"RESULTADOS DE MSE, RMSE, R2, MAPE (Train): {train_mse}, {train_rmse}, {train_r2}, {train_mape}\")\n",
    "            print(f\"RESULTADOS DE MSE, RMSE, R2, MAPE (Val): {val_mse}, {val_rmse}, {val_r2}, {val_mape}\")\n",
    "            print(f\"RESULTADOS DE MSE, RMSE, R2, MAPE (Test): {test_mse}, {test_rmse}, {test_r2}, {test_mape}\")\n",
    "\n",
    "            # Guardamos los datos calculados\n",
    "            df_Freeze.loc[len(df_Freeze)] = [archivo, end_time-start_time,train_mse, train_rmse, train_r2, train_mape, val_mse, val_rmse, val_r2, val_mape, test_mse, test_rmse, test_r2, test_mape]\n",
    "\n",
    "    df_Freeze.to_csv(f'resultsTransfer/TCNN/resultadosTrasnfer_{model.split(\"model_\")[1].split(\".keras\")[0]}.csv', index=False)"
   ]
  }
 ],
 "metadata": {
  "kernelspec": {
   "display_name": ".venv",
   "language": "python",
   "name": "python3"
  },
  "language_info": {
   "codemirror_mode": {
    "name": "ipython",
    "version": 3
   },
   "file_extension": ".py",
   "mimetype": "text/x-python",
   "name": "python",
   "nbconvert_exporter": "python",
   "pygments_lexer": "ipython3",
   "version": "3.10.12"
  }
 },
 "nbformat": 4,
 "nbformat_minor": 2
}
